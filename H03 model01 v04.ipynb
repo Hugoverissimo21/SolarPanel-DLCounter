{
 "cells": [
  {
   "cell_type": "markdown",
   "metadata": {},
   "source": [
    "# primeiro modelo: modelo 01"
   ]
  },
  {
   "cell_type": "code",
   "execution_count": 1,
   "metadata": {},
   "outputs": [],
   "source": [
    "import pandas as pd"
   ]
  },
  {
   "cell_type": "code",
   "execution_count": 2,
   "metadata": {},
   "outputs": [
    {
     "data": {
      "text/plain": [
       "''"
      ]
     },
     "execution_count": 2,
     "metadata": {},
     "output_type": "execute_result"
    }
   ],
   "source": [
    "df_train = pd.read_pickle('Model_Train.pkl')\n",
    "df_val = pd.read_pickle('Model_Val.pkl')\n",
    "\n",
    "\"\"\"transforms = T.Compose([\n",
    "    T.Resize((512,512)),\n",
    "    T.ToTensor(),\n",
    "])\"\"\"\n",
    "\n",
    "\"\"\"def image_loader(image_name):\n",
    "    image = Image.open(f\"images/{image_name}.jpg\").convert(\"RGB\")\n",
    "    image = transforms(image)\n",
    "    #img = image.permute(1, 2, 0).numpy() # (C, H, W) -> (H, W, C)\n",
    "    return image\"\"\"\n",
    "''"
   ]
  },
  {
   "cell_type": "markdown",
   "metadata": {},
   "source": [
    "---"
   ]
  },
  {
   "cell_type": "markdown",
   "metadata": {},
   "source": [
    "## efficient net v2"
   ]
  },
  {
   "cell_type": "markdown",
   "metadata": {},
   "source": [
    "# NOTAS"
   ]
  },
  {
   "cell_type": "markdown",
   "metadata": {},
   "source": [
    "ANTES DE CORRER\n",
    "\n",
    "- ~~ver se efficient net q escolhi é oq devo usar~~\n",
    "\n",
    "- ~~faltou data augmentation~~\n",
    "\n",
    "- ~~como escolher bem o batch~~\n",
    "\n",
    "- ~~algum cv fold ou algo do tipo deve se usar ? NAO~~~\n",
    "\n",
    "- ~~usar early stopping, patience 4, restore_best_weights=True~~\n",
    "\n",
    "- ~~mais data augmentation~~\n",
    "\n",
    "- ~~mudar tamanho da imagem em vez de 512 por 512~~\n",
    "\n",
    "- inspirado em https://arxiv.org/pdf/2104.00298\n",
    "\n",
    "- inspirado em https://zindi.africa/competitions/lacuna-solar-survey-challenge/discussions/25675\n",
    "\n",
    "- ~~mudar max trials e isso do random search~~"
   ]
  },
  {
   "cell_type": "code",
   "execution_count": 3,
   "metadata": {},
   "outputs": [],
   "source": [
    "image_paths = (\"images/\" + df_train[\"img_id\"] + \".jpg\").tolist()\n",
    "labels = [(sum(row[\"nr_boil\"]), sum(row[\"nr_pan\"])) for i, row in df_train.iterrows()]\n",
    "\n",
    "\n",
    "val_paths = (\"images/\" + df_val[\"img_id\"] + \".jpg\").tolist()\n",
    "val_labels = [(sum(row[\"nr_boil\"]), sum(row[\"nr_pan\"])) for i, row in df_val.iterrows()]"
   ]
  },
  {
   "cell_type": "code",
   "execution_count": 4,
   "metadata": {},
   "outputs": [],
   "source": [
    "import numpy as np\n",
    "import pandas as pd\n",
    "import tensorflow as tf\n",
    "from tensorflow.keras.preprocessing.image import load_img, img_to_array\n",
    "from tensorflow.keras.models import Model\n",
    "from tensorflow.keras import layers\n",
    "from tensorflow.keras.applications import EfficientNetV2B0\n",
    "from tensorflow.keras.optimizers import Adam\n",
    "import matplotlib.pyplot as plt\n",
    "from tensorflow.keras.utils import Sequence\n",
    "from tensorflow.keras.optimizers import AdamW\n",
    "import albumentations as A\n",
    "from albumentations.pytorch import ToTensorV2\n",
    "import numpy as np\n",
    "import cv2\n",
    "import tensorflow as tf\n",
    "from tensorflow.keras.utils import Sequence"
   ]
  },
  {
   "cell_type": "code",
   "execution_count": 5,
   "metadata": {},
   "outputs": [],
   "source": [
    "class ImageDataGeneratorCustom(tf.keras.utils.Sequence):\n",
    "    def __init__(self, df, image_size=(240, 240), batch_size=32, shuffle=True, augment=False):\n",
    "        self.df = df\n",
    "        self.image_size = image_size\n",
    "        self.batch_size = batch_size\n",
    "        self.shuffle = shuffle\n",
    "        self.augment = augment\n",
    "        self.indexes = self.df.index.values\n",
    "        self.on_epoch_end()\n",
    "\n",
    "        if self.augment:\n",
    "            self.transform = A.Compose([\n",
    "                A.RandomResizedCrop((240, 240), scale=(0.7, 1.0), ratio=(0.75, 1.33)),\n",
    "                A.HorizontalFlip(p=0.5),\n",
    "                A.VerticalFlip(p=0.5),\n",
    "                A.RandomRotate90(p=0.5),\n",
    "                A.GaussianBlur(blur_limit=(3, 7), p=0.3),\n",
    "                A.CLAHE(clip_limit=4.0, p=0.5),\n",
    "                A.HueSaturationValue(p=0.3),\n",
    "                A.Normalize(mean=(0.485, 0.456, 0.406), std=(0.229, 0.224, 0.225)),\n",
    "                ToTensorV2()\n",
    "            ])\n",
    "        else:\n",
    "            # If no augmentation, only resize and normalize\n",
    "            self.transform = A.Compose([\n",
    "                A.Resize(self.image_size[0], self.image_size[1]),\n",
    "                A.Normalize(mean=(0.485, 0.456, 0.406), std=(0.229, 0.224, 0.225)),\n",
    "                ToTensorV2()\n",
    "            ])\n",
    "\n",
    "    def __len__(self):\n",
    "        # Calculate the number of batches per epoch\n",
    "        return int(np.floor(len(self.df) / self.batch_size))\n",
    "\n",
    "    def on_epoch_end(self):\n",
    "        # Shuffle the data at the end of each epoch if shuffle is True\n",
    "        if self.shuffle:\n",
    "            self.indexes = np.random.permutation(self.indexes)\n",
    "            #np.random.shuffle(self.indexes)\n",
    "\n",
    "    def __getitem__(self, index):\n",
    "        # Get batch of data\n",
    "        batch_indexes = self.indexes[index * self.batch_size:(index + 1) * self.batch_size]\n",
    "        batch_df = self.df.iloc[batch_indexes]\n",
    "\n",
    "        images = []\n",
    "        labels = []\n",
    "\n",
    "        for i, row in batch_df.iterrows():\n",
    "            # Load image\n",
    "            image_path = \"images/\" + row['img_id'] + '.jpg'\n",
    "            img = load_img(image_path, target_size=self.image_size)\n",
    "            img = img_to_array(img)  # Convert to numpy array\n",
    "            img = img / 255.0 # Normalize pixel values\n",
    "            \n",
    "            img = self.transform(image=img)[\"image\"]\n",
    "\n",
    "            if img.shape[0] == 3:  # If it's in channels-first format (3, 512, 512)\n",
    "                img = np.transpose(img, (1, 2, 0))\n",
    "\n",
    "            \n",
    "            images.append(img)\n",
    "            labels.append((sum(row[\"nr_boil\"]), sum(row[\"nr_pan\"])))  # Assuming 'label' is the target\n",
    "\n",
    "        return np.array(images), np.array(labels)\n"
   ]
  },
  {
   "cell_type": "code",
   "execution_count": 6,
   "metadata": {},
   "outputs": [],
   "source": [
    "train_generator = ImageDataGeneratorCustom(df_train, image_size=(240, 240), batch_size=32, shuffle=True, augment=True)\n",
    "val_generator = ImageDataGeneratorCustom(df_val, image_size=(240, 240), batch_size=32, shuffle=False, augment=False)"
   ]
  },
  {
   "cell_type": "code",
   "execution_count": 7,
   "metadata": {},
   "outputs": [],
   "source": [
    "import keras_tuner as kt\n",
    "from tensorflow.keras import layers\n",
    "from tensorflow.keras.optimizers import Adam\n",
    "from tensorflow.keras.models import Model\n",
    "from tensorflow.keras.applications import EfficientNetV2B0, EfficientNetV2B1\n",
    "from tensorflow.keras.losses import Huber\n",
    "import keras_tuner as kt\n",
    "from tensorflow.keras.models import Sequential\n",
    "from tensorflow.keras import layers\n",
    "from tensorflow.keras.optimizers import Adam\n",
    "import tensorflow as tf\n",
    "\n",
    "def build_model(hp):\n",
    "    model = Sequential()\n",
    "\n",
    "    # Base model\n",
    "    base_model = EfficientNetV2B0(weights='imagenet', include_top=False, input_shape=(240, 240, 3))\n",
    "    base_model.trainable = False\n",
    "    model.add(base_model)\n",
    "    model.add(layers.GlobalAveragePooling2D())\n",
    "    \n",
    "    model.add(layers.Dense(\n",
    "        units=hp.Int('units', min_value=64, max_value=240, step=64),\n",
    "        activation='relu'\n",
    "    ))\n",
    "    \n",
    "    # Dropout layer for regularization\n",
    "    model.add(layers.Dropout(0.5))\n",
    "    \n",
    "    # Output layer with no activation (regression)\n",
    "    model.add(layers.Dense(2))\n",
    "\n",
    "    model.compile(optimizer=AdamW(learning_rate=hp.Float('lr', min_value=1e-5, max_value=1e-2, sampling='log')), \n",
    "                  loss=Huber(delta=1.0), \n",
    "                  metrics=['mae'])\n",
    "    \n",
    "    return model\n"
   ]
  },
  {
   "cell_type": "code",
   "execution_count": 8,
   "metadata": {},
   "outputs": [
    {
     "name": "stdout",
     "output_type": "stream",
     "text": [
      "Reloading Tuner from ModelBuild/model01_v04/tuner0.json\n"
     ]
    },
    {
     "name": "stderr",
     "output_type": "stream",
     "text": [
      "2025-03-18 21:16:31.584850: I metal_plugin/src/device/metal_device.cc:1154] Metal device set to: Apple M1\n",
      "2025-03-18 21:16:31.584877: I metal_plugin/src/device/metal_device.cc:296] systemMemory: 16.00 GB\n",
      "2025-03-18 21:16:31.584880: I metal_plugin/src/device/metal_device.cc:313] maxCacheSize: 5.33 GB\n",
      "2025-03-18 21:16:31.584895: I tensorflow/core/common_runtime/pluggable_device/pluggable_device_factory.cc:305] Could not identify NUMA node of platform GPU ID 0, defaulting to 0. Your kernel may not have been built with NUMA support.\n",
      "2025-03-18 21:16:31.584905: I tensorflow/core/common_runtime/pluggable_device/pluggable_device_factory.cc:271] Created TensorFlow device (/job:localhost/replica:0/task:0/device:GPU:0 with 0 MB memory) -> physical PluggableDevice (device: 0, name: METAL, pci bus id: <undefined>)\n"
     ]
    }
   ],
   "source": [
    "tuner = kt.RandomSearch(\n",
    "    build_model,\n",
    "    objective='val_mae',  # You can change this to 'val_mae' or other metrics as needed\n",
    "    max_trials=5,  # The number of different hyperparameter combinations to try\n",
    "    executions_per_trial=1,  # Number of times to train the model for each trial\n",
    "    directory='ModelBuild',  # Directory where results are stored\n",
    "    project_name='model01_v04'\n",
    ")"
   ]
  },
  {
   "cell_type": "code",
   "execution_count": 9,
   "metadata": {},
   "outputs": [],
   "source": [
    "import tensorflow as tf\n",
    "from tensorflow.keras import callbacks\n",
    "from time import time\n",
    "\n",
    "tuner.search(train_generator,\n",
    "             epochs=15,\n",
    "             validation_data=val_generator,\n",
    "             callbacks=[callbacks.EarlyStopping(monitor='val_mae', patience=3, restore_best_weights=True),\n",
    "                        callbacks.ModelCheckpoint(f'ModelBuild/model01_v04/{int(time())}.h5', monitor='val_accuracy', save_best_only=True)])"
   ]
  },
  {
   "cell_type": "code",
   "execution_count": 10,
   "metadata": {},
   "outputs": [
    {
     "name": "stdout",
     "output_type": "stream",
     "text": [
      "{'units': 128, 'lr': 0.00013602929586136787}\n"
     ]
    }
   ],
   "source": [
    "best_hyperparameters = tuner.get_best_hyperparameters(num_trials=1)[0]\n",
    "print(best_hyperparameters.values)"
   ]
  },
  {
   "cell_type": "markdown",
   "metadata": {},
   "source": [
    "{'units': 128, 'lr': 0.00013602929586136787}"
   ]
  },
  {
   "cell_type": "markdown",
   "metadata": {},
   "source": [
    "---\n",
    "\n",
    "visualization"
   ]
  },
  {
   "cell_type": "code",
   "execution_count": 11,
   "metadata": {},
   "outputs": [],
   "source": [
    "def build_model():\n",
    "    model = Sequential()\n",
    "\n",
    "    # Base model\n",
    "    base_model = EfficientNetV2B0(weights='imagenet', include_top=False, input_shape=(240, 240, 3))\n",
    "    base_model.trainable = False\n",
    "    model.add(base_model)\n",
    "    model.add(layers.GlobalAveragePooling2D())\n",
    "    \n",
    "    model.add(layers.Dense(\n",
    "        units=128,\n",
    "        activation='relu'\n",
    "    ))\n",
    "    \n",
    "    # Dropout layer for regularization\n",
    "    model.add(layers.Dropout(0.5))\n",
    "    \n",
    "    # Output layer with no activation (regression)\n",
    "    model.add(layers.Dense(2))\n",
    "\n",
    "    model.compile(optimizer=AdamW(learning_rate=0.00014), \n",
    "                  loss=Huber(delta=1.0), \n",
    "                  metrics=['mae'])\n",
    "    \n",
    "    return model"
   ]
  },
  {
   "cell_type": "code",
   "execution_count": 12,
   "metadata": {},
   "outputs": [
    {
     "data": {
      "text/html": [
       "<pre style=\"white-space:pre;overflow-x:auto;line-height:normal;font-family:Menlo,'DejaVu Sans Mono',consolas,'Courier New',monospace\"><span style=\"font-weight: bold\">Model: \"sequential\"</span>\n",
       "</pre>\n"
      ],
      "text/plain": [
       "\u001b[1mModel: \"sequential\"\u001b[0m\n"
      ]
     },
     "metadata": {},
     "output_type": "display_data"
    },
    {
     "data": {
      "text/html": [
       "<pre style=\"white-space:pre;overflow-x:auto;line-height:normal;font-family:Menlo,'DejaVu Sans Mono',consolas,'Courier New',monospace\">┏━━━━━━━━━━━━━━━━━━━━━━━━━━━━━━━━━┳━━━━━━━━━━━━━━━━━━━━━━━━┳━━━━━━━━━━━━━━━┓\n",
       "┃<span style=\"font-weight: bold\"> Layer (type)                    </span>┃<span style=\"font-weight: bold\"> Output Shape           </span>┃<span style=\"font-weight: bold\">       Param # </span>┃\n",
       "┡━━━━━━━━━━━━━━━━━━━━━━━━━━━━━━━━━╇━━━━━━━━━━━━━━━━━━━━━━━━╇━━━━━━━━━━━━━━━┩\n",
       "│ efficientnetv2-b0 (<span style=\"color: #0087ff; text-decoration-color: #0087ff\">Functional</span>)  │ (<span style=\"color: #00d7ff; text-decoration-color: #00d7ff\">None</span>, <span style=\"color: #00af00; text-decoration-color: #00af00\">8</span>, <span style=\"color: #00af00; text-decoration-color: #00af00\">8</span>, <span style=\"color: #00af00; text-decoration-color: #00af00\">1280</span>)     │     <span style=\"color: #00af00; text-decoration-color: #00af00\">5,919,312</span> │\n",
       "├─────────────────────────────────┼────────────────────────┼───────────────┤\n",
       "│ global_average_pooling2d        │ (<span style=\"color: #00d7ff; text-decoration-color: #00d7ff\">None</span>, <span style=\"color: #00af00; text-decoration-color: #00af00\">1280</span>)           │             <span style=\"color: #00af00; text-decoration-color: #00af00\">0</span> │\n",
       "│ (<span style=\"color: #0087ff; text-decoration-color: #0087ff\">GlobalAveragePooling2D</span>)        │                        │               │\n",
       "├─────────────────────────────────┼────────────────────────┼───────────────┤\n",
       "│ dense (<span style=\"color: #0087ff; text-decoration-color: #0087ff\">Dense</span>)                   │ (<span style=\"color: #00d7ff; text-decoration-color: #00d7ff\">None</span>, <span style=\"color: #00af00; text-decoration-color: #00af00\">128</span>)            │       <span style=\"color: #00af00; text-decoration-color: #00af00\">163,968</span> │\n",
       "├─────────────────────────────────┼────────────────────────┼───────────────┤\n",
       "│ dropout (<span style=\"color: #0087ff; text-decoration-color: #0087ff\">Dropout</span>)               │ (<span style=\"color: #00d7ff; text-decoration-color: #00d7ff\">None</span>, <span style=\"color: #00af00; text-decoration-color: #00af00\">128</span>)            │             <span style=\"color: #00af00; text-decoration-color: #00af00\">0</span> │\n",
       "├─────────────────────────────────┼────────────────────────┼───────────────┤\n",
       "│ dense_1 (<span style=\"color: #0087ff; text-decoration-color: #0087ff\">Dense</span>)                 │ (<span style=\"color: #00d7ff; text-decoration-color: #00d7ff\">None</span>, <span style=\"color: #00af00; text-decoration-color: #00af00\">2</span>)              │           <span style=\"color: #00af00; text-decoration-color: #00af00\">258</span> │\n",
       "└─────────────────────────────────┴────────────────────────┴───────────────┘\n",
       "</pre>\n"
      ],
      "text/plain": [
       "┏━━━━━━━━━━━━━━━━━━━━━━━━━━━━━━━━━┳━━━━━━━━━━━━━━━━━━━━━━━━┳━━━━━━━━━━━━━━━┓\n",
       "┃\u001b[1m \u001b[0m\u001b[1mLayer (type)                   \u001b[0m\u001b[1m \u001b[0m┃\u001b[1m \u001b[0m\u001b[1mOutput Shape          \u001b[0m\u001b[1m \u001b[0m┃\u001b[1m \u001b[0m\u001b[1m      Param #\u001b[0m\u001b[1m \u001b[0m┃\n",
       "┡━━━━━━━━━━━━━━━━━━━━━━━━━━━━━━━━━╇━━━━━━━━━━━━━━━━━━━━━━━━╇━━━━━━━━━━━━━━━┩\n",
       "│ efficientnetv2-b0 (\u001b[38;5;33mFunctional\u001b[0m)  │ (\u001b[38;5;45mNone\u001b[0m, \u001b[38;5;34m8\u001b[0m, \u001b[38;5;34m8\u001b[0m, \u001b[38;5;34m1280\u001b[0m)     │     \u001b[38;5;34m5,919,312\u001b[0m │\n",
       "├─────────────────────────────────┼────────────────────────┼───────────────┤\n",
       "│ global_average_pooling2d        │ (\u001b[38;5;45mNone\u001b[0m, \u001b[38;5;34m1280\u001b[0m)           │             \u001b[38;5;34m0\u001b[0m │\n",
       "│ (\u001b[38;5;33mGlobalAveragePooling2D\u001b[0m)        │                        │               │\n",
       "├─────────────────────────────────┼────────────────────────┼───────────────┤\n",
       "│ dense (\u001b[38;5;33mDense\u001b[0m)                   │ (\u001b[38;5;45mNone\u001b[0m, \u001b[38;5;34m128\u001b[0m)            │       \u001b[38;5;34m163,968\u001b[0m │\n",
       "├─────────────────────────────────┼────────────────────────┼───────────────┤\n",
       "│ dropout (\u001b[38;5;33mDropout\u001b[0m)               │ (\u001b[38;5;45mNone\u001b[0m, \u001b[38;5;34m128\u001b[0m)            │             \u001b[38;5;34m0\u001b[0m │\n",
       "├─────────────────────────────────┼────────────────────────┼───────────────┤\n",
       "│ dense_1 (\u001b[38;5;33mDense\u001b[0m)                 │ (\u001b[38;5;45mNone\u001b[0m, \u001b[38;5;34m2\u001b[0m)              │           \u001b[38;5;34m258\u001b[0m │\n",
       "└─────────────────────────────────┴────────────────────────┴───────────────┘\n"
      ]
     },
     "metadata": {},
     "output_type": "display_data"
    },
    {
     "data": {
      "text/html": [
       "<pre style=\"white-space:pre;overflow-x:auto;line-height:normal;font-family:Menlo,'DejaVu Sans Mono',consolas,'Courier New',monospace\"><span style=\"font-weight: bold\"> Total params: </span><span style=\"color: #00af00; text-decoration-color: #00af00\">6,083,538</span> (23.21 MB)\n",
       "</pre>\n"
      ],
      "text/plain": [
       "\u001b[1m Total params: \u001b[0m\u001b[38;5;34m6,083,538\u001b[0m (23.21 MB)\n"
      ]
     },
     "metadata": {},
     "output_type": "display_data"
    },
    {
     "data": {
      "text/html": [
       "<pre style=\"white-space:pre;overflow-x:auto;line-height:normal;font-family:Menlo,'DejaVu Sans Mono',consolas,'Courier New',monospace\"><span style=\"font-weight: bold\"> Trainable params: </span><span style=\"color: #00af00; text-decoration-color: #00af00\">164,226</span> (641.51 KB)\n",
       "</pre>\n"
      ],
      "text/plain": [
       "\u001b[1m Trainable params: \u001b[0m\u001b[38;5;34m164,226\u001b[0m (641.51 KB)\n"
      ]
     },
     "metadata": {},
     "output_type": "display_data"
    },
    {
     "data": {
      "text/html": [
       "<pre style=\"white-space:pre;overflow-x:auto;line-height:normal;font-family:Menlo,'DejaVu Sans Mono',consolas,'Courier New',monospace\"><span style=\"font-weight: bold\"> Non-trainable params: </span><span style=\"color: #00af00; text-decoration-color: #00af00\">5,919,312</span> (22.58 MB)\n",
       "</pre>\n"
      ],
      "text/plain": [
       "\u001b[1m Non-trainable params: \u001b[0m\u001b[38;5;34m5,919,312\u001b[0m (22.58 MB)\n"
      ]
     },
     "metadata": {},
     "output_type": "display_data"
    }
   ],
   "source": [
    "model = build_model()\n",
    "model.summary()"
   ]
  },
  {
   "cell_type": "code",
   "execution_count": 13,
   "metadata": {},
   "outputs": [],
   "source": [
    "#history = model.fit(train_generator,\n",
    "#          validation_data=val_generator,\n",
    "#          epochs=15,\n",
    "#          callbacks=[callbacks.EarlyStopping(monitor='val_mae', patience=5, restore_best_weights=True)])\n",
    "\n",
    "#model.save('ModelBuild/model01_v04.keras')"
   ]
  },
  {
   "cell_type": "code",
   "execution_count": 14,
   "metadata": {},
   "outputs": [],
   "source": [
    "plt.rcParams.update({\n",
    "    \"text.usetex\": True,              # If you want to use LaTeX fonts in text\n",
    "    \"font.family\": \"serif\",           # IEEE uses Times New Roman-like fonts\n",
    "    \"font.size\": 12,                   # General font size for IEEE format\n",
    "    \"axes.labelsize\": 12,              # Axis labels font size\n",
    "    \"legend.fontsize\": 11,             # Legend font size\n",
    "    \"xtick.labelsize\": 11,             # X-axis tick labels font size\n",
    "    \"ytick.labelsize\": 11,             # Y-axis tick labels font size\n",
    "    \"figure.figsize\": (5, 5*0.65),\n",
    "    \"savefig.dpi\": 300,               # DPI for high-quality PNG/JPEG\n",
    "})"
   ]
  },
  {
   "cell_type": "code",
   "execution_count": 15,
   "metadata": {},
   "outputs": [
    {
     "name": "stdout",
     "output_type": "stream",
     "text": [
      "Data has been written to ModelBuild/model01_v04.json\n"
     ]
    }
   ],
   "source": [
    "import json\n",
    "\n",
    "\n",
    "# Specify the file name\n",
    "file_name = \"ModelBuild/model01_v04.json\"\n",
    "\n",
    "# Open the file and write the dictionary as JSON\n",
    "#with open(file_name, \"w\") as json_file:\n",
    "#    json.dump(history.history, json_file, indent=4)\n",
    "\n",
    "print(f\"Data has been written to {file_name}\")"
   ]
  },
  {
   "cell_type": "code",
   "execution_count": 16,
   "metadata": {},
   "outputs": [],
   "source": [
    "with open(file_name, \"r\") as json_file:\n",
    "    data = json.load(json_file)"
   ]
  },
  {
   "cell_type": "code",
   "execution_count": 17,
   "metadata": {},
   "outputs": [
    {
     "data": {
      "image/png": "[encoded data removed]",
      "text/plain": [
       "<Figure size 500x325 with 1 Axes>"
      ]
     },
     "metadata": {},
     "output_type": "display_data"
    },
    {
     "data": {
      "image/png": "[encoded data removed]",
      "text/plain": [
       "<Figure size 500x325 with 1 Axes>"
      ]
     },
     "metadata": {},
     "output_type": "display_data"
    }
   ],
   "source": [
    "plt.plot(data['loss'], label='Training Loss')\n",
    "plt.plot(data['val_loss'], label='Validation Loss')\n",
    "plt.title('Training vs Validation Loss')\n",
    "plt.xlabel('Epoch')\n",
    "plt.ylabel('Loss')\n",
    "plt.legend()\n",
    "plt.show()\n",
    "\n",
    "plt.plot(data['mae'], label='Training MAE')\n",
    "plt.plot(data['val_mae'], label='Validation MAE')\n",
    "plt.title('Training vs Validation MAE')\n",
    "plt.xlabel('Epoch')\n",
    "plt.ylabel('MAE')\n",
    "plt.legend()\n",
    "plt.show()"
   ]
  },
  {
   "cell_type": "markdown",
   "metadata": {},
   "source": [
    "## prever dados de treino"
   ]
  },
  {
   "cell_type": "code",
   "execution_count": 18,
   "metadata": {},
   "outputs": [
    {
     "data": {
      "text/html": [
       "<div>\n",
       "<style scoped>\n",
       "    .dataframe tbody tr th:only-of-type {\n",
       "        vertical-align: middle;\n",
       "    }\n",
       "\n",
       "    .dataframe tbody tr th {\n",
       "        vertical-align: top;\n",
       "    }\n",
       "\n",
       "    .dataframe thead th {\n",
       "        text-align: right;\n",
       "    }\n",
       "</style>\n",
       "<table border=\"1\" class=\"dataframe\">\n",
       "  <thead>\n",
       "    <tr style=\"text-align: right;\">\n",
       "      <th></th>\n",
       "      <th>ID</th>\n",
       "      <th>img_origin</th>\n",
       "      <th>placement</th>\n",
       "    </tr>\n",
       "  </thead>\n",
       "  <tbody>\n",
       "    <tr>\n",
       "      <th>0</th>\n",
       "      <td>ID00qprY</td>\n",
       "      <td>D</td>\n",
       "      <td>roof</td>\n",
       "    </tr>\n",
       "    <tr>\n",
       "      <th>1</th>\n",
       "      <td>ID01AciUc</td>\n",
       "      <td>D</td>\n",
       "      <td>roof</td>\n",
       "    </tr>\n",
       "    <tr>\n",
       "      <th>2</th>\n",
       "      <td>ID0328D</td>\n",
       "      <td>D</td>\n",
       "      <td>roof</td>\n",
       "    </tr>\n",
       "    <tr>\n",
       "      <th>3</th>\n",
       "      <td>ID05WxObCFTs9</td>\n",
       "      <td>D</td>\n",
       "      <td>roof</td>\n",
       "    </tr>\n",
       "    <tr>\n",
       "      <th>4</th>\n",
       "      <td>ID06AdCmLMlkO</td>\n",
       "      <td>S</td>\n",
       "      <td>S-unknown</td>\n",
       "    </tr>\n",
       "  </tbody>\n",
       "</table>\n",
       "</div>"
      ],
      "text/plain": [
       "              ID img_origin  placement\n",
       "0       ID00qprY          D       roof\n",
       "1      ID01AciUc          D       roof\n",
       "2        ID0328D          D       roof\n",
       "3  ID05WxObCFTs9          D       roof\n",
       "4  ID06AdCmLMlkO          S  S-unknown"
      ]
     },
     "execution_count": 18,
     "metadata": {},
     "output_type": "execute_result"
    }
   ],
   "source": [
    "df_test = pd.read_csv('Test.csv')\n",
    "df_test.head()"
   ]
  },
  {
   "cell_type": "code",
   "execution_count": 19,
   "metadata": {},
   "outputs": [],
   "source": [
    "image_size=(240, 240)\n",
    "\n",
    "transform = A.Compose([\n",
    "            A.Resize(image_size[0], image_size[1]),\n",
    "            A.Normalize(mean=(0.485, 0.456, 0.406), std=(0.229, 0.224, 0.225)),\n",
    "            ToTensorV2()\n",
    "        ])\n",
    "\n",
    "# prepare the images\n",
    "images = []\n",
    "for i, row in df_test.iterrows():\n",
    "    # Load image\n",
    "    image_path = \"images/\" + row['ID'] + '.jpg'\n",
    "    img = load_img(image_path, target_size=image_size)\n",
    "    img = img_to_array(img)\n",
    "    img = img / 255.0\n",
    "    img = transform(image=img)[\"image\"]\n",
    "\n",
    "    if img.shape[0] == 3:  # If it's in channels-first format (3, 512, 512)\n",
    "        img = np.transpose(img, (1, 2, 0))\n",
    "\n",
    "    images.append(img)\n",
    "\n",
    "images = np.array(images)"
   ]
  },
  {
   "cell_type": "code",
   "execution_count": 20,
   "metadata": {},
   "outputs": [],
   "source": [
    "# load the model\n",
    "\n",
    "model = tf.keras.models.load_model('ModelBuild/model01_v04.keras')"
   ]
  },
  {
   "cell_type": "code",
   "execution_count": 21,
   "metadata": {},
   "outputs": [
    {
     "name": "stderr",
     "output_type": "stream",
     "text": [
      "2025-03-18 21:17:28.247953: I tensorflow/core/grappler/optimizers/custom_graph_optimizer_registry.cc:117] Plugin optimizer for device_type GPU is enabled.\n"
     ]
    },
    {
     "name": "stdout",
     "output_type": "stream",
     "text": [
      "\u001b[1m35/35\u001b[0m \u001b[32m━━━━━━━━━━━━━━━━━━━━\u001b[0m\u001b[37m\u001b[0m \u001b[1m12s\u001b[0m 265ms/step\n"
     ]
    }
   ],
   "source": [
    "x = model.predict(images)"
   ]
  },
  {
   "cell_type": "code",
   "execution_count": 22,
   "metadata": {},
   "outputs": [
    {
     "data": {
      "text/plain": [
       "array([[0.08732566, 1.6987917 ],\n",
       "       [0.08734137, 1.6986835 ],\n",
       "       [0.08737129, 1.6986818 ],\n",
       "       ...,\n",
       "       [0.08736788, 1.6986834 ],\n",
       "       [0.08734728, 1.6987073 ],\n",
       "       [0.08735065, 1.6986723 ]], dtype=float32)"
      ]
     },
     "execution_count": 22,
     "metadata": {},
     "output_type": "execute_result"
    }
   ],
   "source": [
    "x"
   ]
  },
  {
   "cell_type": "markdown",
   "metadata": {},
   "source": [
    "claramente ele n vais buscar as features que devia... mais parece uma media...\n",
    "\n",
    "boil | pan"
   ]
  },
  {
   "cell_type": "code",
   "execution_count": 24,
   "metadata": {},
   "outputs": [
    {
     "data": {
      "text/html": [
       "<div>\n",
       "<style scoped>\n",
       "    .dataframe tbody tr th:only-of-type {\n",
       "        vertical-align: middle;\n",
       "    }\n",
       "\n",
       "    .dataframe tbody tr th {\n",
       "        vertical-align: top;\n",
       "    }\n",
       "\n",
       "    .dataframe thead th {\n",
       "        text-align: right;\n",
       "    }\n",
       "</style>\n",
       "<table border=\"1\" class=\"dataframe\">\n",
       "  <thead>\n",
       "    <tr style=\"text-align: right;\">\n",
       "      <th></th>\n",
       "      <th>ID</th>\n",
       "      <th>Target</th>\n",
       "    </tr>\n",
       "  </thead>\n",
       "  <tbody>\n",
       "    <tr>\n",
       "      <th>0</th>\n",
       "      <td>ID00qprY_boil</td>\n",
       "      <td>0</td>\n",
       "    </tr>\n",
       "    <tr>\n",
       "      <th>1</th>\n",
       "      <td>ID00qprY_pan</td>\n",
       "      <td>0</td>\n",
       "    </tr>\n",
       "    <tr>\n",
       "      <th>2</th>\n",
       "      <td>ID01AciUc_boil</td>\n",
       "      <td>0</td>\n",
       "    </tr>\n",
       "    <tr>\n",
       "      <th>3</th>\n",
       "      <td>ID01AciUc_pan</td>\n",
       "      <td>0</td>\n",
       "    </tr>\n",
       "    <tr>\n",
       "      <th>4</th>\n",
       "      <td>ID0328D_boil</td>\n",
       "      <td>0</td>\n",
       "    </tr>\n",
       "  </tbody>\n",
       "</table>\n",
       "</div>"
      ],
      "text/plain": [
       "               ID  Target\n",
       "0   ID00qprY_boil       0\n",
       "1    ID00qprY_pan       0\n",
       "2  ID01AciUc_boil       0\n",
       "3   ID01AciUc_pan       0\n",
       "4    ID0328D_boil       0"
      ]
     },
     "execution_count": 24,
     "metadata": {},
     "output_type": "execute_result"
    }
   ],
   "source": [
    "submission = pd.read_csv(\"zindi_files/SampleSubmission.csv\")\n",
    "submission.head()"
   ]
  },
  {
   "cell_type": "code",
   "execution_count": 27,
   "metadata": {},
   "outputs": [
    {
     "name": "stderr",
     "output_type": "stream",
     "text": [
      "/var/folders/sz/96b_h5gn3y33k0c7jsvrstmm0000gn/T/ipykernel_55946/2436842366.py:8: FutureWarning: Setting an item of incompatible dtype is deprecated and will raise an error in a future version of pandas. Value '0.08732566237449646' has dtype incompatible with int64, please explicitly cast to a compatible dtype first.\n",
      "  submission.loc[i, \"Target\"] = df_test[df_test[\"ID\"] == image][\"nr_boil\"].values[0]\n"
     ]
    },
    {
     "data": {
      "text/html": [
       "<div>\n",
       "<style scoped>\n",
       "    .dataframe tbody tr th:only-of-type {\n",
       "        vertical-align: middle;\n",
       "    }\n",
       "\n",
       "    .dataframe tbody tr th {\n",
       "        vertical-align: top;\n",
       "    }\n",
       "\n",
       "    .dataframe thead th {\n",
       "        text-align: right;\n",
       "    }\n",
       "</style>\n",
       "<table border=\"1\" class=\"dataframe\">\n",
       "  <thead>\n",
       "    <tr style=\"text-align: right;\">\n",
       "      <th></th>\n",
       "      <th>ID</th>\n",
       "      <th>Target</th>\n",
       "    </tr>\n",
       "  </thead>\n",
       "  <tbody>\n",
       "    <tr>\n",
       "      <th>0</th>\n",
       "      <td>ID00qprY_boil</td>\n",
       "      <td>0.087326</td>\n",
       "    </tr>\n",
       "    <tr>\n",
       "      <th>1</th>\n",
       "      <td>ID00qprY_pan</td>\n",
       "      <td>1.698792</td>\n",
       "    </tr>\n",
       "    <tr>\n",
       "      <th>2</th>\n",
       "      <td>ID01AciUc_boil</td>\n",
       "      <td>0.087341</td>\n",
       "    </tr>\n",
       "    <tr>\n",
       "      <th>3</th>\n",
       "      <td>ID01AciUc_pan</td>\n",
       "      <td>1.698684</td>\n",
       "    </tr>\n",
       "    <tr>\n",
       "      <th>4</th>\n",
       "      <td>ID0328D_boil</td>\n",
       "      <td>0.087371</td>\n",
       "    </tr>\n",
       "    <tr>\n",
       "      <th>...</th>\n",
       "      <td>...</td>\n",
       "      <td>...</td>\n",
       "    </tr>\n",
       "    <tr>\n",
       "      <th>2209</th>\n",
       "      <td>IDzwPcyO0e_pan</td>\n",
       "      <td>1.698683</td>\n",
       "    </tr>\n",
       "    <tr>\n",
       "      <th>2210</th>\n",
       "      <td>IDzzNegz_boil</td>\n",
       "      <td>0.087347</td>\n",
       "    </tr>\n",
       "    <tr>\n",
       "      <th>2211</th>\n",
       "      <td>IDzzNegz_pan</td>\n",
       "      <td>1.698707</td>\n",
       "    </tr>\n",
       "    <tr>\n",
       "      <th>2212</th>\n",
       "      <td>IDzzZcEYNVZMCk_boil</td>\n",
       "      <td>0.087351</td>\n",
       "    </tr>\n",
       "    <tr>\n",
       "      <th>2213</th>\n",
       "      <td>IDzzZcEYNVZMCk_pan</td>\n",
       "      <td>1.698672</td>\n",
       "    </tr>\n",
       "  </tbody>\n",
       "</table>\n",
       "<p>2214 rows × 2 columns</p>\n",
       "</div>"
      ],
      "text/plain": [
       "                       ID    Target\n",
       "0           ID00qprY_boil  0.087326\n",
       "1            ID00qprY_pan  1.698792\n",
       "2          ID01AciUc_boil  0.087341\n",
       "3           ID01AciUc_pan  1.698684\n",
       "4            ID0328D_boil  0.087371\n",
       "...                   ...       ...\n",
       "2209       IDzwPcyO0e_pan  1.698683\n",
       "2210        IDzzNegz_boil  0.087347\n",
       "2211         IDzzNegz_pan  1.698707\n",
       "2212  IDzzZcEYNVZMCk_boil  0.087351\n",
       "2213   IDzzZcEYNVZMCk_pan  1.698672\n",
       "\n",
       "[2214 rows x 2 columns]"
      ]
     },
     "execution_count": 27,
     "metadata": {},
     "output_type": "execute_result"
    }
   ],
   "source": [
    "df_test[\"nr_boil\"] = x[:, 0]\n",
    "df_test[\"nr_pan\"] = x[:, 1]\n",
    "\n",
    "for i, row in submission.iterrows():\n",
    "    image = row[\"ID\"].replace(\"_pan\", \"\").replace(\"_boil\", \"\")\n",
    "    object = row[\"ID\"].split(\"_\")[-1]\n",
    "    if object == \"boil\":\n",
    "        submission.loc[i, \"Target\"] = df_test[df_test[\"ID\"] == image][\"nr_boil\"].values[0]\n",
    "    else:\n",
    "        submission.loc[i, \"Target\"] = df_test[df_test[\"ID\"] == image][\"nr_pan\"].values[0]\n",
    "    \n",
    "submission"
   ]
  },
  {
   "cell_type": "code",
   "execution_count": 28,
   "metadata": {},
   "outputs": [],
   "source": [
    "submission.to_csv(\"zindi_files/model01_v04.csv\", index=False)"
   ]
  },
  {
   "cell_type": "markdown",
   "metadata": {},
   "source": [
    "**public socre:** 3.040397919"
   ]
  },
  {
   "cell_type": "code",
   "execution_count": null,
   "metadata": {},
   "outputs": [],
   "source": []
  }
 ],
 "metadata": {
  "kernelspec": {
   "display_name": "CAA01",
   "language": "python",
   "name": "python3"
  },
  "language_info": {
   "codemirror_mode": {
    "name": "ipython",
    "version": 3
   },
   "file_extension": ".py",
   "mimetype": "text/x-python",
   "name": "python",
   "nbconvert_exporter": "python",
   "pygments_lexer": "ipython3",
   "version": "3.10.16"
  }
 },
 "nbformat": 4,
 "nbformat_minor": 2
}
