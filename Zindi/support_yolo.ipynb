{
 "cells": [
  {
   "cell_type": "code",
   "execution_count": 6,
   "metadata": {},
   "outputs": [],
   "source": [
    "from ultralytics import YOLO\n",
    "import pandas as pd\n",
    "import cv2\n",
    "import os\n",
    "import json"
   ]
  },
  {
   "cell_type": "code",
   "execution_count": 7,
   "metadata": {},
   "outputs": [],
   "source": [
    "yolos = [\n",
    "    \"model_0\",\n",
    "    \"model_1\",\n",
    "    \"model_2\",\n",
    "]"
   ]
  },
  {
   "cell_type": "code",
   "execution_count": 8,
   "metadata": {},
   "outputs": [],
   "source": [
    "def yolo_test(key, model, fold):\n",
    "    #test = pd.read_csv(f\"results/fold_{fold}_val\", index_col=0)\n",
    "    #test.rename(columns={\"img\": \"ID\"}, inplace=True)\n",
    "\n",
    "    test = pd.read_csv(f\"CAA01/Test.csv\")\n",
    "    submission = pd.read_csv(\"CAA01/Zindi/SampleSubmission.csv\")\n",
    "\n",
    "    #test = pd.read_csv(f\"CAA01/Train.csv\")\n",
    "    #test = test.groupby(\"ID\").sum().reset_index()\n",
    "\n",
    "    def resize_image(name, size=(512, 512)):\n",
    "        image_file = f'CAA01_images/{name.replace(\".png\", \"\")}.jpg'\n",
    "        if os.path.exists(f\"yoloM/{name}.png\"):\n",
    "            return\n",
    "        \n",
    "        image = cv2.imread(image_file)\n",
    "        resized_image = cv2.resize(image, size)\n",
    "        cv2.imwrite(f\"yoloM/{name}.png\", resized_image)\n",
    "\n",
    "    for i, row in test.iterrows():\n",
    "\n",
    "        resize_image(row[\"ID\"])\n",
    "        results = model(f\"yoloM/{row['ID']}.png\")\n",
    "        result = results[0]\n",
    "\n",
    "        # Count occurrences of each detected class\n",
    "        class_counts = {}\n",
    "\n",
    "        for cls in result.boxes.cls.tolist():  # Get list of detected class indices\n",
    "            class_counts[int(cls)] = class_counts.get(int(cls), 0) + 1\n",
    "\n",
    "        # Map class indices to class names\n",
    "        class_names = model.names  # Dictionary mapping class index to name\n",
    "        named_counts = {class_names[k]: v for k, v in class_counts.items()}\n",
    "\n",
    "        if \"thermal\" in named_counts:\n",
    "            submission.loc[submission[\"ID\"] == f'{row[\"ID\"]}_boil', \"Target\"] = named_counts[\"thermal\"]\n",
    "            #test.loc[test[\"ID\"] == f'{row[\"ID\"]}', \"boil\"] = named_counts[\"thermal\"]\n",
    "        \n",
    "        if \"photovoltaic\" in named_counts:\n",
    "            submission.loc[submission[\"ID\"] == f'{row[\"ID\"]}_pan', \"Target\"] = named_counts[\"photovoltaic\"]\n",
    "            #test.loc[test[\"ID\"] == f'{row[\"ID\"]}', \"pan\"] = named_counts[\"photovoltaic\"]\n",
    "    \n",
    "    submission.to_csv(f\"{key}_test.csv\", index=False)\n",
    "    #test.to_csv(f\"{key}_train.csv\", index=False)"
   ]
  },
  {
   "cell_type": "code",
   "execution_count": 9,
   "metadata": {},
   "outputs": [],
   "source": [
    "\n",
    "for yolo in yolos:\n",
    "    #model = YOLO(f\"/Users/hugover/Desktop/CAA01/ModelBuild/YOLOv8L 06 (id)/results/{yolo}/weights/best.pt\")\n",
    "    fold = yolo.split(\"_\")[1]\n",
    "\n",
    "    #yolo_test(yolo, model, fold)"
   ]
  },
  {
   "cell_type": "code",
   "execution_count": 10,
   "metadata": {},
   "outputs": [
    {
     "data": {
      "text/plain": [
       "1.4329206924315618"
      ]
     },
     "execution_count": 10,
     "metadata": {},
     "output_type": "execute_result"
    }
   ],
   "source": [
    "df01 = pd.read_csv(\"model_0_train.csv\")[[\"ID\", \"boil\", \"pan\"]]\n",
    "df02 = pd.read_csv(\"model_1_train.csv\")[[\"ID\", \"boil\", \"pan\"]]\n",
    "df03 = pd.read_csv(\"model_2_train.csv\")[[\"ID\", \"boil\", \"pan\", \"boil_nbr\", \"pan_nbr\"]]\n",
    "\n",
    "df01.rename(columns={\"boil\": \"boil0\", \"pan\": \"pan0\"}, inplace=True)\n",
    "df02.rename(columns={\"boil\": \"boil1\", \"pan\": \"pan1\"}, inplace=True)\n",
    "df03.rename(columns={\"boil\": \"boil2\", \"pan\": \"pan2\"}, inplace=True)\n",
    "\n",
    "merge = pd.merge(df01, df02, on=\"ID\", how=\"outer\")\n",
    "merge = pd.merge(merge, df03, on=\"ID\", how=\"outer\")\n",
    "merge.fillna(0, inplace=True)\n",
    "\n",
    "merge[\"boil\"] = round(merge[\"boil0\"] + merge[\"boil1\"] + merge[\"boil2\"]) / 3\n",
    "merge[\"pan\"] = round(merge[\"pan0\"] + merge[\"pan1\"] + merge[\"pan2\"]) / 3\n",
    "\n",
    "merge[\"mae_boil\"] = abs(merge[\"boil\"] - merge[\"boil_nbr\"])\n",
    "merge[\"mae_pan\"] = abs(merge[\"pan\"] - merge[\"pan_nbr\"])\n",
    "\n",
    "mae = (merge[\"mae_boil\"].mean() + merge[\"mae_pan\"].mean()) / 2\n",
    "mae"
   ]
  },
  {
   "cell_type": "code",
   "execution_count": 11,
   "metadata": {},
   "outputs": [],
   "source": [
    "dftest01 = pd.read_csv(\"model_0_test.csv\")\n",
    "dftest02 = pd.read_csv(\"model_1_test.csv\")\n",
    "dftest03 = pd.read_csv(\"model_2_test.csv\")\n",
    "dftest01.rename(columns={\"Target\": \"0\"}, inplace=True)\n",
    "dftest02.rename(columns={\"Target\": \"1\"}, inplace=True)\n",
    "dftest03.rename(columns={\"Target\": \"2\"}, inplace=True)\n",
    "\n",
    "merge = pd.merge(dftest01, dftest02, on=\"ID\", how=\"outer\")\n",
    "merge = pd.merge(merge, dftest03, on=\"ID\", how=\"outer\")\n",
    "merge.fillna(0, inplace=True)\n",
    "\n",
    "merge[\"Target\"] = round(merge[\"0\"] + merge[\"1\"] + merge[\"2\"]) / 3\n",
    "\n",
    "merge[[\"ID\", \"Target\"]].to_csv(\"submission.csv\", index=False)"
   ]
  },
  {
   "cell_type": "code",
   "execution_count": null,
   "metadata": {},
   "outputs": [],
   "source": []
  }
 ],
 "metadata": {
  "kernelspec": {
   "display_name": "CAA01",
   "language": "python",
   "name": "python3"
  },
  "language_info": {
   "codemirror_mode": {
    "name": "ipython",
    "version": 3
   },
   "file_extension": ".py",
   "mimetype": "text/x-python",
   "name": "python",
   "nbconvert_exporter": "python",
   "pygments_lexer": "ipython3",
   "version": "3.10.16"
  }
 },
 "nbformat": 4,
 "nbformat_minor": 2
}
