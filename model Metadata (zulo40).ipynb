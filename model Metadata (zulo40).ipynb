{
 "cells": [
  {
   "cell_type": "markdown",
   "id": "f7cfd47a",
   "metadata": {},
   "source": [
    "made by zulo40\n",
    "\n",
    "https://zindi.africa/competitions/lacuna-solar-survey-challenge/discussions/25675\n",
    "\n",
    "public socre of 1.169376693"
   ]
  },
  {
   "cell_type": "code",
   "execution_count": 1,
   "id": "4ba8f5bf",
   "metadata": {
    "execution": {
     "iopub.execute_input": "2025-03-22T22:15:30.364996Z",
     "iopub.status.busy": "2025-03-22T22:15:30.364663Z",
     "iopub.status.idle": "2025-03-22T22:15:37.817548Z",
     "shell.execute_reply": "2025-03-22T22:15:37.816499Z"
    },
    "papermill": {
     "duration": 7.458294,
     "end_time": "2025-03-22T22:15:37.818843",
     "exception": false,
     "start_time": "2025-03-22T22:15:30.360549",
     "status": "completed"
    },
    "tags": []
   },
   "outputs": [
    {
     "name": "stdout",
     "output_type": "stream",
     "text": [
      "\u001b[2K     \u001b[90m━━━━━━━━━━━━━━━━━━━━━━━━━━━━━━━━━━━━━━━━\u001b[0m \u001b[32m68.5/68.5 kB\u001b[0m \u001b[31m3.2 MB/s\u001b[0m eta \u001b[36m0:00:00\u001b[0m\r\n",
      "\u001b[2K   \u001b[90m━━━━━━━━━━━━━━━━━━━━━━━━━━━━━━━━━━━━━━━━\u001b[0m \u001b[32m123.5/123.5 kB\u001b[0m \u001b[31m7.5 MB/s\u001b[0m eta \u001b[36m0:00:00\u001b[0m\r\n",
      "\u001b[2K   \u001b[90m━━━━━━━━━━━━━━━━━━━━━━━━━━━━━━━━━━━━━━━━\u001b[0m \u001b[32m2.2/2.2 MB\u001b[0m \u001b[31m38.3 MB/s\u001b[0m eta \u001b[36m0:00:00\u001b[0m\r\n",
      "\u001b[2K   \u001b[90m━━━━━━━━━━━━━━━━━━━━━━━━━━━━━━━━━━━━━━━━\u001b[0m \u001b[32m949.8/949.8 kB\u001b[0m \u001b[31m49.5 MB/s\u001b[0m eta \u001b[36m0:00:00\u001b[0m\r\n",
      "\u001b[?25hNote: you may need to restart the kernel to use updated packages.\n"
     ]
    }
   ],
   "source": [
    "pip install ultralytics albumentations==1.3.0 timm==0.9.2 -q"
   ]
  },
  {
   "cell_type": "code",
   "execution_count": 2,
   "id": "721e1156",
   "metadata": {
    "execution": {
     "iopub.execute_input": "2025-03-22T22:15:37.826172Z",
     "iopub.status.busy": "2025-03-22T22:15:37.825913Z",
     "iopub.status.idle": "2025-03-23T02:27:39.269202Z",
     "shell.execute_reply": "2025-03-23T02:27:39.268202Z"
    },
    "papermill": {
     "duration": 15122.435827,
     "end_time": "2025-03-23T02:27:40.258054",
     "exception": false,
     "start_time": "2025-03-22T22:15:37.822227",
     "status": "completed"
    },
    "tags": []
   },
   "outputs": [
    {
     "name": "stdout",
     "output_type": "stream",
     "text": [
      "Training fold 1/3\n"
     ]
    },
    {
     "data": {
      "application/vnd.jupyter.widget-view+json": {
       "model_id": "196143015fde4277b0a4fe237c7a5cee",
       "version_major": 2,
       "version_minor": 0
      },
      "text/plain": [
       "model.safetensors:   0%|          | 0.00/57.9M [00:00<?, ?B/s]"
      ]
     },
     "metadata": {},
     "output_type": "display_data"
    },
    {
     "name": "stderr",
     "output_type": "stream",
     "text": [
      "Epoch 1/25 [Train]: 100%|██████████| 166/166 [02:51<00:00,  1.03s/it, loss=1.09]\n",
      "Epoch 1/25 [Val]: 100%|██████████| 21/21 [00:41<00:00,  1.95s/it]\n"
     ]
    },
    {
     "name": "stdout",
     "output_type": "stream",
     "text": [
      "Epoch 1/25\n",
      "Train Loss: 2.1362 | Val Loss: 1.5901 | Val MAE: 1.8399\n"
     ]
    },
    {
     "name": "stderr",
     "output_type": "stream",
     "text": [
      "Epoch 2/25 [Train]: 100%|██████████| 166/166 [02:39<00:00,  1.04it/s, loss=0.609]\n",
      "Epoch 2/25 [Val]: 100%|██████████| 21/21 [00:38<00:00,  1.82s/it]\n"
     ]
    },
    {
     "name": "stdout",
     "output_type": "stream",
     "text": [
      "Epoch 2/25\n",
      "Train Loss: 1.8519 | Val Loss: 1.3675 | Val MAE: 1.5939\n"
     ]
    },
    {
     "name": "stderr",
     "output_type": "stream",
     "text": [
      "Epoch 3/25 [Train]: 100%|██████████| 166/166 [02:38<00:00,  1.05it/s, loss=0.619]\n",
      "Epoch 3/25 [Val]: 100%|██████████| 21/21 [00:37<00:00,  1.80s/it]\n"
     ]
    },
    {
     "name": "stdout",
     "output_type": "stream",
     "text": [
      "Epoch 3/25\n",
      "Train Loss: 1.6362 | Val Loss: 1.3162 | Val MAE: 1.5466\n"
     ]
    },
    {
     "name": "stderr",
     "output_type": "stream",
     "text": [
      "Epoch 4/25 [Train]: 100%|██████████| 166/166 [02:39<00:00,  1.04it/s, loss=0.296]\n",
      "Epoch 4/25 [Val]: 100%|██████████| 21/21 [00:38<00:00,  1.81s/it]\n"
     ]
    },
    {
     "name": "stdout",
     "output_type": "stream",
     "text": [
      "Epoch 4/25\n",
      "Train Loss: 1.4980 | Val Loss: 1.1129 | Val MAE: 1.3354\n"
     ]
    },
    {
     "name": "stderr",
     "output_type": "stream",
     "text": [
      "Epoch 5/25 [Train]: 100%|██████████| 166/166 [02:39<00:00,  1.04it/s, loss=1.07]\n",
      "Epoch 5/25 [Val]: 100%|██████████| 21/21 [00:37<00:00,  1.80s/it]\n"
     ]
    },
    {
     "name": "stdout",
     "output_type": "stream",
     "text": [
      "Epoch 5/25\n",
      "Train Loss: 1.2850 | Val Loss: 1.4936 | Val MAE: 1.6972\n"
     ]
    },
    {
     "name": "stderr",
     "output_type": "stream",
     "text": [
      "Epoch 6/25 [Train]: 100%|██████████| 166/166 [02:39<00:00,  1.04it/s, loss=0.404]\n",
      "Epoch 6/25 [Val]: 100%|██████████| 21/21 [00:37<00:00,  1.81s/it]\n"
     ]
    },
    {
     "name": "stdout",
     "output_type": "stream",
     "text": [
      "Epoch 6/25\n",
      "Train Loss: 1.1812 | Val Loss: 1.2231 | Val MAE: 1.4221\n"
     ]
    },
    {
     "name": "stderr",
     "output_type": "stream",
     "text": [
      "Epoch 7/25 [Train]: 100%|██████████| 166/166 [02:40<00:00,  1.03it/s, loss=1.52]\n",
      "Epoch 7/25 [Val]: 100%|██████████| 21/21 [00:38<00:00,  1.82s/it]\n"
     ]
    },
    {
     "name": "stdout",
     "output_type": "stream",
     "text": [
      "Epoch 7/25\n",
      "Train Loss: 1.0616 | Val Loss: 1.6282 | Val MAE: 1.8350\n"
     ]
    },
    {
     "name": "stderr",
     "output_type": "stream",
     "text": [
      "Epoch 8/25 [Train]: 100%|██████████| 166/166 [02:38<00:00,  1.05it/s, loss=0.183]\n",
      "Epoch 8/25 [Val]: 100%|██████████| 21/21 [00:37<00:00,  1.81s/it]\n"
     ]
    },
    {
     "name": "stdout",
     "output_type": "stream",
     "text": [
      "Epoch 8/25\n",
      "Train Loss: 0.9995 | Val Loss: 1.4928 | Val MAE: 1.7028\n"
     ]
    },
    {
     "name": "stderr",
     "output_type": "stream",
     "text": [
      "Epoch 9/25 [Train]: 100%|██████████| 166/166 [02:39<00:00,  1.04it/s, loss=0.85]\n",
      "Epoch 9/25 [Val]: 100%|██████████| 21/21 [00:38<00:00,  1.81s/it]\n"
     ]
    },
    {
     "name": "stdout",
     "output_type": "stream",
     "text": [
      "Epoch 9/25\n",
      "Train Loss: 0.8628 | Val Loss: 1.5353 | Val MAE: 1.7449\n"
     ]
    },
    {
     "name": "stderr",
     "output_type": "stream",
     "text": [
      "Epoch 10/25 [Train]: 100%|██████████| 166/166 [02:38<00:00,  1.05it/s, loss=0.141]\n",
      "Epoch 10/25 [Val]: 100%|██████████| 21/21 [00:38<00:00,  1.81s/it]\n"
     ]
    },
    {
     "name": "stdout",
     "output_type": "stream",
     "text": [
      "Epoch 10/25\n",
      "Train Loss: 0.8314 | Val Loss: 1.4900 | Val MAE: 1.6971\n"
     ]
    },
    {
     "name": "stderr",
     "output_type": "stream",
     "text": [
      "Epoch 11/25 [Train]: 100%|██████████| 166/166 [02:37<00:00,  1.05it/s, loss=0.89]\n",
      "Epoch 11/25 [Val]: 100%|██████████| 21/21 [00:38<00:00,  1.82s/it]\n"
     ]
    },
    {
     "name": "stdout",
     "output_type": "stream",
     "text": [
      "Epoch 11/25\n",
      "Train Loss: 1.1951 | Val Loss: 1.3795 | Val MAE: 1.5743\n"
     ]
    },
    {
     "name": "stderr",
     "output_type": "stream",
     "text": [
      "Epoch 12/25 [Train]: 100%|██████████| 166/166 [02:38<00:00,  1.04it/s, loss=0.307]\n",
      "Epoch 12/25 [Val]: 100%|██████████| 21/21 [00:38<00:00,  1.81s/it]\n"
     ]
    },
    {
     "name": "stdout",
     "output_type": "stream",
     "text": [
      "Epoch 12/25\n",
      "Train Loss: 1.2487 | Val Loss: 1.8915 | Val MAE: 2.1370\n"
     ]
    },
    {
     "name": "stderr",
     "output_type": "stream",
     "text": [
      "Epoch 13/25 [Train]: 100%|██████████| 166/166 [02:39<00:00,  1.04it/s, loss=0.647]\n",
      "Epoch 13/25 [Val]: 100%|██████████| 21/21 [00:38<00:00,  1.81s/it]\n"
     ]
    },
    {
     "name": "stdout",
     "output_type": "stream",
     "text": [
      "Epoch 13/25\n",
      "Train Loss: 1.1365 | Val Loss: 1.6941 | Val MAE: 1.9166\n"
     ]
    },
    {
     "name": "stderr",
     "output_type": "stream",
     "text": [
      "Epoch 14/25 [Train]: 100%|██████████| 166/166 [02:38<00:00,  1.05it/s, loss=0.698]\n",
      "Epoch 14/25 [Val]: 100%|██████████| 21/21 [00:37<00:00,  1.81s/it]\n"
     ]
    },
    {
     "name": "stdout",
     "output_type": "stream",
     "text": [
      "Epoch 14/25\n",
      "Train Loss: 1.1638 | Val Loss: 1.6511 | Val MAE: 1.8868\n"
     ]
    },
    {
     "name": "stderr",
     "output_type": "stream",
     "text": [
      "Epoch 15/25 [Train]: 100%|██████████| 166/166 [02:40<00:00,  1.04it/s, loss=0.279]\n",
      "Epoch 15/25 [Val]: 100%|██████████| 21/21 [00:38<00:00,  1.81s/it]\n"
     ]
    },
    {
     "name": "stdout",
     "output_type": "stream",
     "text": [
      "Epoch 15/25\n",
      "Train Loss: 1.0251 | Val Loss: 1.3819 | Val MAE: 1.5984\n"
     ]
    },
    {
     "name": "stderr",
     "output_type": "stream",
     "text": [
      "Epoch 16/25 [Train]: 100%|██████████| 166/166 [02:39<00:00,  1.04it/s, loss=20.5]\n",
      "Epoch 16/25 [Val]: 100%|██████████| 21/21 [00:38<00:00,  1.82s/it]\n"
     ]
    },
    {
     "name": "stdout",
     "output_type": "stream",
     "text": [
      "Epoch 16/25\n",
      "Train Loss: 1.0865 | Val Loss: 1.5221 | Val MAE: 1.7157\n"
     ]
    },
    {
     "name": "stderr",
     "output_type": "stream",
     "text": [
      "Epoch 17/25 [Train]: 100%|██████████| 166/166 [02:39<00:00,  1.04it/s, loss=0.224]\n",
      "Epoch 17/25 [Val]: 100%|██████████| 21/21 [00:37<00:00,  1.80s/it]\n"
     ]
    },
    {
     "name": "stdout",
     "output_type": "stream",
     "text": [
      "Epoch 17/25\n",
      "Train Loss: 1.0126 | Val Loss: 1.2304 | Val MAE: 1.4291\n"
     ]
    },
    {
     "name": "stderr",
     "output_type": "stream",
     "text": [
      "Epoch 18/25 [Train]: 100%|██████████| 166/166 [02:40<00:00,  1.04it/s, loss=1.27]\n",
      "Epoch 18/25 [Val]: 100%|██████████| 21/21 [00:37<00:00,  1.80s/it]\n"
     ]
    },
    {
     "name": "stdout",
     "output_type": "stream",
     "text": [
      "Epoch 18/25\n",
      "Train Loss: 0.8905 | Val Loss: 1.2669 | Val MAE: 1.4669\n"
     ]
    },
    {
     "name": "stderr",
     "output_type": "stream",
     "text": [
      "Epoch 19/25 [Train]: 100%|██████████| 166/166 [02:38<00:00,  1.05it/s, loss=1.43]\n",
      "Epoch 19/25 [Val]: 100%|██████████| 21/21 [00:37<00:00,  1.81s/it]\n"
     ]
    },
    {
     "name": "stdout",
     "output_type": "stream",
     "text": [
      "Epoch 19/25\n",
      "Train Loss: 0.9214 | Val Loss: 0.9537 | Val MAE: 1.1448\n"
     ]
    },
    {
     "name": "stderr",
     "output_type": "stream",
     "text": [
      "Epoch 20/25 [Train]: 100%|██████████| 166/166 [02:40<00:00,  1.04it/s, loss=1.58]\n",
      "Epoch 20/25 [Val]: 100%|██████████| 21/21 [00:37<00:00,  1.79s/it]\n"
     ]
    },
    {
     "name": "stdout",
     "output_type": "stream",
     "text": [
      "Epoch 20/25\n",
      "Train Loss: 0.8408 | Val Loss: 1.4298 | Val MAE: 1.6150\n"
     ]
    },
    {
     "name": "stderr",
     "output_type": "stream",
     "text": [
      "Epoch 21/25 [Train]: 100%|██████████| 166/166 [02:39<00:00,  1.04it/s, loss=0.904]\n",
      "Epoch 21/25 [Val]: 100%|██████████| 21/21 [00:37<00:00,  1.80s/it]\n"
     ]
    },
    {
     "name": "stdout",
     "output_type": "stream",
     "text": [
      "Epoch 21/25\n",
      "Train Loss: 0.8357 | Val Loss: 0.9557 | Val MAE: 1.1484\n"
     ]
    },
    {
     "name": "stderr",
     "output_type": "stream",
     "text": [
      "Epoch 22/25 [Train]: 100%|██████████| 166/166 [02:39<00:00,  1.04it/s, loss=4.63]\n",
      "Epoch 22/25 [Val]: 100%|██████████| 21/21 [00:38<00:00,  1.82s/it]\n"
     ]
    },
    {
     "name": "stdout",
     "output_type": "stream",
     "text": [
      "Epoch 22/25\n",
      "Train Loss: 0.7160 | Val Loss: 1.0727 | Val MAE: 1.2647\n"
     ]
    },
    {
     "name": "stderr",
     "output_type": "stream",
     "text": [
      "Epoch 23/25 [Train]: 100%|██████████| 166/166 [02:39<00:00,  1.04it/s, loss=0.364]\n",
      "Epoch 23/25 [Val]: 100%|██████████| 21/21 [00:38<00:00,  1.82s/it]\n"
     ]
    },
    {
     "name": "stdout",
     "output_type": "stream",
     "text": [
      "Epoch 23/25\n",
      "Train Loss: 0.6203 | Val Loss: 0.9626 | Val MAE: 1.1596\n"
     ]
    },
    {
     "name": "stderr",
     "output_type": "stream",
     "text": [
      "Epoch 24/25 [Train]: 100%|██████████| 166/166 [02:38<00:00,  1.04it/s, loss=1.34]\n",
      "Epoch 24/25 [Val]: 100%|██████████| 21/21 [00:37<00:00,  1.80s/it]\n"
     ]
    },
    {
     "name": "stdout",
     "output_type": "stream",
     "text": [
      "Epoch 24/25\n",
      "Train Loss: 0.6660 | Val Loss: 1.1115 | Val MAE: 1.3001\n"
     ]
    },
    {
     "name": "stderr",
     "output_type": "stream",
     "text": [
      "Epoch 25/25 [Train]: 100%|██████████| 166/166 [02:40<00:00,  1.04it/s, loss=0.281]\n",
      "Epoch 25/25 [Val]: 100%|██████████| 21/21 [00:38<00:00,  1.81s/it]\n"
     ]
    },
    {
     "name": "stdout",
     "output_type": "stream",
     "text": [
      "Epoch 25/25\n",
      "Train Loss: 0.5886 | Val Loss: 1.0046 | Val MAE: 1.1971\n",
      "Training fold 2/3\n"
     ]
    },
    {
     "name": "stderr",
     "output_type": "stream",
     "text": [
      "Epoch 1/25 [Train]: 100%|██████████| 166/166 [02:39<00:00,  1.04it/s, loss=0.312]\n",
      "Epoch 1/25 [Val]: 100%|██████████| 21/21 [00:37<00:00,  1.78s/it]\n"
     ]
    },
    {
     "name": "stdout",
     "output_type": "stream",
     "text": [
      "Epoch 1/25\n",
      "Train Loss: 1.9861 | Val Loss: 1.9997 | Val MAE: 2.2635\n"
     ]
    },
    {
     "name": "stderr",
     "output_type": "stream",
     "text": [
      "Epoch 2/25 [Train]: 100%|██████████| 166/166 [02:39<00:00,  1.04it/s, loss=0.531]\n",
      "Epoch 2/25 [Val]: 100%|██████████| 21/21 [00:37<00:00,  1.79s/it]\n"
     ]
    },
    {
     "name": "stdout",
     "output_type": "stream",
     "text": [
      "Epoch 2/25\n",
      "Train Loss: 1.7819 | Val Loss: 1.8709 | Val MAE: 2.1136\n"
     ]
    },
    {
     "name": "stderr",
     "output_type": "stream",
     "text": [
      "Epoch 3/25 [Train]: 100%|██████████| 166/166 [02:39<00:00,  1.04it/s, loss=0.567]\n",
      "Epoch 3/25 [Val]: 100%|██████████| 21/21 [00:37<00:00,  1.78s/it]\n"
     ]
    },
    {
     "name": "stdout",
     "output_type": "stream",
     "text": [
      "Epoch 3/25\n",
      "Train Loss: 1.6005 | Val Loss: 1.6216 | Val MAE: 1.8436\n"
     ]
    },
    {
     "name": "stderr",
     "output_type": "stream",
     "text": [
      "Epoch 4/25 [Train]: 100%|██████████| 166/166 [02:40<00:00,  1.03it/s, loss=3.5]\n",
      "Epoch 4/25 [Val]: 100%|██████████| 21/21 [00:37<00:00,  1.79s/it]\n"
     ]
    },
    {
     "name": "stdout",
     "output_type": "stream",
     "text": [
      "Epoch 4/25\n",
      "Train Loss: 1.3840 | Val Loss: 1.3535 | Val MAE: 1.5944\n"
     ]
    },
    {
     "name": "stderr",
     "output_type": "stream",
     "text": [
      "Epoch 5/25 [Train]: 100%|██████████| 166/166 [02:40<00:00,  1.03it/s, loss=0.636]\n",
      "Epoch 5/25 [Val]: 100%|██████████| 21/21 [00:38<00:00,  1.81s/it]\n"
     ]
    },
    {
     "name": "stdout",
     "output_type": "stream",
     "text": [
      "Epoch 5/25\n",
      "Train Loss: 1.2869 | Val Loss: 1.4313 | Val MAE: 1.6573\n"
     ]
    },
    {
     "name": "stderr",
     "output_type": "stream",
     "text": [
      "Epoch 6/25 [Train]: 100%|██████████| 166/166 [02:40<00:00,  1.03it/s, loss=0.807]\n",
      "Epoch 6/25 [Val]: 100%|██████████| 21/21 [00:37<00:00,  1.80s/it]\n"
     ]
    },
    {
     "name": "stdout",
     "output_type": "stream",
     "text": [
      "Epoch 6/25\n",
      "Train Loss: 1.1581 | Val Loss: 1.2793 | Val MAE: 1.5079\n"
     ]
    },
    {
     "name": "stderr",
     "output_type": "stream",
     "text": [
      "Epoch 7/25 [Train]: 100%|██████████| 166/166 [02:39<00:00,  1.04it/s, loss=0.0722]\n",
      "Epoch 7/25 [Val]: 100%|██████████| 21/21 [00:37<00:00,  1.79s/it]\n"
     ]
    },
    {
     "name": "stdout",
     "output_type": "stream",
     "text": [
      "Epoch 7/25\n",
      "Train Loss: 1.0254 | Val Loss: 1.2565 | Val MAE: 1.4766\n"
     ]
    },
    {
     "name": "stderr",
     "output_type": "stream",
     "text": [
      "Epoch 8/25 [Train]: 100%|██████████| 166/166 [02:38<00:00,  1.05it/s, loss=1.42]\n",
      "Epoch 8/25 [Val]: 100%|██████████| 21/21 [00:37<00:00,  1.79s/it]\n"
     ]
    },
    {
     "name": "stdout",
     "output_type": "stream",
     "text": [
      "Epoch 8/25\n",
      "Train Loss: 0.9936 | Val Loss: 1.0564 | Val MAE: 1.2586\n"
     ]
    },
    {
     "name": "stderr",
     "output_type": "stream",
     "text": [
      "Epoch 9/25 [Train]: 100%|██████████| 166/166 [02:41<00:00,  1.03it/s, loss=0.114]\n",
      "Epoch 9/25 [Val]: 100%|██████████| 21/21 [00:37<00:00,  1.81s/it]\n"
     ]
    },
    {
     "name": "stdout",
     "output_type": "stream",
     "text": [
      "Epoch 9/25\n",
      "Train Loss: 0.8882 | Val Loss: 1.0468 | Val MAE: 1.2500\n"
     ]
    },
    {
     "name": "stderr",
     "output_type": "stream",
     "text": [
      "Epoch 10/25 [Train]: 100%|██████████| 166/166 [02:40<00:00,  1.03it/s, loss=0.277]\n",
      "Epoch 10/25 [Val]: 100%|██████████| 21/21 [00:37<00:00,  1.80s/it]\n"
     ]
    },
    {
     "name": "stdout",
     "output_type": "stream",
     "text": [
      "Epoch 10/25\n",
      "Train Loss: 0.8310 | Val Loss: 1.1235 | Val MAE: 1.3255\n"
     ]
    },
    {
     "name": "stderr",
     "output_type": "stream",
     "text": [
      "Epoch 11/25 [Train]: 100%|██████████| 166/166 [02:38<00:00,  1.04it/s, loss=1.09]\n",
      "Epoch 11/25 [Val]: 100%|██████████| 21/21 [00:37<00:00,  1.79s/it]\n"
     ]
    },
    {
     "name": "stdout",
     "output_type": "stream",
     "text": [
      "Epoch 11/25\n",
      "Train Loss: 1.1603 | Val Loss: 1.5997 | Val MAE: 1.8133\n"
     ]
    },
    {
     "name": "stderr",
     "output_type": "stream",
     "text": [
      "Epoch 12/25 [Train]: 100%|██████████| 166/166 [02:39<00:00,  1.04it/s, loss=0.396]\n",
      "Epoch 12/25 [Val]: 100%|██████████| 21/21 [00:37<00:00,  1.78s/it]\n"
     ]
    },
    {
     "name": "stdout",
     "output_type": "stream",
     "text": [
      "Epoch 12/25\n",
      "Train Loss: 1.1464 | Val Loss: 1.3077 | Val MAE: 1.5199\n"
     ]
    },
    {
     "name": "stderr",
     "output_type": "stream",
     "text": [
      "Epoch 13/25 [Train]: 100%|██████████| 166/166 [02:39<00:00,  1.04it/s, loss=0.34]\n",
      "Epoch 13/25 [Val]: 100%|██████████| 21/21 [00:37<00:00,  1.78s/it]\n"
     ]
    },
    {
     "name": "stdout",
     "output_type": "stream",
     "text": [
      "Epoch 13/25\n",
      "Train Loss: 1.1713 | Val Loss: 1.6042 | Val MAE: 1.8192\n"
     ]
    },
    {
     "name": "stderr",
     "output_type": "stream",
     "text": [
      "Epoch 14/25 [Train]: 100%|██████████| 166/166 [02:39<00:00,  1.04it/s, loss=1.06]\n",
      "Epoch 14/25 [Val]: 100%|██████████| 21/21 [00:37<00:00,  1.79s/it]\n"
     ]
    },
    {
     "name": "stdout",
     "output_type": "stream",
     "text": [
      "Epoch 14/25\n",
      "Train Loss: 1.0212 | Val Loss: 1.8216 | Val MAE: 2.0375\n"
     ]
    },
    {
     "name": "stderr",
     "output_type": "stream",
     "text": [
      "Epoch 15/25 [Train]: 100%|██████████| 166/166 [02:40<00:00,  1.04it/s, loss=1.54]\n",
      "Epoch 15/25 [Val]: 100%|██████████| 21/21 [00:38<00:00,  1.82s/it]\n"
     ]
    },
    {
     "name": "stdout",
     "output_type": "stream",
     "text": [
      "Epoch 15/25\n",
      "Train Loss: 1.0527 | Val Loss: 1.3650 | Val MAE: 1.5685\n"
     ]
    },
    {
     "name": "stderr",
     "output_type": "stream",
     "text": [
      "Epoch 16/25 [Train]: 100%|██████████| 166/166 [02:40<00:00,  1.04it/s, loss=5.11]\n",
      "Epoch 16/25 [Val]: 100%|██████████| 21/21 [00:37<00:00,  1.78s/it]\n"
     ]
    },
    {
     "name": "stdout",
     "output_type": "stream",
     "text": [
      "Epoch 16/25\n",
      "Train Loss: 0.9668 | Val Loss: 1.3088 | Val MAE: 1.5056\n"
     ]
    },
    {
     "name": "stderr",
     "output_type": "stream",
     "text": [
      "Epoch 17/25 [Train]: 100%|██████████| 166/166 [02:40<00:00,  1.04it/s, loss=0.113]\n",
      "Epoch 17/25 [Val]: 100%|██████████| 21/21 [00:37<00:00,  1.79s/it]\n"
     ]
    },
    {
     "name": "stdout",
     "output_type": "stream",
     "text": [
      "Epoch 17/25\n",
      "Train Loss: 0.8743 | Val Loss: 1.5216 | Val MAE: 1.7435\n"
     ]
    },
    {
     "name": "stderr",
     "output_type": "stream",
     "text": [
      "Epoch 18/25 [Train]: 100%|██████████| 166/166 [02:40<00:00,  1.04it/s, loss=0.197]\n",
      "Epoch 18/25 [Val]: 100%|██████████| 21/21 [00:37<00:00,  1.79s/it]\n"
     ]
    },
    {
     "name": "stdout",
     "output_type": "stream",
     "text": [
      "Epoch 18/25\n",
      "Train Loss: 0.8906 | Val Loss: 1.8761 | Val MAE: 2.0845\n"
     ]
    },
    {
     "name": "stderr",
     "output_type": "stream",
     "text": [
      "Epoch 19/25 [Train]: 100%|██████████| 166/166 [02:40<00:00,  1.03it/s, loss=0.643]\n",
      "Epoch 19/25 [Val]: 100%|██████████| 21/21 [00:37<00:00,  1.79s/it]\n"
     ]
    },
    {
     "name": "stdout",
     "output_type": "stream",
     "text": [
      "Epoch 19/25\n",
      "Train Loss: 0.8574 | Val Loss: 1.3391 | Val MAE: 1.5441\n"
     ]
    },
    {
     "name": "stderr",
     "output_type": "stream",
     "text": [
      "Epoch 20/25 [Train]: 100%|██████████| 166/166 [02:39<00:00,  1.04it/s, loss=1.06]\n",
      "Epoch 20/25 [Val]: 100%|██████████| 21/21 [00:37<00:00,  1.79s/it]\n"
     ]
    },
    {
     "name": "stdout",
     "output_type": "stream",
     "text": [
      "Epoch 20/25\n",
      "Train Loss: 0.8333 | Val Loss: 1.7178 | Val MAE: 1.9422\n"
     ]
    },
    {
     "name": "stderr",
     "output_type": "stream",
     "text": [
      "Epoch 21/25 [Train]: 100%|██████████| 166/166 [02:39<00:00,  1.04it/s, loss=4]\n",
      "Epoch 21/25 [Val]: 100%|██████████| 21/21 [00:37<00:00,  1.80s/it]\n"
     ]
    },
    {
     "name": "stdout",
     "output_type": "stream",
     "text": [
      "Epoch 21/25\n",
      "Train Loss: 0.7835 | Val Loss: 1.9716 | Val MAE: 2.1812\n"
     ]
    },
    {
     "name": "stderr",
     "output_type": "stream",
     "text": [
      "Epoch 22/25 [Train]: 100%|██████████| 166/166 [02:40<00:00,  1.04it/s, loss=1.52]\n",
      "Epoch 22/25 [Val]: 100%|██████████| 21/21 [00:37<00:00,  1.79s/it]\n"
     ]
    },
    {
     "name": "stdout",
     "output_type": "stream",
     "text": [
      "Epoch 22/25\n",
      "Train Loss: 0.7238 | Val Loss: 2.2705 | Val MAE: 2.4809\n"
     ]
    },
    {
     "name": "stderr",
     "output_type": "stream",
     "text": [
      "Epoch 23/25 [Train]: 100%|██████████| 166/166 [02:39<00:00,  1.04it/s, loss=0.691]\n",
      "Epoch 23/25 [Val]: 100%|██████████| 21/21 [00:38<00:00,  1.82s/it]\n"
     ]
    },
    {
     "name": "stdout",
     "output_type": "stream",
     "text": [
      "Epoch 23/25\n",
      "Train Loss: 0.6318 | Val Loss: 2.7094 | Val MAE: 2.9292\n"
     ]
    },
    {
     "name": "stderr",
     "output_type": "stream",
     "text": [
      "Epoch 24/25 [Train]: 100%|██████████| 166/166 [02:38<00:00,  1.05it/s, loss=0.16]\n",
      "Epoch 24/25 [Val]: 100%|██████████| 21/21 [00:37<00:00,  1.80s/it]\n"
     ]
    },
    {
     "name": "stdout",
     "output_type": "stream",
     "text": [
      "Epoch 24/25\n",
      "Train Loss: 0.5753 | Val Loss: 1.8604 | Val MAE: 2.0732\n"
     ]
    },
    {
     "name": "stderr",
     "output_type": "stream",
     "text": [
      "Epoch 25/25 [Train]: 100%|██████████| 166/166 [02:38<00:00,  1.04it/s, loss=0.785]\n",
      "Epoch 25/25 [Val]: 100%|██████████| 21/21 [00:37<00:00,  1.79s/it]\n"
     ]
    },
    {
     "name": "stdout",
     "output_type": "stream",
     "text": [
      "Epoch 25/25\n",
      "Train Loss: 0.6094 | Val Loss: 1.5377 | Val MAE: 1.7425\n",
      "Training fold 3/3\n"
     ]
    },
    {
     "name": "stderr",
     "output_type": "stream",
     "text": [
      "Epoch 1/25 [Train]: 100%|██████████| 166/166 [02:40<00:00,  1.03it/s, loss=1.08]\n",
      "Epoch 1/25 [Val]: 100%|██████████| 21/21 [00:36<00:00,  1.72s/it]\n"
     ]
    },
    {
     "name": "stdout",
     "output_type": "stream",
     "text": [
      "Epoch 1/25\n",
      "Train Loss: 2.0001 | Val Loss: 2.0299 | Val MAE: 2.2963\n"
     ]
    },
    {
     "name": "stderr",
     "output_type": "stream",
     "text": [
      "Epoch 2/25 [Train]: 100%|██████████| 166/166 [02:40<00:00,  1.04it/s, loss=0.539]\n",
      "Epoch 2/25 [Val]: 100%|██████████| 21/21 [00:36<00:00,  1.75s/it]\n"
     ]
    },
    {
     "name": "stdout",
     "output_type": "stream",
     "text": [
      "Epoch 2/25\n",
      "Train Loss: 1.7280 | Val Loss: 1.9637 | Val MAE: 2.2166\n"
     ]
    },
    {
     "name": "stderr",
     "output_type": "stream",
     "text": [
      "Epoch 3/25 [Train]: 100%|██████████| 166/166 [02:42<00:00,  1.02it/s, loss=13.6]\n",
      "Epoch 3/25 [Val]: 100%|██████████| 21/21 [00:36<00:00,  1.74s/it]\n"
     ]
    },
    {
     "name": "stdout",
     "output_type": "stream",
     "text": [
      "Epoch 3/25\n",
      "Train Loss: 1.5832 | Val Loss: 1.9278 | Val MAE: 2.1648\n"
     ]
    },
    {
     "name": "stderr",
     "output_type": "stream",
     "text": [
      "Epoch 4/25 [Train]: 100%|██████████| 166/166 [02:40<00:00,  1.03it/s, loss=0.752]\n",
      "Epoch 4/25 [Val]: 100%|██████████| 21/21 [00:36<00:00,  1.75s/it]\n"
     ]
    },
    {
     "name": "stdout",
     "output_type": "stream",
     "text": [
      "Epoch 4/25\n",
      "Train Loss: 1.3580 | Val Loss: 1.7440 | Val MAE: 1.9732\n"
     ]
    },
    {
     "name": "stderr",
     "output_type": "stream",
     "text": [
      "Epoch 5/25 [Train]: 100%|██████████| 166/166 [02:41<00:00,  1.03it/s, loss=1.17]\n",
      "Epoch 5/25 [Val]: 100%|██████████| 21/21 [00:36<00:00,  1.76s/it]\n"
     ]
    },
    {
     "name": "stdout",
     "output_type": "stream",
     "text": [
      "Epoch 5/25\n",
      "Train Loss: 1.2222 | Val Loss: 1.7706 | Val MAE: 1.9960\n"
     ]
    },
    {
     "name": "stderr",
     "output_type": "stream",
     "text": [
      "Epoch 6/25 [Train]: 100%|██████████| 166/166 [02:41<00:00,  1.03it/s, loss=17]\n",
      "Epoch 6/25 [Val]: 100%|██████████| 21/21 [00:37<00:00,  1.76s/it]\n"
     ]
    },
    {
     "name": "stdout",
     "output_type": "stream",
     "text": [
      "Epoch 6/25\n",
      "Train Loss: 1.1690 | Val Loss: 1.2475 | Val MAE: 1.4520\n"
     ]
    },
    {
     "name": "stderr",
     "output_type": "stream",
     "text": [
      "Epoch 7/25 [Train]: 100%|██████████| 166/166 [02:41<00:00,  1.03it/s, loss=0.446]\n",
      "Epoch 7/25 [Val]: 100%|██████████| 21/21 [00:36<00:00,  1.76s/it]\n"
     ]
    },
    {
     "name": "stdout",
     "output_type": "stream",
     "text": [
      "Epoch 7/25\n",
      "Train Loss: 1.0543 | Val Loss: 1.5295 | Val MAE: 1.7568\n"
     ]
    },
    {
     "name": "stderr",
     "output_type": "stream",
     "text": [
      "Epoch 8/25 [Train]: 100%|██████████| 166/166 [02:43<00:00,  1.02it/s, loss=0.317]\n",
      "Epoch 8/25 [Val]: 100%|██████████| 21/21 [00:37<00:00,  1.78s/it]\n"
     ]
    },
    {
     "name": "stdout",
     "output_type": "stream",
     "text": [
      "Epoch 8/25\n",
      "Train Loss: 0.8175 | Val Loss: 1.3629 | Val MAE: 1.5738\n"
     ]
    },
    {
     "name": "stderr",
     "output_type": "stream",
     "text": [
      "Epoch 9/25 [Train]: 100%|██████████| 166/166 [02:42<00:00,  1.02it/s, loss=0.957]\n",
      "Epoch 9/25 [Val]: 100%|██████████| 21/21 [00:37<00:00,  1.76s/it]\n"
     ]
    },
    {
     "name": "stdout",
     "output_type": "stream",
     "text": [
      "Epoch 9/25\n",
      "Train Loss: 0.8436 | Val Loss: 1.2529 | Val MAE: 1.4616\n"
     ]
    },
    {
     "name": "stderr",
     "output_type": "stream",
     "text": [
      "Epoch 10/25 [Train]: 100%|██████████| 166/166 [02:43<00:00,  1.02it/s, loss=0.424]\n",
      "Epoch 10/25 [Val]: 100%|██████████| 21/21 [00:37<00:00,  1.79s/it]\n"
     ]
    },
    {
     "name": "stdout",
     "output_type": "stream",
     "text": [
      "Epoch 10/25\n",
      "Train Loss: 0.8074 | Val Loss: 1.2781 | Val MAE: 1.4850\n"
     ]
    },
    {
     "name": "stderr",
     "output_type": "stream",
     "text": [
      "Epoch 11/25 [Train]: 100%|██████████| 166/166 [02:44<00:00,  1.01it/s, loss=0.189]\n",
      "Epoch 11/25 [Val]: 100%|██████████| 21/21 [00:37<00:00,  1.79s/it]\n"
     ]
    },
    {
     "name": "stdout",
     "output_type": "stream",
     "text": [
      "Epoch 11/25\n",
      "Train Loss: 1.0014 | Val Loss: 1.4729 | Val MAE: 1.6824\n"
     ]
    },
    {
     "name": "stderr",
     "output_type": "stream",
     "text": [
      "Epoch 12/25 [Train]: 100%|██████████| 166/166 [02:44<00:00,  1.01it/s, loss=0.918]\n",
      "Epoch 12/25 [Val]: 100%|██████████| 21/21 [00:37<00:00,  1.78s/it]\n"
     ]
    },
    {
     "name": "stdout",
     "output_type": "stream",
     "text": [
      "Epoch 12/25\n",
      "Train Loss: 1.2621 | Val Loss: 1.5828 | Val MAE: 1.7920\n"
     ]
    },
    {
     "name": "stderr",
     "output_type": "stream",
     "text": [
      "Epoch 13/25 [Train]: 100%|██████████| 166/166 [02:43<00:00,  1.02it/s, loss=0.497]\n",
      "Epoch 13/25 [Val]: 100%|██████████| 21/21 [00:37<00:00,  1.79s/it]\n"
     ]
    },
    {
     "name": "stdout",
     "output_type": "stream",
     "text": [
      "Epoch 13/25\n",
      "Train Loss: 1.0166 | Val Loss: 1.5554 | Val MAE: 1.7678\n"
     ]
    },
    {
     "name": "stderr",
     "output_type": "stream",
     "text": [
      "Epoch 14/25 [Train]: 100%|██████████| 166/166 [02:44<00:00,  1.01it/s, loss=0.431]\n",
      "Epoch 14/25 [Val]: 100%|██████████| 21/21 [00:37<00:00,  1.78s/it]\n"
     ]
    },
    {
     "name": "stdout",
     "output_type": "stream",
     "text": [
      "Epoch 14/25\n",
      "Train Loss: 1.0030 | Val Loss: 1.2790 | Val MAE: 1.4859\n"
     ]
    },
    {
     "name": "stderr",
     "output_type": "stream",
     "text": [
      "Epoch 15/25 [Train]: 100%|██████████| 166/166 [02:44<00:00,  1.01it/s, loss=4.19]\n",
      "Epoch 15/25 [Val]: 100%|██████████| 21/21 [00:36<00:00,  1.76s/it]\n"
     ]
    },
    {
     "name": "stdout",
     "output_type": "stream",
     "text": [
      "Epoch 15/25\n",
      "Train Loss: 0.8817 | Val Loss: 1.5370 | Val MAE: 1.7415\n"
     ]
    },
    {
     "name": "stderr",
     "output_type": "stream",
     "text": [
      "Epoch 16/25 [Train]: 100%|██████████| 166/166 [02:45<00:00,  1.01it/s, loss=0.205]\n",
      "Epoch 16/25 [Val]: 100%|██████████| 21/21 [00:37<00:00,  1.79s/it]\n"
     ]
    },
    {
     "name": "stdout",
     "output_type": "stream",
     "text": [
      "Epoch 16/25\n",
      "Train Loss: 0.9125 | Val Loss: 1.1528 | Val MAE: 1.3913\n"
     ]
    },
    {
     "name": "stderr",
     "output_type": "stream",
     "text": [
      "Epoch 17/25 [Train]: 100%|██████████| 166/166 [02:45<00:00,  1.00it/s, loss=0.294]\n",
      "Epoch 17/25 [Val]: 100%|██████████| 21/21 [00:37<00:00,  1.81s/it]\n"
     ]
    },
    {
     "name": "stdout",
     "output_type": "stream",
     "text": [
      "Epoch 17/25\n",
      "Train Loss: 0.8350 | Val Loss: 1.2066 | Val MAE: 1.4103\n"
     ]
    },
    {
     "name": "stderr",
     "output_type": "stream",
     "text": [
      "Epoch 18/25 [Train]: 100%|██████████| 166/166 [02:45<00:00,  1.00it/s, loss=0.0679]\n",
      "Epoch 18/25 [Val]: 100%|██████████| 21/21 [00:38<00:00,  1.82s/it]\n"
     ]
    },
    {
     "name": "stdout",
     "output_type": "stream",
     "text": [
      "Epoch 18/25\n",
      "Train Loss: 0.8104 | Val Loss: 1.2708 | Val MAE: 1.4768\n"
     ]
    },
    {
     "name": "stderr",
     "output_type": "stream",
     "text": [
      "Epoch 19/25 [Train]: 100%|██████████| 166/166 [02:45<00:00,  1.00it/s, loss=0.281]\n",
      "Epoch 19/25 [Val]: 100%|██████████| 21/21 [00:37<00:00,  1.78s/it]\n"
     ]
    },
    {
     "name": "stdout",
     "output_type": "stream",
     "text": [
      "Epoch 19/25\n",
      "Train Loss: 0.8436 | Val Loss: 1.2206 | Val MAE: 1.4301\n"
     ]
    },
    {
     "name": "stderr",
     "output_type": "stream",
     "text": [
      "Epoch 20/25 [Train]: 100%|██████████| 166/166 [02:43<00:00,  1.01it/s, loss=0.0365]\n",
      "Epoch 20/25 [Val]: 100%|██████████| 21/21 [00:37<00:00,  1.79s/it]\n"
     ]
    },
    {
     "name": "stdout",
     "output_type": "stream",
     "text": [
      "Epoch 20/25\n",
      "Train Loss: 0.6385 | Val Loss: 1.2553 | Val MAE: 1.4496\n"
     ]
    },
    {
     "name": "stderr",
     "output_type": "stream",
     "text": [
      "Epoch 21/25 [Train]: 100%|██████████| 166/166 [02:44<00:00,  1.01it/s, loss=4.65]\n",
      "Epoch 21/25 [Val]: 100%|██████████| 21/21 [00:36<00:00,  1.74s/it]\n"
     ]
    },
    {
     "name": "stdout",
     "output_type": "stream",
     "text": [
      "Epoch 21/25\n",
      "Train Loss: 0.6970 | Val Loss: 1.2753 | Val MAE: 1.4822\n"
     ]
    },
    {
     "name": "stderr",
     "output_type": "stream",
     "text": [
      "Epoch 22/25 [Train]: 100%|██████████| 166/166 [02:42<00:00,  1.02it/s, loss=0.113]\n",
      "Epoch 22/25 [Val]: 100%|██████████| 21/21 [00:37<00:00,  1.76s/it]\n"
     ]
    },
    {
     "name": "stdout",
     "output_type": "stream",
     "text": [
      "Epoch 22/25\n",
      "Train Loss: 0.6136 | Val Loss: 1.2260 | Val MAE: 1.4343\n"
     ]
    },
    {
     "name": "stderr",
     "output_type": "stream",
     "text": [
      "Epoch 23/25 [Train]: 100%|██████████| 166/166 [02:43<00:00,  1.02it/s, loss=0.244]\n",
      "Epoch 23/25 [Val]: 100%|██████████| 21/21 [00:37<00:00,  1.80s/it]\n"
     ]
    },
    {
     "name": "stdout",
     "output_type": "stream",
     "text": [
      "Epoch 23/25\n",
      "Train Loss: 0.5841 | Val Loss: 1.1667 | Val MAE: 1.3665\n"
     ]
    },
    {
     "name": "stderr",
     "output_type": "stream",
     "text": [
      "Epoch 24/25 [Train]: 100%|██████████| 166/166 [02:41<00:00,  1.03it/s, loss=0.139]\n",
      "Epoch 24/25 [Val]: 100%|██████████| 21/21 [00:36<00:00,  1.74s/it]\n"
     ]
    },
    {
     "name": "stdout",
     "output_type": "stream",
     "text": [
      "Epoch 24/25\n",
      "Train Loss: 0.5500 | Val Loss: 1.1449 | Val MAE: 1.3418\n"
     ]
    },
    {
     "name": "stderr",
     "output_type": "stream",
     "text": [
      "Epoch 25/25 [Train]: 100%|██████████| 166/166 [02:41<00:00,  1.03it/s, loss=0.153]\n",
      "Epoch 25/25 [Val]: 100%|██████████| 21/21 [00:37<00:00,  1.78s/it]\n"
     ]
    },
    {
     "name": "stdout",
     "output_type": "stream",
     "text": [
      "Epoch 25/25\n",
      "Train Loss: 0.5151 | Val Loss: 1.1893 | Val MAE: 1.3877\n"
     ]
    },
    {
     "name": "stderr",
     "output_type": "stream",
     "text": [
      "Inference: 100%|██████████| 18/18 [01:11<00:00,  3.98s/it]\n",
      "Inference: 100%|██████████| 18/18 [01:06<00:00,  3.69s/it]\n",
      "Inference: 100%|██████████| 18/18 [01:05<00:00,  3.65s/it]"
     ]
    },
    {
     "name": "stdout",
     "output_type": "stream",
     "text": [
      "Submissions saved with shapes: (2214, 2) (2214, 2)\n"
     ]
    },
    {
     "name": "stderr",
     "output_type": "stream",
     "text": [
      "\n"
     ]
    }
   ],
   "source": [
    "# -*- coding: utf-8 -*-\n",
    "import os\n",
    "import timm\n",
    "import torch\n",
    "import torch.nn as nn\n",
    "import torch.optim as optim\n",
    "import albumentations as A\n",
    "from albumentations.pytorch import ToTensorV2\n",
    "from torch.utils.data import Dataset, DataLoader\n",
    "import pandas as pd\n",
    "import cv2\n",
    "from sklearn.model_selection import KFold\n",
    "import numpy as np\n",
    "from tqdm import tqdm\n",
    "from torch.amp import autocast, GradScaler  # Fixed import\n",
    "from sklearn.metrics import mean_absolute_error\n",
    "\n",
    "# Fixed Albumentations version warning\n",
    "os.environ['NO_ALBUMENTATIONS_UPDATE'] = '1'\n",
    "\n",
    "# Enhanced Dataset with Metadata\n",
    "class SolarPanelDataset(Dataset):\n",
    "    def __init__(self, dataframe, transform=None, to_train=True):\n",
    "        self.dataframe = dataframe\n",
    "        self.transform = transform\n",
    "        self.to_train = to_train\n",
    "        self.placement_map = {\"roof\": 0, \"openspace\": 1, \"r_openspace\": 2, \"S-unknown\": 3}\n",
    "\n",
    "    def __len__(self):\n",
    "        return len(self.dataframe)\n",
    "\n",
    "    def __getitem__(self, idx):\n",
    "        row = self.dataframe.iloc[idx]\n",
    "        image = cv2.imread(row[\"path\"])\n",
    "        image = cv2.cvtColor(image, cv2.COLOR_BGR2RGB)  # Correct color conversion\n",
    "\n",
    "        # Improved metadata encoding\n",
    "        metadata = torch.zeros(5)\n",
    "        metadata[0] = 1.0 if row[\"img_origin\"] == \"D\" else 0.0\n",
    "        placement = self.placement_map.get(row[\"placement\"], 3)\n",
    "        metadata[1 + placement] = 1.0  # One-hot encoding\n",
    "\n",
    "        if self.transform:\n",
    "            image = self.transform(image=image)['image']\n",
    "\n",
    "        if self.to_train:\n",
    "            target = torch.tensor([row[\"boil_nbr\"], row[\"pan_nbr\"]], dtype=torch.float32)\n",
    "            return image, metadata, target\n",
    "        return image, metadata\n",
    "\n",
    "# Enhanced Model with Metadata\n",
    "class EfficientNetV2Meta(nn.Module):\n",
    "    def __init__(self):\n",
    "        super().__init__()\n",
    "        self.backbone = timm.create_model(\"tf_efficientnetv2_b3\", pretrained=True, num_classes=0)  # Larger backbone\n",
    "        self.meta_processor = nn.Sequential(\n",
    "            nn.Linear(5, 128),\n",
    "            nn.LayerNorm(128),\n",
    "            nn.ReLU(),\n",
    "            nn.Dropout(0.3),\n",
    "            nn.Linear(128, 64)\n",
    "        )\n",
    "        self.attention = nn.MultiheadAttention(embed_dim=64, num_heads=4)\n",
    "        self.regressor = nn.Sequential(\n",
    "            nn.Linear(self.backbone.num_features + 64, 512),\n",
    "            nn.ReLU(),\n",
    "            nn.Dropout(0.2),\n",
    "            nn.Linear(512, 2),\n",
    "            nn.Softplus()  # Better for count predictions\n",
    "        )\n",
    "\n",
    "    def forward(self, image, metadata):\n",
    "        img_features = self.backbone(image)\n",
    "        meta_features = self.meta_processor(metadata.unsqueeze(0))\n",
    "        attn_output, _ = self.attention(meta_features, meta_features, meta_features)\n",
    "        combined = torch.cat([img_features, attn_output.squeeze(0)], dim=1)\n",
    "        return self.regressor(combined)\n",
    "\n",
    "# Advanced Augmentation\n",
    "train_transform = A.Compose([\n",
    "    A.RandomResizedCrop(512, 512, scale=(0.7, 1.0)),\n",
    "    A.HorizontalFlip(p=0.5),\n",
    "    A.VerticalFlip(p=0.5),\n",
    "    A.RandomRotate90(p=0.5),\n",
    "    A.GaussianBlur(blur_limit=(3, 7), p=0.3),\n",
    "    A.CLAHE(clip_limit=4.0, p=0.5),\n",
    "    A.HueSaturationValue(p=0.3),\n",
    "    A.Normalize(mean=(0.485, 0.456, 0.406), std=(0.229, 0.224, 0.225)),\n",
    "    ToTensorV2()\n",
    "])\n",
    "\n",
    "test_transform = A.Compose([\n",
    "    A.Resize(512, 512),\n",
    "    A.Normalize(mean=(0.485, 0.456, 0.406), std=(0.229, 0.224, 0.225)),\n",
    "    ToTensorV2()\n",
    "])\n",
    "\n",
    "# Training Configuration\n",
    "def train(fold=0, epochs=20, batch_size=16):\n",
    "    train_df = pd.read_csv(\"/kaggle/input/lacuna-solar-survey-challenge/Train.csv\")\n",
    "    train_df = train_df.groupby(\"ID\").agg({\n",
    "        \"boil_nbr\": \"sum\",\n",
    "        \"pan_nbr\": \"sum\",\n",
    "        \"img_origin\": \"first\",\n",
    "        \"placement\": \"first\"\n",
    "    }).reset_index()\n",
    "    train_df[\"path\"] = \"/kaggle/input/lacuna-solar-survey-challenge/images/\" + train_df[\"ID\"] + \".jpg\"\n",
    "\n",
    "    kf = KFold(n_splits=5, shuffle=True, random_state=42)\n",
    "    splits = list(kf.split(train_df))\n",
    "    train_idx, val_idx = splits[fold]\n",
    "\n",
    "    train_ds = SolarPanelDataset(train_df.iloc[train_idx], transform=train_transform)\n",
    "    val_ds = SolarPanelDataset(train_df.iloc[val_idx], transform=test_transform)\n",
    "\n",
    "    train_loader = DataLoader(train_ds, batch_size=batch_size, \n",
    "                             shuffle=True, num_workers=4, pin_memory=True)\n",
    "    val_loader = DataLoader(val_ds, batch_size=batch_size*2, \n",
    "                           shuffle=False, num_workers=4, pin_memory=True)\n",
    "\n",
    "    model = EfficientNetV2Meta().cuda()\n",
    "    criterion = nn.HuberLoss(delta=1.0)  # Improved loss function\n",
    "    optimizer = optim.AdamW(model.parameters(), lr=1e-4, weight_decay=1e-4)\n",
    "    scheduler = optim.lr_scheduler.CosineAnnealingWarmRestarts(optimizer, T_0=10, T_mult=2)\n",
    "    scaler = GradScaler()\n",
    "\n",
    "    best_mae = float('inf')\n",
    "    for epoch in range(epochs):\n",
    "        # Training loop\n",
    "        model.train()\n",
    "        train_loss = 0.0\n",
    "        pbar = tqdm(train_loader, desc=f\"Epoch {epoch+1}/{epochs} [Train]\")\n",
    "        for images, meta, targets in pbar:\n",
    "            images = images.cuda(non_blocking=True)\n",
    "            meta = meta.cuda(non_blocking=True)\n",
    "            targets = targets.cuda(non_blocking=True)\n",
    "            \n",
    "            optimizer.zero_grad()\n",
    "            with autocast(device_type='cuda'):\n",
    "                outputs = model(images, meta)\n",
    "                loss = criterion(outputs, targets)\n",
    "            scaler.scale(loss).backward()\n",
    "            scaler.step(optimizer)\n",
    "            scaler.update()\n",
    "            \n",
    "            train_loss += loss.item()\n",
    "            pbar.set_postfix(loss=loss.item())\n",
    "        \n",
    "        # Validation loop\n",
    "        model.eval()\n",
    "        val_loss = 0.0\n",
    "        preds, truths = [], []\n",
    "        with torch.no_grad():\n",
    "            for images, meta, targets in tqdm(val_loader, desc=f\"Epoch {epoch+1}/{epochs} [Val]\"):\n",
    "                images = images.cuda(non_blocking=True)\n",
    "                meta = meta.cuda(non_blocking=True)\n",
    "                targets = targets.cuda(non_blocking=True)\n",
    "                \n",
    "                with autocast(device_type='cuda'):\n",
    "                    outputs = model(images, meta)\n",
    "                    loss = criterion(outputs, targets)\n",
    "                \n",
    "                val_loss += loss.item()\n",
    "                preds.append(outputs.cpu().numpy())\n",
    "                truths.append(targets.cpu().numpy())\n",
    "        \n",
    "        # Metrics calculation\n",
    "        train_loss /= len(train_loader)\n",
    "        val_loss /= len(val_loader)\n",
    "        preds = np.concatenate(preds)\n",
    "        truths = np.concatenate(truths)\n",
    "        mae = mean_absolute_error(truths, preds)\n",
    "        \n",
    "        print(f\"Epoch {epoch+1}/{epochs}\")\n",
    "        print(f\"Train Loss: {train_loss:.4f} | Val Loss: {val_loss:.4f} | Val MAE: {mae:.4f}\")\n",
    "        \n",
    "        # Model checkpointing based on MAE\n",
    "        if mae < best_mae:\n",
    "            best_mae = mae\n",
    "            torch.save(model.state_dict(), f\"best_model_fold{fold}.pth\")\n",
    "        \n",
    "        scheduler.step()\n",
    "    \n",
    "    return best_mae\n",
    "\n",
    "# Inference with TTA\n",
    "def predict(test_df, model_paths, batch_size=32):\n",
    "    test_df[\"path\"] = \"/kaggle/input/lacuna-solar-survey-challenge/images/\" + test_df[\"ID\"] + \".jpg\"\n",
    "    test_ds = SolarPanelDataset(test_df, transform=test_transform, to_train=False)\n",
    "    test_loader = DataLoader(test_ds, batch_size=batch_size, shuffle=False, num_workers=4)\n",
    "    \n",
    "    predictions = np.zeros((len(test_df), 2))\n",
    "    for path in model_paths:\n",
    "        model = EfficientNetV2Meta().cuda()\n",
    "        model.load_state_dict(torch.load(path, weights_only=True))  # Safer loading\n",
    "        model.eval()\n",
    "        \n",
    "        tta_preds = []\n",
    "        with torch.no_grad():\n",
    "            for images, meta in tqdm(test_loader, desc=\"Inference\"):\n",
    "                images = images.cuda()\n",
    "                meta = meta.cuda()\n",
    "                with autocast(device_type='cuda'):\n",
    "                    outputs = model(images, meta)\n",
    "                tta_preds.append(outputs.cpu().numpy())\n",
    "        \n",
    "        predictions += np.concatenate(tta_preds)\n",
    "    \n",
    "    return predictions / len(model_paths)\n",
    "\n",
    "# Main Execution\n",
    "if __name__ == \"__main__\":\n",
    "    # Train multiple folds\n",
    "    folds = 3\n",
    "    model_paths = []\n",
    "    for fold in range(folds):\n",
    "        print(f\"Training fold {fold+1}/{folds}\")\n",
    "        best_mae = train(fold=fold, epochs=25, batch_size=16)\n",
    "        model_paths.append(f\"best_model_fold{fold}.pth\")\n",
    "    \n",
    "    # Prepare submission\n",
    "    test_df = pd.read_csv(\"/kaggle/input/lacuna-solar-survey-challenge/Test.csv\")\n",
    "    predictions = predict(test_df, model_paths, batch_size=64)\n",
    "    \n",
    "    # Create submissions\n",
    "    submission = pd.DataFrame({\n",
    "        \"ID\": np.repeat(test_df[\"ID\"].values, 2),\n",
    "        \"Target\": predictions.flatten()\n",
    "    })\n",
    "    submission[\"ID\"] += np.where(\n",
    "        submission.groupby(\"ID\").cumcount() == 0,\n",
    "        \"_boil\",\n",
    "        \"_pan\"\n",
    "    )\n",
    "    submission.to_csv(\"submission_original.csv\", index=False)\n",
    "    \n",
    "    int_submission = submission.copy()\n",
    "    int_submission[\"Target\"] = np.round(int_submission[\"Target\"]).astype(int)\n",
    "    int_submission.to_csv(\"submission_integer.csv\", index=False)\n",
    "    \n",
    "    print(\"Submissions saved with shapes:\", submission.shape, int_submission.shape)"
   ]
  }
 ],
 "metadata": {
  "accelerator": "GPU",
  "colab": {
   "gpuType": "T4",
   "provenance": []
  },
  "kaggle": {
   "accelerator": "nvidiaTeslaT4",
   "dataSources": [
    {
     "datasetId": 6691299,
     "sourceId": 10783793,
     "sourceType": "datasetVersion"
    }
   ],
   "dockerImageVersionId": 30919,
   "isGpuEnabled": true,
   "isInternetEnabled": true,
   "language": "python",
   "sourceType": "notebook"
  },
  "kernelspec": {
   "display_name": "Python 3",
   "language": "python",
   "name": "python3"
  },
  "language_info": {
   "codemirror_mode": {
    "name": "ipython",
    "version": 3
   },
   "file_extension": ".py",
   "mimetype": "text/x-python",
   "name": "python",
   "nbconvert_exporter": "python",
   "pygments_lexer": "ipython3",
   "version": "3.10.12"
  },
  "papermill": {
   "default_parameters": {},
   "duration": 15137.612681,
   "end_time": "2025-03-23T02:27:45.107229",
   "environment_variables": {},
   "exception": null,
   "input_path": "__notebook__.ipynb",
   "output_path": "__notebook__.ipynb",
   "parameters": {},
   "start_time": "2025-03-22T22:15:27.494548",
   "version": "2.6.0"
  },
  "widgets": {
   "application/vnd.jupyter.widget-state+json": {
    "state": {
     "15341d6586ea43d99fac55cd15719a7b": {
      "model_module": "@jupyter-widgets/controls",
      "model_module_version": "2.0.0",
      "model_name": "FloatProgressModel",
      "state": {
       "_dom_classes": [],
       "_model_module": "@jupyter-widgets/controls",
       "_model_module_version": "2.0.0",
       "_model_name": "FloatProgressModel",
       "_view_count": null,
       "_view_module": "@jupyter-widgets/controls",
       "_view_module_version": "2.0.0",
       "_view_name": "ProgressView",
       "bar_style": "success",
       "description": "",
       "description_allow_html": false,
       "layout": "IPY_MODEL_349a3dd7f39a4a58b8a4ce2b4de302d6",
       "max": 57929264,
       "min": 0,
       "orientation": "horizontal",
       "style": "IPY_MODEL_b115ea943fb74b288fa8698b53ede8ee",
       "tabbable": null,
       "tooltip": null,
       "value": 57929264
      }
     },
     "196143015fde4277b0a4fe237c7a5cee": {
      "model_module": "@jupyter-widgets/controls",
      "model_module_version": "2.0.0",
      "model_name": "HBoxModel",
      "state": {
       "_dom_classes": [],
       "_model_module": "@jupyter-widgets/controls",
       "_model_module_version": "2.0.0",
       "_model_name": "HBoxModel",
       "_view_count": null,
       "_view_module": "@jupyter-widgets/controls",
       "_view_module_version": "2.0.0",
       "_view_name": "HBoxView",
       "box_style": "",
       "children": [
        "IPY_MODEL_d8f3d6614cb24c39adfa5861806b3de8",
        "IPY_MODEL_15341d6586ea43d99fac55cd15719a7b",
        "IPY_MODEL_870b0b826a66444b88026f1a68b48a4f"
       ],
       "layout": "IPY_MODEL_68f2453a23e14526b9469b88611ba386",
       "tabbable": null,
       "tooltip": null
      }
     },
     "19e448c09f5e4126aab8f5981d871e95": {
      "model_module": "@jupyter-widgets/base",
      "model_module_version": "2.0.0",
      "model_name": "LayoutModel",
      "state": {
       "_model_module": "@jupyter-widgets/base",
       "_model_module_version": "2.0.0",
       "_model_name": "LayoutModel",
       "_view_count": null,
       "_view_module": "@jupyter-widgets/base",
       "_view_module_version": "2.0.0",
       "_view_name": "LayoutView",
       "align_content": null,
       "align_items": null,
       "align_self": null,
       "border_bottom": null,
       "border_left": null,
       "border_right": null,
       "border_top": null,
       "bottom": null,
       "display": null,
       "flex": null,
       "flex_flow": null,
       "grid_area": null,
       "grid_auto_columns": null,
       "grid_auto_flow": null,
       "grid_auto_rows": null,
       "grid_column": null,
       "grid_gap": null,
       "grid_row": null,
       "grid_template_areas": null,
       "grid_template_columns": null,
       "grid_template_rows": null,
       "height": null,
       "justify_content": null,
       "justify_items": null,
       "left": null,
       "margin": null,
       "max_height": null,
       "max_width": null,
       "min_height": null,
       "min_width": null,
       "object_fit": null,
       "object_position": null,
       "order": null,
       "overflow": null,
       "padding": null,
       "right": null,
       "top": null,
       "visibility": null,
       "width": null
      }
     },
     "200e3f80bfe64beb9b3f8aabed2f3a39": {
      "model_module": "@jupyter-widgets/controls",
      "model_module_version": "2.0.0",
      "model_name": "HTMLStyleModel",
      "state": {
       "_model_module": "@jupyter-widgets/controls",
       "_model_module_version": "2.0.0",
       "_model_name": "HTMLStyleModel",
       "_view_count": null,
       "_view_module": "@jupyter-widgets/base",
       "_view_module_version": "2.0.0",
       "_view_name": "StyleView",
       "background": null,
       "description_width": "",
       "font_size": null,
       "text_color": null
      }
     },
     "349a3dd7f39a4a58b8a4ce2b4de302d6": {
      "model_module": "@jupyter-widgets/base",
      "model_module_version": "2.0.0",
      "model_name": "LayoutModel",
      "state": {
       "_model_module": "@jupyter-widgets/base",
       "_model_module_version": "2.0.0",
       "_model_name": "LayoutModel",
       "_view_count": null,
       "_view_module": "@jupyter-widgets/base",
       "_view_module_version": "2.0.0",
       "_view_name": "LayoutView",
       "align_content": null,
       "align_items": null,
       "align_self": null,
       "border_bottom": null,
       "border_left": null,
       "border_right": null,
       "border_top": null,
       "bottom": null,
       "display": null,
       "flex": null,
       "flex_flow": null,
       "grid_area": null,
       "grid_auto_columns": null,
       "grid_auto_flow": null,
       "grid_auto_rows": null,
       "grid_column": null,
       "grid_gap": null,
       "grid_row": null,
       "grid_template_areas": null,
       "grid_template_columns": null,
       "grid_template_rows": null,
       "height": null,
       "justify_content": null,
       "justify_items": null,
       "left": null,
       "margin": null,
       "max_height": null,
       "max_width": null,
       "min_height": null,
       "min_width": null,
       "object_fit": null,
       "object_position": null,
       "order": null,
       "overflow": null,
       "padding": null,
       "right": null,
       "top": null,
       "visibility": null,
       "width": null
      }
     },
     "68f2453a23e14526b9469b88611ba386": {
      "model_module": "@jupyter-widgets/base",
      "model_module_version": "2.0.0",
      "model_name": "LayoutModel",
      "state": {
       "_model_module": "@jupyter-widgets/base",
       "_model_module_version": "2.0.0",
       "_model_name": "LayoutModel",
       "_view_count": null,
       "_view_module": "@jupyter-widgets/base",
       "_view_module_version": "2.0.0",
       "_view_name": "LayoutView",
       "align_content": null,
       "align_items": null,
       "align_self": null,
       "border_bottom": null,
       "border_left": null,
       "border_right": null,
       "border_top": null,
       "bottom": null,
       "display": null,
       "flex": null,
       "flex_flow": null,
       "grid_area": null,
       "grid_auto_columns": null,
       "grid_auto_flow": null,
       "grid_auto_rows": null,
       "grid_column": null,
       "grid_gap": null,
       "grid_row": null,
       "grid_template_areas": null,
       "grid_template_columns": null,
       "grid_template_rows": null,
       "height": null,
       "justify_content": null,
       "justify_items": null,
       "left": null,
       "margin": null,
       "max_height": null,
       "max_width": null,
       "min_height": null,
       "min_width": null,
       "object_fit": null,
       "object_position": null,
       "order": null,
       "overflow": null,
       "padding": null,
       "right": null,
       "top": null,
       "visibility": null,
       "width": null
      }
     },
     "85e272c24bb74332b8b0d3c50bf32c85": {
      "model_module": "@jupyter-widgets/controls",
      "model_module_version": "2.0.0",
      "model_name": "HTMLStyleModel",
      "state": {
       "_model_module": "@jupyter-widgets/controls",
       "_model_module_version": "2.0.0",
       "_model_name": "HTMLStyleModel",
       "_view_count": null,
       "_view_module": "@jupyter-widgets/base",
       "_view_module_version": "2.0.0",
       "_view_name": "StyleView",
       "background": null,
       "description_width": "",
       "font_size": null,
       "text_color": null
      }
     },
     "870b0b826a66444b88026f1a68b48a4f": {
      "model_module": "@jupyter-widgets/controls",
      "model_module_version": "2.0.0",
      "model_name": "HTMLModel",
      "state": {
       "_dom_classes": [],
       "_model_module": "@jupyter-widgets/controls",
       "_model_module_version": "2.0.0",
       "_model_name": "HTMLModel",
       "_view_count": null,
       "_view_module": "@jupyter-widgets/controls",
       "_view_module_version": "2.0.0",
       "_view_name": "HTMLView",
       "description": "",
       "description_allow_html": false,
       "layout": "IPY_MODEL_19e448c09f5e4126aab8f5981d871e95",
       "placeholder": "​",
       "style": "IPY_MODEL_85e272c24bb74332b8b0d3c50bf32c85",
       "tabbable": null,
       "tooltip": null,
       "value": " 57.9M/57.9M [00:00&lt;00:00, 180MB/s]"
      }
     },
     "b115ea943fb74b288fa8698b53ede8ee": {
      "model_module": "@jupyter-widgets/controls",
      "model_module_version": "2.0.0",
      "model_name": "ProgressStyleModel",
      "state": {
       "_model_module": "@jupyter-widgets/controls",
       "_model_module_version": "2.0.0",
       "_model_name": "ProgressStyleModel",
       "_view_count": null,
       "_view_module": "@jupyter-widgets/base",
       "_view_module_version": "2.0.0",
       "_view_name": "StyleView",
       "bar_color": null,
       "description_width": ""
      }
     },
     "c42c6645d33b40189ce1171bea8c6ccb": {
      "model_module": "@jupyter-widgets/base",
      "model_module_version": "2.0.0",
      "model_name": "LayoutModel",
      "state": {
       "_model_module": "@jupyter-widgets/base",
       "_model_module_version": "2.0.0",
       "_model_name": "LayoutModel",
       "_view_count": null,
       "_view_module": "@jupyter-widgets/base",
       "_view_module_version": "2.0.0",
       "_view_name": "LayoutView",
       "align_content": null,
       "align_items": null,
       "align_self": null,
       "border_bottom": null,
       "border_left": null,
       "border_right": null,
       "border_top": null,
       "bottom": null,
       "display": null,
       "flex": null,
       "flex_flow": null,
       "grid_area": null,
       "grid_auto_columns": null,
       "grid_auto_flow": null,
       "grid_auto_rows": null,
       "grid_column": null,
       "grid_gap": null,
       "grid_row": null,
       "grid_template_areas": null,
       "grid_template_columns": null,
       "grid_template_rows": null,
       "height": null,
       "justify_content": null,
       "justify_items": null,
       "left": null,
       "margin": null,
       "max_height": null,
       "max_width": null,
       "min_height": null,
       "min_width": null,
       "object_fit": null,
       "object_position": null,
       "order": null,
       "overflow": null,
       "padding": null,
       "right": null,
       "top": null,
       "visibility": null,
       "width": null
      }
     },
     "d8f3d6614cb24c39adfa5861806b3de8": {
      "model_module": "@jupyter-widgets/controls",
      "model_module_version": "2.0.0",
      "model_name": "HTMLModel",
      "state": {
       "_dom_classes": [],
       "_model_module": "@jupyter-widgets/controls",
       "_model_module_version": "2.0.0",
       "_model_name": "HTMLModel",
       "_view_count": null,
       "_view_module": "@jupyter-widgets/controls",
       "_view_module_version": "2.0.0",
       "_view_name": "HTMLView",
       "description": "",
       "description_allow_html": false,
       "layout": "IPY_MODEL_c42c6645d33b40189ce1171bea8c6ccb",
       "placeholder": "​",
       "style": "IPY_MODEL_200e3f80bfe64beb9b3f8aabed2f3a39",
       "tabbable": null,
       "tooltip": null,
       "value": "model.safetensors: 100%"
      }
     }
    },
    "version_major": 2,
    "version_minor": 0
   }
  }
 },
 "nbformat": 4,
 "nbformat_minor": 5
}
