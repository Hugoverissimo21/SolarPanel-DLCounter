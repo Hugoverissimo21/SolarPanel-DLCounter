{
 "cells": [
  {
   "cell_type": "markdown",
   "metadata": {},
   "source": [
    "# preparacao do dataset: dados para treino e validacao"
   ]
  },
  {
   "cell_type": "code",
   "execution_count": 1,
   "metadata": {},
   "outputs": [],
   "source": [
    "import cv2\n",
    "from torch.utils.data import Dataset\n",
    "import torchvision.transforms as T\n",
    "from PIL import Image\n",
    "import numpy as np\n",
    "import os\n",
    "import pandas as pd\n",
    "import matplotlib.pyplot as plt"
   ]
  },
  {
   "cell_type": "markdown",
   "metadata": {},
   "source": [
    "relembrar o estado atual do dataset"
   ]
  },
  {
   "cell_type": "code",
   "execution_count": 2,
   "metadata": {},
   "outputs": [],
   "source": [
    "df_train03 = pd.read_pickle(\"Train_v03.pkl\")"
   ]
  },
  {
   "cell_type": "code",
   "execution_count": 3,
   "metadata": {},
   "outputs": [
    {
     "data": {
      "text/html": [
       "<div>\n",
       "<style scoped>\n",
       "    .dataframe tbody tr th:only-of-type {\n",
       "        vertical-align: middle;\n",
       "    }\n",
       "\n",
       "    .dataframe tbody tr th {\n",
       "        vertical-align: top;\n",
       "    }\n",
       "\n",
       "    .dataframe thead th {\n",
       "        text-align: right;\n",
       "    }\n",
       "</style>\n",
       "<table border=\"1\" class=\"dataframe\">\n",
       "  <thead>\n",
       "    <tr style=\"text-align: right;\">\n",
       "      <th></th>\n",
       "      <th>ID</th>\n",
       "      <th>boil_nbr</th>\n",
       "      <th>pan_nbr</th>\n",
       "      <th>boil_polygon</th>\n",
       "      <th>pan_polygon</th>\n",
       "      <th>img_origin</th>\n",
       "      <th>placement</th>\n",
       "      <th>hows_polygon</th>\n",
       "    </tr>\n",
       "  </thead>\n",
       "  <tbody>\n",
       "    <tr>\n",
       "      <th>985</th>\n",
       "      <td>IDHrpC1AX09uy8Eh</td>\n",
       "      <td>[]</td>\n",
       "      <td>[1, 1, 1, 1]</td>\n",
       "      <td>[]</td>\n",
       "      <td>[[(1980.0, 531.0), (2013.0, 553.0), (1988.0, 5...</td>\n",
       "      <td>D</td>\n",
       "      <td>roof</td>\n",
       "      <td>ok</td>\n",
       "    </tr>\n",
       "    <tr>\n",
       "      <th>2898</th>\n",
       "      <td>IDrmFWujD</td>\n",
       "      <td>[]</td>\n",
       "      <td>[3, 1, 1, 1]</td>\n",
       "      <td>[]</td>\n",
       "      <td>[[(1162.0, 2106.0), (1142.0, 1462.0), (2252.0,...</td>\n",
       "      <td>D</td>\n",
       "      <td>roof</td>\n",
       "      <td>quase</td>\n",
       "    </tr>\n",
       "    <tr>\n",
       "      <th>1193</th>\n",
       "      <td>IDLWiPQHg9w</td>\n",
       "      <td>[]</td>\n",
       "      <td>[1]</td>\n",
       "      <td>[]</td>\n",
       "      <td>[[(2842.0, 826.0), (3056.0, 860.0), (2894.0, 1...</td>\n",
       "      <td>D</td>\n",
       "      <td>roof</td>\n",
       "      <td>ok</td>\n",
       "    </tr>\n",
       "  </tbody>\n",
       "</table>\n",
       "</div>"
      ],
      "text/plain": [
       "                    ID boil_nbr       pan_nbr boil_polygon  \\\n",
       "985   IDHrpC1AX09uy8Eh       []  [1, 1, 1, 1]           []   \n",
       "2898         IDrmFWujD       []  [3, 1, 1, 1]           []   \n",
       "1193       IDLWiPQHg9w       []           [1]           []   \n",
       "\n",
       "                                            pan_polygon img_origin placement  \\\n",
       "985   [[(1980.0, 531.0), (2013.0, 553.0), (1988.0, 5...          D      roof   \n",
       "2898  [[(1162.0, 2106.0), (1142.0, 1462.0), (2252.0,...          D      roof   \n",
       "1193  [[(2842.0, 826.0), (3056.0, 860.0), (2894.0, 1...          D      roof   \n",
       "\n",
       "     hows_polygon  \n",
       "985            ok  \n",
       "2898        quase  \n",
       "1193           ok  "
      ]
     },
     "execution_count": 3,
     "metadata": {},
     "output_type": "execute_result"
    }
   ],
   "source": [
    "df_train03.sample(3)"
   ]
  },
  {
   "cell_type": "code",
   "execution_count": 4,
   "metadata": {},
   "outputs": [
    {
     "data": {
      "text/plain": [
       "hows_polygon\n",
       "ok            2767\n",
       "quase          260\n",
       "a direita      160\n",
       "a esquerda     123\n",
       "lixo             2\n",
       "Name: count, dtype: int64"
      ]
     },
     "execution_count": 4,
     "metadata": {},
     "output_type": "execute_result"
    }
   ],
   "source": [
    "df_train03[\"hows_polygon\"].value_counts()"
   ]
  },
  {
   "cell_type": "markdown",
   "metadata": {},
   "source": [
    "*small mistakes were made...*"
   ]
  },
  {
   "cell_type": "code",
   "execution_count": 5,
   "metadata": {},
   "outputs": [],
   "source": [
    "df_train03.loc[496, \"hows_polygon\"] = \"a esquerda\"\n",
    "df_train03.loc[1895, \"hows_polygon\"] = \"a esquerda\"\n",
    "df_train03.loc[2356, \"hows_polygon\"] = \"quase\""
   ]
  },
  {
   "cell_type": "markdown",
   "metadata": {},
   "source": [
    "tendo em conta que ja sabemos as imagens que têm os poligonos bem marcados e as que não, vamos tentar dar fix nas imagens cujos poligonos estao desvidas mais para a direita ou para a esquerda, mantes os ok, e ignorar os restantes, pelo menos por enquanto"
   ]
  },
  {
   "cell_type": "markdown",
   "metadata": {},
   "source": [
    "vamos ver se atraves de umas mudancas na classe dos dados é sufciente para que eles fiquem ok"
   ]
  },
  {
   "cell_type": "code",
   "execution_count": 6,
   "metadata": {},
   "outputs": [],
   "source": [
    "def polygons_to_segmentation_mask(polygons, image):\n",
    "    for polygon, val in polygons:\n",
    "        poly = np.array([polygon], dtype=np.int32)\n",
    "        cv2.fillPoly(image, [poly], val)\n",
    "    return image\n",
    "\n",
    "class SupervisedDataset(Dataset):\n",
    "    def __init__(self, data_path, dataframe, transforms):\n",
    "        self.root_path = data_path\n",
    "        self.transforms = transforms\n",
    "        self.data = dataframe\n",
    "\n",
    "        self.images = []\n",
    "        self.targets = []\n",
    "        self.vertex_boil = []\n",
    "        self.vertex_pan = []\n",
    "        self.nr_boild = []\n",
    "        self.nr_pan = []\n",
    "        self.id = []\n",
    "        self.hows_polygon = []\n",
    "\n",
    "        for idx in self.data.index:\n",
    "            if self.data['hows_polygon'][idx] not in ['lixo', 'quase']:\n",
    "                self.images.append(os.path.join(self.root_path, self.data['ID'].iloc[idx] + '.jpg'))\n",
    "                self.vertex_boil.append(self.data['boil_polygon'].iloc[idx])\n",
    "                self.vertex_pan.append(self.data['pan_polygon'].iloc[idx])\n",
    "                self.nr_boild.append(self.data['boil_nbr'].iloc[idx])\n",
    "                self.nr_pan.append(self.data['pan_nbr'].iloc[idx])\n",
    "                self.id.append(self.data['ID'].iloc[idx])\n",
    "                self.hows_polygon.append(self.data['hows_polygon'].iloc[idx])\n",
    "\n",
    "    def __len__(self):\n",
    "        return len(self.images)\n",
    "\n",
    "    def __getitem__(self,idx):\n",
    "        img_path = self.images[idx]\n",
    "        img = Image.open(img_path).convert(\"RGB\")\n",
    "        size = img.size\n",
    "        img = self.transforms(img)\n",
    "        vertices_boil = self.vertex_boil[idx]\n",
    "        vertex_pan = self.vertex_pan[idx]\n",
    "        hows_polygon = self.hows_polygon[idx]\n",
    "\n",
    "        mask = np.zeros((img.shape[1],img.shape[2]),dtype = np.int32)\n",
    "        all_polygons = []\n",
    "        for polygon in vertices_boil:\n",
    "            lst2 = []\n",
    "            lst1 = []\n",
    "            for i in range(len(polygon)):\n",
    "                v1 = list(polygon[i])\n",
    "                v1[0] = (v1[0]*512)/size[0]\n",
    "                v1[1] = (v1[1]*512)/size[1]\n",
    "                if hows_polygon == 'a esquerda':\n",
    "                    v1[0] += 64\n",
    "                    v1[1] += 64\n",
    "                elif hows_polygon == 'a direita':\n",
    "                    v1[0] -= 83\n",
    "                    v1[1] -= 83\n",
    "                lst2.append((v1[0],v1[1]))\n",
    "            lst1.append(lst2)\n",
    "            lst1.append(5) #boiler\n",
    "            all_polygons.append(lst1)\n",
    "        for polygon in vertex_pan:\n",
    "            lst2 = []\n",
    "            lst1 = []\n",
    "            for i in range(len(polygon)):\n",
    "                v1 = list(polygon[i])\n",
    "                v1[0] = (v1[0]*512)/size[0]\n",
    "                v1[1] = (v1[1]*512)/size[1]\n",
    "                if hows_polygon == 'a esquerda':\n",
    "                    v1[0] += 64\n",
    "                    v1[1] += 64\n",
    "                elif hows_polygon == 'a direita':\n",
    "                    v1[0] -= 83\n",
    "                    v1[1] -= 83\n",
    "                lst2.append((v1[0],v1[1]))\n",
    "            lst1.append(lst2)\n",
    "            lst1.append(6) #pan\n",
    "            all_polygons.append(lst1)\n",
    "        mask = polygons_to_segmentation_mask(all_polygons, mask)\n",
    "        return img, mask.astype(int)\n",
    "    \n",
    "transforms = T.Compose([\n",
    "    T.Resize((512,512)),  # Resize to a fixed size\n",
    "    T.ToTensor(),          # Convert to PyTorch tensor\n",
    "])\n",
    "df_train = df_train03\n",
    "data_path = 'images'\n",
    "train_data = SupervisedDataset(data_path, df_train, transforms)"
   ]
  },
  {
   "cell_type": "markdown",
   "metadata": {},
   "source": [
    "vamos agora verificar se estas alterações são suficientes para que as imagens fiquem ok (as \"a direita\" e as \"a esquerda\")"
   ]
  },
  {
   "cell_type": "code",
   "execution_count": 7,
   "metadata": {},
   "outputs": [
    {
     "data": {
      "text/plain": [
       "hows_polygon_v2\n",
       "ok    3049\n",
       "Name: count, dtype: int64"
      ]
     },
     "execution_count": 7,
     "metadata": {},
     "output_type": "execute_result"
    }
   ],
   "source": [
    "df_train_new = pd.read_pickle(\"Train_v03.pkl\")\n",
    "df_train_new[\"hows_polygon_v2\"] = df_train03[\"hows_polygon\"].apply(lambda x: x if x in [\"ok\", \"lixo\", \"quase\"] else None)\n",
    "df_train_new.drop(df_train_new[df_train_new[\"hows_polygon_v2\"].isin([\"lixo\", \"quase\"])].index, inplace=True)\n",
    "df_train_new.reset_index(drop=True, inplace=True)\n",
    "\n",
    "\n",
    "def get_image_and_mask(index):\n",
    "    img, mask = train_data[index]\n",
    "    img = img.permute(1, 2, 0).numpy()\n",
    "    plt.figure(figsize=(10, 5))\n",
    "    plt.imshow(img)\n",
    "    plt.imshow(mask, cmap='Paired', alpha=0.5)\n",
    "    plt.title(f'{train_data.id[index]}: Yellow {train_data.nr_pan[index]} & Orange {train_data.nr_boild[index]}')\n",
    "    plt.axis('off')\n",
    "    plt.show()\n",
    "\n",
    "# loop para verificacao das imagens\n",
    "\"\"\"\n",
    "for index, row in df_train_new.iterrows():\n",
    "    if row[\"hows_polygon_v2\"] == None:\n",
    "        row_id = row[\"ID\"]\n",
    "\n",
    "        # verificar se o id está correto\n",
    "        if train_data.id[index] != row_id:\n",
    "            print(f\"Erro: {index} - {row_id} - {train_data.id[index]}\")\n",
    "            break\n",
    "\n",
    "        # se o id estiver correto, mostrar a imagem\n",
    "        get_image_and_mask(index)\n",
    "        hows_polygon = input(\"How's the polygon? ok, quase ou exit? \")\n",
    "        while hows_polygon not in [\"exit\", \"ok\", \"quase\"]:\n",
    "            hows_polygon = input(\"How's the polygon? ok, quase ou exit? \")\n",
    "\n",
    "        # se o input for diferente de \"exit\", guardar o input\n",
    "        if hows_polygon != \"exit\":\n",
    "            df_train_new.loc[index, \"hows_polygon_v2\"] = hows_polygon\n",
    "\n",
    "        # se o input for \"exit\", parar o loop\n",
    "        elif hows_polygon == \"exit\":\n",
    "            break\n",
    "\"\"\"\n",
    "df_train_new[\"hows_polygon_v2\"] = [\"ok\"] * len(df_train_new)\n",
    "\n",
    "df_train_new[\"hows_polygon_v2\"].value_counts()"
   ]
  },
  {
   "cell_type": "markdown",
   "metadata": {},
   "source": [
    "verificou-se que com as alteracoes feitas nas classe, apenas preciamos de exlcluir o \"lixo\" e o \"quase\" para que todos os poligonos fiquem bem marcados. quantas imagens perdemos ao todo?"
   ]
  },
  {
   "cell_type": "code",
   "execution_count": 8,
   "metadata": {},
   "outputs": [
    {
     "name": "stdout",
     "output_type": "stream",
     "text": [
      "Temos então 3049 imagens.\n",
      "Ao todo, perdemos 263 imagens.\n"
     ]
    }
   ],
   "source": [
    "a = len(train_data) - len(pd.read_pickle(\"Train_v03.pkl\"))\n",
    "print(f\"Temos então {len(train_data)} imagens.\")\n",
    "print(f\"Ao todo, perdemos {abs(a)} imagens.\")"
   ]
  },
  {
   "cell_type": "markdown",
   "metadata": {},
   "source": [
    "---"
   ]
  },
  {
   "cell_type": "markdown",
   "metadata": {},
   "source": [
    "assim sendo, podemos então separar os dados em treino e validação (teste) na proporção 80/20"
   ]
  },
  {
   "cell_type": "markdown",
   "metadata": {},
   "source": [
    "vamos primeiro remover as imagens que não têm poligonos bem marcados"
   ]
  },
  {
   "cell_type": "code",
   "execution_count": 9,
   "metadata": {},
   "outputs": [
    {
     "data": {
      "text/html": [
       "<div>\n",
       "<style scoped>\n",
       "    .dataframe tbody tr th:only-of-type {\n",
       "        vertical-align: middle;\n",
       "    }\n",
       "\n",
       "    .dataframe tbody tr th {\n",
       "        vertical-align: top;\n",
       "    }\n",
       "\n",
       "    .dataframe thead th {\n",
       "        text-align: right;\n",
       "    }\n",
       "</style>\n",
       "<table border=\"1\" class=\"dataframe\">\n",
       "  <thead>\n",
       "    <tr style=\"text-align: right;\">\n",
       "      <th></th>\n",
       "      <th>ID</th>\n",
       "      <th>boil_nbr</th>\n",
       "      <th>pan_nbr</th>\n",
       "      <th>boil_polygon</th>\n",
       "      <th>pan_polygon</th>\n",
       "      <th>img_origin</th>\n",
       "      <th>placement</th>\n",
       "      <th>hows_polygon</th>\n",
       "    </tr>\n",
       "  </thead>\n",
       "  <tbody>\n",
       "    <tr>\n",
       "      <th>2844</th>\n",
       "      <td>IDvhbTZUoT</td>\n",
       "      <td>[]</td>\n",
       "      <td>[1]</td>\n",
       "      <td>[]</td>\n",
       "      <td>[[(2334.0, 867.0), (2397.0, 965.0), (2310.0, 9...</td>\n",
       "      <td>D</td>\n",
       "      <td>roof</td>\n",
       "      <td>ok</td>\n",
       "    </tr>\n",
       "    <tr>\n",
       "      <th>554</th>\n",
       "      <td>IDAsFQkH1PE99GM5o</td>\n",
       "      <td>[]</td>\n",
       "      <td>[6, 6, 6, 6, 10]</td>\n",
       "      <td>[]</td>\n",
       "      <td>[[(193.0, 309.0), (285.0, 258.0), (301.0, 287....</td>\n",
       "      <td>S</td>\n",
       "      <td>S-unknown</td>\n",
       "      <td>ok</td>\n",
       "    </tr>\n",
       "    <tr>\n",
       "      <th>1252</th>\n",
       "      <td>IDPCAyx85UL043Is</td>\n",
       "      <td>[]</td>\n",
       "      <td>[1]</td>\n",
       "      <td>[]</td>\n",
       "      <td>[[(2050.0, 1130.0), (2668.0, 1334.0), (2556.0,...</td>\n",
       "      <td>D</td>\n",
       "      <td>roof</td>\n",
       "      <td>ok</td>\n",
       "    </tr>\n",
       "  </tbody>\n",
       "</table>\n",
       "</div>"
      ],
      "text/plain": [
       "                     ID boil_nbr           pan_nbr boil_polygon  \\\n",
       "2844         IDvhbTZUoT       []               [1]           []   \n",
       "554   IDAsFQkH1PE99GM5o       []  [6, 6, 6, 6, 10]           []   \n",
       "1252   IDPCAyx85UL043Is       []               [1]           []   \n",
       "\n",
       "                                            pan_polygon img_origin  placement  \\\n",
       "2844  [[(2334.0, 867.0), (2397.0, 965.0), (2310.0, 9...          D       roof   \n",
       "554   [[(193.0, 309.0), (285.0, 258.0), (301.0, 287....          S  S-unknown   \n",
       "1252  [[(2050.0, 1130.0), (2668.0, 1334.0), (2556.0,...          D       roof   \n",
       "\n",
       "     hows_polygon  \n",
       "2844           ok  \n",
       "554            ok  \n",
       "1252           ok  "
      ]
     },
     "execution_count": 9,
     "metadata": {},
     "output_type": "execute_result"
    }
   ],
   "source": [
    "df_train_before_split = df_train03.drop(df_train03[df_train03[\"hows_polygon\"].isin([\"lixo\", \"quase\"])].index, inplace=False)\n",
    "df_train_before_split.reset_index(drop=True, inplace=True)\n",
    "\n",
    "df_train_before_split.sample(3)"
   ]
  },
  {
   "cell_type": "markdown",
   "metadata": {},
   "source": [
    "verificar que a remoção foi feita corretamente"
   ]
  },
  {
   "cell_type": "code",
   "execution_count": 10,
   "metadata": {},
   "outputs": [
    {
     "data": {
      "text/plain": [
       "{'a direita', 'a esquerda', 'ok'}"
      ]
     },
     "execution_count": 10,
     "metadata": {},
     "output_type": "execute_result"
    }
   ],
   "source": [
    "set(df_train_before_split[\"hows_polygon\"])"
   ]
  },
  {
   "cell_type": "markdown",
   "metadata": {},
   "source": [
    "e agora separar os dados em treino e validação"
   ]
  },
  {
   "cell_type": "code",
   "execution_count": 11,
   "metadata": {},
   "outputs": [
    {
     "name": "stdout",
     "output_type": "stream",
     "text": [
      "Train DF: (2439, 8)\n",
      "Test DF: (610, 8)\n"
     ]
    }
   ],
   "source": [
    "# mix the data\n",
    "df = df_train_before_split.sample(frac=1, random_state=42).reset_index(drop=True)\n",
    "\n",
    "# split the data\n",
    "split_idx = int(0.8 * len(df))\n",
    "train_df = df[:split_idx].reset_index(drop=True)\n",
    "val_df = df[split_idx:].reset_index(drop=True)\n",
    "\n",
    "# mostrar shapes\n",
    "print(\"Train DF:\", train_df.shape)\n",
    "print(\"Test DF:\", val_df.shape)"
   ]
  },
  {
   "cell_type": "markdown",
   "metadata": {},
   "source": [
    "e agora aplicar a class SupervisedDataset para os dois datasets para ficarem prontos a usar"
   ]
  },
  {
   "cell_type": "code",
   "execution_count": 12,
   "metadata": {},
   "outputs": [],
   "source": [
    "import torchvision.transforms as T\n",
    "import pandas as pd\n",
    "\n",
    "# importar a classe\n",
    "from SupvDset import SupervisedDataset\n",
    "\n",
    "# definir variaveis\n",
    "data_path = 'images'\n",
    "transforms = T.Compose([\n",
    "    T.Resize((512,512)),\n",
    "    T.ToTensor(),\n",
    "])\n",
    "\n",
    "\n",
    "# aplicar a classe\n",
    "train_data = SupervisedDataset(data_path, train_df, transforms)\n",
    "val_data = SupervisedDataset(data_path, val_df, transforms)"
   ]
  },
  {
   "cell_type": "markdown",
   "metadata": {},
   "source": [
    "converter para dataframe"
   ]
  },
  {
   "cell_type": "code",
   "execution_count": 13,
   "metadata": {},
   "outputs": [
    {
     "name": "stdout",
     "output_type": "stream",
     "text": [
      "Progresso: 0/2439\n",
      "Progresso: 500/2439\n",
      "Progresso: 1000/2439\n",
      "Progresso: 1500/2439\n",
      "Progresso: 2000/2439\n"
     ]
    }
   ],
   "source": [
    "df_train = {\n",
    "    \"img_id\": [],\n",
    "    #\"img\": [],\n",
    "    \"img_origin\": [],\n",
    "    \"img_placement\": [],\n",
    "    \"nr_boil\": [],\n",
    "    \"polygons_boil\": [],\n",
    "    \"nr_pan\": [],\n",
    "    \"polygons_pan\": []\n",
    "}\n",
    "\n",
    "for i in range(len(train_data)):\n",
    "    if i % 500 == 0:\n",
    "        print(f\"Progresso: {i}/{len(train_data)}\")\n",
    "    img, _, polygons_pan, polygons_boil, nr_boil, nr_pan, img_id, img_origin, img_placement = train_data[i]\n",
    "    df_train[\"img_id\"].append(img_id)\n",
    "    #df_train[\"img\"].append(img)\n",
    "    df_train[\"img_origin\"].append(img_origin)\n",
    "    df_train[\"img_placement\"].append(img_placement)\n",
    "    df_train[\"nr_boil\"].append(nr_boil)\n",
    "    df_train[\"polygons_boil\"].append(polygons_boil)\n",
    "    df_train[\"nr_pan\"].append(nr_pan)\n",
    "    df_train[\"polygons_pan\"].append(polygons_pan)\n",
    "\n",
    "df_train = pd.DataFrame(df_train)"
   ]
  },
  {
   "cell_type": "code",
   "execution_count": 16,
   "metadata": {},
   "outputs": [
    {
     "name": "stdout",
     "output_type": "stream",
     "text": [
      "Progresso: 0/610\n",
      "Progresso: 500/610\n"
     ]
    }
   ],
   "source": [
    "df_val = {\n",
    "    \"img_id\": [],\n",
    "    #\"img\": [],\n",
    "    \"img_origin\": [],\n",
    "    \"img_placement\": [],\n",
    "    \"nr_boil\": [],\n",
    "    \"polygons_boil\": [],\n",
    "    \"nr_pan\": [],\n",
    "    \"polygons_pan\": []\n",
    "}\n",
    "\n",
    "for i in range(len(val_data)):\n",
    "    if i % 500 == 0:\n",
    "        print(f\"Progresso: {i}/{len(val_data)}\")\n",
    "    img, _, polygons_pan, polygons_boil, nr_boil, nr_pan, img_id, img_origin, img_placement = val_data[i]\n",
    "    df_val[\"img_id\"].append(img_id)\n",
    "    #df_val[\"img\"].append(img)\n",
    "    df_val[\"img_origin\"].append(img_origin)\n",
    "    df_val[\"img_placement\"].append(img_placement)\n",
    "    df_val[\"nr_boil\"].append(nr_boil)\n",
    "    df_val[\"polygons_boil\"].append(polygons_boil)\n",
    "    df_val[\"nr_pan\"].append(nr_pan)\n",
    "    df_val[\"polygons_pan\"].append(polygons_pan)\n",
    "\n",
    "df_val = pd.DataFrame(df_val)"
   ]
  },
  {
   "cell_type": "markdown",
   "metadata": {},
   "source": [
    "guardar os datasets"
   ]
  },
  {
   "cell_type": "code",
   "execution_count": 17,
   "metadata": {},
   "outputs": [],
   "source": [
    "df_train.to_pickle(\"Model_Train.pkl\")\n",
    "df_val.to_pickle(\"Model_Val.pkl\")"
   ]
  },
  {
   "cell_type": "code",
   "execution_count": 18,
   "metadata": {},
   "outputs": [
    {
     "data": {
      "text/html": [
       "<div>\n",
       "<style scoped>\n",
       "    .dataframe tbody tr th:only-of-type {\n",
       "        vertical-align: middle;\n",
       "    }\n",
       "\n",
       "    .dataframe tbody tr th {\n",
       "        vertical-align: top;\n",
       "    }\n",
       "\n",
       "    .dataframe thead th {\n",
       "        text-align: right;\n",
       "    }\n",
       "</style>\n",
       "<table border=\"1\" class=\"dataframe\">\n",
       "  <thead>\n",
       "    <tr style=\"text-align: right;\">\n",
       "      <th></th>\n",
       "      <th>img_id</th>\n",
       "      <th>img_origin</th>\n",
       "      <th>img_placement</th>\n",
       "      <th>nr_boil</th>\n",
       "      <th>polygons_boil</th>\n",
       "      <th>nr_pan</th>\n",
       "      <th>polygons_pan</th>\n",
       "    </tr>\n",
       "  </thead>\n",
       "  <tbody>\n",
       "    <tr>\n",
       "      <th>10</th>\n",
       "      <td>IDIxbudJIyNOaARlD</td>\n",
       "      <td>D</td>\n",
       "      <td>roof</td>\n",
       "      <td>[]</td>\n",
       "      <td>[]</td>\n",
       "      <td>[1]</td>\n",
       "      <td>[[(234.312, 227.44266666666664), (308.04, 224....</td>\n",
       "    </tr>\n",
       "    <tr>\n",
       "      <th>2119</th>\n",
       "      <td>IDP9PuKcINe6ZP</td>\n",
       "      <td>D</td>\n",
       "      <td>roof</td>\n",
       "      <td>[]</td>\n",
       "      <td>[]</td>\n",
       "      <td>[2, 2]</td>\n",
       "      <td>[[(12.672, 59.562666666666665), (31.616, 86.52...</td>\n",
       "    </tr>\n",
       "    <tr>\n",
       "      <th>2372</th>\n",
       "      <td>IDnuFOsB9ymgO9ks</td>\n",
       "      <td>D</td>\n",
       "      <td>roof</td>\n",
       "      <td>[]</td>\n",
       "      <td>[]</td>\n",
       "      <td>[2, 1]</td>\n",
       "      <td>[[(444.8, 69.56521739130434), (448.87272727272...</td>\n",
       "    </tr>\n",
       "  </tbody>\n",
       "</table>\n",
       "</div>"
      ],
      "text/plain": [
       "                 img_id img_origin img_placement nr_boil polygons_boil  \\\n",
       "10    IDIxbudJIyNOaARlD          D          roof      []            []   \n",
       "2119     IDP9PuKcINe6ZP          D          roof      []            []   \n",
       "2372   IDnuFOsB9ymgO9ks          D          roof      []            []   \n",
       "\n",
       "      nr_pan                                       polygons_pan  \n",
       "10       [1]  [[(234.312, 227.44266666666664), (308.04, 224....  \n",
       "2119  [2, 2]  [[(12.672, 59.562666666666665), (31.616, 86.52...  \n",
       "2372  [2, 1]  [[(444.8, 69.56521739130434), (448.87272727272...  "
      ]
     },
     "execution_count": 18,
     "metadata": {},
     "output_type": "execute_result"
    }
   ],
   "source": [
    "df_train.sample(3)"
   ]
  },
  {
   "cell_type": "code",
   "execution_count": 19,
   "metadata": {},
   "outputs": [
    {
     "data": {
      "text/html": [
       "<div>\n",
       "<style scoped>\n",
       "    .dataframe tbody tr th:only-of-type {\n",
       "        vertical-align: middle;\n",
       "    }\n",
       "\n",
       "    .dataframe tbody tr th {\n",
       "        vertical-align: top;\n",
       "    }\n",
       "\n",
       "    .dataframe thead th {\n",
       "        text-align: right;\n",
       "    }\n",
       "</style>\n",
       "<table border=\"1\" class=\"dataframe\">\n",
       "  <thead>\n",
       "    <tr style=\"text-align: right;\">\n",
       "      <th></th>\n",
       "      <th>img_id</th>\n",
       "      <th>img_origin</th>\n",
       "      <th>img_placement</th>\n",
       "      <th>nr_boil</th>\n",
       "      <th>polygons_boil</th>\n",
       "      <th>nr_pan</th>\n",
       "      <th>polygons_pan</th>\n",
       "    </tr>\n",
       "  </thead>\n",
       "  <tbody>\n",
       "    <tr>\n",
       "      <th>320</th>\n",
       "      <td>IDbVgc3KZM6BbqCOF</td>\n",
       "      <td>D</td>\n",
       "      <td>roof</td>\n",
       "      <td>[]</td>\n",
       "      <td>[]</td>\n",
       "      <td>[1, 1, 1, 1, 1, 1, 1]</td>\n",
       "      <td>[[(350.8363636363636, 61.73508594539939), (350...</td>\n",
       "    </tr>\n",
       "    <tr>\n",
       "      <th>525</th>\n",
       "      <td>IDKgqKl5InA</td>\n",
       "      <td>D</td>\n",
       "      <td>roof</td>\n",
       "      <td>[]</td>\n",
       "      <td>[]</td>\n",
       "      <td>[1]</td>\n",
       "      <td>[[(169.984, 163.84), (218.112, 225.96266666666...</td>\n",
       "    </tr>\n",
       "    <tr>\n",
       "      <th>445</th>\n",
       "      <td>IDW7g3ooNM</td>\n",
       "      <td>D</td>\n",
       "      <td>roof</td>\n",
       "      <td>[]</td>\n",
       "      <td>[]</td>\n",
       "      <td>[1]</td>\n",
       "      <td>[[(162.944, 196.43733333333333), (190.72, 206....</td>\n",
       "    </tr>\n",
       "  </tbody>\n",
       "</table>\n",
       "</div>"
      ],
      "text/plain": [
       "                img_id img_origin img_placement nr_boil polygons_boil  \\\n",
       "320  IDbVgc3KZM6BbqCOF          D          roof      []            []   \n",
       "525        IDKgqKl5InA          D          roof      []            []   \n",
       "445         IDW7g3ooNM          D          roof      []            []   \n",
       "\n",
       "                    nr_pan                                       polygons_pan  \n",
       "320  [1, 1, 1, 1, 1, 1, 1]  [[(350.8363636363636, 61.73508594539939), (350...  \n",
       "525                    [1]  [[(169.984, 163.84), (218.112, 225.96266666666...  \n",
       "445                    [1]  [[(162.944, 196.43733333333333), (190.72, 206....  "
      ]
     },
     "execution_count": 19,
     "metadata": {},
     "output_type": "execute_result"
    }
   ],
   "source": [
    "df_val.sample(3)"
   ]
  }
 ],
 "metadata": {
  "kernelspec": {
   "display_name": "CAA01",
   "language": "python",
   "name": "python3"
  },
  "language_info": {
   "codemirror_mode": {
    "name": "ipython",
    "version": 3
   },
   "file_extension": ".py",
   "mimetype": "text/x-python",
   "name": "python",
   "nbconvert_exporter": "python",
   "pygments_lexer": "ipython3",
   "version": "3.10.16"
  }
 },
 "nbformat": 4,
 "nbformat_minor": 2
}
