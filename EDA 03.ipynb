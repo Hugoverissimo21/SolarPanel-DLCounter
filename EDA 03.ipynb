{
 "cells": [
  {
   "cell_type": "code",
   "execution_count": 1,
   "metadata": {},
   "outputs": [],
   "source": [
    "import numpy as np\n",
    "import pandas as pd\n",
    "import cv2\n",
    "from PIL import Image\n",
    "import ast"
   ]
  },
  {
   "cell_type": "code",
   "execution_count": 2,
   "metadata": {},
   "outputs": [],
   "source": [
    "df = pd.read_pickle(r\"Model_Train.pkl\")"
   ]
  },
  {
   "cell_type": "code",
   "execution_count": 3,
   "metadata": {},
   "outputs": [
    {
     "name": "stdout",
     "output_type": "stream",
     "text": [
      "✅ Number of images with polygons containing >1 panel:\n",
      "multi_panel\n",
      "False    1578\n",
      "True      861\n",
      "Name: count, dtype: int64\n"
     ]
    }
   ],
   "source": [
    "import ast\n",
    "\n",
    "# Convert strings to lists (if needed)\n",
    "df[\"nr_boil\"] = df[\"nr_boil\"].apply(lambda x: ast.literal_eval(x) if isinstance(x, str) else x)\n",
    "df[\"nr_pan\"] = df[\"nr_pan\"].apply(lambda x: ast.literal_eval(x) if isinstance(x, str) else x)\n",
    "\n",
    "# Function to check if any polygon contains more than 1 panel\n",
    "def has_multi_panel(nr_boil, nr_pan):\n",
    "    return any(x > 1 for x in nr_boil) or any(x > 1 for x in nr_pan)\n",
    "\n",
    "# Apply to DataFrame\n",
    "df[\"multi_panel\"] = df.apply(lambda row: has_multi_panel(row[\"nr_boil\"], row[\"nr_pan\"]), axis=1)\n",
    "\n",
    "# Group and count\n",
    "multi_panel_counts = df[\"multi_panel\"].value_counts()\n",
    "\n",
    "print(\"✅ Number of images with polygons containing >1 panel:\")\n",
    "print(multi_panel_counts)\n"
   ]
  },
  {
   "cell_type": "code",
   "execution_count": 4,
   "metadata": {},
   "outputs": [
    {
     "name": "stdout",
     "output_type": "stream",
     "text": [
      "✅ Copied 861 images to: C:\\Users\\gnvca\\OneDrive\\Desktop\\JP\\labelme_multi_panel\n"
     ]
    },
    {
     "data": {
      "text/plain": [
       "1"
      ]
     },
     "execution_count": 4,
     "metadata": {},
     "output_type": "execute_result"
    }
   ],
   "source": [
    "import os\n",
    "import shutil\n",
    "import pandas as pd\n",
    "\n",
    "# Path to full dataset\n",
    "image_dir = r\"C:\\Users\\gnvca\\OneDrive\\Desktop\\JP\\images\"\n",
    "\n",
    "# Output folder for Labelme annotation\n",
    "labelme_folder = r\"C:\\Users\\gnvca\\OneDrive\\Desktop\\JP\\labelme_multi_panel\"\n",
    "\n",
    "# Ensure target folder exists\n",
    "os.makedirs(labelme_folder, exist_ok=True)\n",
    "\n",
    "# --- Filter only multi-panel images ---\n",
    "def has_multi_panel(nr_boil, nr_pan):\n",
    "    return any(x > 1 for x in nr_boil) or any(x > 1 for x in nr_pan)\n",
    "\n",
    "# Ensure nr columns are lists (in case they come in as strings)\n",
    "import ast\n",
    "df[\"nr_boil\"] = df[\"nr_boil\"].apply(lambda x: ast.literal_eval(x) if isinstance(x, str) else x)\n",
    "df[\"nr_pan\"] = df[\"nr_pan\"].apply(lambda x: ast.literal_eval(x) if isinstance(x, str) else x)\n",
    "\n",
    "df[\"multi_panel\"] = df.apply(lambda row: has_multi_panel(row[\"nr_boil\"], row[\"nr_pan\"]), axis=1)\n",
    "df_multi = df[df[\"multi_panel\"] == True]\n",
    "\n",
    "# --- Copy images (and existing annotations if available) ---\n",
    "for img_id in df_multi[\"img_id\"]:\n",
    "    img_name = f\"{img_id}.jpg\"\n",
    "    json_name = f\"{img_id}.json\"\n",
    "\n",
    "    src_img = os.path.join(image_dir, img_name)\n",
    "    dst_img = os.path.join(labelme_folder, img_name)\n",
    "\n",
    "    if os.path.exists(src_img):\n",
    "        shutil.copy2(src_img, dst_img)\n",
    "\n",
    "    # Optional: also copy existing JSONs (if you've labeled some before)\n",
    "    src_json = os.path.join(image_dir, json_name)\n",
    "    if os.path.exists(src_json):\n",
    "        shutil.copy2(src_json, os.path.join(labelme_folder, json_name))\n",
    "\n",
    "print(f\"✅ Copied {len(df_multi)} images to: {labelme_folder}\")\n",
    "\n",
    "# --- Launch labelme ---\n",
    "os.system(f'labelme \"{labelme_folder}\"')\n"
   ]
  }
 ],
 "metadata": {
  "kernelspec": {
   "display_name": "Python (caa01)",
   "language": "python",
   "name": "caa01"
  },
  "language_info": {
   "codemirror_mode": {
    "name": "ipython",
    "version": 3
   },
   "file_extension": ".py",
   "mimetype": "text/x-python",
   "name": "python",
   "nbconvert_exporter": "python",
   "pygments_lexer": "ipython3",
   "version": "3.12.7"
  }
 },
 "nbformat": 4,
 "nbformat_minor": 2
}
