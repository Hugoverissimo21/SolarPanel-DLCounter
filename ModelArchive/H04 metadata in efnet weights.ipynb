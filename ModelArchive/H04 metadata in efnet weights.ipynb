{
 "cells": [
  {
   "cell_type": "markdown",
   "metadata": {},
   "source": [
    "# modelo 04"
   ]
  },
  {
   "cell_type": "markdown",
   "metadata": {},
   "source": [
    "efficinet net + unfroze backbone 20 layers + weights for outputs imbalance + extra features"
   ]
  },
  {
   "cell_type": "code",
   "execution_count": 30,
   "metadata": {},
   "outputs": [],
   "source": [
    "import pandas as pd"
   ]
  },
  {
   "cell_type": "code",
   "execution_count": 31,
   "metadata": {},
   "outputs": [],
   "source": [
    "df_train = pd.read_pickle('Model_Train.pkl')\n",
    "df_val = pd.read_pickle('Model_Val.pkl')"
   ]
  },
  {
   "cell_type": "code",
   "execution_count": 32,
   "metadata": {},
   "outputs": [
    {
     "data": {
      "text/plain": [
       "{'S-unknown', 'openspace', 'r_openspace', 'roof'}"
      ]
     },
     "execution_count": 32,
     "metadata": {},
     "output_type": "execute_result"
    }
   ],
   "source": [
    "set(df_train[\"img_placement\"]) | set(df_val[\"img_placement\"])"
   ]
  },
  {
   "cell_type": "code",
   "execution_count": 33,
   "metadata": {},
   "outputs": [
    {
     "data": {
      "text/plain": [
       "{'D', 'S'}"
      ]
     },
     "execution_count": 33,
     "metadata": {},
     "output_type": "execute_result"
    }
   ],
   "source": [
    "set(df_train[\"img_origin\"]) | set(df_val[\"img_origin\"])"
   ]
  },
  {
   "cell_type": "code",
   "execution_count": 34,
   "metadata": {},
   "outputs": [],
   "source": [
    "def hot_encod_img_placement(df):\n",
    "    extra_features_all = []\n",
    "    for i, row in df.iterrows():\n",
    "        extra_features = []\n",
    "        if row[\"img_placement\"] == \"roof\":\n",
    "            extra_features += [1, 0, 0, 0]\n",
    "        elif row[\"img_placement\"] == \"r_openspace\":\n",
    "            extra_features += [0, 1, 0, 0]\n",
    "        elif row[\"img_placement\"] == \"openspace\":\n",
    "            extra_features += [0, 0, 1, 0]\n",
    "        elif row[\"img_placement\"] == \"S-unknown\":\n",
    "            extra_features += [0, 0, 0, 1]\n",
    "        else:\n",
    "            extra_features += [0, 0, 0, 0]\n",
    "        if row[\"img_origin\"] == \"D\":\n",
    "            extra_features += [1, 0]\n",
    "        elif row[\"img_origin\"] == \"S\":\n",
    "            extra_features += [0, 1]\n",
    "        else:\n",
    "            extra_features += [0, 0] \n",
    "        extra_features_all.append(extra_features)\n",
    "    \n",
    "    df[\"more_features\"] = extra_features_all\n",
    "\n",
    "    df.drop(columns=[\"img_origin\"], inplace=True)\n",
    "    df.drop(columns=[\"img_placement\"], inplace=True)\n",
    "\n",
    "hot_encod_img_placement(df_train)\n",
    "hot_encod_img_placement(df_val)"
   ]
  },
  {
   "cell_type": "code",
   "execution_count": 35,
   "metadata": {},
   "outputs": [
    {
     "data": {
      "text/html": [
       "<div>\n",
       "<style scoped>\n",
       "    .dataframe tbody tr th:only-of-type {\n",
       "        vertical-align: middle;\n",
       "    }\n",
       "\n",
       "    .dataframe tbody tr th {\n",
       "        vertical-align: top;\n",
       "    }\n",
       "\n",
       "    .dataframe thead th {\n",
       "        text-align: right;\n",
       "    }\n",
       "</style>\n",
       "<table border=\"1\" class=\"dataframe\">\n",
       "  <thead>\n",
       "    <tr style=\"text-align: right;\">\n",
       "      <th></th>\n",
       "      <th>img_id</th>\n",
       "      <th>nr_boil</th>\n",
       "      <th>polygons_boil</th>\n",
       "      <th>nr_pan</th>\n",
       "      <th>polygons_pan</th>\n",
       "      <th>more_features</th>\n",
       "    </tr>\n",
       "  </thead>\n",
       "  <tbody>\n",
       "    <tr>\n",
       "      <th>1260</th>\n",
       "      <td>IDlYV34uyVIrkrMB</td>\n",
       "      <td>[]</td>\n",
       "      <td>[]</td>\n",
       "      <td>[4, 2]</td>\n",
       "      <td>[[(358.0121212121212, 116.35187057633973), (38...</td>\n",
       "      <td>[1, 0, 0, 0, 1, 0]</td>\n",
       "    </tr>\n",
       "    <tr>\n",
       "      <th>1792</th>\n",
       "      <td>IDdWmF5rFPXdsGfw</td>\n",
       "      <td>[]</td>\n",
       "      <td>[]</td>\n",
       "      <td>[1]</td>\n",
       "      <td>[[(236.672, 207.36), (258.816, 216.064), (242....</td>\n",
       "      <td>[1, 0, 0, 0, 1, 0]</td>\n",
       "    </tr>\n",
       "    <tr>\n",
       "      <th>1293</th>\n",
       "      <td>ID09pzWgf</td>\n",
       "      <td>[]</td>\n",
       "      <td>[]</td>\n",
       "      <td>[29, 29, 29, 29, 29, 29]</td>\n",
       "      <td>[[(178.5546218487395, 200.68341708542712), (20...</td>\n",
       "      <td>[0, 0, 0, 1, 0, 1]</td>\n",
       "    </tr>\n",
       "  </tbody>\n",
       "</table>\n",
       "</div>"
      ],
      "text/plain": [
       "                img_id nr_boil polygons_boil                    nr_pan  \\\n",
       "1260  IDlYV34uyVIrkrMB      []            []                    [4, 2]   \n",
       "1792  IDdWmF5rFPXdsGfw      []            []                       [1]   \n",
       "1293         ID09pzWgf      []            []  [29, 29, 29, 29, 29, 29]   \n",
       "\n",
       "                                           polygons_pan       more_features  \n",
       "1260  [[(358.0121212121212, 116.35187057633973), (38...  [1, 0, 0, 0, 1, 0]  \n",
       "1792  [[(236.672, 207.36), (258.816, 216.064), (242....  [1, 0, 0, 0, 1, 0]  \n",
       "1293  [[(178.5546218487395, 200.68341708542712), (20...  [0, 0, 0, 1, 0, 1]  "
      ]
     },
     "execution_count": 35,
     "metadata": {},
     "output_type": "execute_result"
    }
   ],
   "source": [
    "df_train.sample(3)"
   ]
  },
  {
   "cell_type": "markdown",
   "metadata": {},
   "source": [
    "---"
   ]
  },
  {
   "cell_type": "markdown",
   "metadata": {},
   "source": [
    "weights"
   ]
  },
  {
   "cell_type": "code",
   "execution_count": 36,
   "metadata": {},
   "outputs": [
    {
     "data": {
      "text/plain": [
       "(591, 11395)"
      ]
     },
     "execution_count": 36,
     "metadata": {},
     "output_type": "execute_result"
    }
   ],
   "source": [
    "total_boil = 0\n",
    "total_pan = 0\n",
    "for i, row in df_train.iterrows():\n",
    "    total_boil += sum(row[\"nr_boil\"])\n",
    "    total_pan += sum(row[\"nr_pan\"])\n",
    "\n",
    "total_boil, total_pan"
   ]
  },
  {
   "cell_type": "code",
   "execution_count": 37,
   "metadata": {},
   "outputs": [
    {
     "data": {
      "text/plain": [
       "(0.04930752544635408, 0.9506924745536459)"
      ]
     },
     "execution_count": 37,
     "metadata": {},
     "output_type": "execute_result"
    }
   ],
   "source": [
    "weights_boil = total_boil / (total_boil + total_pan)\n",
    "weights_pan = total_pan / (total_boil + total_pan)\n",
    "\n",
    "weights_boil, weights_pan"
   ]
  },
  {
   "cell_type": "markdown",
   "metadata": {},
   "source": [
    "## efficient net v2"
   ]
  },
  {
   "cell_type": "code",
   "execution_count": 38,
   "metadata": {},
   "outputs": [],
   "source": [
    "import numpy as np\n",
    "import pandas as pd\n",
    "import tensorflow as tf\n",
    "from tensorflow.keras.preprocessing.image import load_img, img_to_array\n",
    "from tensorflow.keras.models import Model\n",
    "from tensorflow.keras import layers\n",
    "from tensorflow.keras.applications import EfficientNetV2B1\n",
    "from tensorflow.keras.optimizers import Adam\n",
    "import matplotlib.pyplot as plt\n",
    "from tensorflow.keras.utils import Sequence\n",
    "from tensorflow.keras.optimizers import AdamW\n",
    "import albumentations as A\n",
    "from albumentations.pytorch import ToTensorV2\n",
    "import numpy as np\n",
    "import cv2\n",
    "import tensorflow as tf\n",
    "from tensorflow.keras.utils import Sequence"
   ]
  },
  {
   "cell_type": "code",
   "execution_count": 39,
   "metadata": {},
   "outputs": [],
   "source": [
    "class ImageDataGeneratorCustom(tf.keras.utils.Sequence):\n",
    "    def __init__(self, df, image_size=(512, 512), batch_size=32, shuffle=True, augment=False):\n",
    "        self.df = df\n",
    "        self.image_size = image_size\n",
    "        self.batch_size = batch_size\n",
    "        self.shuffle = shuffle\n",
    "        self.augment = augment\n",
    "        self.indexes = self.df.index.values\n",
    "        self.on_epoch_end()\n",
    "\n",
    "        if self.augment:\n",
    "            self.transform = A.Compose([\n",
    "                A.RandomResizedCrop((self.image_size[0], self.image_size[1]), scale=(0.7, 1.0), ratio=(0.75, 1.33)),\n",
    "                A.HorizontalFlip(p=0.5),\n",
    "                A.VerticalFlip(p=0.5),\n",
    "                A.RandomRotate90(p=0.5),\n",
    "                A.GaussianBlur(blur_limit=(3, 7), p=0.3),\n",
    "                A.CLAHE(clip_limit=4.0, p=0.5),\n",
    "                A.HueSaturationValue(p=0.3),\n",
    "                A.Normalize(mean=(0.485, 0.456, 0.406), std=(0.229, 0.224, 0.225)),\n",
    "                ToTensorV2()\n",
    "            ])\n",
    "        else:\n",
    "            # If no augmentation, only resize and normalize\n",
    "            self.transform = A.Compose([\n",
    "                A.Resize(self.image_size[0], self.image_size[1]),\n",
    "                A.Normalize(mean=(0.485, 0.456, 0.406), std=(0.229, 0.224, 0.225)),\n",
    "                ToTensorV2()\n",
    "            ])\n",
    "\n",
    "    def __len__(self):\n",
    "        # Calculate the number of batches per epoch\n",
    "        return int(np.floor(len(self.df) / self.batch_size))\n",
    "\n",
    "    def on_epoch_end(self):\n",
    "        # Shuffle the data at the end of each epoch if shuffle is True\n",
    "        if self.shuffle:\n",
    "            self.indexes = np.random.permutation(self.indexes)\n",
    "            #np.random.shuffle(self.indexes)\n",
    "\n",
    "    def __getitem__(self, index):\n",
    "        # Get batch of data\n",
    "        batch_indexes = self.indexes[index * self.batch_size:(index + 1) * self.batch_size]\n",
    "        batch_df = self.df.iloc[batch_indexes]\n",
    "\n",
    "        images = []\n",
    "        nr_boil = []\n",
    "        nr_pan = []\n",
    "        extra_features = []\n",
    "\n",
    "        for i, row in batch_df.iterrows():\n",
    "            # Load image\n",
    "            image_path = \"images/\" + row['img_id'] + '.jpg'\n",
    "            img = load_img(image_path, target_size=self.image_size)\n",
    "            img = img_to_array(img)  # Convert to numpy array\n",
    "            img = img / 255.0 # Normalize pixel values\n",
    "            \n",
    "            img = self.transform(image=img)[\"image\"]\n",
    "\n",
    "            if img.shape[0] == 3:  # If it's in channels-first format (3, 512, 512)\n",
    "                img = np.transpose(img, (1, 2, 0))\n",
    "\n",
    "            \n",
    "            images.append(img)\n",
    "            nr_boil.append(sum(row[\"nr_boil\"]))\n",
    "            nr_pan.append(sum(row[\"nr_pan\"]))\n",
    "            extra_features.append(row[\"more_features\"])\n",
    "\n",
    "        return (np.array(images), np.array(extra_features)), (np.array(nr_boil), np.array(nr_pan))\n"
   ]
  },
  {
   "cell_type": "code",
   "execution_count": 40,
   "metadata": {},
   "outputs": [],
   "source": [
    "train_generator = ImageDataGeneratorCustom(df_train, image_size=(512, 512), batch_size=32, shuffle=True, augment=True)\n",
    "val_generator = ImageDataGeneratorCustom(df_val, image_size=(512, 512), batch_size=32, shuffle=False, augment=False)"
   ]
  },
  {
   "cell_type": "code",
   "execution_count": 41,
   "metadata": {},
   "outputs": [],
   "source": [
    "from tensorflow.keras import layers\n",
    "from tensorflow.keras.models import Sequential"
   ]
  },
  {
   "cell_type": "code",
   "execution_count": 42,
   "metadata": {},
   "outputs": [],
   "source": [
    "import tensorflow as tf\n",
    "from tensorflow.keras.models import Model\n",
    "from tensorflow.keras.layers import Input, Dense, Dropout, GlobalAveragePooling2D, Concatenate\n",
    "from tensorflow.keras.applications import EfficientNetV2B1\n",
    "from tensorflow.keras.optimizers import AdamW\n",
    "from tensorflow.keras.losses import Huber\n",
    "from tensorflow.keras.layers import BatchNormalization, LeakyReLU\n",
    "\n",
    "# Define image input\n",
    "image_input = Input(shape=(512, 512, 3), name=\"image_input\")\n",
    "\n",
    "# Define extra features input (6 additional features)\n",
    "extra_input = Input(shape=(6,), name=\"extra_features\")\n",
    "\n",
    "# Base model (EfficientNetV2-B1 without the top layers)\n",
    "base_model = EfficientNetV2B1(weights=\"imagenet\", include_top=False, input_tensor=image_input)\n",
    "for layer in base_model.layers[-5:]:  # Unfreeze last 20 layers\n",
    "    layer.trainable = True\n",
    "\n",
    "# Feature extraction from CNN\n",
    "x = base_model.output\n",
    "x = GlobalAveragePooling2D()(x)  # Reduce spatial dimensions\n",
    "\n",
    "# Merge image features with extra input\n",
    "x = Concatenate()([x, extra_input])  # Combine CNN features with extra features\n",
    "\n",
    "# Dense layers\n",
    "x = Dense(512)(x)\n",
    "x = BatchNormalization()(x)\n",
    "x = LeakyReLU()(x)\n",
    "x = Dropout(0.3)(x)\n",
    "\n",
    "x = Dense(256)(x)\n",
    "x = BatchNormalization()(x)\n",
    "x = LeakyReLU()(x)\n",
    "\n",
    "# Separate output layers\n",
    "output1 = Dense(1, name=\"output1\")(x)  # First regression target\n",
    "output2 = Dense(1, name=\"output2\")(x)  # Second regression target\n",
    "\n",
    "# Define and compile the model\n",
    "model = Model(inputs=[image_input, extra_input], outputs=[output1, output2])\n",
    "\n",
    "model.compile(\n",
    "    optimizer=AdamW(learning_rate=1e-5, weight_decay=1e-4),\n",
    "    loss={\"output1\": Huber(delta=1.0), \"output2\": Huber(delta=1.0)},\n",
    "    loss_weights={\"output1\": 1.0, \"output2\": 0.1},\n",
    "    metrics=[[\"mae\"], [\"mae\"]])"
   ]
  },
  {
   "cell_type": "code",
   "execution_count": 43,
   "metadata": {},
   "outputs": [],
   "source": [
    "#model.summary()"
   ]
  },
  {
   "cell_type": "code",
   "execution_count": 44,
   "metadata": {},
   "outputs": [],
   "source": [
    "from tensorflow.keras import callbacks\n",
    "from time import time\n",
    "\n",
    "# Define ModelCheckpoint to save model after each epoch\n",
    "checkpoint_callback = callbacks.ModelCheckpoint(\n",
    "    filepath=f\"ModelBuild/Model04_{int(time())}.keras\",\n",
    "    save_weights_only=False,\n",
    "    save_best_only=True,\n",
    "    monitor=\"val_loss\", \n",
    "    verbose=1\n",
    ")\n",
    "\n",
    "# Early stopping to prevent overfitting\n",
    "early_stopping_callback = callbacks.EarlyStopping(\n",
    "    monitor=\"val_loss\",\n",
    "    patience=4,\n",
    "    restore_best_weights=True\n",
    ")\n",
    "\n",
    "#history = model.fit(train_generator,\n",
    "#          validation_data=val_generator,\n",
    "#          epochs=20,\n",
    "#          callbacks=[checkpoint_callback, early_stopping_callback])\n",
    "\n",
    "#model.save('ModelBuild/model04.keras')"
   ]
  },
  {
   "cell_type": "code",
   "execution_count": 45,
   "metadata": {},
   "outputs": [],
   "source": [
    "import json\n",
    "\n",
    "#data = history.history\n",
    "#with open('ModelBuild/model04_history.json', 'w') as f:\n",
    "#    json.dump(data, f)\n",
    "\n",
    "with open('ModelBuild/model04_history.json', 'r') as f:\n",
    "    data = json.load(f)"
   ]
  },
  {
   "cell_type": "code",
   "execution_count": 46,
   "metadata": {},
   "outputs": [
    {
     "data": {
      "text/plain": [
       "dict_keys(['loss', 'output1_loss', 'output1_mae', 'output2_loss', 'output2_mae', 'val_loss', 'val_output1_loss', 'val_output1_mae', 'val_output2_loss', 'val_output2_mae'])"
      ]
     },
     "execution_count": 46,
     "metadata": {},
     "output_type": "execute_result"
    }
   ],
   "source": [
    "data.keys()"
   ]
  },
  {
   "cell_type": "code",
   "execution_count": 47,
   "metadata": {},
   "outputs": [
    {
     "data": {
      "image/png": "[encoded data removed]",
      "text/plain": [
       "<Figure size 640x480 with 1 Axes>"
      ]
     },
     "metadata": {},
     "output_type": "display_data"
    },
    {
     "data": {
      "image/png": "[encoded data removed]",
      "text/plain": [
       "<Figure size 640x480 with 1 Axes>"
      ]
     },
     "metadata": {},
     "output_type": "display_data"
    },
    {
     "data": {
      "image/png": "[encoded data removed]",
      "text/plain": [
       "<Figure size 640x480 with 1 Axes>"
      ]
     },
     "metadata": {},
     "output_type": "display_data"
    }
   ],
   "source": [
    "plt.plot(data['loss'], label='Training Loss')\n",
    "plt.plot(data['val_loss'], label='Validation Loss')\n",
    "plt.title('Training vs Validation Loss')\n",
    "plt.xlabel('Epoch')\n",
    "plt.ylabel('Loss')\n",
    "plt.legend()\n",
    "plt.show()\n",
    "\n",
    "plt.plot(data['output1_mae'], label='Training MAE out1')\n",
    "plt.plot(data['val_output1_mae'], label='Validation MAE out1')\n",
    "plt.title('Training vs Validation MAE')\n",
    "plt.xlabel('Epoch')\n",
    "plt.ylabel('MAE')\n",
    "plt.legend()\n",
    "plt.show()\n",
    "\n",
    "plt.plot(data['output2_mae'], label='Training MAE out2')\n",
    "plt.plot(data['val_output2_mae'], label='Validation MAE out2')\n",
    "plt.title('Training vs Validation MAE')\n",
    "plt.xlabel('Epoch')\n",
    "plt.ylabel('MAE')\n",
    "plt.legend()\n",
    "plt.show()"
   ]
  },
  {
   "cell_type": "markdown",
   "metadata": {},
   "source": [
    "---\n",
    "---"
   ]
  },
  {
   "cell_type": "markdown",
   "metadata": {},
   "source": [
    "---\n",
    "---"
   ]
  },
  {
   "cell_type": "markdown",
   "metadata": {},
   "source": [
    "---\n",
    "---"
   ]
  },
  {
   "cell_type": "markdown",
   "metadata": {},
   "source": [
    "a grande diferenca entre maes entre outputs leva a querer q tlvz seja boa ideia criar dois modelos distintos, um para cada output permitindo um maior foco em cada um deles"
   ]
  },
  {
   "cell_type": "markdown",
   "metadata": {},
   "source": [
    "de qq forma, vamos ver o estado atual do modelo, prevendo o teste"
   ]
  },
  {
   "cell_type": "code",
   "execution_count": 48,
   "metadata": {},
   "outputs": [],
   "source": [
    "model = tf.keras.models.load_model('ModelBuild/model04.keras')"
   ]
  },
  {
   "cell_type": "code",
   "execution_count": 49,
   "metadata": {},
   "outputs": [
    {
     "data": {
      "text/html": [
       "<div>\n",
       "<style scoped>\n",
       "    .dataframe tbody tr th:only-of-type {\n",
       "        vertical-align: middle;\n",
       "    }\n",
       "\n",
       "    .dataframe tbody tr th {\n",
       "        vertical-align: top;\n",
       "    }\n",
       "\n",
       "    .dataframe thead th {\n",
       "        text-align: right;\n",
       "    }\n",
       "</style>\n",
       "<table border=\"1\" class=\"dataframe\">\n",
       "  <thead>\n",
       "    <tr style=\"text-align: right;\">\n",
       "      <th></th>\n",
       "      <th>ID</th>\n",
       "      <th>Target</th>\n",
       "    </tr>\n",
       "  </thead>\n",
       "  <tbody>\n",
       "    <tr>\n",
       "      <th>0</th>\n",
       "      <td>ID00qprY_boil</td>\n",
       "      <td>0</td>\n",
       "    </tr>\n",
       "    <tr>\n",
       "      <th>1</th>\n",
       "      <td>ID00qprY_pan</td>\n",
       "      <td>0</td>\n",
       "    </tr>\n",
       "    <tr>\n",
       "      <th>2</th>\n",
       "      <td>ID01AciUc_boil</td>\n",
       "      <td>0</td>\n",
       "    </tr>\n",
       "    <tr>\n",
       "      <th>3</th>\n",
       "      <td>ID01AciUc_pan</td>\n",
       "      <td>0</td>\n",
       "    </tr>\n",
       "    <tr>\n",
       "      <th>4</th>\n",
       "      <td>ID0328D_boil</td>\n",
       "      <td>0</td>\n",
       "    </tr>\n",
       "  </tbody>\n",
       "</table>\n",
       "</div>"
      ],
      "text/plain": [
       "               ID  Target\n",
       "0   ID00qprY_boil       0\n",
       "1    ID00qprY_pan       0\n",
       "2  ID01AciUc_boil       0\n",
       "3   ID01AciUc_pan       0\n",
       "4    ID0328D_boil       0"
      ]
     },
     "execution_count": 49,
     "metadata": {},
     "output_type": "execute_result"
    }
   ],
   "source": [
    "submission = pd.read_csv(\"zindi_files/SampleSubmission.csv\")\n",
    "submission.head()"
   ]
  },
  {
   "cell_type": "code",
   "execution_count": 50,
   "metadata": {},
   "outputs": [
    {
     "data": {
      "text/html": [
       "<div>\n",
       "<style scoped>\n",
       "    .dataframe tbody tr th:only-of-type {\n",
       "        vertical-align: middle;\n",
       "    }\n",
       "\n",
       "    .dataframe tbody tr th {\n",
       "        vertical-align: top;\n",
       "    }\n",
       "\n",
       "    .dataframe thead th {\n",
       "        text-align: right;\n",
       "    }\n",
       "</style>\n",
       "<table border=\"1\" class=\"dataframe\">\n",
       "  <thead>\n",
       "    <tr style=\"text-align: right;\">\n",
       "      <th></th>\n",
       "      <th>ID</th>\n",
       "      <th>img_origin</th>\n",
       "      <th>placement</th>\n",
       "    </tr>\n",
       "  </thead>\n",
       "  <tbody>\n",
       "    <tr>\n",
       "      <th>0</th>\n",
       "      <td>ID00qprY</td>\n",
       "      <td>D</td>\n",
       "      <td>roof</td>\n",
       "    </tr>\n",
       "    <tr>\n",
       "      <th>1</th>\n",
       "      <td>ID01AciUc</td>\n",
       "      <td>D</td>\n",
       "      <td>roof</td>\n",
       "    </tr>\n",
       "    <tr>\n",
       "      <th>2</th>\n",
       "      <td>ID0328D</td>\n",
       "      <td>D</td>\n",
       "      <td>roof</td>\n",
       "    </tr>\n",
       "    <tr>\n",
       "      <th>3</th>\n",
       "      <td>ID05WxObCFTs9</td>\n",
       "      <td>D</td>\n",
       "      <td>roof</td>\n",
       "    </tr>\n",
       "    <tr>\n",
       "      <th>4</th>\n",
       "      <td>ID06AdCmLMlkO</td>\n",
       "      <td>S</td>\n",
       "      <td>S-unknown</td>\n",
       "    </tr>\n",
       "  </tbody>\n",
       "</table>\n",
       "</div>"
      ],
      "text/plain": [
       "              ID img_origin  placement\n",
       "0       ID00qprY          D       roof\n",
       "1      ID01AciUc          D       roof\n",
       "2        ID0328D          D       roof\n",
       "3  ID05WxObCFTs9          D       roof\n",
       "4  ID06AdCmLMlkO          S  S-unknown"
      ]
     },
     "execution_count": 50,
     "metadata": {},
     "output_type": "execute_result"
    }
   ],
   "source": [
    "test = pd.read_csv(\"Test.csv\")\n",
    "test.head()"
   ]
  },
  {
   "cell_type": "code",
   "execution_count": 51,
   "metadata": {},
   "outputs": [],
   "source": [
    "def hot_encod_img_placement(df):\n",
    "    extra_features_all = []\n",
    "    for i, row in df.iterrows():\n",
    "        extra_features = []\n",
    "        if row[\"placement\"] == \"roof\":\n",
    "            extra_features += [1, 0, 0, 0]\n",
    "        elif row[\"placement\"] == \"r_openspace\":\n",
    "            extra_features += [0, 1, 0, 0]\n",
    "        elif row[\"placement\"] == \"openspace\":\n",
    "            extra_features += [0, 0, 1, 0]\n",
    "        elif row[\"placement\"] == \"S-unknown\":\n",
    "            extra_features += [0, 0, 0, 1]\n",
    "        else:\n",
    "            extra_features += [0, 0, 0, 0]\n",
    "        if row[\"img_origin\"] == \"D\":\n",
    "            extra_features += [1, 0]\n",
    "        elif row[\"img_origin\"] == \"S\":\n",
    "            extra_features += [0, 1]\n",
    "        else:\n",
    "            extra_features += [0, 0] \n",
    "        extra_features_all.append(extra_features)\n",
    "    \n",
    "    df[\"more_features\"] = extra_features_all\n",
    "\n",
    "    df.drop(columns=[\"img_origin\"], inplace=True)\n",
    "    df.drop(columns=[\"placement\"], inplace=True)\n",
    "\n",
    "hot_encod_img_placement(test)"
   ]
  },
  {
   "cell_type": "code",
   "execution_count": 52,
   "metadata": {},
   "outputs": [
    {
     "data": {
      "text/html": [
       "<div>\n",
       "<style scoped>\n",
       "    .dataframe tbody tr th:only-of-type {\n",
       "        vertical-align: middle;\n",
       "    }\n",
       "\n",
       "    .dataframe tbody tr th {\n",
       "        vertical-align: top;\n",
       "    }\n",
       "\n",
       "    .dataframe thead th {\n",
       "        text-align: right;\n",
       "    }\n",
       "</style>\n",
       "<table border=\"1\" class=\"dataframe\">\n",
       "  <thead>\n",
       "    <tr style=\"text-align: right;\">\n",
       "      <th></th>\n",
       "      <th>ID</th>\n",
       "      <th>more_features</th>\n",
       "    </tr>\n",
       "  </thead>\n",
       "  <tbody>\n",
       "    <tr>\n",
       "      <th>0</th>\n",
       "      <td>ID00qprY</td>\n",
       "      <td>[1, 0, 0, 0, 1, 0]</td>\n",
       "    </tr>\n",
       "    <tr>\n",
       "      <th>1</th>\n",
       "      <td>ID01AciUc</td>\n",
       "      <td>[1, 0, 0, 0, 1, 0]</td>\n",
       "    </tr>\n",
       "    <tr>\n",
       "      <th>2</th>\n",
       "      <td>ID0328D</td>\n",
       "      <td>[1, 0, 0, 0, 1, 0]</td>\n",
       "    </tr>\n",
       "    <tr>\n",
       "      <th>3</th>\n",
       "      <td>ID05WxObCFTs9</td>\n",
       "      <td>[1, 0, 0, 0, 1, 0]</td>\n",
       "    </tr>\n",
       "    <tr>\n",
       "      <th>4</th>\n",
       "      <td>ID06AdCmLMlkO</td>\n",
       "      <td>[0, 0, 0, 1, 0, 1]</td>\n",
       "    </tr>\n",
       "  </tbody>\n",
       "</table>\n",
       "</div>"
      ],
      "text/plain": [
       "              ID       more_features\n",
       "0       ID00qprY  [1, 0, 0, 0, 1, 0]\n",
       "1      ID01AciUc  [1, 0, 0, 0, 1, 0]\n",
       "2        ID0328D  [1, 0, 0, 0, 1, 0]\n",
       "3  ID05WxObCFTs9  [1, 0, 0, 0, 1, 0]\n",
       "4  ID06AdCmLMlkO  [0, 0, 0, 1, 0, 1]"
      ]
     },
     "execution_count": 52,
     "metadata": {},
     "output_type": "execute_result"
    }
   ],
   "source": [
    "test.head()"
   ]
  },
  {
   "cell_type": "code",
   "execution_count": 54,
   "metadata": {},
   "outputs": [
    {
     "name": "stderr",
     "output_type": "stream",
     "text": [
      "/var/folders/sz/96b_h5gn3y33k0c7jsvrstmm0000gn/T/ipykernel_21851/620341202.py:26: FutureWarning: Setting an item of incompatible dtype is deprecated and will raise an error in a future version of pandas. Value '[0.06395195]' has dtype incompatible with int64, please explicitly cast to a compatible dtype first.\n",
      "  submission.loc[submission['ID'] == f\"{row['ID']}_boil\", \"Target\"] = prediction[0][0]\n"
     ]
    },
    {
     "name": "stdout",
     "output_type": "stream",
     "text": [
      "Predicted 0 images of 1107\n",
      "Predicted 100 images of 1107\n",
      "Predicted 200 images of 1107\n",
      "Predicted 300 images of 1107\n",
      "Predicted 400 images of 1107\n",
      "Predicted 500 images of 1107\n",
      "Predicted 600 images of 1107\n",
      "Predicted 700 images of 1107\n",
      "Predicted 800 images of 1107\n",
      "Predicted 900 images of 1107\n",
      "Predicted 1000 images of 1107\n",
      "Predicted 1100 images of 1107\n"
     ]
    },
    {
     "data": {
      "text/html": [
       "<div>\n",
       "<style scoped>\n",
       "    .dataframe tbody tr th:only-of-type {\n",
       "        vertical-align: middle;\n",
       "    }\n",
       "\n",
       "    .dataframe tbody tr th {\n",
       "        vertical-align: top;\n",
       "    }\n",
       "\n",
       "    .dataframe thead th {\n",
       "        text-align: right;\n",
       "    }\n",
       "</style>\n",
       "<table border=\"1\" class=\"dataframe\">\n",
       "  <thead>\n",
       "    <tr style=\"text-align: right;\">\n",
       "      <th></th>\n",
       "      <th>ID</th>\n",
       "      <th>Target</th>\n",
       "    </tr>\n",
       "  </thead>\n",
       "  <tbody>\n",
       "    <tr>\n",
       "      <th>0</th>\n",
       "      <td>ID00qprY_boil</td>\n",
       "      <td>0.063952</td>\n",
       "    </tr>\n",
       "    <tr>\n",
       "      <th>1</th>\n",
       "      <td>ID00qprY_pan</td>\n",
       "      <td>0.670790</td>\n",
       "    </tr>\n",
       "    <tr>\n",
       "      <th>2</th>\n",
       "      <td>ID01AciUc_boil</td>\n",
       "      <td>-0.029433</td>\n",
       "    </tr>\n",
       "    <tr>\n",
       "      <th>3</th>\n",
       "      <td>ID01AciUc_pan</td>\n",
       "      <td>0.290120</td>\n",
       "    </tr>\n",
       "    <tr>\n",
       "      <th>4</th>\n",
       "      <td>ID0328D_boil</td>\n",
       "      <td>0.024319</td>\n",
       "    </tr>\n",
       "  </tbody>\n",
       "</table>\n",
       "</div>"
      ],
      "text/plain": [
       "               ID    Target\n",
       "0   ID00qprY_boil  0.063952\n",
       "1    ID00qprY_pan  0.670790\n",
       "2  ID01AciUc_boil -0.029433\n",
       "3   ID01AciUc_pan  0.290120\n",
       "4    ID0328D_boil  0.024319"
      ]
     },
     "execution_count": 54,
     "metadata": {},
     "output_type": "execute_result"
    }
   ],
   "source": [
    "transform = A.Compose([\n",
    "    A.Resize(512,512),\n",
    "    A.Normalize(mean=(0.485, 0.456, 0.406), std=(0.229, 0.224, 0.225)),\n",
    "    ToTensorV2()\n",
    "])\n",
    "\n",
    "for i, row in test.iterrows():\n",
    "    # Load image\n",
    "    image_path = \"images/\" + row['ID'] + '.jpg'\n",
    "    img = load_img(image_path, target_size=(512,512))\n",
    "    img = img_to_array(img)  # Convert to numpy array\n",
    "    img = img / 255.0 # Normalize pixel values\n",
    "\n",
    "    img = transform(image=img)[\"image\"]\n",
    "\n",
    "    if img.shape[0] == 3:  # If it's in channels-first format (3, 512, 512)\n",
    "        img = np.transpose(img, (1, 2, 0))\n",
    "\n",
    "    extra_features = row[\"more_features\"]\n",
    "    extra_features = np.array(extra_features).reshape(1, -1)\n",
    "\n",
    "    prediction = model.predict([np.array([img]), extra_features], verbose=0)\n",
    "\n",
    "\n",
    "    \n",
    "    submission.loc[submission['ID'] == f\"{row['ID']}_boil\", \"Target\"] = prediction[0][0]\n",
    "    submission.loc[submission['ID'] == f\"{row['ID']}_pan\", \"Target\"] = prediction[1][0]\n",
    "\n",
    "    if i % 100 == 0:\n",
    "        print(f\"Predicted {i} images of {len(test)}\")\n",
    "\n",
    "    #print(prediction)\n",
    "\n",
    "submission.head()"
   ]
  },
  {
   "cell_type": "code",
   "execution_count": 55,
   "metadata": {},
   "outputs": [],
   "source": [
    "submission.to_csv('ModelBuild/model04_submission.csv', index=False)"
   ]
  },
  {
   "cell_type": "markdown",
   "metadata": {},
   "source": [
    "**public submission result:** 3.15..."
   ]
  },
  {
   "cell_type": "markdown",
   "metadata": {},
   "source": []
  }
 ],
 "metadata": {
  "kernelspec": {
   "display_name": "CAA01",
   "language": "python",
   "name": "python3"
  },
  "language_info": {
   "codemirror_mode": {
    "name": "ipython",
    "version": 3
   },
   "file_extension": ".py",
   "mimetype": "text/x-python",
   "name": "python",
   "nbconvert_exporter": "python",
   "pygments_lexer": "ipython3",
   "version": "3.10.16"
  }
 },
 "nbformat": 4,
 "nbformat_minor": 2
}
