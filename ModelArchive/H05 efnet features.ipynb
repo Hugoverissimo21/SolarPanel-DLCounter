{
 "cells": [
  {
   "cell_type": "markdown",
   "metadata": {},
   "source": [
    "# modelo 05"
   ]
  },
  {
   "cell_type": "markdown",
   "metadata": {},
   "source": [
    "ideia1: efficinet net + unfroze backbone 20 layers? + extra features + 1 modelo apra cada output\n",
    "\n",
    "ideia2: ver starter notebook primeiro a ver se corre melhor e dps fazer ideia 1"
   ]
  },
  {
   "cell_type": "code",
   "execution_count": 30,
   "metadata": {},
   "outputs": [],
   "source": [
    "import pandas as pd"
   ]
  },
  {
   "cell_type": "code",
   "execution_count": 31,
   "metadata": {},
   "outputs": [],
   "source": [
    "df_train = pd.read_pickle('Model_Train.pkl')\n",
    "df_val = pd.read_pickle('Model_Val.pkl')"
   ]
  },
  {
   "cell_type": "code",
   "execution_count": 32,
   "metadata": {},
   "outputs": [
    {
     "data": {
      "text/plain": [
       "{'S-unknown', 'openspace', 'r_openspace', 'roof'}"
      ]
     },
     "execution_count": 32,
     "metadata": {},
     "output_type": "execute_result"
    }
   ],
   "source": [
    "set(df_train[\"img_placement\"]) | set(df_val[\"img_placement\"])"
   ]
  },
  {
   "cell_type": "code",
   "execution_count": 33,
   "metadata": {},
   "outputs": [
    {
     "data": {
      "text/plain": [
       "{'D', 'S'}"
      ]
     },
     "execution_count": 33,
     "metadata": {},
     "output_type": "execute_result"
    }
   ],
   "source": [
    "set(df_train[\"img_origin\"]) | set(df_val[\"img_origin\"])"
   ]
  },
  {
   "cell_type": "code",
   "execution_count": 34,
   "metadata": {},
   "outputs": [],
   "source": [
    "def hot_encod_img_placement(df):\n",
    "    extra_features_all = []\n",
    "    for i, row in df.iterrows():\n",
    "        extra_features = []\n",
    "        if row[\"img_placement\"] == \"roof\":\n",
    "            extra_features += [1, 0, 0, 0]\n",
    "        elif row[\"img_placement\"] == \"r_openspace\":\n",
    "            extra_features += [0, 1, 0, 0]\n",
    "        elif row[\"img_placement\"] == \"openspace\":\n",
    "            extra_features += [0, 0, 1, 0]\n",
    "        elif row[\"img_placement\"] == \"S-unknown\":\n",
    "            extra_features += [0, 0, 0, 1]\n",
    "        else:\n",
    "            extra_features += [0, 0, 0, 0]\n",
    "        if row[\"img_origin\"] == \"D\":\n",
    "            extra_features += [1, 0]\n",
    "        elif row[\"img_origin\"] == \"S\":\n",
    "            extra_features += [0, 1]\n",
    "        else:\n",
    "            extra_features += [0, 0] \n",
    "        extra_features_all.append(extra_features)\n",
    "    \n",
    "    df[\"more_features\"] = extra_features_all\n",
    "\n",
    "    df.drop(columns=[\"img_origin\"], inplace=True)\n",
    "    df.drop(columns=[\"img_placement\"], inplace=True)\n",
    "\n",
    "hot_encod_img_placement(df_train)\n",
    "hot_encod_img_placement(df_val)"
   ]
  },
  {
   "cell_type": "code",
   "execution_count": 35,
   "metadata": {},
   "outputs": [
    {
     "data": {
      "text/html": [
       "<div>\n",
       "<style scoped>\n",
       "    .dataframe tbody tr th:only-of-type {\n",
       "        vertical-align: middle;\n",
       "    }\n",
       "\n",
       "    .dataframe tbody tr th {\n",
       "        vertical-align: top;\n",
       "    }\n",
       "\n",
       "    .dataframe thead th {\n",
       "        text-align: right;\n",
       "    }\n",
       "</style>\n",
       "<table border=\"1\" class=\"dataframe\">\n",
       "  <thead>\n",
       "    <tr style=\"text-align: right;\">\n",
       "      <th></th>\n",
       "      <th>img_id</th>\n",
       "      <th>nr_boil</th>\n",
       "      <th>polygons_boil</th>\n",
       "      <th>nr_pan</th>\n",
       "      <th>polygons_pan</th>\n",
       "      <th>more_features</th>\n",
       "    </tr>\n",
       "  </thead>\n",
       "  <tbody>\n",
       "    <tr>\n",
       "      <th>1260</th>\n",
       "      <td>IDlYV34uyVIrkrMB</td>\n",
       "      <td>[]</td>\n",
       "      <td>[]</td>\n",
       "      <td>[4, 2]</td>\n",
       "      <td>[[(358.0121212121212, 116.35187057633973), (38...</td>\n",
       "      <td>[1, 0, 0, 0, 1, 0]</td>\n",
       "    </tr>\n",
       "    <tr>\n",
       "      <th>1792</th>\n",
       "      <td>IDdWmF5rFPXdsGfw</td>\n",
       "      <td>[]</td>\n",
       "      <td>[]</td>\n",
       "      <td>[1]</td>\n",
       "      <td>[[(236.672, 207.36), (258.816, 216.064), (242....</td>\n",
       "      <td>[1, 0, 0, 0, 1, 0]</td>\n",
       "    </tr>\n",
       "    <tr>\n",
       "      <th>1293</th>\n",
       "      <td>ID09pzWgf</td>\n",
       "      <td>[]</td>\n",
       "      <td>[]</td>\n",
       "      <td>[29, 29, 29, 29, 29, 29]</td>\n",
       "      <td>[[(178.5546218487395, 200.68341708542712), (20...</td>\n",
       "      <td>[0, 0, 0, 1, 0, 1]</td>\n",
       "    </tr>\n",
       "  </tbody>\n",
       "</table>\n",
       "</div>"
      ],
      "text/plain": [
       "                img_id nr_boil polygons_boil                    nr_pan  \\\n",
       "1260  IDlYV34uyVIrkrMB      []            []                    [4, 2]   \n",
       "1792  IDdWmF5rFPXdsGfw      []            []                       [1]   \n",
       "1293         ID09pzWgf      []            []  [29, 29, 29, 29, 29, 29]   \n",
       "\n",
       "                                           polygons_pan       more_features  \n",
       "1260  [[(358.0121212121212, 116.35187057633973), (38...  [1, 0, 0, 0, 1, 0]  \n",
       "1792  [[(236.672, 207.36), (258.816, 216.064), (242....  [1, 0, 0, 0, 1, 0]  \n",
       "1293  [[(178.5546218487395, 200.68341708542712), (20...  [0, 0, 0, 1, 0, 1]  "
      ]
     },
     "execution_count": 35,
     "metadata": {},
     "output_type": "execute_result"
    }
   ],
   "source": [
    "df_train.sample(3)"
   ]
  }
 ],
 "metadata": {
  "kernelspec": {
   "display_name": "CAA01",
   "language": "python",
   "name": "python3"
  },
  "language_info": {
   "codemirror_mode": {
    "name": "ipython",
    "version": 3
   },
   "file_extension": ".py",
   "mimetype": "text/x-python",
   "name": "python",
   "nbconvert_exporter": "python",
   "pygments_lexer": "ipython3",
   "version": "3.10.16"
  }
 },
 "nbformat": 4,
 "nbformat_minor": 2
}
