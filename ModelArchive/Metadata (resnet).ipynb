{
 "cells": [
  {
   "cell_type": "code",
   "execution_count": 1,
   "id": "89a9e7ff",
   "metadata": {
    "execution": {
     "iopub.execute_input": "2025-03-23T10:33:04.162307Z",
     "iopub.status.busy": "2025-03-23T10:33:04.162049Z",
     "iopub.status.idle": "2025-03-23T10:33:13.800017Z",
     "shell.execute_reply": "2025-03-23T10:33:13.798914Z"
    },
    "papermill": {
     "duration": 9.643869,
     "end_time": "2025-03-23T10:33:13.801537",
     "exception": false,
     "start_time": "2025-03-23T10:33:04.157668",
     "status": "completed"
    },
    "tags": []
   },
   "outputs": [
    {
     "name": "stdout",
     "output_type": "stream",
     "text": [
      "\u001b[2K     \u001b[90m━━━━━━━━━━━━━━━━━━━━━━━━━━━━━━━━━━━━━━━━\u001b[0m \u001b[32m68.5/68.5 kB\u001b[0m \u001b[31m4.1 MB/s\u001b[0m eta \u001b[36m0:00:00\u001b[0m\r\n",
      "\u001b[2K   \u001b[90m━━━━━━━━━━━━━━━━━━━━━━━━━━━━━━━━━━━━━━━━\u001b[0m \u001b[32m123.5/123.5 kB\u001b[0m \u001b[31m6.8 MB/s\u001b[0m eta \u001b[36m0:00:00\u001b[0m\r\n",
      "\u001b[2K   \u001b[90m━━━━━━━━━━━━━━━━━━━━━━━━━━━━━━━━━━━━━━━━\u001b[0m \u001b[32m2.2/2.2 MB\u001b[0m \u001b[31m33.6 MB/s\u001b[0m eta \u001b[36m0:00:00\u001b[0m\r\n",
      "\u001b[2K   \u001b[90m━━━━━━━━━━━━━━━━━━━━━━━━━━━━━━━━━━━━━━━━\u001b[0m \u001b[32m949.8/949.8 kB\u001b[0m \u001b[31m36.4 MB/s\u001b[0m eta \u001b[36m0:00:00\u001b[0m\r\n",
      "\u001b[?25hNote: you may need to restart the kernel to use updated packages.\n"
     ]
    }
   ],
   "source": [
    "pip install ultralytics albumentations==1.3.0 timm==0.9.2 -q"
   ]
  },
  {
   "cell_type": "code",
   "execution_count": 2,
   "id": "5f96cb09",
   "metadata": {
    "execution": {
     "iopub.execute_input": "2025-03-23T10:33:13.809489Z",
     "iopub.status.busy": "2025-03-23T10:33:13.809198Z",
     "iopub.status.idle": "2025-03-23T14:39:33.016818Z",
     "shell.execute_reply": "2025-03-23T14:39:33.015410Z"
    },
    "papermill": {
     "duration": 14779.213264,
     "end_time": "2025-03-23T14:39:33.018347",
     "exception": false,
     "start_time": "2025-03-23T10:33:13.805083",
     "status": "completed"
    },
    "tags": []
   },
   "outputs": [
    {
     "name": "stdout",
     "output_type": "stream",
     "text": [
      "Training fold 1/3\n"
     ]
    },
    {
     "data": {
      "application/vnd.jupyter.widget-view+json": {
       "model_id": "9d1c2f1366bc478ab1abea01be07c945",
       "version_major": 2,
       "version_minor": 0
      },
      "text/plain": [
       "model.safetensors:   0%|          | 0.00/179M [00:00<?, ?B/s]"
      ]
     },
     "metadata": {},
     "output_type": "display_data"
    },
    {
     "name": "stderr",
     "output_type": "stream",
     "text": [
      "Epoch 1/25 [Train]: 100%|██████████| 166/166 [03:04<00:00,  1.11s/it, loss=4.55]\n",
      "Epoch 1/25 [Val]: 100%|██████████| 21/21 [00:43<00:00,  2.09s/it]\n"
     ]
    },
    {
     "name": "stdout",
     "output_type": "stream",
     "text": [
      "Epoch 1/25\n",
      "Train Loss: 2.3506 | Val Loss: 2.0715 | Val MAE: 2.3596\n"
     ]
    },
    {
     "name": "stderr",
     "output_type": "stream",
     "text": [
      "Epoch 2/25 [Train]: 100%|██████████| 166/166 [02:51<00:00,  1.03s/it, loss=0.379]\n",
      "Epoch 2/25 [Val]: 100%|██████████| 21/21 [00:40<00:00,  1.91s/it]\n"
     ]
    },
    {
     "name": "stdout",
     "output_type": "stream",
     "text": [
      "Epoch 2/25\n",
      "Train Loss: 2.2596 | Val Loss: 1.9670 | Val MAE: 2.2300\n"
     ]
    },
    {
     "name": "stderr",
     "output_type": "stream",
     "text": [
      "Epoch 3/25 [Train]: 100%|██████████| 166/166 [02:48<00:00,  1.01s/it, loss=0.346]\n",
      "Epoch 3/25 [Val]: 100%|██████████| 21/21 [00:39<00:00,  1.89s/it]\n"
     ]
    },
    {
     "name": "stdout",
     "output_type": "stream",
     "text": [
      "Epoch 3/25\n",
      "Train Loss: 1.9914 | Val Loss: 1.6686 | Val MAE: 1.8991\n"
     ]
    },
    {
     "name": "stderr",
     "output_type": "stream",
     "text": [
      "Epoch 4/25 [Train]: 100%|██████████| 166/166 [02:48<00:00,  1.02s/it, loss=0.248]\n",
      "Epoch 4/25 [Val]: 100%|██████████| 21/21 [00:39<00:00,  1.88s/it]\n"
     ]
    },
    {
     "name": "stdout",
     "output_type": "stream",
     "text": [
      "Epoch 4/25\n",
      "Train Loss: 1.7854 | Val Loss: 1.5702 | Val MAE: 1.8086\n"
     ]
    },
    {
     "name": "stderr",
     "output_type": "stream",
     "text": [
      "Epoch 5/25 [Train]: 100%|██████████| 166/166 [02:47<00:00,  1.01s/it, loss=0.49]\n",
      "Epoch 5/25 [Val]: 100%|██████████| 21/21 [00:39<00:00,  1.87s/it]\n"
     ]
    },
    {
     "name": "stdout",
     "output_type": "stream",
     "text": [
      "Epoch 5/25\n",
      "Train Loss: 1.7106 | Val Loss: 1.5419 | Val MAE: 1.7657\n"
     ]
    },
    {
     "name": "stderr",
     "output_type": "stream",
     "text": [
      "Epoch 6/25 [Train]: 100%|██████████| 166/166 [02:48<00:00,  1.01s/it, loss=0.452]\n",
      "Epoch 6/25 [Val]: 100%|██████████| 21/21 [00:39<00:00,  1.89s/it]\n"
     ]
    },
    {
     "name": "stdout",
     "output_type": "stream",
     "text": [
      "Epoch 6/25\n",
      "Train Loss: 1.5840 | Val Loss: 1.4107 | Val MAE: 1.6321\n"
     ]
    },
    {
     "name": "stderr",
     "output_type": "stream",
     "text": [
      "Epoch 7/25 [Train]: 100%|██████████| 166/166 [02:48<00:00,  1.01s/it, loss=0.393]\n",
      "Epoch 7/25 [Val]: 100%|██████████| 21/21 [00:39<00:00,  1.88s/it]\n"
     ]
    },
    {
     "name": "stdout",
     "output_type": "stream",
     "text": [
      "Epoch 7/25\n",
      "Train Loss: 1.5694 | Val Loss: 1.3707 | Val MAE: 1.6004\n"
     ]
    },
    {
     "name": "stderr",
     "output_type": "stream",
     "text": [
      "Epoch 8/25 [Train]: 100%|██████████| 166/166 [02:48<00:00,  1.01s/it, loss=0.259]\n",
      "Epoch 8/25 [Val]: 100%|██████████| 21/21 [00:39<00:00,  1.88s/it]\n"
     ]
    },
    {
     "name": "stdout",
     "output_type": "stream",
     "text": [
      "Epoch 8/25\n",
      "Train Loss: 1.4602 | Val Loss: 1.3117 | Val MAE: 1.5368\n"
     ]
    },
    {
     "name": "stderr",
     "output_type": "stream",
     "text": [
      "Epoch 9/25 [Train]: 100%|██████████| 166/166 [02:46<00:00,  1.01s/it, loss=0.21]\n",
      "Epoch 9/25 [Val]: 100%|██████████| 21/21 [00:39<00:00,  1.87s/it]\n"
     ]
    },
    {
     "name": "stdout",
     "output_type": "stream",
     "text": [
      "Epoch 9/25\n",
      "Train Loss: 1.4232 | Val Loss: 1.3302 | Val MAE: 1.5559\n"
     ]
    },
    {
     "name": "stderr",
     "output_type": "stream",
     "text": [
      "Epoch 10/25 [Train]: 100%|██████████| 166/166 [02:47<00:00,  1.01s/it, loss=0.468]\n",
      "Epoch 10/25 [Val]: 100%|██████████| 21/21 [00:39<00:00,  1.86s/it]\n"
     ]
    },
    {
     "name": "stdout",
     "output_type": "stream",
     "text": [
      "Epoch 10/25\n",
      "Train Loss: 1.4090 | Val Loss: 1.2935 | Val MAE: 1.5141\n"
     ]
    },
    {
     "name": "stderr",
     "output_type": "stream",
     "text": [
      "Epoch 11/25 [Train]: 100%|██████████| 166/166 [02:49<00:00,  1.02s/it, loss=0.306]\n",
      "Epoch 11/25 [Val]: 100%|██████████| 21/21 [00:40<00:00,  1.91s/it]\n"
     ]
    },
    {
     "name": "stdout",
     "output_type": "stream",
     "text": [
      "Epoch 11/25\n",
      "Train Loss: 1.4778 | Val Loss: 1.3984 | Val MAE: 1.6274\n"
     ]
    },
    {
     "name": "stderr",
     "output_type": "stream",
     "text": [
      "Epoch 12/25 [Train]: 100%|██████████| 166/166 [02:48<00:00,  1.02s/it, loss=1.59]\n",
      "Epoch 12/25 [Val]: 100%|██████████| 21/21 [00:39<00:00,  1.89s/it]\n"
     ]
    },
    {
     "name": "stdout",
     "output_type": "stream",
     "text": [
      "Epoch 12/25\n",
      "Train Loss: 1.3973 | Val Loss: 1.2803 | Val MAE: 1.4933\n"
     ]
    },
    {
     "name": "stderr",
     "output_type": "stream",
     "text": [
      "Epoch 13/25 [Train]: 100%|██████████| 166/166 [02:49<00:00,  1.02s/it, loss=0.305]\n",
      "Epoch 13/25 [Val]: 100%|██████████| 21/21 [00:39<00:00,  1.89s/it]\n"
     ]
    },
    {
     "name": "stdout",
     "output_type": "stream",
     "text": [
      "Epoch 13/25\n",
      "Train Loss: 1.3333 | Val Loss: 1.2103 | Val MAE: 1.4370\n"
     ]
    },
    {
     "name": "stderr",
     "output_type": "stream",
     "text": [
      "Epoch 14/25 [Train]: 100%|██████████| 166/166 [02:48<00:00,  1.02s/it, loss=0.46]\n",
      "Epoch 14/25 [Val]: 100%|██████████| 21/21 [00:39<00:00,  1.89s/it]\n"
     ]
    },
    {
     "name": "stdout",
     "output_type": "stream",
     "text": [
      "Epoch 14/25\n",
      "Train Loss: 1.3037 | Val Loss: 1.3386 | Val MAE: 1.5682\n"
     ]
    },
    {
     "name": "stderr",
     "output_type": "stream",
     "text": [
      "Epoch 15/25 [Train]: 100%|██████████| 166/166 [02:47<00:00,  1.01s/it, loss=0.374]\n",
      "Epoch 15/25 [Val]: 100%|██████████| 21/21 [00:39<00:00,  1.90s/it]\n"
     ]
    },
    {
     "name": "stdout",
     "output_type": "stream",
     "text": [
      "Epoch 15/25\n",
      "Train Loss: 1.3476 | Val Loss: 1.2382 | Val MAE: 1.4486\n"
     ]
    },
    {
     "name": "stderr",
     "output_type": "stream",
     "text": [
      "Epoch 16/25 [Train]: 100%|██████████| 166/166 [02:49<00:00,  1.02s/it, loss=1.18]\n",
      "Epoch 16/25 [Val]: 100%|██████████| 21/21 [00:39<00:00,  1.88s/it]\n"
     ]
    },
    {
     "name": "stdout",
     "output_type": "stream",
     "text": [
      "Epoch 16/25\n",
      "Train Loss: 1.1587 | Val Loss: 1.1137 | Val MAE: 1.3360\n"
     ]
    },
    {
     "name": "stderr",
     "output_type": "stream",
     "text": [
      "Epoch 17/25 [Train]: 100%|██████████| 166/166 [02:47<00:00,  1.01s/it, loss=0.741]\n",
      "Epoch 17/25 [Val]: 100%|██████████| 21/21 [00:39<00:00,  1.86s/it]\n"
     ]
    },
    {
     "name": "stdout",
     "output_type": "stream",
     "text": [
      "Epoch 17/25\n",
      "Train Loss: 1.2761 | Val Loss: 1.2625 | Val MAE: 1.4810\n"
     ]
    },
    {
     "name": "stderr",
     "output_type": "stream",
     "text": [
      "Epoch 18/25 [Train]: 100%|██████████| 166/166 [02:48<00:00,  1.01s/it, loss=0.265]\n",
      "Epoch 18/25 [Val]: 100%|██████████| 21/21 [00:39<00:00,  1.88s/it]\n"
     ]
    },
    {
     "name": "stdout",
     "output_type": "stream",
     "text": [
      "Epoch 18/25\n",
      "Train Loss: 1.0962 | Val Loss: 1.6954 | Val MAE: 1.9286\n"
     ]
    },
    {
     "name": "stderr",
     "output_type": "stream",
     "text": [
      "Epoch 19/25 [Train]: 100%|██████████| 166/166 [02:49<00:00,  1.02s/it, loss=3.19]\n",
      "Epoch 19/25 [Val]: 100%|██████████| 21/21 [00:39<00:00,  1.89s/it]\n"
     ]
    },
    {
     "name": "stdout",
     "output_type": "stream",
     "text": [
      "Epoch 19/25\n",
      "Train Loss: 1.0748 | Val Loss: 1.2798 | Val MAE: 1.4928\n"
     ]
    },
    {
     "name": "stderr",
     "output_type": "stream",
     "text": [
      "Epoch 20/25 [Train]: 100%|██████████| 166/166 [02:45<00:00,  1.00it/s, loss=0.367]\n",
      "Epoch 20/25 [Val]: 100%|██████████| 21/21 [00:38<00:00,  1.85s/it]\n"
     ]
    },
    {
     "name": "stdout",
     "output_type": "stream",
     "text": [
      "Epoch 20/25\n",
      "Train Loss: 1.0402 | Val Loss: 1.2409 | Val MAE: 1.4516\n"
     ]
    },
    {
     "name": "stderr",
     "output_type": "stream",
     "text": [
      "Epoch 21/25 [Train]: 100%|██████████| 166/166 [02:48<00:00,  1.01s/it, loss=0.26]\n",
      "Epoch 21/25 [Val]: 100%|██████████| 21/21 [00:38<00:00,  1.85s/it]\n"
     ]
    },
    {
     "name": "stdout",
     "output_type": "stream",
     "text": [
      "Epoch 21/25\n",
      "Train Loss: 0.8922 | Val Loss: 1.2091 | Val MAE: 1.4256\n"
     ]
    },
    {
     "name": "stderr",
     "output_type": "stream",
     "text": [
      "Epoch 22/25 [Train]: 100%|██████████| 166/166 [02:46<00:00,  1.00s/it, loss=0.467]\n",
      "Epoch 22/25 [Val]: 100%|██████████| 21/21 [00:39<00:00,  1.86s/it]\n"
     ]
    },
    {
     "name": "stdout",
     "output_type": "stream",
     "text": [
      "Epoch 22/25\n",
      "Train Loss: 1.0191 | Val Loss: 1.3799 | Val MAE: 1.5838\n"
     ]
    },
    {
     "name": "stderr",
     "output_type": "stream",
     "text": [
      "Epoch 23/25 [Train]: 100%|██████████| 166/166 [02:47<00:00,  1.01s/it, loss=0.203]\n",
      "Epoch 23/25 [Val]: 100%|██████████| 21/21 [00:39<00:00,  1.86s/it]\n"
     ]
    },
    {
     "name": "stdout",
     "output_type": "stream",
     "text": [
      "Epoch 23/25\n",
      "Train Loss: 0.9643 | Val Loss: 1.5433 | Val MAE: 1.7525\n"
     ]
    },
    {
     "name": "stderr",
     "output_type": "stream",
     "text": [
      "Epoch 24/25 [Train]: 100%|██████████| 166/166 [02:47<00:00,  1.01s/it, loss=1.65]\n",
      "Epoch 24/25 [Val]: 100%|██████████| 21/21 [00:39<00:00,  1.87s/it]\n"
     ]
    },
    {
     "name": "stdout",
     "output_type": "stream",
     "text": [
      "Epoch 24/25\n",
      "Train Loss: 0.9113 | Val Loss: 1.3314 | Val MAE: 1.5390\n"
     ]
    },
    {
     "name": "stderr",
     "output_type": "stream",
     "text": [
      "Epoch 25/25 [Train]: 100%|██████████| 166/166 [02:48<00:00,  1.01s/it, loss=3.65]\n",
      "Epoch 25/25 [Val]: 100%|██████████| 21/21 [00:39<00:00,  1.90s/it]\n"
     ]
    },
    {
     "name": "stdout",
     "output_type": "stream",
     "text": [
      "Epoch 25/25\n",
      "Train Loss: 0.9065 | Val Loss: 1.2275 | Val MAE: 1.4390\n",
      "Training fold 2/3\n"
     ]
    },
    {
     "name": "stderr",
     "output_type": "stream",
     "text": [
      "Epoch 1/25 [Train]: 100%|██████████| 166/166 [02:10<00:00,  1.27it/s, loss=0.437]\n",
      "Epoch 1/25 [Val]: 100%|██████████| 21/21 [00:31<00:00,  1.50s/it]\n"
     ]
    },
    {
     "name": "stdout",
     "output_type": "stream",
     "text": [
      "Epoch 1/25\n",
      "Train Loss: 2.2140 | Val Loss: 2.5476 | Val MAE: 2.8577\n"
     ]
    },
    {
     "name": "stderr",
     "output_type": "stream",
     "text": [
      "Epoch 2/25 [Train]: 100%|██████████| 166/166 [02:10<00:00,  1.28it/s, loss=3.3]\n",
      "Epoch 2/25 [Val]: 100%|██████████| 21/21 [00:31<00:00,  1.49s/it]\n"
     ]
    },
    {
     "name": "stdout",
     "output_type": "stream",
     "text": [
      "Epoch 2/25\n",
      "Train Loss: 2.1445 | Val Loss: 2.4281 | Val MAE: 2.7124\n"
     ]
    },
    {
     "name": "stderr",
     "output_type": "stream",
     "text": [
      "Epoch 3/25 [Train]: 100%|██████████| 166/166 [02:10<00:00,  1.28it/s, loss=1.78]\n",
      "Epoch 3/25 [Val]: 100%|██████████| 21/21 [00:31<00:00,  1.50s/it]\n"
     ]
    },
    {
     "name": "stdout",
     "output_type": "stream",
     "text": [
      "Epoch 3/25\n",
      "Train Loss: 1.8979 | Val Loss: 2.0954 | Val MAE: 2.3417\n"
     ]
    },
    {
     "name": "stderr",
     "output_type": "stream",
     "text": [
      "Epoch 4/25 [Train]: 100%|██████████| 166/166 [02:09<00:00,  1.28it/s, loss=0.416]\n",
      "Epoch 4/25 [Val]: 100%|██████████| 21/21 [00:31<00:00,  1.50s/it]\n"
     ]
    },
    {
     "name": "stdout",
     "output_type": "stream",
     "text": [
      "Epoch 4/25\n",
      "Train Loss: 1.7142 | Val Loss: 1.9363 | Val MAE: 2.1792\n"
     ]
    },
    {
     "name": "stderr",
     "output_type": "stream",
     "text": [
      "Epoch 5/25 [Train]: 100%|██████████| 166/166 [02:10<00:00,  1.28it/s, loss=0.949]\n",
      "Epoch 5/25 [Val]: 100%|██████████| 21/21 [00:31<00:00,  1.51s/it]\n"
     ]
    },
    {
     "name": "stdout",
     "output_type": "stream",
     "text": [
      "Epoch 5/25\n",
      "Train Loss: 1.6352 | Val Loss: 1.9211 | Val MAE: 2.1599\n"
     ]
    },
    {
     "name": "stderr",
     "output_type": "stream",
     "text": [
      "Epoch 6/25 [Train]: 100%|██████████| 166/166 [02:10<00:00,  1.28it/s, loss=3.18]\n",
      "Epoch 6/25 [Val]: 100%|██████████| 21/21 [00:31<00:00,  1.50s/it]\n"
     ]
    },
    {
     "name": "stdout",
     "output_type": "stream",
     "text": [
      "Epoch 6/25\n",
      "Train Loss: 1.5339 | Val Loss: 1.7497 | Val MAE: 1.9944\n"
     ]
    },
    {
     "name": "stderr",
     "output_type": "stream",
     "text": [
      "Epoch 7/25 [Train]: 100%|██████████| 166/166 [02:10<00:00,  1.27it/s, loss=0.456]\n",
      "Epoch 7/25 [Val]: 100%|██████████| 21/21 [00:31<00:00,  1.50s/it]\n"
     ]
    },
    {
     "name": "stdout",
     "output_type": "stream",
     "text": [
      "Epoch 7/25\n",
      "Train Loss: 1.4764 | Val Loss: 1.6734 | Val MAE: 1.9045\n"
     ]
    },
    {
     "name": "stderr",
     "output_type": "stream",
     "text": [
      "Epoch 8/25 [Train]: 100%|██████████| 166/166 [02:11<00:00,  1.27it/s, loss=1.99]\n",
      "Epoch 8/25 [Val]: 100%|██████████| 21/21 [00:31<00:00,  1.49s/it]\n"
     ]
    },
    {
     "name": "stdout",
     "output_type": "stream",
     "text": [
      "Epoch 8/25\n",
      "Train Loss: 1.4147 | Val Loss: 1.7378 | Val MAE: 1.9732\n"
     ]
    },
    {
     "name": "stderr",
     "output_type": "stream",
     "text": [
      "Epoch 9/25 [Train]: 100%|██████████| 166/166 [02:09<00:00,  1.28it/s, loss=0.149]\n",
      "Epoch 9/25 [Val]: 100%|██████████| 21/21 [00:31<00:00,  1.51s/it]\n"
     ]
    },
    {
     "name": "stdout",
     "output_type": "stream",
     "text": [
      "Epoch 9/25\n",
      "Train Loss: 1.3384 | Val Loss: 1.6770 | Val MAE: 1.9096\n"
     ]
    },
    {
     "name": "stderr",
     "output_type": "stream",
     "text": [
      "Epoch 10/25 [Train]: 100%|██████████| 166/166 [02:10<00:00,  1.27it/s, loss=0.227]\n",
      "Epoch 10/25 [Val]: 100%|██████████| 21/21 [00:31<00:00,  1.50s/it]\n"
     ]
    },
    {
     "name": "stdout",
     "output_type": "stream",
     "text": [
      "Epoch 10/25\n",
      "Train Loss: 1.3471 | Val Loss: 1.6742 | Val MAE: 1.9072\n"
     ]
    },
    {
     "name": "stderr",
     "output_type": "stream",
     "text": [
      "Epoch 11/25 [Train]: 100%|██████████| 166/166 [02:10<00:00,  1.27it/s, loss=0.635]\n",
      "Epoch 11/25 [Val]: 100%|██████████| 21/21 [00:31<00:00,  1.50s/it]\n"
     ]
    },
    {
     "name": "stdout",
     "output_type": "stream",
     "text": [
      "Epoch 11/25\n",
      "Train Loss: 1.4003 | Val Loss: 1.5957 | Val MAE: 1.8219\n"
     ]
    },
    {
     "name": "stderr",
     "output_type": "stream",
     "text": [
      "Epoch 12/25 [Train]: 100%|██████████| 166/166 [02:14<00:00,  1.24it/s, loss=0.519]\n",
      "Epoch 12/25 [Val]: 100%|██████████| 21/21 [00:31<00:00,  1.51s/it]\n"
     ]
    },
    {
     "name": "stdout",
     "output_type": "stream",
     "text": [
      "Epoch 12/25\n",
      "Train Loss: 1.3484 | Val Loss: 1.5824 | Val MAE: 1.8092\n"
     ]
    },
    {
     "name": "stderr",
     "output_type": "stream",
     "text": [
      "Epoch 13/25 [Train]: 100%|██████████| 166/166 [02:11<00:00,  1.26it/s, loss=0.712]\n",
      "Epoch 13/25 [Val]: 100%|██████████| 21/21 [00:31<00:00,  1.50s/it]\n"
     ]
    },
    {
     "name": "stdout",
     "output_type": "stream",
     "text": [
      "Epoch 13/25\n",
      "Train Loss: 1.2180 | Val Loss: 1.5429 | Val MAE: 1.7727\n"
     ]
    },
    {
     "name": "stderr",
     "output_type": "stream",
     "text": [
      "Epoch 14/25 [Train]: 100%|██████████| 166/166 [02:12<00:00,  1.25it/s, loss=1.85]\n",
      "Epoch 14/25 [Val]: 100%|██████████| 21/21 [00:31<00:00,  1.50s/it]\n"
     ]
    },
    {
     "name": "stdout",
     "output_type": "stream",
     "text": [
      "Epoch 14/25\n",
      "Train Loss: 1.2066 | Val Loss: 1.6175 | Val MAE: 1.8490\n"
     ]
    },
    {
     "name": "stderr",
     "output_type": "stream",
     "text": [
      "Epoch 15/25 [Train]: 100%|██████████| 166/166 [02:11<00:00,  1.27it/s, loss=0.179]\n",
      "Epoch 15/25 [Val]: 100%|██████████| 21/21 [00:32<00:00,  1.53s/it]\n"
     ]
    },
    {
     "name": "stdout",
     "output_type": "stream",
     "text": [
      "Epoch 15/25\n",
      "Train Loss: 1.1392 | Val Loss: 1.5274 | Val MAE: 1.7485\n"
     ]
    },
    {
     "name": "stderr",
     "output_type": "stream",
     "text": [
      "Epoch 16/25 [Train]: 100%|██████████| 166/166 [02:11<00:00,  1.26it/s, loss=1.35]\n",
      "Epoch 16/25 [Val]: 100%|██████████| 21/21 [00:31<00:00,  1.52s/it]\n"
     ]
    },
    {
     "name": "stdout",
     "output_type": "stream",
     "text": [
      "Epoch 16/25\n",
      "Train Loss: 1.1312 | Val Loss: 1.4235 | Val MAE: 1.6472\n"
     ]
    },
    {
     "name": "stderr",
     "output_type": "stream",
     "text": [
      "Epoch 17/25 [Train]: 100%|██████████| 166/166 [02:12<00:00,  1.26it/s, loss=0.212]\n",
      "Epoch 17/25 [Val]: 100%|██████████| 21/21 [00:31<00:00,  1.49s/it]\n"
     ]
    },
    {
     "name": "stdout",
     "output_type": "stream",
     "text": [
      "Epoch 17/25\n",
      "Train Loss: 0.9919 | Val Loss: 1.4711 | Val MAE: 1.6989\n"
     ]
    },
    {
     "name": "stderr",
     "output_type": "stream",
     "text": [
      "Epoch 18/25 [Train]: 100%|██████████| 166/166 [02:09<00:00,  1.28it/s, loss=0.338]\n",
      "Epoch 18/25 [Val]: 100%|██████████| 21/21 [00:31<00:00,  1.51s/it]\n"
     ]
    },
    {
     "name": "stdout",
     "output_type": "stream",
     "text": [
      "Epoch 18/25\n",
      "Train Loss: 1.0057 | Val Loss: 1.3537 | Val MAE: 1.5818\n"
     ]
    },
    {
     "name": "stderr",
     "output_type": "stream",
     "text": [
      "Epoch 19/25 [Train]: 100%|██████████| 166/166 [02:12<00:00,  1.25it/s, loss=0.307]\n",
      "Epoch 19/25 [Val]: 100%|██████████| 21/21 [00:31<00:00,  1.51s/it]\n"
     ]
    },
    {
     "name": "stdout",
     "output_type": "stream",
     "text": [
      "Epoch 19/25\n",
      "Train Loss: 0.9328 | Val Loss: 1.4443 | Val MAE: 1.6561\n"
     ]
    },
    {
     "name": "stderr",
     "output_type": "stream",
     "text": [
      "Epoch 20/25 [Train]: 100%|██████████| 166/166 [02:12<00:00,  1.25it/s, loss=0.403]\n",
      "Epoch 20/25 [Val]: 100%|██████████| 21/21 [00:31<00:00,  1.50s/it]\n"
     ]
    },
    {
     "name": "stdout",
     "output_type": "stream",
     "text": [
      "Epoch 20/25\n",
      "Train Loss: 0.9335 | Val Loss: 1.4645 | Val MAE: 1.6914\n"
     ]
    },
    {
     "name": "stderr",
     "output_type": "stream",
     "text": [
      "Epoch 21/25 [Train]: 100%|██████████| 166/166 [02:12<00:00,  1.25it/s, loss=0.144]\n",
      "Epoch 21/25 [Val]: 100%|██████████| 21/21 [00:31<00:00,  1.50s/it]\n"
     ]
    },
    {
     "name": "stdout",
     "output_type": "stream",
     "text": [
      "Epoch 21/25\n",
      "Train Loss: 0.8353 | Val Loss: 1.3811 | Val MAE: 1.6066\n"
     ]
    },
    {
     "name": "stderr",
     "output_type": "stream",
     "text": [
      "Epoch 22/25 [Train]: 100%|██████████| 166/166 [02:14<00:00,  1.23it/s, loss=4.11]\n",
      "Epoch 22/25 [Val]: 100%|██████████| 21/21 [00:31<00:00,  1.49s/it]\n"
     ]
    },
    {
     "name": "stdout",
     "output_type": "stream",
     "text": [
      "Epoch 22/25\n",
      "Train Loss: 0.9475 | Val Loss: 1.3382 | Val MAE: 1.5613\n"
     ]
    },
    {
     "name": "stderr",
     "output_type": "stream",
     "text": [
      "Epoch 23/25 [Train]: 100%|██████████| 166/166 [02:12<00:00,  1.25it/s, loss=0.213]\n",
      "Epoch 23/25 [Val]: 100%|██████████| 21/21 [00:31<00:00,  1.52s/it]\n"
     ]
    },
    {
     "name": "stdout",
     "output_type": "stream",
     "text": [
      "Epoch 23/25\n",
      "Train Loss: 0.8428 | Val Loss: 1.2958 | Val MAE: 1.5187\n"
     ]
    },
    {
     "name": "stderr",
     "output_type": "stream",
     "text": [
      "Epoch 24/25 [Train]: 100%|██████████| 166/166 [02:11<00:00,  1.26it/s, loss=0.282]\n",
      "Epoch 24/25 [Val]: 100%|██████████| 21/21 [00:32<00:00,  1.53s/it]\n"
     ]
    },
    {
     "name": "stdout",
     "output_type": "stream",
     "text": [
      "Epoch 24/25\n",
      "Train Loss: 0.8390 | Val Loss: 1.3272 | Val MAE: 1.5456\n"
     ]
    },
    {
     "name": "stderr",
     "output_type": "stream",
     "text": [
      "Epoch 25/25 [Train]: 100%|██████████| 166/166 [02:10<00:00,  1.27it/s, loss=1.04]\n",
      "Epoch 25/25 [Val]: 100%|██████████| 21/21 [00:31<00:00,  1.52s/it]\n"
     ]
    },
    {
     "name": "stdout",
     "output_type": "stream",
     "text": [
      "Epoch 25/25\n",
      "Train Loss: 0.8392 | Val Loss: 1.3782 | Val MAE: 1.5973\n",
      "Training fold 3/3\n"
     ]
    },
    {
     "name": "stderr",
     "output_type": "stream",
     "text": [
      "Epoch 1/25 [Train]: 100%|██████████| 166/166 [02:50<00:00,  1.03s/it, loss=0.739]\n",
      "Epoch 1/25 [Val]: 100%|██████████| 21/21 [00:38<00:00,  1.84s/it]\n"
     ]
    },
    {
     "name": "stdout",
     "output_type": "stream",
     "text": [
      "Epoch 1/25\n",
      "Train Loss: 2.2208 | Val Loss: 2.5272 | Val MAE: 2.8346\n"
     ]
    },
    {
     "name": "stderr",
     "output_type": "stream",
     "text": [
      "Epoch 2/25 [Train]: 100%|██████████| 166/166 [02:50<00:00,  1.03s/it, loss=1.15]\n",
      "Epoch 2/25 [Val]: 100%|██████████| 21/21 [00:38<00:00,  1.81s/it]\n"
     ]
    },
    {
     "name": "stdout",
     "output_type": "stream",
     "text": [
      "Epoch 2/25\n",
      "Train Loss: 2.1349 | Val Loss: 2.4307 | Val MAE: 2.7149\n"
     ]
    },
    {
     "name": "stderr",
     "output_type": "stream",
     "text": [
      "Epoch 3/25 [Train]: 100%|██████████| 166/166 [02:49<00:00,  1.02s/it, loss=0.969]\n",
      "Epoch 3/25 [Val]: 100%|██████████| 21/21 [00:38<00:00,  1.85s/it]\n"
     ]
    },
    {
     "name": "stdout",
     "output_type": "stream",
     "text": [
      "Epoch 3/25\n",
      "Train Loss: 1.8965 | Val Loss: 2.0033 | Val MAE: 2.2649\n"
     ]
    },
    {
     "name": "stderr",
     "output_type": "stream",
     "text": [
      "Epoch 4/25 [Train]: 100%|██████████| 166/166 [02:52<00:00,  1.04s/it, loss=12.3]\n",
      "Epoch 4/25 [Val]: 100%|██████████| 21/21 [00:38<00:00,  1.83s/it]\n"
     ]
    },
    {
     "name": "stdout",
     "output_type": "stream",
     "text": [
      "Epoch 4/25\n",
      "Train Loss: 1.7473 | Val Loss: 1.9477 | Val MAE: 2.2007\n"
     ]
    },
    {
     "name": "stderr",
     "output_type": "stream",
     "text": [
      "Epoch 5/25 [Train]: 100%|██████████| 166/166 [02:51<00:00,  1.04s/it, loss=0.512]\n",
      "Epoch 5/25 [Val]: 100%|██████████| 21/21 [00:39<00:00,  1.86s/it]\n"
     ]
    },
    {
     "name": "stdout",
     "output_type": "stream",
     "text": [
      "Epoch 5/25\n",
      "Train Loss: 1.5843 | Val Loss: 1.8281 | Val MAE: 2.0733\n"
     ]
    },
    {
     "name": "stderr",
     "output_type": "stream",
     "text": [
      "Epoch 6/25 [Train]: 100%|██████████| 166/166 [02:51<00:00,  1.04s/it, loss=0.786]\n",
      "Epoch 6/25 [Val]: 100%|██████████| 21/21 [00:38<00:00,  1.82s/it]\n"
     ]
    },
    {
     "name": "stdout",
     "output_type": "stream",
     "text": [
      "Epoch 6/25\n",
      "Train Loss: 1.5393 | Val Loss: 1.7642 | Val MAE: 2.0036\n"
     ]
    },
    {
     "name": "stderr",
     "output_type": "stream",
     "text": [
      "Epoch 7/25 [Train]: 100%|██████████| 166/166 [02:51<00:00,  1.03s/it, loss=0.193]\n",
      "Epoch 7/25 [Val]: 100%|██████████| 21/21 [00:38<00:00,  1.86s/it]\n"
     ]
    },
    {
     "name": "stdout",
     "output_type": "stream",
     "text": [
      "Epoch 7/25\n",
      "Train Loss: 1.4581 | Val Loss: 1.8341 | Val MAE: 2.0709\n"
     ]
    },
    {
     "name": "stderr",
     "output_type": "stream",
     "text": [
      "Epoch 8/25 [Train]: 100%|██████████| 166/166 [02:52<00:00,  1.04s/it, loss=0.371]\n",
      "Epoch 8/25 [Val]: 100%|██████████| 21/21 [00:39<00:00,  1.86s/it]\n"
     ]
    },
    {
     "name": "stdout",
     "output_type": "stream",
     "text": [
      "Epoch 8/25\n",
      "Train Loss: 1.4022 | Val Loss: 1.7292 | Val MAE: 1.9666\n"
     ]
    },
    {
     "name": "stderr",
     "output_type": "stream",
     "text": [
      "Epoch 9/25 [Train]: 100%|██████████| 166/166 [02:54<00:00,  1.05s/it, loss=0.57]\n",
      "Epoch 9/25 [Val]: 100%|██████████| 21/21 [00:39<00:00,  1.86s/it]\n"
     ]
    },
    {
     "name": "stdout",
     "output_type": "stream",
     "text": [
      "Epoch 9/25\n",
      "Train Loss: 1.4264 | Val Loss: 1.7332 | Val MAE: 1.9714\n"
     ]
    },
    {
     "name": "stderr",
     "output_type": "stream",
     "text": [
      "Epoch 10/25 [Train]: 100%|██████████| 166/166 [02:52<00:00,  1.04s/it, loss=1.61]\n",
      "Epoch 10/25 [Val]: 100%|██████████| 21/21 [00:38<00:00,  1.85s/it]\n"
     ]
    },
    {
     "name": "stdout",
     "output_type": "stream",
     "text": [
      "Epoch 10/25\n",
      "Train Loss: 1.4142 | Val Loss: 1.7169 | Val MAE: 1.9580\n"
     ]
    },
    {
     "name": "stderr",
     "output_type": "stream",
     "text": [
      "Epoch 11/25 [Train]: 100%|██████████| 166/166 [02:50<00:00,  1.02s/it, loss=0.639]\n",
      "Epoch 11/25 [Val]: 100%|██████████| 21/21 [00:38<00:00,  1.84s/it]\n"
     ]
    },
    {
     "name": "stdout",
     "output_type": "stream",
     "text": [
      "Epoch 11/25\n",
      "Train Loss: 1.3812 | Val Loss: 1.6703 | Val MAE: 1.9121\n"
     ]
    },
    {
     "name": "stderr",
     "output_type": "stream",
     "text": [
      "Epoch 12/25 [Train]: 100%|██████████| 166/166 [02:49<00:00,  1.02s/it, loss=0.87]\n",
      "Epoch 12/25 [Val]: 100%|██████████| 21/21 [00:38<00:00,  1.83s/it]\n"
     ]
    },
    {
     "name": "stdout",
     "output_type": "stream",
     "text": [
      "Epoch 12/25\n",
      "Train Loss: 1.2948 | Val Loss: 1.8131 | Val MAE: 2.0285\n"
     ]
    },
    {
     "name": "stderr",
     "output_type": "stream",
     "text": [
      "Epoch 13/25 [Train]: 100%|██████████| 166/166 [02:50<00:00,  1.03s/it, loss=0.176]\n",
      "Epoch 13/25 [Val]: 100%|██████████| 21/21 [00:38<00:00,  1.82s/it]\n"
     ]
    },
    {
     "name": "stdout",
     "output_type": "stream",
     "text": [
      "Epoch 13/25\n",
      "Train Loss: 1.2674 | Val Loss: 1.5314 | Val MAE: 1.7668\n"
     ]
    },
    {
     "name": "stderr",
     "output_type": "stream",
     "text": [
      "Epoch 14/25 [Train]: 100%|██████████| 166/166 [02:52<00:00,  1.04s/it, loss=1.18]\n",
      "Epoch 14/25 [Val]: 100%|██████████| 21/21 [00:38<00:00,  1.84s/it]\n"
     ]
    },
    {
     "name": "stdout",
     "output_type": "stream",
     "text": [
      "Epoch 14/25\n",
      "Train Loss: 1.2235 | Val Loss: 1.2670 | Val MAE: 1.4904\n"
     ]
    },
    {
     "name": "stderr",
     "output_type": "stream",
     "text": [
      "Epoch 15/25 [Train]: 100%|██████████| 166/166 [02:52<00:00,  1.04s/it, loss=0.413]\n",
      "Epoch 15/25 [Val]: 100%|██████████| 21/21 [00:38<00:00,  1.84s/it]\n"
     ]
    },
    {
     "name": "stdout",
     "output_type": "stream",
     "text": [
      "Epoch 15/25\n",
      "Train Loss: 1.2063 | Val Loss: 1.5227 | Val MAE: 1.7512\n"
     ]
    },
    {
     "name": "stderr",
     "output_type": "stream",
     "text": [
      "Epoch 16/25 [Train]: 100%|██████████| 166/166 [02:51<00:00,  1.03s/it, loss=0.727]\n",
      "Epoch 16/25 [Val]: 100%|██████████| 21/21 [00:38<00:00,  1.84s/it]\n"
     ]
    },
    {
     "name": "stdout",
     "output_type": "stream",
     "text": [
      "Epoch 16/25\n",
      "Train Loss: 1.0686 | Val Loss: 1.4530 | Val MAE: 1.6854\n"
     ]
    },
    {
     "name": "stderr",
     "output_type": "stream",
     "text": [
      "Epoch 17/25 [Train]: 100%|██████████| 166/166 [02:50<00:00,  1.03s/it, loss=0.39]\n",
      "Epoch 17/25 [Val]: 100%|██████████| 21/21 [00:37<00:00,  1.80s/it]\n"
     ]
    },
    {
     "name": "stdout",
     "output_type": "stream",
     "text": [
      "Epoch 17/25\n",
      "Train Loss: 1.0515 | Val Loss: 1.4492 | Val MAE: 1.6705\n"
     ]
    },
    {
     "name": "stderr",
     "output_type": "stream",
     "text": [
      "Epoch 18/25 [Train]: 100%|██████████| 166/166 [02:49<00:00,  1.02s/it, loss=2.14]\n",
      "Epoch 18/25 [Val]: 100%|██████████| 21/21 [00:37<00:00,  1.80s/it]\n"
     ]
    },
    {
     "name": "stdout",
     "output_type": "stream",
     "text": [
      "Epoch 18/25\n",
      "Train Loss: 0.9681 | Val Loss: 1.4436 | Val MAE: 1.6667\n"
     ]
    },
    {
     "name": "stderr",
     "output_type": "stream",
     "text": [
      "Epoch 19/25 [Train]: 100%|██████████| 166/166 [02:50<00:00,  1.03s/it, loss=0.192]\n",
      "Epoch 19/25 [Val]: 100%|██████████| 21/21 [00:39<00:00,  1.87s/it]\n"
     ]
    },
    {
     "name": "stdout",
     "output_type": "stream",
     "text": [
      "Epoch 19/25\n",
      "Train Loss: 0.9366 | Val Loss: 1.4484 | Val MAE: 1.6846\n"
     ]
    },
    {
     "name": "stderr",
     "output_type": "stream",
     "text": [
      "Epoch 20/25 [Train]: 100%|██████████| 166/166 [02:51<00:00,  1.03s/it, loss=0.497]\n",
      "Epoch 20/25 [Val]: 100%|██████████| 21/21 [00:39<00:00,  1.87s/it]\n"
     ]
    },
    {
     "name": "stdout",
     "output_type": "stream",
     "text": [
      "Epoch 20/25\n",
      "Train Loss: 0.9012 | Val Loss: 1.4965 | Val MAE: 1.7190\n"
     ]
    },
    {
     "name": "stderr",
     "output_type": "stream",
     "text": [
      "Epoch 21/25 [Train]: 100%|██████████| 166/166 [02:52<00:00,  1.04s/it, loss=0.188]\n",
      "Epoch 21/25 [Val]: 100%|██████████| 21/21 [00:39<00:00,  1.89s/it]\n"
     ]
    },
    {
     "name": "stdout",
     "output_type": "stream",
     "text": [
      "Epoch 21/25\n",
      "Train Loss: 0.8105 | Val Loss: 1.5914 | Val MAE: 1.8111\n"
     ]
    },
    {
     "name": "stderr",
     "output_type": "stream",
     "text": [
      "Epoch 22/25 [Train]: 100%|██████████| 166/166 [02:54<00:00,  1.05s/it, loss=0.387]\n",
      "Epoch 22/25 [Val]: 100%|██████████| 21/21 [00:39<00:00,  1.89s/it]\n"
     ]
    },
    {
     "name": "stdout",
     "output_type": "stream",
     "text": [
      "Epoch 22/25\n",
      "Train Loss: 0.9344 | Val Loss: 1.5568 | Val MAE: 1.7816\n"
     ]
    },
    {
     "name": "stderr",
     "output_type": "stream",
     "text": [
      "Epoch 23/25 [Train]: 100%|██████████| 166/166 [02:55<00:00,  1.06s/it, loss=0.92]\n",
      "Epoch 23/25 [Val]: 100%|██████████| 21/21 [00:38<00:00,  1.85s/it]\n"
     ]
    },
    {
     "name": "stdout",
     "output_type": "stream",
     "text": [
      "Epoch 23/25\n",
      "Train Loss: 0.8184 | Val Loss: 1.4607 | Val MAE: 1.6875\n"
     ]
    },
    {
     "name": "stderr",
     "output_type": "stream",
     "text": [
      "Epoch 24/25 [Train]: 100%|██████████| 166/166 [02:50<00:00,  1.03s/it, loss=0.192]\n",
      "Epoch 24/25 [Val]: 100%|██████████| 21/21 [00:38<00:00,  1.82s/it]\n"
     ]
    },
    {
     "name": "stdout",
     "output_type": "stream",
     "text": [
      "Epoch 24/25\n",
      "Train Loss: 0.8132 | Val Loss: 1.4504 | Val MAE: 1.6734\n"
     ]
    },
    {
     "name": "stderr",
     "output_type": "stream",
     "text": [
      "Epoch 25/25 [Train]: 100%|██████████| 166/166 [02:50<00:00,  1.03s/it, loss=0.65]\n",
      "Epoch 25/25 [Val]: 100%|██████████| 21/21 [00:38<00:00,  1.84s/it]\n"
     ]
    },
    {
     "name": "stdout",
     "output_type": "stream",
     "text": [
      "Epoch 25/25\n",
      "Train Loss: 0.8173 | Val Loss: 1.5102 | Val MAE: 1.7378\n"
     ]
    },
    {
     "name": "stderr",
     "output_type": "stream",
     "text": [
      "Inference: 100%|██████████| 18/18 [01:07<00:00,  3.73s/it]\n",
      "Inference: 100%|██████████| 18/18 [01:01<00:00,  3.39s/it]\n",
      "Inference: 100%|██████████| 18/18 [01:00<00:00,  3.34s/it]"
     ]
    },
    {
     "name": "stdout",
     "output_type": "stream",
     "text": [
      "Submissions saved with shapes: (2214, 2) (2214, 2)\n"
     ]
    },
    {
     "name": "stderr",
     "output_type": "stream",
     "text": [
      "\n"
     ]
    }
   ],
   "source": [
    "# -*- coding: utf-8 -*-\n",
    "import os\n",
    "import timm\n",
    "import torch\n",
    "import torch.nn as nn\n",
    "import torch.optim as optim\n",
    "import albumentations as A\n",
    "from albumentations.pytorch import ToTensorV2\n",
    "from torch.utils.data import Dataset, DataLoader\n",
    "import pandas as pd\n",
    "import cv2\n",
    "from sklearn.model_selection import KFold\n",
    "import numpy as np\n",
    "from tqdm import tqdm\n",
    "from torch.amp import autocast, GradScaler  # Fixed import\n",
    "from sklearn.metrics import mean_absolute_error\n",
    "\n",
    "# Fixed Albumentations version warning\n",
    "os.environ['NO_ALBUMENTATIONS_UPDATE'] = '1'\n",
    "\n",
    "# Enhanced Dataset with Metadata\n",
    "class SolarPanelDataset(Dataset):\n",
    "    def __init__(self, dataframe, transform=None, to_train=True):\n",
    "        self.dataframe = dataframe\n",
    "        self.transform = transform\n",
    "        self.to_train = to_train\n",
    "        self.placement_map = {\"roof\": 0, \"openspace\": 1, \"r_openspace\": 2, \"S-unknown\": 3}\n",
    "\n",
    "    def __len__(self):\n",
    "        return len(self.dataframe)\n",
    "\n",
    "    def __getitem__(self, idx):\n",
    "        row = self.dataframe.iloc[idx]\n",
    "        image = cv2.imread(row[\"path\"])\n",
    "        image = cv2.cvtColor(image, cv2.COLOR_BGR2RGB)  # Correct color conversion\n",
    "\n",
    "        # Improved metadata encoding\n",
    "        metadata = torch.zeros(5)\n",
    "        metadata[0] = 1.0 if row[\"img_origin\"] == \"D\" else 0.0\n",
    "        placement = self.placement_map.get(row[\"placement\"], 3)\n",
    "        metadata[1 + placement] = 1.0  # One-hot encoding\n",
    "\n",
    "        if self.transform:\n",
    "            image = self.transform(image=image)['image']\n",
    "\n",
    "        if self.to_train:\n",
    "            target = torch.tensor([row[\"boil_nbr\"], row[\"pan_nbr\"]], dtype=torch.float32)\n",
    "            return image, metadata, target\n",
    "        return image, metadata\n",
    "\n",
    "# Enhanced Model with Metadata\n",
    "class EfficientNetV2Meta(nn.Module):\n",
    "    def __init__(self):\n",
    "        super().__init__()\n",
    "        self.backbone = timm.create_model(\"resnet101\", pretrained=True, num_classes=0)  # Larger backbone\n",
    "        self.meta_processor = nn.Sequential(\n",
    "            nn.Linear(5, 128),\n",
    "            nn.LayerNorm(128),\n",
    "            nn.ReLU(),\n",
    "            nn.Dropout(0.3),\n",
    "            nn.Linear(128, 64)\n",
    "        )\n",
    "        self.attention = nn.MultiheadAttention(embed_dim=64, num_heads=4)\n",
    "        self.regressor = nn.Sequential(\n",
    "            nn.Linear(self.backbone.num_features + 64, 512),\n",
    "            nn.ReLU(),\n",
    "            nn.Dropout(0.2),\n",
    "            nn.Linear(512, 2),\n",
    "            nn.Softplus()  # Better for count predictions\n",
    "        )\n",
    "\n",
    "    def forward(self, image, metadata):\n",
    "        img_features = self.backbone(image)\n",
    "        meta_features = self.meta_processor(metadata.unsqueeze(0))\n",
    "        attn_output, _ = self.attention(meta_features, meta_features, meta_features)\n",
    "        combined = torch.cat([img_features, attn_output.squeeze(0)], dim=1)\n",
    "        return self.regressor(combined)\n",
    "\n",
    "# Advanced Augmentation\n",
    "train_transform = A.Compose([\n",
    "    A.RandomResizedCrop(512, 512, scale=(0.7, 1.0)),\n",
    "    A.HorizontalFlip(p=0.5),\n",
    "    A.VerticalFlip(p=0.5),\n",
    "    A.RandomRotate90(p=0.5),\n",
    "    A.GaussianBlur(blur_limit=(3, 7), p=0.3),\n",
    "    A.CLAHE(clip_limit=4.0, p=0.5),\n",
    "    A.HueSaturationValue(p=0.3),\n",
    "    A.Normalize(mean=(0.485, 0.456, 0.406), std=(0.229, 0.224, 0.225)),\n",
    "    ToTensorV2()\n",
    "])\n",
    "\n",
    "test_transform = A.Compose([\n",
    "    A.Resize(512, 512),\n",
    "    A.Normalize(mean=(0.485, 0.456, 0.406), std=(0.229, 0.224, 0.225)),\n",
    "    ToTensorV2()\n",
    "])\n",
    "\n",
    "# Training Configuration\n",
    "def train(fold=0, epochs=20, batch_size=16):\n",
    "    train_df = pd.read_csv(\"/kaggle/input/lacuna-solar-survey-challenge/Train.csv\")\n",
    "    train_df = train_df.groupby(\"ID\").agg({\n",
    "        \"boil_nbr\": \"sum\",\n",
    "        \"pan_nbr\": \"sum\",\n",
    "        \"img_origin\": \"first\",\n",
    "        \"placement\": \"first\"\n",
    "    }).reset_index()\n",
    "    train_df[\"path\"] = \"/kaggle/input/lacuna-solar-survey-challenge/images/\" + train_df[\"ID\"] + \".jpg\"\n",
    "\n",
    "    kf = KFold(n_splits=5, shuffle=True, random_state=42)\n",
    "    splits = list(kf.split(train_df))\n",
    "    train_idx, val_idx = splits[fold]\n",
    "\n",
    "    train_ds = SolarPanelDataset(train_df.iloc[train_idx], transform=train_transform)\n",
    "    val_ds = SolarPanelDataset(train_df.iloc[val_idx], transform=test_transform)\n",
    "\n",
    "    train_loader = DataLoader(train_ds, batch_size=batch_size, \n",
    "                             shuffle=True, num_workers=4, pin_memory=True)\n",
    "    val_loader = DataLoader(val_ds, batch_size=batch_size*2, \n",
    "                           shuffle=False, num_workers=4, pin_memory=True)\n",
    "\n",
    "    model = EfficientNetV2Meta().cuda()\n",
    "    criterion = nn.HuberLoss(delta=1.0)  # Improved loss function\n",
    "    optimizer = optim.AdamW(model.parameters(), lr=1e-4, weight_decay=1e-4)\n",
    "    scheduler = optim.lr_scheduler.CosineAnnealingWarmRestarts(optimizer, T_0=10, T_mult=2)\n",
    "    scaler = GradScaler()\n",
    "\n",
    "    best_mae = float('inf')\n",
    "    for epoch in range(epochs):\n",
    "        # Training loop\n",
    "        model.train()\n",
    "        train_loss = 0.0\n",
    "        pbar = tqdm(train_loader, desc=f\"Epoch {epoch+1}/{epochs} [Train]\")\n",
    "        for images, meta, targets in pbar:\n",
    "            images = images.cuda(non_blocking=True)\n",
    "            meta = meta.cuda(non_blocking=True)\n",
    "            targets = targets.cuda(non_blocking=True)\n",
    "            \n",
    "            optimizer.zero_grad()\n",
    "            with autocast(device_type='cuda'):\n",
    "                outputs = model(images, meta)\n",
    "                loss = criterion(outputs, targets)\n",
    "            scaler.scale(loss).backward()\n",
    "            scaler.step(optimizer)\n",
    "            scaler.update()\n",
    "            \n",
    "            train_loss += loss.item()\n",
    "            pbar.set_postfix(loss=loss.item())\n",
    "        \n",
    "        # Validation loop\n",
    "        model.eval()\n",
    "        val_loss = 0.0\n",
    "        preds, truths = [], []\n",
    "        with torch.no_grad():\n",
    "            for images, meta, targets in tqdm(val_loader, desc=f\"Epoch {epoch+1}/{epochs} [Val]\"):\n",
    "                images = images.cuda(non_blocking=True)\n",
    "                meta = meta.cuda(non_blocking=True)\n",
    "                targets = targets.cuda(non_blocking=True)\n",
    "                \n",
    "                with autocast(device_type='cuda'):\n",
    "                    outputs = model(images, meta)\n",
    "                    loss = criterion(outputs, targets)\n",
    "                \n",
    "                val_loss += loss.item()\n",
    "                preds.append(outputs.cpu().numpy())\n",
    "                truths.append(targets.cpu().numpy())\n",
    "        \n",
    "        # Metrics calculation\n",
    "        train_loss /= len(train_loader)\n",
    "        val_loss /= len(val_loader)\n",
    "        preds = np.concatenate(preds)\n",
    "        truths = np.concatenate(truths)\n",
    "        mae = mean_absolute_error(truths, preds)\n",
    "        \n",
    "        print(f\"Epoch {epoch+1}/{epochs}\")\n",
    "        print(f\"Train Loss: {train_loss:.4f} | Val Loss: {val_loss:.4f} | Val MAE: {mae:.4f}\")\n",
    "        \n",
    "        # Model checkpointing based on MAE\n",
    "        if mae < best_mae:\n",
    "            best_mae = mae\n",
    "            torch.save(model.state_dict(), f\"best_model_fold{fold}.pth\")\n",
    "        \n",
    "        scheduler.step()\n",
    "    \n",
    "    return best_mae\n",
    "\n",
    "# Inference with TTA\n",
    "def predict(test_df, model_paths, batch_size=32):\n",
    "    test_df[\"path\"] = \"/kaggle/input/lacuna-solar-survey-challenge/images/\" + test_df[\"ID\"] + \".jpg\"\n",
    "    test_ds = SolarPanelDataset(test_df, transform=test_transform, to_train=False)\n",
    "    test_loader = DataLoader(test_ds, batch_size=batch_size, shuffle=False, num_workers=4)\n",
    "    \n",
    "    predictions = np.zeros((len(test_df), 2))\n",
    "    for path in model_paths:\n",
    "        model = EfficientNetV2Meta().cuda()\n",
    "        model.load_state_dict(torch.load(path, weights_only=True))  # Safer loading\n",
    "        model.eval()\n",
    "        \n",
    "        tta_preds = []\n",
    "        with torch.no_grad():\n",
    "            for images, meta in tqdm(test_loader, desc=\"Inference\"):\n",
    "                images = images.cuda()\n",
    "                meta = meta.cuda()\n",
    "                with autocast(device_type='cuda'):\n",
    "                    outputs = model(images, meta)\n",
    "                tta_preds.append(outputs.cpu().numpy())\n",
    "        \n",
    "        predictions += np.concatenate(tta_preds)\n",
    "    \n",
    "    return predictions / len(model_paths)\n",
    "\n",
    "# Main Execution\n",
    "if __name__ == \"__main__\":\n",
    "    # Train multiple folds\n",
    "    folds = 3\n",
    "    model_paths = []\n",
    "    for fold in range(folds):\n",
    "        print(f\"Training fold {fold+1}/{folds}\")\n",
    "        best_mae = train(fold=fold, epochs=25, batch_size=16)\n",
    "        model_paths.append(f\"best_model_fold{fold}.pth\")\n",
    "    \n",
    "    # Prepare submission\n",
    "    test_df = pd.read_csv(\"/kaggle/input/lacuna-solar-survey-challenge/Test.csv\")\n",
    "    predictions = predict(test_df, model_paths, batch_size=64)\n",
    "    \n",
    "    # Create submissions\n",
    "    submission = pd.DataFrame({\n",
    "        \"ID\": np.repeat(test_df[\"ID\"].values, 2),\n",
    "        \"Target\": predictions.flatten()\n",
    "    })\n",
    "    submission[\"ID\"] += np.where(\n",
    "        submission.groupby(\"ID\").cumcount() == 0,\n",
    "        \"_boil\",\n",
    "        \"_pan\"\n",
    "    )\n",
    "    submission.to_csv(\"submission_original.csv\", index=False)\n",
    "    \n",
    "    int_submission = submission.copy()\n",
    "    int_submission[\"Target\"] = np.round(int_submission[\"Target\"]).astype(int)\n",
    "    int_submission.to_csv(\"submission_integer.csv\", index=False)\n",
    "    \n",
    "    print(\"Submissions saved with shapes:\", submission.shape, int_submission.shape)"
   ]
  }
 ],
 "metadata": {
  "accelerator": "GPU",
  "colab": {
   "gpuType": "T4",
   "provenance": []
  },
  "kaggle": {
   "accelerator": "nvidiaTeslaT4",
   "dataSources": [
    {
     "datasetId": 6691299,
     "sourceId": 10783793,
     "sourceType": "datasetVersion"
    }
   ],
   "dockerImageVersionId": 30919,
   "isGpuEnabled": true,
   "isInternetEnabled": true,
   "language": "python",
   "sourceType": "notebook"
  },
  "kernelspec": {
   "display_name": "Python 3",
   "language": "python",
   "name": "python3"
  },
  "language_info": {
   "codemirror_mode": {
    "name": "ipython",
    "version": 3
   },
   "file_extension": ".py",
   "mimetype": "text/x-python",
   "name": "python",
   "nbconvert_exporter": "python",
   "pygments_lexer": "ipython3",
   "version": "3.10.12"
  },
  "papermill": {
   "default_parameters": {},
   "duration": 14798.108721,
   "end_time": "2025-03-23T14:39:38.353013",
   "environment_variables": {},
   "exception": null,
   "input_path": "__notebook__.ipynb",
   "output_path": "__notebook__.ipynb",
   "parameters": {},
   "start_time": "2025-03-23T10:33:00.244292",
   "version": "2.6.0"
  },
  "widgets": {
   "application/vnd.jupyter.widget-state+json": {
    "state": {
     "02c816ad1b114c83a36525fb1f552cfa": {
      "model_module": "@jupyter-widgets/controls",
      "model_module_version": "2.0.0",
      "model_name": "HTMLModel",
      "state": {
       "_dom_classes": [],
       "_model_module": "@jupyter-widgets/controls",
       "_model_module_version": "2.0.0",
       "_model_name": "HTMLModel",
       "_view_count": null,
       "_view_module": "@jupyter-widgets/controls",
       "_view_module_version": "2.0.0",
       "_view_name": "HTMLView",
       "description": "",
       "description_allow_html": false,
       "layout": "IPY_MODEL_972c505227b64300a40834bf49abc609",
       "placeholder": "​",
       "style": "IPY_MODEL_2dbdd4395fe74ed3962713d2397c7f3d",
       "tabbable": null,
       "tooltip": null,
       "value": " 179M/179M [00:00&lt;00:00, 222MB/s]"
      }
     },
     "17b1ca7d1d6847b5858bd2bc67504ec4": {
      "model_module": "@jupyter-widgets/base",
      "model_module_version": "2.0.0",
      "model_name": "LayoutModel",
      "state": {
       "_model_module": "@jupyter-widgets/base",
       "_model_module_version": "2.0.0",
       "_model_name": "LayoutModel",
       "_view_count": null,
       "_view_module": "@jupyter-widgets/base",
       "_view_module_version": "2.0.0",
       "_view_name": "LayoutView",
       "align_content": null,
       "align_items": null,
       "align_self": null,
       "border_bottom": null,
       "border_left": null,
       "border_right": null,
       "border_top": null,
       "bottom": null,
       "display": null,
       "flex": null,
       "flex_flow": null,
       "grid_area": null,
       "grid_auto_columns": null,
       "grid_auto_flow": null,
       "grid_auto_rows": null,
       "grid_column": null,
       "grid_gap": null,
       "grid_row": null,
       "grid_template_areas": null,
       "grid_template_columns": null,
       "grid_template_rows": null,
       "height": null,
       "justify_content": null,
       "justify_items": null,
       "left": null,
       "margin": null,
       "max_height": null,
       "max_width": null,
       "min_height": null,
       "min_width": null,
       "object_fit": null,
       "object_position": null,
       "order": null,
       "overflow": null,
       "padding": null,
       "right": null,
       "top": null,
       "visibility": null,
       "width": null
      }
     },
     "1d8476a4e5f544e59d17e793f2a80a7a": {
      "model_module": "@jupyter-widgets/controls",
      "model_module_version": "2.0.0",
      "model_name": "HTMLStyleModel",
      "state": {
       "_model_module": "@jupyter-widgets/controls",
       "_model_module_version": "2.0.0",
       "_model_name": "HTMLStyleModel",
       "_view_count": null,
       "_view_module": "@jupyter-widgets/base",
       "_view_module_version": "2.0.0",
       "_view_name": "StyleView",
       "background": null,
       "description_width": "",
       "font_size": null,
       "text_color": null
      }
     },
     "2dbdd4395fe74ed3962713d2397c7f3d": {
      "model_module": "@jupyter-widgets/controls",
      "model_module_version": "2.0.0",
      "model_name": "HTMLStyleModel",
      "state": {
       "_model_module": "@jupyter-widgets/controls",
       "_model_module_version": "2.0.0",
       "_model_name": "HTMLStyleModel",
       "_view_count": null,
       "_view_module": "@jupyter-widgets/base",
       "_view_module_version": "2.0.0",
       "_view_name": "StyleView",
       "background": null,
       "description_width": "",
       "font_size": null,
       "text_color": null
      }
     },
     "3d10fb294a56481abe5a90181f2050a2": {
      "model_module": "@jupyter-widgets/controls",
      "model_module_version": "2.0.0",
      "model_name": "HTMLModel",
      "state": {
       "_dom_classes": [],
       "_model_module": "@jupyter-widgets/controls",
       "_model_module_version": "2.0.0",
       "_model_name": "HTMLModel",
       "_view_count": null,
       "_view_module": "@jupyter-widgets/controls",
       "_view_module_version": "2.0.0",
       "_view_name": "HTMLView",
       "description": "",
       "description_allow_html": false,
       "layout": "IPY_MODEL_17b1ca7d1d6847b5858bd2bc67504ec4",
       "placeholder": "​",
       "style": "IPY_MODEL_1d8476a4e5f544e59d17e793f2a80a7a",
       "tabbable": null,
       "tooltip": null,
       "value": "model.safetensors: 100%"
      }
     },
     "48103eea883543cf8bdd13ff3c876985": {
      "model_module": "@jupyter-widgets/controls",
      "model_module_version": "2.0.0",
      "model_name": "FloatProgressModel",
      "state": {
       "_dom_classes": [],
       "_model_module": "@jupyter-widgets/controls",
       "_model_module_version": "2.0.0",
       "_model_name": "FloatProgressModel",
       "_view_count": null,
       "_view_module": "@jupyter-widgets/controls",
       "_view_module_version": "2.0.0",
       "_view_name": "ProgressView",
       "bar_style": "success",
       "description": "",
       "description_allow_html": false,
       "layout": "IPY_MODEL_dfff112d2f5d46f0bd17a5d143eebb32",
       "max": 178675806.0,
       "min": 0.0,
       "orientation": "horizontal",
       "style": "IPY_MODEL_f68f239071b34236bb1db3ed9ed5c379",
       "tabbable": null,
       "tooltip": null,
       "value": 178675806.0
      }
     },
     "6996628e889540b5b6aa4acdd4919228": {
      "model_module": "@jupyter-widgets/base",
      "model_module_version": "2.0.0",
      "model_name": "LayoutModel",
      "state": {
       "_model_module": "@jupyter-widgets/base",
       "_model_module_version": "2.0.0",
       "_model_name": "LayoutModel",
       "_view_count": null,
       "_view_module": "@jupyter-widgets/base",
       "_view_module_version": "2.0.0",
       "_view_name": "LayoutView",
       "align_content": null,
       "align_items": null,
       "align_self": null,
       "border_bottom": null,
       "border_left": null,
       "border_right": null,
       "border_top": null,
       "bottom": null,
       "display": null,
       "flex": null,
       "flex_flow": null,
       "grid_area": null,
       "grid_auto_columns": null,
       "grid_auto_flow": null,
       "grid_auto_rows": null,
       "grid_column": null,
       "grid_gap": null,
       "grid_row": null,
       "grid_template_areas": null,
       "grid_template_columns": null,
       "grid_template_rows": null,
       "height": null,
       "justify_content": null,
       "justify_items": null,
       "left": null,
       "margin": null,
       "max_height": null,
       "max_width": null,
       "min_height": null,
       "min_width": null,
       "object_fit": null,
       "object_position": null,
       "order": null,
       "overflow": null,
       "padding": null,
       "right": null,
       "top": null,
       "visibility": null,
       "width": null
      }
     },
     "972c505227b64300a40834bf49abc609": {
      "model_module": "@jupyter-widgets/base",
      "model_module_version": "2.0.0",
      "model_name": "LayoutModel",
      "state": {
       "_model_module": "@jupyter-widgets/base",
       "_model_module_version": "2.0.0",
       "_model_name": "LayoutModel",
       "_view_count": null,
       "_view_module": "@jupyter-widgets/base",
       "_view_module_version": "2.0.0",
       "_view_name": "LayoutView",
       "align_content": null,
       "align_items": null,
       "align_self": null,
       "border_bottom": null,
       "border_left": null,
       "border_right": null,
       "border_top": null,
       "bottom": null,
       "display": null,
       "flex": null,
       "flex_flow": null,
       "grid_area": null,
       "grid_auto_columns": null,
       "grid_auto_flow": null,
       "grid_auto_rows": null,
       "grid_column": null,
       "grid_gap": null,
       "grid_row": null,
       "grid_template_areas": null,
       "grid_template_columns": null,
       "grid_template_rows": null,
       "height": null,
       "justify_content": null,
       "justify_items": null,
       "left": null,
       "margin": null,
       "max_height": null,
       "max_width": null,
       "min_height": null,
       "min_width": null,
       "object_fit": null,
       "object_position": null,
       "order": null,
       "overflow": null,
       "padding": null,
       "right": null,
       "top": null,
       "visibility": null,
       "width": null
      }
     },
     "9d1c2f1366bc478ab1abea01be07c945": {
      "model_module": "@jupyter-widgets/controls",
      "model_module_version": "2.0.0",
      "model_name": "HBoxModel",
      "state": {
       "_dom_classes": [],
       "_model_module": "@jupyter-widgets/controls",
       "_model_module_version": "2.0.0",
       "_model_name": "HBoxModel",
       "_view_count": null,
       "_view_module": "@jupyter-widgets/controls",
       "_view_module_version": "2.0.0",
       "_view_name": "HBoxView",
       "box_style": "",
       "children": [
        "IPY_MODEL_3d10fb294a56481abe5a90181f2050a2",
        "IPY_MODEL_48103eea883543cf8bdd13ff3c876985",
        "IPY_MODEL_02c816ad1b114c83a36525fb1f552cfa"
       ],
       "layout": "IPY_MODEL_6996628e889540b5b6aa4acdd4919228",
       "tabbable": null,
       "tooltip": null
      }
     },
     "dfff112d2f5d46f0bd17a5d143eebb32": {
      "model_module": "@jupyter-widgets/base",
      "model_module_version": "2.0.0",
      "model_name": "LayoutModel",
      "state": {
       "_model_module": "@jupyter-widgets/base",
       "_model_module_version": "2.0.0",
       "_model_name": "LayoutModel",
       "_view_count": null,
       "_view_module": "@jupyter-widgets/base",
       "_view_module_version": "2.0.0",
       "_view_name": "LayoutView",
       "align_content": null,
       "align_items": null,
       "align_self": null,
       "border_bottom": null,
       "border_left": null,
       "border_right": null,
       "border_top": null,
       "bottom": null,
       "display": null,
       "flex": null,
       "flex_flow": null,
       "grid_area": null,
       "grid_auto_columns": null,
       "grid_auto_flow": null,
       "grid_auto_rows": null,
       "grid_column": null,
       "grid_gap": null,
       "grid_row": null,
       "grid_template_areas": null,
       "grid_template_columns": null,
       "grid_template_rows": null,
       "height": null,
       "justify_content": null,
       "justify_items": null,
       "left": null,
       "margin": null,
       "max_height": null,
       "max_width": null,
       "min_height": null,
       "min_width": null,
       "object_fit": null,
       "object_position": null,
       "order": null,
       "overflow": null,
       "padding": null,
       "right": null,
       "top": null,
       "visibility": null,
       "width": null
      }
     },
     "f68f239071b34236bb1db3ed9ed5c379": {
      "model_module": "@jupyter-widgets/controls",
      "model_module_version": "2.0.0",
      "model_name": "ProgressStyleModel",
      "state": {
       "_model_module": "@jupyter-widgets/controls",
       "_model_module_version": "2.0.0",
       "_model_name": "ProgressStyleModel",
       "_view_count": null,
       "_view_module": "@jupyter-widgets/base",
       "_view_module_version": "2.0.0",
       "_view_name": "StyleView",
       "bar_color": null,
       "description_width": ""
      }
     }
    },
    "version_major": 2,
    "version_minor": 0
   }
  }
 },
 "nbformat": 4,
 "nbformat_minor": 5
}
