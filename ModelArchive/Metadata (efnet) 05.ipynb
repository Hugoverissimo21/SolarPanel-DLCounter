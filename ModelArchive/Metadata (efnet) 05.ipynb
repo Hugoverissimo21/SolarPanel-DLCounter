{
 "cells": [
  {
   "cell_type": "code",
   "execution_count": 1,
   "id": "28f2ec41",
   "metadata": {
    "execution": {
     "iopub.execute_input": "2025-04-05T00:33:56.824194Z",
     "iopub.status.busy": "2025-04-05T00:33:56.823968Z",
     "iopub.status.idle": "2025-04-05T00:34:03.817637Z",
     "shell.execute_reply": "2025-04-05T00:34:03.816510Z"
    },
    "papermill": {
     "duration": 6.999018,
     "end_time": "2025-04-05T00:34:03.819009",
     "exception": false,
     "start_time": "2025-04-05T00:33:56.819991",
     "status": "completed"
    },
    "tags": []
   },
   "outputs": [
    {
     "name": "stdout",
     "output_type": "stream",
     "text": [
      "\u001b[2K     \u001b[90m━━━━━━━━━━━━━━━━━━━━━━━━━━━━━━━━━━━━━━━━\u001b[0m \u001b[32m68.5/68.5 kB\u001b[0m \u001b[31m4.0 MB/s\u001b[0m eta \u001b[36m0:00:00\u001b[0m\r\n",
      "\u001b[2K   \u001b[90m━━━━━━━━━━━━━━━━━━━━━━━━━━━━━━━━━━━━━━━━\u001b[0m \u001b[32m123.5/123.5 kB\u001b[0m \u001b[31m9.1 MB/s\u001b[0m eta \u001b[36m0:00:00\u001b[0m\r\n",
      "\u001b[2K   \u001b[90m━━━━━━━━━━━━━━━━━━━━━━━━━━━━━━━━━━━━━━━━\u001b[0m \u001b[32m2.2/2.2 MB\u001b[0m \u001b[31m35.4 MB/s\u001b[0m eta \u001b[36m0:00:00\u001b[0m\r\n",
      "\u001b[2K   \u001b[90m━━━━━━━━━━━━━━━━━━━━━━━━━━━━━━━━━━━━━━━━\u001b[0m \u001b[32m993.8/993.8 kB\u001b[0m \u001b[31m55.7 MB/s\u001b[0m eta \u001b[36m0:00:00\u001b[0m\r\n",
      "\u001b[?25hNote: you may need to restart the kernel to use updated packages.\n"
     ]
    }
   ],
   "source": [
    "pip install ultralytics albumentations==1.3.0 timm==0.9.2 -q"
   ]
  },
  {
   "cell_type": "code",
   "execution_count": null,
   "id": "6f856abb",
   "metadata": {
    "execution": {
     "iopub.execute_input": "2025-04-05T00:34:03.826457Z",
     "iopub.status.busy": "2025-04-05T00:34:03.826175Z",
     "iopub.status.idle": "2025-04-05T05:06:31.345765Z",
     "shell.execute_reply": "2025-04-05T05:06:31.344360Z"
    },
    "papermill": {
     "duration": 16347.525274,
     "end_time": "2025-04-05T05:06:31.347711",
     "exception": false,
     "start_time": "2025-04-05T00:34:03.822437",
     "status": "completed"
    },
    "tags": []
   },
   "outputs": [
    {
     "name": "stdout",
     "output_type": "stream",
     "text": [
      "Training fold 3/3\n"
     ]
    },
    {
     "data": {
      "application/vnd.jupyter.widget-view+json": {
       "model_id": "437b5a7d4e214b0c8e8e19023f5dee84",
       "version_major": 2,
       "version_minor": 0
      },
      "text/plain": [
       "model.safetensors:   0%|          | 0.00/57.9M [00:00<?, ?B/s]"
      ]
     },
     "metadata": {},
     "output_type": "display_data"
    },
    {
     "name": "stderr",
     "output_type": "stream",
     "text": [
      "Epoch 1/75 [Train]: 100%|██████████| 166/166 [02:51<00:00,  1.03s/it, loss=0.482]\n",
      "Epoch 1/75 [Val]: 100%|██████████| 21/21 [00:39<00:00,  1.86s/it]\n"
     ]
    },
    {
     "name": "stdout",
     "output_type": "stream",
     "text": [
      "Epoch 1/75\n",
      "Train Loss: 2.0634 | Val Loss: 2.1884 | Val MAE: 2.4546\n"
     ]
    },
    {
     "name": "stderr",
     "output_type": "stream",
     "text": [
      "Epoch 2/75 [Train]: 100%|██████████| 166/166 [02:40<00:00,  1.03it/s, loss=1.66]\n",
      "Epoch 2/75 [Val]: 100%|██████████| 21/21 [00:37<00:00,  1.78s/it]\n"
     ]
    },
    {
     "name": "stdout",
     "output_type": "stream",
     "text": [
      "Epoch 2/75\n",
      "Train Loss: 1.7058 | Val Loss: 1.8191 | Val MAE: 2.0736\n"
     ]
    },
    {
     "name": "stderr",
     "output_type": "stream",
     "text": [
      "Epoch 3/75 [Train]: 100%|██████████| 166/166 [02:40<00:00,  1.03it/s, loss=0.103]\n",
      "Epoch 3/75 [Val]: 100%|██████████| 21/21 [00:37<00:00,  1.78s/it]\n"
     ]
    },
    {
     "name": "stdout",
     "output_type": "stream",
     "text": [
      "Epoch 3/75\n",
      "Train Loss: 1.5823 | Val Loss: 1.9305 | Val MAE: 2.1716\n"
     ]
    },
    {
     "name": "stderr",
     "output_type": "stream",
     "text": [
      "Epoch 4/75 [Train]: 100%|██████████| 166/166 [02:46<00:00,  1.00s/it, loss=0.16]\n",
      "Epoch 4/75 [Val]: 100%|██████████| 21/21 [00:38<00:00,  1.82s/it]\n"
     ]
    },
    {
     "name": "stdout",
     "output_type": "stream",
     "text": [
      "Epoch 4/75\n",
      "Train Loss: 1.4389 | Val Loss: 1.6879 | Val MAE: 1.9191\n"
     ]
    },
    {
     "name": "stderr",
     "output_type": "stream",
     "text": [
      "Epoch 5/75 [Train]: 100%|██████████| 166/166 [02:43<00:00,  1.01it/s, loss=0.204]\n",
      "Epoch 5/75 [Val]: 100%|██████████| 21/21 [00:36<00:00,  1.75s/it]\n"
     ]
    },
    {
     "name": "stdout",
     "output_type": "stream",
     "text": [
      "Epoch 5/75\n",
      "Train Loss: 1.2020 | Val Loss: 1.6238 | Val MAE: 1.8605\n"
     ]
    },
    {
     "name": "stderr",
     "output_type": "stream",
     "text": [
      "Epoch 6/75 [Train]: 100%|██████████| 166/166 [02:43<00:00,  1.01it/s, loss=1.54]\n",
      "Epoch 6/75 [Val]: 100%|██████████| 21/21 [00:36<00:00,  1.76s/it]\n"
     ]
    },
    {
     "name": "stdout",
     "output_type": "stream",
     "text": [
      "Epoch 6/75\n",
      "Train Loss: 1.0600 | Val Loss: 1.4345 | Val MAE: 1.6677\n"
     ]
    },
    {
     "name": "stderr",
     "output_type": "stream",
     "text": [
      "Epoch 7/75 [Train]: 100%|██████████| 166/166 [02:42<00:00,  1.02it/s, loss=0.53]\n",
      "Epoch 7/75 [Val]: 100%|██████████| 21/21 [00:36<00:00,  1.76s/it]\n"
     ]
    },
    {
     "name": "stdout",
     "output_type": "stream",
     "text": [
      "Epoch 7/75\n",
      "Train Loss: 1.0564 | Val Loss: 1.3774 | Val MAE: 1.6102\n"
     ]
    },
    {
     "name": "stderr",
     "output_type": "stream",
     "text": [
      "Epoch 8/75 [Train]: 100%|██████████| 166/166 [02:42<00:00,  1.02it/s, loss=0.308]\n",
      "Epoch 8/75 [Val]: 100%|██████████| 21/21 [00:39<00:00,  1.87s/it]\n"
     ]
    },
    {
     "name": "stdout",
     "output_type": "stream",
     "text": [
      "Epoch 8/75\n",
      "Train Loss: 1.2845 | Val Loss: 1.5807 | Val MAE: 1.8131\n"
     ]
    },
    {
     "name": "stderr",
     "output_type": "stream",
     "text": [
      "Epoch 9/75 [Train]: 100%|██████████| 166/166 [02:45<00:00,  1.00it/s, loss=0.571]\n",
      "Epoch 9/75 [Val]: 100%|██████████| 21/21 [00:36<00:00,  1.75s/it]\n"
     ]
    },
    {
     "name": "stdout",
     "output_type": "stream",
     "text": [
      "Epoch 9/75\n",
      "Train Loss: 1.2127 | Val Loss: 1.5913 | Val MAE: 1.8115\n"
     ]
    },
    {
     "name": "stderr",
     "output_type": "stream",
     "text": [
      "Epoch 10/75 [Train]: 100%|██████████| 166/166 [02:42<00:00,  1.02it/s, loss=1.31]\n",
      "Epoch 10/75 [Val]: 100%|██████████| 21/21 [00:36<00:00,  1.75s/it]\n"
     ]
    },
    {
     "name": "stdout",
     "output_type": "stream",
     "text": [
      "Epoch 10/75\n",
      "Train Loss: 1.0636 | Val Loss: 1.3180 | Val MAE: 1.5443\n"
     ]
    },
    {
     "name": "stderr",
     "output_type": "stream",
     "text": [
      "Epoch 11/75 [Train]: 100%|██████████| 166/166 [02:40<00:00,  1.03it/s, loss=1.27]\n",
      "Epoch 11/75 [Val]: 100%|██████████| 21/21 [00:36<00:00,  1.74s/it]\n"
     ]
    },
    {
     "name": "stdout",
     "output_type": "stream",
     "text": [
      "Epoch 11/75\n",
      "Train Loss: 1.0201 | Val Loss: 1.5355 | Val MAE: 1.7583\n"
     ]
    },
    {
     "name": "stderr",
     "output_type": "stream",
     "text": [
      "Epoch 12/75 [Train]: 100%|██████████| 166/166 [02:39<00:00,  1.04it/s, loss=7.14]\n",
      "Epoch 12/75 [Val]: 100%|██████████| 21/21 [00:36<00:00,  1.73s/it]\n"
     ]
    },
    {
     "name": "stdout",
     "output_type": "stream",
     "text": [
      "Epoch 12/75\n",
      "Train Loss: 0.9596 | Val Loss: 1.3709 | Val MAE: 1.5874\n"
     ]
    },
    {
     "name": "stderr",
     "output_type": "stream",
     "text": [
      "Epoch 13/75 [Train]: 100%|██████████| 166/166 [02:41<00:00,  1.03it/s, loss=1.65]\n",
      "Epoch 13/75 [Val]: 100%|██████████| 21/21 [00:36<00:00,  1.75s/it]\n"
     ]
    },
    {
     "name": "stdout",
     "output_type": "stream",
     "text": [
      "Epoch 13/75\n",
      "Train Loss: 0.7980 | Val Loss: 1.2936 | Val MAE: 1.5121\n"
     ]
    },
    {
     "name": "stderr",
     "output_type": "stream",
     "text": [
      "Epoch 14/75 [Train]: 100%|██████████| 166/166 [02:41<00:00,  1.03it/s, loss=0.716]\n",
      "Epoch 14/75 [Val]: 100%|██████████| 21/21 [00:36<00:00,  1.75s/it]\n"
     ]
    },
    {
     "name": "stdout",
     "output_type": "stream",
     "text": [
      "Epoch 14/75\n",
      "Train Loss: 0.7320 | Val Loss: 1.2948 | Val MAE: 1.5119\n"
     ]
    },
    {
     "name": "stderr",
     "output_type": "stream",
     "text": [
      "Epoch 15/75 [Train]: 100%|██████████| 166/166 [02:42<00:00,  1.02it/s, loss=0.11]\n",
      "Epoch 15/75 [Val]: 100%|██████████| 21/21 [00:36<00:00,  1.75s/it]\n"
     ]
    },
    {
     "name": "stdout",
     "output_type": "stream",
     "text": [
      "Epoch 15/75\n",
      "Train Loss: 1.0587 | Val Loss: 1.4742 | Val MAE: 1.6853\n"
     ]
    },
    {
     "name": "stderr",
     "output_type": "stream",
     "text": [
      "Epoch 16/75 [Train]: 100%|██████████| 166/166 [02:40<00:00,  1.03it/s, loss=0.205]\n",
      "Epoch 16/75 [Val]: 100%|██████████| 21/21 [00:36<00:00,  1.75s/it]\n"
     ]
    },
    {
     "name": "stdout",
     "output_type": "stream",
     "text": [
      "Epoch 16/75\n",
      "Train Loss: 0.9714 | Val Loss: 1.0703 | Val MAE: 1.2847\n"
     ]
    },
    {
     "name": "stderr",
     "output_type": "stream",
     "text": [
      "Epoch 17/75 [Train]: 100%|██████████| 166/166 [02:43<00:00,  1.01it/s, loss=0.233]\n",
      "Epoch 17/75 [Val]: 100%|██████████| 21/21 [00:37<00:00,  1.79s/it]\n"
     ]
    },
    {
     "name": "stdout",
     "output_type": "stream",
     "text": [
      "Epoch 17/75\n",
      "Train Loss: 0.8871 | Val Loss: 1.1771 | Val MAE: 1.3881\n"
     ]
    },
    {
     "name": "stderr",
     "output_type": "stream",
     "text": [
      "Epoch 18/75 [Train]: 100%|██████████| 166/166 [02:47<00:00,  1.01s/it, loss=0.701]\n",
      "Epoch 18/75 [Val]: 100%|██████████| 21/21 [00:37<00:00,  1.78s/it]\n"
     ]
    },
    {
     "name": "stdout",
     "output_type": "stream",
     "text": [
      "Epoch 18/75\n",
      "Train Loss: 0.7442 | Val Loss: 1.1648 | Val MAE: 1.3704\n"
     ]
    },
    {
     "name": "stderr",
     "output_type": "stream",
     "text": [
      "Epoch 19/75 [Train]: 100%|██████████| 166/166 [02:44<00:00,  1.01it/s, loss=0.328]\n",
      "Epoch 19/75 [Val]: 100%|██████████| 21/21 [00:36<00:00,  1.76s/it]\n"
     ]
    },
    {
     "name": "stdout",
     "output_type": "stream",
     "text": [
      "Epoch 19/75\n",
      "Train Loss: 0.8183 | Val Loss: 1.1548 | Val MAE: 1.3570\n"
     ]
    },
    {
     "name": "stderr",
     "output_type": "stream",
     "text": [
      "Epoch 20/75 [Train]: 100%|██████████| 166/166 [02:44<00:00,  1.01it/s, loss=0.362]\n",
      "Epoch 20/75 [Val]: 100%|██████████| 21/21 [00:37<00:00,  1.79s/it]\n"
     ]
    },
    {
     "name": "stdout",
     "output_type": "stream",
     "text": [
      "Epoch 20/75\n",
      "Train Loss: 0.6418 | Val Loss: 1.1427 | Val MAE: 1.3502\n"
     ]
    },
    {
     "name": "stderr",
     "output_type": "stream",
     "text": [
      "Epoch 21/75 [Train]: 100%|██████████| 166/166 [02:42<00:00,  1.02it/s, loss=0.674]\n",
      "Epoch 21/75 [Val]: 100%|██████████| 21/21 [00:36<00:00,  1.76s/it]\n"
     ]
    },
    {
     "name": "stdout",
     "output_type": "stream",
     "text": [
      "Epoch 21/75\n",
      "Train Loss: 0.6236 | Val Loss: 1.1699 | Val MAE: 1.3770\n"
     ]
    },
    {
     "name": "stderr",
     "output_type": "stream",
     "text": [
      "Epoch 22/75 [Train]: 100%|██████████| 166/166 [02:47<00:00,  1.01s/it, loss=0.167]\n",
      "Epoch 22/75 [Val]: 100%|██████████| 21/21 [00:37<00:00,  1.80s/it]\n"
     ]
    },
    {
     "name": "stdout",
     "output_type": "stream",
     "text": [
      "Epoch 22/75\n",
      "Train Loss: 0.7682 | Val Loss: 1.5064 | Val MAE: 1.7112\n"
     ]
    },
    {
     "name": "stderr",
     "output_type": "stream",
     "text": [
      "Epoch 23/75 [Train]: 100%|██████████| 166/166 [02:44<00:00,  1.01it/s, loss=0.384]\n",
      "Epoch 23/75 [Val]: 100%|██████████| 21/21 [00:37<00:00,  1.78s/it]\n"
     ]
    },
    {
     "name": "stdout",
     "output_type": "stream",
     "text": [
      "Epoch 23/75\n",
      "Train Loss: 0.8647 | Val Loss: 1.2356 | Val MAE: 1.4423\n"
     ]
    },
    {
     "name": "stderr",
     "output_type": "stream",
     "text": [
      "Epoch 24/75 [Train]: 100%|██████████| 166/166 [02:42<00:00,  1.02it/s, loss=0.772]\n",
      "Epoch 24/75 [Val]: 100%|██████████| 21/21 [00:36<00:00,  1.75s/it]\n"
     ]
    },
    {
     "name": "stdout",
     "output_type": "stream",
     "text": [
      "Epoch 24/75\n",
      "Train Loss: 0.8128 | Val Loss: 1.1490 | Val MAE: 1.3492\n"
     ]
    },
    {
     "name": "stderr",
     "output_type": "stream",
     "text": [
      "Epoch 25/75 [Train]: 100%|██████████| 166/166 [02:43<00:00,  1.02it/s, loss=0.194]\n",
      "Epoch 25/75 [Val]: 100%|██████████| 21/21 [00:37<00:00,  1.77s/it]\n"
     ]
    },
    {
     "name": "stdout",
     "output_type": "stream",
     "text": [
      "Epoch 25/75\n",
      "Train Loss: 0.7966 | Val Loss: 1.3500 | Val MAE: 1.5548\n"
     ]
    },
    {
     "name": "stderr",
     "output_type": "stream",
     "text": [
      "Epoch 26/75 [Train]: 100%|██████████| 166/166 [02:42<00:00,  1.02it/s, loss=0.0818]\n",
      "Epoch 26/75 [Val]: 100%|██████████| 21/21 [00:38<00:00,  1.83s/it]\n"
     ]
    },
    {
     "name": "stdout",
     "output_type": "stream",
     "text": [
      "Epoch 26/75\n",
      "Train Loss: 0.6245 | Val Loss: 1.3184 | Val MAE: 1.5250\n"
     ]
    },
    {
     "name": "stderr",
     "output_type": "stream",
     "text": [
      "Epoch 27/75 [Train]: 100%|██████████| 166/166 [02:47<00:00,  1.01s/it, loss=0.0685]\n",
      "Epoch 27/75 [Val]: 100%|██████████| 21/21 [00:37<00:00,  1.78s/it]\n"
     ]
    },
    {
     "name": "stdout",
     "output_type": "stream",
     "text": [
      "Epoch 27/75\n",
      "Train Loss: 0.5720 | Val Loss: 1.3914 | Val MAE: 1.5958\n"
     ]
    },
    {
     "name": "stderr",
     "output_type": "stream",
     "text": [
      "Epoch 28/75 [Train]: 100%|██████████| 166/166 [02:43<00:00,  1.01it/s, loss=0.508]\n",
      "Epoch 28/75 [Val]: 100%|██████████| 21/21 [00:37<00:00,  1.77s/it]\n"
     ]
    },
    {
     "name": "stdout",
     "output_type": "stream",
     "text": [
      "Epoch 28/75\n",
      "Train Loss: 0.6088 | Val Loss: 1.3343 | Val MAE: 1.5385\n"
     ]
    },
    {
     "name": "stderr",
     "output_type": "stream",
     "text": [
      "Epoch 29/75 [Train]: 100%|██████████| 166/166 [02:44<00:00,  1.01it/s, loss=5.7]\n",
      "Epoch 29/75 [Val]: 100%|██████████| 21/21 [00:37<00:00,  1.78s/it]\n"
     ]
    },
    {
     "name": "stdout",
     "output_type": "stream",
     "text": [
      "Epoch 29/75\n",
      "Train Loss: 0.8775 | Val Loss: 1.5354 | Val MAE: 1.7447\n"
     ]
    },
    {
     "name": "stderr",
     "output_type": "stream",
     "text": [
      "Epoch 30/75 [Train]: 100%|██████████| 166/166 [02:43<00:00,  1.02it/s, loss=0.896]\n",
      "Epoch 30/75 [Val]: 100%|██████████| 21/21 [00:36<00:00,  1.75s/it]\n"
     ]
    },
    {
     "name": "stdout",
     "output_type": "stream",
     "text": [
      "Epoch 30/75\n",
      "Train Loss: 0.8357 | Val Loss: 1.2764 | Val MAE: 1.4697\n"
     ]
    },
    {
     "name": "stderr",
     "output_type": "stream",
     "text": [
      "Epoch 31/75 [Train]: 100%|██████████| 166/166 [02:45<00:00,  1.00it/s, loss=0.7]\n",
      "Epoch 31/75 [Val]: 100%|██████████| 21/21 [00:37<00:00,  1.78s/it]\n"
     ]
    },
    {
     "name": "stdout",
     "output_type": "stream",
     "text": [
      "Epoch 31/75\n",
      "Train Loss: 0.7331 | Val Loss: 1.4827 | Val MAE: 1.6862\n"
     ]
    },
    {
     "name": "stderr",
     "output_type": "stream",
     "text": [
      "Epoch 32/75 [Train]: 100%|██████████| 166/166 [02:43<00:00,  1.02it/s, loss=0.174]\n",
      "Epoch 32/75 [Val]: 100%|██████████| 21/21 [00:37<00:00,  1.77s/it]\n"
     ]
    },
    {
     "name": "stdout",
     "output_type": "stream",
     "text": [
      "Epoch 32/75\n",
      "Train Loss: 0.6588 | Val Loss: 1.4216 | Val MAE: 1.6317\n"
     ]
    },
    {
     "name": "stderr",
     "output_type": "stream",
     "text": [
      "Epoch 33/75 [Train]: 100%|██████████| 166/166 [02:42<00:00,  1.02it/s, loss=0.275]\n",
      "Epoch 33/75 [Val]: 100%|██████████| 21/21 [00:36<00:00,  1.75s/it]\n"
     ]
    },
    {
     "name": "stdout",
     "output_type": "stream",
     "text": [
      "Epoch 33/75\n",
      "Train Loss: 0.5537 | Val Loss: 1.2586 | Val MAE: 1.4619\n"
     ]
    },
    {
     "name": "stderr",
     "output_type": "stream",
     "text": [
      "Epoch 34/75 [Train]: 100%|██████████| 166/166 [02:42<00:00,  1.02it/s, loss=0.325]\n",
      "Epoch 34/75 [Val]: 100%|██████████| 21/21 [00:36<00:00,  1.75s/it]\n"
     ]
    },
    {
     "name": "stdout",
     "output_type": "stream",
     "text": [
      "Epoch 34/75\n",
      "Train Loss: 0.5317 | Val Loss: 1.3318 | Val MAE: 1.5436\n"
     ]
    },
    {
     "name": "stderr",
     "output_type": "stream",
     "text": [
      "Epoch 35/75 [Train]: 100%|██████████| 166/166 [02:42<00:00,  1.02it/s, loss=0.0994]\n",
      "Epoch 35/75 [Val]: 100%|██████████| 21/21 [00:39<00:00,  1.86s/it]\n"
     ]
    },
    {
     "name": "stdout",
     "output_type": "stream",
     "text": [
      "Epoch 35/75\n",
      "Train Loss: 0.4630 | Val Loss: 1.3330 | Val MAE: 1.5370\n"
     ]
    },
    {
     "name": "stderr",
     "output_type": "stream",
     "text": [
      "Epoch 36/75 [Train]: 100%|██████████| 166/166 [02:44<00:00,  1.01it/s, loss=1.4]\n",
      "Epoch 36/75 [Val]: 100%|██████████| 21/21 [00:36<00:00,  1.76s/it]\n"
     ]
    },
    {
     "name": "stdout",
     "output_type": "stream",
     "text": [
      "Epoch 36/75\n",
      "Train Loss: 0.6131 | Val Loss: 1.2627 | Val MAE: 1.4776\n"
     ]
    },
    {
     "name": "stderr",
     "output_type": "stream",
     "text": [
      "Epoch 37/75 [Train]: 100%|██████████| 166/166 [02:51<00:00,  1.03s/it, loss=0.436]\n",
      "Epoch 37/75 [Val]: 100%|██████████| 21/21 [00:39<00:00,  1.86s/it]\n"
     ]
    },
    {
     "name": "stdout",
     "output_type": "stream",
     "text": [
      "Epoch 37/75\n",
      "Train Loss: 0.6731 | Val Loss: 1.4538 | Val MAE: 1.6512\n"
     ]
    },
    {
     "name": "stderr",
     "output_type": "stream",
     "text": [
      "Epoch 38/75 [Train]: 100%|██████████| 166/166 [02:53<00:00,  1.04s/it, loss=0.556]\n",
      "Epoch 38/75 [Val]: 100%|██████████| 21/21 [00:39<00:00,  1.87s/it]\n"
     ]
    },
    {
     "name": "stdout",
     "output_type": "stream",
     "text": [
      "Epoch 38/75\n",
      "Train Loss: 0.6307 | Val Loss: 1.3636 | Val MAE: 1.5668\n"
     ]
    },
    {
     "name": "stderr",
     "output_type": "stream",
     "text": [
      "Epoch 39/75 [Train]: 100%|██████████| 166/166 [02:54<00:00,  1.05s/it, loss=1.03]\n",
      "Epoch 39/75 [Val]: 100%|██████████| 21/21 [00:39<00:00,  1.89s/it]\n"
     ]
    },
    {
     "name": "stdout",
     "output_type": "stream",
     "text": [
      "Epoch 39/75\n",
      "Train Loss: 0.6388 | Val Loss: 1.2308 | Val MAE: 1.4305\n"
     ]
    },
    {
     "name": "stderr",
     "output_type": "stream",
     "text": [
      "Epoch 40/75 [Train]: 100%|██████████| 166/166 [02:55<00:00,  1.05s/it, loss=4.91]\n",
      "Epoch 40/75 [Val]: 100%|██████████| 21/21 [00:39<00:00,  1.89s/it]\n"
     ]
    },
    {
     "name": "stdout",
     "output_type": "stream",
     "text": [
      "Epoch 40/75\n",
      "Train Loss: 0.5035 | Val Loss: 1.2581 | Val MAE: 1.4585\n"
     ]
    },
    {
     "name": "stderr",
     "output_type": "stream",
     "text": [
      "Epoch 41/75 [Train]: 100%|██████████| 166/166 [02:55<00:00,  1.06s/it, loss=0.659]\n",
      "Epoch 41/75 [Val]: 100%|██████████| 21/21 [00:40<00:00,  1.92s/it]\n"
     ]
    },
    {
     "name": "stdout",
     "output_type": "stream",
     "text": [
      "Epoch 41/75\n",
      "Train Loss: 0.4881 | Val Loss: 1.1826 | Val MAE: 1.3796\n"
     ]
    },
    {
     "name": "stderr",
     "output_type": "stream",
     "text": [
      "Epoch 42/75 [Train]: 100%|██████████| 166/166 [03:03<00:00,  1.11s/it, loss=2.27]\n",
      "Epoch 42/75 [Val]: 100%|██████████| 21/21 [00:42<00:00,  2.01s/it]\n"
     ]
    },
    {
     "name": "stdout",
     "output_type": "stream",
     "text": [
      "Epoch 42/75\n",
      "Train Loss: 0.4224 | Val Loss: 1.1902 | Val MAE: 1.3853\n"
     ]
    },
    {
     "name": "stderr",
     "output_type": "stream",
     "text": [
      "Epoch 43/75 [Train]: 100%|██████████| 166/166 [03:11<00:00,  1.15s/it, loss=0.81]\n",
      "Epoch 43/75 [Val]: 100%|██████████| 21/21 [00:43<00:00,  2.08s/it]\n"
     ]
    },
    {
     "name": "stdout",
     "output_type": "stream",
     "text": [
      "Epoch 43/75\n",
      "Train Loss: 0.5833 | Val Loss: 1.2597 | Val MAE: 1.4797\n"
     ]
    },
    {
     "name": "stderr",
     "output_type": "stream",
     "text": [
      "Epoch 44/75 [Train]: 100%|██████████| 166/166 [03:14<00:00,  1.17s/it, loss=0.258]\n",
      "Epoch 44/75 [Val]: 100%|██████████| 21/21 [00:44<00:00,  2.10s/it]\n"
     ]
    },
    {
     "name": "stdout",
     "output_type": "stream",
     "text": [
      "Epoch 44/75\n",
      "Train Loss: 0.6003 | Val Loss: 1.6501 | Val MAE: 1.8609\n"
     ]
    },
    {
     "name": "stderr",
     "output_type": "stream",
     "text": [
      "Epoch 45/75 [Train]: 100%|██████████| 166/166 [03:14<00:00,  1.17s/it, loss=0.394]\n",
      "Epoch 45/75 [Val]: 100%|██████████| 21/21 [00:44<00:00,  2.11s/it]\n"
     ]
    },
    {
     "name": "stdout",
     "output_type": "stream",
     "text": [
      "Epoch 45/75\n",
      "Train Loss: 0.6352 | Val Loss: 1.3299 | Val MAE: 1.5347\n"
     ]
    },
    {
     "name": "stderr",
     "output_type": "stream",
     "text": [
      "Epoch 46/75 [Train]: 100%|██████████| 166/166 [03:01<00:00,  1.09s/it, loss=0.0874]\n",
      "Epoch 46/75 [Val]: 100%|██████████| 21/21 [00:39<00:00,  1.87s/it]\n"
     ]
    },
    {
     "name": "stdout",
     "output_type": "stream",
     "text": [
      "Epoch 46/75\n",
      "Train Loss: 0.5528 | Val Loss: 1.2695 | Val MAE: 1.4670\n"
     ]
    },
    {
     "name": "stderr",
     "output_type": "stream",
     "text": [
      "Epoch 47/75 [Train]: 100%|██████████| 166/166 [02:55<00:00,  1.06s/it, loss=0.141]\n",
      "Epoch 47/75 [Val]: 100%|██████████| 21/21 [00:40<00:00,  1.93s/it]\n"
     ]
    },
    {
     "name": "stdout",
     "output_type": "stream",
     "text": [
      "Epoch 47/75\n",
      "Train Loss: 0.4754 | Val Loss: 1.2373 | Val MAE: 1.4329\n"
     ]
    },
    {
     "name": "stderr",
     "output_type": "stream",
     "text": [
      "Epoch 48/75 [Train]: 100%|██████████| 166/166 [02:58<00:00,  1.08s/it, loss=4.31]\n",
      "Epoch 48/75 [Val]: 100%|██████████| 21/21 [00:40<00:00,  1.92s/it]\n"
     ]
    },
    {
     "name": "stdout",
     "output_type": "stream",
     "text": [
      "Epoch 48/75\n",
      "Train Loss: 0.4588 | Val Loss: 1.2845 | Val MAE: 1.4847\n"
     ]
    },
    {
     "name": "stderr",
     "output_type": "stream",
     "text": [
      "Epoch 49/75 [Train]: 100%|██████████| 166/166 [02:57<00:00,  1.07s/it, loss=0.0915]\n",
      "Epoch 49/75 [Val]: 100%|██████████| 21/21 [00:41<00:00,  1.97s/it]\n"
     ]
    },
    {
     "name": "stdout",
     "output_type": "stream",
     "text": [
      "Epoch 49/75\n",
      "Train Loss: 0.4208 | Val Loss: 1.2670 | Val MAE: 1.4635\n"
     ]
    },
    {
     "name": "stderr",
     "output_type": "stream",
     "text": [
      "Epoch 50/75 [Train]: 100%|██████████| 166/166 [02:59<00:00,  1.08s/it, loss=0.307]\n",
      "Epoch 50/75 [Val]: 100%|██████████| 21/21 [00:40<00:00,  1.94s/it]\n"
     ]
    },
    {
     "name": "stdout",
     "output_type": "stream",
     "text": [
      "Epoch 50/75\n",
      "Train Loss: 0.5343 | Val Loss: 1.4633 | Val MAE: 1.6698\n"
     ]
    },
    {
     "name": "stderr",
     "output_type": "stream",
     "text": [
      "Epoch 51/75 [Train]: 100%|██████████| 166/166 [02:58<00:00,  1.07s/it, loss=0.198]\n",
      "Epoch 51/75 [Val]: 100%|██████████| 21/21 [00:39<00:00,  1.89s/it]\n"
     ]
    },
    {
     "name": "stdout",
     "output_type": "stream",
     "text": [
      "Epoch 51/75\n",
      "Train Loss: 0.5451 | Val Loss: 1.1969 | Val MAE: 1.3903\n"
     ]
    },
    {
     "name": "stderr",
     "output_type": "stream",
     "text": [
      "Epoch 52/75 [Train]: 100%|██████████| 166/166 [02:58<00:00,  1.08s/it, loss=0.254]\n",
      "Epoch 52/75 [Val]: 100%|██████████| 21/21 [00:42<00:00,  2.01s/it]\n"
     ]
    },
    {
     "name": "stdout",
     "output_type": "stream",
     "text": [
      "Epoch 52/75\n",
      "Train Loss: 0.5522 | Val Loss: 1.3354 | Val MAE: 1.5313\n"
     ]
    },
    {
     "name": "stderr",
     "output_type": "stream",
     "text": [
      "Epoch 53/75 [Train]: 100%|██████████| 166/166 [03:06<00:00,  1.13s/it, loss=0.436]\n",
      "Epoch 53/75 [Val]: 100%|██████████| 21/21 [00:42<00:00,  2.02s/it]\n"
     ]
    },
    {
     "name": "stdout",
     "output_type": "stream",
     "text": [
      "Epoch 53/75\n",
      "Train Loss: 0.4582 | Val Loss: 1.2675 | Val MAE: 1.4647\n"
     ]
    },
    {
     "name": "stderr",
     "output_type": "stream",
     "text": [
      "Epoch 54/75 [Train]: 100%|██████████| 166/166 [03:06<00:00,  1.12s/it, loss=0.887]\n",
      "Epoch 54/75 [Val]: 100%|██████████| 21/21 [00:42<00:00,  2.04s/it]\n"
     ]
    },
    {
     "name": "stdout",
     "output_type": "stream",
     "text": [
      "Epoch 54/75\n",
      "Train Loss: 0.4583 | Val Loss: 1.3634 | Val MAE: 1.5534\n"
     ]
    },
    {
     "name": "stderr",
     "output_type": "stream",
     "text": [
      "Epoch 55/75 [Train]: 100%|██████████| 166/166 [03:09<00:00,  1.14s/it, loss=0.59]\n",
      "Epoch 55/75 [Val]: 100%|██████████| 21/21 [00:43<00:00,  2.06s/it]\n"
     ]
    },
    {
     "name": "stdout",
     "output_type": "stream",
     "text": [
      "Epoch 55/75\n",
      "Train Loss: 0.4172 | Val Loss: 1.2202 | Val MAE: 1.4056\n"
     ]
    },
    {
     "name": "stderr",
     "output_type": "stream",
     "text": [
      "Epoch 56/75 [Train]: 100%|██████████| 166/166 [03:09<00:00,  1.14s/it, loss=0.113]\n",
      "Epoch 56/75 [Val]: 100%|██████████| 21/21 [00:43<00:00,  2.05s/it]\n"
     ]
    },
    {
     "name": "stdout",
     "output_type": "stream",
     "text": [
      "Epoch 56/75\n",
      "Train Loss: 0.3735 | Val Loss: 1.2022 | Val MAE: 1.3910\n"
     ]
    },
    {
     "name": "stderr",
     "output_type": "stream",
     "text": [
      "Epoch 57/75 [Train]: 100%|██████████| 166/166 [03:11<00:00,  1.15s/it, loss=0.147]\n",
      "Epoch 57/75 [Val]: 100%|██████████| 21/21 [00:43<00:00,  2.05s/it]\n"
     ]
    },
    {
     "name": "stdout",
     "output_type": "stream",
     "text": [
      "Epoch 57/75\n",
      "Train Loss: 0.5331 | Val Loss: 1.3868 | Val MAE: 1.5880\n"
     ]
    },
    {
     "name": "stderr",
     "output_type": "stream",
     "text": [
      "Epoch 58/75 [Train]: 100%|██████████| 166/166 [03:12<00:00,  1.16s/it, loss=0.388]\n",
      "Epoch 58/75 [Val]: 100%|██████████| 21/21 [00:44<00:00,  2.10s/it]\n"
     ]
    },
    {
     "name": "stdout",
     "output_type": "stream",
     "text": [
      "Epoch 58/75\n",
      "Train Loss: 0.5711 | Val Loss: 1.3245 | Val MAE: 1.5147\n"
     ]
    },
    {
     "name": "stderr",
     "output_type": "stream",
     "text": [
      "Epoch 59/75 [Train]: 100%|██████████| 166/166 [03:13<00:00,  1.16s/it, loss=0.099]\n",
      "Epoch 59/75 [Val]: 100%|██████████| 21/21 [00:43<00:00,  2.07s/it]\n"
     ]
    },
    {
     "name": "stdout",
     "output_type": "stream",
     "text": [
      "Epoch 59/75\n",
      "Train Loss: 0.4944 | Val Loss: 1.3788 | Val MAE: 1.5723\n"
     ]
    },
    {
     "name": "stderr",
     "output_type": "stream",
     "text": [
      "Epoch 60/75 [Train]: 100%|██████████| 166/166 [03:15<00:00,  1.18s/it, loss=0.196]\n",
      "Epoch 60/75 [Val]: 100%|██████████| 21/21 [00:44<00:00,  2.11s/it]\n"
     ]
    },
    {
     "name": "stdout",
     "output_type": "stream",
     "text": [
      "Epoch 60/75\n",
      "Train Loss: 0.4501 | Val Loss: 1.2246 | Val MAE: 1.4238\n"
     ]
    },
    {
     "name": "stderr",
     "output_type": "stream",
     "text": [
      "Epoch 61/75 [Train]: 100%|██████████| 166/166 [03:14<00:00,  1.17s/it, loss=0.317]\n",
      "Epoch 61/75 [Val]: 100%|██████████| 21/21 [00:44<00:00,  2.11s/it]\n"
     ]
    },
    {
     "name": "stdout",
     "output_type": "stream",
     "text": [
      "Epoch 61/75\n",
      "Train Loss: 0.4338 | Val Loss: 1.3355 | Val MAE: 1.5270\n"
     ]
    },
    {
     "name": "stderr",
     "output_type": "stream",
     "text": [
      "Epoch 62/75 [Train]: 100%|██████████| 166/166 [03:15<00:00,  1.18s/it, loss=1.1]\n",
      "Epoch 62/75 [Val]: 100%|██████████| 21/21 [00:44<00:00,  2.10s/it]\n"
     ]
    },
    {
     "name": "stdout",
     "output_type": "stream",
     "text": [
      "Epoch 62/75\n",
      "Train Loss: 0.4014 | Val Loss: 1.2669 | Val MAE: 1.4520\n"
     ]
    },
    {
     "name": "stderr",
     "output_type": "stream",
     "text": [
      "Epoch 63/75 [Train]: 100%|██████████| 166/166 [03:14<00:00,  1.17s/it, loss=0.0666]\n",
      "Epoch 63/75 [Val]: 100%|██████████| 21/21 [00:44<00:00,  2.12s/it]\n"
     ]
    },
    {
     "name": "stdout",
     "output_type": "stream",
     "text": [
      "Epoch 63/75\n",
      "Train Loss: 0.3314 | Val Loss: 1.2248 | Val MAE: 1.4114\n"
     ]
    },
    {
     "name": "stderr",
     "output_type": "stream",
     "text": [
      "Epoch 64/75 [Train]: 100%|██████████| 166/166 [03:16<00:00,  1.18s/it, loss=0.282]\n",
      "Epoch 64/75 [Val]: 100%|██████████| 21/21 [00:45<00:00,  2.15s/it]\n"
     ]
    },
    {
     "name": "stdout",
     "output_type": "stream",
     "text": [
      "Epoch 64/75\n",
      "Train Loss: 0.4477 | Val Loss: 1.3244 | Val MAE: 1.5182\n"
     ]
    },
    {
     "name": "stderr",
     "output_type": "stream",
     "text": [
      "Epoch 65/75 [Train]: 100%|██████████| 166/166 [03:18<00:00,  1.19s/it, loss=4.51]\n",
      "Epoch 65/75 [Val]: 100%|██████████| 21/21 [00:44<00:00,  2.12s/it]\n"
     ]
    },
    {
     "name": "stdout",
     "output_type": "stream",
     "text": [
      "Epoch 65/75\n",
      "Train Loss: 0.5185 | Val Loss: 1.5446 | Val MAE: 1.7348\n"
     ]
    },
    {
     "name": "stderr",
     "output_type": "stream",
     "text": [
      "Epoch 66/75 [Train]: 100%|██████████| 166/166 [03:15<00:00,  1.18s/it, loss=0.116]\n",
      "Epoch 66/75 [Val]: 100%|██████████| 21/21 [00:44<00:00,  2.12s/it]\n"
     ]
    },
    {
     "name": "stdout",
     "output_type": "stream",
     "text": [
      "Epoch 66/75\n",
      "Train Loss: 0.5071 | Val Loss: 1.4096 | Val MAE: 1.6023\n"
     ]
    },
    {
     "name": "stderr",
     "output_type": "stream",
     "text": [
      "Epoch 67/75 [Train]: 100%|██████████| 166/166 [03:17<00:00,  1.19s/it, loss=0.342]\n",
      "Epoch 67/75 [Val]: 100%|██████████| 21/21 [00:45<00:00,  2.16s/it]\n"
     ]
    },
    {
     "name": "stdout",
     "output_type": "stream",
     "text": [
      "Epoch 67/75\n",
      "Train Loss: 0.5539 | Val Loss: 1.2427 | Val MAE: 1.4285\n"
     ]
    },
    {
     "name": "stderr",
     "output_type": "stream",
     "text": [
      "Epoch 68/75 [Train]: 100%|██████████| 166/166 [03:18<00:00,  1.20s/it, loss=0.0855]\n",
      "Epoch 68/75 [Val]: 100%|██████████| 21/21 [00:44<00:00,  2.11s/it]\n"
     ]
    },
    {
     "name": "stdout",
     "output_type": "stream",
     "text": [
      "Epoch 68/75\n",
      "Train Loss: 0.3835 | Val Loss: 1.3164 | Val MAE: 1.5088\n"
     ]
    },
    {
     "name": "stderr",
     "output_type": "stream",
     "text": [
      "Epoch 69/75 [Train]: 100%|██████████| 166/166 [03:15<00:00,  1.18s/it, loss=0.169]\n",
      "Epoch 69/75 [Val]: 100%|██████████| 21/21 [00:44<00:00,  2.14s/it]\n"
     ]
    },
    {
     "name": "stdout",
     "output_type": "stream",
     "text": [
      "Epoch 69/75\n",
      "Train Loss: 0.4094 | Val Loss: 1.2424 | Val MAE: 1.4281\n"
     ]
    },
    {
     "name": "stderr",
     "output_type": "stream",
     "text": [
      "Epoch 70/75 [Train]: 100%|██████████| 166/166 [03:15<00:00,  1.18s/it, loss=0.121]\n",
      "Epoch 70/75 [Val]: 100%|██████████| 21/21 [00:44<00:00,  2.13s/it]\n"
     ]
    },
    {
     "name": "stdout",
     "output_type": "stream",
     "text": [
      "Epoch 70/75\n",
      "Train Loss: 0.3552 | Val Loss: 1.2265 | Val MAE: 1.4153\n"
     ]
    },
    {
     "name": "stderr",
     "output_type": "stream",
     "text": [
      "Epoch 71/75 [Train]: 100%|██████████| 166/166 [03:15<00:00,  1.18s/it, loss=0.502]\n",
      "Epoch 71/75 [Val]: 100%|██████████| 21/21 [00:43<00:00,  2.09s/it]\n"
     ]
    },
    {
     "name": "stdout",
     "output_type": "stream",
     "text": [
      "Epoch 71/75\n",
      "Train Loss: 0.4728 | Val Loss: 1.4486 | Val MAE: 1.6551\n"
     ]
    },
    {
     "name": "stderr",
     "output_type": "stream",
     "text": [
      "Epoch 72/75 [Train]: 100%|██████████| 166/166 [03:12<00:00,  1.16s/it, loss=1.99]\n",
      "Epoch 72/75 [Val]: 100%|██████████| 21/21 [00:43<00:00,  2.07s/it]\n"
     ]
    },
    {
     "name": "stdout",
     "output_type": "stream",
     "text": [
      "Epoch 72/75\n",
      "Train Loss: 0.5238 | Val Loss: 1.4498 | Val MAE: 1.6578\n"
     ]
    },
    {
     "name": "stderr",
     "output_type": "stream",
     "text": [
      "Epoch 73/75 [Train]: 100%|██████████| 166/166 [03:12<00:00,  1.16s/it, loss=0.836]\n",
      "Epoch 73/75 [Val]: 100%|██████████| 21/21 [00:44<00:00,  2.11s/it]\n"
     ]
    },
    {
     "name": "stdout",
     "output_type": "stream",
     "text": [
      "Epoch 73/75\n",
      "Train Loss: 0.4449 | Val Loss: 1.2766 | Val MAE: 1.4682\n"
     ]
    },
    {
     "name": "stderr",
     "output_type": "stream",
     "text": [
      "Epoch 74/75 [Train]: 100%|██████████| 166/166 [03:13<00:00,  1.17s/it, loss=0.0816]\n",
      "Epoch 74/75 [Val]: 100%|██████████| 21/21 [00:44<00:00,  2.11s/it]\n"
     ]
    },
    {
     "name": "stdout",
     "output_type": "stream",
     "text": [
      "Epoch 74/75\n",
      "Train Loss: 0.4728 | Val Loss: 1.2057 | Val MAE: 1.3896\n"
     ]
    },
    {
     "name": "stderr",
     "output_type": "stream",
     "text": [
      "Epoch 75/75 [Train]: 100%|██████████| 166/166 [03:15<00:00,  1.18s/it, loss=0.153]\n",
      "Epoch 75/75 [Val]: 100%|██████████| 21/21 [00:44<00:00,  2.11s/it]\n"
     ]
    },
    {
     "name": "stdout",
     "output_type": "stream",
     "text": [
      "Epoch 75/75\n",
      "Train Loss: 0.3977 | Val Loss: 1.2465 | Val MAE: 1.4295\n"
     ]
    },
    {
     "name": "stderr",
     "output_type": "stream",
     "text": [
      "Inference: 100%|██████████| 18/18 [01:25<00:00,  4.76s/it]"
     ]
    },
    {
     "name": "stdout",
     "output_type": "stream",
     "text": [
      "Submissions saved with shapes: (2214, 2) (2214, 2)\n"
     ]
    },
    {
     "name": "stderr",
     "output_type": "stream",
     "text": [
      "\n"
     ]
    }
   ],
   "source": [
    "# -*- coding: utf-8 -*-\n",
    "import os\n",
    "import timm\n",
    "import torch\n",
    "import torch.nn as nn\n",
    "import torch.optim as optim\n",
    "import albumentations as A\n",
    "from albumentations.pytorch import ToTensorV2\n",
    "from torch.utils.data import Dataset, DataLoader\n",
    "import pandas as pd\n",
    "import cv2\n",
    "from sklearn.model_selection import KFold\n",
    "import numpy as np\n",
    "from tqdm import tqdm\n",
    "from torch.amp import autocast, GradScaler  # Fixed import\n",
    "from sklearn.metrics import mean_absolute_error\n",
    "\n",
    "import json\n",
    "\n",
    "# Fixed Albumentations version warning\n",
    "os.environ['NO_ALBUMENTATIONS_UPDATE'] = '1'\n",
    "\n",
    "# Enhanced Dataset with Metadata\n",
    "class SolarPanelDataset(Dataset):\n",
    "    def __init__(self, dataframe, transform=None, to_train=True):\n",
    "        self.dataframe = dataframe\n",
    "        self.transform = transform\n",
    "        self.to_train = to_train\n",
    "        self.placement_map = {\"roof\": 0, \"openspace\": 1, \"r_openspace\": 2, \"S-unknown\": 3}\n",
    "\n",
    "    def __len__(self):\n",
    "        return len(self.dataframe)\n",
    "\n",
    "    def __getitem__(self, idx):\n",
    "        row = self.dataframe.iloc[idx]\n",
    "        image = cv2.imread(row[\"path\"])\n",
    "        image = cv2.cvtColor(image, cv2.COLOR_BGR2RGB)  # Correct color conversion\n",
    "\n",
    "        # Improved metadata encoding\n",
    "        metadata = torch.zeros(5)\n",
    "        metadata[0] = 1.0 if row[\"img_origin\"] == \"D\" else 0.0\n",
    "        placement = self.placement_map.get(row[\"placement\"], 3)\n",
    "        metadata[1 + placement] = 1.0  # One-hot encoding\n",
    "\n",
    "        if self.transform:\n",
    "            image = self.transform(image=image)['image']\n",
    "\n",
    "        if self.to_train:\n",
    "            target = torch.tensor([row[\"boil_nbr\"], row[\"pan_nbr\"]], dtype=torch.float32)\n",
    "            return image, metadata, target\n",
    "        return image, metadata\n",
    "\n",
    "# Enhanced Model with Metadata\n",
    "class EfficientNetV2Meta(nn.Module):\n",
    "    def __init__(self):\n",
    "        super().__init__()\n",
    "        self.backbone = timm.create_model(\"tf_efficientnetv2_b3\", pretrained=True, num_classes=0)  # Larger backbone\n",
    "        self.meta_processor = nn.Sequential(\n",
    "            nn.Linear(5, 128),\n",
    "            nn.LayerNorm(128),\n",
    "            nn.ReLU(),\n",
    "            nn.Dropout(0.4),\n",
    "            nn.Linear(128, 64)\n",
    "        )\n",
    "        self.attention = nn.MultiheadAttention(embed_dim=64, num_heads=4)\n",
    "        self.regressor = nn.Sequential(\n",
    "            nn.Linear(self.backbone.num_features + 64, 512),\n",
    "            nn.ReLU(),\n",
    "            nn.Dropout(0.4),\n",
    "            nn.Linear(512, 2),\n",
    "            nn.Softplus()  # Better for count predictions\n",
    "        )\n",
    "\n",
    "    def forward(self, image, metadata):\n",
    "        img_features = self.backbone(image)\n",
    "        meta_features = self.meta_processor(metadata.unsqueeze(0))\n",
    "        attn_output, _ = self.attention(meta_features, meta_features, meta_features)\n",
    "        combined = torch.cat([img_features, attn_output.squeeze(0)], dim=1)\n",
    "        return self.regressor(combined)\n",
    "\n",
    "# Advanced Augmentation\n",
    "train_transform = A.Compose([\n",
    "    A.RandomResizedCrop(512, 512, scale=(0.7, 1.0)),\n",
    "    A.HorizontalFlip(p=0.5),\n",
    "    A.VerticalFlip(p=0.5),\n",
    "    A.RandomRotate90(p=0.5),\n",
    "    A.GaussianBlur(blur_limit=(3, 7), p=0.3),\n",
    "    A.CLAHE(clip_limit=4.0, p=0.5),\n",
    "    A.HueSaturationValue(p=0.3),\n",
    "    A.Normalize(mean=(0.485, 0.456, 0.406), std=(0.229, 0.224, 0.225)),\n",
    "    ToTensorV2()\n",
    "])\n",
    "\n",
    "test_transform = A.Compose([\n",
    "    A.Resize(512, 512),\n",
    "    A.Normalize(mean=(0.485, 0.456, 0.406), std=(0.229, 0.224, 0.225)),\n",
    "    ToTensorV2()\n",
    "])\n",
    "\n",
    "# Training Configuration\n",
    "def train(fold=0, epochs=20, batch_size=16):\n",
    "    train_df = pd.read_csv(\"/kaggle/input/lacuna-solar-survey-challenge/Train.csv\")\n",
    "    train_df = train_df.groupby(\"ID\").agg({\n",
    "        \"boil_nbr\": \"sum\",\n",
    "        \"pan_nbr\": \"sum\",\n",
    "        \"img_origin\": \"first\",\n",
    "        \"placement\": \"first\"\n",
    "    }).reset_index()\n",
    "    train_df[\"path\"] = \"/kaggle/input/lacuna-solar-survey-challenge/images/\" + train_df[\"ID\"] + \".jpg\"\n",
    "\n",
    "    kf = KFold(n_splits=5, shuffle=True, random_state=42)\n",
    "    splits = list(kf.split(train_df))\n",
    "    train_idx, val_idx = splits[fold]\n",
    "\n",
    "    train_ds = SolarPanelDataset(train_df.iloc[train_idx], transform=train_transform)\n",
    "    val_ds = SolarPanelDataset(train_df.iloc[val_idx], transform=test_transform)\n",
    "\n",
    "    train_loader = DataLoader(train_ds, batch_size=batch_size, \n",
    "                             shuffle=True, num_workers=4, pin_memory=True)\n",
    "    val_loader = DataLoader(val_ds, batch_size=batch_size*2, \n",
    "                           shuffle=False, num_workers=4, pin_memory=True)\n",
    "\n",
    "    model = EfficientNetV2Meta().cuda()\n",
    "    criterion = nn.HuberLoss(delta=1.0)  # Improved loss function\n",
    "    optimizer = optim.AdamW(model.parameters(), lr=1e-4, weight_decay=1e-4)\n",
    "    scheduler = optim.lr_scheduler.CosineAnnealingWarmRestarts(optimizer, T_0=7, T_mult=1)\n",
    "    scaler = GradScaler()\n",
    "\n",
    "    best_mae = float('inf')\n",
    "    json_dict = {}\n",
    "    val_mae_L = []\n",
    "    val_loss_L = []\n",
    "    train_loss_L = []\n",
    "    for epoch in range(epochs):\n",
    "            \n",
    "        # Training loop\n",
    "        model.train()\n",
    "        train_loss = 0.0\n",
    "        pbar = tqdm(train_loader, desc=f\"Epoch {epoch+1}/{epochs} [Train]\")\n",
    "        for images, meta, targets in pbar:\n",
    "            images = images.cuda(non_blocking=True)\n",
    "            meta = meta.cuda(non_blocking=True)\n",
    "            targets = targets.cuda(non_blocking=True)\n",
    "            \n",
    "            optimizer.zero_grad()\n",
    "            with autocast(device_type='cuda'):\n",
    "                outputs = model(images, meta)\n",
    "                loss = criterion(outputs, targets)\n",
    "            scaler.scale(loss).backward()\n",
    "            scaler.step(optimizer)\n",
    "            scaler.update()\n",
    "            \n",
    "            train_loss += loss.item()\n",
    "            pbar.set_postfix(loss=loss.item())\n",
    "        \n",
    "        # Validation loop\n",
    "        model.eval()\n",
    "        val_loss = 0.0\n",
    "        preds, truths = [], []\n",
    "        with torch.no_grad():\n",
    "            for images, meta, targets in tqdm(val_loader, desc=f\"Epoch {epoch+1}/{epochs} [Val]\"):\n",
    "                images = images.cuda(non_blocking=True)\n",
    "                meta = meta.cuda(non_blocking=True)\n",
    "                targets = targets.cuda(non_blocking=True)\n",
    "                \n",
    "                with autocast(device_type='cuda'):\n",
    "                    outputs = model(images, meta)\n",
    "                    loss = criterion(outputs, targets)\n",
    "                \n",
    "                val_loss += loss.item()\n",
    "                preds.append(outputs.cpu().numpy())\n",
    "                truths.append(targets.cpu().numpy())\n",
    "        \n",
    "        # Metrics calculation\n",
    "        train_loss /= len(train_loader)\n",
    "        val_loss /= len(val_loader)\n",
    "        preds = np.concatenate(preds)\n",
    "        truths = np.concatenate(truths)\n",
    "        mae = mean_absolute_error(truths, preds)\n",
    "\n",
    "        val_mae_L.append(float(mae))\n",
    "        val_loss_L.append(float(val_loss))\n",
    "        train_loss_L.append(float(train_loss))\n",
    "        \n",
    "        print(f\"Epoch {epoch+1}/{epochs}\")\n",
    "        print(f\"Train Loss: {train_loss:.4f} | Val Loss: {val_loss:.4f} | Val MAE: {mae:.4f}\")\n",
    "        \n",
    "        # Model checkpointing based on MAE\n",
    "        if mae < best_mae:\n",
    "            best_mae = mae\n",
    "            torch.save(model.state_dict(), f\"best_model_fold{fold}.pth\")\n",
    "            json_dict[\"model_from_epoch\"] = f\"{epoch+1} with mae {mae}\"\n",
    "        \n",
    "        scheduler.step()\n",
    "\n",
    "    json_dict[\"val_mae\"] = val_mae_L\n",
    "    json_dict[\"val_loss\"] = val_loss_L\n",
    "    json_dict[\"train_loss\"] = train_loss_L\n",
    "    return best_mae, json_dict\n",
    "\n",
    "# Inference with TTA\n",
    "def predict(test_df, model_paths, batch_size=32):\n",
    "    test_df[\"path\"] = \"/kaggle/input/lacuna-solar-survey-challenge/images/\" + test_df[\"ID\"] + \".jpg\"\n",
    "    test_ds = SolarPanelDataset(test_df, transform=test_transform, to_train=False)\n",
    "    test_loader = DataLoader(test_ds, batch_size=batch_size, shuffle=False, num_workers=4)\n",
    "    \n",
    "    predictions = np.zeros((len(test_df), 2))\n",
    "    for path in model_paths:\n",
    "        model = EfficientNetV2Meta().cuda()\n",
    "        model.load_state_dict(torch.load(path, weights_only=True))  # Safer loading\n",
    "        model.eval()\n",
    "        \n",
    "        tta_preds = []\n",
    "        with torch.no_grad():\n",
    "            for images, meta in tqdm(test_loader, desc=\"Inference\"):\n",
    "                images = images.cuda()\n",
    "                meta = meta.cuda()\n",
    "                with autocast(device_type='cuda'):\n",
    "                    outputs = model(images, meta)\n",
    "                tta_preds.append(outputs.cpu().numpy())\n",
    "        \n",
    "        predictions += np.concatenate(tta_preds)\n",
    "    \n",
    "    return predictions / len(model_paths)\n",
    "\n",
    "# Main Execution\n",
    "if __name__ == \"__main__\":\n",
    "    output_json = {}\n",
    "    \n",
    "    # Train multiple folds\n",
    "    folds = 3\n",
    "    model_paths = []\n",
    "    for fold in range(folds):\n",
    "            \n",
    "        output_json[f\"Fold {fold}\"] = {}\n",
    "        \n",
    "        print(f\"Training fold {fold+1}/{folds}\")\n",
    "        best_mae, json_dict = train(fold=fold, epochs=75, batch_size=16)\n",
    "        \n",
    "        output_json[f\"Fold {fold}\"][\"Results\"] = json_dict\n",
    "        output_json[f\"Fold {fold}\"][\"Best Mae\"] = float(best_mae)\n",
    "        \n",
    "        model_paths.append(f\"best_model_fold{fold}.pth\")\n",
    "\n",
    "    with open(\"results.json\", \"w\") as file:\n",
    "        json.dump(output_json, file, indent=4)\n",
    "    \n",
    "    # Prepare submission\n",
    "    test_df = pd.read_csv(\"/kaggle/input/lacuna-solar-survey-challenge/Test.csv\")\n",
    "    predictions = predict(test_df, model_paths, batch_size=64)\n",
    "    \n",
    "    # Create submissions\n",
    "    submission = pd.DataFrame({\n",
    "        \"ID\": np.repeat(test_df[\"ID\"].values, 2),\n",
    "        \"Target\": predictions.flatten()\n",
    "    })\n",
    "    submission[\"ID\"] += np.where(\n",
    "        submission.groupby(\"ID\").cumcount() == 0,\n",
    "        \"_boil\",\n",
    "        \"_pan\"\n",
    "    )\n",
    "    submission.to_csv(\"submission_original.csv\", index=False)\n",
    "    \n",
    "    int_submission = submission.copy()\n",
    "    int_submission[\"Target\"] = np.round(int_submission[\"Target\"]).astype(int)\n",
    "    int_submission.to_csv(\"submission_integer.csv\", index=False)\n",
    "    \n",
    "    print(\"Submissions saved with shapes:\", submission.shape, int_submission.shape)"
   ]
  }
 ],
 "metadata": {
  "accelerator": "GPU",
  "colab": {
   "gpuType": "T4",
   "provenance": []
  },
  "kaggle": {
   "accelerator": "nvidiaTeslaT4",
   "dataSources": [
    {
     "datasetId": 6691299,
     "sourceId": 10783793,
     "sourceType": "datasetVersion"
    }
   ],
   "dockerImageVersionId": 30919,
   "isGpuEnabled": true,
   "isInternetEnabled": true,
   "language": "python",
   "sourceType": "notebook"
  },
  "kernelspec": {
   "display_name": "Python 3",
   "language": "python",
   "name": "python3"
  },
  "language_info": {
   "codemirror_mode": {
    "name": "ipython",
    "version": 3
   },
   "file_extension": ".py",
   "mimetype": "text/x-python",
   "name": "python",
   "nbconvert_exporter": "python",
   "pygments_lexer": "ipython3",
   "version": "3.10.12"
  },
  "papermill": {
   "default_parameters": {},
   "duration": 16361.84565,
   "end_time": "2025-04-05T05:06:35.981725",
   "environment_variables": {},
   "exception": null,
   "input_path": "__notebook__.ipynb",
   "output_path": "__notebook__.ipynb",
   "parameters": {},
   "start_time": "2025-04-05T00:33:54.136075",
   "version": "2.6.0"
  },
  "widgets": {
   "application/vnd.jupyter.widget-state+json": {
    "state": {
     "10afd3d100ed4f4da084bab1d962c044": {
      "model_module": "@jupyter-widgets/base",
      "model_module_version": "2.0.0",
      "model_name": "LayoutModel",
      "state": {
       "_model_module": "@jupyter-widgets/base",
       "_model_module_version": "2.0.0",
       "_model_name": "LayoutModel",
       "_view_count": null,
       "_view_module": "@jupyter-widgets/base",
       "_view_module_version": "2.0.0",
       "_view_name": "LayoutView",
       "align_content": null,
       "align_items": null,
       "align_self": null,
       "border_bottom": null,
       "border_left": null,
       "border_right": null,
       "border_top": null,
       "bottom": null,
       "display": null,
       "flex": null,
       "flex_flow": null,
       "grid_area": null,
       "grid_auto_columns": null,
       "grid_auto_flow": null,
       "grid_auto_rows": null,
       "grid_column": null,
       "grid_gap": null,
       "grid_row": null,
       "grid_template_areas": null,
       "grid_template_columns": null,
       "grid_template_rows": null,
       "height": null,
       "justify_content": null,
       "justify_items": null,
       "left": null,
       "margin": null,
       "max_height": null,
       "max_width": null,
       "min_height": null,
       "min_width": null,
       "object_fit": null,
       "object_position": null,
       "order": null,
       "overflow": null,
       "padding": null,
       "right": null,
       "top": null,
       "visibility": null,
       "width": null
      }
     },
     "2c846d4e7377496da6341b459f3c8238": {
      "model_module": "@jupyter-widgets/controls",
      "model_module_version": "2.0.0",
      "model_name": "HTMLStyleModel",
      "state": {
       "_model_module": "@jupyter-widgets/controls",
       "_model_module_version": "2.0.0",
       "_model_name": "HTMLStyleModel",
       "_view_count": null,
       "_view_module": "@jupyter-widgets/base",
       "_view_module_version": "2.0.0",
       "_view_name": "StyleView",
       "background": null,
       "description_width": "",
       "font_size": null,
       "text_color": null
      }
     },
     "41fe669065eb4ce199a516b0a2b7ff85": {
      "model_module": "@jupyter-widgets/controls",
      "model_module_version": "2.0.0",
      "model_name": "HTMLModel",
      "state": {
       "_dom_classes": [],
       "_model_module": "@jupyter-widgets/controls",
       "_model_module_version": "2.0.0",
       "_model_name": "HTMLModel",
       "_view_count": null,
       "_view_module": "@jupyter-widgets/controls",
       "_view_module_version": "2.0.0",
       "_view_name": "HTMLView",
       "description": "",
       "description_allow_html": false,
       "layout": "IPY_MODEL_4d781a0c62554c4c8e35bf0b6443f9c9",
       "placeholder": "​",
       "style": "IPY_MODEL_7c15b40b230744ec9086c4efc69f0d2b",
       "tabbable": null,
       "tooltip": null,
       "value": "model.safetensors: 100%"
      }
     },
     "437b5a7d4e214b0c8e8e19023f5dee84": {
      "model_module": "@jupyter-widgets/controls",
      "model_module_version": "2.0.0",
      "model_name": "HBoxModel",
      "state": {
       "_dom_classes": [],
       "_model_module": "@jupyter-widgets/controls",
       "_model_module_version": "2.0.0",
       "_model_name": "HBoxModel",
       "_view_count": null,
       "_view_module": "@jupyter-widgets/controls",
       "_view_module_version": "2.0.0",
       "_view_name": "HBoxView",
       "box_style": "",
       "children": [
        "IPY_MODEL_41fe669065eb4ce199a516b0a2b7ff85",
        "IPY_MODEL_d850ba6332264ca7a9eb24b4e4621dc0",
        "IPY_MODEL_532ced032e834bbfb32af8001d171ae8"
       ],
       "layout": "IPY_MODEL_10afd3d100ed4f4da084bab1d962c044",
       "tabbable": null,
       "tooltip": null
      }
     },
     "4d781a0c62554c4c8e35bf0b6443f9c9": {
      "model_module": "@jupyter-widgets/base",
      "model_module_version": "2.0.0",
      "model_name": "LayoutModel",
      "state": {
       "_model_module": "@jupyter-widgets/base",
       "_model_module_version": "2.0.0",
       "_model_name": "LayoutModel",
       "_view_count": null,
       "_view_module": "@jupyter-widgets/base",
       "_view_module_version": "2.0.0",
       "_view_name": "LayoutView",
       "align_content": null,
       "align_items": null,
       "align_self": null,
       "border_bottom": null,
       "border_left": null,
       "border_right": null,
       "border_top": null,
       "bottom": null,
       "display": null,
       "flex": null,
       "flex_flow": null,
       "grid_area": null,
       "grid_auto_columns": null,
       "grid_auto_flow": null,
       "grid_auto_rows": null,
       "grid_column": null,
       "grid_gap": null,
       "grid_row": null,
       "grid_template_areas": null,
       "grid_template_columns": null,
       "grid_template_rows": null,
       "height": null,
       "justify_content": null,
       "justify_items": null,
       "left": null,
       "margin": null,
       "max_height": null,
       "max_width": null,
       "min_height": null,
       "min_width": null,
       "object_fit": null,
       "object_position": null,
       "order": null,
       "overflow": null,
       "padding": null,
       "right": null,
       "top": null,
       "visibility": null,
       "width": null
      }
     },
     "532ced032e834bbfb32af8001d171ae8": {
      "model_module": "@jupyter-widgets/controls",
      "model_module_version": "2.0.0",
      "model_name": "HTMLModel",
      "state": {
       "_dom_classes": [],
       "_model_module": "@jupyter-widgets/controls",
       "_model_module_version": "2.0.0",
       "_model_name": "HTMLModel",
       "_view_count": null,
       "_view_module": "@jupyter-widgets/controls",
       "_view_module_version": "2.0.0",
       "_view_name": "HTMLView",
       "description": "",
       "description_allow_html": false,
       "layout": "IPY_MODEL_9fd37b5e52334d7da1bbcfe7f90c061f",
       "placeholder": "​",
       "style": "IPY_MODEL_2c846d4e7377496da6341b459f3c8238",
       "tabbable": null,
       "tooltip": null,
       "value": " 57.9M/57.9M [00:00&lt;00:00, 196MB/s]"
      }
     },
     "7c15b40b230744ec9086c4efc69f0d2b": {
      "model_module": "@jupyter-widgets/controls",
      "model_module_version": "2.0.0",
      "model_name": "HTMLStyleModel",
      "state": {
       "_model_module": "@jupyter-widgets/controls",
       "_model_module_version": "2.0.0",
       "_model_name": "HTMLStyleModel",
       "_view_count": null,
       "_view_module": "@jupyter-widgets/base",
       "_view_module_version": "2.0.0",
       "_view_name": "StyleView",
       "background": null,
       "description_width": "",
       "font_size": null,
       "text_color": null
      }
     },
     "9fd37b5e52334d7da1bbcfe7f90c061f": {
      "model_module": "@jupyter-widgets/base",
      "model_module_version": "2.0.0",
      "model_name": "LayoutModel",
      "state": {
       "_model_module": "@jupyter-widgets/base",
       "_model_module_version": "2.0.0",
       "_model_name": "LayoutModel",
       "_view_count": null,
       "_view_module": "@jupyter-widgets/base",
       "_view_module_version": "2.0.0",
       "_view_name": "LayoutView",
       "align_content": null,
       "align_items": null,
       "align_self": null,
       "border_bottom": null,
       "border_left": null,
       "border_right": null,
       "border_top": null,
       "bottom": null,
       "display": null,
       "flex": null,
       "flex_flow": null,
       "grid_area": null,
       "grid_auto_columns": null,
       "grid_auto_flow": null,
       "grid_auto_rows": null,
       "grid_column": null,
       "grid_gap": null,
       "grid_row": null,
       "grid_template_areas": null,
       "grid_template_columns": null,
       "grid_template_rows": null,
       "height": null,
       "justify_content": null,
       "justify_items": null,
       "left": null,
       "margin": null,
       "max_height": null,
       "max_width": null,
       "min_height": null,
       "min_width": null,
       "object_fit": null,
       "object_position": null,
       "order": null,
       "overflow": null,
       "padding": null,
       "right": null,
       "top": null,
       "visibility": null,
       "width": null
      }
     },
     "c18d1a7a1e984624964bdfa2577c6f62": {
      "model_module": "@jupyter-widgets/base",
      "model_module_version": "2.0.0",
      "model_name": "LayoutModel",
      "state": {
       "_model_module": "@jupyter-widgets/base",
       "_model_module_version": "2.0.0",
       "_model_name": "LayoutModel",
       "_view_count": null,
       "_view_module": "@jupyter-widgets/base",
       "_view_module_version": "2.0.0",
       "_view_name": "LayoutView",
       "align_content": null,
       "align_items": null,
       "align_self": null,
       "border_bottom": null,
       "border_left": null,
       "border_right": null,
       "border_top": null,
       "bottom": null,
       "display": null,
       "flex": null,
       "flex_flow": null,
       "grid_area": null,
       "grid_auto_columns": null,
       "grid_auto_flow": null,
       "grid_auto_rows": null,
       "grid_column": null,
       "grid_gap": null,
       "grid_row": null,
       "grid_template_areas": null,
       "grid_template_columns": null,
       "grid_template_rows": null,
       "height": null,
       "justify_content": null,
       "justify_items": null,
       "left": null,
       "margin": null,
       "max_height": null,
       "max_width": null,
       "min_height": null,
       "min_width": null,
       "object_fit": null,
       "object_position": null,
       "order": null,
       "overflow": null,
       "padding": null,
       "right": null,
       "top": null,
       "visibility": null,
       "width": null
      }
     },
     "d850ba6332264ca7a9eb24b4e4621dc0": {
      "model_module": "@jupyter-widgets/controls",
      "model_module_version": "2.0.0",
      "model_name": "FloatProgressModel",
      "state": {
       "_dom_classes": [],
       "_model_module": "@jupyter-widgets/controls",
       "_model_module_version": "2.0.0",
       "_model_name": "FloatProgressModel",
       "_view_count": null,
       "_view_module": "@jupyter-widgets/controls",
       "_view_module_version": "2.0.0",
       "_view_name": "ProgressView",
       "bar_style": "success",
       "description": "",
       "description_allow_html": false,
       "layout": "IPY_MODEL_c18d1a7a1e984624964bdfa2577c6f62",
       "max": 57929264,
       "min": 0,
       "orientation": "horizontal",
       "style": "IPY_MODEL_ebfe40a92c5b4d33b68897d78d84151d",
       "tabbable": null,
       "tooltip": null,
       "value": 57929264
      }
     },
     "ebfe40a92c5b4d33b68897d78d84151d": {
      "model_module": "@jupyter-widgets/controls",
      "model_module_version": "2.0.0",
      "model_name": "ProgressStyleModel",
      "state": {
       "_model_module": "@jupyter-widgets/controls",
       "_model_module_version": "2.0.0",
       "_model_name": "ProgressStyleModel",
       "_view_count": null,
       "_view_module": "@jupyter-widgets/base",
       "_view_module_version": "2.0.0",
       "_view_name": "StyleView",
       "bar_color": null,
       "description_width": ""
      }
     }
    },
    "version_major": 2,
    "version_minor": 0
   }
  }
 },
 "nbformat": 4,
 "nbformat_minor": 5
}
