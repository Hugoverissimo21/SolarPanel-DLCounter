{
 "cells": [
  {
   "cell_type": "code",
   "execution_count": 1,
   "id": "981176f8",
   "metadata": {
    "execution": {
     "iopub.execute_input": "2025-03-31T21:38:46.415957Z",
     "iopub.status.busy": "2025-03-31T21:38:46.415598Z",
     "iopub.status.idle": "2025-03-31T21:38:55.108652Z",
     "shell.execute_reply": "2025-03-31T21:38:55.107630Z"
    },
    "papermill": {
     "duration": 8.698544,
     "end_time": "2025-03-31T21:38:55.110125",
     "exception": false,
     "start_time": "2025-03-31T21:38:46.411581",
     "status": "completed"
    },
    "tags": []
   },
   "outputs": [
    {
     "name": "stdout",
     "output_type": "stream",
     "text": [
      "\u001b[2K     \u001b[90m━━━━━━━━━━━━━━━━━━━━━━━━━━━━━━━━━━━━━━━━\u001b[0m \u001b[32m68.5/68.5 kB\u001b[0m \u001b[31m2.6 MB/s\u001b[0m eta \u001b[36m0:00:00\u001b[0m\r\n",
      "\u001b[2K   \u001b[90m━━━━━━━━━━━━━━━━━━━━━━━━━━━━━━━━━━━━━━━━\u001b[0m \u001b[32m123.5/123.5 kB\u001b[0m \u001b[31m5.5 MB/s\u001b[0m eta \u001b[36m0:00:00\u001b[0m\r\n",
      "\u001b[2K   \u001b[90m━━━━━━━━━━━━━━━━━━━━━━━━━━━━━━━━━━━━━━━━\u001b[0m \u001b[32m2.2/2.2 MB\u001b[0m \u001b[31m34.7 MB/s\u001b[0m eta \u001b[36m0:00:00\u001b[0m\r\n",
      "\u001b[2K   \u001b[90m━━━━━━━━━━━━━━━━━━━━━━━━━━━━━━━━━━━━━━━━\u001b[0m \u001b[32m976.9/976.9 kB\u001b[0m \u001b[31m35.6 MB/s\u001b[0m eta \u001b[36m0:00:00\u001b[0m\r\n",
      "\u001b[?25hNote: you may need to restart the kernel to use updated packages.\n"
     ]
    }
   ],
   "source": [
    "pip install ultralytics albumentations==1.3.0 timm==0.9.2 -q"
   ]
  },
  {
   "cell_type": "code",
   "execution_count": null,
   "id": "6942586c",
   "metadata": {
    "execution": {
     "iopub.execute_input": "2025-03-31T21:38:55.117937Z",
     "iopub.status.busy": "2025-03-31T21:38:55.117700Z",
     "iopub.status.idle": "2025-04-01T06:06:31.172700Z",
     "shell.execute_reply": "2025-04-01T06:06:31.171615Z"
    },
    "papermill": {
     "duration": 30456.060485,
     "end_time": "2025-04-01T06:06:31.174207",
     "exception": false,
     "start_time": "2025-03-31T21:38:55.113722",
     "status": "completed"
    },
    "tags": []
   },
   "outputs": [
    {
     "name": "stdout",
     "output_type": "stream",
     "text": [
      "Training fold 1/3\n"
     ]
    },
    {
     "data": {
      "application/vnd.jupyter.widget-view+json": {
       "model_id": "07d491f490a9451cba26fa87d982a868",
       "version_major": 2,
       "version_minor": 0
      },
      "text/plain": [
       "model.safetensors:   0%|          | 0.00/57.9M [00:00<?, ?B/s]"
      ]
     },
     "metadata": {},
     "output_type": "display_data"
    },
    {
     "name": "stderr",
     "output_type": "stream",
     "text": [
      "Epoch 1/75 [Train]: 100%|██████████| 166/166 [02:51<00:00,  1.04s/it, loss=0.191]\n",
      "Epoch 1/75 [Val]: 100%|██████████| 21/21 [00:42<00:00,  2.02s/it]\n"
     ]
    },
    {
     "name": "stdout",
     "output_type": "stream",
     "text": [
      "Epoch 1/75\n",
      "Train Loss: 2.3409 | Val Loss: 2.0651 | Val MAE: 2.3779\n"
     ]
    },
    {
     "name": "stderr",
     "output_type": "stream",
     "text": [
      "Epoch 2/75 [Train]: 100%|██████████| 166/166 [02:42<00:00,  1.02it/s, loss=0.247]\n",
      "Epoch 2/75 [Val]: 100%|██████████| 21/21 [00:38<00:00,  1.81s/it]\n"
     ]
    },
    {
     "name": "stdout",
     "output_type": "stream",
     "text": [
      "Epoch 2/75\n",
      "Train Loss: 2.2603 | Val Loss: 2.0138 | Val MAE: 2.3028\n"
     ]
    },
    {
     "name": "stderr",
     "output_type": "stream",
     "text": [
      "Epoch 3/75 [Train]: 100%|██████████| 166/166 [02:42<00:00,  1.02it/s, loss=0.276]\n",
      "Epoch 3/75 [Val]: 100%|██████████| 21/21 [00:39<00:00,  1.86s/it]\n"
     ]
    },
    {
     "name": "stdout",
     "output_type": "stream",
     "text": [
      "Epoch 3/75\n",
      "Train Loss: 2.1784 | Val Loss: 1.9113 | Val MAE: 2.1897\n"
     ]
    },
    {
     "name": "stderr",
     "output_type": "stream",
     "text": [
      "Epoch 4/75 [Train]: 100%|██████████| 166/166 [02:43<00:00,  1.01it/s, loss=0.789]\n",
      "Epoch 4/75 [Val]: 100%|██████████| 21/21 [00:39<00:00,  1.88s/it]\n"
     ]
    },
    {
     "name": "stdout",
     "output_type": "stream",
     "text": [
      "Epoch 4/75\n",
      "Train Loss: 2.0487 | Val Loss: 1.8321 | Val MAE: 2.1008\n"
     ]
    },
    {
     "name": "stderr",
     "output_type": "stream",
     "text": [
      "Epoch 5/75 [Train]: 100%|██████████| 166/166 [02:44<00:00,  1.01it/s, loss=0.278]\n",
      "Epoch 5/75 [Val]: 100%|██████████| 21/21 [00:38<00:00,  1.83s/it]\n"
     ]
    },
    {
     "name": "stdout",
     "output_type": "stream",
     "text": [
      "Epoch 5/75\n",
      "Train Loss: 1.9947 | Val Loss: 1.7972 | Val MAE: 2.0644\n"
     ]
    },
    {
     "name": "stderr",
     "output_type": "stream",
     "text": [
      "Epoch 6/75 [Train]: 100%|██████████| 166/166 [02:41<00:00,  1.02it/s, loss=2.46]\n",
      "Epoch 6/75 [Val]: 100%|██████████| 21/21 [00:38<00:00,  1.84s/it]\n"
     ]
    },
    {
     "name": "stdout",
     "output_type": "stream",
     "text": [
      "Epoch 6/75\n",
      "Train Loss: 1.9283 | Val Loss: 1.6484 | Val MAE: 1.8951\n"
     ]
    },
    {
     "name": "stderr",
     "output_type": "stream",
     "text": [
      "Epoch 7/75 [Train]: 100%|██████████| 166/166 [02:41<00:00,  1.03it/s, loss=0.59]\n",
      "Epoch 7/75 [Val]: 100%|██████████| 21/21 [00:38<00:00,  1.82s/it]\n"
     ]
    },
    {
     "name": "stdout",
     "output_type": "stream",
     "text": [
      "Epoch 7/75\n",
      "Train Loss: 1.8755 | Val Loss: 1.6243 | Val MAE: 1.8606\n"
     ]
    },
    {
     "name": "stderr",
     "output_type": "stream",
     "text": [
      "Epoch 8/75 [Train]: 100%|██████████| 166/166 [02:39<00:00,  1.04it/s, loss=0.281]\n",
      "Epoch 8/75 [Val]: 100%|██████████| 21/21 [00:37<00:00,  1.77s/it]\n"
     ]
    },
    {
     "name": "stdout",
     "output_type": "stream",
     "text": [
      "Epoch 8/75\n",
      "Train Loss: 1.7870 | Val Loss: 1.5015 | Val MAE: 1.7369\n"
     ]
    },
    {
     "name": "stderr",
     "output_type": "stream",
     "text": [
      "Epoch 9/75 [Train]: 100%|██████████| 166/166 [02:41<00:00,  1.03it/s, loss=0.431]\n",
      "Epoch 9/75 [Val]: 100%|██████████| 21/21 [00:39<00:00,  1.87s/it]\n"
     ]
    },
    {
     "name": "stdout",
     "output_type": "stream",
     "text": [
      "Epoch 9/75\n",
      "Train Loss: 1.7647 | Val Loss: 1.3951 | Val MAE: 1.6426\n"
     ]
    },
    {
     "name": "stderr",
     "output_type": "stream",
     "text": [
      "Epoch 10/75 [Train]: 100%|██████████| 166/166 [02:44<00:00,  1.01it/s, loss=0.434]\n",
      "Epoch 10/75 [Val]: 100%|██████████| 21/21 [00:39<00:00,  1.86s/it]\n"
     ]
    },
    {
     "name": "stdout",
     "output_type": "stream",
     "text": [
      "Epoch 10/75\n",
      "Train Loss: 1.6990 | Val Loss: 1.4249 | Val MAE: 1.6667\n"
     ]
    },
    {
     "name": "stderr",
     "output_type": "stream",
     "text": [
      "Epoch 11/75 [Train]: 100%|██████████| 166/166 [02:41<00:00,  1.03it/s, loss=2.53]\n",
      "Epoch 11/75 [Val]: 100%|██████████| 21/21 [00:38<00:00,  1.82s/it]\n"
     ]
    },
    {
     "name": "stdout",
     "output_type": "stream",
     "text": [
      "Epoch 11/75\n",
      "Train Loss: 1.7010 | Val Loss: 1.3396 | Val MAE: 1.5742\n"
     ]
    },
    {
     "name": "stderr",
     "output_type": "stream",
     "text": [
      "Epoch 12/75 [Train]: 100%|██████████| 166/166 [02:40<00:00,  1.03it/s, loss=0.433]\n",
      "Epoch 12/75 [Val]: 100%|██████████| 21/21 [00:38<00:00,  1.82s/it]\n"
     ]
    },
    {
     "name": "stdout",
     "output_type": "stream",
     "text": [
      "Epoch 12/75\n",
      "Train Loss: 1.6414 | Val Loss: 1.3472 | Val MAE: 1.5811\n"
     ]
    },
    {
     "name": "stderr",
     "output_type": "stream",
     "text": [
      "Epoch 13/75 [Train]: 100%|██████████| 166/166 [02:42<00:00,  1.02it/s, loss=3.69]\n",
      "Epoch 13/75 [Val]: 100%|██████████| 21/21 [00:38<00:00,  1.81s/it]\n"
     ]
    },
    {
     "name": "stdout",
     "output_type": "stream",
     "text": [
      "Epoch 13/75\n",
      "Train Loss: 1.6034 | Val Loss: 1.4486 | Val MAE: 1.6779\n"
     ]
    },
    {
     "name": "stderr",
     "output_type": "stream",
     "text": [
      "Epoch 14/75 [Train]: 100%|██████████| 166/166 [02:40<00:00,  1.03it/s, loss=0.616]\n",
      "Epoch 14/75 [Val]: 100%|██████████| 21/21 [00:37<00:00,  1.80s/it]\n"
     ]
    },
    {
     "name": "stdout",
     "output_type": "stream",
     "text": [
      "Epoch 14/75\n",
      "Train Loss: 1.6227 | Val Loss: 1.2960 | Val MAE: 1.5337\n"
     ]
    },
    {
     "name": "stderr",
     "output_type": "stream",
     "text": [
      "Epoch 15/75 [Train]: 100%|██████████| 166/166 [02:39<00:00,  1.04it/s, loss=0.528]\n",
      "Epoch 15/75 [Val]: 100%|██████████| 21/21 [00:37<00:00,  1.81s/it]\n"
     ]
    },
    {
     "name": "stdout",
     "output_type": "stream",
     "text": [
      "Epoch 15/75\n",
      "Train Loss: 1.6006 | Val Loss: 1.3510 | Val MAE: 1.5815\n"
     ]
    },
    {
     "name": "stderr",
     "output_type": "stream",
     "text": [
      "Epoch 16/75 [Train]: 100%|██████████| 166/166 [02:41<00:00,  1.03it/s, loss=0.416]\n",
      "Epoch 16/75 [Val]: 100%|██████████| 21/21 [00:37<00:00,  1.80s/it]\n"
     ]
    },
    {
     "name": "stdout",
     "output_type": "stream",
     "text": [
      "Epoch 16/75\n",
      "Train Loss: 1.5737 | Val Loss: 1.3874 | Val MAE: 1.6152\n"
     ]
    },
    {
     "name": "stderr",
     "output_type": "stream",
     "text": [
      "Epoch 17/75 [Train]: 100%|██████████| 166/166 [02:39<00:00,  1.04it/s, loss=0.412]\n",
      "Epoch 17/75 [Val]: 100%|██████████| 21/21 [00:38<00:00,  1.84s/it]\n"
     ]
    },
    {
     "name": "stdout",
     "output_type": "stream",
     "text": [
      "Epoch 17/75\n",
      "Train Loss: 1.5802 | Val Loss: 1.2445 | Val MAE: 1.4623\n"
     ]
    },
    {
     "name": "stderr",
     "output_type": "stream",
     "text": [
      "Epoch 18/75 [Train]: 100%|██████████| 166/166 [02:40<00:00,  1.04it/s, loss=4.41]\n",
      "Epoch 18/75 [Val]: 100%|██████████| 21/21 [00:37<00:00,  1.80s/it]\n"
     ]
    },
    {
     "name": "stdout",
     "output_type": "stream",
     "text": [
      "Epoch 18/75\n",
      "Train Loss: 1.5540 | Val Loss: 1.2665 | Val MAE: 1.4832\n"
     ]
    },
    {
     "name": "stderr",
     "output_type": "stream",
     "text": [
      "Epoch 19/75 [Train]: 100%|██████████| 166/166 [02:40<00:00,  1.04it/s, loss=0.252]\n",
      "Epoch 19/75 [Val]: 100%|██████████| 21/21 [00:37<00:00,  1.81s/it]\n"
     ]
    },
    {
     "name": "stdout",
     "output_type": "stream",
     "text": [
      "Epoch 19/75\n",
      "Train Loss: 1.4967 | Val Loss: 1.2214 | Val MAE: 1.4407\n"
     ]
    },
    {
     "name": "stderr",
     "output_type": "stream",
     "text": [
      "Epoch 20/75 [Train]: 100%|██████████| 166/166 [02:45<00:00,  1.00it/s, loss=0.46]\n",
      "Epoch 20/75 [Val]: 100%|██████████| 21/21 [00:40<00:00,  1.91s/it]\n"
     ]
    },
    {
     "name": "stdout",
     "output_type": "stream",
     "text": [
      "Epoch 20/75\n",
      "Train Loss: 1.4344 | Val Loss: 1.2003 | Val MAE: 1.4195\n"
     ]
    },
    {
     "name": "stderr",
     "output_type": "stream",
     "text": [
      "Epoch 21/75 [Train]: 100%|██████████| 166/166 [02:44<00:00,  1.01it/s, loss=3.7]\n",
      "Epoch 21/75 [Val]: 100%|██████████| 21/21 [00:38<00:00,  1.82s/it]\n"
     ]
    },
    {
     "name": "stdout",
     "output_type": "stream",
     "text": [
      "Epoch 21/75\n",
      "Train Loss: 1.4206 | Val Loss: 0.9667 | Val MAE: 1.1916\n"
     ]
    },
    {
     "name": "stderr",
     "output_type": "stream",
     "text": [
      "Epoch 22/75 [Train]: 100%|██████████| 166/166 [02:43<00:00,  1.02it/s, loss=0.425]\n",
      "Epoch 22/75 [Val]: 100%|██████████| 21/21 [00:38<00:00,  1.84s/it]\n"
     ]
    },
    {
     "name": "stdout",
     "output_type": "stream",
     "text": [
      "Epoch 22/75\n",
      "Train Loss: 1.3909 | Val Loss: 1.0163 | Val MAE: 1.2257\n"
     ]
    },
    {
     "name": "stderr",
     "output_type": "stream",
     "text": [
      "Epoch 23/75 [Train]: 100%|██████████| 166/166 [02:43<00:00,  1.02it/s, loss=0.195]\n",
      "Epoch 23/75 [Val]: 100%|██████████| 21/21 [00:38<00:00,  1.82s/it]\n"
     ]
    },
    {
     "name": "stdout",
     "output_type": "stream",
     "text": [
      "Epoch 23/75\n",
      "Train Loss: 1.3578 | Val Loss: 0.8729 | Val MAE: 1.0927\n"
     ]
    },
    {
     "name": "stderr",
     "output_type": "stream",
     "text": [
      "Epoch 24/75 [Train]: 100%|██████████| 166/166 [02:39<00:00,  1.04it/s, loss=7.58]\n",
      "Epoch 24/75 [Val]: 100%|██████████| 21/21 [00:37<00:00,  1.79s/it]\n"
     ]
    },
    {
     "name": "stdout",
     "output_type": "stream",
     "text": [
      "Epoch 24/75\n",
      "Train Loss: 1.3225 | Val Loss: 1.0757 | Val MAE: 1.2807\n"
     ]
    },
    {
     "name": "stderr",
     "output_type": "stream",
     "text": [
      "Epoch 25/75 [Train]: 100%|██████████| 166/166 [02:38<00:00,  1.04it/s, loss=0.833]\n",
      "Epoch 25/75 [Val]: 100%|██████████| 21/21 [00:37<00:00,  1.79s/it]\n"
     ]
    },
    {
     "name": "stdout",
     "output_type": "stream",
     "text": [
      "Epoch 25/75\n",
      "Train Loss: 1.3551 | Val Loss: 0.9605 | Val MAE: 1.1703\n"
     ]
    },
    {
     "name": "stderr",
     "output_type": "stream",
     "text": [
      "Epoch 26/75 [Train]: 100%|██████████| 166/166 [02:38<00:00,  1.05it/s, loss=0.325]\n",
      "Epoch 26/75 [Val]: 100%|██████████| 21/21 [00:37<00:00,  1.78s/it]\n"
     ]
    },
    {
     "name": "stdout",
     "output_type": "stream",
     "text": [
      "Epoch 26/75\n",
      "Train Loss: 1.2815 | Val Loss: 0.9846 | Val MAE: 1.1909\n"
     ]
    },
    {
     "name": "stderr",
     "output_type": "stream",
     "text": [
      "Epoch 27/75 [Train]: 100%|██████████| 166/166 [02:38<00:00,  1.05it/s, loss=1.75]\n",
      "Epoch 27/75 [Val]: 100%|██████████| 21/21 [00:37<00:00,  1.79s/it]\n"
     ]
    },
    {
     "name": "stdout",
     "output_type": "stream",
     "text": [
      "Epoch 27/75\n",
      "Train Loss: 1.3041 | Val Loss: 0.8650 | Val MAE: 1.0797\n"
     ]
    },
    {
     "name": "stderr",
     "output_type": "stream",
     "text": [
      "Epoch 28/75 [Train]: 100%|██████████| 166/166 [02:39<00:00,  1.04it/s, loss=0.35]\n",
      "Epoch 28/75 [Val]: 100%|██████████| 21/21 [00:37<00:00,  1.81s/it]\n"
     ]
    },
    {
     "name": "stdout",
     "output_type": "stream",
     "text": [
      "Epoch 28/75\n",
      "Train Loss: 1.3345 | Val Loss: 0.9370 | Val MAE: 1.1564\n"
     ]
    },
    {
     "name": "stderr",
     "output_type": "stream",
     "text": [
      "Epoch 29/75 [Train]: 100%|██████████| 166/166 [02:41<00:00,  1.03it/s, loss=0.218]\n",
      "Epoch 29/75 [Val]: 100%|██████████| 21/21 [00:40<00:00,  1.93s/it]\n"
     ]
    },
    {
     "name": "stdout",
     "output_type": "stream",
     "text": [
      "Epoch 29/75\n",
      "Train Loss: 1.2546 | Val Loss: 0.8526 | Val MAE: 1.0619\n"
     ]
    },
    {
     "name": "stderr",
     "output_type": "stream",
     "text": [
      "Epoch 30/75 [Train]: 100%|██████████| 166/166 [02:53<00:00,  1.04s/it, loss=0.161]\n",
      "Epoch 30/75 [Val]: 100%|██████████| 21/21 [00:40<00:00,  1.91s/it]\n"
     ]
    },
    {
     "name": "stdout",
     "output_type": "stream",
     "text": [
      "Epoch 30/75\n",
      "Train Loss: 1.1674 | Val Loss: 0.8878 | Val MAE: 1.0918\n"
     ]
    },
    {
     "name": "stderr",
     "output_type": "stream",
     "text": [
      "Epoch 31/75 [Train]: 100%|██████████| 166/166 [02:51<00:00,  1.03s/it, loss=0.233]\n",
      "Epoch 31/75 [Val]: 100%|██████████| 21/21 [00:41<00:00,  2.00s/it]\n"
     ]
    },
    {
     "name": "stdout",
     "output_type": "stream",
     "text": [
      "Epoch 31/75\n",
      "Train Loss: 1.2302 | Val Loss: 0.9144 | Val MAE: 1.1254\n"
     ]
    },
    {
     "name": "stderr",
     "output_type": "stream",
     "text": [
      "Epoch 32/75 [Train]: 100%|██████████| 166/166 [02:46<00:00,  1.00s/it, loss=0.392]\n",
      "Epoch 32/75 [Val]: 100%|██████████| 21/21 [00:40<00:00,  1.92s/it]\n"
     ]
    },
    {
     "name": "stdout",
     "output_type": "stream",
     "text": [
      "Epoch 32/75\n",
      "Train Loss: 1.1673 | Val Loss: 0.8183 | Val MAE: 1.0274\n"
     ]
    },
    {
     "name": "stderr",
     "output_type": "stream",
     "text": [
      "Epoch 33/75 [Train]: 100%|██████████| 166/166 [02:46<00:00,  1.01s/it, loss=1.13]\n",
      "Epoch 33/75 [Val]: 100%|██████████| 21/21 [00:39<00:00,  1.90s/it]\n"
     ]
    },
    {
     "name": "stdout",
     "output_type": "stream",
     "text": [
      "Epoch 33/75\n",
      "Train Loss: 1.1660 | Val Loss: 0.9079 | Val MAE: 1.1197\n"
     ]
    },
    {
     "name": "stderr",
     "output_type": "stream",
     "text": [
      "Epoch 34/75 [Train]: 100%|██████████| 166/166 [02:43<00:00,  1.01it/s, loss=0.212]\n",
      "Epoch 34/75 [Val]: 100%|██████████| 21/21 [00:38<00:00,  1.82s/it]\n"
     ]
    },
    {
     "name": "stdout",
     "output_type": "stream",
     "text": [
      "Epoch 34/75\n",
      "Train Loss: 1.1612 | Val Loss: 0.9439 | Val MAE: 1.1614\n"
     ]
    },
    {
     "name": "stderr",
     "output_type": "stream",
     "text": [
      "Epoch 35/75 [Train]: 100%|██████████| 166/166 [02:41<00:00,  1.03it/s, loss=0.42]\n",
      "Epoch 35/75 [Val]: 100%|██████████| 21/21 [00:37<00:00,  1.80s/it]\n"
     ]
    },
    {
     "name": "stdout",
     "output_type": "stream",
     "text": [
      "Epoch 35/75\n",
      "Train Loss: 1.1760 | Val Loss: 1.0291 | Val MAE: 1.2416\n"
     ]
    },
    {
     "name": "stderr",
     "output_type": "stream",
     "text": [
      "Epoch 36/75 [Train]: 100%|██████████| 166/166 [02:40<00:00,  1.03it/s, loss=0.595]\n",
      "Epoch 36/75 [Val]: 100%|██████████| 21/21 [00:37<00:00,  1.80s/it]\n"
     ]
    },
    {
     "name": "stdout",
     "output_type": "stream",
     "text": [
      "Epoch 36/75\n",
      "Train Loss: 1.1755 | Val Loss: 0.8742 | Val MAE: 1.0854\n"
     ]
    },
    {
     "name": "stderr",
     "output_type": "stream",
     "text": [
      "Epoch 37/75 [Train]: 100%|██████████| 166/166 [02:40<00:00,  1.03it/s, loss=1.53]\n",
      "Epoch 37/75 [Val]: 100%|██████████| 21/21 [00:37<00:00,  1.81s/it]\n"
     ]
    },
    {
     "name": "stdout",
     "output_type": "stream",
     "text": [
      "Epoch 37/75\n",
      "Train Loss: 1.1897 | Val Loss: 0.9793 | Val MAE: 1.1849\n"
     ]
    },
    {
     "name": "stderr",
     "output_type": "stream",
     "text": [
      "Epoch 38/75 [Train]: 100%|██████████| 166/166 [02:40<00:00,  1.03it/s, loss=0.216]\n",
      "Epoch 38/75 [Val]: 100%|██████████| 21/21 [00:38<00:00,  1.81s/it]\n"
     ]
    },
    {
     "name": "stdout",
     "output_type": "stream",
     "text": [
      "Epoch 38/75\n",
      "Train Loss: 1.2003 | Val Loss: 0.9664 | Val MAE: 1.1761\n"
     ]
    },
    {
     "name": "stderr",
     "output_type": "stream",
     "text": [
      "Epoch 39/75 [Train]: 100%|██████████| 166/166 [02:40<00:00,  1.04it/s, loss=0.297]\n",
      "Epoch 39/75 [Val]: 100%|██████████| 21/21 [00:37<00:00,  1.80s/it]\n"
     ]
    },
    {
     "name": "stdout",
     "output_type": "stream",
     "text": [
      "Epoch 39/75\n",
      "Train Loss: 1.0855 | Val Loss: 1.0128 | Val MAE: 1.2223\n"
     ]
    },
    {
     "name": "stderr",
     "output_type": "stream",
     "text": [
      "Epoch 40/75 [Train]: 100%|██████████| 166/166 [02:40<00:00,  1.04it/s, loss=0.485]\n",
      "Epoch 40/75 [Val]: 100%|██████████| 21/21 [00:38<00:00,  1.84s/it]\n"
     ]
    },
    {
     "name": "stdout",
     "output_type": "stream",
     "text": [
      "Epoch 40/75\n",
      "Train Loss: 1.1170 | Val Loss: 1.1965 | Val MAE: 1.3998\n"
     ]
    },
    {
     "name": "stderr",
     "output_type": "stream",
     "text": [
      "Epoch 41/75 [Train]: 100%|██████████| 166/166 [02:40<00:00,  1.03it/s, loss=0.472]\n",
      "Epoch 41/75 [Val]: 100%|██████████| 21/21 [00:38<00:00,  1.83s/it]\n"
     ]
    },
    {
     "name": "stdout",
     "output_type": "stream",
     "text": [
      "Epoch 41/75\n",
      "Train Loss: 1.0229 | Val Loss: 0.9662 | Val MAE: 1.1708\n"
     ]
    },
    {
     "name": "stderr",
     "output_type": "stream",
     "text": [
      "Epoch 42/75 [Train]: 100%|██████████| 166/166 [02:42<00:00,  1.02it/s, loss=0.237]\n",
      "Epoch 42/75 [Val]: 100%|██████████| 21/21 [00:38<00:00,  1.83s/it]\n"
     ]
    },
    {
     "name": "stdout",
     "output_type": "stream",
     "text": [
      "Epoch 42/75\n",
      "Train Loss: 1.0684 | Val Loss: 1.1268 | Val MAE: 1.3403\n"
     ]
    },
    {
     "name": "stderr",
     "output_type": "stream",
     "text": [
      "Epoch 43/75 [Train]: 100%|██████████| 166/166 [02:40<00:00,  1.03it/s, loss=24.1]\n",
      "Epoch 43/75 [Val]: 100%|██████████| 21/21 [00:37<00:00,  1.80s/it]\n"
     ]
    },
    {
     "name": "stdout",
     "output_type": "stream",
     "text": [
      "Epoch 43/75\n",
      "Train Loss: 1.0780 | Val Loss: 0.9176 | Val MAE: 1.1181\n"
     ]
    },
    {
     "name": "stderr",
     "output_type": "stream",
     "text": [
      "Epoch 44/75 [Train]: 100%|██████████| 166/166 [02:39<00:00,  1.04it/s, loss=0.107]\n",
      "Epoch 44/75 [Val]: 100%|██████████| 21/21 [00:37<00:00,  1.81s/it]\n"
     ]
    },
    {
     "name": "stdout",
     "output_type": "stream",
     "text": [
      "Epoch 44/75\n",
      "Train Loss: 0.9433 | Val Loss: 1.0549 | Val MAE: 1.2621\n"
     ]
    },
    {
     "name": "stderr",
     "output_type": "stream",
     "text": [
      "Epoch 45/75 [Train]: 100%|██████████| 166/166 [02:39<00:00,  1.04it/s, loss=0.178]\n",
      "Epoch 45/75 [Val]: 100%|██████████| 21/21 [00:37<00:00,  1.79s/it]\n"
     ]
    },
    {
     "name": "stdout",
     "output_type": "stream",
     "text": [
      "Epoch 45/75\n",
      "Train Loss: 0.9313 | Val Loss: 1.2524 | Val MAE: 1.4636\n"
     ]
    },
    {
     "name": "stderr",
     "output_type": "stream",
     "text": [
      "Epoch 46/75 [Train]: 100%|██████████| 166/166 [02:39<00:00,  1.04it/s, loss=0.312]\n",
      "Epoch 46/75 [Val]: 100%|██████████| 21/21 [00:38<00:00,  1.84s/it]\n"
     ]
    },
    {
     "name": "stdout",
     "output_type": "stream",
     "text": [
      "Epoch 46/75\n",
      "Train Loss: 0.9395 | Val Loss: 1.0015 | Val MAE: 1.2071\n"
     ]
    },
    {
     "name": "stderr",
     "output_type": "stream",
     "text": [
      "Epoch 47/75 [Train]: 100%|██████████| 166/166 [02:40<00:00,  1.04it/s, loss=0.451]\n",
      "Epoch 47/75 [Val]: 100%|██████████| 21/21 [00:37<00:00,  1.80s/it]\n"
     ]
    },
    {
     "name": "stdout",
     "output_type": "stream",
     "text": [
      "Epoch 47/75\n",
      "Train Loss: 0.9147 | Val Loss: 1.5963 | Val MAE: 1.8095\n"
     ]
    },
    {
     "name": "stderr",
     "output_type": "stream",
     "text": [
      "Epoch 48/75 [Train]: 100%|██████████| 166/166 [02:40<00:00,  1.03it/s, loss=1.14]\n",
      "Epoch 48/75 [Val]: 100%|██████████| 21/21 [00:38<00:00,  1.84s/it]\n"
     ]
    },
    {
     "name": "stdout",
     "output_type": "stream",
     "text": [
      "Epoch 48/75\n",
      "Train Loss: 0.8649 | Val Loss: 1.3174 | Val MAE: 1.5204\n"
     ]
    },
    {
     "name": "stderr",
     "output_type": "stream",
     "text": [
      "Epoch 49/75 [Train]: 100%|██████████| 166/166 [02:44<00:00,  1.01it/s, loss=3.27]\n",
      "Epoch 49/75 [Val]: 100%|██████████| 21/21 [00:38<00:00,  1.85s/it]\n"
     ]
    },
    {
     "name": "stdout",
     "output_type": "stream",
     "text": [
      "Epoch 49/75\n",
      "Train Loss: 0.7883 | Val Loss: 1.1095 | Val MAE: 1.3113\n"
     ]
    },
    {
     "name": "stderr",
     "output_type": "stream",
     "text": [
      "Epoch 50/75 [Train]: 100%|██████████| 166/166 [02:50<00:00,  1.03s/it, loss=0.301]\n",
      "Epoch 50/75 [Val]: 100%|██████████| 21/21 [00:41<00:00,  1.96s/it]\n"
     ]
    },
    {
     "name": "stdout",
     "output_type": "stream",
     "text": [
      "Epoch 50/75\n",
      "Train Loss: 0.8038 | Val Loss: 1.0502 | Val MAE: 1.2497\n"
     ]
    },
    {
     "name": "stderr",
     "output_type": "stream",
     "text": [
      "Epoch 51/75 [Train]: 100%|██████████| 166/166 [02:42<00:00,  1.02it/s, loss=0.612]\n",
      "Epoch 51/75 [Val]: 100%|██████████| 21/21 [00:38<00:00,  1.82s/it]\n"
     ]
    },
    {
     "name": "stdout",
     "output_type": "stream",
     "text": [
      "Epoch 51/75\n",
      "Train Loss: 0.8629 | Val Loss: 1.1132 | Val MAE: 1.3136\n"
     ]
    },
    {
     "name": "stderr",
     "output_type": "stream",
     "text": [
      "Epoch 52/75 [Train]: 100%|██████████| 166/166 [02:41<00:00,  1.03it/s, loss=0.236]\n",
      "Epoch 52/75 [Val]: 100%|██████████| 21/21 [00:39<00:00,  1.86s/it]\n"
     ]
    },
    {
     "name": "stdout",
     "output_type": "stream",
     "text": [
      "Epoch 52/75\n",
      "Train Loss: 0.8918 | Val Loss: 1.5211 | Val MAE: 1.7334\n"
     ]
    },
    {
     "name": "stderr",
     "output_type": "stream",
     "text": [
      "Epoch 53/75 [Train]: 100%|██████████| 166/166 [02:42<00:00,  1.02it/s, loss=0.469]\n",
      "Epoch 53/75 [Val]: 100%|██████████| 21/21 [00:38<00:00,  1.83s/it]\n"
     ]
    },
    {
     "name": "stdout",
     "output_type": "stream",
     "text": [
      "Epoch 53/75\n",
      "Train Loss: 0.7400 | Val Loss: 1.1148 | Val MAE: 1.3187\n"
     ]
    },
    {
     "name": "stderr",
     "output_type": "stream",
     "text": [
      "Epoch 54/75 [Train]: 100%|██████████| 166/166 [02:41<00:00,  1.03it/s, loss=0.618]\n",
      "Epoch 54/75 [Val]: 100%|██████████| 21/21 [00:39<00:00,  1.90s/it]\n"
     ]
    },
    {
     "name": "stdout",
     "output_type": "stream",
     "text": [
      "Epoch 54/75\n",
      "Train Loss: 0.7906 | Val Loss: 1.1311 | Val MAE: 1.3327\n"
     ]
    },
    {
     "name": "stderr",
     "output_type": "stream",
     "text": [
      "Epoch 55/75 [Train]: 100%|██████████| 166/166 [02:50<00:00,  1.03s/it, loss=0.107]\n",
      "Epoch 55/75 [Val]: 100%|██████████| 21/21 [00:40<00:00,  1.91s/it]\n"
     ]
    },
    {
     "name": "stdout",
     "output_type": "stream",
     "text": [
      "Epoch 55/75\n",
      "Train Loss: 0.8481 | Val Loss: 1.0563 | Val MAE: 1.2567\n"
     ]
    },
    {
     "name": "stderr",
     "output_type": "stream",
     "text": [
      "Epoch 56/75 [Train]: 100%|██████████| 166/166 [02:47<00:00,  1.01s/it, loss=0.202]\n",
      "Epoch 56/75 [Val]: 100%|██████████| 21/21 [00:39<00:00,  1.88s/it]\n"
     ]
    },
    {
     "name": "stdout",
     "output_type": "stream",
     "text": [
      "Epoch 56/75\n",
      "Train Loss: 0.7602 | Val Loss: 1.0470 | Val MAE: 1.2488\n"
     ]
    },
    {
     "name": "stderr",
     "output_type": "stream",
     "text": [
      "Epoch 57/75 [Train]: 100%|██████████| 166/166 [02:46<00:00,  1.00s/it, loss=0.212]\n",
      "Epoch 57/75 [Val]: 100%|██████████| 21/21 [00:39<00:00,  1.88s/it]\n"
     ]
    },
    {
     "name": "stdout",
     "output_type": "stream",
     "text": [
      "Epoch 57/75\n",
      "Train Loss: 0.7871 | Val Loss: 0.9917 | Val MAE: 1.1945\n"
     ]
    },
    {
     "name": "stderr",
     "output_type": "stream",
     "text": [
      "Epoch 58/75 [Train]: 100%|██████████| 166/166 [02:46<00:00,  1.00s/it, loss=2.29]\n",
      "Epoch 58/75 [Val]: 100%|██████████| 21/21 [00:39<00:00,  1.88s/it]\n"
     ]
    },
    {
     "name": "stdout",
     "output_type": "stream",
     "text": [
      "Epoch 58/75\n",
      "Train Loss: 0.7231 | Val Loss: 1.1021 | Val MAE: 1.3027\n"
     ]
    },
    {
     "name": "stderr",
     "output_type": "stream",
     "text": [
      "Epoch 59/75 [Train]: 100%|██████████| 166/166 [02:45<00:00,  1.00it/s, loss=0.243]\n",
      "Epoch 59/75 [Val]: 100%|██████████| 21/21 [00:39<00:00,  1.90s/it]\n"
     ]
    },
    {
     "name": "stdout",
     "output_type": "stream",
     "text": [
      "Epoch 59/75\n",
      "Train Loss: 0.7691 | Val Loss: 1.0236 | Val MAE: 1.2237\n"
     ]
    },
    {
     "name": "stderr",
     "output_type": "stream",
     "text": [
      "Epoch 60/75 [Train]: 100%|██████████| 166/166 [02:44<00:00,  1.01it/s, loss=0.223]\n",
      "Epoch 60/75 [Val]: 100%|██████████| 21/21 [00:38<00:00,  1.85s/it]\n"
     ]
    },
    {
     "name": "stdout",
     "output_type": "stream",
     "text": [
      "Epoch 60/75\n",
      "Train Loss: 0.7750 | Val Loss: 1.1030 | Val MAE: 1.3041\n"
     ]
    },
    {
     "name": "stderr",
     "output_type": "stream",
     "text": [
      "Epoch 61/75 [Train]: 100%|██████████| 166/166 [02:46<00:00,  1.00s/it, loss=0.315]\n",
      "Epoch 61/75 [Val]: 100%|██████████| 21/21 [00:39<00:00,  1.87s/it]\n"
     ]
    },
    {
     "name": "stdout",
     "output_type": "stream",
     "text": [
      "Epoch 61/75\n",
      "Train Loss: 0.7099 | Val Loss: 0.9859 | Val MAE: 1.1905\n"
     ]
    },
    {
     "name": "stderr",
     "output_type": "stream",
     "text": [
      "Epoch 62/75 [Train]: 100%|██████████| 166/166 [02:45<00:00,  1.00it/s, loss=5.29]\n",
      "Epoch 62/75 [Val]: 100%|██████████| 21/21 [00:38<00:00,  1.85s/it]\n"
     ]
    },
    {
     "name": "stdout",
     "output_type": "stream",
     "text": [
      "Epoch 62/75\n",
      "Train Loss: 0.6750 | Val Loss: 1.2379 | Val MAE: 1.4435\n"
     ]
    },
    {
     "name": "stderr",
     "output_type": "stream",
     "text": [
      "Epoch 63/75 [Train]: 100%|██████████| 166/166 [02:44<00:00,  1.01it/s, loss=5.33]\n",
      "Epoch 63/75 [Val]: 100%|██████████| 21/21 [00:37<00:00,  1.80s/it]\n"
     ]
    },
    {
     "name": "stdout",
     "output_type": "stream",
     "text": [
      "Epoch 63/75\n",
      "Train Loss: 0.7481 | Val Loss: 1.1498 | Val MAE: 1.3534\n"
     ]
    },
    {
     "name": "stderr",
     "output_type": "stream",
     "text": [
      "Epoch 64/75 [Train]: 100%|██████████| 166/166 [02:41<00:00,  1.03it/s, loss=1.62]\n",
      "Epoch 64/75 [Val]: 100%|██████████| 21/21 [00:37<00:00,  1.79s/it]\n"
     ]
    },
    {
     "name": "stdout",
     "output_type": "stream",
     "text": [
      "Epoch 64/75\n",
      "Train Loss: 0.7263 | Val Loss: 1.0342 | Val MAE: 1.2362\n"
     ]
    },
    {
     "name": "stderr",
     "output_type": "stream",
     "text": [
      "Epoch 65/75 [Train]: 100%|██████████| 166/166 [02:39<00:00,  1.04it/s, loss=0.377]\n",
      "Epoch 65/75 [Val]: 100%|██████████| 21/21 [00:37<00:00,  1.79s/it]\n"
     ]
    },
    {
     "name": "stdout",
     "output_type": "stream",
     "text": [
      "Epoch 65/75\n",
      "Train Loss: 0.7351 | Val Loss: 1.2099 | Val MAE: 1.4154\n"
     ]
    },
    {
     "name": "stderr",
     "output_type": "stream",
     "text": [
      "Epoch 66/75 [Train]: 100%|██████████| 166/166 [02:40<00:00,  1.03it/s, loss=0.164]\n",
      "Epoch 66/75 [Val]: 100%|██████████| 21/21 [00:38<00:00,  1.82s/it]\n"
     ]
    },
    {
     "name": "stdout",
     "output_type": "stream",
     "text": [
      "Epoch 66/75\n",
      "Train Loss: 0.7926 | Val Loss: 1.0234 | Val MAE: 1.2294\n"
     ]
    },
    {
     "name": "stderr",
     "output_type": "stream",
     "text": [
      "Epoch 67/75 [Train]: 100%|██████████| 166/166 [02:39<00:00,  1.04it/s, loss=0.158]\n",
      "Epoch 67/75 [Val]: 100%|██████████| 21/21 [00:37<00:00,  1.80s/it]\n"
     ]
    },
    {
     "name": "stdout",
     "output_type": "stream",
     "text": [
      "Epoch 67/75\n",
      "Train Loss: 0.7223 | Val Loss: 1.0366 | Val MAE: 1.2382\n"
     ]
    },
    {
     "name": "stderr",
     "output_type": "stream",
     "text": [
      "Epoch 68/75 [Train]: 100%|██████████| 166/166 [02:41<00:00,  1.03it/s, loss=0.242]\n",
      "Epoch 68/75 [Val]: 100%|██████████| 21/21 [00:37<00:00,  1.80s/it]\n"
     ]
    },
    {
     "name": "stdout",
     "output_type": "stream",
     "text": [
      "Epoch 68/75\n",
      "Train Loss: 0.6821 | Val Loss: 1.0974 | Val MAE: 1.3007\n"
     ]
    },
    {
     "name": "stderr",
     "output_type": "stream",
     "text": [
      "Epoch 69/75 [Train]: 100%|██████████| 166/166 [02:49<00:00,  1.02s/it, loss=0.473]\n",
      "Epoch 69/75 [Val]: 100%|██████████| 21/21 [00:38<00:00,  1.82s/it]\n"
     ]
    },
    {
     "name": "stdout",
     "output_type": "stream",
     "text": [
      "Epoch 69/75\n",
      "Train Loss: 0.7096 | Val Loss: 1.0709 | Val MAE: 1.2749\n"
     ]
    },
    {
     "name": "stderr",
     "output_type": "stream",
     "text": [
      "Epoch 70/75 [Train]: 100%|██████████| 166/166 [02:40<00:00,  1.03it/s, loss=0.0911]\n",
      "Epoch 70/75 [Val]: 100%|██████████| 21/21 [00:38<00:00,  1.81s/it]\n"
     ]
    },
    {
     "name": "stdout",
     "output_type": "stream",
     "text": [
      "Epoch 70/75\n",
      "Train Loss: 0.7589 | Val Loss: 0.9871 | Val MAE: 1.1925\n"
     ]
    },
    {
     "name": "stderr",
     "output_type": "stream",
     "text": [
      "Epoch 71/75 [Train]: 100%|██████████| 166/166 [02:41<00:00,  1.03it/s, loss=0.206]\n",
      "Epoch 71/75 [Val]: 100%|██████████| 21/21 [00:38<00:00,  1.83s/it]\n"
     ]
    },
    {
     "name": "stdout",
     "output_type": "stream",
     "text": [
      "Epoch 71/75\n",
      "Train Loss: 0.7003 | Val Loss: 1.1355 | Val MAE: 1.3399\n"
     ]
    },
    {
     "name": "stderr",
     "output_type": "stream",
     "text": [
      "Epoch 72/75 [Train]: 100%|██████████| 166/166 [02:39<00:00,  1.04it/s, loss=0.299]\n",
      "Epoch 72/75 [Val]: 100%|██████████| 21/21 [00:38<00:00,  1.82s/it]\n"
     ]
    },
    {
     "name": "stdout",
     "output_type": "stream",
     "text": [
      "Epoch 72/75\n",
      "Train Loss: 0.6520 | Val Loss: 1.0730 | Val MAE: 1.2753\n"
     ]
    },
    {
     "name": "stderr",
     "output_type": "stream",
     "text": [
      "Epoch 73/75 [Train]: 100%|██████████| 166/166 [02:42<00:00,  1.02it/s, loss=3.41]\n",
      "Epoch 73/75 [Val]: 100%|██████████| 21/21 [00:37<00:00,  1.81s/it]\n"
     ]
    },
    {
     "name": "stdout",
     "output_type": "stream",
     "text": [
      "Epoch 73/75\n",
      "Train Loss: 0.6725 | Val Loss: 1.0689 | Val MAE: 1.2731\n"
     ]
    },
    {
     "name": "stderr",
     "output_type": "stream",
     "text": [
      "Epoch 74/75 [Train]: 100%|██████████| 166/166 [02:41<00:00,  1.03it/s, loss=0.256]\n",
      "Epoch 74/75 [Val]: 100%|██████████| 21/21 [00:38<00:00,  1.81s/it]\n"
     ]
    },
    {
     "name": "stdout",
     "output_type": "stream",
     "text": [
      "Epoch 74/75\n",
      "Train Loss: 0.7022 | Val Loss: 0.9971 | Val MAE: 1.2025\n"
     ]
    },
    {
     "name": "stderr",
     "output_type": "stream",
     "text": [
      "Epoch 75/75 [Train]: 100%|██████████| 166/166 [02:40<00:00,  1.03it/s, loss=0.303]\n",
      "Epoch 75/75 [Val]: 100%|██████████| 21/21 [00:38<00:00,  1.81s/it]\n"
     ]
    },
    {
     "name": "stdout",
     "output_type": "stream",
     "text": [
      "Epoch 75/75\n",
      "Train Loss: 0.7278 | Val Loss: 1.0830 | Val MAE: 1.2854\n",
      "Training fold 2/3\n"
     ]
    },
    {
     "name": "stderr",
     "output_type": "stream",
     "text": [
      "Epoch 1/75 [Train]: 100%|██████████| 166/166 [02:38<00:00,  1.05it/s, loss=2.91]\n",
      "Epoch 1/75 [Val]: 100%|██████████| 21/21 [00:36<00:00,  1.76s/it]\n"
     ]
    },
    {
     "name": "stdout",
     "output_type": "stream",
     "text": [
      "Epoch 1/75\n",
      "Train Loss: 2.2249 | Val Loss: 2.5629 | Val MAE: 2.8836\n"
     ]
    },
    {
     "name": "stderr",
     "output_type": "stream",
     "text": [
      "Epoch 2/75 [Train]: 100%|██████████| 166/166 [02:36<00:00,  1.06it/s, loss=1.52]\n",
      "Epoch 2/75 [Val]: 100%|██████████| 21/21 [00:37<00:00,  1.77s/it]\n"
     ]
    },
    {
     "name": "stdout",
     "output_type": "stream",
     "text": [
      "Epoch 2/75\n",
      "Train Loss: 2.1401 | Val Loss: 2.5077 | Val MAE: 2.8143\n"
     ]
    },
    {
     "name": "stderr",
     "output_type": "stream",
     "text": [
      "Epoch 3/75 [Train]: 100%|██████████| 166/166 [02:36<00:00,  1.06it/s, loss=0.528]\n",
      "Epoch 3/75 [Val]: 100%|██████████| 21/21 [00:37<00:00,  1.78s/it]\n"
     ]
    },
    {
     "name": "stdout",
     "output_type": "stream",
     "text": [
      "Epoch 3/75\n",
      "Train Loss: 2.0702 | Val Loss: 2.4099 | Val MAE: 2.7050\n"
     ]
    },
    {
     "name": "stderr",
     "output_type": "stream",
     "text": [
      "Epoch 4/75 [Train]: 100%|██████████| 166/166 [02:35<00:00,  1.06it/s, loss=1.21]\n",
      "Epoch 4/75 [Val]: 100%|██████████| 21/21 [00:36<00:00,  1.76s/it]\n"
     ]
    },
    {
     "name": "stdout",
     "output_type": "stream",
     "text": [
      "Epoch 4/75\n",
      "Train Loss: 1.9711 | Val Loss: 2.2783 | Val MAE: 2.5690\n"
     ]
    },
    {
     "name": "stderr",
     "output_type": "stream",
     "text": [
      "Epoch 5/75 [Train]: 100%|██████████| 166/166 [02:40<00:00,  1.03it/s, loss=1.11]\n",
      "Epoch 5/75 [Val]: 100%|██████████| 21/21 [00:39<00:00,  1.86s/it]\n"
     ]
    },
    {
     "name": "stdout",
     "output_type": "stream",
     "text": [
      "Epoch 5/75\n",
      "Train Loss: 1.9171 | Val Loss: 2.2501 | Val MAE: 2.5366\n"
     ]
    },
    {
     "name": "stderr",
     "output_type": "stream",
     "text": [
      "Epoch 6/75 [Train]: 100%|██████████| 166/166 [02:42<00:00,  1.02it/s, loss=4.02]\n",
      "Epoch 6/75 [Val]: 100%|██████████| 21/21 [00:38<00:00,  1.83s/it]\n"
     ]
    },
    {
     "name": "stdout",
     "output_type": "stream",
     "text": [
      "Epoch 6/75\n",
      "Train Loss: 1.8542 | Val Loss: 2.0828 | Val MAE: 2.3529\n"
     ]
    },
    {
     "name": "stderr",
     "output_type": "stream",
     "text": [
      "Epoch 7/75 [Train]: 100%|██████████| 166/166 [02:41<00:00,  1.03it/s, loss=0.625]\n",
      "Epoch 7/75 [Val]: 100%|██████████| 21/21 [00:37<00:00,  1.78s/it]\n"
     ]
    },
    {
     "name": "stdout",
     "output_type": "stream",
     "text": [
      "Epoch 7/75\n",
      "Train Loss: 1.7518 | Val Loss: 1.9312 | Val MAE: 2.1953\n"
     ]
    },
    {
     "name": "stderr",
     "output_type": "stream",
     "text": [
      "Epoch 8/75 [Train]: 100%|██████████| 166/166 [02:39<00:00,  1.04it/s, loss=0.277]\n",
      "Epoch 8/75 [Val]: 100%|██████████| 21/21 [00:37<00:00,  1.78s/it]\n"
     ]
    },
    {
     "name": "stdout",
     "output_type": "stream",
     "text": [
      "Epoch 8/75\n",
      "Train Loss: 1.7037 | Val Loss: 1.9123 | Val MAE: 2.1661\n"
     ]
    },
    {
     "name": "stderr",
     "output_type": "stream",
     "text": [
      "Epoch 9/75 [Train]: 100%|██████████| 166/166 [02:41<00:00,  1.03it/s, loss=0.644]\n",
      "Epoch 9/75 [Val]: 100%|██████████| 21/21 [00:37<00:00,  1.78s/it]\n"
     ]
    },
    {
     "name": "stdout",
     "output_type": "stream",
     "text": [
      "Epoch 9/75\n",
      "Train Loss: 1.6447 | Val Loss: 1.8252 | Val MAE: 2.0801\n"
     ]
    },
    {
     "name": "stderr",
     "output_type": "stream",
     "text": [
      "Epoch 10/75 [Train]: 100%|██████████| 166/166 [02:38<00:00,  1.04it/s, loss=0.381]\n",
      "Epoch 10/75 [Val]: 100%|██████████| 21/21 [00:37<00:00,  1.79s/it]\n"
     ]
    },
    {
     "name": "stdout",
     "output_type": "stream",
     "text": [
      "Epoch 10/75\n",
      "Train Loss: 1.6047 | Val Loss: 1.9043 | Val MAE: 2.1527\n"
     ]
    },
    {
     "name": "stderr",
     "output_type": "stream",
     "text": [
      "Epoch 11/75 [Train]: 100%|██████████| 166/166 [02:38<00:00,  1.05it/s, loss=5.53]\n",
      "Epoch 11/75 [Val]: 100%|██████████| 21/21 [00:37<00:00,  1.79s/it]\n"
     ]
    },
    {
     "name": "stdout",
     "output_type": "stream",
     "text": [
      "Epoch 11/75\n",
      "Train Loss: 1.6278 | Val Loss: 1.8384 | Val MAE: 2.0886\n"
     ]
    },
    {
     "name": "stderr",
     "output_type": "stream",
     "text": [
      "Epoch 12/75 [Train]: 100%|██████████| 166/166 [02:38<00:00,  1.05it/s, loss=12.7]\n",
      "Epoch 12/75 [Val]: 100%|██████████| 21/21 [00:37<00:00,  1.76s/it]\n"
     ]
    },
    {
     "name": "stdout",
     "output_type": "stream",
     "text": [
      "Epoch 12/75\n",
      "Train Loss: 1.5955 | Val Loss: 1.8089 | Val MAE: 2.0565\n"
     ]
    },
    {
     "name": "stderr",
     "output_type": "stream",
     "text": [
      "Epoch 13/75 [Train]: 100%|██████████| 166/166 [02:35<00:00,  1.07it/s, loss=0.352]\n",
      "Epoch 13/75 [Val]: 100%|██████████| 21/21 [00:37<00:00,  1.78s/it]\n"
     ]
    },
    {
     "name": "stdout",
     "output_type": "stream",
     "text": [
      "Epoch 13/75\n",
      "Train Loss: 1.4989 | Val Loss: 1.7239 | Val MAE: 1.9743\n"
     ]
    },
    {
     "name": "stderr",
     "output_type": "stream",
     "text": [
      "Epoch 14/75 [Train]: 100%|██████████| 166/166 [02:36<00:00,  1.06it/s, loss=0.771]\n",
      "Epoch 14/75 [Val]: 100%|██████████| 21/21 [00:37<00:00,  1.77s/it]\n"
     ]
    },
    {
     "name": "stdout",
     "output_type": "stream",
     "text": [
      "Epoch 14/75\n",
      "Train Loss: 1.5218 | Val Loss: 1.7301 | Val MAE: 1.9799\n"
     ]
    },
    {
     "name": "stderr",
     "output_type": "stream",
     "text": [
      "Epoch 15/75 [Train]: 100%|██████████| 166/166 [02:38<00:00,  1.05it/s, loss=0.422]\n",
      "Epoch 15/75 [Val]: 100%|██████████| 21/21 [00:37<00:00,  1.76s/it]\n"
     ]
    },
    {
     "name": "stdout",
     "output_type": "stream",
     "text": [
      "Epoch 15/75\n",
      "Train Loss: 1.5210 | Val Loss: 1.7193 | Val MAE: 1.9701\n"
     ]
    },
    {
     "name": "stderr",
     "output_type": "stream",
     "text": [
      "Epoch 16/75 [Train]: 100%|██████████| 166/166 [02:38<00:00,  1.05it/s, loss=1.24]\n",
      "Epoch 16/75 [Val]: 100%|██████████| 21/21 [00:36<00:00,  1.74s/it]\n"
     ]
    },
    {
     "name": "stdout",
     "output_type": "stream",
     "text": [
      "Epoch 16/75\n",
      "Train Loss: 1.4885 | Val Loss: 1.7154 | Val MAE: 1.9569\n"
     ]
    },
    {
     "name": "stderr",
     "output_type": "stream",
     "text": [
      "Epoch 17/75 [Train]: 100%|██████████| 166/166 [02:37<00:00,  1.05it/s, loss=0.805]\n",
      "Epoch 17/75 [Val]: 100%|██████████| 21/21 [00:37<00:00,  1.77s/it]\n"
     ]
    },
    {
     "name": "stdout",
     "output_type": "stream",
     "text": [
      "Epoch 17/75\n",
      "Train Loss: 1.5038 | Val Loss: 1.6594 | Val MAE: 1.8994\n"
     ]
    },
    {
     "name": "stderr",
     "output_type": "stream",
     "text": [
      "Epoch 18/75 [Train]: 100%|██████████| 166/166 [02:38<00:00,  1.05it/s, loss=0.439]\n",
      "Epoch 18/75 [Val]: 100%|██████████| 21/21 [00:36<00:00,  1.74s/it]\n"
     ]
    },
    {
     "name": "stdout",
     "output_type": "stream",
     "text": [
      "Epoch 18/75\n",
      "Train Loss: 1.4479 | Val Loss: 1.6037 | Val MAE: 1.8467\n"
     ]
    },
    {
     "name": "stderr",
     "output_type": "stream",
     "text": [
      "Epoch 19/75 [Train]: 100%|██████████| 166/166 [02:38<00:00,  1.05it/s, loss=0.219]\n",
      "Epoch 19/75 [Val]: 100%|██████████| 21/21 [00:37<00:00,  1.78s/it]\n"
     ]
    },
    {
     "name": "stdout",
     "output_type": "stream",
     "text": [
      "Epoch 19/75\n",
      "Train Loss: 1.3813 | Val Loss: 1.5775 | Val MAE: 1.8181\n"
     ]
    },
    {
     "name": "stderr",
     "output_type": "stream",
     "text": [
      "Epoch 20/75 [Train]: 100%|██████████| 166/166 [02:37<00:00,  1.05it/s, loss=3.37]\n",
      "Epoch 20/75 [Val]: 100%|██████████| 21/21 [00:36<00:00,  1.73s/it]\n"
     ]
    },
    {
     "name": "stdout",
     "output_type": "stream",
     "text": [
      "Epoch 20/75\n",
      "Train Loss: 1.3764 | Val Loss: 1.4863 | Val MAE: 1.7208\n"
     ]
    },
    {
     "name": "stderr",
     "output_type": "stream",
     "text": [
      "Epoch 21/75 [Train]: 100%|██████████| 166/166 [02:37<00:00,  1.05it/s, loss=0.814]\n",
      "Epoch 21/75 [Val]: 100%|██████████| 21/21 [00:37<00:00,  1.76s/it]\n"
     ]
    },
    {
     "name": "stdout",
     "output_type": "stream",
     "text": [
      "Epoch 21/75\n",
      "Train Loss: 1.3363 | Val Loss: 1.5441 | Val MAE: 1.7756\n"
     ]
    },
    {
     "name": "stderr",
     "output_type": "stream",
     "text": [
      "Epoch 22/75 [Train]: 100%|██████████| 166/166 [02:34<00:00,  1.07it/s, loss=0.81]\n",
      "Epoch 22/75 [Val]: 100%|██████████| 21/21 [00:37<00:00,  1.77s/it]\n"
     ]
    },
    {
     "name": "stdout",
     "output_type": "stream",
     "text": [
      "Epoch 22/75\n",
      "Train Loss: 1.3114 | Val Loss: 1.4129 | Val MAE: 1.6519\n"
     ]
    },
    {
     "name": "stderr",
     "output_type": "stream",
     "text": [
      "Epoch 23/75 [Train]: 100%|██████████| 166/166 [02:38<00:00,  1.05it/s, loss=0.819]\n",
      "Epoch 23/75 [Val]: 100%|██████████| 21/21 [00:37<00:00,  1.76s/it]\n"
     ]
    },
    {
     "name": "stdout",
     "output_type": "stream",
     "text": [
      "Epoch 23/75\n",
      "Train Loss: 1.2740 | Val Loss: 1.4554 | Val MAE: 1.6905\n"
     ]
    },
    {
     "name": "stderr",
     "output_type": "stream",
     "text": [
      "Epoch 24/75 [Train]: 100%|██████████| 166/166 [02:37<00:00,  1.06it/s, loss=0.681]\n",
      "Epoch 24/75 [Val]: 100%|██████████| 21/21 [00:36<00:00,  1.72s/it]\n"
     ]
    },
    {
     "name": "stdout",
     "output_type": "stream",
     "text": [
      "Epoch 24/75\n",
      "Train Loss: 1.2085 | Val Loss: 1.3431 | Val MAE: 1.5769\n"
     ]
    },
    {
     "name": "stderr",
     "output_type": "stream",
     "text": [
      "Epoch 25/75 [Train]: 100%|██████████| 166/166 [02:38<00:00,  1.05it/s, loss=9.82]\n",
      "Epoch 25/75 [Val]: 100%|██████████| 21/21 [00:37<00:00,  1.76s/it]\n"
     ]
    },
    {
     "name": "stdout",
     "output_type": "stream",
     "text": [
      "Epoch 25/75\n",
      "Train Loss: 1.2136 | Val Loss: 1.4784 | Val MAE: 1.7140\n"
     ]
    },
    {
     "name": "stderr",
     "output_type": "stream",
     "text": [
      "Epoch 26/75 [Train]: 100%|██████████| 166/166 [02:38<00:00,  1.05it/s, loss=0.499]\n",
      "Epoch 26/75 [Val]: 100%|██████████| 21/21 [00:37<00:00,  1.77s/it]\n"
     ]
    },
    {
     "name": "stdout",
     "output_type": "stream",
     "text": [
      "Epoch 26/75\n",
      "Train Loss: 1.2313 | Val Loss: 1.3331 | Val MAE: 1.5625\n"
     ]
    },
    {
     "name": "stderr",
     "output_type": "stream",
     "text": [
      "Epoch 27/75 [Train]: 100%|██████████| 166/166 [02:37<00:00,  1.05it/s, loss=1.06]\n",
      "Epoch 27/75 [Val]: 100%|██████████| 21/21 [00:37<00:00,  1.77s/it]\n"
     ]
    },
    {
     "name": "stdout",
     "output_type": "stream",
     "text": [
      "Epoch 27/75\n",
      "Train Loss: 1.1719 | Val Loss: 1.3696 | Val MAE: 1.6014\n"
     ]
    },
    {
     "name": "stderr",
     "output_type": "stream",
     "text": [
      "Epoch 28/75 [Train]: 100%|██████████| 166/166 [02:37<00:00,  1.05it/s, loss=1.56]\n",
      "Epoch 28/75 [Val]: 100%|██████████| 21/21 [00:37<00:00,  1.77s/it]\n"
     ]
    },
    {
     "name": "stdout",
     "output_type": "stream",
     "text": [
      "Epoch 28/75\n",
      "Train Loss: 1.1476 | Val Loss: 1.3269 | Val MAE: 1.5580\n"
     ]
    },
    {
     "name": "stderr",
     "output_type": "stream",
     "text": [
      "Epoch 29/75 [Train]: 100%|██████████| 166/166 [02:38<00:00,  1.04it/s, loss=0.628]\n",
      "Epoch 29/75 [Val]: 100%|██████████| 21/21 [00:36<00:00,  1.73s/it]\n"
     ]
    },
    {
     "name": "stdout",
     "output_type": "stream",
     "text": [
      "Epoch 29/75\n",
      "Train Loss: 1.1255 | Val Loss: 1.3375 | Val MAE: 1.5691\n"
     ]
    },
    {
     "name": "stderr",
     "output_type": "stream",
     "text": [
      "Epoch 30/75 [Train]: 100%|██████████| 166/166 [02:34<00:00,  1.07it/s, loss=0.916]\n",
      "Epoch 30/75 [Val]: 100%|██████████| 21/21 [00:37<00:00,  1.76s/it]\n"
     ]
    },
    {
     "name": "stdout",
     "output_type": "stream",
     "text": [
      "Epoch 30/75\n",
      "Train Loss: 1.0911 | Val Loss: 1.3826 | Val MAE: 1.6128\n"
     ]
    },
    {
     "name": "stderr",
     "output_type": "stream",
     "text": [
      "Epoch 31/75 [Train]: 100%|██████████| 166/166 [02:35<00:00,  1.07it/s, loss=0.181]\n",
      "Epoch 31/75 [Val]: 100%|██████████| 21/21 [00:37<00:00,  1.77s/it]\n"
     ]
    },
    {
     "name": "stdout",
     "output_type": "stream",
     "text": [
      "Epoch 31/75\n",
      "Train Loss: 1.1070 | Val Loss: 1.3032 | Val MAE: 1.5317\n"
     ]
    },
    {
     "name": "stderr",
     "output_type": "stream",
     "text": [
      "Epoch 32/75 [Train]: 100%|██████████| 166/166 [02:40<00:00,  1.04it/s, loss=3.83]\n",
      "Epoch 32/75 [Val]: 100%|██████████| 21/21 [00:36<00:00,  1.75s/it]\n"
     ]
    },
    {
     "name": "stdout",
     "output_type": "stream",
     "text": [
      "Epoch 32/75\n",
      "Train Loss: 1.0888 | Val Loss: 1.4535 | Val MAE: 1.6831\n"
     ]
    },
    {
     "name": "stderr",
     "output_type": "stream",
     "text": [
      "Epoch 33/75 [Train]: 100%|██████████| 166/166 [02:39<00:00,  1.04it/s, loss=5.37]\n",
      "Epoch 33/75 [Val]: 100%|██████████| 21/21 [00:37<00:00,  1.77s/it]\n"
     ]
    },
    {
     "name": "stdout",
     "output_type": "stream",
     "text": [
      "Epoch 33/75\n",
      "Train Loss: 1.1308 | Val Loss: 1.3572 | Val MAE: 1.5862\n"
     ]
    },
    {
     "name": "stderr",
     "output_type": "stream",
     "text": [
      "Epoch 34/75 [Train]: 100%|██████████| 166/166 [02:38<00:00,  1.05it/s, loss=0.312]\n",
      "Epoch 34/75 [Val]: 100%|██████████| 21/21 [00:37<00:00,  1.78s/it]\n"
     ]
    },
    {
     "name": "stdout",
     "output_type": "stream",
     "text": [
      "Epoch 34/75\n",
      "Train Loss: 1.1934 | Val Loss: 1.3657 | Val MAE: 1.5945\n"
     ]
    },
    {
     "name": "stderr",
     "output_type": "stream",
     "text": [
      "Epoch 35/75 [Train]: 100%|██████████| 166/166 [02:37<00:00,  1.05it/s, loss=0.93]\n",
      "Epoch 35/75 [Val]: 100%|██████████| 21/21 [00:37<00:00,  1.77s/it]\n"
     ]
    },
    {
     "name": "stdout",
     "output_type": "stream",
     "text": [
      "Epoch 35/75\n",
      "Train Loss: 1.0500 | Val Loss: 1.3419 | Val MAE: 1.5722\n"
     ]
    },
    {
     "name": "stderr",
     "output_type": "stream",
     "text": [
      "Epoch 36/75 [Train]: 100%|██████████| 166/166 [02:36<00:00,  1.06it/s, loss=0.296]\n",
      "Epoch 36/75 [Val]: 100%|██████████| 21/21 [00:36<00:00,  1.76s/it]\n"
     ]
    },
    {
     "name": "stdout",
     "output_type": "stream",
     "text": [
      "Epoch 36/75\n",
      "Train Loss: 1.1500 | Val Loss: 1.5532 | Val MAE: 1.7858\n"
     ]
    },
    {
     "name": "stderr",
     "output_type": "stream",
     "text": [
      "Epoch 37/75 [Train]: 100%|██████████| 166/166 [02:36<00:00,  1.06it/s, loss=0.573]\n",
      "Epoch 37/75 [Val]: 100%|██████████| 21/21 [00:37<00:00,  1.78s/it]\n"
     ]
    },
    {
     "name": "stdout",
     "output_type": "stream",
     "text": [
      "Epoch 37/75\n",
      "Train Loss: 1.1057 | Val Loss: 1.5255 | Val MAE: 1.7598\n"
     ]
    },
    {
     "name": "stderr",
     "output_type": "stream",
     "text": [
      "Epoch 38/75 [Train]: 100%|██████████| 166/166 [02:37<00:00,  1.05it/s, loss=0.307]\n",
      "Epoch 38/75 [Val]: 100%|██████████| 21/21 [00:37<00:00,  1.78s/it]\n"
     ]
    },
    {
     "name": "stdout",
     "output_type": "stream",
     "text": [
      "Epoch 38/75\n",
      "Train Loss: 1.1347 | Val Loss: 1.3059 | Val MAE: 1.5333\n"
     ]
    },
    {
     "name": "stderr",
     "output_type": "stream",
     "text": [
      "Epoch 39/75 [Train]: 100%|██████████| 166/166 [02:40<00:00,  1.03it/s, loss=0.49]\n",
      "Epoch 39/75 [Val]: 100%|██████████| 21/21 [00:36<00:00,  1.74s/it]\n"
     ]
    },
    {
     "name": "stdout",
     "output_type": "stream",
     "text": [
      "Epoch 39/75\n",
      "Train Loss: 1.0655 | Val Loss: 1.3896 | Val MAE: 1.6206\n"
     ]
    },
    {
     "name": "stderr",
     "output_type": "stream",
     "text": [
      "Epoch 40/75 [Train]: 100%|██████████| 166/166 [02:37<00:00,  1.06it/s, loss=0.363]\n",
      "Epoch 40/75 [Val]: 100%|██████████| 21/21 [00:37<00:00,  1.79s/it]\n"
     ]
    },
    {
     "name": "stdout",
     "output_type": "stream",
     "text": [
      "Epoch 40/75\n",
      "Train Loss: 1.0362 | Val Loss: 1.4074 | Val MAE: 1.6336\n"
     ]
    },
    {
     "name": "stderr",
     "output_type": "stream",
     "text": [
      "Epoch 41/75 [Train]: 100%|██████████| 166/166 [02:35<00:00,  1.06it/s, loss=0.401]\n",
      "Epoch 41/75 [Val]: 100%|██████████| 21/21 [00:37<00:00,  1.78s/it]\n"
     ]
    },
    {
     "name": "stdout",
     "output_type": "stream",
     "text": [
      "Epoch 41/75\n",
      "Train Loss: 1.0018 | Val Loss: 1.3099 | Val MAE: 1.5420\n"
     ]
    },
    {
     "name": "stderr",
     "output_type": "stream",
     "text": [
      "Epoch 42/75 [Train]: 100%|██████████| 166/166 [02:40<00:00,  1.04it/s, loss=0.362]\n",
      "Epoch 42/75 [Val]: 100%|██████████| 21/21 [00:38<00:00,  1.85s/it]\n"
     ]
    },
    {
     "name": "stdout",
     "output_type": "stream",
     "text": [
      "Epoch 42/75\n",
      "Train Loss: 1.0304 | Val Loss: 1.1848 | Val MAE: 1.4100\n"
     ]
    },
    {
     "name": "stderr",
     "output_type": "stream",
     "text": [
      "Epoch 43/75 [Train]: 100%|██████████| 166/166 [02:40<00:00,  1.04it/s, loss=0.13]\n",
      "Epoch 43/75 [Val]: 100%|██████████| 21/21 [00:37<00:00,  1.78s/it]\n"
     ]
    },
    {
     "name": "stdout",
     "output_type": "stream",
     "text": [
      "Epoch 43/75\n",
      "Train Loss: 0.9649 | Val Loss: 1.5059 | Val MAE: 1.7402\n"
     ]
    },
    {
     "name": "stderr",
     "output_type": "stream",
     "text": [
      "Epoch 44/75 [Train]: 100%|██████████| 166/166 [02:37<00:00,  1.05it/s, loss=0.318]\n",
      "Epoch 44/75 [Val]: 100%|██████████| 21/21 [00:37<00:00,  1.77s/it]\n"
     ]
    },
    {
     "name": "stdout",
     "output_type": "stream",
     "text": [
      "Epoch 44/75\n",
      "Train Loss: 1.0222 | Val Loss: 1.6061 | Val MAE: 1.8373\n"
     ]
    },
    {
     "name": "stderr",
     "output_type": "stream",
     "text": [
      "Epoch 45/75 [Train]: 100%|██████████| 166/166 [02:37<00:00,  1.05it/s, loss=2.92]\n",
      "Epoch 45/75 [Val]: 100%|██████████| 21/21 [00:38<00:00,  1.85s/it]\n"
     ]
    },
    {
     "name": "stdout",
     "output_type": "stream",
     "text": [
      "Epoch 45/75\n",
      "Train Loss: 0.8890 | Val Loss: 1.4630 | Val MAE: 1.6889\n"
     ]
    },
    {
     "name": "stderr",
     "output_type": "stream",
     "text": [
      "Epoch 46/75 [Train]: 100%|██████████| 166/166 [02:48<00:00,  1.02s/it, loss=1.29]\n",
      "Epoch 46/75 [Val]: 100%|██████████| 21/21 [00:40<00:00,  1.94s/it]\n"
     ]
    },
    {
     "name": "stdout",
     "output_type": "stream",
     "text": [
      "Epoch 46/75\n",
      "Train Loss: 0.9054 | Val Loss: 1.5769 | Val MAE: 1.8041\n"
     ]
    },
    {
     "name": "stderr",
     "output_type": "stream",
     "text": [
      "Epoch 47/75 [Train]: 100%|██████████| 166/166 [02:47<00:00,  1.01s/it, loss=1.54]\n",
      "Epoch 47/75 [Val]: 100%|██████████| 21/21 [00:39<00:00,  1.89s/it]\n"
     ]
    },
    {
     "name": "stdout",
     "output_type": "stream",
     "text": [
      "Epoch 47/75\n",
      "Train Loss: 0.8918 | Val Loss: 1.2878 | Val MAE: 1.5103\n"
     ]
    },
    {
     "name": "stderr",
     "output_type": "stream",
     "text": [
      "Epoch 48/75 [Train]: 100%|██████████| 166/166 [02:59<00:00,  1.08s/it, loss=0.81]\n",
      "Epoch 48/75 [Val]: 100%|██████████| 21/21 [00:38<00:00,  1.84s/it]\n"
     ]
    },
    {
     "name": "stdout",
     "output_type": "stream",
     "text": [
      "Epoch 48/75\n",
      "Train Loss: 0.8746 | Val Loss: 1.3865 | Val MAE: 1.6133\n"
     ]
    },
    {
     "name": "stderr",
     "output_type": "stream",
     "text": [
      "Epoch 49/75 [Train]: 100%|██████████| 166/166 [02:55<00:00,  1.06s/it, loss=0.23]\n",
      "Epoch 49/75 [Val]: 100%|██████████| 21/21 [00:40<00:00,  1.94s/it]\n"
     ]
    },
    {
     "name": "stdout",
     "output_type": "stream",
     "text": [
      "Epoch 49/75\n",
      "Train Loss: 0.8657 | Val Loss: 1.1873 | Val MAE: 1.4104\n"
     ]
    },
    {
     "name": "stderr",
     "output_type": "stream",
     "text": [
      "Epoch 50/75 [Train]: 100%|██████████| 166/166 [03:00<00:00,  1.08s/it, loss=0.632]\n",
      "Epoch 50/75 [Val]: 100%|██████████| 21/21 [00:42<00:00,  2.02s/it]\n"
     ]
    },
    {
     "name": "stdout",
     "output_type": "stream",
     "text": [
      "Epoch 50/75\n",
      "Train Loss: 0.8667 | Val Loss: 1.6972 | Val MAE: 1.9235\n"
     ]
    },
    {
     "name": "stderr",
     "output_type": "stream",
     "text": [
      "Epoch 51/75 [Train]: 100%|██████████| 166/166 [03:04<00:00,  1.11s/it, loss=0.86]\n",
      "Epoch 51/75 [Val]: 100%|██████████| 21/21 [00:43<00:00,  2.07s/it]\n"
     ]
    },
    {
     "name": "stdout",
     "output_type": "stream",
     "text": [
      "Epoch 51/75\n",
      "Train Loss: 0.8228 | Val Loss: 1.5189 | Val MAE: 1.7469\n"
     ]
    },
    {
     "name": "stderr",
     "output_type": "stream",
     "text": [
      "Epoch 52/75 [Train]: 100%|██████████| 166/166 [03:01<00:00,  1.09s/it, loss=0.757]\n",
      "Epoch 52/75 [Val]: 100%|██████████| 21/21 [00:42<00:00,  2.02s/it]\n"
     ]
    },
    {
     "name": "stdout",
     "output_type": "stream",
     "text": [
      "Epoch 52/75\n",
      "Train Loss: 0.7970 | Val Loss: 1.9592 | Val MAE: 2.1906\n"
     ]
    },
    {
     "name": "stderr",
     "output_type": "stream",
     "text": [
      "Epoch 53/75 [Train]: 100%|██████████| 166/166 [03:04<00:00,  1.11s/it, loss=0.716]\n",
      "Epoch 53/75 [Val]: 100%|██████████| 21/21 [00:41<00:00,  2.00s/it]\n"
     ]
    },
    {
     "name": "stdout",
     "output_type": "stream",
     "text": [
      "Epoch 53/75\n",
      "Train Loss: 0.8217 | Val Loss: 1.2475 | Val MAE: 1.4742\n"
     ]
    },
    {
     "name": "stderr",
     "output_type": "stream",
     "text": [
      "Epoch 54/75 [Train]: 100%|██████████| 166/166 [03:04<00:00,  1.11s/it, loss=0.569]\n",
      "Epoch 54/75 [Val]: 100%|██████████| 21/21 [00:43<00:00,  2.06s/it]\n"
     ]
    },
    {
     "name": "stdout",
     "output_type": "stream",
     "text": [
      "Epoch 54/75\n",
      "Train Loss: 0.7405 | Val Loss: 1.2457 | Val MAE: 1.4654\n"
     ]
    },
    {
     "name": "stderr",
     "output_type": "stream",
     "text": [
      "Epoch 55/75 [Train]: 100%|██████████| 166/166 [03:04<00:00,  1.11s/it, loss=4.01]\n",
      "Epoch 55/75 [Val]: 100%|██████████| 21/21 [00:43<00:00,  2.08s/it]\n"
     ]
    },
    {
     "name": "stdout",
     "output_type": "stream",
     "text": [
      "Epoch 55/75\n",
      "Train Loss: 0.7678 | Val Loss: 1.4633 | Val MAE: 1.6881\n"
     ]
    },
    {
     "name": "stderr",
     "output_type": "stream",
     "text": [
      "Epoch 56/75 [Train]: 100%|██████████| 166/166 [03:04<00:00,  1.11s/it, loss=0.267]\n",
      "Epoch 56/75 [Val]: 100%|██████████| 21/21 [00:44<00:00,  2.13s/it]\n"
     ]
    },
    {
     "name": "stdout",
     "output_type": "stream",
     "text": [
      "Epoch 56/75\n",
      "Train Loss: 0.7488 | Val Loss: 1.4379 | Val MAE: 1.6601\n"
     ]
    },
    {
     "name": "stderr",
     "output_type": "stream",
     "text": [
      "Epoch 57/75 [Train]: 100%|██████████| 166/166 [03:08<00:00,  1.14s/it, loss=1.71]\n",
      "Epoch 57/75 [Val]: 100%|██████████| 21/21 [00:44<00:00,  2.13s/it]\n"
     ]
    },
    {
     "name": "stdout",
     "output_type": "stream",
     "text": [
      "Epoch 57/75\n",
      "Train Loss: 0.7236 | Val Loss: 1.4274 | Val MAE: 1.6536\n"
     ]
    },
    {
     "name": "stderr",
     "output_type": "stream",
     "text": [
      "Epoch 58/75 [Train]: 100%|██████████| 166/166 [03:11<00:00,  1.15s/it, loss=0.473]\n",
      "Epoch 58/75 [Val]: 100%|██████████| 21/21 [00:40<00:00,  1.93s/it]\n"
     ]
    },
    {
     "name": "stdout",
     "output_type": "stream",
     "text": [
      "Epoch 58/75\n",
      "Train Loss: 0.7383 | Val Loss: 1.4023 | Val MAE: 1.6232\n"
     ]
    },
    {
     "name": "stderr",
     "output_type": "stream",
     "text": [
      "Epoch 59/75 [Train]: 100%|██████████| 166/166 [02:47<00:00,  1.01s/it, loss=0.161]\n",
      "Epoch 59/75 [Val]: 100%|██████████| 21/21 [00:44<00:00,  2.14s/it]\n"
     ]
    },
    {
     "name": "stdout",
     "output_type": "stream",
     "text": [
      "Epoch 59/75\n",
      "Train Loss: 0.7851 | Val Loss: 1.4130 | Val MAE: 1.6361\n"
     ]
    },
    {
     "name": "stderr",
     "output_type": "stream",
     "text": [
      "Epoch 60/75 [Train]: 100%|██████████| 166/166 [03:14<00:00,  1.17s/it, loss=0.466]\n",
      "Epoch 60/75 [Val]: 100%|██████████| 21/21 [00:47<00:00,  2.25s/it]\n"
     ]
    },
    {
     "name": "stdout",
     "output_type": "stream",
     "text": [
      "Epoch 60/75\n",
      "Train Loss: 0.8026 | Val Loss: 1.3100 | Val MAE: 1.5325\n"
     ]
    },
    {
     "name": "stderr",
     "output_type": "stream",
     "text": [
      "Epoch 61/75 [Train]: 100%|██████████| 166/166 [03:05<00:00,  1.12s/it, loss=1.17]\n",
      "Epoch 61/75 [Val]: 100%|██████████| 21/21 [00:41<00:00,  2.00s/it]\n"
     ]
    },
    {
     "name": "stdout",
     "output_type": "stream",
     "text": [
      "Epoch 61/75\n",
      "Train Loss: 0.7822 | Val Loss: 1.4476 | Val MAE: 1.6741\n"
     ]
    },
    {
     "name": "stderr",
     "output_type": "stream",
     "text": [
      "Epoch 62/75 [Train]: 100%|██████████| 166/166 [03:09<00:00,  1.14s/it, loss=0.954]\n",
      "Epoch 62/75 [Val]: 100%|██████████| 21/21 [00:39<00:00,  1.86s/it]\n"
     ]
    },
    {
     "name": "stdout",
     "output_type": "stream",
     "text": [
      "Epoch 62/75\n",
      "Train Loss: 0.6948 | Val Loss: 1.2058 | Val MAE: 1.4254\n"
     ]
    },
    {
     "name": "stderr",
     "output_type": "stream",
     "text": [
      "Epoch 63/75 [Train]: 100%|██████████| 166/166 [02:41<00:00,  1.03it/s, loss=0.365]\n",
      "Epoch 63/75 [Val]: 100%|██████████| 21/21 [00:38<00:00,  1.82s/it]\n"
     ]
    },
    {
     "name": "stdout",
     "output_type": "stream",
     "text": [
      "Epoch 63/75\n",
      "Train Loss: 0.6963 | Val Loss: 1.1086 | Val MAE: 1.3263\n"
     ]
    },
    {
     "name": "stderr",
     "output_type": "stream",
     "text": [
      "Epoch 64/75 [Train]: 100%|██████████| 166/166 [02:39<00:00,  1.04it/s, loss=0.836]\n",
      "Epoch 64/75 [Val]: 100%|██████████| 21/21 [00:38<00:00,  1.82s/it]\n"
     ]
    },
    {
     "name": "stdout",
     "output_type": "stream",
     "text": [
      "Epoch 64/75\n",
      "Train Loss: 0.7385 | Val Loss: 1.1176 | Val MAE: 1.3372\n"
     ]
    },
    {
     "name": "stderr",
     "output_type": "stream",
     "text": [
      "Epoch 65/75 [Train]: 100%|██████████| 166/166 [02:38<00:00,  1.05it/s, loss=0.449]\n",
      "Epoch 65/75 [Val]: 100%|██████████| 21/21 [00:37<00:00,  1.77s/it]\n"
     ]
    },
    {
     "name": "stdout",
     "output_type": "stream",
     "text": [
      "Epoch 65/75\n",
      "Train Loss: 0.6883 | Val Loss: 1.1453 | Val MAE: 1.3658\n"
     ]
    },
    {
     "name": "stderr",
     "output_type": "stream",
     "text": [
      "Epoch 66/75 [Train]: 100%|██████████| 166/166 [02:40<00:00,  1.03it/s, loss=0.157]\n",
      "Epoch 66/75 [Val]: 100%|██████████| 21/21 [00:37<00:00,  1.77s/it]\n"
     ]
    },
    {
     "name": "stdout",
     "output_type": "stream",
     "text": [
      "Epoch 66/75\n",
      "Train Loss: 0.7578 | Val Loss: 1.1875 | Val MAE: 1.4070\n"
     ]
    },
    {
     "name": "stderr",
     "output_type": "stream",
     "text": [
      "Epoch 67/75 [Train]: 100%|██████████| 166/166 [02:46<00:00,  1.00s/it, loss=0.283]\n",
      "Epoch 67/75 [Val]: 100%|██████████| 21/21 [00:38<00:00,  1.85s/it]\n"
     ]
    },
    {
     "name": "stdout",
     "output_type": "stream",
     "text": [
      "Epoch 67/75\n",
      "Train Loss: 0.7101 | Val Loss: 1.1700 | Val MAE: 1.3878\n"
     ]
    },
    {
     "name": "stderr",
     "output_type": "stream",
     "text": [
      "Epoch 68/75 [Train]: 100%|██████████| 166/166 [02:41<00:00,  1.03it/s, loss=0.807]\n",
      "Epoch 68/75 [Val]: 100%|██████████| 21/21 [00:36<00:00,  1.75s/it]\n"
     ]
    },
    {
     "name": "stdout",
     "output_type": "stream",
     "text": [
      "Epoch 68/75\n",
      "Train Loss: 0.6890 | Val Loss: 1.1514 | Val MAE: 1.3730\n"
     ]
    },
    {
     "name": "stderr",
     "output_type": "stream",
     "text": [
      "Epoch 69/75 [Train]: 100%|██████████| 166/166 [02:41<00:00,  1.03it/s, loss=1.74]\n",
      "Epoch 69/75 [Val]: 100%|██████████| 21/21 [00:37<00:00,  1.79s/it]\n"
     ]
    },
    {
     "name": "stdout",
     "output_type": "stream",
     "text": [
      "Epoch 69/75\n",
      "Train Loss: 0.6895 | Val Loss: 1.2557 | Val MAE: 1.4743\n"
     ]
    },
    {
     "name": "stderr",
     "output_type": "stream",
     "text": [
      "Epoch 70/75 [Train]: 100%|██████████| 166/166 [02:39<00:00,  1.04it/s, loss=1.13]\n",
      "Epoch 70/75 [Val]: 100%|██████████| 21/21 [00:38<00:00,  1.82s/it]\n"
     ]
    },
    {
     "name": "stdout",
     "output_type": "stream",
     "text": [
      "Epoch 70/75\n",
      "Train Loss: 0.7264 | Val Loss: 1.2583 | Val MAE: 1.4803\n"
     ]
    },
    {
     "name": "stderr",
     "output_type": "stream",
     "text": [
      "Epoch 71/75 [Train]: 100%|██████████| 166/166 [02:42<00:00,  1.02it/s, loss=0.171]\n",
      "Epoch 71/75 [Val]: 100%|██████████| 21/21 [00:38<00:00,  1.84s/it]\n"
     ]
    },
    {
     "name": "stdout",
     "output_type": "stream",
     "text": [
      "Epoch 71/75\n",
      "Train Loss: 0.7022 | Val Loss: 1.1408 | Val MAE: 1.3618\n"
     ]
    },
    {
     "name": "stderr",
     "output_type": "stream",
     "text": [
      "Epoch 72/75 [Train]: 100%|██████████| 166/166 [02:40<00:00,  1.03it/s, loss=1.13]\n",
      "Epoch 72/75 [Val]: 100%|██████████| 21/21 [00:38<00:00,  1.83s/it]\n"
     ]
    },
    {
     "name": "stdout",
     "output_type": "stream",
     "text": [
      "Epoch 72/75\n",
      "Train Loss: 0.6460 | Val Loss: 1.1412 | Val MAE: 1.3597\n"
     ]
    },
    {
     "name": "stderr",
     "output_type": "stream",
     "text": [
      "Epoch 73/75 [Train]: 100%|██████████| 166/166 [02:39<00:00,  1.04it/s, loss=0.308]\n",
      "Epoch 73/75 [Val]: 100%|██████████| 21/21 [00:37<00:00,  1.81s/it]\n"
     ]
    },
    {
     "name": "stdout",
     "output_type": "stream",
     "text": [
      "Epoch 73/75\n",
      "Train Loss: 0.6856 | Val Loss: 1.1411 | Val MAE: 1.3588\n"
     ]
    },
    {
     "name": "stderr",
     "output_type": "stream",
     "text": [
      "Epoch 74/75 [Train]: 100%|██████████| 166/166 [02:39<00:00,  1.04it/s, loss=0.548]\n",
      "Epoch 74/75 [Val]: 100%|██████████| 21/21 [00:37<00:00,  1.80s/it]\n"
     ]
    },
    {
     "name": "stdout",
     "output_type": "stream",
     "text": [
      "Epoch 74/75\n",
      "Train Loss: 0.7447 | Val Loss: 1.0852 | Val MAE: 1.3033\n"
     ]
    },
    {
     "name": "stderr",
     "output_type": "stream",
     "text": [
      "Epoch 75/75 [Train]: 100%|██████████| 166/166 [02:36<00:00,  1.06it/s, loss=0.863]\n",
      "Epoch 75/75 [Val]: 100%|██████████| 21/21 [00:36<00:00,  1.74s/it]\n"
     ]
    },
    {
     "name": "stdout",
     "output_type": "stream",
     "text": [
      "Epoch 75/75\n",
      "Train Loss: 0.7092 | Val Loss: 1.1865 | Val MAE: 1.4083\n"
     ]
    },
    {
     "name": "stderr",
     "output_type": "stream",
     "text": [
      "Inference: 100%|██████████| 18/18 [01:17<00:00,  4.31s/it]\n",
      "Inference: 100%|██████████| 18/18 [01:05<00:00,  3.66s/it]"
     ]
    },
    {
     "name": "stdout",
     "output_type": "stream",
     "text": [
      "Submissions saved with shapes: (2214, 2) (2214, 2)\n"
     ]
    },
    {
     "name": "stderr",
     "output_type": "stream",
     "text": [
      "\n"
     ]
    }
   ],
   "source": [
    "# -*- coding: utf-8 -*-\n",
    "import os\n",
    "import timm\n",
    "import torch\n",
    "import torch.nn as nn\n",
    "import torch.optim as optim\n",
    "import albumentations as A\n",
    "from albumentations.pytorch import ToTensorV2\n",
    "from torch.utils.data import Dataset, DataLoader\n",
    "import pandas as pd\n",
    "import cv2\n",
    "from sklearn.model_selection import KFold\n",
    "import numpy as np\n",
    "from tqdm import tqdm\n",
    "from torch.amp import autocast, GradScaler  # Fixed import\n",
    "from sklearn.metrics import mean_absolute_error\n",
    "\n",
    "import json\n",
    "\n",
    "# Fixed Albumentations version warning\n",
    "os.environ['NO_ALBUMENTATIONS_UPDATE'] = '1'\n",
    "\n",
    "# Enhanced Dataset with Metadata\n",
    "class SolarPanelDataset(Dataset):\n",
    "    def __init__(self, dataframe, transform=None, to_train=True):\n",
    "        self.dataframe = dataframe\n",
    "        self.transform = transform\n",
    "        self.to_train = to_train\n",
    "        self.placement_map = {\"roof\": 0, \"openspace\": 1, \"r_openspace\": 2, \"S-unknown\": 3}\n",
    "\n",
    "    def __len__(self):\n",
    "        return len(self.dataframe)\n",
    "\n",
    "    def __getitem__(self, idx):\n",
    "        row = self.dataframe.iloc[idx]\n",
    "        image = cv2.imread(row[\"path\"])\n",
    "        image = cv2.cvtColor(image, cv2.COLOR_BGR2RGB)  # Correct color conversion\n",
    "\n",
    "        # Improved metadata encoding\n",
    "        metadata = torch.zeros(5)\n",
    "        metadata[0] = 1.0 if row[\"img_origin\"] == \"D\" else 0.0\n",
    "        placement = self.placement_map.get(row[\"placement\"], 3)\n",
    "        metadata[1 + placement] = 1.0  # One-hot encoding\n",
    "\n",
    "        if self.transform:\n",
    "            image = self.transform(image=image)['image']\n",
    "\n",
    "        if self.to_train:\n",
    "            target = torch.tensor([row[\"boil_nbr\"], row[\"pan_nbr\"]], dtype=torch.float32)\n",
    "            return image, metadata, target\n",
    "        return image, metadata\n",
    "\n",
    "# Enhanced Model with Metadata\n",
    "class EfficientNetV2Meta(nn.Module):\n",
    "    def __init__(self):\n",
    "        super().__init__()\n",
    "        self.backbone = timm.create_model(\"tf_efficientnetv2_b3\", pretrained=True, num_classes=0)  # Larger backbone\n",
    "        self.meta_processor = nn.Sequential(\n",
    "            nn.Linear(5, 128),\n",
    "            nn.LayerNorm(128),\n",
    "            nn.ReLU(),\n",
    "            nn.Dropout(0.3),\n",
    "            nn.Linear(128, 64)\n",
    "        )\n",
    "        self.attention = nn.MultiheadAttention(embed_dim=64, num_heads=4)\n",
    "        self.regressor = nn.Sequential(\n",
    "            nn.Linear(self.backbone.num_features + 64, 512),\n",
    "            nn.ReLU(),\n",
    "            nn.Dropout(0.2),\n",
    "            nn.Linear(512, 2),\n",
    "            nn.Softplus()  # Better for count predictions\n",
    "        )\n",
    "\n",
    "    def forward(self, image, metadata):\n",
    "        img_features = self.backbone(image)\n",
    "        meta_features = self.meta_processor(metadata.unsqueeze(0))\n",
    "        attn_output, _ = self.attention(meta_features, meta_features, meta_features)\n",
    "        combined = torch.cat([img_features, attn_output.squeeze(0)], dim=1)\n",
    "        return self.regressor(combined)\n",
    "\n",
    "# Advanced Augmentation\n",
    "train_transform = A.Compose([\n",
    "    A.RandomResizedCrop(512, 512, scale=(0.7, 1.0)),\n",
    "    A.HorizontalFlip(p=0.5),\n",
    "    A.VerticalFlip(p=0.5),\n",
    "    A.RandomRotate90(p=0.5),\n",
    "    A.GaussianBlur(blur_limit=(3, 7), p=0.3),\n",
    "    A.CLAHE(clip_limit=4.0, p=0.5),\n",
    "    A.HueSaturationValue(p=0.3),\n",
    "    A.Normalize(mean=(0.485, 0.456, 0.406), std=(0.229, 0.224, 0.225)),\n",
    "    ToTensorV2()\n",
    "])\n",
    "\n",
    "test_transform = A.Compose([\n",
    "    A.Resize(512, 512),\n",
    "    A.Normalize(mean=(0.485, 0.456, 0.406), std=(0.229, 0.224, 0.225)),\n",
    "    ToTensorV2()\n",
    "])\n",
    "\n",
    "# Training Configuration\n",
    "def train(fold=0, epochs=20, batch_size=16):\n",
    "    train_df = pd.read_csv(\"/kaggle/input/lacuna-solar-survey-challenge/Train.csv\")\n",
    "    train_df = train_df.groupby(\"ID\").agg({\n",
    "        \"boil_nbr\": \"sum\",\n",
    "        \"pan_nbr\": \"sum\",\n",
    "        \"img_origin\": \"first\",\n",
    "        \"placement\": \"first\"\n",
    "    }).reset_index()\n",
    "    train_df[\"path\"] = \"/kaggle/input/lacuna-solar-survey-challenge/images/\" + train_df[\"ID\"] + \".jpg\"\n",
    "\n",
    "    kf = KFold(n_splits=5, shuffle=True, random_state=42)\n",
    "    splits = list(kf.split(train_df))\n",
    "    train_idx, val_idx = splits[fold]\n",
    "\n",
    "    train_ds = SolarPanelDataset(train_df.iloc[train_idx], transform=train_transform)\n",
    "    val_ds = SolarPanelDataset(train_df.iloc[val_idx], transform=test_transform)\n",
    "\n",
    "    train_loader = DataLoader(train_ds, batch_size=batch_size, \n",
    "                             shuffle=True, num_workers=4, pin_memory=True)\n",
    "    val_loader = DataLoader(val_ds, batch_size=batch_size*2, \n",
    "                           shuffle=False, num_workers=4, pin_memory=True)\n",
    "\n",
    "    model = EfficientNetV2Meta().cuda()\n",
    "    criterion = nn.HuberLoss(delta=1.0)  # Improved loss function\n",
    "    optimizer = optim.AdamW(model.parameters(), lr=1e-5, weight_decay=1e-4)\n",
    "    scheduler = optim.lr_scheduler.CosineAnnealingWarmRestarts(optimizer, T_0=5, T_mult=2)\n",
    "    scaler = GradScaler()\n",
    "\n",
    "    best_mae = float('inf')\n",
    "    json_dict = {}\n",
    "    val_mae_L = []\n",
    "    val_loss_L = []\n",
    "    train_loss_L = []\n",
    "    for epoch in range(epochs):\n",
    "        # Training loop\n",
    "        model.train()\n",
    "        train_loss = 0.0\n",
    "        pbar = tqdm(train_loader, desc=f\"Epoch {epoch+1}/{epochs} [Train]\")\n",
    "        for images, meta, targets in pbar:\n",
    "            images = images.cuda(non_blocking=True)\n",
    "            meta = meta.cuda(non_blocking=True)\n",
    "            targets = targets.cuda(non_blocking=True)\n",
    "            \n",
    "            optimizer.zero_grad()\n",
    "            with autocast(device_type='cuda'):\n",
    "                outputs = model(images, meta)\n",
    "                loss = criterion(outputs, targets)\n",
    "            scaler.scale(loss).backward()\n",
    "            scaler.step(optimizer)\n",
    "            scaler.update()\n",
    "            \n",
    "            train_loss += loss.item()\n",
    "            pbar.set_postfix(loss=loss.item())\n",
    "        \n",
    "        # Validation loop\n",
    "        model.eval()\n",
    "        val_loss = 0.0\n",
    "        preds, truths = [], []\n",
    "        with torch.no_grad():\n",
    "            for images, meta, targets in tqdm(val_loader, desc=f\"Epoch {epoch+1}/{epochs} [Val]\"):\n",
    "                images = images.cuda(non_blocking=True)\n",
    "                meta = meta.cuda(non_blocking=True)\n",
    "                targets = targets.cuda(non_blocking=True)\n",
    "                \n",
    "                with autocast(device_type='cuda'):\n",
    "                    outputs = model(images, meta)\n",
    "                    loss = criterion(outputs, targets)\n",
    "                \n",
    "                val_loss += loss.item()\n",
    "                preds.append(outputs.cpu().numpy())\n",
    "                truths.append(targets.cpu().numpy())\n",
    "        \n",
    "        # Metrics calculation\n",
    "        train_loss /= len(train_loader)\n",
    "        val_loss /= len(val_loader)\n",
    "        preds = np.concatenate(preds)\n",
    "        truths = np.concatenate(truths)\n",
    "        mae = mean_absolute_error(truths, preds)\n",
    "\n",
    "        val_mae_L.append(float(mae))\n",
    "        val_loss_L.append(float(val_loss))\n",
    "        train_loss_L.append(float(train_loss))\n",
    "        \n",
    "        print(f\"Epoch {epoch+1}/{epochs}\")\n",
    "        print(f\"Train Loss: {train_loss:.4f} | Val Loss: {val_loss:.4f} | Val MAE: {mae:.4f}\")\n",
    "        \n",
    "        # Model checkpointing based on MAE\n",
    "        if mae < best_mae:\n",
    "            best_mae = mae\n",
    "            torch.save(model.state_dict(), f\"best_model_fold{fold}.pth\")\n",
    "            json_dict[\"model_from_epoch\"] = f\"{epoch+1} with mae {mae}\"\n",
    "        \n",
    "        scheduler.step()\n",
    "\n",
    "    json_dict[\"val_mae\"] = val_mae_L\n",
    "    json_dict[\"val_loss\"] = val_loss_L\n",
    "    json_dict[\"train_loss\"] = train_loss_L\n",
    "    return best_mae, json_dict\n",
    "\n",
    "# Inference with TTA\n",
    "def predict(test_df, model_paths, batch_size=32):\n",
    "    test_df[\"path\"] = \"/kaggle/input/lacuna-solar-survey-challenge/images/\" + test_df[\"ID\"] + \".jpg\"\n",
    "    test_ds = SolarPanelDataset(test_df, transform=test_transform, to_train=False)\n",
    "    test_loader = DataLoader(test_ds, batch_size=batch_size, shuffle=False, num_workers=4)\n",
    "    \n",
    "    predictions = np.zeros((len(test_df), 2))\n",
    "    for path in model_paths:\n",
    "        model = EfficientNetV2Meta().cuda()\n",
    "        model.load_state_dict(torch.load(path, weights_only=True))  # Safer loading\n",
    "        model.eval()\n",
    "        \n",
    "        tta_preds = []\n",
    "        with torch.no_grad():\n",
    "            for images, meta in tqdm(test_loader, desc=\"Inference\"):\n",
    "                images = images.cuda()\n",
    "                meta = meta.cuda()\n",
    "                with autocast(device_type='cuda'):\n",
    "                    outputs = model(images, meta)\n",
    "                tta_preds.append(outputs.cpu().numpy())\n",
    "        \n",
    "        predictions += np.concatenate(tta_preds)\n",
    "    \n",
    "    return predictions / len(model_paths)\n",
    "\n",
    "# Main Execution\n",
    "if __name__ == \"__main__\":\n",
    "    output_json = {}\n",
    "    \n",
    "    # Train multiple folds\n",
    "    folds = 3\n",
    "    model_paths = []\n",
    "    for fold in range(folds):\n",
    "        \n",
    "        output_json[f\"Fold {fold}\"] = {}\n",
    "        \n",
    "        print(f\"Training fold {fold+1}/{folds}\")\n",
    "        best_mae, json_dict = train(fold=fold, epochs=75, batch_size=16)\n",
    "        \n",
    "        output_json[f\"Fold {fold}\"][\"Results\"] = json_dict\n",
    "        output_json[f\"Fold {fold}\"][\"Best Mae\"] = float(best_mae)\n",
    "        \n",
    "        model_paths.append(f\"best_model_fold{fold}.pth\")\n",
    "\n",
    "    with open(\"results.json\", \"w\") as file:\n",
    "        json.dump(output_json, file, indent=4)\n",
    "    \n",
    "    # Prepare submission\n",
    "    test_df = pd.read_csv(\"/kaggle/input/lacuna-solar-survey-challenge/Test.csv\")\n",
    "    predictions = predict(test_df, model_paths, batch_size=64)\n",
    "    \n",
    "    # Create submissions\n",
    "    submission = pd.DataFrame({\n",
    "        \"ID\": np.repeat(test_df[\"ID\"].values, 2),\n",
    "        \"Target\": predictions.flatten()\n",
    "    })\n",
    "    submission[\"ID\"] += np.where(\n",
    "        submission.groupby(\"ID\").cumcount() == 0,\n",
    "        \"_boil\",\n",
    "        \"_pan\"\n",
    "    )\n",
    "    submission.to_csv(\"submission_original.csv\", index=False)\n",
    "    \n",
    "    int_submission = submission.copy()\n",
    "    int_submission[\"Target\"] = np.round(int_submission[\"Target\"]).astype(int)\n",
    "    int_submission.to_csv(\"submission_integer.csv\", index=False)\n",
    "    \n",
    "    print(\"Submissions saved with shapes:\", submission.shape, int_submission.shape)"
   ]
  }
 ],
 "metadata": {
  "accelerator": "GPU",
  "colab": {
   "gpuType": "T4",
   "provenance": []
  },
  "kaggle": {
   "accelerator": "nvidiaTeslaT4",
   "dataSources": [
    {
     "datasetId": 6691299,
     "sourceId": 10783793,
     "sourceType": "datasetVersion"
    }
   ],
   "dockerImageVersionId": 30919,
   "isGpuEnabled": true,
   "isInternetEnabled": true,
   "language": "python",
   "sourceType": "notebook"
  },
  "kernelspec": {
   "display_name": "Python 3",
   "language": "python",
   "name": "python3"
  },
  "language_info": {
   "codemirror_mode": {
    "name": "ipython",
    "version": 3
   },
   "file_extension": ".py",
   "mimetype": "text/x-python",
   "name": "python",
   "nbconvert_exporter": "python",
   "pygments_lexer": "ipython3",
   "version": "3.10.12"
  },
  "papermill": {
   "default_parameters": {},
   "duration": 30474.616839,
   "end_time": "2025-04-01T06:06:37.432800",
   "environment_variables": {},
   "exception": null,
   "input_path": "__notebook__.ipynb",
   "output_path": "__notebook__.ipynb",
   "parameters": {},
   "start_time": "2025-03-31T21:38:42.815961",
   "version": "2.6.0"
  },
  "widgets": {
   "application/vnd.jupyter.widget-state+json": {
    "state": {
     "07d491f490a9451cba26fa87d982a868": {
      "model_module": "@jupyter-widgets/controls",
      "model_module_version": "2.0.0",
      "model_name": "HBoxModel",
      "state": {
       "_dom_classes": [],
       "_model_module": "@jupyter-widgets/controls",
       "_model_module_version": "2.0.0",
       "_model_name": "HBoxModel",
       "_view_count": null,
       "_view_module": "@jupyter-widgets/controls",
       "_view_module_version": "2.0.0",
       "_view_name": "HBoxView",
       "box_style": "",
       "children": [
        "IPY_MODEL_1322fa17a54247a58b266fdd3f0578a5",
        "IPY_MODEL_ff61f73a41fb4ac89fc92098491bd875",
        "IPY_MODEL_cba52bc89c564e758c17070b426ab4cd"
       ],
       "layout": "IPY_MODEL_8827b2c2f2ad4925aab105cd1358a7c7",
       "tabbable": null,
       "tooltip": null
      }
     },
     "1322fa17a54247a58b266fdd3f0578a5": {
      "model_module": "@jupyter-widgets/controls",
      "model_module_version": "2.0.0",
      "model_name": "HTMLModel",
      "state": {
       "_dom_classes": [],
       "_model_module": "@jupyter-widgets/controls",
       "_model_module_version": "2.0.0",
       "_model_name": "HTMLModel",
       "_view_count": null,
       "_view_module": "@jupyter-widgets/controls",
       "_view_module_version": "2.0.0",
       "_view_name": "HTMLView",
       "description": "",
       "description_allow_html": false,
       "layout": "IPY_MODEL_ddd46b3fd25649d6b30a13823dfa60f4",
       "placeholder": "​",
       "style": "IPY_MODEL_8cf3f4341f4c4b8c9b9ad7957fe76698",
       "tabbable": null,
       "tooltip": null,
       "value": "model.safetensors: 100%"
      }
     },
     "491f531e5c804ba8b1cc56c8d296ff54": {
      "model_module": "@jupyter-widgets/controls",
      "model_module_version": "2.0.0",
      "model_name": "HTMLStyleModel",
      "state": {
       "_model_module": "@jupyter-widgets/controls",
       "_model_module_version": "2.0.0",
       "_model_name": "HTMLStyleModel",
       "_view_count": null,
       "_view_module": "@jupyter-widgets/base",
       "_view_module_version": "2.0.0",
       "_view_name": "StyleView",
       "background": null,
       "description_width": "",
       "font_size": null,
       "text_color": null
      }
     },
     "8827b2c2f2ad4925aab105cd1358a7c7": {
      "model_module": "@jupyter-widgets/base",
      "model_module_version": "2.0.0",
      "model_name": "LayoutModel",
      "state": {
       "_model_module": "@jupyter-widgets/base",
       "_model_module_version": "2.0.0",
       "_model_name": "LayoutModel",
       "_view_count": null,
       "_view_module": "@jupyter-widgets/base",
       "_view_module_version": "2.0.0",
       "_view_name": "LayoutView",
       "align_content": null,
       "align_items": null,
       "align_self": null,
       "border_bottom": null,
       "border_left": null,
       "border_right": null,
       "border_top": null,
       "bottom": null,
       "display": null,
       "flex": null,
       "flex_flow": null,
       "grid_area": null,
       "grid_auto_columns": null,
       "grid_auto_flow": null,
       "grid_auto_rows": null,
       "grid_column": null,
       "grid_gap": null,
       "grid_row": null,
       "grid_template_areas": null,
       "grid_template_columns": null,
       "grid_template_rows": null,
       "height": null,
       "justify_content": null,
       "justify_items": null,
       "left": null,
       "margin": null,
       "max_height": null,
       "max_width": null,
       "min_height": null,
       "min_width": null,
       "object_fit": null,
       "object_position": null,
       "order": null,
       "overflow": null,
       "padding": null,
       "right": null,
       "top": null,
       "visibility": null,
       "width": null
      }
     },
     "8cf3f4341f4c4b8c9b9ad7957fe76698": {
      "model_module": "@jupyter-widgets/controls",
      "model_module_version": "2.0.0",
      "model_name": "HTMLStyleModel",
      "state": {
       "_model_module": "@jupyter-widgets/controls",
       "_model_module_version": "2.0.0",
       "_model_name": "HTMLStyleModel",
       "_view_count": null,
       "_view_module": "@jupyter-widgets/base",
       "_view_module_version": "2.0.0",
       "_view_name": "StyleView",
       "background": null,
       "description_width": "",
       "font_size": null,
       "text_color": null
      }
     },
     "992ea649a0b4405287a745a9d115187a": {
      "model_module": "@jupyter-widgets/base",
      "model_module_version": "2.0.0",
      "model_name": "LayoutModel",
      "state": {
       "_model_module": "@jupyter-widgets/base",
       "_model_module_version": "2.0.0",
       "_model_name": "LayoutModel",
       "_view_count": null,
       "_view_module": "@jupyter-widgets/base",
       "_view_module_version": "2.0.0",
       "_view_name": "LayoutView",
       "align_content": null,
       "align_items": null,
       "align_self": null,
       "border_bottom": null,
       "border_left": null,
       "border_right": null,
       "border_top": null,
       "bottom": null,
       "display": null,
       "flex": null,
       "flex_flow": null,
       "grid_area": null,
       "grid_auto_columns": null,
       "grid_auto_flow": null,
       "grid_auto_rows": null,
       "grid_column": null,
       "grid_gap": null,
       "grid_row": null,
       "grid_template_areas": null,
       "grid_template_columns": null,
       "grid_template_rows": null,
       "height": null,
       "justify_content": null,
       "justify_items": null,
       "left": null,
       "margin": null,
       "max_height": null,
       "max_width": null,
       "min_height": null,
       "min_width": null,
       "object_fit": null,
       "object_position": null,
       "order": null,
       "overflow": null,
       "padding": null,
       "right": null,
       "top": null,
       "visibility": null,
       "width": null
      }
     },
     "bd55826c088e42eaa81a9e93edee85fe": {
      "model_module": "@jupyter-widgets/controls",
      "model_module_version": "2.0.0",
      "model_name": "ProgressStyleModel",
      "state": {
       "_model_module": "@jupyter-widgets/controls",
       "_model_module_version": "2.0.0",
       "_model_name": "ProgressStyleModel",
       "_view_count": null,
       "_view_module": "@jupyter-widgets/base",
       "_view_module_version": "2.0.0",
       "_view_name": "StyleView",
       "bar_color": null,
       "description_width": ""
      }
     },
     "cba52bc89c564e758c17070b426ab4cd": {
      "model_module": "@jupyter-widgets/controls",
      "model_module_version": "2.0.0",
      "model_name": "HTMLModel",
      "state": {
       "_dom_classes": [],
       "_model_module": "@jupyter-widgets/controls",
       "_model_module_version": "2.0.0",
       "_model_name": "HTMLModel",
       "_view_count": null,
       "_view_module": "@jupyter-widgets/controls",
       "_view_module_version": "2.0.0",
       "_view_name": "HTMLView",
       "description": "",
       "description_allow_html": false,
       "layout": "IPY_MODEL_de310e43712a45ce971eada665cf89d5",
       "placeholder": "​",
       "style": "IPY_MODEL_491f531e5c804ba8b1cc56c8d296ff54",
       "tabbable": null,
       "tooltip": null,
       "value": " 57.9M/57.9M [00:00&lt;00:00, 175MB/s]"
      }
     },
     "ddd46b3fd25649d6b30a13823dfa60f4": {
      "model_module": "@jupyter-widgets/base",
      "model_module_version": "2.0.0",
      "model_name": "LayoutModel",
      "state": {
       "_model_module": "@jupyter-widgets/base",
       "_model_module_version": "2.0.0",
       "_model_name": "LayoutModel",
       "_view_count": null,
       "_view_module": "@jupyter-widgets/base",
       "_view_module_version": "2.0.0",
       "_view_name": "LayoutView",
       "align_content": null,
       "align_items": null,
       "align_self": null,
       "border_bottom": null,
       "border_left": null,
       "border_right": null,
       "border_top": null,
       "bottom": null,
       "display": null,
       "flex": null,
       "flex_flow": null,
       "grid_area": null,
       "grid_auto_columns": null,
       "grid_auto_flow": null,
       "grid_auto_rows": null,
       "grid_column": null,
       "grid_gap": null,
       "grid_row": null,
       "grid_template_areas": null,
       "grid_template_columns": null,
       "grid_template_rows": null,
       "height": null,
       "justify_content": null,
       "justify_items": null,
       "left": null,
       "margin": null,
       "max_height": null,
       "max_width": null,
       "min_height": null,
       "min_width": null,
       "object_fit": null,
       "object_position": null,
       "order": null,
       "overflow": null,
       "padding": null,
       "right": null,
       "top": null,
       "visibility": null,
       "width": null
      }
     },
     "de310e43712a45ce971eada665cf89d5": {
      "model_module": "@jupyter-widgets/base",
      "model_module_version": "2.0.0",
      "model_name": "LayoutModel",
      "state": {
       "_model_module": "@jupyter-widgets/base",
       "_model_module_version": "2.0.0",
       "_model_name": "LayoutModel",
       "_view_count": null,
       "_view_module": "@jupyter-widgets/base",
       "_view_module_version": "2.0.0",
       "_view_name": "LayoutView",
       "align_content": null,
       "align_items": null,
       "align_self": null,
       "border_bottom": null,
       "border_left": null,
       "border_right": null,
       "border_top": null,
       "bottom": null,
       "display": null,
       "flex": null,
       "flex_flow": null,
       "grid_area": null,
       "grid_auto_columns": null,
       "grid_auto_flow": null,
       "grid_auto_rows": null,
       "grid_column": null,
       "grid_gap": null,
       "grid_row": null,
       "grid_template_areas": null,
       "grid_template_columns": null,
       "grid_template_rows": null,
       "height": null,
       "justify_content": null,
       "justify_items": null,
       "left": null,
       "margin": null,
       "max_height": null,
       "max_width": null,
       "min_height": null,
       "min_width": null,
       "object_fit": null,
       "object_position": null,
       "order": null,
       "overflow": null,
       "padding": null,
       "right": null,
       "top": null,
       "visibility": null,
       "width": null
      }
     },
     "ff61f73a41fb4ac89fc92098491bd875": {
      "model_module": "@jupyter-widgets/controls",
      "model_module_version": "2.0.0",
      "model_name": "FloatProgressModel",
      "state": {
       "_dom_classes": [],
       "_model_module": "@jupyter-widgets/controls",
       "_model_module_version": "2.0.0",
       "_model_name": "FloatProgressModel",
       "_view_count": null,
       "_view_module": "@jupyter-widgets/controls",
       "_view_module_version": "2.0.0",
       "_view_name": "ProgressView",
       "bar_style": "success",
       "description": "",
       "description_allow_html": false,
       "layout": "IPY_MODEL_992ea649a0b4405287a745a9d115187a",
       "max": 57929264,
       "min": 0,
       "orientation": "horizontal",
       "style": "IPY_MODEL_bd55826c088e42eaa81a9e93edee85fe",
       "tabbable": null,
       "tooltip": null,
       "value": 57929264
      }
     }
    },
    "version_major": 2,
    "version_minor": 0
   }
  }
 },
 "nbformat": 4,
 "nbformat_minor": 5
}
