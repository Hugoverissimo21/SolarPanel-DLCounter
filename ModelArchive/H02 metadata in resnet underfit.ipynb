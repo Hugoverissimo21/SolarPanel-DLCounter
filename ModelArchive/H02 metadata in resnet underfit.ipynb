{
 "cells": [
  {
   "cell_type": "markdown",
   "metadata": {},
   "source": [
    "# modelo 02 - usar features extra\n",
    "\n",
    "- https://chatgpt.com/share/67d9fe94-c20c-8009-81a3-63cf5310785f"
   ]
  },
  {
   "cell_type": "code",
   "execution_count": null,
   "metadata": {},
   "outputs": [],
   "source": [
    "import pandas as pd\n",
    "\n",
    "df_train = pd.read_pickle('Model_Train.pkl')\n",
    "df_val = pd.read_pickle('Model_Val.pkl')"
   ]
  },
  {
   "cell_type": "code",
   "execution_count": null,
   "metadata": {},
   "outputs": [],
   "source": [
    "set(df_train[\"img_placement\"]) | set(df_val[\"img_placement\"])"
   ]
  },
  {
   "cell_type": "code",
   "execution_count": null,
   "metadata": {},
   "outputs": [],
   "source": [
    "def hot_encod_img_placement(df):\n",
    "    df[\"img_placement_roof\"] = df[\"img_placement\"].apply(lambda x: 1 if x == \"roof\" else 0)\n",
    "    df[\"img_placement_r_openspace\"] = df[\"img_placement\"].apply(lambda x: 1 if x == \"r_openspace\" else 0)\n",
    "    df[\"img_placement_openspace\"] = df[\"img_placement\"].apply(lambda x: 1 if x == \"openspace\" else 0)\n",
    "    df[\"img_placement_S-unknown\"] = df[\"img_placement\"].apply(lambda x: 1 if x == \"S-unknown\" else 0)\n",
    "    df.drop(columns=[\"img_placement\"], inplace=True)\n",
    "\n",
    "hot_encod_img_placement(df_train)\n",
    "hot_encod_img_placement(df_val)"
   ]
  },
  {
   "cell_type": "code",
   "execution_count": null,
   "metadata": {},
   "outputs": [],
   "source": [
    "set(df_train[\"img_origin\"]) | set(df_val[\"img_origin\"])"
   ]
  },
  {
   "cell_type": "code",
   "execution_count": null,
   "metadata": {},
   "outputs": [],
   "source": [
    "def hot_encod_img_placement(df):\n",
    "    df[\"img_origin_D\"] = df[\"img_origin\"].apply(lambda x: 1 if x == \"D\" else 0)\n",
    "    df[\"img_origin_S\"] = df[\"img_origin\"].apply(lambda x: 1 if x == \"S\" else 0)\n",
    "    df.drop(columns=[\"img_origin\"], inplace=True)\n",
    "\n",
    "hot_encod_img_placement(df_train)\n",
    "hot_encod_img_placement(df_val)"
   ]
  },
  {
   "cell_type": "code",
   "execution_count": null,
   "metadata": {},
   "outputs": [],
   "source": [
    "df_train.sample(3)"
   ]
  },
  {
   "cell_type": "code",
   "execution_count": null,
   "metadata": {},
   "outputs": [],
   "source": [
    "df_val.sample(3)"
   ]
  },
  {
   "cell_type": "markdown",
   "metadata": {},
   "source": [
    "## modelo itself"
   ]
  },
  {
   "cell_type": "markdown",
   "metadata": {},
   "source": [
    "ideia: modelo que com a mask + rbg consiga determinar a quantidade de boiler e pans"
   ]
  },
  {
   "cell_type": "markdown",
   "metadata": {},
   "source": [
    "é preciso criar os dados primeiro"
   ]
  },
  {
   "cell_type": "code",
   "execution_count": null,
   "metadata": {},
   "outputs": [],
   "source": [
    "from PIL import Image\n",
    "from torchvision import transforms as T\n",
    "import numpy as np\n",
    "import cv2\n",
    "import albumentations as A\n",
    "\n",
    "\n",
    "transforms = T.Compose([\n",
    "    T.Resize((512,512)),\n",
    "    T.ToTensor(),\n",
    "])\n",
    "\n",
    "augment = A.Compose([\n",
    "    A.HorizontalFlip(p=0.5),\n",
    "    A.VerticalFlip(p=0.2),\n",
    "    A.RandomRotate90(p=0.3),\n",
    "    A.RandomBrightnessContrast(p=0.2),\n",
    "    A.GaussianBlur(blur_limit=(3, 7), p=0.3),\n",
    "    A.HueSaturationValue(p=0.3),\n",
    "], additional_targets={'mask': 'mask'})\n",
    "\n",
    "def polygons_to_segmentation_mask(polygons):\n",
    "    image = np.zeros((512, 512), dtype=np.uint8)\n",
    "    for polygon in polygons:\n",
    "        poly = np.array([polygon], dtype=np.int32)\n",
    "        cv2.fillPoly(image, [poly], 1)\n",
    "    return image\n",
    "\n",
    "def create_data(img_id, polygon, data=None):\n",
    "    # 512 x 512 x 3\n",
    "    image = Image.open(f\"images/{img_id}.jpg\").convert(\"RGB\")\n",
    "    image = transforms(image).permute(1, 2, 0).numpy()\n",
    "\n",
    "    # 512 x 512\n",
    "    mask = polygons_to_segmentation_mask(polygon).astype(int)\n",
    "\n",
    "    # Apply augmentations\n",
    "    if data == \"train\":\n",
    "        augmented = augment(image=image, mask=mask)\n",
    "        image_aug, mask_aug = augmented[\"image\"], augmented[\"mask\"]\n",
    "\n",
    "    # 3 x 512 x 512\n",
    "    image_masked = image_aug * np.repeat(mask_aug, 3, axis=-1).reshape(512, 512, 3)\n",
    "\n",
    "    # 512 x 512 x 3\n",
    "    return image_masked#.permute(1, 2, 0).numpy()"
   ]
  },
  {
   "cell_type": "code",
   "execution_count": null,
   "metadata": {},
   "outputs": [],
   "source": [
    "def new_df_with_masks(df):\n",
    "\n",
    "    new_df = {\"image_masked\": [],\n",
    "              \"nr_boil__nr_pan\": []}\n",
    "\n",
    "    for i, row in df.iterrows():\n",
    "        #if i % 250 == 0:\n",
    "        #    print(f\"Processing image {i+1}/{len(df)}\")\n",
    "\n",
    "        # aprox. 5min\n",
    "\n",
    "        all_polygons = row[\"polygons_pan\"] + row[\"polygons_boil\"]\n",
    "        new_df[\"image_masked\"].append(create_data(row[\"img_id\"], all_polygons, data=\"train\"))\n",
    "        new_df[\"nr_boil__nr_pan\"].append((sum(row[\"nr_boil\"]), sum(row[\"nr_pan\"])))\n",
    "\n",
    "    return pd.DataFrame(new_df)\n",
    "\n",
    "df_train_masks = new_df_with_masks(df_train)\n",
    "df_val_masks = new_df_with_masks(df_val)"
   ]
  },
  {
   "cell_type": "markdown",
   "metadata": {},
   "source": [
    "criados os dados, fazer um modelo:\n",
    "\n",
    "- input: mask + rbg (512 x 512 x 3)\n",
    "\n",
    "- output: 2 valores (boiler e pans)"
   ]
  },
  {
   "cell_type": "code",
   "execution_count": null,
   "metadata": {},
   "outputs": [],
   "source": [
    "from tensorflow.keras.applications import ResNet50\n",
    "from tensorflow.keras.layers import Dense, Flatten, Dropout\n",
    "from tensorflow.keras.models import Model\n",
    "\n",
    "# Load the pre-trained model without the top classification layers\n",
    "base_model = ResNet50(weights='imagenet', include_top=False, input_shape=(512, 512, 3))\n",
    "base_model.trainable = True\n",
    "\n",
    "for layer in base_model.layers[:80]:  \n",
    "    layer.trainable = False\n",
    "\n",
    "\n",
    "# Add new layers on top for your task\n",
    "x = Flatten()(base_model.output)\n",
    "x = Dense(256, activation='relu')(x)\n",
    "x = Dropout(0.4)(x)\n",
    "output = Dense(2, activation='linear')(x)\n",
    "\n",
    "# Final model\n",
    "forwardbone = Model(inputs=base_model.input, outputs=output)\n",
    "\n",
    "#forwardbone.summary()  # Check the number of parameters\n"
   ]
  },
  {
   "cell_type": "code",
   "execution_count": null,
   "metadata": {},
   "outputs": [],
   "source": [
    "from tensorflow.keras import callbacks\n",
    "from tensorflow.keras.optimizers import Adam\n",
    "from tensorflow.keras.losses import Huber\n",
    "\n",
    "\n",
    "# Compile the model\n",
    "forwardbone.compile(optimizer=\"AdamW\",\n",
    "                    loss=Huber(delta=1.0),\n",
    "                    metrics=[\"mae\"])\n",
    "\n",
    "# Train the model\n",
    "history = forwardbone.fit(\n",
    "    np.array(df_train_masks['image_masked'].tolist()),\n",
    "    np.array(df_train_masks['nr_boil__nr_pan'].tolist()),\n",
    "    validation_data=(np.array(df_val_masks['image_masked'].tolist()),\n",
    "                     np.array(df_val_masks['nr_boil__nr_pan'].tolist())),\n",
    "    epochs=15,\n",
    "    batch_size=32,\n",
    "    callbacks=[callbacks.EarlyStopping(monitor='val_loss', patience=5, restore_best_weights=True)]\n",
    ")"
   ]
  },
  {
   "cell_type": "code",
   "execution_count": null,
   "metadata": {},
   "outputs": [],
   "source": [
    "forwardbone.save(\"forwardbone.keras\")"
   ]
  },
  {
   "cell_type": "code",
   "execution_count": null,
   "metadata": {},
   "outputs": [],
   "source": [
    "# Evaluate on test set\n",
    "test_loss, test_mae = forwardbone.evaluate(np.array(df_val_masks['image_masked'].tolist()),\n",
    "                                           np.array(df_val_masks['nr_boil__nr_pan'].tolist()))\n",
    "print(\"Test MAE:\", test_mae)\n",
    "\n",
    "# Predict counts on new images\n",
    "predictions = forwardbone.predict(np.array(df_val_masks['image_masked'].tolist()))\n",
    "\n",
    "# Display first 5 predictions vs actual values\n",
    "for i in range(5):\n",
    "    print(f\"Predicted: {predictions[i]}, Actual: {np.array(df_val_masks['nr_boil__nr_pan'].tolist())[i]}\")\n"
   ]
  },
  {
   "cell_type": "code",
   "execution_count": null,
   "metadata": {},
   "outputs": [],
   "source": [
    "import matplotlib.pyplot as plt\n",
    "plt.plot(history.history['loss'], label='train loss')\n",
    "plt.plot(history.history['val_loss'], label='val loss')\n",
    "plt.legend()\n",
    "plt.yscale('log')\n",
    "plt.show()\n",
    "\n",
    "plt.plot(history.history['mae'], label='train mae')\n",
    "plt.plot(history.history['val_mae'], label='val mae')\n",
    "plt.legend()\n",
    "plt.yscale('log')\n",
    "plt.show()"
   ]
  },
  {
   "cell_type": "code",
   "execution_count": null,
   "metadata": {},
   "outputs": [],
   "source": []
  }
 ],
 "metadata": {
  "kernelspec": {
   "display_name": "CAA01",
   "language": "python",
   "name": "python3"
  },
  "language_info": {
   "codemirror_mode": {
    "name": "ipython",
    "version": 3
   },
   "file_extension": ".py",
   "mimetype": "text/x-python",
   "name": "python",
   "nbconvert_exporter": "python",
   "pygments_lexer": "ipython3",
   "version": "3.10.16"
  }
 },
 "nbformat": 4,
 "nbformat_minor": 2
}
