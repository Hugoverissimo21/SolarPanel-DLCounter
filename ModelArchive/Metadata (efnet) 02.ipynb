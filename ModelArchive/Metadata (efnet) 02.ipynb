{
 "cells": [
  {
   "cell_type": "code",
   "execution_count": 1,
   "id": "57002a69",
   "metadata": {
    "execution": {
     "iopub.execute_input": "2025-03-29T00:43:47.022151Z",
     "iopub.status.busy": "2025-03-29T00:43:47.021870Z",
     "iopub.status.idle": "2025-03-29T00:43:54.034664Z",
     "shell.execute_reply": "2025-03-29T00:43:54.033571Z"
    },
    "papermill": {
     "duration": 7.018683,
     "end_time": "2025-03-29T00:43:54.036173",
     "exception": false,
     "start_time": "2025-03-29T00:43:47.017490",
     "status": "completed"
    },
    "tags": []
   },
   "outputs": [
    {
     "name": "stdout",
     "output_type": "stream",
     "text": [
      "\u001b[2K     \u001b[90m━━━━━━━━━━━━━━━━━━━━━━━━━━━━━━━━━━━━━━━━\u001b[0m \u001b[32m68.5/68.5 kB\u001b[0m \u001b[31m4.8 MB/s\u001b[0m eta \u001b[36m0:00:00\u001b[0m\r\n",
      "\u001b[2K   \u001b[90m━━━━━━━━━━━━━━━━━━━━━━━━━━━━━━━━━━━━━━━━\u001b[0m \u001b[32m123.5/123.5 kB\u001b[0m \u001b[31m7.9 MB/s\u001b[0m eta \u001b[36m0:00:00\u001b[0m\r\n",
      "\u001b[2K   \u001b[90m━━━━━━━━━━━━━━━━━━━━━━━━━━━━━━━━━━━━━━━━\u001b[0m \u001b[32m2.2/2.2 MB\u001b[0m \u001b[31m38.8 MB/s\u001b[0m eta \u001b[36m0:00:00\u001b[0m\r\n",
      "\u001b[2K   \u001b[90m━━━━━━━━━━━━━━━━━━━━━━━━━━━━━━━━━━━━━━━━\u001b[0m \u001b[32m950.0/950.0 kB\u001b[0m \u001b[31m51.6 MB/s\u001b[0m eta \u001b[36m0:00:00\u001b[0m\r\n",
      "\u001b[?25hNote: you may need to restart the kernel to use updated packages.\n"
     ]
    }
   ],
   "source": [
    "pip install ultralytics albumentations==1.3.0 timm==0.9.2 -q"
   ]
  },
  {
   "cell_type": "code",
   "execution_count": 2,
   "id": "15e5bece",
   "metadata": {
    "execution": {
     "iopub.execute_input": "2025-03-29T00:43:54.043924Z",
     "iopub.status.busy": "2025-03-29T00:43:54.043538Z",
     "iopub.status.idle": "2025-03-29T04:59:27.637075Z",
     "shell.execute_reply": "2025-03-29T04:59:27.635944Z"
    },
    "papermill": {
     "duration": 15333.5991,
     "end_time": "2025-03-29T04:59:27.638796",
     "exception": false,
     "start_time": "2025-03-29T00:43:54.039696",
     "status": "completed"
    },
    "tags": []
   },
   "outputs": [
    {
     "name": "stdout",
     "output_type": "stream",
     "text": [
      "Training fold 1/3\n"
     ]
    },
    {
     "data": {
      "application/vnd.jupyter.widget-view+json": {
       "model_id": "9e4125c5cbed4905ab4b7bb8d186a84f",
       "version_major": 2,
       "version_minor": 0
      },
      "text/plain": [
       "model.safetensors:   0%|          | 0.00/57.9M [00:00<?, ?B/s]"
      ]
     },
     "metadata": {},
     "output_type": "display_data"
    },
    {
     "name": "stderr",
     "output_type": "stream",
     "text": [
      "Epoch 1/25 [Train]: 100%|██████████| 166/166 [02:52<00:00,  1.04s/it, loss=0.873]\n",
      "Epoch 1/25 [Val]: 100%|██████████| 21/21 [00:41<00:00,  2.00s/it]\n"
     ]
    },
    {
     "name": "stdout",
     "output_type": "stream",
     "text": [
      "Epoch 1/25\n",
      "Train Loss: 2.3491 | Val Loss: 2.0631 | Val MAE: 2.3800\n"
     ]
    },
    {
     "name": "stderr",
     "output_type": "stream",
     "text": [
      "Epoch 2/25 [Train]: 100%|██████████| 166/166 [02:42<00:00,  1.02it/s, loss=0.358]\n",
      "Epoch 2/25 [Val]: 100%|██████████| 21/21 [00:38<00:00,  1.83s/it]\n"
     ]
    },
    {
     "name": "stdout",
     "output_type": "stream",
     "text": [
      "Epoch 2/25\n",
      "Train Loss: 2.2504 | Val Loss: 2.0007 | Val MAE: 2.2923\n"
     ]
    },
    {
     "name": "stderr",
     "output_type": "stream",
     "text": [
      "Epoch 3/25 [Train]: 100%|██████████| 166/166 [02:42<00:00,  1.02it/s, loss=0.632]\n",
      "Epoch 3/25 [Val]: 100%|██████████| 21/21 [00:39<00:00,  1.87s/it]\n"
     ]
    },
    {
     "name": "stdout",
     "output_type": "stream",
     "text": [
      "Epoch 3/25\n",
      "Train Loss: 2.1604 | Val Loss: 1.9003 | Val MAE: 2.1780\n"
     ]
    },
    {
     "name": "stderr",
     "output_type": "stream",
     "text": [
      "Epoch 4/25 [Train]: 100%|██████████| 166/166 [02:42<00:00,  1.02it/s, loss=0.34]\n",
      "Epoch 4/25 [Val]: 100%|██████████| 21/21 [00:38<00:00,  1.83s/it]\n"
     ]
    },
    {
     "name": "stdout",
     "output_type": "stream",
     "text": [
      "Epoch 4/25\n",
      "Train Loss: 2.0412 | Val Loss: 1.7977 | Val MAE: 2.0708\n"
     ]
    },
    {
     "name": "stderr",
     "output_type": "stream",
     "text": [
      "Epoch 5/25 [Train]: 100%|██████████| 166/166 [02:42<00:00,  1.02it/s, loss=0.224]\n",
      "Epoch 5/25 [Val]: 100%|██████████| 21/21 [00:38<00:00,  1.84s/it]\n"
     ]
    },
    {
     "name": "stdout",
     "output_type": "stream",
     "text": [
      "Epoch 5/25\n",
      "Train Loss: 1.9770 | Val Loss: 1.7931 | Val MAE: 2.0673\n"
     ]
    },
    {
     "name": "stderr",
     "output_type": "stream",
     "text": [
      "Epoch 6/25 [Train]: 100%|██████████| 166/166 [02:42<00:00,  1.02it/s, loss=3.33]\n",
      "Epoch 6/25 [Val]: 100%|██████████| 21/21 [00:38<00:00,  1.83s/it]\n"
     ]
    },
    {
     "name": "stdout",
     "output_type": "stream",
     "text": [
      "Epoch 6/25\n",
      "Train Loss: 1.9451 | Val Loss: 1.6927 | Val MAE: 1.9510\n"
     ]
    },
    {
     "name": "stderr",
     "output_type": "stream",
     "text": [
      "Epoch 7/25 [Train]: 100%|██████████| 166/166 [02:42<00:00,  1.02it/s, loss=0.179]\n",
      "Epoch 7/25 [Val]: 100%|██████████| 21/21 [00:38<00:00,  1.83s/it]\n"
     ]
    },
    {
     "name": "stdout",
     "output_type": "stream",
     "text": [
      "Epoch 7/25\n",
      "Train Loss: 1.8558 | Val Loss: 1.5600 | Val MAE: 1.8063\n"
     ]
    },
    {
     "name": "stderr",
     "output_type": "stream",
     "text": [
      "Epoch 8/25 [Train]: 100%|██████████| 166/166 [02:42<00:00,  1.02it/s, loss=15]\n",
      "Epoch 8/25 [Val]: 100%|██████████| 21/21 [00:38<00:00,  1.86s/it]\n"
     ]
    },
    {
     "name": "stdout",
     "output_type": "stream",
     "text": [
      "Epoch 8/25\n",
      "Train Loss: 1.8260 | Val Loss: 1.5091 | Val MAE: 1.7589\n"
     ]
    },
    {
     "name": "stderr",
     "output_type": "stream",
     "text": [
      "Epoch 9/25 [Train]: 100%|██████████| 166/166 [02:42<00:00,  1.02it/s, loss=0.602]\n",
      "Epoch 9/25 [Val]: 100%|██████████| 21/21 [00:38<00:00,  1.84s/it]\n"
     ]
    },
    {
     "name": "stdout",
     "output_type": "stream",
     "text": [
      "Epoch 9/25\n",
      "Train Loss: 1.7496 | Val Loss: 1.4428 | Val MAE: 1.6865\n"
     ]
    },
    {
     "name": "stderr",
     "output_type": "stream",
     "text": [
      "Epoch 10/25 [Train]: 100%|██████████| 166/166 [02:42<00:00,  1.02it/s, loss=0.908]\n",
      "Epoch 10/25 [Val]: 100%|██████████| 21/21 [00:38<00:00,  1.83s/it]\n"
     ]
    },
    {
     "name": "stdout",
     "output_type": "stream",
     "text": [
      "Epoch 10/25\n",
      "Train Loss: 1.6859 | Val Loss: 1.3743 | Val MAE: 1.6171\n"
     ]
    },
    {
     "name": "stderr",
     "output_type": "stream",
     "text": [
      "Epoch 11/25 [Train]: 100%|██████████| 166/166 [02:43<00:00,  1.02it/s, loss=0.807]\n",
      "Epoch 11/25 [Val]: 100%|██████████| 21/21 [00:38<00:00,  1.82s/it]\n"
     ]
    },
    {
     "name": "stdout",
     "output_type": "stream",
     "text": [
      "Epoch 11/25\n",
      "Train Loss: 1.6944 | Val Loss: 1.3769 | Val MAE: 1.6158\n"
     ]
    },
    {
     "name": "stderr",
     "output_type": "stream",
     "text": [
      "Epoch 12/25 [Train]: 100%|██████████| 166/166 [02:43<00:00,  1.02it/s, loss=3.04]\n",
      "Epoch 12/25 [Val]: 100%|██████████| 21/21 [00:38<00:00,  1.83s/it]\n"
     ]
    },
    {
     "name": "stdout",
     "output_type": "stream",
     "text": [
      "Epoch 12/25\n",
      "Train Loss: 1.6189 | Val Loss: 1.3472 | Val MAE: 1.5874\n"
     ]
    },
    {
     "name": "stderr",
     "output_type": "stream",
     "text": [
      "Epoch 13/25 [Train]: 100%|██████████| 166/166 [02:42<00:00,  1.02it/s, loss=4.5]\n",
      "Epoch 13/25 [Val]: 100%|██████████| 21/21 [00:38<00:00,  1.84s/it]\n"
     ]
    },
    {
     "name": "stdout",
     "output_type": "stream",
     "text": [
      "Epoch 13/25\n",
      "Train Loss: 1.6390 | Val Loss: 1.5250 | Val MAE: 1.7555\n"
     ]
    },
    {
     "name": "stderr",
     "output_type": "stream",
     "text": [
      "Epoch 14/25 [Train]: 100%|██████████| 166/166 [02:43<00:00,  1.01it/s, loss=0.43]\n",
      "Epoch 14/25 [Val]: 100%|██████████| 21/21 [00:38<00:00,  1.85s/it]\n"
     ]
    },
    {
     "name": "stdout",
     "output_type": "stream",
     "text": [
      "Epoch 14/25\n",
      "Train Loss: 1.5953 | Val Loss: 1.3030 | Val MAE: 1.5398\n"
     ]
    },
    {
     "name": "stderr",
     "output_type": "stream",
     "text": [
      "Epoch 15/25 [Train]: 100%|██████████| 166/166 [02:42<00:00,  1.02it/s, loss=1.57]\n",
      "Epoch 15/25 [Val]: 100%|██████████| 21/21 [00:38<00:00,  1.82s/it]\n"
     ]
    },
    {
     "name": "stdout",
     "output_type": "stream",
     "text": [
      "Epoch 15/25\n",
      "Train Loss: 1.5852 | Val Loss: 1.4063 | Val MAE: 1.6430\n"
     ]
    },
    {
     "name": "stderr",
     "output_type": "stream",
     "text": [
      "Epoch 16/25 [Train]: 100%|██████████| 166/166 [02:42<00:00,  1.02it/s, loss=0.494]\n",
      "Epoch 16/25 [Val]: 100%|██████████| 21/21 [00:38<00:00,  1.83s/it]\n"
     ]
    },
    {
     "name": "stdout",
     "output_type": "stream",
     "text": [
      "Epoch 16/25\n",
      "Train Loss: 1.5691 | Val Loss: 1.3288 | Val MAE: 1.5588\n"
     ]
    },
    {
     "name": "stderr",
     "output_type": "stream",
     "text": [
      "Epoch 17/25 [Train]: 100%|██████████| 166/166 [02:42<00:00,  1.02it/s, loss=0.452]\n",
      "Epoch 17/25 [Val]: 100%|██████████| 21/21 [00:38<00:00,  1.85s/it]\n"
     ]
    },
    {
     "name": "stdout",
     "output_type": "stream",
     "text": [
      "Epoch 17/25\n",
      "Train Loss: 1.5609 | Val Loss: 1.2851 | Val MAE: 1.5121\n"
     ]
    },
    {
     "name": "stderr",
     "output_type": "stream",
     "text": [
      "Epoch 18/25 [Train]: 100%|██████████| 166/166 [02:44<00:00,  1.01it/s, loss=0.658]\n",
      "Epoch 18/25 [Val]: 100%|██████████| 21/21 [00:38<00:00,  1.83s/it]\n"
     ]
    },
    {
     "name": "stdout",
     "output_type": "stream",
     "text": [
      "Epoch 18/25\n",
      "Train Loss: 1.5362 | Val Loss: 1.2799 | Val MAE: 1.5177\n"
     ]
    },
    {
     "name": "stderr",
     "output_type": "stream",
     "text": [
      "Epoch 19/25 [Train]: 100%|██████████| 166/166 [02:41<00:00,  1.03it/s, loss=4.2]\n",
      "Epoch 19/25 [Val]: 100%|██████████| 21/21 [00:38<00:00,  1.83s/it]\n"
     ]
    },
    {
     "name": "stdout",
     "output_type": "stream",
     "text": [
      "Epoch 19/25\n",
      "Train Loss: 1.4841 | Val Loss: 1.1989 | Val MAE: 1.4304\n"
     ]
    },
    {
     "name": "stderr",
     "output_type": "stream",
     "text": [
      "Epoch 20/25 [Train]: 100%|██████████| 166/166 [02:41<00:00,  1.03it/s, loss=0.898]\n",
      "Epoch 20/25 [Val]: 100%|██████████| 21/21 [00:38<00:00,  1.84s/it]\n"
     ]
    },
    {
     "name": "stdout",
     "output_type": "stream",
     "text": [
      "Epoch 20/25\n",
      "Train Loss: 1.3662 | Val Loss: 1.1250 | Val MAE: 1.3507\n"
     ]
    },
    {
     "name": "stderr",
     "output_type": "stream",
     "text": [
      "Epoch 21/25 [Train]: 100%|██████████| 166/166 [02:42<00:00,  1.02it/s, loss=0.543]\n",
      "Epoch 21/25 [Val]: 100%|██████████| 21/21 [00:38<00:00,  1.83s/it]\n"
     ]
    },
    {
     "name": "stdout",
     "output_type": "stream",
     "text": [
      "Epoch 21/25\n",
      "Train Loss: 1.4460 | Val Loss: 1.0251 | Val MAE: 1.2548\n"
     ]
    },
    {
     "name": "stderr",
     "output_type": "stream",
     "text": [
      "Epoch 22/25 [Train]: 100%|██████████| 166/166 [02:41<00:00,  1.03it/s, loss=0.29]\n",
      "Epoch 22/25 [Val]: 100%|██████████| 21/21 [00:38<00:00,  1.82s/it]\n"
     ]
    },
    {
     "name": "stdout",
     "output_type": "stream",
     "text": [
      "Epoch 22/25\n",
      "Train Loss: 1.3544 | Val Loss: 1.1034 | Val MAE: 1.3273\n"
     ]
    },
    {
     "name": "stderr",
     "output_type": "stream",
     "text": [
      "Epoch 23/25 [Train]: 100%|██████████| 166/166 [02:42<00:00,  1.02it/s, loss=1.13]\n",
      "Epoch 23/25 [Val]: 100%|██████████| 21/21 [00:38<00:00,  1.82s/it]\n"
     ]
    },
    {
     "name": "stdout",
     "output_type": "stream",
     "text": [
      "Epoch 23/25\n",
      "Train Loss: 1.3405 | Val Loss: 1.0672 | Val MAE: 1.2861\n"
     ]
    },
    {
     "name": "stderr",
     "output_type": "stream",
     "text": [
      "Epoch 24/25 [Train]: 100%|██████████| 166/166 [02:42<00:00,  1.02it/s, loss=0.434]\n",
      "Epoch 24/25 [Val]: 100%|██████████| 21/21 [00:38<00:00,  1.83s/it]\n"
     ]
    },
    {
     "name": "stdout",
     "output_type": "stream",
     "text": [
      "Epoch 24/25\n",
      "Train Loss: 1.2818 | Val Loss: 1.0089 | Val MAE: 1.2294\n"
     ]
    },
    {
     "name": "stderr",
     "output_type": "stream",
     "text": [
      "Epoch 25/25 [Train]: 100%|██████████| 166/166 [02:41<00:00,  1.03it/s, loss=0.18]\n",
      "Epoch 25/25 [Val]: 100%|██████████| 21/21 [00:38<00:00,  1.82s/it]\n"
     ]
    },
    {
     "name": "stdout",
     "output_type": "stream",
     "text": [
      "Epoch 25/25\n",
      "Train Loss: 1.2482 | Val Loss: 1.1011 | Val MAE: 1.3196\n",
      "Training fold 2/3\n"
     ]
    },
    {
     "name": "stderr",
     "output_type": "stream",
     "text": [
      "Epoch 1/25 [Train]: 100%|██████████| 166/166 [02:40<00:00,  1.03it/s, loss=4.23]\n",
      "Epoch 1/25 [Val]: 100%|██████████| 21/21 [00:37<00:00,  1.81s/it]\n"
     ]
    },
    {
     "name": "stdout",
     "output_type": "stream",
     "text": [
      "Epoch 1/25\n",
      "Train Loss: 2.2200 | Val Loss: 2.5520 | Val MAE: 2.8802\n"
     ]
    },
    {
     "name": "stderr",
     "output_type": "stream",
     "text": [
      "Epoch 2/25 [Train]: 100%|██████████| 166/166 [02:41<00:00,  1.02it/s, loss=0.879]\n",
      "Epoch 2/25 [Val]: 100%|██████████| 21/21 [00:37<00:00,  1.80s/it]\n"
     ]
    },
    {
     "name": "stdout",
     "output_type": "stream",
     "text": [
      "Epoch 2/25\n",
      "Train Loss: 2.1310 | Val Loss: 2.4892 | Val MAE: 2.7971\n"
     ]
    },
    {
     "name": "stderr",
     "output_type": "stream",
     "text": [
      "Epoch 3/25 [Train]: 100%|██████████| 166/166 [02:42<00:00,  1.02it/s, loss=1.05]\n",
      "Epoch 3/25 [Val]: 100%|██████████| 21/21 [00:37<00:00,  1.81s/it]\n"
     ]
    },
    {
     "name": "stdout",
     "output_type": "stream",
     "text": [
      "Epoch 3/25\n",
      "Train Loss: 2.0631 | Val Loss: 2.3814 | Val MAE: 2.6785\n"
     ]
    },
    {
     "name": "stderr",
     "output_type": "stream",
     "text": [
      "Epoch 4/25 [Train]: 100%|██████████| 166/166 [02:42<00:00,  1.02it/s, loss=9.75]\n",
      "Epoch 4/25 [Val]: 100%|██████████| 21/21 [00:38<00:00,  1.82s/it]\n"
     ]
    },
    {
     "name": "stdout",
     "output_type": "stream",
     "text": [
      "Epoch 4/25\n",
      "Train Loss: 1.9740 | Val Loss: 2.2383 | Val MAE: 2.5307\n"
     ]
    },
    {
     "name": "stderr",
     "output_type": "stream",
     "text": [
      "Epoch 5/25 [Train]: 100%|██████████| 166/166 [02:42<00:00,  1.02it/s, loss=0.583]\n",
      "Epoch 5/25 [Val]: 100%|██████████| 21/21 [00:37<00:00,  1.81s/it]\n"
     ]
    },
    {
     "name": "stdout",
     "output_type": "stream",
     "text": [
      "Epoch 5/25\n",
      "Train Loss: 1.8974 | Val Loss: 2.2082 | Val MAE: 2.5006\n"
     ]
    },
    {
     "name": "stderr",
     "output_type": "stream",
     "text": [
      "Epoch 6/25 [Train]: 100%|██████████| 166/166 [02:42<00:00,  1.02it/s, loss=0.663]\n",
      "Epoch 6/25 [Val]: 100%|██████████| 21/21 [00:37<00:00,  1.80s/it]\n"
     ]
    },
    {
     "name": "stdout",
     "output_type": "stream",
     "text": [
      "Epoch 6/25\n",
      "Train Loss: 1.8418 | Val Loss: 2.0936 | Val MAE: 2.3613\n"
     ]
    },
    {
     "name": "stderr",
     "output_type": "stream",
     "text": [
      "Epoch 7/25 [Train]: 100%|██████████| 166/166 [02:42<00:00,  1.02it/s, loss=1.77]\n",
      "Epoch 7/25 [Val]: 100%|██████████| 21/21 [00:38<00:00,  1.82s/it]\n"
     ]
    },
    {
     "name": "stdout",
     "output_type": "stream",
     "text": [
      "Epoch 7/25\n",
      "Train Loss: 1.7550 | Val Loss: 1.9345 | Val MAE: 2.1963\n"
     ]
    },
    {
     "name": "stderr",
     "output_type": "stream",
     "text": [
      "Epoch 8/25 [Train]: 100%|██████████| 166/166 [02:42<00:00,  1.02it/s, loss=4.56]\n",
      "Epoch 8/25 [Val]: 100%|██████████| 21/21 [00:38<00:00,  1.82s/it]\n"
     ]
    },
    {
     "name": "stdout",
     "output_type": "stream",
     "text": [
      "Epoch 8/25\n",
      "Train Loss: 1.6983 | Val Loss: 1.8831 | Val MAE: 2.1451\n"
     ]
    },
    {
     "name": "stderr",
     "output_type": "stream",
     "text": [
      "Epoch 9/25 [Train]: 100%|██████████| 166/166 [02:41<00:00,  1.03it/s, loss=1.18]\n",
      "Epoch 9/25 [Val]: 100%|██████████| 21/21 [00:37<00:00,  1.80s/it]\n"
     ]
    },
    {
     "name": "stdout",
     "output_type": "stream",
     "text": [
      "Epoch 9/25\n",
      "Train Loss: 1.6339 | Val Loss: 1.7995 | Val MAE: 2.0585\n"
     ]
    },
    {
     "name": "stderr",
     "output_type": "stream",
     "text": [
      "Epoch 10/25 [Train]: 100%|██████████| 166/166 [02:42<00:00,  1.02it/s, loss=1.94]\n",
      "Epoch 10/25 [Val]: 100%|██████████| 21/21 [00:37<00:00,  1.81s/it]\n"
     ]
    },
    {
     "name": "stdout",
     "output_type": "stream",
     "text": [
      "Epoch 10/25\n",
      "Train Loss: 1.5760 | Val Loss: 1.8067 | Val MAE: 2.0595\n"
     ]
    },
    {
     "name": "stderr",
     "output_type": "stream",
     "text": [
      "Epoch 11/25 [Train]: 100%|██████████| 166/166 [02:41<00:00,  1.03it/s, loss=0.584]\n",
      "Epoch 11/25 [Val]: 100%|██████████| 21/21 [00:37<00:00,  1.81s/it]\n"
     ]
    },
    {
     "name": "stdout",
     "output_type": "stream",
     "text": [
      "Epoch 11/25\n",
      "Train Loss: 1.5286 | Val Loss: 1.6650 | Val MAE: 1.9149\n"
     ]
    },
    {
     "name": "stderr",
     "output_type": "stream",
     "text": [
      "Epoch 12/25 [Train]: 100%|██████████| 166/166 [02:41<00:00,  1.03it/s, loss=1.24]\n",
      "Epoch 12/25 [Val]: 100%|██████████| 21/21 [00:38<00:00,  1.81s/it]\n"
     ]
    },
    {
     "name": "stdout",
     "output_type": "stream",
     "text": [
      "Epoch 12/25\n",
      "Train Loss: 1.5725 | Val Loss: 1.7929 | Val MAE: 2.0424\n"
     ]
    },
    {
     "name": "stderr",
     "output_type": "stream",
     "text": [
      "Epoch 13/25 [Train]: 100%|██████████| 166/166 [02:41<00:00,  1.02it/s, loss=4.67]\n",
      "Epoch 13/25 [Val]: 100%|██████████| 21/21 [00:37<00:00,  1.80s/it]\n"
     ]
    },
    {
     "name": "stdout",
     "output_type": "stream",
     "text": [
      "Epoch 13/25\n",
      "Train Loss: 1.5086 | Val Loss: 1.7343 | Val MAE: 1.9825\n"
     ]
    },
    {
     "name": "stderr",
     "output_type": "stream",
     "text": [
      "Epoch 14/25 [Train]: 100%|██████████| 166/166 [02:42<00:00,  1.02it/s, loss=0.65]\n",
      "Epoch 14/25 [Val]: 100%|██████████| 21/21 [00:38<00:00,  1.81s/it]\n"
     ]
    },
    {
     "name": "stdout",
     "output_type": "stream",
     "text": [
      "Epoch 14/25\n",
      "Train Loss: 1.4979 | Val Loss: 1.6127 | Val MAE: 1.8629\n"
     ]
    },
    {
     "name": "stderr",
     "output_type": "stream",
     "text": [
      "Epoch 15/25 [Train]: 100%|██████████| 166/166 [02:41<00:00,  1.03it/s, loss=0.339]\n",
      "Epoch 15/25 [Val]: 100%|██████████| 21/21 [00:37<00:00,  1.81s/it]\n"
     ]
    },
    {
     "name": "stdout",
     "output_type": "stream",
     "text": [
      "Epoch 15/25\n",
      "Train Loss: 1.4901 | Val Loss: 1.6173 | Val MAE: 1.8664\n"
     ]
    },
    {
     "name": "stderr",
     "output_type": "stream",
     "text": [
      "Epoch 16/25 [Train]: 100%|██████████| 166/166 [02:42<00:00,  1.02it/s, loss=0.329]\n",
      "Epoch 16/25 [Val]: 100%|██████████| 21/21 [00:37<00:00,  1.81s/it]\n"
     ]
    },
    {
     "name": "stdout",
     "output_type": "stream",
     "text": [
      "Epoch 16/25\n",
      "Train Loss: 1.4735 | Val Loss: 1.6439 | Val MAE: 1.8928\n"
     ]
    },
    {
     "name": "stderr",
     "output_type": "stream",
     "text": [
      "Epoch 17/25 [Train]: 100%|██████████| 166/166 [02:42<00:00,  1.02it/s, loss=0.639]\n",
      "Epoch 17/25 [Val]: 100%|██████████| 21/21 [00:38<00:00,  1.81s/it]\n"
     ]
    },
    {
     "name": "stdout",
     "output_type": "stream",
     "text": [
      "Epoch 17/25\n",
      "Train Loss: 1.4663 | Val Loss: 1.6693 | Val MAE: 1.9109\n"
     ]
    },
    {
     "name": "stderr",
     "output_type": "stream",
     "text": [
      "Epoch 18/25 [Train]: 100%|██████████| 166/166 [02:41<00:00,  1.03it/s, loss=0.944]\n",
      "Epoch 18/25 [Val]: 100%|██████████| 21/21 [00:38<00:00,  1.82s/it]\n"
     ]
    },
    {
     "name": "stdout",
     "output_type": "stream",
     "text": [
      "Epoch 18/25\n",
      "Train Loss: 1.4670 | Val Loss: 1.5546 | Val MAE: 1.7954\n"
     ]
    },
    {
     "name": "stderr",
     "output_type": "stream",
     "text": [
      "Epoch 19/25 [Train]: 100%|██████████| 166/166 [02:42<00:00,  1.02it/s, loss=0.318]\n",
      "Epoch 19/25 [Val]: 100%|██████████| 21/21 [00:38<00:00,  1.82s/it]\n"
     ]
    },
    {
     "name": "stdout",
     "output_type": "stream",
     "text": [
      "Epoch 19/25\n",
      "Train Loss: 1.4217 | Val Loss: 1.5028 | Val MAE: 1.7416\n"
     ]
    },
    {
     "name": "stderr",
     "output_type": "stream",
     "text": [
      "Epoch 20/25 [Train]: 100%|██████████| 166/166 [02:42<00:00,  1.02it/s, loss=4.74]\n",
      "Epoch 20/25 [Val]: 100%|██████████| 21/21 [00:38<00:00,  1.82s/it]\n"
     ]
    },
    {
     "name": "stdout",
     "output_type": "stream",
     "text": [
      "Epoch 20/25\n",
      "Train Loss: 1.4175 | Val Loss: 1.7138 | Val MAE: 1.9500\n"
     ]
    },
    {
     "name": "stderr",
     "output_type": "stream",
     "text": [
      "Epoch 21/25 [Train]: 100%|██████████| 166/166 [02:43<00:00,  1.02it/s, loss=0.777]\n",
      "Epoch 21/25 [Val]: 100%|██████████| 21/21 [00:37<00:00,  1.81s/it]\n"
     ]
    },
    {
     "name": "stdout",
     "output_type": "stream",
     "text": [
      "Epoch 21/25\n",
      "Train Loss: 1.3057 | Val Loss: 1.4134 | Val MAE: 1.6529\n"
     ]
    },
    {
     "name": "stderr",
     "output_type": "stream",
     "text": [
      "Epoch 22/25 [Train]: 100%|██████████| 166/166 [02:42<00:00,  1.02it/s, loss=0.822]\n",
      "Epoch 22/25 [Val]: 100%|██████████| 21/21 [00:38<00:00,  1.82s/it]\n"
     ]
    },
    {
     "name": "stdout",
     "output_type": "stream",
     "text": [
      "Epoch 22/25\n",
      "Train Loss: 1.2821 | Val Loss: 1.2908 | Val MAE: 1.5236\n"
     ]
    },
    {
     "name": "stderr",
     "output_type": "stream",
     "text": [
      "Epoch 23/25 [Train]: 100%|██████████| 166/166 [02:43<00:00,  1.01it/s, loss=1.4]\n",
      "Epoch 23/25 [Val]: 100%|██████████| 21/21 [00:37<00:00,  1.81s/it]\n"
     ]
    },
    {
     "name": "stdout",
     "output_type": "stream",
     "text": [
      "Epoch 23/25\n",
      "Train Loss: 1.2621 | Val Loss: 1.4230 | Val MAE: 1.6578\n"
     ]
    },
    {
     "name": "stderr",
     "output_type": "stream",
     "text": [
      "Epoch 24/25 [Train]: 100%|██████████| 166/166 [02:44<00:00,  1.01it/s, loss=0.428]\n",
      "Epoch 24/25 [Val]: 100%|██████████| 21/21 [00:38<00:00,  1.85s/it]\n"
     ]
    },
    {
     "name": "stdout",
     "output_type": "stream",
     "text": [
      "Epoch 24/25\n",
      "Train Loss: 1.2798 | Val Loss: 1.3658 | Val MAE: 1.5978\n"
     ]
    },
    {
     "name": "stderr",
     "output_type": "stream",
     "text": [
      "Epoch 25/25 [Train]: 100%|██████████| 166/166 [02:43<00:00,  1.01it/s, loss=1.13]\n",
      "Epoch 25/25 [Val]: 100%|██████████| 21/21 [00:37<00:00,  1.81s/it]\n"
     ]
    },
    {
     "name": "stdout",
     "output_type": "stream",
     "text": [
      "Epoch 25/25\n",
      "Train Loss: 1.1550 | Val Loss: 1.2473 | Val MAE: 1.4789\n",
      "Training fold 3/3\n"
     ]
    },
    {
     "name": "stderr",
     "output_type": "stream",
     "text": [
      "Epoch 1/25 [Train]: 100%|██████████| 166/166 [02:43<00:00,  1.01it/s, loss=0.689]\n",
      "Epoch 1/25 [Val]: 100%|██████████| 21/21 [00:37<00:00,  1.77s/it]\n"
     ]
    },
    {
     "name": "stdout",
     "output_type": "stream",
     "text": [
      "Epoch 1/25\n",
      "Train Loss: 2.2224 | Val Loss: 2.5363 | Val MAE: 2.8605\n"
     ]
    },
    {
     "name": "stderr",
     "output_type": "stream",
     "text": [
      "Epoch 2/25 [Train]: 100%|██████████| 166/166 [02:44<00:00,  1.01it/s, loss=0.9]\n",
      "Epoch 2/25 [Val]: 100%|██████████| 21/21 [00:37<00:00,  1.78s/it]\n"
     ]
    },
    {
     "name": "stdout",
     "output_type": "stream",
     "text": [
      "Epoch 2/25\n",
      "Train Loss: 2.1299 | Val Loss: 2.4765 | Val MAE: 2.7859\n"
     ]
    },
    {
     "name": "stderr",
     "output_type": "stream",
     "text": [
      "Epoch 3/25 [Train]: 100%|██████████| 166/166 [02:44<00:00,  1.01it/s, loss=3.24]\n",
      "Epoch 3/25 [Val]: 100%|██████████| 21/21 [00:37<00:00,  1.78s/it]\n"
     ]
    },
    {
     "name": "stdout",
     "output_type": "stream",
     "text": [
      "Epoch 3/25\n",
      "Train Loss: 2.0355 | Val Loss: 2.3698 | Val MAE: 2.6658\n"
     ]
    },
    {
     "name": "stderr",
     "output_type": "stream",
     "text": [
      "Epoch 4/25 [Train]: 100%|██████████| 166/166 [02:43<00:00,  1.02it/s, loss=0.446]\n",
      "Epoch 4/25 [Val]: 100%|██████████| 21/21 [00:36<00:00,  1.75s/it]\n"
     ]
    },
    {
     "name": "stdout",
     "output_type": "stream",
     "text": [
      "Epoch 4/25\n",
      "Train Loss: 1.8826 | Val Loss: 2.2756 | Val MAE: 2.5615\n"
     ]
    },
    {
     "name": "stderr",
     "output_type": "stream",
     "text": [
      "Epoch 5/25 [Train]: 100%|██████████| 166/166 [02:43<00:00,  1.01it/s, loss=0.516]\n",
      "Epoch 5/25 [Val]: 100%|██████████| 21/21 [00:37<00:00,  1.79s/it]\n"
     ]
    },
    {
     "name": "stdout",
     "output_type": "stream",
     "text": [
      "Epoch 5/25\n",
      "Train Loss: 1.8285 | Val Loss: 2.2692 | Val MAE: 2.5572\n"
     ]
    },
    {
     "name": "stderr",
     "output_type": "stream",
     "text": [
      "Epoch 6/25 [Train]: 100%|██████████| 166/166 [02:43<00:00,  1.01it/s, loss=7.21]\n",
      "Epoch 6/25 [Val]: 100%|██████████| 21/21 [00:37<00:00,  1.78s/it]\n"
     ]
    },
    {
     "name": "stdout",
     "output_type": "stream",
     "text": [
      "Epoch 6/25\n",
      "Train Loss: 1.8227 | Val Loss: 2.2149 | Val MAE: 2.4847\n"
     ]
    },
    {
     "name": "stderr",
     "output_type": "stream",
     "text": [
      "Epoch 7/25 [Train]: 100%|██████████| 166/166 [02:45<00:00,  1.00it/s, loss=0.93]\n",
      "Epoch 7/25 [Val]: 100%|██████████| 21/21 [00:37<00:00,  1.77s/it]\n"
     ]
    },
    {
     "name": "stdout",
     "output_type": "stream",
     "text": [
      "Epoch 7/25\n",
      "Train Loss: 1.6997 | Val Loss: 2.0637 | Val MAE: 2.3321\n"
     ]
    },
    {
     "name": "stderr",
     "output_type": "stream",
     "text": [
      "Epoch 8/25 [Train]: 100%|██████████| 166/166 [02:43<00:00,  1.02it/s, loss=0.893]\n",
      "Epoch 8/25 [Val]: 100%|██████████| 21/21 [00:37<00:00,  1.78s/it]\n"
     ]
    },
    {
     "name": "stdout",
     "output_type": "stream",
     "text": [
      "Epoch 8/25\n",
      "Train Loss: 1.6841 | Val Loss: 2.0763 | Val MAE: 2.3401\n"
     ]
    },
    {
     "name": "stderr",
     "output_type": "stream",
     "text": [
      "Epoch 9/25 [Train]: 100%|██████████| 166/166 [02:43<00:00,  1.01it/s, loss=2.65]\n",
      "Epoch 9/25 [Val]: 100%|██████████| 21/21 [00:37<00:00,  1.78s/it]\n"
     ]
    },
    {
     "name": "stdout",
     "output_type": "stream",
     "text": [
      "Epoch 9/25\n",
      "Train Loss: 1.6091 | Val Loss: 2.0360 | Val MAE: 2.3003\n"
     ]
    },
    {
     "name": "stderr",
     "output_type": "stream",
     "text": [
      "Epoch 10/25 [Train]: 100%|██████████| 166/166 [02:42<00:00,  1.02it/s, loss=0.312]\n",
      "Epoch 10/25 [Val]: 100%|██████████| 21/21 [00:37<00:00,  1.76s/it]\n"
     ]
    },
    {
     "name": "stdout",
     "output_type": "stream",
     "text": [
      "Epoch 10/25\n",
      "Train Loss: 1.5784 | Val Loss: 1.8752 | Val MAE: 2.1396\n"
     ]
    },
    {
     "name": "stderr",
     "output_type": "stream",
     "text": [
      "Epoch 11/25 [Train]: 100%|██████████| 166/166 [02:44<00:00,  1.01it/s, loss=0.334]\n",
      "Epoch 11/25 [Val]: 100%|██████████| 21/21 [00:37<00:00,  1.79s/it]\n"
     ]
    },
    {
     "name": "stdout",
     "output_type": "stream",
     "text": [
      "Epoch 11/25\n",
      "Train Loss: 1.5474 | Val Loss: 1.9439 | Val MAE: 2.2023\n"
     ]
    },
    {
     "name": "stderr",
     "output_type": "stream",
     "text": [
      "Epoch 12/25 [Train]: 100%|██████████| 166/166 [02:45<00:00,  1.00it/s, loss=4.76]\n",
      "Epoch 12/25 [Val]: 100%|██████████| 21/21 [00:37<00:00,  1.80s/it]\n"
     ]
    },
    {
     "name": "stdout",
     "output_type": "stream",
     "text": [
      "Epoch 12/25\n",
      "Train Loss: 1.4961 | Val Loss: 1.9003 | Val MAE: 2.1597\n"
     ]
    },
    {
     "name": "stderr",
     "output_type": "stream",
     "text": [
      "Epoch 13/25 [Train]: 100%|██████████| 166/166 [02:45<00:00,  1.00it/s, loss=0.497]\n",
      "Epoch 13/25 [Val]: 100%|██████████| 21/21 [00:37<00:00,  1.78s/it]\n"
     ]
    },
    {
     "name": "stdout",
     "output_type": "stream",
     "text": [
      "Epoch 13/25\n",
      "Train Loss: 1.5202 | Val Loss: 1.8283 | Val MAE: 2.0870\n"
     ]
    },
    {
     "name": "stderr",
     "output_type": "stream",
     "text": [
      "Epoch 14/25 [Train]: 100%|██████████| 166/166 [02:45<00:00,  1.00it/s, loss=7.06]\n",
      "Epoch 14/25 [Val]: 100%|██████████| 21/21 [00:37<00:00,  1.80s/it]\n"
     ]
    },
    {
     "name": "stdout",
     "output_type": "stream",
     "text": [
      "Epoch 14/25\n",
      "Train Loss: 1.4923 | Val Loss: 2.0172 | Val MAE: 2.2724\n"
     ]
    },
    {
     "name": "stderr",
     "output_type": "stream",
     "text": [
      "Epoch 15/25 [Train]: 100%|██████████| 166/166 [02:45<00:00,  1.00it/s, loss=7.97]\n",
      "Epoch 15/25 [Val]: 100%|██████████| 21/21 [00:37<00:00,  1.80s/it]\n"
     ]
    },
    {
     "name": "stdout",
     "output_type": "stream",
     "text": [
      "Epoch 15/25\n",
      "Train Loss: 1.4972 | Val Loss: 1.8920 | Val MAE: 2.1472\n"
     ]
    },
    {
     "name": "stderr",
     "output_type": "stream",
     "text": [
      "Epoch 16/25 [Train]: 100%|██████████| 166/166 [02:45<00:00,  1.01it/s, loss=8.79]\n",
      "Epoch 16/25 [Val]: 100%|██████████| 21/21 [00:37<00:00,  1.76s/it]\n"
     ]
    },
    {
     "name": "stdout",
     "output_type": "stream",
     "text": [
      "Epoch 16/25\n",
      "Train Loss: 1.5439 | Val Loss: 1.8566 | Val MAE: 2.1103\n"
     ]
    },
    {
     "name": "stderr",
     "output_type": "stream",
     "text": [
      "Epoch 17/25 [Train]: 100%|██████████| 166/166 [02:45<00:00,  1.00it/s, loss=0.55]\n",
      "Epoch 17/25 [Val]: 100%|██████████| 21/21 [00:37<00:00,  1.80s/it]\n"
     ]
    },
    {
     "name": "stdout",
     "output_type": "stream",
     "text": [
      "Epoch 17/25\n",
      "Train Loss: 1.4362 | Val Loss: 1.8650 | Val MAE: 2.1152\n"
     ]
    },
    {
     "name": "stderr",
     "output_type": "stream",
     "text": [
      "Epoch 18/25 [Train]: 100%|██████████| 166/166 [02:45<00:00,  1.00it/s, loss=0.47]\n",
      "Epoch 18/25 [Val]: 100%|██████████| 21/21 [00:37<00:00,  1.80s/it]\n"
     ]
    },
    {
     "name": "stdout",
     "output_type": "stream",
     "text": [
      "Epoch 18/25\n",
      "Train Loss: 1.3779 | Val Loss: 1.7456 | Val MAE: 1.9954\n"
     ]
    },
    {
     "name": "stderr",
     "output_type": "stream",
     "text": [
      "Epoch 19/25 [Train]: 100%|██████████| 166/166 [02:45<00:00,  1.00it/s, loss=0.928]\n",
      "Epoch 19/25 [Val]: 100%|██████████| 21/21 [00:37<00:00,  1.78s/it]\n"
     ]
    },
    {
     "name": "stdout",
     "output_type": "stream",
     "text": [
      "Epoch 19/25\n",
      "Train Loss: 1.3577 | Val Loss: 1.7414 | Val MAE: 1.9871\n"
     ]
    },
    {
     "name": "stderr",
     "output_type": "stream",
     "text": [
      "Epoch 20/25 [Train]: 100%|██████████| 166/166 [02:43<00:00,  1.01it/s, loss=0.168]\n",
      "Epoch 20/25 [Val]: 100%|██████████| 21/21 [00:37<00:00,  1.78s/it]\n"
     ]
    },
    {
     "name": "stdout",
     "output_type": "stream",
     "text": [
      "Epoch 20/25\n",
      "Train Loss: 1.2830 | Val Loss: 1.7095 | Val MAE: 1.9568\n"
     ]
    },
    {
     "name": "stderr",
     "output_type": "stream",
     "text": [
      "Epoch 21/25 [Train]: 100%|██████████| 166/166 [02:43<00:00,  1.01it/s, loss=0.512]\n",
      "Epoch 21/25 [Val]: 100%|██████████| 21/21 [00:37<00:00,  1.78s/it]\n"
     ]
    },
    {
     "name": "stdout",
     "output_type": "stream",
     "text": [
      "Epoch 21/25\n",
      "Train Loss: 1.2912 | Val Loss: 1.7795 | Val MAE: 2.0217\n"
     ]
    },
    {
     "name": "stderr",
     "output_type": "stream",
     "text": [
      "Epoch 22/25 [Train]: 100%|██████████| 166/166 [02:45<00:00,  1.00it/s, loss=1.25]\n",
      "Epoch 22/25 [Val]: 100%|██████████| 21/21 [00:37<00:00,  1.79s/it]\n"
     ]
    },
    {
     "name": "stdout",
     "output_type": "stream",
     "text": [
      "Epoch 22/25\n",
      "Train Loss: 1.2221 | Val Loss: 1.5166 | Val MAE: 1.7526\n"
     ]
    },
    {
     "name": "stderr",
     "output_type": "stream",
     "text": [
      "Epoch 23/25 [Train]: 100%|██████████| 166/166 [02:43<00:00,  1.01it/s, loss=0.537]\n",
      "Epoch 23/25 [Val]: 100%|██████████| 21/21 [00:37<00:00,  1.78s/it]\n"
     ]
    },
    {
     "name": "stdout",
     "output_type": "stream",
     "text": [
      "Epoch 23/25\n",
      "Train Loss: 1.2162 | Val Loss: 1.5927 | Val MAE: 1.8290\n"
     ]
    },
    {
     "name": "stderr",
     "output_type": "stream",
     "text": [
      "Epoch 24/25 [Train]: 100%|██████████| 166/166 [02:45<00:00,  1.00it/s, loss=0.305]\n",
      "Epoch 24/25 [Val]: 100%|██████████| 21/21 [00:37<00:00,  1.78s/it]\n"
     ]
    },
    {
     "name": "stdout",
     "output_type": "stream",
     "text": [
      "Epoch 24/25\n",
      "Train Loss: 1.1507 | Val Loss: 1.5048 | Val MAE: 1.7432\n"
     ]
    },
    {
     "name": "stderr",
     "output_type": "stream",
     "text": [
      "Epoch 25/25 [Train]: 100%|██████████| 166/166 [02:44<00:00,  1.01it/s, loss=0.665]\n",
      "Epoch 25/25 [Val]: 100%|██████████| 21/21 [00:37<00:00,  1.80s/it]\n"
     ]
    },
    {
     "name": "stdout",
     "output_type": "stream",
     "text": [
      "Epoch 25/25\n",
      "Train Loss: 1.1401 | Val Loss: 1.5567 | Val MAE: 1.7957\n"
     ]
    },
    {
     "name": "stderr",
     "output_type": "stream",
     "text": [
      "Inference: 100%|██████████| 18/18 [01:10<00:00,  3.91s/it]\n",
      "Inference: 100%|██████████| 18/18 [01:07<00:00,  3.75s/it]\n",
      "Inference: 100%|██████████| 18/18 [01:06<00:00,  3.70s/it]"
     ]
    },
    {
     "name": "stdout",
     "output_type": "stream",
     "text": [
      "Submissions saved with shapes: (2214, 2) (2214, 2)\n"
     ]
    },
    {
     "name": "stderr",
     "output_type": "stream",
     "text": [
      "\n"
     ]
    }
   ],
   "source": [
    "# -*- coding: utf-8 -*-\n",
    "import os\n",
    "import timm\n",
    "import torch\n",
    "import torch.nn as nn\n",
    "import torch.optim as optim\n",
    "import albumentations as A\n",
    "from albumentations.pytorch import ToTensorV2\n",
    "from torch.utils.data import Dataset, DataLoader\n",
    "import pandas as pd\n",
    "import cv2\n",
    "from sklearn.model_selection import KFold\n",
    "import numpy as np\n",
    "from tqdm import tqdm\n",
    "from torch.amp import autocast, GradScaler  # Fixed import\n",
    "from sklearn.metrics import mean_absolute_error\n",
    "\n",
    "import json\n",
    "\n",
    "# Fixed Albumentations version warning\n",
    "os.environ['NO_ALBUMENTATIONS_UPDATE'] = '1'\n",
    "\n",
    "# Enhanced Dataset with Metadata\n",
    "class SolarPanelDataset(Dataset):\n",
    "    def __init__(self, dataframe, transform=None, to_train=True):\n",
    "        self.dataframe = dataframe\n",
    "        self.transform = transform\n",
    "        self.to_train = to_train\n",
    "        self.placement_map = {\"roof\": 0, \"openspace\": 1, \"r_openspace\": 2, \"S-unknown\": 3}\n",
    "\n",
    "    def __len__(self):\n",
    "        return len(self.dataframe)\n",
    "\n",
    "    def __getitem__(self, idx):\n",
    "        row = self.dataframe.iloc[idx]\n",
    "        image = cv2.imread(row[\"path\"])\n",
    "        image = cv2.cvtColor(image, cv2.COLOR_BGR2RGB)  # Correct color conversion\n",
    "\n",
    "        # Improved metadata encoding\n",
    "        metadata = torch.zeros(5)\n",
    "        metadata[0] = 1.0 if row[\"img_origin\"] == \"D\" else 0.0\n",
    "        placement = self.placement_map.get(row[\"placement\"], 3)\n",
    "        metadata[1 + placement] = 1.0  # One-hot encoding\n",
    "\n",
    "        if self.transform:\n",
    "            image = self.transform(image=image)['image']\n",
    "\n",
    "        if self.to_train:\n",
    "            target = torch.tensor([row[\"boil_nbr\"], row[\"pan_nbr\"]], dtype=torch.float32)\n",
    "            return image, metadata, target\n",
    "        return image, metadata\n",
    "\n",
    "# Enhanced Model with Metadata\n",
    "class EfficientNetV2Meta(nn.Module):\n",
    "    def __init__(self):\n",
    "        super().__init__()\n",
    "        self.backbone = timm.create_model(\"tf_efficientnetv2_b3\", pretrained=True, num_classes=0)  # Larger backbone\n",
    "        self.meta_processor = nn.Sequential(\n",
    "            nn.Linear(5, 128),\n",
    "            nn.LayerNorm(128),\n",
    "            nn.ReLU(),\n",
    "            nn.Dropout(0.3),\n",
    "            nn.Linear(128, 64)\n",
    "        )\n",
    "        self.attention = nn.MultiheadAttention(embed_dim=64, num_heads=4)\n",
    "        self.regressor = nn.Sequential(\n",
    "            nn.Linear(self.backbone.num_features + 64, 512),\n",
    "            nn.ReLU(),\n",
    "            nn.Dropout(0.2),\n",
    "            nn.Linear(512, 2),\n",
    "            nn.Softplus()  # Better for count predictions\n",
    "        )\n",
    "\n",
    "    def forward(self, image, metadata):\n",
    "        img_features = self.backbone(image)\n",
    "        meta_features = self.meta_processor(metadata.unsqueeze(0))\n",
    "        attn_output, _ = self.attention(meta_features, meta_features, meta_features)\n",
    "        combined = torch.cat([img_features, attn_output.squeeze(0)], dim=1)\n",
    "        return self.regressor(combined)\n",
    "\n",
    "# Advanced Augmentation\n",
    "train_transform = A.Compose([\n",
    "    A.RandomResizedCrop(512, 512, scale=(0.7, 1.0)),\n",
    "    A.HorizontalFlip(p=0.5),\n",
    "    A.VerticalFlip(p=0.5),\n",
    "    A.RandomRotate90(p=0.5),\n",
    "    A.GaussianBlur(blur_limit=(3, 7), p=0.3),\n",
    "    A.CLAHE(clip_limit=4.0, p=0.5),\n",
    "    A.HueSaturationValue(p=0.3),\n",
    "    A.Normalize(mean=(0.485, 0.456, 0.406), std=(0.229, 0.224, 0.225)),\n",
    "    ToTensorV2()\n",
    "])\n",
    "\n",
    "test_transform = A.Compose([\n",
    "    A.Resize(512, 512),\n",
    "    A.Normalize(mean=(0.485, 0.456, 0.406), std=(0.229, 0.224, 0.225)),\n",
    "    ToTensorV2()\n",
    "])\n",
    "\n",
    "# Training Configuration\n",
    "def train(fold=0, epochs=20, batch_size=16):\n",
    "    train_df = pd.read_csv(\"/kaggle/input/lacuna-solar-survey-challenge/Train.csv\")\n",
    "    train_df = train_df.groupby(\"ID\").agg({\n",
    "        \"boil_nbr\": \"sum\",\n",
    "        \"pan_nbr\": \"sum\",\n",
    "        \"img_origin\": \"first\",\n",
    "        \"placement\": \"first\"\n",
    "    }).reset_index()\n",
    "    train_df[\"path\"] = \"/kaggle/input/lacuna-solar-survey-challenge/images/\" + train_df[\"ID\"] + \".jpg\"\n",
    "\n",
    "    kf = KFold(n_splits=5, shuffle=True, random_state=42)\n",
    "    splits = list(kf.split(train_df))\n",
    "    train_idx, val_idx = splits[fold]\n",
    "\n",
    "    train_ds = SolarPanelDataset(train_df.iloc[train_idx], transform=train_transform)\n",
    "    val_ds = SolarPanelDataset(train_df.iloc[val_idx], transform=test_transform)\n",
    "\n",
    "    train_loader = DataLoader(train_ds, batch_size=batch_size, \n",
    "                             shuffle=True, num_workers=4, pin_memory=True)\n",
    "    val_loader = DataLoader(val_ds, batch_size=batch_size*2, \n",
    "                           shuffle=False, num_workers=4, pin_memory=True)\n",
    "\n",
    "    model = EfficientNetV2Meta().cuda()\n",
    "    criterion = nn.HuberLoss(delta=1.0)  # Improved loss function\n",
    "    optimizer = optim.AdamW(model.parameters(), lr=1e-5, weight_decay=1e-4)\n",
    "    scheduler = optim.lr_scheduler.CosineAnnealingWarmRestarts(optimizer, T_0=5, T_mult=2)\n",
    "    scaler = GradScaler()\n",
    "\n",
    "    best_mae = float('inf')\n",
    "    json_dict = {}\n",
    "    val_mae_L = []\n",
    "    val_loss_L = []\n",
    "    train_loss_L = []\n",
    "    for epoch in range(epochs):\n",
    "        # Training loop\n",
    "        model.train()\n",
    "        train_loss = 0.0\n",
    "        pbar = tqdm(train_loader, desc=f\"Epoch {epoch+1}/{epochs} [Train]\")\n",
    "        for images, meta, targets in pbar:\n",
    "            images = images.cuda(non_blocking=True)\n",
    "            meta = meta.cuda(non_blocking=True)\n",
    "            targets = targets.cuda(non_blocking=True)\n",
    "            \n",
    "            optimizer.zero_grad()\n",
    "            with autocast(device_type='cuda'):\n",
    "                outputs = model(images, meta)\n",
    "                loss = criterion(outputs, targets)\n",
    "            scaler.scale(loss).backward()\n",
    "            scaler.step(optimizer)\n",
    "            scaler.update()\n",
    "            \n",
    "            train_loss += loss.item()\n",
    "            pbar.set_postfix(loss=loss.item())\n",
    "        \n",
    "        # Validation loop\n",
    "        model.eval()\n",
    "        val_loss = 0.0\n",
    "        preds, truths = [], []\n",
    "        with torch.no_grad():\n",
    "            for images, meta, targets in tqdm(val_loader, desc=f\"Epoch {epoch+1}/{epochs} [Val]\"):\n",
    "                images = images.cuda(non_blocking=True)\n",
    "                meta = meta.cuda(non_blocking=True)\n",
    "                targets = targets.cuda(non_blocking=True)\n",
    "                \n",
    "                with autocast(device_type='cuda'):\n",
    "                    outputs = model(images, meta)\n",
    "                    loss = criterion(outputs, targets)\n",
    "                \n",
    "                val_loss += loss.item()\n",
    "                preds.append(outputs.cpu().numpy())\n",
    "                truths.append(targets.cpu().numpy())\n",
    "        \n",
    "        # Metrics calculation\n",
    "        train_loss /= len(train_loader)\n",
    "        val_loss /= len(val_loader)\n",
    "        preds = np.concatenate(preds)\n",
    "        truths = np.concatenate(truths)\n",
    "        mae = mean_absolute_error(truths, preds)\n",
    "\n",
    "        val_mae_L.append(float(mae))\n",
    "        val_loss_L.append(float(val_loss))\n",
    "        train_loss_L.append(float(train_loss))\n",
    "        \n",
    "        print(f\"Epoch {epoch+1}/{epochs}\")\n",
    "        print(f\"Train Loss: {train_loss:.4f} | Val Loss: {val_loss:.4f} | Val MAE: {mae:.4f}\")\n",
    "        \n",
    "        # Model checkpointing based on MAE\n",
    "        if mae < best_mae:\n",
    "            best_mae = mae\n",
    "            torch.save(model.state_dict(), f\"best_model_fold{fold}.pth\")\n",
    "            json_dict[\"model_from_epoch\"] = f\"{epoch+1} with mae {mae}\"\n",
    "        \n",
    "        scheduler.step()\n",
    "\n",
    "    json_dict[\"val_mae\"] = val_mae_L\n",
    "    json_dict[\"val_loss\"] = val_loss_L\n",
    "    json_dict[\"train_loss\"] = train_loss_L\n",
    "    return best_mae, json_dict\n",
    "\n",
    "# Inference with TTA\n",
    "def predict(test_df, model_paths, batch_size=32):\n",
    "    test_df[\"path\"] = \"/kaggle/input/lacuna-solar-survey-challenge/images/\" + test_df[\"ID\"] + \".jpg\"\n",
    "    test_ds = SolarPanelDataset(test_df, transform=test_transform, to_train=False)\n",
    "    test_loader = DataLoader(test_ds, batch_size=batch_size, shuffle=False, num_workers=4)\n",
    "    \n",
    "    predictions = np.zeros((len(test_df), 2))\n",
    "    for path in model_paths:\n",
    "        model = EfficientNetV2Meta().cuda()\n",
    "        model.load_state_dict(torch.load(path, weights_only=True))  # Safer loading\n",
    "        model.eval()\n",
    "        \n",
    "        tta_preds = []\n",
    "        with torch.no_grad():\n",
    "            for images, meta in tqdm(test_loader, desc=\"Inference\"):\n",
    "                images = images.cuda()\n",
    "                meta = meta.cuda()\n",
    "                with autocast(device_type='cuda'):\n",
    "                    outputs = model(images, meta)\n",
    "                tta_preds.append(outputs.cpu().numpy())\n",
    "        \n",
    "        predictions += np.concatenate(tta_preds)\n",
    "    \n",
    "    return predictions / len(model_paths)\n",
    "\n",
    "# Main Execution\n",
    "if __name__ == \"__main__\":\n",
    "    output_json = {}\n",
    "    \n",
    "    # Train multiple folds\n",
    "    folds = 3\n",
    "    model_paths = []\n",
    "    for fold in range(folds):\n",
    "        output_json[f\"Fold {fold}\"] = {}\n",
    "        \n",
    "        print(f\"Training fold {fold+1}/{folds}\")\n",
    "        best_mae, json_dict = train(fold=fold, epochs=25, batch_size=16)\n",
    "        \n",
    "        output_json[f\"Fold {fold}\"][\"Results\"] = json_dict\n",
    "        output_json[f\"Fold {fold}\"][\"Best Mae\"] = float(best_mae)\n",
    "        \n",
    "        model_paths.append(f\"best_model_fold{fold}.pth\")\n",
    "\n",
    "    with open(\"results.json\", \"w\") as file:\n",
    "        json.dump(output_json, file, indent=4)\n",
    "    \n",
    "    # Prepare submission\n",
    "    test_df = pd.read_csv(\"/kaggle/input/lacuna-solar-survey-challenge/Test.csv\")\n",
    "    predictions = predict(test_df, model_paths, batch_size=64)\n",
    "    \n",
    "    # Create submissions\n",
    "    submission = pd.DataFrame({\n",
    "        \"ID\": np.repeat(test_df[\"ID\"].values, 2),\n",
    "        \"Target\": predictions.flatten()\n",
    "    })\n",
    "    submission[\"ID\"] += np.where(\n",
    "        submission.groupby(\"ID\").cumcount() == 0,\n",
    "        \"_boil\",\n",
    "        \"_pan\"\n",
    "    )\n",
    "    submission.to_csv(\"submission_original.csv\", index=False)\n",
    "    \n",
    "    int_submission = submission.copy()\n",
    "    int_submission[\"Target\"] = np.round(int_submission[\"Target\"]).astype(int)\n",
    "    int_submission.to_csv(\"submission_integer.csv\", index=False)\n",
    "    \n",
    "    print(\"Submissions saved with shapes:\", submission.shape, int_submission.shape)"
   ]
  }
 ],
 "metadata": {
  "accelerator": "GPU",
  "colab": {
   "gpuType": "T4",
   "provenance": []
  },
  "kaggle": {
   "accelerator": "nvidiaTeslaT4",
   "dataSources": [
    {
     "datasetId": 6691299,
     "sourceId": 10783793,
     "sourceType": "datasetVersion"
    }
   ],
   "dockerImageVersionId": 30919,
   "isGpuEnabled": true,
   "isInternetEnabled": true,
   "language": "python",
   "sourceType": "notebook"
  },
  "kernelspec": {
   "display_name": "Python 3",
   "language": "python",
   "name": "python3"
  },
  "language_info": {
   "codemirror_mode": {
    "name": "ipython",
    "version": 3
   },
   "file_extension": ".py",
   "mimetype": "text/x-python",
   "name": "python",
   "nbconvert_exporter": "python",
   "pygments_lexer": "ipython3",
   "version": "3.10.12"
  },
  "papermill": {
   "default_parameters": {},
   "duration": 15348.089312,
   "end_time": "2025-03-29T04:59:32.467654",
   "environment_variables": {},
   "exception": null,
   "input_path": "__notebook__.ipynb",
   "output_path": "__notebook__.ipynb",
   "parameters": {},
   "start_time": "2025-03-29T00:43:44.378342",
   "version": "2.6.0"
  },
  "widgets": {
   "application/vnd.jupyter.widget-state+json": {
    "state": {
     "2aa4bf95081f48e693abcd1feb8dcc77": {
      "model_module": "@jupyter-widgets/controls",
      "model_module_version": "2.0.0",
      "model_name": "HTMLModel",
      "state": {
       "_dom_classes": [],
       "_model_module": "@jupyter-widgets/controls",
       "_model_module_version": "2.0.0",
       "_model_name": "HTMLModel",
       "_view_count": null,
       "_view_module": "@jupyter-widgets/controls",
       "_view_module_version": "2.0.0",
       "_view_name": "HTMLView",
       "description": "",
       "description_allow_html": false,
       "layout": "IPY_MODEL_559f6935852947e18af57bc070e7a5f5",
       "placeholder": "​",
       "style": "IPY_MODEL_b75e57d99a524eea9aa455fc75ee1bdc",
       "tabbable": null,
       "tooltip": null,
       "value": " 57.9M/57.9M [00:00&lt;00:00, 159MB/s]"
      }
     },
     "3328eb3aad2e4e15bb1cfbfc3452ced2": {
      "model_module": "@jupyter-widgets/controls",
      "model_module_version": "2.0.0",
      "model_name": "HTMLModel",
      "state": {
       "_dom_classes": [],
       "_model_module": "@jupyter-widgets/controls",
       "_model_module_version": "2.0.0",
       "_model_name": "HTMLModel",
       "_view_count": null,
       "_view_module": "@jupyter-widgets/controls",
       "_view_module_version": "2.0.0",
       "_view_name": "HTMLView",
       "description": "",
       "description_allow_html": false,
       "layout": "IPY_MODEL_af29b51d319142c8bb34afccf069c120",
       "placeholder": "​",
       "style": "IPY_MODEL_e8bdc208e55f4c8cbcd7d85ffdc4d6e3",
       "tabbable": null,
       "tooltip": null,
       "value": "model.safetensors: 100%"
      }
     },
     "559f6935852947e18af57bc070e7a5f5": {
      "model_module": "@jupyter-widgets/base",
      "model_module_version": "2.0.0",
      "model_name": "LayoutModel",
      "state": {
       "_model_module": "@jupyter-widgets/base",
       "_model_module_version": "2.0.0",
       "_model_name": "LayoutModel",
       "_view_count": null,
       "_view_module": "@jupyter-widgets/base",
       "_view_module_version": "2.0.0",
       "_view_name": "LayoutView",
       "align_content": null,
       "align_items": null,
       "align_self": null,
       "border_bottom": null,
       "border_left": null,
       "border_right": null,
       "border_top": null,
       "bottom": null,
       "display": null,
       "flex": null,
       "flex_flow": null,
       "grid_area": null,
       "grid_auto_columns": null,
       "grid_auto_flow": null,
       "grid_auto_rows": null,
       "grid_column": null,
       "grid_gap": null,
       "grid_row": null,
       "grid_template_areas": null,
       "grid_template_columns": null,
       "grid_template_rows": null,
       "height": null,
       "justify_content": null,
       "justify_items": null,
       "left": null,
       "margin": null,
       "max_height": null,
       "max_width": null,
       "min_height": null,
       "min_width": null,
       "object_fit": null,
       "object_position": null,
       "order": null,
       "overflow": null,
       "padding": null,
       "right": null,
       "top": null,
       "visibility": null,
       "width": null
      }
     },
     "6392784224354c28b18e6f5d30dbaa5d": {
      "model_module": "@jupyter-widgets/controls",
      "model_module_version": "2.0.0",
      "model_name": "FloatProgressModel",
      "state": {
       "_dom_classes": [],
       "_model_module": "@jupyter-widgets/controls",
       "_model_module_version": "2.0.0",
       "_model_name": "FloatProgressModel",
       "_view_count": null,
       "_view_module": "@jupyter-widgets/controls",
       "_view_module_version": "2.0.0",
       "_view_name": "ProgressView",
       "bar_style": "success",
       "description": "",
       "description_allow_html": false,
       "layout": "IPY_MODEL_cce2f265b80e4ffcaa848e37fe0598a8",
       "max": 57929264.0,
       "min": 0.0,
       "orientation": "horizontal",
       "style": "IPY_MODEL_8ee243cd57fd433d811b204b509d16f8",
       "tabbable": null,
       "tooltip": null,
       "value": 57929264.0
      }
     },
     "8ee243cd57fd433d811b204b509d16f8": {
      "model_module": "@jupyter-widgets/controls",
      "model_module_version": "2.0.0",
      "model_name": "ProgressStyleModel",
      "state": {
       "_model_module": "@jupyter-widgets/controls",
       "_model_module_version": "2.0.0",
       "_model_name": "ProgressStyleModel",
       "_view_count": null,
       "_view_module": "@jupyter-widgets/base",
       "_view_module_version": "2.0.0",
       "_view_name": "StyleView",
       "bar_color": null,
       "description_width": ""
      }
     },
     "9e4125c5cbed4905ab4b7bb8d186a84f": {
      "model_module": "@jupyter-widgets/controls",
      "model_module_version": "2.0.0",
      "model_name": "HBoxModel",
      "state": {
       "_dom_classes": [],
       "_model_module": "@jupyter-widgets/controls",
       "_model_module_version": "2.0.0",
       "_model_name": "HBoxModel",
       "_view_count": null,
       "_view_module": "@jupyter-widgets/controls",
       "_view_module_version": "2.0.0",
       "_view_name": "HBoxView",
       "box_style": "",
       "children": [
        "IPY_MODEL_3328eb3aad2e4e15bb1cfbfc3452ced2",
        "IPY_MODEL_6392784224354c28b18e6f5d30dbaa5d",
        "IPY_MODEL_2aa4bf95081f48e693abcd1feb8dcc77"
       ],
       "layout": "IPY_MODEL_dbb17aa1e494452b8e6c19218967e525",
       "tabbable": null,
       "tooltip": null
      }
     },
     "af29b51d319142c8bb34afccf069c120": {
      "model_module": "@jupyter-widgets/base",
      "model_module_version": "2.0.0",
      "model_name": "LayoutModel",
      "state": {
       "_model_module": "@jupyter-widgets/base",
       "_model_module_version": "2.0.0",
       "_model_name": "LayoutModel",
       "_view_count": null,
       "_view_module": "@jupyter-widgets/base",
       "_view_module_version": "2.0.0",
       "_view_name": "LayoutView",
       "align_content": null,
       "align_items": null,
       "align_self": null,
       "border_bottom": null,
       "border_left": null,
       "border_right": null,
       "border_top": null,
       "bottom": null,
       "display": null,
       "flex": null,
       "flex_flow": null,
       "grid_area": null,
       "grid_auto_columns": null,
       "grid_auto_flow": null,
       "grid_auto_rows": null,
       "grid_column": null,
       "grid_gap": null,
       "grid_row": null,
       "grid_template_areas": null,
       "grid_template_columns": null,
       "grid_template_rows": null,
       "height": null,
       "justify_content": null,
       "justify_items": null,
       "left": null,
       "margin": null,
       "max_height": null,
       "max_width": null,
       "min_height": null,
       "min_width": null,
       "object_fit": null,
       "object_position": null,
       "order": null,
       "overflow": null,
       "padding": null,
       "right": null,
       "top": null,
       "visibility": null,
       "width": null
      }
     },
     "b75e57d99a524eea9aa455fc75ee1bdc": {
      "model_module": "@jupyter-widgets/controls",
      "model_module_version": "2.0.0",
      "model_name": "HTMLStyleModel",
      "state": {
       "_model_module": "@jupyter-widgets/controls",
       "_model_module_version": "2.0.0",
       "_model_name": "HTMLStyleModel",
       "_view_count": null,
       "_view_module": "@jupyter-widgets/base",
       "_view_module_version": "2.0.0",
       "_view_name": "StyleView",
       "background": null,
       "description_width": "",
       "font_size": null,
       "text_color": null
      }
     },
     "cce2f265b80e4ffcaa848e37fe0598a8": {
      "model_module": "@jupyter-widgets/base",
      "model_module_version": "2.0.0",
      "model_name": "LayoutModel",
      "state": {
       "_model_module": "@jupyter-widgets/base",
       "_model_module_version": "2.0.0",
       "_model_name": "LayoutModel",
       "_view_count": null,
       "_view_module": "@jupyter-widgets/base",
       "_view_module_version": "2.0.0",
       "_view_name": "LayoutView",
       "align_content": null,
       "align_items": null,
       "align_self": null,
       "border_bottom": null,
       "border_left": null,
       "border_right": null,
       "border_top": null,
       "bottom": null,
       "display": null,
       "flex": null,
       "flex_flow": null,
       "grid_area": null,
       "grid_auto_columns": null,
       "grid_auto_flow": null,
       "grid_auto_rows": null,
       "grid_column": null,
       "grid_gap": null,
       "grid_row": null,
       "grid_template_areas": null,
       "grid_template_columns": null,
       "grid_template_rows": null,
       "height": null,
       "justify_content": null,
       "justify_items": null,
       "left": null,
       "margin": null,
       "max_height": null,
       "max_width": null,
       "min_height": null,
       "min_width": null,
       "object_fit": null,
       "object_position": null,
       "order": null,
       "overflow": null,
       "padding": null,
       "right": null,
       "top": null,
       "visibility": null,
       "width": null
      }
     },
     "dbb17aa1e494452b8e6c19218967e525": {
      "model_module": "@jupyter-widgets/base",
      "model_module_version": "2.0.0",
      "model_name": "LayoutModel",
      "state": {
       "_model_module": "@jupyter-widgets/base",
       "_model_module_version": "2.0.0",
       "_model_name": "LayoutModel",
       "_view_count": null,
       "_view_module": "@jupyter-widgets/base",
       "_view_module_version": "2.0.0",
       "_view_name": "LayoutView",
       "align_content": null,
       "align_items": null,
       "align_self": null,
       "border_bottom": null,
       "border_left": null,
       "border_right": null,
       "border_top": null,
       "bottom": null,
       "display": null,
       "flex": null,
       "flex_flow": null,
       "grid_area": null,
       "grid_auto_columns": null,
       "grid_auto_flow": null,
       "grid_auto_rows": null,
       "grid_column": null,
       "grid_gap": null,
       "grid_row": null,
       "grid_template_areas": null,
       "grid_template_columns": null,
       "grid_template_rows": null,
       "height": null,
       "justify_content": null,
       "justify_items": null,
       "left": null,
       "margin": null,
       "max_height": null,
       "max_width": null,
       "min_height": null,
       "min_width": null,
       "object_fit": null,
       "object_position": null,
       "order": null,
       "overflow": null,
       "padding": null,
       "right": null,
       "top": null,
       "visibility": null,
       "width": null
      }
     },
     "e8bdc208e55f4c8cbcd7d85ffdc4d6e3": {
      "model_module": "@jupyter-widgets/controls",
      "model_module_version": "2.0.0",
      "model_name": "HTMLStyleModel",
      "state": {
       "_model_module": "@jupyter-widgets/controls",
       "_model_module_version": "2.0.0",
       "_model_name": "HTMLStyleModel",
       "_view_count": null,
       "_view_module": "@jupyter-widgets/base",
       "_view_module_version": "2.0.0",
       "_view_name": "StyleView",
       "background": null,
       "description_width": "",
       "font_size": null,
       "text_color": null
      }
     }
    },
    "version_major": 2,
    "version_minor": 0
   }
  }
 },
 "nbformat": 4,
 "nbformat_minor": 5
}
