{
 "cells": [
  {
   "cell_type": "markdown",
   "metadata": {},
   "source": [
    "# YOLO for Satellite and for Drone separately"
   ]
  },
  {
   "cell_type": "code",
   "execution_count": 3,
   "metadata": {},
   "outputs": [],
   "source": [
    "import pandas as pd\n",
    "from PIL import Image\n",
    "\n",
    "# Load the .pkl file\n",
    "df = pd.read_pickle(r\"C:\\Users\\gnvca\\OneDrive\\Desktop\\JP\\Model_Train.pkl\")\n",
    "#df = pd.read_pickle(r\"C:\\Users\\gnvca\\OneDrive\\Desktop\\JP\\Model_Val.pkl\")"
   ]
  },
  {
   "cell_type": "markdown",
   "metadata": {},
   "source": [
    "Preprocessing for YOLO"
   ]
  },
  {
   "cell_type": "code",
   "execution_count": 5,
   "metadata": {},
   "outputs": [],
   "source": [
    "\n",
    "def scale_polygon(polygon, scale=1.15):\n",
    "    \"\"\"Scales a polygon outward from its centroid.\"\"\"\n",
    "    xs, ys = zip(*polygon)\n",
    "    cx, cy = sum(xs) / len(xs), sum(ys) / len(ys)\n",
    "    return [(cx + scale * (x - cx), cy + scale * (y - cy)) for x, y in polygon]\n",
    "\n",
    "def polygon_to_yolo_bbox(polygon, img_width, img_height):\n",
    "    \"\"\"Converts polygon to YOLO normalized bbox.\"\"\"\n",
    "    xs, ys = zip(*polygon)\n",
    "    x_min, x_max = min(xs), max(xs)\n",
    "    y_min, y_max = min(ys), max(ys)\n",
    "    \n",
    "    x_center = ((x_min + x_max) / 2) / img_width\n",
    "    y_center = ((y_min + y_max) / 2) / img_height\n",
    "    width = (x_max - x_min) / img_width\n",
    "    height = (y_max - y_min) / img_height\n",
    "    \n",
    "    return x_center, y_center, width, height"
   ]
  },
  {
   "cell_type": "code",
   "execution_count": null,
   "metadata": {},
   "outputs": [],
   "source": [
    "import os\n",
    "import pandas as pd\n",
    "\n",
    "# Define the root directories for labels\n",
    "drone_label_dir_train = r\"C:\\Users\\gnvca\\OneDrive\\Desktop\\JP\\model03split\\drone\\dataset\\labels\\train\"\n",
    "drone_label_dir_val = r\"C:\\Users\\gnvca\\OneDrive\\Desktop\\JP\\model03split\\drone\\dataset\\labels\\val\"\n",
    "satellite_label_dir_train = r\"C:\\Users\\gnvca\\OneDrive\\Desktop\\JP\\model03split\\satellite\\dataset\\labels\\train\"\n",
    "satellite_label_dir_val = r\"C:\\Users\\gnvca\\OneDrive\\Desktop\\JP\\model03split\\satellite\\dataset\\labels\\val\"\n",
    "\n",
    "# Create directories if they do not exist\n",
    "os.makedirs(drone_label_dir_train, exist_ok=True)\n",
    "os.makedirs(drone_label_dir_val, exist_ok=True)\n",
    "os.makedirs(satellite_label_dir_train, exist_ok=True)\n",
    "os.makedirs(satellite_label_dir_val, exist_ok=True)\n",
    "\n",
    "image_width, image_height = 512, 512  # Replace with actual size if dynamic\n",
    "\n",
    "# Load the pickled data files (train and validation)\n",
    "train_df = pd.read_pickle('Model_Train.pkl')\n",
    "val_df = pd.read_pickle('Model_Val.pkl')\n",
    "\n",
    "# Function to process the labels and save to .txt files\n",
    "def process_labels(df_filtered, label_dir):\n",
    "    for idx, row in df_filtered.iterrows():\n",
    "        label_lines = []\n",
    "\n",
    "        # Process boilers (class 0)\n",
    "        for poly in row['polygons_boil']:\n",
    "            scaled_poly = scale_polygon(poly, scale=1.15)\n",
    "            x, y, w, h = polygon_to_yolo_bbox(scaled_poly, image_width, image_height)\n",
    "            label_lines.append(f\"0 {x:.6f} {y:.6f} {w:.6f} {h:.6f}\")\n",
    "\n",
    "        # Process panels (class 1)\n",
    "        for poly in row['polygons_pan']:\n",
    "            scaled_poly = scale_polygon(poly, scale=1.15)\n",
    "            x, y, w, h = polygon_to_yolo_bbox(scaled_poly, image_width, image_height)\n",
    "            label_lines.append(f\"1 {x:.6f} {y:.6f} {w:.6f} {h:.6f}\")\n",
    "\n",
    "        # Save to .txt file\n",
    "        label_path = os.path.join(label_dir, f\"{row['img_id']}.txt\")\n",
    "        with open(label_path, \"w\") as f:\n",
    "            f.write(\"\\n\".join(label_lines))\n",
    "\n",
    "# Process training and validation datasets for drone and satellite\n",
    "for img_origin in ['D', 'S']:\n",
    "    # Filter the dataframe based on the image origin\n",
    "    train_filtered = train_df[train_df['img_origin'] == img_origin]\n",
    "    val_filtered = val_df[val_df['img_origin'] == img_origin]\n",
    "\n",
    "    # Set the label directories based on the image origin and train/val\n",
    "    if img_origin == 'D':\n",
    "        train_label_dir = drone_label_dir_train\n",
    "        val_label_dir = drone_label_dir_val\n",
    "    else:\n",
    "        train_label_dir = satellite_label_dir_train\n",
    "        val_label_dir = satellite_label_dir_val\n",
    "\n",
    "    # Process and save training labels\n",
    "    process_labels(train_filtered, train_label_dir)\n",
    "\n",
    "    # Process and save validation labels\n",
    "    process_labels(val_filtered, val_label_dir)\n"
   ]
  },
  {
   "cell_type": "code",
   "execution_count": null,
   "metadata": {},
   "outputs": [],
   "source": [
    "import os\n",
    "import shutil\n",
    "import pandas as pd\n",
    "\n",
    "# Load the training and validation DataFrames\n",
    "df_train = pd.read_pickle(r\"C:\\Users\\gnvca\\OneDrive\\Desktop\\JP\\Model_Train.pkl\")\n",
    "df_val = pd.read_pickle(r\"C:\\Users\\gnvca\\OneDrive\\Desktop\\JP\\Model_Val.pkl\")\n",
    "\n",
    "# Paths\n",
    "image_dir = r\"C:\\Users\\gnvca\\OneDrive\\Desktop\\JP\\images\"  # Folder with original images\n",
    "\n",
    "# Create directories for drone and satellite images\n",
    "drone_train_dir = r\"C:\\Users\\gnvca\\OneDrive\\Desktop\\JP\\model03split\\drone\\dataset\\images\\train\"\n",
    "drone_val_dir = r\"C:\\Users\\gnvca\\OneDrive\\Desktop\\JP\\model03split\\drone\\dataset\\images\\val\"\n",
    "satellite_train_dir = r\"C:\\Users\\gnvca\\OneDrive\\Desktop\\JP\\model03split\\satellite\\dataset\\images\\train\"\n",
    "satellite_val_dir = r\"C:\\Users\\gnvca\\OneDrive\\Desktop\\JP\\model03split\\satellite\\dataset\\images\\val\"\n",
    "\n",
    "# Create the directories if they do not exist\n",
    "os.makedirs(drone_train_dir, exist_ok=True)\n",
    "os.makedirs(drone_val_dir, exist_ok=True)\n",
    "os.makedirs(satellite_train_dir, exist_ok=True)\n",
    "os.makedirs(satellite_val_dir, exist_ok=True)\n",
    "\n",
    "# Function to transfer images based on filtered dataframe\n",
    "def transfer_images(df_filtered, output_dir):\n",
    "    for img_id in df_filtered['img_id']:\n",
    "        src_path = os.path.join(image_dir, f\"{img_id}.jpg\")\n",
    "        dst_path = os.path.join(output_dir, f\"{img_id}.jpg\")\n",
    "\n",
    "        if os.path.exists(src_path):\n",
    "            shutil.copy2(src_path, dst_path)\n",
    "        else:\n",
    "            print(f\"⚠️ Warning: Image not found: {src_path}\")\n",
    "\n",
    "# Process images for both training and validation datasets\n",
    "for img_origin in ['D', 'S']:\n",
    "    # Filter train and val data based on the image origin\n",
    "    train_filtered = df_train[df_train['img_origin'] == img_origin]\n",
    "    val_filtered = df_val[df_val['img_origin'] == img_origin]\n",
    "\n",
    "    # Set the destination directories based on the image origin and train/val\n",
    "    if img_origin == 'D':\n",
    "        train_output_dir = drone_train_dir\n",
    "        val_output_dir = drone_val_dir\n",
    "    else:\n",
    "        train_output_dir = satellite_train_dir\n",
    "        val_output_dir = satellite_val_dir\n",
    "\n",
    "    # Transfer training images\n",
    "    transfer_images(train_filtered, train_output_dir)\n",
    "\n",
    "    # Transfer validation images\n",
    "    transfer_images(val_filtered, val_output_dir)\n"
   ]
  },
  {
   "cell_type": "markdown",
   "metadata": {},
   "source": [
    "Training YOLO"
   ]
  },
  {
   "cell_type": "code",
   "execution_count": null,
   "metadata": {},
   "outputs": [],
   "source": [
    "import os\n",
    "\n",
    "label_dir = r\"C:\\Users\\gnvca\\OneDrive\\Desktop\\JP\\model03S\\dataset\\labels\\train\"\n",
    "image_dir = r\"C:\\Users\\gnvca\\OneDrive\\Desktop\\JP\\model03S\\dataset\\images\\train\"\n",
    "\n",
    "label_files = set(f for f in os.listdir(label_dir) if f.endswith(\".txt\"))\n",
    "image_files = set(f for f in os.listdir(image_dir) if f.endswith(\".jpg\"))\n",
    "\n",
    "# Check for orphaned files (label without image, image without label)\n",
    "for f in label_files.union(image_files):\n",
    "    label_path = os.path.join(label_dir, f.replace(\".jpg\", \".txt\"))\n",
    "    image_path = os.path.join(image_dir, f.replace(\".txt\", \".jpg\"))\n",
    "\n",
    "    label_exists = os.path.exists(label_path)\n",
    "    image_exists = os.path.exists(image_path)\n",
    "\n",
    "    if not label_exists or not image_exists:\n",
    "        if label_exists:\n",
    "            os.remove(label_path)\n",
    "            print(f\"🗑️ Removed orphan label: {label_path}\")\n",
    "        if image_exists:\n",
    "            os.remove(image_path)\n",
    "            print(f\"🗑️ Removed orphan image: {image_path}\")\n",
    "\n",
    "# Now validate all remaining label files\n",
    "for file in os.listdir(label_dir):\n",
    "    if not file.endswith(\".txt\"):\n",
    "        continue\n",
    "\n",
    "    label_path = os.path.join(label_dir, file)\n",
    "    image_path = os.path.join(image_dir, file.replace(\".txt\", \".jpg\"))\n",
    "\n",
    "    with open(label_path, \"r\") as f:\n",
    "        lines = f.readlines()\n",
    "\n",
    "    valid_lines = []\n",
    "    for line in lines:\n",
    "        try:\n",
    "            parts = list(map(float, line.strip().split()))\n",
    "            if (\n",
    "                len(parts) == 5\n",
    "                and 0 <= parts[1] <= 1 and 0 <= parts[2] <= 1\n",
    "                and 0 < parts[3] <= 1 and 0 < parts[4] <= 1\n",
    "            ):\n",
    "                valid_lines.append(line)\n",
    "        except:\n",
    "            continue\n",
    "\n",
    "    if valid_lines:\n",
    "        with open(label_path, \"w\") as f:\n",
    "            f.writelines(valid_lines)\n",
    "    else:\n",
    "        os.remove(label_path)\n",
    "        if os.path.exists(image_path):\n",
    "            os.remove(image_path)\n",
    "            print(f\"🧹 Removed image+label with no valid annotations: {file.replace('.txt', '')}\")\n"
   ]
  },
  {
   "cell_type": "code",
   "execution_count": null,
   "metadata": {},
   "outputs": [],
   "source": [
    "for file in os.listdir(label_dir):\n",
    "    filepath = os.path.join(label_dir, file)\n",
    "    with open(filepath, \"r\") as f:\n",
    "        lines = f.readlines()\n",
    "    valid_lines = []\n",
    "    for line in lines:\n",
    "        try:\n",
    "            parts = list(map(float, line.strip().split()))\n",
    "            if 0 <= parts[1] <= 1 and 0 <= parts[2] <= 1 and 0 < parts[3] <= 1 and 0 < parts[4] <= 1:\n",
    "                valid_lines.append(line)\n",
    "        except:\n",
    "            continue\n",
    "    if valid_lines:\n",
    "        with open(filepath, \"w\") as f:\n",
    "            f.writelines(valid_lines)\n",
    "    else:\n",
    "        os.remove(filepath)  # Delete file with no valid labels\n"
   ]
  },
  {
   "cell_type": "markdown",
   "metadata": {},
   "source": [
    "Run this tomorrow morning, using the older yaml files to see if it doesn't mess up so badly."
   ]
  },
  {
   "cell_type": "code",
   "execution_count": 13,
   "metadata": {},
   "outputs": [
    {
     "name": "stdout",
     "output_type": "stream",
     "text": [
      "Ultralytics 8.3.94  Python-3.10.16 torch-2.6.0+cu126 CUDA:0 (NVIDIA GeForce RTX 4060, 8188MiB)\n",
      "\u001b[34m\u001b[1mengine\\trainer: \u001b[0mtask=detect, mode=train, model=yolov8m.pt, data=C:\\Users\\gnvca\\OneDrive\\Desktop\\JP\\model03split\\satellite\\yolo.yaml, epochs=75, time=None, patience=100, batch=16, imgsz=512, save=True, save_period=-1, cache=True, device=0, workers=4, project=ModelBuild, name=model03_yolo_drone, exist_ok=True, pretrained=True, optimizer=AdamW, verbose=True, seed=0, deterministic=True, single_cls=False, rect=False, cos_lr=False, close_mosaic=10, resume=False, amp=True, fraction=1.0, profile=False, freeze=None, multi_scale=False, overlap_mask=True, mask_ratio=4, dropout=0.0, val=True, split=val, save_json=False, save_hybrid=False, conf=0.2, iou=0.6, max_det=300, half=False, dnn=False, plots=True, source=None, vid_stride=1, stream_buffer=False, visualize=False, augment=False, agnostic_nms=False, classes=None, retina_masks=False, embed=None, show=False, save_frames=False, save_txt=False, save_conf=False, save_crop=False, show_labels=True, show_conf=True, show_boxes=True, line_width=None, format=torchscript, keras=False, optimize=False, int8=False, dynamic=False, simplify=True, opset=None, workspace=None, nms=False, lr0=0.01, lrf=0.01, momentum=0.937, weight_decay=0.0005, warmup_epochs=3.0, warmup_momentum=0.8, warmup_bias_lr=0.1, box=7.5, cls=0.5, dfl=1.5, pose=12.0, kobj=1.0, nbs=64, hsv_h=0.015, hsv_s=0.7, hsv_v=0.4, degrees=0.0, translate=0.1, scale=0.5, shear=0.0, perspective=0.0, flipud=0.0, fliplr=0.5, bgr=0.0, mosaic=1.0, mixup=0.0, copy_paste=0.0, copy_paste_mode=flip, auto_augment=randaugment, erasing=0.4, crop_fraction=1.0, cfg=None, tracker=botsort.yaml, save_dir=ModelBuild\\model03_yolo_drone\n",
      "Overriding model.yaml nc=80 with nc=2\n",
      "\n",
      "                   from  n    params  module                                       arguments                     \n",
      "  0                  -1  1      1392  ultralytics.nn.modules.conv.Conv             [3, 48, 3, 2]                 \n",
      "  1                  -1  1     41664  ultralytics.nn.modules.conv.Conv             [48, 96, 3, 2]                \n",
      "  2                  -1  2    111360  ultralytics.nn.modules.block.C2f             [96, 96, 2, True]             \n",
      "  3                  -1  1    166272  ultralytics.nn.modules.conv.Conv             [96, 192, 3, 2]               \n",
      "  4                  -1  4    813312  ultralytics.nn.modules.block.C2f             [192, 192, 4, True]           \n",
      "  5                  -1  1    664320  ultralytics.nn.modules.conv.Conv             [192, 384, 3, 2]              \n",
      "  6                  -1  4   3248640  ultralytics.nn.modules.block.C2f             [384, 384, 4, True]           \n",
      "  7                  -1  1   1991808  ultralytics.nn.modules.conv.Conv             [384, 576, 3, 2]              \n",
      "  8                  -1  2   3985920  ultralytics.nn.modules.block.C2f             [576, 576, 2, True]           \n",
      "  9                  -1  1    831168  ultralytics.nn.modules.block.SPPF            [576, 576, 5]                 \n",
      " 10                  -1  1         0  torch.nn.modules.upsampling.Upsample         [None, 2, 'nearest']          \n",
      " 11             [-1, 6]  1         0  ultralytics.nn.modules.conv.Concat           [1]                           \n",
      " 12                  -1  2   1993728  ultralytics.nn.modules.block.C2f             [960, 384, 2]                 \n",
      " 13                  -1  1         0  torch.nn.modules.upsampling.Upsample         [None, 2, 'nearest']          \n",
      " 14             [-1, 4]  1         0  ultralytics.nn.modules.conv.Concat           [1]                           \n",
      " 15                  -1  2    517632  ultralytics.nn.modules.block.C2f             [576, 192, 2]                 \n",
      " 16                  -1  1    332160  ultralytics.nn.modules.conv.Conv             [192, 192, 3, 2]              \n",
      " 17            [-1, 12]  1         0  ultralytics.nn.modules.conv.Concat           [1]                           \n",
      " 18                  -1  2   1846272  ultralytics.nn.modules.block.C2f             [576, 384, 2]                 \n",
      " 19                  -1  1   1327872  ultralytics.nn.modules.conv.Conv             [384, 384, 3, 2]              \n",
      " 20             [-1, 9]  1         0  ultralytics.nn.modules.conv.Concat           [1]                           \n",
      " 21                  -1  2   4207104  ultralytics.nn.modules.block.C2f             [960, 576, 2]                 \n",
      " 22        [15, 18, 21]  1   3776854  ultralytics.nn.modules.head.Detect           [2, [192, 384, 576]]          \n",
      "Model summary: 169 layers, 25,857,478 parameters, 25,857,462 gradients, 79.1 GFLOPs\n",
      "\n",
      "Transferred 469/475 items from pretrained weights\n",
      "Freezing layer 'model.22.dfl.conv.weight'\n",
      "\u001b[34m\u001b[1mAMP: \u001b[0mrunning Automatic Mixed Precision (AMP) checks...\n",
      "\u001b[34m\u001b[1mAMP: \u001b[0mchecks passed \n"
     ]
    },
    {
     "name": "stderr",
     "output_type": "stream",
     "text": [
      "\u001b[34m\u001b[1mtrain: \u001b[0mScanning C:\\Users\\gnvca\\OneDrive\\Desktop\\JP\\model03split\\satellite\\dataset\\labels\\train.cache... 441 images, 0 backgrounds, 0 corrupt: 100%|██████████| 441/441 [00:00<?, ?it/s]"
     ]
    },
    {
     "name": "stdout",
     "output_type": "stream",
     "text": [
      "WARNING  cache='ram' may produce non-deterministic training results. Consider cache='disk' as a deterministic alternative if your disk space allows.\n"
     ]
    },
    {
     "name": "stderr",
     "output_type": "stream",
     "text": [
      "\n",
      "\u001b[34m\u001b[1mtrain: \u001b[0mCaching images (0.3GB RAM): 100%|██████████| 441/441 [00:00<00:00, 2882.33it/s]\n",
      "\u001b[34m\u001b[1mval: \u001b[0mScanning C:\\Users\\gnvca\\OneDrive\\Desktop\\JP\\model03split\\satellite\\dataset\\labels\\val.cache... 120 images, 0 backgrounds, 0 corrupt: 100%|██████████| 120/120 [00:00<?, ?it/s]"
     ]
    },
    {
     "name": "stdout",
     "output_type": "stream",
     "text": [
      "WARNING  cache='ram' may produce non-deterministic training results. Consider cache='disk' as a deterministic alternative if your disk space allows.\n"
     ]
    },
    {
     "name": "stderr",
     "output_type": "stream",
     "text": [
      "\n",
      "\u001b[34m\u001b[1mval: \u001b[0mCaching images (0.1GB RAM): 100%|██████████| 120/120 [00:00<00:00, 2399.95it/s]\n"
     ]
    },
    {
     "name": "stdout",
     "output_type": "stream",
     "text": [
      "Plotting labels to ModelBuild\\model03_yolo_drone\\labels.jpg... \n",
      "\u001b[34m\u001b[1moptimizer:\u001b[0m AdamW(lr=0.01, momentum=0.937) with parameter groups 77 weight(decay=0.0), 84 weight(decay=0.0005), 83 bias(decay=0.0)\n",
      "Image sizes 512 train, 512 val\n",
      "Using 4 dataloader workers\n",
      "Logging results to \u001b[1mModelBuild\\model03_yolo_drone\u001b[0m\n",
      "Starting training for 75 epochs...\n",
      "\n",
      "      Epoch    GPU_mem   box_loss   cls_loss   dfl_loss  Instances       Size\n"
     ]
    },
    {
     "name": "stderr",
     "output_type": "stream",
     "text": [
      "       1/75       4.2G      2.406       5.15      2.032         29        512: 100%|██████████| 28/28 [00:07<00:00,  3.67it/s]\n",
      "                 Class     Images  Instances      Box(P          R      mAP50  mAP50-95): 100%|██████████| 4/4 [00:00<00:00,  5.63it/s]"
     ]
    },
    {
     "name": "stdout",
     "output_type": "stream",
     "text": [
      "                   all        120        218          0          0          0          0\n"
     ]
    },
    {
     "name": "stderr",
     "output_type": "stream",
     "text": [
      "\n"
     ]
    },
    {
     "name": "stdout",
     "output_type": "stream",
     "text": [
      "\n",
      "      Epoch    GPU_mem   box_loss   cls_loss   dfl_loss  Instances       Size\n"
     ]
    },
    {
     "name": "stderr",
     "output_type": "stream",
     "text": [
      "       2/75      5.18G      2.587      3.464      2.275         33        512: 100%|██████████| 28/28 [00:07<00:00,  3.90it/s]\n",
      "                 Class     Images  Instances      Box(P          R      mAP50  mAP50-95): 100%|██████████| 4/4 [00:00<00:00,  5.77it/s]"
     ]
    },
    {
     "name": "stdout",
     "output_type": "stream",
     "text": [
      "                   all        120        218          0          0          0          0\n"
     ]
    },
    {
     "name": "stderr",
     "output_type": "stream",
     "text": [
      "\n"
     ]
    },
    {
     "name": "stdout",
     "output_type": "stream",
     "text": [
      "\n",
      "      Epoch    GPU_mem   box_loss   cls_loss   dfl_loss  Instances       Size\n"
     ]
    },
    {
     "name": "stderr",
     "output_type": "stream",
     "text": [
      "       3/75      5.18G      2.593      3.075      2.295         32        512: 100%|██████████| 28/28 [00:07<00:00,  3.94it/s]\n",
      "                 Class     Images  Instances      Box(P          R      mAP50  mAP50-95): 100%|██████████| 4/4 [00:00<00:00,  5.65it/s]"
     ]
    },
    {
     "name": "stdout",
     "output_type": "stream",
     "text": [
      "                   all        120        218          0          0          0          0\n"
     ]
    },
    {
     "name": "stderr",
     "output_type": "stream",
     "text": [
      "\n"
     ]
    },
    {
     "name": "stdout",
     "output_type": "stream",
     "text": [
      "\n",
      "      Epoch    GPU_mem   box_loss   cls_loss   dfl_loss  Instances       Size\n"
     ]
    },
    {
     "name": "stderr",
     "output_type": "stream",
     "text": [
      "       4/75      5.18G       2.48      3.568      2.242         43        512: 100%|██████████| 28/28 [00:07<00:00,  3.98it/s]\n",
      "                 Class     Images  Instances      Box(P          R      mAP50  mAP50-95): 100%|██████████| 4/4 [00:00<00:00,  5.13it/s]"
     ]
    },
    {
     "name": "stdout",
     "output_type": "stream",
     "text": [
      "                   all        120        218          0          0          0          0\n"
     ]
    },
    {
     "name": "stderr",
     "output_type": "stream",
     "text": [
      "\n"
     ]
    },
    {
     "name": "stdout",
     "output_type": "stream",
     "text": [
      "\n",
      "      Epoch    GPU_mem   box_loss   cls_loss   dfl_loss  Instances       Size\n"
     ]
    },
    {
     "name": "stderr",
     "output_type": "stream",
     "text": [
      "       5/75      5.18G      2.386      3.029      2.163         23        512: 100%|██████████| 28/28 [00:07<00:00,  3.98it/s]\n",
      "                 Class     Images  Instances      Box(P          R      mAP50  mAP50-95): 100%|██████████| 4/4 [00:00<00:00,  5.05it/s]"
     ]
    },
    {
     "name": "stdout",
     "output_type": "stream",
     "text": [
      "                   all        120        218      0.018      0.061     0.0063    0.00196\n"
     ]
    },
    {
     "name": "stderr",
     "output_type": "stream",
     "text": [
      "\n"
     ]
    },
    {
     "name": "stdout",
     "output_type": "stream",
     "text": [
      "\n",
      "      Epoch    GPU_mem   box_loss   cls_loss   dfl_loss  Instances       Size\n"
     ]
    },
    {
     "name": "stderr",
     "output_type": "stream",
     "text": [
      "       6/75      5.18G      2.295      2.728      2.085         26        512: 100%|██████████| 28/28 [00:07<00:00,  3.99it/s]\n",
      "                 Class     Images  Instances      Box(P          R      mAP50  mAP50-95): 100%|██████████| 4/4 [00:00<00:00,  5.01it/s]"
     ]
    },
    {
     "name": "stdout",
     "output_type": "stream",
     "text": [
      "                   all        120        218      0.104     0.0822     0.0582     0.0199\n"
     ]
    },
    {
     "name": "stderr",
     "output_type": "stream",
     "text": [
      "\n"
     ]
    },
    {
     "name": "stdout",
     "output_type": "stream",
     "text": [
      "\n",
      "      Epoch    GPU_mem   box_loss   cls_loss   dfl_loss  Instances       Size\n"
     ]
    },
    {
     "name": "stderr",
     "output_type": "stream",
     "text": [
      "       7/75      5.18G      2.262      2.629      2.076         27        512: 100%|██████████| 28/28 [00:07<00:00,  3.97it/s]\n",
      "                 Class     Images  Instances      Box(P          R      mAP50  mAP50-95): 100%|██████████| 4/4 [00:00<00:00,  5.15it/s]"
     ]
    },
    {
     "name": "stdout",
     "output_type": "stream",
     "text": [
      "                   all        120        218     0.0789       0.13     0.0917     0.0263\n"
     ]
    },
    {
     "name": "stderr",
     "output_type": "stream",
     "text": [
      "\n"
     ]
    },
    {
     "name": "stdout",
     "output_type": "stream",
     "text": [
      "\n",
      "      Epoch    GPU_mem   box_loss   cls_loss   dfl_loss  Instances       Size\n"
     ]
    },
    {
     "name": "stderr",
     "output_type": "stream",
     "text": [
      "       8/75      5.18G      2.206      2.475      1.983         32        512: 100%|██████████| 28/28 [00:07<00:00,  3.98it/s]\n",
      "                 Class     Images  Instances      Box(P          R      mAP50  mAP50-95): 100%|██████████| 4/4 [00:00<00:00,  4.92it/s]"
     ]
    },
    {
     "name": "stdout",
     "output_type": "stream",
     "text": [
      "                   all        120        218      0.787      0.219      0.235     0.0896\n"
     ]
    },
    {
     "name": "stderr",
     "output_type": "stream",
     "text": [
      "\n"
     ]
    },
    {
     "name": "stdout",
     "output_type": "stream",
     "text": [
      "\n",
      "      Epoch    GPU_mem   box_loss   cls_loss   dfl_loss  Instances       Size\n"
     ]
    },
    {
     "name": "stderr",
     "output_type": "stream",
     "text": [
      "       9/75      5.18G      2.111      2.374      1.945         28        512: 100%|██████████| 28/28 [00:07<00:00,  3.99it/s]\n",
      "                 Class     Images  Instances      Box(P          R      mAP50  mAP50-95): 100%|██████████| 4/4 [00:00<00:00,  5.00it/s]"
     ]
    },
    {
     "name": "stdout",
     "output_type": "stream",
     "text": [
      "                   all        120        218        0.3      0.259      0.282      0.107\n"
     ]
    },
    {
     "name": "stderr",
     "output_type": "stream",
     "text": [
      "\n"
     ]
    },
    {
     "name": "stdout",
     "output_type": "stream",
     "text": [
      "\n",
      "      Epoch    GPU_mem   box_loss   cls_loss   dfl_loss  Instances       Size\n"
     ]
    },
    {
     "name": "stderr",
     "output_type": "stream",
     "text": [
      "      10/75      5.25G      2.101      2.364      1.892         26        512: 100%|██████████| 28/28 [00:07<00:00,  3.99it/s]\n",
      "                 Class     Images  Instances      Box(P          R      mAP50  mAP50-95): 100%|██████████| 4/4 [00:00<00:00,  5.34it/s]"
     ]
    },
    {
     "name": "stdout",
     "output_type": "stream",
     "text": [
      "                   all        120        218      0.741      0.211      0.491      0.163\n"
     ]
    },
    {
     "name": "stderr",
     "output_type": "stream",
     "text": [
      "\n"
     ]
    },
    {
     "name": "stdout",
     "output_type": "stream",
     "text": [
      "\n",
      "      Epoch    GPU_mem   box_loss   cls_loss   dfl_loss  Instances       Size\n"
     ]
    },
    {
     "name": "stderr",
     "output_type": "stream",
     "text": [
      "      11/75      5.31G        2.1      2.226      1.922         32        512: 100%|██████████| 28/28 [00:07<00:00,  3.98it/s]\n",
      "                 Class     Images  Instances      Box(P          R      mAP50  mAP50-95): 100%|██████████| 4/4 [00:00<00:00,  5.25it/s]"
     ]
    },
    {
     "name": "stdout",
     "output_type": "stream",
     "text": [
      "                   all        120        218      0.262      0.164      0.154     0.0563\n"
     ]
    },
    {
     "name": "stderr",
     "output_type": "stream",
     "text": [
      "\n"
     ]
    },
    {
     "name": "stdout",
     "output_type": "stream",
     "text": [
      "\n",
      "      Epoch    GPU_mem   box_loss   cls_loss   dfl_loss  Instances       Size\n"
     ]
    },
    {
     "name": "stderr",
     "output_type": "stream",
     "text": [
      "      12/75      5.38G      2.059      2.284      1.919         52        512: 100%|██████████| 28/28 [00:07<00:00,  3.97it/s]\n",
      "                 Class     Images  Instances      Box(P          R      mAP50  mAP50-95): 100%|██████████| 4/4 [00:00<00:00,  5.17it/s]"
     ]
    },
    {
     "name": "stdout",
     "output_type": "stream",
     "text": [
      "                   all        120        218      0.399      0.229      0.289     0.0963\n"
     ]
    },
    {
     "name": "stderr",
     "output_type": "stream",
     "text": [
      "\n"
     ]
    },
    {
     "name": "stdout",
     "output_type": "stream",
     "text": [
      "\n",
      "      Epoch    GPU_mem   box_loss   cls_loss   dfl_loss  Instances       Size\n"
     ]
    },
    {
     "name": "stderr",
     "output_type": "stream",
     "text": [
      "      13/75      5.44G      1.988      2.159       1.86         26        512: 100%|██████████| 28/28 [00:07<00:00,  3.99it/s]\n",
      "                 Class     Images  Instances      Box(P          R      mAP50  mAP50-95): 100%|██████████| 4/4 [00:00<00:00,  5.11it/s]"
     ]
    },
    {
     "name": "stdout",
     "output_type": "stream",
     "text": [
      "                   all        120        218      0.282      0.193      0.199     0.0763\n"
     ]
    },
    {
     "name": "stderr",
     "output_type": "stream",
     "text": [
      "\n"
     ]
    },
    {
     "name": "stdout",
     "output_type": "stream",
     "text": [
      "\n",
      "      Epoch    GPU_mem   box_loss   cls_loss   dfl_loss  Instances       Size\n"
     ]
    },
    {
     "name": "stderr",
     "output_type": "stream",
     "text": [
      "      14/75      5.51G      2.036      2.072      1.857         30        512: 100%|██████████| 28/28 [00:07<00:00,  3.99it/s]\n",
      "                 Class     Images  Instances      Box(P          R      mAP50  mAP50-95): 100%|██████████| 4/4 [00:00<00:00,  5.18it/s]"
     ]
    },
    {
     "name": "stdout",
     "output_type": "stream",
     "text": [
      "                   all        120        218      0.405      0.325      0.337      0.146\n"
     ]
    },
    {
     "name": "stderr",
     "output_type": "stream",
     "text": [
      "\n"
     ]
    },
    {
     "name": "stdout",
     "output_type": "stream",
     "text": [
      "\n",
      "      Epoch    GPU_mem   box_loss   cls_loss   dfl_loss  Instances       Size\n"
     ]
    },
    {
     "name": "stderr",
     "output_type": "stream",
     "text": [
      "      15/75      5.57G      1.978      2.052      1.856         26        512: 100%|██████████| 28/28 [00:07<00:00,  3.99it/s]\n",
      "                 Class     Images  Instances      Box(P          R      mAP50  mAP50-95): 100%|██████████| 4/4 [00:00<00:00,  5.50it/s]"
     ]
    },
    {
     "name": "stdout",
     "output_type": "stream",
     "text": [
      "                   all        120        218      0.246     0.0882      0.154     0.0546\n"
     ]
    },
    {
     "name": "stderr",
     "output_type": "stream",
     "text": [
      "\n"
     ]
    },
    {
     "name": "stdout",
     "output_type": "stream",
     "text": [
      "\n",
      "      Epoch    GPU_mem   box_loss   cls_loss   dfl_loss  Instances       Size\n"
     ]
    },
    {
     "name": "stderr",
     "output_type": "stream",
     "text": [
      "      16/75      5.64G      1.924      2.035      1.792         29        512: 100%|██████████| 28/28 [00:07<00:00,  3.99it/s]\n",
      "                 Class     Images  Instances      Box(P          R      mAP50  mAP50-95): 100%|██████████| 4/4 [00:00<00:00,  5.11it/s]"
     ]
    },
    {
     "name": "stdout",
     "output_type": "stream",
     "text": [
      "                   all        120        218      0.379      0.368      0.339      0.141\n"
     ]
    },
    {
     "name": "stderr",
     "output_type": "stream",
     "text": [
      "\n"
     ]
    },
    {
     "name": "stdout",
     "output_type": "stream",
     "text": [
      "\n",
      "      Epoch    GPU_mem   box_loss   cls_loss   dfl_loss  Instances       Size\n"
     ]
    },
    {
     "name": "stderr",
     "output_type": "stream",
     "text": [
      "      17/75      5.74G        1.9      1.977      1.783         25        512: 100%|██████████| 28/28 [00:07<00:00,  3.98it/s]\n",
      "                 Class     Images  Instances      Box(P          R      mAP50  mAP50-95): 100%|██████████| 4/4 [00:00<00:00,  4.88it/s]"
     ]
    },
    {
     "name": "stdout",
     "output_type": "stream",
     "text": [
      "                   all        120        218      0.366      0.334      0.354      0.132\n"
     ]
    },
    {
     "name": "stderr",
     "output_type": "stream",
     "text": [
      "\n"
     ]
    },
    {
     "name": "stdout",
     "output_type": "stream",
     "text": [
      "\n",
      "      Epoch    GPU_mem   box_loss   cls_loss   dfl_loss  Instances       Size\n"
     ]
    },
    {
     "name": "stderr",
     "output_type": "stream",
     "text": [
      "      18/75      5.74G      1.907      1.968      1.831         32        512: 100%|██████████| 28/28 [00:07<00:00,  3.98it/s]\n",
      "                 Class     Images  Instances      Box(P          R      mAP50  mAP50-95): 100%|██████████| 4/4 [00:00<00:00,  5.03it/s]"
     ]
    },
    {
     "name": "stdout",
     "output_type": "stream",
     "text": [
      "                   all        120        218      0.545      0.383      0.415      0.188\n"
     ]
    },
    {
     "name": "stderr",
     "output_type": "stream",
     "text": [
      "\n"
     ]
    },
    {
     "name": "stdout",
     "output_type": "stream",
     "text": [
      "\n",
      "      Epoch    GPU_mem   box_loss   cls_loss   dfl_loss  Instances       Size\n"
     ]
    },
    {
     "name": "stderr",
     "output_type": "stream",
     "text": [
      "      19/75      5.74G      1.861        1.9      1.726         22        512: 100%|██████████| 28/28 [00:07<00:00,  3.98it/s]\n",
      "                 Class     Images  Instances      Box(P          R      mAP50  mAP50-95): 100%|██████████| 4/4 [00:00<00:00,  5.08it/s]"
     ]
    },
    {
     "name": "stdout",
     "output_type": "stream",
     "text": [
      "                   all        120        218      0.569      0.429      0.502      0.238\n"
     ]
    },
    {
     "name": "stderr",
     "output_type": "stream",
     "text": [
      "\n"
     ]
    },
    {
     "name": "stdout",
     "output_type": "stream",
     "text": [
      "\n",
      "      Epoch    GPU_mem   box_loss   cls_loss   dfl_loss  Instances       Size\n"
     ]
    },
    {
     "name": "stderr",
     "output_type": "stream",
     "text": [
      "      20/75      5.74G      1.843       1.91      1.768         23        512: 100%|██████████| 28/28 [00:07<00:00,  3.98it/s]\n",
      "                 Class     Images  Instances      Box(P          R      mAP50  mAP50-95): 100%|██████████| 4/4 [00:00<00:00,  4.99it/s]"
     ]
    },
    {
     "name": "stdout",
     "output_type": "stream",
     "text": [
      "                   all        120        218      0.366      0.458       0.45      0.214\n"
     ]
    },
    {
     "name": "stderr",
     "output_type": "stream",
     "text": [
      "\n"
     ]
    },
    {
     "name": "stdout",
     "output_type": "stream",
     "text": [
      "\n",
      "      Epoch    GPU_mem   box_loss   cls_loss   dfl_loss  Instances       Size\n"
     ]
    },
    {
     "name": "stderr",
     "output_type": "stream",
     "text": [
      "      21/75      5.74G      1.839      1.779      1.729         18        512: 100%|██████████| 28/28 [00:07<00:00,  3.98it/s]\n",
      "                 Class     Images  Instances      Box(P          R      mAP50  mAP50-95): 100%|██████████| 4/4 [00:00<00:00,  4.81it/s]"
     ]
    },
    {
     "name": "stdout",
     "output_type": "stream",
     "text": [
      "                   all        120        218      0.411       0.38      0.366      0.159\n"
     ]
    },
    {
     "name": "stderr",
     "output_type": "stream",
     "text": [
      "\n"
     ]
    },
    {
     "name": "stdout",
     "output_type": "stream",
     "text": [
      "\n",
      "      Epoch    GPU_mem   box_loss   cls_loss   dfl_loss  Instances       Size\n"
     ]
    },
    {
     "name": "stderr",
     "output_type": "stream",
     "text": [
      "      22/75      5.74G      1.801      1.756      1.732         25        512: 100%|██████████| 28/28 [00:07<00:00,  3.98it/s]\n",
      "                 Class     Images  Instances      Box(P          R      mAP50  mAP50-95): 100%|██████████| 4/4 [00:00<00:00,  5.08it/s]"
     ]
    },
    {
     "name": "stdout",
     "output_type": "stream",
     "text": [
      "                   all        120        218       0.43      0.353      0.369      0.168\n"
     ]
    },
    {
     "name": "stderr",
     "output_type": "stream",
     "text": [
      "\n"
     ]
    },
    {
     "name": "stdout",
     "output_type": "stream",
     "text": [
      "\n",
      "      Epoch    GPU_mem   box_loss   cls_loss   dfl_loss  Instances       Size\n"
     ]
    },
    {
     "name": "stderr",
     "output_type": "stream",
     "text": [
      "      23/75      5.74G      1.714      1.683      1.656         38        512: 100%|██████████| 28/28 [00:07<00:00,  3.98it/s]\n",
      "                 Class     Images  Instances      Box(P          R      mAP50  mAP50-95): 100%|██████████| 4/4 [00:00<00:00,  5.10it/s]"
     ]
    },
    {
     "name": "stdout",
     "output_type": "stream",
     "text": [
      "                   all        120        218      0.505      0.433      0.467      0.206\n"
     ]
    },
    {
     "name": "stderr",
     "output_type": "stream",
     "text": [
      "\n"
     ]
    },
    {
     "name": "stdout",
     "output_type": "stream",
     "text": [
      "\n",
      "      Epoch    GPU_mem   box_loss   cls_loss   dfl_loss  Instances       Size\n"
     ]
    },
    {
     "name": "stderr",
     "output_type": "stream",
     "text": [
      "      24/75      5.74G      1.758      1.654      1.669         40        512: 100%|██████████| 28/28 [00:07<00:00,  3.98it/s]\n",
      "                 Class     Images  Instances      Box(P          R      mAP50  mAP50-95): 100%|██████████| 4/4 [00:00<00:00,  4.97it/s]"
     ]
    },
    {
     "name": "stdout",
     "output_type": "stream",
     "text": [
      "                   all        120        218      0.443       0.39      0.431      0.189\n"
     ]
    },
    {
     "name": "stderr",
     "output_type": "stream",
     "text": [
      "\n"
     ]
    },
    {
     "name": "stdout",
     "output_type": "stream",
     "text": [
      "\n",
      "      Epoch    GPU_mem   box_loss   cls_loss   dfl_loss  Instances       Size\n"
     ]
    },
    {
     "name": "stderr",
     "output_type": "stream",
     "text": [
      "      25/75      5.74G      1.717      1.609      1.665         38        512: 100%|██████████| 28/28 [00:07<00:00,  3.98it/s]\n",
      "                 Class     Images  Instances      Box(P          R      mAP50  mAP50-95): 100%|██████████| 4/4 [00:00<00:00,  5.07it/s]"
     ]
    },
    {
     "name": "stdout",
     "output_type": "stream",
     "text": [
      "                   all        120        218      0.609      0.367      0.478      0.217\n"
     ]
    },
    {
     "name": "stderr",
     "output_type": "stream",
     "text": [
      "\n"
     ]
    },
    {
     "name": "stdout",
     "output_type": "stream",
     "text": [
      "\n",
      "      Epoch    GPU_mem   box_loss   cls_loss   dfl_loss  Instances       Size\n"
     ]
    },
    {
     "name": "stderr",
     "output_type": "stream",
     "text": [
      "      26/75      5.74G      1.748      1.648      1.701         33        512: 100%|██████████| 28/28 [00:07<00:00,  3.99it/s]\n",
      "                 Class     Images  Instances      Box(P          R      mAP50  mAP50-95): 100%|██████████| 4/4 [00:00<00:00,  4.97it/s]"
     ]
    },
    {
     "name": "stdout",
     "output_type": "stream",
     "text": [
      "                   all        120        218      0.485      0.442      0.469      0.193\n"
     ]
    },
    {
     "name": "stderr",
     "output_type": "stream",
     "text": [
      "\n"
     ]
    },
    {
     "name": "stdout",
     "output_type": "stream",
     "text": [
      "\n",
      "      Epoch    GPU_mem   box_loss   cls_loss   dfl_loss  Instances       Size\n"
     ]
    },
    {
     "name": "stderr",
     "output_type": "stream",
     "text": [
      "      27/75      5.74G      1.728      1.594      1.655         29        512: 100%|██████████| 28/28 [00:07<00:00,  3.98it/s]\n",
      "                 Class     Images  Instances      Box(P          R      mAP50  mAP50-95): 100%|██████████| 4/4 [00:00<00:00,  4.98it/s]"
     ]
    },
    {
     "name": "stdout",
     "output_type": "stream",
     "text": [
      "                   all        120        218      0.607      0.387      0.462       0.21\n"
     ]
    },
    {
     "name": "stderr",
     "output_type": "stream",
     "text": [
      "\n"
     ]
    },
    {
     "name": "stdout",
     "output_type": "stream",
     "text": [
      "\n",
      "      Epoch    GPU_mem   box_loss   cls_loss   dfl_loss  Instances       Size\n"
     ]
    },
    {
     "name": "stderr",
     "output_type": "stream",
     "text": [
      "      28/75      5.74G       1.68      1.607      1.634         20        512: 100%|██████████| 28/28 [00:07<00:00,  3.98it/s]\n",
      "                 Class     Images  Instances      Box(P          R      mAP50  mAP50-95): 100%|██████████| 4/4 [00:00<00:00,  5.15it/s]"
     ]
    },
    {
     "name": "stdout",
     "output_type": "stream",
     "text": [
      "                   all        120        218      0.493      0.382      0.455      0.189\n"
     ]
    },
    {
     "name": "stderr",
     "output_type": "stream",
     "text": [
      "\n"
     ]
    },
    {
     "name": "stdout",
     "output_type": "stream",
     "text": [
      "\n",
      "      Epoch    GPU_mem   box_loss   cls_loss   dfl_loss  Instances       Size\n"
     ]
    },
    {
     "name": "stderr",
     "output_type": "stream",
     "text": [
      "      29/75      5.74G      1.687      1.542      1.623         33        512: 100%|██████████| 28/28 [00:07<00:00,  3.97it/s]\n",
      "                 Class     Images  Instances      Box(P          R      mAP50  mAP50-95): 100%|██████████| 4/4 [00:00<00:00,  4.99it/s]"
     ]
    },
    {
     "name": "stdout",
     "output_type": "stream",
     "text": [
      "                   all        120        218      0.304      0.275       0.25      0.103\n"
     ]
    },
    {
     "name": "stderr",
     "output_type": "stream",
     "text": [
      "\n"
     ]
    },
    {
     "name": "stdout",
     "output_type": "stream",
     "text": [
      "\n",
      "      Epoch    GPU_mem   box_loss   cls_loss   dfl_loss  Instances       Size\n"
     ]
    },
    {
     "name": "stderr",
     "output_type": "stream",
     "text": [
      "      30/75      5.74G      1.701      1.603      1.648         24        512: 100%|██████████| 28/28 [00:07<00:00,  3.97it/s]\n",
      "                 Class     Images  Instances      Box(P          R      mAP50  mAP50-95): 100%|██████████| 4/4 [00:00<00:00,  4.90it/s]\n"
     ]
    },
    {
     "name": "stdout",
     "output_type": "stream",
     "text": [
      "                   all        120        218      0.475      0.261      0.324      0.149\n",
      "\n",
      "      Epoch    GPU_mem   box_loss   cls_loss   dfl_loss  Instances       Size\n"
     ]
    },
    {
     "name": "stderr",
     "output_type": "stream",
     "text": [
      "      31/75      5.74G      1.662        1.5      1.631         29        512: 100%|██████████| 28/28 [00:07<00:00,  3.99it/s]\n",
      "                 Class     Images  Instances      Box(P          R      mAP50  mAP50-95): 100%|██████████| 4/4 [00:00<00:00,  5.05it/s]"
     ]
    },
    {
     "name": "stdout",
     "output_type": "stream",
     "text": [
      "                   all        120        218      0.556      0.433      0.496      0.239\n"
     ]
    },
    {
     "name": "stderr",
     "output_type": "stream",
     "text": [
      "\n"
     ]
    },
    {
     "name": "stdout",
     "output_type": "stream",
     "text": [
      "\n",
      "      Epoch    GPU_mem   box_loss   cls_loss   dfl_loss  Instances       Size\n"
     ]
    },
    {
     "name": "stderr",
     "output_type": "stream",
     "text": [
      "      32/75      5.74G      1.579      1.469      1.586         29        512: 100%|██████████| 28/28 [00:07<00:00,  3.97it/s]\n",
      "                 Class     Images  Instances      Box(P          R      mAP50  mAP50-95): 100%|██████████| 4/4 [00:00<00:00,  5.01it/s]"
     ]
    },
    {
     "name": "stdout",
     "output_type": "stream",
     "text": [
      "                   all        120        218      0.591      0.383      0.495       0.24\n"
     ]
    },
    {
     "name": "stderr",
     "output_type": "stream",
     "text": [
      "\n"
     ]
    },
    {
     "name": "stdout",
     "output_type": "stream",
     "text": [
      "\n",
      "      Epoch    GPU_mem   box_loss   cls_loss   dfl_loss  Instances       Size\n"
     ]
    },
    {
     "name": "stderr",
     "output_type": "stream",
     "text": [
      "      33/75      5.74G      1.647      1.453      1.621         27        512: 100%|██████████| 28/28 [00:07<00:00,  3.97it/s]\n",
      "                 Class     Images  Instances      Box(P          R      mAP50  mAP50-95): 100%|██████████| 4/4 [00:00<00:00,  5.00it/s]"
     ]
    },
    {
     "name": "stdout",
     "output_type": "stream",
     "text": [
      "                   all        120        218      0.411      0.478      0.471      0.217\n"
     ]
    },
    {
     "name": "stderr",
     "output_type": "stream",
     "text": [
      "\n"
     ]
    },
    {
     "name": "stdout",
     "output_type": "stream",
     "text": [
      "\n",
      "      Epoch    GPU_mem   box_loss   cls_loss   dfl_loss  Instances       Size\n"
     ]
    },
    {
     "name": "stderr",
     "output_type": "stream",
     "text": [
      "      34/75      5.74G      1.627      1.435      1.579         27        512: 100%|██████████| 28/28 [00:07<00:00,  3.98it/s]\n",
      "                 Class     Images  Instances      Box(P          R      mAP50  mAP50-95): 100%|██████████| 4/4 [00:00<00:00,  5.01it/s]"
     ]
    },
    {
     "name": "stdout",
     "output_type": "stream",
     "text": [
      "                   all        120        218      0.473      0.485       0.49      0.211\n"
     ]
    },
    {
     "name": "stderr",
     "output_type": "stream",
     "text": [
      "\n"
     ]
    },
    {
     "name": "stdout",
     "output_type": "stream",
     "text": [
      "\n",
      "      Epoch    GPU_mem   box_loss   cls_loss   dfl_loss  Instances       Size\n"
     ]
    },
    {
     "name": "stderr",
     "output_type": "stream",
     "text": [
      "      35/75      5.74G      1.581      1.415      1.572         17        512: 100%|██████████| 28/28 [00:07<00:00,  3.98it/s]\n",
      "                 Class     Images  Instances      Box(P          R      mAP50  mAP50-95): 100%|██████████| 4/4 [00:00<00:00,  5.02it/s]"
     ]
    },
    {
     "name": "stdout",
     "output_type": "stream",
     "text": [
      "                   all        120        218      0.489      0.406      0.428      0.191\n"
     ]
    },
    {
     "name": "stderr",
     "output_type": "stream",
     "text": [
      "\n"
     ]
    },
    {
     "name": "stdout",
     "output_type": "stream",
     "text": [
      "\n",
      "      Epoch    GPU_mem   box_loss   cls_loss   dfl_loss  Instances       Size\n"
     ]
    },
    {
     "name": "stderr",
     "output_type": "stream",
     "text": [
      "      36/75      5.74G      1.567      1.339      1.527         30        512: 100%|██████████| 28/28 [00:07<00:00,  3.98it/s]\n",
      "                 Class     Images  Instances      Box(P          R      mAP50  mAP50-95): 100%|██████████| 4/4 [00:00<00:00,  5.10it/s]"
     ]
    },
    {
     "name": "stdout",
     "output_type": "stream",
     "text": [
      "                   all        120        218      0.402      0.401      0.429      0.178\n"
     ]
    },
    {
     "name": "stderr",
     "output_type": "stream",
     "text": [
      "\n"
     ]
    },
    {
     "name": "stdout",
     "output_type": "stream",
     "text": [
      "\n",
      "      Epoch    GPU_mem   box_loss   cls_loss   dfl_loss  Instances       Size\n"
     ]
    },
    {
     "name": "stderr",
     "output_type": "stream",
     "text": [
      "      37/75      5.74G      1.569      1.372      1.533         18        512: 100%|██████████| 28/28 [00:07<00:00,  3.98it/s]\n",
      "                 Class     Images  Instances      Box(P          R      mAP50  mAP50-95): 100%|██████████| 4/4 [00:00<00:00,  5.00it/s]"
     ]
    },
    {
     "name": "stdout",
     "output_type": "stream",
     "text": [
      "                   all        120        218       0.54       0.39       0.44      0.197\n"
     ]
    },
    {
     "name": "stderr",
     "output_type": "stream",
     "text": [
      "\n"
     ]
    },
    {
     "name": "stdout",
     "output_type": "stream",
     "text": [
      "\n",
      "      Epoch    GPU_mem   box_loss   cls_loss   dfl_loss  Instances       Size\n"
     ]
    },
    {
     "name": "stderr",
     "output_type": "stream",
     "text": [
      "      38/75      5.74G      1.517      1.341      1.554         28        512: 100%|██████████| 28/28 [00:07<00:00,  3.98it/s]\n",
      "                 Class     Images  Instances      Box(P          R      mAP50  mAP50-95): 100%|██████████| 4/4 [00:00<00:00,  4.87it/s]"
     ]
    },
    {
     "name": "stdout",
     "output_type": "stream",
     "text": [
      "                   all        120        218      0.606      0.414      0.467      0.199\n"
     ]
    },
    {
     "name": "stderr",
     "output_type": "stream",
     "text": [
      "\n"
     ]
    },
    {
     "name": "stdout",
     "output_type": "stream",
     "text": [
      "\n",
      "      Epoch    GPU_mem   box_loss   cls_loss   dfl_loss  Instances       Size\n"
     ]
    },
    {
     "name": "stderr",
     "output_type": "stream",
     "text": [
      "      39/75      5.74G        1.5      1.287      1.521         32        512: 100%|██████████| 28/28 [00:07<00:00,  3.99it/s]\n",
      "                 Class     Images  Instances      Box(P          R      mAP50  mAP50-95): 100%|██████████| 4/4 [00:00<00:00,  4.96it/s]"
     ]
    },
    {
     "name": "stdout",
     "output_type": "stream",
     "text": [
      "                   all        120        218      0.547      0.366      0.434      0.184\n"
     ]
    },
    {
     "name": "stderr",
     "output_type": "stream",
     "text": [
      "\n"
     ]
    },
    {
     "name": "stdout",
     "output_type": "stream",
     "text": [
      "\n",
      "      Epoch    GPU_mem   box_loss   cls_loss   dfl_loss  Instances       Size\n"
     ]
    },
    {
     "name": "stderr",
     "output_type": "stream",
     "text": [
      "      40/75      5.74G      1.496      1.284      1.525         45        512: 100%|██████████| 28/28 [00:07<00:00,  3.99it/s]\n",
      "                 Class     Images  Instances      Box(P          R      mAP50  mAP50-95): 100%|██████████| 4/4 [00:00<00:00,  5.11it/s]"
     ]
    },
    {
     "name": "stdout",
     "output_type": "stream",
     "text": [
      "                   all        120        218       0.54      0.423        0.5      0.234\n"
     ]
    },
    {
     "name": "stderr",
     "output_type": "stream",
     "text": [
      "\n"
     ]
    },
    {
     "name": "stdout",
     "output_type": "stream",
     "text": [
      "\n",
      "      Epoch    GPU_mem   box_loss   cls_loss   dfl_loss  Instances       Size\n"
     ]
    },
    {
     "name": "stderr",
     "output_type": "stream",
     "text": [
      "      41/75      5.74G      1.469      1.266      1.519         25        512: 100%|██████████| 28/28 [00:07<00:00,  3.99it/s]\n",
      "                 Class     Images  Instances      Box(P          R      mAP50  mAP50-95): 100%|██████████| 4/4 [00:00<00:00,  5.01it/s]"
     ]
    },
    {
     "name": "stdout",
     "output_type": "stream",
     "text": [
      "                   all        120        218      0.586      0.438      0.491      0.227\n"
     ]
    },
    {
     "name": "stderr",
     "output_type": "stream",
     "text": [
      "\n"
     ]
    },
    {
     "name": "stdout",
     "output_type": "stream",
     "text": [
      "\n",
      "      Epoch    GPU_mem   box_loss   cls_loss   dfl_loss  Instances       Size\n"
     ]
    },
    {
     "name": "stderr",
     "output_type": "stream",
     "text": [
      "      42/75      5.74G      1.481      1.225      1.501         20        512: 100%|██████████| 28/28 [00:07<00:00,  3.97it/s]\n",
      "                 Class     Images  Instances      Box(P          R      mAP50  mAP50-95): 100%|██████████| 4/4 [00:00<00:00,  4.94it/s]"
     ]
    },
    {
     "name": "stdout",
     "output_type": "stream",
     "text": [
      "                   all        120        218      0.479      0.428      0.443      0.214\n"
     ]
    },
    {
     "name": "stderr",
     "output_type": "stream",
     "text": [
      "\n"
     ]
    },
    {
     "name": "stdout",
     "output_type": "stream",
     "text": [
      "\n",
      "      Epoch    GPU_mem   box_loss   cls_loss   dfl_loss  Instances       Size\n"
     ]
    },
    {
     "name": "stderr",
     "output_type": "stream",
     "text": [
      "      43/75      5.74G      1.455      1.234      1.487         18        512: 100%|██████████| 28/28 [00:07<00:00,  3.98it/s]\n",
      "                 Class     Images  Instances      Box(P          R      mAP50  mAP50-95): 100%|██████████| 4/4 [00:00<00:00,  4.97it/s]"
     ]
    },
    {
     "name": "stdout",
     "output_type": "stream",
     "text": [
      "                   all        120        218      0.505      0.446      0.495      0.228\n"
     ]
    },
    {
     "name": "stderr",
     "output_type": "stream",
     "text": [
      "\n"
     ]
    },
    {
     "name": "stdout",
     "output_type": "stream",
     "text": [
      "\n",
      "      Epoch    GPU_mem   box_loss   cls_loss   dfl_loss  Instances       Size\n"
     ]
    },
    {
     "name": "stderr",
     "output_type": "stream",
     "text": [
      "      44/75      5.74G      1.438      1.177      1.464         27        512: 100%|██████████| 28/28 [00:07<00:00,  3.98it/s]\n",
      "                 Class     Images  Instances      Box(P          R      mAP50  mAP50-95): 100%|██████████| 4/4 [00:00<00:00,  5.01it/s]"
     ]
    },
    {
     "name": "stdout",
     "output_type": "stream",
     "text": [
      "                   all        120        218      0.447      0.562      0.542      0.236\n"
     ]
    },
    {
     "name": "stderr",
     "output_type": "stream",
     "text": [
      "\n"
     ]
    },
    {
     "name": "stdout",
     "output_type": "stream",
     "text": [
      "\n",
      "      Epoch    GPU_mem   box_loss   cls_loss   dfl_loss  Instances       Size\n"
     ]
    },
    {
     "name": "stderr",
     "output_type": "stream",
     "text": [
      "      45/75      5.74G      1.411      1.186      1.451         24        512: 100%|██████████| 28/28 [00:07<00:00,  3.96it/s]\n",
      "                 Class     Images  Instances      Box(P          R      mAP50  mAP50-95): 100%|██████████| 4/4 [00:00<00:00,  4.99it/s]"
     ]
    },
    {
     "name": "stdout",
     "output_type": "stream",
     "text": [
      "                   all        120        218      0.493      0.495      0.521      0.237\n"
     ]
    },
    {
     "name": "stderr",
     "output_type": "stream",
     "text": [
      "\n"
     ]
    },
    {
     "name": "stdout",
     "output_type": "stream",
     "text": [
      "\n",
      "      Epoch    GPU_mem   box_loss   cls_loss   dfl_loss  Instances       Size\n"
     ]
    },
    {
     "name": "stderr",
     "output_type": "stream",
     "text": [
      "      46/75      5.74G      1.383      1.179      1.467         31        512: 100%|██████████| 28/28 [00:07<00:00,  3.94it/s]\n",
      "                 Class     Images  Instances      Box(P          R      mAP50  mAP50-95): 100%|██████████| 4/4 [00:00<00:00,  4.82it/s]"
     ]
    },
    {
     "name": "stdout",
     "output_type": "stream",
     "text": [
      "                   all        120        218      0.505      0.479      0.523       0.24\n"
     ]
    },
    {
     "name": "stderr",
     "output_type": "stream",
     "text": [
      "\n"
     ]
    },
    {
     "name": "stdout",
     "output_type": "stream",
     "text": [
      "\n",
      "      Epoch    GPU_mem   box_loss   cls_loss   dfl_loss  Instances       Size\n"
     ]
    },
    {
     "name": "stderr",
     "output_type": "stream",
     "text": [
      "      47/75      5.74G      1.446      1.225      1.532         24        512: 100%|██████████| 28/28 [00:07<00:00,  3.92it/s]\n",
      "                 Class     Images  Instances      Box(P          R      mAP50  mAP50-95): 100%|██████████| 4/4 [00:00<00:00,  4.75it/s]"
     ]
    },
    {
     "name": "stdout",
     "output_type": "stream",
     "text": [
      "                   all        120        218      0.523      0.471      0.472       0.22\n"
     ]
    },
    {
     "name": "stderr",
     "output_type": "stream",
     "text": [
      "\n"
     ]
    },
    {
     "name": "stdout",
     "output_type": "stream",
     "text": [
      "\n",
      "      Epoch    GPU_mem   box_loss   cls_loss   dfl_loss  Instances       Size\n"
     ]
    },
    {
     "name": "stderr",
     "output_type": "stream",
     "text": [
      "      48/75      5.74G      1.369      1.136      1.442         24        512: 100%|██████████| 28/28 [00:07<00:00,  3.91it/s]\n",
      "                 Class     Images  Instances      Box(P          R      mAP50  mAP50-95): 100%|██████████| 4/4 [00:00<00:00,  4.85it/s]"
     ]
    },
    {
     "name": "stdout",
     "output_type": "stream",
     "text": [
      "                   all        120        218       0.49      0.472      0.493      0.227\n"
     ]
    },
    {
     "name": "stderr",
     "output_type": "stream",
     "text": [
      "\n"
     ]
    },
    {
     "name": "stdout",
     "output_type": "stream",
     "text": [
      "\n",
      "      Epoch    GPU_mem   box_loss   cls_loss   dfl_loss  Instances       Size\n"
     ]
    },
    {
     "name": "stderr",
     "output_type": "stream",
     "text": [
      "      49/75      5.74G      1.353      1.107      1.413         39        512: 100%|██████████| 28/28 [00:07<00:00,  3.97it/s]\n",
      "                 Class     Images  Instances      Box(P          R      mAP50  mAP50-95): 100%|██████████| 4/4 [00:00<00:00,  4.85it/s]"
     ]
    },
    {
     "name": "stdout",
     "output_type": "stream",
     "text": [
      "                   all        120        218       0.59      0.427       0.51      0.231\n"
     ]
    },
    {
     "name": "stderr",
     "output_type": "stream",
     "text": [
      "\n"
     ]
    },
    {
     "name": "stdout",
     "output_type": "stream",
     "text": [
      "\n",
      "      Epoch    GPU_mem   box_loss   cls_loss   dfl_loss  Instances       Size\n"
     ]
    },
    {
     "name": "stderr",
     "output_type": "stream",
     "text": [
      "      50/75      5.74G      1.338      1.091      1.376         37        512: 100%|██████████| 28/28 [00:06<00:00,  4.00it/s]\n",
      "                 Class     Images  Instances      Box(P          R      mAP50  mAP50-95): 100%|██████████| 4/4 [00:00<00:00,  5.01it/s]"
     ]
    },
    {
     "name": "stdout",
     "output_type": "stream",
     "text": [
      "                   all        120        218      0.611      0.423      0.519      0.232\n"
     ]
    },
    {
     "name": "stderr",
     "output_type": "stream",
     "text": [
      "\n"
     ]
    },
    {
     "name": "stdout",
     "output_type": "stream",
     "text": [
      "\n",
      "      Epoch    GPU_mem   box_loss   cls_loss   dfl_loss  Instances       Size\n"
     ]
    },
    {
     "name": "stderr",
     "output_type": "stream",
     "text": [
      "      51/75      5.74G       1.32      1.079      1.428         27        512: 100%|██████████| 28/28 [00:07<00:00,  3.89it/s]\n",
      "                 Class     Images  Instances      Box(P          R      mAP50  mAP50-95): 100%|██████████| 4/4 [00:00<00:00,  5.05it/s]"
     ]
    },
    {
     "name": "stdout",
     "output_type": "stream",
     "text": [
      "                   all        120        218      0.528      0.508      0.553      0.254\n"
     ]
    },
    {
     "name": "stderr",
     "output_type": "stream",
     "text": [
      "\n"
     ]
    },
    {
     "name": "stdout",
     "output_type": "stream",
     "text": [
      "\n",
      "      Epoch    GPU_mem   box_loss   cls_loss   dfl_loss  Instances       Size\n"
     ]
    },
    {
     "name": "stderr",
     "output_type": "stream",
     "text": [
      "      52/75      5.74G      1.309      1.048      1.382         33        512: 100%|██████████| 28/28 [00:07<00:00,  4.00it/s]\n",
      "                 Class     Images  Instances      Box(P          R      mAP50  mAP50-95): 100%|██████████| 4/4 [00:00<00:00,  5.04it/s]"
     ]
    },
    {
     "name": "stdout",
     "output_type": "stream",
     "text": [
      "                   all        120        218      0.451      0.529      0.526      0.239\n"
     ]
    },
    {
     "name": "stderr",
     "output_type": "stream",
     "text": [
      "\n"
     ]
    },
    {
     "name": "stdout",
     "output_type": "stream",
     "text": [
      "\n",
      "      Epoch    GPU_mem   box_loss   cls_loss   dfl_loss  Instances       Size\n"
     ]
    },
    {
     "name": "stderr",
     "output_type": "stream",
     "text": [
      "      53/75      5.74G      1.334      1.056      1.414         51        512: 100%|██████████| 28/28 [00:07<00:00,  3.99it/s]\n",
      "                 Class     Images  Instances      Box(P          R      mAP50  mAP50-95): 100%|██████████| 4/4 [00:00<00:00,  4.97it/s]"
     ]
    },
    {
     "name": "stdout",
     "output_type": "stream",
     "text": [
      "                   all        120        218      0.578      0.434      0.523       0.24\n"
     ]
    },
    {
     "name": "stderr",
     "output_type": "stream",
     "text": [
      "\n"
     ]
    },
    {
     "name": "stdout",
     "output_type": "stream",
     "text": [
      "\n",
      "      Epoch    GPU_mem   box_loss   cls_loss   dfl_loss  Instances       Size\n"
     ]
    },
    {
     "name": "stderr",
     "output_type": "stream",
     "text": [
      "      54/75      5.74G      1.251      1.039      1.366         32        512: 100%|██████████| 28/28 [00:07<00:00,  3.96it/s]\n",
      "                 Class     Images  Instances      Box(P          R      mAP50  mAP50-95): 100%|██████████| 4/4 [00:00<00:00,  4.90it/s]"
     ]
    },
    {
     "name": "stdout",
     "output_type": "stream",
     "text": [
      "                   all        120        218      0.661      0.413      0.511       0.23\n"
     ]
    },
    {
     "name": "stderr",
     "output_type": "stream",
     "text": [
      "\n"
     ]
    },
    {
     "name": "stdout",
     "output_type": "stream",
     "text": [
      "\n",
      "      Epoch    GPU_mem   box_loss   cls_loss   dfl_loss  Instances       Size\n"
     ]
    },
    {
     "name": "stderr",
     "output_type": "stream",
     "text": [
      "      55/75      5.74G      1.239     0.9636        1.3         41        512: 100%|██████████| 28/28 [00:07<00:00,  3.95it/s]\n",
      "                 Class     Images  Instances      Box(P          R      mAP50  mAP50-95): 100%|██████████| 4/4 [00:00<00:00,  5.03it/s]"
     ]
    },
    {
     "name": "stdout",
     "output_type": "stream",
     "text": [
      "                   all        120        218      0.505      0.471      0.495      0.236\n"
     ]
    },
    {
     "name": "stderr",
     "output_type": "stream",
     "text": [
      "\n"
     ]
    },
    {
     "name": "stdout",
     "output_type": "stream",
     "text": [
      "\n",
      "      Epoch    GPU_mem   box_loss   cls_loss   dfl_loss  Instances       Size\n"
     ]
    },
    {
     "name": "stderr",
     "output_type": "stream",
     "text": [
      "      56/75      5.74G      1.291      1.017      1.387         33        512: 100%|██████████| 28/28 [00:07<00:00,  3.98it/s]\n",
      "                 Class     Images  Instances      Box(P          R      mAP50  mAP50-95): 100%|██████████| 4/4 [00:00<00:00,  5.07it/s]"
     ]
    },
    {
     "name": "stdout",
     "output_type": "stream",
     "text": [
      "                   all        120        218      0.561      0.458      0.537      0.245\n"
     ]
    },
    {
     "name": "stderr",
     "output_type": "stream",
     "text": [
      "\n"
     ]
    },
    {
     "name": "stdout",
     "output_type": "stream",
     "text": [
      "\n",
      "      Epoch    GPU_mem   box_loss   cls_loss   dfl_loss  Instances       Size\n"
     ]
    },
    {
     "name": "stderr",
     "output_type": "stream",
     "text": [
      "      57/75      5.74G      1.277      1.027      1.367         39        512: 100%|██████████| 28/28 [00:07<00:00,  3.98it/s]\n",
      "                 Class     Images  Instances      Box(P          R      mAP50  mAP50-95): 100%|██████████| 4/4 [00:00<00:00,  4.99it/s]"
     ]
    },
    {
     "name": "stdout",
     "output_type": "stream",
     "text": [
      "                   all        120        218      0.579      0.475       0.54      0.242\n"
     ]
    },
    {
     "name": "stderr",
     "output_type": "stream",
     "text": [
      "\n"
     ]
    },
    {
     "name": "stdout",
     "output_type": "stream",
     "text": [
      "\n",
      "      Epoch    GPU_mem   box_loss   cls_loss   dfl_loss  Instances       Size\n"
     ]
    },
    {
     "name": "stderr",
     "output_type": "stream",
     "text": [
      "      58/75      5.74G      1.249     0.9956      1.338         25        512: 100%|██████████| 28/28 [00:07<00:00,  3.99it/s]\n",
      "                 Class     Images  Instances      Box(P          R      mAP50  mAP50-95): 100%|██████████| 4/4 [00:00<00:00,  4.96it/s]"
     ]
    },
    {
     "name": "stdout",
     "output_type": "stream",
     "text": [
      "                   all        120        218       0.55      0.466      0.495      0.226\n"
     ]
    },
    {
     "name": "stderr",
     "output_type": "stream",
     "text": [
      "\n"
     ]
    },
    {
     "name": "stdout",
     "output_type": "stream",
     "text": [
      "\n",
      "      Epoch    GPU_mem   box_loss   cls_loss   dfl_loss  Instances       Size\n"
     ]
    },
    {
     "name": "stderr",
     "output_type": "stream",
     "text": [
      "      59/75      5.74G      1.223     0.9586      1.324         23        512: 100%|██████████| 28/28 [00:07<00:00,  3.99it/s]\n",
      "                 Class     Images  Instances      Box(P          R      mAP50  mAP50-95): 100%|██████████| 4/4 [00:00<00:00,  5.01it/s]"
     ]
    },
    {
     "name": "stdout",
     "output_type": "stream",
     "text": [
      "                   all        120        218      0.543      0.512      0.538      0.245\n"
     ]
    },
    {
     "name": "stderr",
     "output_type": "stream",
     "text": [
      "\n"
     ]
    },
    {
     "name": "stdout",
     "output_type": "stream",
     "text": [
      "\n",
      "      Epoch    GPU_mem   box_loss   cls_loss   dfl_loss  Instances       Size\n"
     ]
    },
    {
     "name": "stderr",
     "output_type": "stream",
     "text": [
      "      60/75      5.74G      1.154     0.9179      1.299         38        512: 100%|██████████| 28/28 [00:07<00:00,  3.99it/s]\n",
      "                 Class     Images  Instances      Box(P          R      mAP50  mAP50-95): 100%|██████████| 4/4 [00:00<00:00,  4.94it/s]"
     ]
    },
    {
     "name": "stdout",
     "output_type": "stream",
     "text": [
      "                   all        120        218      0.498      0.516      0.505      0.243\n"
     ]
    },
    {
     "name": "stderr",
     "output_type": "stream",
     "text": [
      "\n"
     ]
    },
    {
     "name": "stdout",
     "output_type": "stream",
     "text": [
      "\n",
      "      Epoch    GPU_mem   box_loss   cls_loss   dfl_loss  Instances       Size\n"
     ]
    },
    {
     "name": "stderr",
     "output_type": "stream",
     "text": [
      "      61/75      5.74G      1.225     0.9643      1.337         27        512: 100%|██████████| 28/28 [00:07<00:00,  3.99it/s]\n",
      "                 Class     Images  Instances      Box(P          R      mAP50  mAP50-95): 100%|██████████| 4/4 [00:00<00:00,  5.06it/s]"
     ]
    },
    {
     "name": "stdout",
     "output_type": "stream",
     "text": [
      "                   all        120        218      0.524      0.469      0.499      0.239\n"
     ]
    },
    {
     "name": "stderr",
     "output_type": "stream",
     "text": [
      "\n"
     ]
    },
    {
     "name": "stdout",
     "output_type": "stream",
     "text": [
      "\n",
      "      Epoch    GPU_mem   box_loss   cls_loss   dfl_loss  Instances       Size\n"
     ]
    },
    {
     "name": "stderr",
     "output_type": "stream",
     "text": [
      "      62/75      5.74G       1.24     0.9822      1.362         31        512: 100%|██████████| 28/28 [00:07<00:00,  3.97it/s]\n",
      "                 Class     Images  Instances      Box(P          R      mAP50  mAP50-95): 100%|██████████| 4/4 [00:00<00:00,  4.79it/s]"
     ]
    },
    {
     "name": "stdout",
     "output_type": "stream",
     "text": [
      "                   all        120        218      0.478      0.459      0.467      0.226\n"
     ]
    },
    {
     "name": "stderr",
     "output_type": "stream",
     "text": [
      "\n"
     ]
    },
    {
     "name": "stdout",
     "output_type": "stream",
     "text": [
      "\n",
      "      Epoch    GPU_mem   box_loss   cls_loss   dfl_loss  Instances       Size\n"
     ]
    },
    {
     "name": "stderr",
     "output_type": "stream",
     "text": [
      "      63/75      5.74G      1.191     0.9602       1.34         34        512: 100%|██████████| 28/28 [00:07<00:00,  3.96it/s]\n",
      "                 Class     Images  Instances      Box(P          R      mAP50  mAP50-95): 100%|██████████| 4/4 [00:00<00:00,  4.89it/s]"
     ]
    },
    {
     "name": "stdout",
     "output_type": "stream",
     "text": [
      "                   all        120        218      0.552      0.503      0.514      0.235\n"
     ]
    },
    {
     "name": "stderr",
     "output_type": "stream",
     "text": [
      "\n"
     ]
    },
    {
     "name": "stdout",
     "output_type": "stream",
     "text": [
      "\n",
      "      Epoch    GPU_mem   box_loss   cls_loss   dfl_loss  Instances       Size\n"
     ]
    },
    {
     "name": "stderr",
     "output_type": "stream",
     "text": [
      "      64/75      5.74G      1.126     0.9157      1.286         59        512: 100%|██████████| 28/28 [00:07<00:00,  3.98it/s]\n",
      "                 Class     Images  Instances      Box(P          R      mAP50  mAP50-95): 100%|██████████| 4/4 [00:00<00:00,  4.88it/s]"
     ]
    },
    {
     "name": "stdout",
     "output_type": "stream",
     "text": [
      "                   all        120        218      0.545      0.475      0.538      0.238\n"
     ]
    },
    {
     "name": "stderr",
     "output_type": "stream",
     "text": [
      "\n"
     ]
    },
    {
     "name": "stdout",
     "output_type": "stream",
     "text": [
      "\n",
      "      Epoch    GPU_mem   box_loss   cls_loss   dfl_loss  Instances       Size\n"
     ]
    },
    {
     "name": "stderr",
     "output_type": "stream",
     "text": [
      "      65/75      5.74G      1.154     0.9077      1.294         48        512: 100%|██████████| 28/28 [00:07<00:00,  3.97it/s]\n",
      "                 Class     Images  Instances      Box(P          R      mAP50  mAP50-95): 100%|██████████| 4/4 [00:00<00:00,  5.01it/s]"
     ]
    },
    {
     "name": "stdout",
     "output_type": "stream",
     "text": [
      "                   all        120        218      0.498      0.478      0.508      0.231\n"
     ]
    },
    {
     "name": "stderr",
     "output_type": "stream",
     "text": [
      "\n"
     ]
    },
    {
     "name": "stdout",
     "output_type": "stream",
     "text": [
      "Closing dataloader mosaic\n",
      "\n",
      "      Epoch    GPU_mem   box_loss   cls_loss   dfl_loss  Instances       Size\n"
     ]
    },
    {
     "name": "stderr",
     "output_type": "stream",
     "text": [
      "      66/75      5.74G      1.575      1.309      1.705         15        512: 100%|██████████| 28/28 [00:07<00:00,  3.78it/s]\n",
      "                 Class     Images  Instances      Box(P          R      mAP50  mAP50-95): 100%|██████████| 4/4 [00:00<00:00,  4.83it/s]"
     ]
    },
    {
     "name": "stdout",
     "output_type": "stream",
     "text": [
      "                   all        120        218      0.486      0.514      0.545      0.236\n"
     ]
    },
    {
     "name": "stderr",
     "output_type": "stream",
     "text": [
      "\n"
     ]
    },
    {
     "name": "stdout",
     "output_type": "stream",
     "text": [
      "\n",
      "      Epoch    GPU_mem   box_loss   cls_loss   dfl_loss  Instances       Size\n"
     ]
    },
    {
     "name": "stderr",
     "output_type": "stream",
     "text": [
      "      67/75      5.74G      1.502      1.206      1.646         20        512: 100%|██████████| 28/28 [00:07<00:00,  3.99it/s]\n",
      "                 Class     Images  Instances      Box(P          R      mAP50  mAP50-95): 100%|██████████| 4/4 [00:00<00:00,  4.94it/s]"
     ]
    },
    {
     "name": "stdout",
     "output_type": "stream",
     "text": [
      "                   all        120        218      0.436      0.546      0.511      0.222\n"
     ]
    },
    {
     "name": "stderr",
     "output_type": "stream",
     "text": [
      "\n"
     ]
    },
    {
     "name": "stdout",
     "output_type": "stream",
     "text": [
      "\n",
      "      Epoch    GPU_mem   box_loss   cls_loss   dfl_loss  Instances       Size\n"
     ]
    },
    {
     "name": "stderr",
     "output_type": "stream",
     "text": [
      "      68/75      5.74G       1.48      1.244      1.625         16        512: 100%|██████████| 28/28 [00:07<00:00,  3.98it/s]\n",
      "                 Class     Images  Instances      Box(P          R      mAP50  mAP50-95): 100%|██████████| 4/4 [00:00<00:00,  4.95it/s]"
     ]
    },
    {
     "name": "stdout",
     "output_type": "stream",
     "text": [
      "                   all        120        218      0.554      0.449      0.497      0.234\n"
     ]
    },
    {
     "name": "stderr",
     "output_type": "stream",
     "text": [
      "\n"
     ]
    },
    {
     "name": "stdout",
     "output_type": "stream",
     "text": [
      "\n",
      "      Epoch    GPU_mem   box_loss   cls_loss   dfl_loss  Instances       Size\n"
     ]
    },
    {
     "name": "stderr",
     "output_type": "stream",
     "text": [
      "      69/75      5.74G      1.507      1.262      1.681         12        512: 100%|██████████| 28/28 [00:07<00:00,  3.99it/s]\n",
      "                 Class     Images  Instances      Box(P          R      mAP50  mAP50-95): 100%|██████████| 4/4 [00:00<00:00,  4.97it/s]"
     ]
    },
    {
     "name": "stdout",
     "output_type": "stream",
     "text": [
      "                   all        120        218      0.512      0.499       0.54      0.243\n"
     ]
    },
    {
     "name": "stderr",
     "output_type": "stream",
     "text": [
      "\n"
     ]
    },
    {
     "name": "stdout",
     "output_type": "stream",
     "text": [
      "\n",
      "      Epoch    GPU_mem   box_loss   cls_loss   dfl_loss  Instances       Size\n"
     ]
    },
    {
     "name": "stderr",
     "output_type": "stream",
     "text": [
      "      70/75      5.74G      1.452      1.194      1.592         16        512: 100%|██████████| 28/28 [00:07<00:00,  3.99it/s]\n",
      "                 Class     Images  Instances      Box(P          R      mAP50  mAP50-95): 100%|██████████| 4/4 [00:00<00:00,  4.88it/s]"
     ]
    },
    {
     "name": "stdout",
     "output_type": "stream",
     "text": [
      "                   all        120        218      0.535      0.518      0.549      0.245\n"
     ]
    },
    {
     "name": "stderr",
     "output_type": "stream",
     "text": [
      "\n"
     ]
    },
    {
     "name": "stdout",
     "output_type": "stream",
     "text": [
      "\n",
      "      Epoch    GPU_mem   box_loss   cls_loss   dfl_loss  Instances       Size\n"
     ]
    },
    {
     "name": "stderr",
     "output_type": "stream",
     "text": [
      "      71/75      5.74G      1.436      1.187      1.585         19        512: 100%|██████████| 28/28 [00:07<00:00,  3.99it/s]\n",
      "                 Class     Images  Instances      Box(P          R      mAP50  mAP50-95): 100%|██████████| 4/4 [00:00<00:00,  4.95it/s]"
     ]
    },
    {
     "name": "stdout",
     "output_type": "stream",
     "text": [
      "                   all        120        218      0.566      0.551      0.586      0.272\n"
     ]
    },
    {
     "name": "stderr",
     "output_type": "stream",
     "text": [
      "\n"
     ]
    },
    {
     "name": "stdout",
     "output_type": "stream",
     "text": [
      "\n",
      "      Epoch    GPU_mem   box_loss   cls_loss   dfl_loss  Instances       Size\n"
     ]
    },
    {
     "name": "stderr",
     "output_type": "stream",
     "text": [
      "      72/75      5.74G       1.42      1.169      1.585         12        512: 100%|██████████| 28/28 [00:07<00:00,  3.97it/s]\n",
      "                 Class     Images  Instances      Box(P          R      mAP50  mAP50-95): 100%|██████████| 4/4 [00:00<00:00,  4.98it/s]"
     ]
    },
    {
     "name": "stdout",
     "output_type": "stream",
     "text": [
      "                   all        120        218      0.593      0.541      0.594      0.278\n"
     ]
    },
    {
     "name": "stderr",
     "output_type": "stream",
     "text": [
      "\n"
     ]
    },
    {
     "name": "stdout",
     "output_type": "stream",
     "text": [
      "\n",
      "      Epoch    GPU_mem   box_loss   cls_loss   dfl_loss  Instances       Size\n"
     ]
    },
    {
     "name": "stderr",
     "output_type": "stream",
     "text": [
      "      73/75      5.74G      1.387      1.128      1.532         13        512: 100%|██████████| 28/28 [00:07<00:00,  3.98it/s]\n",
      "                 Class     Images  Instances      Box(P          R      mAP50  mAP50-95): 100%|██████████| 4/4 [00:00<00:00,  4.99it/s]"
     ]
    },
    {
     "name": "stdout",
     "output_type": "stream",
     "text": [
      "                   all        120        218      0.587      0.513      0.574      0.268\n"
     ]
    },
    {
     "name": "stderr",
     "output_type": "stream",
     "text": [
      "\n"
     ]
    },
    {
     "name": "stdout",
     "output_type": "stream",
     "text": [
      "\n",
      "      Epoch    GPU_mem   box_loss   cls_loss   dfl_loss  Instances       Size\n"
     ]
    },
    {
     "name": "stderr",
     "output_type": "stream",
     "text": [
      "      74/75      5.74G      1.391      1.115      1.562         16        512: 100%|██████████| 28/28 [00:07<00:00,  3.98it/s]\n",
      "                 Class     Images  Instances      Box(P          R      mAP50  mAP50-95): 100%|██████████| 4/4 [00:00<00:00,  4.94it/s]"
     ]
    },
    {
     "name": "stdout",
     "output_type": "stream",
     "text": [
      "                   all        120        218       0.62      0.503      0.576      0.272\n"
     ]
    },
    {
     "name": "stderr",
     "output_type": "stream",
     "text": [
      "\n"
     ]
    },
    {
     "name": "stdout",
     "output_type": "stream",
     "text": [
      "\n",
      "      Epoch    GPU_mem   box_loss   cls_loss   dfl_loss  Instances       Size\n"
     ]
    },
    {
     "name": "stderr",
     "output_type": "stream",
     "text": [
      "      75/75      5.74G      1.374       1.12      1.543         31        512: 100%|██████████| 28/28 [00:07<00:00,  3.96it/s]\n",
      "                 Class     Images  Instances      Box(P          R      mAP50  mAP50-95): 100%|██████████| 4/4 [00:00<00:00,  4.83it/s]"
     ]
    },
    {
     "name": "stdout",
     "output_type": "stream",
     "text": [
      "                   all        120        218      0.583      0.506       0.57      0.269\n"
     ]
    },
    {
     "name": "stderr",
     "output_type": "stream",
     "text": [
      "\n"
     ]
    },
    {
     "name": "stdout",
     "output_type": "stream",
     "text": [
      "\n",
      "75 epochs completed in 0.178 hours.\n",
      "Optimizer stripped from ModelBuild\\model03_yolo_drone\\weights\\last.pt, 52.0MB\n",
      "Optimizer stripped from ModelBuild\\model03_yolo_drone\\weights\\best.pt, 52.0MB\n",
      "\n",
      "Validating ModelBuild\\model03_yolo_drone\\weights\\best.pt...\n",
      "Ultralytics 8.3.94  Python-3.10.16 torch-2.6.0+cu126 CUDA:0 (NVIDIA GeForce RTX 4060, 8188MiB)\n",
      "Model summary (fused): 92 layers, 25,840,918 parameters, 0 gradients, 78.7 GFLOPs\n"
     ]
    },
    {
     "name": "stderr",
     "output_type": "stream",
     "text": [
      "                 Class     Images  Instances      Box(P          R      mAP50  mAP50-95): 100%|██████████| 4/4 [00:00<00:00,  4.21it/s]\n"
     ]
    },
    {
     "name": "stdout",
     "output_type": "stream",
     "text": [
      "                   all        120        218      0.596      0.547      0.592      0.277\n",
      "                boiler         75         96       0.64      0.729      0.753      0.357\n",
      "                 panel         54        122      0.552      0.364      0.432      0.196\n",
      "Speed: 0.3ms preprocess, 4.2ms inference, 0.0ms loss, 0.8ms postprocess per image\n",
      "Results saved to \u001b[1mModelBuild\\model03_yolo_drone\u001b[0m\n"
     ]
    },
    {
     "data": {
      "text/plain": [
       "ultralytics.utils.metrics.DetMetrics object with attributes:\n",
       "\n",
       "ap_class_index: array([0, 1])\n",
       "box: ultralytics.utils.metrics.Metric object\n",
       "confusion_matrix: <ultralytics.utils.metrics.ConfusionMatrix object at 0x0000022DC57A1210>\n",
       "curves: ['Precision-Recall(B)', 'F1-Confidence(B)', 'Precision-Confidence(B)', 'Recall-Confidence(B)']\n",
       "curves_results: [[array([          0,    0.001001,    0.002002,    0.003003,    0.004004,    0.005005,    0.006006,    0.007007,    0.008008,    0.009009,     0.01001,    0.011011,    0.012012,    0.013013,    0.014014,    0.015015,    0.016016,    0.017017,    0.018018,    0.019019,     0.02002,    0.021021,    0.022022,    0.023023,\n",
       "          0.024024,    0.025025,    0.026026,    0.027027,    0.028028,    0.029029,     0.03003,    0.031031,    0.032032,    0.033033,    0.034034,    0.035035,    0.036036,    0.037037,    0.038038,    0.039039,     0.04004,    0.041041,    0.042042,    0.043043,    0.044044,    0.045045,    0.046046,    0.047047,\n",
       "          0.048048,    0.049049,     0.05005,    0.051051,    0.052052,    0.053053,    0.054054,    0.055055,    0.056056,    0.057057,    0.058058,    0.059059,     0.06006,    0.061061,    0.062062,    0.063063,    0.064064,    0.065065,    0.066066,    0.067067,    0.068068,    0.069069,     0.07007,    0.071071,\n",
       "          0.072072,    0.073073,    0.074074,    0.075075,    0.076076,    0.077077,    0.078078,    0.079079,     0.08008,    0.081081,    0.082082,    0.083083,    0.084084,    0.085085,    0.086086,    0.087087,    0.088088,    0.089089,     0.09009,    0.091091,    0.092092,    0.093093,    0.094094,    0.095095,\n",
       "          0.096096,    0.097097,    0.098098,    0.099099,      0.1001,      0.1011,      0.1021,      0.1031,      0.1041,     0.10511,     0.10611,     0.10711,     0.10811,     0.10911,     0.11011,     0.11111,     0.11211,     0.11311,     0.11411,     0.11512,     0.11612,     0.11712,     0.11812,     0.11912,\n",
       "           0.12012,     0.12112,     0.12212,     0.12312,     0.12412,     0.12513,     0.12613,     0.12713,     0.12813,     0.12913,     0.13013,     0.13113,     0.13213,     0.13313,     0.13413,     0.13514,     0.13614,     0.13714,     0.13814,     0.13914,     0.14014,     0.14114,     0.14214,     0.14314,\n",
       "           0.14414,     0.14515,     0.14615,     0.14715,     0.14815,     0.14915,     0.15015,     0.15115,     0.15215,     0.15315,     0.15415,     0.15516,     0.15616,     0.15716,     0.15816,     0.15916,     0.16016,     0.16116,     0.16216,     0.16316,     0.16416,     0.16517,     0.16617,     0.16717,\n",
       "           0.16817,     0.16917,     0.17017,     0.17117,     0.17217,     0.17317,     0.17417,     0.17518,     0.17618,     0.17718,     0.17818,     0.17918,     0.18018,     0.18118,     0.18218,     0.18318,     0.18418,     0.18519,     0.18619,     0.18719,     0.18819,     0.18919,     0.19019,     0.19119,\n",
       "           0.19219,     0.19319,     0.19419,      0.1952,      0.1962,      0.1972,      0.1982,      0.1992,      0.2002,      0.2012,      0.2022,      0.2032,      0.2042,     0.20521,     0.20621,     0.20721,     0.20821,     0.20921,     0.21021,     0.21121,     0.21221,     0.21321,     0.21421,     0.21522,\n",
       "           0.21622,     0.21722,     0.21822,     0.21922,     0.22022,     0.22122,     0.22222,     0.22322,     0.22422,     0.22523,     0.22623,     0.22723,     0.22823,     0.22923,     0.23023,     0.23123,     0.23223,     0.23323,     0.23423,     0.23524,     0.23624,     0.23724,     0.23824,     0.23924,\n",
       "           0.24024,     0.24124,     0.24224,     0.24324,     0.24424,     0.24525,     0.24625,     0.24725,     0.24825,     0.24925,     0.25025,     0.25125,     0.25225,     0.25325,     0.25425,     0.25526,     0.25626,     0.25726,     0.25826,     0.25926,     0.26026,     0.26126,     0.26226,     0.26326,\n",
       "           0.26426,     0.26527,     0.26627,     0.26727,     0.26827,     0.26927,     0.27027,     0.27127,     0.27227,     0.27327,     0.27427,     0.27528,     0.27628,     0.27728,     0.27828,     0.27928,     0.28028,     0.28128,     0.28228,     0.28328,     0.28428,     0.28529,     0.28629,     0.28729,\n",
       "           0.28829,     0.28929,     0.29029,     0.29129,     0.29229,     0.29329,     0.29429,      0.2953,      0.2963,      0.2973,      0.2983,      0.2993,      0.3003,      0.3013,      0.3023,      0.3033,      0.3043,     0.30531,     0.30631,     0.30731,     0.30831,     0.30931,     0.31031,     0.31131,\n",
       "           0.31231,     0.31331,     0.31431,     0.31532,     0.31632,     0.31732,     0.31832,     0.31932,     0.32032,     0.32132,     0.32232,     0.32332,     0.32432,     0.32533,     0.32633,     0.32733,     0.32833,     0.32933,     0.33033,     0.33133,     0.33233,     0.33333,     0.33433,     0.33534,\n",
       "           0.33634,     0.33734,     0.33834,     0.33934,     0.34034,     0.34134,     0.34234,     0.34334,     0.34434,     0.34535,     0.34635,     0.34735,     0.34835,     0.34935,     0.35035,     0.35135,     0.35235,     0.35335,     0.35435,     0.35536,     0.35636,     0.35736,     0.35836,     0.35936,\n",
       "           0.36036,     0.36136,     0.36236,     0.36336,     0.36436,     0.36537,     0.36637,     0.36737,     0.36837,     0.36937,     0.37037,     0.37137,     0.37237,     0.37337,     0.37437,     0.37538,     0.37638,     0.37738,     0.37838,     0.37938,     0.38038,     0.38138,     0.38238,     0.38338,\n",
       "           0.38438,     0.38539,     0.38639,     0.38739,     0.38839,     0.38939,     0.39039,     0.39139,     0.39239,     0.39339,     0.39439,      0.3954,      0.3964,      0.3974,      0.3984,      0.3994,      0.4004,      0.4014,      0.4024,      0.4034,      0.4044,     0.40541,     0.40641,     0.40741,\n",
       "           0.40841,     0.40941,     0.41041,     0.41141,     0.41241,     0.41341,     0.41441,     0.41542,     0.41642,     0.41742,     0.41842,     0.41942,     0.42042,     0.42142,     0.42242,     0.42342,     0.42442,     0.42543,     0.42643,     0.42743,     0.42843,     0.42943,     0.43043,     0.43143,\n",
       "           0.43243,     0.43343,     0.43443,     0.43544,     0.43644,     0.43744,     0.43844,     0.43944,     0.44044,     0.44144,     0.44244,     0.44344,     0.44444,     0.44545,     0.44645,     0.44745,     0.44845,     0.44945,     0.45045,     0.45145,     0.45245,     0.45345,     0.45445,     0.45546,\n",
       "           0.45646,     0.45746,     0.45846,     0.45946,     0.46046,     0.46146,     0.46246,     0.46346,     0.46446,     0.46547,     0.46647,     0.46747,     0.46847,     0.46947,     0.47047,     0.47147,     0.47247,     0.47347,     0.47447,     0.47548,     0.47648,     0.47748,     0.47848,     0.47948,\n",
       "           0.48048,     0.48148,     0.48248,     0.48348,     0.48448,     0.48549,     0.48649,     0.48749,     0.48849,     0.48949,     0.49049,     0.49149,     0.49249,     0.49349,     0.49449,      0.4955,      0.4965,      0.4975,      0.4985,      0.4995,      0.5005,      0.5015,      0.5025,      0.5035,\n",
       "            0.5045,     0.50551,     0.50651,     0.50751,     0.50851,     0.50951,     0.51051,     0.51151,     0.51251,     0.51351,     0.51451,     0.51552,     0.51652,     0.51752,     0.51852,     0.51952,     0.52052,     0.52152,     0.52252,     0.52352,     0.52452,     0.52553,     0.52653,     0.52753,\n",
       "           0.52853,     0.52953,     0.53053,     0.53153,     0.53253,     0.53353,     0.53453,     0.53554,     0.53654,     0.53754,     0.53854,     0.53954,     0.54054,     0.54154,     0.54254,     0.54354,     0.54454,     0.54555,     0.54655,     0.54755,     0.54855,     0.54955,     0.55055,     0.55155,\n",
       "           0.55255,     0.55355,     0.55455,     0.55556,     0.55656,     0.55756,     0.55856,     0.55956,     0.56056,     0.56156,     0.56256,     0.56356,     0.56456,     0.56557,     0.56657,     0.56757,     0.56857,     0.56957,     0.57057,     0.57157,     0.57257,     0.57357,     0.57457,     0.57558,\n",
       "           0.57658,     0.57758,     0.57858,     0.57958,     0.58058,     0.58158,     0.58258,     0.58358,     0.58458,     0.58559,     0.58659,     0.58759,     0.58859,     0.58959,     0.59059,     0.59159,     0.59259,     0.59359,     0.59459,      0.5956,      0.5966,      0.5976,      0.5986,      0.5996,\n",
       "            0.6006,      0.6016,      0.6026,      0.6036,      0.6046,     0.60561,     0.60661,     0.60761,     0.60861,     0.60961,     0.61061,     0.61161,     0.61261,     0.61361,     0.61461,     0.61562,     0.61662,     0.61762,     0.61862,     0.61962,     0.62062,     0.62162,     0.62262,     0.62362,\n",
       "           0.62462,     0.62563,     0.62663,     0.62763,     0.62863,     0.62963,     0.63063,     0.63163,     0.63263,     0.63363,     0.63463,     0.63564,     0.63664,     0.63764,     0.63864,     0.63964,     0.64064,     0.64164,     0.64264,     0.64364,     0.64464,     0.64565,     0.64665,     0.64765,\n",
       "           0.64865,     0.64965,     0.65065,     0.65165,     0.65265,     0.65365,     0.65465,     0.65566,     0.65666,     0.65766,     0.65866,     0.65966,     0.66066,     0.66166,     0.66266,     0.66366,     0.66466,     0.66567,     0.66667,     0.66767,     0.66867,     0.66967,     0.67067,     0.67167,\n",
       "           0.67267,     0.67367,     0.67467,     0.67568,     0.67668,     0.67768,     0.67868,     0.67968,     0.68068,     0.68168,     0.68268,     0.68368,     0.68468,     0.68569,     0.68669,     0.68769,     0.68869,     0.68969,     0.69069,     0.69169,     0.69269,     0.69369,     0.69469,      0.6957,\n",
       "            0.6967,      0.6977,      0.6987,      0.6997,      0.7007,      0.7017,      0.7027,      0.7037,      0.7047,     0.70571,     0.70671,     0.70771,     0.70871,     0.70971,     0.71071,     0.71171,     0.71271,     0.71371,     0.71471,     0.71572,     0.71672,     0.71772,     0.71872,     0.71972,\n",
       "           0.72072,     0.72172,     0.72272,     0.72372,     0.72472,     0.72573,     0.72673,     0.72773,     0.72873,     0.72973,     0.73073,     0.73173,     0.73273,     0.73373,     0.73473,     0.73574,     0.73674,     0.73774,     0.73874,     0.73974,     0.74074,     0.74174,     0.74274,     0.74374,\n",
       "           0.74474,     0.74575,     0.74675,     0.74775,     0.74875,     0.74975,     0.75075,     0.75175,     0.75275,     0.75375,     0.75475,     0.75576,     0.75676,     0.75776,     0.75876,     0.75976,     0.76076,     0.76176,     0.76276,     0.76376,     0.76476,     0.76577,     0.76677,     0.76777,\n",
       "           0.76877,     0.76977,     0.77077,     0.77177,     0.77277,     0.77377,     0.77477,     0.77578,     0.77678,     0.77778,     0.77878,     0.77978,     0.78078,     0.78178,     0.78278,     0.78378,     0.78478,     0.78579,     0.78679,     0.78779,     0.78879,     0.78979,     0.79079,     0.79179,\n",
       "           0.79279,     0.79379,     0.79479,      0.7958,      0.7968,      0.7978,      0.7988,      0.7998,      0.8008,      0.8018,      0.8028,      0.8038,      0.8048,     0.80581,     0.80681,     0.80781,     0.80881,     0.80981,     0.81081,     0.81181,     0.81281,     0.81381,     0.81481,     0.81582,\n",
       "           0.81682,     0.81782,     0.81882,     0.81982,     0.82082,     0.82182,     0.82282,     0.82382,     0.82482,     0.82583,     0.82683,     0.82783,     0.82883,     0.82983,     0.83083,     0.83183,     0.83283,     0.83383,     0.83483,     0.83584,     0.83684,     0.83784,     0.83884,     0.83984,\n",
       "           0.84084,     0.84184,     0.84284,     0.84384,     0.84484,     0.84585,     0.84685,     0.84785,     0.84885,     0.84985,     0.85085,     0.85185,     0.85285,     0.85385,     0.85485,     0.85586,     0.85686,     0.85786,     0.85886,     0.85986,     0.86086,     0.86186,     0.86286,     0.86386,\n",
       "           0.86486,     0.86587,     0.86687,     0.86787,     0.86887,     0.86987,     0.87087,     0.87187,     0.87287,     0.87387,     0.87487,     0.87588,     0.87688,     0.87788,     0.87888,     0.87988,     0.88088,     0.88188,     0.88288,     0.88388,     0.88488,     0.88589,     0.88689,     0.88789,\n",
       "           0.88889,     0.88989,     0.89089,     0.89189,     0.89289,     0.89389,     0.89489,      0.8959,      0.8969,      0.8979,      0.8989,      0.8999,      0.9009,      0.9019,      0.9029,      0.9039,      0.9049,     0.90591,     0.90691,     0.90791,     0.90891,     0.90991,     0.91091,     0.91191,\n",
       "           0.91291,     0.91391,     0.91491,     0.91592,     0.91692,     0.91792,     0.91892,     0.91992,     0.92092,     0.92192,     0.92292,     0.92392,     0.92492,     0.92593,     0.92693,     0.92793,     0.92893,     0.92993,     0.93093,     0.93193,     0.93293,     0.93393,     0.93493,     0.93594,\n",
       "           0.93694,     0.93794,     0.93894,     0.93994,     0.94094,     0.94194,     0.94294,     0.94394,     0.94494,     0.94595,     0.94695,     0.94795,     0.94895,     0.94995,     0.95095,     0.95195,     0.95295,     0.95395,     0.95495,     0.95596,     0.95696,     0.95796,     0.95896,     0.95996,\n",
       "           0.96096,     0.96196,     0.96296,     0.96396,     0.96496,     0.96597,     0.96697,     0.96797,     0.96897,     0.96997,     0.97097,     0.97197,     0.97297,     0.97397,     0.97497,     0.97598,     0.97698,     0.97798,     0.97898,     0.97998,     0.98098,     0.98198,     0.98298,     0.98398,\n",
       "           0.98498,     0.98599,     0.98699,     0.98799,     0.98899,     0.98999,     0.99099,     0.99199,     0.99299,     0.99399,     0.99499,       0.996,       0.997,       0.998,       0.999,           1]), array([[          1,           1,           1, ...,   0.0042312,   0.0021156,           0],\n",
       "       [          1,           1,           1, ...,   0.0014772,  0.00073861,           0]]), 'Recall', 'Precision'], [array([          0,    0.001001,    0.002002,    0.003003,    0.004004,    0.005005,    0.006006,    0.007007,    0.008008,    0.009009,     0.01001,    0.011011,    0.012012,    0.013013,    0.014014,    0.015015,    0.016016,    0.017017,    0.018018,    0.019019,     0.02002,    0.021021,    0.022022,    0.023023,\n",
       "          0.024024,    0.025025,    0.026026,    0.027027,    0.028028,    0.029029,     0.03003,    0.031031,    0.032032,    0.033033,    0.034034,    0.035035,    0.036036,    0.037037,    0.038038,    0.039039,     0.04004,    0.041041,    0.042042,    0.043043,    0.044044,    0.045045,    0.046046,    0.047047,\n",
       "          0.048048,    0.049049,     0.05005,    0.051051,    0.052052,    0.053053,    0.054054,    0.055055,    0.056056,    0.057057,    0.058058,    0.059059,     0.06006,    0.061061,    0.062062,    0.063063,    0.064064,    0.065065,    0.066066,    0.067067,    0.068068,    0.069069,     0.07007,    0.071071,\n",
       "          0.072072,    0.073073,    0.074074,    0.075075,    0.076076,    0.077077,    0.078078,    0.079079,     0.08008,    0.081081,    0.082082,    0.083083,    0.084084,    0.085085,    0.086086,    0.087087,    0.088088,    0.089089,     0.09009,    0.091091,    0.092092,    0.093093,    0.094094,    0.095095,\n",
       "          0.096096,    0.097097,    0.098098,    0.099099,      0.1001,      0.1011,      0.1021,      0.1031,      0.1041,     0.10511,     0.10611,     0.10711,     0.10811,     0.10911,     0.11011,     0.11111,     0.11211,     0.11311,     0.11411,     0.11512,     0.11612,     0.11712,     0.11812,     0.11912,\n",
       "           0.12012,     0.12112,     0.12212,     0.12312,     0.12412,     0.12513,     0.12613,     0.12713,     0.12813,     0.12913,     0.13013,     0.13113,     0.13213,     0.13313,     0.13413,     0.13514,     0.13614,     0.13714,     0.13814,     0.13914,     0.14014,     0.14114,     0.14214,     0.14314,\n",
       "           0.14414,     0.14515,     0.14615,     0.14715,     0.14815,     0.14915,     0.15015,     0.15115,     0.15215,     0.15315,     0.15415,     0.15516,     0.15616,     0.15716,     0.15816,     0.15916,     0.16016,     0.16116,     0.16216,     0.16316,     0.16416,     0.16517,     0.16617,     0.16717,\n",
       "           0.16817,     0.16917,     0.17017,     0.17117,     0.17217,     0.17317,     0.17417,     0.17518,     0.17618,     0.17718,     0.17818,     0.17918,     0.18018,     0.18118,     0.18218,     0.18318,     0.18418,     0.18519,     0.18619,     0.18719,     0.18819,     0.18919,     0.19019,     0.19119,\n",
       "           0.19219,     0.19319,     0.19419,      0.1952,      0.1962,      0.1972,      0.1982,      0.1992,      0.2002,      0.2012,      0.2022,      0.2032,      0.2042,     0.20521,     0.20621,     0.20721,     0.20821,     0.20921,     0.21021,     0.21121,     0.21221,     0.21321,     0.21421,     0.21522,\n",
       "           0.21622,     0.21722,     0.21822,     0.21922,     0.22022,     0.22122,     0.22222,     0.22322,     0.22422,     0.22523,     0.22623,     0.22723,     0.22823,     0.22923,     0.23023,     0.23123,     0.23223,     0.23323,     0.23423,     0.23524,     0.23624,     0.23724,     0.23824,     0.23924,\n",
       "           0.24024,     0.24124,     0.24224,     0.24324,     0.24424,     0.24525,     0.24625,     0.24725,     0.24825,     0.24925,     0.25025,     0.25125,     0.25225,     0.25325,     0.25425,     0.25526,     0.25626,     0.25726,     0.25826,     0.25926,     0.26026,     0.26126,     0.26226,     0.26326,\n",
       "           0.26426,     0.26527,     0.26627,     0.26727,     0.26827,     0.26927,     0.27027,     0.27127,     0.27227,     0.27327,     0.27427,     0.27528,     0.27628,     0.27728,     0.27828,     0.27928,     0.28028,     0.28128,     0.28228,     0.28328,     0.28428,     0.28529,     0.28629,     0.28729,\n",
       "           0.28829,     0.28929,     0.29029,     0.29129,     0.29229,     0.29329,     0.29429,      0.2953,      0.2963,      0.2973,      0.2983,      0.2993,      0.3003,      0.3013,      0.3023,      0.3033,      0.3043,     0.30531,     0.30631,     0.30731,     0.30831,     0.30931,     0.31031,     0.31131,\n",
       "           0.31231,     0.31331,     0.31431,     0.31532,     0.31632,     0.31732,     0.31832,     0.31932,     0.32032,     0.32132,     0.32232,     0.32332,     0.32432,     0.32533,     0.32633,     0.32733,     0.32833,     0.32933,     0.33033,     0.33133,     0.33233,     0.33333,     0.33433,     0.33534,\n",
       "           0.33634,     0.33734,     0.33834,     0.33934,     0.34034,     0.34134,     0.34234,     0.34334,     0.34434,     0.34535,     0.34635,     0.34735,     0.34835,     0.34935,     0.35035,     0.35135,     0.35235,     0.35335,     0.35435,     0.35536,     0.35636,     0.35736,     0.35836,     0.35936,\n",
       "           0.36036,     0.36136,     0.36236,     0.36336,     0.36436,     0.36537,     0.36637,     0.36737,     0.36837,     0.36937,     0.37037,     0.37137,     0.37237,     0.37337,     0.37437,     0.37538,     0.37638,     0.37738,     0.37838,     0.37938,     0.38038,     0.38138,     0.38238,     0.38338,\n",
       "           0.38438,     0.38539,     0.38639,     0.38739,     0.38839,     0.38939,     0.39039,     0.39139,     0.39239,     0.39339,     0.39439,      0.3954,      0.3964,      0.3974,      0.3984,      0.3994,      0.4004,      0.4014,      0.4024,      0.4034,      0.4044,     0.40541,     0.40641,     0.40741,\n",
       "           0.40841,     0.40941,     0.41041,     0.41141,     0.41241,     0.41341,     0.41441,     0.41542,     0.41642,     0.41742,     0.41842,     0.41942,     0.42042,     0.42142,     0.42242,     0.42342,     0.42442,     0.42543,     0.42643,     0.42743,     0.42843,     0.42943,     0.43043,     0.43143,\n",
       "           0.43243,     0.43343,     0.43443,     0.43544,     0.43644,     0.43744,     0.43844,     0.43944,     0.44044,     0.44144,     0.44244,     0.44344,     0.44444,     0.44545,     0.44645,     0.44745,     0.44845,     0.44945,     0.45045,     0.45145,     0.45245,     0.45345,     0.45445,     0.45546,\n",
       "           0.45646,     0.45746,     0.45846,     0.45946,     0.46046,     0.46146,     0.46246,     0.46346,     0.46446,     0.46547,     0.46647,     0.46747,     0.46847,     0.46947,     0.47047,     0.47147,     0.47247,     0.47347,     0.47447,     0.47548,     0.47648,     0.47748,     0.47848,     0.47948,\n",
       "           0.48048,     0.48148,     0.48248,     0.48348,     0.48448,     0.48549,     0.48649,     0.48749,     0.48849,     0.48949,     0.49049,     0.49149,     0.49249,     0.49349,     0.49449,      0.4955,      0.4965,      0.4975,      0.4985,      0.4995,      0.5005,      0.5015,      0.5025,      0.5035,\n",
       "            0.5045,     0.50551,     0.50651,     0.50751,     0.50851,     0.50951,     0.51051,     0.51151,     0.51251,     0.51351,     0.51451,     0.51552,     0.51652,     0.51752,     0.51852,     0.51952,     0.52052,     0.52152,     0.52252,     0.52352,     0.52452,     0.52553,     0.52653,     0.52753,\n",
       "           0.52853,     0.52953,     0.53053,     0.53153,     0.53253,     0.53353,     0.53453,     0.53554,     0.53654,     0.53754,     0.53854,     0.53954,     0.54054,     0.54154,     0.54254,     0.54354,     0.54454,     0.54555,     0.54655,     0.54755,     0.54855,     0.54955,     0.55055,     0.55155,\n",
       "           0.55255,     0.55355,     0.55455,     0.55556,     0.55656,     0.55756,     0.55856,     0.55956,     0.56056,     0.56156,     0.56256,     0.56356,     0.56456,     0.56557,     0.56657,     0.56757,     0.56857,     0.56957,     0.57057,     0.57157,     0.57257,     0.57357,     0.57457,     0.57558,\n",
       "           0.57658,     0.57758,     0.57858,     0.57958,     0.58058,     0.58158,     0.58258,     0.58358,     0.58458,     0.58559,     0.58659,     0.58759,     0.58859,     0.58959,     0.59059,     0.59159,     0.59259,     0.59359,     0.59459,      0.5956,      0.5966,      0.5976,      0.5986,      0.5996,\n",
       "            0.6006,      0.6016,      0.6026,      0.6036,      0.6046,     0.60561,     0.60661,     0.60761,     0.60861,     0.60961,     0.61061,     0.61161,     0.61261,     0.61361,     0.61461,     0.61562,     0.61662,     0.61762,     0.61862,     0.61962,     0.62062,     0.62162,     0.62262,     0.62362,\n",
       "           0.62462,     0.62563,     0.62663,     0.62763,     0.62863,     0.62963,     0.63063,     0.63163,     0.63263,     0.63363,     0.63463,     0.63564,     0.63664,     0.63764,     0.63864,     0.63964,     0.64064,     0.64164,     0.64264,     0.64364,     0.64464,     0.64565,     0.64665,     0.64765,\n",
       "           0.64865,     0.64965,     0.65065,     0.65165,     0.65265,     0.65365,     0.65465,     0.65566,     0.65666,     0.65766,     0.65866,     0.65966,     0.66066,     0.66166,     0.66266,     0.66366,     0.66466,     0.66567,     0.66667,     0.66767,     0.66867,     0.66967,     0.67067,     0.67167,\n",
       "           0.67267,     0.67367,     0.67467,     0.67568,     0.67668,     0.67768,     0.67868,     0.67968,     0.68068,     0.68168,     0.68268,     0.68368,     0.68468,     0.68569,     0.68669,     0.68769,     0.68869,     0.68969,     0.69069,     0.69169,     0.69269,     0.69369,     0.69469,      0.6957,\n",
       "            0.6967,      0.6977,      0.6987,      0.6997,      0.7007,      0.7017,      0.7027,      0.7037,      0.7047,     0.70571,     0.70671,     0.70771,     0.70871,     0.70971,     0.71071,     0.71171,     0.71271,     0.71371,     0.71471,     0.71572,     0.71672,     0.71772,     0.71872,     0.71972,\n",
       "           0.72072,     0.72172,     0.72272,     0.72372,     0.72472,     0.72573,     0.72673,     0.72773,     0.72873,     0.72973,     0.73073,     0.73173,     0.73273,     0.73373,     0.73473,     0.73574,     0.73674,     0.73774,     0.73874,     0.73974,     0.74074,     0.74174,     0.74274,     0.74374,\n",
       "           0.74474,     0.74575,     0.74675,     0.74775,     0.74875,     0.74975,     0.75075,     0.75175,     0.75275,     0.75375,     0.75475,     0.75576,     0.75676,     0.75776,     0.75876,     0.75976,     0.76076,     0.76176,     0.76276,     0.76376,     0.76476,     0.76577,     0.76677,     0.76777,\n",
       "           0.76877,     0.76977,     0.77077,     0.77177,     0.77277,     0.77377,     0.77477,     0.77578,     0.77678,     0.77778,     0.77878,     0.77978,     0.78078,     0.78178,     0.78278,     0.78378,     0.78478,     0.78579,     0.78679,     0.78779,     0.78879,     0.78979,     0.79079,     0.79179,\n",
       "           0.79279,     0.79379,     0.79479,      0.7958,      0.7968,      0.7978,      0.7988,      0.7998,      0.8008,      0.8018,      0.8028,      0.8038,      0.8048,     0.80581,     0.80681,     0.80781,     0.80881,     0.80981,     0.81081,     0.81181,     0.81281,     0.81381,     0.81481,     0.81582,\n",
       "           0.81682,     0.81782,     0.81882,     0.81982,     0.82082,     0.82182,     0.82282,     0.82382,     0.82482,     0.82583,     0.82683,     0.82783,     0.82883,     0.82983,     0.83083,     0.83183,     0.83283,     0.83383,     0.83483,     0.83584,     0.83684,     0.83784,     0.83884,     0.83984,\n",
       "           0.84084,     0.84184,     0.84284,     0.84384,     0.84484,     0.84585,     0.84685,     0.84785,     0.84885,     0.84985,     0.85085,     0.85185,     0.85285,     0.85385,     0.85485,     0.85586,     0.85686,     0.85786,     0.85886,     0.85986,     0.86086,     0.86186,     0.86286,     0.86386,\n",
       "           0.86486,     0.86587,     0.86687,     0.86787,     0.86887,     0.86987,     0.87087,     0.87187,     0.87287,     0.87387,     0.87487,     0.87588,     0.87688,     0.87788,     0.87888,     0.87988,     0.88088,     0.88188,     0.88288,     0.88388,     0.88488,     0.88589,     0.88689,     0.88789,\n",
       "           0.88889,     0.88989,     0.89089,     0.89189,     0.89289,     0.89389,     0.89489,      0.8959,      0.8969,      0.8979,      0.8989,      0.8999,      0.9009,      0.9019,      0.9029,      0.9039,      0.9049,     0.90591,     0.90691,     0.90791,     0.90891,     0.90991,     0.91091,     0.91191,\n",
       "           0.91291,     0.91391,     0.91491,     0.91592,     0.91692,     0.91792,     0.91892,     0.91992,     0.92092,     0.92192,     0.92292,     0.92392,     0.92492,     0.92593,     0.92693,     0.92793,     0.92893,     0.92993,     0.93093,     0.93193,     0.93293,     0.93393,     0.93493,     0.93594,\n",
       "           0.93694,     0.93794,     0.93894,     0.93994,     0.94094,     0.94194,     0.94294,     0.94394,     0.94494,     0.94595,     0.94695,     0.94795,     0.94895,     0.94995,     0.95095,     0.95195,     0.95295,     0.95395,     0.95495,     0.95596,     0.95696,     0.95796,     0.95896,     0.95996,\n",
       "           0.96096,     0.96196,     0.96296,     0.96396,     0.96496,     0.96597,     0.96697,     0.96797,     0.96897,     0.96997,     0.97097,     0.97197,     0.97297,     0.97397,     0.97497,     0.97598,     0.97698,     0.97798,     0.97898,     0.97998,     0.98098,     0.98198,     0.98298,     0.98398,\n",
       "           0.98498,     0.98599,     0.98699,     0.98799,     0.98899,     0.98999,     0.99099,     0.99199,     0.99299,     0.99399,     0.99499,       0.996,       0.997,       0.998,       0.999,           1]), array([[    0.63111,     0.63111,     0.63111, ...,           0,           0,           0],\n",
       "       [     0.4257,      0.4257,      0.4257, ...,           0,           0,           0]]), 'Confidence', 'F1'], [array([          0,    0.001001,    0.002002,    0.003003,    0.004004,    0.005005,    0.006006,    0.007007,    0.008008,    0.009009,     0.01001,    0.011011,    0.012012,    0.013013,    0.014014,    0.015015,    0.016016,    0.017017,    0.018018,    0.019019,     0.02002,    0.021021,    0.022022,    0.023023,\n",
       "          0.024024,    0.025025,    0.026026,    0.027027,    0.028028,    0.029029,     0.03003,    0.031031,    0.032032,    0.033033,    0.034034,    0.035035,    0.036036,    0.037037,    0.038038,    0.039039,     0.04004,    0.041041,    0.042042,    0.043043,    0.044044,    0.045045,    0.046046,    0.047047,\n",
       "          0.048048,    0.049049,     0.05005,    0.051051,    0.052052,    0.053053,    0.054054,    0.055055,    0.056056,    0.057057,    0.058058,    0.059059,     0.06006,    0.061061,    0.062062,    0.063063,    0.064064,    0.065065,    0.066066,    0.067067,    0.068068,    0.069069,     0.07007,    0.071071,\n",
       "          0.072072,    0.073073,    0.074074,    0.075075,    0.076076,    0.077077,    0.078078,    0.079079,     0.08008,    0.081081,    0.082082,    0.083083,    0.084084,    0.085085,    0.086086,    0.087087,    0.088088,    0.089089,     0.09009,    0.091091,    0.092092,    0.093093,    0.094094,    0.095095,\n",
       "          0.096096,    0.097097,    0.098098,    0.099099,      0.1001,      0.1011,      0.1021,      0.1031,      0.1041,     0.10511,     0.10611,     0.10711,     0.10811,     0.10911,     0.11011,     0.11111,     0.11211,     0.11311,     0.11411,     0.11512,     0.11612,     0.11712,     0.11812,     0.11912,\n",
       "           0.12012,     0.12112,     0.12212,     0.12312,     0.12412,     0.12513,     0.12613,     0.12713,     0.12813,     0.12913,     0.13013,     0.13113,     0.13213,     0.13313,     0.13413,     0.13514,     0.13614,     0.13714,     0.13814,     0.13914,     0.14014,     0.14114,     0.14214,     0.14314,\n",
       "           0.14414,     0.14515,     0.14615,     0.14715,     0.14815,     0.14915,     0.15015,     0.15115,     0.15215,     0.15315,     0.15415,     0.15516,     0.15616,     0.15716,     0.15816,     0.15916,     0.16016,     0.16116,     0.16216,     0.16316,     0.16416,     0.16517,     0.16617,     0.16717,\n",
       "           0.16817,     0.16917,     0.17017,     0.17117,     0.17217,     0.17317,     0.17417,     0.17518,     0.17618,     0.17718,     0.17818,     0.17918,     0.18018,     0.18118,     0.18218,     0.18318,     0.18418,     0.18519,     0.18619,     0.18719,     0.18819,     0.18919,     0.19019,     0.19119,\n",
       "           0.19219,     0.19319,     0.19419,      0.1952,      0.1962,      0.1972,      0.1982,      0.1992,      0.2002,      0.2012,      0.2022,      0.2032,      0.2042,     0.20521,     0.20621,     0.20721,     0.20821,     0.20921,     0.21021,     0.21121,     0.21221,     0.21321,     0.21421,     0.21522,\n",
       "           0.21622,     0.21722,     0.21822,     0.21922,     0.22022,     0.22122,     0.22222,     0.22322,     0.22422,     0.22523,     0.22623,     0.22723,     0.22823,     0.22923,     0.23023,     0.23123,     0.23223,     0.23323,     0.23423,     0.23524,     0.23624,     0.23724,     0.23824,     0.23924,\n",
       "           0.24024,     0.24124,     0.24224,     0.24324,     0.24424,     0.24525,     0.24625,     0.24725,     0.24825,     0.24925,     0.25025,     0.25125,     0.25225,     0.25325,     0.25425,     0.25526,     0.25626,     0.25726,     0.25826,     0.25926,     0.26026,     0.26126,     0.26226,     0.26326,\n",
       "           0.26426,     0.26527,     0.26627,     0.26727,     0.26827,     0.26927,     0.27027,     0.27127,     0.27227,     0.27327,     0.27427,     0.27528,     0.27628,     0.27728,     0.27828,     0.27928,     0.28028,     0.28128,     0.28228,     0.28328,     0.28428,     0.28529,     0.28629,     0.28729,\n",
       "           0.28829,     0.28929,     0.29029,     0.29129,     0.29229,     0.29329,     0.29429,      0.2953,      0.2963,      0.2973,      0.2983,      0.2993,      0.3003,      0.3013,      0.3023,      0.3033,      0.3043,     0.30531,     0.30631,     0.30731,     0.30831,     0.30931,     0.31031,     0.31131,\n",
       "           0.31231,     0.31331,     0.31431,     0.31532,     0.31632,     0.31732,     0.31832,     0.31932,     0.32032,     0.32132,     0.32232,     0.32332,     0.32432,     0.32533,     0.32633,     0.32733,     0.32833,     0.32933,     0.33033,     0.33133,     0.33233,     0.33333,     0.33433,     0.33534,\n",
       "           0.33634,     0.33734,     0.33834,     0.33934,     0.34034,     0.34134,     0.34234,     0.34334,     0.34434,     0.34535,     0.34635,     0.34735,     0.34835,     0.34935,     0.35035,     0.35135,     0.35235,     0.35335,     0.35435,     0.35536,     0.35636,     0.35736,     0.35836,     0.35936,\n",
       "           0.36036,     0.36136,     0.36236,     0.36336,     0.36436,     0.36537,     0.36637,     0.36737,     0.36837,     0.36937,     0.37037,     0.37137,     0.37237,     0.37337,     0.37437,     0.37538,     0.37638,     0.37738,     0.37838,     0.37938,     0.38038,     0.38138,     0.38238,     0.38338,\n",
       "           0.38438,     0.38539,     0.38639,     0.38739,     0.38839,     0.38939,     0.39039,     0.39139,     0.39239,     0.39339,     0.39439,      0.3954,      0.3964,      0.3974,      0.3984,      0.3994,      0.4004,      0.4014,      0.4024,      0.4034,      0.4044,     0.40541,     0.40641,     0.40741,\n",
       "           0.40841,     0.40941,     0.41041,     0.41141,     0.41241,     0.41341,     0.41441,     0.41542,     0.41642,     0.41742,     0.41842,     0.41942,     0.42042,     0.42142,     0.42242,     0.42342,     0.42442,     0.42543,     0.42643,     0.42743,     0.42843,     0.42943,     0.43043,     0.43143,\n",
       "           0.43243,     0.43343,     0.43443,     0.43544,     0.43644,     0.43744,     0.43844,     0.43944,     0.44044,     0.44144,     0.44244,     0.44344,     0.44444,     0.44545,     0.44645,     0.44745,     0.44845,     0.44945,     0.45045,     0.45145,     0.45245,     0.45345,     0.45445,     0.45546,\n",
       "           0.45646,     0.45746,     0.45846,     0.45946,     0.46046,     0.46146,     0.46246,     0.46346,     0.46446,     0.46547,     0.46647,     0.46747,     0.46847,     0.46947,     0.47047,     0.47147,     0.47247,     0.47347,     0.47447,     0.47548,     0.47648,     0.47748,     0.47848,     0.47948,\n",
       "           0.48048,     0.48148,     0.48248,     0.48348,     0.48448,     0.48549,     0.48649,     0.48749,     0.48849,     0.48949,     0.49049,     0.49149,     0.49249,     0.49349,     0.49449,      0.4955,      0.4965,      0.4975,      0.4985,      0.4995,      0.5005,      0.5015,      0.5025,      0.5035,\n",
       "            0.5045,     0.50551,     0.50651,     0.50751,     0.50851,     0.50951,     0.51051,     0.51151,     0.51251,     0.51351,     0.51451,     0.51552,     0.51652,     0.51752,     0.51852,     0.51952,     0.52052,     0.52152,     0.52252,     0.52352,     0.52452,     0.52553,     0.52653,     0.52753,\n",
       "           0.52853,     0.52953,     0.53053,     0.53153,     0.53253,     0.53353,     0.53453,     0.53554,     0.53654,     0.53754,     0.53854,     0.53954,     0.54054,     0.54154,     0.54254,     0.54354,     0.54454,     0.54555,     0.54655,     0.54755,     0.54855,     0.54955,     0.55055,     0.55155,\n",
       "           0.55255,     0.55355,     0.55455,     0.55556,     0.55656,     0.55756,     0.55856,     0.55956,     0.56056,     0.56156,     0.56256,     0.56356,     0.56456,     0.56557,     0.56657,     0.56757,     0.56857,     0.56957,     0.57057,     0.57157,     0.57257,     0.57357,     0.57457,     0.57558,\n",
       "           0.57658,     0.57758,     0.57858,     0.57958,     0.58058,     0.58158,     0.58258,     0.58358,     0.58458,     0.58559,     0.58659,     0.58759,     0.58859,     0.58959,     0.59059,     0.59159,     0.59259,     0.59359,     0.59459,      0.5956,      0.5966,      0.5976,      0.5986,      0.5996,\n",
       "            0.6006,      0.6016,      0.6026,      0.6036,      0.6046,     0.60561,     0.60661,     0.60761,     0.60861,     0.60961,     0.61061,     0.61161,     0.61261,     0.61361,     0.61461,     0.61562,     0.61662,     0.61762,     0.61862,     0.61962,     0.62062,     0.62162,     0.62262,     0.62362,\n",
       "           0.62462,     0.62563,     0.62663,     0.62763,     0.62863,     0.62963,     0.63063,     0.63163,     0.63263,     0.63363,     0.63463,     0.63564,     0.63664,     0.63764,     0.63864,     0.63964,     0.64064,     0.64164,     0.64264,     0.64364,     0.64464,     0.64565,     0.64665,     0.64765,\n",
       "           0.64865,     0.64965,     0.65065,     0.65165,     0.65265,     0.65365,     0.65465,     0.65566,     0.65666,     0.65766,     0.65866,     0.65966,     0.66066,     0.66166,     0.66266,     0.66366,     0.66466,     0.66567,     0.66667,     0.66767,     0.66867,     0.66967,     0.67067,     0.67167,\n",
       "           0.67267,     0.67367,     0.67467,     0.67568,     0.67668,     0.67768,     0.67868,     0.67968,     0.68068,     0.68168,     0.68268,     0.68368,     0.68468,     0.68569,     0.68669,     0.68769,     0.68869,     0.68969,     0.69069,     0.69169,     0.69269,     0.69369,     0.69469,      0.6957,\n",
       "            0.6967,      0.6977,      0.6987,      0.6997,      0.7007,      0.7017,      0.7027,      0.7037,      0.7047,     0.70571,     0.70671,     0.70771,     0.70871,     0.70971,     0.71071,     0.71171,     0.71271,     0.71371,     0.71471,     0.71572,     0.71672,     0.71772,     0.71872,     0.71972,\n",
       "           0.72072,     0.72172,     0.72272,     0.72372,     0.72472,     0.72573,     0.72673,     0.72773,     0.72873,     0.72973,     0.73073,     0.73173,     0.73273,     0.73373,     0.73473,     0.73574,     0.73674,     0.73774,     0.73874,     0.73974,     0.74074,     0.74174,     0.74274,     0.74374,\n",
       "           0.74474,     0.74575,     0.74675,     0.74775,     0.74875,     0.74975,     0.75075,     0.75175,     0.75275,     0.75375,     0.75475,     0.75576,     0.75676,     0.75776,     0.75876,     0.75976,     0.76076,     0.76176,     0.76276,     0.76376,     0.76476,     0.76577,     0.76677,     0.76777,\n",
       "           0.76877,     0.76977,     0.77077,     0.77177,     0.77277,     0.77377,     0.77477,     0.77578,     0.77678,     0.77778,     0.77878,     0.77978,     0.78078,     0.78178,     0.78278,     0.78378,     0.78478,     0.78579,     0.78679,     0.78779,     0.78879,     0.78979,     0.79079,     0.79179,\n",
       "           0.79279,     0.79379,     0.79479,      0.7958,      0.7968,      0.7978,      0.7988,      0.7998,      0.8008,      0.8018,      0.8028,      0.8038,      0.8048,     0.80581,     0.80681,     0.80781,     0.80881,     0.80981,     0.81081,     0.81181,     0.81281,     0.81381,     0.81481,     0.81582,\n",
       "           0.81682,     0.81782,     0.81882,     0.81982,     0.82082,     0.82182,     0.82282,     0.82382,     0.82482,     0.82583,     0.82683,     0.82783,     0.82883,     0.82983,     0.83083,     0.83183,     0.83283,     0.83383,     0.83483,     0.83584,     0.83684,     0.83784,     0.83884,     0.83984,\n",
       "           0.84084,     0.84184,     0.84284,     0.84384,     0.84484,     0.84585,     0.84685,     0.84785,     0.84885,     0.84985,     0.85085,     0.85185,     0.85285,     0.85385,     0.85485,     0.85586,     0.85686,     0.85786,     0.85886,     0.85986,     0.86086,     0.86186,     0.86286,     0.86386,\n",
       "           0.86486,     0.86587,     0.86687,     0.86787,     0.86887,     0.86987,     0.87087,     0.87187,     0.87287,     0.87387,     0.87487,     0.87588,     0.87688,     0.87788,     0.87888,     0.87988,     0.88088,     0.88188,     0.88288,     0.88388,     0.88488,     0.88589,     0.88689,     0.88789,\n",
       "           0.88889,     0.88989,     0.89089,     0.89189,     0.89289,     0.89389,     0.89489,      0.8959,      0.8969,      0.8979,      0.8989,      0.8999,      0.9009,      0.9019,      0.9029,      0.9039,      0.9049,     0.90591,     0.90691,     0.90791,     0.90891,     0.90991,     0.91091,     0.91191,\n",
       "           0.91291,     0.91391,     0.91491,     0.91592,     0.91692,     0.91792,     0.91892,     0.91992,     0.92092,     0.92192,     0.92292,     0.92392,     0.92492,     0.92593,     0.92693,     0.92793,     0.92893,     0.92993,     0.93093,     0.93193,     0.93293,     0.93393,     0.93493,     0.93594,\n",
       "           0.93694,     0.93794,     0.93894,     0.93994,     0.94094,     0.94194,     0.94294,     0.94394,     0.94494,     0.94595,     0.94695,     0.94795,     0.94895,     0.94995,     0.95095,     0.95195,     0.95295,     0.95395,     0.95495,     0.95596,     0.95696,     0.95796,     0.95896,     0.95996,\n",
       "           0.96096,     0.96196,     0.96296,     0.96396,     0.96496,     0.96597,     0.96697,     0.96797,     0.96897,     0.96997,     0.97097,     0.97197,     0.97297,     0.97397,     0.97497,     0.97598,     0.97698,     0.97798,     0.97898,     0.97998,     0.98098,     0.98198,     0.98298,     0.98398,\n",
       "           0.98498,     0.98599,     0.98699,     0.98799,     0.98899,     0.98999,     0.99099,     0.99199,     0.99299,     0.99399,     0.99499,       0.996,       0.997,       0.998,       0.999,           1]), array([[    0.55039,     0.55039,     0.55039, ...,           1,           1,           1],\n",
       "       [    0.41732,     0.41732,     0.41732, ...,           1,           1,           1]]), 'Confidence', 'Precision'], [array([          0,    0.001001,    0.002002,    0.003003,    0.004004,    0.005005,    0.006006,    0.007007,    0.008008,    0.009009,     0.01001,    0.011011,    0.012012,    0.013013,    0.014014,    0.015015,    0.016016,    0.017017,    0.018018,    0.019019,     0.02002,    0.021021,    0.022022,    0.023023,\n",
       "          0.024024,    0.025025,    0.026026,    0.027027,    0.028028,    0.029029,     0.03003,    0.031031,    0.032032,    0.033033,    0.034034,    0.035035,    0.036036,    0.037037,    0.038038,    0.039039,     0.04004,    0.041041,    0.042042,    0.043043,    0.044044,    0.045045,    0.046046,    0.047047,\n",
       "          0.048048,    0.049049,     0.05005,    0.051051,    0.052052,    0.053053,    0.054054,    0.055055,    0.056056,    0.057057,    0.058058,    0.059059,     0.06006,    0.061061,    0.062062,    0.063063,    0.064064,    0.065065,    0.066066,    0.067067,    0.068068,    0.069069,     0.07007,    0.071071,\n",
       "          0.072072,    0.073073,    0.074074,    0.075075,    0.076076,    0.077077,    0.078078,    0.079079,     0.08008,    0.081081,    0.082082,    0.083083,    0.084084,    0.085085,    0.086086,    0.087087,    0.088088,    0.089089,     0.09009,    0.091091,    0.092092,    0.093093,    0.094094,    0.095095,\n",
       "          0.096096,    0.097097,    0.098098,    0.099099,      0.1001,      0.1011,      0.1021,      0.1031,      0.1041,     0.10511,     0.10611,     0.10711,     0.10811,     0.10911,     0.11011,     0.11111,     0.11211,     0.11311,     0.11411,     0.11512,     0.11612,     0.11712,     0.11812,     0.11912,\n",
       "           0.12012,     0.12112,     0.12212,     0.12312,     0.12412,     0.12513,     0.12613,     0.12713,     0.12813,     0.12913,     0.13013,     0.13113,     0.13213,     0.13313,     0.13413,     0.13514,     0.13614,     0.13714,     0.13814,     0.13914,     0.14014,     0.14114,     0.14214,     0.14314,\n",
       "           0.14414,     0.14515,     0.14615,     0.14715,     0.14815,     0.14915,     0.15015,     0.15115,     0.15215,     0.15315,     0.15415,     0.15516,     0.15616,     0.15716,     0.15816,     0.15916,     0.16016,     0.16116,     0.16216,     0.16316,     0.16416,     0.16517,     0.16617,     0.16717,\n",
       "           0.16817,     0.16917,     0.17017,     0.17117,     0.17217,     0.17317,     0.17417,     0.17518,     0.17618,     0.17718,     0.17818,     0.17918,     0.18018,     0.18118,     0.18218,     0.18318,     0.18418,     0.18519,     0.18619,     0.18719,     0.18819,     0.18919,     0.19019,     0.19119,\n",
       "           0.19219,     0.19319,     0.19419,      0.1952,      0.1962,      0.1972,      0.1982,      0.1992,      0.2002,      0.2012,      0.2022,      0.2032,      0.2042,     0.20521,     0.20621,     0.20721,     0.20821,     0.20921,     0.21021,     0.21121,     0.21221,     0.21321,     0.21421,     0.21522,\n",
       "           0.21622,     0.21722,     0.21822,     0.21922,     0.22022,     0.22122,     0.22222,     0.22322,     0.22422,     0.22523,     0.22623,     0.22723,     0.22823,     0.22923,     0.23023,     0.23123,     0.23223,     0.23323,     0.23423,     0.23524,     0.23624,     0.23724,     0.23824,     0.23924,\n",
       "           0.24024,     0.24124,     0.24224,     0.24324,     0.24424,     0.24525,     0.24625,     0.24725,     0.24825,     0.24925,     0.25025,     0.25125,     0.25225,     0.25325,     0.25425,     0.25526,     0.25626,     0.25726,     0.25826,     0.25926,     0.26026,     0.26126,     0.26226,     0.26326,\n",
       "           0.26426,     0.26527,     0.26627,     0.26727,     0.26827,     0.26927,     0.27027,     0.27127,     0.27227,     0.27327,     0.27427,     0.27528,     0.27628,     0.27728,     0.27828,     0.27928,     0.28028,     0.28128,     0.28228,     0.28328,     0.28428,     0.28529,     0.28629,     0.28729,\n",
       "           0.28829,     0.28929,     0.29029,     0.29129,     0.29229,     0.29329,     0.29429,      0.2953,      0.2963,      0.2973,      0.2983,      0.2993,      0.3003,      0.3013,      0.3023,      0.3033,      0.3043,     0.30531,     0.30631,     0.30731,     0.30831,     0.30931,     0.31031,     0.31131,\n",
       "           0.31231,     0.31331,     0.31431,     0.31532,     0.31632,     0.31732,     0.31832,     0.31932,     0.32032,     0.32132,     0.32232,     0.32332,     0.32432,     0.32533,     0.32633,     0.32733,     0.32833,     0.32933,     0.33033,     0.33133,     0.33233,     0.33333,     0.33433,     0.33534,\n",
       "           0.33634,     0.33734,     0.33834,     0.33934,     0.34034,     0.34134,     0.34234,     0.34334,     0.34434,     0.34535,     0.34635,     0.34735,     0.34835,     0.34935,     0.35035,     0.35135,     0.35235,     0.35335,     0.35435,     0.35536,     0.35636,     0.35736,     0.35836,     0.35936,\n",
       "           0.36036,     0.36136,     0.36236,     0.36336,     0.36436,     0.36537,     0.36637,     0.36737,     0.36837,     0.36937,     0.37037,     0.37137,     0.37237,     0.37337,     0.37437,     0.37538,     0.37638,     0.37738,     0.37838,     0.37938,     0.38038,     0.38138,     0.38238,     0.38338,\n",
       "           0.38438,     0.38539,     0.38639,     0.38739,     0.38839,     0.38939,     0.39039,     0.39139,     0.39239,     0.39339,     0.39439,      0.3954,      0.3964,      0.3974,      0.3984,      0.3994,      0.4004,      0.4014,      0.4024,      0.4034,      0.4044,     0.40541,     0.40641,     0.40741,\n",
       "           0.40841,     0.40941,     0.41041,     0.41141,     0.41241,     0.41341,     0.41441,     0.41542,     0.41642,     0.41742,     0.41842,     0.41942,     0.42042,     0.42142,     0.42242,     0.42342,     0.42442,     0.42543,     0.42643,     0.42743,     0.42843,     0.42943,     0.43043,     0.43143,\n",
       "           0.43243,     0.43343,     0.43443,     0.43544,     0.43644,     0.43744,     0.43844,     0.43944,     0.44044,     0.44144,     0.44244,     0.44344,     0.44444,     0.44545,     0.44645,     0.44745,     0.44845,     0.44945,     0.45045,     0.45145,     0.45245,     0.45345,     0.45445,     0.45546,\n",
       "           0.45646,     0.45746,     0.45846,     0.45946,     0.46046,     0.46146,     0.46246,     0.46346,     0.46446,     0.46547,     0.46647,     0.46747,     0.46847,     0.46947,     0.47047,     0.47147,     0.47247,     0.47347,     0.47447,     0.47548,     0.47648,     0.47748,     0.47848,     0.47948,\n",
       "           0.48048,     0.48148,     0.48248,     0.48348,     0.48448,     0.48549,     0.48649,     0.48749,     0.48849,     0.48949,     0.49049,     0.49149,     0.49249,     0.49349,     0.49449,      0.4955,      0.4965,      0.4975,      0.4985,      0.4995,      0.5005,      0.5015,      0.5025,      0.5035,\n",
       "            0.5045,     0.50551,     0.50651,     0.50751,     0.50851,     0.50951,     0.51051,     0.51151,     0.51251,     0.51351,     0.51451,     0.51552,     0.51652,     0.51752,     0.51852,     0.51952,     0.52052,     0.52152,     0.52252,     0.52352,     0.52452,     0.52553,     0.52653,     0.52753,\n",
       "           0.52853,     0.52953,     0.53053,     0.53153,     0.53253,     0.53353,     0.53453,     0.53554,     0.53654,     0.53754,     0.53854,     0.53954,     0.54054,     0.54154,     0.54254,     0.54354,     0.54454,     0.54555,     0.54655,     0.54755,     0.54855,     0.54955,     0.55055,     0.55155,\n",
       "           0.55255,     0.55355,     0.55455,     0.55556,     0.55656,     0.55756,     0.55856,     0.55956,     0.56056,     0.56156,     0.56256,     0.56356,     0.56456,     0.56557,     0.56657,     0.56757,     0.56857,     0.56957,     0.57057,     0.57157,     0.57257,     0.57357,     0.57457,     0.57558,\n",
       "           0.57658,     0.57758,     0.57858,     0.57958,     0.58058,     0.58158,     0.58258,     0.58358,     0.58458,     0.58559,     0.58659,     0.58759,     0.58859,     0.58959,     0.59059,     0.59159,     0.59259,     0.59359,     0.59459,      0.5956,      0.5966,      0.5976,      0.5986,      0.5996,\n",
       "            0.6006,      0.6016,      0.6026,      0.6036,      0.6046,     0.60561,     0.60661,     0.60761,     0.60861,     0.60961,     0.61061,     0.61161,     0.61261,     0.61361,     0.61461,     0.61562,     0.61662,     0.61762,     0.61862,     0.61962,     0.62062,     0.62162,     0.62262,     0.62362,\n",
       "           0.62462,     0.62563,     0.62663,     0.62763,     0.62863,     0.62963,     0.63063,     0.63163,     0.63263,     0.63363,     0.63463,     0.63564,     0.63664,     0.63764,     0.63864,     0.63964,     0.64064,     0.64164,     0.64264,     0.64364,     0.64464,     0.64565,     0.64665,     0.64765,\n",
       "           0.64865,     0.64965,     0.65065,     0.65165,     0.65265,     0.65365,     0.65465,     0.65566,     0.65666,     0.65766,     0.65866,     0.65966,     0.66066,     0.66166,     0.66266,     0.66366,     0.66466,     0.66567,     0.66667,     0.66767,     0.66867,     0.66967,     0.67067,     0.67167,\n",
       "           0.67267,     0.67367,     0.67467,     0.67568,     0.67668,     0.67768,     0.67868,     0.67968,     0.68068,     0.68168,     0.68268,     0.68368,     0.68468,     0.68569,     0.68669,     0.68769,     0.68869,     0.68969,     0.69069,     0.69169,     0.69269,     0.69369,     0.69469,      0.6957,\n",
       "            0.6967,      0.6977,      0.6987,      0.6997,      0.7007,      0.7017,      0.7027,      0.7037,      0.7047,     0.70571,     0.70671,     0.70771,     0.70871,     0.70971,     0.71071,     0.71171,     0.71271,     0.71371,     0.71471,     0.71572,     0.71672,     0.71772,     0.71872,     0.71972,\n",
       "           0.72072,     0.72172,     0.72272,     0.72372,     0.72472,     0.72573,     0.72673,     0.72773,     0.72873,     0.72973,     0.73073,     0.73173,     0.73273,     0.73373,     0.73473,     0.73574,     0.73674,     0.73774,     0.73874,     0.73974,     0.74074,     0.74174,     0.74274,     0.74374,\n",
       "           0.74474,     0.74575,     0.74675,     0.74775,     0.74875,     0.74975,     0.75075,     0.75175,     0.75275,     0.75375,     0.75475,     0.75576,     0.75676,     0.75776,     0.75876,     0.75976,     0.76076,     0.76176,     0.76276,     0.76376,     0.76476,     0.76577,     0.76677,     0.76777,\n",
       "           0.76877,     0.76977,     0.77077,     0.77177,     0.77277,     0.77377,     0.77477,     0.77578,     0.77678,     0.77778,     0.77878,     0.77978,     0.78078,     0.78178,     0.78278,     0.78378,     0.78478,     0.78579,     0.78679,     0.78779,     0.78879,     0.78979,     0.79079,     0.79179,\n",
       "           0.79279,     0.79379,     0.79479,      0.7958,      0.7968,      0.7978,      0.7988,      0.7998,      0.8008,      0.8018,      0.8028,      0.8038,      0.8048,     0.80581,     0.80681,     0.80781,     0.80881,     0.80981,     0.81081,     0.81181,     0.81281,     0.81381,     0.81481,     0.81582,\n",
       "           0.81682,     0.81782,     0.81882,     0.81982,     0.82082,     0.82182,     0.82282,     0.82382,     0.82482,     0.82583,     0.82683,     0.82783,     0.82883,     0.82983,     0.83083,     0.83183,     0.83283,     0.83383,     0.83483,     0.83584,     0.83684,     0.83784,     0.83884,     0.83984,\n",
       "           0.84084,     0.84184,     0.84284,     0.84384,     0.84484,     0.84585,     0.84685,     0.84785,     0.84885,     0.84985,     0.85085,     0.85185,     0.85285,     0.85385,     0.85485,     0.85586,     0.85686,     0.85786,     0.85886,     0.85986,     0.86086,     0.86186,     0.86286,     0.86386,\n",
       "           0.86486,     0.86587,     0.86687,     0.86787,     0.86887,     0.86987,     0.87087,     0.87187,     0.87287,     0.87387,     0.87487,     0.87588,     0.87688,     0.87788,     0.87888,     0.87988,     0.88088,     0.88188,     0.88288,     0.88388,     0.88488,     0.88589,     0.88689,     0.88789,\n",
       "           0.88889,     0.88989,     0.89089,     0.89189,     0.89289,     0.89389,     0.89489,      0.8959,      0.8969,      0.8979,      0.8989,      0.8999,      0.9009,      0.9019,      0.9029,      0.9039,      0.9049,     0.90591,     0.90691,     0.90791,     0.90891,     0.90991,     0.91091,     0.91191,\n",
       "           0.91291,     0.91391,     0.91491,     0.91592,     0.91692,     0.91792,     0.91892,     0.91992,     0.92092,     0.92192,     0.92292,     0.92392,     0.92492,     0.92593,     0.92693,     0.92793,     0.92893,     0.92993,     0.93093,     0.93193,     0.93293,     0.93393,     0.93493,     0.93594,\n",
       "           0.93694,     0.93794,     0.93894,     0.93994,     0.94094,     0.94194,     0.94294,     0.94394,     0.94494,     0.94595,     0.94695,     0.94795,     0.94895,     0.94995,     0.95095,     0.95195,     0.95295,     0.95395,     0.95495,     0.95596,     0.95696,     0.95796,     0.95896,     0.95996,\n",
       "           0.96096,     0.96196,     0.96296,     0.96396,     0.96496,     0.96597,     0.96697,     0.96797,     0.96897,     0.96997,     0.97097,     0.97197,     0.97297,     0.97397,     0.97497,     0.97598,     0.97698,     0.97798,     0.97898,     0.97998,     0.98098,     0.98198,     0.98298,     0.98398,\n",
       "           0.98498,     0.98599,     0.98699,     0.98799,     0.98899,     0.98999,     0.99099,     0.99199,     0.99299,     0.99399,     0.99499,       0.996,       0.997,       0.998,       0.999,           1]), array([[    0.73958,     0.73958,     0.73958, ...,           0,           0,           0],\n",
       "       [    0.43443,     0.43443,     0.43443, ...,           0,           0,           0]]), 'Confidence', 'Recall']]\n",
       "fitness: np.float64(0.30810465208313376)\n",
       "keys: ['metrics/precision(B)', 'metrics/recall(B)', 'metrics/mAP50(B)', 'metrics/mAP50-95(B)']\n",
       "maps: array([    0.35738,     0.19564])\n",
       "names: {0: 'boiler', 1: 'panel'}\n",
       "plot: True\n",
       "results_dict: {'metrics/precision(B)': np.float64(0.5962893978749988), 'metrics/recall(B)': np.float64(0.5467256097379048), 'metrics/mAP50(B)': np.float64(0.5924583608341402), 'metrics/mAP50-95(B)': np.float64(0.2765097955552442), 'fitness': np.float64(0.30810465208313376)}\n",
       "save_dir: WindowsPath('ModelBuild/model03_yolo_drone')\n",
       "speed: {'preprocess': 0.26096416667466354, 'inference': 4.19301166666628, 'loss': 0.00025333332208295667, 'postprocess': 0.8036225000068953}\n",
       "task: 'detect'"
      ]
     },
     "execution_count": 13,
     "metadata": {},
     "output_type": "execute_result"
    }
   ],
   "source": [
    "from ultralytics import YOLO\n",
    "import yaml\n",
    "\n",
    "# Load your pre-trained YOLOv8 model\n",
    "model = YOLO(\"yolov8m.pt\")\n",
    "\n",
    "# ✅ Load hyperparameters manually from hyp.yaml\n",
    "with open(r\"C:\\Users\\gnvca\\OneDrive\\Desktop\\JP\\model03split\\satellite\\hyp.yaml\", \"r\") as f:\n",
    "    hyp_params = yaml.safe_load(f)  # Converts YAML to dictionary\n",
    "\n",
    "# ✅ Pass hyperparameters as individual keyword arguments\n",
    "model.train(\n",
    "    data=r\"C:\\Users\\gnvca\\OneDrive\\Desktop\\JP\\model03split\\satellite\\yolo.yaml\",  # Dataset config\n",
    "    epochs=75,      # Total training epochs\n",
    "    imgsz=512,       # Image size (try 768, 1024 for better accuracy)\n",
    "    batch=16,        # Batch size (increase if GPU allows)\n",
    "    project = 'ModelBuild',\n",
    "    name='model03_yolo_drone',                 # Name of the specific experiment folder (creates a new folder)\n",
    "    exist_ok=True,    \n",
    "    amp=True,        # Automatic Mixed Precision (for speedup)\n",
    "    conf=0.2,        # Confidence threshold for predictions\n",
    "    iou=0.6,         # Intersection Over Union threshold\n",
    "    optimizer=\"AdamW\", # Optimizer choice\n",
    "    device=0,        # Use GPU 0\n",
    "    workers=4,       # Number of data workers (depends on CPU)\n",
    "    cache=True,      # Cache images to RAM for faster training\n",
    "    val=True,        # Run validation during training\n",
    "    verbose=True,    # Print logs during training\n",
    "    save=True,       # Save best and final models\n",
    ")\n"
   ]
  },
  {
   "cell_type": "code",
   "execution_count": 9,
   "metadata": {},
   "outputs": [
    {
     "name": "stdout",
     "output_type": "stream",
     "text": [
      "Ultralytics 8.3.94  Python-3.10.16 torch-2.6.0+cu126 CPU (AMD Ryzen 5 7600 6-Core Processor)\n",
      "Model summary (fused): 92 layers, 25,840,918 parameters, 0 gradients, 78.7 GFLOPs\n",
      "\n",
      "\u001b[34m\u001b[1mPyTorch:\u001b[0m starting from 'C:\\Users\\gnvca\\OneDrive\\Desktop\\JP\\ModelBuild\\model03_yolo_drone\\weights\\best.pt' with input shape (1, 3, 512, 512) BCHW and output shape(s) (1, 6, 5376) (49.6 MB)\n",
      "\n",
      "\u001b[34m\u001b[1mONNX:\u001b[0m starting export with onnx 1.17.0 opset 19...\n",
      "\u001b[34m\u001b[1mONNX:\u001b[0m slimming with onnxslim 0.1.48...\n",
      "\u001b[34m\u001b[1mONNX:\u001b[0m export success  1.5s, saved as 'C:\\Users\\gnvca\\OneDrive\\Desktop\\JP\\ModelBuild\\model03_yolo_drone\\weights\\best.onnx' (98.8 MB)\n",
      "\n",
      "Export complete (2.0s)\n",
      "Results saved to \u001b[1mC:\\Users\\gnvca\\OneDrive\\Desktop\\JP\\ModelBuild\\model03_yolo_drone\\weights\u001b[0m\n",
      "Predict:         yolo predict task=detect model=C:\\Users\\gnvca\\OneDrive\\Desktop\\JP\\ModelBuild\\model03_yolo_drone\\weights\\best.onnx imgsz=512  \n",
      "Validate:        yolo val task=detect model=C:\\Users\\gnvca\\OneDrive\\Desktop\\JP\\ModelBuild\\model03_yolo_drone\\weights\\best.onnx imgsz=512 data=C:\\Users\\gnvca\\OneDrive\\Desktop\\JP\\model03split\\satellite\\yolo.yaml  \n",
      "Visualize:       https://netron.app\n"
     ]
    },
    {
     "data": {
      "text/plain": [
       "'C:\\\\Users\\\\gnvca\\\\OneDrive\\\\Desktop\\\\JP\\\\ModelBuild\\\\model03_yolo_drone\\\\weights\\\\best.onnx'"
      ]
     },
     "execution_count": 9,
     "metadata": {},
     "output_type": "execute_result"
    }
   ],
   "source": [
    "from ultralytics import YOLO\n",
    "\n",
    "# Load your trained model\n",
    "model = YOLO(r\"C:\\Users\\gnvca\\OneDrive\\Desktop\\JP\\ModelBuild\\model03_yolo_drone\\weights\\best.pt\")\n",
    "\n",
    "# Export to ONNX\n",
    "model.export(format=\"onnx\")"
   ]
  },
  {
   "cell_type": "code",
   "execution_count": 10,
   "metadata": {},
   "outputs": [
    {
     "name": "stdout",
     "output_type": "stream",
     "text": [
      "\n",
      "\n",
      "WARNING  inference results will accumulate in RAM unless `stream=True` is passed, causing potential out-of-memory\n",
      "errors for large sources or long-running streams and videos. See https://docs.ultralytics.com/modes/predict/ for help.\n",
      "\n",
      "Example:\n",
      "    results = model(source=..., stream=True)  # generator of Results objects\n",
      "    for r in results:\n",
      "        boxes = r.boxes  # Boxes object for bbox outputs\n",
      "        masks = r.masks  # Masks object for segment masks outputs\n",
      "        probs = r.probs  # Class probabilities for classification outputs\n",
      "\n",
      "image 1/1107 C:\\Users\\gnvca\\OneDrive\\Desktop\\JP\\model03\\dataset\\images\\test\\ID00qprY.jpg: 384x512 (no detections), 29.0ms\n",
      "image 2/1107 C:\\Users\\gnvca\\OneDrive\\Desktop\\JP\\model03\\dataset\\images\\test\\ID01AciUc.jpg: 384x512 2 panels, 6.1ms\n",
      "image 3/1107 C:\\Users\\gnvca\\OneDrive\\Desktop\\JP\\model03\\dataset\\images\\test\\ID0328D.jpg: 384x512 1 panel, 6.4ms\n",
      "image 4/1107 C:\\Users\\gnvca\\OneDrive\\Desktop\\JP\\model03\\dataset\\images\\test\\ID05WxObCFTs9.jpg: 384x512 (no detections), 6.7ms\n",
      "image 5/1107 C:\\Users\\gnvca\\OneDrive\\Desktop\\JP\\model03\\dataset\\images\\test\\ID06AdCmLMlkO.jpg: 512x448 1 boiler, 1 panel, 29.6ms\n",
      "image 6/1107 C:\\Users\\gnvca\\OneDrive\\Desktop\\JP\\model03\\dataset\\images\\test\\ID0BTVyh4.jpg: 384x512 (no detections), 6.8ms\n",
      "image 7/1107 C:\\Users\\gnvca\\OneDrive\\Desktop\\JP\\model03\\dataset\\images\\test\\ID0FBDllOkNS3A.jpg: 384x512 1 panel, 6.2ms\n",
      "image 8/1107 C:\\Users\\gnvca\\OneDrive\\Desktop\\JP\\model03\\dataset\\images\\test\\ID0FjL0VeJuPBW.jpg: 160x512 2 boilers, 31.8ms\n",
      "image 9/1107 C:\\Users\\gnvca\\OneDrive\\Desktop\\JP\\model03\\dataset\\images\\test\\ID0HlRCFE5wCBkWP.jpg: 384x512 (no detections), 6.6ms\n",
      "image 10/1107 C:\\Users\\gnvca\\OneDrive\\Desktop\\JP\\model03\\dataset\\images\\test\\ID0IovKJW.jpg: 384x512 (no detections), 6.6ms\n",
      "image 11/1107 C:\\Users\\gnvca\\OneDrive\\Desktop\\JP\\model03\\dataset\\images\\test\\ID0LpXkRA81X.jpg: 384x512 (no detections), 6.3ms\n",
      "image 12/1107 C:\\Users\\gnvca\\OneDrive\\Desktop\\JP\\model03\\dataset\\images\\test\\ID0M63kKZ55.jpg: 384x512 (no detections), 6.6ms\n",
      "image 13/1107 C:\\Users\\gnvca\\OneDrive\\Desktop\\JP\\model03\\dataset\\images\\test\\ID0QsFWsyFqZdx.jpg: 384x512 2 panels, 6.3ms\n",
      "image 14/1107 C:\\Users\\gnvca\\OneDrive\\Desktop\\JP\\model03\\dataset\\images\\test\\ID0SfCD.jpg: 384x512 1 panel, 6.8ms\n",
      "image 15/1107 C:\\Users\\gnvca\\OneDrive\\Desktop\\JP\\model03\\dataset\\images\\test\\ID0akoJsfedXprL.jpg: 384x512 (no detections), 7.0ms\n",
      "image 16/1107 C:\\Users\\gnvca\\OneDrive\\Desktop\\JP\\model03\\dataset\\images\\test\\ID0dJJPCYanXEalJ.jpg: 384x512 1 panel, 6.6ms\n",
      "image 17/1107 C:\\Users\\gnvca\\OneDrive\\Desktop\\JP\\model03\\dataset\\images\\test\\ID0dfmojB.jpg: 384x512 (no detections), 7.1ms\n",
      "image 18/1107 C:\\Users\\gnvca\\OneDrive\\Desktop\\JP\\model03\\dataset\\images\\test\\ID0e6159wkv90z.jpg: 384x512 4 panels, 6.2ms\n",
      "image 19/1107 C:\\Users\\gnvca\\OneDrive\\Desktop\\JP\\model03\\dataset\\images\\test\\ID0kB33brV.jpg: 384x512 14 panels, 6.7ms\n",
      "image 20/1107 C:\\Users\\gnvca\\OneDrive\\Desktop\\JP\\model03\\dataset\\images\\test\\ID0maWjURTmcAjqi.jpg: 384x512 1 panel, 8.6ms\n",
      "image 21/1107 C:\\Users\\gnvca\\OneDrive\\Desktop\\JP\\model03\\dataset\\images\\test\\ID0pTyIRodXkgwhM.jpg: 384x512 1 panel, 6.7ms\n",
      "image 22/1107 C:\\Users\\gnvca\\OneDrive\\Desktop\\JP\\model03\\dataset\\images\\test\\ID0vKQKW.jpg: 512x512 2 boilers, 1 panel, 8.1ms\n",
      "image 23/1107 C:\\Users\\gnvca\\OneDrive\\Desktop\\JP\\model03\\dataset\\images\\test\\ID0yctFiI9JXoazy.jpg: 384x512 2 panels, 6.8ms\n",
      "image 24/1107 C:\\Users\\gnvca\\OneDrive\\Desktop\\JP\\model03\\dataset\\images\\test\\ID149tZzT8.jpg: 512x512 1 boiler, 8.0ms\n",
      "image 25/1107 C:\\Users\\gnvca\\OneDrive\\Desktop\\JP\\model03\\dataset\\images\\test\\ID1AfoHXF.jpg: 512x448 1 boiler, 7.9ms\n",
      "image 26/1107 C:\\Users\\gnvca\\OneDrive\\Desktop\\JP\\model03\\dataset\\images\\test\\ID1KYfDfr0L.jpg: 384x512 6 panels, 6.7ms\n",
      "image 27/1107 C:\\Users\\gnvca\\OneDrive\\Desktop\\JP\\model03\\dataset\\images\\test\\ID1LA6Rx8qCyZcTO.jpg: 384x512 3 panels, 6.9ms\n",
      "image 28/1107 C:\\Users\\gnvca\\OneDrive\\Desktop\\JP\\model03\\dataset\\images\\test\\ID1TOo3.jpg: 416x512 1 panel, 30.3ms\n",
      "image 29/1107 C:\\Users\\gnvca\\OneDrive\\Desktop\\JP\\model03\\dataset\\images\\test\\ID1UlsomrqgKDofZC.jpg: 384x512 4 panels, 7.1ms\n",
      "image 30/1107 C:\\Users\\gnvca\\OneDrive\\Desktop\\JP\\model03\\dataset\\images\\test\\ID1eo7z.jpg: 384x512 1 boiler, 1 panel, 6.4ms\n",
      "image 31/1107 C:\\Users\\gnvca\\OneDrive\\Desktop\\JP\\model03\\dataset\\images\\test\\ID1jkyzBoflp4.jpg: 320x512 (no detections), 29.5ms\n",
      "image 32/1107 C:\\Users\\gnvca\\OneDrive\\Desktop\\JP\\model03\\dataset\\images\\test\\ID1k2a9nf.jpg: 384x512 5 panels, 6.9ms\n",
      "image 33/1107 C:\\Users\\gnvca\\OneDrive\\Desktop\\JP\\model03\\dataset\\images\\test\\ID1kuxucbsbCX.jpg: 512x512 1 boiler, 8.5ms\n",
      "image 34/1107 C:\\Users\\gnvca\\OneDrive\\Desktop\\JP\\model03\\dataset\\images\\test\\ID1lAVUHzhMkn1P.jpg: 384x512 (no detections), 6.8ms\n",
      "image 35/1107 C:\\Users\\gnvca\\OneDrive\\Desktop\\JP\\model03\\dataset\\images\\test\\ID1notv9fSD.jpg: 384x512 1 panel, 6.1ms\n",
      "image 36/1107 C:\\Users\\gnvca\\OneDrive\\Desktop\\JP\\model03\\dataset\\images\\test\\ID1qhxezGRD.jpg: 384x512 2 panels, 6.4ms\n",
      "image 37/1107 C:\\Users\\gnvca\\OneDrive\\Desktop\\JP\\model03\\dataset\\images\\test\\ID1qlZeCi.jpg: 384x512 2 panels, 6.4ms\n",
      "image 38/1107 C:\\Users\\gnvca\\OneDrive\\Desktop\\JP\\model03\\dataset\\images\\test\\ID1skciQI3zi.jpg: 384x512 3 panels, 6.2ms\n",
      "image 39/1107 C:\\Users\\gnvca\\OneDrive\\Desktop\\JP\\model03\\dataset\\images\\test\\ID1uweyu0Fyd8eq.jpg: 384x512 6 panels, 6.1ms\n",
      "image 40/1107 C:\\Users\\gnvca\\OneDrive\\Desktop\\JP\\model03\\dataset\\images\\test\\ID1wP4IBH.jpg: 384x512 (no detections), 6.8ms\n",
      "image 41/1107 C:\\Users\\gnvca\\OneDrive\\Desktop\\JP\\model03\\dataset\\images\\test\\ID1xuupS.jpg: 416x512 2 panels, 7.7ms\n",
      "image 42/1107 C:\\Users\\gnvca\\OneDrive\\Desktop\\JP\\model03\\dataset\\images\\test\\ID21UQAbBk8nQG.jpg: 512x480 5 panels, 30.0ms\n",
      "image 43/1107 C:\\Users\\gnvca\\OneDrive\\Desktop\\JP\\model03\\dataset\\images\\test\\ID21zmyIZ.jpg: 384x512 1 panel, 6.8ms\n",
      "image 44/1107 C:\\Users\\gnvca\\OneDrive\\Desktop\\JP\\model03\\dataset\\images\\test\\ID25pMSm.jpg: 512x352 2 boilers, 29.3ms\n",
      "image 45/1107 C:\\Users\\gnvca\\OneDrive\\Desktop\\JP\\model03\\dataset\\images\\test\\ID280v0XHbkDu.jpg: 512x416 (no detections), 28.4ms\n",
      "image 46/1107 C:\\Users\\gnvca\\OneDrive\\Desktop\\JP\\model03\\dataset\\images\\test\\ID2Is7fwj.jpg: 512x512 (no detections), 7.8ms\n",
      "image 47/1107 C:\\Users\\gnvca\\OneDrive\\Desktop\\JP\\model03\\dataset\\images\\test\\ID2KZruU0L.jpg: 384x512 1 panel, 6.5ms\n",
      "image 48/1107 C:\\Users\\gnvca\\OneDrive\\Desktop\\JP\\model03\\dataset\\images\\test\\ID2NSkOIUD6F.jpg: 384x512 (no detections), 6.1ms\n",
      "image 49/1107 C:\\Users\\gnvca\\OneDrive\\Desktop\\JP\\model03\\dataset\\images\\test\\ID2PBo8gc6VGiXtQ.jpg: 384x512 1 panel, 6.2ms\n",
      "image 50/1107 C:\\Users\\gnvca\\OneDrive\\Desktop\\JP\\model03\\dataset\\images\\test\\ID2QAeip.jpg: 384x512 (no detections), 6.0ms\n",
      "image 51/1107 C:\\Users\\gnvca\\OneDrive\\Desktop\\JP\\model03\\dataset\\images\\test\\ID2Usl1ezSfbOV.jpg: 384x512 1 panel, 6.3ms\n",
      "image 52/1107 C:\\Users\\gnvca\\OneDrive\\Desktop\\JP\\model03\\dataset\\images\\test\\ID2Wk3tg.jpg: 384x512 1 panel, 6.1ms\n",
      "image 53/1107 C:\\Users\\gnvca\\OneDrive\\Desktop\\JP\\model03\\dataset\\images\\test\\ID2axpqnxH.jpg: 384x512 (no detections), 7.1ms\n",
      "image 54/1107 C:\\Users\\gnvca\\OneDrive\\Desktop\\JP\\model03\\dataset\\images\\test\\ID2nlz2h06bDG.jpg: 384x512 (no detections), 7.0ms\n",
      "image 55/1107 C:\\Users\\gnvca\\OneDrive\\Desktop\\JP\\model03\\dataset\\images\\test\\ID2oDIOfQM.jpg: 384x512 6 panels, 6.1ms\n",
      "image 56/1107 C:\\Users\\gnvca\\OneDrive\\Desktop\\JP\\model03\\dataset\\images\\test\\ID2r8ZX2S.jpg: 480x512 2 panels, 28.4ms\n",
      "image 57/1107 C:\\Users\\gnvca\\OneDrive\\Desktop\\JP\\model03\\dataset\\images\\test\\ID2s8DzB.jpg: 384x512 2 panels, 6.6ms\n",
      "image 58/1107 C:\\Users\\gnvca\\OneDrive\\Desktop\\JP\\model03\\dataset\\images\\test\\ID2tvAPl755je.jpg: 384x512 1 boiler, 6.2ms\n",
      "image 59/1107 C:\\Users\\gnvca\\OneDrive\\Desktop\\JP\\model03\\dataset\\images\\test\\ID2uOtEx5AComN.jpg: 384x512 (no detections), 6.5ms\n",
      "image 60/1107 C:\\Users\\gnvca\\OneDrive\\Desktop\\JP\\model03\\dataset\\images\\test\\ID30cTFRtDKdCwt1g.jpg: 384x512 2 panels, 10.0ms\n",
      "image 61/1107 C:\\Users\\gnvca\\OneDrive\\Desktop\\JP\\model03\\dataset\\images\\test\\ID34JQo9q.jpg: 384x512 (no detections), 10.0ms\n",
      "image 62/1107 C:\\Users\\gnvca\\OneDrive\\Desktop\\JP\\model03\\dataset\\images\\test\\ID3B1TvjBAtZ.jpg: 384x512 1 panel, 9.8ms\n",
      "image 63/1107 C:\\Users\\gnvca\\OneDrive\\Desktop\\JP\\model03\\dataset\\images\\test\\ID3BPzU27w4.jpg: 384x512 1 panel, 10.7ms\n",
      "image 64/1107 C:\\Users\\gnvca\\OneDrive\\Desktop\\JP\\model03\\dataset\\images\\test\\ID3E40hHStriUb.jpg: 384x512 1 boiler, 10.4ms\n",
      "image 65/1107 C:\\Users\\gnvca\\OneDrive\\Desktop\\JP\\model03\\dataset\\images\\test\\ID3LA0B23P.jpg: 384x512 2 panels, 10.9ms\n",
      "image 66/1107 C:\\Users\\gnvca\\OneDrive\\Desktop\\JP\\model03\\dataset\\images\\test\\ID3QPGZolA0.jpg: 384x512 7 panels, 11.1ms\n",
      "image 67/1107 C:\\Users\\gnvca\\OneDrive\\Desktop\\JP\\model03\\dataset\\images\\test\\ID3WVgGW.jpg: 512x512 5 panels, 14.0ms\n",
      "image 68/1107 C:\\Users\\gnvca\\OneDrive\\Desktop\\JP\\model03\\dataset\\images\\test\\ID3Wec8l8Ne04DBv9.jpg: 384x512 3 panels, 11.6ms\n",
      "image 69/1107 C:\\Users\\gnvca\\OneDrive\\Desktop\\JP\\model03\\dataset\\images\\test\\ID3aifRIFQ6nHq9.jpg: 512x480 1 panel, 14.1ms\n",
      "image 70/1107 C:\\Users\\gnvca\\OneDrive\\Desktop\\JP\\model03\\dataset\\images\\test\\ID3cyqj3A1Qk6M2.jpg: 384x512 (no detections), 12.1ms\n",
      "image 71/1107 C:\\Users\\gnvca\\OneDrive\\Desktop\\JP\\model03\\dataset\\images\\test\\ID3erWfTEn7rif.jpg: 512x480 4 panels, 15.1ms\n",
      "image 72/1107 C:\\Users\\gnvca\\OneDrive\\Desktop\\JP\\model03\\dataset\\images\\test\\ID3hrW9feaz.jpg: 416x512 1 boiler, 1 panel, 14.2ms\n",
      "image 73/1107 C:\\Users\\gnvca\\OneDrive\\Desktop\\JP\\model03\\dataset\\images\\test\\ID3mLkiA7p.jpg: 384x512 2 panels, 11.8ms\n",
      "image 74/1107 C:\\Users\\gnvca\\OneDrive\\Desktop\\JP\\model03\\dataset\\images\\test\\ID3n9EVi0llJ7EM3s.jpg: 384x512 (no detections), 11.7ms\n",
      "image 75/1107 C:\\Users\\gnvca\\OneDrive\\Desktop\\JP\\model03\\dataset\\images\\test\\ID3s9sjV8xT5X.jpg: 512x480 1 boiler, 14.5ms\n",
      "image 76/1107 C:\\Users\\gnvca\\OneDrive\\Desktop\\JP\\model03\\dataset\\images\\test\\ID3tIq1bkaQ.jpg: 384x512 3 panels, 12.2ms\n",
      "image 77/1107 C:\\Users\\gnvca\\OneDrive\\Desktop\\JP\\model03\\dataset\\images\\test\\ID3uDELCzq4.jpg: 384x512 1 panel, 11.4ms\n",
      "image 78/1107 C:\\Users\\gnvca\\OneDrive\\Desktop\\JP\\model03\\dataset\\images\\test\\ID3x9YCn6MPHhlmMo.jpg: 512x288 2 boilers, 30.1ms\n",
      "image 79/1107 C:\\Users\\gnvca\\OneDrive\\Desktop\\JP\\model03\\dataset\\images\\test\\ID3yHUh0Wttnr.jpg: 224x512 1 boiler, 29.1ms\n",
      "image 80/1107 C:\\Users\\gnvca\\OneDrive\\Desktop\\JP\\model03\\dataset\\images\\test\\ID42tOOiIotmRy0.jpg: 448x512 1 panel, 29.4ms\n",
      "image 81/1107 C:\\Users\\gnvca\\OneDrive\\Desktop\\JP\\model03\\dataset\\images\\test\\ID45O5fV3wG.jpg: 384x512 14 panels, 12.6ms\n",
      "image 82/1107 C:\\Users\\gnvca\\OneDrive\\Desktop\\JP\\model03\\dataset\\images\\test\\ID46sh8.jpg: 384x512 (no detections), 12.3ms\n",
      "image 83/1107 C:\\Users\\gnvca\\OneDrive\\Desktop\\JP\\model03\\dataset\\images\\test\\ID48zxdPnfjasS3Pi.jpg: 512x512 2 panels, 15.6ms\n",
      "image 84/1107 C:\\Users\\gnvca\\OneDrive\\Desktop\\JP\\model03\\dataset\\images\\test\\ID4AjyKo8SB1TJ.jpg: 384x512 1 panel, 13.0ms\n",
      "image 85/1107 C:\\Users\\gnvca\\OneDrive\\Desktop\\JP\\model03\\dataset\\images\\test\\ID4BTGu06JgRCk.jpg: 416x512 1 boiler, 1 panel, 14.6ms\n",
      "image 86/1107 C:\\Users\\gnvca\\OneDrive\\Desktop\\JP\\model03\\dataset\\images\\test\\ID4FmGrOlF.jpg: 512x384 1 panel, 28.8ms\n",
      "image 87/1107 C:\\Users\\gnvca\\OneDrive\\Desktop\\JP\\model03\\dataset\\images\\test\\ID4GwXAW.jpg: 320x512 1 boiler, 22.0ms\n",
      "image 88/1107 C:\\Users\\gnvca\\OneDrive\\Desktop\\JP\\model03\\dataset\\images\\test\\ID4NemgMB11bSb9.jpg: 384x512 (no detections), 22.0ms\n",
      "image 89/1107 C:\\Users\\gnvca\\OneDrive\\Desktop\\JP\\model03\\dataset\\images\\test\\ID4RZf8Ki7SoRyJ6Y.jpg: 384x512 (no detections), 22.6ms\n",
      "image 90/1107 C:\\Users\\gnvca\\OneDrive\\Desktop\\JP\\model03\\dataset\\images\\test\\ID4Xpq78V9x.jpg: 384x512 5 panels, 22.5ms\n",
      "image 91/1107 C:\\Users\\gnvca\\OneDrive\\Desktop\\JP\\model03\\dataset\\images\\test\\ID4YS79CEQBMm0.jpg: 384x512 2 panels, 21.2ms\n",
      "image 92/1107 C:\\Users\\gnvca\\OneDrive\\Desktop\\JP\\model03\\dataset\\images\\test\\ID4gP1vqI9UEK7.jpg: 480x512 1 boiler, 25.9ms\n",
      "image 93/1107 C:\\Users\\gnvca\\OneDrive\\Desktop\\JP\\model03\\dataset\\images\\test\\ID4hHdF.jpg: 384x512 (no detections), 21.8ms\n",
      "image 94/1107 C:\\Users\\gnvca\\OneDrive\\Desktop\\JP\\model03\\dataset\\images\\test\\ID4hsD2T4SXBdWqC.jpg: 384x512 (no detections), 22.9ms\n",
      "image 95/1107 C:\\Users\\gnvca\\OneDrive\\Desktop\\JP\\model03\\dataset\\images\\test\\ID59ss5ITEqj.jpg: 384x512 3 panels, 21.5ms\n",
      "image 96/1107 C:\\Users\\gnvca\\OneDrive\\Desktop\\JP\\model03\\dataset\\images\\test\\ID5A2pknRjBPe.jpg: 384x512 1 boiler, 1 panel, 22.0ms\n",
      "image 97/1107 C:\\Users\\gnvca\\OneDrive\\Desktop\\JP\\model03\\dataset\\images\\test\\ID5E46mKII2JUA.jpg: 384x512 3 panels, 22.8ms\n",
      "image 98/1107 C:\\Users\\gnvca\\OneDrive\\Desktop\\JP\\model03\\dataset\\images\\test\\ID5RIE9trNeQg.jpg: 384x512 1 panel, 22.0ms\n",
      "image 99/1107 C:\\Users\\gnvca\\OneDrive\\Desktop\\JP\\model03\\dataset\\images\\test\\ID5UIL7hL6xi.jpg: 384x512 3 panels, 22.6ms\n",
      "image 100/1107 C:\\Users\\gnvca\\OneDrive\\Desktop\\JP\\model03\\dataset\\images\\test\\ID5Zjm6.jpg: 384x512 2 panels, 22.9ms\n",
      "image 101/1107 C:\\Users\\gnvca\\OneDrive\\Desktop\\JP\\model03\\dataset\\images\\test\\ID5aiY1PY.jpg: 384x512 (no detections), 23.4ms\n",
      "image 102/1107 C:\\Users\\gnvca\\OneDrive\\Desktop\\JP\\model03\\dataset\\images\\test\\ID5gX9PQE1XTCp.jpg: 384x512 (no detections), 23.3ms\n",
      "image 103/1107 C:\\Users\\gnvca\\OneDrive\\Desktop\\JP\\model03\\dataset\\images\\test\\ID5qmLQznmh.jpg: 384x512 (no detections), 24.4ms\n",
      "image 104/1107 C:\\Users\\gnvca\\OneDrive\\Desktop\\JP\\model03\\dataset\\images\\test\\ID5t4CyIa.jpg: 384x512 3 panels, 23.5ms\n",
      "image 105/1107 C:\\Users\\gnvca\\OneDrive\\Desktop\\JP\\model03\\dataset\\images\\test\\ID5wdl1i5WnfHw0e.jpg: 384x512 1 panel, 24.1ms\n",
      "image 106/1107 C:\\Users\\gnvca\\OneDrive\\Desktop\\JP\\model03\\dataset\\images\\test\\ID5ztbQO98jYM1.jpg: 384x512 (no detections), 24.3ms\n",
      "image 107/1107 C:\\Users\\gnvca\\OneDrive\\Desktop\\JP\\model03\\dataset\\images\\test\\ID60SNTt4ERPpYb.jpg: 384x512 4 panels, 26.1ms\n",
      "image 108/1107 C:\\Users\\gnvca\\OneDrive\\Desktop\\JP\\model03\\dataset\\images\\test\\ID60iDhll.jpg: 512x512 1 boiler, 32.2ms\n",
      "image 109/1107 C:\\Users\\gnvca\\OneDrive\\Desktop\\JP\\model03\\dataset\\images\\test\\ID6BhyM.jpg: 384x512 (no detections), 29.4ms\n",
      "image 110/1107 C:\\Users\\gnvca\\OneDrive\\Desktop\\JP\\model03\\dataset\\images\\test\\ID6C6ZEKIa.jpg: 384x512 1 boiler, 6 panels, 26.8ms\n",
      "image 111/1107 C:\\Users\\gnvca\\OneDrive\\Desktop\\JP\\model03\\dataset\\images\\test\\ID6EZbm.jpg: 480x512 2 panels, 35.5ms\n",
      "image 112/1107 C:\\Users\\gnvca\\OneDrive\\Desktop\\JP\\model03\\dataset\\images\\test\\ID6HvC2m.jpg: 384x512 (no detections), 33.6ms\n",
      "image 113/1107 C:\\Users\\gnvca\\OneDrive\\Desktop\\JP\\model03\\dataset\\images\\test\\ID6QoOFcqqXQka.jpg: 384x512 3 panels, 32.8ms\n",
      "image 114/1107 C:\\Users\\gnvca\\OneDrive\\Desktop\\JP\\model03\\dataset\\images\\test\\ID6XKuAUn.jpg: 384x512 (no detections), 32.0ms\n",
      "image 115/1107 C:\\Users\\gnvca\\OneDrive\\Desktop\\JP\\model03\\dataset\\images\\test\\ID6ehyza6aUtEcc.jpg: 384x512 (no detections), 33.1ms\n",
      "image 116/1107 C:\\Users\\gnvca\\OneDrive\\Desktop\\JP\\model03\\dataset\\images\\test\\ID6fWEVe4R.jpg: 384x512 (no detections), 41.9ms\n",
      "image 117/1107 C:\\Users\\gnvca\\OneDrive\\Desktop\\JP\\model03\\dataset\\images\\test\\ID6hpUWcKjjLP3.jpg: 384x512 1 panel, 40.9ms\n",
      "image 118/1107 C:\\Users\\gnvca\\OneDrive\\Desktop\\JP\\model03\\dataset\\images\\test\\ID6pgJ5ahtEptUmj.jpg: 384x512 1 panel, 46.7ms\n",
      "image 119/1107 C:\\Users\\gnvca\\OneDrive\\Desktop\\JP\\model03\\dataset\\images\\test\\ID6sEsRrUWq.jpg: 384x512 3 panels, 47.6ms\n",
      "image 120/1107 C:\\Users\\gnvca\\OneDrive\\Desktop\\JP\\model03\\dataset\\images\\test\\ID6sz5aWe3WR.jpg: 384x512 1 panel, 47.7ms\n",
      "image 121/1107 C:\\Users\\gnvca\\OneDrive\\Desktop\\JP\\model03\\dataset\\images\\test\\ID74ovPp.jpg: 384x512 4 panels, 51.6ms\n",
      "image 122/1107 C:\\Users\\gnvca\\OneDrive\\Desktop\\JP\\model03\\dataset\\images\\test\\ID77OsZw9zZRUrSz.jpg: 384x512 1 boiler, 3 panels, 66.8ms\n",
      "image 123/1107 C:\\Users\\gnvca\\OneDrive\\Desktop\\JP\\model03\\dataset\\images\\test\\ID78Mkj4.jpg: 512x480 1 boiler, 1 panel, 71.8ms\n",
      "image 124/1107 C:\\Users\\gnvca\\OneDrive\\Desktop\\JP\\model03\\dataset\\images\\test\\ID7HWix.jpg: 416x512 1 boiler, 39.6ms\n",
      "image 125/1107 C:\\Users\\gnvca\\OneDrive\\Desktop\\JP\\model03\\dataset\\images\\test\\ID7L7OGWB5rB5MJ.jpg: 384x512 1 panel, 34.4ms\n",
      "image 126/1107 C:\\Users\\gnvca\\OneDrive\\Desktop\\JP\\model03\\dataset\\images\\test\\ID7MX2yBHV.jpg: 384x512 1 boiler, 5 panels, 33.6ms\n",
      "image 127/1107 C:\\Users\\gnvca\\OneDrive\\Desktop\\JP\\model03\\dataset\\images\\test\\ID7Z6gH3yEPaL.jpg: 384x512 9 panels, 34.9ms\n",
      "image 128/1107 C:\\Users\\gnvca\\OneDrive\\Desktop\\JP\\model03\\dataset\\images\\test\\ID7b1mG.jpg: 384x512 2 panels, 33.4ms\n",
      "image 129/1107 C:\\Users\\gnvca\\OneDrive\\Desktop\\JP\\model03\\dataset\\images\\test\\ID7bP8IwegsS.jpg: 384x512 10 panels, 33.7ms\n",
      "image 130/1107 C:\\Users\\gnvca\\OneDrive\\Desktop\\JP\\model03\\dataset\\images\\test\\ID7dJcTxJ4Oq.jpg: 384x512 1 panel, 33.1ms\n",
      "image 131/1107 C:\\Users\\gnvca\\OneDrive\\Desktop\\JP\\model03\\dataset\\images\\test\\ID7f3TT.jpg: 384x512 1 boiler, 1 panel, 34.3ms\n",
      "image 132/1107 C:\\Users\\gnvca\\OneDrive\\Desktop\\JP\\model03\\dataset\\images\\test\\ID7fxOa.jpg: 384x512 (no detections), 34.7ms\n",
      "image 133/1107 C:\\Users\\gnvca\\OneDrive\\Desktop\\JP\\model03\\dataset\\images\\test\\ID7h045Y4C.jpg: 384x512 2 panels, 33.6ms\n",
      "image 134/1107 C:\\Users\\gnvca\\OneDrive\\Desktop\\JP\\model03\\dataset\\images\\test\\ID7jcUYkolAU.jpg: 384x512 1 panel, 33.5ms\n",
      "image 135/1107 C:\\Users\\gnvca\\OneDrive\\Desktop\\JP\\model03\\dataset\\images\\test\\ID7kdr8yU1.jpg: 512x512 21 panels, 42.3ms\n",
      "image 136/1107 C:\\Users\\gnvca\\OneDrive\\Desktop\\JP\\model03\\dataset\\images\\test\\ID7q8XHg.jpg: 384x512 1 panel, 34.3ms\n",
      "image 137/1107 C:\\Users\\gnvca\\OneDrive\\Desktop\\JP\\model03\\dataset\\images\\test\\ID81h1LnSPzqDc.jpg: 512x512 3 panels, 43.7ms\n",
      "image 138/1107 C:\\Users\\gnvca\\OneDrive\\Desktop\\JP\\model03\\dataset\\images\\test\\ID82kUBG2ED.jpg: 384x512 1 panel, 60.4ms\n",
      "image 139/1107 C:\\Users\\gnvca\\OneDrive\\Desktop\\JP\\model03\\dataset\\images\\test\\ID8BiiEb7kT5eHA.jpg: 480x512 1 boiler, 74.8ms\n",
      "image 140/1107 C:\\Users\\gnvca\\OneDrive\\Desktop\\JP\\model03\\dataset\\images\\test\\ID8JMYnMhdYd.jpg: 384x512 (no detections), 59.4ms\n",
      "image 141/1107 C:\\Users\\gnvca\\OneDrive\\Desktop\\JP\\model03\\dataset\\images\\test\\ID8M0KobldT.jpg: 384x512 (no detections), 56.9ms\n",
      "image 142/1107 C:\\Users\\gnvca\\OneDrive\\Desktop\\JP\\model03\\dataset\\images\\test\\ID8MnZuMJYOxg.jpg: 384x512 3 panels, 58.1ms\n",
      "image 143/1107 C:\\Users\\gnvca\\OneDrive\\Desktop\\JP\\model03\\dataset\\images\\test\\ID8NL5ONYqWOo.jpg: 384x512 2 panels, 32.9ms\n",
      "image 144/1107 C:\\Users\\gnvca\\OneDrive\\Desktop\\JP\\model03\\dataset\\images\\test\\ID8WF3R9.jpg: 448x512 1 boiler, 39.9ms\n",
      "image 145/1107 C:\\Users\\gnvca\\OneDrive\\Desktop\\JP\\model03\\dataset\\images\\test\\ID8Y8mUy.jpg: 384x512 3 panels, 44.1ms\n",
      "image 146/1107 C:\\Users\\gnvca\\OneDrive\\Desktop\\JP\\model03\\dataset\\images\\test\\ID8ZfY76DoOBe8.jpg: 512x448 1 panel, 15.3ms\n",
      "image 147/1107 C:\\Users\\gnvca\\OneDrive\\Desktop\\JP\\model03\\dataset\\images\\test\\ID8dajtQf.jpg: 512x448 1 boiler, 7.3ms\n",
      "image 148/1107 C:\\Users\\gnvca\\OneDrive\\Desktop\\JP\\model03\\dataset\\images\\test\\ID8fvWYad6.jpg: 384x512 2 panels, 7.2ms\n",
      "image 149/1107 C:\\Users\\gnvca\\OneDrive\\Desktop\\JP\\model03\\dataset\\images\\test\\ID8kYjwa8VELq1.jpg: 384x512 1 panel, 7.0ms\n",
      "image 150/1107 C:\\Users\\gnvca\\OneDrive\\Desktop\\JP\\model03\\dataset\\images\\test\\ID8sNx5T5A0A0.jpg: 384x512 (no detections), 8.7ms\n",
      "image 151/1107 C:\\Users\\gnvca\\OneDrive\\Desktop\\JP\\model03\\dataset\\images\\test\\ID8wBYTp6CHukbQ.jpg: 384x512 1 boiler, 6.0ms\n",
      "image 152/1107 C:\\Users\\gnvca\\OneDrive\\Desktop\\JP\\model03\\dataset\\images\\test\\ID90PxU6b7066KxO.jpg: 384x512 13 panels, 6.2ms\n",
      "image 153/1107 C:\\Users\\gnvca\\OneDrive\\Desktop\\JP\\model03\\dataset\\images\\test\\ID96QaKoQJA7q.jpg: 384x512 (no detections), 6.3ms\n",
      "image 154/1107 C:\\Users\\gnvca\\OneDrive\\Desktop\\JP\\model03\\dataset\\images\\test\\ID97jEo.jpg: 384x512 1 panel, 6.1ms\n",
      "image 155/1107 C:\\Users\\gnvca\\OneDrive\\Desktop\\JP\\model03\\dataset\\images\\test\\ID9M2fZ5io1Am7z.jpg: 384x512 1 boiler, 3 panels, 6.2ms\n",
      "image 156/1107 C:\\Users\\gnvca\\OneDrive\\Desktop\\JP\\model03\\dataset\\images\\test\\ID9NZt1LjxaT.jpg: 384x512 1 panel, 6.2ms\n",
      "image 157/1107 C:\\Users\\gnvca\\OneDrive\\Desktop\\JP\\model03\\dataset\\images\\test\\ID9PoOPGe.jpg: 384x512 1 panel, 6.1ms\n",
      "image 158/1107 C:\\Users\\gnvca\\OneDrive\\Desktop\\JP\\model03\\dataset\\images\\test\\ID9SMscZZhXiOCa5X.jpg: 384x512 1 boiler, 6.1ms\n",
      "image 159/1107 C:\\Users\\gnvca\\OneDrive\\Desktop\\JP\\model03\\dataset\\images\\test\\ID9Um5PVu8rKEUj.jpg: 384x512 (no detections), 6.0ms\n",
      "image 160/1107 C:\\Users\\gnvca\\OneDrive\\Desktop\\JP\\model03\\dataset\\images\\test\\ID9W3R9SLEnNC.jpg: 384x512 6 panels, 6.0ms\n",
      "image 161/1107 C:\\Users\\gnvca\\OneDrive\\Desktop\\JP\\model03\\dataset\\images\\test\\ID9WhuR4Oly5xGClB.jpg: 384x512 1 panel, 6.0ms\n",
      "image 162/1107 C:\\Users\\gnvca\\OneDrive\\Desktop\\JP\\model03\\dataset\\images\\test\\ID9Yw0LDtTqX.jpg: 384x512 (no detections), 6.4ms\n",
      "image 163/1107 C:\\Users\\gnvca\\OneDrive\\Desktop\\JP\\model03\\dataset\\images\\test\\ID9bUIiQ.jpg: 384x512 (no detections), 6.1ms\n",
      "image 164/1107 C:\\Users\\gnvca\\OneDrive\\Desktop\\JP\\model03\\dataset\\images\\test\\ID9e2pt6DFHGwijsx.jpg: 384x512 (no detections), 6.7ms\n",
      "image 165/1107 C:\\Users\\gnvca\\OneDrive\\Desktop\\JP\\model03\\dataset\\images\\test\\ID9q48ylANuZZS.jpg: 384x512 1 panel, 6.0ms\n",
      "image 166/1107 C:\\Users\\gnvca\\OneDrive\\Desktop\\JP\\model03\\dataset\\images\\test\\ID9seuyLG.jpg: 384x512 2 panels, 6.1ms\n",
      "image 167/1107 C:\\Users\\gnvca\\OneDrive\\Desktop\\JP\\model03\\dataset\\images\\test\\IDA0zSwkZ5oASi.jpg: 384x512 9 panels, 6.1ms\n",
      "image 168/1107 C:\\Users\\gnvca\\OneDrive\\Desktop\\JP\\model03\\dataset\\images\\test\\IDA5tv4oCP6.jpg: 384x512 3 panels, 6.1ms\n",
      "image 169/1107 C:\\Users\\gnvca\\OneDrive\\Desktop\\JP\\model03\\dataset\\images\\test\\IDA6RX9I1Vuh.jpg: 384x512 4 panels, 6.0ms\n",
      "image 170/1107 C:\\Users\\gnvca\\OneDrive\\Desktop\\JP\\model03\\dataset\\images\\test\\IDA89129BpEJwAU.jpg: 384x512 1 panel, 6.1ms\n",
      "image 171/1107 C:\\Users\\gnvca\\OneDrive\\Desktop\\JP\\model03\\dataset\\images\\test\\IDAUaTcswJeb0.jpg: 320x512 2 panels, 6.6ms\n",
      "image 172/1107 C:\\Users\\gnvca\\OneDrive\\Desktop\\JP\\model03\\dataset\\images\\test\\IDAYEU5cX9xzLA.jpg: 384x512 (no detections), 7.4ms\n",
      "image 173/1107 C:\\Users\\gnvca\\OneDrive\\Desktop\\JP\\model03\\dataset\\images\\test\\IDAb6WuVG.jpg: 416x512 1 boiler, 7.3ms\n",
      "image 174/1107 C:\\Users\\gnvca\\OneDrive\\Desktop\\JP\\model03\\dataset\\images\\test\\IDAdQgr.jpg: 384x512 11 panels, 6.7ms\n",
      "image 175/1107 C:\\Users\\gnvca\\OneDrive\\Desktop\\JP\\model03\\dataset\\images\\test\\IDAfStbs.jpg: 384x512 (no detections), 6.2ms\n",
      "image 176/1107 C:\\Users\\gnvca\\OneDrive\\Desktop\\JP\\model03\\dataset\\images\\test\\IDAj7qI6.jpg: 448x512 (no detections), 7.5ms\n",
      "image 177/1107 C:\\Users\\gnvca\\OneDrive\\Desktop\\JP\\model03\\dataset\\images\\test\\IDAkkOzGQae.jpg: 384x512 (no detections), 6.8ms\n",
      "image 178/1107 C:\\Users\\gnvca\\OneDrive\\Desktop\\JP\\model03\\dataset\\images\\test\\IDAmYZkjXOjsKeGIU.jpg: 384x512 1 panel, 6.3ms\n",
      "image 179/1107 C:\\Users\\gnvca\\OneDrive\\Desktop\\JP\\model03\\dataset\\images\\test\\IDAoS7IW3iEfvnN.jpg: 384x512 1 panel, 6.7ms\n",
      "image 180/1107 C:\\Users\\gnvca\\OneDrive\\Desktop\\JP\\model03\\dataset\\images\\test\\IDApVuTp42C3.jpg: 384x512 (no detections), 6.0ms\n",
      "image 181/1107 C:\\Users\\gnvca\\OneDrive\\Desktop\\JP\\model03\\dataset\\images\\test\\IDAxHxok9DBzXDLEa.jpg: 384x512 (no detections), 6.1ms\n",
      "image 182/1107 C:\\Users\\gnvca\\OneDrive\\Desktop\\JP\\model03\\dataset\\images\\test\\IDAylzdyizAiG1rtG.jpg: 384x512 (no detections), 6.3ms\n",
      "image 183/1107 C:\\Users\\gnvca\\OneDrive\\Desktop\\JP\\model03\\dataset\\images\\test\\IDAzsOtNMyZoWcyRM.jpg: 384x512 1 panel, 6.1ms\n",
      "image 184/1107 C:\\Users\\gnvca\\OneDrive\\Desktop\\JP\\model03\\dataset\\images\\test\\IDB0zyfqyrjJjue.jpg: 384x512 1 panel, 6.3ms\n",
      "image 185/1107 C:\\Users\\gnvca\\OneDrive\\Desktop\\JP\\model03\\dataset\\images\\test\\IDB1wtjXBZ0D4.jpg: 384x512 6 panels, 9.1ms\n",
      "image 186/1107 C:\\Users\\gnvca\\OneDrive\\Desktop\\JP\\model03\\dataset\\images\\test\\IDB2pAQWobBYGzB.jpg: 384x512 1 panel, 7.0ms\n",
      "image 187/1107 C:\\Users\\gnvca\\OneDrive\\Desktop\\JP\\model03\\dataset\\images\\test\\IDBDUN9OVNlj.jpg: 384x512 (no detections), 6.3ms\n",
      "image 188/1107 C:\\Users\\gnvca\\OneDrive\\Desktop\\JP\\model03\\dataset\\images\\test\\IDBGOHYo36YWK2.jpg: 384x512 (no detections), 7.0ms\n",
      "image 189/1107 C:\\Users\\gnvca\\OneDrive\\Desktop\\JP\\model03\\dataset\\images\\test\\IDBQeR2FY.jpg: 512x480 3 boilers, 7.8ms\n",
      "image 190/1107 C:\\Users\\gnvca\\OneDrive\\Desktop\\JP\\model03\\dataset\\images\\test\\IDBSZWd3qVdR.jpg: 384x512 (no detections), 6.5ms\n",
      "image 191/1107 C:\\Users\\gnvca\\OneDrive\\Desktop\\JP\\model03\\dataset\\images\\test\\IDBTsNvmvTyf.jpg: 384x512 (no detections), 6.7ms\n",
      "image 192/1107 C:\\Users\\gnvca\\OneDrive\\Desktop\\JP\\model03\\dataset\\images\\test\\IDBVF4vPUv0.jpg: 384x512 (no detections), 6.3ms\n",
      "image 193/1107 C:\\Users\\gnvca\\OneDrive\\Desktop\\JP\\model03\\dataset\\images\\test\\IDBWoelEX0Cvs.jpg: 352x512 1 panel, 29.3ms\n",
      "image 194/1107 C:\\Users\\gnvca\\OneDrive\\Desktop\\JP\\model03\\dataset\\images\\test\\IDBZO81kDv.jpg: 384x512 2 panels, 12.9ms\n",
      "image 195/1107 C:\\Users\\gnvca\\OneDrive\\Desktop\\JP\\model03\\dataset\\images\\test\\IDBcsjN.jpg: 384x512 (no detections), 11.8ms\n",
      "image 196/1107 C:\\Users\\gnvca\\OneDrive\\Desktop\\JP\\model03\\dataset\\images\\test\\IDBgmREbCIsD3qXQq.jpg: 384x512 6 panels, 11.8ms\n",
      "image 197/1107 C:\\Users\\gnvca\\OneDrive\\Desktop\\JP\\model03\\dataset\\images\\test\\IDBh4xlD.jpg: 384x512 3 panels, 12.2ms\n",
      "image 198/1107 C:\\Users\\gnvca\\OneDrive\\Desktop\\JP\\model03\\dataset\\images\\test\\IDBlm6fCRaPycq.jpg: 384x512 (no detections), 12.2ms\n",
      "image 199/1107 C:\\Users\\gnvca\\OneDrive\\Desktop\\JP\\model03\\dataset\\images\\test\\IDBpZlitfz.jpg: 448x512 1 boiler, 4 panels, 15.2ms\n",
      "image 200/1107 C:\\Users\\gnvca\\OneDrive\\Desktop\\JP\\model03\\dataset\\images\\test\\IDBqyTU.jpg: 448x512 1 panel, 14.1ms\n",
      "image 201/1107 C:\\Users\\gnvca\\OneDrive\\Desktop\\JP\\model03\\dataset\\images\\test\\IDBxR6JNCET8YzB6P.jpg: 384x512 1 boiler, 13.2ms\n",
      "image 202/1107 C:\\Users\\gnvca\\OneDrive\\Desktop\\JP\\model03\\dataset\\images\\test\\IDBzCK4PKnZ3DYp.jpg: 480x512 4 panels, 15.2ms\n",
      "image 203/1107 C:\\Users\\gnvca\\OneDrive\\Desktop\\JP\\model03\\dataset\\images\\test\\IDC1H005vv.jpg: 384x512 1 boiler, 13.0ms\n",
      "image 204/1107 C:\\Users\\gnvca\\OneDrive\\Desktop\\JP\\model03\\dataset\\images\\test\\IDC6pQY.jpg: 448x512 1 boiler, 15.1ms\n",
      "image 205/1107 C:\\Users\\gnvca\\OneDrive\\Desktop\\JP\\model03\\dataset\\images\\test\\IDC7DbTJw1.jpg: 288x512 1 boiler, 28.8ms\n",
      "image 206/1107 C:\\Users\\gnvca\\OneDrive\\Desktop\\JP\\model03\\dataset\\images\\test\\IDCDu4j8LaUZNV0T.jpg: 384x512 3 panels, 13.4ms\n",
      "image 207/1107 C:\\Users\\gnvca\\OneDrive\\Desktop\\JP\\model03\\dataset\\images\\test\\IDCGGz8CBh.jpg: 384x512 7 panels, 13.2ms\n",
      "image 208/1107 C:\\Users\\gnvca\\OneDrive\\Desktop\\JP\\model03\\dataset\\images\\test\\IDCKAxcKEtSBCW6.jpg: 384x512 (no detections), 13.6ms\n",
      "image 209/1107 C:\\Users\\gnvca\\OneDrive\\Desktop\\JP\\model03\\dataset\\images\\test\\IDCKdbTD12o.jpg: 384x512 1 panel, 13.5ms\n",
      "image 210/1107 C:\\Users\\gnvca\\OneDrive\\Desktop\\JP\\model03\\dataset\\images\\test\\IDCXC3WZ8fTpPqB4u.jpg: 384x512 25 panels, 22.8ms\n",
      "image 211/1107 C:\\Users\\gnvca\\OneDrive\\Desktop\\JP\\model03\\dataset\\images\\test\\IDCcdnWC.jpg: 384x512 3 panels, 23.8ms\n",
      "image 212/1107 C:\\Users\\gnvca\\OneDrive\\Desktop\\JP\\model03\\dataset\\images\\test\\IDCdEqVm8.jpg: 384x512 9 panels, 23.5ms\n",
      "image 213/1107 C:\\Users\\gnvca\\OneDrive\\Desktop\\JP\\model03\\dataset\\images\\test\\IDCdPy5qxo6aD.jpg: 384x512 1 panel, 23.7ms\n",
      "image 214/1107 C:\\Users\\gnvca\\OneDrive\\Desktop\\JP\\model03\\dataset\\images\\test\\IDCgowM2FHi.jpg: 384x512 7 panels, 22.6ms\n",
      "image 215/1107 C:\\Users\\gnvca\\OneDrive\\Desktop\\JP\\model03\\dataset\\images\\test\\IDCkHt5Rt6.jpg: 384x512 2 panels, 23.0ms\n",
      "image 216/1107 C:\\Users\\gnvca\\OneDrive\\Desktop\\JP\\model03\\dataset\\images\\test\\IDClS3NV6Qtn.jpg: 384x512 1 panel, 23.7ms\n",
      "image 217/1107 C:\\Users\\gnvca\\OneDrive\\Desktop\\JP\\model03\\dataset\\images\\test\\IDCnYpokt8J9YSmJq.jpg: 384x512 1 panel, 23.3ms\n",
      "image 218/1107 C:\\Users\\gnvca\\OneDrive\\Desktop\\JP\\model03\\dataset\\images\\test\\IDCy8SpRP8Dp.jpg: 384x512 8 panels, 24.2ms\n",
      "image 219/1107 C:\\Users\\gnvca\\OneDrive\\Desktop\\JP\\model03\\dataset\\images\\test\\IDCyb1wTo.jpg: 384x512 (no detections), 25.6ms\n",
      "image 220/1107 C:\\Users\\gnvca\\OneDrive\\Desktop\\JP\\model03\\dataset\\images\\test\\IDD0iJVRcCEr0j.jpg: 384x512 1 boiler, 2 panels, 24.8ms\n",
      "image 221/1107 C:\\Users\\gnvca\\OneDrive\\Desktop\\JP\\model03\\dataset\\images\\test\\IDD8ZVNUFQ2Hf.jpg: 384x512 10 panels, 25.3ms\n",
      "image 222/1107 C:\\Users\\gnvca\\OneDrive\\Desktop\\JP\\model03\\dataset\\images\\test\\IDDAmnuvdBi.jpg: 384x512 3 panels, 24.6ms\n",
      "image 223/1107 C:\\Users\\gnvca\\OneDrive\\Desktop\\JP\\model03\\dataset\\images\\test\\IDDF7tO.jpg: 384x512 5 panels, 27.7ms\n",
      "image 224/1107 C:\\Users\\gnvca\\OneDrive\\Desktop\\JP\\model03\\dataset\\images\\test\\IDDHVcH2Jd5etFmY.jpg: 512x512 3 panels, 34.2ms\n",
      "image 225/1107 C:\\Users\\gnvca\\OneDrive\\Desktop\\JP\\model03\\dataset\\images\\test\\IDDLAHHyPW.jpg: 384x512 6 panels, 28.9ms\n",
      "image 226/1107 C:\\Users\\gnvca\\OneDrive\\Desktop\\JP\\model03\\dataset\\images\\test\\IDDPTa8I.jpg: 384x512 7 panels, 29.1ms\n",
      "image 227/1107 C:\\Users\\gnvca\\OneDrive\\Desktop\\JP\\model03\\dataset\\images\\test\\IDDV1rcb2sZW09.jpg: 448x512 1 boiler, 32.3ms\n",
      "image 228/1107 C:\\Users\\gnvca\\OneDrive\\Desktop\\JP\\model03\\dataset\\images\\test\\IDDVN3CnZpwmyacw.jpg: 384x512 7 panels, 27.6ms\n",
      "image 229/1107 C:\\Users\\gnvca\\OneDrive\\Desktop\\JP\\model03\\dataset\\images\\test\\IDDW5cL0.jpg: 384x512 2 panels, 29.4ms\n",
      "image 230/1107 C:\\Users\\gnvca\\OneDrive\\Desktop\\JP\\model03\\dataset\\images\\test\\IDDXjoLTLw.jpg: 384x512 (no detections), 30.7ms\n",
      "image 231/1107 C:\\Users\\gnvca\\OneDrive\\Desktop\\JP\\model03\\dataset\\images\\test\\IDDgn4erHVKx.jpg: 384x512 1 panel, 32.5ms\n",
      "image 232/1107 C:\\Users\\gnvca\\OneDrive\\Desktop\\JP\\model03\\dataset\\images\\test\\IDDpc3xF04.jpg: 512x512 1 boiler, 41.6ms\n",
      "image 233/1107 C:\\Users\\gnvca\\OneDrive\\Desktop\\JP\\model03\\dataset\\images\\test\\IDDpeOGoZa.jpg: 384x512 3 panels, 34.6ms\n",
      "image 234/1107 C:\\Users\\gnvca\\OneDrive\\Desktop\\JP\\model03\\dataset\\images\\test\\IDDpfZqI5mI8.jpg: 384x512 (no detections), 33.9ms\n",
      "image 235/1107 C:\\Users\\gnvca\\OneDrive\\Desktop\\JP\\model03\\dataset\\images\\test\\IDDwVqY.jpg: 512x512 1 boiler, 1 panel, 46.0ms\n",
      "image 236/1107 C:\\Users\\gnvca\\OneDrive\\Desktop\\JP\\model03\\dataset\\images\\test\\IDDwsERs6gKTXW4.jpg: 384x512 4 panels, 34.2ms\n",
      "image 237/1107 C:\\Users\\gnvca\\OneDrive\\Desktop\\JP\\model03\\dataset\\images\\test\\IDDzy72Q.jpg: 384x512 2 panels, 33.5ms\n",
      "image 238/1107 C:\\Users\\gnvca\\OneDrive\\Desktop\\JP\\model03\\dataset\\images\\test\\IDE1fiYjgO.jpg: 384x512 (no detections), 31.6ms\n",
      "image 239/1107 C:\\Users\\gnvca\\OneDrive\\Desktop\\JP\\model03\\dataset\\images\\test\\IDE2Ye8LKLjsheXRM.jpg: 384x512 5 panels, 30.2ms\n",
      "image 240/1107 C:\\Users\\gnvca\\OneDrive\\Desktop\\JP\\model03\\dataset\\images\\test\\IDE8mgSMQMERT.jpg: 384x512 2 panels, 31.2ms\n",
      "image 241/1107 C:\\Users\\gnvca\\OneDrive\\Desktop\\JP\\model03\\dataset\\images\\test\\IDEA3IGuh.jpg: 352x512 1 boiler, 31.3ms\n",
      "image 242/1107 C:\\Users\\gnvca\\OneDrive\\Desktop\\JP\\model03\\dataset\\images\\test\\IDEAoIrMYqKi.jpg: 384x512 1 panel, 33.8ms\n",
      "image 243/1107 C:\\Users\\gnvca\\OneDrive\\Desktop\\JP\\model03\\dataset\\images\\test\\IDEC9Zeb.jpg: 352x512 1 panel, 32.9ms\n",
      "image 244/1107 C:\\Users\\gnvca\\OneDrive\\Desktop\\JP\\model03\\dataset\\images\\test\\IDEIMnBHoWAphFcK.jpg: 384x512 6 panels, 33.1ms\n",
      "image 245/1107 C:\\Users\\gnvca\\OneDrive\\Desktop\\JP\\model03\\dataset\\images\\test\\IDEM6lqG.jpg: 384x512 (no detections), 34.1ms\n",
      "image 246/1107 C:\\Users\\gnvca\\OneDrive\\Desktop\\JP\\model03\\dataset\\images\\test\\IDEMlUxogrpf5.jpg: 384x512 (no detections), 42.3ms\n",
      "image 247/1107 C:\\Users\\gnvca\\OneDrive\\Desktop\\JP\\model03\\dataset\\images\\test\\IDEPRHDYOghx.jpg: 384x512 3 panels, 72.3ms\n",
      "image 248/1107 C:\\Users\\gnvca\\OneDrive\\Desktop\\JP\\model03\\dataset\\images\\test\\IDETMNAGhhrWI.jpg: 384x512 1 panel, 60.3ms\n",
      "image 249/1107 C:\\Users\\gnvca\\OneDrive\\Desktop\\JP\\model03\\dataset\\images\\test\\IDEe6iXTgt.jpg: 384x512 1 boiler, 1 panel, 30.4ms\n",
      "image 250/1107 C:\\Users\\gnvca\\OneDrive\\Desktop\\JP\\model03\\dataset\\images\\test\\IDEs68Bci8cfLHJo.jpg: 224x512 1 boiler, 1 panel, 22.8ms\n",
      "image 251/1107 C:\\Users\\gnvca\\OneDrive\\Desktop\\JP\\model03\\dataset\\images\\test\\IDEuh15aqGWPu.jpg: 512x320 1 boiler, 1 panel, 35.7ms\n",
      "image 252/1107 C:\\Users\\gnvca\\OneDrive\\Desktop\\JP\\model03\\dataset\\images\\test\\IDEvpb6v4OOe0Y.jpg: 416x512 1 boiler, 34.5ms\n",
      "image 253/1107 C:\\Users\\gnvca\\OneDrive\\Desktop\\JP\\model03\\dataset\\images\\test\\IDEwGnmQlltf.jpg: 288x512 3 panels, 29.3ms\n",
      "image 254/1107 C:\\Users\\gnvca\\OneDrive\\Desktop\\JP\\model03\\dataset\\images\\test\\IDEyShR.jpg: 384x512 1 boiler, 30.9ms\n",
      "image 255/1107 C:\\Users\\gnvca\\OneDrive\\Desktop\\JP\\model03\\dataset\\images\\test\\IDF2nDTmv7b1.jpg: 384x512 1 boiler, 3 panels, 6.7ms\n",
      "image 256/1107 C:\\Users\\gnvca\\OneDrive\\Desktop\\JP\\model03\\dataset\\images\\test\\IDF4jqxKoNU8Vc.jpg: 384x512 1 boiler, 6.2ms\n",
      "image 257/1107 C:\\Users\\gnvca\\OneDrive\\Desktop\\JP\\model03\\dataset\\images\\test\\IDF5A5nwEnb.jpg: 384x512 (no detections), 6.0ms\n",
      "image 258/1107 C:\\Users\\gnvca\\OneDrive\\Desktop\\JP\\model03\\dataset\\images\\test\\IDF5IjWvf67.jpg: 384x512 3 panels, 6.1ms\n",
      "image 259/1107 C:\\Users\\gnvca\\OneDrive\\Desktop\\JP\\model03\\dataset\\images\\test\\IDF9OFLKW27eo6e.jpg: 384x512 1 boiler, 3 panels, 6.3ms\n",
      "image 260/1107 C:\\Users\\gnvca\\OneDrive\\Desktop\\JP\\model03\\dataset\\images\\test\\IDFAZjkhvieGj865E.jpg: 384x512 1 boiler, 6.1ms\n",
      "image 261/1107 C:\\Users\\gnvca\\OneDrive\\Desktop\\JP\\model03\\dataset\\images\\test\\IDFDU5Sj4e.jpg: 384x512 5 panels, 12.6ms\n",
      "image 262/1107 C:\\Users\\gnvca\\OneDrive\\Desktop\\JP\\model03\\dataset\\images\\test\\IDFKClc.jpg: 384x512 1 panel, 6.1ms\n",
      "image 263/1107 C:\\Users\\gnvca\\OneDrive\\Desktop\\JP\\model03\\dataset\\images\\test\\IDFKWhA.jpg: 384x512 3 panels, 6.3ms\n",
      "image 264/1107 C:\\Users\\gnvca\\OneDrive\\Desktop\\JP\\model03\\dataset\\images\\test\\IDFKul110Y7cX8.jpg: 384x512 1 panel, 6.3ms\n",
      "image 265/1107 C:\\Users\\gnvca\\OneDrive\\Desktop\\JP\\model03\\dataset\\images\\test\\IDFNa0FuDwDmQiD.jpg: 384x512 3 panels, 6.7ms\n",
      "image 266/1107 C:\\Users\\gnvca\\OneDrive\\Desktop\\JP\\model03\\dataset\\images\\test\\IDFQFXzy.jpg: 512x512 1 boiler, 4 panels, 8.0ms\n",
      "image 267/1107 C:\\Users\\gnvca\\OneDrive\\Desktop\\JP\\model03\\dataset\\images\\test\\IDFUHKuId.jpg: 384x512 1 boiler, 7.9ms\n",
      "image 268/1107 C:\\Users\\gnvca\\OneDrive\\Desktop\\JP\\model03\\dataset\\images\\test\\IDFWrhU5Fkan.jpg: 384x512 1 panel, 6.3ms\n",
      "image 269/1107 C:\\Users\\gnvca\\OneDrive\\Desktop\\JP\\model03\\dataset\\images\\test\\IDFaqVEUjZHgiU6.jpg: 384x512 3 panels, 6.2ms\n",
      "image 270/1107 C:\\Users\\gnvca\\OneDrive\\Desktop\\JP\\model03\\dataset\\images\\test\\IDFc5aOF9kvvlSKn.jpg: 384x512 (no detections), 6.7ms\n",
      "image 271/1107 C:\\Users\\gnvca\\OneDrive\\Desktop\\JP\\model03\\dataset\\images\\test\\IDFmke9C.jpg: 384x512 3 panels, 6.2ms\n",
      "image 272/1107 C:\\Users\\gnvca\\OneDrive\\Desktop\\JP\\model03\\dataset\\images\\test\\IDFnMhurg76W1RUK.jpg: 384x512 (no detections), 7.3ms\n",
      "image 273/1107 C:\\Users\\gnvca\\OneDrive\\Desktop\\JP\\model03\\dataset\\images\\test\\IDFnwkQ.jpg: 384x512 4 panels, 6.1ms\n",
      "image 274/1107 C:\\Users\\gnvca\\OneDrive\\Desktop\\JP\\model03\\dataset\\images\\test\\IDFpzKdLAo.jpg: 384x512 (no detections), 7.3ms\n",
      "image 275/1107 C:\\Users\\gnvca\\OneDrive\\Desktop\\JP\\model03\\dataset\\images\\test\\IDFq38fVBc9.jpg: 384x512 1 boiler, 1 panel, 7.4ms\n",
      "image 276/1107 C:\\Users\\gnvca\\OneDrive\\Desktop\\JP\\model03\\dataset\\images\\test\\IDFsIy1n6Z.jpg: 384x512 (no detections), 7.6ms\n",
      "image 277/1107 C:\\Users\\gnvca\\OneDrive\\Desktop\\JP\\model03\\dataset\\images\\test\\IDFxmMFRpbs.jpg: 384x512 1 panel, 6.7ms\n",
      "image 278/1107 C:\\Users\\gnvca\\OneDrive\\Desktop\\JP\\model03\\dataset\\images\\test\\IDFzhyb5lPz.jpg: 384x512 1 panel, 6.1ms\n",
      "image 279/1107 C:\\Users\\gnvca\\OneDrive\\Desktop\\JP\\model03\\dataset\\images\\test\\IDG1AkIPbSV.jpg: 384x512 (no detections), 6.5ms\n",
      "image 280/1107 C:\\Users\\gnvca\\OneDrive\\Desktop\\JP\\model03\\dataset\\images\\test\\IDG5lTLIt9O.jpg: 384x512 1 boiler, 6 panels, 6.0ms\n",
      "image 281/1107 C:\\Users\\gnvca\\OneDrive\\Desktop\\JP\\model03\\dataset\\images\\test\\IDG94VRtYi0FsZ.jpg: 384x512 1 panel, 9.2ms\n",
      "image 282/1107 C:\\Users\\gnvca\\OneDrive\\Desktop\\JP\\model03\\dataset\\images\\test\\IDGDNyCCkaKLzXCM.jpg: 384x512 (no detections), 6.9ms\n",
      "image 283/1107 C:\\Users\\gnvca\\OneDrive\\Desktop\\JP\\model03\\dataset\\images\\test\\IDGKXoUKZZIMiwIA.jpg: 384x512 (no detections), 7.3ms\n",
      "image 284/1107 C:\\Users\\gnvca\\OneDrive\\Desktop\\JP\\model03\\dataset\\images\\test\\IDGPlef7MvMDtw.jpg: 384x512 (no detections), 7.9ms\n",
      "image 285/1107 C:\\Users\\gnvca\\OneDrive\\Desktop\\JP\\model03\\dataset\\images\\test\\IDGR80BE8mvNUCNN3.jpg: 224x512 1 panel, 7.8ms\n",
      "image 286/1107 C:\\Users\\gnvca\\OneDrive\\Desktop\\JP\\model03\\dataset\\images\\test\\IDGUy652Ws9OT5W8v.jpg: 384x512 2 boilers, 1 panel, 8.1ms\n",
      "image 287/1107 C:\\Users\\gnvca\\OneDrive\\Desktop\\JP\\model03\\dataset\\images\\test\\IDGd4vXS.jpg: 384x512 (no detections), 8.6ms\n",
      "image 288/1107 C:\\Users\\gnvca\\OneDrive\\Desktop\\JP\\model03\\dataset\\images\\test\\IDGfz4VMkN.jpg: 384x512 (no detections), 11.3ms\n",
      "image 289/1107 C:\\Users\\gnvca\\OneDrive\\Desktop\\JP\\model03\\dataset\\images\\test\\IDGi28ybRJegVvn.jpg: 512x512 1 boiler, 1 panel, 8.0ms\n",
      "image 290/1107 C:\\Users\\gnvca\\OneDrive\\Desktop\\JP\\model03\\dataset\\images\\test\\IDGmQhncDYrgwrH.jpg: 384x512 3 panels, 6.9ms\n",
      "image 291/1107 C:\\Users\\gnvca\\OneDrive\\Desktop\\JP\\model03\\dataset\\images\\test\\IDGmoxZt1kCAHSwND.jpg: 384x512 1 boiler, 6.5ms\n",
      "image 292/1107 C:\\Users\\gnvca\\OneDrive\\Desktop\\JP\\model03\\dataset\\images\\test\\IDGtye16mV1WRf.jpg: 384x512 (no detections), 6.6ms\n",
      "image 293/1107 C:\\Users\\gnvca\\OneDrive\\Desktop\\JP\\model03\\dataset\\images\\test\\IDGuf5l0pfY4dlC.jpg: 384x512 3 panels, 6.1ms\n",
      "image 294/1107 C:\\Users\\gnvca\\OneDrive\\Desktop\\JP\\model03\\dataset\\images\\test\\IDH0i3q.jpg: 384x512 2 panels, 6.9ms\n",
      "image 295/1107 C:\\Users\\gnvca\\OneDrive\\Desktop\\JP\\model03\\dataset\\images\\test\\IDH16qvhuu2FN.jpg: 384x512 2 boilers, 1 panel, 6.3ms\n",
      "image 296/1107 C:\\Users\\gnvca\\OneDrive\\Desktop\\JP\\model03\\dataset\\images\\test\\IDH5U5dqwhKN30uTz.jpg: 384x512 (no detections), 6.0ms\n",
      "image 297/1107 C:\\Users\\gnvca\\OneDrive\\Desktop\\JP\\model03\\dataset\\images\\test\\IDHCu7gnVkXD0s.jpg: 384x512 5 panels, 6.8ms\n",
      "image 298/1107 C:\\Users\\gnvca\\OneDrive\\Desktop\\JP\\model03\\dataset\\images\\test\\IDHEYX4VMXCjwaqbs.jpg: 384x512 2 panels, 6.1ms\n",
      "image 299/1107 C:\\Users\\gnvca\\OneDrive\\Desktop\\JP\\model03\\dataset\\images\\test\\IDHFoUKbxGP.jpg: 384x512 (no detections), 6.2ms\n",
      "image 300/1107 C:\\Users\\gnvca\\OneDrive\\Desktop\\JP\\model03\\dataset\\images\\test\\IDHILD8DnJZTuUg.jpg: 384x512 2 panels, 7.0ms\n",
      "image 301/1107 C:\\Users\\gnvca\\OneDrive\\Desktop\\JP\\model03\\dataset\\images\\test\\IDHIi7sOPf.jpg: 384x512 1 panel, 6.4ms\n",
      "image 302/1107 C:\\Users\\gnvca\\OneDrive\\Desktop\\JP\\model03\\dataset\\images\\test\\IDHJ3hdZY0DABxwn2.jpg: 384x512 1 boiler, 2 panels, 12.9ms\n",
      "image 303/1107 C:\\Users\\gnvca\\OneDrive\\Desktop\\JP\\model03\\dataset\\images\\test\\IDHJnBm87ZUS8obg.jpg: 384x512 1 boiler, 1 panel, 12.9ms\n",
      "image 304/1107 C:\\Users\\gnvca\\OneDrive\\Desktop\\JP\\model03\\dataset\\images\\test\\IDHOC1FvOv3yFPOl.jpg: 384x512 1 boiler, 1 panel, 13.5ms\n",
      "image 305/1107 C:\\Users\\gnvca\\OneDrive\\Desktop\\JP\\model03\\dataset\\images\\test\\IDHWKIVSCFhCK4.jpg: 480x512 (no detections), 16.5ms\n",
      "image 306/1107 C:\\Users\\gnvca\\OneDrive\\Desktop\\JP\\model03\\dataset\\images\\test\\IDHXwqtTeZa5pc6o9.jpg: 384x512 2 panels, 14.5ms\n",
      "image 307/1107 C:\\Users\\gnvca\\OneDrive\\Desktop\\JP\\model03\\dataset\\images\\test\\IDHZK21FetRA.jpg: 384x512 2 panels, 13.7ms\n",
      "image 308/1107 C:\\Users\\gnvca\\OneDrive\\Desktop\\JP\\model03\\dataset\\images\\test\\IDHavhM.jpg: 384x512 (no detections), 14.0ms\n",
      "image 309/1107 C:\\Users\\gnvca\\OneDrive\\Desktop\\JP\\model03\\dataset\\images\\test\\IDHdtxlSc.jpg: 384x512 5 panels, 13.9ms\n",
      "image 310/1107 C:\\Users\\gnvca\\OneDrive\\Desktop\\JP\\model03\\dataset\\images\\test\\IDHfdl87Y.jpg: 384x512 8 panels, 15.3ms\n",
      "image 311/1107 C:\\Users\\gnvca\\OneDrive\\Desktop\\JP\\model03\\dataset\\images\\test\\IDHmTcHZd7BE3B.jpg: 384x512 2 boilers, 8 panels, 14.2ms\n",
      "image 312/1107 C:\\Users\\gnvca\\OneDrive\\Desktop\\JP\\model03\\dataset\\images\\test\\IDHnnVg9DXD.jpg: 416x512 2 panels, 17.1ms\n",
      "image 313/1107 C:\\Users\\gnvca\\OneDrive\\Desktop\\JP\\model03\\dataset\\images\\test\\IDHqbxPzif.jpg: 416x512 (no detections), 16.2ms\n",
      "image 314/1107 C:\\Users\\gnvca\\OneDrive\\Desktop\\JP\\model03\\dataset\\images\\test\\IDHsKXa3RjvFHP.jpg: 384x512 (no detections), 23.9ms\n",
      "image 315/1107 C:\\Users\\gnvca\\OneDrive\\Desktop\\JP\\model03\\dataset\\images\\test\\IDHtVTOt8KNNO.jpg: 384x512 1 panel, 22.7ms\n",
      "image 316/1107 C:\\Users\\gnvca\\OneDrive\\Desktop\\JP\\model03\\dataset\\images\\test\\IDHvsezZ7HM.jpg: 384x512 (no detections), 23.7ms\n",
      "image 317/1107 C:\\Users\\gnvca\\OneDrive\\Desktop\\JP\\model03\\dataset\\images\\test\\IDI06IBMc.jpg: 384x512 2 panels, 23.3ms\n",
      "image 318/1107 C:\\Users\\gnvca\\OneDrive\\Desktop\\JP\\model03\\dataset\\images\\test\\IDIAdM52mOZC.jpg: 384x512 1 panel, 23.5ms\n",
      "image 319/1107 C:\\Users\\gnvca\\OneDrive\\Desktop\\JP\\model03\\dataset\\images\\test\\IDIFJJRBEBaS9GJMw.jpg: 384x512 4 panels, 24.2ms\n",
      "image 320/1107 C:\\Users\\gnvca\\OneDrive\\Desktop\\JP\\model03\\dataset\\images\\test\\IDIIDOmJe.jpg: 384x512 (no detections), 25.4ms\n",
      "image 321/1107 C:\\Users\\gnvca\\OneDrive\\Desktop\\JP\\model03\\dataset\\images\\test\\IDIJzc5uol6.jpg: 416x512 1 boiler, 28.1ms\n",
      "image 322/1107 C:\\Users\\gnvca\\OneDrive\\Desktop\\JP\\model03\\dataset\\images\\test\\IDIM3qyRZyJb0CzL.jpg: 512x448 4 boilers, 31.0ms\n",
      "image 323/1107 C:\\Users\\gnvca\\OneDrive\\Desktop\\JP\\model03\\dataset\\images\\test\\IDIM8ZYNWC9cpJ.jpg: 384x512 2 panels, 25.7ms\n",
      "image 324/1107 C:\\Users\\gnvca\\OneDrive\\Desktop\\JP\\model03\\dataset\\images\\test\\IDIN7Y20PpzPk93B.jpg: 384x512 4 panels, 27.9ms\n",
      "image 325/1107 C:\\Users\\gnvca\\OneDrive\\Desktop\\JP\\model03\\dataset\\images\\test\\IDINWneOxB70u.jpg: 384x512 (no detections), 25.2ms\n",
      "image 326/1107 C:\\Users\\gnvca\\OneDrive\\Desktop\\JP\\model03\\dataset\\images\\test\\IDISZpcq8rWB.jpg: 384x512 5 panels, 26.6ms\n",
      "image 327/1107 C:\\Users\\gnvca\\OneDrive\\Desktop\\JP\\model03\\dataset\\images\\test\\IDITL86p88LLHY1.jpg: 384x512 25 panels, 27.4ms\n",
      "image 328/1107 C:\\Users\\gnvca\\OneDrive\\Desktop\\JP\\model03\\dataset\\images\\test\\IDIWJ7wFYVu6qMjf.jpg: 384x512 (no detections), 26.4ms\n",
      "image 329/1107 C:\\Users\\gnvca\\OneDrive\\Desktop\\JP\\model03\\dataset\\images\\test\\IDIZ70v.jpg: 384x512 (no detections), 26.3ms\n",
      "image 330/1107 C:\\Users\\gnvca\\OneDrive\\Desktop\\JP\\model03\\dataset\\images\\test\\IDIfcox6I7n1.jpg: 416x512 1 boiler, 1 panel, 32.0ms\n",
      "image 331/1107 C:\\Users\\gnvca\\OneDrive\\Desktop\\JP\\model03\\dataset\\images\\test\\IDIfuBIn.jpg: 384x512 1 boiler, 1 panel, 30.8ms\n",
      "image 332/1107 C:\\Users\\gnvca\\OneDrive\\Desktop\\JP\\model03\\dataset\\images\\test\\IDIgkWDaqwXXozOI.jpg: 384x512 3 panels, 32.8ms\n",
      "image 333/1107 C:\\Users\\gnvca\\OneDrive\\Desktop\\JP\\model03\\dataset\\images\\test\\IDIhOTILMHz5wPCY.jpg: 384x512 1 boiler, 1 panel, 29.8ms\n",
      "image 334/1107 C:\\Users\\gnvca\\OneDrive\\Desktop\\JP\\model03\\dataset\\images\\test\\IDIl79K8GJtMJY.jpg: 384x512 (no detections), 30.8ms\n",
      "image 335/1107 C:\\Users\\gnvca\\OneDrive\\Desktop\\JP\\model03\\dataset\\images\\test\\IDIlPrCkH.jpg: 384x512 (no detections), 29.5ms\n",
      "image 336/1107 C:\\Users\\gnvca\\OneDrive\\Desktop\\JP\\model03\\dataset\\images\\test\\IDIqWPdIM.jpg: 480x512 2 boilers, 38.5ms\n",
      "image 337/1107 C:\\Users\\gnvca\\OneDrive\\Desktop\\JP\\model03\\dataset\\images\\test\\IDIr2jkBOUL.jpg: 384x512 4 panels, 36.5ms\n",
      "image 338/1107 C:\\Users\\gnvca\\OneDrive\\Desktop\\JP\\model03\\dataset\\images\\test\\IDIwmLztUQeps2t1N.jpg: 384x512 1 panel, 36.8ms\n",
      "image 339/1107 C:\\Users\\gnvca\\OneDrive\\Desktop\\JP\\model03\\dataset\\images\\test\\IDIx92GuElKj7Hhsv.jpg: 384x512 (no detections), 40.7ms\n",
      "image 340/1107 C:\\Users\\gnvca\\OneDrive\\Desktop\\JP\\model03\\dataset\\images\\test\\IDJ2MEHdcAj6u8.jpg: 416x512 1 panel, 52.2ms\n",
      "image 341/1107 C:\\Users\\gnvca\\OneDrive\\Desktop\\JP\\model03\\dataset\\images\\test\\IDJ8soN.jpg: 384x512 1 boiler, 1 panel, 75.3ms\n",
      "image 342/1107 C:\\Users\\gnvca\\OneDrive\\Desktop\\JP\\model03\\dataset\\images\\test\\IDJ9aNFsYme2.jpg: 384x512 1 panel, 110.9ms\n",
      "image 343/1107 C:\\Users\\gnvca\\OneDrive\\Desktop\\JP\\model03\\dataset\\images\\test\\IDJF1FIr94ICgh4E.jpg: 384x512 1 panel, 88.8ms\n",
      "image 344/1107 C:\\Users\\gnvca\\OneDrive\\Desktop\\JP\\model03\\dataset\\images\\test\\IDJItSr4H.jpg: 384x512 3 panels, 84.1ms\n",
      "image 345/1107 C:\\Users\\gnvca\\OneDrive\\Desktop\\JP\\model03\\dataset\\images\\test\\IDJKLLPfEMAQ1SR.jpg: 384x512 (no detections), 76.8ms\n",
      "image 346/1107 C:\\Users\\gnvca\\OneDrive\\Desktop\\JP\\model03\\dataset\\images\\test\\IDJPzvEJZhf2a.jpg: 256x512 3 panels, 45.6ms\n",
      "image 347/1107 C:\\Users\\gnvca\\OneDrive\\Desktop\\JP\\model03\\dataset\\images\\test\\IDJQF2ZS.jpg: 384x512 11 panels, 32.1ms\n",
      "image 348/1107 C:\\Users\\gnvca\\OneDrive\\Desktop\\JP\\model03\\dataset\\images\\test\\IDJS4VzDnTtJ.jpg: 384x512 1 boiler, 1 panel, 31.3ms\n",
      "image 349/1107 C:\\Users\\gnvca\\OneDrive\\Desktop\\JP\\model03\\dataset\\images\\test\\IDJUgiW.jpg: 512x448 1 boiler, 77.0ms\n",
      "image 350/1107 C:\\Users\\gnvca\\OneDrive\\Desktop\\JP\\model03\\dataset\\images\\test\\IDJVD2rN.jpg: 384x512 5 panels, 55.8ms\n",
      "image 351/1107 C:\\Users\\gnvca\\OneDrive\\Desktop\\JP\\model03\\dataset\\images\\test\\IDJZtxOMkpiYRa.jpg: 384x512 1 boiler, 33.1ms\n",
      "image 352/1107 C:\\Users\\gnvca\\OneDrive\\Desktop\\JP\\model03\\dataset\\images\\test\\IDJcjqW7rB1lwZqFx.jpg: 384x512 1 boiler, 33.5ms\n",
      "image 353/1107 C:\\Users\\gnvca\\OneDrive\\Desktop\\JP\\model03\\dataset\\images\\test\\IDJecFNJguvTRy.jpg: 384x512 1 panel, 59.6ms\n",
      "image 354/1107 C:\\Users\\gnvca\\OneDrive\\Desktop\\JP\\model03\\dataset\\images\\test\\IDJgqLVP4.jpg: 384x512 2 panels, 69.7ms\n",
      "image 355/1107 C:\\Users\\gnvca\\OneDrive\\Desktop\\JP\\model03\\dataset\\images\\test\\IDJjPgyGge1TnPgJv.jpg: 384x512 11 panels, 63.8ms\n",
      "image 356/1107 C:\\Users\\gnvca\\OneDrive\\Desktop\\JP\\model03\\dataset\\images\\test\\IDJm4eh3XgV5Bg.jpg: 384x512 1 panel, 57.6ms\n",
      "image 357/1107 C:\\Users\\gnvca\\OneDrive\\Desktop\\JP\\model03\\dataset\\images\\test\\IDJs41T23jz5WOuo.jpg: 384x512 1 panel, 54.5ms\n",
      "image 358/1107 C:\\Users\\gnvca\\OneDrive\\Desktop\\JP\\model03\\dataset\\images\\test\\IDJyx6xO9.jpg: 512x448 1 boiler, 67.3ms\n",
      "image 359/1107 C:\\Users\\gnvca\\OneDrive\\Desktop\\JP\\model03\\dataset\\images\\test\\IDK0gON4uZv8m.jpg: 384x512 5 panels, 52.7ms\n",
      "image 360/1107 C:\\Users\\gnvca\\OneDrive\\Desktop\\JP\\model03\\dataset\\images\\test\\IDK0qLYlueh7zi.jpg: 384x512 1 panel, 27.7ms\n",
      "image 361/1107 C:\\Users\\gnvca\\OneDrive\\Desktop\\JP\\model03\\dataset\\images\\test\\IDK6FSBNg6hTpcj.jpg: 384x512 3 panels, 27.2ms\n",
      "image 362/1107 C:\\Users\\gnvca\\OneDrive\\Desktop\\JP\\model03\\dataset\\images\\test\\IDK6NUIqlE0HwT9.jpg: 384x512 1 boiler, 28.6ms\n",
      "image 363/1107 C:\\Users\\gnvca\\OneDrive\\Desktop\\JP\\model03\\dataset\\images\\test\\IDK6mJLUMf.jpg: 384x512 (no detections), 27.2ms\n",
      "image 364/1107 C:\\Users\\gnvca\\OneDrive\\Desktop\\JP\\model03\\dataset\\images\\test\\IDK6t3c22YXu3tnGK.jpg: 384x512 (no detections), 28.0ms\n",
      "image 365/1107 C:\\Users\\gnvca\\OneDrive\\Desktop\\JP\\model03\\dataset\\images\\test\\IDK6t6RbHOvqIBtXF.jpg: 384x512 6 panels, 28.6ms\n",
      "image 366/1107 C:\\Users\\gnvca\\OneDrive\\Desktop\\JP\\model03\\dataset\\images\\test\\IDK882SHZ1oD3z.jpg: 384x512 2 panels, 27.1ms\n",
      "image 367/1107 C:\\Users\\gnvca\\OneDrive\\Desktop\\JP\\model03\\dataset\\images\\test\\IDKBV4od6RPa.jpg: 384x512 3 panels, 27.1ms\n",
      "image 368/1107 C:\\Users\\gnvca\\OneDrive\\Desktop\\JP\\model03\\dataset\\images\\test\\IDKCqD5tg3u.jpg: 384x512 2 panels, 28.9ms\n",
      "image 369/1107 C:\\Users\\gnvca\\OneDrive\\Desktop\\JP\\model03\\dataset\\images\\test\\IDKEUzONz.jpg: 384x512 1 panel, 30.1ms\n",
      "image 370/1107 C:\\Users\\gnvca\\OneDrive\\Desktop\\JP\\model03\\dataset\\images\\test\\IDKHE2jX.jpg: 384x512 4 panels, 27.9ms\n",
      "image 371/1107 C:\\Users\\gnvca\\OneDrive\\Desktop\\JP\\model03\\dataset\\images\\test\\IDKHvdtrjzVQ.jpg: 384x512 (no detections), 27.6ms\n",
      "image 372/1107 C:\\Users\\gnvca\\OneDrive\\Desktop\\JP\\model03\\dataset\\images\\test\\IDKN6hQUq3bX.jpg: 384x512 (no detections), 27.2ms\n",
      "image 373/1107 C:\\Users\\gnvca\\OneDrive\\Desktop\\JP\\model03\\dataset\\images\\test\\IDKPtNdjHynOtygE.jpg: 384x512 (no detections), 27.4ms\n",
      "image 374/1107 C:\\Users\\gnvca\\OneDrive\\Desktop\\JP\\model03\\dataset\\images\\test\\IDKVu0o7UiNsnD0Kk.jpg: 384x512 1 panel, 28.6ms\n",
      "image 375/1107 C:\\Users\\gnvca\\OneDrive\\Desktop\\JP\\model03\\dataset\\images\\test\\IDKZJc7MGSN.jpg: 384x512 1 panel, 29.8ms\n",
      "image 376/1107 C:\\Users\\gnvca\\OneDrive\\Desktop\\JP\\model03\\dataset\\images\\test\\IDKgQonsJWDoRjb3.jpg: 384x512 1 boiler, 28.2ms\n",
      "image 377/1107 C:\\Users\\gnvca\\OneDrive\\Desktop\\JP\\model03\\dataset\\images\\test\\IDKiLWnPnPXmg3.jpg: 384x512 1 panel, 27.6ms\n",
      "image 378/1107 C:\\Users\\gnvca\\OneDrive\\Desktop\\JP\\model03\\dataset\\images\\test\\IDKnaHg0oiDMoz.jpg: 384x512 5 panels, 28.7ms\n",
      "image 379/1107 C:\\Users\\gnvca\\OneDrive\\Desktop\\JP\\model03\\dataset\\images\\test\\IDKoYUe1Wc8.jpg: 384x512 1 panel, 33.9ms\n",
      "image 380/1107 C:\\Users\\gnvca\\OneDrive\\Desktop\\JP\\model03\\dataset\\images\\test\\IDKrRNdjS1E.jpg: 384x512 1 boiler, 2 panels, 33.8ms\n",
      "image 381/1107 C:\\Users\\gnvca\\OneDrive\\Desktop\\JP\\model03\\dataset\\images\\test\\IDKrSuEjdC4P.jpg: 384x512 1 boiler, 34.2ms\n",
      "image 382/1107 C:\\Users\\gnvca\\OneDrive\\Desktop\\JP\\model03\\dataset\\images\\test\\IDKrqli.jpg: 384x512 1 boiler, 1 panel, 34.1ms\n",
      "image 383/1107 C:\\Users\\gnvca\\OneDrive\\Desktop\\JP\\model03\\dataset\\images\\test\\IDKsG3vt.jpg: 384x512 2 panels, 35.3ms\n",
      "image 384/1107 C:\\Users\\gnvca\\OneDrive\\Desktop\\JP\\model03\\dataset\\images\\test\\IDKtF1CeNRz9g0x.jpg: 320x512 1 panel, 33.2ms\n",
      "image 385/1107 C:\\Users\\gnvca\\OneDrive\\Desktop\\JP\\model03\\dataset\\images\\test\\IDKvGcqSmZA8qmMYP.jpg: 512x480 (no detections), 44.2ms\n",
      "image 386/1107 C:\\Users\\gnvca\\OneDrive\\Desktop\\JP\\model03\\dataset\\images\\test\\IDKyI51Rf8tm.jpg: 384x512 (no detections), 35.6ms\n",
      "image 387/1107 C:\\Users\\gnvca\\OneDrive\\Desktop\\JP\\model03\\dataset\\images\\test\\IDL2kHjS.jpg: 384x512 (no detections), 29.1ms\n",
      "image 388/1107 C:\\Users\\gnvca\\OneDrive\\Desktop\\JP\\model03\\dataset\\images\\test\\IDL44beN.jpg: 512x512 (no detections), 36.8ms\n",
      "image 389/1107 C:\\Users\\gnvca\\OneDrive\\Desktop\\JP\\model03\\dataset\\images\\test\\IDL46Fnc6PY4E.jpg: 512x512 (no detections), 38.0ms\n",
      "image 390/1107 C:\\Users\\gnvca\\OneDrive\\Desktop\\JP\\model03\\dataset\\images\\test\\IDL6NaRNLLn9MbR.jpg: 384x512 1 panel, 28.9ms\n",
      "image 391/1107 C:\\Users\\gnvca\\OneDrive\\Desktop\\JP\\model03\\dataset\\images\\test\\IDL927XZBhgyobC.jpg: 384x512 3 panels, 29.9ms\n",
      "image 392/1107 C:\\Users\\gnvca\\OneDrive\\Desktop\\JP\\model03\\dataset\\images\\test\\IDL9wX7t3MpVd.jpg: 384x512 1 boiler, 1 panel, 7.2ms\n",
      "image 393/1107 C:\\Users\\gnvca\\OneDrive\\Desktop\\JP\\model03\\dataset\\images\\test\\IDLFnxZdIRqAxI.jpg: 384x512 4 panels, 6.7ms\n",
      "image 394/1107 C:\\Users\\gnvca\\OneDrive\\Desktop\\JP\\model03\\dataset\\images\\test\\IDLHY6K77bSVERJb.jpg: 352x512 1 boiler, 1 panel, 6.9ms\n",
      "image 395/1107 C:\\Users\\gnvca\\OneDrive\\Desktop\\JP\\model03\\dataset\\images\\test\\IDLM7WrW5LOw0JE42.jpg: 384x512 (no detections), 6.5ms\n",
      "image 396/1107 C:\\Users\\gnvca\\OneDrive\\Desktop\\JP\\model03\\dataset\\images\\test\\IDLMOoYDz9M8N.jpg: 384x512 5 panels, 6.1ms\n",
      "image 397/1107 C:\\Users\\gnvca\\OneDrive\\Desktop\\JP\\model03\\dataset\\images\\test\\IDLN4CraOUqR9.jpg: 384x512 (no detections), 6.8ms\n",
      "image 398/1107 C:\\Users\\gnvca\\OneDrive\\Desktop\\JP\\model03\\dataset\\images\\test\\IDLSX0gkiL15.jpg: 384x512 (no detections), 6.8ms\n",
      "image 399/1107 C:\\Users\\gnvca\\OneDrive\\Desktop\\JP\\model03\\dataset\\images\\test\\IDLU0exqD.jpg: 384x512 (no detections), 6.1ms\n",
      "image 400/1107 C:\\Users\\gnvca\\OneDrive\\Desktop\\JP\\model03\\dataset\\images\\test\\IDLVYKB1P.jpg: 384x512 2 panels, 6.3ms\n",
      "image 401/1107 C:\\Users\\gnvca\\OneDrive\\Desktop\\JP\\model03\\dataset\\images\\test\\IDLarIQ0CA16.jpg: 384x512 1 panel, 6.7ms\n",
      "image 402/1107 C:\\Users\\gnvca\\OneDrive\\Desktop\\JP\\model03\\dataset\\images\\test\\IDLav1R.jpg: 384x512 (no detections), 6.1ms\n",
      "image 403/1107 C:\\Users\\gnvca\\OneDrive\\Desktop\\JP\\model03\\dataset\\images\\test\\IDLesHQ.jpg: 384x512 (no detections), 6.5ms\n",
      "image 404/1107 C:\\Users\\gnvca\\OneDrive\\Desktop\\JP\\model03\\dataset\\images\\test\\IDLgse7l8nBf0.jpg: 384x512 2 panels, 8.8ms\n",
      "image 405/1107 C:\\Users\\gnvca\\OneDrive\\Desktop\\JP\\model03\\dataset\\images\\test\\IDLjn1l8c.jpg: 384x512 1 boiler, 6.0ms\n",
      "image 406/1107 C:\\Users\\gnvca\\OneDrive\\Desktop\\JP\\model03\\dataset\\images\\test\\IDLon5uvygjfKg.jpg: 384x512 (no detections), 6.1ms\n",
      "image 407/1107 C:\\Users\\gnvca\\OneDrive\\Desktop\\JP\\model03\\dataset\\images\\test\\IDLuRayCZLN2OnTt.jpg: 384x512 4 panels, 6.9ms\n",
      "image 408/1107 C:\\Users\\gnvca\\OneDrive\\Desktop\\JP\\model03\\dataset\\images\\test\\IDLwNWXtY.jpg: 384x512 (no detections), 7.6ms\n",
      "image 409/1107 C:\\Users\\gnvca\\OneDrive\\Desktop\\JP\\model03\\dataset\\images\\test\\IDM230xets.jpg: 384x512 (no detections), 7.4ms\n",
      "image 410/1107 C:\\Users\\gnvca\\OneDrive\\Desktop\\JP\\model03\\dataset\\images\\test\\IDM2qQtF5Nuxvq.jpg: 384x512 (no detections), 7.3ms\n",
      "image 411/1107 C:\\Users\\gnvca\\OneDrive\\Desktop\\JP\\model03\\dataset\\images\\test\\IDM3KBbS465Eej.jpg: 384x512 (no detections), 7.7ms\n",
      "image 412/1107 C:\\Users\\gnvca\\OneDrive\\Desktop\\JP\\model03\\dataset\\images\\test\\IDM51Yxqc5J6HMZuX.jpg: 384x512 (no detections), 7.3ms\n",
      "image 413/1107 C:\\Users\\gnvca\\OneDrive\\Desktop\\JP\\model03\\dataset\\images\\test\\IDM9BLAbWdbSgTN7.jpg: 384x512 9 panels, 10.4ms\n",
      "image 414/1107 C:\\Users\\gnvca\\OneDrive\\Desktop\\JP\\model03\\dataset\\images\\test\\IDMGiM3AsZNFO8w5.jpg: 384x512 2 panels, 7.2ms\n",
      "image 415/1107 C:\\Users\\gnvca\\OneDrive\\Desktop\\JP\\model03\\dataset\\images\\test\\IDMGuoBeQvwgY9KM0.jpg: 384x512 3 panels, 7.0ms\n",
      "image 416/1107 C:\\Users\\gnvca\\OneDrive\\Desktop\\JP\\model03\\dataset\\images\\test\\IDMGv0j4OanVo8y.jpg: 384x512 1 panel, 6.1ms\n",
      "image 417/1107 C:\\Users\\gnvca\\OneDrive\\Desktop\\JP\\model03\\dataset\\images\\test\\IDMKQzV7p.jpg: 384x512 4 panels, 6.0ms\n",
      "image 418/1107 C:\\Users\\gnvca\\OneDrive\\Desktop\\JP\\model03\\dataset\\images\\test\\IDML2yL.jpg: 384x512 5 panels, 6.5ms\n",
      "image 419/1107 C:\\Users\\gnvca\\OneDrive\\Desktop\\JP\\model03\\dataset\\images\\test\\IDMNmCxlLPoPx.jpg: 384x512 1 panel, 6.9ms\n",
      "image 420/1107 C:\\Users\\gnvca\\OneDrive\\Desktop\\JP\\model03\\dataset\\images\\test\\IDMQXs48kD6zgII3.jpg: 384x512 1 panel, 7.1ms\n",
      "image 421/1107 C:\\Users\\gnvca\\OneDrive\\Desktop\\JP\\model03\\dataset\\images\\test\\IDMR2NnOOJK9v.jpg: 384x512 (no detections), 8.7ms\n",
      "image 422/1107 C:\\Users\\gnvca\\OneDrive\\Desktop\\JP\\model03\\dataset\\images\\test\\IDMTCM6VND5g1tx.jpg: 384x512 4 panels, 9.8ms\n",
      "image 423/1107 C:\\Users\\gnvca\\OneDrive\\Desktop\\JP\\model03\\dataset\\images\\test\\IDMUYJWk7qeED.jpg: 384x512 (no detections), 7.8ms\n",
      "image 424/1107 C:\\Users\\gnvca\\OneDrive\\Desktop\\JP\\model03\\dataset\\images\\test\\IDMZx0L.jpg: 384x512 (no detections), 8.7ms\n",
      "image 425/1107 C:\\Users\\gnvca\\OneDrive\\Desktop\\JP\\model03\\dataset\\images\\test\\IDMblBvBq2RONQv11.jpg: 384x512 8 panels, 6.9ms\n",
      "image 426/1107 C:\\Users\\gnvca\\OneDrive\\Desktop\\JP\\model03\\dataset\\images\\test\\IDMcPyJnQ.jpg: 512x512 (no detections), 8.0ms\n",
      "image 427/1107 C:\\Users\\gnvca\\OneDrive\\Desktop\\JP\\model03\\dataset\\images\\test\\IDMcpx6mjEjJT.jpg: 384x512 (no detections), 8.1ms\n",
      "image 428/1107 C:\\Users\\gnvca\\OneDrive\\Desktop\\JP\\model03\\dataset\\images\\test\\IDMdVbIPkq.jpg: 512x480 1 boiler, 9.8ms\n",
      "image 429/1107 C:\\Users\\gnvca\\OneDrive\\Desktop\\JP\\model03\\dataset\\images\\test\\IDMdli49mBg5uZud.jpg: 416x512 1 panel, 7.4ms\n",
      "image 430/1107 C:\\Users\\gnvca\\OneDrive\\Desktop\\JP\\model03\\dataset\\images\\test\\IDMj9QZSf0wo.jpg: 384x512 1 boiler, 1 panel, 7.0ms\n",
      "image 431/1107 C:\\Users\\gnvca\\OneDrive\\Desktop\\JP\\model03\\dataset\\images\\test\\IDMkxko.jpg: 384x512 (no detections), 7.1ms\n",
      "image 432/1107 C:\\Users\\gnvca\\OneDrive\\Desktop\\JP\\model03\\dataset\\images\\test\\IDMtX7L.jpg: 384x512 (no detections), 6.6ms\n",
      "image 433/1107 C:\\Users\\gnvca\\OneDrive\\Desktop\\JP\\model03\\dataset\\images\\test\\IDMxDFck.jpg: 384x512 1 panel, 6.5ms\n",
      "image 434/1107 C:\\Users\\gnvca\\OneDrive\\Desktop\\JP\\model03\\dataset\\images\\test\\IDMxaHDh.jpg: 384x512 1 panel, 20.4ms\n",
      "image 435/1107 C:\\Users\\gnvca\\OneDrive\\Desktop\\JP\\model03\\dataset\\images\\test\\IDMzjzfm9zDRx.jpg: 384x512 7 panels, 20.3ms\n",
      "image 436/1107 C:\\Users\\gnvca\\OneDrive\\Desktop\\JP\\model03\\dataset\\images\\test\\IDN1cCi.jpg: 512x512 1 panel, 18.7ms\n",
      "image 437/1107 C:\\Users\\gnvca\\OneDrive\\Desktop\\JP\\model03\\dataset\\images\\test\\IDN3VLbRB.jpg: 384x512 1 panel, 12.8ms\n",
      "image 438/1107 C:\\Users\\gnvca\\OneDrive\\Desktop\\JP\\model03\\dataset\\images\\test\\IDN5iKVxB.jpg: 384x512 1 panel, 12.0ms\n",
      "image 439/1107 C:\\Users\\gnvca\\OneDrive\\Desktop\\JP\\model03\\dataset\\images\\test\\IDNB13Sq0.jpg: 384x512 3 panels, 12.4ms\n",
      "image 440/1107 C:\\Users\\gnvca\\OneDrive\\Desktop\\JP\\model03\\dataset\\images\\test\\IDNBjVC8SxqDkIWf.jpg: 384x512 (no detections), 12.4ms\n",
      "image 441/1107 C:\\Users\\gnvca\\OneDrive\\Desktop\\JP\\model03\\dataset\\images\\test\\IDNCrauw.jpg: 384x512 (no detections), 12.4ms\n",
      "image 442/1107 C:\\Users\\gnvca\\OneDrive\\Desktop\\JP\\model03\\dataset\\images\\test\\IDNDx1HtBlb3hK.jpg: 384x512 1 panel, 13.0ms\n",
      "image 443/1107 C:\\Users\\gnvca\\OneDrive\\Desktop\\JP\\model03\\dataset\\images\\test\\IDNIPm4e5.jpg: 384x512 (no detections), 13.1ms\n",
      "image 444/1107 C:\\Users\\gnvca\\OneDrive\\Desktop\\JP\\model03\\dataset\\images\\test\\IDNK9ZcQaleKeH3M.jpg: 512x320 1 boiler, 1 panel, 13.5ms\n",
      "image 445/1107 C:\\Users\\gnvca\\OneDrive\\Desktop\\JP\\model03\\dataset\\images\\test\\IDNNe7rtayXqPyD.jpg: 384x512 1 boiler, 14.1ms\n",
      "image 446/1107 C:\\Users\\gnvca\\OneDrive\\Desktop\\JP\\model03\\dataset\\images\\test\\IDNOkVPbjqkOaE4.jpg: 384x512 2 panels, 13.4ms\n",
      "image 447/1107 C:\\Users\\gnvca\\OneDrive\\Desktop\\JP\\model03\\dataset\\images\\test\\IDNPNs0vbRQ9Bnc.jpg: 384x512 5 panels, 14.2ms\n",
      "image 448/1107 C:\\Users\\gnvca\\OneDrive\\Desktop\\JP\\model03\\dataset\\images\\test\\IDNPUOLqoTeRnP.jpg: 384x512 1 panel, 14.1ms\n",
      "image 449/1107 C:\\Users\\gnvca\\OneDrive\\Desktop\\JP\\model03\\dataset\\images\\test\\IDNPnuenHZFlXb5O8.jpg: 384x512 3 panels, 14.2ms\n",
      "image 450/1107 C:\\Users\\gnvca\\OneDrive\\Desktop\\JP\\model03\\dataset\\images\\test\\IDNSCnqUC9XmOCm.jpg: 384x512 (no detections), 14.7ms\n",
      "image 451/1107 C:\\Users\\gnvca\\OneDrive\\Desktop\\JP\\model03\\dataset\\images\\test\\IDNXDxhOyEQBn28n.jpg: 384x512 (no detections), 14.6ms\n",
      "image 452/1107 C:\\Users\\gnvca\\OneDrive\\Desktop\\JP\\model03\\dataset\\images\\test\\IDNXKJf7.jpg: 512x512 3 boilers, 18.4ms\n",
      "image 453/1107 C:\\Users\\gnvca\\OneDrive\\Desktop\\JP\\model03\\dataset\\images\\test\\IDNXvdJz7W1.jpg: 384x512 (no detections), 16.0ms\n",
      "image 454/1107 C:\\Users\\gnvca\\OneDrive\\Desktop\\JP\\model03\\dataset\\images\\test\\IDNbaHZfQfK.jpg: 384x512 (no detections), 15.1ms\n",
      "image 455/1107 C:\\Users\\gnvca\\OneDrive\\Desktop\\JP\\model03\\dataset\\images\\test\\IDNcYErXJyR.jpg: 384x512 7 panels, 15.0ms\n",
      "image 456/1107 C:\\Users\\gnvca\\OneDrive\\Desktop\\JP\\model03\\dataset\\images\\test\\IDNg4JnI5aXKFDL.jpg: 384x512 11 panels, 15.7ms\n",
      "image 457/1107 C:\\Users\\gnvca\\OneDrive\\Desktop\\JP\\model03\\dataset\\images\\test\\IDNhI1pLC.jpg: 384x512 (no detections), 15.6ms\n",
      "image 458/1107 C:\\Users\\gnvca\\OneDrive\\Desktop\\JP\\model03\\dataset\\images\\test\\IDNit7il1k.jpg: 384x512 4 panels, 15.8ms\n",
      "image 459/1107 C:\\Users\\gnvca\\OneDrive\\Desktop\\JP\\model03\\dataset\\images\\test\\IDNmw1aq.jpg: 384x512 1 boiler, 2 panels, 16.4ms\n",
      "image 460/1107 C:\\Users\\gnvca\\OneDrive\\Desktop\\JP\\model03\\dataset\\images\\test\\IDNvVkeJvG5Mu0e.jpg: 384x512 3 panels, 16.4ms\n",
      "image 461/1107 C:\\Users\\gnvca\\OneDrive\\Desktop\\JP\\model03\\dataset\\images\\test\\IDNz5ndBpJSUJC.jpg: 384x512 1 boiler, 24.6ms\n",
      "image 462/1107 C:\\Users\\gnvca\\OneDrive\\Desktop\\JP\\model03\\dataset\\images\\test\\IDO3Nbs4Cgz.jpg: 384x512 2 panels, 24.4ms\n",
      "image 463/1107 C:\\Users\\gnvca\\OneDrive\\Desktop\\JP\\model03\\dataset\\images\\test\\IDO3YczvTG.jpg: 416x512 2 panels, 28.2ms\n",
      "image 464/1107 C:\\Users\\gnvca\\OneDrive\\Desktop\\JP\\model03\\dataset\\images\\test\\IDO7uXl1qf.jpg: 384x512 (no detections), 25.4ms\n",
      "image 465/1107 C:\\Users\\gnvca\\OneDrive\\Desktop\\JP\\model03\\dataset\\images\\test\\IDO8ardH2SCCEh.jpg: 480x512 2 panels, 29.7ms\n",
      "image 466/1107 C:\\Users\\gnvca\\OneDrive\\Desktop\\JP\\model03\\dataset\\images\\test\\IDOE1T3uLBCe.jpg: 384x512 3 panels, 25.6ms\n",
      "image 467/1107 C:\\Users\\gnvca\\OneDrive\\Desktop\\JP\\model03\\dataset\\images\\test\\IDOFTIAH2rIRD.jpg: 384x512 2 panels, 25.1ms\n",
      "image 468/1107 C:\\Users\\gnvca\\OneDrive\\Desktop\\JP\\model03\\dataset\\images\\test\\IDOFiblI7dE1tt.jpg: 384x512 15 panels, 25.5ms\n",
      "image 469/1107 C:\\Users\\gnvca\\OneDrive\\Desktop\\JP\\model03\\dataset\\images\\test\\IDOIUJna2m1kHIpz.jpg: 384x512 1 panel, 25.5ms\n",
      "image 470/1107 C:\\Users\\gnvca\\OneDrive\\Desktop\\JP\\model03\\dataset\\images\\test\\IDOIZqkNpG.jpg: 384x512 1 boiler, 25.9ms\n",
      "image 471/1107 C:\\Users\\gnvca\\OneDrive\\Desktop\\JP\\model03\\dataset\\images\\test\\IDOJdQwe0Jn.jpg: 384x512 1 boiler, 25.8ms\n",
      "image 472/1107 C:\\Users\\gnvca\\OneDrive\\Desktop\\JP\\model03\\dataset\\images\\test\\IDOL2x4vzHo2t.jpg: 384x512 4 panels, 27.0ms\n",
      "image 473/1107 C:\\Users\\gnvca\\OneDrive\\Desktop\\JP\\model03\\dataset\\images\\test\\IDOSil7QbG.jpg: 384x512 2 boilers, 26.7ms\n",
      "image 474/1107 C:\\Users\\gnvca\\OneDrive\\Desktop\\JP\\model03\\dataset\\images\\test\\IDOTvWB.jpg: 384x512 (no detections), 26.5ms\n",
      "image 475/1107 C:\\Users\\gnvca\\OneDrive\\Desktop\\JP\\model03\\dataset\\images\\test\\IDOWmr0Gc1.jpg: 448x512 3 boilers, 32.0ms\n",
      "image 476/1107 C:\\Users\\gnvca\\OneDrive\\Desktop\\JP\\model03\\dataset\\images\\test\\IDOXsvq4GzS6AyJbf.jpg: 384x512 2 panels, 28.3ms\n",
      "image 477/1107 C:\\Users\\gnvca\\OneDrive\\Desktop\\JP\\model03\\dataset\\images\\test\\IDOYY22kAh5G0T.jpg: 384x512 1 panel, 28.5ms\n",
      "image 478/1107 C:\\Users\\gnvca\\OneDrive\\Desktop\\JP\\model03\\dataset\\images\\test\\IDOc9ZSO1x3gF81.jpg: 384x512 1 panel, 28.0ms\n",
      "image 479/1107 C:\\Users\\gnvca\\OneDrive\\Desktop\\JP\\model03\\dataset\\images\\test\\IDOddsmtY.jpg: 384x512 1 panel, 28.2ms\n",
      "image 480/1107 C:\\Users\\gnvca\\OneDrive\\Desktop\\JP\\model03\\dataset\\images\\test\\IDOgPWC.jpg: 384x512 3 panels, 32.6ms\n",
      "image 481/1107 C:\\Users\\gnvca\\OneDrive\\Desktop\\JP\\model03\\dataset\\images\\test\\IDOmSQpfls.jpg: 384x512 (no detections), 32.8ms\n",
      "image 482/1107 C:\\Users\\gnvca\\OneDrive\\Desktop\\JP\\model03\\dataset\\images\\test\\IDP4AcJ.jpg: 384x512 (no detections), 32.6ms\n",
      "image 483/1107 C:\\Users\\gnvca\\OneDrive\\Desktop\\JP\\model03\\dataset\\images\\test\\IDP62tlw063.jpg: 384x512 1 panel, 33.2ms\n",
      "image 484/1107 C:\\Users\\gnvca\\OneDrive\\Desktop\\JP\\model03\\dataset\\images\\test\\IDP6Pfy3G.jpg: 384x512 (no detections), 33.7ms\n",
      "image 485/1107 C:\\Users\\gnvca\\OneDrive\\Desktop\\JP\\model03\\dataset\\images\\test\\IDP8yPZ.jpg: 512x512 1 boiler, 41.3ms\n",
      "image 486/1107 C:\\Users\\gnvca\\OneDrive\\Desktop\\JP\\model03\\dataset\\images\\test\\IDP9rc6Hpu.jpg: 384x512 1 panel, 33.7ms\n",
      "image 487/1107 C:\\Users\\gnvca\\OneDrive\\Desktop\\JP\\model03\\dataset\\images\\test\\IDPCQNAYWKeNW.jpg: 384x512 3 panels, 33.3ms\n",
      "image 488/1107 C:\\Users\\gnvca\\OneDrive\\Desktop\\JP\\model03\\dataset\\images\\test\\IDPEzqtTD031h.jpg: 384x512 4 panels, 33.8ms\n",
      "image 489/1107 C:\\Users\\gnvca\\OneDrive\\Desktop\\JP\\model03\\dataset\\images\\test\\IDPHtAoYIkGvT.jpg: 384x512 12 panels, 33.6ms\n",
      "image 490/1107 C:\\Users\\gnvca\\OneDrive\\Desktop\\JP\\model03\\dataset\\images\\test\\IDPNeUgh8WbDfK.jpg: 384x512 (no detections), 33.9ms\n",
      "image 491/1107 C:\\Users\\gnvca\\OneDrive\\Desktop\\JP\\model03\\dataset\\images\\test\\IDPSX04HF.jpg: 384x512 (no detections), 33.9ms\n",
      "image 492/1107 C:\\Users\\gnvca\\OneDrive\\Desktop\\JP\\model03\\dataset\\images\\test\\IDPSxbXW5tPnM.jpg: 384x512 1 panel, 33.8ms\n",
      "image 493/1107 C:\\Users\\gnvca\\OneDrive\\Desktop\\JP\\model03\\dataset\\images\\test\\IDPdzEzd4MjJwC.jpg: 384x512 3 panels, 33.5ms\n",
      "image 494/1107 C:\\Users\\gnvca\\OneDrive\\Desktop\\JP\\model03\\dataset\\images\\test\\IDPokFP.jpg: 384x512 7 panels, 33.5ms\n",
      "image 495/1107 C:\\Users\\gnvca\\OneDrive\\Desktop\\JP\\model03\\dataset\\images\\test\\IDPsGUFxHtTUZ.jpg: 384x512 (no detections), 33.5ms\n",
      "image 496/1107 C:\\Users\\gnvca\\OneDrive\\Desktop\\JP\\model03\\dataset\\images\\test\\IDPtql7rXD.jpg: 384x512 1 boiler, 4 panels, 33.5ms\n",
      "image 497/1107 C:\\Users\\gnvca\\OneDrive\\Desktop\\JP\\model03\\dataset\\images\\test\\IDPtwO0d4Ta.jpg: 384x512 2 panels, 33.4ms\n",
      "image 498/1107 C:\\Users\\gnvca\\OneDrive\\Desktop\\JP\\model03\\dataset\\images\\test\\IDPua0q.jpg: 416x512 1 boiler, 38.9ms\n",
      "image 499/1107 C:\\Users\\gnvca\\OneDrive\\Desktop\\JP\\model03\\dataset\\images\\test\\IDQ2qFEDWOCT.jpg: 384x512 1 panel, 42.7ms\n",
      "image 500/1107 C:\\Users\\gnvca\\OneDrive\\Desktop\\JP\\model03\\dataset\\images\\test\\IDQ41Nw0R9o9kX4.jpg: 256x512 (no detections), 43.5ms\n",
      "image 501/1107 C:\\Users\\gnvca\\OneDrive\\Desktop\\JP\\model03\\dataset\\images\\test\\IDQ5RlAY.jpg: 352x512 1 panel, 56.8ms\n",
      "image 502/1107 C:\\Users\\gnvca\\OneDrive\\Desktop\\JP\\model03\\dataset\\images\\test\\IDQ6GBCrQCnU68qGR.jpg: 384x512 (no detections), 33.6ms\n",
      "image 503/1107 C:\\Users\\gnvca\\OneDrive\\Desktop\\JP\\model03\\dataset\\images\\test\\IDQ8I5cc6.jpg: 384x512 1 panel, 36.3ms\n",
      "image 504/1107 C:\\Users\\gnvca\\OneDrive\\Desktop\\JP\\model03\\dataset\\images\\test\\IDQB0WEU30ws.jpg: 384x512 2 boilers, 31.9ms\n",
      "image 505/1107 C:\\Users\\gnvca\\OneDrive\\Desktop\\JP\\model03\\dataset\\images\\test\\IDQBFMVT1AtcPzZ.jpg: 384x512 12 panels, 32.8ms\n",
      "image 506/1107 C:\\Users\\gnvca\\OneDrive\\Desktop\\JP\\model03\\dataset\\images\\test\\IDQFWf23PpUc.jpg: 384x512 1 panel, 32.1ms\n",
      "image 507/1107 C:\\Users\\gnvca\\OneDrive\\Desktop\\JP\\model03\\dataset\\images\\test\\IDQGrKKR.jpg: 384x512 (no detections), 32.0ms\n",
      "image 508/1107 C:\\Users\\gnvca\\OneDrive\\Desktop\\JP\\model03\\dataset\\images\\test\\IDQP5NDegX.jpg: 384x512 (no detections), 33.6ms\n",
      "image 509/1107 C:\\Users\\gnvca\\OneDrive\\Desktop\\JP\\model03\\dataset\\images\\test\\IDQTwuOnn9C.jpg: 384x512 2 panels, 35.9ms\n",
      "image 510/1107 C:\\Users\\gnvca\\OneDrive\\Desktop\\JP\\model03\\dataset\\images\\test\\IDQW59NVLvUfAXt.jpg: 384x512 (no detections), 36.0ms\n",
      "image 511/1107 C:\\Users\\gnvca\\OneDrive\\Desktop\\JP\\model03\\dataset\\images\\test\\IDQbcNyo9HWRLA.jpg: 384x512 (no detections), 67.0ms\n",
      "image 512/1107 C:\\Users\\gnvca\\OneDrive\\Desktop\\JP\\model03\\dataset\\images\\test\\IDQdwNuYup.jpg: 512x512 1 panel, 55.0ms\n",
      "image 513/1107 C:\\Users\\gnvca\\OneDrive\\Desktop\\JP\\model03\\dataset\\images\\test\\IDQm5eRSAdG0sB.jpg: 384x512 3 panels, 31.7ms\n",
      "image 514/1107 C:\\Users\\gnvca\\OneDrive\\Desktop\\JP\\model03\\dataset\\images\\test\\IDQr5AXcM3eN.jpg: 384x512 4 panels, 30.6ms\n",
      "image 515/1107 C:\\Users\\gnvca\\OneDrive\\Desktop\\JP\\model03\\dataset\\images\\test\\IDQtwjxiGA2Ou1K.jpg: 384x512 5 panels, 30.8ms\n",
      "image 516/1107 C:\\Users\\gnvca\\OneDrive\\Desktop\\JP\\model03\\dataset\\images\\test\\IDR07XaHK.jpg: 384x512 (no detections), 31.5ms\n",
      "image 517/1107 C:\\Users\\gnvca\\OneDrive\\Desktop\\JP\\model03\\dataset\\images\\test\\IDR5ILztiEWJcobS.jpg: 384x512 4 panels, 31.0ms\n",
      "image 518/1107 C:\\Users\\gnvca\\OneDrive\\Desktop\\JP\\model03\\dataset\\images\\test\\IDR6SAyLmh3JLx.jpg: 384x512 1 panel, 30.5ms\n",
      "image 519/1107 C:\\Users\\gnvca\\OneDrive\\Desktop\\JP\\model03\\dataset\\images\\test\\IDR7dlqS22CCf.jpg: 384x512 6 panels, 54.0ms\n",
      "image 520/1107 C:\\Users\\gnvca\\OneDrive\\Desktop\\JP\\model03\\dataset\\images\\test\\IDR8udMWlWb.jpg: 384x512 12 panels, 52.4ms\n",
      "image 521/1107 C:\\Users\\gnvca\\OneDrive\\Desktop\\JP\\model03\\dataset\\images\\test\\IDR8wCZ4yd2.jpg: 384x512 1 panel, 53.3ms\n",
      "image 522/1107 C:\\Users\\gnvca\\OneDrive\\Desktop\\JP\\model03\\dataset\\images\\test\\IDR9jPd9v0d.jpg: 384x512 6 panels, 64.0ms\n",
      "image 523/1107 C:\\Users\\gnvca\\OneDrive\\Desktop\\JP\\model03\\dataset\\images\\test\\IDRBIFU0izv.jpg: 384x512 4 panels, 57.1ms\n",
      "image 524/1107 C:\\Users\\gnvca\\OneDrive\\Desktop\\JP\\model03\\dataset\\images\\test\\IDRKqDqTuG.jpg: 384x512 2 panels, 34.2ms\n",
      "image 525/1107 C:\\Users\\gnvca\\OneDrive\\Desktop\\JP\\model03\\dataset\\images\\test\\IDRP8faSjvnI.jpg: 384x512 3 panels, 34.2ms\n",
      "image 526/1107 C:\\Users\\gnvca\\OneDrive\\Desktop\\JP\\model03\\dataset\\images\\test\\IDRYuoNRdkfNf.jpg: 384x512 1 boiler, 34.3ms\n",
      "image 527/1107 C:\\Users\\gnvca\\OneDrive\\Desktop\\JP\\model03\\dataset\\images\\test\\IDRZeavYJg.jpg: 384x512 (no detections), 34.6ms\n",
      "image 528/1107 C:\\Users\\gnvca\\OneDrive\\Desktop\\JP\\model03\\dataset\\images\\test\\IDRaO6YRAwASlUJV.jpg: 384x512 1 panel, 48.9ms\n",
      "image 529/1107 C:\\Users\\gnvca\\OneDrive\\Desktop\\JP\\model03\\dataset\\images\\test\\IDRghDoQ9FtuYcwdt.jpg: 384x512 (no detections), 34.3ms\n",
      "image 530/1107 C:\\Users\\gnvca\\OneDrive\\Desktop\\JP\\model03\\dataset\\images\\test\\IDRl5a2wEx6OGQqT.jpg: 384x512 (no detections), 54.4ms\n",
      "image 531/1107 C:\\Users\\gnvca\\OneDrive\\Desktop\\JP\\model03\\dataset\\images\\test\\IDRnq8X.jpg: 384x512 (no detections), 56.4ms\n",
      "image 532/1107 C:\\Users\\gnvca\\OneDrive\\Desktop\\JP\\model03\\dataset\\images\\test\\IDRppqUhXT2Mn0R.jpg: 384x512 (no detections), 51.1ms\n",
      "image 533/1107 C:\\Users\\gnvca\\OneDrive\\Desktop\\JP\\model03\\dataset\\images\\test\\IDRrUW3ndT.jpg: 384x512 5 panels, 51.1ms\n",
      "image 534/1107 C:\\Users\\gnvca\\OneDrive\\Desktop\\JP\\model03\\dataset\\images\\test\\IDRu1SeBHN6.jpg: 384x512 (no detections), 50.5ms\n",
      "image 535/1107 C:\\Users\\gnvca\\OneDrive\\Desktop\\JP\\model03\\dataset\\images\\test\\IDRvu7vt2zBrN.jpg: 512x352 1 boiler, 51.6ms\n",
      "image 536/1107 C:\\Users\\gnvca\\OneDrive\\Desktop\\JP\\model03\\dataset\\images\\test\\IDRxZ6XtPbRK.jpg: 384x512 1 panel, 28.3ms\n",
      "image 537/1107 C:\\Users\\gnvca\\OneDrive\\Desktop\\JP\\model03\\dataset\\images\\test\\IDRyt3zB02d.jpg: 384x512 1 panel, 28.0ms\n",
      "image 538/1107 C:\\Users\\gnvca\\OneDrive\\Desktop\\JP\\model03\\dataset\\images\\test\\IDS0NVw.jpg: 384x512 1 boiler, 1 panel, 27.7ms\n",
      "image 539/1107 C:\\Users\\gnvca\\OneDrive\\Desktop\\JP\\model03\\dataset\\images\\test\\IDS1IvSdbtq6.jpg: 384x512 1 boiler, 29.1ms\n",
      "image 540/1107 C:\\Users\\gnvca\\OneDrive\\Desktop\\JP\\model03\\dataset\\images\\test\\IDSAQZD.jpg: 512x448 1 boiler, 33.3ms\n",
      "image 541/1107 C:\\Users\\gnvca\\OneDrive\\Desktop\\JP\\model03\\dataset\\images\\test\\IDSDUpCbwxJ.jpg: 384x512 1 boiler, 31.5ms\n",
      "image 542/1107 C:\\Users\\gnvca\\OneDrive\\Desktop\\JP\\model03\\dataset\\images\\test\\IDSDiLo.jpg: 448x512 (no detections), 35.9ms\n",
      "image 543/1107 C:\\Users\\gnvca\\OneDrive\\Desktop\\JP\\model03\\dataset\\images\\test\\IDSGQS7xL.jpg: 384x512 (no detections), 31.4ms\n",
      "image 544/1107 C:\\Users\\gnvca\\OneDrive\\Desktop\\JP\\model03\\dataset\\images\\test\\IDSH4cGXPoVxLc9K.jpg: 384x512 2 panels, 29.8ms\n",
      "image 545/1107 C:\\Users\\gnvca\\OneDrive\\Desktop\\JP\\model03\\dataset\\images\\test\\IDSIXGFQie.jpg: 384x512 3 panels, 28.1ms\n",
      "image 546/1107 C:\\Users\\gnvca\\OneDrive\\Desktop\\JP\\model03\\dataset\\images\\test\\IDSLtdw20.jpg: 416x512 2 boilers, 32.3ms\n",
      "image 547/1107 C:\\Users\\gnvca\\OneDrive\\Desktop\\JP\\model03\\dataset\\images\\test\\IDSV1kLo6kBJ.jpg: 384x512 3 panels, 29.1ms\n",
      "image 548/1107 C:\\Users\\gnvca\\OneDrive\\Desktop\\JP\\model03\\dataset\\images\\test\\IDSiRPkvdN.jpg: 384x512 1 panel, 28.2ms\n",
      "image 549/1107 C:\\Users\\gnvca\\OneDrive\\Desktop\\JP\\model03\\dataset\\images\\test\\IDSqDYsSoktFjiqV.jpg: 384x512 1 panel, 28.8ms\n",
      "image 550/1107 C:\\Users\\gnvca\\OneDrive\\Desktop\\JP\\model03\\dataset\\images\\test\\IDSssfpXj.jpg: 384x512 2 panels, 28.3ms\n",
      "image 551/1107 C:\\Users\\gnvca\\OneDrive\\Desktop\\JP\\model03\\dataset\\images\\test\\IDT7IaaxIhflo.jpg: 384x512 (no detections), 33.0ms\n",
      "image 552/1107 C:\\Users\\gnvca\\OneDrive\\Desktop\\JP\\model03\\dataset\\images\\test\\IDT83T5.jpg: 384x512 1 boiler, 2 panels, 33.6ms\n",
      "image 553/1107 C:\\Users\\gnvca\\OneDrive\\Desktop\\JP\\model03\\dataset\\images\\test\\IDT87CiQ2Gfe.jpg: 384x512 1 boiler, 30.7ms\n",
      "image 554/1107 C:\\Users\\gnvca\\OneDrive\\Desktop\\JP\\model03\\dataset\\images\\test\\IDT8VhBAnWjz.jpg: 384x512 (no detections), 32.5ms\n",
      "image 555/1107 C:\\Users\\gnvca\\OneDrive\\Desktop\\JP\\model03\\dataset\\images\\test\\IDTDNbFrMf.jpg: 384x512 6 panels, 31.6ms\n",
      "image 556/1107 C:\\Users\\gnvca\\OneDrive\\Desktop\\JP\\model03\\dataset\\images\\test\\IDTIjrqfEdiCaW.jpg: 384x512 1 panel, 34.2ms\n",
      "image 557/1107 C:\\Users\\gnvca\\OneDrive\\Desktop\\JP\\model03\\dataset\\images\\test\\IDTN2z0wqOEjF.jpg: 384x512 (no detections), 31.1ms\n",
      "image 558/1107 C:\\Users\\gnvca\\OneDrive\\Desktop\\JP\\model03\\dataset\\images\\test\\IDTOPKMFrhJfGR.jpg: 512x416 1 panel, 36.7ms\n",
      "image 559/1107 C:\\Users\\gnvca\\OneDrive\\Desktop\\JP\\model03\\dataset\\images\\test\\IDTSRmb04zp8jw.jpg: 384x512 2 panels, 52.5ms\n",
      "image 560/1107 C:\\Users\\gnvca\\OneDrive\\Desktop\\JP\\model03\\dataset\\images\\test\\IDTc5vCuKREEbT51q.jpg: 384x512 (no detections), 51.9ms\n",
      "image 561/1107 C:\\Users\\gnvca\\OneDrive\\Desktop\\JP\\model03\\dataset\\images\\test\\IDTn4HXmUw.jpg: 384x512 5 panels, 33.8ms\n",
      "image 562/1107 C:\\Users\\gnvca\\OneDrive\\Desktop\\JP\\model03\\dataset\\images\\test\\IDTnZIAEKy5.jpg: 384x512 (no detections), 33.4ms\n",
      "image 563/1107 C:\\Users\\gnvca\\OneDrive\\Desktop\\JP\\model03\\dataset\\images\\test\\IDTrFruRkTs5.jpg: 384x512 (no detections), 40.3ms\n",
      "image 564/1107 C:\\Users\\gnvca\\OneDrive\\Desktop\\JP\\model03\\dataset\\images\\test\\IDTtkznFNr.jpg: 384x512 2 panels, 52.9ms\n",
      "image 565/1107 C:\\Users\\gnvca\\OneDrive\\Desktop\\JP\\model03\\dataset\\images\\test\\IDU15pFXGPoW.jpg: 384x512 2 panels, 61.3ms\n",
      "image 566/1107 C:\\Users\\gnvca\\OneDrive\\Desktop\\JP\\model03\\dataset\\images\\test\\IDUDizwHAA5Vpq.jpg: 384x512 1 panel, 61.7ms\n",
      "image 567/1107 C:\\Users\\gnvca\\OneDrive\\Desktop\\JP\\model03\\dataset\\images\\test\\IDUEOvkdd0Io.jpg: 512x416 2 panels, 64.1ms\n",
      "image 568/1107 C:\\Users\\gnvca\\OneDrive\\Desktop\\JP\\model03\\dataset\\images\\test\\IDUJK61tWJzl.jpg: 384x512 1 panel, 52.6ms\n",
      "image 569/1107 C:\\Users\\gnvca\\OneDrive\\Desktop\\JP\\model03\\dataset\\images\\test\\IDUR1hGQJ8n.jpg: 384x512 1 panel, 51.0ms\n",
      "image 570/1107 C:\\Users\\gnvca\\OneDrive\\Desktop\\JP\\model03\\dataset\\images\\test\\IDURAmRpwd.jpg: 384x512 4 panels, 50.7ms\n",
      "image 571/1107 C:\\Users\\gnvca\\OneDrive\\Desktop\\JP\\model03\\dataset\\images\\test\\IDUTofzTK1ryH4h.jpg: 384x512 6 panels, 32.9ms\n",
      "image 572/1107 C:\\Users\\gnvca\\OneDrive\\Desktop\\JP\\model03\\dataset\\images\\test\\IDUaqgsF.jpg: 384x512 (no detections), 32.7ms\n",
      "image 573/1107 C:\\Users\\gnvca\\OneDrive\\Desktop\\JP\\model03\\dataset\\images\\test\\IDUdmIO5gHk7Xe.jpg: 384x512 1 boiler, 32.9ms\n",
      "image 574/1107 C:\\Users\\gnvca\\OneDrive\\Desktop\\JP\\model03\\dataset\\images\\test\\IDUekYdA.jpg: 448x512 1 boiler, 38.2ms\n",
      "image 575/1107 C:\\Users\\gnvca\\OneDrive\\Desktop\\JP\\model03\\dataset\\images\\test\\IDUh6ZDfY0zoo.jpg: 384x512 3 panels, 33.3ms\n",
      "image 576/1107 C:\\Users\\gnvca\\OneDrive\\Desktop\\JP\\model03\\dataset\\images\\test\\IDUu0vUQVXbU83.jpg: 384x512 1 boiler, 5 panels, 35.3ms\n",
      "image 577/1107 C:\\Users\\gnvca\\OneDrive\\Desktop\\JP\\model03\\dataset\\images\\test\\IDUxMGJXV7GZm.jpg: 384x512 (no detections), 34.1ms\n",
      "image 578/1107 C:\\Users\\gnvca\\OneDrive\\Desktop\\JP\\model03\\dataset\\images\\test\\IDUzf7o00ZjNPbTiv.jpg: 384x512 (no detections), 35.9ms\n",
      "image 579/1107 C:\\Users\\gnvca\\OneDrive\\Desktop\\JP\\model03\\dataset\\images\\test\\IDV2gsvkl7R0sE7.jpg: 384x512 (no detections), 32.8ms\n",
      "image 580/1107 C:\\Users\\gnvca\\OneDrive\\Desktop\\JP\\model03\\dataset\\images\\test\\IDV7gvduUgEi5M8oc.jpg: 384x512 6 panels, 33.0ms\n",
      "image 581/1107 C:\\Users\\gnvca\\OneDrive\\Desktop\\JP\\model03\\dataset\\images\\test\\IDVELYhWJK.jpg: 384x512 (no detections), 36.0ms\n",
      "image 582/1107 C:\\Users\\gnvca\\OneDrive\\Desktop\\JP\\model03\\dataset\\images\\test\\IDVEbPX.jpg: 384x512 1 panel, 32.7ms\n",
      "image 583/1107 C:\\Users\\gnvca\\OneDrive\\Desktop\\JP\\model03\\dataset\\images\\test\\IDVF47p.jpg: 384x512 2 panels, 33.1ms\n",
      "image 584/1107 C:\\Users\\gnvca\\OneDrive\\Desktop\\JP\\model03\\dataset\\images\\test\\IDVMVK7.jpg: 384x512 (no detections), 32.9ms\n",
      "image 585/1107 C:\\Users\\gnvca\\OneDrive\\Desktop\\JP\\model03\\dataset\\images\\test\\IDVPgPc.jpg: 384x512 (no detections), 42.6ms\n",
      "image 586/1107 C:\\Users\\gnvca\\OneDrive\\Desktop\\JP\\model03\\dataset\\images\\test\\IDVaNpYs6Zp.jpg: 320x512 1 panel, 41.6ms\n",
      "image 587/1107 C:\\Users\\gnvca\\OneDrive\\Desktop\\JP\\model03\\dataset\\images\\test\\IDVb1j8d88xhvBA.jpg: 384x512 (no detections), 56.1ms\n",
      "image 588/1107 C:\\Users\\gnvca\\OneDrive\\Desktop\\JP\\model03\\dataset\\images\\test\\IDVq7VTunmtGwrtF.jpg: 384x512 5 panels, 54.2ms\n",
      "image 589/1107 C:\\Users\\gnvca\\OneDrive\\Desktop\\JP\\model03\\dataset\\images\\test\\IDVqRUdxPBpLKmQ4K.jpg: 384x512 (no detections), 52.3ms\n",
      "image 590/1107 C:\\Users\\gnvca\\OneDrive\\Desktop\\JP\\model03\\dataset\\images\\test\\IDW34B7t.jpg: 384x512 3 panels, 52.7ms\n",
      "image 591/1107 C:\\Users\\gnvca\\OneDrive\\Desktop\\JP\\model03\\dataset\\images\\test\\IDW7TVj.jpg: 384x512 5 panels, 50.8ms\n",
      "image 592/1107 C:\\Users\\gnvca\\OneDrive\\Desktop\\JP\\model03\\dataset\\images\\test\\IDWCt8Biy.jpg: 384x512 (no detections), 55.1ms\n",
      "image 593/1107 C:\\Users\\gnvca\\OneDrive\\Desktop\\JP\\model03\\dataset\\images\\test\\IDWGxShwaJ.jpg: 384x512 1 panel, 80.8ms\n",
      "image 594/1107 C:\\Users\\gnvca\\OneDrive\\Desktop\\JP\\model03\\dataset\\images\\test\\IDWHF8jl0L.jpg: 384x512 1 panel, 57.4ms\n",
      "image 595/1107 C:\\Users\\gnvca\\OneDrive\\Desktop\\JP\\model03\\dataset\\images\\test\\IDWLI46.jpg: 384x512 2 panels, 57.6ms\n",
      "image 596/1107 C:\\Users\\gnvca\\OneDrive\\Desktop\\JP\\model03\\dataset\\images\\test\\IDWOLJMH4f.jpg: 384x512 (no detections), 56.1ms\n",
      "image 597/1107 C:\\Users\\gnvca\\OneDrive\\Desktop\\JP\\model03\\dataset\\images\\test\\IDWYEyNsJlDExB.jpg: 384x512 4 panels, 52.5ms\n",
      "image 598/1107 C:\\Users\\gnvca\\OneDrive\\Desktop\\JP\\model03\\dataset\\images\\test\\IDWfePLzOkYTdimsm.jpg: 352x512 1 boiler, 51.1ms\n",
      "image 599/1107 C:\\Users\\gnvca\\OneDrive\\Desktop\\JP\\model03\\dataset\\images\\test\\IDWhbT1AT25O.jpg: 384x512 1 boiler, 35.4ms\n",
      "image 600/1107 C:\\Users\\gnvca\\OneDrive\\Desktop\\JP\\model03\\dataset\\images\\test\\IDWiWm800duFh7.jpg: 384x512 1 panel, 34.4ms\n",
      "image 601/1107 C:\\Users\\gnvca\\OneDrive\\Desktop\\JP\\model03\\dataset\\images\\test\\IDWkYgKd.jpg: 384x512 1 boiler, 2 panels, 34.3ms\n",
      "image 602/1107 C:\\Users\\gnvca\\OneDrive\\Desktop\\JP\\model03\\dataset\\images\\test\\IDWnid30JA.jpg: 384x512 (no detections), 34.6ms\n",
      "image 603/1107 C:\\Users\\gnvca\\OneDrive\\Desktop\\JP\\model03\\dataset\\images\\test\\IDWtgOChoTn2.jpg: 384x512 (no detections), 34.1ms\n",
      "image 604/1107 C:\\Users\\gnvca\\OneDrive\\Desktop\\JP\\model03\\dataset\\images\\test\\IDWuHnrZmPf.jpg: 384x512 1 panel, 55.1ms\n",
      "image 605/1107 C:\\Users\\gnvca\\OneDrive\\Desktop\\JP\\model03\\dataset\\images\\test\\IDWzeosZ4RCi7.jpg: 384x512 (no detections), 58.7ms\n",
      "image 606/1107 C:\\Users\\gnvca\\OneDrive\\Desktop\\JP\\model03\\dataset\\images\\test\\IDX2OYwG6O.jpg: 384x512 (no detections), 60.3ms\n",
      "image 607/1107 C:\\Users\\gnvca\\OneDrive\\Desktop\\JP\\model03\\dataset\\images\\test\\IDX2UG8S.jpg: 384x512 1 panel, 53.2ms\n",
      "image 608/1107 C:\\Users\\gnvca\\OneDrive\\Desktop\\JP\\model03\\dataset\\images\\test\\IDX4m3o2iFM.jpg: 384x512 5 panels, 34.6ms\n",
      "image 609/1107 C:\\Users\\gnvca\\OneDrive\\Desktop\\JP\\model03\\dataset\\images\\test\\IDX6cto4.jpg: 384x512 (no detections), 34.6ms\n",
      "image 610/1107 C:\\Users\\gnvca\\OneDrive\\Desktop\\JP\\model03\\dataset\\images\\test\\IDX7Hs6a.jpg: 384x512 (no detections), 34.4ms\n",
      "image 611/1107 C:\\Users\\gnvca\\OneDrive\\Desktop\\JP\\model03\\dataset\\images\\test\\IDXNdrffCsUhRj7.jpg: 384x512 1 panel, 35.4ms\n",
      "image 612/1107 C:\\Users\\gnvca\\OneDrive\\Desktop\\JP\\model03\\dataset\\images\\test\\IDXWZyfmm.jpg: 512x384 (no detections), 39.9ms\n",
      "image 613/1107 C:\\Users\\gnvca\\OneDrive\\Desktop\\JP\\model03\\dataset\\images\\test\\IDXXWSuwi9cvXt2.jpg: 352x512 1 boiler, 34.2ms\n",
      "image 614/1107 C:\\Users\\gnvca\\OneDrive\\Desktop\\JP\\model03\\dataset\\images\\test\\IDXeBC1VjX9Pk.jpg: 384x512 3 panels, 51.1ms\n",
      "image 615/1107 C:\\Users\\gnvca\\OneDrive\\Desktop\\JP\\model03\\dataset\\images\\test\\IDXgbGo3riFccPE.jpg: 384x512 (no detections), 55.7ms\n",
      "image 616/1107 C:\\Users\\gnvca\\OneDrive\\Desktop\\JP\\model03\\dataset\\images\\test\\IDXhyOwV9lo.jpg: 384x512 2 panels, 57.3ms\n",
      "image 617/1107 C:\\Users\\gnvca\\OneDrive\\Desktop\\JP\\model03\\dataset\\images\\test\\IDXoC8di.jpg: 384x512 (no detections), 60.2ms\n",
      "image 618/1107 C:\\Users\\gnvca\\OneDrive\\Desktop\\JP\\model03\\dataset\\images\\test\\IDXpPETQFaK.jpg: 384x512 3 panels, 62.7ms\n",
      "image 619/1107 C:\\Users\\gnvca\\OneDrive\\Desktop\\JP\\model03\\dataset\\images\\test\\IDXuG624loGbFu6.jpg: 384x512 (no detections), 64.4ms\n",
      "image 620/1107 C:\\Users\\gnvca\\OneDrive\\Desktop\\JP\\model03\\dataset\\images\\test\\IDXunnia.jpg: 416x512 1 panel, 80.8ms\n",
      "image 621/1107 C:\\Users\\gnvca\\OneDrive\\Desktop\\JP\\model03\\dataset\\images\\test\\IDYBHOJ5I5sckSWb.jpg: 384x512 (no detections), 35.7ms\n",
      "image 622/1107 C:\\Users\\gnvca\\OneDrive\\Desktop\\JP\\model03\\dataset\\images\\test\\IDYBLYIW71Ao.jpg: 384x512 5 panels, 34.3ms\n",
      "image 623/1107 C:\\Users\\gnvca\\OneDrive\\Desktop\\JP\\model03\\dataset\\images\\test\\IDYENI6ajzB.jpg: 384x512 3 panels, 35.3ms\n",
      "image 624/1107 C:\\Users\\gnvca\\OneDrive\\Desktop\\JP\\model03\\dataset\\images\\test\\IDYEfIRfa.jpg: 384x512 (no detections), 42.7ms\n",
      "image 625/1107 C:\\Users\\gnvca\\OneDrive\\Desktop\\JP\\model03\\dataset\\images\\test\\IDYMT6kLdc0oBu.jpg: 480x512 1 boiler, 43.2ms\n",
      "image 626/1107 C:\\Users\\gnvca\\OneDrive\\Desktop\\JP\\model03\\dataset\\images\\test\\IDYNMDq5fwu9buDG.jpg: 480x512 1 panel, 42.5ms\n",
      "image 627/1107 C:\\Users\\gnvca\\OneDrive\\Desktop\\JP\\model03\\dataset\\images\\test\\IDYW9E59Ef.jpg: 384x512 (no detections), 36.9ms\n",
      "image 628/1107 C:\\Users\\gnvca\\OneDrive\\Desktop\\JP\\model03\\dataset\\images\\test\\IDYXzODPAYgqZ.jpg: 384x512 (no detections), 34.0ms\n",
      "image 629/1107 C:\\Users\\gnvca\\OneDrive\\Desktop\\JP\\model03\\dataset\\images\\test\\IDYcT5y2rpH5DO.jpg: 384x512 2 panels, 32.7ms\n",
      "image 630/1107 C:\\Users\\gnvca\\OneDrive\\Desktop\\JP\\model03\\dataset\\images\\test\\IDYkLwvKT.jpg: 384x512 1 panel, 33.0ms\n",
      "image 631/1107 C:\\Users\\gnvca\\OneDrive\\Desktop\\JP\\model03\\dataset\\images\\test\\IDYloKm9XUUPl.jpg: 384x512 2 panels, 32.8ms\n",
      "image 632/1107 C:\\Users\\gnvca\\OneDrive\\Desktop\\JP\\model03\\dataset\\images\\test\\IDYpgNkcbSP.jpg: 512x416 2 boilers, 39.7ms\n",
      "image 633/1107 C:\\Users\\gnvca\\OneDrive\\Desktop\\JP\\model03\\dataset\\images\\test\\IDYq0OUOK6y.jpg: 384x512 1 boiler, 52.2ms\n",
      "image 634/1107 C:\\Users\\gnvca\\OneDrive\\Desktop\\JP\\model03\\dataset\\images\\test\\IDYqIgpXtJCuVvbGl.jpg: 384x512 4 panels, 63.9ms\n",
      "image 635/1107 C:\\Users\\gnvca\\OneDrive\\Desktop\\JP\\model03\\dataset\\images\\test\\IDYtIJpLN.jpg: 320x512 3 boilers, 54.5ms\n",
      "image 636/1107 C:\\Users\\gnvca\\OneDrive\\Desktop\\JP\\model03\\dataset\\images\\test\\IDYu4Bjcr.jpg: 384x512 (no detections), 74.9ms\n",
      "image 637/1107 C:\\Users\\gnvca\\OneDrive\\Desktop\\JP\\model03\\dataset\\images\\test\\IDYuGckz4.jpg: 384x512 (no detections), 51.3ms\n",
      "image 638/1107 C:\\Users\\gnvca\\OneDrive\\Desktop\\JP\\model03\\dataset\\images\\test\\IDYwRcFyDIV.jpg: 384x512 1 panel, 32.8ms\n",
      "image 639/1107 C:\\Users\\gnvca\\OneDrive\\Desktop\\JP\\model03\\dataset\\images\\test\\IDYxUNqRlmQWRZe.jpg: 384x512 3 panels, 32.8ms\n",
      "image 640/1107 C:\\Users\\gnvca\\OneDrive\\Desktop\\JP\\model03\\dataset\\images\\test\\IDYz8Gg5e.jpg: 384x512 2 panels, 32.5ms\n",
      "image 641/1107 C:\\Users\\gnvca\\OneDrive\\Desktop\\JP\\model03\\dataset\\images\\test\\IDZAwjE8iN.jpg: 384x512 6 panels, 32.6ms\n",
      "image 642/1107 C:\\Users\\gnvca\\OneDrive\\Desktop\\JP\\model03\\dataset\\images\\test\\IDZHnfQAnD7sjQ7I.jpg: 384x512 (no detections), 37.7ms\n",
      "image 643/1107 C:\\Users\\gnvca\\OneDrive\\Desktop\\JP\\model03\\dataset\\images\\test\\IDZKr2HG8RGBS.jpg: 384x512 4 panels, 32.6ms\n",
      "image 644/1107 C:\\Users\\gnvca\\OneDrive\\Desktop\\JP\\model03\\dataset\\images\\test\\IDZLv0NDsG2Y.jpg: 480x512 1 panel, 40.9ms\n",
      "image 645/1107 C:\\Users\\gnvca\\OneDrive\\Desktop\\JP\\model03\\dataset\\images\\test\\IDZSMIRevRSb.jpg: 384x512 3 panels, 33.3ms\n",
      "image 646/1107 C:\\Users\\gnvca\\OneDrive\\Desktop\\JP\\model03\\dataset\\images\\test\\IDZUgiT8OeVNdNKLk.jpg: 480x512 3 panels, 44.0ms\n",
      "image 647/1107 C:\\Users\\gnvca\\OneDrive\\Desktop\\JP\\model03\\dataset\\images\\test\\IDZVslW8B93.jpg: 384x512 3 panels, 31.0ms\n",
      "image 648/1107 C:\\Users\\gnvca\\OneDrive\\Desktop\\JP\\model03\\dataset\\images\\test\\IDZXVJV9peTT3.jpg: 384x512 1 panel, 28.9ms\n",
      "image 649/1107 C:\\Users\\gnvca\\OneDrive\\Desktop\\JP\\model03\\dataset\\images\\test\\IDZZLbrx3WOj.jpg: 384x512 1 panel, 28.1ms\n",
      "image 650/1107 C:\\Users\\gnvca\\OneDrive\\Desktop\\JP\\model03\\dataset\\images\\test\\IDZadFtQucj.jpg: 384x512 2 panels, 28.1ms\n",
      "image 651/1107 C:\\Users\\gnvca\\OneDrive\\Desktop\\JP\\model03\\dataset\\images\\test\\IDZenoO.jpg: 384x512 (no detections), 28.0ms\n",
      "image 652/1107 C:\\Users\\gnvca\\OneDrive\\Desktop\\JP\\model03\\dataset\\images\\test\\IDZg4NulLYTp91M.jpg: 320x512 1 panel, 29.4ms\n",
      "image 653/1107 C:\\Users\\gnvca\\OneDrive\\Desktop\\JP\\model03\\dataset\\images\\test\\IDZqFAme59.jpg: 512x320 1 boiler, 6 panels, 28.5ms\n",
      "image 654/1107 C:\\Users\\gnvca\\OneDrive\\Desktop\\JP\\model03\\dataset\\images\\test\\IDZqnZNx.jpg: 384x512 1 panel, 28.1ms\n",
      "image 655/1107 C:\\Users\\gnvca\\OneDrive\\Desktop\\JP\\model03\\dataset\\images\\test\\IDZwgfzvaQiFnG.jpg: 384x512 2 boilers, 27.8ms\n",
      "image 656/1107 C:\\Users\\gnvca\\OneDrive\\Desktop\\JP\\model03\\dataset\\images\\test\\IDa1IDStO7AWx.jpg: 384x512 2 panels, 28.5ms\n",
      "image 657/1107 C:\\Users\\gnvca\\OneDrive\\Desktop\\JP\\model03\\dataset\\images\\test\\IDa9no02Dru.jpg: 384x512 9 panels, 30.5ms\n",
      "image 658/1107 C:\\Users\\gnvca\\OneDrive\\Desktop\\JP\\model03\\dataset\\images\\test\\IDaA6yp6eKrTx.jpg: 384x512 7 panels, 28.5ms\n",
      "image 659/1107 C:\\Users\\gnvca\\OneDrive\\Desktop\\JP\\model03\\dataset\\images\\test\\IDaE3zzt3.jpg: 384x512 (no detections), 27.7ms\n",
      "image 660/1107 C:\\Users\\gnvca\\OneDrive\\Desktop\\JP\\model03\\dataset\\images\\test\\IDaGRuLXguf8.jpg: 384x512 (no detections), 27.7ms\n",
      "image 661/1107 C:\\Users\\gnvca\\OneDrive\\Desktop\\JP\\model03\\dataset\\images\\test\\IDaV9wUEtq.jpg: 384x512 1 boiler, 1 panel, 27.9ms\n",
      "image 662/1107 C:\\Users\\gnvca\\OneDrive\\Desktop\\JP\\model03\\dataset\\images\\test\\IDaYlH0sN.jpg: 384x512 (no detections), 36.5ms\n",
      "image 663/1107 C:\\Users\\gnvca\\OneDrive\\Desktop\\JP\\model03\\dataset\\images\\test\\IDaZaB2Qs.jpg: 384x512 (no detections), 27.7ms\n",
      "image 664/1107 C:\\Users\\gnvca\\OneDrive\\Desktop\\JP\\model03\\dataset\\images\\test\\IDalTx5mDvBvbi6.jpg: 384x512 1 boiler, 27.8ms\n",
      "image 665/1107 C:\\Users\\gnvca\\OneDrive\\Desktop\\JP\\model03\\dataset\\images\\test\\IDamhqdEz.jpg: 384x512 5 panels, 27.7ms\n",
      "image 666/1107 C:\\Users\\gnvca\\OneDrive\\Desktop\\JP\\model03\\dataset\\images\\test\\IDaqCww8DAlE.jpg: 384x512 (no detections), 28.6ms\n",
      "image 667/1107 C:\\Users\\gnvca\\OneDrive\\Desktop\\JP\\model03\\dataset\\images\\test\\IDatWJwmZ0DB.jpg: 384x512 1 panel, 29.1ms\n",
      "image 668/1107 C:\\Users\\gnvca\\OneDrive\\Desktop\\JP\\model03\\dataset\\images\\test\\IDavDU3L6bSdro.jpg: 384x512 2 panels, 27.8ms\n",
      "image 669/1107 C:\\Users\\gnvca\\OneDrive\\Desktop\\JP\\model03\\dataset\\images\\test\\IDazb2lUN99weo.jpg: 384x512 1 panel, 28.3ms\n",
      "image 670/1107 C:\\Users\\gnvca\\OneDrive\\Desktop\\JP\\model03\\dataset\\images\\test\\IDb01j9ZD8s06.jpg: 384x512 1 panel, 27.9ms\n",
      "image 671/1107 C:\\Users\\gnvca\\OneDrive\\Desktop\\JP\\model03\\dataset\\images\\test\\IDb2KVFyac.jpg: 384x512 4 panels, 47.8ms\n",
      "image 672/1107 C:\\Users\\gnvca\\OneDrive\\Desktop\\JP\\model03\\dataset\\images\\test\\IDb9lDmHhHQCO78q.jpg: 384x512 1 panel, 58.4ms\n",
      "image 673/1107 C:\\Users\\gnvca\\OneDrive\\Desktop\\JP\\model03\\dataset\\images\\test\\IDbD1omSlkidV.jpg: 384x512 1 boiler, 2 panels, 56.3ms\n",
      "image 674/1107 C:\\Users\\gnvca\\OneDrive\\Desktop\\JP\\model03\\dataset\\images\\test\\IDbDEFEt.jpg: 320x512 1 panel, 55.9ms\n",
      "image 675/1107 C:\\Users\\gnvca\\OneDrive\\Desktop\\JP\\model03\\dataset\\images\\test\\IDbJX0Hx52ah.jpg: 384x512 4 panels, 62.8ms\n",
      "image 676/1107 C:\\Users\\gnvca\\OneDrive\\Desktop\\JP\\model03\\dataset\\images\\test\\IDbLiUSzgkCkcy5.jpg: 384x512 (no detections), 68.6ms\n",
      "image 677/1107 C:\\Users\\gnvca\\OneDrive\\Desktop\\JP\\model03\\dataset\\images\\test\\IDbR7xPNyhiD.jpg: 384x512 (no detections), 70.4ms\n",
      "image 678/1107 C:\\Users\\gnvca\\OneDrive\\Desktop\\JP\\model03\\dataset\\images\\test\\IDbWrojSSTeTJ.jpg: 384x512 3 panels, 68.8ms\n",
      "image 679/1107 C:\\Users\\gnvca\\OneDrive\\Desktop\\JP\\model03\\dataset\\images\\test\\IDbXOnSO2Rn195LHi.jpg: 480x512 1 boiler, 1 panel, 82.6ms\n",
      "image 680/1107 C:\\Users\\gnvca\\OneDrive\\Desktop\\JP\\model03\\dataset\\images\\test\\IDbY0sRcU2.jpg: 384x512 1 boiler, 4 panels, 55.2ms\n",
      "image 681/1107 C:\\Users\\gnvca\\OneDrive\\Desktop\\JP\\model03\\dataset\\images\\test\\IDbcYP7h6wmvGT.jpg: 384x512 (no detections), 57.7ms\n",
      "image 682/1107 C:\\Users\\gnvca\\OneDrive\\Desktop\\JP\\model03\\dataset\\images\\test\\IDbkIxCkq1Gcbd.jpg: 384x512 1 panel, 57.5ms\n",
      "image 683/1107 C:\\Users\\gnvca\\OneDrive\\Desktop\\JP\\model03\\dataset\\images\\test\\IDbq9826k0PN1mj.jpg: 384x512 1 panel, 52.7ms\n",
      "image 684/1107 C:\\Users\\gnvca\\OneDrive\\Desktop\\JP\\model03\\dataset\\images\\test\\IDbt9gz.jpg: 384x512 1 panel, 53.8ms\n",
      "image 685/1107 C:\\Users\\gnvca\\OneDrive\\Desktop\\JP\\model03\\dataset\\images\\test\\IDc1OSCfll.jpg: 384x512 (no detections), 66.5ms\n",
      "image 686/1107 C:\\Users\\gnvca\\OneDrive\\Desktop\\JP\\model03\\dataset\\images\\test\\IDc2PPfBB.jpg: 384x512 1 panel, 33.3ms\n",
      "image 687/1107 C:\\Users\\gnvca\\OneDrive\\Desktop\\JP\\model03\\dataset\\images\\test\\IDcB06ugrzp.jpg: 384x512 1 panel, 34.2ms\n",
      "image 688/1107 C:\\Users\\gnvca\\OneDrive\\Desktop\\JP\\model03\\dataset\\images\\test\\IDcBdm0xGWi6La.jpg: 384x512 1 panel, 33.4ms\n",
      "image 689/1107 C:\\Users\\gnvca\\OneDrive\\Desktop\\JP\\model03\\dataset\\images\\test\\IDcIGfvBad.jpg: 384x512 7 panels, 33.3ms\n",
      "image 690/1107 C:\\Users\\gnvca\\OneDrive\\Desktop\\JP\\model03\\dataset\\images\\test\\IDcMgMwgrQZ.jpg: 384x512 6 panels, 33.6ms\n",
      "image 691/1107 C:\\Users\\gnvca\\OneDrive\\Desktop\\JP\\model03\\dataset\\images\\test\\IDcN2Qip6Mtjbtqf1.jpg: 384x512 1 boiler, 35.5ms\n",
      "image 692/1107 C:\\Users\\gnvca\\OneDrive\\Desktop\\JP\\model03\\dataset\\images\\test\\IDcQ6PX7tU57og.jpg: 384x512 2 panels, 35.9ms\n",
      "image 693/1107 C:\\Users\\gnvca\\OneDrive\\Desktop\\JP\\model03\\dataset\\images\\test\\IDcRklmiqe2lnR.jpg: 384x512 (no detections), 33.4ms\n",
      "image 694/1107 C:\\Users\\gnvca\\OneDrive\\Desktop\\JP\\model03\\dataset\\images\\test\\IDcSTQJA.jpg: 384x512 (no detections), 33.3ms\n",
      "image 695/1107 C:\\Users\\gnvca\\OneDrive\\Desktop\\JP\\model03\\dataset\\images\\test\\IDcT2eDuFEjN.jpg: 384x512 1 panel, 33.4ms\n",
      "image 696/1107 C:\\Users\\gnvca\\OneDrive\\Desktop\\JP\\model03\\dataset\\images\\test\\IDcUhNwYOtFH77LQv.jpg: 384x512 (no detections), 34.3ms\n",
      "image 697/1107 C:\\Users\\gnvca\\OneDrive\\Desktop\\JP\\model03\\dataset\\images\\test\\IDcWSNedOTWNTG.jpg: 384x512 2 panels, 33.4ms\n",
      "image 698/1107 C:\\Users\\gnvca\\OneDrive\\Desktop\\JP\\model03\\dataset\\images\\test\\IDcWc5K7c.jpg: 384x512 1 panel, 37.0ms\n",
      "image 699/1107 C:\\Users\\gnvca\\OneDrive\\Desktop\\JP\\model03\\dataset\\images\\test\\IDca05Iof6T2k1j1H.jpg: 512x512 (no detections), 44.2ms\n",
      "image 700/1107 C:\\Users\\gnvca\\OneDrive\\Desktop\\JP\\model03\\dataset\\images\\test\\IDcgCI6bzWx.jpg: 384x512 (no detections), 54.1ms\n",
      "image 701/1107 C:\\Users\\gnvca\\OneDrive\\Desktop\\JP\\model03\\dataset\\images\\test\\IDchMx6.jpg: 384x512 5 panels, 53.3ms\n",
      "image 702/1107 C:\\Users\\gnvca\\OneDrive\\Desktop\\JP\\model03\\dataset\\images\\test\\IDcmg7gZ92I53q.jpg: 384x512 (no detections), 50.9ms\n",
      "image 703/1107 C:\\Users\\gnvca\\OneDrive\\Desktop\\JP\\model03\\dataset\\images\\test\\IDcqqsVa5qUBZR3.jpg: 384x512 1 panel, 55.3ms\n",
      "image 704/1107 C:\\Users\\gnvca\\OneDrive\\Desktop\\JP\\model03\\dataset\\images\\test\\IDcvc4Not6B.jpg: 320x512 1 panel, 67.5ms\n",
      "image 705/1107 C:\\Users\\gnvca\\OneDrive\\Desktop\\JP\\model03\\dataset\\images\\test\\IDcw9GAC4.jpg: 512x384 1 boiler, 57.3ms\n",
      "image 706/1107 C:\\Users\\gnvca\\OneDrive\\Desktop\\JP\\model03\\dataset\\images\\test\\IDcwzfJ43NsHUd.jpg: 384x512 (no detections), 7.0ms\n",
      "image 707/1107 C:\\Users\\gnvca\\OneDrive\\Desktop\\JP\\model03\\dataset\\images\\test\\IDcyvRo0jdDRGvw.jpg: 384x512 (no detections), 6.2ms\n",
      "image 708/1107 C:\\Users\\gnvca\\OneDrive\\Desktop\\JP\\model03\\dataset\\images\\test\\IDd2BK4.jpg: 384x512 20 panels, 10.7ms\n",
      "image 709/1107 C:\\Users\\gnvca\\OneDrive\\Desktop\\JP\\model03\\dataset\\images\\test\\IDd9jlgeyx2jztVi.jpg: 384x512 (no detections), 8.1ms\n",
      "image 710/1107 C:\\Users\\gnvca\\OneDrive\\Desktop\\JP\\model03\\dataset\\images\\test\\IDdCLWAeLA5.jpg: 384x512 2 panels, 16.0ms\n",
      "image 711/1107 C:\\Users\\gnvca\\OneDrive\\Desktop\\JP\\model03\\dataset\\images\\test\\IDdJ5Mx1Da.jpg: 384x512 2 panels, 8.2ms\n",
      "image 712/1107 C:\\Users\\gnvca\\OneDrive\\Desktop\\JP\\model03\\dataset\\images\\test\\IDdJgpza52.jpg: 384x512 3 panels, 8.1ms\n",
      "image 713/1107 C:\\Users\\gnvca\\OneDrive\\Desktop\\JP\\model03\\dataset\\images\\test\\IDdNEfKyWvldY.jpg: 384x512 1 panel, 6.6ms\n",
      "image 714/1107 C:\\Users\\gnvca\\OneDrive\\Desktop\\JP\\model03\\dataset\\images\\test\\IDdOkSdRQnvacrgmc.jpg: 384x512 (no detections), 7.2ms\n",
      "image 715/1107 C:\\Users\\gnvca\\OneDrive\\Desktop\\JP\\model03\\dataset\\images\\test\\IDdSc1XNcw.jpg: 512x480 1 boiler, 13.6ms\n",
      "image 716/1107 C:\\Users\\gnvca\\OneDrive\\Desktop\\JP\\model03\\dataset\\images\\test\\IDdVW0vLk2.jpg: 384x512 1 boiler, 1 panel, 6.9ms\n",
      "image 717/1107 C:\\Users\\gnvca\\OneDrive\\Desktop\\JP\\model03\\dataset\\images\\test\\IDdXZDqE45.jpg: 384x512 1 boiler, 5 panels, 7.0ms\n",
      "image 718/1107 C:\\Users\\gnvca\\OneDrive\\Desktop\\JP\\model03\\dataset\\images\\test\\IDdbECLRkhBs2CVyl.jpg: 384x512 1 panel, 7.4ms\n",
      "image 719/1107 C:\\Users\\gnvca\\OneDrive\\Desktop\\JP\\model03\\dataset\\images\\test\\IDdg5nrflocQ1.jpg: 512x448 2 boilers, 8.2ms\n",
      "image 720/1107 C:\\Users\\gnvca\\OneDrive\\Desktop\\JP\\model03\\dataset\\images\\test\\IDdiMQo63.jpg: 384x512 9 panels, 6.9ms\n",
      "image 721/1107 C:\\Users\\gnvca\\OneDrive\\Desktop\\JP\\model03\\dataset\\images\\test\\IDdjUTm9nGY.jpg: 512x352 1 boiler, 6.8ms\n",
      "image 722/1107 C:\\Users\\gnvca\\OneDrive\\Desktop\\JP\\model03\\dataset\\images\\test\\IDdkbOy8W1.jpg: 384x512 4 panels, 6.7ms\n",
      "image 723/1107 C:\\Users\\gnvca\\OneDrive\\Desktop\\JP\\model03\\dataset\\images\\test\\IDdmhFLqMfRdKp.jpg: 384x512 2 panels, 6.5ms\n",
      "image 724/1107 C:\\Users\\gnvca\\OneDrive\\Desktop\\JP\\model03\\dataset\\images\\test\\IDdoaRB.jpg: 384x512 12 panels, 10.1ms\n",
      "image 725/1107 C:\\Users\\gnvca\\OneDrive\\Desktop\\JP\\model03\\dataset\\images\\test\\IDdpmc5SF.jpg: 384x512 3 panels, 8.5ms\n",
      "image 726/1107 C:\\Users\\gnvca\\OneDrive\\Desktop\\JP\\model03\\dataset\\images\\test\\IDdpxAjbvs.jpg: 384x512 (no detections), 6.9ms\n",
      "image 727/1107 C:\\Users\\gnvca\\OneDrive\\Desktop\\JP\\model03\\dataset\\images\\test\\IDdtDlMEQkrkb.jpg: 384x512 2 panels, 6.6ms\n",
      "image 728/1107 C:\\Users\\gnvca\\OneDrive\\Desktop\\JP\\model03\\dataset\\images\\test\\IDdxtX5nyTm5yZm.jpg: 384x512 3 panels, 21.9ms\n",
      "image 729/1107 C:\\Users\\gnvca\\OneDrive\\Desktop\\JP\\model03\\dataset\\images\\test\\IDe2DyMFSd.jpg: 512x512 3 boilers, 1 panel, 26.6ms\n",
      "image 730/1107 C:\\Users\\gnvca\\OneDrive\\Desktop\\JP\\model03\\dataset\\images\\test\\IDe6Qw0xdA8wep.jpg: 384x512 2 panels, 22.6ms\n",
      "image 731/1107 C:\\Users\\gnvca\\OneDrive\\Desktop\\JP\\model03\\dataset\\images\\test\\IDe79DfL9dI9H6.jpg: 384x512 2 panels, 22.6ms\n",
      "image 732/1107 C:\\Users\\gnvca\\OneDrive\\Desktop\\JP\\model03\\dataset\\images\\test\\IDe8WeO9.jpg: 384x512 (no detections), 21.6ms\n",
      "image 733/1107 C:\\Users\\gnvca\\OneDrive\\Desktop\\JP\\model03\\dataset\\images\\test\\IDeBWFhgDoovGq5v.jpg: 384x512 1 panel, 21.4ms\n",
      "image 734/1107 C:\\Users\\gnvca\\OneDrive\\Desktop\\JP\\model03\\dataset\\images\\test\\IDeDtyP8.jpg: 384x512 2 panels, 21.4ms\n",
      "image 735/1107 C:\\Users\\gnvca\\OneDrive\\Desktop\\JP\\model03\\dataset\\images\\test\\IDeDyorf.jpg: 512x512 1 boiler, 28.1ms\n",
      "image 736/1107 C:\\Users\\gnvca\\OneDrive\\Desktop\\JP\\model03\\dataset\\images\\test\\IDeNQFA9PDuwO6.jpg: 384x512 (no detections), 24.2ms\n",
      "image 737/1107 C:\\Users\\gnvca\\OneDrive\\Desktop\\JP\\model03\\dataset\\images\\test\\IDeO7U85AcVvELt.jpg: 384x512 (no detections), 22.5ms\n",
      "image 738/1107 C:\\Users\\gnvca\\OneDrive\\Desktop\\JP\\model03\\dataset\\images\\test\\IDeR6r4xk5.jpg: 384x512 3 panels, 23.4ms\n",
      "image 739/1107 C:\\Users\\gnvca\\OneDrive\\Desktop\\JP\\model03\\dataset\\images\\test\\IDeTD5SBL.jpg: 384x512 (no detections), 24.2ms\n",
      "image 740/1107 C:\\Users\\gnvca\\OneDrive\\Desktop\\JP\\model03\\dataset\\images\\test\\IDehALBezgA.jpg: 320x512 7 panels, 24.0ms\n",
      "image 741/1107 C:\\Users\\gnvca\\OneDrive\\Desktop\\JP\\model03\\dataset\\images\\test\\IDehIqzoS53TfNsJ.jpg: 448x512 (no detections), 28.8ms\n",
      "image 742/1107 C:\\Users\\gnvca\\OneDrive\\Desktop\\JP\\model03\\dataset\\images\\test\\IDeioFIPOnDoo.jpg: 512x384 1 boiler, 25.3ms\n",
      "image 743/1107 C:\\Users\\gnvca\\OneDrive\\Desktop\\JP\\model03\\dataset\\images\\test\\IDemRFx0toPvzm2o.jpg: 416x512 1 boiler, 29.2ms\n",
      "image 744/1107 C:\\Users\\gnvca\\OneDrive\\Desktop\\JP\\model03\\dataset\\images\\test\\IDeqaCjERp.jpg: 384x512 1 panel, 25.1ms\n",
      "image 745/1107 C:\\Users\\gnvca\\OneDrive\\Desktop\\JP\\model03\\dataset\\images\\test\\IDeqyrqqM.jpg: 384x512 (no detections), 23.7ms\n",
      "image 746/1107 C:\\Users\\gnvca\\OneDrive\\Desktop\\JP\\model03\\dataset\\images\\test\\IDesLAt.jpg: 384x512 1 panel, 23.1ms\n",
      "image 747/1107 C:\\Users\\gnvca\\OneDrive\\Desktop\\JP\\model03\\dataset\\images\\test\\IDewOvHBc.jpg: 384x512 1 panel, 23.1ms\n",
      "image 748/1107 C:\\Users\\gnvca\\OneDrive\\Desktop\\JP\\model03\\dataset\\images\\test\\IDexcDeBzqKIP.jpg: 384x512 2 panels, 23.3ms\n",
      "image 749/1107 C:\\Users\\gnvca\\OneDrive\\Desktop\\JP\\model03\\dataset\\images\\test\\IDf4lC21rIcYDl84L.jpg: 512x480 3 panels, 29.6ms\n",
      "image 750/1107 C:\\Users\\gnvca\\OneDrive\\Desktop\\JP\\model03\\dataset\\images\\test\\IDf59QeKci.jpg: 256x512 2 panels, 20.3ms\n",
      "image 751/1107 C:\\Users\\gnvca\\OneDrive\\Desktop\\JP\\model03\\dataset\\images\\test\\IDfBp593KKcj.jpg: 384x512 2 panels, 24.5ms\n",
      "image 752/1107 C:\\Users\\gnvca\\OneDrive\\Desktop\\JP\\model03\\dataset\\images\\test\\IDfHB03By.jpg: 384x512 1 panel, 23.1ms\n",
      "image 753/1107 C:\\Users\\gnvca\\OneDrive\\Desktop\\JP\\model03\\dataset\\images\\test\\IDfHtOTOCG2V3lc1.jpg: 384x512 8 panels, 23.3ms\n",
      "image 754/1107 C:\\Users\\gnvca\\OneDrive\\Desktop\\JP\\model03\\dataset\\images\\test\\IDfPVsEKkwHy.jpg: 384x512 1 panel, 26.1ms\n",
      "image 755/1107 C:\\Users\\gnvca\\OneDrive\\Desktop\\JP\\model03\\dataset\\images\\test\\IDfZiMG9FwcwX7f.jpg: 384x512 (no detections), 22.9ms\n",
      "image 756/1107 C:\\Users\\gnvca\\OneDrive\\Desktop\\JP\\model03\\dataset\\images\\test\\IDfb1VygIPlC3A.jpg: 288x512 (no detections), 24.5ms\n",
      "image 757/1107 C:\\Users\\gnvca\\OneDrive\\Desktop\\JP\\model03\\dataset\\images\\test\\IDfhtA2AH.jpg: 384x512 1 boiler, 9 panels, 25.3ms\n",
      "image 758/1107 C:\\Users\\gnvca\\OneDrive\\Desktop\\JP\\model03\\dataset\\images\\test\\IDfjjxFQEmkaKd.jpg: 384x512 1 panel, 26.4ms\n",
      "image 759/1107 C:\\Users\\gnvca\\OneDrive\\Desktop\\JP\\model03\\dataset\\images\\test\\IDfoh2BbM6k6Ltth1.jpg: 384x512 1 panel, 24.7ms\n",
      "image 760/1107 C:\\Users\\gnvca\\OneDrive\\Desktop\\JP\\model03\\dataset\\images\\test\\IDfyqpN71oX5i.jpg: 384x512 5 panels, 30.0ms\n",
      "image 761/1107 C:\\Users\\gnvca\\OneDrive\\Desktop\\JP\\model03\\dataset\\images\\test\\IDg2f6R8YHKW10.jpg: 384x512 14 panels, 24.6ms\n",
      "image 762/1107 C:\\Users\\gnvca\\OneDrive\\Desktop\\JP\\model03\\dataset\\images\\test\\IDgD25Jwes6.jpg: 384x512 (no detections), 36.7ms\n",
      "image 763/1107 C:\\Users\\gnvca\\OneDrive\\Desktop\\JP\\model03\\dataset\\images\\test\\IDgJwOwX7Gx.jpg: 384x512 (no detections), 37.1ms\n",
      "image 764/1107 C:\\Users\\gnvca\\OneDrive\\Desktop\\JP\\model03\\dataset\\images\\test\\IDgJwPTt.jpg: 480x512 1 boiler, 85.2ms\n",
      "image 765/1107 C:\\Users\\gnvca\\OneDrive\\Desktop\\JP\\model03\\dataset\\images\\test\\IDgLRhwfNmN.jpg: 384x512 4 panels, 79.6ms\n",
      "image 766/1107 C:\\Users\\gnvca\\OneDrive\\Desktop\\JP\\model03\\dataset\\images\\test\\IDgPMfQg.jpg: 384x512 1 panel, 64.5ms\n",
      "image 767/1107 C:\\Users\\gnvca\\OneDrive\\Desktop\\JP\\model03\\dataset\\images\\test\\IDgPUmJvPRcKt7h.jpg: 512x320 (no detections), 39.9ms\n",
      "image 768/1107 C:\\Users\\gnvca\\OneDrive\\Desktop\\JP\\model03\\dataset\\images\\test\\IDgRFe33jSDT.jpg: 384x512 5 panels, 41.8ms\n",
      "image 769/1107 C:\\Users\\gnvca\\OneDrive\\Desktop\\JP\\model03\\dataset\\images\\test\\IDgRXG9MiR7hG5.jpg: 384x512 (no detections), 37.0ms\n",
      "image 770/1107 C:\\Users\\gnvca\\OneDrive\\Desktop\\JP\\model03\\dataset\\images\\test\\IDga0A3FC2yjKe.jpg: 384x512 2 boilers, 5 panels, 30.6ms\n",
      "image 771/1107 C:\\Users\\gnvca\\OneDrive\\Desktop\\JP\\model03\\dataset\\images\\test\\IDgics9.jpg: 384x512 (no detections), 7.2ms\n",
      "image 772/1107 C:\\Users\\gnvca\\OneDrive\\Desktop\\JP\\model03\\dataset\\images\\test\\IDgjZNMt4Uv.jpg: 384x512 3 panels, 6.3ms\n",
      "image 773/1107 C:\\Users\\gnvca\\OneDrive\\Desktop\\JP\\model03\\dataset\\images\\test\\IDgnnxMl.jpg: 384x512 4 panels, 8.2ms\n",
      "image 774/1107 C:\\Users\\gnvca\\OneDrive\\Desktop\\JP\\model03\\dataset\\images\\test\\IDgvyifcLumNIo.jpg: 384x512 (no detections), 6.5ms\n",
      "image 775/1107 C:\\Users\\gnvca\\OneDrive\\Desktop\\JP\\model03\\dataset\\images\\test\\IDgx6TeI2nAOvv.jpg: 384x512 (no detections), 7.2ms\n",
      "image 776/1107 C:\\Users\\gnvca\\OneDrive\\Desktop\\JP\\model03\\dataset\\images\\test\\IDh0WT4tLPMow.jpg: 384x512 (no detections), 6.1ms\n",
      "image 777/1107 C:\\Users\\gnvca\\OneDrive\\Desktop\\JP\\model03\\dataset\\images\\test\\IDh3spvR6w2f.jpg: 384x512 (no detections), 6.1ms\n",
      "image 778/1107 C:\\Users\\gnvca\\OneDrive\\Desktop\\JP\\model03\\dataset\\images\\test\\IDh7QpDXdppTnhXm7.jpg: 384x512 1 boiler, 1 panel, 6.3ms\n",
      "image 779/1107 C:\\Users\\gnvca\\OneDrive\\Desktop\\JP\\model03\\dataset\\images\\test\\IDh8QdLyACM2oOTtM.jpg: 384x512 1 panel, 8.5ms\n",
      "image 780/1107 C:\\Users\\gnvca\\OneDrive\\Desktop\\JP\\model03\\dataset\\images\\test\\IDhFdm4g8b.jpg: 384x512 1 boiler, 2 panels, 6.5ms\n",
      "image 781/1107 C:\\Users\\gnvca\\OneDrive\\Desktop\\JP\\model03\\dataset\\images\\test\\IDhGsx0Xy0kpScIH7.jpg: 512x448 1 boiler, 8.3ms\n",
      "image 782/1107 C:\\Users\\gnvca\\OneDrive\\Desktop\\JP\\model03\\dataset\\images\\test\\IDhHxnji3MiXO3n.jpg: 384x512 (no detections), 12.4ms\n",
      "image 783/1107 C:\\Users\\gnvca\\OneDrive\\Desktop\\JP\\model03\\dataset\\images\\test\\IDhNHoBofr.jpg: 384x512 (no detections), 6.7ms\n",
      "image 784/1107 C:\\Users\\gnvca\\OneDrive\\Desktop\\JP\\model03\\dataset\\images\\test\\IDhQbMLoK.jpg: 384x512 (no detections), 10.6ms\n",
      "image 785/1107 C:\\Users\\gnvca\\OneDrive\\Desktop\\JP\\model03\\dataset\\images\\test\\IDhnxCqQE.jpg: 384x512 1 panel, 7.2ms\n",
      "image 786/1107 C:\\Users\\gnvca\\OneDrive\\Desktop\\JP\\model03\\dataset\\images\\test\\IDhpHJgx78k59U.jpg: 384x512 (no detections), 6.1ms\n",
      "image 787/1107 C:\\Users\\gnvca\\OneDrive\\Desktop\\JP\\model03\\dataset\\images\\test\\IDhpXhW3G8HNQ.jpg: 512x512 (no detections), 7.7ms\n",
      "image 788/1107 C:\\Users\\gnvca\\OneDrive\\Desktop\\JP\\model03\\dataset\\images\\test\\IDi0TPtB7Oxl.jpg: 512x448 1 boiler, 10.1ms\n",
      "image 789/1107 C:\\Users\\gnvca\\OneDrive\\Desktop\\JP\\model03\\dataset\\images\\test\\IDi3gpGmGzS.jpg: 384x512 2 panels, 7.1ms\n",
      "image 790/1107 C:\\Users\\gnvca\\OneDrive\\Desktop\\JP\\model03\\dataset\\images\\test\\IDi4lmEl.jpg: 384x512 (no detections), 6.3ms\n",
      "image 791/1107 C:\\Users\\gnvca\\OneDrive\\Desktop\\JP\\model03\\dataset\\images\\test\\IDi7GbZBxQzhRSCa.jpg: 384x512 11 panels, 8.5ms\n",
      "image 792/1107 C:\\Users\\gnvca\\OneDrive\\Desktop\\JP\\model03\\dataset\\images\\test\\IDiCnbnsKP4VX.jpg: 384x512 2 panels, 6.8ms\n",
      "image 793/1107 C:\\Users\\gnvca\\OneDrive\\Desktop\\JP\\model03\\dataset\\images\\test\\IDiHUEa7vw.jpg: 384x512 1 panel, 6.3ms\n",
      "image 794/1107 C:\\Users\\gnvca\\OneDrive\\Desktop\\JP\\model03\\dataset\\images\\test\\IDiK140.jpg: 384x512 1 boiler, 6.2ms\n",
      "image 795/1107 C:\\Users\\gnvca\\OneDrive\\Desktop\\JP\\model03\\dataset\\images\\test\\IDiK7pAHf8UkwO.jpg: 384x512 (no detections), 6.2ms\n",
      "image 796/1107 C:\\Users\\gnvca\\OneDrive\\Desktop\\JP\\model03\\dataset\\images\\test\\IDiN6w5.jpg: 384x512 3 panels, 7.2ms\n",
      "image 797/1107 C:\\Users\\gnvca\\OneDrive\\Desktop\\JP\\model03\\dataset\\images\\test\\IDiR294r2KvPj.jpg: 384x512 (no detections), 6.4ms\n",
      "image 798/1107 C:\\Users\\gnvca\\OneDrive\\Desktop\\JP\\model03\\dataset\\images\\test\\IDiTxlY6rJd01Gy0v.jpg: 384x512 (no detections), 6.2ms\n",
      "image 799/1107 C:\\Users\\gnvca\\OneDrive\\Desktop\\JP\\model03\\dataset\\images\\test\\IDiYvYK16iU.jpg: 384x512 (no detections), 6.2ms\n",
      "image 800/1107 C:\\Users\\gnvca\\OneDrive\\Desktop\\JP\\model03\\dataset\\images\\test\\IDiZDQ2wZ.jpg: 320x512 1 boiler, 6.9ms\n",
      "image 801/1107 C:\\Users\\gnvca\\OneDrive\\Desktop\\JP\\model03\\dataset\\images\\test\\IDiegPLhfMs.jpg: 384x512 (no detections), 6.8ms\n",
      "image 802/1107 C:\\Users\\gnvca\\OneDrive\\Desktop\\JP\\model03\\dataset\\images\\test\\IDig9giw0C.jpg: 384x512 (no detections), 6.1ms\n",
      "image 803/1107 C:\\Users\\gnvca\\OneDrive\\Desktop\\JP\\model03\\dataset\\images\\test\\IDisV8b2.jpg: 384x512 1 boiler, 6 panels, 7.8ms\n",
      "image 804/1107 C:\\Users\\gnvca\\OneDrive\\Desktop\\JP\\model03\\dataset\\images\\test\\IDiuNxfVp1jl.jpg: 384x512 5 panels, 6.5ms\n",
      "image 805/1107 C:\\Users\\gnvca\\OneDrive\\Desktop\\JP\\model03\\dataset\\images\\test\\IDiuf5QgC.jpg: 384x512 (no detections), 6.3ms\n",
      "image 806/1107 C:\\Users\\gnvca\\OneDrive\\Desktop\\JP\\model03\\dataset\\images\\test\\IDivSMJ1Md.jpg: 384x512 3 panels, 6.8ms\n",
      "image 807/1107 C:\\Users\\gnvca\\OneDrive\\Desktop\\JP\\model03\\dataset\\images\\test\\IDiyUFhRnXKXjtNx.jpg: 384x512 (no detections), 6.1ms\n",
      "image 808/1107 C:\\Users\\gnvca\\OneDrive\\Desktop\\JP\\model03\\dataset\\images\\test\\IDizGQwNSrYMftB.jpg: 384x512 3 panels, 6.1ms\n",
      "image 809/1107 C:\\Users\\gnvca\\OneDrive\\Desktop\\JP\\model03\\dataset\\images\\test\\IDizu9pgTy.jpg: 384x512 1 panel, 9.1ms\n",
      "image 810/1107 C:\\Users\\gnvca\\OneDrive\\Desktop\\JP\\model03\\dataset\\images\\test\\IDj2wByY7.jpg: 384x512 1 panel, 6.0ms\n",
      "image 811/1107 C:\\Users\\gnvca\\OneDrive\\Desktop\\JP\\model03\\dataset\\images\\test\\IDj7eB3fSQ8EoIzg.jpg: 384x512 1 panel, 8.4ms\n",
      "image 812/1107 C:\\Users\\gnvca\\OneDrive\\Desktop\\JP\\model03\\dataset\\images\\test\\IDjAB4pmmuQQqJ.jpg: 384x512 4 panels, 6.5ms\n",
      "image 813/1107 C:\\Users\\gnvca\\OneDrive\\Desktop\\JP\\model03\\dataset\\images\\test\\IDjBfEBujJL5qKavy.jpg: 512x512 (no detections), 7.8ms\n",
      "image 814/1107 C:\\Users\\gnvca\\OneDrive\\Desktop\\JP\\model03\\dataset\\images\\test\\IDjDA6UhZ7.jpg: 384x512 2 panels, 7.1ms\n",
      "image 815/1107 C:\\Users\\gnvca\\OneDrive\\Desktop\\JP\\model03\\dataset\\images\\test\\IDjHOF5DWk8.jpg: 384x512 (no detections), 7.1ms\n",
      "image 816/1107 C:\\Users\\gnvca\\OneDrive\\Desktop\\JP\\model03\\dataset\\images\\test\\IDjJU6cmInWFDUY.jpg: 448x512 1 panel, 7.6ms\n",
      "image 817/1107 C:\\Users\\gnvca\\OneDrive\\Desktop\\JP\\model03\\dataset\\images\\test\\IDjNKiAGj.jpg: 384x512 1 panel, 7.2ms\n",
      "image 818/1107 C:\\Users\\gnvca\\OneDrive\\Desktop\\JP\\model03\\dataset\\images\\test\\IDjSTBtSYUX8Ll.jpg: 384x512 5 panels, 21.4ms\n",
      "image 819/1107 C:\\Users\\gnvca\\OneDrive\\Desktop\\JP\\model03\\dataset\\images\\test\\IDjSgprAT12eK9Fn.jpg: 384x512 2 panels, 24.6ms\n",
      "image 820/1107 C:\\Users\\gnvca\\OneDrive\\Desktop\\JP\\model03\\dataset\\images\\test\\IDjWpAQhi9vQ.jpg: 384x512 (no detections), 12.0ms\n",
      "image 821/1107 C:\\Users\\gnvca\\OneDrive\\Desktop\\JP\\model03\\dataset\\images\\test\\IDjbuqqRCaT5e2v.jpg: 384x512 3 panels, 12.0ms\n",
      "image 822/1107 C:\\Users\\gnvca\\OneDrive\\Desktop\\JP\\model03\\dataset\\images\\test\\IDjfs57M6E.jpg: 384x512 (no detections), 12.2ms\n",
      "image 823/1107 C:\\Users\\gnvca\\OneDrive\\Desktop\\JP\\model03\\dataset\\images\\test\\IDjnAx1yQ.jpg: 512x384 1 boiler, 13.2ms\n",
      "image 824/1107 C:\\Users\\gnvca\\OneDrive\\Desktop\\JP\\model03\\dataset\\images\\test\\IDjq8HgS.jpg: 384x512 (no detections), 13.0ms\n",
      "image 825/1107 C:\\Users\\gnvca\\OneDrive\\Desktop\\JP\\model03\\dataset\\images\\test\\IDjuqSPl.jpg: 384x512 2 panels, 12.4ms\n",
      "image 826/1107 C:\\Users\\gnvca\\OneDrive\\Desktop\\JP\\model03\\dataset\\images\\test\\IDjwe9PLDuZw.jpg: 384x512 1 panel, 12.2ms\n",
      "image 827/1107 C:\\Users\\gnvca\\OneDrive\\Desktop\\JP\\model03\\dataset\\images\\test\\IDkBIxi8xMKNQuExC.jpg: 384x512 1 panel, 12.7ms\n",
      "image 828/1107 C:\\Users\\gnvca\\OneDrive\\Desktop\\JP\\model03\\dataset\\images\\test\\IDkDplaVILHxX3.jpg: 384x512 (no detections), 12.8ms\n",
      "image 829/1107 C:\\Users\\gnvca\\OneDrive\\Desktop\\JP\\model03\\dataset\\images\\test\\IDkFTOjrT.jpg: 384x512 5 panels, 13.3ms\n",
      "image 830/1107 C:\\Users\\gnvca\\OneDrive\\Desktop\\JP\\model03\\dataset\\images\\test\\IDkFY0j5.jpg: 384x512 5 panels, 13.4ms\n",
      "image 831/1107 C:\\Users\\gnvca\\OneDrive\\Desktop\\JP\\model03\\dataset\\images\\test\\IDkK808TgvSJIs.jpg: 384x512 3 panels, 13.5ms\n",
      "image 832/1107 C:\\Users\\gnvca\\OneDrive\\Desktop\\JP\\model03\\dataset\\images\\test\\IDkNkmmTt22Xb.jpg: 480x512 1 boiler, 17.6ms\n",
      "image 833/1107 C:\\Users\\gnvca\\OneDrive\\Desktop\\JP\\model03\\dataset\\images\\test\\IDkR1Xzw0DZ0.jpg: 384x512 (no detections), 15.3ms\n",
      "image 834/1107 C:\\Users\\gnvca\\OneDrive\\Desktop\\JP\\model03\\dataset\\images\\test\\IDkRQEoXmj6Cce.jpg: 384x512 8 panels, 13.7ms\n",
      "image 835/1107 C:\\Users\\gnvca\\OneDrive\\Desktop\\JP\\model03\\dataset\\images\\test\\IDkRSactfW.jpg: 384x512 5 panels, 14.4ms\n",
      "image 836/1107 C:\\Users\\gnvca\\OneDrive\\Desktop\\JP\\model03\\dataset\\images\\test\\IDkWH4hS5iviJ3s.jpg: 384x512 1 panel, 14.4ms\n",
      "image 837/1107 C:\\Users\\gnvca\\OneDrive\\Desktop\\JP\\model03\\dataset\\images\\test\\IDkbKjqi7yTko5.jpg: 384x512 3 panels, 15.0ms\n",
      "image 838/1107 C:\\Users\\gnvca\\OneDrive\\Desktop\\JP\\model03\\dataset\\images\\test\\IDkcvXX.jpg: 384x512 (no detections), 15.0ms\n",
      "image 839/1107 C:\\Users\\gnvca\\OneDrive\\Desktop\\JP\\model03\\dataset\\images\\test\\IDkeSQz.jpg: 512x416 1 boiler, 19.1ms\n",
      "image 840/1107 C:\\Users\\gnvca\\OneDrive\\Desktop\\JP\\model03\\dataset\\images\\test\\IDkiGw9TiTXsW6R.jpg: 192x512 1 panel, 77.7ms\n",
      "image 841/1107 C:\\Users\\gnvca\\OneDrive\\Desktop\\JP\\model03\\dataset\\images\\test\\IDkjdTvFgeFJS.jpg: 384x512 2 panels, 16.3ms\n",
      "image 842/1107 C:\\Users\\gnvca\\OneDrive\\Desktop\\JP\\model03\\dataset\\images\\test\\IDkjnOmI2j.jpg: 384x512 (no detections), 15.4ms\n",
      "image 843/1107 C:\\Users\\gnvca\\OneDrive\\Desktop\\JP\\model03\\dataset\\images\\test\\IDkoAD6EMa3fAafWy.jpg: 384x512 1 panel, 16.0ms\n",
      "image 844/1107 C:\\Users\\gnvca\\OneDrive\\Desktop\\JP\\model03\\dataset\\images\\test\\IDkr0bOGzItJ2NB.jpg: 384x512 2 panels, 16.1ms\n",
      "image 845/1107 C:\\Users\\gnvca\\OneDrive\\Desktop\\JP\\model03\\dataset\\images\\test\\IDkrUclWabw5y80Dl.jpg: 384x512 (no detections), 24.9ms\n",
      "image 846/1107 C:\\Users\\gnvca\\OneDrive\\Desktop\\JP\\model03\\dataset\\images\\test\\IDkrVt2VlhDn4.jpg: 352x512 1 boiler, 24.9ms\n",
      "image 847/1107 C:\\Users\\gnvca\\OneDrive\\Desktop\\JP\\model03\\dataset\\images\\test\\IDksZUMc3dXN.jpg: 384x512 (no detections), 25.6ms\n",
      "image 848/1107 C:\\Users\\gnvca\\OneDrive\\Desktop\\JP\\model03\\dataset\\images\\test\\IDkwf3C5.jpg: 384x512 4 panels, 26.1ms\n",
      "image 849/1107 C:\\Users\\gnvca\\OneDrive\\Desktop\\JP\\model03\\dataset\\images\\test\\IDkwmB8HuVexEKyF.jpg: 384x512 1 boiler, 1 panel, 25.8ms\n",
      "image 850/1107 C:\\Users\\gnvca\\OneDrive\\Desktop\\JP\\model03\\dataset\\images\\test\\IDl1I6qKFB.jpg: 384x512 2 panels, 26.6ms\n",
      "image 851/1107 C:\\Users\\gnvca\\OneDrive\\Desktop\\JP\\model03\\dataset\\images\\test\\IDl2ikVSWYsIR4.jpg: 384x512 1 panel, 26.1ms\n",
      "image 852/1107 C:\\Users\\gnvca\\OneDrive\\Desktop\\JP\\model03\\dataset\\images\\test\\IDl61gpuwGuu2VBe6.jpg: 384x512 (no detections), 27.7ms\n",
      "image 853/1107 C:\\Users\\gnvca\\OneDrive\\Desktop\\JP\\model03\\dataset\\images\\test\\IDl8smcVY.jpg: 384x512 (no detections), 30.3ms\n",
      "image 854/1107 C:\\Users\\gnvca\\OneDrive\\Desktop\\JP\\model03\\dataset\\images\\test\\IDl8ztEn732s.jpg: 384x512 (no detections), 29.7ms\n",
      "image 855/1107 C:\\Users\\gnvca\\OneDrive\\Desktop\\JP\\model03\\dataset\\images\\test\\IDlCNybSlU.jpg: 384x512 2 panels, 27.6ms\n",
      "image 856/1107 C:\\Users\\gnvca\\OneDrive\\Desktop\\JP\\model03\\dataset\\images\\test\\IDlDVXnnhQ.jpg: 384x512 1 panel, 27.4ms\n",
      "image 857/1107 C:\\Users\\gnvca\\OneDrive\\Desktop\\JP\\model03\\dataset\\images\\test\\IDlHiU8WEhZh7qr6t.jpg: 384x512 5 panels, 26.4ms\n",
      "image 858/1107 C:\\Users\\gnvca\\OneDrive\\Desktop\\JP\\model03\\dataset\\images\\test\\IDlKmmyiL.jpg: 384x512 (no detections), 28.8ms\n",
      "image 859/1107 C:\\Users\\gnvca\\OneDrive\\Desktop\\JP\\model03\\dataset\\images\\test\\IDlPPpV6kQaB32S3V.jpg: 384x512 3 panels, 28.4ms\n",
      "image 860/1107 C:\\Users\\gnvca\\OneDrive\\Desktop\\JP\\model03\\dataset\\images\\test\\IDlUG5f.jpg: 512x480 5 panels, 36.1ms\n",
      "image 861/1107 C:\\Users\\gnvca\\OneDrive\\Desktop\\JP\\model03\\dataset\\images\\test\\IDlebSazeuALRHXt.jpg: 384x512 2 boilers, 3 panels, 30.3ms\n",
      "image 862/1107 C:\\Users\\gnvca\\OneDrive\\Desktop\\JP\\model03\\dataset\\images\\test\\IDllJl34XIaiBwe0.jpg: 384x512 1 panel, 29.5ms\n",
      "image 863/1107 C:\\Users\\gnvca\\OneDrive\\Desktop\\JP\\model03\\dataset\\images\\test\\IDlt4mIpDekp.jpg: 384x512 3 panels, 29.8ms\n",
      "image 864/1107 C:\\Users\\gnvca\\OneDrive\\Desktop\\JP\\model03\\dataset\\images\\test\\IDlvz0GPH0C.jpg: 384x512 (no detections), 30.4ms\n",
      "image 865/1107 C:\\Users\\gnvca\\OneDrive\\Desktop\\JP\\model03\\dataset\\images\\test\\IDlyqsitfBaR6Ru2.jpg: 384x512 (no detections), 28.5ms\n",
      "image 866/1107 C:\\Users\\gnvca\\OneDrive\\Desktop\\JP\\model03\\dataset\\images\\test\\IDlz4WyHQB.jpg: 512x416 (no detections), 35.6ms\n",
      "image 867/1107 C:\\Users\\gnvca\\OneDrive\\Desktop\\JP\\model03\\dataset\\images\\test\\IDm1Clr2P.jpg: 384x512 6 panels, 30.2ms\n",
      "image 868/1107 C:\\Users\\gnvca\\OneDrive\\Desktop\\JP\\model03\\dataset\\images\\test\\IDm2mR13.jpg: 384x512 (no detections), 33.3ms\n",
      "image 869/1107 C:\\Users\\gnvca\\OneDrive\\Desktop\\JP\\model03\\dataset\\images\\test\\IDm5GhcKr5rQdFl.jpg: 480x512 1 boiler, 1 panel, 39.7ms\n",
      "image 870/1107 C:\\Users\\gnvca\\OneDrive\\Desktop\\JP\\model03\\dataset\\images\\test\\IDm75Ep.jpg: 416x512 2 panels, 38.3ms\n",
      "image 871/1107 C:\\Users\\gnvca\\OneDrive\\Desktop\\JP\\model03\\dataset\\images\\test\\IDmFbhcwad.jpg: 384x512 1 panel, 29.1ms\n",
      "image 872/1107 C:\\Users\\gnvca\\OneDrive\\Desktop\\JP\\model03\\dataset\\images\\test\\IDmG8Bpodi.jpg: 384x512 2 boilers, 29.3ms\n",
      "image 873/1107 C:\\Users\\gnvca\\OneDrive\\Desktop\\JP\\model03\\dataset\\images\\test\\IDmGnaPs8o.jpg: 448x512 2 panels, 34.2ms\n",
      "image 874/1107 C:\\Users\\gnvca\\OneDrive\\Desktop\\JP\\model03\\dataset\\images\\test\\IDmPXoiaTL4S7Uo.jpg: 384x512 1 panel, 32.3ms\n",
      "image 875/1107 C:\\Users\\gnvca\\OneDrive\\Desktop\\JP\\model03\\dataset\\images\\test\\IDmPwMU1ne.jpg: 384x512 (no detections), 30.2ms\n",
      "image 876/1107 C:\\Users\\gnvca\\OneDrive\\Desktop\\JP\\model03\\dataset\\images\\test\\IDmT12RqHPlDRT.jpg: 384x512 1 boiler, 31.2ms\n",
      "image 877/1107 C:\\Users\\gnvca\\OneDrive\\Desktop\\JP\\model03\\dataset\\images\\test\\IDmXAQPZ9rnW.jpg: 384x512 1 panel, 30.4ms\n",
      "image 878/1107 C:\\Users\\gnvca\\OneDrive\\Desktop\\JP\\model03\\dataset\\images\\test\\IDmYwz0cS1lm2C.jpg: 384x512 1 panel, 29.3ms\n",
      "image 879/1107 C:\\Users\\gnvca\\OneDrive\\Desktop\\JP\\model03\\dataset\\images\\test\\IDmeBiNPwUvvwlCl.jpg: 512x320 1 boiler, 31.8ms\n",
      "image 880/1107 C:\\Users\\gnvca\\OneDrive\\Desktop\\JP\\model03\\dataset\\images\\test\\IDmj8aYANCdJ2GtkD.jpg: 384x512 2 panels, 31.6ms\n",
      "image 881/1107 C:\\Users\\gnvca\\OneDrive\\Desktop\\JP\\model03\\dataset\\images\\test\\IDmjXZht.jpg: 384x512 1 panel, 30.6ms\n",
      "image 882/1107 C:\\Users\\gnvca\\OneDrive\\Desktop\\JP\\model03\\dataset\\images\\test\\IDmjgW5VMiKo.jpg: 384x512 3 panels, 31.4ms\n",
      "image 883/1107 C:\\Users\\gnvca\\OneDrive\\Desktop\\JP\\model03\\dataset\\images\\test\\IDn2CgM4hNLqd.jpg: 384x512 (no detections), 30.7ms\n",
      "image 884/1107 C:\\Users\\gnvca\\OneDrive\\Desktop\\JP\\model03\\dataset\\images\\test\\IDn33hkv9l.jpg: 384x512 3 panels, 30.3ms\n",
      "image 885/1107 C:\\Users\\gnvca\\OneDrive\\Desktop\\JP\\model03\\dataset\\images\\test\\IDn5IY27NFFHWtbC.jpg: 384x512 2 panels, 58.8ms\n",
      "image 886/1107 C:\\Users\\gnvca\\OneDrive\\Desktop\\JP\\model03\\dataset\\images\\test\\IDn5mFxsP.jpg: 384x512 3 panels, 59.4ms\n",
      "image 887/1107 C:\\Users\\gnvca\\OneDrive\\Desktop\\JP\\model03\\dataset\\images\\test\\IDn6oUE.jpg: 384x512 1 boiler, 63.6ms\n",
      "image 888/1107 C:\\Users\\gnvca\\OneDrive\\Desktop\\JP\\model03\\dataset\\images\\test\\IDnEua1Or7Ea2EINQ.jpg: 512x512 5 panels, 48.4ms\n",
      "image 889/1107 C:\\Users\\gnvca\\OneDrive\\Desktop\\JP\\model03\\dataset\\images\\test\\IDnNy14r.jpg: 384x512 7 panels, 32.9ms\n",
      "image 890/1107 C:\\Users\\gnvca\\OneDrive\\Desktop\\JP\\model03\\dataset\\images\\test\\IDnO18dr.jpg: 384x512 1 boiler, 60.4ms\n",
      "image 891/1107 C:\\Users\\gnvca\\OneDrive\\Desktop\\JP\\model03\\dataset\\images\\test\\IDnSfoanh9W2wgV.jpg: 384x512 (no detections), 56.8ms\n",
      "image 892/1107 C:\\Users\\gnvca\\OneDrive\\Desktop\\JP\\model03\\dataset\\images\\test\\IDnWyBZSLNDnlmxj.jpg: 384x512 1 boiler, 33.1ms\n",
      "image 893/1107 C:\\Users\\gnvca\\OneDrive\\Desktop\\JP\\model03\\dataset\\images\\test\\IDnXhqiW.jpg: 384x512 (no detections), 33.9ms\n",
      "image 894/1107 C:\\Users\\gnvca\\OneDrive\\Desktop\\JP\\model03\\dataset\\images\\test\\IDnYZYFu.jpg: 384x512 (no detections), 34.4ms\n",
      "image 895/1107 C:\\Users\\gnvca\\OneDrive\\Desktop\\JP\\model03\\dataset\\images\\test\\IDnaWRsMQ.jpg: 384x512 (no detections), 32.7ms\n",
      "image 896/1107 C:\\Users\\gnvca\\OneDrive\\Desktop\\JP\\model03\\dataset\\images\\test\\IDncjqKv.jpg: 384x512 (no detections), 32.8ms\n",
      "image 897/1107 C:\\Users\\gnvca\\OneDrive\\Desktop\\JP\\model03\\dataset\\images\\test\\IDncyMJ6CPUKk.jpg: 384x512 1 boiler, 33.0ms\n",
      "image 898/1107 C:\\Users\\gnvca\\OneDrive\\Desktop\\JP\\model03\\dataset\\images\\test\\IDndqKV82N.jpg: 384x512 1 boiler, 34.8ms\n",
      "image 899/1107 C:\\Users\\gnvca\\OneDrive\\Desktop\\JP\\model03\\dataset\\images\\test\\IDngO4Ulgq5pnLHyb.jpg: 384x512 1 panel, 35.2ms\n",
      "image 900/1107 C:\\Users\\gnvca\\OneDrive\\Desktop\\JP\\model03\\dataset\\images\\test\\IDnh2KF2Y.jpg: 384x512 (no detections), 34.4ms\n",
      "image 901/1107 C:\\Users\\gnvca\\OneDrive\\Desktop\\JP\\model03\\dataset\\images\\test\\IDniOjLPvzs4ytFgi.jpg: 384x512 2 panels, 33.0ms\n",
      "image 902/1107 C:\\Users\\gnvca\\OneDrive\\Desktop\\JP\\model03\\dataset\\images\\test\\IDnlEQJK.jpg: 384x512 2 boilers, 2 panels, 34.8ms\n",
      "image 903/1107 C:\\Users\\gnvca\\OneDrive\\Desktop\\JP\\model03\\dataset\\images\\test\\IDnqfrwYbKTt.jpg: 384x512 2 panels, 32.4ms\n",
      "image 904/1107 C:\\Users\\gnvca\\OneDrive\\Desktop\\JP\\model03\\dataset\\images\\test\\IDnwNUem9Lc.jpg: 384x512 (no detections), 32.8ms\n",
      "image 905/1107 C:\\Users\\gnvca\\OneDrive\\Desktop\\JP\\model03\\dataset\\images\\test\\IDo38dQX13m0q.jpg: 384x512 1 boiler, 33.9ms\n",
      "image 906/1107 C:\\Users\\gnvca\\OneDrive\\Desktop\\JP\\model03\\dataset\\images\\test\\IDo7Dlz.jpg: 384x512 3 panels, 35.0ms\n",
      "image 907/1107 C:\\Users\\gnvca\\OneDrive\\Desktop\\JP\\model03\\dataset\\images\\test\\IDo9UjDh2nmQODo.jpg: 384x512 (no detections), 33.6ms\n",
      "image 908/1107 C:\\Users\\gnvca\\OneDrive\\Desktop\\JP\\model03\\dataset\\images\\test\\IDoKiyQLKiT02dzF.jpg: 448x512 1 boiler, 1 panel, 39.3ms\n",
      "image 909/1107 C:\\Users\\gnvca\\OneDrive\\Desktop\\JP\\model03\\dataset\\images\\test\\IDoMidCAbjZbARW.jpg: 384x512 2 panels, 32.4ms\n",
      "image 910/1107 C:\\Users\\gnvca\\OneDrive\\Desktop\\JP\\model03\\dataset\\images\\test\\IDoNfFQdR7kT3.jpg: 512x512 1 panel, 41.7ms\n",
      "image 911/1107 C:\\Users\\gnvca\\OneDrive\\Desktop\\JP\\model03\\dataset\\images\\test\\IDodmUfHR7xxgl.jpg: 384x512 1 boiler, 34.6ms\n",
      "image 912/1107 C:\\Users\\gnvca\\OneDrive\\Desktop\\JP\\model03\\dataset\\images\\test\\IDoeprI4i7.jpg: 384x512 1 panel, 30.3ms\n",
      "image 913/1107 C:\\Users\\gnvca\\OneDrive\\Desktop\\JP\\model03\\dataset\\images\\test\\IDof7ipdYhr7B4.jpg: 384x512 1 panel, 28.1ms\n",
      "image 914/1107 C:\\Users\\gnvca\\OneDrive\\Desktop\\JP\\model03\\dataset\\images\\test\\IDog3Zjaxi356.jpg: 384x512 2 panels, 29.3ms\n",
      "image 915/1107 C:\\Users\\gnvca\\OneDrive\\Desktop\\JP\\model03\\dataset\\images\\test\\IDogkgKM0.jpg: 384x512 (no detections), 28.5ms\n",
      "image 916/1107 C:\\Users\\gnvca\\OneDrive\\Desktop\\JP\\model03\\dataset\\images\\test\\IDokxhXnYglKRho.jpg: 384x512 (no detections), 28.9ms\n",
      "image 917/1107 C:\\Users\\gnvca\\OneDrive\\Desktop\\JP\\model03\\dataset\\images\\test\\IDomKWNFwF.jpg: 384x512 (no detections), 29.3ms\n",
      "image 918/1107 C:\\Users\\gnvca\\OneDrive\\Desktop\\JP\\model03\\dataset\\images\\test\\IDonT4uve3VKo.jpg: 384x512 1 boiler, 28.1ms\n",
      "image 919/1107 C:\\Users\\gnvca\\OneDrive\\Desktop\\JP\\model03\\dataset\\images\\test\\IDot2RX8dhbLfVZme.jpg: 384x512 1 boiler, 2 panels, 32.6ms\n",
      "image 920/1107 C:\\Users\\gnvca\\OneDrive\\Desktop\\JP\\model03\\dataset\\images\\test\\IDoubUTGdnbB.jpg: 384x512 (no detections), 32.2ms\n",
      "image 921/1107 C:\\Users\\gnvca\\OneDrive\\Desktop\\JP\\model03\\dataset\\images\\test\\IDovCoyJvE9W.jpg: 384x512 12 panels, 30.8ms\n",
      "image 922/1107 C:\\Users\\gnvca\\OneDrive\\Desktop\\JP\\model03\\dataset\\images\\test\\IDovJ5m9zj.jpg: 384x512 7 panels, 32.0ms\n",
      "image 923/1107 C:\\Users\\gnvca\\OneDrive\\Desktop\\JP\\model03\\dataset\\images\\test\\IDoz2zD8XP.jpg: 384x512 (no detections), 32.7ms\n",
      "image 924/1107 C:\\Users\\gnvca\\OneDrive\\Desktop\\JP\\model03\\dataset\\images\\test\\IDp2IAyunhJ.jpg: 384x512 3 panels, 31.1ms\n",
      "image 925/1107 C:\\Users\\gnvca\\OneDrive\\Desktop\\JP\\model03\\dataset\\images\\test\\IDpKzs7hl.jpg: 384x512 1 panel, 31.9ms\n",
      "image 926/1107 C:\\Users\\gnvca\\OneDrive\\Desktop\\JP\\model03\\dataset\\images\\test\\IDpLyja1aF6CAA.jpg: 384x512 4 panels, 31.7ms\n",
      "image 927/1107 C:\\Users\\gnvca\\OneDrive\\Desktop\\JP\\model03\\dataset\\images\\test\\IDpOK6sc.jpg: 384x512 1 boiler, 31.9ms\n",
      "image 928/1107 C:\\Users\\gnvca\\OneDrive\\Desktop\\JP\\model03\\dataset\\images\\test\\IDpQmHg4GI9.jpg: 512x512 1 panel, 41.6ms\n",
      "image 929/1107 C:\\Users\\gnvca\\OneDrive\\Desktop\\JP\\model03\\dataset\\images\\test\\IDpTqTtN0.jpg: 384x512 (no detections), 33.8ms\n",
      "image 930/1107 C:\\Users\\gnvca\\OneDrive\\Desktop\\JP\\model03\\dataset\\images\\test\\IDpWNz608Xu5Bhe.jpg: 384x512 3 panels, 30.3ms\n",
      "image 931/1107 C:\\Users\\gnvca\\OneDrive\\Desktop\\JP\\model03\\dataset\\images\\test\\IDpcR3Ok9zung.jpg: 256x512 1 boiler, 2 panels, 25.4ms\n",
      "image 932/1107 C:\\Users\\gnvca\\OneDrive\\Desktop\\JP\\model03\\dataset\\images\\test\\IDpdezTssxgSS.jpg: 384x512 1 panel, 32.0ms\n",
      "image 933/1107 C:\\Users\\gnvca\\OneDrive\\Desktop\\JP\\model03\\dataset\\images\\test\\IDpe0w43fk.jpg: 384x512 1 boiler, 31.5ms\n",
      "image 934/1107 C:\\Users\\gnvca\\OneDrive\\Desktop\\JP\\model03\\dataset\\images\\test\\IDpeHIv8z6InmL.jpg: 384x512 1 panel, 32.3ms\n",
      "image 935/1107 C:\\Users\\gnvca\\OneDrive\\Desktop\\JP\\model03\\dataset\\images\\test\\IDpgSpoSaUcis39Xg.jpg: 384x512 1 panel, 66.9ms\n",
      "image 936/1107 C:\\Users\\gnvca\\OneDrive\\Desktop\\JP\\model03\\dataset\\images\\test\\IDplaqa9cLUs2.jpg: 384x512 1 boiler, 1 panel, 57.3ms\n",
      "image 937/1107 C:\\Users\\gnvca\\OneDrive\\Desktop\\JP\\model03\\dataset\\images\\test\\IDpoXR2waDWRxllsK.jpg: 384x512 1 panel, 56.4ms\n",
      "image 938/1107 C:\\Users\\gnvca\\OneDrive\\Desktop\\JP\\model03\\dataset\\images\\test\\IDps9Rlw8KY2K.jpg: 384x512 (no detections), 37.4ms\n",
      "image 939/1107 C:\\Users\\gnvca\\OneDrive\\Desktop\\JP\\model03\\dataset\\images\\test\\IDq4LBIjKt.jpg: 384x512 7 panels, 38.8ms\n",
      "image 940/1107 C:\\Users\\gnvca\\OneDrive\\Desktop\\JP\\model03\\dataset\\images\\test\\IDq6TzWIY4.jpg: 384x512 (no detections), 35.4ms\n",
      "image 941/1107 C:\\Users\\gnvca\\OneDrive\\Desktop\\JP\\model03\\dataset\\images\\test\\IDqAxxQNgi3mxXDoY.jpg: 384x512 1 boiler, 35.3ms\n",
      "image 942/1107 C:\\Users\\gnvca\\OneDrive\\Desktop\\JP\\model03\\dataset\\images\\test\\IDqCnyk.jpg: 512x448 1 panel, 60.2ms\n",
      "image 943/1107 C:\\Users\\gnvca\\OneDrive\\Desktop\\JP\\model03\\dataset\\images\\test\\IDqJpOqa43sY.jpg: 384x512 3 panels, 61.2ms\n",
      "image 944/1107 C:\\Users\\gnvca\\OneDrive\\Desktop\\JP\\model03\\dataset\\images\\test\\IDqPsj0d6Uk.jpg: 512x512 2 panels, 55.6ms\n",
      "image 945/1107 C:\\Users\\gnvca\\OneDrive\\Desktop\\JP\\model03\\dataset\\images\\test\\IDqVdXvjl5nREwaqd.jpg: 384x512 (no detections), 35.8ms\n",
      "image 946/1107 C:\\Users\\gnvca\\OneDrive\\Desktop\\JP\\model03\\dataset\\images\\test\\IDqi82j3pYZtHf.jpg: 384x512 (no detections), 68.4ms\n",
      "image 947/1107 C:\\Users\\gnvca\\OneDrive\\Desktop\\JP\\model03\\dataset\\images\\test\\IDqlB8az1Dzy.jpg: 384x512 3 panels, 68.1ms\n",
      "image 948/1107 C:\\Users\\gnvca\\OneDrive\\Desktop\\JP\\model03\\dataset\\images\\test\\IDqrBREUcyQVN6.jpg: 384x512 1 boiler, 4 panels, 85.2ms\n",
      "image 949/1107 C:\\Users\\gnvca\\OneDrive\\Desktop\\JP\\model03\\dataset\\images\\test\\IDqte9ODA3.jpg: 384x512 (no detections), 55.8ms\n",
      "image 950/1107 C:\\Users\\gnvca\\OneDrive\\Desktop\\JP\\model03\\dataset\\images\\test\\IDquL1eDUAbvl9x.jpg: 384x512 1 panel, 60.1ms\n",
      "image 951/1107 C:\\Users\\gnvca\\OneDrive\\Desktop\\JP\\model03\\dataset\\images\\test\\IDqzg0Q8ufL.jpg: 480x512 1 boiler, 83.0ms\n",
      "image 952/1107 C:\\Users\\gnvca\\OneDrive\\Desktop\\JP\\model03\\dataset\\images\\test\\IDrFe0DG7Sq.jpg: 384x512 2 boilers, 6 panels, 28.3ms\n",
      "image 953/1107 C:\\Users\\gnvca\\OneDrive\\Desktop\\JP\\model03\\dataset\\images\\test\\IDrJ07pYMJ.jpg: 384x512 (no detections), 27.4ms\n",
      "image 954/1107 C:\\Users\\gnvca\\OneDrive\\Desktop\\JP\\model03\\dataset\\images\\test\\IDrKuQz.jpg: 384x512 1 panel, 26.9ms\n",
      "image 955/1107 C:\\Users\\gnvca\\OneDrive\\Desktop\\JP\\model03\\dataset\\images\\test\\IDrKyYa.jpg: 384x512 (no detections), 27.4ms\n",
      "image 956/1107 C:\\Users\\gnvca\\OneDrive\\Desktop\\JP\\model03\\dataset\\images\\test\\IDrY7xUZlsUqma.jpg: 384x512 2 panels, 26.7ms\n",
      "image 957/1107 C:\\Users\\gnvca\\OneDrive\\Desktop\\JP\\model03\\dataset\\images\\test\\IDrdBKQeJgjPqGU.jpg: 384x512 2 panels, 27.1ms\n",
      "image 958/1107 C:\\Users\\gnvca\\OneDrive\\Desktop\\JP\\model03\\dataset\\images\\test\\IDrfHCgwUhha.jpg: 384x512 2 panels, 27.8ms\n",
      "image 959/1107 C:\\Users\\gnvca\\OneDrive\\Desktop\\JP\\model03\\dataset\\images\\test\\IDrfMCvagRMZph.jpg: 416x512 (no detections), 33.2ms\n",
      "image 960/1107 C:\\Users\\gnvca\\OneDrive\\Desktop\\JP\\model03\\dataset\\images\\test\\IDrmKjJKrAPg.jpg: 384x512 1 boiler, 28.9ms\n",
      "image 961/1107 C:\\Users\\gnvca\\OneDrive\\Desktop\\JP\\model03\\dataset\\images\\test\\IDroDx6fYoq6.jpg: 384x512 (no detections), 27.7ms\n",
      "image 962/1107 C:\\Users\\gnvca\\OneDrive\\Desktop\\JP\\model03\\dataset\\images\\test\\IDrtwWXmGTj47hHQR.jpg: 384x512 4 panels, 31.8ms\n",
      "image 963/1107 C:\\Users\\gnvca\\OneDrive\\Desktop\\JP\\model03\\dataset\\images\\test\\IDruHXPQ75ja5Lj.jpg: 512x384 1 boiler, 32.7ms\n",
      "image 964/1107 C:\\Users\\gnvca\\OneDrive\\Desktop\\JP\\model03\\dataset\\images\\test\\IDruqqh.jpg: 384x512 3 panels, 31.9ms\n",
      "image 965/1107 C:\\Users\\gnvca\\OneDrive\\Desktop\\JP\\model03\\dataset\\images\\test\\IDry34Mbivkc1VSmC.jpg: 384x512 8 panels, 32.0ms\n",
      "image 966/1107 C:\\Users\\gnvca\\OneDrive\\Desktop\\JP\\model03\\dataset\\images\\test\\IDs37X1kP0rT9d0.jpg: 384x512 1 panel, 33.0ms\n",
      "image 967/1107 C:\\Users\\gnvca\\OneDrive\\Desktop\\JP\\model03\\dataset\\images\\test\\IDsHwcUOeDzSQak1N.jpg: 384x512 (no detections), 30.6ms\n",
      "image 968/1107 C:\\Users\\gnvca\\OneDrive\\Desktop\\JP\\model03\\dataset\\images\\test\\IDsOG08y9eUAxy3Up.jpg: 320x512 3 panels, 30.5ms\n",
      "image 969/1107 C:\\Users\\gnvca\\OneDrive\\Desktop\\JP\\model03\\dataset\\images\\test\\IDsOQBT.jpg: 384x512 1 boiler, 1 panel, 32.2ms\n",
      "image 970/1107 C:\\Users\\gnvca\\OneDrive\\Desktop\\JP\\model03\\dataset\\images\\test\\IDsPOUaO8brlYyh7.jpg: 480x512 1 boiler, 2 panels, 40.7ms\n",
      "image 971/1107 C:\\Users\\gnvca\\OneDrive\\Desktop\\JP\\model03\\dataset\\images\\test\\IDsPQJcM.jpg: 512x448 (no detections), 37.6ms\n",
      "image 972/1107 C:\\Users\\gnvca\\OneDrive\\Desktop\\JP\\model03\\dataset\\images\\test\\IDsSH8MJw1Zl8.jpg: 384x512 1 panel, 30.3ms\n",
      "image 973/1107 C:\\Users\\gnvca\\OneDrive\\Desktop\\JP\\model03\\dataset\\images\\test\\IDsTtStw7ClL51.jpg: 384x512 2 panels, 29.9ms\n",
      "image 974/1107 C:\\Users\\gnvca\\OneDrive\\Desktop\\JP\\model03\\dataset\\images\\test\\IDsXAXorCas.jpg: 384x512 2 panels, 29.8ms\n",
      "image 975/1107 C:\\Users\\gnvca\\OneDrive\\Desktop\\JP\\model03\\dataset\\images\\test\\IDsbKXtH.jpg: 512x480 1 boiler, 37.1ms\n",
      "image 976/1107 C:\\Users\\gnvca\\OneDrive\\Desktop\\JP\\model03\\dataset\\images\\test\\IDseuaqNRzBApqZNm.jpg: 384x512 (no detections), 31.2ms\n",
      "image 977/1107 C:\\Users\\gnvca\\OneDrive\\Desktop\\JP\\model03\\dataset\\images\\test\\IDsgW6kr.jpg: 384x512 (no detections), 28.9ms\n",
      "image 978/1107 C:\\Users\\gnvca\\OneDrive\\Desktop\\JP\\model03\\dataset\\images\\test\\IDsgnmVUs0vwoFXf.jpg: 384x512 (no detections), 29.4ms\n",
      "image 979/1107 C:\\Users\\gnvca\\OneDrive\\Desktop\\JP\\model03\\dataset\\images\\test\\IDsjlzeZwt9OX7Ds.jpg: 384x512 (no detections), 30.7ms\n",
      "image 980/1107 C:\\Users\\gnvca\\OneDrive\\Desktop\\JP\\model03\\dataset\\images\\test\\IDslthhJ74Nr.jpg: 512x448 2 boilers, 37.3ms\n",
      "image 981/1107 C:\\Users\\gnvca\\OneDrive\\Desktop\\JP\\model03\\dataset\\images\\test\\IDsmmlszwrIOa1ec.jpg: 384x512 (no detections), 31.1ms\n",
      "image 982/1107 C:\\Users\\gnvca\\OneDrive\\Desktop\\JP\\model03\\dataset\\images\\test\\IDsyJNYUX7D9OkH.jpg: 320x512 1 boiler, 5 panels, 28.6ms\n",
      "image 983/1107 C:\\Users\\gnvca\\OneDrive\\Desktop\\JP\\model03\\dataset\\images\\test\\IDt5XJLCs.jpg: 384x512 (no detections), 32.0ms\n",
      "image 984/1107 C:\\Users\\gnvca\\OneDrive\\Desktop\\JP\\model03\\dataset\\images\\test\\IDt5qy4XFg.jpg: 384x512 1 panel, 33.0ms\n",
      "image 985/1107 C:\\Users\\gnvca\\OneDrive\\Desktop\\JP\\model03\\dataset\\images\\test\\IDt9NAZB4bhgjmwz1.jpg: 384x512 (no detections), 33.5ms\n",
      "image 986/1107 C:\\Users\\gnvca\\OneDrive\\Desktop\\JP\\model03\\dataset\\images\\test\\IDtESOKL97.jpg: 384x512 3 panels, 33.2ms\n",
      "image 987/1107 C:\\Users\\gnvca\\OneDrive\\Desktop\\JP\\model03\\dataset\\images\\test\\IDtFRvV3lnBOA0P.jpg: 384x512 1 boiler, 2 panels, 35.3ms\n",
      "image 988/1107 C:\\Users\\gnvca\\OneDrive\\Desktop\\JP\\model03\\dataset\\images\\test\\IDtRRMK6asXG.jpg: 384x512 (no detections), 33.8ms\n",
      "image 989/1107 C:\\Users\\gnvca\\OneDrive\\Desktop\\JP\\model03\\dataset\\images\\test\\IDtRgU8DbJ.jpg: 384x512 11 panels, 32.9ms\n",
      "image 990/1107 C:\\Users\\gnvca\\OneDrive\\Desktop\\JP\\model03\\dataset\\images\\test\\IDtTr5u.jpg: 384x512 3 panels, 59.1ms\n",
      "image 991/1107 C:\\Users\\gnvca\\OneDrive\\Desktop\\JP\\model03\\dataset\\images\\test\\IDtUoEWg.jpg: 384x512 (no detections), 70.2ms\n",
      "image 992/1107 C:\\Users\\gnvca\\OneDrive\\Desktop\\JP\\model03\\dataset\\images\\test\\IDtakR7C1qgA.jpg: 384x512 7 panels, 64.6ms\n",
      "image 993/1107 C:\\Users\\gnvca\\OneDrive\\Desktop\\JP\\model03\\dataset\\images\\test\\IDtbZygS7RxcwPmP.jpg: 384x512 15 panels, 55.7ms\n",
      "image 994/1107 C:\\Users\\gnvca\\OneDrive\\Desktop\\JP\\model03\\dataset\\images\\test\\IDtcuISza4.jpg: 384x512 4 panels, 60.9ms\n",
      "image 995/1107 C:\\Users\\gnvca\\OneDrive\\Desktop\\JP\\model03\\dataset\\images\\test\\IDtcx4gHjGwzbWp.jpg: 384x512 4 panels, 90.0ms\n",
      "image 996/1107 C:\\Users\\gnvca\\OneDrive\\Desktop\\JP\\model03\\dataset\\images\\test\\IDtjn7KaQcbEKXt9u.jpg: 384x512 (no detections), 65.5ms\n",
      "image 997/1107 C:\\Users\\gnvca\\OneDrive\\Desktop\\JP\\model03\\dataset\\images\\test\\IDtnUUnsodeC.jpg: 384x512 2 panels, 62.1ms\n",
      "image 998/1107 C:\\Users\\gnvca\\OneDrive\\Desktop\\JP\\model03\\dataset\\images\\test\\IDtoYiaG.jpg: 384x512 (no detections), 63.5ms\n",
      "image 999/1107 C:\\Users\\gnvca\\OneDrive\\Desktop\\JP\\model03\\dataset\\images\\test\\IDtpNh9KyjpR0.jpg: 384x512 3 panels, 60.6ms\n",
      "image 1000/1107 C:\\Users\\gnvca\\OneDrive\\Desktop\\JP\\model03\\dataset\\images\\test\\IDtrSK1WRpFHFQYra.jpg: 384x512 2 boilers, 59.1ms\n",
      "image 1001/1107 C:\\Users\\gnvca\\OneDrive\\Desktop\\JP\\model03\\dataset\\images\\test\\IDtwTuBNbQ0.jpg: 384x512 (no detections), 31.4ms\n",
      "image 1002/1107 C:\\Users\\gnvca\\OneDrive\\Desktop\\JP\\model03\\dataset\\images\\test\\IDu1Doy9xRI3UQB.jpg: 384x512 1 panel, 29.5ms\n",
      "image 1003/1107 C:\\Users\\gnvca\\OneDrive\\Desktop\\JP\\model03\\dataset\\images\\test\\IDu5apnxKa5LUJ.jpg: 384x512 2 panels, 30.6ms\n",
      "image 1004/1107 C:\\Users\\gnvca\\OneDrive\\Desktop\\JP\\model03\\dataset\\images\\test\\IDuAmrQZ.jpg: 416x512 1 panel, 35.4ms\n",
      "image 1005/1107 C:\\Users\\gnvca\\OneDrive\\Desktop\\JP\\model03\\dataset\\images\\test\\IDuBDefo.jpg: 384x512 1 panel, 32.4ms\n",
      "image 1006/1107 C:\\Users\\gnvca\\OneDrive\\Desktop\\JP\\model03\\dataset\\images\\test\\IDuE3lVYzp6vS.jpg: 384x512 (no detections), 29.5ms\n",
      "image 1007/1107 C:\\Users\\gnvca\\OneDrive\\Desktop\\JP\\model03\\dataset\\images\\test\\IDuIJHHYU.jpg: 384x512 (no detections), 30.5ms\n",
      "image 1008/1107 C:\\Users\\gnvca\\OneDrive\\Desktop\\JP\\model03\\dataset\\images\\test\\IDuMKMRjWVF.jpg: 384x512 1 boiler, 1 panel, 32.7ms\n",
      "image 1009/1107 C:\\Users\\gnvca\\OneDrive\\Desktop\\JP\\model03\\dataset\\images\\test\\IDuMU6XX2F7zG.jpg: 384x512 2 boilers, 4 panels, 32.9ms\n",
      "image 1010/1107 C:\\Users\\gnvca\\OneDrive\\Desktop\\JP\\model03\\dataset\\images\\test\\IDuOJrUhVIu.jpg: 384x512 (no detections), 33.1ms\n",
      "image 1011/1107 C:\\Users\\gnvca\\OneDrive\\Desktop\\JP\\model03\\dataset\\images\\test\\IDuPnautavhQhmIN.jpg: 384x512 1 panel, 32.9ms\n",
      "image 1012/1107 C:\\Users\\gnvca\\OneDrive\\Desktop\\JP\\model03\\dataset\\images\\test\\IDuSLpWVGBQg.jpg: 384x512 1 panel, 32.7ms\n",
      "image 1013/1107 C:\\Users\\gnvca\\OneDrive\\Desktop\\JP\\model03\\dataset\\images\\test\\IDuTizVfqBVcUdaQg.jpg: 512x512 (no detections), 40.1ms\n",
      "image 1014/1107 C:\\Users\\gnvca\\OneDrive\\Desktop\\JP\\model03\\dataset\\images\\test\\IDuWApNgxoWyh5p.jpg: 384x512 1 panel, 33.9ms\n",
      "image 1015/1107 C:\\Users\\gnvca\\OneDrive\\Desktop\\JP\\model03\\dataset\\images\\test\\IDuYsQ8.jpg: 384x512 9 panels, 33.3ms\n",
      "image 1016/1107 C:\\Users\\gnvca\\OneDrive\\Desktop\\JP\\model03\\dataset\\images\\test\\IDubMwUvv.jpg: 512x512 2 panels, 41.6ms\n",
      "image 1017/1107 C:\\Users\\gnvca\\OneDrive\\Desktop\\JP\\model03\\dataset\\images\\test\\IDugkYt74t.jpg: 384x512 7 panels, 62.1ms\n",
      "image 1018/1107 C:\\Users\\gnvca\\OneDrive\\Desktop\\JP\\model03\\dataset\\images\\test\\IDujIui6sIYl9wU.jpg: 384x512 2 panels, 61.3ms\n",
      "image 1019/1107 C:\\Users\\gnvca\\OneDrive\\Desktop\\JP\\model03\\dataset\\images\\test\\IDuqP8cwcNZzUXc9a.jpg: 384x512 2 panels, 55.6ms\n",
      "image 1020/1107 C:\\Users\\gnvca\\OneDrive\\Desktop\\JP\\model03\\dataset\\images\\test\\IDuxALuxH.jpg: 384x512 1 boiler, 2 panels, 55.2ms\n",
      "image 1021/1107 C:\\Users\\gnvca\\OneDrive\\Desktop\\JP\\model03\\dataset\\images\\test\\IDuzsyPCato.jpg: 384x512 (no detections), 54.5ms\n",
      "image 1022/1107 C:\\Users\\gnvca\\OneDrive\\Desktop\\JP\\model03\\dataset\\images\\test\\IDv0MLeS.jpg: 512x384 (no detections), 55.0ms\n",
      "image 1023/1107 C:\\Users\\gnvca\\OneDrive\\Desktop\\JP\\model03\\dataset\\images\\test\\IDv2iUPs.jpg: 384x512 11 panels, 27.5ms\n",
      "image 1024/1107 C:\\Users\\gnvca\\OneDrive\\Desktop\\JP\\model03\\dataset\\images\\test\\IDv5yvVvMdGcZoq.jpg: 384x512 (no detections), 30.0ms\n",
      "image 1025/1107 C:\\Users\\gnvca\\OneDrive\\Desktop\\JP\\model03\\dataset\\images\\test\\IDv8L46KoW1.jpg: 384x512 22 panels, 29.3ms\n",
      "image 1026/1107 C:\\Users\\gnvca\\OneDrive\\Desktop\\JP\\model03\\dataset\\images\\test\\IDvD3ah6UFeumHaW.jpg: 384x512 1 panel, 30.2ms\n",
      "image 1027/1107 C:\\Users\\gnvca\\OneDrive\\Desktop\\JP\\model03\\dataset\\images\\test\\IDvDkajmUTfaoqS1f.jpg: 384x512 2 panels, 31.0ms\n",
      "image 1028/1107 C:\\Users\\gnvca\\OneDrive\\Desktop\\JP\\model03\\dataset\\images\\test\\IDvDqkERR5.jpg: 384x512 (no detections), 31.1ms\n",
      "image 1029/1107 C:\\Users\\gnvca\\OneDrive\\Desktop\\JP\\model03\\dataset\\images\\test\\IDvWcYOdHhh6t.jpg: 384x512 1 panel, 30.3ms\n",
      "image 1030/1107 C:\\Users\\gnvca\\OneDrive\\Desktop\\JP\\model03\\dataset\\images\\test\\IDvcXA2.jpg: 448x512 (no detections), 34.1ms\n",
      "image 1031/1107 C:\\Users\\gnvca\\OneDrive\\Desktop\\JP\\model03\\dataset\\images\\test\\IDviDlOC.jpg: 384x512 (no detections), 32.0ms\n",
      "image 1032/1107 C:\\Users\\gnvca\\OneDrive\\Desktop\\JP\\model03\\dataset\\images\\test\\IDvu0zyIF5.jpg: 384x512 (no detections), 30.5ms\n",
      "image 1033/1107 C:\\Users\\gnvca\\OneDrive\\Desktop\\JP\\model03\\dataset\\images\\test\\IDw64ahr3rCeG8mJ.jpg: 384x512 1 panel, 28.1ms\n",
      "image 1034/1107 C:\\Users\\gnvca\\OneDrive\\Desktop\\JP\\model03\\dataset\\images\\test\\IDw8doIcZGJug.jpg: 384x512 4 panels, 27.5ms\n",
      "image 1035/1107 C:\\Users\\gnvca\\OneDrive\\Desktop\\JP\\model03\\dataset\\images\\test\\IDw8eqqoKuA6.jpg: 384x512 5 panels, 27.6ms\n",
      "image 1036/1107 C:\\Users\\gnvca\\OneDrive\\Desktop\\JP\\model03\\dataset\\images\\test\\IDwAWAeun.jpg: 384x512 (no detections), 27.6ms\n",
      "image 1037/1107 C:\\Users\\gnvca\\OneDrive\\Desktop\\JP\\model03\\dataset\\images\\test\\IDwAYxFYx.jpg: 384x512 5 panels, 28.0ms\n",
      "image 1038/1107 C:\\Users\\gnvca\\OneDrive\\Desktop\\JP\\model03\\dataset\\images\\test\\IDwGmhdt.jpg: 384x512 (no detections), 30.1ms\n",
      "image 1039/1107 C:\\Users\\gnvca\\OneDrive\\Desktop\\JP\\model03\\dataset\\images\\test\\IDwJjSriTt.jpg: 384x512 1 boiler, 3 panels, 28.0ms\n",
      "image 1040/1107 C:\\Users\\gnvca\\OneDrive\\Desktop\\JP\\model03\\dataset\\images\\test\\IDwL79L.jpg: 384x512 1 panel, 27.3ms\n",
      "image 1041/1107 C:\\Users\\gnvca\\OneDrive\\Desktop\\JP\\model03\\dataset\\images\\test\\IDwLlDqz1hl4XB.jpg: 384x512 22 panels, 28.4ms\n",
      "image 1042/1107 C:\\Users\\gnvca\\OneDrive\\Desktop\\JP\\model03\\dataset\\images\\test\\IDwTNMfwHMw.jpg: 384x512 (no detections), 28.7ms\n",
      "image 1043/1107 C:\\Users\\gnvca\\OneDrive\\Desktop\\JP\\model03\\dataset\\images\\test\\IDwTTlnsWZ.jpg: 512x480 1 boiler, 34.9ms\n",
      "image 1044/1107 C:\\Users\\gnvca\\OneDrive\\Desktop\\JP\\model03\\dataset\\images\\test\\IDwXxrkwHO9.jpg: 384x512 6 panels, 28.7ms\n",
      "image 1045/1107 C:\\Users\\gnvca\\OneDrive\\Desktop\\JP\\model03\\dataset\\images\\test\\IDwezmbqdK3Txzgkv.jpg: 384x512 (no detections), 27.4ms\n",
      "image 1046/1107 C:\\Users\\gnvca\\OneDrive\\Desktop\\JP\\model03\\dataset\\images\\test\\IDwllD9A92BT.jpg: 384x512 1 panel, 28.2ms\n",
      "image 1047/1107 C:\\Users\\gnvca\\OneDrive\\Desktop\\JP\\model03\\dataset\\images\\test\\IDwnEywobzfSF.jpg: 384x512 1 panel, 28.3ms\n",
      "image 1048/1107 C:\\Users\\gnvca\\OneDrive\\Desktop\\JP\\model03\\dataset\\images\\test\\IDwrfKFijXJOT4K3t.jpg: 384x512 14 panels, 27.9ms\n",
      "image 1049/1107 C:\\Users\\gnvca\\OneDrive\\Desktop\\JP\\model03\\dataset\\images\\test\\IDwrgxs.jpg: 384x512 (no detections), 29.4ms\n",
      "image 1050/1107 C:\\Users\\gnvca\\OneDrive\\Desktop\\JP\\model03\\dataset\\images\\test\\IDwuY9I.jpg: 384x512 4 panels, 27.2ms\n",
      "image 1051/1107 C:\\Users\\gnvca\\OneDrive\\Desktop\\JP\\model03\\dataset\\images\\test\\IDwwBEl.jpg: 384x512 (no detections), 45.5ms\n",
      "image 1052/1107 C:\\Users\\gnvca\\OneDrive\\Desktop\\JP\\model03\\dataset\\images\\test\\IDx0knuD.jpg: 384x512 (no detections), 59.9ms\n",
      "image 1053/1107 C:\\Users\\gnvca\\OneDrive\\Desktop\\JP\\model03\\dataset\\images\\test\\IDx1Q3Dy.jpg: 384x512 (no detections), 55.8ms\n",
      "image 1054/1107 C:\\Users\\gnvca\\OneDrive\\Desktop\\JP\\model03\\dataset\\images\\test\\IDx3BSD4.jpg: 512x448 1 boiler, 65.3ms\n",
      "image 1055/1107 C:\\Users\\gnvca\\OneDrive\\Desktop\\JP\\model03\\dataset\\images\\test\\IDx3Jo0nyWr.jpg: 384x512 7 panels, 42.1ms\n",
      "image 1056/1107 C:\\Users\\gnvca\\OneDrive\\Desktop\\JP\\model03\\dataset\\images\\test\\IDx54u9.jpg: 384x512 3 panels, 28.7ms\n",
      "image 1057/1107 C:\\Users\\gnvca\\OneDrive\\Desktop\\JP\\model03\\dataset\\images\\test\\IDx6VR7Aqn.jpg: 384x512 (no detections), 29.4ms\n",
      "image 1058/1107 C:\\Users\\gnvca\\OneDrive\\Desktop\\JP\\model03\\dataset\\images\\test\\IDx8F7lZ.jpg: 384x512 (no detections), 28.8ms\n",
      "image 1059/1107 C:\\Users\\gnvca\\OneDrive\\Desktop\\JP\\model03\\dataset\\images\\test\\IDxBKKeI.jpg: 384x512 2 panels, 28.2ms\n",
      "image 1060/1107 C:\\Users\\gnvca\\OneDrive\\Desktop\\JP\\model03\\dataset\\images\\test\\IDxPHUCd5.jpg: 384x512 (no detections), 29.3ms\n",
      "image 1061/1107 C:\\Users\\gnvca\\OneDrive\\Desktop\\JP\\model03\\dataset\\images\\test\\IDxRhnqF1Gny.jpg: 384x512 1 panel, 29.2ms\n",
      "image 1062/1107 C:\\Users\\gnvca\\OneDrive\\Desktop\\JP\\model03\\dataset\\images\\test\\IDxV8KHXF2a.jpg: 416x512 1 boiler, 38.5ms\n",
      "image 1063/1107 C:\\Users\\gnvca\\OneDrive\\Desktop\\JP\\model03\\dataset\\images\\test\\IDxVKj8.jpg: 384x512 (no detections), 35.3ms\n",
      "image 1064/1107 C:\\Users\\gnvca\\OneDrive\\Desktop\\JP\\model03\\dataset\\images\\test\\IDxb8tv.jpg: 384x512 2 panels, 37.2ms\n",
      "image 1065/1107 C:\\Users\\gnvca\\OneDrive\\Desktop\\JP\\model03\\dataset\\images\\test\\IDxcofPbgNGrDm.jpg: 384x512 2 panels, 58.5ms\n",
      "image 1066/1107 C:\\Users\\gnvca\\OneDrive\\Desktop\\JP\\model03\\dataset\\images\\test\\IDxdGnfAY.jpg: 384x512 1 panel, 59.4ms\n",
      "image 1067/1107 C:\\Users\\gnvca\\OneDrive\\Desktop\\JP\\model03\\dataset\\images\\test\\IDxdKpWTNUTbF.jpg: 512x384 2 panels, 63.3ms\n",
      "image 1068/1107 C:\\Users\\gnvca\\OneDrive\\Desktop\\JP\\model03\\dataset\\images\\test\\IDxeIa6ntJnrvKT5r.jpg: 384x512 1 panel, 50.5ms\n",
      "image 1069/1107 C:\\Users\\gnvca\\OneDrive\\Desktop\\JP\\model03\\dataset\\images\\test\\IDxevoM3Jrb7Jwa.jpg: 384x512 1 panel, 32.1ms\n",
      "image 1070/1107 C:\\Users\\gnvca\\OneDrive\\Desktop\\JP\\model03\\dataset\\images\\test\\IDxfDgXSHLsiB.jpg: 384x512 14 panels, 34.1ms\n",
      "image 1071/1107 C:\\Users\\gnvca\\OneDrive\\Desktop\\JP\\model03\\dataset\\images\\test\\IDxgl9vWdiH4YwNhw.jpg: 384x512 (no detections), 33.4ms\n",
      "image 1072/1107 C:\\Users\\gnvca\\OneDrive\\Desktop\\JP\\model03\\dataset\\images\\test\\IDxihwnZti9brMNm.jpg: 384x512 1 panel, 33.2ms\n",
      "image 1073/1107 C:\\Users\\gnvca\\OneDrive\\Desktop\\JP\\model03\\dataset\\images\\test\\IDxv1ivHIDso.jpg: 384x512 (no detections), 32.5ms\n",
      "image 1074/1107 C:\\Users\\gnvca\\OneDrive\\Desktop\\JP\\model03\\dataset\\images\\test\\IDxvrnK7mcPXL.jpg: 384x512 2 panels, 33.3ms\n",
      "image 1075/1107 C:\\Users\\gnvca\\OneDrive\\Desktop\\JP\\model03\\dataset\\images\\test\\IDy3Anv.jpg: 448x512 1 boiler, 38.7ms\n",
      "image 1076/1107 C:\\Users\\gnvca\\OneDrive\\Desktop\\JP\\model03\\dataset\\images\\test\\IDy76X7S3yPKbU.jpg: 384x512 5 panels, 33.0ms\n",
      "image 1077/1107 C:\\Users\\gnvca\\OneDrive\\Desktop\\JP\\model03\\dataset\\images\\test\\IDy7QEH4rL.jpg: 416x512 1 boiler, 36.8ms\n",
      "image 1078/1107 C:\\Users\\gnvca\\OneDrive\\Desktop\\JP\\model03\\dataset\\images\\test\\IDyCqgUKS.jpg: 384x512 (no detections), 34.6ms\n",
      "image 1079/1107 C:\\Users\\gnvca\\OneDrive\\Desktop\\JP\\model03\\dataset\\images\\test\\IDyEOFMbgKX5lov.jpg: 384x512 (no detections), 34.2ms\n",
      "image 1080/1107 C:\\Users\\gnvca\\OneDrive\\Desktop\\JP\\model03\\dataset\\images\\test\\IDyF0v6h81XdMGz.jpg: 384x512 1 panel, 32.9ms\n",
      "image 1081/1107 C:\\Users\\gnvca\\OneDrive\\Desktop\\JP\\model03\\dataset\\images\\test\\IDyFpWqCHd3.jpg: 384x512 1 panel, 34.6ms\n",
      "image 1082/1107 C:\\Users\\gnvca\\OneDrive\\Desktop\\JP\\model03\\dataset\\images\\test\\IDyK1PR3r.jpg: 384x512 1 boiler, 1 panel, 33.1ms\n",
      "image 1083/1107 C:\\Users\\gnvca\\OneDrive\\Desktop\\JP\\model03\\dataset\\images\\test\\IDyNgXEZa.jpg: 352x512 1 boiler, 34.1ms\n",
      "image 1084/1107 C:\\Users\\gnvca\\OneDrive\\Desktop\\JP\\model03\\dataset\\images\\test\\IDyTaBNkOUd.jpg: 384x512 1 panel, 34.1ms\n",
      "image 1085/1107 C:\\Users\\gnvca\\OneDrive\\Desktop\\JP\\model03\\dataset\\images\\test\\IDyVYj2.jpg: 384x512 (no detections), 33.5ms\n",
      "image 1086/1107 C:\\Users\\gnvca\\OneDrive\\Desktop\\JP\\model03\\dataset\\images\\test\\IDyWBUJ3eBmmh.jpg: 512x512 6 panels, 41.5ms\n",
      "image 1087/1107 C:\\Users\\gnvca\\OneDrive\\Desktop\\JP\\model03\\dataset\\images\\test\\IDyYcRt53qPvX3mv.jpg: 384x512 2 panels, 35.3ms\n",
      "image 1088/1107 C:\\Users\\gnvca\\OneDrive\\Desktop\\JP\\model03\\dataset\\images\\test\\IDyiPO4bTQK.jpg: 384x512 (no detections), 47.7ms\n",
      "image 1089/1107 C:\\Users\\gnvca\\OneDrive\\Desktop\\JP\\model03\\dataset\\images\\test\\IDytK70vdBWYDY9Z.jpg: 384x512 (no detections), 62.0ms\n",
      "image 1090/1107 C:\\Users\\gnvca\\OneDrive\\Desktop\\JP\\model03\\dataset\\images\\test\\IDz0K73.jpg: 384x512 (no detections), 56.7ms\n",
      "image 1091/1107 C:\\Users\\gnvca\\OneDrive\\Desktop\\JP\\model03\\dataset\\images\\test\\IDz0qz2WUx.jpg: 384x512 2 panels, 57.7ms\n",
      "image 1092/1107 C:\\Users\\gnvca\\OneDrive\\Desktop\\JP\\model03\\dataset\\images\\test\\IDz2Li9rj3FGSs93.jpg: 384x512 (no detections), 55.8ms\n",
      "image 1093/1107 C:\\Users\\gnvca\\OneDrive\\Desktop\\JP\\model03\\dataset\\images\\test\\IDz4wyathUaafzF1.jpg: 512x512 4 panels, 72.9ms\n",
      "image 1094/1107 C:\\Users\\gnvca\\OneDrive\\Desktop\\JP\\model03\\dataset\\images\\test\\IDzBxVmIHZoneo.jpg: 384x512 2 panels, 30.5ms\n",
      "image 1095/1107 C:\\Users\\gnvca\\OneDrive\\Desktop\\JP\\model03\\dataset\\images\\test\\IDzByhJxOeg4d7vk.jpg: 384x512 1 panel, 28.8ms\n",
      "image 1096/1107 C:\\Users\\gnvca\\OneDrive\\Desktop\\JP\\model03\\dataset\\images\\test\\IDzPlfj.jpg: 384x512 1 boiler, 3 panels, 28.1ms\n",
      "image 1097/1107 C:\\Users\\gnvca\\OneDrive\\Desktop\\JP\\model03\\dataset\\images\\test\\IDzQUjsuQbZiUAP6s.jpg: 448x512 5 panels, 33.8ms\n",
      "image 1098/1107 C:\\Users\\gnvca\\OneDrive\\Desktop\\JP\\model03\\dataset\\images\\test\\IDzTVBo.jpg: 384x512 19 panels, 36.0ms\n",
      "image 1099/1107 C:\\Users\\gnvca\\OneDrive\\Desktop\\JP\\model03\\dataset\\images\\test\\IDzU8hWyVLYH7kE35.jpg: 384x512 1 panel, 42.7ms\n",
      "image 1100/1107 C:\\Users\\gnvca\\OneDrive\\Desktop\\JP\\model03\\dataset\\images\\test\\IDzVVQ1i6SfsJVFX1.jpg: 384x512 2 panels, 67.9ms\n",
      "image 1101/1107 C:\\Users\\gnvca\\OneDrive\\Desktop\\JP\\model03\\dataset\\images\\test\\IDzWC4a8XJ5yB7JV6.jpg: 384x512 1 panel, 61.1ms\n",
      "image 1102/1107 C:\\Users\\gnvca\\OneDrive\\Desktop\\JP\\model03\\dataset\\images\\test\\IDzdqMimk7v.jpg: 512x416 1 panel, 39.1ms\n",
      "image 1103/1107 C:\\Users\\gnvca\\OneDrive\\Desktop\\JP\\model03\\dataset\\images\\test\\IDzhpdPHeGHlmWEIx.jpg: 384x512 2 panels, 32.3ms\n",
      "image 1104/1107 C:\\Users\\gnvca\\OneDrive\\Desktop\\JP\\model03\\dataset\\images\\test\\IDztljx.jpg: 384x512 1 panel, 31.4ms\n",
      "image 1105/1107 C:\\Users\\gnvca\\OneDrive\\Desktop\\JP\\model03\\dataset\\images\\test\\IDzwPcyO0e.jpg: 512x512 10 boilers, 38.6ms\n",
      "image 1106/1107 C:\\Users\\gnvca\\OneDrive\\Desktop\\JP\\model03\\dataset\\images\\test\\IDzzNegz.jpg: 384x512 (no detections), 32.7ms\n",
      "image 1107/1107 C:\\Users\\gnvca\\OneDrive\\Desktop\\JP\\model03\\dataset\\images\\test\\IDzzZcEYNVZMCk.jpg: 384x512 1 panel, 34.8ms\n",
      "Speed: 1.8ms preprocess, 28.2ms inference, 0.9ms postprocess per image at shape (1, 3, 384, 512)\n",
      "Total images processed: 1107\n"
     ]
    }
   ],
   "source": [
    "from ultralytics import YOLO\n",
    "import pandas as pd\n",
    "import os\n",
    "\n",
    "# Run inference on test images\n",
    "results = list(model.predict(source=r\"C:\\Users\\gnvca\\OneDrive\\Desktop\\JP\\model03\\dataset\\images\\test\", save=False))\n",
    "\n",
    "# Debug: Check if results exist\n",
    "print(\"Total images processed:\", len(results))\n",
    "if len(results) == 0:\n",
    "    print(\"⚠️ No images processed! Check your dataset path.\")\n",
    "    \n"
   ]
  },
  {
   "cell_type": "code",
   "execution_count": 12,
   "metadata": {},
   "outputs": [
    {
     "name": "stdout",
     "output_type": "stream",
     "text": [
      "First 5 rows: [{'ID': 'ID00qprY_boil', 'Target': 0}, {'ID': 'ID00qprY_pan', 'Target': 0}, {'ID': 'ID01AciUc_boil', 'Target': 0}, {'ID': 'ID01AciUc_pan', 'Target': 2}, {'ID': 'ID0328D_boil', 'Target': 0}]\n",
      "✅ CSV saved as 'test_detection_counts.csv'\n"
     ]
    }
   ],
   "source": [
    "# Store results\n",
    "rows = []\n",
    "\n",
    "for result in results:\n",
    "    image_id = os.path.splitext(os.path.basename(result.path))[0]  # Get filename without extension\n",
    "    class_ids = result.boxes.cls.int().tolist()\n",
    "    \n",
    "    boiler_count = class_ids.count(0)  # assuming 'boiler' = class 0\n",
    "    panel_count = class_ids.count(1)   # assuming 'panel' = class 1\n",
    "    \n",
    "    # Append each class as a separate row\n",
    "    rows.append({\"ID\": f\"{image_id}_boil\", \"Target\": boiler_count})\n",
    "    rows.append({\"ID\": f\"{image_id}_pan\", \"Target\": panel_count})\n",
    "\n",
    "# Debug: Check if rows are being created\n",
    "print(\"First 5 rows:\", rows[:5])\n",
    "\n",
    "# Create DataFrame and save CSV\n",
    "df = pd.DataFrame(rows)\n",
    "\n",
    "# If dataframe is empty, print a warning\n",
    "if df.empty:\n",
    "    print(\"⚠️ WARNING: DataFrame is empty! Check your detection logic.\")\n",
    "\n",
    "df.to_csv(\"test_detection_counts.csv\", index=False)\n",
    "print(\"✅ CSV saved as 'test_detection_counts.csv'\")\n"
   ]
  },
  {
   "cell_type": "code",
   "execution_count": 1,
   "metadata": {},
   "outputs": [
    {
     "name": "stdout",
     "output_type": "stream",
     "text": [
      "✅ Found 1107 test images.\n",
      "\n",
      "\n",
      "WARNING  inference results will accumulate in RAM unless `stream=True` is passed, causing potential out-of-memory\n",
      "errors for large sources or long-running streams and videos. See https://docs.ultralytics.com/modes/predict/ for help.\n",
      "\n",
      "Example:\n",
      "    results = model(source=..., stream=True)  # generator of Results objects\n",
      "    for r in results:\n",
      "        boxes = r.boxes  # Boxes object for bbox outputs\n",
      "        masks = r.masks  # Masks object for segment masks outputs\n",
      "        probs = r.probs  # Class probabilities for classification outputs\n",
      "\n",
      "image 1/1107 C:\\Users\\gnvca\\OneDrive\\Desktop\\JP\\model03S\\dataset\\images\\test\\ID00qprY.jpg: 320x416 2 panels, 30.4ms\n",
      "image 2/1107 C:\\Users\\gnvca\\OneDrive\\Desktop\\JP\\model03S\\dataset\\images\\test\\ID01AciUc.jpg: 320x416 2 panels, 5.4ms\n",
      "image 3/1107 C:\\Users\\gnvca\\OneDrive\\Desktop\\JP\\model03S\\dataset\\images\\test\\ID0328D.jpg: 320x416 1 panel, 5.8ms\n",
      "image 4/1107 C:\\Users\\gnvca\\OneDrive\\Desktop\\JP\\model03S\\dataset\\images\\test\\ID05WxObCFTs9.jpg: 320x416 2 panels, 7.0ms\n",
      "image 5/1107 C:\\Users\\gnvca\\OneDrive\\Desktop\\JP\\model03S\\dataset\\images\\test\\ID06AdCmLMlkO.jpg: 416x384 (no detections), 26.7ms\n",
      "image 6/1107 C:\\Users\\gnvca\\OneDrive\\Desktop\\JP\\model03S\\dataset\\images\\test\\ID0BTVyh4.jpg: 320x416 2 panels, 5.8ms\n",
      "image 7/1107 C:\\Users\\gnvca\\OneDrive\\Desktop\\JP\\model03S\\dataset\\images\\test\\ID0FBDllOkNS3A.jpg: 320x416 (no detections), 6.1ms\n",
      "image 8/1107 C:\\Users\\gnvca\\OneDrive\\Desktop\\JP\\model03S\\dataset\\images\\test\\ID0FjL0VeJuPBW.jpg: 128x416 1 boiler, 27.1ms\n",
      "image 9/1107 C:\\Users\\gnvca\\OneDrive\\Desktop\\JP\\model03S\\dataset\\images\\test\\ID0HlRCFE5wCBkWP.jpg: 320x416 2 panels, 6.0ms\n",
      "image 10/1107 C:\\Users\\gnvca\\OneDrive\\Desktop\\JP\\model03S\\dataset\\images\\test\\ID0IovKJW.jpg: 320x416 1 panel, 5.5ms\n",
      "image 11/1107 C:\\Users\\gnvca\\OneDrive\\Desktop\\JP\\model03S\\dataset\\images\\test\\ID0LpXkRA81X.jpg: 320x416 (no detections), 6.2ms\n",
      "image 12/1107 C:\\Users\\gnvca\\OneDrive\\Desktop\\JP\\model03S\\dataset\\images\\test\\ID0M63kKZ55.jpg: 320x416 2 panels, 6.3ms\n",
      "image 13/1107 C:\\Users\\gnvca\\OneDrive\\Desktop\\JP\\model03S\\dataset\\images\\test\\ID0QsFWsyFqZdx.jpg: 320x416 2 panels, 5.4ms\n",
      "image 14/1107 C:\\Users\\gnvca\\OneDrive\\Desktop\\JP\\model03S\\dataset\\images\\test\\ID0SfCD.jpg: 320x416 (no detections), 6.0ms\n",
      "image 15/1107 C:\\Users\\gnvca\\OneDrive\\Desktop\\JP\\model03S\\dataset\\images\\test\\ID0akoJsfedXprL.jpg: 320x416 (no detections), 5.2ms\n",
      "image 16/1107 C:\\Users\\gnvca\\OneDrive\\Desktop\\JP\\model03S\\dataset\\images\\test\\ID0dJJPCYanXEalJ.jpg: 320x416 2 panels, 5.4ms\n",
      "image 17/1107 C:\\Users\\gnvca\\OneDrive\\Desktop\\JP\\model03S\\dataset\\images\\test\\ID0dfmojB.jpg: 320x416 1 panel, 5.7ms\n",
      "image 18/1107 C:\\Users\\gnvca\\OneDrive\\Desktop\\JP\\model03S\\dataset\\images\\test\\ID0e6159wkv90z.jpg: 320x416 (no detections), 5.6ms\n",
      "image 19/1107 C:\\Users\\gnvca\\OneDrive\\Desktop\\JP\\model03S\\dataset\\images\\test\\ID0kB33brV.jpg: 320x416 4 panels, 5.8ms\n",
      "image 20/1107 C:\\Users\\gnvca\\OneDrive\\Desktop\\JP\\model03S\\dataset\\images\\test\\ID0maWjURTmcAjqi.jpg: 320x416 1 panel, 5.6ms\n",
      "image 21/1107 C:\\Users\\gnvca\\OneDrive\\Desktop\\JP\\model03S\\dataset\\images\\test\\ID0pTyIRodXkgwhM.jpg: 320x416 2 panels, 6.0ms\n",
      "image 22/1107 C:\\Users\\gnvca\\OneDrive\\Desktop\\JP\\model03S\\dataset\\images\\test\\ID0vKQKW.jpg: 416x416 2 panels, 6.2ms\n",
      "image 23/1107 C:\\Users\\gnvca\\OneDrive\\Desktop\\JP\\model03S\\dataset\\images\\test\\ID0yctFiI9JXoazy.jpg: 320x416 2 panels, 6.4ms\n",
      "image 24/1107 C:\\Users\\gnvca\\OneDrive\\Desktop\\JP\\model03S\\dataset\\images\\test\\ID149tZzT8.jpg: 416x416 (no detections), 5.8ms\n",
      "image 25/1107 C:\\Users\\gnvca\\OneDrive\\Desktop\\JP\\model03S\\dataset\\images\\test\\ID1AfoHXF.jpg: 416x384 (no detections), 6.4ms\n",
      "image 26/1107 C:\\Users\\gnvca\\OneDrive\\Desktop\\JP\\model03S\\dataset\\images\\test\\ID1KYfDfr0L.jpg: 320x416 (no detections), 5.9ms\n",
      "image 27/1107 C:\\Users\\gnvca\\OneDrive\\Desktop\\JP\\model03S\\dataset\\images\\test\\ID1LA6Rx8qCyZcTO.jpg: 320x416 4 panels, 5.4ms\n",
      "image 28/1107 C:\\Users\\gnvca\\OneDrive\\Desktop\\JP\\model03S\\dataset\\images\\test\\ID1TOo3.jpg: 352x416 1 panel, 29.6ms\n",
      "image 29/1107 C:\\Users\\gnvca\\OneDrive\\Desktop\\JP\\model03S\\dataset\\images\\test\\ID1UlsomrqgKDofZC.jpg: 320x416 1 panel, 5.5ms\n",
      "image 30/1107 C:\\Users\\gnvca\\OneDrive\\Desktop\\JP\\model03S\\dataset\\images\\test\\ID1eo7z.jpg: 320x416 2 panels, 11.2ms\n",
      "image 31/1107 C:\\Users\\gnvca\\OneDrive\\Desktop\\JP\\model03S\\dataset\\images\\test\\ID1jkyzBoflp4.jpg: 256x416 (no detections), 26.6ms\n",
      "image 32/1107 C:\\Users\\gnvca\\OneDrive\\Desktop\\JP\\model03S\\dataset\\images\\test\\ID1k2a9nf.jpg: 320x416 2 panels, 6.3ms\n",
      "image 33/1107 C:\\Users\\gnvca\\OneDrive\\Desktop\\JP\\model03S\\dataset\\images\\test\\ID1kuxucbsbCX.jpg: 416x416 1 boiler, 5.5ms\n",
      "image 34/1107 C:\\Users\\gnvca\\OneDrive\\Desktop\\JP\\model03S\\dataset\\images\\test\\ID1lAVUHzhMkn1P.jpg: 320x416 2 panels, 5.9ms\n",
      "image 35/1107 C:\\Users\\gnvca\\OneDrive\\Desktop\\JP\\model03S\\dataset\\images\\test\\ID1notv9fSD.jpg: 320x416 2 panels, 5.9ms\n",
      "image 36/1107 C:\\Users\\gnvca\\OneDrive\\Desktop\\JP\\model03S\\dataset\\images\\test\\ID1qhxezGRD.jpg: 320x416 1 panel, 6.3ms\n",
      "image 37/1107 C:\\Users\\gnvca\\OneDrive\\Desktop\\JP\\model03S\\dataset\\images\\test\\ID1qlZeCi.jpg: 320x416 2 panels, 5.8ms\n",
      "image 38/1107 C:\\Users\\gnvca\\OneDrive\\Desktop\\JP\\model03S\\dataset\\images\\test\\ID1skciQI3zi.jpg: 320x416 2 panels, 5.4ms\n",
      "image 39/1107 C:\\Users\\gnvca\\OneDrive\\Desktop\\JP\\model03S\\dataset\\images\\test\\ID1uweyu0Fyd8eq.jpg: 320x416 (no detections), 5.9ms\n",
      "image 40/1107 C:\\Users\\gnvca\\OneDrive\\Desktop\\JP\\model03S\\dataset\\images\\test\\ID1wP4IBH.jpg: 320x416 2 panels, 5.3ms\n",
      "image 41/1107 C:\\Users\\gnvca\\OneDrive\\Desktop\\JP\\model03S\\dataset\\images\\test\\ID1xuupS.jpg: 320x416 (no detections), 11.1ms\n",
      "image 42/1107 C:\\Users\\gnvca\\OneDrive\\Desktop\\JP\\model03S\\dataset\\images\\test\\ID21UQAbBk8nQG.jpg: 416x384 (no detections), 5.6ms\n",
      "image 43/1107 C:\\Users\\gnvca\\OneDrive\\Desktop\\JP\\model03S\\dataset\\images\\test\\ID21zmyIZ.jpg: 320x416 2 panels, 6.6ms\n",
      "image 44/1107 C:\\Users\\gnvca\\OneDrive\\Desktop\\JP\\model03S\\dataset\\images\\test\\ID25pMSm.jpg: 416x288 1 boiler, 28.2ms\n",
      "image 45/1107 C:\\Users\\gnvca\\OneDrive\\Desktop\\JP\\model03S\\dataset\\images\\test\\ID280v0XHbkDu.jpg: 416x352 1 boiler, 27.4ms\n",
      "image 46/1107 C:\\Users\\gnvca\\OneDrive\\Desktop\\JP\\model03S\\dataset\\images\\test\\ID2Is7fwj.jpg: 416x416 5 panels, 5.7ms\n",
      "image 47/1107 C:\\Users\\gnvca\\OneDrive\\Desktop\\JP\\model03S\\dataset\\images\\test\\ID2KZruU0L.jpg: 320x416 2 panels, 6.2ms\n",
      "image 48/1107 C:\\Users\\gnvca\\OneDrive\\Desktop\\JP\\model03S\\dataset\\images\\test\\ID2NSkOIUD6F.jpg: 320x416 2 panels, 5.7ms\n",
      "image 49/1107 C:\\Users\\gnvca\\OneDrive\\Desktop\\JP\\model03S\\dataset\\images\\test\\ID2PBo8gc6VGiXtQ.jpg: 320x416 1 panel, 6.6ms\n",
      "image 50/1107 C:\\Users\\gnvca\\OneDrive\\Desktop\\JP\\model03S\\dataset\\images\\test\\ID2QAeip.jpg: 320x416 2 panels, 6.3ms\n",
      "image 51/1107 C:\\Users\\gnvca\\OneDrive\\Desktop\\JP\\model03S\\dataset\\images\\test\\ID2Usl1ezSfbOV.jpg: 320x416 1 panel, 6.5ms\n",
      "image 52/1107 C:\\Users\\gnvca\\OneDrive\\Desktop\\JP\\model03S\\dataset\\images\\test\\ID2Wk3tg.jpg: 320x416 2 panels, 5.6ms\n",
      "image 53/1107 C:\\Users\\gnvca\\OneDrive\\Desktop\\JP\\model03S\\dataset\\images\\test\\ID2axpqnxH.jpg: 320x416 1 panel, 5.5ms\n",
      "image 54/1107 C:\\Users\\gnvca\\OneDrive\\Desktop\\JP\\model03S\\dataset\\images\\test\\ID2nlz2h06bDG.jpg: 320x416 3 panels, 6.0ms\n",
      "image 55/1107 C:\\Users\\gnvca\\OneDrive\\Desktop\\JP\\model03S\\dataset\\images\\test\\ID2oDIOfQM.jpg: 320x416 2 panels, 7.7ms\n",
      "image 56/1107 C:\\Users\\gnvca\\OneDrive\\Desktop\\JP\\model03S\\dataset\\images\\test\\ID2r8ZX2S.jpg: 384x416 3 panels, 27.0ms\n",
      "image 57/1107 C:\\Users\\gnvca\\OneDrive\\Desktop\\JP\\model03S\\dataset\\images\\test\\ID2s8DzB.jpg: 320x416 1 panel, 6.6ms\n",
      "image 58/1107 C:\\Users\\gnvca\\OneDrive\\Desktop\\JP\\model03S\\dataset\\images\\test\\ID2tvAPl755je.jpg: 320x416 (no detections), 5.6ms\n",
      "image 59/1107 C:\\Users\\gnvca\\OneDrive\\Desktop\\JP\\model03S\\dataset\\images\\test\\ID2uOtEx5AComN.jpg: 320x416 (no detections), 6.2ms\n",
      "image 60/1107 C:\\Users\\gnvca\\OneDrive\\Desktop\\JP\\model03S\\dataset\\images\\test\\ID30cTFRtDKdCwt1g.jpg: 320x416 1 panel, 7.1ms\n",
      "image 61/1107 C:\\Users\\gnvca\\OneDrive\\Desktop\\JP\\model03S\\dataset\\images\\test\\ID34JQo9q.jpg: 320x416 (no detections), 5.8ms\n",
      "image 62/1107 C:\\Users\\gnvca\\OneDrive\\Desktop\\JP\\model03S\\dataset\\images\\test\\ID3B1TvjBAtZ.jpg: 320x416 1 panel, 6.7ms\n",
      "image 63/1107 C:\\Users\\gnvca\\OneDrive\\Desktop\\JP\\model03S\\dataset\\images\\test\\ID3BPzU27w4.jpg: 320x416 2 panels, 5.8ms\n",
      "image 64/1107 C:\\Users\\gnvca\\OneDrive\\Desktop\\JP\\model03S\\dataset\\images\\test\\ID3E40hHStriUb.jpg: 320x416 2 panels, 7.0ms\n",
      "image 65/1107 C:\\Users\\gnvca\\OneDrive\\Desktop\\JP\\model03S\\dataset\\images\\test\\ID3LA0B23P.jpg: 320x416 1 panel, 5.2ms\n",
      "image 66/1107 C:\\Users\\gnvca\\OneDrive\\Desktop\\JP\\model03S\\dataset\\images\\test\\ID3QPGZolA0.jpg: 320x416 2 panels, 6.2ms\n",
      "image 67/1107 C:\\Users\\gnvca\\OneDrive\\Desktop\\JP\\model03S\\dataset\\images\\test\\ID3WVgGW.jpg: 416x416 11 panels, 6.2ms\n",
      "image 68/1107 C:\\Users\\gnvca\\OneDrive\\Desktop\\JP\\model03S\\dataset\\images\\test\\ID3Wec8l8Ne04DBv9.jpg: 320x416 2 panels, 6.0ms\n",
      "image 69/1107 C:\\Users\\gnvca\\OneDrive\\Desktop\\JP\\model03S\\dataset\\images\\test\\ID3aifRIFQ6nHq9.jpg: 416x416 (no detections), 5.6ms\n",
      "image 70/1107 C:\\Users\\gnvca\\OneDrive\\Desktop\\JP\\model03S\\dataset\\images\\test\\ID3cyqj3A1Qk6M2.jpg: 320x416 2 panels, 5.6ms\n",
      "image 71/1107 C:\\Users\\gnvca\\OneDrive\\Desktop\\JP\\model03S\\dataset\\images\\test\\ID3erWfTEn7rif.jpg: 416x384 (no detections), 6.1ms\n",
      "image 72/1107 C:\\Users\\gnvca\\OneDrive\\Desktop\\JP\\model03S\\dataset\\images\\test\\ID3hrW9feaz.jpg: 352x416 1 panel, 7.1ms\n",
      "image 73/1107 C:\\Users\\gnvca\\OneDrive\\Desktop\\JP\\model03S\\dataset\\images\\test\\ID3mLkiA7p.jpg: 320x416 (no detections), 6.6ms\n",
      "image 74/1107 C:\\Users\\gnvca\\OneDrive\\Desktop\\JP\\model03S\\dataset\\images\\test\\ID3n9EVi0llJ7EM3s.jpg: 320x416 2 panels, 6.1ms\n",
      "image 75/1107 C:\\Users\\gnvca\\OneDrive\\Desktop\\JP\\model03S\\dataset\\images\\test\\ID3s9sjV8xT5X.jpg: 416x384 1 boiler, 5.6ms\n",
      "image 76/1107 C:\\Users\\gnvca\\OneDrive\\Desktop\\JP\\model03S\\dataset\\images\\test\\ID3tIq1bkaQ.jpg: 320x416 2 panels, 5.5ms\n",
      "image 77/1107 C:\\Users\\gnvca\\OneDrive\\Desktop\\JP\\model03S\\dataset\\images\\test\\ID3uDELCzq4.jpg: 320x416 2 panels, 6.1ms\n",
      "image 78/1107 C:\\Users\\gnvca\\OneDrive\\Desktop\\JP\\model03S\\dataset\\images\\test\\ID3x9YCn6MPHhlmMo.jpg: 416x256 (no detections), 27.6ms\n",
      "image 79/1107 C:\\Users\\gnvca\\OneDrive\\Desktop\\JP\\model03S\\dataset\\images\\test\\ID3yHUh0Wttnr.jpg: 192x416 (no detections), 26.0ms\n",
      "image 80/1107 C:\\Users\\gnvca\\OneDrive\\Desktop\\JP\\model03S\\dataset\\images\\test\\ID42tOOiIotmRy0.jpg: 352x416 (no detections), 6.5ms\n",
      "image 81/1107 C:\\Users\\gnvca\\OneDrive\\Desktop\\JP\\model03S\\dataset\\images\\test\\ID45O5fV3wG.jpg: 320x416 (no detections), 6.3ms\n",
      "image 82/1107 C:\\Users\\gnvca\\OneDrive\\Desktop\\JP\\model03S\\dataset\\images\\test\\ID46sh8.jpg: 320x416 (no detections), 5.7ms\n",
      "image 83/1107 C:\\Users\\gnvca\\OneDrive\\Desktop\\JP\\model03S\\dataset\\images\\test\\ID48zxdPnfjasS3Pi.jpg: 416x416 (no detections), 5.8ms\n",
      "image 84/1107 C:\\Users\\gnvca\\OneDrive\\Desktop\\JP\\model03S\\dataset\\images\\test\\ID4AjyKo8SB1TJ.jpg: 320x416 2 panels, 10.1ms\n",
      "image 85/1107 C:\\Users\\gnvca\\OneDrive\\Desktop\\JP\\model03S\\dataset\\images\\test\\ID4BTGu06JgRCk.jpg: 352x416 1 panel, 5.9ms\n",
      "image 86/1107 C:\\Users\\gnvca\\OneDrive\\Desktop\\JP\\model03S\\dataset\\images\\test\\ID4FmGrOlF.jpg: 416x320 1 panel, 26.4ms\n",
      "image 87/1107 C:\\Users\\gnvca\\OneDrive\\Desktop\\JP\\model03S\\dataset\\images\\test\\ID4GwXAW.jpg: 288x416 (no detections), 26.8ms\n",
      "image 88/1107 C:\\Users\\gnvca\\OneDrive\\Desktop\\JP\\model03S\\dataset\\images\\test\\ID4NemgMB11bSb9.jpg: 320x416 (no detections), 7.9ms\n",
      "image 89/1107 C:\\Users\\gnvca\\OneDrive\\Desktop\\JP\\model03S\\dataset\\images\\test\\ID4RZf8Ki7SoRyJ6Y.jpg: 320x416 (no detections), 5.6ms\n",
      "image 90/1107 C:\\Users\\gnvca\\OneDrive\\Desktop\\JP\\model03S\\dataset\\images\\test\\ID4Xpq78V9x.jpg: 320x416 2 panels, 5.9ms\n",
      "image 91/1107 C:\\Users\\gnvca\\OneDrive\\Desktop\\JP\\model03S\\dataset\\images\\test\\ID4YS79CEQBMm0.jpg: 320x416 2 panels, 5.5ms\n",
      "image 92/1107 C:\\Users\\gnvca\\OneDrive\\Desktop\\JP\\model03S\\dataset\\images\\test\\ID4gP1vqI9UEK7.jpg: 384x416 1 boiler, 6.2ms\n",
      "image 93/1107 C:\\Users\\gnvca\\OneDrive\\Desktop\\JP\\model03S\\dataset\\images\\test\\ID4hHdF.jpg: 320x416 3 panels, 6.2ms\n",
      "image 94/1107 C:\\Users\\gnvca\\OneDrive\\Desktop\\JP\\model03S\\dataset\\images\\test\\ID4hsD2T4SXBdWqC.jpg: 320x416 3 panels, 5.7ms\n",
      "image 95/1107 C:\\Users\\gnvca\\OneDrive\\Desktop\\JP\\model03S\\dataset\\images\\test\\ID59ss5ITEqj.jpg: 320x416 2 panels, 5.3ms\n",
      "image 96/1107 C:\\Users\\gnvca\\OneDrive\\Desktop\\JP\\model03S\\dataset\\images\\test\\ID5A2pknRjBPe.jpg: 320x416 (no detections), 6.4ms\n",
      "image 97/1107 C:\\Users\\gnvca\\OneDrive\\Desktop\\JP\\model03S\\dataset\\images\\test\\ID5E46mKII2JUA.jpg: 320x416 2 panels, 5.6ms\n",
      "image 98/1107 C:\\Users\\gnvca\\OneDrive\\Desktop\\JP\\model03S\\dataset\\images\\test\\ID5RIE9trNeQg.jpg: 320x416 (no detections), 5.2ms\n",
      "image 99/1107 C:\\Users\\gnvca\\OneDrive\\Desktop\\JP\\model03S\\dataset\\images\\test\\ID5UIL7hL6xi.jpg: 320x416 2 panels, 7.5ms\n",
      "image 100/1107 C:\\Users\\gnvca\\OneDrive\\Desktop\\JP\\model03S\\dataset\\images\\test\\ID5Zjm6.jpg: 320x416 (no detections), 5.8ms\n",
      "image 101/1107 C:\\Users\\gnvca\\OneDrive\\Desktop\\JP\\model03S\\dataset\\images\\test\\ID5aiY1PY.jpg: 320x416 (no detections), 10.5ms\n",
      "image 102/1107 C:\\Users\\gnvca\\OneDrive\\Desktop\\JP\\model03S\\dataset\\images\\test\\ID5gX9PQE1XTCp.jpg: 320x416 2 panels, 9.7ms\n",
      "image 103/1107 C:\\Users\\gnvca\\OneDrive\\Desktop\\JP\\model03S\\dataset\\images\\test\\ID5qmLQznmh.jpg: 320x416 2 panels, 4.9ms\n",
      "image 104/1107 C:\\Users\\gnvca\\OneDrive\\Desktop\\JP\\model03S\\dataset\\images\\test\\ID5t4CyIa.jpg: 320x416 2 panels, 7.5ms\n",
      "image 105/1107 C:\\Users\\gnvca\\OneDrive\\Desktop\\JP\\model03S\\dataset\\images\\test\\ID5wdl1i5WnfHw0e.jpg: 320x416 2 panels, 6.2ms\n",
      "image 106/1107 C:\\Users\\gnvca\\OneDrive\\Desktop\\JP\\model03S\\dataset\\images\\test\\ID5ztbQO98jYM1.jpg: 320x416 2 panels, 6.1ms\n",
      "image 107/1107 C:\\Users\\gnvca\\OneDrive\\Desktop\\JP\\model03S\\dataset\\images\\test\\ID60SNTt4ERPpYb.jpg: 320x416 2 panels, 5.8ms\n",
      "image 108/1107 C:\\Users\\gnvca\\OneDrive\\Desktop\\JP\\model03S\\dataset\\images\\test\\ID60iDhll.jpg: 416x416 (no detections), 7.3ms\n",
      "image 109/1107 C:\\Users\\gnvca\\OneDrive\\Desktop\\JP\\model03S\\dataset\\images\\test\\ID6BhyM.jpg: 320x416 2 panels, 7.5ms\n",
      "image 110/1107 C:\\Users\\gnvca\\OneDrive\\Desktop\\JP\\model03S\\dataset\\images\\test\\ID6C6ZEKIa.jpg: 320x416 (no detections), 6.4ms\n",
      "image 111/1107 C:\\Users\\gnvca\\OneDrive\\Desktop\\JP\\model03S\\dataset\\images\\test\\ID6EZbm.jpg: 384x416 (no detections), 5.5ms\n",
      "image 112/1107 C:\\Users\\gnvca\\OneDrive\\Desktop\\JP\\model03S\\dataset\\images\\test\\ID6HvC2m.jpg: 320x416 2 panels, 11.3ms\n",
      "image 113/1107 C:\\Users\\gnvca\\OneDrive\\Desktop\\JP\\model03S\\dataset\\images\\test\\ID6QoOFcqqXQka.jpg: 320x416 (no detections), 5.7ms\n",
      "image 114/1107 C:\\Users\\gnvca\\OneDrive\\Desktop\\JP\\model03S\\dataset\\images\\test\\ID6XKuAUn.jpg: 320x416 3 panels, 5.5ms\n",
      "image 115/1107 C:\\Users\\gnvca\\OneDrive\\Desktop\\JP\\model03S\\dataset\\images\\test\\ID6ehyza6aUtEcc.jpg: 320x416 1 panel, 9.6ms\n",
      "image 116/1107 C:\\Users\\gnvca\\OneDrive\\Desktop\\JP\\model03S\\dataset\\images\\test\\ID6fWEVe4R.jpg: 320x416 (no detections), 5.3ms\n",
      "image 117/1107 C:\\Users\\gnvca\\OneDrive\\Desktop\\JP\\model03S\\dataset\\images\\test\\ID6hpUWcKjjLP3.jpg: 320x416 1 panel, 6.5ms\n",
      "image 118/1107 C:\\Users\\gnvca\\OneDrive\\Desktop\\JP\\model03S\\dataset\\images\\test\\ID6pgJ5ahtEptUmj.jpg: 320x416 1 panel, 5.7ms\n",
      "image 119/1107 C:\\Users\\gnvca\\OneDrive\\Desktop\\JP\\model03S\\dataset\\images\\test\\ID6sEsRrUWq.jpg: 320x416 2 panels, 5.5ms\n",
      "image 120/1107 C:\\Users\\gnvca\\OneDrive\\Desktop\\JP\\model03S\\dataset\\images\\test\\ID6sz5aWe3WR.jpg: 320x416 (no detections), 9.4ms\n",
      "image 121/1107 C:\\Users\\gnvca\\OneDrive\\Desktop\\JP\\model03S\\dataset\\images\\test\\ID74ovPp.jpg: 320x416 2 panels, 6.6ms\n",
      "image 122/1107 C:\\Users\\gnvca\\OneDrive\\Desktop\\JP\\model03S\\dataset\\images\\test\\ID77OsZw9zZRUrSz.jpg: 320x416 (no detections), 6.3ms\n",
      "image 123/1107 C:\\Users\\gnvca\\OneDrive\\Desktop\\JP\\model03S\\dataset\\images\\test\\ID78Mkj4.jpg: 416x416 (no detections), 7.0ms\n",
      "image 124/1107 C:\\Users\\gnvca\\OneDrive\\Desktop\\JP\\model03S\\dataset\\images\\test\\ID7HWix.jpg: 352x416 2 boilers, 5.8ms\n",
      "image 125/1107 C:\\Users\\gnvca\\OneDrive\\Desktop\\JP\\model03S\\dataset\\images\\test\\ID7L7OGWB5rB5MJ.jpg: 320x416 2 panels, 6.4ms\n",
      "image 126/1107 C:\\Users\\gnvca\\OneDrive\\Desktop\\JP\\model03S\\dataset\\images\\test\\ID7MX2yBHV.jpg: 320x416 1 panel, 5.7ms\n",
      "image 127/1107 C:\\Users\\gnvca\\OneDrive\\Desktop\\JP\\model03S\\dataset\\images\\test\\ID7Z6gH3yEPaL.jpg: 320x416 (no detections), 8.5ms\n",
      "image 128/1107 C:\\Users\\gnvca\\OneDrive\\Desktop\\JP\\model03S\\dataset\\images\\test\\ID7b1mG.jpg: 320x416 1 panel, 7.1ms\n",
      "image 129/1107 C:\\Users\\gnvca\\OneDrive\\Desktop\\JP\\model03S\\dataset\\images\\test\\ID7bP8IwegsS.jpg: 320x416 2 panels, 6.2ms\n",
      "image 130/1107 C:\\Users\\gnvca\\OneDrive\\Desktop\\JP\\model03S\\dataset\\images\\test\\ID7dJcTxJ4Oq.jpg: 320x416 (no detections), 6.9ms\n",
      "image 131/1107 C:\\Users\\gnvca\\OneDrive\\Desktop\\JP\\model03S\\dataset\\images\\test\\ID7f3TT.jpg: 320x416 2 panels, 7.3ms\n",
      "image 132/1107 C:\\Users\\gnvca\\OneDrive\\Desktop\\JP\\model03S\\dataset\\images\\test\\ID7fxOa.jpg: 320x416 1 panel, 7.2ms\n",
      "image 133/1107 C:\\Users\\gnvca\\OneDrive\\Desktop\\JP\\model03S\\dataset\\images\\test\\ID7h045Y4C.jpg: 320x416 1 panel, 6.1ms\n",
      "image 134/1107 C:\\Users\\gnvca\\OneDrive\\Desktop\\JP\\model03S\\dataset\\images\\test\\ID7jcUYkolAU.jpg: 320x416 1 panel, 6.8ms\n",
      "image 135/1107 C:\\Users\\gnvca\\OneDrive\\Desktop\\JP\\model03S\\dataset\\images\\test\\ID7kdr8yU1.jpg: 416x416 16 panels, 8.3ms\n",
      "image 136/1107 C:\\Users\\gnvca\\OneDrive\\Desktop\\JP\\model03S\\dataset\\images\\test\\ID7q8XHg.jpg: 320x416 (no detections), 17.0ms\n",
      "image 137/1107 C:\\Users\\gnvca\\OneDrive\\Desktop\\JP\\model03S\\dataset\\images\\test\\ID81h1LnSPzqDc.jpg: 416x416 (no detections), 9.4ms\n",
      "image 138/1107 C:\\Users\\gnvca\\OneDrive\\Desktop\\JP\\model03S\\dataset\\images\\test\\ID82kUBG2ED.jpg: 320x416 1 panel, 11.2ms\n",
      "image 139/1107 C:\\Users\\gnvca\\OneDrive\\Desktop\\JP\\model03S\\dataset\\images\\test\\ID8BiiEb7kT5eHA.jpg: 384x416 (no detections), 11.6ms\n",
      "image 140/1107 C:\\Users\\gnvca\\OneDrive\\Desktop\\JP\\model03S\\dataset\\images\\test\\ID8JMYnMhdYd.jpg: 320x416 2 panels, 11.9ms\n",
      "image 141/1107 C:\\Users\\gnvca\\OneDrive\\Desktop\\JP\\model03S\\dataset\\images\\test\\ID8M0KobldT.jpg: 320x416 2 panels, 10.0ms\n",
      "image 142/1107 C:\\Users\\gnvca\\OneDrive\\Desktop\\JP\\model03S\\dataset\\images\\test\\ID8MnZuMJYOxg.jpg: 320x416 2 panels, 10.3ms\n",
      "image 143/1107 C:\\Users\\gnvca\\OneDrive\\Desktop\\JP\\model03S\\dataset\\images\\test\\ID8NL5ONYqWOo.jpg: 320x416 (no detections), 9.7ms\n",
      "image 144/1107 C:\\Users\\gnvca\\OneDrive\\Desktop\\JP\\model03S\\dataset\\images\\test\\ID8WF3R9.jpg: 352x416 1 boiler, 11.3ms\n",
      "image 145/1107 C:\\Users\\gnvca\\OneDrive\\Desktop\\JP\\model03S\\dataset\\images\\test\\ID8Y8mUy.jpg: 320x416 (no detections), 8.9ms\n",
      "image 146/1107 C:\\Users\\gnvca\\OneDrive\\Desktop\\JP\\model03S\\dataset\\images\\test\\ID8ZfY76DoOBe8.jpg: 416x384 6 panels, 9.5ms\n",
      "image 147/1107 C:\\Users\\gnvca\\OneDrive\\Desktop\\JP\\model03S\\dataset\\images\\test\\ID8dajtQf.jpg: 416x352 (no detections), 14.2ms\n",
      "image 148/1107 C:\\Users\\gnvca\\OneDrive\\Desktop\\JP\\model03S\\dataset\\images\\test\\ID8fvWYad6.jpg: 320x416 2 panels, 12.9ms\n",
      "image 149/1107 C:\\Users\\gnvca\\OneDrive\\Desktop\\JP\\model03S\\dataset\\images\\test\\ID8kYjwa8VELq1.jpg: 320x416 3 panels, 8.7ms\n",
      "image 150/1107 C:\\Users\\gnvca\\OneDrive\\Desktop\\JP\\model03S\\dataset\\images\\test\\ID8sNx5T5A0A0.jpg: 320x416 2 panels, 12.5ms\n",
      "image 151/1107 C:\\Users\\gnvca\\OneDrive\\Desktop\\JP\\model03S\\dataset\\images\\test\\ID8wBYTp6CHukbQ.jpg: 320x416 2 panels, 9.0ms\n",
      "image 152/1107 C:\\Users\\gnvca\\OneDrive\\Desktop\\JP\\model03S\\dataset\\images\\test\\ID90PxU6b7066KxO.jpg: 320x416 2 panels, 12.0ms\n",
      "image 153/1107 C:\\Users\\gnvca\\OneDrive\\Desktop\\JP\\model03S\\dataset\\images\\test\\ID96QaKoQJA7q.jpg: 320x416 2 panels, 10.1ms\n",
      "image 154/1107 C:\\Users\\gnvca\\OneDrive\\Desktop\\JP\\model03S\\dataset\\images\\test\\ID97jEo.jpg: 320x416 2 panels, 11.2ms\n",
      "image 155/1107 C:\\Users\\gnvca\\OneDrive\\Desktop\\JP\\model03S\\dataset\\images\\test\\ID9M2fZ5io1Am7z.jpg: 320x416 2 panels, 12.3ms\n",
      "image 156/1107 C:\\Users\\gnvca\\OneDrive\\Desktop\\JP\\model03S\\dataset\\images\\test\\ID9NZt1LjxaT.jpg: 320x416 1 panel, 12.4ms\n",
      "image 157/1107 C:\\Users\\gnvca\\OneDrive\\Desktop\\JP\\model03S\\dataset\\images\\test\\ID9PoOPGe.jpg: 320x416 2 panels, 9.7ms\n",
      "image 158/1107 C:\\Users\\gnvca\\OneDrive\\Desktop\\JP\\model03S\\dataset\\images\\test\\ID9SMscZZhXiOCa5X.jpg: 320x416 2 panels, 12.9ms\n",
      "image 159/1107 C:\\Users\\gnvca\\OneDrive\\Desktop\\JP\\model03S\\dataset\\images\\test\\ID9Um5PVu8rKEUj.jpg: 320x416 (no detections), 12.8ms\n",
      "image 160/1107 C:\\Users\\gnvca\\OneDrive\\Desktop\\JP\\model03S\\dataset\\images\\test\\ID9W3R9SLEnNC.jpg: 320x416 (no detections), 12.4ms\n",
      "image 161/1107 C:\\Users\\gnvca\\OneDrive\\Desktop\\JP\\model03S\\dataset\\images\\test\\ID9WhuR4Oly5xGClB.jpg: 320x416 2 panels, 12.9ms\n",
      "image 162/1107 C:\\Users\\gnvca\\OneDrive\\Desktop\\JP\\model03S\\dataset\\images\\test\\ID9Yw0LDtTqX.jpg: 320x416 (no detections), 10.4ms\n",
      "image 163/1107 C:\\Users\\gnvca\\OneDrive\\Desktop\\JP\\model03S\\dataset\\images\\test\\ID9bUIiQ.jpg: 320x416 2 panels, 13.8ms\n",
      "image 164/1107 C:\\Users\\gnvca\\OneDrive\\Desktop\\JP\\model03S\\dataset\\images\\test\\ID9e2pt6DFHGwijsx.jpg: 320x416 2 panels, 14.7ms\n",
      "image 165/1107 C:\\Users\\gnvca\\OneDrive\\Desktop\\JP\\model03S\\dataset\\images\\test\\ID9q48ylANuZZS.jpg: 320x416 2 panels, 15.3ms\n",
      "image 166/1107 C:\\Users\\gnvca\\OneDrive\\Desktop\\JP\\model03S\\dataset\\images\\test\\ID9seuyLG.jpg: 320x416 2 panels, 13.9ms\n",
      "image 167/1107 C:\\Users\\gnvca\\OneDrive\\Desktop\\JP\\model03S\\dataset\\images\\test\\IDA0zSwkZ5oASi.jpg: 320x416 1 panel, 14.8ms\n",
      "image 168/1107 C:\\Users\\gnvca\\OneDrive\\Desktop\\JP\\model03S\\dataset\\images\\test\\IDA5tv4oCP6.jpg: 320x416 2 panels, 15.3ms\n",
      "image 169/1107 C:\\Users\\gnvca\\OneDrive\\Desktop\\JP\\model03S\\dataset\\images\\test\\IDA6RX9I1Vuh.jpg: 320x416 1 panel, 15.5ms\n",
      "image 170/1107 C:\\Users\\gnvca\\OneDrive\\Desktop\\JP\\model03S\\dataset\\images\\test\\IDA89129BpEJwAU.jpg: 320x416 1 panel, 13.7ms\n",
      "image 171/1107 C:\\Users\\gnvca\\OneDrive\\Desktop\\JP\\model03S\\dataset\\images\\test\\IDAUaTcswJeb0.jpg: 288x416 3 panels, 15.0ms\n",
      "image 172/1107 C:\\Users\\gnvca\\OneDrive\\Desktop\\JP\\model03S\\dataset\\images\\test\\IDAYEU5cX9xzLA.jpg: 320x416 2 panels, 15.6ms\n",
      "image 173/1107 C:\\Users\\gnvca\\OneDrive\\Desktop\\JP\\model03S\\dataset\\images\\test\\IDAb6WuVG.jpg: 352x416 1 boiler, 30.6ms\n",
      "image 174/1107 C:\\Users\\gnvca\\OneDrive\\Desktop\\JP\\model03S\\dataset\\images\\test\\IDAdQgr.jpg: 320x416 (no detections), 15.4ms\n",
      "image 175/1107 C:\\Users\\gnvca\\OneDrive\\Desktop\\JP\\model03S\\dataset\\images\\test\\IDAfStbs.jpg: 320x416 (no detections), 15.1ms\n",
      "image 176/1107 C:\\Users\\gnvca\\OneDrive\\Desktop\\JP\\model03S\\dataset\\images\\test\\IDAj7qI6.jpg: 384x416 (no detections), 14.2ms\n",
      "image 177/1107 C:\\Users\\gnvca\\OneDrive\\Desktop\\JP\\model03S\\dataset\\images\\test\\IDAkkOzGQae.jpg: 320x416 2 panels, 15.6ms\n",
      "image 178/1107 C:\\Users\\gnvca\\OneDrive\\Desktop\\JP\\model03S\\dataset\\images\\test\\IDAmYZkjXOjsKeGIU.jpg: 320x416 2 panels, 15.9ms\n",
      "image 179/1107 C:\\Users\\gnvca\\OneDrive\\Desktop\\JP\\model03S\\dataset\\images\\test\\IDAoS7IW3iEfvnN.jpg: 320x416 2 panels, 15.2ms\n",
      "image 180/1107 C:\\Users\\gnvca\\OneDrive\\Desktop\\JP\\model03S\\dataset\\images\\test\\IDApVuTp42C3.jpg: 320x416 1 panel, 15.1ms\n",
      "image 181/1107 C:\\Users\\gnvca\\OneDrive\\Desktop\\JP\\model03S\\dataset\\images\\test\\IDAxHxok9DBzXDLEa.jpg: 320x416 2 panels, 14.1ms\n",
      "image 182/1107 C:\\Users\\gnvca\\OneDrive\\Desktop\\JP\\model03S\\dataset\\images\\test\\IDAylzdyizAiG1rtG.jpg: 320x416 (no detections), 12.7ms\n",
      "image 183/1107 C:\\Users\\gnvca\\OneDrive\\Desktop\\JP\\model03S\\dataset\\images\\test\\IDAzsOtNMyZoWcyRM.jpg: 320x416 2 panels, 14.4ms\n",
      "image 184/1107 C:\\Users\\gnvca\\OneDrive\\Desktop\\JP\\model03S\\dataset\\images\\test\\IDB0zyfqyrjJjue.jpg: 320x416 1 panel, 15.1ms\n",
      "image 185/1107 C:\\Users\\gnvca\\OneDrive\\Desktop\\JP\\model03S\\dataset\\images\\test\\IDB1wtjXBZ0D4.jpg: 320x416 2 panels, 13.8ms\n",
      "image 186/1107 C:\\Users\\gnvca\\OneDrive\\Desktop\\JP\\model03S\\dataset\\images\\test\\IDB2pAQWobBYGzB.jpg: 320x416 3 panels, 12.0ms\n",
      "image 187/1107 C:\\Users\\gnvca\\OneDrive\\Desktop\\JP\\model03S\\dataset\\images\\test\\IDBDUN9OVNlj.jpg: 320x416 2 panels, 14.0ms\n",
      "image 188/1107 C:\\Users\\gnvca\\OneDrive\\Desktop\\JP\\model03S\\dataset\\images\\test\\IDBGOHYo36YWK2.jpg: 320x416 2 panels, 14.9ms\n",
      "image 189/1107 C:\\Users\\gnvca\\OneDrive\\Desktop\\JP\\model03S\\dataset\\images\\test\\IDBQeR2FY.jpg: 416x384 (no detections), 23.3ms\n",
      "image 190/1107 C:\\Users\\gnvca\\OneDrive\\Desktop\\JP\\model03S\\dataset\\images\\test\\IDBSZWd3qVdR.jpg: 320x416 (no detections), 16.5ms\n",
      "image 191/1107 C:\\Users\\gnvca\\OneDrive\\Desktop\\JP\\model03S\\dataset\\images\\test\\IDBTsNvmvTyf.jpg: 320x416 1 panel, 24.4ms\n",
      "image 192/1107 C:\\Users\\gnvca\\OneDrive\\Desktop\\JP\\model03S\\dataset\\images\\test\\IDBVF4vPUv0.jpg: 320x416 1 panel, 12.1ms\n",
      "image 193/1107 C:\\Users\\gnvca\\OneDrive\\Desktop\\JP\\model03S\\dataset\\images\\test\\IDBWoelEX0Cvs.jpg: 288x416 (no detections), 15.3ms\n",
      "image 194/1107 C:\\Users\\gnvca\\OneDrive\\Desktop\\JP\\model03S\\dataset\\images\\test\\IDBZO81kDv.jpg: 320x416 2 panels, 16.2ms\n",
      "image 195/1107 C:\\Users\\gnvca\\OneDrive\\Desktop\\JP\\model03S\\dataset\\images\\test\\IDBcsjN.jpg: 320x416 (no detections), 12.1ms\n",
      "image 196/1107 C:\\Users\\gnvca\\OneDrive\\Desktop\\JP\\model03S\\dataset\\images\\test\\IDBgmREbCIsD3qXQq.jpg: 320x416 1 panel, 14.5ms\n",
      "image 197/1107 C:\\Users\\gnvca\\OneDrive\\Desktop\\JP\\model03S\\dataset\\images\\test\\IDBh4xlD.jpg: 320x416 2 panels, 14.1ms\n",
      "image 198/1107 C:\\Users\\gnvca\\OneDrive\\Desktop\\JP\\model03S\\dataset\\images\\test\\IDBlm6fCRaPycq.jpg: 320x416 2 panels, 14.6ms\n",
      "image 199/1107 C:\\Users\\gnvca\\OneDrive\\Desktop\\JP\\model03S\\dataset\\images\\test\\IDBpZlitfz.jpg: 384x416 2 panels, 18.2ms\n",
      "image 200/1107 C:\\Users\\gnvca\\OneDrive\\Desktop\\JP\\model03S\\dataset\\images\\test\\IDBqyTU.jpg: 352x416 7 panels, 17.1ms\n",
      "image 201/1107 C:\\Users\\gnvca\\OneDrive\\Desktop\\JP\\model03S\\dataset\\images\\test\\IDBxR6JNCET8YzB6P.jpg: 320x416 (no detections), 15.7ms\n",
      "image 202/1107 C:\\Users\\gnvca\\OneDrive\\Desktop\\JP\\model03S\\dataset\\images\\test\\IDBzCK4PKnZ3DYp.jpg: 416x416 7 panels, 20.5ms\n",
      "image 203/1107 C:\\Users\\gnvca\\OneDrive\\Desktop\\JP\\model03S\\dataset\\images\\test\\IDC1H005vv.jpg: 320x416 (no detections), 20.3ms\n",
      "image 204/1107 C:\\Users\\gnvca\\OneDrive\\Desktop\\JP\\model03S\\dataset\\images\\test\\IDC6pQY.jpg: 384x416 1 boiler, 16.3ms\n",
      "image 205/1107 C:\\Users\\gnvca\\OneDrive\\Desktop\\JP\\model03S\\dataset\\images\\test\\IDC7DbTJw1.jpg: 224x416 3 boilers, 29.6ms\n",
      "image 206/1107 C:\\Users\\gnvca\\OneDrive\\Desktop\\JP\\model03S\\dataset\\images\\test\\IDCDu4j8LaUZNV0T.jpg: 320x416 2 panels, 17.0ms\n",
      "image 207/1107 C:\\Users\\gnvca\\OneDrive\\Desktop\\JP\\model03S\\dataset\\images\\test\\IDCGGz8CBh.jpg: 320x416 1 panel, 14.9ms\n",
      "image 208/1107 C:\\Users\\gnvca\\OneDrive\\Desktop\\JP\\model03S\\dataset\\images\\test\\IDCKAxcKEtSBCW6.jpg: 320x416 2 panels, 14.0ms\n",
      "image 209/1107 C:\\Users\\gnvca\\OneDrive\\Desktop\\JP\\model03S\\dataset\\images\\test\\IDCKdbTD12o.jpg: 320x416 1 panel, 14.8ms\n",
      "image 210/1107 C:\\Users\\gnvca\\OneDrive\\Desktop\\JP\\model03S\\dataset\\images\\test\\IDCXC3WZ8fTpPqB4u.jpg: 320x416 1 panel, 14.2ms\n",
      "image 211/1107 C:\\Users\\gnvca\\OneDrive\\Desktop\\JP\\model03S\\dataset\\images\\test\\IDCcdnWC.jpg: 320x416 2 panels, 12.1ms\n",
      "image 212/1107 C:\\Users\\gnvca\\OneDrive\\Desktop\\JP\\model03S\\dataset\\images\\test\\IDCdEqVm8.jpg: 320x416 2 panels, 15.3ms\n",
      "image 213/1107 C:\\Users\\gnvca\\OneDrive\\Desktop\\JP\\model03S\\dataset\\images\\test\\IDCdPy5qxo6aD.jpg: 320x416 (no detections), 17.4ms\n",
      "image 214/1107 C:\\Users\\gnvca\\OneDrive\\Desktop\\JP\\model03S\\dataset\\images\\test\\IDCgowM2FHi.jpg: 320x416 2 panels, 12.1ms\n",
      "image 215/1107 C:\\Users\\gnvca\\OneDrive\\Desktop\\JP\\model03S\\dataset\\images\\test\\IDCkHt5Rt6.jpg: 320x416 (no detections), 15.0ms\n",
      "image 216/1107 C:\\Users\\gnvca\\OneDrive\\Desktop\\JP\\model03S\\dataset\\images\\test\\IDClS3NV6Qtn.jpg: 320x416 2 panels, 14.9ms\n",
      "image 217/1107 C:\\Users\\gnvca\\OneDrive\\Desktop\\JP\\model03S\\dataset\\images\\test\\IDCnYpokt8J9YSmJq.jpg: 320x416 4 panels, 14.9ms\n",
      "image 218/1107 C:\\Users\\gnvca\\OneDrive\\Desktop\\JP\\model03S\\dataset\\images\\test\\IDCy8SpRP8Dp.jpg: 320x416 1 panel, 13.2ms\n",
      "image 219/1107 C:\\Users\\gnvca\\OneDrive\\Desktop\\JP\\model03S\\dataset\\images\\test\\IDCyb1wTo.jpg: 320x416 (no detections), 14.7ms\n",
      "image 220/1107 C:\\Users\\gnvca\\OneDrive\\Desktop\\JP\\model03S\\dataset\\images\\test\\IDD0iJVRcCEr0j.jpg: 320x416 4 panels, 14.6ms\n",
      "image 221/1107 C:\\Users\\gnvca\\OneDrive\\Desktop\\JP\\model03S\\dataset\\images\\test\\IDD8ZVNUFQ2Hf.jpg: 320x416 2 panels, 14.9ms\n",
      "image 222/1107 C:\\Users\\gnvca\\OneDrive\\Desktop\\JP\\model03S\\dataset\\images\\test\\IDDAmnuvdBi.jpg: 320x416 1 panel, 15.2ms\n",
      "image 223/1107 C:\\Users\\gnvca\\OneDrive\\Desktop\\JP\\model03S\\dataset\\images\\test\\IDDF7tO.jpg: 320x416 1 panel, 14.8ms\n",
      "image 224/1107 C:\\Users\\gnvca\\OneDrive\\Desktop\\JP\\model03S\\dataset\\images\\test\\IDDHVcH2Jd5etFmY.jpg: 416x416 13 panels, 20.8ms\n",
      "image 225/1107 C:\\Users\\gnvca\\OneDrive\\Desktop\\JP\\model03S\\dataset\\images\\test\\IDDLAHHyPW.jpg: 320x416 3 panels, 21.1ms\n",
      "image 226/1107 C:\\Users\\gnvca\\OneDrive\\Desktop\\JP\\model03S\\dataset\\images\\test\\IDDPTa8I.jpg: 320x416 1 panel, 15.7ms\n",
      "image 227/1107 C:\\Users\\gnvca\\OneDrive\\Desktop\\JP\\model03S\\dataset\\images\\test\\IDDV1rcb2sZW09.jpg: 352x416 (no detections), 18.7ms\n",
      "image 228/1107 C:\\Users\\gnvca\\OneDrive\\Desktop\\JP\\model03S\\dataset\\images\\test\\IDDVN3CnZpwmyacw.jpg: 320x416 (no detections), 15.4ms\n",
      "image 229/1107 C:\\Users\\gnvca\\OneDrive\\Desktop\\JP\\model03S\\dataset\\images\\test\\IDDW5cL0.jpg: 320x416 2 panels, 14.7ms\n",
      "image 230/1107 C:\\Users\\gnvca\\OneDrive\\Desktop\\JP\\model03S\\dataset\\images\\test\\IDDXjoLTLw.jpg: 320x416 (no detections), 16.4ms\n",
      "image 231/1107 C:\\Users\\gnvca\\OneDrive\\Desktop\\JP\\model03S\\dataset\\images\\test\\IDDgn4erHVKx.jpg: 320x416 2 panels, 14.6ms\n",
      "image 232/1107 C:\\Users\\gnvca\\OneDrive\\Desktop\\JP\\model03S\\dataset\\images\\test\\IDDpc3xF04.jpg: 416x416 (no detections), 17.2ms\n",
      "image 233/1107 C:\\Users\\gnvca\\OneDrive\\Desktop\\JP\\model03S\\dataset\\images\\test\\IDDpeOGoZa.jpg: 320x416 1 panel, 16.3ms\n",
      "image 234/1107 C:\\Users\\gnvca\\OneDrive\\Desktop\\JP\\model03S\\dataset\\images\\test\\IDDpfZqI5mI8.jpg: 320x416 2 panels, 15.2ms\n",
      "image 235/1107 C:\\Users\\gnvca\\OneDrive\\Desktop\\JP\\model03S\\dataset\\images\\test\\IDDwVqY.jpg: 416x416 2 boilers, 24.0ms\n",
      "image 236/1107 C:\\Users\\gnvca\\OneDrive\\Desktop\\JP\\model03S\\dataset\\images\\test\\IDDwsERs6gKTXW4.jpg: 320x416 2 panels, 12.6ms\n",
      "image 237/1107 C:\\Users\\gnvca\\OneDrive\\Desktop\\JP\\model03S\\dataset\\images\\test\\IDDzy72Q.jpg: 320x416 2 panels, 14.5ms\n",
      "image 238/1107 C:\\Users\\gnvca\\OneDrive\\Desktop\\JP\\model03S\\dataset\\images\\test\\IDE1fiYjgO.jpg: 320x416 (no detections), 17.2ms\n",
      "image 239/1107 C:\\Users\\gnvca\\OneDrive\\Desktop\\JP\\model03S\\dataset\\images\\test\\IDE2Ye8LKLjsheXRM.jpg: 320x416 1 panel, 14.7ms\n",
      "image 240/1107 C:\\Users\\gnvca\\OneDrive\\Desktop\\JP\\model03S\\dataset\\images\\test\\IDE8mgSMQMERT.jpg: 320x416 1 panel, 13.2ms\n",
      "image 241/1107 C:\\Users\\gnvca\\OneDrive\\Desktop\\JP\\model03S\\dataset\\images\\test\\IDEA3IGuh.jpg: 288x416 (no detections), 16.4ms\n",
      "image 242/1107 C:\\Users\\gnvca\\OneDrive\\Desktop\\JP\\model03S\\dataset\\images\\test\\IDEAoIrMYqKi.jpg: 320x416 2 panels, 20.7ms\n",
      "image 243/1107 C:\\Users\\gnvca\\OneDrive\\Desktop\\JP\\model03S\\dataset\\images\\test\\IDEC9Zeb.jpg: 288x416 1 panel, 21.5ms\n",
      "image 244/1107 C:\\Users\\gnvca\\OneDrive\\Desktop\\JP\\model03S\\dataset\\images\\test\\IDEIMnBHoWAphFcK.jpg: 320x416 2 panels, 15.4ms\n",
      "image 245/1107 C:\\Users\\gnvca\\OneDrive\\Desktop\\JP\\model03S\\dataset\\images\\test\\IDEM6lqG.jpg: 320x416 (no detections), 14.5ms\n",
      "image 246/1107 C:\\Users\\gnvca\\OneDrive\\Desktop\\JP\\model03S\\dataset\\images\\test\\IDEMlUxogrpf5.jpg: 320x416 3 panels, 13.3ms\n",
      "image 247/1107 C:\\Users\\gnvca\\OneDrive\\Desktop\\JP\\model03S\\dataset\\images\\test\\IDEPRHDYOghx.jpg: 320x416 1 panel, 13.0ms\n",
      "image 248/1107 C:\\Users\\gnvca\\OneDrive\\Desktop\\JP\\model03S\\dataset\\images\\test\\IDETMNAGhhrWI.jpg: 320x416 (no detections), 14.5ms\n",
      "image 249/1107 C:\\Users\\gnvca\\OneDrive\\Desktop\\JP\\model03S\\dataset\\images\\test\\IDEe6iXTgt.jpg: 320x416 (no detections), 14.4ms\n",
      "image 250/1107 C:\\Users\\gnvca\\OneDrive\\Desktop\\JP\\model03S\\dataset\\images\\test\\IDEs68Bci8cfLHJo.jpg: 192x416 (no detections), 10.9ms\n",
      "image 251/1107 C:\\Users\\gnvca\\OneDrive\\Desktop\\JP\\model03S\\dataset\\images\\test\\IDEuh15aqGWPu.jpg: 416x256 (no detections), 19.4ms\n",
      "image 252/1107 C:\\Users\\gnvca\\OneDrive\\Desktop\\JP\\model03S\\dataset\\images\\test\\IDEvpb6v4OOe0Y.jpg: 352x416 (no detections), 15.0ms\n",
      "image 253/1107 C:\\Users\\gnvca\\OneDrive\\Desktop\\JP\\model03S\\dataset\\images\\test\\IDEwGnmQlltf.jpg: 256x416 (no detections), 33.8ms\n",
      "image 254/1107 C:\\Users\\gnvca\\OneDrive\\Desktop\\JP\\model03S\\dataset\\images\\test\\IDEyShR.jpg: 320x416 (no detections), 11.4ms\n",
      "image 255/1107 C:\\Users\\gnvca\\OneDrive\\Desktop\\JP\\model03S\\dataset\\images\\test\\IDF2nDTmv7b1.jpg: 320x416 (no detections), 13.0ms\n",
      "image 256/1107 C:\\Users\\gnvca\\OneDrive\\Desktop\\JP\\model03S\\dataset\\images\\test\\IDF4jqxKoNU8Vc.jpg: 320x416 2 panels, 13.6ms\n",
      "image 257/1107 C:\\Users\\gnvca\\OneDrive\\Desktop\\JP\\model03S\\dataset\\images\\test\\IDF5A5nwEnb.jpg: 320x416 2 panels, 14.0ms\n",
      "image 258/1107 C:\\Users\\gnvca\\OneDrive\\Desktop\\JP\\model03S\\dataset\\images\\test\\IDF5IjWvf67.jpg: 320x416 1 panel, 11.2ms\n",
      "image 259/1107 C:\\Users\\gnvca\\OneDrive\\Desktop\\JP\\model03S\\dataset\\images\\test\\IDF9OFLKW27eo6e.jpg: 320x416 (no detections), 13.7ms\n",
      "image 260/1107 C:\\Users\\gnvca\\OneDrive\\Desktop\\JP\\model03S\\dataset\\images\\test\\IDFAZjkhvieGj865E.jpg: 320x416 1 panel, 15.1ms\n",
      "image 261/1107 C:\\Users\\gnvca\\OneDrive\\Desktop\\JP\\model03S\\dataset\\images\\test\\IDFDU5Sj4e.jpg: 320x416 (no detections), 12.0ms\n",
      "image 262/1107 C:\\Users\\gnvca\\OneDrive\\Desktop\\JP\\model03S\\dataset\\images\\test\\IDFKClc.jpg: 320x416 (no detections), 14.0ms\n",
      "image 263/1107 C:\\Users\\gnvca\\OneDrive\\Desktop\\JP\\model03S\\dataset\\images\\test\\IDFKWhA.jpg: 320x416 (no detections), 13.9ms\n",
      "image 264/1107 C:\\Users\\gnvca\\OneDrive\\Desktop\\JP\\model03S\\dataset\\images\\test\\IDFKul110Y7cX8.jpg: 320x416 (no detections), 13.4ms\n",
      "image 265/1107 C:\\Users\\gnvca\\OneDrive\\Desktop\\JP\\model03S\\dataset\\images\\test\\IDFNa0FuDwDmQiD.jpg: 320x416 2 panels, 13.8ms\n",
      "image 266/1107 C:\\Users\\gnvca\\OneDrive\\Desktop\\JP\\model03S\\dataset\\images\\test\\IDFQFXzy.jpg: 416x416 2 panels, 22.5ms\n",
      "image 267/1107 C:\\Users\\gnvca\\OneDrive\\Desktop\\JP\\model03S\\dataset\\images\\test\\IDFUHKuId.jpg: 320x416 4 panels, 13.2ms\n",
      "image 268/1107 C:\\Users\\gnvca\\OneDrive\\Desktop\\JP\\model03S\\dataset\\images\\test\\IDFWrhU5Fkan.jpg: 320x416 1 panel, 13.1ms\n",
      "image 269/1107 C:\\Users\\gnvca\\OneDrive\\Desktop\\JP\\model03S\\dataset\\images\\test\\IDFaqVEUjZHgiU6.jpg: 320x416 2 panels, 15.7ms\n",
      "image 270/1107 C:\\Users\\gnvca\\OneDrive\\Desktop\\JP\\model03S\\dataset\\images\\test\\IDFc5aOF9kvvlSKn.jpg: 320x416 1 panel, 13.1ms\n",
      "image 271/1107 C:\\Users\\gnvca\\OneDrive\\Desktop\\JP\\model03S\\dataset\\images\\test\\IDFmke9C.jpg: 320x416 (no detections), 12.9ms\n",
      "image 272/1107 C:\\Users\\gnvca\\OneDrive\\Desktop\\JP\\model03S\\dataset\\images\\test\\IDFnMhurg76W1RUK.jpg: 320x416 1 panel, 22.2ms\n",
      "image 273/1107 C:\\Users\\gnvca\\OneDrive\\Desktop\\JP\\model03S\\dataset\\images\\test\\IDFnwkQ.jpg: 320x416 1 panel, 17.5ms\n",
      "image 274/1107 C:\\Users\\gnvca\\OneDrive\\Desktop\\JP\\model03S\\dataset\\images\\test\\IDFpzKdLAo.jpg: 320x416 (no detections), 16.3ms\n",
      "image 275/1107 C:\\Users\\gnvca\\OneDrive\\Desktop\\JP\\model03S\\dataset\\images\\test\\IDFq38fVBc9.jpg: 320x416 1 panel, 18.1ms\n",
      "image 276/1107 C:\\Users\\gnvca\\OneDrive\\Desktop\\JP\\model03S\\dataset\\images\\test\\IDFsIy1n6Z.jpg: 320x416 1 panel, 19.6ms\n",
      "image 277/1107 C:\\Users\\gnvca\\OneDrive\\Desktop\\JP\\model03S\\dataset\\images\\test\\IDFxmMFRpbs.jpg: 320x416 (no detections), 18.0ms\n",
      "image 278/1107 C:\\Users\\gnvca\\OneDrive\\Desktop\\JP\\model03S\\dataset\\images\\test\\IDFzhyb5lPz.jpg: 320x416 (no detections), 17.9ms\n",
      "image 279/1107 C:\\Users\\gnvca\\OneDrive\\Desktop\\JP\\model03S\\dataset\\images\\test\\IDG1AkIPbSV.jpg: 320x416 (no detections), 25.1ms\n",
      "image 280/1107 C:\\Users\\gnvca\\OneDrive\\Desktop\\JP\\model03S\\dataset\\images\\test\\IDG5lTLIt9O.jpg: 320x416 (no detections), 18.8ms\n",
      "image 281/1107 C:\\Users\\gnvca\\OneDrive\\Desktop\\JP\\model03S\\dataset\\images\\test\\IDG94VRtYi0FsZ.jpg: 320x416 1 panel, 12.1ms\n",
      "image 282/1107 C:\\Users\\gnvca\\OneDrive\\Desktop\\JP\\model03S\\dataset\\images\\test\\IDGDNyCCkaKLzXCM.jpg: 320x416 2 panels, 18.4ms\n",
      "image 283/1107 C:\\Users\\gnvca\\OneDrive\\Desktop\\JP\\model03S\\dataset\\images\\test\\IDGKXoUKZZIMiwIA.jpg: 320x416 1 panel, 27.9ms\n",
      "image 284/1107 C:\\Users\\gnvca\\OneDrive\\Desktop\\JP\\model03S\\dataset\\images\\test\\IDGPlef7MvMDtw.jpg: 320x416 3 panels, 14.5ms\n",
      "image 285/1107 C:\\Users\\gnvca\\OneDrive\\Desktop\\JP\\model03S\\dataset\\images\\test\\IDGR80BE8mvNUCNN3.jpg: 192x416 (no detections), 16.1ms\n",
      "image 286/1107 C:\\Users\\gnvca\\OneDrive\\Desktop\\JP\\model03S\\dataset\\images\\test\\IDGUy652Ws9OT5W8v.jpg: 320x416 2 panels, 18.1ms\n",
      "image 287/1107 C:\\Users\\gnvca\\OneDrive\\Desktop\\JP\\model03S\\dataset\\images\\test\\IDGd4vXS.jpg: 320x416 (no detections), 15.9ms\n",
      "image 288/1107 C:\\Users\\gnvca\\OneDrive\\Desktop\\JP\\model03S\\dataset\\images\\test\\IDGfz4VMkN.jpg: 320x416 1 panel, 12.0ms\n",
      "image 289/1107 C:\\Users\\gnvca\\OneDrive\\Desktop\\JP\\model03S\\dataset\\images\\test\\IDGi28ybRJegVvn.jpg: 416x416 (no detections), 17.3ms\n",
      "image 290/1107 C:\\Users\\gnvca\\OneDrive\\Desktop\\JP\\model03S\\dataset\\images\\test\\IDGmQhncDYrgwrH.jpg: 320x416 1 panel, 17.7ms\n",
      "image 291/1107 C:\\Users\\gnvca\\OneDrive\\Desktop\\JP\\model03S\\dataset\\images\\test\\IDGmoxZt1kCAHSwND.jpg: 320x416 2 panels, 18.8ms\n",
      "image 292/1107 C:\\Users\\gnvca\\OneDrive\\Desktop\\JP\\model03S\\dataset\\images\\test\\IDGtye16mV1WRf.jpg: 320x416 2 panels, 13.3ms\n",
      "image 293/1107 C:\\Users\\gnvca\\OneDrive\\Desktop\\JP\\model03S\\dataset\\images\\test\\IDGuf5l0pfY4dlC.jpg: 320x416 3 panels, 16.7ms\n",
      "image 294/1107 C:\\Users\\gnvca\\OneDrive\\Desktop\\JP\\model03S\\dataset\\images\\test\\IDH0i3q.jpg: 320x416 1 panel, 16.6ms\n",
      "image 295/1107 C:\\Users\\gnvca\\OneDrive\\Desktop\\JP\\model03S\\dataset\\images\\test\\IDH16qvhuu2FN.jpg: 320x416 2 panels, 16.0ms\n",
      "image 296/1107 C:\\Users\\gnvca\\OneDrive\\Desktop\\JP\\model03S\\dataset\\images\\test\\IDH5U5dqwhKN30uTz.jpg: 320x416 (no detections), 16.1ms\n",
      "image 297/1107 C:\\Users\\gnvca\\OneDrive\\Desktop\\JP\\model03S\\dataset\\images\\test\\IDHCu7gnVkXD0s.jpg: 320x416 2 panels, 16.3ms\n",
      "image 298/1107 C:\\Users\\gnvca\\OneDrive\\Desktop\\JP\\model03S\\dataset\\images\\test\\IDHEYX4VMXCjwaqbs.jpg: 320x416 3 panels, 13.0ms\n",
      "image 299/1107 C:\\Users\\gnvca\\OneDrive\\Desktop\\JP\\model03S\\dataset\\images\\test\\IDHFoUKbxGP.jpg: 320x416 2 panels, 16.6ms\n",
      "image 300/1107 C:\\Users\\gnvca\\OneDrive\\Desktop\\JP\\model03S\\dataset\\images\\test\\IDHILD8DnJZTuUg.jpg: 320x416 3 panels, 17.4ms\n",
      "image 301/1107 C:\\Users\\gnvca\\OneDrive\\Desktop\\JP\\model03S\\dataset\\images\\test\\IDHIi7sOPf.jpg: 320x416 (no detections), 13.6ms\n",
      "image 302/1107 C:\\Users\\gnvca\\OneDrive\\Desktop\\JP\\model03S\\dataset\\images\\test\\IDHJ3hdZY0DABxwn2.jpg: 320x416 (no detections), 26.5ms\n",
      "image 303/1107 C:\\Users\\gnvca\\OneDrive\\Desktop\\JP\\model03S\\dataset\\images\\test\\IDHJnBm87ZUS8obg.jpg: 320x416 1 panel, 12.8ms\n",
      "image 304/1107 C:\\Users\\gnvca\\OneDrive\\Desktop\\JP\\model03S\\dataset\\images\\test\\IDHOC1FvOv3yFPOl.jpg: 320x416 (no detections), 15.7ms\n",
      "image 305/1107 C:\\Users\\gnvca\\OneDrive\\Desktop\\JP\\model03S\\dataset\\images\\test\\IDHWKIVSCFhCK4.jpg: 384x416 (no detections), 17.6ms\n",
      "image 306/1107 C:\\Users\\gnvca\\OneDrive\\Desktop\\JP\\model03S\\dataset\\images\\test\\IDHXwqtTeZa5pc6o9.jpg: 320x416 (no detections), 16.4ms\n",
      "image 307/1107 C:\\Users\\gnvca\\OneDrive\\Desktop\\JP\\model03S\\dataset\\images\\test\\IDHZK21FetRA.jpg: 320x416 (no detections), 18.1ms\n",
      "image 308/1107 C:\\Users\\gnvca\\OneDrive\\Desktop\\JP\\model03S\\dataset\\images\\test\\IDHavhM.jpg: 320x416 (no detections), 17.8ms\n",
      "image 309/1107 C:\\Users\\gnvca\\OneDrive\\Desktop\\JP\\model03S\\dataset\\images\\test\\IDHdtxlSc.jpg: 320x416 1 panel, 13.0ms\n",
      "image 310/1107 C:\\Users\\gnvca\\OneDrive\\Desktop\\JP\\model03S\\dataset\\images\\test\\IDHfdl87Y.jpg: 320x416 2 panels, 16.6ms\n",
      "image 311/1107 C:\\Users\\gnvca\\OneDrive\\Desktop\\JP\\model03S\\dataset\\images\\test\\IDHmTcHZd7BE3B.jpg: 320x416 (no detections), 15.0ms\n",
      "image 312/1107 C:\\Users\\gnvca\\OneDrive\\Desktop\\JP\\model03S\\dataset\\images\\test\\IDHnnVg9DXD.jpg: 352x416 2 panels, 16.7ms\n",
      "image 313/1107 C:\\Users\\gnvca\\OneDrive\\Desktop\\JP\\model03S\\dataset\\images\\test\\IDHqbxPzif.jpg: 320x416 (no detections), 16.9ms\n",
      "image 314/1107 C:\\Users\\gnvca\\OneDrive\\Desktop\\JP\\model03S\\dataset\\images\\test\\IDHsKXa3RjvFHP.jpg: 320x416 2 panels, 15.3ms\n",
      "image 315/1107 C:\\Users\\gnvca\\OneDrive\\Desktop\\JP\\model03S\\dataset\\images\\test\\IDHtVTOt8KNNO.jpg: 320x416 (no detections), 15.2ms\n",
      "image 316/1107 C:\\Users\\gnvca\\OneDrive\\Desktop\\JP\\model03S\\dataset\\images\\test\\IDHvsezZ7HM.jpg: 320x416 1 panel, 12.0ms\n",
      "image 317/1107 C:\\Users\\gnvca\\OneDrive\\Desktop\\JP\\model03S\\dataset\\images\\test\\IDI06IBMc.jpg: 320x416 1 panel, 13.5ms\n",
      "image 318/1107 C:\\Users\\gnvca\\OneDrive\\Desktop\\JP\\model03S\\dataset\\images\\test\\IDIAdM52mOZC.jpg: 320x416 2 panels, 14.9ms\n",
      "image 319/1107 C:\\Users\\gnvca\\OneDrive\\Desktop\\JP\\model03S\\dataset\\images\\test\\IDIFJJRBEBaS9GJMw.jpg: 320x416 (no detections), 14.6ms\n",
      "image 320/1107 C:\\Users\\gnvca\\OneDrive\\Desktop\\JP\\model03S\\dataset\\images\\test\\IDIIDOmJe.jpg: 320x416 3 panels, 17.7ms\n",
      "image 321/1107 C:\\Users\\gnvca\\OneDrive\\Desktop\\JP\\model03S\\dataset\\images\\test\\IDIJzc5uol6.jpg: 352x416 1 boiler, 17.1ms\n",
      "image 322/1107 C:\\Users\\gnvca\\OneDrive\\Desktop\\JP\\model03S\\dataset\\images\\test\\IDIM3qyRZyJb0CzL.jpg: 416x384 3 panels, 17.0ms\n",
      "image 323/1107 C:\\Users\\gnvca\\OneDrive\\Desktop\\JP\\model03S\\dataset\\images\\test\\IDIM8ZYNWC9cpJ.jpg: 320x416 (no detections), 18.1ms\n",
      "image 324/1107 C:\\Users\\gnvca\\OneDrive\\Desktop\\JP\\model03S\\dataset\\images\\test\\IDIN7Y20PpzPk93B.jpg: 320x416 1 panel, 13.6ms\n",
      "image 325/1107 C:\\Users\\gnvca\\OneDrive\\Desktop\\JP\\model03S\\dataset\\images\\test\\IDINWneOxB70u.jpg: 320x416 4 panels, 14.0ms\n",
      "image 326/1107 C:\\Users\\gnvca\\OneDrive\\Desktop\\JP\\model03S\\dataset\\images\\test\\IDISZpcq8rWB.jpg: 320x416 (no detections), 16.7ms\n",
      "image 327/1107 C:\\Users\\gnvca\\OneDrive\\Desktop\\JP\\model03S\\dataset\\images\\test\\IDITL86p88LLHY1.jpg: 320x416 2 panels, 16.3ms\n",
      "image 328/1107 C:\\Users\\gnvca\\OneDrive\\Desktop\\JP\\model03S\\dataset\\images\\test\\IDIWJ7wFYVu6qMjf.jpg: 320x416 2 panels, 16.3ms\n",
      "image 329/1107 C:\\Users\\gnvca\\OneDrive\\Desktop\\JP\\model03S\\dataset\\images\\test\\IDIZ70v.jpg: 320x416 1 panel, 15.0ms\n",
      "image 330/1107 C:\\Users\\gnvca\\OneDrive\\Desktop\\JP\\model03S\\dataset\\images\\test\\IDIfcox6I7n1.jpg: 352x416 1 boiler, 19.3ms\n",
      "image 331/1107 C:\\Users\\gnvca\\OneDrive\\Desktop\\JP\\model03S\\dataset\\images\\test\\IDIfuBIn.jpg: 320x416 3 panels, 16.6ms\n",
      "image 332/1107 C:\\Users\\gnvca\\OneDrive\\Desktop\\JP\\model03S\\dataset\\images\\test\\IDIgkWDaqwXXozOI.jpg: 320x416 1 panel, 15.2ms\n",
      "image 333/1107 C:\\Users\\gnvca\\OneDrive\\Desktop\\JP\\model03S\\dataset\\images\\test\\IDIhOTILMHz5wPCY.jpg: 320x416 (no detections), 27.6ms\n",
      "image 334/1107 C:\\Users\\gnvca\\OneDrive\\Desktop\\JP\\model03S\\dataset\\images\\test\\IDIl79K8GJtMJY.jpg: 320x416 1 panel, 22.3ms\n",
      "image 335/1107 C:\\Users\\gnvca\\OneDrive\\Desktop\\JP\\model03S\\dataset\\images\\test\\IDIlPrCkH.jpg: 320x416 2 panels, 24.6ms\n",
      "image 336/1107 C:\\Users\\gnvca\\OneDrive\\Desktop\\JP\\model03S\\dataset\\images\\test\\IDIqWPdIM.jpg: 384x416 (no detections), 25.1ms\n",
      "image 337/1107 C:\\Users\\gnvca\\OneDrive\\Desktop\\JP\\model03S\\dataset\\images\\test\\IDIr2jkBOUL.jpg: 320x416 1 panel, 16.3ms\n",
      "image 338/1107 C:\\Users\\gnvca\\OneDrive\\Desktop\\JP\\model03S\\dataset\\images\\test\\IDIwmLztUQeps2t1N.jpg: 320x416 3 panels, 17.0ms\n",
      "image 339/1107 C:\\Users\\gnvca\\OneDrive\\Desktop\\JP\\model03S\\dataset\\images\\test\\IDIx92GuElKj7Hhsv.jpg: 320x416 1 panel, 12.1ms\n",
      "image 340/1107 C:\\Users\\gnvca\\OneDrive\\Desktop\\JP\\model03S\\dataset\\images\\test\\IDJ2MEHdcAj6u8.jpg: 352x416 1 panel, 19.0ms\n",
      "image 341/1107 C:\\Users\\gnvca\\OneDrive\\Desktop\\JP\\model03S\\dataset\\images\\test\\IDJ8soN.jpg: 320x416 (no detections), 17.5ms\n",
      "image 342/1107 C:\\Users\\gnvca\\OneDrive\\Desktop\\JP\\model03S\\dataset\\images\\test\\IDJ9aNFsYme2.jpg: 320x416 4 panels, 16.3ms\n",
      "image 343/1107 C:\\Users\\gnvca\\OneDrive\\Desktop\\JP\\model03S\\dataset\\images\\test\\IDJF1FIr94ICgh4E.jpg: 320x416 (no detections), 14.6ms\n",
      "image 344/1107 C:\\Users\\gnvca\\OneDrive\\Desktop\\JP\\model03S\\dataset\\images\\test\\IDJItSr4H.jpg: 320x416 2 panels, 15.2ms\n",
      "image 345/1107 C:\\Users\\gnvca\\OneDrive\\Desktop\\JP\\model03S\\dataset\\images\\test\\IDJKLLPfEMAQ1SR.jpg: 320x416 (no detections), 17.5ms\n",
      "image 346/1107 C:\\Users\\gnvca\\OneDrive\\Desktop\\JP\\model03S\\dataset\\images\\test\\IDJPzvEJZhf2a.jpg: 224x416 (no detections), 16.2ms\n",
      "image 347/1107 C:\\Users\\gnvca\\OneDrive\\Desktop\\JP\\model03S\\dataset\\images\\test\\IDJQF2ZS.jpg: 320x416 2 panels, 12.6ms\n",
      "image 348/1107 C:\\Users\\gnvca\\OneDrive\\Desktop\\JP\\model03S\\dataset\\images\\test\\IDJS4VzDnTtJ.jpg: 320x416 2 panels, 13.2ms\n",
      "image 349/1107 C:\\Users\\gnvca\\OneDrive\\Desktop\\JP\\model03S\\dataset\\images\\test\\IDJUgiW.jpg: 416x352 1 boiler, 23.2ms\n",
      "image 350/1107 C:\\Users\\gnvca\\OneDrive\\Desktop\\JP\\model03S\\dataset\\images\\test\\IDJVD2rN.jpg: 320x416 2 panels, 18.9ms\n",
      "image 351/1107 C:\\Users\\gnvca\\OneDrive\\Desktop\\JP\\model03S\\dataset\\images\\test\\IDJZtxOMkpiYRa.jpg: 320x416 2 panels, 16.0ms\n",
      "image 352/1107 C:\\Users\\gnvca\\OneDrive\\Desktop\\JP\\model03S\\dataset\\images\\test\\IDJcjqW7rB1lwZqFx.jpg: 320x416 2 panels, 17.2ms\n",
      "image 353/1107 C:\\Users\\gnvca\\OneDrive\\Desktop\\JP\\model03S\\dataset\\images\\test\\IDJecFNJguvTRy.jpg: 320x416 2 panels, 14.9ms\n",
      "image 354/1107 C:\\Users\\gnvca\\OneDrive\\Desktop\\JP\\model03S\\dataset\\images\\test\\IDJgqLVP4.jpg: 320x416 2 panels, 12.1ms\n",
      "image 355/1107 C:\\Users\\gnvca\\OneDrive\\Desktop\\JP\\model03S\\dataset\\images\\test\\IDJjPgyGge1TnPgJv.jpg: 320x416 2 panels, 12.1ms\n",
      "image 356/1107 C:\\Users\\gnvca\\OneDrive\\Desktop\\JP\\model03S\\dataset\\images\\test\\IDJm4eh3XgV5Bg.jpg: 320x416 2 panels, 12.1ms\n",
      "image 357/1107 C:\\Users\\gnvca\\OneDrive\\Desktop\\JP\\model03S\\dataset\\images\\test\\IDJs41T23jz5WOuo.jpg: 320x416 (no detections), 17.7ms\n",
      "image 358/1107 C:\\Users\\gnvca\\OneDrive\\Desktop\\JP\\model03S\\dataset\\images\\test\\IDJyx6xO9.jpg: 416x384 1 boiler, 18.0ms\n",
      "image 359/1107 C:\\Users\\gnvca\\OneDrive\\Desktop\\JP\\model03S\\dataset\\images\\test\\IDK0gON4uZv8m.jpg: 320x416 2 panels, 16.8ms\n",
      "image 360/1107 C:\\Users\\gnvca\\OneDrive\\Desktop\\JP\\model03S\\dataset\\images\\test\\IDK0qLYlueh7zi.jpg: 320x416 (no detections), 16.0ms\n",
      "image 361/1107 C:\\Users\\gnvca\\OneDrive\\Desktop\\JP\\model03S\\dataset\\images\\test\\IDK6FSBNg6hTpcj.jpg: 320x416 2 panels, 17.8ms\n",
      "image 362/1107 C:\\Users\\gnvca\\OneDrive\\Desktop\\JP\\model03S\\dataset\\images\\test\\IDK6NUIqlE0HwT9.jpg: 320x416 2 panels, 16.5ms\n",
      "image 363/1107 C:\\Users\\gnvca\\OneDrive\\Desktop\\JP\\model03S\\dataset\\images\\test\\IDK6mJLUMf.jpg: 320x416 (no detections), 12.0ms\n",
      "image 364/1107 C:\\Users\\gnvca\\OneDrive\\Desktop\\JP\\model03S\\dataset\\images\\test\\IDK6t3c22YXu3tnGK.jpg: 320x416 2 panels, 17.4ms\n",
      "image 365/1107 C:\\Users\\gnvca\\OneDrive\\Desktop\\JP\\model03S\\dataset\\images\\test\\IDK6t6RbHOvqIBtXF.jpg: 320x416 (no detections), 13.0ms\n",
      "image 366/1107 C:\\Users\\gnvca\\OneDrive\\Desktop\\JP\\model03S\\dataset\\images\\test\\IDK882SHZ1oD3z.jpg: 320x416 3 panels, 12.1ms\n",
      "image 367/1107 C:\\Users\\gnvca\\OneDrive\\Desktop\\JP\\model03S\\dataset\\images\\test\\IDKBV4od6RPa.jpg: 320x416 2 panels, 17.6ms\n",
      "image 368/1107 C:\\Users\\gnvca\\OneDrive\\Desktop\\JP\\model03S\\dataset\\images\\test\\IDKCqD5tg3u.jpg: 320x416 2 panels, 17.7ms\n",
      "image 369/1107 C:\\Users\\gnvca\\OneDrive\\Desktop\\JP\\model03S\\dataset\\images\\test\\IDKEUzONz.jpg: 320x416 1 panel, 12.1ms\n",
      "image 370/1107 C:\\Users\\gnvca\\OneDrive\\Desktop\\JP\\model03S\\dataset\\images\\test\\IDKHE2jX.jpg: 320x416 (no detections), 18.2ms\n",
      "image 371/1107 C:\\Users\\gnvca\\OneDrive\\Desktop\\JP\\model03S\\dataset\\images\\test\\IDKHvdtrjzVQ.jpg: 320x416 2 panels, 12.1ms\n",
      "image 372/1107 C:\\Users\\gnvca\\OneDrive\\Desktop\\JP\\model03S\\dataset\\images\\test\\IDKN6hQUq3bX.jpg: 320x416 2 panels, 17.4ms\n",
      "image 373/1107 C:\\Users\\gnvca\\OneDrive\\Desktop\\JP\\model03S\\dataset\\images\\test\\IDKPtNdjHynOtygE.jpg: 320x416 2 panels, 17.7ms\n",
      "image 374/1107 C:\\Users\\gnvca\\OneDrive\\Desktop\\JP\\model03S\\dataset\\images\\test\\IDKVu0o7UiNsnD0Kk.jpg: 320x416 1 panel, 12.1ms\n",
      "image 375/1107 C:\\Users\\gnvca\\OneDrive\\Desktop\\JP\\model03S\\dataset\\images\\test\\IDKZJc7MGSN.jpg: 320x416 1 panel, 17.9ms\n",
      "image 376/1107 C:\\Users\\gnvca\\OneDrive\\Desktop\\JP\\model03S\\dataset\\images\\test\\IDKgQonsJWDoRjb3.jpg: 320x416 (no detections), 17.7ms\n",
      "image 377/1107 C:\\Users\\gnvca\\OneDrive\\Desktop\\JP\\model03S\\dataset\\images\\test\\IDKiLWnPnPXmg3.jpg: 320x416 2 panels, 16.1ms\n",
      "image 378/1107 C:\\Users\\gnvca\\OneDrive\\Desktop\\JP\\model03S\\dataset\\images\\test\\IDKnaHg0oiDMoz.jpg: 320x416 2 panels, 18.3ms\n",
      "image 379/1107 C:\\Users\\gnvca\\OneDrive\\Desktop\\JP\\model03S\\dataset\\images\\test\\IDKoYUe1Wc8.jpg: 320x416 2 panels, 12.1ms\n",
      "image 380/1107 C:\\Users\\gnvca\\OneDrive\\Desktop\\JP\\model03S\\dataset\\images\\test\\IDKrRNdjS1E.jpg: 320x416 2 panels, 17.6ms\n",
      "image 381/1107 C:\\Users\\gnvca\\OneDrive\\Desktop\\JP\\model03S\\dataset\\images\\test\\IDKrSuEjdC4P.jpg: 320x416 2 panels, 16.2ms\n",
      "image 382/1107 C:\\Users\\gnvca\\OneDrive\\Desktop\\JP\\model03S\\dataset\\images\\test\\IDKrqli.jpg: 320x416 (no detections), 15.7ms\n",
      "image 383/1107 C:\\Users\\gnvca\\OneDrive\\Desktop\\JP\\model03S\\dataset\\images\\test\\IDKsG3vt.jpg: 320x416 5 panels, 21.7ms\n",
      "image 384/1107 C:\\Users\\gnvca\\OneDrive\\Desktop\\JP\\model03S\\dataset\\images\\test\\IDKtF1CeNRz9g0x.jpg: 256x416 1 panel, 19.4ms\n",
      "image 385/1107 C:\\Users\\gnvca\\OneDrive\\Desktop\\JP\\model03S\\dataset\\images\\test\\IDKvGcqSmZA8qmMYP.jpg: 416x416 (no detections), 27.6ms\n",
      "image 386/1107 C:\\Users\\gnvca\\OneDrive\\Desktop\\JP\\model03S\\dataset\\images\\test\\IDKyI51Rf8tm.jpg: 320x416 (no detections), 20.2ms\n",
      "image 387/1107 C:\\Users\\gnvca\\OneDrive\\Desktop\\JP\\model03S\\dataset\\images\\test\\IDL2kHjS.jpg: 320x416 2 panels, 12.0ms\n",
      "image 388/1107 C:\\Users\\gnvca\\OneDrive\\Desktop\\JP\\model03S\\dataset\\images\\test\\IDL44beN.jpg: 416x416 (no detections), 18.9ms\n",
      "image 389/1107 C:\\Users\\gnvca\\OneDrive\\Desktop\\JP\\model03S\\dataset\\images\\test\\IDL46Fnc6PY4E.jpg: 416x416 3 panels, 19.1ms\n",
      "image 390/1107 C:\\Users\\gnvca\\OneDrive\\Desktop\\JP\\model03S\\dataset\\images\\test\\IDL6NaRNLLn9MbR.jpg: 320x416 (no detections), 15.0ms\n",
      "image 391/1107 C:\\Users\\gnvca\\OneDrive\\Desktop\\JP\\model03S\\dataset\\images\\test\\IDL927XZBhgyobC.jpg: 320x416 1 panel, 12.0ms\n",
      "image 392/1107 C:\\Users\\gnvca\\OneDrive\\Desktop\\JP\\model03S\\dataset\\images\\test\\IDL9wX7t3MpVd.jpg: 320x416 (no detections), 13.3ms\n",
      "image 393/1107 C:\\Users\\gnvca\\OneDrive\\Desktop\\JP\\model03S\\dataset\\images\\test\\IDLFnxZdIRqAxI.jpg: 320x416 1 panel, 16.5ms\n",
      "image 394/1107 C:\\Users\\gnvca\\OneDrive\\Desktop\\JP\\model03S\\dataset\\images\\test\\IDLHY6K77bSVERJb.jpg: 288x416 (no detections), 12.4ms\n",
      "image 395/1107 C:\\Users\\gnvca\\OneDrive\\Desktop\\JP\\model03S\\dataset\\images\\test\\IDLM7WrW5LOw0JE42.jpg: 320x416 2 panels, 18.5ms\n",
      "image 396/1107 C:\\Users\\gnvca\\OneDrive\\Desktop\\JP\\model03S\\dataset\\images\\test\\IDLMOoYDz9M8N.jpg: 320x416 2 panels, 14.8ms\n",
      "image 397/1107 C:\\Users\\gnvca\\OneDrive\\Desktop\\JP\\model03S\\dataset\\images\\test\\IDLN4CraOUqR9.jpg: 320x416 2 panels, 14.7ms\n",
      "image 398/1107 C:\\Users\\gnvca\\OneDrive\\Desktop\\JP\\model03S\\dataset\\images\\test\\IDLSX0gkiL15.jpg: 320x416 2 panels, 15.8ms\n",
      "image 399/1107 C:\\Users\\gnvca\\OneDrive\\Desktop\\JP\\model03S\\dataset\\images\\test\\IDLU0exqD.jpg: 320x416 1 panel, 16.1ms\n",
      "image 400/1107 C:\\Users\\gnvca\\OneDrive\\Desktop\\JP\\model03S\\dataset\\images\\test\\IDLVYKB1P.jpg: 320x416 1 panel, 15.2ms\n",
      "image 401/1107 C:\\Users\\gnvca\\OneDrive\\Desktop\\JP\\model03S\\dataset\\images\\test\\IDLarIQ0CA16.jpg: 320x416 (no detections), 14.7ms\n",
      "image 402/1107 C:\\Users\\gnvca\\OneDrive\\Desktop\\JP\\model03S\\dataset\\images\\test\\IDLav1R.jpg: 320x416 2 panels, 12.8ms\n",
      "image 403/1107 C:\\Users\\gnvca\\OneDrive\\Desktop\\JP\\model03S\\dataset\\images\\test\\IDLesHQ.jpg: 320x416 2 panels, 14.8ms\n",
      "image 404/1107 C:\\Users\\gnvca\\OneDrive\\Desktop\\JP\\model03S\\dataset\\images\\test\\IDLgse7l8nBf0.jpg: 320x416 (no detections), 16.1ms\n",
      "image 405/1107 C:\\Users\\gnvca\\OneDrive\\Desktop\\JP\\model03S\\dataset\\images\\test\\IDLjn1l8c.jpg: 320x416 2 panels, 16.0ms\n",
      "image 406/1107 C:\\Users\\gnvca\\OneDrive\\Desktop\\JP\\model03S\\dataset\\images\\test\\IDLon5uvygjfKg.jpg: 320x416 2 panels, 14.8ms\n",
      "image 407/1107 C:\\Users\\gnvca\\OneDrive\\Desktop\\JP\\model03S\\dataset\\images\\test\\IDLuRayCZLN2OnTt.jpg: 320x416 1 panel, 15.3ms\n",
      "image 408/1107 C:\\Users\\gnvca\\OneDrive\\Desktop\\JP\\model03S\\dataset\\images\\test\\IDLwNWXtY.jpg: 320x416 2 panels, 13.0ms\n",
      "image 409/1107 C:\\Users\\gnvca\\OneDrive\\Desktop\\JP\\model03S\\dataset\\images\\test\\IDM230xets.jpg: 320x416 (no detections), 13.4ms\n",
      "image 410/1107 C:\\Users\\gnvca\\OneDrive\\Desktop\\JP\\model03S\\dataset\\images\\test\\IDM2qQtF5Nuxvq.jpg: 320x416 (no detections), 12.8ms\n",
      "image 411/1107 C:\\Users\\gnvca\\OneDrive\\Desktop\\JP\\model03S\\dataset\\images\\test\\IDM3KBbS465Eej.jpg: 320x416 (no detections), 15.3ms\n",
      "image 412/1107 C:\\Users\\gnvca\\OneDrive\\Desktop\\JP\\model03S\\dataset\\images\\test\\IDM51Yxqc5J6HMZuX.jpg: 320x416 1 panel, 15.5ms\n",
      "image 413/1107 C:\\Users\\gnvca\\OneDrive\\Desktop\\JP\\model03S\\dataset\\images\\test\\IDM9BLAbWdbSgTN7.jpg: 320x416 (no detections), 12.1ms\n",
      "image 414/1107 C:\\Users\\gnvca\\OneDrive\\Desktop\\JP\\model03S\\dataset\\images\\test\\IDMGiM3AsZNFO8w5.jpg: 320x416 2 panels, 15.9ms\n",
      "image 415/1107 C:\\Users\\gnvca\\OneDrive\\Desktop\\JP\\model03S\\dataset\\images\\test\\IDMGuoBeQvwgY9KM0.jpg: 320x416 2 panels, 14.9ms\n",
      "image 416/1107 C:\\Users\\gnvca\\OneDrive\\Desktop\\JP\\model03S\\dataset\\images\\test\\IDMGv0j4OanVo8y.jpg: 320x416 (no detections), 12.9ms\n",
      "image 417/1107 C:\\Users\\gnvca\\OneDrive\\Desktop\\JP\\model03S\\dataset\\images\\test\\IDMKQzV7p.jpg: 320x416 1 panel, 16.2ms\n",
      "image 418/1107 C:\\Users\\gnvca\\OneDrive\\Desktop\\JP\\model03S\\dataset\\images\\test\\IDML2yL.jpg: 320x416 2 panels, 15.0ms\n",
      "image 419/1107 C:\\Users\\gnvca\\OneDrive\\Desktop\\JP\\model03S\\dataset\\images\\test\\IDMNmCxlLPoPx.jpg: 320x416 2 panels, 16.3ms\n",
      "image 420/1107 C:\\Users\\gnvca\\OneDrive\\Desktop\\JP\\model03S\\dataset\\images\\test\\IDMQXs48kD6zgII3.jpg: 320x416 3 panels, 15.8ms\n",
      "image 421/1107 C:\\Users\\gnvca\\OneDrive\\Desktop\\JP\\model03S\\dataset\\images\\test\\IDMR2NnOOJK9v.jpg: 320x416 (no detections), 14.5ms\n",
      "image 422/1107 C:\\Users\\gnvca\\OneDrive\\Desktop\\JP\\model03S\\dataset\\images\\test\\IDMTCM6VND5g1tx.jpg: 320x416 (no detections), 17.3ms\n",
      "image 423/1107 C:\\Users\\gnvca\\OneDrive\\Desktop\\JP\\model03S\\dataset\\images\\test\\IDMUYJWk7qeED.jpg: 320x416 (no detections), 21.4ms\n",
      "image 424/1107 C:\\Users\\gnvca\\OneDrive\\Desktop\\JP\\model03S\\dataset\\images\\test\\IDMZx0L.jpg: 320x416 2 panels, 14.7ms\n",
      "image 425/1107 C:\\Users\\gnvca\\OneDrive\\Desktop\\JP\\model03S\\dataset\\images\\test\\IDMblBvBq2RONQv11.jpg: 320x416 3 panels, 16.7ms\n",
      "image 426/1107 C:\\Users\\gnvca\\OneDrive\\Desktop\\JP\\model03S\\dataset\\images\\test\\IDMcPyJnQ.jpg: 416x416 (no detections), 20.4ms\n",
      "image 427/1107 C:\\Users\\gnvca\\OneDrive\\Desktop\\JP\\model03S\\dataset\\images\\test\\IDMcpx6mjEjJT.jpg: 320x416 1 panel, 16.0ms\n",
      "image 428/1107 C:\\Users\\gnvca\\OneDrive\\Desktop\\JP\\model03S\\dataset\\images\\test\\IDMdVbIPkq.jpg: 416x384 1 boiler, 17.9ms\n",
      "image 429/1107 C:\\Users\\gnvca\\OneDrive\\Desktop\\JP\\model03S\\dataset\\images\\test\\IDMdli49mBg5uZud.jpg: 352x416 (no detections), 17.7ms\n",
      "image 430/1107 C:\\Users\\gnvca\\OneDrive\\Desktop\\JP\\model03S\\dataset\\images\\test\\IDMj9QZSf0wo.jpg: 320x416 3 panels, 17.5ms\n",
      "image 431/1107 C:\\Users\\gnvca\\OneDrive\\Desktop\\JP\\model03S\\dataset\\images\\test\\IDMkxko.jpg: 320x416 2 panels, 13.3ms\n",
      "image 432/1107 C:\\Users\\gnvca\\OneDrive\\Desktop\\JP\\model03S\\dataset\\images\\test\\IDMtX7L.jpg: 320x416 2 panels, 21.4ms\n",
      "image 433/1107 C:\\Users\\gnvca\\OneDrive\\Desktop\\JP\\model03S\\dataset\\images\\test\\IDMxDFck.jpg: 320x416 2 panels, 19.5ms\n",
      "image 434/1107 C:\\Users\\gnvca\\OneDrive\\Desktop\\JP\\model03S\\dataset\\images\\test\\IDMxaHDh.jpg: 320x416 2 panels, 16.7ms\n",
      "image 435/1107 C:\\Users\\gnvca\\OneDrive\\Desktop\\JP\\model03S\\dataset\\images\\test\\IDMzjzfm9zDRx.jpg: 320x416 1 panel, 13.6ms\n",
      "image 436/1107 C:\\Users\\gnvca\\OneDrive\\Desktop\\JP\\model03S\\dataset\\images\\test\\IDN1cCi.jpg: 416x416 5 panels, 21.8ms\n",
      "image 437/1107 C:\\Users\\gnvca\\OneDrive\\Desktop\\JP\\model03S\\dataset\\images\\test\\IDN3VLbRB.jpg: 320x416 1 panel, 16.5ms\n",
      "image 438/1107 C:\\Users\\gnvca\\OneDrive\\Desktop\\JP\\model03S\\dataset\\images\\test\\IDN5iKVxB.jpg: 320x416 2 panels, 19.2ms\n",
      "image 439/1107 C:\\Users\\gnvca\\OneDrive\\Desktop\\JP\\model03S\\dataset\\images\\test\\IDNB13Sq0.jpg: 320x416 2 panels, 12.9ms\n",
      "image 440/1107 C:\\Users\\gnvca\\OneDrive\\Desktop\\JP\\model03S\\dataset\\images\\test\\IDNBjVC8SxqDkIWf.jpg: 320x416 1 panel, 14.9ms\n",
      "image 441/1107 C:\\Users\\gnvca\\OneDrive\\Desktop\\JP\\model03S\\dataset\\images\\test\\IDNCrauw.jpg: 320x416 2 panels, 15.5ms\n",
      "image 442/1107 C:\\Users\\gnvca\\OneDrive\\Desktop\\JP\\model03S\\dataset\\images\\test\\IDNDx1HtBlb3hK.jpg: 320x416 2 panels, 16.1ms\n",
      "image 443/1107 C:\\Users\\gnvca\\OneDrive\\Desktop\\JP\\model03S\\dataset\\images\\test\\IDNIPm4e5.jpg: 320x416 1 panel, 16.6ms\n",
      "image 444/1107 C:\\Users\\gnvca\\OneDrive\\Desktop\\JP\\model03S\\dataset\\images\\test\\IDNK9ZcQaleKeH3M.jpg: 416x256 (no detections), 16.5ms\n",
      "image 445/1107 C:\\Users\\gnvca\\OneDrive\\Desktop\\JP\\model03S\\dataset\\images\\test\\IDNNe7rtayXqPyD.jpg: 320x416 (no detections), 12.6ms\n",
      "image 446/1107 C:\\Users\\gnvca\\OneDrive\\Desktop\\JP\\model03S\\dataset\\images\\test\\IDNOkVPbjqkOaE4.jpg: 320x416 1 panel, 14.0ms\n",
      "image 447/1107 C:\\Users\\gnvca\\OneDrive\\Desktop\\JP\\model03S\\dataset\\images\\test\\IDNPNs0vbRQ9Bnc.jpg: 320x416 1 panel, 22.5ms\n",
      "image 448/1107 C:\\Users\\gnvca\\OneDrive\\Desktop\\JP\\model03S\\dataset\\images\\test\\IDNPUOLqoTeRnP.jpg: 320x416 2 panels, 14.2ms\n",
      "image 449/1107 C:\\Users\\gnvca\\OneDrive\\Desktop\\JP\\model03S\\dataset\\images\\test\\IDNPnuenHZFlXb5O8.jpg: 320x416 3 panels, 14.5ms\n",
      "image 450/1107 C:\\Users\\gnvca\\OneDrive\\Desktop\\JP\\model03S\\dataset\\images\\test\\IDNSCnqUC9XmOCm.jpg: 320x416 2 panels, 14.1ms\n",
      "image 451/1107 C:\\Users\\gnvca\\OneDrive\\Desktop\\JP\\model03S\\dataset\\images\\test\\IDNXDxhOyEQBn28n.jpg: 320x416 2 panels, 15.6ms\n",
      "image 452/1107 C:\\Users\\gnvca\\OneDrive\\Desktop\\JP\\model03S\\dataset\\images\\test\\IDNXKJf7.jpg: 416x416 (no detections), 17.9ms\n",
      "image 453/1107 C:\\Users\\gnvca\\OneDrive\\Desktop\\JP\\model03S\\dataset\\images\\test\\IDNXvdJz7W1.jpg: 320x416 2 panels, 15.5ms\n",
      "image 454/1107 C:\\Users\\gnvca\\OneDrive\\Desktop\\JP\\model03S\\dataset\\images\\test\\IDNbaHZfQfK.jpg: 320x416 (no detections), 13.5ms\n",
      "image 455/1107 C:\\Users\\gnvca\\OneDrive\\Desktop\\JP\\model03S\\dataset\\images\\test\\IDNcYErXJyR.jpg: 320x416 2 panels, 15.8ms\n",
      "image 456/1107 C:\\Users\\gnvca\\OneDrive\\Desktop\\JP\\model03S\\dataset\\images\\test\\IDNg4JnI5aXKFDL.jpg: 320x416 2 panels, 20.2ms\n",
      "image 457/1107 C:\\Users\\gnvca\\OneDrive\\Desktop\\JP\\model03S\\dataset\\images\\test\\IDNhI1pLC.jpg: 320x416 (no detections), 12.8ms\n",
      "image 458/1107 C:\\Users\\gnvca\\OneDrive\\Desktop\\JP\\model03S\\dataset\\images\\test\\IDNit7il1k.jpg: 320x416 (no detections), 13.1ms\n",
      "image 459/1107 C:\\Users\\gnvca\\OneDrive\\Desktop\\JP\\model03S\\dataset\\images\\test\\IDNmw1aq.jpg: 320x416 (no detections), 15.5ms\n",
      "image 460/1107 C:\\Users\\gnvca\\OneDrive\\Desktop\\JP\\model03S\\dataset\\images\\test\\IDNvVkeJvG5Mu0e.jpg: 320x416 1 panel, 16.0ms\n",
      "image 461/1107 C:\\Users\\gnvca\\OneDrive\\Desktop\\JP\\model03S\\dataset\\images\\test\\IDNz5ndBpJSUJC.jpg: 320x416 2 panels, 16.2ms\n",
      "image 462/1107 C:\\Users\\gnvca\\OneDrive\\Desktop\\JP\\model03S\\dataset\\images\\test\\IDO3Nbs4Cgz.jpg: 320x416 2 panels, 14.8ms\n",
      "image 463/1107 C:\\Users\\gnvca\\OneDrive\\Desktop\\JP\\model03S\\dataset\\images\\test\\IDO3YczvTG.jpg: 352x416 1 panel, 16.2ms\n",
      "image 464/1107 C:\\Users\\gnvca\\OneDrive\\Desktop\\JP\\model03S\\dataset\\images\\test\\IDO7uXl1qf.jpg: 320x416 4 panels, 15.6ms\n",
      "image 465/1107 C:\\Users\\gnvca\\OneDrive\\Desktop\\JP\\model03S\\dataset\\images\\test\\IDO8ardH2SCCEh.jpg: 384x416 1 boiler, 17.0ms\n",
      "image 466/1107 C:\\Users\\gnvca\\OneDrive\\Desktop\\JP\\model03S\\dataset\\images\\test\\IDOE1T3uLBCe.jpg: 320x416 2 panels, 18.2ms\n",
      "image 467/1107 C:\\Users\\gnvca\\OneDrive\\Desktop\\JP\\model03S\\dataset\\images\\test\\IDOFTIAH2rIRD.jpg: 320x416 (no detections), 15.1ms\n",
      "image 468/1107 C:\\Users\\gnvca\\OneDrive\\Desktop\\JP\\model03S\\dataset\\images\\test\\IDOFiblI7dE1tt.jpg: 320x416 2 panels, 13.3ms\n",
      "image 469/1107 C:\\Users\\gnvca\\OneDrive\\Desktop\\JP\\model03S\\dataset\\images\\test\\IDOIUJna2m1kHIpz.jpg: 320x416 2 panels, 14.8ms\n",
      "image 470/1107 C:\\Users\\gnvca\\OneDrive\\Desktop\\JP\\model03S\\dataset\\images\\test\\IDOIZqkNpG.jpg: 320x416 2 panels, 15.2ms\n",
      "image 471/1107 C:\\Users\\gnvca\\OneDrive\\Desktop\\JP\\model03S\\dataset\\images\\test\\IDOJdQwe0Jn.jpg: 320x416 3 panels, 15.1ms\n",
      "image 472/1107 C:\\Users\\gnvca\\OneDrive\\Desktop\\JP\\model03S\\dataset\\images\\test\\IDOL2x4vzHo2t.jpg: 320x416 1 panel, 15.8ms\n",
      "image 473/1107 C:\\Users\\gnvca\\OneDrive\\Desktop\\JP\\model03S\\dataset\\images\\test\\IDOSil7QbG.jpg: 320x416 (no detections), 16.7ms\n",
      "image 474/1107 C:\\Users\\gnvca\\OneDrive\\Desktop\\JP\\model03S\\dataset\\images\\test\\IDOTvWB.jpg: 320x416 (no detections), 28.1ms\n",
      "image 475/1107 C:\\Users\\gnvca\\OneDrive\\Desktop\\JP\\model03S\\dataset\\images\\test\\IDOWmr0Gc1.jpg: 352x416 (no detections), 18.4ms\n",
      "image 476/1107 C:\\Users\\gnvca\\OneDrive\\Desktop\\JP\\model03S\\dataset\\images\\test\\IDOXsvq4GzS6AyJbf.jpg: 320x416 2 panels, 15.1ms\n",
      "image 477/1107 C:\\Users\\gnvca\\OneDrive\\Desktop\\JP\\model03S\\dataset\\images\\test\\IDOYY22kAh5G0T.jpg: 320x416 (no detections), 15.8ms\n",
      "image 478/1107 C:\\Users\\gnvca\\OneDrive\\Desktop\\JP\\model03S\\dataset\\images\\test\\IDOc9ZSO1x3gF81.jpg: 320x416 (no detections), 14.3ms\n",
      "image 479/1107 C:\\Users\\gnvca\\OneDrive\\Desktop\\JP\\model03S\\dataset\\images\\test\\IDOddsmtY.jpg: 320x416 2 panels, 16.6ms\n",
      "image 480/1107 C:\\Users\\gnvca\\OneDrive\\Desktop\\JP\\model03S\\dataset\\images\\test\\IDOgPWC.jpg: 320x416 2 panels, 15.4ms\n",
      "image 481/1107 C:\\Users\\gnvca\\OneDrive\\Desktop\\JP\\model03S\\dataset\\images\\test\\IDOmSQpfls.jpg: 320x416 (no detections), 14.9ms\n",
      "image 482/1107 C:\\Users\\gnvca\\OneDrive\\Desktop\\JP\\model03S\\dataset\\images\\test\\IDP4AcJ.jpg: 320x416 2 panels, 15.0ms\n",
      "image 483/1107 C:\\Users\\gnvca\\OneDrive\\Desktop\\JP\\model03S\\dataset\\images\\test\\IDP62tlw063.jpg: 320x416 2 panels, 13.5ms\n",
      "image 484/1107 C:\\Users\\gnvca\\OneDrive\\Desktop\\JP\\model03S\\dataset\\images\\test\\IDP6Pfy3G.jpg: 320x416 2 panels, 14.6ms\n",
      "image 485/1107 C:\\Users\\gnvca\\OneDrive\\Desktop\\JP\\model03S\\dataset\\images\\test\\IDP8yPZ.jpg: 416x416 1 boiler, 25.3ms\n",
      "image 486/1107 C:\\Users\\gnvca\\OneDrive\\Desktop\\JP\\model03S\\dataset\\images\\test\\IDP9rc6Hpu.jpg: 320x416 2 panels, 17.9ms\n",
      "image 487/1107 C:\\Users\\gnvca\\OneDrive\\Desktop\\JP\\model03S\\dataset\\images\\test\\IDPCQNAYWKeNW.jpg: 320x416 2 panels, 15.6ms\n",
      "image 488/1107 C:\\Users\\gnvca\\OneDrive\\Desktop\\JP\\model03S\\dataset\\images\\test\\IDPEzqtTD031h.jpg: 320x416 2 panels, 16.3ms\n",
      "image 489/1107 C:\\Users\\gnvca\\OneDrive\\Desktop\\JP\\model03S\\dataset\\images\\test\\IDPHtAoYIkGvT.jpg: 320x416 2 panels, 14.7ms\n",
      "image 490/1107 C:\\Users\\gnvca\\OneDrive\\Desktop\\JP\\model03S\\dataset\\images\\test\\IDPNeUgh8WbDfK.jpg: 320x416 2 panels, 13.6ms\n",
      "image 491/1107 C:\\Users\\gnvca\\OneDrive\\Desktop\\JP\\model03S\\dataset\\images\\test\\IDPSX04HF.jpg: 320x416 3 panels, 16.8ms\n",
      "image 492/1107 C:\\Users\\gnvca\\OneDrive\\Desktop\\JP\\model03S\\dataset\\images\\test\\IDPSxbXW5tPnM.jpg: 320x416 2 panels, 14.6ms\n",
      "image 493/1107 C:\\Users\\gnvca\\OneDrive\\Desktop\\JP\\model03S\\dataset\\images\\test\\IDPdzEzd4MjJwC.jpg: 320x416 2 panels, 12.0ms\n",
      "image 494/1107 C:\\Users\\gnvca\\OneDrive\\Desktop\\JP\\model03S\\dataset\\images\\test\\IDPokFP.jpg: 320x416 2 panels, 14.8ms\n",
      "image 495/1107 C:\\Users\\gnvca\\OneDrive\\Desktop\\JP\\model03S\\dataset\\images\\test\\IDPsGUFxHtTUZ.jpg: 320x416 2 panels, 14.3ms\n",
      "image 496/1107 C:\\Users\\gnvca\\OneDrive\\Desktop\\JP\\model03S\\dataset\\images\\test\\IDPtql7rXD.jpg: 320x416 (no detections), 15.9ms\n",
      "image 497/1107 C:\\Users\\gnvca\\OneDrive\\Desktop\\JP\\model03S\\dataset\\images\\test\\IDPtwO0d4Ta.jpg: 320x416 2 panels, 13.7ms\n",
      "image 498/1107 C:\\Users\\gnvca\\OneDrive\\Desktop\\JP\\model03S\\dataset\\images\\test\\IDPua0q.jpg: 352x416 1 boiler, 16.2ms\n",
      "image 499/1107 C:\\Users\\gnvca\\OneDrive\\Desktop\\JP\\model03S\\dataset\\images\\test\\IDQ2qFEDWOCT.jpg: 320x416 (no detections), 14.2ms\n",
      "image 500/1107 C:\\Users\\gnvca\\OneDrive\\Desktop\\JP\\model03S\\dataset\\images\\test\\IDQ41Nw0R9o9kX4.jpg: 224x416 (no detections), 16.2ms\n",
      "image 501/1107 C:\\Users\\gnvca\\OneDrive\\Desktop\\JP\\model03S\\dataset\\images\\test\\IDQ5RlAY.jpg: 288x416 (no detections), 15.3ms\n",
      "image 502/1107 C:\\Users\\gnvca\\OneDrive\\Desktop\\JP\\model03S\\dataset\\images\\test\\IDQ6GBCrQCnU68qGR.jpg: 320x416 2 panels, 15.3ms\n",
      "image 503/1107 C:\\Users\\gnvca\\OneDrive\\Desktop\\JP\\model03S\\dataset\\images\\test\\IDQ8I5cc6.jpg: 320x416 1 panel, 16.0ms\n",
      "image 504/1107 C:\\Users\\gnvca\\OneDrive\\Desktop\\JP\\model03S\\dataset\\images\\test\\IDQB0WEU30ws.jpg: 320x416 2 panels, 12.1ms\n",
      "image 505/1107 C:\\Users\\gnvca\\OneDrive\\Desktop\\JP\\model03S\\dataset\\images\\test\\IDQBFMVT1AtcPzZ.jpg: 320x416 2 panels, 15.8ms\n",
      "image 506/1107 C:\\Users\\gnvca\\OneDrive\\Desktop\\JP\\model03S\\dataset\\images\\test\\IDQFWf23PpUc.jpg: 320x416 1 panel, 15.5ms\n",
      "image 507/1107 C:\\Users\\gnvca\\OneDrive\\Desktop\\JP\\model03S\\dataset\\images\\test\\IDQGrKKR.jpg: 320x416 2 panels, 14.5ms\n",
      "image 508/1107 C:\\Users\\gnvca\\OneDrive\\Desktop\\JP\\model03S\\dataset\\images\\test\\IDQP5NDegX.jpg: 320x416 1 panel, 15.9ms\n",
      "image 509/1107 C:\\Users\\gnvca\\OneDrive\\Desktop\\JP\\model03S\\dataset\\images\\test\\IDQTwuOnn9C.jpg: 320x416 1 boiler, 13.3ms\n",
      "image 510/1107 C:\\Users\\gnvca\\OneDrive\\Desktop\\JP\\model03S\\dataset\\images\\test\\IDQW59NVLvUfAXt.jpg: 320x416 2 panels, 16.7ms\n",
      "image 511/1107 C:\\Users\\gnvca\\OneDrive\\Desktop\\JP\\model03S\\dataset\\images\\test\\IDQbcNyo9HWRLA.jpg: 320x416 3 panels, 14.7ms\n",
      "image 512/1107 C:\\Users\\gnvca\\OneDrive\\Desktop\\JP\\model03S\\dataset\\images\\test\\IDQdwNuYup.jpg: 416x416 (no detections), 16.8ms\n",
      "image 513/1107 C:\\Users\\gnvca\\OneDrive\\Desktop\\JP\\model03S\\dataset\\images\\test\\IDQm5eRSAdG0sB.jpg: 320x416 (no detections), 14.7ms\n",
      "image 514/1107 C:\\Users\\gnvca\\OneDrive\\Desktop\\JP\\model03S\\dataset\\images\\test\\IDQr5AXcM3eN.jpg: 320x416 (no detections), 15.2ms\n",
      "image 515/1107 C:\\Users\\gnvca\\OneDrive\\Desktop\\JP\\model03S\\dataset\\images\\test\\IDQtwjxiGA2Ou1K.jpg: 320x416 1 panel, 14.8ms\n",
      "image 516/1107 C:\\Users\\gnvca\\OneDrive\\Desktop\\JP\\model03S\\dataset\\images\\test\\IDR07XaHK.jpg: 320x416 1 panel, 12.1ms\n",
      "image 517/1107 C:\\Users\\gnvca\\OneDrive\\Desktop\\JP\\model03S\\dataset\\images\\test\\IDR5ILztiEWJcobS.jpg: 320x416 (no detections), 15.0ms\n",
      "image 518/1107 C:\\Users\\gnvca\\OneDrive\\Desktop\\JP\\model03S\\dataset\\images\\test\\IDR6SAyLmh3JLx.jpg: 320x416 2 panels, 12.1ms\n",
      "image 519/1107 C:\\Users\\gnvca\\OneDrive\\Desktop\\JP\\model03S\\dataset\\images\\test\\IDR7dlqS22CCf.jpg: 320x416 2 panels, 15.1ms\n",
      "image 520/1107 C:\\Users\\gnvca\\OneDrive\\Desktop\\JP\\model03S\\dataset\\images\\test\\IDR8udMWlWb.jpg: 320x416 2 panels, 12.1ms\n",
      "image 521/1107 C:\\Users\\gnvca\\OneDrive\\Desktop\\JP\\model03S\\dataset\\images\\test\\IDR8wCZ4yd2.jpg: 320x416 (no detections), 14.9ms\n",
      "image 522/1107 C:\\Users\\gnvca\\OneDrive\\Desktop\\JP\\model03S\\dataset\\images\\test\\IDR9jPd9v0d.jpg: 320x416 2 panels, 15.8ms\n",
      "image 523/1107 C:\\Users\\gnvca\\OneDrive\\Desktop\\JP\\model03S\\dataset\\images\\test\\IDRBIFU0izv.jpg: 320x416 1 panel, 14.5ms\n",
      "image 524/1107 C:\\Users\\gnvca\\OneDrive\\Desktop\\JP\\model03S\\dataset\\images\\test\\IDRKqDqTuG.jpg: 320x416 2 panels, 16.0ms\n",
      "image 525/1107 C:\\Users\\gnvca\\OneDrive\\Desktop\\JP\\model03S\\dataset\\images\\test\\IDRP8faSjvnI.jpg: 320x416 2 panels, 16.2ms\n",
      "image 526/1107 C:\\Users\\gnvca\\OneDrive\\Desktop\\JP\\model03S\\dataset\\images\\test\\IDRYuoNRdkfNf.jpg: 320x416 (no detections), 17.9ms\n",
      "image 527/1107 C:\\Users\\gnvca\\OneDrive\\Desktop\\JP\\model03S\\dataset\\images\\test\\IDRZeavYJg.jpg: 320x416 2 panels, 14.8ms\n",
      "image 528/1107 C:\\Users\\gnvca\\OneDrive\\Desktop\\JP\\model03S\\dataset\\images\\test\\IDRaO6YRAwASlUJV.jpg: 320x416 (no detections), 14.7ms\n",
      "image 529/1107 C:\\Users\\gnvca\\OneDrive\\Desktop\\JP\\model03S\\dataset\\images\\test\\IDRghDoQ9FtuYcwdt.jpg: 320x416 (no detections), 14.2ms\n",
      "image 530/1107 C:\\Users\\gnvca\\OneDrive\\Desktop\\JP\\model03S\\dataset\\images\\test\\IDRl5a2wEx6OGQqT.jpg: 320x416 2 panels, 12.1ms\n",
      "image 531/1107 C:\\Users\\gnvca\\OneDrive\\Desktop\\JP\\model03S\\dataset\\images\\test\\IDRnq8X.jpg: 320x416 2 panels, 17.0ms\n",
      "image 532/1107 C:\\Users\\gnvca\\OneDrive\\Desktop\\JP\\model03S\\dataset\\images\\test\\IDRppqUhXT2Mn0R.jpg: 320x416 (no detections), 17.7ms\n",
      "image 533/1107 C:\\Users\\gnvca\\OneDrive\\Desktop\\JP\\model03S\\dataset\\images\\test\\IDRrUW3ndT.jpg: 320x416 2 panels, 17.8ms\n",
      "image 534/1107 C:\\Users\\gnvca\\OneDrive\\Desktop\\JP\\model03S\\dataset\\images\\test\\IDRu1SeBHN6.jpg: 320x416 1 panel, 18.0ms\n",
      "image 535/1107 C:\\Users\\gnvca\\OneDrive\\Desktop\\JP\\model03S\\dataset\\images\\test\\IDRvu7vt2zBrN.jpg: 416x288 1 boiler, 14.0ms\n",
      "image 536/1107 C:\\Users\\gnvca\\OneDrive\\Desktop\\JP\\model03S\\dataset\\images\\test\\IDRxZ6XtPbRK.jpg: 320x416 1 panel, 18.3ms\n",
      "image 537/1107 C:\\Users\\gnvca\\OneDrive\\Desktop\\JP\\model03S\\dataset\\images\\test\\IDRyt3zB02d.jpg: 320x416 2 panels, 16.3ms\n",
      "image 538/1107 C:\\Users\\gnvca\\OneDrive\\Desktop\\JP\\model03S\\dataset\\images\\test\\IDS0NVw.jpg: 320x416 2 panels, 17.9ms\n",
      "image 539/1107 C:\\Users\\gnvca\\OneDrive\\Desktop\\JP\\model03S\\dataset\\images\\test\\IDS1IvSdbtq6.jpg: 320x416 (no detections), 17.8ms\n",
      "image 540/1107 C:\\Users\\gnvca\\OneDrive\\Desktop\\JP\\model03S\\dataset\\images\\test\\IDSAQZD.jpg: 416x384 1 boiler, 21.3ms\n",
      "image 541/1107 C:\\Users\\gnvca\\OneDrive\\Desktop\\JP\\model03S\\dataset\\images\\test\\IDSDUpCbwxJ.jpg: 320x416 (no detections), 20.2ms\n",
      "image 542/1107 C:\\Users\\gnvca\\OneDrive\\Desktop\\JP\\model03S\\dataset\\images\\test\\IDSDiLo.jpg: 352x416 2 panels, 26.4ms\n",
      "image 543/1107 C:\\Users\\gnvca\\OneDrive\\Desktop\\JP\\model03S\\dataset\\images\\test\\IDSGQS7xL.jpg: 288x416 5 panels, 13.9ms\n",
      "image 544/1107 C:\\Users\\gnvca\\OneDrive\\Desktop\\JP\\model03S\\dataset\\images\\test\\IDSH4cGXPoVxLc9K.jpg: 320x416 2 panels, 14.8ms\n",
      "image 545/1107 C:\\Users\\gnvca\\OneDrive\\Desktop\\JP\\model03S\\dataset\\images\\test\\IDSIXGFQie.jpg: 320x416 2 panels, 13.3ms\n",
      "image 546/1107 C:\\Users\\gnvca\\OneDrive\\Desktop\\JP\\model03S\\dataset\\images\\test\\IDSLtdw20.jpg: 352x416 (no detections), 20.8ms\n",
      "image 547/1107 C:\\Users\\gnvca\\OneDrive\\Desktop\\JP\\model03S\\dataset\\images\\test\\IDSV1kLo6kBJ.jpg: 320x416 2 panels, 16.9ms\n",
      "image 548/1107 C:\\Users\\gnvca\\OneDrive\\Desktop\\JP\\model03S\\dataset\\images\\test\\IDSiRPkvdN.jpg: 320x416 (no detections), 17.1ms\n",
      "image 549/1107 C:\\Users\\gnvca\\OneDrive\\Desktop\\JP\\model03S\\dataset\\images\\test\\IDSqDYsSoktFjiqV.jpg: 320x416 (no detections), 16.4ms\n",
      "image 550/1107 C:\\Users\\gnvca\\OneDrive\\Desktop\\JP\\model03S\\dataset\\images\\test\\IDSssfpXj.jpg: 320x416 (no detections), 16.4ms\n",
      "image 551/1107 C:\\Users\\gnvca\\OneDrive\\Desktop\\JP\\model03S\\dataset\\images\\test\\IDT7IaaxIhflo.jpg: 320x416 (no detections), 12.7ms\n",
      "image 552/1107 C:\\Users\\gnvca\\OneDrive\\Desktop\\JP\\model03S\\dataset\\images\\test\\IDT83T5.jpg: 320x416 2 panels, 15.4ms\n",
      "image 553/1107 C:\\Users\\gnvca\\OneDrive\\Desktop\\JP\\model03S\\dataset\\images\\test\\IDT87CiQ2Gfe.jpg: 320x416 1 boiler, 12.8ms\n",
      "image 554/1107 C:\\Users\\gnvca\\OneDrive\\Desktop\\JP\\model03S\\dataset\\images\\test\\IDT8VhBAnWjz.jpg: 320x416 2 panels, 16.0ms\n",
      "image 555/1107 C:\\Users\\gnvca\\OneDrive\\Desktop\\JP\\model03S\\dataset\\images\\test\\IDTDNbFrMf.jpg: 320x416 1 panel, 16.6ms\n",
      "image 556/1107 C:\\Users\\gnvca\\OneDrive\\Desktop\\JP\\model03S\\dataset\\images\\test\\IDTIjrqfEdiCaW.jpg: 320x416 2 panels, 17.1ms\n",
      "image 557/1107 C:\\Users\\gnvca\\OneDrive\\Desktop\\JP\\model03S\\dataset\\images\\test\\IDTN2z0wqOEjF.jpg: 320x416 2 panels, 12.1ms\n",
      "image 558/1107 C:\\Users\\gnvca\\OneDrive\\Desktop\\JP\\model03S\\dataset\\images\\test\\IDTOPKMFrhJfGR.jpg: 416x320 (no detections), 18.0ms\n",
      "image 559/1107 C:\\Users\\gnvca\\OneDrive\\Desktop\\JP\\model03S\\dataset\\images\\test\\IDTSRmb04zp8jw.jpg: 320x416 2 panels, 13.9ms\n",
      "image 560/1107 C:\\Users\\gnvca\\OneDrive\\Desktop\\JP\\model03S\\dataset\\images\\test\\IDTc5vCuKREEbT51q.jpg: 320x416 (no detections), 12.0ms\n",
      "image 561/1107 C:\\Users\\gnvca\\OneDrive\\Desktop\\JP\\model03S\\dataset\\images\\test\\IDTn4HXmUw.jpg: 320x416 2 panels, 16.5ms\n",
      "image 562/1107 C:\\Users\\gnvca\\OneDrive\\Desktop\\JP\\model03S\\dataset\\images\\test\\IDTnZIAEKy5.jpg: 320x416 2 panels, 15.8ms\n",
      "image 563/1107 C:\\Users\\gnvca\\OneDrive\\Desktop\\JP\\model03S\\dataset\\images\\test\\IDTrFruRkTs5.jpg: 320x416 (no detections), 17.2ms\n",
      "image 564/1107 C:\\Users\\gnvca\\OneDrive\\Desktop\\JP\\model03S\\dataset\\images\\test\\IDTtkznFNr.jpg: 320x416 2 panels, 17.6ms\n",
      "image 565/1107 C:\\Users\\gnvca\\OneDrive\\Desktop\\JP\\model03S\\dataset\\images\\test\\IDU15pFXGPoW.jpg: 320x416 (no detections), 16.6ms\n",
      "image 566/1107 C:\\Users\\gnvca\\OneDrive\\Desktop\\JP\\model03S\\dataset\\images\\test\\IDUDizwHAA5Vpq.jpg: 320x416 1 panel, 19.8ms\n",
      "image 567/1107 C:\\Users\\gnvca\\OneDrive\\Desktop\\JP\\model03S\\dataset\\images\\test\\IDUEOvkdd0Io.jpg: 416x352 2 panels, 26.1ms\n",
      "image 568/1107 C:\\Users\\gnvca\\OneDrive\\Desktop\\JP\\model03S\\dataset\\images\\test\\IDUJK61tWJzl.jpg: 320x416 1 panel, 16.9ms\n",
      "image 569/1107 C:\\Users\\gnvca\\OneDrive\\Desktop\\JP\\model03S\\dataset\\images\\test\\IDUR1hGQJ8n.jpg: 320x416 (no detections), 12.1ms\n",
      "image 570/1107 C:\\Users\\gnvca\\OneDrive\\Desktop\\JP\\model03S\\dataset\\images\\test\\IDURAmRpwd.jpg: 320x416 1 panel, 16.6ms\n",
      "image 571/1107 C:\\Users\\gnvca\\OneDrive\\Desktop\\JP\\model03S\\dataset\\images\\test\\IDUTofzTK1ryH4h.jpg: 320x416 (no detections), 16.5ms\n",
      "image 572/1107 C:\\Users\\gnvca\\OneDrive\\Desktop\\JP\\model03S\\dataset\\images\\test\\IDUaqgsF.jpg: 320x416 2 panels, 17.1ms\n",
      "image 573/1107 C:\\Users\\gnvca\\OneDrive\\Desktop\\JP\\model03S\\dataset\\images\\test\\IDUdmIO5gHk7Xe.jpg: 320x416 1 panel, 16.2ms\n",
      "image 574/1107 C:\\Users\\gnvca\\OneDrive\\Desktop\\JP\\model03S\\dataset\\images\\test\\IDUekYdA.jpg: 352x416 (no detections), 16.4ms\n",
      "image 575/1107 C:\\Users\\gnvca\\OneDrive\\Desktop\\JP\\model03S\\dataset\\images\\test\\IDUh6ZDfY0zoo.jpg: 320x416 2 panels, 17.4ms\n",
      "image 576/1107 C:\\Users\\gnvca\\OneDrive\\Desktop\\JP\\model03S\\dataset\\images\\test\\IDUu0vUQVXbU83.jpg: 320x416 (no detections), 15.9ms\n",
      "image 577/1107 C:\\Users\\gnvca\\OneDrive\\Desktop\\JP\\model03S\\dataset\\images\\test\\IDUxMGJXV7GZm.jpg: 320x416 2 panels, 14.3ms\n",
      "image 578/1107 C:\\Users\\gnvca\\OneDrive\\Desktop\\JP\\model03S\\dataset\\images\\test\\IDUzf7o00ZjNPbTiv.jpg: 320x416 (no detections), 12.1ms\n",
      "image 579/1107 C:\\Users\\gnvca\\OneDrive\\Desktop\\JP\\model03S\\dataset\\images\\test\\IDV2gsvkl7R0sE7.jpg: 320x416 (no detections), 16.4ms\n",
      "image 580/1107 C:\\Users\\gnvca\\OneDrive\\Desktop\\JP\\model03S\\dataset\\images\\test\\IDV7gvduUgEi5M8oc.jpg: 320x416 2 panels, 16.7ms\n",
      "image 581/1107 C:\\Users\\gnvca\\OneDrive\\Desktop\\JP\\model03S\\dataset\\images\\test\\IDVELYhWJK.jpg: 320x416 (no detections), 17.8ms\n",
      "image 582/1107 C:\\Users\\gnvca\\OneDrive\\Desktop\\JP\\model03S\\dataset\\images\\test\\IDVEbPX.jpg: 320x416 (no detections), 16.2ms\n",
      "image 583/1107 C:\\Users\\gnvca\\OneDrive\\Desktop\\JP\\model03S\\dataset\\images\\test\\IDVF47p.jpg: 320x416 2 panels, 18.0ms\n",
      "image 584/1107 C:\\Users\\gnvca\\OneDrive\\Desktop\\JP\\model03S\\dataset\\images\\test\\IDVMVK7.jpg: 320x416 (no detections), 14.2ms\n",
      "image 585/1107 C:\\Users\\gnvca\\OneDrive\\Desktop\\JP\\model03S\\dataset\\images\\test\\IDVPgPc.jpg: 320x416 2 panels, 15.1ms\n",
      "image 586/1107 C:\\Users\\gnvca\\OneDrive\\Desktop\\JP\\model03S\\dataset\\images\\test\\IDVaNpYs6Zp.jpg: 256x416 (no detections), 21.9ms\n",
      "image 587/1107 C:\\Users\\gnvca\\OneDrive\\Desktop\\JP\\model03S\\dataset\\images\\test\\IDVb1j8d88xhvBA.jpg: 320x416 (no detections), 17.4ms\n",
      "image 588/1107 C:\\Users\\gnvca\\OneDrive\\Desktop\\JP\\model03S\\dataset\\images\\test\\IDVq7VTunmtGwrtF.jpg: 320x416 (no detections), 17.9ms\n",
      "image 589/1107 C:\\Users\\gnvca\\OneDrive\\Desktop\\JP\\model03S\\dataset\\images\\test\\IDVqRUdxPBpLKmQ4K.jpg: 320x416 3 panels, 18.6ms\n",
      "image 590/1107 C:\\Users\\gnvca\\OneDrive\\Desktop\\JP\\model03S\\dataset\\images\\test\\IDW34B7t.jpg: 320x416 2 panels, 14.4ms\n",
      "image 591/1107 C:\\Users\\gnvca\\OneDrive\\Desktop\\JP\\model03S\\dataset\\images\\test\\IDW7TVj.jpg: 320x416 (no detections), 21.1ms\n",
      "image 592/1107 C:\\Users\\gnvca\\OneDrive\\Desktop\\JP\\model03S\\dataset\\images\\test\\IDWCt8Biy.jpg: 320x416 (no detections), 16.7ms\n",
      "image 593/1107 C:\\Users\\gnvca\\OneDrive\\Desktop\\JP\\model03S\\dataset\\images\\test\\IDWGxShwaJ.jpg: 320x416 11 panels, 15.2ms\n",
      "image 594/1107 C:\\Users\\gnvca\\OneDrive\\Desktop\\JP\\model03S\\dataset\\images\\test\\IDWHF8jl0L.jpg: 320x416 2 panels, 15.3ms\n",
      "image 595/1107 C:\\Users\\gnvca\\OneDrive\\Desktop\\JP\\model03S\\dataset\\images\\test\\IDWLI46.jpg: 320x416 2 panels, 28.1ms\n",
      "image 596/1107 C:\\Users\\gnvca\\OneDrive\\Desktop\\JP\\model03S\\dataset\\images\\test\\IDWOLJMH4f.jpg: 320x416 (no detections), 14.3ms\n",
      "image 597/1107 C:\\Users\\gnvca\\OneDrive\\Desktop\\JP\\model03S\\dataset\\images\\test\\IDWYEyNsJlDExB.jpg: 320x416 (no detections), 12.1ms\n",
      "image 598/1107 C:\\Users\\gnvca\\OneDrive\\Desktop\\JP\\model03S\\dataset\\images\\test\\IDWfePLzOkYTdimsm.jpg: 288x416 1 boiler, 16.0ms\n",
      "image 599/1107 C:\\Users\\gnvca\\OneDrive\\Desktop\\JP\\model03S\\dataset\\images\\test\\IDWhbT1AT25O.jpg: 320x416 2 panels, 16.1ms\n",
      "image 600/1107 C:\\Users\\gnvca\\OneDrive\\Desktop\\JP\\model03S\\dataset\\images\\test\\IDWiWm800duFh7.jpg: 320x416 2 panels, 15.8ms\n",
      "image 601/1107 C:\\Users\\gnvca\\OneDrive\\Desktop\\JP\\model03S\\dataset\\images\\test\\IDWkYgKd.jpg: 320x416 (no detections), 14.9ms\n",
      "image 602/1107 C:\\Users\\gnvca\\OneDrive\\Desktop\\JP\\model03S\\dataset\\images\\test\\IDWnid30JA.jpg: 320x416 1 panel, 15.1ms\n",
      "image 603/1107 C:\\Users\\gnvca\\OneDrive\\Desktop\\JP\\model03S\\dataset\\images\\test\\IDWtgOChoTn2.jpg: 320x416 1 panel, 12.1ms\n",
      "image 604/1107 C:\\Users\\gnvca\\OneDrive\\Desktop\\JP\\model03S\\dataset\\images\\test\\IDWuHnrZmPf.jpg: 320x416 1 panel, 12.7ms\n",
      "image 605/1107 C:\\Users\\gnvca\\OneDrive\\Desktop\\JP\\model03S\\dataset\\images\\test\\IDWzeosZ4RCi7.jpg: 320x416 (no detections), 14.9ms\n",
      "image 606/1107 C:\\Users\\gnvca\\OneDrive\\Desktop\\JP\\model03S\\dataset\\images\\test\\IDX2OYwG6O.jpg: 320x416 2 panels, 15.0ms\n",
      "image 607/1107 C:\\Users\\gnvca\\OneDrive\\Desktop\\JP\\model03S\\dataset\\images\\test\\IDX2UG8S.jpg: 320x416 2 panels, 17.7ms\n",
      "image 608/1107 C:\\Users\\gnvca\\OneDrive\\Desktop\\JP\\model03S\\dataset\\images\\test\\IDX4m3o2iFM.jpg: 320x416 1 panel, 17.0ms\n",
      "image 609/1107 C:\\Users\\gnvca\\OneDrive\\Desktop\\JP\\model03S\\dataset\\images\\test\\IDX6cto4.jpg: 320x416 4 panels, 18.6ms\n",
      "image 610/1107 C:\\Users\\gnvca\\OneDrive\\Desktop\\JP\\model03S\\dataset\\images\\test\\IDX7Hs6a.jpg: 320x416 2 panels, 12.2ms\n",
      "image 611/1107 C:\\Users\\gnvca\\OneDrive\\Desktop\\JP\\model03S\\dataset\\images\\test\\IDXNdrffCsUhRj7.jpg: 320x416 2 panels, 12.4ms\n",
      "image 612/1107 C:\\Users\\gnvca\\OneDrive\\Desktop\\JP\\model03S\\dataset\\images\\test\\IDXWZyfmm.jpg: 416x320 (no detections), 20.4ms\n",
      "image 613/1107 C:\\Users\\gnvca\\OneDrive\\Desktop\\JP\\model03S\\dataset\\images\\test\\IDXXWSuwi9cvXt2.jpg: 288x416 2 boilers, 18.9ms\n",
      "image 614/1107 C:\\Users\\gnvca\\OneDrive\\Desktop\\JP\\model03S\\dataset\\images\\test\\IDXeBC1VjX9Pk.jpg: 320x416 1 panel, 17.4ms\n",
      "image 615/1107 C:\\Users\\gnvca\\OneDrive\\Desktop\\JP\\model03S\\dataset\\images\\test\\IDXgbGo3riFccPE.jpg: 320x416 2 panels, 18.1ms\n",
      "image 616/1107 C:\\Users\\gnvca\\OneDrive\\Desktop\\JP\\model03S\\dataset\\images\\test\\IDXhyOwV9lo.jpg: 320x416 (no detections), 13.4ms\n",
      "image 617/1107 C:\\Users\\gnvca\\OneDrive\\Desktop\\JP\\model03S\\dataset\\images\\test\\IDXoC8di.jpg: 320x416 1 panel, 17.1ms\n",
      "image 618/1107 C:\\Users\\gnvca\\OneDrive\\Desktop\\JP\\model03S\\dataset\\images\\test\\IDXpPETQFaK.jpg: 320x416 2 panels, 21.8ms\n",
      "image 619/1107 C:\\Users\\gnvca\\OneDrive\\Desktop\\JP\\model03S\\dataset\\images\\test\\IDXuG624loGbFu6.jpg: 320x416 1 panel, 16.3ms\n",
      "image 620/1107 C:\\Users\\gnvca\\OneDrive\\Desktop\\JP\\model03S\\dataset\\images\\test\\IDXunnia.jpg: 320x416 5 panels, 17.7ms\n",
      "image 621/1107 C:\\Users\\gnvca\\OneDrive\\Desktop\\JP\\model03S\\dataset\\images\\test\\IDYBHOJ5I5sckSWb.jpg: 320x416 2 panels, 16.8ms\n",
      "image 622/1107 C:\\Users\\gnvca\\OneDrive\\Desktop\\JP\\model03S\\dataset\\images\\test\\IDYBLYIW71Ao.jpg: 320x416 2 panels, 12.1ms\n",
      "image 623/1107 C:\\Users\\gnvca\\OneDrive\\Desktop\\JP\\model03S\\dataset\\images\\test\\IDYENI6ajzB.jpg: 320x416 1 panel, 15.7ms\n",
      "image 624/1107 C:\\Users\\gnvca\\OneDrive\\Desktop\\JP\\model03S\\dataset\\images\\test\\IDYEfIRfa.jpg: 320x416 (no detections), 15.4ms\n",
      "image 625/1107 C:\\Users\\gnvca\\OneDrive\\Desktop\\JP\\model03S\\dataset\\images\\test\\IDYMT6kLdc0oBu.jpg: 416x416 1 boiler, 24.9ms\n",
      "image 626/1107 C:\\Users\\gnvca\\OneDrive\\Desktop\\JP\\model03S\\dataset\\images\\test\\IDYNMDq5fwu9buDG.jpg: 384x416 (no detections), 21.1ms\n",
      "image 627/1107 C:\\Users\\gnvca\\OneDrive\\Desktop\\JP\\model03S\\dataset\\images\\test\\IDYW9E59Ef.jpg: 320x416 1 panel, 17.9ms\n",
      "image 628/1107 C:\\Users\\gnvca\\OneDrive\\Desktop\\JP\\model03S\\dataset\\images\\test\\IDYXzODPAYgqZ.jpg: 320x416 3 panels, 16.2ms\n",
      "image 629/1107 C:\\Users\\gnvca\\OneDrive\\Desktop\\JP\\model03S\\dataset\\images\\test\\IDYcT5y2rpH5DO.jpg: 320x416 2 panels, 16.3ms\n",
      "image 630/1107 C:\\Users\\gnvca\\OneDrive\\Desktop\\JP\\model03S\\dataset\\images\\test\\IDYkLwvKT.jpg: 320x416 1 panel, 13.6ms\n",
      "image 631/1107 C:\\Users\\gnvca\\OneDrive\\Desktop\\JP\\model03S\\dataset\\images\\test\\IDYloKm9XUUPl.jpg: 320x416 2 panels, 15.3ms\n",
      "image 632/1107 C:\\Users\\gnvca\\OneDrive\\Desktop\\JP\\model03S\\dataset\\images\\test\\IDYpgNkcbSP.jpg: 416x352 1 boiler, 19.4ms\n",
      "image 633/1107 C:\\Users\\gnvca\\OneDrive\\Desktop\\JP\\model03S\\dataset\\images\\test\\IDYq0OUOK6y.jpg: 320x416 2 panels, 17.3ms\n",
      "image 634/1107 C:\\Users\\gnvca\\OneDrive\\Desktop\\JP\\model03S\\dataset\\images\\test\\IDYqIgpXtJCuVvbGl.jpg: 320x416 2 panels, 15.8ms\n",
      "image 635/1107 C:\\Users\\gnvca\\OneDrive\\Desktop\\JP\\model03S\\dataset\\images\\test\\IDYtIJpLN.jpg: 256x416 (no detections), 19.0ms\n",
      "image 636/1107 C:\\Users\\gnvca\\OneDrive\\Desktop\\JP\\model03S\\dataset\\images\\test\\IDYu4Bjcr.jpg: 320x416 1 panel, 14.8ms\n",
      "image 637/1107 C:\\Users\\gnvca\\OneDrive\\Desktop\\JP\\model03S\\dataset\\images\\test\\IDYuGckz4.jpg: 320x416 1 panel, 16.1ms\n",
      "image 638/1107 C:\\Users\\gnvca\\OneDrive\\Desktop\\JP\\model03S\\dataset\\images\\test\\IDYwRcFyDIV.jpg: 320x416 (no detections), 16.0ms\n",
      "image 639/1107 C:\\Users\\gnvca\\OneDrive\\Desktop\\JP\\model03S\\dataset\\images\\test\\IDYxUNqRlmQWRZe.jpg: 320x416 1 panel, 16.4ms\n",
      "image 640/1107 C:\\Users\\gnvca\\OneDrive\\Desktop\\JP\\model03S\\dataset\\images\\test\\IDYz8Gg5e.jpg: 320x416 1 panel, 16.6ms\n",
      "image 641/1107 C:\\Users\\gnvca\\OneDrive\\Desktop\\JP\\model03S\\dataset\\images\\test\\IDZAwjE8iN.jpg: 320x416 1 panel, 17.5ms\n",
      "image 642/1107 C:\\Users\\gnvca\\OneDrive\\Desktop\\JP\\model03S\\dataset\\images\\test\\IDZHnfQAnD7sjQ7I.jpg: 320x416 (no detections), 17.1ms\n",
      "image 643/1107 C:\\Users\\gnvca\\OneDrive\\Desktop\\JP\\model03S\\dataset\\images\\test\\IDZKr2HG8RGBS.jpg: 320x416 1 panel, 14.5ms\n",
      "image 644/1107 C:\\Users\\gnvca\\OneDrive\\Desktop\\JP\\model03S\\dataset\\images\\test\\IDZLv0NDsG2Y.jpg: 384x416 (no detections), 21.5ms\n",
      "image 645/1107 C:\\Users\\gnvca\\OneDrive\\Desktop\\JP\\model03S\\dataset\\images\\test\\IDZSMIRevRSb.jpg: 320x416 2 panels, 17.2ms\n",
      "image 646/1107 C:\\Users\\gnvca\\OneDrive\\Desktop\\JP\\model03S\\dataset\\images\\test\\IDZUgiT8OeVNdNKLk.jpg: 416x416 1 panel, 22.9ms\n",
      "image 647/1107 C:\\Users\\gnvca\\OneDrive\\Desktop\\JP\\model03S\\dataset\\images\\test\\IDZVslW8B93.jpg: 320x416 2 panels, 16.7ms\n",
      "image 648/1107 C:\\Users\\gnvca\\OneDrive\\Desktop\\JP\\model03S\\dataset\\images\\test\\IDZXVJV9peTT3.jpg: 320x416 2 panels, 15.6ms\n",
      "image 649/1107 C:\\Users\\gnvca\\OneDrive\\Desktop\\JP\\model03S\\dataset\\images\\test\\IDZZLbrx3WOj.jpg: 320x416 (no detections), 12.1ms\n",
      "image 650/1107 C:\\Users\\gnvca\\OneDrive\\Desktop\\JP\\model03S\\dataset\\images\\test\\IDZadFtQucj.jpg: 320x416 2 panels, 17.2ms\n",
      "image 651/1107 C:\\Users\\gnvca\\OneDrive\\Desktop\\JP\\model03S\\dataset\\images\\test\\IDZenoO.jpg: 320x416 (no detections), 16.7ms\n",
      "image 652/1107 C:\\Users\\gnvca\\OneDrive\\Desktop\\JP\\model03S\\dataset\\images\\test\\IDZg4NulLYTp91M.jpg: 256x416 4 panels, 22.2ms\n",
      "image 653/1107 C:\\Users\\gnvca\\OneDrive\\Desktop\\JP\\model03S\\dataset\\images\\test\\IDZqFAme59.jpg: 416x256 (no detections), 21.0ms\n",
      "image 654/1107 C:\\Users\\gnvca\\OneDrive\\Desktop\\JP\\model03S\\dataset\\images\\test\\IDZqnZNx.jpg: 320x416 2 panels, 16.9ms\n",
      "image 655/1107 C:\\Users\\gnvca\\OneDrive\\Desktop\\JP\\model03S\\dataset\\images\\test\\IDZwgfzvaQiFnG.jpg: 320x416 2 panels, 16.7ms\n",
      "image 656/1107 C:\\Users\\gnvca\\OneDrive\\Desktop\\JP\\model03S\\dataset\\images\\test\\IDa1IDStO7AWx.jpg: 320x416 (no detections), 12.1ms\n",
      "image 657/1107 C:\\Users\\gnvca\\OneDrive\\Desktop\\JP\\model03S\\dataset\\images\\test\\IDa9no02Dru.jpg: 320x416 (no detections), 12.1ms\n",
      "image 658/1107 C:\\Users\\gnvca\\OneDrive\\Desktop\\JP\\model03S\\dataset\\images\\test\\IDaA6yp6eKrTx.jpg: 320x416 2 panels, 13.5ms\n",
      "image 659/1107 C:\\Users\\gnvca\\OneDrive\\Desktop\\JP\\model03S\\dataset\\images\\test\\IDaE3zzt3.jpg: 320x416 2 panels, 12.1ms\n",
      "image 660/1107 C:\\Users\\gnvca\\OneDrive\\Desktop\\JP\\model03S\\dataset\\images\\test\\IDaGRuLXguf8.jpg: 320x416 (no detections), 13.1ms\n",
      "image 661/1107 C:\\Users\\gnvca\\OneDrive\\Desktop\\JP\\model03S\\dataset\\images\\test\\IDaV9wUEtq.jpg: 320x416 1 panel, 12.1ms\n",
      "image 662/1107 C:\\Users\\gnvca\\OneDrive\\Desktop\\JP\\model03S\\dataset\\images\\test\\IDaYlH0sN.jpg: 320x416 1 panel, 17.5ms\n",
      "image 663/1107 C:\\Users\\gnvca\\OneDrive\\Desktop\\JP\\model03S\\dataset\\images\\test\\IDaZaB2Qs.jpg: 320x416 (no detections), 16.4ms\n",
      "image 664/1107 C:\\Users\\gnvca\\OneDrive\\Desktop\\JP\\model03S\\dataset\\images\\test\\IDalTx5mDvBvbi6.jpg: 320x416 1 panel, 12.1ms\n",
      "image 665/1107 C:\\Users\\gnvca\\OneDrive\\Desktop\\JP\\model03S\\dataset\\images\\test\\IDamhqdEz.jpg: 320x416 2 panels, 17.5ms\n",
      "image 666/1107 C:\\Users\\gnvca\\OneDrive\\Desktop\\JP\\model03S\\dataset\\images\\test\\IDaqCww8DAlE.jpg: 320x416 (no detections), 16.8ms\n",
      "image 667/1107 C:\\Users\\gnvca\\OneDrive\\Desktop\\JP\\model03S\\dataset\\images\\test\\IDatWJwmZ0DB.jpg: 320x416 1 panel, 16.5ms\n",
      "image 668/1107 C:\\Users\\gnvca\\OneDrive\\Desktop\\JP\\model03S\\dataset\\images\\test\\IDavDU3L6bSdro.jpg: 320x416 2 panels, 15.6ms\n",
      "image 669/1107 C:\\Users\\gnvca\\OneDrive\\Desktop\\JP\\model03S\\dataset\\images\\test\\IDazb2lUN99weo.jpg: 320x416 2 panels, 17.1ms\n",
      "image 670/1107 C:\\Users\\gnvca\\OneDrive\\Desktop\\JP\\model03S\\dataset\\images\\test\\IDb01j9ZD8s06.jpg: 320x416 (no detections), 18.0ms\n",
      "image 671/1107 C:\\Users\\gnvca\\OneDrive\\Desktop\\JP\\model03S\\dataset\\images\\test\\IDb2KVFyac.jpg: 320x416 2 panels, 16.4ms\n",
      "image 672/1107 C:\\Users\\gnvca\\OneDrive\\Desktop\\JP\\model03S\\dataset\\images\\test\\IDb9lDmHhHQCO78q.jpg: 320x416 1 panel, 12.8ms\n",
      "image 673/1107 C:\\Users\\gnvca\\OneDrive\\Desktop\\JP\\model03S\\dataset\\images\\test\\IDbD1omSlkidV.jpg: 320x416 2 panels, 15.7ms\n",
      "image 674/1107 C:\\Users\\gnvca\\OneDrive\\Desktop\\JP\\model03S\\dataset\\images\\test\\IDbDEFEt.jpg: 256x416 (no detections), 16.3ms\n",
      "image 675/1107 C:\\Users\\gnvca\\OneDrive\\Desktop\\JP\\model03S\\dataset\\images\\test\\IDbJX0Hx52ah.jpg: 320x416 2 panels, 15.9ms\n",
      "image 676/1107 C:\\Users\\gnvca\\OneDrive\\Desktop\\JP\\model03S\\dataset\\images\\test\\IDbLiUSzgkCkcy5.jpg: 320x416 (no detections), 13.2ms\n",
      "image 677/1107 C:\\Users\\gnvca\\OneDrive\\Desktop\\JP\\model03S\\dataset\\images\\test\\IDbR7xPNyhiD.jpg: 320x416 1 panel, 15.8ms\n",
      "image 678/1107 C:\\Users\\gnvca\\OneDrive\\Desktop\\JP\\model03S\\dataset\\images\\test\\IDbWrojSSTeTJ.jpg: 320x416 (no detections), 16.3ms\n",
      "image 679/1107 C:\\Users\\gnvca\\OneDrive\\Desktop\\JP\\model03S\\dataset\\images\\test\\IDbXOnSO2Rn195LHi.jpg: 384x416 (no detections), 21.2ms\n",
      "image 680/1107 C:\\Users\\gnvca\\OneDrive\\Desktop\\JP\\model03S\\dataset\\images\\test\\IDbY0sRcU2.jpg: 320x416 2 panels, 17.3ms\n",
      "image 681/1107 C:\\Users\\gnvca\\OneDrive\\Desktop\\JP\\model03S\\dataset\\images\\test\\IDbcYP7h6wmvGT.jpg: 320x416 (no detections), 16.4ms\n",
      "image 682/1107 C:\\Users\\gnvca\\OneDrive\\Desktop\\JP\\model03S\\dataset\\images\\test\\IDbkIxCkq1Gcbd.jpg: 320x416 2 panels, 17.0ms\n",
      "image 683/1107 C:\\Users\\gnvca\\OneDrive\\Desktop\\JP\\model03S\\dataset\\images\\test\\IDbq9826k0PN1mj.jpg: 320x416 (no detections), 16.0ms\n",
      "image 684/1107 C:\\Users\\gnvca\\OneDrive\\Desktop\\JP\\model03S\\dataset\\images\\test\\IDbt9gz.jpg: 320x416 2 panels, 13.2ms\n",
      "image 685/1107 C:\\Users\\gnvca\\OneDrive\\Desktop\\JP\\model03S\\dataset\\images\\test\\IDc1OSCfll.jpg: 320x416 (no detections), 17.8ms\n",
      "image 686/1107 C:\\Users\\gnvca\\OneDrive\\Desktop\\JP\\model03S\\dataset\\images\\test\\IDc2PPfBB.jpg: 320x416 1 panel, 16.7ms\n",
      "image 687/1107 C:\\Users\\gnvca\\OneDrive\\Desktop\\JP\\model03S\\dataset\\images\\test\\IDcB06ugrzp.jpg: 320x416 1 panel, 16.9ms\n",
      "image 688/1107 C:\\Users\\gnvca\\OneDrive\\Desktop\\JP\\model03S\\dataset\\images\\test\\IDcBdm0xGWi6La.jpg: 320x416 3 panels, 17.3ms\n",
      "image 689/1107 C:\\Users\\gnvca\\OneDrive\\Desktop\\JP\\model03S\\dataset\\images\\test\\IDcIGfvBad.jpg: 320x416 1 panel, 16.7ms\n",
      "image 690/1107 C:\\Users\\gnvca\\OneDrive\\Desktop\\JP\\model03S\\dataset\\images\\test\\IDcMgMwgrQZ.jpg: 320x416 2 panels, 17.0ms\n",
      "image 691/1107 C:\\Users\\gnvca\\OneDrive\\Desktop\\JP\\model03S\\dataset\\images\\test\\IDcN2Qip6Mtjbtqf1.jpg: 320x416 1 panel, 16.3ms\n",
      "image 692/1107 C:\\Users\\gnvca\\OneDrive\\Desktop\\JP\\model03S\\dataset\\images\\test\\IDcQ6PX7tU57og.jpg: 320x416 (no detections), 16.4ms\n",
      "image 693/1107 C:\\Users\\gnvca\\OneDrive\\Desktop\\JP\\model03S\\dataset\\images\\test\\IDcRklmiqe2lnR.jpg: 320x416 2 panels, 16.8ms\n",
      "image 694/1107 C:\\Users\\gnvca\\OneDrive\\Desktop\\JP\\model03S\\dataset\\images\\test\\IDcSTQJA.jpg: 320x416 (no detections), 13.1ms\n",
      "image 695/1107 C:\\Users\\gnvca\\OneDrive\\Desktop\\JP\\model03S\\dataset\\images\\test\\IDcT2eDuFEjN.jpg: 320x416 1 panel, 16.5ms\n",
      "image 696/1107 C:\\Users\\gnvca\\OneDrive\\Desktop\\JP\\model03S\\dataset\\images\\test\\IDcUhNwYOtFH77LQv.jpg: 320x416 3 panels, 18.7ms\n",
      "image 697/1107 C:\\Users\\gnvca\\OneDrive\\Desktop\\JP\\model03S\\dataset\\images\\test\\IDcWSNedOTWNTG.jpg: 320x416 (no detections), 16.4ms\n",
      "image 698/1107 C:\\Users\\gnvca\\OneDrive\\Desktop\\JP\\model03S\\dataset\\images\\test\\IDcWc5K7c.jpg: 320x416 1 panel, 15.8ms\n",
      "image 699/1107 C:\\Users\\gnvca\\OneDrive\\Desktop\\JP\\model03S\\dataset\\images\\test\\IDca05Iof6T2k1j1H.jpg: 416x416 (no detections), 26.1ms\n",
      "image 700/1107 C:\\Users\\gnvca\\OneDrive\\Desktop\\JP\\model03S\\dataset\\images\\test\\IDcgCI6bzWx.jpg: 320x416 4 panels, 14.1ms\n",
      "image 701/1107 C:\\Users\\gnvca\\OneDrive\\Desktop\\JP\\model03S\\dataset\\images\\test\\IDchMx6.jpg: 320x416 2 panels, 13.0ms\n",
      "image 702/1107 C:\\Users\\gnvca\\OneDrive\\Desktop\\JP\\model03S\\dataset\\images\\test\\IDcmg7gZ92I53q.jpg: 320x416 2 panels, 16.9ms\n",
      "image 703/1107 C:\\Users\\gnvca\\OneDrive\\Desktop\\JP\\model03S\\dataset\\images\\test\\IDcqqsVa5qUBZR3.jpg: 320x416 2 panels, 16.9ms\n",
      "image 704/1107 C:\\Users\\gnvca\\OneDrive\\Desktop\\JP\\model03S\\dataset\\images\\test\\IDcvc4Not6B.jpg: 256x416 (no detections), 12.4ms\n",
      "image 705/1107 C:\\Users\\gnvca\\OneDrive\\Desktop\\JP\\model03S\\dataset\\images\\test\\IDcw9GAC4.jpg: 416x320 (no detections), 20.8ms\n",
      "image 706/1107 C:\\Users\\gnvca\\OneDrive\\Desktop\\JP\\model03S\\dataset\\images\\test\\IDcwzfJ43NsHUd.jpg: 320x416 (no detections), 18.3ms\n",
      "image 707/1107 C:\\Users\\gnvca\\OneDrive\\Desktop\\JP\\model03S\\dataset\\images\\test\\IDcyvRo0jdDRGvw.jpg: 320x416 2 panels, 16.7ms\n",
      "image 708/1107 C:\\Users\\gnvca\\OneDrive\\Desktop\\JP\\model03S\\dataset\\images\\test\\IDd2BK4.jpg: 320x416 1 panel, 12.1ms\n",
      "image 709/1107 C:\\Users\\gnvca\\OneDrive\\Desktop\\JP\\model03S\\dataset\\images\\test\\IDd9jlgeyx2jztVi.jpg: 320x416 (no detections), 19.1ms\n",
      "image 710/1107 C:\\Users\\gnvca\\OneDrive\\Desktop\\JP\\model03S\\dataset\\images\\test\\IDdCLWAeLA5.jpg: 320x416 (no detections), 13.2ms\n",
      "image 711/1107 C:\\Users\\gnvca\\OneDrive\\Desktop\\JP\\model03S\\dataset\\images\\test\\IDdJ5Mx1Da.jpg: 320x416 2 panels, 15.7ms\n",
      "image 712/1107 C:\\Users\\gnvca\\OneDrive\\Desktop\\JP\\model03S\\dataset\\images\\test\\IDdJgpza52.jpg: 320x416 1 panel, 14.6ms\n",
      "image 713/1107 C:\\Users\\gnvca\\OneDrive\\Desktop\\JP\\model03S\\dataset\\images\\test\\IDdNEfKyWvldY.jpg: 320x416 2 panels, 13.1ms\n",
      "image 714/1107 C:\\Users\\gnvca\\OneDrive\\Desktop\\JP\\model03S\\dataset\\images\\test\\IDdOkSdRQnvacrgmc.jpg: 320x416 2 panels, 13.6ms\n",
      "image 715/1107 C:\\Users\\gnvca\\OneDrive\\Desktop\\JP\\model03S\\dataset\\images\\test\\IDdSc1XNcw.jpg: 416x384 1 boiler, 17.4ms\n",
      "image 716/1107 C:\\Users\\gnvca\\OneDrive\\Desktop\\JP\\model03S\\dataset\\images\\test\\IDdVW0vLk2.jpg: 320x416 2 panels, 16.5ms\n",
      "image 717/1107 C:\\Users\\gnvca\\OneDrive\\Desktop\\JP\\model03S\\dataset\\images\\test\\IDdXZDqE45.jpg: 320x416 1 panel, 15.1ms\n",
      "image 718/1107 C:\\Users\\gnvca\\OneDrive\\Desktop\\JP\\model03S\\dataset\\images\\test\\IDdbECLRkhBs2CVyl.jpg: 320x416 2 panels, 14.6ms\n",
      "image 719/1107 C:\\Users\\gnvca\\OneDrive\\Desktop\\JP\\model03S\\dataset\\images\\test\\IDdg5nrflocQ1.jpg: 416x352 (no detections), 21.0ms\n",
      "image 720/1107 C:\\Users\\gnvca\\OneDrive\\Desktop\\JP\\model03S\\dataset\\images\\test\\IDdiMQo63.jpg: 320x416 2 panels, 13.0ms\n",
      "image 721/1107 C:\\Users\\gnvca\\OneDrive\\Desktop\\JP\\model03S\\dataset\\images\\test\\IDdjUTm9nGY.jpg: 416x288 (no detections), 16.9ms\n",
      "image 722/1107 C:\\Users\\gnvca\\OneDrive\\Desktop\\JP\\model03S\\dataset\\images\\test\\IDdkbOy8W1.jpg: 320x416 (no detections), 16.2ms\n",
      "image 723/1107 C:\\Users\\gnvca\\OneDrive\\Desktop\\JP\\model03S\\dataset\\images\\test\\IDdmhFLqMfRdKp.jpg: 320x416 2 panels, 15.1ms\n",
      "image 724/1107 C:\\Users\\gnvca\\OneDrive\\Desktop\\JP\\model03S\\dataset\\images\\test\\IDdoaRB.jpg: 320x416 2 panels, 12.1ms\n",
      "image 725/1107 C:\\Users\\gnvca\\OneDrive\\Desktop\\JP\\model03S\\dataset\\images\\test\\IDdpmc5SF.jpg: 320x416 (no detections), 14.9ms\n",
      "image 726/1107 C:\\Users\\gnvca\\OneDrive\\Desktop\\JP\\model03S\\dataset\\images\\test\\IDdpxAjbvs.jpg: 320x416 2 panels, 15.5ms\n",
      "image 727/1107 C:\\Users\\gnvca\\OneDrive\\Desktop\\JP\\model03S\\dataset\\images\\test\\IDdtDlMEQkrkb.jpg: 320x416 (no detections), 14.7ms\n",
      "image 728/1107 C:\\Users\\gnvca\\OneDrive\\Desktop\\JP\\model03S\\dataset\\images\\test\\IDdxtX5nyTm5yZm.jpg: 320x416 2 panels, 12.5ms\n",
      "image 729/1107 C:\\Users\\gnvca\\OneDrive\\Desktop\\JP\\model03S\\dataset\\images\\test\\IDe2DyMFSd.jpg: 416x416 (no detections), 21.0ms\n",
      "image 730/1107 C:\\Users\\gnvca\\OneDrive\\Desktop\\JP\\model03S\\dataset\\images\\test\\IDe6Qw0xdA8wep.jpg: 320x416 1 panel, 16.0ms\n",
      "image 731/1107 C:\\Users\\gnvca\\OneDrive\\Desktop\\JP\\model03S\\dataset\\images\\test\\IDe79DfL9dI9H6.jpg: 320x416 (no detections), 15.7ms\n",
      "image 732/1107 C:\\Users\\gnvca\\OneDrive\\Desktop\\JP\\model03S\\dataset\\images\\test\\IDe8WeO9.jpg: 320x416 2 panels, 15.4ms\n",
      "image 733/1107 C:\\Users\\gnvca\\OneDrive\\Desktop\\JP\\model03S\\dataset\\images\\test\\IDeBWFhgDoovGq5v.jpg: 320x416 (no detections), 12.1ms\n",
      "image 734/1107 C:\\Users\\gnvca\\OneDrive\\Desktop\\JP\\model03S\\dataset\\images\\test\\IDeDtyP8.jpg: 320x416 1 panel, 12.1ms\n",
      "image 735/1107 C:\\Users\\gnvca\\OneDrive\\Desktop\\JP\\model03S\\dataset\\images\\test\\IDeDyorf.jpg: 416x416 (no detections), 18.9ms\n",
      "image 736/1107 C:\\Users\\gnvca\\OneDrive\\Desktop\\JP\\model03S\\dataset\\images\\test\\IDeNQFA9PDuwO6.jpg: 320x416 2 panels, 15.6ms\n",
      "image 737/1107 C:\\Users\\gnvca\\OneDrive\\Desktop\\JP\\model03S\\dataset\\images\\test\\IDeO7U85AcVvELt.jpg: 320x416 2 panels, 14.1ms\n",
      "image 738/1107 C:\\Users\\gnvca\\OneDrive\\Desktop\\JP\\model03S\\dataset\\images\\test\\IDeR6r4xk5.jpg: 320x416 3 panels, 15.2ms\n",
      "image 739/1107 C:\\Users\\gnvca\\OneDrive\\Desktop\\JP\\model03S\\dataset\\images\\test\\IDeTD5SBL.jpg: 320x416 (no detections), 17.2ms\n",
      "image 740/1107 C:\\Users\\gnvca\\OneDrive\\Desktop\\JP\\model03S\\dataset\\images\\test\\IDehALBezgA.jpg: 256x416 3 panels, 16.3ms\n",
      "image 741/1107 C:\\Users\\gnvca\\OneDrive\\Desktop\\JP\\model03S\\dataset\\images\\test\\IDehIqzoS53TfNsJ.jpg: 384x416 (no detections), 14.9ms\n",
      "image 742/1107 C:\\Users\\gnvca\\OneDrive\\Desktop\\JP\\model03S\\dataset\\images\\test\\IDeioFIPOnDoo.jpg: 416x320 (no detections), 19.3ms\n",
      "image 743/1107 C:\\Users\\gnvca\\OneDrive\\Desktop\\JP\\model03S\\dataset\\images\\test\\IDemRFx0toPvzm2o.jpg: 352x416 1 boiler, 18.7ms\n",
      "image 744/1107 C:\\Users\\gnvca\\OneDrive\\Desktop\\JP\\model03S\\dataset\\images\\test\\IDeqaCjERp.jpg: 320x416 (no detections), 14.9ms\n",
      "image 745/1107 C:\\Users\\gnvca\\OneDrive\\Desktop\\JP\\model03S\\dataset\\images\\test\\IDeqyrqqM.jpg: 320x416 1 panel, 14.2ms\n",
      "image 746/1107 C:\\Users\\gnvca\\OneDrive\\Desktop\\JP\\model03S\\dataset\\images\\test\\IDesLAt.jpg: 320x416 (no detections), 15.7ms\n",
      "image 747/1107 C:\\Users\\gnvca\\OneDrive\\Desktop\\JP\\model03S\\dataset\\images\\test\\IDewOvHBc.jpg: 320x416 4 panels, 15.1ms\n",
      "image 748/1107 C:\\Users\\gnvca\\OneDrive\\Desktop\\JP\\model03S\\dataset\\images\\test\\IDexcDeBzqKIP.jpg: 320x416 1 panel, 20.7ms\n",
      "image 749/1107 C:\\Users\\gnvca\\OneDrive\\Desktop\\JP\\model03S\\dataset\\images\\test\\IDf4lC21rIcYDl84L.jpg: 416x416 1 panel, 27.4ms\n",
      "image 750/1107 C:\\Users\\gnvca\\OneDrive\\Desktop\\JP\\model03S\\dataset\\images\\test\\IDf59QeKci.jpg: 224x416 10 panels, 12.3ms\n",
      "image 751/1107 C:\\Users\\gnvca\\OneDrive\\Desktop\\JP\\model03S\\dataset\\images\\test\\IDfBp593KKcj.jpg: 320x416 1 panel, 17.5ms\n",
      "image 752/1107 C:\\Users\\gnvca\\OneDrive\\Desktop\\JP\\model03S\\dataset\\images\\test\\IDfHB03By.jpg: 320x416 3 panels, 18.1ms\n",
      "image 753/1107 C:\\Users\\gnvca\\OneDrive\\Desktop\\JP\\model03S\\dataset\\images\\test\\IDfHtOTOCG2V3lc1.jpg: 320x416 2 panels, 15.0ms\n",
      "image 754/1107 C:\\Users\\gnvca\\OneDrive\\Desktop\\JP\\model03S\\dataset\\images\\test\\IDfPVsEKkwHy.jpg: 320x416 (no detections), 18.6ms\n",
      "image 755/1107 C:\\Users\\gnvca\\OneDrive\\Desktop\\JP\\model03S\\dataset\\images\\test\\IDfZiMG9FwcwX7f.jpg: 320x416 (no detections), 18.4ms\n",
      "image 756/1107 C:\\Users\\gnvca\\OneDrive\\Desktop\\JP\\model03S\\dataset\\images\\test\\IDfb1VygIPlC3A.jpg: 224x416 (no detections), 11.6ms\n",
      "image 757/1107 C:\\Users\\gnvca\\OneDrive\\Desktop\\JP\\model03S\\dataset\\images\\test\\IDfhtA2AH.jpg: 320x416 2 panels, 21.1ms\n",
      "image 758/1107 C:\\Users\\gnvca\\OneDrive\\Desktop\\JP\\model03S\\dataset\\images\\test\\IDfjjxFQEmkaKd.jpg: 320x416 2 panels, 16.6ms\n",
      "image 759/1107 C:\\Users\\gnvca\\OneDrive\\Desktop\\JP\\model03S\\dataset\\images\\test\\IDfoh2BbM6k6Ltth1.jpg: 320x416 1 panel, 22.4ms\n",
      "image 760/1107 C:\\Users\\gnvca\\OneDrive\\Desktop\\JP\\model03S\\dataset\\images\\test\\IDfyqpN71oX5i.jpg: 320x416 2 panels, 17.7ms\n",
      "image 761/1107 C:\\Users\\gnvca\\OneDrive\\Desktop\\JP\\model03S\\dataset\\images\\test\\IDg2f6R8YHKW10.jpg: 320x416 (no detections), 18.0ms\n",
      "image 762/1107 C:\\Users\\gnvca\\OneDrive\\Desktop\\JP\\model03S\\dataset\\images\\test\\IDgD25Jwes6.jpg: 320x416 2 panels, 14.8ms\n",
      "image 763/1107 C:\\Users\\gnvca\\OneDrive\\Desktop\\JP\\model03S\\dataset\\images\\test\\IDgJwOwX7Gx.jpg: 320x416 (no detections), 16.9ms\n",
      "image 764/1107 C:\\Users\\gnvca\\OneDrive\\Desktop\\JP\\model03S\\dataset\\images\\test\\IDgJwPTt.jpg: 384x416 1 boiler, 25.1ms\n",
      "image 765/1107 C:\\Users\\gnvca\\OneDrive\\Desktop\\JP\\model03S\\dataset\\images\\test\\IDgLRhwfNmN.jpg: 320x416 2 panels, 16.8ms\n",
      "image 766/1107 C:\\Users\\gnvca\\OneDrive\\Desktop\\JP\\model03S\\dataset\\images\\test\\IDgPMfQg.jpg: 320x416 1 panel, 18.4ms\n",
      "image 767/1107 C:\\Users\\gnvca\\OneDrive\\Desktop\\JP\\model03S\\dataset\\images\\test\\IDgPUmJvPRcKt7h.jpg: 416x256 1 boiler, 17.7ms\n",
      "image 768/1107 C:\\Users\\gnvca\\OneDrive\\Desktop\\JP\\model03S\\dataset\\images\\test\\IDgRFe33jSDT.jpg: 320x416 (no detections), 19.1ms\n",
      "image 769/1107 C:\\Users\\gnvca\\OneDrive\\Desktop\\JP\\model03S\\dataset\\images\\test\\IDgRXG9MiR7hG5.jpg: 320x416 1 panel, 59.0ms\n",
      "image 770/1107 C:\\Users\\gnvca\\OneDrive\\Desktop\\JP\\model03S\\dataset\\images\\test\\IDga0A3FC2yjKe.jpg: 320x416 1 panel, 53.8ms\n",
      "image 771/1107 C:\\Users\\gnvca\\OneDrive\\Desktop\\JP\\model03S\\dataset\\images\\test\\IDgics9.jpg: 320x416 1 panel, 54.1ms\n",
      "image 772/1107 C:\\Users\\gnvca\\OneDrive\\Desktop\\JP\\model03S\\dataset\\images\\test\\IDgjZNMt4Uv.jpg: 320x416 2 panels, 18.7ms\n",
      "image 773/1107 C:\\Users\\gnvca\\OneDrive\\Desktop\\JP\\model03S\\dataset\\images\\test\\IDgnnxMl.jpg: 320x416 (no detections), 14.0ms\n",
      "image 774/1107 C:\\Users\\gnvca\\OneDrive\\Desktop\\JP\\model03S\\dataset\\images\\test\\IDgvyifcLumNIo.jpg: 320x416 (no detections), 53.8ms\n",
      "image 775/1107 C:\\Users\\gnvca\\OneDrive\\Desktop\\JP\\model03S\\dataset\\images\\test\\IDgx6TeI2nAOvv.jpg: 320x416 2 panels, 7.9ms\n",
      "image 776/1107 C:\\Users\\gnvca\\OneDrive\\Desktop\\JP\\model03S\\dataset\\images\\test\\IDh0WT4tLPMow.jpg: 320x416 2 panels, 7.8ms\n",
      "image 777/1107 C:\\Users\\gnvca\\OneDrive\\Desktop\\JP\\model03S\\dataset\\images\\test\\IDh3spvR6w2f.jpg: 320x416 2 panels, 47.3ms\n",
      "image 778/1107 C:\\Users\\gnvca\\OneDrive\\Desktop\\JP\\model03S\\dataset\\images\\test\\IDh7QpDXdppTnhXm7.jpg: 320x416 2 panels, 9.0ms\n",
      "image 779/1107 C:\\Users\\gnvca\\OneDrive\\Desktop\\JP\\model03S\\dataset\\images\\test\\IDh8QdLyACM2oOTtM.jpg: 320x416 2 panels, 49.6ms\n",
      "image 780/1107 C:\\Users\\gnvca\\OneDrive\\Desktop\\JP\\model03S\\dataset\\images\\test\\IDhFdm4g8b.jpg: 320x416 2 panels, 53.3ms\n",
      "image 781/1107 C:\\Users\\gnvca\\OneDrive\\Desktop\\JP\\model03S\\dataset\\images\\test\\IDhGsx0Xy0kpScIH7.jpg: 416x352 2 boilers, 15.4ms\n",
      "image 782/1107 C:\\Users\\gnvca\\OneDrive\\Desktop\\JP\\model03S\\dataset\\images\\test\\IDhHxnji3MiXO3n.jpg: 320x416 1 panel, 9.0ms\n",
      "image 783/1107 C:\\Users\\gnvca\\OneDrive\\Desktop\\JP\\model03S\\dataset\\images\\test\\IDhNHoBofr.jpg: 320x416 2 panels, 8.9ms\n",
      "image 784/1107 C:\\Users\\gnvca\\OneDrive\\Desktop\\JP\\model03S\\dataset\\images\\test\\IDhQbMLoK.jpg: 320x416 2 panels, 6.6ms\n",
      "image 785/1107 C:\\Users\\gnvca\\OneDrive\\Desktop\\JP\\model03S\\dataset\\images\\test\\IDhnxCqQE.jpg: 320x416 (no detections), 5.2ms\n",
      "image 786/1107 C:\\Users\\gnvca\\OneDrive\\Desktop\\JP\\model03S\\dataset\\images\\test\\IDhpHJgx78k59U.jpg: 320x416 (no detections), 6.3ms\n",
      "image 787/1107 C:\\Users\\gnvca\\OneDrive\\Desktop\\JP\\model03S\\dataset\\images\\test\\IDhpXhW3G8HNQ.jpg: 416x416 (no detections), 11.8ms\n",
      "image 788/1107 C:\\Users\\gnvca\\OneDrive\\Desktop\\JP\\model03S\\dataset\\images\\test\\IDi0TPtB7Oxl.jpg: 416x384 1 boiler, 8.1ms\n",
      "image 789/1107 C:\\Users\\gnvca\\OneDrive\\Desktop\\JP\\model03S\\dataset\\images\\test\\IDi3gpGmGzS.jpg: 320x416 2 panels, 6.6ms\n",
      "image 790/1107 C:\\Users\\gnvca\\OneDrive\\Desktop\\JP\\model03S\\dataset\\images\\test\\IDi4lmEl.jpg: 320x416 (no detections), 6.3ms\n",
      "image 791/1107 C:\\Users\\gnvca\\OneDrive\\Desktop\\JP\\model03S\\dataset\\images\\test\\IDi7GbZBxQzhRSCa.jpg: 320x416 2 panels, 5.9ms\n",
      "image 792/1107 C:\\Users\\gnvca\\OneDrive\\Desktop\\JP\\model03S\\dataset\\images\\test\\IDiCnbnsKP4VX.jpg: 320x416 2 panels, 5.3ms\n",
      "image 793/1107 C:\\Users\\gnvca\\OneDrive\\Desktop\\JP\\model03S\\dataset\\images\\test\\IDiHUEa7vw.jpg: 320x416 2 panels, 9.3ms\n",
      "image 794/1107 C:\\Users\\gnvca\\OneDrive\\Desktop\\JP\\model03S\\dataset\\images\\test\\IDiK140.jpg: 320x416 1 panel, 7.1ms\n",
      "image 795/1107 C:\\Users\\gnvca\\OneDrive\\Desktop\\JP\\model03S\\dataset\\images\\test\\IDiK7pAHf8UkwO.jpg: 320x416 2 panels, 6.8ms\n",
      "image 796/1107 C:\\Users\\gnvca\\OneDrive\\Desktop\\JP\\model03S\\dataset\\images\\test\\IDiN6w5.jpg: 320x416 2 panels, 5.4ms\n",
      "image 797/1107 C:\\Users\\gnvca\\OneDrive\\Desktop\\JP\\model03S\\dataset\\images\\test\\IDiR294r2KvPj.jpg: 320x416 1 panel, 7.6ms\n",
      "image 798/1107 C:\\Users\\gnvca\\OneDrive\\Desktop\\JP\\model03S\\dataset\\images\\test\\IDiTxlY6rJd01Gy0v.jpg: 320x416 2 panels, 5.9ms\n",
      "image 799/1107 C:\\Users\\gnvca\\OneDrive\\Desktop\\JP\\model03S\\dataset\\images\\test\\IDiYvYK16iU.jpg: 320x416 1 panel, 9.9ms\n",
      "image 800/1107 C:\\Users\\gnvca\\OneDrive\\Desktop\\JP\\model03S\\dataset\\images\\test\\IDiZDQ2wZ.jpg: 256x416 (no detections), 7.8ms\n",
      "image 801/1107 C:\\Users\\gnvca\\OneDrive\\Desktop\\JP\\model03S\\dataset\\images\\test\\IDiegPLhfMs.jpg: 320x416 1 panel, 8.8ms\n",
      "image 802/1107 C:\\Users\\gnvca\\OneDrive\\Desktop\\JP\\model03S\\dataset\\images\\test\\IDig9giw0C.jpg: 320x416 2 panels, 6.3ms\n",
      "image 803/1107 C:\\Users\\gnvca\\OneDrive\\Desktop\\JP\\model03S\\dataset\\images\\test\\IDisV8b2.jpg: 320x416 3 panels, 5.1ms\n",
      "image 804/1107 C:\\Users\\gnvca\\OneDrive\\Desktop\\JP\\model03S\\dataset\\images\\test\\IDiuNxfVp1jl.jpg: 320x416 1 panel, 8.3ms\n",
      "image 805/1107 C:\\Users\\gnvca\\OneDrive\\Desktop\\JP\\model03S\\dataset\\images\\test\\IDiuf5QgC.jpg: 320x416 1 panel, 7.9ms\n",
      "image 806/1107 C:\\Users\\gnvca\\OneDrive\\Desktop\\JP\\model03S\\dataset\\images\\test\\IDivSMJ1Md.jpg: 320x416 1 panel, 6.0ms\n",
      "image 807/1107 C:\\Users\\gnvca\\OneDrive\\Desktop\\JP\\model03S\\dataset\\images\\test\\IDiyUFhRnXKXjtNx.jpg: 320x416 2 panels, 6.1ms\n",
      "image 808/1107 C:\\Users\\gnvca\\OneDrive\\Desktop\\JP\\model03S\\dataset\\images\\test\\IDizGQwNSrYMftB.jpg: 320x416 1 panel, 7.9ms\n",
      "image 809/1107 C:\\Users\\gnvca\\OneDrive\\Desktop\\JP\\model03S\\dataset\\images\\test\\IDizu9pgTy.jpg: 320x416 (no detections), 10.4ms\n",
      "image 810/1107 C:\\Users\\gnvca\\OneDrive\\Desktop\\JP\\model03S\\dataset\\images\\test\\IDj2wByY7.jpg: 320x416 2 panels, 9.1ms\n",
      "image 811/1107 C:\\Users\\gnvca\\OneDrive\\Desktop\\JP\\model03S\\dataset\\images\\test\\IDj7eB3fSQ8EoIzg.jpg: 320x416 2 panels, 8.1ms\n",
      "image 812/1107 C:\\Users\\gnvca\\OneDrive\\Desktop\\JP\\model03S\\dataset\\images\\test\\IDjAB4pmmuQQqJ.jpg: 320x416 2 panels, 6.5ms\n",
      "image 813/1107 C:\\Users\\gnvca\\OneDrive\\Desktop\\JP\\model03S\\dataset\\images\\test\\IDjBfEBujJL5qKavy.jpg: 416x416 (no detections), 9.3ms\n",
      "image 814/1107 C:\\Users\\gnvca\\OneDrive\\Desktop\\JP\\model03S\\dataset\\images\\test\\IDjDA6UhZ7.jpg: 320x416 (no detections), 9.0ms\n",
      "image 815/1107 C:\\Users\\gnvca\\OneDrive\\Desktop\\JP\\model03S\\dataset\\images\\test\\IDjHOF5DWk8.jpg: 320x416 2 panels, 7.8ms\n",
      "image 816/1107 C:\\Users\\gnvca\\OneDrive\\Desktop\\JP\\model03S\\dataset\\images\\test\\IDjJU6cmInWFDUY.jpg: 384x416 (no detections), 15.8ms\n",
      "image 817/1107 C:\\Users\\gnvca\\OneDrive\\Desktop\\JP\\model03S\\dataset\\images\\test\\IDjNKiAGj.jpg: 320x416 (no detections), 8.8ms\n",
      "image 818/1107 C:\\Users\\gnvca\\OneDrive\\Desktop\\JP\\model03S\\dataset\\images\\test\\IDjSTBtSYUX8Ll.jpg: 320x416 2 panels, 8.0ms\n",
      "image 819/1107 C:\\Users\\gnvca\\OneDrive\\Desktop\\JP\\model03S\\dataset\\images\\test\\IDjSgprAT12eK9Fn.jpg: 320x416 1 panel, 8.0ms\n",
      "image 820/1107 C:\\Users\\gnvca\\OneDrive\\Desktop\\JP\\model03S\\dataset\\images\\test\\IDjWpAQhi9vQ.jpg: 320x416 1 panel, 8.5ms\n",
      "image 821/1107 C:\\Users\\gnvca\\OneDrive\\Desktop\\JP\\model03S\\dataset\\images\\test\\IDjbuqqRCaT5e2v.jpg: 320x416 (no detections), 9.4ms\n",
      "image 822/1107 C:\\Users\\gnvca\\OneDrive\\Desktop\\JP\\model03S\\dataset\\images\\test\\IDjfs57M6E.jpg: 320x416 (no detections), 12.6ms\n",
      "image 823/1107 C:\\Users\\gnvca\\OneDrive\\Desktop\\JP\\model03S\\dataset\\images\\test\\IDjnAx1yQ.jpg: 416x320 (no detections), 15.1ms\n",
      "image 824/1107 C:\\Users\\gnvca\\OneDrive\\Desktop\\JP\\model03S\\dataset\\images\\test\\IDjq8HgS.jpg: 320x416 3 panels, 12.9ms\n",
      "image 825/1107 C:\\Users\\gnvca\\OneDrive\\Desktop\\JP\\model03S\\dataset\\images\\test\\IDjuqSPl.jpg: 320x416 2 panels, 8.9ms\n",
      "image 826/1107 C:\\Users\\gnvca\\OneDrive\\Desktop\\JP\\model03S\\dataset\\images\\test\\IDjwe9PLDuZw.jpg: 320x416 (no detections), 12.2ms\n",
      "image 827/1107 C:\\Users\\gnvca\\OneDrive\\Desktop\\JP\\model03S\\dataset\\images\\test\\IDkBIxi8xMKNQuExC.jpg: 320x416 2 panels, 11.2ms\n",
      "image 828/1107 C:\\Users\\gnvca\\OneDrive\\Desktop\\JP\\model03S\\dataset\\images\\test\\IDkDplaVILHxX3.jpg: 320x416 1 panel, 9.0ms\n",
      "image 829/1107 C:\\Users\\gnvca\\OneDrive\\Desktop\\JP\\model03S\\dataset\\images\\test\\IDkFTOjrT.jpg: 320x416 (no detections), 13.4ms\n",
      "image 830/1107 C:\\Users\\gnvca\\OneDrive\\Desktop\\JP\\model03S\\dataset\\images\\test\\IDkFY0j5.jpg: 320x416 1 panel, 12.8ms\n",
      "image 831/1107 C:\\Users\\gnvca\\OneDrive\\Desktop\\JP\\model03S\\dataset\\images\\test\\IDkK808TgvSJIs.jpg: 320x416 2 panels, 13.4ms\n",
      "image 832/1107 C:\\Users\\gnvca\\OneDrive\\Desktop\\JP\\model03S\\dataset\\images\\test\\IDkNkmmTt22Xb.jpg: 384x416 (no detections), 17.4ms\n",
      "image 833/1107 C:\\Users\\gnvca\\OneDrive\\Desktop\\JP\\model03S\\dataset\\images\\test\\IDkR1Xzw0DZ0.jpg: 320x416 2 panels, 14.4ms\n",
      "image 834/1107 C:\\Users\\gnvca\\OneDrive\\Desktop\\JP\\model03S\\dataset\\images\\test\\IDkRQEoXmj6Cce.jpg: 320x416 (no detections), 10.0ms\n",
      "image 835/1107 C:\\Users\\gnvca\\OneDrive\\Desktop\\JP\\model03S\\dataset\\images\\test\\IDkRSactfW.jpg: 320x416 (no detections), 13.8ms\n",
      "image 836/1107 C:\\Users\\gnvca\\OneDrive\\Desktop\\JP\\model03S\\dataset\\images\\test\\IDkWH4hS5iviJ3s.jpg: 320x416 1 panel, 10.1ms\n",
      "image 837/1107 C:\\Users\\gnvca\\OneDrive\\Desktop\\JP\\model03S\\dataset\\images\\test\\IDkbKjqi7yTko5.jpg: 320x416 (no detections), 14.5ms\n",
      "image 838/1107 C:\\Users\\gnvca\\OneDrive\\Desktop\\JP\\model03S\\dataset\\images\\test\\IDkcvXX.jpg: 320x416 2 panels, 13.9ms\n",
      "image 839/1107 C:\\Users\\gnvca\\OneDrive\\Desktop\\JP\\model03S\\dataset\\images\\test\\IDkeSQz.jpg: 416x352 1 boiler, 20.3ms\n",
      "image 840/1107 C:\\Users\\gnvca\\OneDrive\\Desktop\\JP\\model03S\\dataset\\images\\test\\IDkiGw9TiTXsW6R.jpg: 160x416 (no detections), 81.0ms\n",
      "image 841/1107 C:\\Users\\gnvca\\OneDrive\\Desktop\\JP\\model03S\\dataset\\images\\test\\IDkjdTvFgeFJS.jpg: 320x416 3 panels, 14.4ms\n",
      "image 842/1107 C:\\Users\\gnvca\\OneDrive\\Desktop\\JP\\model03S\\dataset\\images\\test\\IDkjnOmI2j.jpg: 320x416 (no detections), 17.2ms\n",
      "image 843/1107 C:\\Users\\gnvca\\OneDrive\\Desktop\\JP\\model03S\\dataset\\images\\test\\IDkoAD6EMa3fAafWy.jpg: 320x416 1 panel, 16.1ms\n",
      "image 844/1107 C:\\Users\\gnvca\\OneDrive\\Desktop\\JP\\model03S\\dataset\\images\\test\\IDkr0bOGzItJ2NB.jpg: 320x416 1 panel, 17.4ms\n",
      "image 845/1107 C:\\Users\\gnvca\\OneDrive\\Desktop\\JP\\model03S\\dataset\\images\\test\\IDkrUclWabw5y80Dl.jpg: 320x416 2 panels, 16.3ms\n",
      "image 846/1107 C:\\Users\\gnvca\\OneDrive\\Desktop\\JP\\model03S\\dataset\\images\\test\\IDkrVt2VlhDn4.jpg: 288x416 1 boiler, 12.5ms\n",
      "image 847/1107 C:\\Users\\gnvca\\OneDrive\\Desktop\\JP\\model03S\\dataset\\images\\test\\IDksZUMc3dXN.jpg: 320x416 1 panel, 17.3ms\n",
      "image 848/1107 C:\\Users\\gnvca\\OneDrive\\Desktop\\JP\\model03S\\dataset\\images\\test\\IDkwf3C5.jpg: 320x416 2 panels, 17.3ms\n",
      "image 849/1107 C:\\Users\\gnvca\\OneDrive\\Desktop\\JP\\model03S\\dataset\\images\\test\\IDkwmB8HuVexEKyF.jpg: 320x416 (no detections), 12.1ms\n",
      "image 850/1107 C:\\Users\\gnvca\\OneDrive\\Desktop\\JP\\model03S\\dataset\\images\\test\\IDl1I6qKFB.jpg: 320x416 1 panel, 16.4ms\n",
      "image 851/1107 C:\\Users\\gnvca\\OneDrive\\Desktop\\JP\\model03S\\dataset\\images\\test\\IDl2ikVSWYsIR4.jpg: 320x416 2 panels, 17.5ms\n",
      "image 852/1107 C:\\Users\\gnvca\\OneDrive\\Desktop\\JP\\model03S\\dataset\\images\\test\\IDl61gpuwGuu2VBe6.jpg: 320x416 2 panels, 16.8ms\n",
      "image 853/1107 C:\\Users\\gnvca\\OneDrive\\Desktop\\JP\\model03S\\dataset\\images\\test\\IDl8smcVY.jpg: 320x416 (no detections), 17.7ms\n",
      "image 854/1107 C:\\Users\\gnvca\\OneDrive\\Desktop\\JP\\model03S\\dataset\\images\\test\\IDl8ztEn732s.jpg: 320x416 2 panels, 16.0ms\n",
      "image 855/1107 C:\\Users\\gnvca\\OneDrive\\Desktop\\JP\\model03S\\dataset\\images\\test\\IDlCNybSlU.jpg: 320x416 (no detections), 15.6ms\n",
      "image 856/1107 C:\\Users\\gnvca\\OneDrive\\Desktop\\JP\\model03S\\dataset\\images\\test\\IDlDVXnnhQ.jpg: 320x416 2 panels, 17.3ms\n",
      "image 857/1107 C:\\Users\\gnvca\\OneDrive\\Desktop\\JP\\model03S\\dataset\\images\\test\\IDlHiU8WEhZh7qr6t.jpg: 320x416 2 panels, 17.0ms\n",
      "image 858/1107 C:\\Users\\gnvca\\OneDrive\\Desktop\\JP\\model03S\\dataset\\images\\test\\IDlKmmyiL.jpg: 320x416 2 panels, 18.1ms\n",
      "image 859/1107 C:\\Users\\gnvca\\OneDrive\\Desktop\\JP\\model03S\\dataset\\images\\test\\IDlPPpV6kQaB32S3V.jpg: 320x416 1 panel, 17.9ms\n",
      "image 860/1107 C:\\Users\\gnvca\\OneDrive\\Desktop\\JP\\model03S\\dataset\\images\\test\\IDlUG5f.jpg: 416x384 26 panels, 20.7ms\n",
      "image 861/1107 C:\\Users\\gnvca\\OneDrive\\Desktop\\JP\\model03S\\dataset\\images\\test\\IDlebSazeuALRHXt.jpg: 320x416 2 panels, 21.7ms\n",
      "image 862/1107 C:\\Users\\gnvca\\OneDrive\\Desktop\\JP\\model03S\\dataset\\images\\test\\IDllJl34XIaiBwe0.jpg: 320x416 2 panels, 12.1ms\n",
      "image 863/1107 C:\\Users\\gnvca\\OneDrive\\Desktop\\JP\\model03S\\dataset\\images\\test\\IDlt4mIpDekp.jpg: 320x416 2 panels, 17.2ms\n",
      "image 864/1107 C:\\Users\\gnvca\\OneDrive\\Desktop\\JP\\model03S\\dataset\\images\\test\\IDlvz0GPH0C.jpg: 320x416 (no detections), 17.7ms\n",
      "image 865/1107 C:\\Users\\gnvca\\OneDrive\\Desktop\\JP\\model03S\\dataset\\images\\test\\IDlyqsitfBaR6Ru2.jpg: 320x416 2 panels, 17.6ms\n",
      "image 866/1107 C:\\Users\\gnvca\\OneDrive\\Desktop\\JP\\model03S\\dataset\\images\\test\\IDlz4WyHQB.jpg: 416x320 1 panel, 22.2ms\n",
      "image 867/1107 C:\\Users\\gnvca\\OneDrive\\Desktop\\JP\\model03S\\dataset\\images\\test\\IDm1Clr2P.jpg: 320x416 (no detections), 17.3ms\n",
      "image 868/1107 C:\\Users\\gnvca\\OneDrive\\Desktop\\JP\\model03S\\dataset\\images\\test\\IDm2mR13.jpg: 320x416 (no detections), 12.1ms\n",
      "image 869/1107 C:\\Users\\gnvca\\OneDrive\\Desktop\\JP\\model03S\\dataset\\images\\test\\IDm5GhcKr5rQdFl.jpg: 384x416 (no detections), 19.4ms\n",
      "image 870/1107 C:\\Users\\gnvca\\OneDrive\\Desktop\\JP\\model03S\\dataset\\images\\test\\IDm75Ep.jpg: 320x416 (no detections), 21.0ms\n",
      "image 871/1107 C:\\Users\\gnvca\\OneDrive\\Desktop\\JP\\model03S\\dataset\\images\\test\\IDmFbhcwad.jpg: 320x416 2 panels, 14.8ms\n",
      "image 872/1107 C:\\Users\\gnvca\\OneDrive\\Desktop\\JP\\model03S\\dataset\\images\\test\\IDmG8Bpodi.jpg: 320x416 1 panel, 16.4ms\n",
      "image 873/1107 C:\\Users\\gnvca\\OneDrive\\Desktop\\JP\\model03S\\dataset\\images\\test\\IDmGnaPs8o.jpg: 352x416 2 panels, 20.8ms\n",
      "image 874/1107 C:\\Users\\gnvca\\OneDrive\\Desktop\\JP\\model03S\\dataset\\images\\test\\IDmPXoiaTL4S7Uo.jpg: 320x416 2 panels, 19.1ms\n",
      "image 875/1107 C:\\Users\\gnvca\\OneDrive\\Desktop\\JP\\model03S\\dataset\\images\\test\\IDmPwMU1ne.jpg: 320x416 2 panels, 17.5ms\n",
      "image 876/1107 C:\\Users\\gnvca\\OneDrive\\Desktop\\JP\\model03S\\dataset\\images\\test\\IDmT12RqHPlDRT.jpg: 320x416 1 panel, 16.4ms\n",
      "image 877/1107 C:\\Users\\gnvca\\OneDrive\\Desktop\\JP\\model03S\\dataset\\images\\test\\IDmXAQPZ9rnW.jpg: 320x416 (no detections), 14.9ms\n",
      "image 878/1107 C:\\Users\\gnvca\\OneDrive\\Desktop\\JP\\model03S\\dataset\\images\\test\\IDmYwz0cS1lm2C.jpg: 320x416 1 panel, 13.3ms\n",
      "image 879/1107 C:\\Users\\gnvca\\OneDrive\\Desktop\\JP\\model03S\\dataset\\images\\test\\IDmeBiNPwUvvwlCl.jpg: 416x256 1 boiler, 25.3ms\n",
      "image 880/1107 C:\\Users\\gnvca\\OneDrive\\Desktop\\JP\\model03S\\dataset\\images\\test\\IDmj8aYANCdJ2GtkD.jpg: 320x416 (no detections), 17.1ms\n",
      "image 881/1107 C:\\Users\\gnvca\\OneDrive\\Desktop\\JP\\model03S\\dataset\\images\\test\\IDmjXZht.jpg: 320x416 (no detections), 16.4ms\n",
      "image 882/1107 C:\\Users\\gnvca\\OneDrive\\Desktop\\JP\\model03S\\dataset\\images\\test\\IDmjgW5VMiKo.jpg: 320x416 (no detections), 16.4ms\n",
      "image 883/1107 C:\\Users\\gnvca\\OneDrive\\Desktop\\JP\\model03S\\dataset\\images\\test\\IDn2CgM4hNLqd.jpg: 320x416 1 panel, 13.3ms\n",
      "image 884/1107 C:\\Users\\gnvca\\OneDrive\\Desktop\\JP\\model03S\\dataset\\images\\test\\IDn33hkv9l.jpg: 320x416 4 panels, 17.0ms\n",
      "image 885/1107 C:\\Users\\gnvca\\OneDrive\\Desktop\\JP\\model03S\\dataset\\images\\test\\IDn5IY27NFFHWtbC.jpg: 320x416 1 panel, 19.1ms\n",
      "image 886/1107 C:\\Users\\gnvca\\OneDrive\\Desktop\\JP\\model03S\\dataset\\images\\test\\IDn5mFxsP.jpg: 320x416 (no detections), 16.3ms\n",
      "image 887/1107 C:\\Users\\gnvca\\OneDrive\\Desktop\\JP\\model03S\\dataset\\images\\test\\IDn6oUE.jpg: 320x416 2 panels, 16.0ms\n",
      "image 888/1107 C:\\Users\\gnvca\\OneDrive\\Desktop\\JP\\model03S\\dataset\\images\\test\\IDnEua1Or7Ea2EINQ.jpg: 416x416 (no detections), 18.7ms\n",
      "image 889/1107 C:\\Users\\gnvca\\OneDrive\\Desktop\\JP\\model03S\\dataset\\images\\test\\IDnNy14r.jpg: 320x416 (no detections), 14.9ms\n",
      "image 890/1107 C:\\Users\\gnvca\\OneDrive\\Desktop\\JP\\model03S\\dataset\\images\\test\\IDnO18dr.jpg: 320x416 (no detections), 12.1ms\n",
      "image 891/1107 C:\\Users\\gnvca\\OneDrive\\Desktop\\JP\\model03S\\dataset\\images\\test\\IDnSfoanh9W2wgV.jpg: 320x416 2 panels, 16.7ms\n",
      "image 892/1107 C:\\Users\\gnvca\\OneDrive\\Desktop\\JP\\model03S\\dataset\\images\\test\\IDnWyBZSLNDnlmxj.jpg: 320x416 2 panels, 17.2ms\n",
      "image 893/1107 C:\\Users\\gnvca\\OneDrive\\Desktop\\JP\\model03S\\dataset\\images\\test\\IDnXhqiW.jpg: 320x416 (no detections), 14.5ms\n",
      "image 894/1107 C:\\Users\\gnvca\\OneDrive\\Desktop\\JP\\model03S\\dataset\\images\\test\\IDnYZYFu.jpg: 320x416 1 panel, 16.4ms\n",
      "image 895/1107 C:\\Users\\gnvca\\OneDrive\\Desktop\\JP\\model03S\\dataset\\images\\test\\IDnaWRsMQ.jpg: 320x416 2 panels, 16.7ms\n",
      "image 896/1107 C:\\Users\\gnvca\\OneDrive\\Desktop\\JP\\model03S\\dataset\\images\\test\\IDncjqKv.jpg: 320x416 1 panel, 12.2ms\n",
      "image 897/1107 C:\\Users\\gnvca\\OneDrive\\Desktop\\JP\\model03S\\dataset\\images\\test\\IDncyMJ6CPUKk.jpg: 320x416 (no detections), 18.0ms\n",
      "image 898/1107 C:\\Users\\gnvca\\OneDrive\\Desktop\\JP\\model03S\\dataset\\images\\test\\IDndqKV82N.jpg: 320x416 2 panels, 16.4ms\n",
      "image 899/1107 C:\\Users\\gnvca\\OneDrive\\Desktop\\JP\\model03S\\dataset\\images\\test\\IDngO4Ulgq5pnLHyb.jpg: 320x416 2 panels, 12.7ms\n",
      "image 900/1107 C:\\Users\\gnvca\\OneDrive\\Desktop\\JP\\model03S\\dataset\\images\\test\\IDnh2KF2Y.jpg: 320x416 2 panels, 17.8ms\n",
      "image 901/1107 C:\\Users\\gnvca\\OneDrive\\Desktop\\JP\\model03S\\dataset\\images\\test\\IDniOjLPvzs4ytFgi.jpg: 320x416 (no detections), 18.6ms\n",
      "image 902/1107 C:\\Users\\gnvca\\OneDrive\\Desktop\\JP\\model03S\\dataset\\images\\test\\IDnlEQJK.jpg: 320x416 2 panels, 19.9ms\n",
      "image 903/1107 C:\\Users\\gnvca\\OneDrive\\Desktop\\JP\\model03S\\dataset\\images\\test\\IDnqfrwYbKTt.jpg: 320x416 1 panel, 12.1ms\n",
      "image 904/1107 C:\\Users\\gnvca\\OneDrive\\Desktop\\JP\\model03S\\dataset\\images\\test\\IDnwNUem9Lc.jpg: 320x416 (no detections), 15.9ms\n",
      "image 905/1107 C:\\Users\\gnvca\\OneDrive\\Desktop\\JP\\model03S\\dataset\\images\\test\\IDo38dQX13m0q.jpg: 320x416 1 panel, 16.0ms\n",
      "image 906/1107 C:\\Users\\gnvca\\OneDrive\\Desktop\\JP\\model03S\\dataset\\images\\test\\IDo7Dlz.jpg: 320x416 (no detections), 22.2ms\n",
      "image 907/1107 C:\\Users\\gnvca\\OneDrive\\Desktop\\JP\\model03S\\dataset\\images\\test\\IDo9UjDh2nmQODo.jpg: 320x416 2 panels, 15.8ms\n",
      "image 908/1107 C:\\Users\\gnvca\\OneDrive\\Desktop\\JP\\model03S\\dataset\\images\\test\\IDoKiyQLKiT02dzF.jpg: 384x416 (no detections), 17.9ms\n",
      "image 909/1107 C:\\Users\\gnvca\\OneDrive\\Desktop\\JP\\model03S\\dataset\\images\\test\\IDoMidCAbjZbARW.jpg: 320x416 2 panels, 17.5ms\n",
      "image 910/1107 C:\\Users\\gnvca\\OneDrive\\Desktop\\JP\\model03S\\dataset\\images\\test\\IDoNfFQdR7kT3.jpg: 416x416 (no detections), 23.6ms\n",
      "image 911/1107 C:\\Users\\gnvca\\OneDrive\\Desktop\\JP\\model03S\\dataset\\images\\test\\IDodmUfHR7xxgl.jpg: 320x416 1 boiler, 17.6ms\n",
      "image 912/1107 C:\\Users\\gnvca\\OneDrive\\Desktop\\JP\\model03S\\dataset\\images\\test\\IDoeprI4i7.jpg: 320x416 2 panels, 17.4ms\n",
      "image 913/1107 C:\\Users\\gnvca\\OneDrive\\Desktop\\JP\\model03S\\dataset\\images\\test\\IDof7ipdYhr7B4.jpg: 320x416 1 panel, 17.9ms\n",
      "image 914/1107 C:\\Users\\gnvca\\OneDrive\\Desktop\\JP\\model03S\\dataset\\images\\test\\IDog3Zjaxi356.jpg: 320x416 2 panels, 16.3ms\n",
      "image 915/1107 C:\\Users\\gnvca\\OneDrive\\Desktop\\JP\\model03S\\dataset\\images\\test\\IDogkgKM0.jpg: 320x416 2 panels, 16.3ms\n",
      "image 916/1107 C:\\Users\\gnvca\\OneDrive\\Desktop\\JP\\model03S\\dataset\\images\\test\\IDokxhXnYglKRho.jpg: 320x416 2 panels, 16.0ms\n",
      "image 917/1107 C:\\Users\\gnvca\\OneDrive\\Desktop\\JP\\model03S\\dataset\\images\\test\\IDomKWNFwF.jpg: 320x416 2 panels, 16.0ms\n",
      "image 918/1107 C:\\Users\\gnvca\\OneDrive\\Desktop\\JP\\model03S\\dataset\\images\\test\\IDonT4uve3VKo.jpg: 320x416 1 boiler, 17.1ms\n",
      "image 919/1107 C:\\Users\\gnvca\\OneDrive\\Desktop\\JP\\model03S\\dataset\\images\\test\\IDot2RX8dhbLfVZme.jpg: 320x416 2 panels, 17.2ms\n",
      "image 920/1107 C:\\Users\\gnvca\\OneDrive\\Desktop\\JP\\model03S\\dataset\\images\\test\\IDoubUTGdnbB.jpg: 320x416 2 panels, 13.2ms\n",
      "image 921/1107 C:\\Users\\gnvca\\OneDrive\\Desktop\\JP\\model03S\\dataset\\images\\test\\IDovCoyJvE9W.jpg: 320x416 2 panels, 15.6ms\n",
      "image 922/1107 C:\\Users\\gnvca\\OneDrive\\Desktop\\JP\\model03S\\dataset\\images\\test\\IDovJ5m9zj.jpg: 320x416 2 panels, 20.2ms\n",
      "image 923/1107 C:\\Users\\gnvca\\OneDrive\\Desktop\\JP\\model03S\\dataset\\images\\test\\IDoz2zD8XP.jpg: 320x416 (no detections), 15.2ms\n",
      "image 924/1107 C:\\Users\\gnvca\\OneDrive\\Desktop\\JP\\model03S\\dataset\\images\\test\\IDp2IAyunhJ.jpg: 320x416 (no detections), 15.1ms\n",
      "image 925/1107 C:\\Users\\gnvca\\OneDrive\\Desktop\\JP\\model03S\\dataset\\images\\test\\IDpKzs7hl.jpg: 320x416 2 panels, 12.1ms\n",
      "image 926/1107 C:\\Users\\gnvca\\OneDrive\\Desktop\\JP\\model03S\\dataset\\images\\test\\IDpLyja1aF6CAA.jpg: 320x416 2 panels, 15.5ms\n",
      "image 927/1107 C:\\Users\\gnvca\\OneDrive\\Desktop\\JP\\model03S\\dataset\\images\\test\\IDpOK6sc.jpg: 320x416 (no detections), 15.4ms\n",
      "image 928/1107 C:\\Users\\gnvca\\OneDrive\\Desktop\\JP\\model03S\\dataset\\images\\test\\IDpQmHg4GI9.jpg: 416x416 2 panels, 21.9ms\n",
      "image 929/1107 C:\\Users\\gnvca\\OneDrive\\Desktop\\JP\\model03S\\dataset\\images\\test\\IDpTqTtN0.jpg: 320x416 (no detections), 19.6ms\n",
      "image 930/1107 C:\\Users\\gnvca\\OneDrive\\Desktop\\JP\\model03S\\dataset\\images\\test\\IDpWNz608Xu5Bhe.jpg: 320x416 (no detections), 16.7ms\n",
      "image 931/1107 C:\\Users\\gnvca\\OneDrive\\Desktop\\JP\\model03S\\dataset\\images\\test\\IDpcR3Ok9zung.jpg: 224x416 1 panel, 18.5ms\n",
      "image 932/1107 C:\\Users\\gnvca\\OneDrive\\Desktop\\JP\\model03S\\dataset\\images\\test\\IDpdezTssxgSS.jpg: 320x416 1 panel, 16.5ms\n",
      "image 933/1107 C:\\Users\\gnvca\\OneDrive\\Desktop\\JP\\model03S\\dataset\\images\\test\\IDpe0w43fk.jpg: 320x416 2 panels, 16.9ms\n",
      "image 934/1107 C:\\Users\\gnvca\\OneDrive\\Desktop\\JP\\model03S\\dataset\\images\\test\\IDpeHIv8z6InmL.jpg: 320x416 (no detections), 15.5ms\n",
      "image 935/1107 C:\\Users\\gnvca\\OneDrive\\Desktop\\JP\\model03S\\dataset\\images\\test\\IDpgSpoSaUcis39Xg.jpg: 320x416 2 panels, 16.0ms\n",
      "image 936/1107 C:\\Users\\gnvca\\OneDrive\\Desktop\\JP\\model03S\\dataset\\images\\test\\IDplaqa9cLUs2.jpg: 320x416 (no detections), 23.3ms\n",
      "image 937/1107 C:\\Users\\gnvca\\OneDrive\\Desktop\\JP\\model03S\\dataset\\images\\test\\IDpoXR2waDWRxllsK.jpg: 320x416 1 panel, 16.6ms\n",
      "image 938/1107 C:\\Users\\gnvca\\OneDrive\\Desktop\\JP\\model03S\\dataset\\images\\test\\IDps9Rlw8KY2K.jpg: 320x416 (no detections), 16.4ms\n",
      "image 939/1107 C:\\Users\\gnvca\\OneDrive\\Desktop\\JP\\model03S\\dataset\\images\\test\\IDq4LBIjKt.jpg: 320x416 2 panels, 12.1ms\n",
      "image 940/1107 C:\\Users\\gnvca\\OneDrive\\Desktop\\JP\\model03S\\dataset\\images\\test\\IDq6TzWIY4.jpg: 320x416 (no detections), 12.1ms\n",
      "image 941/1107 C:\\Users\\gnvca\\OneDrive\\Desktop\\JP\\model03S\\dataset\\images\\test\\IDqAxxQNgi3mxXDoY.jpg: 320x416 2 panels, 17.0ms\n",
      "image 942/1107 C:\\Users\\gnvca\\OneDrive\\Desktop\\JP\\model03S\\dataset\\images\\test\\IDqCnyk.jpg: 416x352 (no detections), 22.7ms\n",
      "image 943/1107 C:\\Users\\gnvca\\OneDrive\\Desktop\\JP\\model03S\\dataset\\images\\test\\IDqJpOqa43sY.jpg: 320x416 2 panels, 16.4ms\n",
      "image 944/1107 C:\\Users\\gnvca\\OneDrive\\Desktop\\JP\\model03S\\dataset\\images\\test\\IDqPsj0d6Uk.jpg: 416x416 (no detections), 23.2ms\n",
      "image 945/1107 C:\\Users\\gnvca\\OneDrive\\Desktop\\JP\\model03S\\dataset\\images\\test\\IDqVdXvjl5nREwaqd.jpg: 320x416 3 panels, 16.6ms\n",
      "image 946/1107 C:\\Users\\gnvca\\OneDrive\\Desktop\\JP\\model03S\\dataset\\images\\test\\IDqi82j3pYZtHf.jpg: 320x416 (no detections), 17.2ms\n",
      "image 947/1107 C:\\Users\\gnvca\\OneDrive\\Desktop\\JP\\model03S\\dataset\\images\\test\\IDqlB8az1Dzy.jpg: 320x416 2 panels, 16.1ms\n",
      "image 948/1107 C:\\Users\\gnvca\\OneDrive\\Desktop\\JP\\model03S\\dataset\\images\\test\\IDqrBREUcyQVN6.jpg: 320x416 2 panels, 16.7ms\n",
      "image 949/1107 C:\\Users\\gnvca\\OneDrive\\Desktop\\JP\\model03S\\dataset\\images\\test\\IDqte9ODA3.jpg: 320x416 2 panels, 17.2ms\n",
      "image 950/1107 C:\\Users\\gnvca\\OneDrive\\Desktop\\JP\\model03S\\dataset\\images\\test\\IDquL1eDUAbvl9x.jpg: 320x416 2 panels, 22.7ms\n",
      "image 951/1107 C:\\Users\\gnvca\\OneDrive\\Desktop\\JP\\model03S\\dataset\\images\\test\\IDqzg0Q8ufL.jpg: 384x416 (no detections), 27.9ms\n",
      "image 952/1107 C:\\Users\\gnvca\\OneDrive\\Desktop\\JP\\model03S\\dataset\\images\\test\\IDrFe0DG7Sq.jpg: 320x416 2 panels, 18.3ms\n",
      "image 953/1107 C:\\Users\\gnvca\\OneDrive\\Desktop\\JP\\model03S\\dataset\\images\\test\\IDrJ07pYMJ.jpg: 320x416 1 panel, 16.0ms\n",
      "image 954/1107 C:\\Users\\gnvca\\OneDrive\\Desktop\\JP\\model03S\\dataset\\images\\test\\IDrKuQz.jpg: 320x416 2 panels, 16.2ms\n",
      "image 955/1107 C:\\Users\\gnvca\\OneDrive\\Desktop\\JP\\model03S\\dataset\\images\\test\\IDrKyYa.jpg: 320x416 2 panels, 19.0ms\n",
      "image 956/1107 C:\\Users\\gnvca\\OneDrive\\Desktop\\JP\\model03S\\dataset\\images\\test\\IDrY7xUZlsUqma.jpg: 320x416 2 panels, 18.5ms\n",
      "image 957/1107 C:\\Users\\gnvca\\OneDrive\\Desktop\\JP\\model03S\\dataset\\images\\test\\IDrdBKQeJgjPqGU.jpg: 320x416 2 panels, 13.9ms\n",
      "image 958/1107 C:\\Users\\gnvca\\OneDrive\\Desktop\\JP\\model03S\\dataset\\images\\test\\IDrfHCgwUhha.jpg: 320x416 2 panels, 19.5ms\n",
      "image 959/1107 C:\\Users\\gnvca\\OneDrive\\Desktop\\JP\\model03S\\dataset\\images\\test\\IDrfMCvagRMZph.jpg: 352x416 1 boiler, 21.5ms\n",
      "image 960/1107 C:\\Users\\gnvca\\OneDrive\\Desktop\\JP\\model03S\\dataset\\images\\test\\IDrmKjJKrAPg.jpg: 320x416 (no detections), 19.1ms\n",
      "image 961/1107 C:\\Users\\gnvca\\OneDrive\\Desktop\\JP\\model03S\\dataset\\images\\test\\IDroDx6fYoq6.jpg: 320x416 (no detections), 12.2ms\n",
      "image 962/1107 C:\\Users\\gnvca\\OneDrive\\Desktop\\JP\\model03S\\dataset\\images\\test\\IDrtwWXmGTj47hHQR.jpg: 320x416 (no detections), 18.0ms\n",
      "image 963/1107 C:\\Users\\gnvca\\OneDrive\\Desktop\\JP\\model03S\\dataset\\images\\test\\IDruHXPQ75ja5Lj.jpg: 416x320 (no detections), 24.4ms\n",
      "image 964/1107 C:\\Users\\gnvca\\OneDrive\\Desktop\\JP\\model03S\\dataset\\images\\test\\IDruqqh.jpg: 320x416 (no detections), 17.8ms\n",
      "image 965/1107 C:\\Users\\gnvca\\OneDrive\\Desktop\\JP\\model03S\\dataset\\images\\test\\IDry34Mbivkc1VSmC.jpg: 320x416 (no detections), 18.1ms\n",
      "image 966/1107 C:\\Users\\gnvca\\OneDrive\\Desktop\\JP\\model03S\\dataset\\images\\test\\IDs37X1kP0rT9d0.jpg: 320x416 2 panels, 18.3ms\n",
      "image 967/1107 C:\\Users\\gnvca\\OneDrive\\Desktop\\JP\\model03S\\dataset\\images\\test\\IDsHwcUOeDzSQak1N.jpg: 320x416 2 panels, 18.5ms\n",
      "image 968/1107 C:\\Users\\gnvca\\OneDrive\\Desktop\\JP\\model03S\\dataset\\images\\test\\IDsOG08y9eUAxy3Up.jpg: 288x416 (no detections), 22.5ms\n",
      "image 969/1107 C:\\Users\\gnvca\\OneDrive\\Desktop\\JP\\model03S\\dataset\\images\\test\\IDsOQBT.jpg: 320x416 (no detections), 17.3ms\n",
      "image 970/1107 C:\\Users\\gnvca\\OneDrive\\Desktop\\JP\\model03S\\dataset\\images\\test\\IDsPOUaO8brlYyh7.jpg: 384x416 2 panels, 25.8ms\n",
      "image 971/1107 C:\\Users\\gnvca\\OneDrive\\Desktop\\JP\\model03S\\dataset\\images\\test\\IDsPQJcM.jpg: 416x352 (no detections), 22.7ms\n",
      "image 972/1107 C:\\Users\\gnvca\\OneDrive\\Desktop\\JP\\model03S\\dataset\\images\\test\\IDsSH8MJw1Zl8.jpg: 320x416 1 panel, 24.5ms\n",
      "image 973/1107 C:\\Users\\gnvca\\OneDrive\\Desktop\\JP\\model03S\\dataset\\images\\test\\IDsTtStw7ClL51.jpg: 320x416 1 panel, 15.0ms\n",
      "image 974/1107 C:\\Users\\gnvca\\OneDrive\\Desktop\\JP\\model03S\\dataset\\images\\test\\IDsXAXorCas.jpg: 320x416 1 panel, 15.6ms\n",
      "image 975/1107 C:\\Users\\gnvca\\OneDrive\\Desktop\\JP\\model03S\\dataset\\images\\test\\IDsbKXtH.jpg: 416x384 (no detections), 25.1ms\n",
      "image 976/1107 C:\\Users\\gnvca\\OneDrive\\Desktop\\JP\\model03S\\dataset\\images\\test\\IDseuaqNRzBApqZNm.jpg: 320x416 2 panels, 17.1ms\n",
      "image 977/1107 C:\\Users\\gnvca\\OneDrive\\Desktop\\JP\\model03S\\dataset\\images\\test\\IDsgW6kr.jpg: 320x416 (no detections), 16.1ms\n",
      "image 978/1107 C:\\Users\\gnvca\\OneDrive\\Desktop\\JP\\model03S\\dataset\\images\\test\\IDsgnmVUs0vwoFXf.jpg: 320x416 2 panels, 17.9ms\n",
      "image 979/1107 C:\\Users\\gnvca\\OneDrive\\Desktop\\JP\\model03S\\dataset\\images\\test\\IDsjlzeZwt9OX7Ds.jpg: 320x416 1 panel, 15.8ms\n",
      "image 980/1107 C:\\Users\\gnvca\\OneDrive\\Desktop\\JP\\model03S\\dataset\\images\\test\\IDslthhJ74Nr.jpg: 416x352 1 boiler, 19.5ms\n",
      "image 981/1107 C:\\Users\\gnvca\\OneDrive\\Desktop\\JP\\model03S\\dataset\\images\\test\\IDsmmlszwrIOa1ec.jpg: 320x416 1 panel, 17.6ms\n",
      "image 982/1107 C:\\Users\\gnvca\\OneDrive\\Desktop\\JP\\model03S\\dataset\\images\\test\\IDsyJNYUX7D9OkH.jpg: 256x416 10 panels, 12.3ms\n",
      "image 983/1107 C:\\Users\\gnvca\\OneDrive\\Desktop\\JP\\model03S\\dataset\\images\\test\\IDt5XJLCs.jpg: 320x416 2 panels, 16.1ms\n",
      "image 984/1107 C:\\Users\\gnvca\\OneDrive\\Desktop\\JP\\model03S\\dataset\\images\\test\\IDt5qy4XFg.jpg: 320x416 4 panels, 16.4ms\n",
      "image 985/1107 C:\\Users\\gnvca\\OneDrive\\Desktop\\JP\\model03S\\dataset\\images\\test\\IDt9NAZB4bhgjmwz1.jpg: 320x416 (no detections), 16.4ms\n",
      "image 986/1107 C:\\Users\\gnvca\\OneDrive\\Desktop\\JP\\model03S\\dataset\\images\\test\\IDtESOKL97.jpg: 320x416 (no detections), 15.6ms\n",
      "image 987/1107 C:\\Users\\gnvca\\OneDrive\\Desktop\\JP\\model03S\\dataset\\images\\test\\IDtFRvV3lnBOA0P.jpg: 320x416 (no detections), 17.1ms\n",
      "image 988/1107 C:\\Users\\gnvca\\OneDrive\\Desktop\\JP\\model03S\\dataset\\images\\test\\IDtRRMK6asXG.jpg: 320x416 2 panels, 16.3ms\n",
      "image 989/1107 C:\\Users\\gnvca\\OneDrive\\Desktop\\JP\\model03S\\dataset\\images\\test\\IDtRgU8DbJ.jpg: 320x416 2 panels, 16.8ms\n",
      "image 990/1107 C:\\Users\\gnvca\\OneDrive\\Desktop\\JP\\model03S\\dataset\\images\\test\\IDtTr5u.jpg: 320x416 1 panel, 16.3ms\n",
      "image 991/1107 C:\\Users\\gnvca\\OneDrive\\Desktop\\JP\\model03S\\dataset\\images\\test\\IDtUoEWg.jpg: 320x416 2 panels, 15.9ms\n",
      "image 992/1107 C:\\Users\\gnvca\\OneDrive\\Desktop\\JP\\model03S\\dataset\\images\\test\\IDtakR7C1qgA.jpg: 320x416 2 panels, 13.8ms\n",
      "image 993/1107 C:\\Users\\gnvca\\OneDrive\\Desktop\\JP\\model03S\\dataset\\images\\test\\IDtbZygS7RxcwPmP.jpg: 320x416 2 panels, 16.2ms\n",
      "image 994/1107 C:\\Users\\gnvca\\OneDrive\\Desktop\\JP\\model03S\\dataset\\images\\test\\IDtcuISza4.jpg: 320x416 (no detections), 17.6ms\n",
      "image 995/1107 C:\\Users\\gnvca\\OneDrive\\Desktop\\JP\\model03S\\dataset\\images\\test\\IDtcx4gHjGwzbWp.jpg: 320x416 (no detections), 17.1ms\n",
      "image 996/1107 C:\\Users\\gnvca\\OneDrive\\Desktop\\JP\\model03S\\dataset\\images\\test\\IDtjn7KaQcbEKXt9u.jpg: 320x416 (no detections), 13.4ms\n",
      "image 997/1107 C:\\Users\\gnvca\\OneDrive\\Desktop\\JP\\model03S\\dataset\\images\\test\\IDtnUUnsodeC.jpg: 320x416 (no detections), 16.1ms\n",
      "image 998/1107 C:\\Users\\gnvca\\OneDrive\\Desktop\\JP\\model03S\\dataset\\images\\test\\IDtoYiaG.jpg: 320x416 2 panels, 15.7ms\n",
      "image 999/1107 C:\\Users\\gnvca\\OneDrive\\Desktop\\JP\\model03S\\dataset\\images\\test\\IDtpNh9KyjpR0.jpg: 320x416 1 panel, 17.0ms\n",
      "image 1000/1107 C:\\Users\\gnvca\\OneDrive\\Desktop\\JP\\model03S\\dataset\\images\\test\\IDtrSK1WRpFHFQYra.jpg: 320x416 (no detections), 13.5ms\n",
      "image 1001/1107 C:\\Users\\gnvca\\OneDrive\\Desktop\\JP\\model03S\\dataset\\images\\test\\IDtwTuBNbQ0.jpg: 320x416 (no detections), 16.3ms\n",
      "image 1002/1107 C:\\Users\\gnvca\\OneDrive\\Desktop\\JP\\model03S\\dataset\\images\\test\\IDu1Doy9xRI3UQB.jpg: 320x416 2 panels, 16.7ms\n",
      "image 1003/1107 C:\\Users\\gnvca\\OneDrive\\Desktop\\JP\\model03S\\dataset\\images\\test\\IDu5apnxKa5LUJ.jpg: 320x416 1 panel, 12.2ms\n",
      "image 1004/1107 C:\\Users\\gnvca\\OneDrive\\Desktop\\JP\\model03S\\dataset\\images\\test\\IDuAmrQZ.jpg: 320x416 (no detections), 17.9ms\n",
      "image 1005/1107 C:\\Users\\gnvca\\OneDrive\\Desktop\\JP\\model03S\\dataset\\images\\test\\IDuBDefo.jpg: 320x416 (no detections), 17.2ms\n",
      "image 1006/1107 C:\\Users\\gnvca\\OneDrive\\Desktop\\JP\\model03S\\dataset\\images\\test\\IDuE3lVYzp6vS.jpg: 320x416 (no detections), 12.2ms\n",
      "image 1007/1107 C:\\Users\\gnvca\\OneDrive\\Desktop\\JP\\model03S\\dataset\\images\\test\\IDuIJHHYU.jpg: 320x416 2 panels, 13.6ms\n",
      "image 1008/1107 C:\\Users\\gnvca\\OneDrive\\Desktop\\JP\\model03S\\dataset\\images\\test\\IDuMKMRjWVF.jpg: 320x416 1 panel, 16.3ms\n",
      "image 1009/1107 C:\\Users\\gnvca\\OneDrive\\Desktop\\JP\\model03S\\dataset\\images\\test\\IDuMU6XX2F7zG.jpg: 320x416 1 panel, 13.3ms\n",
      "image 1010/1107 C:\\Users\\gnvca\\OneDrive\\Desktop\\JP\\model03S\\dataset\\images\\test\\IDuOJrUhVIu.jpg: 320x416 1 panel, 18.0ms\n",
      "image 1011/1107 C:\\Users\\gnvca\\OneDrive\\Desktop\\JP\\model03S\\dataset\\images\\test\\IDuPnautavhQhmIN.jpg: 320x416 2 panels, 17.7ms\n",
      "image 1012/1107 C:\\Users\\gnvca\\OneDrive\\Desktop\\JP\\model03S\\dataset\\images\\test\\IDuSLpWVGBQg.jpg: 320x416 (no detections), 17.6ms\n",
      "image 1013/1107 C:\\Users\\gnvca\\OneDrive\\Desktop\\JP\\model03S\\dataset\\images\\test\\IDuTizVfqBVcUdaQg.jpg: 416x416 3 panels, 20.3ms\n",
      "image 1014/1107 C:\\Users\\gnvca\\OneDrive\\Desktop\\JP\\model03S\\dataset\\images\\test\\IDuWApNgxoWyh5p.jpg: 320x416 2 panels, 18.1ms\n",
      "image 1015/1107 C:\\Users\\gnvca\\OneDrive\\Desktop\\JP\\model03S\\dataset\\images\\test\\IDuYsQ8.jpg: 320x416 2 panels, 13.2ms\n",
      "image 1016/1107 C:\\Users\\gnvca\\OneDrive\\Desktop\\JP\\model03S\\dataset\\images\\test\\IDubMwUvv.jpg: 416x416 (no detections), 28.1ms\n",
      "image 1017/1107 C:\\Users\\gnvca\\OneDrive\\Desktop\\JP\\model03S\\dataset\\images\\test\\IDugkYt74t.jpg: 320x416 2 panels, 20.6ms\n",
      "image 1018/1107 C:\\Users\\gnvca\\OneDrive\\Desktop\\JP\\model03S\\dataset\\images\\test\\IDujIui6sIYl9wU.jpg: 320x416 2 panels, 18.1ms\n",
      "image 1019/1107 C:\\Users\\gnvca\\OneDrive\\Desktop\\JP\\model03S\\dataset\\images\\test\\IDuqP8cwcNZzUXc9a.jpg: 320x416 (no detections), 16.0ms\n",
      "image 1020/1107 C:\\Users\\gnvca\\OneDrive\\Desktop\\JP\\model03S\\dataset\\images\\test\\IDuxALuxH.jpg: 320x416 1 panel, 18.1ms\n",
      "image 1021/1107 C:\\Users\\gnvca\\OneDrive\\Desktop\\JP\\model03S\\dataset\\images\\test\\IDuzsyPCato.jpg: 320x416 (no detections), 17.7ms\n",
      "image 1022/1107 C:\\Users\\gnvca\\OneDrive\\Desktop\\JP\\model03S\\dataset\\images\\test\\IDv0MLeS.jpg: 416x320 1 boiler, 21.8ms\n",
      "image 1023/1107 C:\\Users\\gnvca\\OneDrive\\Desktop\\JP\\model03S\\dataset\\images\\test\\IDv2iUPs.jpg: 320x416 (no detections), 19.7ms\n",
      "image 1024/1107 C:\\Users\\gnvca\\OneDrive\\Desktop\\JP\\model03S\\dataset\\images\\test\\IDv5yvVvMdGcZoq.jpg: 320x416 (no detections), 25.4ms\n",
      "image 1025/1107 C:\\Users\\gnvca\\OneDrive\\Desktop\\JP\\model03S\\dataset\\images\\test\\IDv8L46KoW1.jpg: 320x416 2 panels, 16.2ms\n",
      "image 1026/1107 C:\\Users\\gnvca\\OneDrive\\Desktop\\JP\\model03S\\dataset\\images\\test\\IDvD3ah6UFeumHaW.jpg: 320x416 1 panel, 17.9ms\n",
      "image 1027/1107 C:\\Users\\gnvca\\OneDrive\\Desktop\\JP\\model03S\\dataset\\images\\test\\IDvDkajmUTfaoqS1f.jpg: 320x416 3 panels, 16.0ms\n",
      "image 1028/1107 C:\\Users\\gnvca\\OneDrive\\Desktop\\JP\\model03S\\dataset\\images\\test\\IDvDqkERR5.jpg: 320x416 1 panel, 16.2ms\n",
      "image 1029/1107 C:\\Users\\gnvca\\OneDrive\\Desktop\\JP\\model03S\\dataset\\images\\test\\IDvWcYOdHhh6t.jpg: 320x416 2 panels, 15.8ms\n",
      "image 1030/1107 C:\\Users\\gnvca\\OneDrive\\Desktop\\JP\\model03S\\dataset\\images\\test\\IDvcXA2.jpg: 352x416 (no detections), 20.6ms\n",
      "image 1031/1107 C:\\Users\\gnvca\\OneDrive\\Desktop\\JP\\model03S\\dataset\\images\\test\\IDviDlOC.jpg: 320x416 1 panel, 17.6ms\n",
      "image 1032/1107 C:\\Users\\gnvca\\OneDrive\\Desktop\\JP\\model03S\\dataset\\images\\test\\IDvu0zyIF5.jpg: 320x416 (no detections), 16.8ms\n",
      "image 1033/1107 C:\\Users\\gnvca\\OneDrive\\Desktop\\JP\\model03S\\dataset\\images\\test\\IDw64ahr3rCeG8mJ.jpg: 320x416 2 panels, 15.7ms\n",
      "image 1034/1107 C:\\Users\\gnvca\\OneDrive\\Desktop\\JP\\model03S\\dataset\\images\\test\\IDw8doIcZGJug.jpg: 320x416 1 panel, 17.3ms\n",
      "image 1035/1107 C:\\Users\\gnvca\\OneDrive\\Desktop\\JP\\model03S\\dataset\\images\\test\\IDw8eqqoKuA6.jpg: 320x416 4 panels, 12.8ms\n",
      "image 1036/1107 C:\\Users\\gnvca\\OneDrive\\Desktop\\JP\\model03S\\dataset\\images\\test\\IDwAWAeun.jpg: 320x416 2 panels, 18.1ms\n",
      "image 1037/1107 C:\\Users\\gnvca\\OneDrive\\Desktop\\JP\\model03S\\dataset\\images\\test\\IDwAYxFYx.jpg: 320x416 2 panels, 15.4ms\n",
      "image 1038/1107 C:\\Users\\gnvca\\OneDrive\\Desktop\\JP\\model03S\\dataset\\images\\test\\IDwGmhdt.jpg: 320x416 (no detections), 17.6ms\n",
      "image 1039/1107 C:\\Users\\gnvca\\OneDrive\\Desktop\\JP\\model03S\\dataset\\images\\test\\IDwJjSriTt.jpg: 320x416 1 panel, 18.0ms\n",
      "image 1040/1107 C:\\Users\\gnvca\\OneDrive\\Desktop\\JP\\model03S\\dataset\\images\\test\\IDwL79L.jpg: 320x416 (no detections), 16.1ms\n",
      "image 1041/1107 C:\\Users\\gnvca\\OneDrive\\Desktop\\JP\\model03S\\dataset\\images\\test\\IDwLlDqz1hl4XB.jpg: 320x416 2 panels, 16.3ms\n",
      "image 1042/1107 C:\\Users\\gnvca\\OneDrive\\Desktop\\JP\\model03S\\dataset\\images\\test\\IDwTNMfwHMw.jpg: 320x416 1 panel, 16.1ms\n",
      "image 1043/1107 C:\\Users\\gnvca\\OneDrive\\Desktop\\JP\\model03S\\dataset\\images\\test\\IDwTTlnsWZ.jpg: 416x384 (no detections), 21.5ms\n",
      "image 1044/1107 C:\\Users\\gnvca\\OneDrive\\Desktop\\JP\\model03S\\dataset\\images\\test\\IDwXxrkwHO9.jpg: 320x416 1 panel, 16.7ms\n",
      "image 1045/1107 C:\\Users\\gnvca\\OneDrive\\Desktop\\JP\\model03S\\dataset\\images\\test\\IDwezmbqdK3Txzgkv.jpg: 320x416 (no detections), 16.2ms\n",
      "image 1046/1107 C:\\Users\\gnvca\\OneDrive\\Desktop\\JP\\model03S\\dataset\\images\\test\\IDwllD9A92BT.jpg: 320x416 2 panels, 15.5ms\n",
      "image 1047/1107 C:\\Users\\gnvca\\OneDrive\\Desktop\\JP\\model03S\\dataset\\images\\test\\IDwnEywobzfSF.jpg: 320x416 (no detections), 15.9ms\n",
      "image 1048/1107 C:\\Users\\gnvca\\OneDrive\\Desktop\\JP\\model03S\\dataset\\images\\test\\IDwrfKFijXJOT4K3t.jpg: 320x416 2 panels, 15.0ms\n",
      "image 1049/1107 C:\\Users\\gnvca\\OneDrive\\Desktop\\JP\\model03S\\dataset\\images\\test\\IDwrgxs.jpg: 320x416 1 panel, 12.8ms\n",
      "image 1050/1107 C:\\Users\\gnvca\\OneDrive\\Desktop\\JP\\model03S\\dataset\\images\\test\\IDwuY9I.jpg: 320x416 3 panels, 14.2ms\n",
      "image 1051/1107 C:\\Users\\gnvca\\OneDrive\\Desktop\\JP\\model03S\\dataset\\images\\test\\IDwwBEl.jpg: 320x416 2 panels, 15.2ms\n",
      "image 1052/1107 C:\\Users\\gnvca\\OneDrive\\Desktop\\JP\\model03S\\dataset\\images\\test\\IDx0knuD.jpg: 320x416 2 panels, 17.2ms\n",
      "image 1053/1107 C:\\Users\\gnvca\\OneDrive\\Desktop\\JP\\model03S\\dataset\\images\\test\\IDx1Q3Dy.jpg: 320x416 3 panels, 16.1ms\n",
      "image 1054/1107 C:\\Users\\gnvca\\OneDrive\\Desktop\\JP\\model03S\\dataset\\images\\test\\IDx3BSD4.jpg: 416x352 (no detections), 24.8ms\n",
      "image 1055/1107 C:\\Users\\gnvca\\OneDrive\\Desktop\\JP\\model03S\\dataset\\images\\test\\IDx3Jo0nyWr.jpg: 320x416 2 panels, 18.1ms\n",
      "image 1056/1107 C:\\Users\\gnvca\\OneDrive\\Desktop\\JP\\model03S\\dataset\\images\\test\\IDx54u9.jpg: 320x416 2 panels, 16.2ms\n",
      "image 1057/1107 C:\\Users\\gnvca\\OneDrive\\Desktop\\JP\\model03S\\dataset\\images\\test\\IDx6VR7Aqn.jpg: 320x416 (no detections), 16.2ms\n",
      "image 1058/1107 C:\\Users\\gnvca\\OneDrive\\Desktop\\JP\\model03S\\dataset\\images\\test\\IDx8F7lZ.jpg: 320x416 2 panels, 15.7ms\n",
      "image 1059/1107 C:\\Users\\gnvca\\OneDrive\\Desktop\\JP\\model03S\\dataset\\images\\test\\IDxBKKeI.jpg: 320x416 (no detections), 16.7ms\n",
      "image 1060/1107 C:\\Users\\gnvca\\OneDrive\\Desktop\\JP\\model03S\\dataset\\images\\test\\IDxPHUCd5.jpg: 320x416 2 panels, 16.9ms\n",
      "image 1061/1107 C:\\Users\\gnvca\\OneDrive\\Desktop\\JP\\model03S\\dataset\\images\\test\\IDxRhnqF1Gny.jpg: 320x416 2 panels, 12.7ms\n",
      "image 1062/1107 C:\\Users\\gnvca\\OneDrive\\Desktop\\JP\\model03S\\dataset\\images\\test\\IDxV8KHXF2a.jpg: 352x416 1 boiler, 21.7ms\n",
      "image 1063/1107 C:\\Users\\gnvca\\OneDrive\\Desktop\\JP\\model03S\\dataset\\images\\test\\IDxVKj8.jpg: 320x416 2 panels, 18.5ms\n",
      "image 1064/1107 C:\\Users\\gnvca\\OneDrive\\Desktop\\JP\\model03S\\dataset\\images\\test\\IDxb8tv.jpg: 320x416 2 panels, 18.6ms\n",
      "image 1065/1107 C:\\Users\\gnvca\\OneDrive\\Desktop\\JP\\model03S\\dataset\\images\\test\\IDxcofPbgNGrDm.jpg: 320x416 2 panels, 22.7ms\n",
      "image 1066/1107 C:\\Users\\gnvca\\OneDrive\\Desktop\\JP\\model03S\\dataset\\images\\test\\IDxdGnfAY.jpg: 320x416 2 panels, 19.1ms\n",
      "image 1067/1107 C:\\Users\\gnvca\\OneDrive\\Desktop\\JP\\model03S\\dataset\\images\\test\\IDxdKpWTNUTbF.jpg: 416x320 1 panel, 26.3ms\n",
      "image 1068/1107 C:\\Users\\gnvca\\OneDrive\\Desktop\\JP\\model03S\\dataset\\images\\test\\IDxeIa6ntJnrvKT5r.jpg: 320x416 (no detections), 17.4ms\n",
      "image 1069/1107 C:\\Users\\gnvca\\OneDrive\\Desktop\\JP\\model03S\\dataset\\images\\test\\IDxevoM3Jrb7Jwa.jpg: 320x416 1 panel, 18.9ms\n",
      "image 1070/1107 C:\\Users\\gnvca\\OneDrive\\Desktop\\JP\\model03S\\dataset\\images\\test\\IDxfDgXSHLsiB.jpg: 320x416 1 panel, 18.0ms\n",
      "image 1071/1107 C:\\Users\\gnvca\\OneDrive\\Desktop\\JP\\model03S\\dataset\\images\\test\\IDxgl9vWdiH4YwNhw.jpg: 320x416 (no detections), 18.6ms\n",
      "image 1072/1107 C:\\Users\\gnvca\\OneDrive\\Desktop\\JP\\model03S\\dataset\\images\\test\\IDxihwnZti9brMNm.jpg: 320x416 (no detections), 25.3ms\n",
      "image 1073/1107 C:\\Users\\gnvca\\OneDrive\\Desktop\\JP\\model03S\\dataset\\images\\test\\IDxv1ivHIDso.jpg: 320x416 (no detections), 17.6ms\n",
      "image 1074/1107 C:\\Users\\gnvca\\OneDrive\\Desktop\\JP\\model03S\\dataset\\images\\test\\IDxvrnK7mcPXL.jpg: 320x416 2 panels, 16.8ms\n",
      "image 1075/1107 C:\\Users\\gnvca\\OneDrive\\Desktop\\JP\\model03S\\dataset\\images\\test\\IDy3Anv.jpg: 384x416 1 boiler, 21.3ms\n",
      "image 1076/1107 C:\\Users\\gnvca\\OneDrive\\Desktop\\JP\\model03S\\dataset\\images\\test\\IDy76X7S3yPKbU.jpg: 320x416 1 panel, 18.3ms\n",
      "image 1077/1107 C:\\Users\\gnvca\\OneDrive\\Desktop\\JP\\model03S\\dataset\\images\\test\\IDy7QEH4rL.jpg: 352x416 1 boiler, 18.8ms\n",
      "image 1078/1107 C:\\Users\\gnvca\\OneDrive\\Desktop\\JP\\model03S\\dataset\\images\\test\\IDyCqgUKS.jpg: 320x416 1 panel, 18.9ms\n",
      "image 1079/1107 C:\\Users\\gnvca\\OneDrive\\Desktop\\JP\\model03S\\dataset\\images\\test\\IDyEOFMbgKX5lov.jpg: 320x416 (no detections), 16.0ms\n",
      "image 1080/1107 C:\\Users\\gnvca\\OneDrive\\Desktop\\JP\\model03S\\dataset\\images\\test\\IDyF0v6h81XdMGz.jpg: 320x416 2 panels, 16.9ms\n",
      "image 1081/1107 C:\\Users\\gnvca\\OneDrive\\Desktop\\JP\\model03S\\dataset\\images\\test\\IDyFpWqCHd3.jpg: 320x416 1 panel, 17.6ms\n",
      "image 1082/1107 C:\\Users\\gnvca\\OneDrive\\Desktop\\JP\\model03S\\dataset\\images\\test\\IDyK1PR3r.jpg: 320x416 2 panels, 16.1ms\n",
      "image 1083/1107 C:\\Users\\gnvca\\OneDrive\\Desktop\\JP\\model03S\\dataset\\images\\test\\IDyNgXEZa.jpg: 288x416 1 boiler, 17.5ms\n",
      "image 1084/1107 C:\\Users\\gnvca\\OneDrive\\Desktop\\JP\\model03S\\dataset\\images\\test\\IDyTaBNkOUd.jpg: 320x416 2 panels, 20.0ms\n",
      "image 1085/1107 C:\\Users\\gnvca\\OneDrive\\Desktop\\JP\\model03S\\dataset\\images\\test\\IDyVYj2.jpg: 320x416 (no detections), 15.5ms\n",
      "image 1086/1107 C:\\Users\\gnvca\\OneDrive\\Desktop\\JP\\model03S\\dataset\\images\\test\\IDyWBUJ3eBmmh.jpg: 416x416 17 panels, 24.4ms\n",
      "image 1087/1107 C:\\Users\\gnvca\\OneDrive\\Desktop\\JP\\model03S\\dataset\\images\\test\\IDyYcRt53qPvX3mv.jpg: 320x416 (no detections), 20.7ms\n",
      "image 1088/1107 C:\\Users\\gnvca\\OneDrive\\Desktop\\JP\\model03S\\dataset\\images\\test\\IDyiPO4bTQK.jpg: 320x416 (no detections), 12.1ms\n",
      "image 1089/1107 C:\\Users\\gnvca\\OneDrive\\Desktop\\JP\\model03S\\dataset\\images\\test\\IDytK70vdBWYDY9Z.jpg: 320x416 1 panel, 15.8ms\n",
      "image 1090/1107 C:\\Users\\gnvca\\OneDrive\\Desktop\\JP\\model03S\\dataset\\images\\test\\IDz0K73.jpg: 320x416 3 panels, 16.2ms\n",
      "image 1091/1107 C:\\Users\\gnvca\\OneDrive\\Desktop\\JP\\model03S\\dataset\\images\\test\\IDz0qz2WUx.jpg: 320x416 2 panels, 15.2ms\n",
      "image 1092/1107 C:\\Users\\gnvca\\OneDrive\\Desktop\\JP\\model03S\\dataset\\images\\test\\IDz2Li9rj3FGSs93.jpg: 320x416 1 panel, 16.4ms\n",
      "image 1093/1107 C:\\Users\\gnvca\\OneDrive\\Desktop\\JP\\model03S\\dataset\\images\\test\\IDz4wyathUaafzF1.jpg: 416x416 (no detections), 18.8ms\n",
      "image 1094/1107 C:\\Users\\gnvca\\OneDrive\\Desktop\\JP\\model03S\\dataset\\images\\test\\IDzBxVmIHZoneo.jpg: 320x416 1 panel, 21.1ms\n",
      "image 1095/1107 C:\\Users\\gnvca\\OneDrive\\Desktop\\JP\\model03S\\dataset\\images\\test\\IDzByhJxOeg4d7vk.jpg: 320x416 1 panel, 16.2ms\n",
      "image 1096/1107 C:\\Users\\gnvca\\OneDrive\\Desktop\\JP\\model03S\\dataset\\images\\test\\IDzPlfj.jpg: 320x416 1 panel, 16.8ms\n",
      "image 1097/1107 C:\\Users\\gnvca\\OneDrive\\Desktop\\JP\\model03S\\dataset\\images\\test\\IDzQUjsuQbZiUAP6s.jpg: 384x416 1 panel, 18.3ms\n",
      "image 1098/1107 C:\\Users\\gnvca\\OneDrive\\Desktop\\JP\\model03S\\dataset\\images\\test\\IDzTVBo.jpg: 320x416 (no detections), 16.8ms\n",
      "image 1099/1107 C:\\Users\\gnvca\\OneDrive\\Desktop\\JP\\model03S\\dataset\\images\\test\\IDzU8hWyVLYH7kE35.jpg: 320x416 7 panels, 14.7ms\n",
      "image 1100/1107 C:\\Users\\gnvca\\OneDrive\\Desktop\\JP\\model03S\\dataset\\images\\test\\IDzVVQ1i6SfsJVFX1.jpg: 320x416 (no detections), 15.1ms\n",
      "image 1101/1107 C:\\Users\\gnvca\\OneDrive\\Desktop\\JP\\model03S\\dataset\\images\\test\\IDzWC4a8XJ5yB7JV6.jpg: 320x416 2 panels, 23.9ms\n",
      "image 1102/1107 C:\\Users\\gnvca\\OneDrive\\Desktop\\JP\\model03S\\dataset\\images\\test\\IDzdqMimk7v.jpg: 416x320 (no detections), 23.4ms\n",
      "image 1103/1107 C:\\Users\\gnvca\\OneDrive\\Desktop\\JP\\model03S\\dataset\\images\\test\\IDzhpdPHeGHlmWEIx.jpg: 320x416 1 panel, 16.4ms\n",
      "image 1104/1107 C:\\Users\\gnvca\\OneDrive\\Desktop\\JP\\model03S\\dataset\\images\\test\\IDztljx.jpg: 320x416 (no detections), 18.0ms\n",
      "image 1105/1107 C:\\Users\\gnvca\\OneDrive\\Desktop\\JP\\model03S\\dataset\\images\\test\\IDzwPcyO0e.jpg: 416x416 (no detections), 21.4ms\n",
      "image 1106/1107 C:\\Users\\gnvca\\OneDrive\\Desktop\\JP\\model03S\\dataset\\images\\test\\IDzzNegz.jpg: 320x416 2 panels, 16.4ms\n",
      "image 1107/1107 C:\\Users\\gnvca\\OneDrive\\Desktop\\JP\\model03S\\dataset\\images\\test\\IDzzZcEYNVZMCk.jpg: 320x416 (no detections), 19.0ms\n",
      "Speed: 2.1ms preprocess, 15.3ms inference, 1.7ms postprocess per image at shape (1, 3, 320, 416)\n",
      "✅ CSV saved: 'test_detection_counts.csv'\n"
     ]
    }
   ],
   "source": [
    "from ultralytics import YOLO\n",
    "import pandas as pd\n",
    "import os\n",
    "import glob\n",
    "\n",
    "# Load trained model\n",
    "model = YOLO(\"runs/detect/train_safe4/weights/best.pt\")\n",
    "\n",
    "# Get all test images (ensure they're found)\n",
    "image_files = glob.glob(r\"C:\\Users\\gnvca\\OneDrive\\Desktop\\JP\\model03S\\dataset\\images\\test\\*\")  # Any image format\n",
    "if not image_files:\n",
    "    raise ValueError(\"⚠️ No test images found! Check dataset path or file extensions.\")\n",
    "\n",
    "print(f\"✅ Found {len(image_files)} test images.\")\n",
    "\n",
    "# Run inference on the test folder\n",
    "results = model.predict(source=r\"C:\\Users\\gnvca\\OneDrive\\Desktop\\JP\\model03S\\dataset\\images\\test\\\\\", save=False)\n",
    "\n",
    "# Process results\n",
    "rows = []\n",
    "processed_images = set()\n",
    "\n",
    "for result in results:\n",
    "    image_id = os.path.splitext(os.path.basename(result.path))[0]\n",
    "    processed_images.add(image_id)\n",
    "\n",
    "    class_ids = result.boxes.cls.int().tolist()\n",
    "    boiler_count = class_ids.count(0)\n",
    "    panel_count = class_ids.count(1)\n",
    "\n",
    "    rows.append({\"ID\": f\"{image_id}_boil\", \"Target\": boiler_count})\n",
    "    rows.append({\"ID\": f\"{image_id}_pan\", \"Target\": panel_count})\n",
    "\n",
    "# Ensure missing images have Target=0\n",
    "for img_path in image_files:\n",
    "    img_id = os.path.splitext(os.path.basename(img_path))[0]\n",
    "    if img_id not in processed_images:\n",
    "        rows.append({\"ID\": f\"{img_id}_boil\", \"Target\": 0})\n",
    "        rows.append({\"ID\": f\"{img_id}_pan\", \"Target\": 0})\n",
    "\n",
    "# Save CSV\n",
    "df = pd.DataFrame(rows)\n",
    "df.to_csv(\"test_detection_counts.csv\", index=False)\n",
    "print(\"✅ CSV saved: 'test_detection_counts.csv'\")"
   ]
  }
 ],
 "metadata": {
  "kernelspec": {
   "display_name": "yolov8",
   "language": "python",
   "name": "python3"
  },
  "language_info": {
   "codemirror_mode": {
    "name": "ipython",
    "version": 3
   },
   "file_extension": ".py",
   "mimetype": "text/x-python",
   "name": "python",
   "nbconvert_exporter": "python",
   "pygments_lexer": "ipython3",
   "version": "3.10.16"
  }
 },
 "nbformat": 4,
 "nbformat_minor": 2
}
