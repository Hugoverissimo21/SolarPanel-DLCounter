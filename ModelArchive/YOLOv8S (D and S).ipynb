{
 "cells": [
  {
   "cell_type": "markdown",
   "metadata": {},
   "source": [
    "# YOLO for both Satellite and for Drone"
   ]
  },
  {
   "cell_type": "code",
   "execution_count": 3,
   "metadata": {},
   "outputs": [],
   "source": [
    "import pandas as pd\n",
    "from PIL import Image\n",
    "\n",
    "# Load the .pkl file\n",
    "df = pd.read_pickle(r\"C:\\Users\\gnvca\\OneDrive\\Desktop\\JP\\Model_Train.pkl\")\n",
    "#df = pd.read_pickle(r\"C:\\Users\\gnvca\\OneDrive\\Desktop\\JP\\Model_Val.pkl\")"
   ]
  },
  {
   "cell_type": "markdown",
   "metadata": {},
   "source": [
    "Preprocessing for YOLO"
   ]
  },
  {
   "cell_type": "code",
   "execution_count": 5,
   "metadata": {},
   "outputs": [],
   "source": [
    "\n",
    "def scale_polygon(polygon, scale=1.15):\n",
    "    \"\"\"Scales a polygon outward from its centroid.\"\"\"\n",
    "    xs, ys = zip(*polygon)\n",
    "    cx, cy = sum(xs) / len(xs), sum(ys) / len(ys)\n",
    "    return [(cx + scale * (x - cx), cy + scale * (y - cy)) for x, y in polygon]\n",
    "\n",
    "def polygon_to_yolo_bbox(polygon, img_width, img_height):\n",
    "    \"\"\"Converts polygon to YOLO normalized bbox.\"\"\"\n",
    "    xs, ys = zip(*polygon)\n",
    "    x_min, x_max = min(xs), max(xs)\n",
    "    y_min, y_max = min(ys), max(ys)\n",
    "    \n",
    "    x_center = ((x_min + x_max) / 2) / img_width\n",
    "    y_center = ((y_min + y_max) / 2) / img_height\n",
    "    width = (x_max - x_min) / img_width\n",
    "    height = (y_max - y_min) / img_height\n",
    "    \n",
    "    return x_center, y_center, width, height"
   ]
  },
  {
   "cell_type": "code",
   "execution_count": 6,
   "metadata": {},
   "outputs": [],
   "source": [
    "import os\n",
    "\n",
    "#label_dir = r\"C:\\Users\\gnvca\\OneDrive\\Desktop\\JP\\model03S\\dataset\\labels\\val\"  # or val, depending on the split\n",
    "label_dir = r\"C:\\Users\\gnvca\\OneDrive\\Desktop\\JP\\model03S\\dataset\\labels\\train\"  # or val, depending on the split\n",
    "image_dir = r\"C:\\Users\\gnvca\\OneDrive\\Desktop\\JP\\images\"\n",
    "os.makedirs(label_dir, exist_ok=True)\n",
    "\n",
    "image_width, image_height = 600, 600  # Replace with actual size if dynamic\n",
    "\n",
    "for idx, row in df.iterrows():\n",
    "    label_lines = []\n",
    "\n",
    "    # Process boilers (class 0)\n",
    "    for poly in row['polygons_boil']:\n",
    "        scaled_poly = scale_polygon(poly, scale=1.15)\n",
    "        x, y, w, h = polygon_to_yolo_bbox(scaled_poly, image_width, image_height)\n",
    "        label_lines.append(f\"0 {x:.6f} {y:.6f} {w:.6f} {h:.6f}\")\n",
    "\n",
    "    # Process panels (class 1)\n",
    "    for poly in row['polygons_pan']:\n",
    "        scaled_poly = scale_polygon(poly, scale=1.15)\n",
    "        x, y, w, h = polygon_to_yolo_bbox(scaled_poly, image_width, image_height)\n",
    "        label_lines.append(f\"1 {x:.6f} {y:.6f} {w:.6f} {h:.6f}\")\n",
    "\n",
    "    # Save to .txt file\n",
    "    label_path = os.path.join(label_dir, f\"{row['img_id']}.txt\")\n",
    "    with open(label_path, \"w\") as f:\n",
    "        f.write(\"\\n\".join(label_lines))"
   ]
  },
  {
   "cell_type": "code",
   "execution_count": null,
   "metadata": {},
   "outputs": [],
   "source": [
    "import os\n",
    "import shutil\n",
    "import pandas as pd\n",
    "\n",
    "# Load the training DataFrame\n",
    "df_train = pd.read_pickle(r\"C:\\Users\\gnvca\\OneDrive\\Desktop\\JP\\Model_Train.pkl\")\n",
    "df_val = pd.read_pickle(r\"C:\\Users\\gnvca\\OneDrive\\Desktop\\JP\\Model_Val.pkl\")\n",
    "# Paths\n",
    "image_dir = r\"C:\\Users\\gnvca\\OneDrive\\Desktop\\JP\\images\"  # Folder with original images\n",
    "output_dir = r\"C:\\Users\\gnvca\\OneDrive\\Desktop\\JP\\model03S\\dataset\\images\\val\"  # Destination folder\n",
    "os.makedirs(output_dir, exist_ok=True)\n",
    "\n",
    "# Copy each image\n",
    "for img_id in df_val['img_id']:\n",
    "    src_path = os.path.join(image_dir, f\"{img_id}.jpg\")\n",
    "    dst_path = os.path.join(output_dir, f\"{img_id}.jpg\")\n",
    "\n",
    "    if os.path.exists(src_path):\n",
    "        shutil.copy2(src_path, dst_path)\n",
    "    else:\n",
    "        print(f\"⚠️ Warning: Image not found: {src_path}\")\n"
   ]
  },
  {
   "cell_type": "markdown",
   "metadata": {},
   "source": [
    "Training YOLO"
   ]
  },
  {
   "cell_type": "code",
   "execution_count": null,
   "metadata": {},
   "outputs": [],
   "source": [
    "import os\n",
    "\n",
    "label_dir = r\"C:\\Users\\gnvca\\OneDrive\\Desktop\\JP\\model03S\\dataset\\labels\\train\"\n",
    "image_dir = r\"C:\\Users\\gnvca\\OneDrive\\Desktop\\JP\\model03S\\dataset\\images\\train\"\n",
    "\n",
    "label_files = set(f for f in os.listdir(label_dir) if f.endswith(\".txt\"))\n",
    "image_files = set(f for f in os.listdir(image_dir) if f.endswith(\".jpg\"))\n",
    "\n",
    "# Check for orphaned files (label without image, image without label)\n",
    "for f in label_files.union(image_files):\n",
    "    label_path = os.path.join(label_dir, f.replace(\".jpg\", \".txt\"))\n",
    "    image_path = os.path.join(image_dir, f.replace(\".txt\", \".jpg\"))\n",
    "\n",
    "    label_exists = os.path.exists(label_path)\n",
    "    image_exists = os.path.exists(image_path)\n",
    "\n",
    "    if not label_exists or not image_exists:\n",
    "        if label_exists:\n",
    "            os.remove(label_path)\n",
    "            print(f\"🗑️ Removed orphan label: {label_path}\")\n",
    "        if image_exists:\n",
    "            os.remove(image_path)\n",
    "            print(f\"🗑️ Removed orphan image: {image_path}\")\n",
    "\n",
    "# Now validate all remaining label files\n",
    "for file in os.listdir(label_dir):\n",
    "    if not file.endswith(\".txt\"):\n",
    "        continue\n",
    "\n",
    "    label_path = os.path.join(label_dir, file)\n",
    "    image_path = os.path.join(image_dir, file.replace(\".txt\", \".jpg\"))\n",
    "\n",
    "    with open(label_path, \"r\") as f:\n",
    "        lines = f.readlines()\n",
    "\n",
    "    valid_lines = []\n",
    "    for line in lines:\n",
    "        try:\n",
    "            parts = list(map(float, line.strip().split()))\n",
    "            if (\n",
    "                len(parts) == 5\n",
    "                and 0 <= parts[1] <= 1 and 0 <= parts[2] <= 1\n",
    "                and 0 < parts[3] <= 1 and 0 < parts[4] <= 1\n",
    "            ):\n",
    "                valid_lines.append(line)\n",
    "        except:\n",
    "            continue\n",
    "\n",
    "    if valid_lines:\n",
    "        with open(label_path, \"w\") as f:\n",
    "            f.writelines(valid_lines)\n",
    "    else:\n",
    "        os.remove(label_path)\n",
    "        if os.path.exists(image_path):\n",
    "            os.remove(image_path)\n",
    "            print(f\"🧹 Removed image+label with no valid annotations: {file.replace('.txt', '')}\")\n"
   ]
  },
  {
   "cell_type": "code",
   "execution_count": null,
   "metadata": {},
   "outputs": [],
   "source": [
    "for file in os.listdir(label_dir):\n",
    "    filepath = os.path.join(label_dir, file)\n",
    "    with open(filepath, \"r\") as f:\n",
    "        lines = f.readlines()\n",
    "    valid_lines = []\n",
    "    for line in lines:\n",
    "        try:\n",
    "            parts = list(map(float, line.strip().split()))\n",
    "            if 0 <= parts[1] <= 1 and 0 <= parts[2] <= 1 and 0 < parts[3] <= 1 and 0 < parts[4] <= 1:\n",
    "                valid_lines.append(line)\n",
    "        except:\n",
    "            continue\n",
    "    if valid_lines:\n",
    "        with open(filepath, \"w\") as f:\n",
    "            f.writelines(valid_lines)\n",
    "    else:\n",
    "        os.remove(filepath)  # Delete file with no valid labels\n"
   ]
  },
  {
   "cell_type": "code",
   "execution_count": null,
   "metadata": {},
   "outputs": [
    {
     "data": {
      "text/plain": [
       "0"
      ]
     },
     "execution_count": 1,
     "metadata": {},
     "output_type": "execute_result"
    }
   ],
   "source": [
    "import torch\n",
    "import gc\n",
    "\n",
    "# Clear cache and free memory\n",
    "torch.cuda.empty_cache()\n",
    "gc.collect()\n"
   ]
  },
  {
   "cell_type": "code",
   "execution_count": null,
   "metadata": {},
   "outputs": [
    {
     "name": "stdout",
     "output_type": "stream",
     "text": [
      "Ultralytics 8.3.94  Python-3.10.16 torch-2.6.0+cu126 CUDA:0 (NVIDIA GeForce RTX 4060, 8188MiB)\n",
      "\u001b[34m\u001b[1mengine\\trainer: \u001b[0mtask=detect, mode=train, model=yolov8s.pt, data=C:\\Users\\gnvca\\OneDrive\\Desktop\\JP\\model03S\\yolo.yaml, epochs=100, time=None, patience=100, batch=16, imgsz=512, save=True, save_period=-1, cache=True, device=0, workers=4, project=None, name=train_safe_v25, exist_ok=False, pretrained=True, optimizer=SGD, verbose=True, seed=0, deterministic=True, single_cls=False, rect=False, cos_lr=False, close_mosaic=10, resume=False, amp=True, fraction=1.0, profile=False, freeze=None, multi_scale=False, overlap_mask=True, mask_ratio=4, dropout=0.0, val=True, split=val, save_json=False, save_hybrid=False, conf=0.2, iou=0.6, max_det=300, half=False, dnn=False, plots=True, source=None, vid_stride=1, stream_buffer=False, visualize=False, augment=False, agnostic_nms=False, classes=None, retina_masks=False, embed=None, show=False, save_frames=False, save_txt=False, save_conf=False, save_crop=False, show_labels=True, show_conf=True, show_boxes=True, line_width=None, format=torchscript, keras=False, optimize=False, int8=False, dynamic=False, simplify=True, opset=None, workspace=None, nms=False, lr0=0.01, lrf=0.01, momentum=0.937, weight_decay=0.0005, warmup_epochs=3.0, warmup_momentum=0.8, warmup_bias_lr=0.1, box=7.5, cls=1.0, dfl=1.5, pose=12.0, kobj=1.0, nbs=64, hsv_h=0.015, hsv_s=0.7, hsv_v=0.4, degrees=5.0, translate=0.1, scale=0.5, shear=0.0, perspective=0.0, flipud=0.0, fliplr=0.5, bgr=0.0, mosaic=1.0, mixup=0.2, copy_paste=0.1, copy_paste_mode=flip, auto_augment=randaugment, erasing=0.4, crop_fraction=1.0, cfg=None, tracker=botsort.yaml, save_dir=runs\\detect\\train_safe_v25\n",
      "Overriding model.yaml nc=80 with nc=2\n",
      "\n",
      "                   from  n    params  module                                       arguments                     \n",
      "  0                  -1  1       928  ultralytics.nn.modules.conv.Conv             [3, 32, 3, 2]                 \n",
      "  1                  -1  1     18560  ultralytics.nn.modules.conv.Conv             [32, 64, 3, 2]                \n",
      "  2                  -1  1     29056  ultralytics.nn.modules.block.C2f             [64, 64, 1, True]             \n",
      "  3                  -1  1     73984  ultralytics.nn.modules.conv.Conv             [64, 128, 3, 2]               \n",
      "  4                  -1  2    197632  ultralytics.nn.modules.block.C2f             [128, 128, 2, True]           \n",
      "  5                  -1  1    295424  ultralytics.nn.modules.conv.Conv             [128, 256, 3, 2]              \n",
      "  6                  -1  2    788480  ultralytics.nn.modules.block.C2f             [256, 256, 2, True]           \n",
      "  7                  -1  1   1180672  ultralytics.nn.modules.conv.Conv             [256, 512, 3, 2]              \n",
      "  8                  -1  1   1838080  ultralytics.nn.modules.block.C2f             [512, 512, 1, True]           \n",
      "  9                  -1  1    656896  ultralytics.nn.modules.block.SPPF            [512, 512, 5]                 \n",
      " 10                  -1  1         0  torch.nn.modules.upsampling.Upsample         [None, 2, 'nearest']          \n",
      " 11             [-1, 6]  1         0  ultralytics.nn.modules.conv.Concat           [1]                           \n",
      " 12                  -1  1    591360  ultralytics.nn.modules.block.C2f             [768, 256, 1]                 \n",
      " 13                  -1  1         0  torch.nn.modules.upsampling.Upsample         [None, 2, 'nearest']          \n",
      " 14             [-1, 4]  1         0  ultralytics.nn.modules.conv.Concat           [1]                           \n",
      " 15                  -1  1    148224  ultralytics.nn.modules.block.C2f             [384, 128, 1]                 \n",
      " 16                  -1  1    147712  ultralytics.nn.modules.conv.Conv             [128, 128, 3, 2]              \n",
      " 17            [-1, 12]  1         0  ultralytics.nn.modules.conv.Concat           [1]                           \n",
      " 18                  -1  1    493056  ultralytics.nn.modules.block.C2f             [384, 256, 1]                 \n",
      " 19                  -1  1    590336  ultralytics.nn.modules.conv.Conv             [256, 256, 3, 2]              \n",
      " 20             [-1, 9]  1         0  ultralytics.nn.modules.conv.Concat           [1]                           \n",
      " 21                  -1  1   1969152  ultralytics.nn.modules.block.C2f             [768, 512, 1]                 \n",
      " 22        [15, 18, 21]  1   2116822  ultralytics.nn.modules.head.Detect           [2, [128, 256, 512]]          \n",
      "Model summary: 129 layers, 11,136,374 parameters, 11,136,358 gradients, 28.6 GFLOPs\n",
      "\n",
      "Transferred 349/355 items from pretrained weights\n",
      "Freezing layer 'model.22.dfl.conv.weight'\n",
      "\u001b[34m\u001b[1mAMP: \u001b[0mrunning Automatic Mixed Precision (AMP) checks...\n",
      "\u001b[34m\u001b[1mAMP: \u001b[0mchecks passed \n"
     ]
    },
    {
     "name": "stderr",
     "output_type": "stream",
     "text": [
      "\u001b[34m\u001b[1mtrain: \u001b[0mScanning C:\\Users\\gnvca\\OneDrive\\Desktop\\JP\\model03S\\dataset\\labels\\train... 2439 images, 0 backgrounds, 1 corrupt: 100%|██████████| 2439/2439 [00:01<00:00, 1246.93it/s]"
     ]
    },
    {
     "name": "stdout",
     "output_type": "stream",
     "text": [
      "\u001b[34m\u001b[1mtrain: \u001b[0mWARNING  C:\\Users\\gnvca\\OneDrive\\Desktop\\JP\\model03S\\dataset\\images\\train\\IDcxTl9zDOWTNH.jpg: 1 duplicate labels removed\n",
      "\u001b[34m\u001b[1mtrain: \u001b[0mWARNING  C:\\Users\\gnvca\\OneDrive\\Desktop\\JP\\model03S\\dataset\\images\\train\\IDpNecgm1Opkw.jpg: ignoring corrupt image/label: non-normalized or out of bounds coordinates [1.155635 2.054698]\n"
     ]
    },
    {
     "name": "stderr",
     "output_type": "stream",
     "text": [
      "\n"
     ]
    },
    {
     "name": "stdout",
     "output_type": "stream",
     "text": [
      "\u001b[34m\u001b[1mtrain: \u001b[0mNew cache created: C:\\Users\\gnvca\\OneDrive\\Desktop\\JP\\model03S\\dataset\\labels\\train.cache\n",
      "WARNING  cache='ram' may produce non-deterministic training results. Consider cache='disk' as a deterministic alternative if your disk space allows.\n"
     ]
    },
    {
     "name": "stderr",
     "output_type": "stream",
     "text": [
      "\u001b[34m\u001b[1mtrain: \u001b[0mCaching images (1.3GB RAM): 100%|██████████| 2438/2438 [00:20<00:00, 120.17it/s]\n",
      "\u001b[34m\u001b[1mval: \u001b[0mScanning C:\\Users\\gnvca\\OneDrive\\Desktop\\JP\\model03S\\dataset\\labels\\val.cache... 610 images, 0 backgrounds, 0 corrupt: 100%|██████████| 610/610 [00:00<?, ?it/s]\n"
     ]
    },
    {
     "name": "stdout",
     "output_type": "stream",
     "text": [
      "WARNING  cache='ram' may produce non-deterministic training results. Consider cache='disk' as a deterministic alternative if your disk space allows.\n"
     ]
    },
    {
     "name": "stderr",
     "output_type": "stream",
     "text": [
      "\u001b[34m\u001b[1mval: \u001b[0mCaching images (0.3GB RAM): 100%|██████████| 610/610 [00:06<00:00, 101.08it/s]\n"
     ]
    },
    {
     "name": "stdout",
     "output_type": "stream",
     "text": [
      "Plotting labels to runs\\detect\\train_safe_v25\\labels.jpg... \n",
      "\u001b[34m\u001b[1moptimizer:\u001b[0m SGD(lr=0.01, momentum=0.937) with parameter groups 57 weight(decay=0.0), 64 weight(decay=0.0005), 63 bias(decay=0.0)\n",
      "Image sizes 512 train, 512 val\n",
      "Using 4 dataloader workers\n",
      "Logging results to \u001b[1mruns\\detect\\train_safe_v25\u001b[0m\n",
      "Starting training for 100 epochs...\n",
      "\n",
      "      Epoch    GPU_mem   box_loss   cls_loss   dfl_loss  Instances       Size\n"
     ]
    },
    {
     "name": "stderr",
     "output_type": "stream",
     "text": [
      "      1/100      3.24G      3.451      7.759      2.616         33        512: 100%|██████████| 153/153 [00:21<00:00,  7.13it/s]\n",
      "                 Class     Images  Instances      Box(P          R      mAP50  mAP50-95): 100%|██████████| 20/20 [00:01<00:00, 10.03it/s]"
     ]
    },
    {
     "name": "stdout",
     "output_type": "stream",
     "text": [
      "                   all        610       1153     0.0455   0.000965     0.0228    0.00228\n"
     ]
    },
    {
     "name": "stderr",
     "output_type": "stream",
     "text": [
      "\n"
     ]
    },
    {
     "name": "stdout",
     "output_type": "stream",
     "text": [
      "\n",
      "      Epoch    GPU_mem   box_loss   cls_loss   dfl_loss  Instances       Size\n"
     ]
    },
    {
     "name": "stderr",
     "output_type": "stream",
     "text": [
      "      2/100      3.24G      2.754      5.371      1.994         24        512: 100%|██████████| 153/153 [00:20<00:00,  7.44it/s]\n",
      "                 Class     Images  Instances      Box(P          R      mAP50  mAP50-95): 100%|██████████| 20/20 [00:02<00:00,  9.46it/s]"
     ]
    },
    {
     "name": "stdout",
     "output_type": "stream",
     "text": [
      "                   all        610       1153     0.0374    0.00627     0.0189    0.00566\n"
     ]
    },
    {
     "name": "stderr",
     "output_type": "stream",
     "text": [
      "\n"
     ]
    },
    {
     "name": "stdout",
     "output_type": "stream",
     "text": [
      "\n",
      "      Epoch    GPU_mem   box_loss   cls_loss   dfl_loss  Instances       Size\n"
     ]
    },
    {
     "name": "stderr",
     "output_type": "stream",
     "text": [
      "      3/100      3.24G      2.477      4.882      1.761         22        512: 100%|██████████| 153/153 [00:20<00:00,  7.61it/s]\n",
      "                 Class     Images  Instances      Box(P          R      mAP50  mAP50-95): 100%|██████████| 20/20 [00:02<00:00,  9.67it/s]"
     ]
    },
    {
     "name": "stdout",
     "output_type": "stream",
     "text": [
      "                   all        610       1153     0.0666     0.0556     0.0425     0.0158\n"
     ]
    },
    {
     "name": "stderr",
     "output_type": "stream",
     "text": [
      "\n"
     ]
    },
    {
     "name": "stdout",
     "output_type": "stream",
     "text": [
      "\n",
      "      Epoch    GPU_mem   box_loss   cls_loss   dfl_loss  Instances       Size\n"
     ]
    },
    {
     "name": "stderr",
     "output_type": "stream",
     "text": [
      "      4/100      3.24G       2.36      4.457      1.647         25        512: 100%|██████████| 153/153 [00:19<00:00,  7.66it/s]\n",
      "                 Class     Images  Instances      Box(P          R      mAP50  mAP50-95): 100%|██████████| 20/20 [00:02<00:00,  8.09it/s]"
     ]
    },
    {
     "name": "stdout",
     "output_type": "stream",
     "text": [
      "                   all        610       1153      0.125      0.107     0.0713     0.0217\n"
     ]
    },
    {
     "name": "stderr",
     "output_type": "stream",
     "text": [
      "\n"
     ]
    },
    {
     "name": "stdout",
     "output_type": "stream",
     "text": [
      "\n",
      "      Epoch    GPU_mem   box_loss   cls_loss   dfl_loss  Instances       Size\n"
     ]
    },
    {
     "name": "stderr",
     "output_type": "stream",
     "text": [
      "      5/100      3.24G      2.253      4.143      1.579         19        512: 100%|██████████| 153/153 [00:20<00:00,  7.52it/s]\n",
      "                 Class     Images  Instances      Box(P          R      mAP50  mAP50-95): 100%|██████████| 20/20 [00:02<00:00,  8.37it/s]"
     ]
    },
    {
     "name": "stdout",
     "output_type": "stream",
     "text": [
      "                   all        610       1153       0.31      0.116      0.195     0.0739\n"
     ]
    },
    {
     "name": "stderr",
     "output_type": "stream",
     "text": [
      "\n"
     ]
    },
    {
     "name": "stdout",
     "output_type": "stream",
     "text": [
      "\n",
      "      Epoch    GPU_mem   box_loss   cls_loss   dfl_loss  Instances       Size\n"
     ]
    },
    {
     "name": "stderr",
     "output_type": "stream",
     "text": [
      "      6/100      3.24G      2.123      3.699      1.473         31        512: 100%|██████████| 153/153 [00:20<00:00,  7.52it/s]\n",
      "                 Class     Images  Instances      Box(P          R      mAP50  mAP50-95): 100%|██████████| 20/20 [00:02<00:00,  8.15it/s]"
     ]
    },
    {
     "name": "stdout",
     "output_type": "stream",
     "text": [
      "                   all        610       1153      0.174      0.138      0.121     0.0397\n"
     ]
    },
    {
     "name": "stderr",
     "output_type": "stream",
     "text": [
      "\n"
     ]
    },
    {
     "name": "stdout",
     "output_type": "stream",
     "text": [
      "\n",
      "      Epoch    GPU_mem   box_loss   cls_loss   dfl_loss  Instances       Size\n"
     ]
    },
    {
     "name": "stderr",
     "output_type": "stream",
     "text": [
      "      7/100      3.24G      2.025      3.357      1.407         15        512: 100%|██████████| 153/153 [00:20<00:00,  7.57it/s]\n",
      "                 Class     Images  Instances      Box(P          R      mAP50  mAP50-95): 100%|██████████| 20/20 [00:02<00:00,  8.31it/s]"
     ]
    },
    {
     "name": "stdout",
     "output_type": "stream",
     "text": [
      "                   all        610       1153      0.192      0.123      0.129     0.0446\n"
     ]
    },
    {
     "name": "stderr",
     "output_type": "stream",
     "text": [
      "\n"
     ]
    },
    {
     "name": "stdout",
     "output_type": "stream",
     "text": [
      "\n",
      "      Epoch    GPU_mem   box_loss   cls_loss   dfl_loss  Instances       Size\n"
     ]
    },
    {
     "name": "stderr",
     "output_type": "stream",
     "text": [
      "      8/100      3.24G      1.937      3.202      1.367         15        512: 100%|██████████| 153/153 [00:20<00:00,  7.64it/s]\n",
      "                 Class     Images  Instances      Box(P          R      mAP50  mAP50-95): 100%|██████████| 20/20 [00:02<00:00,  8.45it/s]"
     ]
    },
    {
     "name": "stdout",
     "output_type": "stream",
     "text": [
      "                   all        610       1153      0.269     0.0751      0.152     0.0688\n"
     ]
    },
    {
     "name": "stderr",
     "output_type": "stream",
     "text": [
      "\n"
     ]
    },
    {
     "name": "stdout",
     "output_type": "stream",
     "text": [
      "\n",
      "      Epoch    GPU_mem   box_loss   cls_loss   dfl_loss  Instances       Size\n"
     ]
    },
    {
     "name": "stderr",
     "output_type": "stream",
     "text": [
      "      9/100      3.24G      1.867      3.013      1.335         28        512: 100%|██████████| 153/153 [00:20<00:00,  7.45it/s]\n",
      "                 Class     Images  Instances      Box(P          R      mAP50  mAP50-95): 100%|██████████| 20/20 [00:02<00:00,  8.25it/s]"
     ]
    },
    {
     "name": "stdout",
     "output_type": "stream",
     "text": [
      "                   all        610       1153      0.244     0.0849      0.145     0.0534\n"
     ]
    },
    {
     "name": "stderr",
     "output_type": "stream",
     "text": [
      "\n"
     ]
    },
    {
     "name": "stdout",
     "output_type": "stream",
     "text": [
      "\n",
      "      Epoch    GPU_mem   box_loss   cls_loss   dfl_loss  Instances       Size\n"
     ]
    },
    {
     "name": "stderr",
     "output_type": "stream",
     "text": [
      "     10/100      3.25G      1.784      2.775      1.284         15        512: 100%|██████████| 153/153 [00:20<00:00,  7.31it/s]\n",
      "                 Class     Images  Instances      Box(P          R      mAP50  mAP50-95): 100%|██████████| 20/20 [00:02<00:00,  7.07it/s]"
     ]
    },
    {
     "name": "stdout",
     "output_type": "stream",
     "text": [
      "                   all        610       1153      0.223      0.109      0.118     0.0358\n"
     ]
    },
    {
     "name": "stderr",
     "output_type": "stream",
     "text": [
      "\n"
     ]
    },
    {
     "name": "stdout",
     "output_type": "stream",
     "text": [
      "\n",
      "      Epoch    GPU_mem   box_loss   cls_loss   dfl_loss  Instances       Size\n"
     ]
    },
    {
     "name": "stderr",
     "output_type": "stream",
     "text": [
      "     11/100      3.27G      1.732      2.705      1.266         25        512: 100%|██████████| 153/153 [00:20<00:00,  7.61it/s]\n",
      "                 Class     Images  Instances      Box(P          R      mAP50  mAP50-95): 100%|██████████| 20/20 [00:02<00:00,  8.70it/s]"
     ]
    },
    {
     "name": "stdout",
     "output_type": "stream",
     "text": [
      "                   all        610       1153      0.244     0.0871      0.144     0.0506\n"
     ]
    },
    {
     "name": "stderr",
     "output_type": "stream",
     "text": [
      "\n"
     ]
    },
    {
     "name": "stdout",
     "output_type": "stream",
     "text": [
      "\n",
      "      Epoch    GPU_mem   box_loss   cls_loss   dfl_loss  Instances       Size\n"
     ]
    },
    {
     "name": "stderr",
     "output_type": "stream",
     "text": [
      "     12/100       3.3G      1.695      2.616      1.243         31        512: 100%|██████████| 153/153 [00:20<00:00,  7.51it/s]\n",
      "                 Class     Images  Instances      Box(P          R      mAP50  mAP50-95): 100%|██████████| 20/20 [00:02<00:00,  8.62it/s]"
     ]
    },
    {
     "name": "stdout",
     "output_type": "stream",
     "text": [
      "                   all        610       1153      0.219     0.0971      0.129     0.0439\n"
     ]
    },
    {
     "name": "stderr",
     "output_type": "stream",
     "text": [
      "\n"
     ]
    },
    {
     "name": "stdout",
     "output_type": "stream",
     "text": [
      "\n",
      "      Epoch    GPU_mem   box_loss   cls_loss   dfl_loss  Instances       Size\n"
     ]
    },
    {
     "name": "stderr",
     "output_type": "stream",
     "text": [
      "     13/100      3.32G      1.638       2.49      1.215         32        512: 100%|██████████| 153/153 [00:20<00:00,  7.55it/s]\n",
      "                 Class     Images  Instances      Box(P          R      mAP50  mAP50-95): 100%|██████████| 20/20 [00:02<00:00,  8.68it/s]"
     ]
    },
    {
     "name": "stdout",
     "output_type": "stream",
     "text": [
      "                   all        610       1153      0.291     0.0886      0.169     0.0643\n"
     ]
    },
    {
     "name": "stderr",
     "output_type": "stream",
     "text": [
      "\n"
     ]
    },
    {
     "name": "stdout",
     "output_type": "stream",
     "text": [
      "\n",
      "      Epoch    GPU_mem   box_loss   cls_loss   dfl_loss  Instances       Size\n"
     ]
    },
    {
     "name": "stderr",
     "output_type": "stream",
     "text": [
      "     14/100      3.32G      1.607      2.407      1.204         36        512: 100%|██████████| 153/153 [00:20<00:00,  7.60it/s]\n",
      "                 Class     Images  Instances      Box(P          R      mAP50  mAP50-95): 100%|██████████| 20/20 [00:02<00:00,  8.54it/s]"
     ]
    },
    {
     "name": "stdout",
     "output_type": "stream",
     "text": [
      "                   all        610       1153      0.185     0.0875      0.113     0.0354\n"
     ]
    },
    {
     "name": "stderr",
     "output_type": "stream",
     "text": [
      "\n"
     ]
    },
    {
     "name": "stdout",
     "output_type": "stream",
     "text": [
      "\n",
      "      Epoch    GPU_mem   box_loss   cls_loss   dfl_loss  Instances       Size\n"
     ]
    },
    {
     "name": "stderr",
     "output_type": "stream",
     "text": [
      "     15/100      3.32G      1.566      2.316      1.184         41        512: 100%|██████████| 153/153 [00:20<00:00,  7.55it/s]\n",
      "                 Class     Images  Instances      Box(P          R      mAP50  mAP50-95): 100%|██████████| 20/20 [00:02<00:00,  8.00it/s]"
     ]
    },
    {
     "name": "stdout",
     "output_type": "stream",
     "text": [
      "                   all        610       1153      0.265      0.102       0.16     0.0598\n"
     ]
    },
    {
     "name": "stderr",
     "output_type": "stream",
     "text": [
      "\n"
     ]
    },
    {
     "name": "stdout",
     "output_type": "stream",
     "text": [
      "\n",
      "      Epoch    GPU_mem   box_loss   cls_loss   dfl_loss  Instances       Size\n"
     ]
    },
    {
     "name": "stderr",
     "output_type": "stream",
     "text": [
      "     16/100      3.32G       1.51      2.219      1.158         16        512: 100%|██████████| 153/153 [00:20<00:00,  7.56it/s]\n",
      "                 Class     Images  Instances      Box(P          R      mAP50  mAP50-95): 100%|██████████| 20/20 [00:02<00:00,  8.89it/s]"
     ]
    },
    {
     "name": "stdout",
     "output_type": "stream",
     "text": [
      "                   all        610       1153      0.262     0.0765      0.152     0.0443\n"
     ]
    },
    {
     "name": "stderr",
     "output_type": "stream",
     "text": [
      "\n"
     ]
    },
    {
     "name": "stdout",
     "output_type": "stream",
     "text": [
      "\n",
      "      Epoch    GPU_mem   box_loss   cls_loss   dfl_loss  Instances       Size\n"
     ]
    },
    {
     "name": "stderr",
     "output_type": "stream",
     "text": [
      "     17/100      3.32G      1.502      2.189      1.163         19        512: 100%|██████████| 153/153 [00:20<00:00,  7.59it/s]\n",
      "                 Class     Images  Instances      Box(P          R      mAP50  mAP50-95): 100%|██████████| 20/20 [00:02<00:00,  8.80it/s]"
     ]
    },
    {
     "name": "stdout",
     "output_type": "stream",
     "text": [
      "                   all        610       1153      0.234      0.089      0.145     0.0517\n"
     ]
    },
    {
     "name": "stderr",
     "output_type": "stream",
     "text": [
      "\n"
     ]
    },
    {
     "name": "stdout",
     "output_type": "stream",
     "text": [
      "\n",
      "      Epoch    GPU_mem   box_loss   cls_loss   dfl_loss  Instances       Size\n"
     ]
    },
    {
     "name": "stderr",
     "output_type": "stream",
     "text": [
      "     18/100      3.32G      1.463      2.138      1.145         24        512: 100%|██████████| 153/153 [00:20<00:00,  7.53it/s]\n",
      "                 Class     Images  Instances      Box(P          R      mAP50  mAP50-95): 100%|██████████| 20/20 [00:02<00:00,  8.95it/s]"
     ]
    },
    {
     "name": "stdout",
     "output_type": "stream",
     "text": [
      "                   all        610       1153      0.227     0.0513      0.123     0.0426\n"
     ]
    },
    {
     "name": "stderr",
     "output_type": "stream",
     "text": [
      "\n"
     ]
    },
    {
     "name": "stdout",
     "output_type": "stream",
     "text": [
      "\n",
      "      Epoch    GPU_mem   box_loss   cls_loss   dfl_loss  Instances       Size\n"
     ]
    },
    {
     "name": "stderr",
     "output_type": "stream",
     "text": [
      "     19/100      3.32G      1.431      2.071      1.132         24        512: 100%|██████████| 153/153 [00:20<00:00,  7.55it/s]\n",
      "                 Class     Images  Instances      Box(P          R      mAP50  mAP50-95): 100%|██████████| 20/20 [00:02<00:00,  8.34it/s]"
     ]
    },
    {
     "name": "stdout",
     "output_type": "stream",
     "text": [
      "                   all        610       1153      0.239     0.0998      0.151     0.0597\n"
     ]
    },
    {
     "name": "stderr",
     "output_type": "stream",
     "text": [
      "\n"
     ]
    },
    {
     "name": "stdout",
     "output_type": "stream",
     "text": [
      "\n",
      "      Epoch    GPU_mem   box_loss   cls_loss   dfl_loss  Instances       Size\n"
     ]
    },
    {
     "name": "stderr",
     "output_type": "stream",
     "text": [
      "     20/100      3.32G       1.44      2.077      1.135         16        512: 100%|██████████| 153/153 [00:20<00:00,  7.54it/s]\n",
      "                 Class     Images  Instances      Box(P          R      mAP50  mAP50-95): 100%|██████████| 20/20 [00:02<00:00,  8.56it/s]"
     ]
    },
    {
     "name": "stdout",
     "output_type": "stream",
     "text": [
      "                   all        610       1153      0.266     0.0838      0.153     0.0569\n"
     ]
    },
    {
     "name": "stderr",
     "output_type": "stream",
     "text": [
      "\n"
     ]
    },
    {
     "name": "stdout",
     "output_type": "stream",
     "text": [
      "\n",
      "      Epoch    GPU_mem   box_loss   cls_loss   dfl_loss  Instances       Size\n"
     ]
    },
    {
     "name": "stderr",
     "output_type": "stream",
     "text": [
      "     21/100      3.32G      1.399      2.006      1.121         58        512: 100%|██████████| 153/153 [00:20<00:00,  7.47it/s]\n",
      "                 Class     Images  Instances      Box(P          R      mAP50  mAP50-95): 100%|██████████| 20/20 [00:02<00:00,  8.48it/s]"
     ]
    },
    {
     "name": "stdout",
     "output_type": "stream",
     "text": [
      "                   all        610       1153      0.302     0.0956      0.176     0.0627\n"
     ]
    },
    {
     "name": "stderr",
     "output_type": "stream",
     "text": [
      "\n"
     ]
    },
    {
     "name": "stdout",
     "output_type": "stream",
     "text": [
      "\n",
      "      Epoch    GPU_mem   box_loss   cls_loss   dfl_loss  Instances       Size\n"
     ]
    },
    {
     "name": "stderr",
     "output_type": "stream",
     "text": [
      "     22/100      3.35G      1.384      1.951      1.107         20        512: 100%|██████████| 153/153 [00:20<00:00,  7.46it/s]\n",
      "                 Class     Images  Instances      Box(P          R      mAP50  mAP50-95): 100%|██████████| 20/20 [00:02<00:00,  8.27it/s]"
     ]
    },
    {
     "name": "stdout",
     "output_type": "stream",
     "text": [
      "                   all        610       1153      0.356      0.167      0.227     0.0778\n"
     ]
    },
    {
     "name": "stderr",
     "output_type": "stream",
     "text": [
      "\n"
     ]
    },
    {
     "name": "stdout",
     "output_type": "stream",
     "text": [
      "\n",
      "      Epoch    GPU_mem   box_loss   cls_loss   dfl_loss  Instances       Size\n"
     ]
    },
    {
     "name": "stderr",
     "output_type": "stream",
     "text": [
      "     23/100      3.35G      1.362      1.928      1.101         14        512: 100%|██████████| 153/153 [00:20<00:00,  7.48it/s]\n",
      "                 Class     Images  Instances      Box(P          R      mAP50  mAP50-95): 100%|██████████| 20/20 [00:02<00:00,  8.29it/s]"
     ]
    },
    {
     "name": "stdout",
     "output_type": "stream",
     "text": [
      "                   all        610       1153      0.372      0.136      0.236     0.0779\n"
     ]
    },
    {
     "name": "stderr",
     "output_type": "stream",
     "text": [
      "\n"
     ]
    },
    {
     "name": "stdout",
     "output_type": "stream",
     "text": [
      "\n",
      "      Epoch    GPU_mem   box_loss   cls_loss   dfl_loss  Instances       Size\n"
     ]
    },
    {
     "name": "stderr",
     "output_type": "stream",
     "text": [
      "     24/100      3.35G      1.367      1.942      1.099         38        512: 100%|██████████| 153/153 [00:20<00:00,  7.51it/s]\n",
      "                 Class     Images  Instances      Box(P          R      mAP50  mAP50-95): 100%|██████████| 20/20 [00:02<00:00,  8.54it/s]"
     ]
    },
    {
     "name": "stdout",
     "output_type": "stream",
     "text": [
      "                   all        610       1153      0.263     0.0683       0.15     0.0621\n"
     ]
    },
    {
     "name": "stderr",
     "output_type": "stream",
     "text": [
      "\n"
     ]
    },
    {
     "name": "stdout",
     "output_type": "stream",
     "text": [
      "\n",
      "      Epoch    GPU_mem   box_loss   cls_loss   dfl_loss  Instances       Size\n"
     ]
    },
    {
     "name": "stderr",
     "output_type": "stream",
     "text": [
      "     25/100      3.35G      1.301      1.826       1.08         21        512: 100%|██████████| 153/153 [00:20<00:00,  7.51it/s]\n",
      "                 Class     Images  Instances      Box(P          R      mAP50  mAP50-95): 100%|██████████| 20/20 [00:02<00:00,  8.76it/s]"
     ]
    },
    {
     "name": "stdout",
     "output_type": "stream",
     "text": [
      "                   all        610       1153      0.413      0.128      0.242     0.0835\n"
     ]
    },
    {
     "name": "stderr",
     "output_type": "stream",
     "text": [
      "\n"
     ]
    },
    {
     "name": "stdout",
     "output_type": "stream",
     "text": [
      "\n",
      "      Epoch    GPU_mem   box_loss   cls_loss   dfl_loss  Instances       Size\n"
     ]
    },
    {
     "name": "stderr",
     "output_type": "stream",
     "text": [
      "     26/100      3.35G      1.306       1.86      1.077         26        512: 100%|██████████| 153/153 [00:20<00:00,  7.60it/s]\n",
      "                 Class     Images  Instances      Box(P          R      mAP50  mAP50-95): 100%|██████████| 20/20 [00:02<00:00,  8.52it/s]"
     ]
    },
    {
     "name": "stdout",
     "output_type": "stream",
     "text": [
      "                   all        610       1153      0.267       0.11      0.161     0.0533\n"
     ]
    },
    {
     "name": "stderr",
     "output_type": "stream",
     "text": [
      "\n"
     ]
    },
    {
     "name": "stdout",
     "output_type": "stream",
     "text": [
      "\n",
      "      Epoch    GPU_mem   box_loss   cls_loss   dfl_loss  Instances       Size\n"
     ]
    },
    {
     "name": "stderr",
     "output_type": "stream",
     "text": [
      "     27/100      3.35G      1.308      1.838      1.082         34        512: 100%|██████████| 153/153 [00:19<00:00,  7.67it/s]\n",
      "                 Class     Images  Instances      Box(P          R      mAP50  mAP50-95): 100%|██████████| 20/20 [00:02<00:00,  8.59it/s]"
     ]
    },
    {
     "name": "stdout",
     "output_type": "stream",
     "text": [
      "                   all        610       1153      0.336       0.18      0.219     0.0836\n"
     ]
    },
    {
     "name": "stderr",
     "output_type": "stream",
     "text": [
      "\n"
     ]
    },
    {
     "name": "stdout",
     "output_type": "stream",
     "text": [
      "\n",
      "      Epoch    GPU_mem   box_loss   cls_loss   dfl_loss  Instances       Size\n"
     ]
    },
    {
     "name": "stderr",
     "output_type": "stream",
     "text": [
      "     28/100      3.35G      1.275      1.784      1.072         35        512: 100%|██████████| 153/153 [00:19<00:00,  7.67it/s]\n",
      "                 Class     Images  Instances      Box(P          R      mAP50  mAP50-95): 100%|██████████| 20/20 [00:02<00:00,  8.98it/s]"
     ]
    },
    {
     "name": "stdout",
     "output_type": "stream",
     "text": [
      "                   all        610       1153      0.456     0.0942      0.262      0.105\n"
     ]
    },
    {
     "name": "stderr",
     "output_type": "stream",
     "text": [
      "\n"
     ]
    },
    {
     "name": "stdout",
     "output_type": "stream",
     "text": [
      "\n",
      "      Epoch    GPU_mem   box_loss   cls_loss   dfl_loss  Instances       Size\n"
     ]
    },
    {
     "name": "stderr",
     "output_type": "stream",
     "text": [
      "     29/100      3.35G      1.272      1.791      1.066         24        512: 100%|██████████| 153/153 [00:20<00:00,  7.57it/s]\n",
      "                 Class     Images  Instances      Box(P          R      mAP50  mAP50-95): 100%|██████████| 20/20 [00:02<00:00,  8.51it/s]"
     ]
    },
    {
     "name": "stdout",
     "output_type": "stream",
     "text": [
      "                   all        610       1153      0.457      0.124      0.274      0.102\n"
     ]
    },
    {
     "name": "stderr",
     "output_type": "stream",
     "text": [
      "\n"
     ]
    },
    {
     "name": "stdout",
     "output_type": "stream",
     "text": [
      "\n",
      "      Epoch    GPU_mem   box_loss   cls_loss   dfl_loss  Instances       Size\n"
     ]
    },
    {
     "name": "stderr",
     "output_type": "stream",
     "text": [
      "     30/100      3.35G      1.254      1.739      1.059         22        512: 100%|██████████| 153/153 [00:20<00:00,  7.57it/s]\n",
      "                 Class     Images  Instances      Box(P          R      mAP50  mAP50-95): 100%|██████████| 20/20 [00:02<00:00,  8.63it/s]"
     ]
    },
    {
     "name": "stdout",
     "output_type": "stream",
     "text": [
      "                   all        610       1153      0.402       0.12      0.236     0.0849\n"
     ]
    },
    {
     "name": "stderr",
     "output_type": "stream",
     "text": [
      "\n"
     ]
    },
    {
     "name": "stdout",
     "output_type": "stream",
     "text": [
      "\n",
      "      Epoch    GPU_mem   box_loss   cls_loss   dfl_loss  Instances       Size\n"
     ]
    },
    {
     "name": "stderr",
     "output_type": "stream",
     "text": [
      "     31/100      3.35G       1.26      1.739      1.058         27        512: 100%|██████████| 153/153 [00:20<00:00,  7.59it/s]\n",
      "                 Class     Images  Instances      Box(P          R      mAP50  mAP50-95): 100%|██████████| 20/20 [00:02<00:00,  8.38it/s]"
     ]
    },
    {
     "name": "stdout",
     "output_type": "stream",
     "text": [
      "                   all        610       1153      0.339      0.174      0.221     0.0789\n"
     ]
    },
    {
     "name": "stderr",
     "output_type": "stream",
     "text": [
      "\n"
     ]
    },
    {
     "name": "stdout",
     "output_type": "stream",
     "text": [
      "\n",
      "      Epoch    GPU_mem   box_loss   cls_loss   dfl_loss  Instances       Size\n"
     ]
    },
    {
     "name": "stderr",
     "output_type": "stream",
     "text": [
      "     32/100      3.35G      1.248      1.744      1.055         21        512: 100%|██████████| 153/153 [00:19<00:00,  7.73it/s]\n",
      "                 Class     Images  Instances      Box(P          R      mAP50  mAP50-95): 100%|██████████| 20/20 [00:02<00:00,  8.36it/s]"
     ]
    },
    {
     "name": "stdout",
     "output_type": "stream",
     "text": [
      "                   all        610       1153       0.43      0.155      0.271     0.0813\n"
     ]
    },
    {
     "name": "stderr",
     "output_type": "stream",
     "text": [
      "\n"
     ]
    },
    {
     "name": "stdout",
     "output_type": "stream",
     "text": [
      "\n",
      "      Epoch    GPU_mem   box_loss   cls_loss   dfl_loss  Instances       Size\n"
     ]
    },
    {
     "name": "stderr",
     "output_type": "stream",
     "text": [
      "     33/100      3.35G      1.219      1.682      1.048         22        512: 100%|██████████| 153/153 [00:19<00:00,  7.67it/s]\n",
      "                 Class     Images  Instances      Box(P          R      mAP50  mAP50-95): 100%|██████████| 20/20 [00:02<00:00,  8.53it/s]"
     ]
    },
    {
     "name": "stdout",
     "output_type": "stream",
     "text": [
      "                   all        610       1153      0.417      0.211      0.294      0.115\n"
     ]
    },
    {
     "name": "stderr",
     "output_type": "stream",
     "text": [
      "\n"
     ]
    },
    {
     "name": "stdout",
     "output_type": "stream",
     "text": [
      "\n",
      "      Epoch    GPU_mem   box_loss   cls_loss   dfl_loss  Instances       Size\n"
     ]
    },
    {
     "name": "stderr",
     "output_type": "stream",
     "text": [
      "     34/100      3.35G      1.217      1.667      1.044         22        512: 100%|██████████| 153/153 [00:20<00:00,  7.64it/s]\n",
      "                 Class     Images  Instances      Box(P          R      mAP50  mAP50-95): 100%|██████████| 20/20 [00:02<00:00,  8.54it/s]"
     ]
    },
    {
     "name": "stdout",
     "output_type": "stream",
     "text": [
      "                   all        610       1153      0.315      0.151      0.205     0.0765\n"
     ]
    },
    {
     "name": "stderr",
     "output_type": "stream",
     "text": [
      "\n"
     ]
    },
    {
     "name": "stdout",
     "output_type": "stream",
     "text": [
      "\n",
      "      Epoch    GPU_mem   box_loss   cls_loss   dfl_loss  Instances       Size\n"
     ]
    },
    {
     "name": "stderr",
     "output_type": "stream",
     "text": [
      "     35/100      3.35G      1.172       1.59      1.025         31        512: 100%|██████████| 153/153 [00:19<00:00,  7.69it/s]\n",
      "                 Class     Images  Instances      Box(P          R      mAP50  mAP50-95): 100%|██████████| 20/20 [00:02<00:00,  8.55it/s]"
     ]
    },
    {
     "name": "stdout",
     "output_type": "stream",
     "text": [
      "                   all        610       1153      0.487      0.155      0.302      0.105\n"
     ]
    },
    {
     "name": "stderr",
     "output_type": "stream",
     "text": [
      "\n"
     ]
    },
    {
     "name": "stdout",
     "output_type": "stream",
     "text": [
      "\n",
      "      Epoch    GPU_mem   box_loss   cls_loss   dfl_loss  Instances       Size\n"
     ]
    },
    {
     "name": "stderr",
     "output_type": "stream",
     "text": [
      "     36/100      3.35G      1.199      1.642      1.036         29        512: 100%|██████████| 153/153 [00:19<00:00,  7.69it/s]\n",
      "                 Class     Images  Instances      Box(P          R      mAP50  mAP50-95): 100%|██████████| 20/20 [00:02<00:00,  8.24it/s]"
     ]
    },
    {
     "name": "stdout",
     "output_type": "stream",
     "text": [
      "                   all        610       1153      0.343      0.162      0.217     0.0827\n"
     ]
    },
    {
     "name": "stderr",
     "output_type": "stream",
     "text": [
      "\n"
     ]
    },
    {
     "name": "stdout",
     "output_type": "stream",
     "text": [
      "\n",
      "      Epoch    GPU_mem   box_loss   cls_loss   dfl_loss  Instances       Size\n"
     ]
    },
    {
     "name": "stderr",
     "output_type": "stream",
     "text": [
      "     37/100      3.35G      1.182      1.628      1.036         25        512: 100%|██████████| 153/153 [00:19<00:00,  7.68it/s]\n",
      "                 Class     Images  Instances      Box(P          R      mAP50  mAP50-95): 100%|██████████| 20/20 [00:02<00:00,  8.20it/s]"
     ]
    },
    {
     "name": "stdout",
     "output_type": "stream",
     "text": [
      "                   all        610       1153      0.443       0.15      0.272      0.102\n"
     ]
    },
    {
     "name": "stderr",
     "output_type": "stream",
     "text": [
      "\n"
     ]
    },
    {
     "name": "stdout",
     "output_type": "stream",
     "text": [
      "\n",
      "      Epoch    GPU_mem   box_loss   cls_loss   dfl_loss  Instances       Size\n"
     ]
    },
    {
     "name": "stderr",
     "output_type": "stream",
     "text": [
      "     38/100      3.35G      1.176      1.587      1.031         37        512: 100%|██████████| 153/153 [00:20<00:00,  7.51it/s]\n",
      "                 Class     Images  Instances      Box(P          R      mAP50  mAP50-95): 100%|██████████| 20/20 [00:02<00:00,  7.89it/s]"
     ]
    },
    {
     "name": "stdout",
     "output_type": "stream",
     "text": [
      "                   all        610       1153      0.367      0.205      0.243     0.0906\n"
     ]
    },
    {
     "name": "stderr",
     "output_type": "stream",
     "text": [
      "\n"
     ]
    },
    {
     "name": "stdout",
     "output_type": "stream",
     "text": [
      "\n",
      "      Epoch    GPU_mem   box_loss   cls_loss   dfl_loss  Instances       Size\n"
     ]
    },
    {
     "name": "stderr",
     "output_type": "stream",
     "text": [
      "     39/100      3.35G      1.185      1.602      1.037          7        512: 100%|██████████| 153/153 [00:20<00:00,  7.61it/s]\n",
      "                 Class     Images  Instances      Box(P          R      mAP50  mAP50-95): 100%|██████████| 20/20 [00:02<00:00,  8.21it/s]"
     ]
    },
    {
     "name": "stdout",
     "output_type": "stream",
     "text": [
      "                   all        610       1153      0.496      0.182      0.306      0.118\n"
     ]
    },
    {
     "name": "stderr",
     "output_type": "stream",
     "text": [
      "\n"
     ]
    },
    {
     "name": "stdout",
     "output_type": "stream",
     "text": [
      "\n",
      "      Epoch    GPU_mem   box_loss   cls_loss   dfl_loss  Instances       Size\n"
     ]
    },
    {
     "name": "stderr",
     "output_type": "stream",
     "text": [
      "     40/100      3.35G      1.159      1.562      1.024         16        512: 100%|██████████| 153/153 [00:20<00:00,  7.57it/s]\n",
      "                 Class     Images  Instances      Box(P          R      mAP50  mAP50-95): 100%|██████████| 20/20 [00:02<00:00,  7.88it/s]"
     ]
    },
    {
     "name": "stdout",
     "output_type": "stream",
     "text": [
      "                   all        610       1153      0.484      0.206      0.328      0.147\n"
     ]
    },
    {
     "name": "stderr",
     "output_type": "stream",
     "text": [
      "\n"
     ]
    },
    {
     "name": "stdout",
     "output_type": "stream",
     "text": [
      "\n",
      "      Epoch    GPU_mem   box_loss   cls_loss   dfl_loss  Instances       Size\n"
     ]
    },
    {
     "name": "stderr",
     "output_type": "stream",
     "text": [
      "     41/100      3.35G      1.174      1.609      1.027         13        512: 100%|██████████| 153/153 [00:20<00:00,  7.58it/s]\n",
      "                 Class     Images  Instances      Box(P          R      mAP50  mAP50-95): 100%|██████████| 20/20 [00:02<00:00,  8.13it/s]"
     ]
    },
    {
     "name": "stdout",
     "output_type": "stream",
     "text": [
      "                   all        610       1153      0.386      0.213      0.296      0.123\n"
     ]
    },
    {
     "name": "stderr",
     "output_type": "stream",
     "text": [
      "\n"
     ]
    },
    {
     "name": "stdout",
     "output_type": "stream",
     "text": [
      "\n",
      "      Epoch    GPU_mem   box_loss   cls_loss   dfl_loss  Instances       Size\n"
     ]
    },
    {
     "name": "stderr",
     "output_type": "stream",
     "text": [
      "     42/100      3.35G       1.14      1.541      1.019         20        512: 100%|██████████| 153/153 [00:20<00:00,  7.59it/s]\n",
      "                 Class     Images  Instances      Box(P          R      mAP50  mAP50-95): 100%|██████████| 20/20 [00:02<00:00,  8.47it/s]"
     ]
    },
    {
     "name": "stdout",
     "output_type": "stream",
     "text": [
      "                   all        610       1153      0.431      0.167      0.275      0.107\n"
     ]
    },
    {
     "name": "stderr",
     "output_type": "stream",
     "text": [
      "\n"
     ]
    },
    {
     "name": "stdout",
     "output_type": "stream",
     "text": [
      "\n",
      "      Epoch    GPU_mem   box_loss   cls_loss   dfl_loss  Instances       Size\n"
     ]
    },
    {
     "name": "stderr",
     "output_type": "stream",
     "text": [
      "     43/100      3.35G      1.131      1.527      1.008         13        512: 100%|██████████| 153/153 [00:20<00:00,  7.62it/s]\n",
      "                 Class     Images  Instances      Box(P          R      mAP50  mAP50-95): 100%|██████████| 20/20 [00:02<00:00,  8.18it/s]"
     ]
    },
    {
     "name": "stdout",
     "output_type": "stream",
     "text": [
      "                   all        610       1153      0.506       0.23      0.351      0.135\n"
     ]
    },
    {
     "name": "stderr",
     "output_type": "stream",
     "text": [
      "\n"
     ]
    },
    {
     "name": "stdout",
     "output_type": "stream",
     "text": [
      "\n",
      "      Epoch    GPU_mem   box_loss   cls_loss   dfl_loss  Instances       Size\n"
     ]
    },
    {
     "name": "stderr",
     "output_type": "stream",
     "text": [
      "     44/100      3.35G       1.13      1.527      1.016         38        512: 100%|██████████| 153/153 [00:20<00:00,  7.57it/s]\n",
      "                 Class     Images  Instances      Box(P          R      mAP50  mAP50-95): 100%|██████████| 20/20 [00:02<00:00,  8.05it/s]"
     ]
    },
    {
     "name": "stdout",
     "output_type": "stream",
     "text": [
      "                   all        610       1153      0.396      0.209      0.267     0.0981\n"
     ]
    },
    {
     "name": "stderr",
     "output_type": "stream",
     "text": [
      "\n"
     ]
    },
    {
     "name": "stdout",
     "output_type": "stream",
     "text": [
      "\n",
      "      Epoch    GPU_mem   box_loss   cls_loss   dfl_loss  Instances       Size\n"
     ]
    },
    {
     "name": "stderr",
     "output_type": "stream",
     "text": [
      "     45/100      3.35G       1.13      1.528      1.014         16        512: 100%|██████████| 153/153 [00:20<00:00,  7.60it/s]\n",
      "                 Class     Images  Instances      Box(P          R      mAP50  mAP50-95): 100%|██████████| 20/20 [00:02<00:00,  8.20it/s]"
     ]
    },
    {
     "name": "stdout",
     "output_type": "stream",
     "text": [
      "                   all        610       1153       0.52      0.156       0.31      0.108\n"
     ]
    },
    {
     "name": "stderr",
     "output_type": "stream",
     "text": [
      "\n"
     ]
    },
    {
     "name": "stdout",
     "output_type": "stream",
     "text": [
      "\n",
      "      Epoch    GPU_mem   box_loss   cls_loss   dfl_loss  Instances       Size\n"
     ]
    },
    {
     "name": "stderr",
     "output_type": "stream",
     "text": [
      "     46/100      3.35G      1.119      1.529      1.008         33        512: 100%|██████████| 153/153 [00:19<00:00,  7.66it/s]\n",
      "                 Class     Images  Instances      Box(P          R      mAP50  mAP50-95): 100%|██████████| 20/20 [00:02<00:00,  8.29it/s]"
     ]
    },
    {
     "name": "stdout",
     "output_type": "stream",
     "text": [
      "                   all        610       1153      0.431      0.156      0.267      0.103\n"
     ]
    },
    {
     "name": "stderr",
     "output_type": "stream",
     "text": [
      "\n"
     ]
    },
    {
     "name": "stdout",
     "output_type": "stream",
     "text": [
      "\n",
      "      Epoch    GPU_mem   box_loss   cls_loss   dfl_loss  Instances       Size\n"
     ]
    },
    {
     "name": "stderr",
     "output_type": "stream",
     "text": [
      "     47/100      3.35G      1.093      1.489      1.002         23        512: 100%|██████████| 153/153 [00:20<00:00,  7.60it/s]\n",
      "                 Class     Images  Instances      Box(P          R      mAP50  mAP50-95): 100%|██████████| 20/20 [00:02<00:00,  8.13it/s]"
     ]
    },
    {
     "name": "stdout",
     "output_type": "stream",
     "text": [
      "                   all        610       1153       0.48      0.232      0.337      0.126\n"
     ]
    },
    {
     "name": "stderr",
     "output_type": "stream",
     "text": [
      "\n"
     ]
    },
    {
     "name": "stdout",
     "output_type": "stream",
     "text": [
      "\n",
      "      Epoch    GPU_mem   box_loss   cls_loss   dfl_loss  Instances       Size\n"
     ]
    },
    {
     "name": "stderr",
     "output_type": "stream",
     "text": [
      "     48/100      3.35G      1.091      1.467     0.9962         20        512: 100%|██████████| 153/153 [00:20<00:00,  7.63it/s]\n",
      "                 Class     Images  Instances      Box(P          R      mAP50  mAP50-95): 100%|██████████| 20/20 [00:02<00:00,  8.21it/s]"
     ]
    },
    {
     "name": "stdout",
     "output_type": "stream",
     "text": [
      "                   all        610       1153      0.512      0.211      0.344      0.136\n"
     ]
    },
    {
     "name": "stderr",
     "output_type": "stream",
     "text": [
      "\n"
     ]
    },
    {
     "name": "stdout",
     "output_type": "stream",
     "text": [
      "\n",
      "      Epoch    GPU_mem   box_loss   cls_loss   dfl_loss  Instances       Size\n"
     ]
    },
    {
     "name": "stderr",
     "output_type": "stream",
     "text": [
      "     49/100      3.35G      1.089      1.472     0.9974         24        512: 100%|██████████| 153/153 [00:20<00:00,  7.62it/s]\n",
      "                 Class     Images  Instances      Box(P          R      mAP50  mAP50-95): 100%|██████████| 20/20 [00:02<00:00,  8.08it/s]"
     ]
    },
    {
     "name": "stdout",
     "output_type": "stream",
     "text": [
      "                   all        610       1153       0.49      0.259      0.355      0.136\n"
     ]
    },
    {
     "name": "stderr",
     "output_type": "stream",
     "text": [
      "\n"
     ]
    },
    {
     "name": "stdout",
     "output_type": "stream",
     "text": [
      "\n",
      "      Epoch    GPU_mem   box_loss   cls_loss   dfl_loss  Instances       Size\n"
     ]
    },
    {
     "name": "stderr",
     "output_type": "stream",
     "text": [
      "     50/100      3.35G      1.064      1.437     0.9891         12        512: 100%|██████████| 153/153 [00:20<00:00,  7.58it/s]\n",
      "                 Class     Images  Instances      Box(P          R      mAP50  mAP50-95): 100%|██████████| 20/20 [00:02<00:00,  8.19it/s]"
     ]
    },
    {
     "name": "stdout",
     "output_type": "stream",
     "text": [
      "                   all        610       1153      0.503       0.21      0.342      0.148\n"
     ]
    },
    {
     "name": "stderr",
     "output_type": "stream",
     "text": [
      "\n"
     ]
    },
    {
     "name": "stdout",
     "output_type": "stream",
     "text": [
      "\n",
      "      Epoch    GPU_mem   box_loss   cls_loss   dfl_loss  Instances       Size\n"
     ]
    },
    {
     "name": "stderr",
     "output_type": "stream",
     "text": [
      "     51/100      3.35G      1.057      1.412     0.9914         29        512: 100%|██████████| 153/153 [00:20<00:00,  7.56it/s]\n",
      "                 Class     Images  Instances      Box(P          R      mAP50  mAP50-95): 100%|██████████| 20/20 [00:02<00:00,  8.18it/s]"
     ]
    },
    {
     "name": "stdout",
     "output_type": "stream",
     "text": [
      "                   all        610       1153      0.469      0.222      0.319      0.134\n"
     ]
    },
    {
     "name": "stderr",
     "output_type": "stream",
     "text": [
      "\n"
     ]
    },
    {
     "name": "stdout",
     "output_type": "stream",
     "text": [
      "\n",
      "      Epoch    GPU_mem   box_loss   cls_loss   dfl_loss  Instances       Size\n"
     ]
    },
    {
     "name": "stderr",
     "output_type": "stream",
     "text": [
      "     52/100      3.35G       1.04      1.377     0.9777         25        512: 100%|██████████| 153/153 [00:20<00:00,  7.59it/s]\n",
      "                 Class     Images  Instances      Box(P          R      mAP50  mAP50-95): 100%|██████████| 20/20 [00:02<00:00,  7.96it/s]"
     ]
    },
    {
     "name": "stdout",
     "output_type": "stream",
     "text": [
      "                   all        610       1153      0.469       0.26      0.325      0.125\n"
     ]
    },
    {
     "name": "stderr",
     "output_type": "stream",
     "text": [
      "\n"
     ]
    },
    {
     "name": "stdout",
     "output_type": "stream",
     "text": [
      "\n",
      "      Epoch    GPU_mem   box_loss   cls_loss   dfl_loss  Instances       Size\n"
     ]
    },
    {
     "name": "stderr",
     "output_type": "stream",
     "text": [
      "     53/100      3.35G      1.058      1.404     0.9919         14        512: 100%|██████████| 153/153 [00:20<00:00,  7.62it/s]\n",
      "                 Class     Images  Instances      Box(P          R      mAP50  mAP50-95): 100%|██████████| 20/20 [00:02<00:00,  8.21it/s]"
     ]
    },
    {
     "name": "stdout",
     "output_type": "stream",
     "text": [
      "                   all        610       1153      0.537      0.241      0.367       0.15\n"
     ]
    },
    {
     "name": "stderr",
     "output_type": "stream",
     "text": [
      "\n"
     ]
    },
    {
     "name": "stdout",
     "output_type": "stream",
     "text": [
      "\n",
      "      Epoch    GPU_mem   box_loss   cls_loss   dfl_loss  Instances       Size\n"
     ]
    },
    {
     "name": "stderr",
     "output_type": "stream",
     "text": [
      "     54/100      3.35G      1.021      1.362     0.9753         22        512: 100%|██████████| 153/153 [00:20<00:00,  7.53it/s]\n",
      "                 Class     Images  Instances      Box(P          R      mAP50  mAP50-95): 100%|██████████| 20/20 [00:02<00:00,  7.75it/s]"
     ]
    },
    {
     "name": "stdout",
     "output_type": "stream",
     "text": [
      "                   all        610       1153       0.47      0.263      0.336      0.129\n"
     ]
    },
    {
     "name": "stderr",
     "output_type": "stream",
     "text": [
      "\n"
     ]
    },
    {
     "name": "stdout",
     "output_type": "stream",
     "text": [
      "\n",
      "      Epoch    GPU_mem   box_loss   cls_loss   dfl_loss  Instances       Size\n"
     ]
    },
    {
     "name": "stderr",
     "output_type": "stream",
     "text": [
      "     55/100      3.35G      1.041      1.404     0.9877         31        512: 100%|██████████| 153/153 [00:20<00:00,  7.52it/s]\n",
      "                 Class     Images  Instances      Box(P          R      mAP50  mAP50-95): 100%|██████████| 20/20 [00:02<00:00,  8.00it/s]"
     ]
    },
    {
     "name": "stdout",
     "output_type": "stream",
     "text": [
      "                   all        610       1153      0.511      0.271      0.367      0.161\n"
     ]
    },
    {
     "name": "stderr",
     "output_type": "stream",
     "text": [
      "\n"
     ]
    },
    {
     "name": "stdout",
     "output_type": "stream",
     "text": [
      "\n",
      "      Epoch    GPU_mem   box_loss   cls_loss   dfl_loss  Instances       Size\n"
     ]
    },
    {
     "name": "stderr",
     "output_type": "stream",
     "text": [
      "     56/100      3.35G      1.028      1.361     0.9784         39        512: 100%|██████████| 153/153 [00:20<00:00,  7.56it/s]\n",
      "                 Class     Images  Instances      Box(P          R      mAP50  mAP50-95): 100%|██████████| 20/20 [00:02<00:00,  7.80it/s]"
     ]
    },
    {
     "name": "stdout",
     "output_type": "stream",
     "text": [
      "                   all        610       1153      0.501      0.273      0.375      0.164\n"
     ]
    },
    {
     "name": "stderr",
     "output_type": "stream",
     "text": [
      "\n"
     ]
    },
    {
     "name": "stdout",
     "output_type": "stream",
     "text": [
      "\n",
      "      Epoch    GPU_mem   box_loss   cls_loss   dfl_loss  Instances       Size\n"
     ]
    },
    {
     "name": "stderr",
     "output_type": "stream",
     "text": [
      "     57/100      3.35G      1.042      1.396      0.988         19        512: 100%|██████████| 153/153 [00:20<00:00,  7.46it/s]\n",
      "                 Class     Images  Instances      Box(P          R      mAP50  mAP50-95): 100%|██████████| 20/20 [00:02<00:00,  7.84it/s]"
     ]
    },
    {
     "name": "stdout",
     "output_type": "stream",
     "text": [
      "                   all        610       1153      0.466      0.251      0.336      0.146\n"
     ]
    },
    {
     "name": "stderr",
     "output_type": "stream",
     "text": [
      "\n"
     ]
    },
    {
     "name": "stdout",
     "output_type": "stream",
     "text": [
      "\n",
      "      Epoch    GPU_mem   box_loss   cls_loss   dfl_loss  Instances       Size\n"
     ]
    },
    {
     "name": "stderr",
     "output_type": "stream",
     "text": [
      "     58/100      3.35G      1.028      1.356     0.9746         20        512: 100%|██████████| 153/153 [00:20<00:00,  7.50it/s]\n",
      "                 Class     Images  Instances      Box(P          R      mAP50  mAP50-95): 100%|██████████| 20/20 [00:02<00:00,  7.90it/s]"
     ]
    },
    {
     "name": "stdout",
     "output_type": "stream",
     "text": [
      "                   all        610       1153      0.534       0.22      0.365      0.155\n"
     ]
    },
    {
     "name": "stderr",
     "output_type": "stream",
     "text": [
      "\n"
     ]
    },
    {
     "name": "stdout",
     "output_type": "stream",
     "text": [
      "\n",
      "      Epoch    GPU_mem   box_loss   cls_loss   dfl_loss  Instances       Size\n"
     ]
    },
    {
     "name": "stderr",
     "output_type": "stream",
     "text": [
      "     59/100      3.35G      1.033      1.375     0.9854         14        512: 100%|██████████| 153/153 [00:20<00:00,  7.41it/s]\n",
      "                 Class     Images  Instances      Box(P          R      mAP50  mAP50-95): 100%|██████████| 20/20 [00:02<00:00,  8.11it/s]"
     ]
    },
    {
     "name": "stdout",
     "output_type": "stream",
     "text": [
      "                   all        610       1153      0.395      0.229      0.297      0.126\n"
     ]
    },
    {
     "name": "stderr",
     "output_type": "stream",
     "text": [
      "\n"
     ]
    },
    {
     "name": "stdout",
     "output_type": "stream",
     "text": [
      "\n",
      "      Epoch    GPU_mem   box_loss   cls_loss   dfl_loss  Instances       Size\n"
     ]
    },
    {
     "name": "stderr",
     "output_type": "stream",
     "text": [
      "     60/100      3.35G      1.014      1.344     0.9797         32        512: 100%|██████████| 153/153 [00:20<00:00,  7.49it/s]\n",
      "                 Class     Images  Instances      Box(P          R      mAP50  mAP50-95): 100%|██████████| 20/20 [00:02<00:00,  7.98it/s]"
     ]
    },
    {
     "name": "stdout",
     "output_type": "stream",
     "text": [
      "                   all        610       1153      0.422      0.197      0.279      0.121\n"
     ]
    },
    {
     "name": "stderr",
     "output_type": "stream",
     "text": [
      "\n"
     ]
    },
    {
     "name": "stdout",
     "output_type": "stream",
     "text": [
      "\n",
      "      Epoch    GPU_mem   box_loss   cls_loss   dfl_loss  Instances       Size\n"
     ]
    },
    {
     "name": "stderr",
     "output_type": "stream",
     "text": [
      "     61/100      3.35G      1.009      1.343     0.9737         26        512: 100%|██████████| 153/153 [00:20<00:00,  7.54it/s]\n",
      "                 Class     Images  Instances      Box(P          R      mAP50  mAP50-95): 100%|██████████| 20/20 [00:02<00:00,  7.79it/s]"
     ]
    },
    {
     "name": "stdout",
     "output_type": "stream",
     "text": [
      "                   all        610       1153      0.427      0.249      0.318       0.12\n"
     ]
    },
    {
     "name": "stderr",
     "output_type": "stream",
     "text": [
      "\n"
     ]
    },
    {
     "name": "stdout",
     "output_type": "stream",
     "text": [
      "\n",
      "      Epoch    GPU_mem   box_loss   cls_loss   dfl_loss  Instances       Size\n"
     ]
    },
    {
     "name": "stderr",
     "output_type": "stream",
     "text": [
      "     62/100      3.35G      1.003      1.328     0.9709         17        512: 100%|██████████| 153/153 [00:20<00:00,  7.50it/s]\n",
      "                 Class     Images  Instances      Box(P          R      mAP50  mAP50-95): 100%|██████████| 20/20 [00:02<00:00,  7.65it/s]"
     ]
    },
    {
     "name": "stdout",
     "output_type": "stream",
     "text": [
      "                   all        610       1153      0.493      0.293      0.377      0.151\n"
     ]
    },
    {
     "name": "stderr",
     "output_type": "stream",
     "text": [
      "\n"
     ]
    },
    {
     "name": "stdout",
     "output_type": "stream",
     "text": [
      "\n",
      "      Epoch    GPU_mem   box_loss   cls_loss   dfl_loss  Instances       Size\n"
     ]
    },
    {
     "name": "stderr",
     "output_type": "stream",
     "text": [
      "     63/100      3.35G     0.9883      1.301     0.9641         32        512: 100%|██████████| 153/153 [00:20<00:00,  7.57it/s]\n",
      "                 Class     Images  Instances      Box(P          R      mAP50  mAP50-95): 100%|██████████| 20/20 [00:02<00:00,  8.09it/s]"
     ]
    },
    {
     "name": "stdout",
     "output_type": "stream",
     "text": [
      "                   all        610       1153      0.585       0.27      0.411      0.178\n"
     ]
    },
    {
     "name": "stderr",
     "output_type": "stream",
     "text": [
      "\n"
     ]
    },
    {
     "name": "stdout",
     "output_type": "stream",
     "text": [
      "\n",
      "      Epoch    GPU_mem   box_loss   cls_loss   dfl_loss  Instances       Size\n"
     ]
    },
    {
     "name": "stderr",
     "output_type": "stream",
     "text": [
      "     64/100      3.35G     0.9952      1.301     0.9703         14        512: 100%|██████████| 153/153 [00:20<00:00,  7.46it/s]\n",
      "                 Class     Images  Instances      Box(P          R      mAP50  mAP50-95): 100%|██████████| 20/20 [00:02<00:00,  7.49it/s]"
     ]
    },
    {
     "name": "stdout",
     "output_type": "stream",
     "text": [
      "                   all        610       1153      0.542       0.25      0.365      0.152\n"
     ]
    },
    {
     "name": "stderr",
     "output_type": "stream",
     "text": [
      "\n"
     ]
    },
    {
     "name": "stdout",
     "output_type": "stream",
     "text": [
      "\n",
      "      Epoch    GPU_mem   box_loss   cls_loss   dfl_loss  Instances       Size\n"
     ]
    },
    {
     "name": "stderr",
     "output_type": "stream",
     "text": [
      "     65/100      3.35G     0.9569      1.263     0.9592         93        512:  54%|█████▎    | 82/153 [00:11<00:09,  7.41it/s]"
     ]
    }
   ],
   "source": [
    "from ultralytics import YOLO\n",
    "import yaml\n",
    "\n",
    "# Load your pre-trained YOLOv8 model\n",
    "model = YOLO(\"yolov8s.pt\")\n",
    "\n",
    "# ✅ Load hyperparameters manually from hyp.yaml\n",
    "with open(r\"C:\\Users\\gnvca\\OneDrive\\Desktop\\JP\\model03S\\hyp.yaml\", \"r\") as f:\n",
    "    hyp_params = yaml.safe_load(f)  # Converts YAML to dictionary\n",
    "\n",
    "# ✅ Pass hyperparameters as individual keyword arguments\n",
    "model.train(\n",
    "    data=r\"C:\\Users\\gnvca\\OneDrive\\Desktop\\JP\\model03S\\yolo.yaml\",  # Dataset config\n",
    "    epochs=100,      # Total training epochs\n",
    "    imgsz=512,       # Image size (try 768, 1024 for better accuracy)\n",
    "    batch=16,        # Batch size (increase if GPU allows)\n",
    "    amp=True,        # Automatic Mixed Precision (for speedup)\n",
    "    conf=0.2,        # Confidence threshold for predictions\n",
    "    iou=0.6,         # Intersection Over Union threshold\n",
    "    optimizer=\"SGD\", # Optimizer choice\n",
    "    device=0,        # Use GPU 0\n",
    "    workers=4,       # Number of data workers (depends on CPU)\n",
    "    cache=True,      # Cache images to RAM for faster training\n",
    "    val=True,        # Run validation during training\n",
    "    verbose=True,    # Print logs during training\n",
    "    save=True,       # Save best and final models\n",
    "    name=\"train_safe_v2\",  # Custom name for experiment folder\n",
    "    **hyp_params  # ✅ Pass all hyperparameters from hyp.yaml\n",
    ")\n"
   ]
  },
  {
   "cell_type": "code",
   "execution_count": 8,
   "metadata": {},
   "outputs": [
    {
     "name": "stdout",
     "output_type": "stream",
     "text": [
      "Ultralytics 8.3.94  Python-3.10.16 torch-2.6.0+cu126 CPU (AMD Ryzen 5 7600 6-Core Processor)\n",
      "Model summary (fused): 72 layers, 3,006,038 parameters, 0 gradients, 8.1 GFLOPs\n",
      "\n",
      "\u001b[34m\u001b[1mPyTorch:\u001b[0m starting from 'runs\\detect\\train_safe4\\weights\\best.pt' with input shape (1, 3, 416, 416) BCHW and output shape(s) (1, 6, 3549) (5.9 MB)\n",
      "\u001b[31m\u001b[1mrequirements:\u001b[0m Ultralytics requirements ['onnx>=1.12.0', 'onnxslim', 'onnxruntime-gpu'] not found, attempting AutoUpdate...\n",
      "Collecting onnx>=1.12.0\n",
      "  Downloading onnx-1.17.0-cp310-cp310-win_amd64.whl.metadata (16 kB)\n",
      "Collecting onnxslim\n",
      "  Downloading onnxslim-0.1.48-py3-none-any.whl.metadata (4.6 kB)\n",
      "Collecting onnxruntime-gpu\n",
      "  Downloading onnxruntime_gpu-1.21.0-cp310-cp310-win_amd64.whl.metadata (5.0 kB)\n",
      "Requirement already satisfied: numpy>=1.20 in c:\\users\\gnvca\\anaconda3\\envs\\yolov8\\lib\\site-packages (from onnx>=1.12.0) (2.1.1)\n",
      "Collecting protobuf>=3.20.2 (from onnx>=1.12.0)\n",
      "  Downloading protobuf-6.30.1-cp310-abi3-win_amd64.whl.metadata (593 bytes)\n",
      "Requirement already satisfied: sympy in c:\\users\\gnvca\\anaconda3\\envs\\yolov8\\lib\\site-packages (from onnxslim) (1.13.1)\n",
      "Requirement already satisfied: packaging in c:\\users\\gnvca\\anaconda3\\envs\\yolov8\\lib\\site-packages (from onnxslim) (24.2)\n",
      "Collecting coloredlogs (from onnxruntime-gpu)\n",
      "  Downloading coloredlogs-15.0.1-py2.py3-none-any.whl.metadata (12 kB)\n",
      "Collecting flatbuffers (from onnxruntime-gpu)\n",
      "  Downloading flatbuffers-25.2.10-py2.py3-none-any.whl.metadata (875 bytes)\n",
      "Collecting humanfriendly>=9.1 (from coloredlogs->onnxruntime-gpu)\n",
      "  Downloading humanfriendly-10.0-py2.py3-none-any.whl.metadata (9.2 kB)\n",
      "Requirement already satisfied: mpmath<1.4,>=1.1.0 in c:\\users\\gnvca\\anaconda3\\envs\\yolov8\\lib\\site-packages (from sympy->onnxslim) (1.3.0)\n",
      "Collecting pyreadline3 (from humanfriendly>=9.1->coloredlogs->onnxruntime-gpu)\n",
      "  Downloading pyreadline3-3.5.4-py3-none-any.whl.metadata (4.7 kB)\n",
      "Downloading onnx-1.17.0-cp310-cp310-win_amd64.whl (14.5 MB)\n",
      "   ---------------------------------------- 14.5/14.5 MB 4.7 MB/s eta 0:00:00\n",
      "Downloading onnxslim-0.1.48-py3-none-any.whl (142 kB)\n",
      "Downloading onnxruntime_gpu-1.21.0-cp310-cp310-win_amd64.whl (213.1 MB)\n",
      "   ---------------------------------------- 213.1/213.1 MB 2.3 MB/s eta 0:00:00\n",
      "Downloading protobuf-6.30.1-cp310-abi3-win_amd64.whl (431 kB)\n",
      "Downloading coloredlogs-15.0.1-py2.py3-none-any.whl (46 kB)\n",
      "Downloading flatbuffers-25.2.10-py2.py3-none-any.whl (30 kB)\n",
      "Downloading humanfriendly-10.0-py2.py3-none-any.whl (86 kB)\n",
      "Downloading pyreadline3-3.5.4-py3-none-any.whl (83 kB)\n",
      "Installing collected packages: flatbuffers, pyreadline3, protobuf, onnx, humanfriendly, onnxslim, coloredlogs, onnxruntime-gpu\n",
      "Successfully installed coloredlogs-15.0.1 flatbuffers-25.2.10 humanfriendly-10.0 onnx-1.17.0 onnxruntime-gpu-1.21.0 onnxslim-0.1.48 protobuf-6.30.1 pyreadline3-3.5.4\n",
      "\n",
      "\u001b[31m\u001b[1mrequirements:\u001b[0m AutoUpdate success  285.9s, installed 3 packages: ['onnx>=1.12.0', 'onnxslim', 'onnxruntime-gpu']\n",
      "\u001b[31m\u001b[1mrequirements:\u001b[0m  \u001b[1mRestart runtime or rerun command for updates to take effect\u001b[0m\n",
      "\n",
      "\n",
      "\u001b[34m\u001b[1mONNX:\u001b[0m starting export with onnx 1.17.0 opset 19...\n",
      "\u001b[34m\u001b[1mONNX:\u001b[0m slimming with onnxslim 0.1.48...\n",
      "\u001b[34m\u001b[1mONNX:\u001b[0m export success  288.0s, saved as 'runs\\detect\\train_safe4\\weights\\best.onnx' (11.6 MB)\n",
      "\n",
      "Export complete (290.0s)\n",
      "Results saved to \u001b[1mC:\\Users\\gnvca\\OneDrive\\Desktop\\JP\\runs\\detect\\train_safe4\\weights\u001b[0m\n",
      "Predict:         yolo predict task=detect model=runs\\detect\\train_safe4\\weights\\best.onnx imgsz=416  \n",
      "Validate:        yolo val task=detect model=runs\\detect\\train_safe4\\weights\\best.onnx imgsz=416 data=C:\\Users\\gnvca\\OneDrive\\Desktop\\JP\\model03S\\yolo.yaml  \n",
      "Visualize:       https://netron.app\n"
     ]
    },
    {
     "data": {
      "text/plain": [
       "'runs\\\\detect\\\\train_safe4\\\\weights\\\\best.onnx'"
      ]
     },
     "execution_count": 8,
     "metadata": {},
     "output_type": "execute_result"
    }
   ],
   "source": [
    "from ultralytics import YOLO\n",
    "\n",
    "# Load your trained model\n",
    "model = YOLO(\"runs/detect/train_safe4/weights/best.pt\")\n",
    "\n",
    "# Export to ONNX\n",
    "model.export(format=\"onnx\")"
   ]
  },
  {
   "cell_type": "code",
   "execution_count": 26,
   "metadata": {},
   "outputs": [
    {
     "name": "stdout",
     "output_type": "stream",
     "text": [
      "\n",
      "image 1/610 C:\\Users\\gnvca\\OneDrive\\Desktop\\JP\\model03S\\dataset\\images\\test\\ID014O6EC7.jpg: 320x416 2 panels, 8.5ms\n",
      "image 2/610 C:\\Users\\gnvca\\OneDrive\\Desktop\\JP\\model03S\\dataset\\images\\test\\ID06Zb8HWf7XPxodI.jpg: 320x416 2 panels, 9.8ms\n",
      "image 3/610 C:\\Users\\gnvca\\OneDrive\\Desktop\\JP\\model03S\\dataset\\images\\test\\ID0BqUUCBEQD.jpg: 320x416 2 panels, 13.0ms\n",
      "image 4/610 C:\\Users\\gnvca\\OneDrive\\Desktop\\JP\\model03S\\dataset\\images\\test\\ID0GSCMR.jpg: 320x416 (no detections), 14.4ms\n",
      "image 5/610 C:\\Users\\gnvca\\OneDrive\\Desktop\\JP\\model03S\\dataset\\images\\test\\ID0K20RbBcx5oQTp.jpg: 320x416 1 panel, 16.0ms\n",
      "image 6/610 C:\\Users\\gnvca\\OneDrive\\Desktop\\JP\\model03S\\dataset\\images\\test\\ID0LlEkllD.jpg: 320x416 (no detections), 10.0ms\n",
      "image 7/610 C:\\Users\\gnvca\\OneDrive\\Desktop\\JP\\model03S\\dataset\\images\\test\\ID0XksrqV55J4rH.jpg: 320x416 (no detections), 7.8ms\n",
      "image 8/610 C:\\Users\\gnvca\\OneDrive\\Desktop\\JP\\model03S\\dataset\\images\\test\\ID0Y4qEEE8Hqeap.jpg: 320x416 2 panels, 8.4ms\n",
      "image 9/610 C:\\Users\\gnvca\\OneDrive\\Desktop\\JP\\model03S\\dataset\\images\\test\\ID0YWEiDPjmAfA50E.jpg: 384x416 1 boiler, 8.2ms\n",
      "image 10/610 C:\\Users\\gnvca\\OneDrive\\Desktop\\JP\\model03S\\dataset\\images\\test\\ID0c6FPgUvhR4n.jpg: 320x416 1 panel, 7.9ms\n",
      "image 11/610 C:\\Users\\gnvca\\OneDrive\\Desktop\\JP\\model03S\\dataset\\images\\test\\ID0m0ZliU0PgwB.jpg: 320x416 (no detections), 7.5ms\n",
      "image 12/610 C:\\Users\\gnvca\\OneDrive\\Desktop\\JP\\model03S\\dataset\\images\\test\\ID0pSKpmX3TC.jpg: 320x416 (no detections), 7.7ms\n",
      "image 13/610 C:\\Users\\gnvca\\OneDrive\\Desktop\\JP\\model03S\\dataset\\images\\test\\ID1CMGxUF.jpg: 320x416 4 panels, 15.0ms\n",
      "image 14/610 C:\\Users\\gnvca\\OneDrive\\Desktop\\JP\\model03S\\dataset\\images\\test\\ID1TBdGHluTn.jpg: 320x416 1 panel, 14.8ms\n",
      "image 15/610 C:\\Users\\gnvca\\OneDrive\\Desktop\\JP\\model03S\\dataset\\images\\test\\ID1ePKFk5a.jpg: 320x416 (no detections), 15.1ms\n",
      "image 16/610 C:\\Users\\gnvca\\OneDrive\\Desktop\\JP\\model03S\\dataset\\images\\test\\ID1ePMzR9eiLc1.jpg: 320x416 2 panels, 10.4ms\n",
      "image 17/610 C:\\Users\\gnvca\\OneDrive\\Desktop\\JP\\model03S\\dataset\\images\\test\\ID1khpuS1.jpg: 416x384 (no detections), 7.2ms\n",
      "image 18/610 C:\\Users\\gnvca\\OneDrive\\Desktop\\JP\\model03S\\dataset\\images\\test\\ID1o6DzW.jpg: 320x416 2 panels, 9.4ms\n",
      "image 19/610 C:\\Users\\gnvca\\OneDrive\\Desktop\\JP\\model03S\\dataset\\images\\test\\ID1ue4zwHLiWmoeLf.jpg: 320x416 (no detections), 7.8ms\n",
      "image 20/610 C:\\Users\\gnvca\\OneDrive\\Desktop\\JP\\model03S\\dataset\\images\\test\\ID27p6F9h.jpg: 320x416 2 panels, 8.0ms\n",
      "image 21/610 C:\\Users\\gnvca\\OneDrive\\Desktop\\JP\\model03S\\dataset\\images\\test\\ID28pk8pM8.jpg: 320x416 1 panel, 9.3ms\n",
      "image 22/610 C:\\Users\\gnvca\\OneDrive\\Desktop\\JP\\model03S\\dataset\\images\\test\\ID2DaVxex.jpg: 320x416 1 panel, 14.8ms\n",
      "image 23/610 C:\\Users\\gnvca\\OneDrive\\Desktop\\JP\\model03S\\dataset\\images\\test\\ID2MFId.jpg: 320x416 2 panels, 14.9ms\n",
      "image 24/610 C:\\Users\\gnvca\\OneDrive\\Desktop\\JP\\model03S\\dataset\\images\\test\\ID2ThHZmaO3bW.jpg: 320x416 1 panel, 15.4ms\n",
      "image 25/610 C:\\Users\\gnvca\\OneDrive\\Desktop\\JP\\model03S\\dataset\\images\\test\\ID2X0lJvPOVU9w4KU.jpg: 416x416 (no detections), 14.4ms\n",
      "image 26/610 C:\\Users\\gnvca\\OneDrive\\Desktop\\JP\\model03S\\dataset\\images\\test\\ID2qNQIxJe0CK67K.jpg: 320x416 1 panel, 7.6ms\n",
      "image 27/610 C:\\Users\\gnvca\\OneDrive\\Desktop\\JP\\model03S\\dataset\\images\\test\\ID2svN3.jpg: 320x416 1 panel, 8.6ms\n",
      "image 28/610 C:\\Users\\gnvca\\OneDrive\\Desktop\\JP\\model03S\\dataset\\images\\test\\ID302okNzL4s8.jpg: 320x416 2 panels, 8.3ms\n",
      "image 29/610 C:\\Users\\gnvca\\OneDrive\\Desktop\\JP\\model03S\\dataset\\images\\test\\ID30uD032Mgc4mPjF.jpg: 320x416 1 panel, 8.9ms\n",
      "image 30/610 C:\\Users\\gnvca\\OneDrive\\Desktop\\JP\\model03S\\dataset\\images\\test\\ID33uWxKm1sFM0aQ.jpg: 320x416 (no detections), 11.3ms\n",
      "image 31/610 C:\\Users\\gnvca\\OneDrive\\Desktop\\JP\\model03S\\dataset\\images\\test\\ID34jQEQBsIm.jpg: 320x416 2 panels, 8.6ms\n",
      "image 32/610 C:\\Users\\gnvca\\OneDrive\\Desktop\\JP\\model03S\\dataset\\images\\test\\ID3EGxq5pTwvDJl8j.jpg: 320x416 2 panels, 9.0ms\n",
      "image 33/610 C:\\Users\\gnvca\\OneDrive\\Desktop\\JP\\model03S\\dataset\\images\\test\\ID3Pj78JoLh8FaGF.jpg: 320x416 (no detections), 8.4ms\n",
      "image 34/610 C:\\Users\\gnvca\\OneDrive\\Desktop\\JP\\model03S\\dataset\\images\\test\\ID3VclOWs8.jpg: 320x416 (no detections), 14.3ms\n",
      "image 35/610 C:\\Users\\gnvca\\OneDrive\\Desktop\\JP\\model03S\\dataset\\images\\test\\ID3XRsotAbD.jpg: 224x416 (no detections), 18.0ms\n",
      "image 36/610 C:\\Users\\gnvca\\OneDrive\\Desktop\\JP\\model03S\\dataset\\images\\test\\ID3XiR2U.jpg: 416x352 (no detections), 16.8ms\n",
      "image 37/610 C:\\Users\\gnvca\\OneDrive\\Desktop\\JP\\model03S\\dataset\\images\\test\\ID3kfPy.jpg: 416x288 (no detections), 16.9ms\n",
      "image 38/610 C:\\Users\\gnvca\\OneDrive\\Desktop\\JP\\model03S\\dataset\\images\\test\\ID3ri5316Vq.jpg: 320x416 2 panels, 17.6ms\n",
      "image 39/610 C:\\Users\\gnvca\\OneDrive\\Desktop\\JP\\model03S\\dataset\\images\\test\\ID3sMUEuMM.jpg: 320x416 1 panel, 5.3ms\n",
      "image 40/610 C:\\Users\\gnvca\\OneDrive\\Desktop\\JP\\model03S\\dataset\\images\\test\\ID3sUFn6pmK.jpg: 320x416 (no detections), 6.6ms\n",
      "image 41/610 C:\\Users\\gnvca\\OneDrive\\Desktop\\JP\\model03S\\dataset\\images\\test\\ID3zJkm.jpg: 320x416 1 panel, 8.7ms\n",
      "image 42/610 C:\\Users\\gnvca\\OneDrive\\Desktop\\JP\\model03S\\dataset\\images\\test\\ID4AXRX.jpg: 320x416 1 panel, 9.0ms\n",
      "image 43/610 C:\\Users\\gnvca\\OneDrive\\Desktop\\JP\\model03S\\dataset\\images\\test\\ID4J0TXlXzD.jpg: 320x416 1 panel, 8.1ms\n",
      "image 44/610 C:\\Users\\gnvca\\OneDrive\\Desktop\\JP\\model03S\\dataset\\images\\test\\ID4SP8Jx.jpg: 320x416 2 panels, 8.3ms\n",
      "image 45/610 C:\\Users\\gnvca\\OneDrive\\Desktop\\JP\\model03S\\dataset\\images\\test\\ID4dO5puDkc.jpg: 416x416 (no detections), 7.9ms\n",
      "image 46/610 C:\\Users\\gnvca\\OneDrive\\Desktop\\JP\\model03S\\dataset\\images\\test\\ID4g3AoDV5y8bWSy.jpg: 320x416 2 panels, 8.3ms\n",
      "image 47/610 C:\\Users\\gnvca\\OneDrive\\Desktop\\JP\\model03S\\dataset\\images\\test\\ID4oLTPmS1zJ2.jpg: 320x416 2 panels, 14.1ms\n",
      "image 48/610 C:\\Users\\gnvca\\OneDrive\\Desktop\\JP\\model03S\\dataset\\images\\test\\ID4vAHx7YeYXX74H.jpg: 320x416 1 panel, 14.7ms\n",
      "image 49/610 C:\\Users\\gnvca\\OneDrive\\Desktop\\JP\\model03S\\dataset\\images\\test\\ID4vxdWLFWVdsuj.jpg: 320x416 2 panels, 12.5ms\n",
      "image 50/610 C:\\Users\\gnvca\\OneDrive\\Desktop\\JP\\model03S\\dataset\\images\\test\\ID4xVfBA2vbMNmtjA.jpg: 320x416 1 panel, 9.9ms\n",
      "image 51/610 C:\\Users\\gnvca\\OneDrive\\Desktop\\JP\\model03S\\dataset\\images\\test\\ID5QzGP.jpg: 320x416 1 panel, 8.8ms\n",
      "image 52/610 C:\\Users\\gnvca\\OneDrive\\Desktop\\JP\\model03S\\dataset\\images\\test\\ID5ZOX2vRws4at.jpg: 320x416 (no detections), 9.6ms\n",
      "image 53/610 C:\\Users\\gnvca\\OneDrive\\Desktop\\JP\\model03S\\dataset\\images\\test\\ID5j4diohdLnjwA9A.jpg: 416x384 (no detections), 9.3ms\n",
      "image 54/610 C:\\Users\\gnvca\\OneDrive\\Desktop\\JP\\model03S\\dataset\\images\\test\\ID6D4gCVRosZF0RaX.jpg: 320x416 (no detections), 9.5ms\n",
      "image 55/610 C:\\Users\\gnvca\\OneDrive\\Desktop\\JP\\model03S\\dataset\\images\\test\\ID6RNj1NRa9zqNCj.jpg: 320x416 1 panel, 6.4ms\n",
      "image 56/610 C:\\Users\\gnvca\\OneDrive\\Desktop\\JP\\model03S\\dataset\\images\\test\\ID6WYG1q9z.jpg: 416x352 1 panel, 9.1ms\n",
      "image 57/610 C:\\Users\\gnvca\\OneDrive\\Desktop\\JP\\model03S\\dataset\\images\\test\\ID6aMNTE4hriV9AyH.jpg: 320x416 2 panels, 8.8ms\n",
      "image 58/610 C:\\Users\\gnvca\\OneDrive\\Desktop\\JP\\model03S\\dataset\\images\\test\\ID6pngGD54XK.jpg: 320x416 1 panel, 12.2ms\n",
      "image 59/610 C:\\Users\\gnvca\\OneDrive\\Desktop\\JP\\model03S\\dataset\\images\\test\\ID74AKY1zI7Y.jpg: 288x416 1 panel, 15.9ms\n",
      "image 60/610 C:\\Users\\gnvca\\OneDrive\\Desktop\\JP\\model03S\\dataset\\images\\test\\ID7B7t8WApYStd.jpg: 320x416 1 panel, 14.0ms\n",
      "image 61/610 C:\\Users\\gnvca\\OneDrive\\Desktop\\JP\\model03S\\dataset\\images\\test\\ID7D0kXWARWfHqVF.jpg: 320x416 2 panels, 15.8ms\n",
      "image 62/610 C:\\Users\\gnvca\\OneDrive\\Desktop\\JP\\model03S\\dataset\\images\\test\\ID7T6FPhrkEUtdk2b.jpg: 320x416 1 panel, 8.7ms\n",
      "image 63/610 C:\\Users\\gnvca\\OneDrive\\Desktop\\JP\\model03S\\dataset\\images\\test\\ID7TLfEk5.jpg: 320x416 1 panel, 8.1ms\n",
      "image 64/610 C:\\Users\\gnvca\\OneDrive\\Desktop\\JP\\model03S\\dataset\\images\\test\\ID7UrZ7be.jpg: 320x416 2 panels, 7.3ms\n",
      "image 65/610 C:\\Users\\gnvca\\OneDrive\\Desktop\\JP\\model03S\\dataset\\images\\test\\ID7VPkMe.jpg: 320x416 3 panels, 9.4ms\n",
      "image 66/610 C:\\Users\\gnvca\\OneDrive\\Desktop\\JP\\model03S\\dataset\\images\\test\\ID7W4Pc8.jpg: 320x416 2 panels, 7.5ms\n",
      "image 67/610 C:\\Users\\gnvca\\OneDrive\\Desktop\\JP\\model03S\\dataset\\images\\test\\ID7YxHx.jpg: 320x416 2 panels, 9.1ms\n",
      "image 68/610 C:\\Users\\gnvca\\OneDrive\\Desktop\\JP\\model03S\\dataset\\images\\test\\ID7aRIQ.jpg: 320x416 4 panels, 6.8ms\n",
      "image 69/610 C:\\Users\\gnvca\\OneDrive\\Desktop\\JP\\model03S\\dataset\\images\\test\\ID7agiE2iuIi.jpg: 320x416 (no detections), 8.7ms\n",
      "image 70/610 C:\\Users\\gnvca\\OneDrive\\Desktop\\JP\\model03S\\dataset\\images\\test\\ID7h8Fn34g6.jpg: 320x416 (no detections), 13.8ms\n",
      "image 71/610 C:\\Users\\gnvca\\OneDrive\\Desktop\\JP\\model03S\\dataset\\images\\test\\ID7mdPZBuI8DYNeMa.jpg: 320x416 2 panels, 14.9ms\n",
      "image 72/610 C:\\Users\\gnvca\\OneDrive\\Desktop\\JP\\model03S\\dataset\\images\\test\\ID7mdqIJCJu9Tf.jpg: 320x416 (no detections), 9.7ms\n",
      "image 73/610 C:\\Users\\gnvca\\OneDrive\\Desktop\\JP\\model03S\\dataset\\images\\test\\ID8jPSru.jpg: 320x416 1 panel, 7.5ms\n",
      "image 74/610 C:\\Users\\gnvca\\OneDrive\\Desktop\\JP\\model03S\\dataset\\images\\test\\ID8neL6iLq.jpg: 320x416 2 panels, 9.3ms\n",
      "image 75/610 C:\\Users\\gnvca\\OneDrive\\Desktop\\JP\\model03S\\dataset\\images\\test\\ID8slkr4kzNExYBc7.jpg: 320x416 2 panels, 8.3ms\n",
      "image 76/610 C:\\Users\\gnvca\\OneDrive\\Desktop\\JP\\model03S\\dataset\\images\\test\\ID8vZOSc4st5szj.jpg: 320x416 2 panels, 9.6ms\n",
      "image 77/610 C:\\Users\\gnvca\\OneDrive\\Desktop\\JP\\model03S\\dataset\\images\\test\\ID92TMyjnrSFD.jpg: 320x416 (no detections), 10.1ms\n",
      "image 78/610 C:\\Users\\gnvca\\OneDrive\\Desktop\\JP\\model03S\\dataset\\images\\test\\ID9HF5SKnfU0ryvRZ.jpg: 320x416 2 panels, 8.1ms\n",
      "image 79/610 C:\\Users\\gnvca\\OneDrive\\Desktop\\JP\\model03S\\dataset\\images\\test\\ID9dpf5CzB.jpg: 320x416 (no detections), 6.8ms\n",
      "image 80/610 C:\\Users\\gnvca\\OneDrive\\Desktop\\JP\\model03S\\dataset\\images\\test\\ID9f8Y0AQtv.jpg: 320x416 2 panels, 10.2ms\n",
      "image 81/610 C:\\Users\\gnvca\\OneDrive\\Desktop\\JP\\model03S\\dataset\\images\\test\\ID9j3T0pYkXFk.jpg: 320x416 (no detections), 15.1ms\n",
      "image 82/610 C:\\Users\\gnvca\\OneDrive\\Desktop\\JP\\model03S\\dataset\\images\\test\\ID9nGFsIvFswxr.jpg: 320x416 2 panels, 15.0ms\n",
      "image 83/610 C:\\Users\\gnvca\\OneDrive\\Desktop\\JP\\model03S\\dataset\\images\\test\\ID9rMqx2024.jpg: 256x416 (no detections), 14.9ms\n",
      "image 84/610 C:\\Users\\gnvca\\OneDrive\\Desktop\\JP\\model03S\\dataset\\images\\test\\ID9wkMaBB6cPp06i.jpg: 320x416 3 panels, 13.0ms\n",
      "image 85/610 C:\\Users\\gnvca\\OneDrive\\Desktop\\JP\\model03S\\dataset\\images\\test\\ID9zcn33Rovf.jpg: 320x416 2 panels, 6.8ms\n",
      "image 86/610 C:\\Users\\gnvca\\OneDrive\\Desktop\\JP\\model03S\\dataset\\images\\test\\IDA3wOphn544YUm.jpg: 320x416 1 panel, 7.1ms\n",
      "image 87/610 C:\\Users\\gnvca\\OneDrive\\Desktop\\JP\\model03S\\dataset\\images\\test\\IDA77hLVSkiWJ.jpg: 320x416 2 panels, 8.2ms\n",
      "image 88/610 C:\\Users\\gnvca\\OneDrive\\Desktop\\JP\\model03S\\dataset\\images\\test\\IDAAovdqYJ0A2.jpg: 416x224 (no detections), 8.0ms\n",
      "image 89/610 C:\\Users\\gnvca\\OneDrive\\Desktop\\JP\\model03S\\dataset\\images\\test\\IDAJMZ2e0fnhk.jpg: 320x416 1 panel, 7.0ms\n",
      "image 90/610 C:\\Users\\gnvca\\OneDrive\\Desktop\\JP\\model03S\\dataset\\images\\test\\IDATVVx5zE.jpg: 352x416 1 boiler, 8.0ms\n",
      "image 91/610 C:\\Users\\gnvca\\OneDrive\\Desktop\\JP\\model03S\\dataset\\images\\test\\IDAYK0LjbcSw.jpg: 320x416 4 panels, 7.6ms\n",
      "image 92/610 C:\\Users\\gnvca\\OneDrive\\Desktop\\JP\\model03S\\dataset\\images\\test\\IDAjZILIslm.jpg: 320x416 2 panels, 9.9ms\n",
      "image 93/610 C:\\Users\\gnvca\\OneDrive\\Desktop\\JP\\model03S\\dataset\\images\\test\\IDAoXg8CJtr9Bs.jpg: 416x288 4 panels, 9.0ms\n",
      "image 94/610 C:\\Users\\gnvca\\OneDrive\\Desktop\\JP\\model03S\\dataset\\images\\test\\IDB3V11j7U1d8.jpg: 320x416 2 panels, 11.5ms\n",
      "image 95/610 C:\\Users\\gnvca\\OneDrive\\Desktop\\JP\\model03S\\dataset\\images\\test\\IDB7M8Zq.jpg: 320x416 2 panels, 9.9ms\n",
      "image 96/610 C:\\Users\\gnvca\\OneDrive\\Desktop\\JP\\model03S\\dataset\\images\\test\\IDB8nWYTtC7klU.jpg: 320x416 2 panels, 13.9ms\n",
      "image 97/610 C:\\Users\\gnvca\\OneDrive\\Desktop\\JP\\model03S\\dataset\\images\\test\\IDBCq9ooKssih.jpg: 352x416 (no detections), 16.4ms\n",
      "image 98/610 C:\\Users\\gnvca\\OneDrive\\Desktop\\JP\\model03S\\dataset\\images\\test\\IDBHD459HvIXEDr.jpg: 320x416 2 panels, 10.8ms\n",
      "image 99/610 C:\\Users\\gnvca\\OneDrive\\Desktop\\JP\\model03S\\dataset\\images\\test\\IDBQpkD.jpg: 320x416 2 panels, 5.8ms\n",
      "image 100/610 C:\\Users\\gnvca\\OneDrive\\Desktop\\JP\\model03S\\dataset\\images\\test\\IDBWVxn.jpg: 320x416 2 panels, 8.6ms\n",
      "image 101/610 C:\\Users\\gnvca\\OneDrive\\Desktop\\JP\\model03S\\dataset\\images\\test\\IDBgBpIOB93Rrz.jpg: 320x416 4 panels, 9.0ms\n",
      "image 102/610 C:\\Users\\gnvca\\OneDrive\\Desktop\\JP\\model03S\\dataset\\images\\test\\IDBn5BSKSRoMSU4o.jpg: 320x416 1 boiler, 8.6ms\n",
      "image 103/610 C:\\Users\\gnvca\\OneDrive\\Desktop\\JP\\model03S\\dataset\\images\\test\\IDBrsAt.jpg: 320x416 2 panels, 9.3ms\n",
      "image 104/610 C:\\Users\\gnvca\\OneDrive\\Desktop\\JP\\model03S\\dataset\\images\\test\\IDBxqPlxETH.jpg: 320x416 (no detections), 7.6ms\n",
      "image 105/610 C:\\Users\\gnvca\\OneDrive\\Desktop\\JP\\model03S\\dataset\\images\\test\\IDC9UN945qis.jpg: 320x416 2 panels, 12.4ms\n",
      "image 106/610 C:\\Users\\gnvca\\OneDrive\\Desktop\\JP\\model03S\\dataset\\images\\test\\IDCN3LrNtki23.jpg: 320x416 2 panels, 14.5ms\n",
      "image 107/610 C:\\Users\\gnvca\\OneDrive\\Desktop\\JP\\model03S\\dataset\\images\\test\\IDCRdByHWl.jpg: 416x416 1 panel, 16.3ms\n",
      "image 108/610 C:\\Users\\gnvca\\OneDrive\\Desktop\\JP\\model03S\\dataset\\images\\test\\IDCUDmAElPl.jpg: 320x416 2 panels, 17.6ms\n",
      "image 109/610 C:\\Users\\gnvca\\OneDrive\\Desktop\\JP\\model03S\\dataset\\images\\test\\IDCf40Y.jpg: 320x416 (no detections), 6.0ms\n",
      "image 110/610 C:\\Users\\gnvca\\OneDrive\\Desktop\\JP\\model03S\\dataset\\images\\test\\IDChp8Y.jpg: 384x416 (no detections), 8.3ms\n",
      "image 111/610 C:\\Users\\gnvca\\OneDrive\\Desktop\\JP\\model03S\\dataset\\images\\test\\IDCkvTWc.jpg: 320x416 (no detections), 7.9ms\n",
      "image 112/610 C:\\Users\\gnvca\\OneDrive\\Desktop\\JP\\model03S\\dataset\\images\\test\\IDCmdIjh7.jpg: 320x416 2 panels, 7.3ms\n",
      "image 113/610 C:\\Users\\gnvca\\OneDrive\\Desktop\\JP\\model03S\\dataset\\images\\test\\IDCmfp1l5H37KbRSY.jpg: 416x320 (no detections), 8.7ms\n",
      "image 114/610 C:\\Users\\gnvca\\OneDrive\\Desktop\\JP\\model03S\\dataset\\images\\test\\IDCwEcy.jpg: 416x384 1 boiler, 10.8ms\n",
      "image 115/610 C:\\Users\\gnvca\\OneDrive\\Desktop\\JP\\model03S\\dataset\\images\\test\\IDD2ChpIr822Zl.jpg: 416x416 2 boilers, 8.6ms\n",
      "image 116/610 C:\\Users\\gnvca\\OneDrive\\Desktop\\JP\\model03S\\dataset\\images\\test\\IDD5tNDIm.jpg: 352x416 (no detections), 7.9ms\n",
      "image 117/610 C:\\Users\\gnvca\\OneDrive\\Desktop\\JP\\model03S\\dataset\\images\\test\\IDDBinOiRx9.jpg: 320x416 2 panels, 9.7ms\n",
      "image 118/610 C:\\Users\\gnvca\\OneDrive\\Desktop\\JP\\model03S\\dataset\\images\\test\\IDDFjSz2.jpg: 320x416 1 panel, 8.7ms\n",
      "image 119/610 C:\\Users\\gnvca\\OneDrive\\Desktop\\JP\\model03S\\dataset\\images\\test\\IDDJ9oJD.jpg: 320x416 1 panel, 8.6ms\n",
      "image 120/610 C:\\Users\\gnvca\\OneDrive\\Desktop\\JP\\model03S\\dataset\\images\\test\\IDDNCJ0k.jpg: 352x416 (no detections), 9.4ms\n",
      "image 121/610 C:\\Users\\gnvca\\OneDrive\\Desktop\\JP\\model03S\\dataset\\images\\test\\IDDXg9i.jpg: 320x416 4 panels, 12.5ms\n",
      "image 122/610 C:\\Users\\gnvca\\OneDrive\\Desktop\\JP\\model03S\\dataset\\images\\test\\IDDZockMYl6M19ndX.jpg: 320x416 (no detections), 15.2ms\n",
      "image 123/610 C:\\Users\\gnvca\\OneDrive\\Desktop\\JP\\model03S\\dataset\\images\\test\\IDDaHVd7j6Xv.jpg: 320x416 2 panels, 14.6ms\n",
      "image 124/610 C:\\Users\\gnvca\\OneDrive\\Desktop\\JP\\model03S\\dataset\\images\\test\\IDDaY76RJMV82KEgu.jpg: 416x384 1 boiler, 17.2ms\n",
      "image 125/610 C:\\Users\\gnvca\\OneDrive\\Desktop\\JP\\model03S\\dataset\\images\\test\\IDDpqkBRyQIG1zUV.jpg: 320x416 2 panels, 17.6ms\n",
      "image 126/610 C:\\Users\\gnvca\\OneDrive\\Desktop\\JP\\model03S\\dataset\\images\\test\\IDDqbyvCeZ.jpg: 320x416 (no detections), 8.0ms\n",
      "image 127/610 C:\\Users\\gnvca\\OneDrive\\Desktop\\JP\\model03S\\dataset\\images\\test\\IDDri4Gx2.jpg: 256x416 (no detections), 8.8ms\n",
      "image 128/610 C:\\Users\\gnvca\\OneDrive\\Desktop\\JP\\model03S\\dataset\\images\\test\\IDDroOzezf7ZG.jpg: 192x416 1 boiler, 12.0ms\n",
      "image 129/610 C:\\Users\\gnvca\\OneDrive\\Desktop\\JP\\model03S\\dataset\\images\\test\\IDDvY8q3.jpg: 320x416 2 panels, 8.0ms\n",
      "image 130/610 C:\\Users\\gnvca\\OneDrive\\Desktop\\JP\\model03S\\dataset\\images\\test\\IDDyTFMWMAkDQ.jpg: 320x416 1 panel, 9.3ms\n",
      "image 131/610 C:\\Users\\gnvca\\OneDrive\\Desktop\\JP\\model03S\\dataset\\images\\test\\IDE4yRJ.jpg: 320x416 2 panels, 8.4ms\n",
      "image 132/610 C:\\Users\\gnvca\\OneDrive\\Desktop\\JP\\model03S\\dataset\\images\\test\\IDEMYwo5WX.jpg: 320x416 2 panels, 9.9ms\n",
      "image 133/610 C:\\Users\\gnvca\\OneDrive\\Desktop\\JP\\model03S\\dataset\\images\\test\\IDESFEa.jpg: 320x416 1 panel, 7.4ms\n",
      "image 134/610 C:\\Users\\gnvca\\OneDrive\\Desktop\\JP\\model03S\\dataset\\images\\test\\IDEhFnHYi.jpg: 320x416 (no detections), 14.8ms\n",
      "image 135/610 C:\\Users\\gnvca\\OneDrive\\Desktop\\JP\\model03S\\dataset\\images\\test\\IDEmooUtiFA.jpg: 320x416 1 panel, 14.7ms\n",
      "image 136/610 C:\\Users\\gnvca\\OneDrive\\Desktop\\JP\\model03S\\dataset\\images\\test\\IDEp0hGbDynQJzTU.jpg: 256x416 1 boiler, 16.6ms\n",
      "image 137/610 C:\\Users\\gnvca\\OneDrive\\Desktop\\JP\\model03S\\dataset\\images\\test\\IDEuUe0ncOvlGGm.jpg: 320x416 2 panels, 15.7ms\n",
      "image 138/610 C:\\Users\\gnvca\\OneDrive\\Desktop\\JP\\model03S\\dataset\\images\\test\\IDF4KZ0a.jpg: 320x416 (no detections), 7.6ms\n",
      "image 139/610 C:\\Users\\gnvca\\OneDrive\\Desktop\\JP\\model03S\\dataset\\images\\test\\IDF91Bgh.jpg: 320x416 2 panels, 7.2ms\n",
      "image 140/610 C:\\Users\\gnvca\\OneDrive\\Desktop\\JP\\model03S\\dataset\\images\\test\\IDFDnDyaQF.jpg: 320x416 (no detections), 7.9ms\n",
      "image 141/610 C:\\Users\\gnvca\\OneDrive\\Desktop\\JP\\model03S\\dataset\\images\\test\\IDFFVzv9xrukhImq.jpg: 320x416 4 panels, 8.5ms\n",
      "image 142/610 C:\\Users\\gnvca\\OneDrive\\Desktop\\JP\\model03S\\dataset\\images\\test\\IDFJjZ2Lvp.jpg: 320x416 2 panels, 8.8ms\n",
      "image 143/610 C:\\Users\\gnvca\\OneDrive\\Desktop\\JP\\model03S\\dataset\\images\\test\\IDFOq2wKlEDv0lRI.jpg: 320x416 3 panels, 8.2ms\n",
      "image 144/610 C:\\Users\\gnvca\\OneDrive\\Desktop\\JP\\model03S\\dataset\\images\\test\\IDFWp1UOtE3yMm.jpg: 320x416 2 panels, 7.5ms\n",
      "image 145/610 C:\\Users\\gnvca\\OneDrive\\Desktop\\JP\\model03S\\dataset\\images\\test\\IDFffbT.jpg: 320x416 2 panels, 12.5ms\n",
      "image 146/610 C:\\Users\\gnvca\\OneDrive\\Desktop\\JP\\model03S\\dataset\\images\\test\\IDFlMVpa9Oihnbc.jpg: 320x416 3 panels, 15.4ms\n",
      "image 147/610 C:\\Users\\gnvca\\OneDrive\\Desktop\\JP\\model03S\\dataset\\images\\test\\IDFlsmRNLFxa6.jpg: 416x416 (no detections), 16.8ms\n",
      "image 148/610 C:\\Users\\gnvca\\OneDrive\\Desktop\\JP\\model03S\\dataset\\images\\test\\IDFyib0a6qIZ.jpg: 416x384 2 panels, 15.8ms\n",
      "image 149/610 C:\\Users\\gnvca\\OneDrive\\Desktop\\JP\\model03S\\dataset\\images\\test\\IDGNh6UyIppmtEDsq.jpg: 256x416 (no detections), 16.8ms\n",
      "image 150/610 C:\\Users\\gnvca\\OneDrive\\Desktop\\JP\\model03S\\dataset\\images\\test\\IDGYlhoJdU.jpg: 320x416 (no detections), 6.7ms\n",
      "image 151/610 C:\\Users\\gnvca\\OneDrive\\Desktop\\JP\\model03S\\dataset\\images\\test\\IDGcOFMnZ.jpg: 320x416 5 panels, 7.6ms\n",
      "image 152/610 C:\\Users\\gnvca\\OneDrive\\Desktop\\JP\\model03S\\dataset\\images\\test\\IDGkoOj5.jpg: 320x416 2 panels, 7.5ms\n",
      "image 153/610 C:\\Users\\gnvca\\OneDrive\\Desktop\\JP\\model03S\\dataset\\images\\test\\IDGmAerhKUKmJgs.jpg: 320x416 (no detections), 8.0ms\n",
      "image 154/610 C:\\Users\\gnvca\\OneDrive\\Desktop\\JP\\model03S\\dataset\\images\\test\\IDGvR1AWhn.jpg: 320x416 2 panels, 7.8ms\n",
      "image 155/610 C:\\Users\\gnvca\\OneDrive\\Desktop\\JP\\model03S\\dataset\\images\\test\\IDGwnbgzud6NX.jpg: 320x416 (no detections), 7.7ms\n",
      "image 156/610 C:\\Users\\gnvca\\OneDrive\\Desktop\\JP\\model03S\\dataset\\images\\test\\IDH1dzi5Hh3oE74Xz.jpg: 320x416 (no detections), 9.5ms\n",
      "image 157/610 C:\\Users\\gnvca\\OneDrive\\Desktop\\JP\\model03S\\dataset\\images\\test\\IDHL7sfwI1v.jpg: 320x416 2 panels, 13.4ms\n",
      "image 158/610 C:\\Users\\gnvca\\OneDrive\\Desktop\\JP\\model03S\\dataset\\images\\test\\IDHNKk5HcU.jpg: 320x416 1 panel, 13.6ms\n",
      "image 159/610 C:\\Users\\gnvca\\OneDrive\\Desktop\\JP\\model03S\\dataset\\images\\test\\IDHOPs8k8My5Ny8D.jpg: 320x416 1 panel, 13.2ms\n",
      "image 160/610 C:\\Users\\gnvca\\OneDrive\\Desktop\\JP\\model03S\\dataset\\images\\test\\IDHQonuKqE0B8i5b0.jpg: 320x416 1 boiler, 9.2ms\n",
      "image 161/610 C:\\Users\\gnvca\\OneDrive\\Desktop\\JP\\model03S\\dataset\\images\\test\\IDHUq2ZYO.jpg: 320x416 (no detections), 8.7ms\n",
      "image 162/610 C:\\Users\\gnvca\\OneDrive\\Desktop\\JP\\model03S\\dataset\\images\\test\\IDHWsq3h.jpg: 352x416 2 panels, 7.5ms\n",
      "image 163/610 C:\\Users\\gnvca\\OneDrive\\Desktop\\JP\\model03S\\dataset\\images\\test\\IDHfKAssNJVQ0D1W.jpg: 320x416 2 panels, 8.6ms\n",
      "image 164/610 C:\\Users\\gnvca\\OneDrive\\Desktop\\JP\\model03S\\dataset\\images\\test\\IDHfvzApRuFK9TiOm.jpg: 320x416 2 panels, 7.4ms\n",
      "image 165/610 C:\\Users\\gnvca\\OneDrive\\Desktop\\JP\\model03S\\dataset\\images\\test\\IDHmYJ1dFx9v.jpg: 320x416 2 panels, 8.0ms\n",
      "image 166/610 C:\\Users\\gnvca\\OneDrive\\Desktop\\JP\\model03S\\dataset\\images\\test\\IDHnOD77.jpg: 320x416 1 panel, 8.0ms\n",
      "image 167/610 C:\\Users\\gnvca\\OneDrive\\Desktop\\JP\\model03S\\dataset\\images\\test\\IDHopTtLZVURDmz.jpg: 320x416 2 panels, 13.2ms\n",
      "image 168/610 C:\\Users\\gnvca\\OneDrive\\Desktop\\JP\\model03S\\dataset\\images\\test\\IDHrpC1AX09uy8Eh.jpg: 320x416 1 panel, 15.5ms\n",
      "image 169/610 C:\\Users\\gnvca\\OneDrive\\Desktop\\JP\\model03S\\dataset\\images\\test\\IDI1iRn1v1VVgkH.jpg: 320x416 2 panels, 14.7ms\n",
      "image 170/610 C:\\Users\\gnvca\\OneDrive\\Desktop\\JP\\model03S\\dataset\\images\\test\\IDIJcliXX00aD1o.jpg: 320x416 (no detections), 9.7ms\n",
      "image 171/610 C:\\Users\\gnvca\\OneDrive\\Desktop\\JP\\model03S\\dataset\\images\\test\\IDIJeegYoypz.jpg: 320x416 2 panels, 8.9ms\n",
      "image 172/610 C:\\Users\\gnvca\\OneDrive\\Desktop\\JP\\model03S\\dataset\\images\\test\\IDIPOyf809e.jpg: 320x416 2 panels, 7.7ms\n",
      "image 173/610 C:\\Users\\gnvca\\OneDrive\\Desktop\\JP\\model03S\\dataset\\images\\test\\IDIijgd.jpg: 320x416 (no detections), 7.6ms\n",
      "image 174/610 C:\\Users\\gnvca\\OneDrive\\Desktop\\JP\\model03S\\dataset\\images\\test\\IDIuxfUrw8kOOu4DI.jpg: 320x416 (no detections), 11.6ms\n",
      "image 175/610 C:\\Users\\gnvca\\OneDrive\\Desktop\\JP\\model03S\\dataset\\images\\test\\IDIyeJf.jpg: 320x416 2 panels, 8.0ms\n",
      "image 176/610 C:\\Users\\gnvca\\OneDrive\\Desktop\\JP\\model03S\\dataset\\images\\test\\IDJT5VOZ9dnhU.jpg: 352x416 (no detections), 8.6ms\n",
      "image 177/610 C:\\Users\\gnvca\\OneDrive\\Desktop\\JP\\model03S\\dataset\\images\\test\\IDJVDtyikY5Au2N.jpg: 320x416 2 panels, 9.3ms\n",
      "image 178/610 C:\\Users\\gnvca\\OneDrive\\Desktop\\JP\\model03S\\dataset\\images\\test\\IDJX8nxzq1B5zRc.jpg: 256x416 (no detections), 10.3ms\n",
      "image 179/610 C:\\Users\\gnvca\\OneDrive\\Desktop\\JP\\model03S\\dataset\\images\\test\\IDJYdqju.jpg: 320x416 2 panels, 19.2ms\n",
      "image 180/610 C:\\Users\\gnvca\\OneDrive\\Desktop\\JP\\model03S\\dataset\\images\\test\\IDJZzV2P0j.jpg: 320x416 (no detections), 9.6ms\n",
      "image 181/610 C:\\Users\\gnvca\\OneDrive\\Desktop\\JP\\model03S\\dataset\\images\\test\\IDJbVseZotN.jpg: 416x416 (no detections), 15.9ms\n",
      "image 182/610 C:\\Users\\gnvca\\OneDrive\\Desktop\\JP\\model03S\\dataset\\images\\test\\IDJc2HqWDc.jpg: 320x416 (no detections), 17.9ms\n",
      "image 183/610 C:\\Users\\gnvca\\OneDrive\\Desktop\\JP\\model03S\\dataset\\images\\test\\IDJqkYCyCdBLK9p.jpg: 384x416 (no detections), 15.1ms\n",
      "image 184/610 C:\\Users\\gnvca\\OneDrive\\Desktop\\JP\\model03S\\dataset\\images\\test\\IDJrtn7iN.jpg: 352x416 2 panels, 9.1ms\n",
      "image 185/610 C:\\Users\\gnvca\\OneDrive\\Desktop\\JP\\model03S\\dataset\\images\\test\\IDJtfgIs9iDuX.jpg: 320x416 3 panels, 8.3ms\n",
      "image 186/610 C:\\Users\\gnvca\\OneDrive\\Desktop\\JP\\model03S\\dataset\\images\\test\\IDJxKCe6KBA.jpg: 320x416 1 panel, 7.0ms\n",
      "image 187/610 C:\\Users\\gnvca\\OneDrive\\Desktop\\JP\\model03S\\dataset\\images\\test\\IDJzvlPDwCXdl.jpg: 320x416 (no detections), 8.1ms\n",
      "image 188/610 C:\\Users\\gnvca\\OneDrive\\Desktop\\JP\\model03S\\dataset\\images\\test\\IDKDcC3WJNJ36.jpg: 320x416 1 panel, 8.8ms\n",
      "image 189/610 C:\\Users\\gnvca\\OneDrive\\Desktop\\JP\\model03S\\dataset\\images\\test\\IDKFdfDwxCMnZ.jpg: 320x416 1 panel, 9.0ms\n",
      "image 190/610 C:\\Users\\gnvca\\OneDrive\\Desktop\\JP\\model03S\\dataset\\images\\test\\IDKJ6nQpI7ybWUNv1.jpg: 320x416 2 panels, 8.8ms\n",
      "image 191/610 C:\\Users\\gnvca\\OneDrive\\Desktop\\JP\\model03S\\dataset\\images\\test\\IDKJHQLYnbWeWqeh.jpg: 320x416 (no detections), 8.8ms\n",
      "image 192/610 C:\\Users\\gnvca\\OneDrive\\Desktop\\JP\\model03S\\dataset\\images\\test\\IDKWugF.jpg: 320x416 (no detections), 13.2ms\n",
      "image 193/610 C:\\Users\\gnvca\\OneDrive\\Desktop\\JP\\model03S\\dataset\\images\\test\\IDKcyg1d0klz.jpg: 384x416 (no detections), 15.4ms\n",
      "image 194/610 C:\\Users\\gnvca\\OneDrive\\Desktop\\JP\\model03S\\dataset\\images\\test\\IDKfZcsBYlaFZB.jpg: 320x416 (no detections), 17.2ms\n",
      "image 195/610 C:\\Users\\gnvca\\OneDrive\\Desktop\\JP\\model03S\\dataset\\images\\test\\IDKgqKl5InA.jpg: 320x416 2 panels, 14.5ms\n",
      "image 196/610 C:\\Users\\gnvca\\OneDrive\\Desktop\\JP\\model03S\\dataset\\images\\test\\IDKiNrzxFOvdjko.jpg: 320x416 (no detections), 7.3ms\n",
      "image 197/610 C:\\Users\\gnvca\\OneDrive\\Desktop\\JP\\model03S\\dataset\\images\\test\\IDKjoRWg67s0XrM.jpg: 320x416 (no detections), 7.3ms\n",
      "image 198/610 C:\\Users\\gnvca\\OneDrive\\Desktop\\JP\\model03S\\dataset\\images\\test\\IDKsfguBQzT8mL.jpg: 320x416 2 panels, 8.0ms\n",
      "image 199/610 C:\\Users\\gnvca\\OneDrive\\Desktop\\JP\\model03S\\dataset\\images\\test\\IDL5agDCBpvYbFIb.jpg: 288x416 (no detections), 10.1ms\n",
      "image 200/610 C:\\Users\\gnvca\\OneDrive\\Desktop\\JP\\model03S\\dataset\\images\\test\\IDLBvM4B8Nb9cMMM2.jpg: 320x416 2 panels, 8.6ms\n",
      "image 201/610 C:\\Users\\gnvca\\OneDrive\\Desktop\\JP\\model03S\\dataset\\images\\test\\IDLGAgUmXcyqnm4B.jpg: 288x416 26 panels, 9.0ms\n",
      "image 202/610 C:\\Users\\gnvca\\OneDrive\\Desktop\\JP\\model03S\\dataset\\images\\test\\IDLOgaARU.jpg: 320x416 2 panels, 9.6ms\n",
      "image 203/610 C:\\Users\\gnvca\\OneDrive\\Desktop\\JP\\model03S\\dataset\\images\\test\\IDLPnZ2JSyJCpnkk.jpg: 320x416 2 panels, 12.6ms\n",
      "image 204/610 C:\\Users\\gnvca\\OneDrive\\Desktop\\JP\\model03S\\dataset\\images\\test\\IDLUf8RXNcMUVY.jpg: 320x416 1 panel, 16.0ms\n",
      "image 205/610 C:\\Users\\gnvca\\OneDrive\\Desktop\\JP\\model03S\\dataset\\images\\test\\IDLV7DEFnpu21m.jpg: 320x416 2 panels, 14.2ms\n",
      "image 206/610 C:\\Users\\gnvca\\OneDrive\\Desktop\\JP\\model03S\\dataset\\images\\test\\IDLWiPQHg9w.jpg: 320x416 2 panels, 7.1ms\n",
      "image 207/610 C:\\Users\\gnvca\\OneDrive\\Desktop\\JP\\model03S\\dataset\\images\\test\\IDLcVsGAKOjlekZt.jpg: 320x416 (no detections), 8.1ms\n",
      "image 208/610 C:\\Users\\gnvca\\OneDrive\\Desktop\\JP\\model03S\\dataset\\images\\test\\IDLp8ipsX.jpg: 320x416 (no detections), 7.6ms\n",
      "image 209/610 C:\\Users\\gnvca\\OneDrive\\Desktop\\JP\\model03S\\dataset\\images\\test\\IDLqJOlB.jpg: 320x416 (no detections), 8.1ms\n",
      "image 210/610 C:\\Users\\gnvca\\OneDrive\\Desktop\\JP\\model03S\\dataset\\images\\test\\IDLuyFMzgi.jpg: 288x416 (no detections), 9.0ms\n",
      "image 211/610 C:\\Users\\gnvca\\OneDrive\\Desktop\\JP\\model03S\\dataset\\images\\test\\IDLvVG7o.jpg: 320x416 2 panels, 8.3ms\n",
      "image 212/610 C:\\Users\\gnvca\\OneDrive\\Desktop\\JP\\model03S\\dataset\\images\\test\\IDM1mecCHyC0aMBG.jpg: 320x416 2 panels, 13.2ms\n",
      "image 213/610 C:\\Users\\gnvca\\OneDrive\\Desktop\\JP\\model03S\\dataset\\images\\test\\IDM2O3PIBeU.jpg: 320x416 2 panels, 14.6ms\n",
      "image 214/610 C:\\Users\\gnvca\\OneDrive\\Desktop\\JP\\model03S\\dataset\\images\\test\\IDMaP9Y2cGZq5.jpg: 320x416 2 panels, 15.4ms\n",
      "image 215/610 C:\\Users\\gnvca\\OneDrive\\Desktop\\JP\\model03S\\dataset\\images\\test\\IDMg1hT.jpg: 320x416 1 panel, 8.4ms\n",
      "image 216/610 C:\\Users\\gnvca\\OneDrive\\Desktop\\JP\\model03S\\dataset\\images\\test\\IDMicEmp.jpg: 320x416 (no detections), 6.9ms\n",
      "image 217/610 C:\\Users\\gnvca\\OneDrive\\Desktop\\JP\\model03S\\dataset\\images\\test\\IDMkaRZaZHmPp2rj.jpg: 320x416 1 panel, 8.8ms\n",
      "image 218/610 C:\\Users\\gnvca\\OneDrive\\Desktop\\JP\\model03S\\dataset\\images\\test\\IDMoRx3u3.jpg: 320x416 1 panel, 9.4ms\n",
      "image 219/610 C:\\Users\\gnvca\\OneDrive\\Desktop\\JP\\model03S\\dataset\\images\\test\\IDMppel2OxSBAjYgy.jpg: 256x416 2 panels, 8.9ms\n",
      "image 220/610 C:\\Users\\gnvca\\OneDrive\\Desktop\\JP\\model03S\\dataset\\images\\test\\IDMyqRdKmifWTC5M.jpg: 320x416 (no detections), 10.2ms\n",
      "image 221/610 C:\\Users\\gnvca\\OneDrive\\Desktop\\JP\\model03S\\dataset\\images\\test\\IDN37kgUFgowNuf.jpg: 320x416 2 panels, 14.1ms\n",
      "image 222/610 C:\\Users\\gnvca\\OneDrive\\Desktop\\JP\\model03S\\dataset\\images\\test\\IDN9KOa6ybXI90H7.jpg: 320x416 1 panel, 13.0ms\n",
      "image 223/610 C:\\Users\\gnvca\\OneDrive\\Desktop\\JP\\model03S\\dataset\\images\\test\\IDNHwEWeIhr1.jpg: 352x416 5 panels, 11.4ms\n",
      "image 224/610 C:\\Users\\gnvca\\OneDrive\\Desktop\\JP\\model03S\\dataset\\images\\test\\IDNI717Zg.jpg: 320x416 (no detections), 18.6ms\n",
      "image 225/610 C:\\Users\\gnvca\\OneDrive\\Desktop\\JP\\model03S\\dataset\\images\\test\\IDNIeWTULseg6.jpg: 416x384 1 panel, 9.4ms\n",
      "image 226/610 C:\\Users\\gnvca\\OneDrive\\Desktop\\JP\\model03S\\dataset\\images\\test\\IDNMBnmgJpZ.jpg: 320x416 1 panel, 8.6ms\n",
      "image 227/610 C:\\Users\\gnvca\\OneDrive\\Desktop\\JP\\model03S\\dataset\\images\\test\\IDNOtJu.jpg: 416x416 1 boiler, 9.6ms\n",
      "image 228/610 C:\\Users\\gnvca\\OneDrive\\Desktop\\JP\\model03S\\dataset\\images\\test\\IDNTM1avFD.jpg: 320x416 (no detections), 8.8ms\n",
      "image 229/610 C:\\Users\\gnvca\\OneDrive\\Desktop\\JP\\model03S\\dataset\\images\\test\\IDNV3EewClJ28.jpg: 320x416 3 panels, 9.3ms\n",
      "image 230/610 C:\\Users\\gnvca\\OneDrive\\Desktop\\JP\\model03S\\dataset\\images\\test\\IDNWWNgQchkNGZ.jpg: 320x416 1 panel, 8.5ms\n",
      "image 231/610 C:\\Users\\gnvca\\OneDrive\\Desktop\\JP\\model03S\\dataset\\images\\test\\IDNXFysoHX5F.jpg: 320x416 2 panels, 9.6ms\n",
      "image 232/610 C:\\Users\\gnvca\\OneDrive\\Desktop\\JP\\model03S\\dataset\\images\\test\\IDNb2NQUUl5wIdi.jpg: 320x416 1 panel, 10.8ms\n",
      "image 233/610 C:\\Users\\gnvca\\OneDrive\\Desktop\\JP\\model03S\\dataset\\images\\test\\IDNfQAK.jpg: 320x416 1 panel, 12.7ms\n",
      "image 234/610 C:\\Users\\gnvca\\OneDrive\\Desktop\\JP\\model03S\\dataset\\images\\test\\IDNfpFzl.jpg: 416x384 (no detections), 14.5ms\n",
      "image 235/610 C:\\Users\\gnvca\\OneDrive\\Desktop\\JP\\model03S\\dataset\\images\\test\\IDO0Brs2.jpg: 288x416 (no detections), 14.9ms\n",
      "image 236/610 C:\\Users\\gnvca\\OneDrive\\Desktop\\JP\\model03S\\dataset\\images\\test\\IDO16u4G57LX48gft.jpg: 320x416 2 panels, 15.5ms\n",
      "image 237/610 C:\\Users\\gnvca\\OneDrive\\Desktop\\JP\\model03S\\dataset\\images\\test\\IDO1BJpqUlfD8xX.jpg: 320x416 2 panels, 8.4ms\n",
      "image 238/610 C:\\Users\\gnvca\\OneDrive\\Desktop\\JP\\model03S\\dataset\\images\\test\\IDO5QCJd.jpg: 320x416 2 panels, 7.9ms\n",
      "image 239/610 C:\\Users\\gnvca\\OneDrive\\Desktop\\JP\\model03S\\dataset\\images\\test\\IDOBnWUWq.jpg: 320x416 2 panels, 7.8ms\n",
      "image 240/610 C:\\Users\\gnvca\\OneDrive\\Desktop\\JP\\model03S\\dataset\\images\\test\\IDOMoDwBeCgGzkiYQ.jpg: 416x416 (no detections), 10.4ms\n",
      "image 241/610 C:\\Users\\gnvca\\OneDrive\\Desktop\\JP\\model03S\\dataset\\images\\test\\IDOSBnjMTcxXchRkw.jpg: 320x416 1 panel, 9.4ms\n",
      "image 242/610 C:\\Users\\gnvca\\OneDrive\\Desktop\\JP\\model03S\\dataset\\images\\test\\IDOYC2etfw4zDITJe.jpg: 320x416 4 panels, 9.3ms\n",
      "image 243/610 C:\\Users\\gnvca\\OneDrive\\Desktop\\JP\\model03S\\dataset\\images\\test\\IDOaq1s.jpg: 320x416 (no detections), 8.2ms\n",
      "image 244/610 C:\\Users\\gnvca\\OneDrive\\Desktop\\JP\\model03S\\dataset\\images\\test\\IDOcNequgMX2KOq.jpg: 320x416 1 panel, 11.8ms\n",
      "image 245/610 C:\\Users\\gnvca\\OneDrive\\Desktop\\JP\\model03S\\dataset\\images\\test\\IDOdV2G.jpg: 320x416 2 panels, 11.6ms\n",
      "image 246/610 C:\\Users\\gnvca\\OneDrive\\Desktop\\JP\\model03S\\dataset\\images\\test\\IDOeV2yZ2OjbjO.jpg: 320x416 2 panels, 6.8ms\n",
      "image 247/610 C:\\Users\\gnvca\\OneDrive\\Desktop\\JP\\model03S\\dataset\\images\\test\\IDOfqpGoqW2nW.jpg: 320x416 (no detections), 7.8ms\n",
      "image 248/610 C:\\Users\\gnvca\\OneDrive\\Desktop\\JP\\model03S\\dataset\\images\\test\\IDOoNO6hPaJ06NNA.jpg: 416x288 2 panels, 6.2ms\n",
      "image 249/610 C:\\Users\\gnvca\\OneDrive\\Desktop\\JP\\model03S\\dataset\\images\\test\\IDP1MRkMRjY7uOR.jpg: 320x416 (no detections), 8.2ms\n",
      "image 250/610 C:\\Users\\gnvca\\OneDrive\\Desktop\\JP\\model03S\\dataset\\images\\test\\IDP3tp3NlhwMzV.jpg: 320x416 2 panels, 8.6ms\n",
      "image 251/610 C:\\Users\\gnvca\\OneDrive\\Desktop\\JP\\model03S\\dataset\\images\\test\\IDPF400sbB.jpg: 320x416 1 panel, 7.6ms\n",
      "image 252/610 C:\\Users\\gnvca\\OneDrive\\Desktop\\JP\\model03S\\dataset\\images\\test\\IDPQCJlHk.jpg: 320x416 2 panels, 7.9ms\n",
      "image 253/610 C:\\Users\\gnvca\\OneDrive\\Desktop\\JP\\model03S\\dataset\\images\\test\\IDPZ8vayrLo2LKU.jpg: 320x416 (no detections), 6.8ms\n",
      "image 254/610 C:\\Users\\gnvca\\OneDrive\\Desktop\\JP\\model03S\\dataset\\images\\test\\IDPk1cxX.jpg: 320x416 2 panels, 6.6ms\n",
      "image 255/610 C:\\Users\\gnvca\\OneDrive\\Desktop\\JP\\model03S\\dataset\\images\\test\\IDQ1fQtP.jpg: 320x416 1 panel, 8.2ms\n",
      "image 256/610 C:\\Users\\gnvca\\OneDrive\\Desktop\\JP\\model03S\\dataset\\images\\test\\IDQ5zEEqpR.jpg: 320x416 1 panel, 12.7ms\n",
      "image 257/610 C:\\Users\\gnvca\\OneDrive\\Desktop\\JP\\model03S\\dataset\\images\\test\\IDQ6m1mjj6hK1J0g.jpg: 320x416 2 panels, 11.0ms\n",
      "image 258/610 C:\\Users\\gnvca\\OneDrive\\Desktop\\JP\\model03S\\dataset\\images\\test\\IDQ6rkJDf3trL.jpg: 320x416 2 panels, 14.5ms\n",
      "image 259/610 C:\\Users\\gnvca\\OneDrive\\Desktop\\JP\\model03S\\dataset\\images\\test\\IDQ7tKccb.jpg: 320x416 2 panels, 6.7ms\n",
      "image 260/610 C:\\Users\\gnvca\\OneDrive\\Desktop\\JP\\model03S\\dataset\\images\\test\\IDQFsUhBaXe.jpg: 320x416 2 panels, 7.9ms\n",
      "image 261/610 C:\\Users\\gnvca\\OneDrive\\Desktop\\JP\\model03S\\dataset\\images\\test\\IDQM3ch5d8j.jpg: 320x416 (no detections), 7.8ms\n",
      "image 262/610 C:\\Users\\gnvca\\OneDrive\\Desktop\\JP\\model03S\\dataset\\images\\test\\IDQW4Po6.jpg: 192x416 (no detections), 8.6ms\n",
      "image 263/610 C:\\Users\\gnvca\\OneDrive\\Desktop\\JP\\model03S\\dataset\\images\\test\\IDQbGBO06eFF.jpg: 416x320 (no detections), 8.8ms\n",
      "image 264/610 C:\\Users\\gnvca\\OneDrive\\Desktop\\JP\\model03S\\dataset\\images\\test\\IDR0v1xwtySDEa.jpg: 416x416 2 panels, 8.3ms\n",
      "image 265/610 C:\\Users\\gnvca\\OneDrive\\Desktop\\JP\\model03S\\dataset\\images\\test\\IDR1fPJbx.jpg: 320x416 2 panels, 8.4ms\n",
      "image 266/610 C:\\Users\\gnvca\\OneDrive\\Desktop\\JP\\model03S\\dataset\\images\\test\\IDR8Q2A220f.jpg: 320x416 1 panel, 7.0ms\n",
      "image 267/610 C:\\Users\\gnvca\\OneDrive\\Desktop\\JP\\model03S\\dataset\\images\\test\\IDRKM6Vy7HYGTa.jpg: 320x416 1 panel, 12.4ms\n",
      "image 268/610 C:\\Users\\gnvca\\OneDrive\\Desktop\\JP\\model03S\\dataset\\images\\test\\IDRL11s5itAkboIY.jpg: 416x416 1 panel, 14.4ms\n",
      "image 269/610 C:\\Users\\gnvca\\OneDrive\\Desktop\\JP\\model03S\\dataset\\images\\test\\IDRMs5N1xxq7h.jpg: 320x416 2 panels, 13.9ms\n",
      "image 270/610 C:\\Users\\gnvca\\OneDrive\\Desktop\\JP\\model03S\\dataset\\images\\test\\IDRSk2l.jpg: 320x416 2 panels, 7.9ms\n",
      "image 271/610 C:\\Users\\gnvca\\OneDrive\\Desktop\\JP\\model03S\\dataset\\images\\test\\IDRkedWYc.jpg: 416x320 1 boiler, 8.9ms\n",
      "image 272/610 C:\\Users\\gnvca\\OneDrive\\Desktop\\JP\\model03S\\dataset\\images\\test\\IDRwNDFS4Ums6h.jpg: 352x416 (no detections), 7.6ms\n",
      "image 273/610 C:\\Users\\gnvca\\OneDrive\\Desktop\\JP\\model03S\\dataset\\images\\test\\IDRzREJ0U.jpg: 320x416 (no detections), 7.2ms\n",
      "image 274/610 C:\\Users\\gnvca\\OneDrive\\Desktop\\JP\\model03S\\dataset\\images\\test\\IDSDWaJR.jpg: 320x416 (no detections), 8.2ms\n",
      "image 275/610 C:\\Users\\gnvca\\OneDrive\\Desktop\\JP\\model03S\\dataset\\images\\test\\IDSHNDP8XmpZp.jpg: 320x416 2 panels, 7.7ms\n",
      "image 276/610 C:\\Users\\gnvca\\OneDrive\\Desktop\\JP\\model03S\\dataset\\images\\test\\IDSHRoiLi.jpg: 384x416 (no detections), 8.4ms\n",
      "image 277/610 C:\\Users\\gnvca\\OneDrive\\Desktop\\JP\\model03S\\dataset\\images\\test\\IDSKMDtnbUDRD.jpg: 416x352 (no detections), 7.7ms\n",
      "image 278/610 C:\\Users\\gnvca\\OneDrive\\Desktop\\JP\\model03S\\dataset\\images\\test\\IDSKMFBRTQGE.jpg: 416x352 (no detections), 7.9ms\n",
      "image 279/610 C:\\Users\\gnvca\\OneDrive\\Desktop\\JP\\model03S\\dataset\\images\\test\\IDSdXMUYUH.jpg: 416x416 (no detections), 7.8ms\n",
      "image 280/610 C:\\Users\\gnvca\\OneDrive\\Desktop\\JP\\model03S\\dataset\\images\\test\\IDShZu9Js.jpg: 320x416 (no detections), 6.8ms\n",
      "image 281/610 C:\\Users\\gnvca\\OneDrive\\Desktop\\JP\\model03S\\dataset\\images\\test\\IDSk7rs5l8G9v2.jpg: 320x416 2 panels, 8.4ms\n",
      "image 282/610 C:\\Users\\gnvca\\OneDrive\\Desktop\\JP\\model03S\\dataset\\images\\test\\IDSo6w5v.jpg: 320x416 1 panel, 10.7ms\n",
      "image 283/610 C:\\Users\\gnvca\\OneDrive\\Desktop\\JP\\model03S\\dataset\\images\\test\\IDStfdEbxYd.jpg: 320x416 (no detections), 12.2ms\n",
      "image 284/610 C:\\Users\\gnvca\\OneDrive\\Desktop\\JP\\model03S\\dataset\\images\\test\\IDSyBFg5ahi2s.jpg: 320x416 2 panels, 8.1ms\n",
      "image 285/610 C:\\Users\\gnvca\\OneDrive\\Desktop\\JP\\model03S\\dataset\\images\\test\\IDTUI0tfEI44oZ.jpg: 320x416 (no detections), 7.5ms\n",
      "image 286/610 C:\\Users\\gnvca\\OneDrive\\Desktop\\JP\\model03S\\dataset\\images\\test\\IDTbDpTKrjaIh3z.jpg: 320x416 2 panels, 8.9ms\n",
      "image 287/610 C:\\Users\\gnvca\\OneDrive\\Desktop\\JP\\model03S\\dataset\\images\\test\\IDTfrdUSHjNKBD.jpg: 416x416 (no detections), 11.2ms\n",
      "image 288/610 C:\\Users\\gnvca\\OneDrive\\Desktop\\JP\\model03S\\dataset\\images\\test\\IDTmoOZ1bjoVD.jpg: 416x416 (no detections), 10.4ms\n",
      "image 289/610 C:\\Users\\gnvca\\OneDrive\\Desktop\\JP\\model03S\\dataset\\images\\test\\IDToo60.jpg: 320x416 (no detections), 11.1ms\n",
      "image 290/610 C:\\Users\\gnvca\\OneDrive\\Desktop\\JP\\model03S\\dataset\\images\\test\\IDTpKuaEQSwF1c8mR.jpg: 320x416 2 panels, 7.9ms\n",
      "image 291/610 C:\\Users\\gnvca\\OneDrive\\Desktop\\JP\\model03S\\dataset\\images\\test\\IDTx3CNB.jpg: 320x416 4 panels, 7.8ms\n",
      "image 292/610 C:\\Users\\gnvca\\OneDrive\\Desktop\\JP\\model03S\\dataset\\images\\test\\IDU3qhE.jpg: 320x416 (no detections), 14.9ms\n",
      "image 293/610 C:\\Users\\gnvca\\OneDrive\\Desktop\\JP\\model03S\\dataset\\images\\test\\IDU51FfmI2Yga.jpg: 320x416 (no detections), 13.9ms\n",
      "image 294/610 C:\\Users\\gnvca\\OneDrive\\Desktop\\JP\\model03S\\dataset\\images\\test\\IDU7zqoA4lLMjzF.jpg: 384x416 1 boiler, 2 panels, 16.5ms\n",
      "image 295/610 C:\\Users\\gnvca\\OneDrive\\Desktop\\JP\\model03S\\dataset\\images\\test\\IDUEeKXbs7.jpg: 320x416 3 panels, 16.5ms\n",
      "image 296/610 C:\\Users\\gnvca\\OneDrive\\Desktop\\JP\\model03S\\dataset\\images\\test\\IDUVKx3K6UF.jpg: 320x416 3 panels, 7.1ms\n",
      "image 297/610 C:\\Users\\gnvca\\OneDrive\\Desktop\\JP\\model03S\\dataset\\images\\test\\IDUWHpFug6D.jpg: 384x416 (no detections), 7.4ms\n",
      "image 298/610 C:\\Users\\gnvca\\OneDrive\\Desktop\\JP\\model03S\\dataset\\images\\test\\IDUYiRw7fimJ2.jpg: 320x416 1 panel, 8.7ms\n",
      "image 299/610 C:\\Users\\gnvca\\OneDrive\\Desktop\\JP\\model03S\\dataset\\images\\test\\IDUYrRsKxKZ0.jpg: 320x416 1 panel, 7.7ms\n",
      "image 300/610 C:\\Users\\gnvca\\OneDrive\\Desktop\\JP\\model03S\\dataset\\images\\test\\IDUbn7n.jpg: 320x416 2 panels, 8.3ms\n",
      "image 301/610 C:\\Users\\gnvca\\OneDrive\\Desktop\\JP\\model03S\\dataset\\images\\test\\IDUgLOaYAZw7Y.jpg: 320x416 2 panels, 8.1ms\n",
      "image 302/610 C:\\Users\\gnvca\\OneDrive\\Desktop\\JP\\model03S\\dataset\\images\\test\\IDUjCf1TPa0lDF0.jpg: 352x416 1 boiler, 10.6ms\n",
      "image 303/610 C:\\Users\\gnvca\\OneDrive\\Desktop\\JP\\model03S\\dataset\\images\\test\\IDUmL07Pvtja.jpg: 320x416 2 panels, 10.1ms\n",
      "image 304/610 C:\\Users\\gnvca\\OneDrive\\Desktop\\JP\\model03S\\dataset\\images\\test\\IDUpWDxrBZj.jpg: 384x416 (no detections), 9.3ms\n",
      "image 305/610 C:\\Users\\gnvca\\OneDrive\\Desktop\\JP\\model03S\\dataset\\images\\test\\IDUvAtHezPXuH8.jpg: 384x416 (no detections), 9.3ms\n",
      "image 306/610 C:\\Users\\gnvca\\OneDrive\\Desktop\\JP\\model03S\\dataset\\images\\test\\IDV5b819nk3.jpg: 320x416 2 panels, 16.3ms\n",
      "image 307/610 C:\\Users\\gnvca\\OneDrive\\Desktop\\JP\\model03S\\dataset\\images\\test\\IDV6Prp.jpg: 416x288 1 boiler, 12.9ms\n",
      "image 308/610 C:\\Users\\gnvca\\OneDrive\\Desktop\\JP\\model03S\\dataset\\images\\test\\IDVD0icOvN8hC7.jpg: 320x416 (no detections), 16.3ms\n",
      "image 309/610 C:\\Users\\gnvca\\OneDrive\\Desktop\\JP\\model03S\\dataset\\images\\test\\IDVaYdxdFHdS1h.jpg: 320x416 2 panels, 15.2ms\n",
      "image 310/610 C:\\Users\\gnvca\\OneDrive\\Desktop\\JP\\model03S\\dataset\\images\\test\\IDVbR7Vebwu.jpg: 320x416 (no detections), 6.4ms\n",
      "image 311/610 C:\\Users\\gnvca\\OneDrive\\Desktop\\JP\\model03S\\dataset\\images\\test\\IDVbmB3.jpg: 320x416 2 panels, 8.8ms\n",
      "image 312/610 C:\\Users\\gnvca\\OneDrive\\Desktop\\JP\\model03S\\dataset\\images\\test\\IDVmjw5.jpg: 320x416 (no detections), 8.7ms\n",
      "image 313/610 C:\\Users\\gnvca\\OneDrive\\Desktop\\JP\\model03S\\dataset\\images\\test\\IDVrdvK65zz4b.jpg: 320x416 2 panels, 10.7ms\n",
      "image 314/610 C:\\Users\\gnvca\\OneDrive\\Desktop\\JP\\model03S\\dataset\\images\\test\\IDVuGVoxsUcvgVCZ.jpg: 320x416 1 panel, 9.8ms\n",
      "image 315/610 C:\\Users\\gnvca\\OneDrive\\Desktop\\JP\\model03S\\dataset\\images\\test\\IDW5ho4.jpg: 320x416 (no detections), 10.0ms\n",
      "image 316/610 C:\\Users\\gnvca\\OneDrive\\Desktop\\JP\\model03S\\dataset\\images\\test\\IDW7g3ooNM.jpg: 320x416 (no detections), 10.7ms\n",
      "image 317/610 C:\\Users\\gnvca\\OneDrive\\Desktop\\JP\\model03S\\dataset\\images\\test\\IDWBybjOUSc.jpg: 320x416 4 panels, 9.2ms\n",
      "image 318/610 C:\\Users\\gnvca\\OneDrive\\Desktop\\JP\\model03S\\dataset\\images\\test\\IDWfojlV8T2hfAko.jpg: 320x416 (no detections), 14.4ms\n",
      "image 319/610 C:\\Users\\gnvca\\OneDrive\\Desktop\\JP\\model03S\\dataset\\images\\test\\IDWmBzy.jpg: 320x416 (no detections), 14.5ms\n",
      "image 320/610 C:\\Users\\gnvca\\OneDrive\\Desktop\\JP\\model03S\\dataset\\images\\test\\IDWnGaN3M.jpg: 320x416 2 panels, 15.7ms\n",
      "image 321/610 C:\\Users\\gnvca\\OneDrive\\Desktop\\JP\\model03S\\dataset\\images\\test\\IDWqlvpElFGbjbMI.jpg: 320x416 2 panels, 6.9ms\n",
      "image 322/610 C:\\Users\\gnvca\\OneDrive\\Desktop\\JP\\model03S\\dataset\\images\\test\\IDWrAIulSIORr5UTk.jpg: 320x416 2 panels, 7.3ms\n",
      "image 323/610 C:\\Users\\gnvca\\OneDrive\\Desktop\\JP\\model03S\\dataset\\images\\test\\IDWs6I2kZKwkc.jpg: 320x416 (no detections), 8.5ms\n",
      "image 324/610 C:\\Users\\gnvca\\OneDrive\\Desktop\\JP\\model03S\\dataset\\images\\test\\IDWtfE4NSbL7G.jpg: 320x416 1 panel, 9.6ms\n",
      "image 325/610 C:\\Users\\gnvca\\OneDrive\\Desktop\\JP\\model03S\\dataset\\images\\test\\IDWwkwa.jpg: 320x416 2 panels, 9.5ms\n",
      "image 326/610 C:\\Users\\gnvca\\OneDrive\\Desktop\\JP\\model03S\\dataset\\images\\test\\IDX42MAbmNtFEvfw.jpg: 320x416 3 panels, 9.1ms\n",
      "image 327/610 C:\\Users\\gnvca\\OneDrive\\Desktop\\JP\\model03S\\dataset\\images\\test\\IDX64j361hiBE.jpg: 320x416 (no detections), 8.6ms\n",
      "image 328/610 C:\\Users\\gnvca\\OneDrive\\Desktop\\JP\\model03S\\dataset\\images\\test\\IDXMSuHstZ1vm2q1.jpg: 320x416 (no detections), 12.5ms\n",
      "image 329/610 C:\\Users\\gnvca\\OneDrive\\Desktop\\JP\\model03S\\dataset\\images\\test\\IDXNfvYm.jpg: 320x416 1 panel, 14.3ms\n",
      "image 330/610 C:\\Users\\gnvca\\OneDrive\\Desktop\\JP\\model03S\\dataset\\images\\test\\IDXNntIwQR3e41.jpg: 320x416 1 panel, 14.6ms\n",
      "image 331/610 C:\\Users\\gnvca\\OneDrive\\Desktop\\JP\\model03S\\dataset\\images\\test\\IDXWPSKPdN9EWKS.jpg: 320x416 (no detections), 8.6ms\n",
      "image 332/610 C:\\Users\\gnvca\\OneDrive\\Desktop\\JP\\model03S\\dataset\\images\\test\\IDXZ6z5ZjWVN.jpg: 320x416 3 panels, 7.4ms\n",
      "image 333/610 C:\\Users\\gnvca\\OneDrive\\Desktop\\JP\\model03S\\dataset\\images\\test\\IDXa1p902bBzeSU.jpg: 320x416 (no detections), 8.3ms\n",
      "image 334/610 C:\\Users\\gnvca\\OneDrive\\Desktop\\JP\\model03S\\dataset\\images\\test\\IDXa41VqhRVI.jpg: 320x416 2 panels, 8.5ms\n",
      "image 335/610 C:\\Users\\gnvca\\OneDrive\\Desktop\\JP\\model03S\\dataset\\images\\test\\IDXbm81DLM9.jpg: 416x352 (no detections), 9.4ms\n",
      "image 336/610 C:\\Users\\gnvca\\OneDrive\\Desktop\\JP\\model03S\\dataset\\images\\test\\IDXcrckENxOzo.jpg: 320x416 1 panel, 11.5ms\n",
      "image 337/610 C:\\Users\\gnvca\\OneDrive\\Desktop\\JP\\model03S\\dataset\\images\\test\\IDXdvDQ26BRZ.jpg: 320x416 2 panels, 10.4ms\n",
      "image 338/610 C:\\Users\\gnvca\\OneDrive\\Desktop\\JP\\model03S\\dataset\\images\\test\\IDXeDK6kTHPARf.jpg: 320x416 2 panels, 9.5ms\n",
      "image 339/610 C:\\Users\\gnvca\\OneDrive\\Desktop\\JP\\model03S\\dataset\\images\\test\\IDXi0gRswpYN28w.jpg: 320x416 1 panel, 11.1ms\n",
      "image 340/610 C:\\Users\\gnvca\\OneDrive\\Desktop\\JP\\model03S\\dataset\\images\\test\\IDXl430N.jpg: 320x416 2 panels, 13.0ms\n",
      "image 341/610 C:\\Users\\gnvca\\OneDrive\\Desktop\\JP\\model03S\\dataset\\images\\test\\IDXmhoCv1B9U.jpg: 320x416 1 panel, 14.9ms\n",
      "image 342/610 C:\\Users\\gnvca\\OneDrive\\Desktop\\JP\\model03S\\dataset\\images\\test\\IDXnud4y.jpg: 320x416 (no detections), 7.9ms\n",
      "image 343/610 C:\\Users\\gnvca\\OneDrive\\Desktop\\JP\\model03S\\dataset\\images\\test\\IDXq9fc.jpg: 320x416 1 panel, 7.9ms\n",
      "image 344/610 C:\\Users\\gnvca\\OneDrive\\Desktop\\JP\\model03S\\dataset\\images\\test\\IDXseZox.jpg: 320x416 1 panel, 8.5ms\n",
      "image 345/610 C:\\Users\\gnvca\\OneDrive\\Desktop\\JP\\model03S\\dataset\\images\\test\\IDXtnR9c.jpg: 320x416 4 panels, 9.2ms\n",
      "image 346/610 C:\\Users\\gnvca\\OneDrive\\Desktop\\JP\\model03S\\dataset\\images\\test\\IDXuUA8EPlb7yj.jpg: 320x416 2 panels, 9.8ms\n",
      "image 347/610 C:\\Users\\gnvca\\OneDrive\\Desktop\\JP\\model03S\\dataset\\images\\test\\IDY5hukAM0o5.jpg: 416x416 2 panels, 10.2ms\n",
      "image 348/610 C:\\Users\\gnvca\\OneDrive\\Desktop\\JP\\model03S\\dataset\\images\\test\\IDYCAiS.jpg: 320x416 1 panel, 10.0ms\n",
      "image 349/610 C:\\Users\\gnvca\\OneDrive\\Desktop\\JP\\model03S\\dataset\\images\\test\\IDYLiZ0nKfG.jpg: 320x416 1 panel, 10.0ms\n",
      "image 350/610 C:\\Users\\gnvca\\OneDrive\\Desktop\\JP\\model03S\\dataset\\images\\test\\IDYMPsLiST6YDlN.jpg: 320x416 (no detections), 11.0ms\n",
      "image 351/610 C:\\Users\\gnvca\\OneDrive\\Desktop\\JP\\model03S\\dataset\\images\\test\\IDYcM0C2O.jpg: 320x416 2 panels, 15.3ms\n",
      "image 352/610 C:\\Users\\gnvca\\OneDrive\\Desktop\\JP\\model03S\\dataset\\images\\test\\IDYlBH3E4N5I3Xgj.jpg: 320x416 2 panels, 13.0ms\n",
      "image 353/610 C:\\Users\\gnvca\\OneDrive\\Desktop\\JP\\model03S\\dataset\\images\\test\\IDYmfACB0i6fPlUg4.jpg: 320x416 2 panels, 14.6ms\n",
      "image 354/610 C:\\Users\\gnvca\\OneDrive\\Desktop\\JP\\model03S\\dataset\\images\\test\\IDYmqr50ZsSD.jpg: 320x416 2 panels, 9.3ms\n",
      "image 355/610 C:\\Users\\gnvca\\OneDrive\\Desktop\\JP\\model03S\\dataset\\images\\test\\IDYuddO78r7PK.jpg: 320x416 (no detections), 7.3ms\n",
      "image 356/610 C:\\Users\\gnvca\\OneDrive\\Desktop\\JP\\model03S\\dataset\\images\\test\\IDZ34k8AiZZ.jpg: 320x416 2 panels, 9.8ms\n",
      "image 357/610 C:\\Users\\gnvca\\OneDrive\\Desktop\\JP\\model03S\\dataset\\images\\test\\IDZG5bgoefkxLf.jpg: 320x416 (no detections), 9.2ms\n",
      "image 358/610 C:\\Users\\gnvca\\OneDrive\\Desktop\\JP\\model03S\\dataset\\images\\test\\IDZGbrMho.jpg: 320x416 1 panel, 9.0ms\n",
      "image 359/610 C:\\Users\\gnvca\\OneDrive\\Desktop\\JP\\model03S\\dataset\\images\\test\\IDZKXE1t65Y.jpg: 416x416 (no detections), 10.5ms\n",
      "image 360/610 C:\\Users\\gnvca\\OneDrive\\Desktop\\JP\\model03S\\dataset\\images\\test\\IDZMI33Io0V4l.jpg: 320x416 (no detections), 10.4ms\n",
      "image 361/610 C:\\Users\\gnvca\\OneDrive\\Desktop\\JP\\model03S\\dataset\\images\\test\\IDZWrhTJ.jpg: 320x416 2 panels, 8.8ms\n",
      "image 362/610 C:\\Users\\gnvca\\OneDrive\\Desktop\\JP\\model03S\\dataset\\images\\test\\IDZaQOa2q.jpg: 320x416 2 panels, 8.8ms\n",
      "image 363/610 C:\\Users\\gnvca\\OneDrive\\Desktop\\JP\\model03S\\dataset\\images\\test\\IDZg7AWnv8EENg.jpg: 320x416 2 panels, 10.5ms\n",
      "image 364/610 C:\\Users\\gnvca\\OneDrive\\Desktop\\JP\\model03S\\dataset\\images\\test\\IDZm68p4RhBRC.jpg: 320x416 2 panels, 14.6ms\n",
      "image 365/610 C:\\Users\\gnvca\\OneDrive\\Desktop\\JP\\model03S\\dataset\\images\\test\\IDZoRFcz13MymeBxi.jpg: 320x416 (no detections), 15.0ms\n",
      "image 366/610 C:\\Users\\gnvca\\OneDrive\\Desktop\\JP\\model03S\\dataset\\images\\test\\IDZxIqr7mDJQrkGHk.jpg: 320x416 1 panel, 6.9ms\n",
      "image 367/610 C:\\Users\\gnvca\\OneDrive\\Desktop\\JP\\model03S\\dataset\\images\\test\\IDa0MgV.jpg: 416x416 (no detections), 7.2ms\n",
      "image 368/610 C:\\Users\\gnvca\\OneDrive\\Desktop\\JP\\model03S\\dataset\\images\\test\\IDa3Y3Z.jpg: 320x416 3 panels, 7.3ms\n",
      "image 369/610 C:\\Users\\gnvca\\OneDrive\\Desktop\\JP\\model03S\\dataset\\images\\test\\IDa6xmV.jpg: 320x416 3 panels, 6.3ms\n",
      "image 370/610 C:\\Users\\gnvca\\OneDrive\\Desktop\\JP\\model03S\\dataset\\images\\test\\IDa8e9hYoBmlLB.jpg: 320x416 2 panels, 7.9ms\n",
      "image 371/610 C:\\Users\\gnvca\\OneDrive\\Desktop\\JP\\model03S\\dataset\\images\\test\\IDaFand.jpg: 320x416 1 panel, 10.3ms\n",
      "image 372/610 C:\\Users\\gnvca\\OneDrive\\Desktop\\JP\\model03S\\dataset\\images\\test\\IDaTxf9u.jpg: 352x416 1 boiler, 9.3ms\n",
      "image 373/610 C:\\Users\\gnvca\\OneDrive\\Desktop\\JP\\model03S\\dataset\\images\\test\\IDaVHorK.jpg: 320x416 2 panels, 11.9ms\n",
      "image 374/610 C:\\Users\\gnvca\\OneDrive\\Desktop\\JP\\model03S\\dataset\\images\\test\\IDaotAYH.jpg: 320x416 2 panels, 7.5ms\n",
      "image 375/610 C:\\Users\\gnvca\\OneDrive\\Desktop\\JP\\model03S\\dataset\\images\\test\\IDaq6vn9WWILlMFNm.jpg: 320x416 2 panels, 10.1ms\n",
      "image 376/610 C:\\Users\\gnvca\\OneDrive\\Desktop\\JP\\model03S\\dataset\\images\\test\\IDaxshP0qBI6.jpg: 320x416 2 panels, 13.4ms\n",
      "image 377/610 C:\\Users\\gnvca\\OneDrive\\Desktop\\JP\\model03S\\dataset\\images\\test\\IDbV1Abdd9UIQUuND.jpg: 320x416 (no detections), 14.2ms\n",
      "image 378/610 C:\\Users\\gnvca\\OneDrive\\Desktop\\JP\\model03S\\dataset\\images\\test\\IDbVgc3KZM6BbqCOF.jpg: 320x416 (no detections), 7.7ms\n",
      "image 379/610 C:\\Users\\gnvca\\OneDrive\\Desktop\\JP\\model03S\\dataset\\images\\test\\IDbfHrAi.jpg: 320x416 (no detections), 8.6ms\n",
      "image 380/610 C:\\Users\\gnvca\\OneDrive\\Desktop\\JP\\model03S\\dataset\\images\\test\\IDbhETdv5zPNO.jpg: 320x416 2 panels, 7.7ms\n",
      "image 381/610 C:\\Users\\gnvca\\OneDrive\\Desktop\\JP\\model03S\\dataset\\images\\test\\IDbhilxNJLs.jpg: 320x416 (no detections), 8.0ms\n",
      "image 382/610 C:\\Users\\gnvca\\OneDrive\\Desktop\\JP\\model03S\\dataset\\images\\test\\IDbljFMPGAcgyi.jpg: 288x416 1 boiler, 7.6ms\n",
      "image 383/610 C:\\Users\\gnvca\\OneDrive\\Desktop\\JP\\model03S\\dataset\\images\\test\\IDbtaali7hpXGj.jpg: 320x416 (no detections), 8.8ms\n",
      "image 384/610 C:\\Users\\gnvca\\OneDrive\\Desktop\\JP\\model03S\\dataset\\images\\test\\IDbwPmzZOvNia1o8d.jpg: 320x416 1 panel, 9.5ms\n",
      "image 385/610 C:\\Users\\gnvca\\OneDrive\\Desktop\\JP\\model03S\\dataset\\images\\test\\IDcDU2tIW000.jpg: 320x416 1 panel, 10.3ms\n",
      "image 386/610 C:\\Users\\gnvca\\OneDrive\\Desktop\\JP\\model03S\\dataset\\images\\test\\IDcLUilKGx4k9Rl.jpg: 320x416 (no detections), 10.1ms\n",
      "image 387/610 C:\\Users\\gnvca\\OneDrive\\Desktop\\JP\\model03S\\dataset\\images\\test\\IDcQWlriLR6.jpg: 320x416 1 panel, 12.3ms\n",
      "image 388/610 C:\\Users\\gnvca\\OneDrive\\Desktop\\JP\\model03S\\dataset\\images\\test\\IDcRJzURDP5b.jpg: 384x416 (no detections), 14.5ms\n",
      "image 389/610 C:\\Users\\gnvca\\OneDrive\\Desktop\\JP\\model03S\\dataset\\images\\test\\IDd3yJe60.jpg: 352x416 1 panel, 11.0ms\n",
      "image 390/610 C:\\Users\\gnvca\\OneDrive\\Desktop\\JP\\model03S\\dataset\\images\\test\\IDd8f7No.jpg: 320x416 2 panels, 8.1ms\n",
      "image 391/610 C:\\Users\\gnvca\\OneDrive\\Desktop\\JP\\model03S\\dataset\\images\\test\\IDdJqDZffwBZB18S.jpg: 320x416 2 panels, 7.2ms\n",
      "image 392/610 C:\\Users\\gnvca\\OneDrive\\Desktop\\JP\\model03S\\dataset\\images\\test\\IDdPk70dfePjVGQwL.jpg: 320x416 (no detections), 7.5ms\n",
      "image 393/610 C:\\Users\\gnvca\\OneDrive\\Desktop\\JP\\model03S\\dataset\\images\\test\\IDdVZbPXPmNKBzmN.jpg: 320x416 2 panels, 7.6ms\n",
      "image 394/610 C:\\Users\\gnvca\\OneDrive\\Desktop\\JP\\model03S\\dataset\\images\\test\\IDdYpDQK35YmVxiz.jpg: 320x416 2 panels, 5.9ms\n",
      "image 395/610 C:\\Users\\gnvca\\OneDrive\\Desktop\\JP\\model03S\\dataset\\images\\test\\IDdYzjsyfbY98v.jpg: 352x416 (no detections), 7.4ms\n",
      "image 396/610 C:\\Users\\gnvca\\OneDrive\\Desktop\\JP\\model03S\\dataset\\images\\test\\IDdbqhUC.jpg: 384x416 1 panel, 7.0ms\n",
      "image 397/610 C:\\Users\\gnvca\\OneDrive\\Desktop\\JP\\model03S\\dataset\\images\\test\\IDdmZJPu0gH673ok.jpg: 256x416 (no detections), 6.5ms\n",
      "image 398/610 C:\\Users\\gnvca\\OneDrive\\Desktop\\JP\\model03S\\dataset\\images\\test\\IDdpVq8q2.jpg: 320x416 2 panels, 7.8ms\n",
      "image 399/610 C:\\Users\\gnvca\\OneDrive\\Desktop\\JP\\model03S\\dataset\\images\\test\\IDdzTLIqJQ6tp03je.jpg: 320x416 1 panel, 11.7ms\n",
      "image 400/610 C:\\Users\\gnvca\\OneDrive\\Desktop\\JP\\model03S\\dataset\\images\\test\\IDeLxKIHDh.jpg: 320x416 (no detections), 12.3ms\n",
      "image 401/610 C:\\Users\\gnvca\\OneDrive\\Desktop\\JP\\model03S\\dataset\\images\\test\\IDedbFBmenMzz88B.jpg: 320x416 1 panel, 14.0ms\n",
      "image 402/610 C:\\Users\\gnvca\\OneDrive\\Desktop\\JP\\model03S\\dataset\\images\\test\\IDehzV9SZQJr.jpg: 416x288 (no detections), 15.6ms\n",
      "image 403/610 C:\\Users\\gnvca\\OneDrive\\Desktop\\JP\\model03S\\dataset\\images\\test\\IDeu0Kplo2.jpg: 320x416 2 panels, 6.4ms\n",
      "image 404/610 C:\\Users\\gnvca\\OneDrive\\Desktop\\JP\\model03S\\dataset\\images\\test\\IDey1nmNk.jpg: 416x416 1 boiler, 6.4ms\n",
      "image 405/610 C:\\Users\\gnvca\\OneDrive\\Desktop\\JP\\model03S\\dataset\\images\\test\\IDf3zAzp7gOyroWX.jpg: 320x416 (no detections), 7.7ms\n",
      "image 406/610 C:\\Users\\gnvca\\OneDrive\\Desktop\\JP\\model03S\\dataset\\images\\test\\IDf8KwrTgu.jpg: 320x416 (no detections), 7.5ms\n",
      "image 407/610 C:\\Users\\gnvca\\OneDrive\\Desktop\\JP\\model03S\\dataset\\images\\test\\IDf8NDUQcBlyyUH5.jpg: 320x416 1 panel, 7.8ms\n",
      "image 408/610 C:\\Users\\gnvca\\OneDrive\\Desktop\\JP\\model03S\\dataset\\images\\test\\IDf9XvgoT9.jpg: 320x416 1 panel, 7.7ms\n",
      "image 409/610 C:\\Users\\gnvca\\OneDrive\\Desktop\\JP\\model03S\\dataset\\images\\test\\IDfCSo1w.jpg: 352x416 1 panel, 8.2ms\n",
      "image 410/610 C:\\Users\\gnvca\\OneDrive\\Desktop\\JP\\model03S\\dataset\\images\\test\\IDfJ1bYigu.jpg: 320x416 2 panels, 9.7ms\n",
      "image 411/610 C:\\Users\\gnvca\\OneDrive\\Desktop\\JP\\model03S\\dataset\\images\\test\\IDfWHM5t.jpg: 320x416 3 panels, 14.2ms\n",
      "image 412/610 C:\\Users\\gnvca\\OneDrive\\Desktop\\JP\\model03S\\dataset\\images\\test\\IDfZP6FBSpPts.jpg: 416x384 3 panels, 14.7ms\n",
      "image 413/610 C:\\Users\\gnvca\\OneDrive\\Desktop\\JP\\model03S\\dataset\\images\\test\\IDfjPE7j.jpg: 320x416 2 panels, 17.2ms\n",
      "image 414/610 C:\\Users\\gnvca\\OneDrive\\Desktop\\JP\\model03S\\dataset\\images\\test\\IDfnXmM.jpg: 320x416 2 panels, 9.3ms\n",
      "image 415/610 C:\\Users\\gnvca\\OneDrive\\Desktop\\JP\\model03S\\dataset\\images\\test\\IDfqAsw6S8IDD.jpg: 320x416 3 panels, 7.9ms\n",
      "image 416/610 C:\\Users\\gnvca\\OneDrive\\Desktop\\JP\\model03S\\dataset\\images\\test\\IDgCLVcj9VM.jpg: 320x416 (no detections), 7.4ms\n",
      "image 417/610 C:\\Users\\gnvca\\OneDrive\\Desktop\\JP\\model03S\\dataset\\images\\test\\IDgKuUtdtsj3.jpg: 320x416 1 panel, 7.8ms\n",
      "image 418/610 C:\\Users\\gnvca\\OneDrive\\Desktop\\JP\\model03S\\dataset\\images\\test\\IDgvPGnkSoMP7.jpg: 320x416 1 panel, 6.8ms\n",
      "image 419/610 C:\\Users\\gnvca\\OneDrive\\Desktop\\JP\\model03S\\dataset\\images\\test\\IDgxhWXCdpx3g0S.jpg: 320x416 1 panel, 7.4ms\n",
      "image 420/610 C:\\Users\\gnvca\\OneDrive\\Desktop\\JP\\model03S\\dataset\\images\\test\\IDh18Vgv9FxNjuZ.jpg: 320x416 (no detections), 12.4ms\n",
      "image 421/610 C:\\Users\\gnvca\\OneDrive\\Desktop\\JP\\model03S\\dataset\\images\\test\\IDh4rJhAJF8XMnic.jpg: 320x416 (no detections), 13.6ms\n",
      "image 422/610 C:\\Users\\gnvca\\OneDrive\\Desktop\\JP\\model03S\\dataset\\images\\test\\IDh66m80nRhClz.jpg: 320x416 (no detections), 14.2ms\n",
      "image 423/610 C:\\Users\\gnvca\\OneDrive\\Desktop\\JP\\model03S\\dataset\\images\\test\\IDhLICgRlqQU.jpg: 320x416 (no detections), 7.7ms\n",
      "image 424/610 C:\\Users\\gnvca\\OneDrive\\Desktop\\JP\\model03S\\dataset\\images\\test\\IDhOgopy8xAPIW.jpg: 320x416 2 panels, 8.9ms\n",
      "image 425/610 C:\\Users\\gnvca\\OneDrive\\Desktop\\JP\\model03S\\dataset\\images\\test\\IDhdwJIy.jpg: 320x416 (no detections), 8.0ms\n",
      "image 426/610 C:\\Users\\gnvca\\OneDrive\\Desktop\\JP\\model03S\\dataset\\images\\test\\IDhsuJ1KwIGt9L.jpg: 320x416 2 panels, 7.4ms\n",
      "image 427/610 C:\\Users\\gnvca\\OneDrive\\Desktop\\JP\\model03S\\dataset\\images\\test\\IDi2asjBSi.jpg: 320x416 2 panels, 8.0ms\n",
      "image 428/610 C:\\Users\\gnvca\\OneDrive\\Desktop\\JP\\model03S\\dataset\\images\\test\\IDiCV34K.jpg: 320x416 2 panels, 6.9ms\n",
      "image 429/610 C:\\Users\\gnvca\\OneDrive\\Desktop\\JP\\model03S\\dataset\\images\\test\\IDiD425yjLQwfv.jpg: 320x416 2 panels, 7.6ms\n",
      "image 430/610 C:\\Users\\gnvca\\OneDrive\\Desktop\\JP\\model03S\\dataset\\images\\test\\IDiE7LW5A4.jpg: 320x416 1 panel, 12.5ms\n",
      "image 431/610 C:\\Users\\gnvca\\OneDrive\\Desktop\\JP\\model03S\\dataset\\images\\test\\IDiGEMeVGmk13.jpg: 320x416 1 panel, 13.1ms\n",
      "image 432/610 C:\\Users\\gnvca\\OneDrive\\Desktop\\JP\\model03S\\dataset\\images\\test\\IDiKBnuplvPDALp.jpg: 320x416 3 panels, 11.8ms\n",
      "image 433/610 C:\\Users\\gnvca\\OneDrive\\Desktop\\JP\\model03S\\dataset\\images\\test\\IDiNQ6BuY.jpg: 320x416 2 panels, 7.8ms\n",
      "image 434/610 C:\\Users\\gnvca\\OneDrive\\Desktop\\JP\\model03S\\dataset\\images\\test\\IDiYb5z2B7B0vaHHE.jpg: 320x416 (no detections), 7.3ms\n",
      "image 435/610 C:\\Users\\gnvca\\OneDrive\\Desktop\\JP\\model03S\\dataset\\images\\test\\IDigxgBudDPzUbQ77.jpg: 320x416 1 panel, 7.1ms\n",
      "image 436/610 C:\\Users\\gnvca\\OneDrive\\Desktop\\JP\\model03S\\dataset\\images\\test\\IDinZQb.jpg: 320x416 2 panels, 6.3ms\n",
      "image 437/610 C:\\Users\\gnvca\\OneDrive\\Desktop\\JP\\model03S\\dataset\\images\\test\\IDj9Pw5.jpg: 320x416 3 panels, 5.7ms\n",
      "image 438/610 C:\\Users\\gnvca\\OneDrive\\Desktop\\JP\\model03S\\dataset\\images\\test\\IDjDr1jzO4.jpg: 320x416 1 panel, 13.5ms\n",
      "image 439/610 C:\\Users\\gnvca\\OneDrive\\Desktop\\JP\\model03S\\dataset\\images\\test\\IDjEywrpTdZMxMq9I.jpg: 320x416 2 panels, 13.0ms\n",
      "image 440/610 C:\\Users\\gnvca\\OneDrive\\Desktop\\JP\\model03S\\dataset\\images\\test\\IDjZPIokE0FS.jpg: 320x416 2 panels, 14.5ms\n",
      "image 441/610 C:\\Users\\gnvca\\OneDrive\\Desktop\\JP\\model03S\\dataset\\images\\test\\IDjcwhaI3A.jpg: 320x416 1 panel, 6.8ms\n",
      "image 442/610 C:\\Users\\gnvca\\OneDrive\\Desktop\\JP\\model03S\\dataset\\images\\test\\IDjn3tGMPcD.jpg: 320x416 (no detections), 8.1ms\n",
      "image 443/610 C:\\Users\\gnvca\\OneDrive\\Desktop\\JP\\model03S\\dataset\\images\\test\\IDjnHq8OT.jpg: 320x416 2 panels, 9.1ms\n",
      "image 444/610 C:\\Users\\gnvca\\OneDrive\\Desktop\\JP\\model03S\\dataset\\images\\test\\IDjrJBniBvXM.jpg: 320x416 2 panels, 7.1ms\n",
      "image 445/610 C:\\Users\\gnvca\\OneDrive\\Desktop\\JP\\model03S\\dataset\\images\\test\\IDk1ho2BctAy.jpg: 320x416 2 panels, 5.9ms\n",
      "image 446/610 C:\\Users\\gnvca\\OneDrive\\Desktop\\JP\\model03S\\dataset\\images\\test\\IDk3zJqZLUD.jpg: 320x416 (no detections), 6.7ms\n",
      "image 447/610 C:\\Users\\gnvca\\OneDrive\\Desktop\\JP\\model03S\\dataset\\images\\test\\IDkRTAYrOKc0z.jpg: 320x416 2 panels, 9.0ms\n",
      "image 448/610 C:\\Users\\gnvca\\OneDrive\\Desktop\\JP\\model03S\\dataset\\images\\test\\IDkbJQBfq2z2W.jpg: 320x416 1 panel, 11.6ms\n",
      "image 449/610 C:\\Users\\gnvca\\OneDrive\\Desktop\\JP\\model03S\\dataset\\images\\test\\IDkbMcPAxXA9J00.jpg: 320x416 2 panels, 14.9ms\n",
      "image 450/610 C:\\Users\\gnvca\\OneDrive\\Desktop\\JP\\model03S\\dataset\\images\\test\\IDkgS9POobQoe.jpg: 320x416 2 panels, 6.4ms\n",
      "image 451/610 C:\\Users\\gnvca\\OneDrive\\Desktop\\JP\\model03S\\dataset\\images\\test\\IDkl3C1I.jpg: 320x416 2 panels, 6.7ms\n",
      "image 452/610 C:\\Users\\gnvca\\OneDrive\\Desktop\\JP\\model03S\\dataset\\images\\test\\IDkuZQDBN.jpg: 320x416 1 panel, 7.7ms\n",
      "image 453/610 C:\\Users\\gnvca\\OneDrive\\Desktop\\JP\\model03S\\dataset\\images\\test\\IDkxxbno4ers1s.jpg: 320x416 2 panels, 8.6ms\n",
      "image 454/610 C:\\Users\\gnvca\\OneDrive\\Desktop\\JP\\model03S\\dataset\\images\\test\\IDl2nb8c.jpg: 320x416 2 panels, 7.4ms\n",
      "image 455/610 C:\\Users\\gnvca\\OneDrive\\Desktop\\JP\\model03S\\dataset\\images\\test\\IDl2odBX2.jpg: 352x416 (no detections), 8.1ms\n",
      "image 456/610 C:\\Users\\gnvca\\OneDrive\\Desktop\\JP\\model03S\\dataset\\images\\test\\IDl4J5DR.jpg: 320x416 3 panels, 9.3ms\n",
      "image 457/610 C:\\Users\\gnvca\\OneDrive\\Desktop\\JP\\model03S\\dataset\\images\\test\\IDlFLplwrHTH.jpg: 320x416 2 panels, 8.2ms\n",
      "image 458/610 C:\\Users\\gnvca\\OneDrive\\Desktop\\JP\\model03S\\dataset\\images\\test\\IDlKT5R4.jpg: 320x416 2 panels, 13.9ms\n",
      "image 459/610 C:\\Users\\gnvca\\OneDrive\\Desktop\\JP\\model03S\\dataset\\images\\test\\IDlSr23nLemIH.jpg: 320x416 2 panels, 13.4ms\n",
      "image 460/610 C:\\Users\\gnvca\\OneDrive\\Desktop\\JP\\model03S\\dataset\\images\\test\\IDlacvAc.jpg: 320x416 2 panels, 14.3ms\n",
      "image 461/610 C:\\Users\\gnvca\\OneDrive\\Desktop\\JP\\model03S\\dataset\\images\\test\\IDlfjIhoGdf3DK.jpg: 320x416 2 panels, 6.4ms\n",
      "image 462/610 C:\\Users\\gnvca\\OneDrive\\Desktop\\JP\\model03S\\dataset\\images\\test\\IDlk4focC6mcnONpT.jpg: 320x416 1 panel, 7.8ms\n",
      "image 463/610 C:\\Users\\gnvca\\OneDrive\\Desktop\\JP\\model03S\\dataset\\images\\test\\IDmAVd4kP1mttbFz.jpg: 416x416 1 boiler, 7.7ms\n",
      "image 464/610 C:\\Users\\gnvca\\OneDrive\\Desktop\\JP\\model03S\\dataset\\images\\test\\IDmBSME.jpg: 320x416 2 panels, 7.9ms\n",
      "image 465/610 C:\\Users\\gnvca\\OneDrive\\Desktop\\JP\\model03S\\dataset\\images\\test\\IDmD5IZ1p.jpg: 320x416 (no detections), 8.5ms\n",
      "image 466/610 C:\\Users\\gnvca\\OneDrive\\Desktop\\JP\\model03S\\dataset\\images\\test\\IDmE0stG478.jpg: 320x416 2 panels, 8.1ms\n",
      "image 467/610 C:\\Users\\gnvca\\OneDrive\\Desktop\\JP\\model03S\\dataset\\images\\test\\IDmHruOOZ.jpg: 320x416 2 panels, 9.3ms\n",
      "image 468/610 C:\\Users\\gnvca\\OneDrive\\Desktop\\JP\\model03S\\dataset\\images\\test\\IDmJmyjn7b.jpg: 320x416 1 panel, 8.4ms\n",
      "image 469/610 C:\\Users\\gnvca\\OneDrive\\Desktop\\JP\\model03S\\dataset\\images\\test\\IDn4QoD.jpg: 320x416 2 panels, 8.3ms\n",
      "image 470/610 C:\\Users\\gnvca\\OneDrive\\Desktop\\JP\\model03S\\dataset\\images\\test\\IDnDocH4j66X827bg.jpg: 320x416 1 panel, 8.8ms\n",
      "image 471/610 C:\\Users\\gnvca\\OneDrive\\Desktop\\JP\\model03S\\dataset\\images\\test\\IDnGiEwQCK.jpg: 320x416 (no detections), 11.5ms\n",
      "image 472/610 C:\\Users\\gnvca\\OneDrive\\Desktop\\JP\\model03S\\dataset\\images\\test\\IDnIIgYwp4gW.jpg: 320x416 1 panel, 11.1ms\n",
      "image 473/610 C:\\Users\\gnvca\\OneDrive\\Desktop\\JP\\model03S\\dataset\\images\\test\\IDnIm5hp.jpg: 320x416 1 panel, 8.4ms\n",
      "image 474/610 C:\\Users\\gnvca\\OneDrive\\Desktop\\JP\\model03S\\dataset\\images\\test\\IDnOurFqiUiQQ7hpb.jpg: 416x416 7 panels, 5.9ms\n",
      "image 475/610 C:\\Users\\gnvca\\OneDrive\\Desktop\\JP\\model03S\\dataset\\images\\test\\IDnPZRvE.jpg: 320x416 1 panel, 8.1ms\n",
      "image 476/610 C:\\Users\\gnvca\\OneDrive\\Desktop\\JP\\model03S\\dataset\\images\\test\\IDnV4LoOH8BPauO9.jpg: 320x416 3 panels, 7.1ms\n",
      "image 477/610 C:\\Users\\gnvca\\OneDrive\\Desktop\\JP\\model03S\\dataset\\images\\test\\IDnWdRUO9myUuX.jpg: 320x416 1 panel, 7.0ms\n",
      "image 478/610 C:\\Users\\gnvca\\OneDrive\\Desktop\\JP\\model03S\\dataset\\images\\test\\IDnbvLRw.jpg: 320x416 3 panels, 7.7ms\n",
      "image 479/610 C:\\Users\\gnvca\\OneDrive\\Desktop\\JP\\model03S\\dataset\\images\\test\\IDncXvJpffqs2.jpg: 320x416 (no detections), 6.9ms\n",
      "image 480/610 C:\\Users\\gnvca\\OneDrive\\Desktop\\JP\\model03S\\dataset\\images\\test\\IDo0Z7NzylvTVsWN.jpg: 320x416 1 panel, 8.3ms\n",
      "image 481/610 C:\\Users\\gnvca\\OneDrive\\Desktop\\JP\\model03S\\dataset\\images\\test\\IDo6DIodttVtoiXJa.jpg: 320x416 2 panels, 8.6ms\n",
      "image 482/610 C:\\Users\\gnvca\\OneDrive\\Desktop\\JP\\model03S\\dataset\\images\\test\\IDoHKukkZT0FMiPL.jpg: 320x416 1 panel, 14.4ms\n",
      "image 483/610 C:\\Users\\gnvca\\OneDrive\\Desktop\\JP\\model03S\\dataset\\images\\test\\IDoLIvzz5.jpg: 352x416 (no detections), 16.6ms\n",
      "image 484/610 C:\\Users\\gnvca\\OneDrive\\Desktop\\JP\\model03S\\dataset\\images\\test\\IDoMe8xQfEYihU.jpg: 320x416 2 panels, 16.1ms\n",
      "image 485/610 C:\\Users\\gnvca\\OneDrive\\Desktop\\JP\\model03S\\dataset\\images\\test\\IDoXwM2rYRs3.jpg: 416x416 1 panel, 16.4ms\n",
      "image 486/610 C:\\Users\\gnvca\\OneDrive\\Desktop\\JP\\model03S\\dataset\\images\\test\\IDoYoqaDKlQK1.jpg: 416x416 (no detections), 14.6ms\n",
      "image 487/610 C:\\Users\\gnvca\\OneDrive\\Desktop\\JP\\model03S\\dataset\\images\\test\\IDokogtFfJoHYn.jpg: 320x416 (no detections), 7.9ms\n",
      "image 488/610 C:\\Users\\gnvca\\OneDrive\\Desktop\\JP\\model03S\\dataset\\images\\test\\IDonszb.jpg: 352x416 (no detections), 8.9ms\n",
      "image 489/610 C:\\Users\\gnvca\\OneDrive\\Desktop\\JP\\model03S\\dataset\\images\\test\\IDoraBtvS.jpg: 288x416 (no detections), 10.5ms\n",
      "image 490/610 C:\\Users\\gnvca\\OneDrive\\Desktop\\JP\\model03S\\dataset\\images\\test\\IDoraxg8Ee.jpg: 320x416 2 panels, 6.7ms\n",
      "image 491/610 C:\\Users\\gnvca\\OneDrive\\Desktop\\JP\\model03S\\dataset\\images\\test\\IDorpGHY.jpg: 320x416 (no detections), 7.6ms\n",
      "image 492/610 C:\\Users\\gnvca\\OneDrive\\Desktop\\JP\\model03S\\dataset\\images\\test\\IDou4lYymj.jpg: 320x416 2 panels, 8.0ms\n",
      "image 493/610 C:\\Users\\gnvca\\OneDrive\\Desktop\\JP\\model03S\\dataset\\images\\test\\IDowmGyw2jEY.jpg: 320x416 (no detections), 7.4ms\n",
      "image 494/610 C:\\Users\\gnvca\\OneDrive\\Desktop\\JP\\model03S\\dataset\\images\\test\\IDp7kIVGOYAl.jpg: 320x416 1 panel, 6.4ms\n",
      "image 495/610 C:\\Users\\gnvca\\OneDrive\\Desktop\\JP\\model03S\\dataset\\images\\test\\IDpFOPv0Z.jpg: 320x416 (no detections), 7.0ms\n",
      "image 496/610 C:\\Users\\gnvca\\OneDrive\\Desktop\\JP\\model03S\\dataset\\images\\test\\IDpH0uJx7PuR83Z.jpg: 320x416 1 panel, 13.7ms\n",
      "image 497/610 C:\\Users\\gnvca\\OneDrive\\Desktop\\JP\\model03S\\dataset\\images\\test\\IDpJO8Z.jpg: 320x416 1 panel, 12.4ms\n",
      "image 498/610 C:\\Users\\gnvca\\OneDrive\\Desktop\\JP\\model03S\\dataset\\images\\test\\IDpL8mtIMHGjMT2yM.jpg: 320x416 2 panels, 11.8ms\n",
      "image 499/610 C:\\Users\\gnvca\\OneDrive\\Desktop\\JP\\model03S\\dataset\\images\\test\\IDpOiRB6.jpg: 320x416 2 panels, 7.1ms\n",
      "image 500/610 C:\\Users\\gnvca\\OneDrive\\Desktop\\JP\\model03S\\dataset\\images\\test\\IDpSndwKePEY2.jpg: 320x416 (no detections), 6.8ms\n",
      "image 501/610 C:\\Users\\gnvca\\OneDrive\\Desktop\\JP\\model03S\\dataset\\images\\test\\IDpStYxJdynlXN.jpg: 320x416 1 panel, 5.4ms\n",
      "image 502/610 C:\\Users\\gnvca\\OneDrive\\Desktop\\JP\\model03S\\dataset\\images\\test\\IDpTSbU.jpg: 416x416 2 panels, 6.8ms\n",
      "image 503/610 C:\\Users\\gnvca\\OneDrive\\Desktop\\JP\\model03S\\dataset\\images\\test\\IDpULunXPQowVtBF.jpg: 416x416 (no detections), 6.8ms\n",
      "image 504/610 C:\\Users\\gnvca\\OneDrive\\Desktop\\JP\\model03S\\dataset\\images\\test\\IDpUdTlDNBsyD.jpg: 320x416 2 panels, 9.9ms\n",
      "image 505/610 C:\\Users\\gnvca\\OneDrive\\Desktop\\JP\\model03S\\dataset\\images\\test\\IDpdEFFwF.jpg: 320x416 3 panels, 11.1ms\n",
      "image 506/610 C:\\Users\\gnvca\\OneDrive\\Desktop\\JP\\model03S\\dataset\\images\\test\\IDpeuYL.jpg: 320x416 2 panels, 10.9ms\n",
      "image 507/610 C:\\Users\\gnvca\\OneDrive\\Desktop\\JP\\model03S\\dataset\\images\\test\\IDpfZuH.jpg: 320x416 2 panels, 8.8ms\n",
      "image 508/610 C:\\Users\\gnvca\\OneDrive\\Desktop\\JP\\model03S\\dataset\\images\\test\\IDpjVvsdHAG9wVCIt.jpg: 384x416 1 boiler, 9.5ms\n",
      "image 509/610 C:\\Users\\gnvca\\OneDrive\\Desktop\\JP\\model03S\\dataset\\images\\test\\IDq3aLQL82mZ9xxA.jpg: 320x416 1 panel, 17.1ms\n",
      "image 510/610 C:\\Users\\gnvca\\OneDrive\\Desktop\\JP\\model03S\\dataset\\images\\test\\IDqFL46.jpg: 320x416 2 panels, 15.4ms\n",
      "image 511/610 C:\\Users\\gnvca\\OneDrive\\Desktop\\JP\\model03S\\dataset\\images\\test\\IDqFMNFDUxd5.jpg: 320x416 2 panels, 7.8ms\n",
      "image 512/610 C:\\Users\\gnvca\\OneDrive\\Desktop\\JP\\model03S\\dataset\\images\\test\\IDqNVGO0pATO6COnM.jpg: 320x416 (no detections), 7.7ms\n",
      "image 513/610 C:\\Users\\gnvca\\OneDrive\\Desktop\\JP\\model03S\\dataset\\images\\test\\IDqQAL3biXfdI0H.jpg: 320x416 3 panels, 9.2ms\n",
      "image 514/610 C:\\Users\\gnvca\\OneDrive\\Desktop\\JP\\model03S\\dataset\\images\\test\\IDqjbz6Ayr99ouwE.jpg: 320x416 (no detections), 7.8ms\n",
      "image 515/610 C:\\Users\\gnvca\\OneDrive\\Desktop\\JP\\model03S\\dataset\\images\\test\\IDqjnkLKI8IPM.jpg: 416x416 (no detections), 7.6ms\n",
      "image 516/610 C:\\Users\\gnvca\\OneDrive\\Desktop\\JP\\model03S\\dataset\\images\\test\\IDqoGB1nQjd4eLx.jpg: 320x416 1 panel, 7.9ms\n",
      "image 517/610 C:\\Users\\gnvca\\OneDrive\\Desktop\\JP\\model03S\\dataset\\images\\test\\IDqoPeENSILDNX6M.jpg: 320x416 2 panels, 7.3ms\n",
      "image 518/610 C:\\Users\\gnvca\\OneDrive\\Desktop\\JP\\model03S\\dataset\\images\\test\\IDqufDrHb.jpg: 320x416 (no detections), 13.8ms\n",
      "image 519/610 C:\\Users\\gnvca\\OneDrive\\Desktop\\JP\\model03S\\dataset\\images\\test\\IDr6YNcFvyykATPG.jpg: 320x416 2 panels, 14.3ms\n",
      "image 520/610 C:\\Users\\gnvca\\OneDrive\\Desktop\\JP\\model03S\\dataset\\images\\test\\IDr9vcvbRy.jpg: 384x416 1 boiler, 11.7ms\n",
      "image 521/610 C:\\Users\\gnvca\\OneDrive\\Desktop\\JP\\model03S\\dataset\\images\\test\\IDrBiI3qyySNs1x.jpg: 320x416 2 panels, 10.2ms\n",
      "image 522/610 C:\\Users\\gnvca\\OneDrive\\Desktop\\JP\\model03S\\dataset\\images\\test\\IDrUA3FYx5rQPg.jpg: 416x352 1 boiler, 8.0ms\n",
      "image 523/610 C:\\Users\\gnvca\\OneDrive\\Desktop\\JP\\model03S\\dataset\\images\\test\\IDrl0WZbNWRTmHo.jpg: 320x416 1 panel, 9.3ms\n",
      "image 524/610 C:\\Users\\gnvca\\OneDrive\\Desktop\\JP\\model03S\\dataset\\images\\test\\IDrsabcu.jpg: 320x416 2 panels, 8.4ms\n",
      "image 525/610 C:\\Users\\gnvca\\OneDrive\\Desktop\\JP\\model03S\\dataset\\images\\test\\IDsQo3HhORE4Rr3.jpg: 320x416 1 panel, 7.0ms\n",
      "image 526/610 C:\\Users\\gnvca\\OneDrive\\Desktop\\JP\\model03S\\dataset\\images\\test\\IDsYeRxrXVKXwBm.jpg: 320x416 (no detections), 9.6ms\n",
      "image 527/610 C:\\Users\\gnvca\\OneDrive\\Desktop\\JP\\model03S\\dataset\\images\\test\\IDshipErQsVEgIDs.jpg: 320x416 1 panel, 6.9ms\n",
      "image 528/610 C:\\Users\\gnvca\\OneDrive\\Desktop\\JP\\model03S\\dataset\\images\\test\\IDskQKzqkkn.jpg: 320x416 (no detections), 8.9ms\n",
      "image 529/610 C:\\Users\\gnvca\\OneDrive\\Desktop\\JP\\model03S\\dataset\\images\\test\\IDsm3KlZjy6MmXRF.jpg: 320x416 1 panel, 13.7ms\n",
      "image 530/610 C:\\Users\\gnvca\\OneDrive\\Desktop\\JP\\model03S\\dataset\\images\\test\\IDtMM2ZlZfn.jpg: 320x416 1 panel, 12.9ms\n",
      "image 531/610 C:\\Users\\gnvca\\OneDrive\\Desktop\\JP\\model03S\\dataset\\images\\test\\IDtRV37tOonDlhTKg.jpg: 320x416 (no detections), 14.9ms\n",
      "image 532/610 C:\\Users\\gnvca\\OneDrive\\Desktop\\JP\\model03S\\dataset\\images\\test\\IDtXRqhtVuiLr.jpg: 320x416 2 panels, 10.1ms\n",
      "image 533/610 C:\\Users\\gnvca\\OneDrive\\Desktop\\JP\\model03S\\dataset\\images\\test\\IDtY0gUo7YTNlSWJx.jpg: 320x416 1 panel, 9.2ms\n",
      "image 534/610 C:\\Users\\gnvca\\OneDrive\\Desktop\\JP\\model03S\\dataset\\images\\test\\IDtfiIWWn.jpg: 320x416 2 panels, 7.3ms\n",
      "image 535/610 C:\\Users\\gnvca\\OneDrive\\Desktop\\JP\\model03S\\dataset\\images\\test\\IDtfnMvZy.jpg: 320x416 (no detections), 7.9ms\n",
      "image 536/610 C:\\Users\\gnvca\\OneDrive\\Desktop\\JP\\model03S\\dataset\\images\\test\\IDtgIt9rSL51.jpg: 320x416 (no detections), 6.7ms\n",
      "image 537/610 C:\\Users\\gnvca\\OneDrive\\Desktop\\JP\\model03S\\dataset\\images\\test\\IDtuQctqIpAL3.jpg: 320x416 1 panel, 7.5ms\n",
      "image 538/610 C:\\Users\\gnvca\\OneDrive\\Desktop\\JP\\model03S\\dataset\\images\\test\\IDtw16B0G1MEZ.jpg: 416x256 2 boilers, 17.8ms\n",
      "image 539/610 C:\\Users\\gnvca\\OneDrive\\Desktop\\JP\\model03S\\dataset\\images\\test\\IDu1fkG.jpg: 320x416 (no detections), 9.0ms\n",
      "image 540/610 C:\\Users\\gnvca\\OneDrive\\Desktop\\JP\\model03S\\dataset\\images\\test\\IDu41NMdu4k5C1YE.jpg: 320x416 1 panel, 10.0ms\n",
      "image 541/610 C:\\Users\\gnvca\\OneDrive\\Desktop\\JP\\model03S\\dataset\\images\\test\\IDuDNG9Up67P.jpg: 320x416 (no detections), 10.0ms\n",
      "image 542/610 C:\\Users\\gnvca\\OneDrive\\Desktop\\JP\\model03S\\dataset\\images\\test\\IDuDUzcBjDUZTc.jpg: 320x416 (no detections), 10.3ms\n",
      "image 543/610 C:\\Users\\gnvca\\OneDrive\\Desktop\\JP\\model03S\\dataset\\images\\test\\IDuOz8aGm.jpg: 416x352 (no detections), 12.5ms\n",
      "image 544/610 C:\\Users\\gnvca\\OneDrive\\Desktop\\JP\\model03S\\dataset\\images\\test\\IDuRg7UUsZ.jpg: 320x416 (no detections), 9.2ms\n",
      "image 545/610 C:\\Users\\gnvca\\OneDrive\\Desktop\\JP\\model03S\\dataset\\images\\test\\IDuTYfFbCtUA7ip.jpg: 320x416 2 panels, 8.5ms\n",
      "image 546/610 C:\\Users\\gnvca\\OneDrive\\Desktop\\JP\\model03S\\dataset\\images\\test\\IDucnom45Wqo8A.jpg: 288x416 (no detections), 7.7ms\n",
      "image 547/610 C:\\Users\\gnvca\\OneDrive\\Desktop\\JP\\model03S\\dataset\\images\\test\\IDuisSydgTyz.jpg: 320x416 2 panels, 10.2ms\n",
      "image 548/610 C:\\Users\\gnvca\\OneDrive\\Desktop\\JP\\model03S\\dataset\\images\\test\\IDuuCCVqs.jpg: 320x416 2 panels, 10.8ms\n",
      "image 549/610 C:\\Users\\gnvca\\OneDrive\\Desktop\\JP\\model03S\\dataset\\images\\test\\IDv5DCKeVY.jpg: 320x416 (no detections), 6.7ms\n",
      "image 550/610 C:\\Users\\gnvca\\OneDrive\\Desktop\\JP\\model03S\\dataset\\images\\test\\IDvC4Vec.jpg: 320x416 (no detections), 6.7ms\n",
      "image 551/610 C:\\Users\\gnvca\\OneDrive\\Desktop\\JP\\model03S\\dataset\\images\\test\\IDvFD90cxQvhekHy.jpg: 320x416 (no detections), 7.9ms\n",
      "image 552/610 C:\\Users\\gnvca\\OneDrive\\Desktop\\JP\\model03S\\dataset\\images\\test\\IDvHQ2rki.jpg: 288x416 1 panel, 16.3ms\n",
      "image 553/610 C:\\Users\\gnvca\\OneDrive\\Desktop\\JP\\model03S\\dataset\\images\\test\\IDvM8FI8Zgk.jpg: 320x416 2 panels, 16.9ms\n",
      "image 554/610 C:\\Users\\gnvca\\OneDrive\\Desktop\\JP\\model03S\\dataset\\images\\test\\IDvU1lWA7vdmItv3I.jpg: 320x416 2 panels, 16.1ms\n",
      "image 555/610 C:\\Users\\gnvca\\OneDrive\\Desktop\\JP\\model03S\\dataset\\images\\test\\IDvWrjySa6m.jpg: 320x416 2 panels, 7.4ms\n",
      "image 556/610 C:\\Users\\gnvca\\OneDrive\\Desktop\\JP\\model03S\\dataset\\images\\test\\IDvdQW2lbX9x.jpg: 320x416 (no detections), 8.7ms\n",
      "image 557/610 C:\\Users\\gnvca\\OneDrive\\Desktop\\JP\\model03S\\dataset\\images\\test\\IDviV8GD89x.jpg: 320x416 5 panels, 8.3ms\n",
      "image 558/610 C:\\Users\\gnvca\\OneDrive\\Desktop\\JP\\model03S\\dataset\\images\\test\\IDvij8S.jpg: 384x416 1 boiler, 9.3ms\n",
      "image 559/610 C:\\Users\\gnvca\\OneDrive\\Desktop\\JP\\model03S\\dataset\\images\\test\\IDvjJCNSIF.jpg: 320x416 (no detections), 9.7ms\n",
      "image 560/610 C:\\Users\\gnvca\\OneDrive\\Desktop\\JP\\model03S\\dataset\\images\\test\\IDvkNDtDMKXqe7.jpg: 320x416 (no detections), 7.5ms\n",
      "image 561/610 C:\\Users\\gnvca\\OneDrive\\Desktop\\JP\\model03S\\dataset\\images\\test\\IDvqY71.jpg: 320x416 3 panels, 6.9ms\n",
      "image 562/610 C:\\Users\\gnvca\\OneDrive\\Desktop\\JP\\model03S\\dataset\\images\\test\\IDvrsRvum2jTIYCx.jpg: 320x416 2 panels, 7.7ms\n",
      "image 563/610 C:\\Users\\gnvca\\OneDrive\\Desktop\\JP\\model03S\\dataset\\images\\test\\IDvsb6bUrJaVf.jpg: 320x416 (no detections), 7.6ms\n",
      "image 564/610 C:\\Users\\gnvca\\OneDrive\\Desktop\\JP\\model03S\\dataset\\images\\test\\IDwAGrhGT.jpg: 320x416 2 panels, 10.2ms\n",
      "image 565/610 C:\\Users\\gnvca\\OneDrive\\Desktop\\JP\\model03S\\dataset\\images\\test\\IDwLgrluRSE5VCh.jpg: 320x416 2 panels, 14.7ms\n",
      "image 566/610 C:\\Users\\gnvca\\OneDrive\\Desktop\\JP\\model03S\\dataset\\images\\test\\IDwMkeD0WsYMe9hAv.jpg: 320x416 1 panel, 13.8ms\n",
      "image 567/610 C:\\Users\\gnvca\\OneDrive\\Desktop\\JP\\model03S\\dataset\\images\\test\\IDwNeLnHejeTAHl.jpg: 416x256 (no detections), 8.0ms\n",
      "image 568/610 C:\\Users\\gnvca\\OneDrive\\Desktop\\JP\\model03S\\dataset\\images\\test\\IDwRvJONAUcKfm1.jpg: 320x416 1 panel, 7.6ms\n",
      "image 569/610 C:\\Users\\gnvca\\OneDrive\\Desktop\\JP\\model03S\\dataset\\images\\test\\IDwbeChnfpyB.jpg: 320x416 2 panels, 7.1ms\n",
      "image 570/610 C:\\Users\\gnvca\\OneDrive\\Desktop\\JP\\model03S\\dataset\\images\\test\\IDwdIrT5.jpg: 320x416 (no detections), 7.2ms\n",
      "image 571/610 C:\\Users\\gnvca\\OneDrive\\Desktop\\JP\\model03S\\dataset\\images\\test\\IDwnMWzym2fzbmYw.jpg: 320x416 14 panels, 7.3ms\n",
      "image 572/610 C:\\Users\\gnvca\\OneDrive\\Desktop\\JP\\model03S\\dataset\\images\\test\\IDwpyvYRrs0cO.jpg: 320x416 1 panel, 6.9ms\n",
      "image 573/610 C:\\Users\\gnvca\\OneDrive\\Desktop\\JP\\model03S\\dataset\\images\\test\\IDwqjsZz9yM.jpg: 384x416 1 boiler, 7.0ms\n",
      "image 574/610 C:\\Users\\gnvca\\OneDrive\\Desktop\\JP\\model03S\\dataset\\images\\test\\IDwswbKMapQY2zy.jpg: 320x416 1 panel, 9.0ms\n",
      "image 575/610 C:\\Users\\gnvca\\OneDrive\\Desktop\\JP\\model03S\\dataset\\images\\test\\IDwyZkX6ryQkz.jpg: 320x416 (no detections), 7.0ms\n",
      "image 576/610 C:\\Users\\gnvca\\OneDrive\\Desktop\\JP\\model03S\\dataset\\images\\test\\IDx9fKxfFvcxUV.jpg: 320x416 2 panels, 6.9ms\n",
      "image 577/610 C:\\Users\\gnvca\\OneDrive\\Desktop\\JP\\model03S\\dataset\\images\\test\\IDxHlyx5.jpg: 320x416 (no detections), 11.2ms\n",
      "image 578/610 C:\\Users\\gnvca\\OneDrive\\Desktop\\JP\\model03S\\dataset\\images\\test\\IDxJongi.jpg: 320x416 (no detections), 14.9ms\n",
      "image 579/610 C:\\Users\\gnvca\\OneDrive\\Desktop\\JP\\model03S\\dataset\\images\\test\\IDxPyRMvM5rCRj8.jpg: 256x416 (no detections), 16.6ms\n",
      "image 580/610 C:\\Users\\gnvca\\OneDrive\\Desktop\\JP\\model03S\\dataset\\images\\test\\IDxWMOpKI.jpg: 320x416 2 panels, 16.4ms\n",
      "image 581/610 C:\\Users\\gnvca\\OneDrive\\Desktop\\JP\\model03S\\dataset\\images\\test\\IDxediC1.jpg: 320x416 (no detections), 9.2ms\n",
      "image 582/610 C:\\Users\\gnvca\\OneDrive\\Desktop\\JP\\model03S\\dataset\\images\\test\\IDxhNOllJtrrPJSi.jpg: 320x416 1 panel, 7.4ms\n",
      "image 583/610 C:\\Users\\gnvca\\OneDrive\\Desktop\\JP\\model03S\\dataset\\images\\test\\IDxmWR7HYoZO.jpg: 320x416 2 panels, 9.6ms\n",
      "image 584/610 C:\\Users\\gnvca\\OneDrive\\Desktop\\JP\\model03S\\dataset\\images\\test\\IDxtmVOg0MJT3p3G.jpg: 320x416 2 panels, 10.2ms\n",
      "image 585/610 C:\\Users\\gnvca\\OneDrive\\Desktop\\JP\\model03S\\dataset\\images\\test\\IDxuDq9FNa.jpg: 320x416 1 panel, 8.2ms\n",
      "image 586/610 C:\\Users\\gnvca\\OneDrive\\Desktop\\JP\\model03S\\dataset\\images\\test\\IDxwdbl2g3VB.jpg: 320x416 1 panel, 7.2ms\n",
      "image 587/610 C:\\Users\\gnvca\\OneDrive\\Desktop\\JP\\model03S\\dataset\\images\\test\\IDy6zs0MDx.jpg: 320x416 1 panel, 9.8ms\n",
      "image 588/610 C:\\Users\\gnvca\\OneDrive\\Desktop\\JP\\model03S\\dataset\\images\\test\\IDyDKeg.jpg: 320x416 3 panels, 14.6ms\n",
      "image 589/610 C:\\Users\\gnvca\\OneDrive\\Desktop\\JP\\model03S\\dataset\\images\\test\\IDyDicK.jpg: 320x416 (no detections), 7.0ms\n",
      "image 590/610 C:\\Users\\gnvca\\OneDrive\\Desktop\\JP\\model03S\\dataset\\images\\test\\IDyFhbGpja8.jpg: 256x416 3 panels, 9.2ms\n",
      "image 591/610 C:\\Users\\gnvca\\OneDrive\\Desktop\\JP\\model03S\\dataset\\images\\test\\IDyJieK.jpg: 320x416 3 panels, 11.1ms\n",
      "image 592/610 C:\\Users\\gnvca\\OneDrive\\Desktop\\JP\\model03S\\dataset\\images\\test\\IDySM43V45hEB8.jpg: 320x416 2 panels, 13.5ms\n",
      "image 593/610 C:\\Users\\gnvca\\OneDrive\\Desktop\\JP\\model03S\\dataset\\images\\test\\IDyUBXMRoVDxa.jpg: 416x320 1 boiler, 14.5ms\n",
      "image 594/610 C:\\Users\\gnvca\\OneDrive\\Desktop\\JP\\model03S\\dataset\\images\\test\\IDyV2hRcH6Z3.jpg: 320x416 1 boiler, 17.1ms\n",
      "image 595/610 C:\\Users\\gnvca\\OneDrive\\Desktop\\JP\\model03S\\dataset\\images\\test\\IDyYow8sU7.jpg: 256x416 (no detections), 18.0ms\n",
      "image 596/610 C:\\Users\\gnvca\\OneDrive\\Desktop\\JP\\model03S\\dataset\\images\\test\\IDydmvBdIj.jpg: 320x416 (no detections), 16.5ms\n",
      "image 597/610 C:\\Users\\gnvca\\OneDrive\\Desktop\\JP\\model03S\\dataset\\images\\test\\IDyjw3R.jpg: 320x416 1 panel, 6.3ms\n",
      "image 598/610 C:\\Users\\gnvca\\OneDrive\\Desktop\\JP\\model03S\\dataset\\images\\test\\IDymRvYTSJfd1tO.jpg: 320x416 (no detections), 6.8ms\n",
      "image 599/610 C:\\Users\\gnvca\\OneDrive\\Desktop\\JP\\model03S\\dataset\\images\\test\\IDysSrZTeM0Ea.jpg: 320x416 2 panels, 6.8ms\n",
      "image 600/610 C:\\Users\\gnvca\\OneDrive\\Desktop\\JP\\model03S\\dataset\\images\\test\\IDz3eqL6X.jpg: 320x416 (no detections), 7.9ms\n",
      "image 601/610 C:\\Users\\gnvca\\OneDrive\\Desktop\\JP\\model03S\\dataset\\images\\test\\IDz5TrdOzFSG.jpg: 320x416 2 panels, 8.6ms\n",
      "image 602/610 C:\\Users\\gnvca\\OneDrive\\Desktop\\JP\\model03S\\dataset\\images\\test\\IDzAK258es.jpg: 416x384 (no detections), 8.9ms\n",
      "image 603/610 C:\\Users\\gnvca\\OneDrive\\Desktop\\JP\\model03S\\dataset\\images\\test\\IDzMZjQ.jpg: 320x416 (no detections), 10.6ms\n",
      "image 604/610 C:\\Users\\gnvca\\OneDrive\\Desktop\\JP\\model03S\\dataset\\images\\test\\IDzOL1MNb7Lffogeo.jpg: 320x416 (no detections), 7.8ms\n",
      "image 605/610 C:\\Users\\gnvca\\OneDrive\\Desktop\\JP\\model03S\\dataset\\images\\test\\IDzPBQwqZo292Bb.jpg: 320x416 2 panels, 9.1ms\n",
      "image 606/610 C:\\Users\\gnvca\\OneDrive\\Desktop\\JP\\model03S\\dataset\\images\\test\\IDzZc384CPwIfO.jpg: 384x416 1 boiler, 9.9ms\n",
      "image 607/610 C:\\Users\\gnvca\\OneDrive\\Desktop\\JP\\model03S\\dataset\\images\\test\\IDzaUuik1u5aOQt9.jpg: 224x416 (no detections), 9.0ms\n",
      "image 608/610 C:\\Users\\gnvca\\OneDrive\\Desktop\\JP\\model03S\\dataset\\images\\test\\IDzf69w.jpg: 320x416 2 panels, 14.5ms\n",
      "image 609/610 C:\\Users\\gnvca\\OneDrive\\Desktop\\JP\\model03S\\dataset\\images\\test\\IDzhZHIVNgMueq.jpg: 320x416 1 panel, 14.1ms\n",
      "image 610/610 C:\\Users\\gnvca\\OneDrive\\Desktop\\JP\\model03S\\dataset\\images\\test\\IDzqcSSdAsnN.jpg: 352x416 1 panel, 17.0ms\n",
      "Speed: 1.4ms preprocess, 10.1ms inference, 1.6ms postprocess per image at shape (1, 3, 352, 416)\n",
      "Total images processed: 610\n"
     ]
    }
   ],
   "source": [
    "from ultralytics import YOLO\n",
    "import pandas as pd\n",
    "import os\n",
    "\n",
    "# Load trained model\n",
    "model = YOLO(\"runs/detect/train_safe4/weights/best.pt\")\n",
    "\n",
    "# Run inference on test images\n",
    "results = list(model.predict(source=r\"C:\\Users\\gnvca\\OneDrive\\Desktop\\JP\\model03S\\dataset\\images\\test\", save=False))\n",
    "\n",
    "# Debug: Check if results exist\n",
    "print(\"Total images processed:\", len(results))\n",
    "if len(results) == 0:\n",
    "    print(\"⚠️ No images processed! Check your dataset path.\")\n",
    "    \n"
   ]
  },
  {
   "cell_type": "code",
   "execution_count": null,
   "metadata": {},
   "outputs": [],
   "source": [
    "# Store results\n",
    "rows = []\n",
    "\n",
    "for result in results:\n",
    "    image_id = os.path.splitext(os.path.basename(result.path))[0]  # Get filename without extension\n",
    "    class_ids = result.boxes.cls.int().tolist()\n",
    "    \n",
    "    boiler_count = class_ids.count(0)  # assuming 'boiler' = class 0\n",
    "    panel_count = class_ids.count(1)   # assuming 'panel' = class 1\n",
    "    \n",
    "    # Append each class as a separate row\n",
    "    rows.append({\"ID\": f\"{image_id}_boil\", \"Target\": boiler_count})\n",
    "    rows.append({\"ID\": f\"{image_id}_pan\", \"Target\": panel_count})\n",
    "\n",
    "# Debug: Check if rows are being created\n",
    "print(\"First 5 rows:\", rows[:5])\n",
    "\n",
    "# Create DataFrame and save CSV\n",
    "df = pd.DataFrame(rows)\n",
    "\n",
    "# If dataframe is empty, print a warning\n",
    "if df.empty:\n",
    "    print(\"⚠️ WARNING: DataFrame is empty! Check your detection logic.\")\n",
    "\n",
    "df.to_csv(\"test_detection_counts.csv\", index=False)\n",
    "print(\"✅ CSV saved as 'test_detection_counts.csv'\")\n"
   ]
  },
  {
   "cell_type": "code",
   "execution_count": 1,
   "metadata": {},
   "outputs": [
    {
     "name": "stdout",
     "output_type": "stream",
     "text": [
      "✅ Found 1107 test images.\n",
      "\n",
      "\n",
      "WARNING  inference results will accumulate in RAM unless `stream=True` is passed, causing potential out-of-memory\n",
      "errors for large sources or long-running streams and videos. See https://docs.ultralytics.com/modes/predict/ for help.\n",
      "\n",
      "Example:\n",
      "    results = model(source=..., stream=True)  # generator of Results objects\n",
      "    for r in results:\n",
      "        boxes = r.boxes  # Boxes object for bbox outputs\n",
      "        masks = r.masks  # Masks object for segment masks outputs\n",
      "        probs = r.probs  # Class probabilities for classification outputs\n",
      "\n",
      "image 1/1107 C:\\Users\\gnvca\\OneDrive\\Desktop\\JP\\model03S\\dataset\\images\\test\\ID00qprY.jpg: 320x416 2 panels, 30.4ms\n",
      "image 2/1107 C:\\Users\\gnvca\\OneDrive\\Desktop\\JP\\model03S\\dataset\\images\\test\\ID01AciUc.jpg: 320x416 2 panels, 5.4ms\n",
      "image 3/1107 C:\\Users\\gnvca\\OneDrive\\Desktop\\JP\\model03S\\dataset\\images\\test\\ID0328D.jpg: 320x416 1 panel, 5.8ms\n",
      "image 4/1107 C:\\Users\\gnvca\\OneDrive\\Desktop\\JP\\model03S\\dataset\\images\\test\\ID05WxObCFTs9.jpg: 320x416 2 panels, 7.0ms\n",
      "image 5/1107 C:\\Users\\gnvca\\OneDrive\\Desktop\\JP\\model03S\\dataset\\images\\test\\ID06AdCmLMlkO.jpg: 416x384 (no detections), 26.7ms\n",
      "image 6/1107 C:\\Users\\gnvca\\OneDrive\\Desktop\\JP\\model03S\\dataset\\images\\test\\ID0BTVyh4.jpg: 320x416 2 panels, 5.8ms\n",
      "image 7/1107 C:\\Users\\gnvca\\OneDrive\\Desktop\\JP\\model03S\\dataset\\images\\test\\ID0FBDllOkNS3A.jpg: 320x416 (no detections), 6.1ms\n",
      "image 8/1107 C:\\Users\\gnvca\\OneDrive\\Desktop\\JP\\model03S\\dataset\\images\\test\\ID0FjL0VeJuPBW.jpg: 128x416 1 boiler, 27.1ms\n",
      "image 9/1107 C:\\Users\\gnvca\\OneDrive\\Desktop\\JP\\model03S\\dataset\\images\\test\\ID0HlRCFE5wCBkWP.jpg: 320x416 2 panels, 6.0ms\n",
      "image 10/1107 C:\\Users\\gnvca\\OneDrive\\Desktop\\JP\\model03S\\dataset\\images\\test\\ID0IovKJW.jpg: 320x416 1 panel, 5.5ms\n",
      "image 11/1107 C:\\Users\\gnvca\\OneDrive\\Desktop\\JP\\model03S\\dataset\\images\\test\\ID0LpXkRA81X.jpg: 320x416 (no detections), 6.2ms\n",
      "image 12/1107 C:\\Users\\gnvca\\OneDrive\\Desktop\\JP\\model03S\\dataset\\images\\test\\ID0M63kKZ55.jpg: 320x416 2 panels, 6.3ms\n",
      "image 13/1107 C:\\Users\\gnvca\\OneDrive\\Desktop\\JP\\model03S\\dataset\\images\\test\\ID0QsFWsyFqZdx.jpg: 320x416 2 panels, 5.4ms\n",
      "image 14/1107 C:\\Users\\gnvca\\OneDrive\\Desktop\\JP\\model03S\\dataset\\images\\test\\ID0SfCD.jpg: 320x416 (no detections), 6.0ms\n",
      "image 15/1107 C:\\Users\\gnvca\\OneDrive\\Desktop\\JP\\model03S\\dataset\\images\\test\\ID0akoJsfedXprL.jpg: 320x416 (no detections), 5.2ms\n",
      "image 16/1107 C:\\Users\\gnvca\\OneDrive\\Desktop\\JP\\model03S\\dataset\\images\\test\\ID0dJJPCYanXEalJ.jpg: 320x416 2 panels, 5.4ms\n",
      "image 17/1107 C:\\Users\\gnvca\\OneDrive\\Desktop\\JP\\model03S\\dataset\\images\\test\\ID0dfmojB.jpg: 320x416 1 panel, 5.7ms\n",
      "image 18/1107 C:\\Users\\gnvca\\OneDrive\\Desktop\\JP\\model03S\\dataset\\images\\test\\ID0e6159wkv90z.jpg: 320x416 (no detections), 5.6ms\n",
      "image 19/1107 C:\\Users\\gnvca\\OneDrive\\Desktop\\JP\\model03S\\dataset\\images\\test\\ID0kB33brV.jpg: 320x416 4 panels, 5.8ms\n",
      "image 20/1107 C:\\Users\\gnvca\\OneDrive\\Desktop\\JP\\model03S\\dataset\\images\\test\\ID0maWjURTmcAjqi.jpg: 320x416 1 panel, 5.6ms\n",
      "image 21/1107 C:\\Users\\gnvca\\OneDrive\\Desktop\\JP\\model03S\\dataset\\images\\test\\ID0pTyIRodXkgwhM.jpg: 320x416 2 panels, 6.0ms\n",
      "image 22/1107 C:\\Users\\gnvca\\OneDrive\\Desktop\\JP\\model03S\\dataset\\images\\test\\ID0vKQKW.jpg: 416x416 2 panels, 6.2ms\n",
      "image 23/1107 C:\\Users\\gnvca\\OneDrive\\Desktop\\JP\\model03S\\dataset\\images\\test\\ID0yctFiI9JXoazy.jpg: 320x416 2 panels, 6.4ms\n",
      "image 24/1107 C:\\Users\\gnvca\\OneDrive\\Desktop\\JP\\model03S\\dataset\\images\\test\\ID149tZzT8.jpg: 416x416 (no detections), 5.8ms\n",
      "image 25/1107 C:\\Users\\gnvca\\OneDrive\\Desktop\\JP\\model03S\\dataset\\images\\test\\ID1AfoHXF.jpg: 416x384 (no detections), 6.4ms\n",
      "image 26/1107 C:\\Users\\gnvca\\OneDrive\\Desktop\\JP\\model03S\\dataset\\images\\test\\ID1KYfDfr0L.jpg: 320x416 (no detections), 5.9ms\n",
      "image 27/1107 C:\\Users\\gnvca\\OneDrive\\Desktop\\JP\\model03S\\dataset\\images\\test\\ID1LA6Rx8qCyZcTO.jpg: 320x416 4 panels, 5.4ms\n",
      "image 28/1107 C:\\Users\\gnvca\\OneDrive\\Desktop\\JP\\model03S\\dataset\\images\\test\\ID1TOo3.jpg: 352x416 1 panel, 29.6ms\n",
      "image 29/1107 C:\\Users\\gnvca\\OneDrive\\Desktop\\JP\\model03S\\dataset\\images\\test\\ID1UlsomrqgKDofZC.jpg: 320x416 1 panel, 5.5ms\n",
      "image 30/1107 C:\\Users\\gnvca\\OneDrive\\Desktop\\JP\\model03S\\dataset\\images\\test\\ID1eo7z.jpg: 320x416 2 panels, 11.2ms\n",
      "image 31/1107 C:\\Users\\gnvca\\OneDrive\\Desktop\\JP\\model03S\\dataset\\images\\test\\ID1jkyzBoflp4.jpg: 256x416 (no detections), 26.6ms\n",
      "image 32/1107 C:\\Users\\gnvca\\OneDrive\\Desktop\\JP\\model03S\\dataset\\images\\test\\ID1k2a9nf.jpg: 320x416 2 panels, 6.3ms\n",
      "image 33/1107 C:\\Users\\gnvca\\OneDrive\\Desktop\\JP\\model03S\\dataset\\images\\test\\ID1kuxucbsbCX.jpg: 416x416 1 boiler, 5.5ms\n",
      "image 34/1107 C:\\Users\\gnvca\\OneDrive\\Desktop\\JP\\model03S\\dataset\\images\\test\\ID1lAVUHzhMkn1P.jpg: 320x416 2 panels, 5.9ms\n",
      "image 35/1107 C:\\Users\\gnvca\\OneDrive\\Desktop\\JP\\model03S\\dataset\\images\\test\\ID1notv9fSD.jpg: 320x416 2 panels, 5.9ms\n",
      "image 36/1107 C:\\Users\\gnvca\\OneDrive\\Desktop\\JP\\model03S\\dataset\\images\\test\\ID1qhxezGRD.jpg: 320x416 1 panel, 6.3ms\n",
      "image 37/1107 C:\\Users\\gnvca\\OneDrive\\Desktop\\JP\\model03S\\dataset\\images\\test\\ID1qlZeCi.jpg: 320x416 2 panels, 5.8ms\n",
      "image 38/1107 C:\\Users\\gnvca\\OneDrive\\Desktop\\JP\\model03S\\dataset\\images\\test\\ID1skciQI3zi.jpg: 320x416 2 panels, 5.4ms\n",
      "image 39/1107 C:\\Users\\gnvca\\OneDrive\\Desktop\\JP\\model03S\\dataset\\images\\test\\ID1uweyu0Fyd8eq.jpg: 320x416 (no detections), 5.9ms\n",
      "image 40/1107 C:\\Users\\gnvca\\OneDrive\\Desktop\\JP\\model03S\\dataset\\images\\test\\ID1wP4IBH.jpg: 320x416 2 panels, 5.3ms\n",
      "image 41/1107 C:\\Users\\gnvca\\OneDrive\\Desktop\\JP\\model03S\\dataset\\images\\test\\ID1xuupS.jpg: 320x416 (no detections), 11.1ms\n",
      "image 42/1107 C:\\Users\\gnvca\\OneDrive\\Desktop\\JP\\model03S\\dataset\\images\\test\\ID21UQAbBk8nQG.jpg: 416x384 (no detections), 5.6ms\n",
      "image 43/1107 C:\\Users\\gnvca\\OneDrive\\Desktop\\JP\\model03S\\dataset\\images\\test\\ID21zmyIZ.jpg: 320x416 2 panels, 6.6ms\n",
      "image 44/1107 C:\\Users\\gnvca\\OneDrive\\Desktop\\JP\\model03S\\dataset\\images\\test\\ID25pMSm.jpg: 416x288 1 boiler, 28.2ms\n",
      "image 45/1107 C:\\Users\\gnvca\\OneDrive\\Desktop\\JP\\model03S\\dataset\\images\\test\\ID280v0XHbkDu.jpg: 416x352 1 boiler, 27.4ms\n",
      "image 46/1107 C:\\Users\\gnvca\\OneDrive\\Desktop\\JP\\model03S\\dataset\\images\\test\\ID2Is7fwj.jpg: 416x416 5 panels, 5.7ms\n",
      "image 47/1107 C:\\Users\\gnvca\\OneDrive\\Desktop\\JP\\model03S\\dataset\\images\\test\\ID2KZruU0L.jpg: 320x416 2 panels, 6.2ms\n",
      "image 48/1107 C:\\Users\\gnvca\\OneDrive\\Desktop\\JP\\model03S\\dataset\\images\\test\\ID2NSkOIUD6F.jpg: 320x416 2 panels, 5.7ms\n",
      "image 49/1107 C:\\Users\\gnvca\\OneDrive\\Desktop\\JP\\model03S\\dataset\\images\\test\\ID2PBo8gc6VGiXtQ.jpg: 320x416 1 panel, 6.6ms\n",
      "image 50/1107 C:\\Users\\gnvca\\OneDrive\\Desktop\\JP\\model03S\\dataset\\images\\test\\ID2QAeip.jpg: 320x416 2 panels, 6.3ms\n",
      "image 51/1107 C:\\Users\\gnvca\\OneDrive\\Desktop\\JP\\model03S\\dataset\\images\\test\\ID2Usl1ezSfbOV.jpg: 320x416 1 panel, 6.5ms\n",
      "image 52/1107 C:\\Users\\gnvca\\OneDrive\\Desktop\\JP\\model03S\\dataset\\images\\test\\ID2Wk3tg.jpg: 320x416 2 panels, 5.6ms\n",
      "image 53/1107 C:\\Users\\gnvca\\OneDrive\\Desktop\\JP\\model03S\\dataset\\images\\test\\ID2axpqnxH.jpg: 320x416 1 panel, 5.5ms\n",
      "image 54/1107 C:\\Users\\gnvca\\OneDrive\\Desktop\\JP\\model03S\\dataset\\images\\test\\ID2nlz2h06bDG.jpg: 320x416 3 panels, 6.0ms\n",
      "image 55/1107 C:\\Users\\gnvca\\OneDrive\\Desktop\\JP\\model03S\\dataset\\images\\test\\ID2oDIOfQM.jpg: 320x416 2 panels, 7.7ms\n",
      "image 56/1107 C:\\Users\\gnvca\\OneDrive\\Desktop\\JP\\model03S\\dataset\\images\\test\\ID2r8ZX2S.jpg: 384x416 3 panels, 27.0ms\n",
      "image 57/1107 C:\\Users\\gnvca\\OneDrive\\Desktop\\JP\\model03S\\dataset\\images\\test\\ID2s8DzB.jpg: 320x416 1 panel, 6.6ms\n",
      "image 58/1107 C:\\Users\\gnvca\\OneDrive\\Desktop\\JP\\model03S\\dataset\\images\\test\\ID2tvAPl755je.jpg: 320x416 (no detections), 5.6ms\n",
      "image 59/1107 C:\\Users\\gnvca\\OneDrive\\Desktop\\JP\\model03S\\dataset\\images\\test\\ID2uOtEx5AComN.jpg: 320x416 (no detections), 6.2ms\n",
      "image 60/1107 C:\\Users\\gnvca\\OneDrive\\Desktop\\JP\\model03S\\dataset\\images\\test\\ID30cTFRtDKdCwt1g.jpg: 320x416 1 panel, 7.1ms\n",
      "image 61/1107 C:\\Users\\gnvca\\OneDrive\\Desktop\\JP\\model03S\\dataset\\images\\test\\ID34JQo9q.jpg: 320x416 (no detections), 5.8ms\n",
      "image 62/1107 C:\\Users\\gnvca\\OneDrive\\Desktop\\JP\\model03S\\dataset\\images\\test\\ID3B1TvjBAtZ.jpg: 320x416 1 panel, 6.7ms\n",
      "image 63/1107 C:\\Users\\gnvca\\OneDrive\\Desktop\\JP\\model03S\\dataset\\images\\test\\ID3BPzU27w4.jpg: 320x416 2 panels, 5.8ms\n",
      "image 64/1107 C:\\Users\\gnvca\\OneDrive\\Desktop\\JP\\model03S\\dataset\\images\\test\\ID3E40hHStriUb.jpg: 320x416 2 panels, 7.0ms\n",
      "image 65/1107 C:\\Users\\gnvca\\OneDrive\\Desktop\\JP\\model03S\\dataset\\images\\test\\ID3LA0B23P.jpg: 320x416 1 panel, 5.2ms\n",
      "image 66/1107 C:\\Users\\gnvca\\OneDrive\\Desktop\\JP\\model03S\\dataset\\images\\test\\ID3QPGZolA0.jpg: 320x416 2 panels, 6.2ms\n",
      "image 67/1107 C:\\Users\\gnvca\\OneDrive\\Desktop\\JP\\model03S\\dataset\\images\\test\\ID3WVgGW.jpg: 416x416 11 panels, 6.2ms\n",
      "image 68/1107 C:\\Users\\gnvca\\OneDrive\\Desktop\\JP\\model03S\\dataset\\images\\test\\ID3Wec8l8Ne04DBv9.jpg: 320x416 2 panels, 6.0ms\n",
      "image 69/1107 C:\\Users\\gnvca\\OneDrive\\Desktop\\JP\\model03S\\dataset\\images\\test\\ID3aifRIFQ6nHq9.jpg: 416x416 (no detections), 5.6ms\n",
      "image 70/1107 C:\\Users\\gnvca\\OneDrive\\Desktop\\JP\\model03S\\dataset\\images\\test\\ID3cyqj3A1Qk6M2.jpg: 320x416 2 panels, 5.6ms\n",
      "image 71/1107 C:\\Users\\gnvca\\OneDrive\\Desktop\\JP\\model03S\\dataset\\images\\test\\ID3erWfTEn7rif.jpg: 416x384 (no detections), 6.1ms\n",
      "image 72/1107 C:\\Users\\gnvca\\OneDrive\\Desktop\\JP\\model03S\\dataset\\images\\test\\ID3hrW9feaz.jpg: 352x416 1 panel, 7.1ms\n",
      "image 73/1107 C:\\Users\\gnvca\\OneDrive\\Desktop\\JP\\model03S\\dataset\\images\\test\\ID3mLkiA7p.jpg: 320x416 (no detections), 6.6ms\n",
      "image 74/1107 C:\\Users\\gnvca\\OneDrive\\Desktop\\JP\\model03S\\dataset\\images\\test\\ID3n9EVi0llJ7EM3s.jpg: 320x416 2 panels, 6.1ms\n",
      "image 75/1107 C:\\Users\\gnvca\\OneDrive\\Desktop\\JP\\model03S\\dataset\\images\\test\\ID3s9sjV8xT5X.jpg: 416x384 1 boiler, 5.6ms\n",
      "image 76/1107 C:\\Users\\gnvca\\OneDrive\\Desktop\\JP\\model03S\\dataset\\images\\test\\ID3tIq1bkaQ.jpg: 320x416 2 panels, 5.5ms\n",
      "image 77/1107 C:\\Users\\gnvca\\OneDrive\\Desktop\\JP\\model03S\\dataset\\images\\test\\ID3uDELCzq4.jpg: 320x416 2 panels, 6.1ms\n",
      "image 78/1107 C:\\Users\\gnvca\\OneDrive\\Desktop\\JP\\model03S\\dataset\\images\\test\\ID3x9YCn6MPHhlmMo.jpg: 416x256 (no detections), 27.6ms\n",
      "image 79/1107 C:\\Users\\gnvca\\OneDrive\\Desktop\\JP\\model03S\\dataset\\images\\test\\ID3yHUh0Wttnr.jpg: 192x416 (no detections), 26.0ms\n",
      "image 80/1107 C:\\Users\\gnvca\\OneDrive\\Desktop\\JP\\model03S\\dataset\\images\\test\\ID42tOOiIotmRy0.jpg: 352x416 (no detections), 6.5ms\n",
      "image 81/1107 C:\\Users\\gnvca\\OneDrive\\Desktop\\JP\\model03S\\dataset\\images\\test\\ID45O5fV3wG.jpg: 320x416 (no detections), 6.3ms\n",
      "image 82/1107 C:\\Users\\gnvca\\OneDrive\\Desktop\\JP\\model03S\\dataset\\images\\test\\ID46sh8.jpg: 320x416 (no detections), 5.7ms\n",
      "image 83/1107 C:\\Users\\gnvca\\OneDrive\\Desktop\\JP\\model03S\\dataset\\images\\test\\ID48zxdPnfjasS3Pi.jpg: 416x416 (no detections), 5.8ms\n",
      "image 84/1107 C:\\Users\\gnvca\\OneDrive\\Desktop\\JP\\model03S\\dataset\\images\\test\\ID4AjyKo8SB1TJ.jpg: 320x416 2 panels, 10.1ms\n",
      "image 85/1107 C:\\Users\\gnvca\\OneDrive\\Desktop\\JP\\model03S\\dataset\\images\\test\\ID4BTGu06JgRCk.jpg: 352x416 1 panel, 5.9ms\n",
      "image 86/1107 C:\\Users\\gnvca\\OneDrive\\Desktop\\JP\\model03S\\dataset\\images\\test\\ID4FmGrOlF.jpg: 416x320 1 panel, 26.4ms\n",
      "image 87/1107 C:\\Users\\gnvca\\OneDrive\\Desktop\\JP\\model03S\\dataset\\images\\test\\ID4GwXAW.jpg: 288x416 (no detections), 26.8ms\n",
      "image 88/1107 C:\\Users\\gnvca\\OneDrive\\Desktop\\JP\\model03S\\dataset\\images\\test\\ID4NemgMB11bSb9.jpg: 320x416 (no detections), 7.9ms\n",
      "image 89/1107 C:\\Users\\gnvca\\OneDrive\\Desktop\\JP\\model03S\\dataset\\images\\test\\ID4RZf8Ki7SoRyJ6Y.jpg: 320x416 (no detections), 5.6ms\n",
      "image 90/1107 C:\\Users\\gnvca\\OneDrive\\Desktop\\JP\\model03S\\dataset\\images\\test\\ID4Xpq78V9x.jpg: 320x416 2 panels, 5.9ms\n",
      "image 91/1107 C:\\Users\\gnvca\\OneDrive\\Desktop\\JP\\model03S\\dataset\\images\\test\\ID4YS79CEQBMm0.jpg: 320x416 2 panels, 5.5ms\n",
      "image 92/1107 C:\\Users\\gnvca\\OneDrive\\Desktop\\JP\\model03S\\dataset\\images\\test\\ID4gP1vqI9UEK7.jpg: 384x416 1 boiler, 6.2ms\n",
      "image 93/1107 C:\\Users\\gnvca\\OneDrive\\Desktop\\JP\\model03S\\dataset\\images\\test\\ID4hHdF.jpg: 320x416 3 panels, 6.2ms\n",
      "image 94/1107 C:\\Users\\gnvca\\OneDrive\\Desktop\\JP\\model03S\\dataset\\images\\test\\ID4hsD2T4SXBdWqC.jpg: 320x416 3 panels, 5.7ms\n",
      "image 95/1107 C:\\Users\\gnvca\\OneDrive\\Desktop\\JP\\model03S\\dataset\\images\\test\\ID59ss5ITEqj.jpg: 320x416 2 panels, 5.3ms\n",
      "image 96/1107 C:\\Users\\gnvca\\OneDrive\\Desktop\\JP\\model03S\\dataset\\images\\test\\ID5A2pknRjBPe.jpg: 320x416 (no detections), 6.4ms\n",
      "image 97/1107 C:\\Users\\gnvca\\OneDrive\\Desktop\\JP\\model03S\\dataset\\images\\test\\ID5E46mKII2JUA.jpg: 320x416 2 panels, 5.6ms\n",
      "image 98/1107 C:\\Users\\gnvca\\OneDrive\\Desktop\\JP\\model03S\\dataset\\images\\test\\ID5RIE9trNeQg.jpg: 320x416 (no detections), 5.2ms\n",
      "image 99/1107 C:\\Users\\gnvca\\OneDrive\\Desktop\\JP\\model03S\\dataset\\images\\test\\ID5UIL7hL6xi.jpg: 320x416 2 panels, 7.5ms\n",
      "image 100/1107 C:\\Users\\gnvca\\OneDrive\\Desktop\\JP\\model03S\\dataset\\images\\test\\ID5Zjm6.jpg: 320x416 (no detections), 5.8ms\n",
      "image 101/1107 C:\\Users\\gnvca\\OneDrive\\Desktop\\JP\\model03S\\dataset\\images\\test\\ID5aiY1PY.jpg: 320x416 (no detections), 10.5ms\n",
      "image 102/1107 C:\\Users\\gnvca\\OneDrive\\Desktop\\JP\\model03S\\dataset\\images\\test\\ID5gX9PQE1XTCp.jpg: 320x416 2 panels, 9.7ms\n",
      "image 103/1107 C:\\Users\\gnvca\\OneDrive\\Desktop\\JP\\model03S\\dataset\\images\\test\\ID5qmLQznmh.jpg: 320x416 2 panels, 4.9ms\n",
      "image 104/1107 C:\\Users\\gnvca\\OneDrive\\Desktop\\JP\\model03S\\dataset\\images\\test\\ID5t4CyIa.jpg: 320x416 2 panels, 7.5ms\n",
      "image 105/1107 C:\\Users\\gnvca\\OneDrive\\Desktop\\JP\\model03S\\dataset\\images\\test\\ID5wdl1i5WnfHw0e.jpg: 320x416 2 panels, 6.2ms\n",
      "image 106/1107 C:\\Users\\gnvca\\OneDrive\\Desktop\\JP\\model03S\\dataset\\images\\test\\ID5ztbQO98jYM1.jpg: 320x416 2 panels, 6.1ms\n",
      "image 107/1107 C:\\Users\\gnvca\\OneDrive\\Desktop\\JP\\model03S\\dataset\\images\\test\\ID60SNTt4ERPpYb.jpg: 320x416 2 panels, 5.8ms\n",
      "image 108/1107 C:\\Users\\gnvca\\OneDrive\\Desktop\\JP\\model03S\\dataset\\images\\test\\ID60iDhll.jpg: 416x416 (no detections), 7.3ms\n",
      "image 109/1107 C:\\Users\\gnvca\\OneDrive\\Desktop\\JP\\model03S\\dataset\\images\\test\\ID6BhyM.jpg: 320x416 2 panels, 7.5ms\n",
      "image 110/1107 C:\\Users\\gnvca\\OneDrive\\Desktop\\JP\\model03S\\dataset\\images\\test\\ID6C6ZEKIa.jpg: 320x416 (no detections), 6.4ms\n",
      "image 111/1107 C:\\Users\\gnvca\\OneDrive\\Desktop\\JP\\model03S\\dataset\\images\\test\\ID6EZbm.jpg: 384x416 (no detections), 5.5ms\n",
      "image 112/1107 C:\\Users\\gnvca\\OneDrive\\Desktop\\JP\\model03S\\dataset\\images\\test\\ID6HvC2m.jpg: 320x416 2 panels, 11.3ms\n",
      "image 113/1107 C:\\Users\\gnvca\\OneDrive\\Desktop\\JP\\model03S\\dataset\\images\\test\\ID6QoOFcqqXQka.jpg: 320x416 (no detections), 5.7ms\n",
      "image 114/1107 C:\\Users\\gnvca\\OneDrive\\Desktop\\JP\\model03S\\dataset\\images\\test\\ID6XKuAUn.jpg: 320x416 3 panels, 5.5ms\n",
      "image 115/1107 C:\\Users\\gnvca\\OneDrive\\Desktop\\JP\\model03S\\dataset\\images\\test\\ID6ehyza6aUtEcc.jpg: 320x416 1 panel, 9.6ms\n",
      "image 116/1107 C:\\Users\\gnvca\\OneDrive\\Desktop\\JP\\model03S\\dataset\\images\\test\\ID6fWEVe4R.jpg: 320x416 (no detections), 5.3ms\n",
      "image 117/1107 C:\\Users\\gnvca\\OneDrive\\Desktop\\JP\\model03S\\dataset\\images\\test\\ID6hpUWcKjjLP3.jpg: 320x416 1 panel, 6.5ms\n",
      "image 118/1107 C:\\Users\\gnvca\\OneDrive\\Desktop\\JP\\model03S\\dataset\\images\\test\\ID6pgJ5ahtEptUmj.jpg: 320x416 1 panel, 5.7ms\n",
      "image 119/1107 C:\\Users\\gnvca\\OneDrive\\Desktop\\JP\\model03S\\dataset\\images\\test\\ID6sEsRrUWq.jpg: 320x416 2 panels, 5.5ms\n",
      "image 120/1107 C:\\Users\\gnvca\\OneDrive\\Desktop\\JP\\model03S\\dataset\\images\\test\\ID6sz5aWe3WR.jpg: 320x416 (no detections), 9.4ms\n",
      "image 121/1107 C:\\Users\\gnvca\\OneDrive\\Desktop\\JP\\model03S\\dataset\\images\\test\\ID74ovPp.jpg: 320x416 2 panels, 6.6ms\n",
      "image 122/1107 C:\\Users\\gnvca\\OneDrive\\Desktop\\JP\\model03S\\dataset\\images\\test\\ID77OsZw9zZRUrSz.jpg: 320x416 (no detections), 6.3ms\n",
      "image 123/1107 C:\\Users\\gnvca\\OneDrive\\Desktop\\JP\\model03S\\dataset\\images\\test\\ID78Mkj4.jpg: 416x416 (no detections), 7.0ms\n",
      "image 124/1107 C:\\Users\\gnvca\\OneDrive\\Desktop\\JP\\model03S\\dataset\\images\\test\\ID7HWix.jpg: 352x416 2 boilers, 5.8ms\n",
      "image 125/1107 C:\\Users\\gnvca\\OneDrive\\Desktop\\JP\\model03S\\dataset\\images\\test\\ID7L7OGWB5rB5MJ.jpg: 320x416 2 panels, 6.4ms\n",
      "image 126/1107 C:\\Users\\gnvca\\OneDrive\\Desktop\\JP\\model03S\\dataset\\images\\test\\ID7MX2yBHV.jpg: 320x416 1 panel, 5.7ms\n",
      "image 127/1107 C:\\Users\\gnvca\\OneDrive\\Desktop\\JP\\model03S\\dataset\\images\\test\\ID7Z6gH3yEPaL.jpg: 320x416 (no detections), 8.5ms\n",
      "image 128/1107 C:\\Users\\gnvca\\OneDrive\\Desktop\\JP\\model03S\\dataset\\images\\test\\ID7b1mG.jpg: 320x416 1 panel, 7.1ms\n",
      "image 129/1107 C:\\Users\\gnvca\\OneDrive\\Desktop\\JP\\model03S\\dataset\\images\\test\\ID7bP8IwegsS.jpg: 320x416 2 panels, 6.2ms\n",
      "image 130/1107 C:\\Users\\gnvca\\OneDrive\\Desktop\\JP\\model03S\\dataset\\images\\test\\ID7dJcTxJ4Oq.jpg: 320x416 (no detections), 6.9ms\n",
      "image 131/1107 C:\\Users\\gnvca\\OneDrive\\Desktop\\JP\\model03S\\dataset\\images\\test\\ID7f3TT.jpg: 320x416 2 panels, 7.3ms\n",
      "image 132/1107 C:\\Users\\gnvca\\OneDrive\\Desktop\\JP\\model03S\\dataset\\images\\test\\ID7fxOa.jpg: 320x416 1 panel, 7.2ms\n",
      "image 133/1107 C:\\Users\\gnvca\\OneDrive\\Desktop\\JP\\model03S\\dataset\\images\\test\\ID7h045Y4C.jpg: 320x416 1 panel, 6.1ms\n",
      "image 134/1107 C:\\Users\\gnvca\\OneDrive\\Desktop\\JP\\model03S\\dataset\\images\\test\\ID7jcUYkolAU.jpg: 320x416 1 panel, 6.8ms\n",
      "image 135/1107 C:\\Users\\gnvca\\OneDrive\\Desktop\\JP\\model03S\\dataset\\images\\test\\ID7kdr8yU1.jpg: 416x416 16 panels, 8.3ms\n",
      "image 136/1107 C:\\Users\\gnvca\\OneDrive\\Desktop\\JP\\model03S\\dataset\\images\\test\\ID7q8XHg.jpg: 320x416 (no detections), 17.0ms\n",
      "image 137/1107 C:\\Users\\gnvca\\OneDrive\\Desktop\\JP\\model03S\\dataset\\images\\test\\ID81h1LnSPzqDc.jpg: 416x416 (no detections), 9.4ms\n",
      "image 138/1107 C:\\Users\\gnvca\\OneDrive\\Desktop\\JP\\model03S\\dataset\\images\\test\\ID82kUBG2ED.jpg: 320x416 1 panel, 11.2ms\n",
      "image 139/1107 C:\\Users\\gnvca\\OneDrive\\Desktop\\JP\\model03S\\dataset\\images\\test\\ID8BiiEb7kT5eHA.jpg: 384x416 (no detections), 11.6ms\n",
      "image 140/1107 C:\\Users\\gnvca\\OneDrive\\Desktop\\JP\\model03S\\dataset\\images\\test\\ID8JMYnMhdYd.jpg: 320x416 2 panels, 11.9ms\n",
      "image 141/1107 C:\\Users\\gnvca\\OneDrive\\Desktop\\JP\\model03S\\dataset\\images\\test\\ID8M0KobldT.jpg: 320x416 2 panels, 10.0ms\n",
      "image 142/1107 C:\\Users\\gnvca\\OneDrive\\Desktop\\JP\\model03S\\dataset\\images\\test\\ID8MnZuMJYOxg.jpg: 320x416 2 panels, 10.3ms\n",
      "image 143/1107 C:\\Users\\gnvca\\OneDrive\\Desktop\\JP\\model03S\\dataset\\images\\test\\ID8NL5ONYqWOo.jpg: 320x416 (no detections), 9.7ms\n",
      "image 144/1107 C:\\Users\\gnvca\\OneDrive\\Desktop\\JP\\model03S\\dataset\\images\\test\\ID8WF3R9.jpg: 352x416 1 boiler, 11.3ms\n",
      "image 145/1107 C:\\Users\\gnvca\\OneDrive\\Desktop\\JP\\model03S\\dataset\\images\\test\\ID8Y8mUy.jpg: 320x416 (no detections), 8.9ms\n",
      "image 146/1107 C:\\Users\\gnvca\\OneDrive\\Desktop\\JP\\model03S\\dataset\\images\\test\\ID8ZfY76DoOBe8.jpg: 416x384 6 panels, 9.5ms\n",
      "image 147/1107 C:\\Users\\gnvca\\OneDrive\\Desktop\\JP\\model03S\\dataset\\images\\test\\ID8dajtQf.jpg: 416x352 (no detections), 14.2ms\n",
      "image 148/1107 C:\\Users\\gnvca\\OneDrive\\Desktop\\JP\\model03S\\dataset\\images\\test\\ID8fvWYad6.jpg: 320x416 2 panels, 12.9ms\n",
      "image 149/1107 C:\\Users\\gnvca\\OneDrive\\Desktop\\JP\\model03S\\dataset\\images\\test\\ID8kYjwa8VELq1.jpg: 320x416 3 panels, 8.7ms\n",
      "image 150/1107 C:\\Users\\gnvca\\OneDrive\\Desktop\\JP\\model03S\\dataset\\images\\test\\ID8sNx5T5A0A0.jpg: 320x416 2 panels, 12.5ms\n",
      "image 151/1107 C:\\Users\\gnvca\\OneDrive\\Desktop\\JP\\model03S\\dataset\\images\\test\\ID8wBYTp6CHukbQ.jpg: 320x416 2 panels, 9.0ms\n",
      "image 152/1107 C:\\Users\\gnvca\\OneDrive\\Desktop\\JP\\model03S\\dataset\\images\\test\\ID90PxU6b7066KxO.jpg: 320x416 2 panels, 12.0ms\n",
      "image 153/1107 C:\\Users\\gnvca\\OneDrive\\Desktop\\JP\\model03S\\dataset\\images\\test\\ID96QaKoQJA7q.jpg: 320x416 2 panels, 10.1ms\n",
      "image 154/1107 C:\\Users\\gnvca\\OneDrive\\Desktop\\JP\\model03S\\dataset\\images\\test\\ID97jEo.jpg: 320x416 2 panels, 11.2ms\n",
      "image 155/1107 C:\\Users\\gnvca\\OneDrive\\Desktop\\JP\\model03S\\dataset\\images\\test\\ID9M2fZ5io1Am7z.jpg: 320x416 2 panels, 12.3ms\n",
      "image 156/1107 C:\\Users\\gnvca\\OneDrive\\Desktop\\JP\\model03S\\dataset\\images\\test\\ID9NZt1LjxaT.jpg: 320x416 1 panel, 12.4ms\n",
      "image 157/1107 C:\\Users\\gnvca\\OneDrive\\Desktop\\JP\\model03S\\dataset\\images\\test\\ID9PoOPGe.jpg: 320x416 2 panels, 9.7ms\n",
      "image 158/1107 C:\\Users\\gnvca\\OneDrive\\Desktop\\JP\\model03S\\dataset\\images\\test\\ID9SMscZZhXiOCa5X.jpg: 320x416 2 panels, 12.9ms\n",
      "image 159/1107 C:\\Users\\gnvca\\OneDrive\\Desktop\\JP\\model03S\\dataset\\images\\test\\ID9Um5PVu8rKEUj.jpg: 320x416 (no detections), 12.8ms\n",
      "image 160/1107 C:\\Users\\gnvca\\OneDrive\\Desktop\\JP\\model03S\\dataset\\images\\test\\ID9W3R9SLEnNC.jpg: 320x416 (no detections), 12.4ms\n",
      "image 161/1107 C:\\Users\\gnvca\\OneDrive\\Desktop\\JP\\model03S\\dataset\\images\\test\\ID9WhuR4Oly5xGClB.jpg: 320x416 2 panels, 12.9ms\n",
      "image 162/1107 C:\\Users\\gnvca\\OneDrive\\Desktop\\JP\\model03S\\dataset\\images\\test\\ID9Yw0LDtTqX.jpg: 320x416 (no detections), 10.4ms\n",
      "image 163/1107 C:\\Users\\gnvca\\OneDrive\\Desktop\\JP\\model03S\\dataset\\images\\test\\ID9bUIiQ.jpg: 320x416 2 panels, 13.8ms\n",
      "image 164/1107 C:\\Users\\gnvca\\OneDrive\\Desktop\\JP\\model03S\\dataset\\images\\test\\ID9e2pt6DFHGwijsx.jpg: 320x416 2 panels, 14.7ms\n",
      "image 165/1107 C:\\Users\\gnvca\\OneDrive\\Desktop\\JP\\model03S\\dataset\\images\\test\\ID9q48ylANuZZS.jpg: 320x416 2 panels, 15.3ms\n",
      "image 166/1107 C:\\Users\\gnvca\\OneDrive\\Desktop\\JP\\model03S\\dataset\\images\\test\\ID9seuyLG.jpg: 320x416 2 panels, 13.9ms\n",
      "image 167/1107 C:\\Users\\gnvca\\OneDrive\\Desktop\\JP\\model03S\\dataset\\images\\test\\IDA0zSwkZ5oASi.jpg: 320x416 1 panel, 14.8ms\n",
      "image 168/1107 C:\\Users\\gnvca\\OneDrive\\Desktop\\JP\\model03S\\dataset\\images\\test\\IDA5tv4oCP6.jpg: 320x416 2 panels, 15.3ms\n",
      "image 169/1107 C:\\Users\\gnvca\\OneDrive\\Desktop\\JP\\model03S\\dataset\\images\\test\\IDA6RX9I1Vuh.jpg: 320x416 1 panel, 15.5ms\n",
      "image 170/1107 C:\\Users\\gnvca\\OneDrive\\Desktop\\JP\\model03S\\dataset\\images\\test\\IDA89129BpEJwAU.jpg: 320x416 1 panel, 13.7ms\n",
      "image 171/1107 C:\\Users\\gnvca\\OneDrive\\Desktop\\JP\\model03S\\dataset\\images\\test\\IDAUaTcswJeb0.jpg: 288x416 3 panels, 15.0ms\n",
      "image 172/1107 C:\\Users\\gnvca\\OneDrive\\Desktop\\JP\\model03S\\dataset\\images\\test\\IDAYEU5cX9xzLA.jpg: 320x416 2 panels, 15.6ms\n",
      "image 173/1107 C:\\Users\\gnvca\\OneDrive\\Desktop\\JP\\model03S\\dataset\\images\\test\\IDAb6WuVG.jpg: 352x416 1 boiler, 30.6ms\n",
      "image 174/1107 C:\\Users\\gnvca\\OneDrive\\Desktop\\JP\\model03S\\dataset\\images\\test\\IDAdQgr.jpg: 320x416 (no detections), 15.4ms\n",
      "image 175/1107 C:\\Users\\gnvca\\OneDrive\\Desktop\\JP\\model03S\\dataset\\images\\test\\IDAfStbs.jpg: 320x416 (no detections), 15.1ms\n",
      "image 176/1107 C:\\Users\\gnvca\\OneDrive\\Desktop\\JP\\model03S\\dataset\\images\\test\\IDAj7qI6.jpg: 384x416 (no detections), 14.2ms\n",
      "image 177/1107 C:\\Users\\gnvca\\OneDrive\\Desktop\\JP\\model03S\\dataset\\images\\test\\IDAkkOzGQae.jpg: 320x416 2 panels, 15.6ms\n",
      "image 178/1107 C:\\Users\\gnvca\\OneDrive\\Desktop\\JP\\model03S\\dataset\\images\\test\\IDAmYZkjXOjsKeGIU.jpg: 320x416 2 panels, 15.9ms\n",
      "image 179/1107 C:\\Users\\gnvca\\OneDrive\\Desktop\\JP\\model03S\\dataset\\images\\test\\IDAoS7IW3iEfvnN.jpg: 320x416 2 panels, 15.2ms\n",
      "image 180/1107 C:\\Users\\gnvca\\OneDrive\\Desktop\\JP\\model03S\\dataset\\images\\test\\IDApVuTp42C3.jpg: 320x416 1 panel, 15.1ms\n",
      "image 181/1107 C:\\Users\\gnvca\\OneDrive\\Desktop\\JP\\model03S\\dataset\\images\\test\\IDAxHxok9DBzXDLEa.jpg: 320x416 2 panels, 14.1ms\n",
      "image 182/1107 C:\\Users\\gnvca\\OneDrive\\Desktop\\JP\\model03S\\dataset\\images\\test\\IDAylzdyizAiG1rtG.jpg: 320x416 (no detections), 12.7ms\n",
      "image 183/1107 C:\\Users\\gnvca\\OneDrive\\Desktop\\JP\\model03S\\dataset\\images\\test\\IDAzsOtNMyZoWcyRM.jpg: 320x416 2 panels, 14.4ms\n",
      "image 184/1107 C:\\Users\\gnvca\\OneDrive\\Desktop\\JP\\model03S\\dataset\\images\\test\\IDB0zyfqyrjJjue.jpg: 320x416 1 panel, 15.1ms\n",
      "image 185/1107 C:\\Users\\gnvca\\OneDrive\\Desktop\\JP\\model03S\\dataset\\images\\test\\IDB1wtjXBZ0D4.jpg: 320x416 2 panels, 13.8ms\n",
      "image 186/1107 C:\\Users\\gnvca\\OneDrive\\Desktop\\JP\\model03S\\dataset\\images\\test\\IDB2pAQWobBYGzB.jpg: 320x416 3 panels, 12.0ms\n",
      "image 187/1107 C:\\Users\\gnvca\\OneDrive\\Desktop\\JP\\model03S\\dataset\\images\\test\\IDBDUN9OVNlj.jpg: 320x416 2 panels, 14.0ms\n",
      "image 188/1107 C:\\Users\\gnvca\\OneDrive\\Desktop\\JP\\model03S\\dataset\\images\\test\\IDBGOHYo36YWK2.jpg: 320x416 2 panels, 14.9ms\n",
      "image 189/1107 C:\\Users\\gnvca\\OneDrive\\Desktop\\JP\\model03S\\dataset\\images\\test\\IDBQeR2FY.jpg: 416x384 (no detections), 23.3ms\n",
      "image 190/1107 C:\\Users\\gnvca\\OneDrive\\Desktop\\JP\\model03S\\dataset\\images\\test\\IDBSZWd3qVdR.jpg: 320x416 (no detections), 16.5ms\n",
      "image 191/1107 C:\\Users\\gnvca\\OneDrive\\Desktop\\JP\\model03S\\dataset\\images\\test\\IDBTsNvmvTyf.jpg: 320x416 1 panel, 24.4ms\n",
      "image 192/1107 C:\\Users\\gnvca\\OneDrive\\Desktop\\JP\\model03S\\dataset\\images\\test\\IDBVF4vPUv0.jpg: 320x416 1 panel, 12.1ms\n",
      "image 193/1107 C:\\Users\\gnvca\\OneDrive\\Desktop\\JP\\model03S\\dataset\\images\\test\\IDBWoelEX0Cvs.jpg: 288x416 (no detections), 15.3ms\n",
      "image 194/1107 C:\\Users\\gnvca\\OneDrive\\Desktop\\JP\\model03S\\dataset\\images\\test\\IDBZO81kDv.jpg: 320x416 2 panels, 16.2ms\n",
      "image 195/1107 C:\\Users\\gnvca\\OneDrive\\Desktop\\JP\\model03S\\dataset\\images\\test\\IDBcsjN.jpg: 320x416 (no detections), 12.1ms\n",
      "image 196/1107 C:\\Users\\gnvca\\OneDrive\\Desktop\\JP\\model03S\\dataset\\images\\test\\IDBgmREbCIsD3qXQq.jpg: 320x416 1 panel, 14.5ms\n",
      "image 197/1107 C:\\Users\\gnvca\\OneDrive\\Desktop\\JP\\model03S\\dataset\\images\\test\\IDBh4xlD.jpg: 320x416 2 panels, 14.1ms\n",
      "image 198/1107 C:\\Users\\gnvca\\OneDrive\\Desktop\\JP\\model03S\\dataset\\images\\test\\IDBlm6fCRaPycq.jpg: 320x416 2 panels, 14.6ms\n",
      "image 199/1107 C:\\Users\\gnvca\\OneDrive\\Desktop\\JP\\model03S\\dataset\\images\\test\\IDBpZlitfz.jpg: 384x416 2 panels, 18.2ms\n",
      "image 200/1107 C:\\Users\\gnvca\\OneDrive\\Desktop\\JP\\model03S\\dataset\\images\\test\\IDBqyTU.jpg: 352x416 7 panels, 17.1ms\n",
      "image 201/1107 C:\\Users\\gnvca\\OneDrive\\Desktop\\JP\\model03S\\dataset\\images\\test\\IDBxR6JNCET8YzB6P.jpg: 320x416 (no detections), 15.7ms\n",
      "image 202/1107 C:\\Users\\gnvca\\OneDrive\\Desktop\\JP\\model03S\\dataset\\images\\test\\IDBzCK4PKnZ3DYp.jpg: 416x416 7 panels, 20.5ms\n",
      "image 203/1107 C:\\Users\\gnvca\\OneDrive\\Desktop\\JP\\model03S\\dataset\\images\\test\\IDC1H005vv.jpg: 320x416 (no detections), 20.3ms\n",
      "image 204/1107 C:\\Users\\gnvca\\OneDrive\\Desktop\\JP\\model03S\\dataset\\images\\test\\IDC6pQY.jpg: 384x416 1 boiler, 16.3ms\n",
      "image 205/1107 C:\\Users\\gnvca\\OneDrive\\Desktop\\JP\\model03S\\dataset\\images\\test\\IDC7DbTJw1.jpg: 224x416 3 boilers, 29.6ms\n",
      "image 206/1107 C:\\Users\\gnvca\\OneDrive\\Desktop\\JP\\model03S\\dataset\\images\\test\\IDCDu4j8LaUZNV0T.jpg: 320x416 2 panels, 17.0ms\n",
      "image 207/1107 C:\\Users\\gnvca\\OneDrive\\Desktop\\JP\\model03S\\dataset\\images\\test\\IDCGGz8CBh.jpg: 320x416 1 panel, 14.9ms\n",
      "image 208/1107 C:\\Users\\gnvca\\OneDrive\\Desktop\\JP\\model03S\\dataset\\images\\test\\IDCKAxcKEtSBCW6.jpg: 320x416 2 panels, 14.0ms\n",
      "image 209/1107 C:\\Users\\gnvca\\OneDrive\\Desktop\\JP\\model03S\\dataset\\images\\test\\IDCKdbTD12o.jpg: 320x416 1 panel, 14.8ms\n",
      "image 210/1107 C:\\Users\\gnvca\\OneDrive\\Desktop\\JP\\model03S\\dataset\\images\\test\\IDCXC3WZ8fTpPqB4u.jpg: 320x416 1 panel, 14.2ms\n",
      "image 211/1107 C:\\Users\\gnvca\\OneDrive\\Desktop\\JP\\model03S\\dataset\\images\\test\\IDCcdnWC.jpg: 320x416 2 panels, 12.1ms\n",
      "image 212/1107 C:\\Users\\gnvca\\OneDrive\\Desktop\\JP\\model03S\\dataset\\images\\test\\IDCdEqVm8.jpg: 320x416 2 panels, 15.3ms\n",
      "image 213/1107 C:\\Users\\gnvca\\OneDrive\\Desktop\\JP\\model03S\\dataset\\images\\test\\IDCdPy5qxo6aD.jpg: 320x416 (no detections), 17.4ms\n",
      "image 214/1107 C:\\Users\\gnvca\\OneDrive\\Desktop\\JP\\model03S\\dataset\\images\\test\\IDCgowM2FHi.jpg: 320x416 2 panels, 12.1ms\n",
      "image 215/1107 C:\\Users\\gnvca\\OneDrive\\Desktop\\JP\\model03S\\dataset\\images\\test\\IDCkHt5Rt6.jpg: 320x416 (no detections), 15.0ms\n",
      "image 216/1107 C:\\Users\\gnvca\\OneDrive\\Desktop\\JP\\model03S\\dataset\\images\\test\\IDClS3NV6Qtn.jpg: 320x416 2 panels, 14.9ms\n",
      "image 217/1107 C:\\Users\\gnvca\\OneDrive\\Desktop\\JP\\model03S\\dataset\\images\\test\\IDCnYpokt8J9YSmJq.jpg: 320x416 4 panels, 14.9ms\n",
      "image 218/1107 C:\\Users\\gnvca\\OneDrive\\Desktop\\JP\\model03S\\dataset\\images\\test\\IDCy8SpRP8Dp.jpg: 320x416 1 panel, 13.2ms\n",
      "image 219/1107 C:\\Users\\gnvca\\OneDrive\\Desktop\\JP\\model03S\\dataset\\images\\test\\IDCyb1wTo.jpg: 320x416 (no detections), 14.7ms\n",
      "image 220/1107 C:\\Users\\gnvca\\OneDrive\\Desktop\\JP\\model03S\\dataset\\images\\test\\IDD0iJVRcCEr0j.jpg: 320x416 4 panels, 14.6ms\n",
      "image 221/1107 C:\\Users\\gnvca\\OneDrive\\Desktop\\JP\\model03S\\dataset\\images\\test\\IDD8ZVNUFQ2Hf.jpg: 320x416 2 panels, 14.9ms\n",
      "image 222/1107 C:\\Users\\gnvca\\OneDrive\\Desktop\\JP\\model03S\\dataset\\images\\test\\IDDAmnuvdBi.jpg: 320x416 1 panel, 15.2ms\n",
      "image 223/1107 C:\\Users\\gnvca\\OneDrive\\Desktop\\JP\\model03S\\dataset\\images\\test\\IDDF7tO.jpg: 320x416 1 panel, 14.8ms\n",
      "image 224/1107 C:\\Users\\gnvca\\OneDrive\\Desktop\\JP\\model03S\\dataset\\images\\test\\IDDHVcH2Jd5etFmY.jpg: 416x416 13 panels, 20.8ms\n",
      "image 225/1107 C:\\Users\\gnvca\\OneDrive\\Desktop\\JP\\model03S\\dataset\\images\\test\\IDDLAHHyPW.jpg: 320x416 3 panels, 21.1ms\n",
      "image 226/1107 C:\\Users\\gnvca\\OneDrive\\Desktop\\JP\\model03S\\dataset\\images\\test\\IDDPTa8I.jpg: 320x416 1 panel, 15.7ms\n",
      "image 227/1107 C:\\Users\\gnvca\\OneDrive\\Desktop\\JP\\model03S\\dataset\\images\\test\\IDDV1rcb2sZW09.jpg: 352x416 (no detections), 18.7ms\n",
      "image 228/1107 C:\\Users\\gnvca\\OneDrive\\Desktop\\JP\\model03S\\dataset\\images\\test\\IDDVN3CnZpwmyacw.jpg: 320x416 (no detections), 15.4ms\n",
      "image 229/1107 C:\\Users\\gnvca\\OneDrive\\Desktop\\JP\\model03S\\dataset\\images\\test\\IDDW5cL0.jpg: 320x416 2 panels, 14.7ms\n",
      "image 230/1107 C:\\Users\\gnvca\\OneDrive\\Desktop\\JP\\model03S\\dataset\\images\\test\\IDDXjoLTLw.jpg: 320x416 (no detections), 16.4ms\n",
      "image 231/1107 C:\\Users\\gnvca\\OneDrive\\Desktop\\JP\\model03S\\dataset\\images\\test\\IDDgn4erHVKx.jpg: 320x416 2 panels, 14.6ms\n",
      "image 232/1107 C:\\Users\\gnvca\\OneDrive\\Desktop\\JP\\model03S\\dataset\\images\\test\\IDDpc3xF04.jpg: 416x416 (no detections), 17.2ms\n",
      "image 233/1107 C:\\Users\\gnvca\\OneDrive\\Desktop\\JP\\model03S\\dataset\\images\\test\\IDDpeOGoZa.jpg: 320x416 1 panel, 16.3ms\n",
      "image 234/1107 C:\\Users\\gnvca\\OneDrive\\Desktop\\JP\\model03S\\dataset\\images\\test\\IDDpfZqI5mI8.jpg: 320x416 2 panels, 15.2ms\n",
      "image 235/1107 C:\\Users\\gnvca\\OneDrive\\Desktop\\JP\\model03S\\dataset\\images\\test\\IDDwVqY.jpg: 416x416 2 boilers, 24.0ms\n",
      "image 236/1107 C:\\Users\\gnvca\\OneDrive\\Desktop\\JP\\model03S\\dataset\\images\\test\\IDDwsERs6gKTXW4.jpg: 320x416 2 panels, 12.6ms\n",
      "image 237/1107 C:\\Users\\gnvca\\OneDrive\\Desktop\\JP\\model03S\\dataset\\images\\test\\IDDzy72Q.jpg: 320x416 2 panels, 14.5ms\n",
      "image 238/1107 C:\\Users\\gnvca\\OneDrive\\Desktop\\JP\\model03S\\dataset\\images\\test\\IDE1fiYjgO.jpg: 320x416 (no detections), 17.2ms\n",
      "image 239/1107 C:\\Users\\gnvca\\OneDrive\\Desktop\\JP\\model03S\\dataset\\images\\test\\IDE2Ye8LKLjsheXRM.jpg: 320x416 1 panel, 14.7ms\n",
      "image 240/1107 C:\\Users\\gnvca\\OneDrive\\Desktop\\JP\\model03S\\dataset\\images\\test\\IDE8mgSMQMERT.jpg: 320x416 1 panel, 13.2ms\n",
      "image 241/1107 C:\\Users\\gnvca\\OneDrive\\Desktop\\JP\\model03S\\dataset\\images\\test\\IDEA3IGuh.jpg: 288x416 (no detections), 16.4ms\n",
      "image 242/1107 C:\\Users\\gnvca\\OneDrive\\Desktop\\JP\\model03S\\dataset\\images\\test\\IDEAoIrMYqKi.jpg: 320x416 2 panels, 20.7ms\n",
      "image 243/1107 C:\\Users\\gnvca\\OneDrive\\Desktop\\JP\\model03S\\dataset\\images\\test\\IDEC9Zeb.jpg: 288x416 1 panel, 21.5ms\n",
      "image 244/1107 C:\\Users\\gnvca\\OneDrive\\Desktop\\JP\\model03S\\dataset\\images\\test\\IDEIMnBHoWAphFcK.jpg: 320x416 2 panels, 15.4ms\n",
      "image 245/1107 C:\\Users\\gnvca\\OneDrive\\Desktop\\JP\\model03S\\dataset\\images\\test\\IDEM6lqG.jpg: 320x416 (no detections), 14.5ms\n",
      "image 246/1107 C:\\Users\\gnvca\\OneDrive\\Desktop\\JP\\model03S\\dataset\\images\\test\\IDEMlUxogrpf5.jpg: 320x416 3 panels, 13.3ms\n",
      "image 247/1107 C:\\Users\\gnvca\\OneDrive\\Desktop\\JP\\model03S\\dataset\\images\\test\\IDEPRHDYOghx.jpg: 320x416 1 panel, 13.0ms\n",
      "image 248/1107 C:\\Users\\gnvca\\OneDrive\\Desktop\\JP\\model03S\\dataset\\images\\test\\IDETMNAGhhrWI.jpg: 320x416 (no detections), 14.5ms\n",
      "image 249/1107 C:\\Users\\gnvca\\OneDrive\\Desktop\\JP\\model03S\\dataset\\images\\test\\IDEe6iXTgt.jpg: 320x416 (no detections), 14.4ms\n",
      "image 250/1107 C:\\Users\\gnvca\\OneDrive\\Desktop\\JP\\model03S\\dataset\\images\\test\\IDEs68Bci8cfLHJo.jpg: 192x416 (no detections), 10.9ms\n",
      "image 251/1107 C:\\Users\\gnvca\\OneDrive\\Desktop\\JP\\model03S\\dataset\\images\\test\\IDEuh15aqGWPu.jpg: 416x256 (no detections), 19.4ms\n",
      "image 252/1107 C:\\Users\\gnvca\\OneDrive\\Desktop\\JP\\model03S\\dataset\\images\\test\\IDEvpb6v4OOe0Y.jpg: 352x416 (no detections), 15.0ms\n",
      "image 253/1107 C:\\Users\\gnvca\\OneDrive\\Desktop\\JP\\model03S\\dataset\\images\\test\\IDEwGnmQlltf.jpg: 256x416 (no detections), 33.8ms\n",
      "image 254/1107 C:\\Users\\gnvca\\OneDrive\\Desktop\\JP\\model03S\\dataset\\images\\test\\IDEyShR.jpg: 320x416 (no detections), 11.4ms\n",
      "image 255/1107 C:\\Users\\gnvca\\OneDrive\\Desktop\\JP\\model03S\\dataset\\images\\test\\IDF2nDTmv7b1.jpg: 320x416 (no detections), 13.0ms\n",
      "image 256/1107 C:\\Users\\gnvca\\OneDrive\\Desktop\\JP\\model03S\\dataset\\images\\test\\IDF4jqxKoNU8Vc.jpg: 320x416 2 panels, 13.6ms\n",
      "image 257/1107 C:\\Users\\gnvca\\OneDrive\\Desktop\\JP\\model03S\\dataset\\images\\test\\IDF5A5nwEnb.jpg: 320x416 2 panels, 14.0ms\n",
      "image 258/1107 C:\\Users\\gnvca\\OneDrive\\Desktop\\JP\\model03S\\dataset\\images\\test\\IDF5IjWvf67.jpg: 320x416 1 panel, 11.2ms\n",
      "image 259/1107 C:\\Users\\gnvca\\OneDrive\\Desktop\\JP\\model03S\\dataset\\images\\test\\IDF9OFLKW27eo6e.jpg: 320x416 (no detections), 13.7ms\n",
      "image 260/1107 C:\\Users\\gnvca\\OneDrive\\Desktop\\JP\\model03S\\dataset\\images\\test\\IDFAZjkhvieGj865E.jpg: 320x416 1 panel, 15.1ms\n",
      "image 261/1107 C:\\Users\\gnvca\\OneDrive\\Desktop\\JP\\model03S\\dataset\\images\\test\\IDFDU5Sj4e.jpg: 320x416 (no detections), 12.0ms\n",
      "image 262/1107 C:\\Users\\gnvca\\OneDrive\\Desktop\\JP\\model03S\\dataset\\images\\test\\IDFKClc.jpg: 320x416 (no detections), 14.0ms\n",
      "image 263/1107 C:\\Users\\gnvca\\OneDrive\\Desktop\\JP\\model03S\\dataset\\images\\test\\IDFKWhA.jpg: 320x416 (no detections), 13.9ms\n",
      "image 264/1107 C:\\Users\\gnvca\\OneDrive\\Desktop\\JP\\model03S\\dataset\\images\\test\\IDFKul110Y7cX8.jpg: 320x416 (no detections), 13.4ms\n",
      "image 265/1107 C:\\Users\\gnvca\\OneDrive\\Desktop\\JP\\model03S\\dataset\\images\\test\\IDFNa0FuDwDmQiD.jpg: 320x416 2 panels, 13.8ms\n",
      "image 266/1107 C:\\Users\\gnvca\\OneDrive\\Desktop\\JP\\model03S\\dataset\\images\\test\\IDFQFXzy.jpg: 416x416 2 panels, 22.5ms\n",
      "image 267/1107 C:\\Users\\gnvca\\OneDrive\\Desktop\\JP\\model03S\\dataset\\images\\test\\IDFUHKuId.jpg: 320x416 4 panels, 13.2ms\n",
      "image 268/1107 C:\\Users\\gnvca\\OneDrive\\Desktop\\JP\\model03S\\dataset\\images\\test\\IDFWrhU5Fkan.jpg: 320x416 1 panel, 13.1ms\n",
      "image 269/1107 C:\\Users\\gnvca\\OneDrive\\Desktop\\JP\\model03S\\dataset\\images\\test\\IDFaqVEUjZHgiU6.jpg: 320x416 2 panels, 15.7ms\n",
      "image 270/1107 C:\\Users\\gnvca\\OneDrive\\Desktop\\JP\\model03S\\dataset\\images\\test\\IDFc5aOF9kvvlSKn.jpg: 320x416 1 panel, 13.1ms\n",
      "image 271/1107 C:\\Users\\gnvca\\OneDrive\\Desktop\\JP\\model03S\\dataset\\images\\test\\IDFmke9C.jpg: 320x416 (no detections), 12.9ms\n",
      "image 272/1107 C:\\Users\\gnvca\\OneDrive\\Desktop\\JP\\model03S\\dataset\\images\\test\\IDFnMhurg76W1RUK.jpg: 320x416 1 panel, 22.2ms\n",
      "image 273/1107 C:\\Users\\gnvca\\OneDrive\\Desktop\\JP\\model03S\\dataset\\images\\test\\IDFnwkQ.jpg: 320x416 1 panel, 17.5ms\n",
      "image 274/1107 C:\\Users\\gnvca\\OneDrive\\Desktop\\JP\\model03S\\dataset\\images\\test\\IDFpzKdLAo.jpg: 320x416 (no detections), 16.3ms\n",
      "image 275/1107 C:\\Users\\gnvca\\OneDrive\\Desktop\\JP\\model03S\\dataset\\images\\test\\IDFq38fVBc9.jpg: 320x416 1 panel, 18.1ms\n",
      "image 276/1107 C:\\Users\\gnvca\\OneDrive\\Desktop\\JP\\model03S\\dataset\\images\\test\\IDFsIy1n6Z.jpg: 320x416 1 panel, 19.6ms\n",
      "image 277/1107 C:\\Users\\gnvca\\OneDrive\\Desktop\\JP\\model03S\\dataset\\images\\test\\IDFxmMFRpbs.jpg: 320x416 (no detections), 18.0ms\n",
      "image 278/1107 C:\\Users\\gnvca\\OneDrive\\Desktop\\JP\\model03S\\dataset\\images\\test\\IDFzhyb5lPz.jpg: 320x416 (no detections), 17.9ms\n",
      "image 279/1107 C:\\Users\\gnvca\\OneDrive\\Desktop\\JP\\model03S\\dataset\\images\\test\\IDG1AkIPbSV.jpg: 320x416 (no detections), 25.1ms\n",
      "image 280/1107 C:\\Users\\gnvca\\OneDrive\\Desktop\\JP\\model03S\\dataset\\images\\test\\IDG5lTLIt9O.jpg: 320x416 (no detections), 18.8ms\n",
      "image 281/1107 C:\\Users\\gnvca\\OneDrive\\Desktop\\JP\\model03S\\dataset\\images\\test\\IDG94VRtYi0FsZ.jpg: 320x416 1 panel, 12.1ms\n",
      "image 282/1107 C:\\Users\\gnvca\\OneDrive\\Desktop\\JP\\model03S\\dataset\\images\\test\\IDGDNyCCkaKLzXCM.jpg: 320x416 2 panels, 18.4ms\n",
      "image 283/1107 C:\\Users\\gnvca\\OneDrive\\Desktop\\JP\\model03S\\dataset\\images\\test\\IDGKXoUKZZIMiwIA.jpg: 320x416 1 panel, 27.9ms\n",
      "image 284/1107 C:\\Users\\gnvca\\OneDrive\\Desktop\\JP\\model03S\\dataset\\images\\test\\IDGPlef7MvMDtw.jpg: 320x416 3 panels, 14.5ms\n",
      "image 285/1107 C:\\Users\\gnvca\\OneDrive\\Desktop\\JP\\model03S\\dataset\\images\\test\\IDGR80BE8mvNUCNN3.jpg: 192x416 (no detections), 16.1ms\n",
      "image 286/1107 C:\\Users\\gnvca\\OneDrive\\Desktop\\JP\\model03S\\dataset\\images\\test\\IDGUy652Ws9OT5W8v.jpg: 320x416 2 panels, 18.1ms\n",
      "image 287/1107 C:\\Users\\gnvca\\OneDrive\\Desktop\\JP\\model03S\\dataset\\images\\test\\IDGd4vXS.jpg: 320x416 (no detections), 15.9ms\n",
      "image 288/1107 C:\\Users\\gnvca\\OneDrive\\Desktop\\JP\\model03S\\dataset\\images\\test\\IDGfz4VMkN.jpg: 320x416 1 panel, 12.0ms\n",
      "image 289/1107 C:\\Users\\gnvca\\OneDrive\\Desktop\\JP\\model03S\\dataset\\images\\test\\IDGi28ybRJegVvn.jpg: 416x416 (no detections), 17.3ms\n",
      "image 290/1107 C:\\Users\\gnvca\\OneDrive\\Desktop\\JP\\model03S\\dataset\\images\\test\\IDGmQhncDYrgwrH.jpg: 320x416 1 panel, 17.7ms\n",
      "image 291/1107 C:\\Users\\gnvca\\OneDrive\\Desktop\\JP\\model03S\\dataset\\images\\test\\IDGmoxZt1kCAHSwND.jpg: 320x416 2 panels, 18.8ms\n",
      "image 292/1107 C:\\Users\\gnvca\\OneDrive\\Desktop\\JP\\model03S\\dataset\\images\\test\\IDGtye16mV1WRf.jpg: 320x416 2 panels, 13.3ms\n",
      "image 293/1107 C:\\Users\\gnvca\\OneDrive\\Desktop\\JP\\model03S\\dataset\\images\\test\\IDGuf5l0pfY4dlC.jpg: 320x416 3 panels, 16.7ms\n",
      "image 294/1107 C:\\Users\\gnvca\\OneDrive\\Desktop\\JP\\model03S\\dataset\\images\\test\\IDH0i3q.jpg: 320x416 1 panel, 16.6ms\n",
      "image 295/1107 C:\\Users\\gnvca\\OneDrive\\Desktop\\JP\\model03S\\dataset\\images\\test\\IDH16qvhuu2FN.jpg: 320x416 2 panels, 16.0ms\n",
      "image 296/1107 C:\\Users\\gnvca\\OneDrive\\Desktop\\JP\\model03S\\dataset\\images\\test\\IDH5U5dqwhKN30uTz.jpg: 320x416 (no detections), 16.1ms\n",
      "image 297/1107 C:\\Users\\gnvca\\OneDrive\\Desktop\\JP\\model03S\\dataset\\images\\test\\IDHCu7gnVkXD0s.jpg: 320x416 2 panels, 16.3ms\n",
      "image 298/1107 C:\\Users\\gnvca\\OneDrive\\Desktop\\JP\\model03S\\dataset\\images\\test\\IDHEYX4VMXCjwaqbs.jpg: 320x416 3 panels, 13.0ms\n",
      "image 299/1107 C:\\Users\\gnvca\\OneDrive\\Desktop\\JP\\model03S\\dataset\\images\\test\\IDHFoUKbxGP.jpg: 320x416 2 panels, 16.6ms\n",
      "image 300/1107 C:\\Users\\gnvca\\OneDrive\\Desktop\\JP\\model03S\\dataset\\images\\test\\IDHILD8DnJZTuUg.jpg: 320x416 3 panels, 17.4ms\n",
      "image 301/1107 C:\\Users\\gnvca\\OneDrive\\Desktop\\JP\\model03S\\dataset\\images\\test\\IDHIi7sOPf.jpg: 320x416 (no detections), 13.6ms\n",
      "image 302/1107 C:\\Users\\gnvca\\OneDrive\\Desktop\\JP\\model03S\\dataset\\images\\test\\IDHJ3hdZY0DABxwn2.jpg: 320x416 (no detections), 26.5ms\n",
      "image 303/1107 C:\\Users\\gnvca\\OneDrive\\Desktop\\JP\\model03S\\dataset\\images\\test\\IDHJnBm87ZUS8obg.jpg: 320x416 1 panel, 12.8ms\n",
      "image 304/1107 C:\\Users\\gnvca\\OneDrive\\Desktop\\JP\\model03S\\dataset\\images\\test\\IDHOC1FvOv3yFPOl.jpg: 320x416 (no detections), 15.7ms\n",
      "image 305/1107 C:\\Users\\gnvca\\OneDrive\\Desktop\\JP\\model03S\\dataset\\images\\test\\IDHWKIVSCFhCK4.jpg: 384x416 (no detections), 17.6ms\n",
      "image 306/1107 C:\\Users\\gnvca\\OneDrive\\Desktop\\JP\\model03S\\dataset\\images\\test\\IDHXwqtTeZa5pc6o9.jpg: 320x416 (no detections), 16.4ms\n",
      "image 307/1107 C:\\Users\\gnvca\\OneDrive\\Desktop\\JP\\model03S\\dataset\\images\\test\\IDHZK21FetRA.jpg: 320x416 (no detections), 18.1ms\n",
      "image 308/1107 C:\\Users\\gnvca\\OneDrive\\Desktop\\JP\\model03S\\dataset\\images\\test\\IDHavhM.jpg: 320x416 (no detections), 17.8ms\n",
      "image 309/1107 C:\\Users\\gnvca\\OneDrive\\Desktop\\JP\\model03S\\dataset\\images\\test\\IDHdtxlSc.jpg: 320x416 1 panel, 13.0ms\n",
      "image 310/1107 C:\\Users\\gnvca\\OneDrive\\Desktop\\JP\\model03S\\dataset\\images\\test\\IDHfdl87Y.jpg: 320x416 2 panels, 16.6ms\n",
      "image 311/1107 C:\\Users\\gnvca\\OneDrive\\Desktop\\JP\\model03S\\dataset\\images\\test\\IDHmTcHZd7BE3B.jpg: 320x416 (no detections), 15.0ms\n",
      "image 312/1107 C:\\Users\\gnvca\\OneDrive\\Desktop\\JP\\model03S\\dataset\\images\\test\\IDHnnVg9DXD.jpg: 352x416 2 panels, 16.7ms\n",
      "image 313/1107 C:\\Users\\gnvca\\OneDrive\\Desktop\\JP\\model03S\\dataset\\images\\test\\IDHqbxPzif.jpg: 320x416 (no detections), 16.9ms\n",
      "image 314/1107 C:\\Users\\gnvca\\OneDrive\\Desktop\\JP\\model03S\\dataset\\images\\test\\IDHsKXa3RjvFHP.jpg: 320x416 2 panels, 15.3ms\n",
      "image 315/1107 C:\\Users\\gnvca\\OneDrive\\Desktop\\JP\\model03S\\dataset\\images\\test\\IDHtVTOt8KNNO.jpg: 320x416 (no detections), 15.2ms\n",
      "image 316/1107 C:\\Users\\gnvca\\OneDrive\\Desktop\\JP\\model03S\\dataset\\images\\test\\IDHvsezZ7HM.jpg: 320x416 1 panel, 12.0ms\n",
      "image 317/1107 C:\\Users\\gnvca\\OneDrive\\Desktop\\JP\\model03S\\dataset\\images\\test\\IDI06IBMc.jpg: 320x416 1 panel, 13.5ms\n",
      "image 318/1107 C:\\Users\\gnvca\\OneDrive\\Desktop\\JP\\model03S\\dataset\\images\\test\\IDIAdM52mOZC.jpg: 320x416 2 panels, 14.9ms\n",
      "image 319/1107 C:\\Users\\gnvca\\OneDrive\\Desktop\\JP\\model03S\\dataset\\images\\test\\IDIFJJRBEBaS9GJMw.jpg: 320x416 (no detections), 14.6ms\n",
      "image 320/1107 C:\\Users\\gnvca\\OneDrive\\Desktop\\JP\\model03S\\dataset\\images\\test\\IDIIDOmJe.jpg: 320x416 3 panels, 17.7ms\n",
      "image 321/1107 C:\\Users\\gnvca\\OneDrive\\Desktop\\JP\\model03S\\dataset\\images\\test\\IDIJzc5uol6.jpg: 352x416 1 boiler, 17.1ms\n",
      "image 322/1107 C:\\Users\\gnvca\\OneDrive\\Desktop\\JP\\model03S\\dataset\\images\\test\\IDIM3qyRZyJb0CzL.jpg: 416x384 3 panels, 17.0ms\n",
      "image 323/1107 C:\\Users\\gnvca\\OneDrive\\Desktop\\JP\\model03S\\dataset\\images\\test\\IDIM8ZYNWC9cpJ.jpg: 320x416 (no detections), 18.1ms\n",
      "image 324/1107 C:\\Users\\gnvca\\OneDrive\\Desktop\\JP\\model03S\\dataset\\images\\test\\IDIN7Y20PpzPk93B.jpg: 320x416 1 panel, 13.6ms\n",
      "image 325/1107 C:\\Users\\gnvca\\OneDrive\\Desktop\\JP\\model03S\\dataset\\images\\test\\IDINWneOxB70u.jpg: 320x416 4 panels, 14.0ms\n",
      "image 326/1107 C:\\Users\\gnvca\\OneDrive\\Desktop\\JP\\model03S\\dataset\\images\\test\\IDISZpcq8rWB.jpg: 320x416 (no detections), 16.7ms\n",
      "image 327/1107 C:\\Users\\gnvca\\OneDrive\\Desktop\\JP\\model03S\\dataset\\images\\test\\IDITL86p88LLHY1.jpg: 320x416 2 panels, 16.3ms\n",
      "image 328/1107 C:\\Users\\gnvca\\OneDrive\\Desktop\\JP\\model03S\\dataset\\images\\test\\IDIWJ7wFYVu6qMjf.jpg: 320x416 2 panels, 16.3ms\n",
      "image 329/1107 C:\\Users\\gnvca\\OneDrive\\Desktop\\JP\\model03S\\dataset\\images\\test\\IDIZ70v.jpg: 320x416 1 panel, 15.0ms\n",
      "image 330/1107 C:\\Users\\gnvca\\OneDrive\\Desktop\\JP\\model03S\\dataset\\images\\test\\IDIfcox6I7n1.jpg: 352x416 1 boiler, 19.3ms\n",
      "image 331/1107 C:\\Users\\gnvca\\OneDrive\\Desktop\\JP\\model03S\\dataset\\images\\test\\IDIfuBIn.jpg: 320x416 3 panels, 16.6ms\n",
      "image 332/1107 C:\\Users\\gnvca\\OneDrive\\Desktop\\JP\\model03S\\dataset\\images\\test\\IDIgkWDaqwXXozOI.jpg: 320x416 1 panel, 15.2ms\n",
      "image 333/1107 C:\\Users\\gnvca\\OneDrive\\Desktop\\JP\\model03S\\dataset\\images\\test\\IDIhOTILMHz5wPCY.jpg: 320x416 (no detections), 27.6ms\n",
      "image 334/1107 C:\\Users\\gnvca\\OneDrive\\Desktop\\JP\\model03S\\dataset\\images\\test\\IDIl79K8GJtMJY.jpg: 320x416 1 panel, 22.3ms\n",
      "image 335/1107 C:\\Users\\gnvca\\OneDrive\\Desktop\\JP\\model03S\\dataset\\images\\test\\IDIlPrCkH.jpg: 320x416 2 panels, 24.6ms\n",
      "image 336/1107 C:\\Users\\gnvca\\OneDrive\\Desktop\\JP\\model03S\\dataset\\images\\test\\IDIqWPdIM.jpg: 384x416 (no detections), 25.1ms\n",
      "image 337/1107 C:\\Users\\gnvca\\OneDrive\\Desktop\\JP\\model03S\\dataset\\images\\test\\IDIr2jkBOUL.jpg: 320x416 1 panel, 16.3ms\n",
      "image 338/1107 C:\\Users\\gnvca\\OneDrive\\Desktop\\JP\\model03S\\dataset\\images\\test\\IDIwmLztUQeps2t1N.jpg: 320x416 3 panels, 17.0ms\n",
      "image 339/1107 C:\\Users\\gnvca\\OneDrive\\Desktop\\JP\\model03S\\dataset\\images\\test\\IDIx92GuElKj7Hhsv.jpg: 320x416 1 panel, 12.1ms\n",
      "image 340/1107 C:\\Users\\gnvca\\OneDrive\\Desktop\\JP\\model03S\\dataset\\images\\test\\IDJ2MEHdcAj6u8.jpg: 352x416 1 panel, 19.0ms\n",
      "image 341/1107 C:\\Users\\gnvca\\OneDrive\\Desktop\\JP\\model03S\\dataset\\images\\test\\IDJ8soN.jpg: 320x416 (no detections), 17.5ms\n",
      "image 342/1107 C:\\Users\\gnvca\\OneDrive\\Desktop\\JP\\model03S\\dataset\\images\\test\\IDJ9aNFsYme2.jpg: 320x416 4 panels, 16.3ms\n",
      "image 343/1107 C:\\Users\\gnvca\\OneDrive\\Desktop\\JP\\model03S\\dataset\\images\\test\\IDJF1FIr94ICgh4E.jpg: 320x416 (no detections), 14.6ms\n",
      "image 344/1107 C:\\Users\\gnvca\\OneDrive\\Desktop\\JP\\model03S\\dataset\\images\\test\\IDJItSr4H.jpg: 320x416 2 panels, 15.2ms\n",
      "image 345/1107 C:\\Users\\gnvca\\OneDrive\\Desktop\\JP\\model03S\\dataset\\images\\test\\IDJKLLPfEMAQ1SR.jpg: 320x416 (no detections), 17.5ms\n",
      "image 346/1107 C:\\Users\\gnvca\\OneDrive\\Desktop\\JP\\model03S\\dataset\\images\\test\\IDJPzvEJZhf2a.jpg: 224x416 (no detections), 16.2ms\n",
      "image 347/1107 C:\\Users\\gnvca\\OneDrive\\Desktop\\JP\\model03S\\dataset\\images\\test\\IDJQF2ZS.jpg: 320x416 2 panels, 12.6ms\n",
      "image 348/1107 C:\\Users\\gnvca\\OneDrive\\Desktop\\JP\\model03S\\dataset\\images\\test\\IDJS4VzDnTtJ.jpg: 320x416 2 panels, 13.2ms\n",
      "image 349/1107 C:\\Users\\gnvca\\OneDrive\\Desktop\\JP\\model03S\\dataset\\images\\test\\IDJUgiW.jpg: 416x352 1 boiler, 23.2ms\n",
      "image 350/1107 C:\\Users\\gnvca\\OneDrive\\Desktop\\JP\\model03S\\dataset\\images\\test\\IDJVD2rN.jpg: 320x416 2 panels, 18.9ms\n",
      "image 351/1107 C:\\Users\\gnvca\\OneDrive\\Desktop\\JP\\model03S\\dataset\\images\\test\\IDJZtxOMkpiYRa.jpg: 320x416 2 panels, 16.0ms\n",
      "image 352/1107 C:\\Users\\gnvca\\OneDrive\\Desktop\\JP\\model03S\\dataset\\images\\test\\IDJcjqW7rB1lwZqFx.jpg: 320x416 2 panels, 17.2ms\n",
      "image 353/1107 C:\\Users\\gnvca\\OneDrive\\Desktop\\JP\\model03S\\dataset\\images\\test\\IDJecFNJguvTRy.jpg: 320x416 2 panels, 14.9ms\n",
      "image 354/1107 C:\\Users\\gnvca\\OneDrive\\Desktop\\JP\\model03S\\dataset\\images\\test\\IDJgqLVP4.jpg: 320x416 2 panels, 12.1ms\n",
      "image 355/1107 C:\\Users\\gnvca\\OneDrive\\Desktop\\JP\\model03S\\dataset\\images\\test\\IDJjPgyGge1TnPgJv.jpg: 320x416 2 panels, 12.1ms\n",
      "image 356/1107 C:\\Users\\gnvca\\OneDrive\\Desktop\\JP\\model03S\\dataset\\images\\test\\IDJm4eh3XgV5Bg.jpg: 320x416 2 panels, 12.1ms\n",
      "image 357/1107 C:\\Users\\gnvca\\OneDrive\\Desktop\\JP\\model03S\\dataset\\images\\test\\IDJs41T23jz5WOuo.jpg: 320x416 (no detections), 17.7ms\n",
      "image 358/1107 C:\\Users\\gnvca\\OneDrive\\Desktop\\JP\\model03S\\dataset\\images\\test\\IDJyx6xO9.jpg: 416x384 1 boiler, 18.0ms\n",
      "image 359/1107 C:\\Users\\gnvca\\OneDrive\\Desktop\\JP\\model03S\\dataset\\images\\test\\IDK0gON4uZv8m.jpg: 320x416 2 panels, 16.8ms\n",
      "image 360/1107 C:\\Users\\gnvca\\OneDrive\\Desktop\\JP\\model03S\\dataset\\images\\test\\IDK0qLYlueh7zi.jpg: 320x416 (no detections), 16.0ms\n",
      "image 361/1107 C:\\Users\\gnvca\\OneDrive\\Desktop\\JP\\model03S\\dataset\\images\\test\\IDK6FSBNg6hTpcj.jpg: 320x416 2 panels, 17.8ms\n",
      "image 362/1107 C:\\Users\\gnvca\\OneDrive\\Desktop\\JP\\model03S\\dataset\\images\\test\\IDK6NUIqlE0HwT9.jpg: 320x416 2 panels, 16.5ms\n",
      "image 363/1107 C:\\Users\\gnvca\\OneDrive\\Desktop\\JP\\model03S\\dataset\\images\\test\\IDK6mJLUMf.jpg: 320x416 (no detections), 12.0ms\n",
      "image 364/1107 C:\\Users\\gnvca\\OneDrive\\Desktop\\JP\\model03S\\dataset\\images\\test\\IDK6t3c22YXu3tnGK.jpg: 320x416 2 panels, 17.4ms\n",
      "image 365/1107 C:\\Users\\gnvca\\OneDrive\\Desktop\\JP\\model03S\\dataset\\images\\test\\IDK6t6RbHOvqIBtXF.jpg: 320x416 (no detections), 13.0ms\n",
      "image 366/1107 C:\\Users\\gnvca\\OneDrive\\Desktop\\JP\\model03S\\dataset\\images\\test\\IDK882SHZ1oD3z.jpg: 320x416 3 panels, 12.1ms\n",
      "image 367/1107 C:\\Users\\gnvca\\OneDrive\\Desktop\\JP\\model03S\\dataset\\images\\test\\IDKBV4od6RPa.jpg: 320x416 2 panels, 17.6ms\n",
      "image 368/1107 C:\\Users\\gnvca\\OneDrive\\Desktop\\JP\\model03S\\dataset\\images\\test\\IDKCqD5tg3u.jpg: 320x416 2 panels, 17.7ms\n",
      "image 369/1107 C:\\Users\\gnvca\\OneDrive\\Desktop\\JP\\model03S\\dataset\\images\\test\\IDKEUzONz.jpg: 320x416 1 panel, 12.1ms\n",
      "image 370/1107 C:\\Users\\gnvca\\OneDrive\\Desktop\\JP\\model03S\\dataset\\images\\test\\IDKHE2jX.jpg: 320x416 (no detections), 18.2ms\n",
      "image 371/1107 C:\\Users\\gnvca\\OneDrive\\Desktop\\JP\\model03S\\dataset\\images\\test\\IDKHvdtrjzVQ.jpg: 320x416 2 panels, 12.1ms\n",
      "image 372/1107 C:\\Users\\gnvca\\OneDrive\\Desktop\\JP\\model03S\\dataset\\images\\test\\IDKN6hQUq3bX.jpg: 320x416 2 panels, 17.4ms\n",
      "image 373/1107 C:\\Users\\gnvca\\OneDrive\\Desktop\\JP\\model03S\\dataset\\images\\test\\IDKPtNdjHynOtygE.jpg: 320x416 2 panels, 17.7ms\n",
      "image 374/1107 C:\\Users\\gnvca\\OneDrive\\Desktop\\JP\\model03S\\dataset\\images\\test\\IDKVu0o7UiNsnD0Kk.jpg: 320x416 1 panel, 12.1ms\n",
      "image 375/1107 C:\\Users\\gnvca\\OneDrive\\Desktop\\JP\\model03S\\dataset\\images\\test\\IDKZJc7MGSN.jpg: 320x416 1 panel, 17.9ms\n",
      "image 376/1107 C:\\Users\\gnvca\\OneDrive\\Desktop\\JP\\model03S\\dataset\\images\\test\\IDKgQonsJWDoRjb3.jpg: 320x416 (no detections), 17.7ms\n",
      "image 377/1107 C:\\Users\\gnvca\\OneDrive\\Desktop\\JP\\model03S\\dataset\\images\\test\\IDKiLWnPnPXmg3.jpg: 320x416 2 panels, 16.1ms\n",
      "image 378/1107 C:\\Users\\gnvca\\OneDrive\\Desktop\\JP\\model03S\\dataset\\images\\test\\IDKnaHg0oiDMoz.jpg: 320x416 2 panels, 18.3ms\n",
      "image 379/1107 C:\\Users\\gnvca\\OneDrive\\Desktop\\JP\\model03S\\dataset\\images\\test\\IDKoYUe1Wc8.jpg: 320x416 2 panels, 12.1ms\n",
      "image 380/1107 C:\\Users\\gnvca\\OneDrive\\Desktop\\JP\\model03S\\dataset\\images\\test\\IDKrRNdjS1E.jpg: 320x416 2 panels, 17.6ms\n",
      "image 381/1107 C:\\Users\\gnvca\\OneDrive\\Desktop\\JP\\model03S\\dataset\\images\\test\\IDKrSuEjdC4P.jpg: 320x416 2 panels, 16.2ms\n",
      "image 382/1107 C:\\Users\\gnvca\\OneDrive\\Desktop\\JP\\model03S\\dataset\\images\\test\\IDKrqli.jpg: 320x416 (no detections), 15.7ms\n",
      "image 383/1107 C:\\Users\\gnvca\\OneDrive\\Desktop\\JP\\model03S\\dataset\\images\\test\\IDKsG3vt.jpg: 320x416 5 panels, 21.7ms\n",
      "image 384/1107 C:\\Users\\gnvca\\OneDrive\\Desktop\\JP\\model03S\\dataset\\images\\test\\IDKtF1CeNRz9g0x.jpg: 256x416 1 panel, 19.4ms\n",
      "image 385/1107 C:\\Users\\gnvca\\OneDrive\\Desktop\\JP\\model03S\\dataset\\images\\test\\IDKvGcqSmZA8qmMYP.jpg: 416x416 (no detections), 27.6ms\n",
      "image 386/1107 C:\\Users\\gnvca\\OneDrive\\Desktop\\JP\\model03S\\dataset\\images\\test\\IDKyI51Rf8tm.jpg: 320x416 (no detections), 20.2ms\n",
      "image 387/1107 C:\\Users\\gnvca\\OneDrive\\Desktop\\JP\\model03S\\dataset\\images\\test\\IDL2kHjS.jpg: 320x416 2 panels, 12.0ms\n",
      "image 388/1107 C:\\Users\\gnvca\\OneDrive\\Desktop\\JP\\model03S\\dataset\\images\\test\\IDL44beN.jpg: 416x416 (no detections), 18.9ms\n",
      "image 389/1107 C:\\Users\\gnvca\\OneDrive\\Desktop\\JP\\model03S\\dataset\\images\\test\\IDL46Fnc6PY4E.jpg: 416x416 3 panels, 19.1ms\n",
      "image 390/1107 C:\\Users\\gnvca\\OneDrive\\Desktop\\JP\\model03S\\dataset\\images\\test\\IDL6NaRNLLn9MbR.jpg: 320x416 (no detections), 15.0ms\n",
      "image 391/1107 C:\\Users\\gnvca\\OneDrive\\Desktop\\JP\\model03S\\dataset\\images\\test\\IDL927XZBhgyobC.jpg: 320x416 1 panel, 12.0ms\n",
      "image 392/1107 C:\\Users\\gnvca\\OneDrive\\Desktop\\JP\\model03S\\dataset\\images\\test\\IDL9wX7t3MpVd.jpg: 320x416 (no detections), 13.3ms\n",
      "image 393/1107 C:\\Users\\gnvca\\OneDrive\\Desktop\\JP\\model03S\\dataset\\images\\test\\IDLFnxZdIRqAxI.jpg: 320x416 1 panel, 16.5ms\n",
      "image 394/1107 C:\\Users\\gnvca\\OneDrive\\Desktop\\JP\\model03S\\dataset\\images\\test\\IDLHY6K77bSVERJb.jpg: 288x416 (no detections), 12.4ms\n",
      "image 395/1107 C:\\Users\\gnvca\\OneDrive\\Desktop\\JP\\model03S\\dataset\\images\\test\\IDLM7WrW5LOw0JE42.jpg: 320x416 2 panels, 18.5ms\n",
      "image 396/1107 C:\\Users\\gnvca\\OneDrive\\Desktop\\JP\\model03S\\dataset\\images\\test\\IDLMOoYDz9M8N.jpg: 320x416 2 panels, 14.8ms\n",
      "image 397/1107 C:\\Users\\gnvca\\OneDrive\\Desktop\\JP\\model03S\\dataset\\images\\test\\IDLN4CraOUqR9.jpg: 320x416 2 panels, 14.7ms\n",
      "image 398/1107 C:\\Users\\gnvca\\OneDrive\\Desktop\\JP\\model03S\\dataset\\images\\test\\IDLSX0gkiL15.jpg: 320x416 2 panels, 15.8ms\n",
      "image 399/1107 C:\\Users\\gnvca\\OneDrive\\Desktop\\JP\\model03S\\dataset\\images\\test\\IDLU0exqD.jpg: 320x416 1 panel, 16.1ms\n",
      "image 400/1107 C:\\Users\\gnvca\\OneDrive\\Desktop\\JP\\model03S\\dataset\\images\\test\\IDLVYKB1P.jpg: 320x416 1 panel, 15.2ms\n",
      "image 401/1107 C:\\Users\\gnvca\\OneDrive\\Desktop\\JP\\model03S\\dataset\\images\\test\\IDLarIQ0CA16.jpg: 320x416 (no detections), 14.7ms\n",
      "image 402/1107 C:\\Users\\gnvca\\OneDrive\\Desktop\\JP\\model03S\\dataset\\images\\test\\IDLav1R.jpg: 320x416 2 panels, 12.8ms\n",
      "image 403/1107 C:\\Users\\gnvca\\OneDrive\\Desktop\\JP\\model03S\\dataset\\images\\test\\IDLesHQ.jpg: 320x416 2 panels, 14.8ms\n",
      "image 404/1107 C:\\Users\\gnvca\\OneDrive\\Desktop\\JP\\model03S\\dataset\\images\\test\\IDLgse7l8nBf0.jpg: 320x416 (no detections), 16.1ms\n",
      "image 405/1107 C:\\Users\\gnvca\\OneDrive\\Desktop\\JP\\model03S\\dataset\\images\\test\\IDLjn1l8c.jpg: 320x416 2 panels, 16.0ms\n",
      "image 406/1107 C:\\Users\\gnvca\\OneDrive\\Desktop\\JP\\model03S\\dataset\\images\\test\\IDLon5uvygjfKg.jpg: 320x416 2 panels, 14.8ms\n",
      "image 407/1107 C:\\Users\\gnvca\\OneDrive\\Desktop\\JP\\model03S\\dataset\\images\\test\\IDLuRayCZLN2OnTt.jpg: 320x416 1 panel, 15.3ms\n",
      "image 408/1107 C:\\Users\\gnvca\\OneDrive\\Desktop\\JP\\model03S\\dataset\\images\\test\\IDLwNWXtY.jpg: 320x416 2 panels, 13.0ms\n",
      "image 409/1107 C:\\Users\\gnvca\\OneDrive\\Desktop\\JP\\model03S\\dataset\\images\\test\\IDM230xets.jpg: 320x416 (no detections), 13.4ms\n",
      "image 410/1107 C:\\Users\\gnvca\\OneDrive\\Desktop\\JP\\model03S\\dataset\\images\\test\\IDM2qQtF5Nuxvq.jpg: 320x416 (no detections), 12.8ms\n",
      "image 411/1107 C:\\Users\\gnvca\\OneDrive\\Desktop\\JP\\model03S\\dataset\\images\\test\\IDM3KBbS465Eej.jpg: 320x416 (no detections), 15.3ms\n",
      "image 412/1107 C:\\Users\\gnvca\\OneDrive\\Desktop\\JP\\model03S\\dataset\\images\\test\\IDM51Yxqc5J6HMZuX.jpg: 320x416 1 panel, 15.5ms\n",
      "image 413/1107 C:\\Users\\gnvca\\OneDrive\\Desktop\\JP\\model03S\\dataset\\images\\test\\IDM9BLAbWdbSgTN7.jpg: 320x416 (no detections), 12.1ms\n",
      "image 414/1107 C:\\Users\\gnvca\\OneDrive\\Desktop\\JP\\model03S\\dataset\\images\\test\\IDMGiM3AsZNFO8w5.jpg: 320x416 2 panels, 15.9ms\n",
      "image 415/1107 C:\\Users\\gnvca\\OneDrive\\Desktop\\JP\\model03S\\dataset\\images\\test\\IDMGuoBeQvwgY9KM0.jpg: 320x416 2 panels, 14.9ms\n",
      "image 416/1107 C:\\Users\\gnvca\\OneDrive\\Desktop\\JP\\model03S\\dataset\\images\\test\\IDMGv0j4OanVo8y.jpg: 320x416 (no detections), 12.9ms\n",
      "image 417/1107 C:\\Users\\gnvca\\OneDrive\\Desktop\\JP\\model03S\\dataset\\images\\test\\IDMKQzV7p.jpg: 320x416 1 panel, 16.2ms\n",
      "image 418/1107 C:\\Users\\gnvca\\OneDrive\\Desktop\\JP\\model03S\\dataset\\images\\test\\IDML2yL.jpg: 320x416 2 panels, 15.0ms\n",
      "image 419/1107 C:\\Users\\gnvca\\OneDrive\\Desktop\\JP\\model03S\\dataset\\images\\test\\IDMNmCxlLPoPx.jpg: 320x416 2 panels, 16.3ms\n",
      "image 420/1107 C:\\Users\\gnvca\\OneDrive\\Desktop\\JP\\model03S\\dataset\\images\\test\\IDMQXs48kD6zgII3.jpg: 320x416 3 panels, 15.8ms\n",
      "image 421/1107 C:\\Users\\gnvca\\OneDrive\\Desktop\\JP\\model03S\\dataset\\images\\test\\IDMR2NnOOJK9v.jpg: 320x416 (no detections), 14.5ms\n",
      "image 422/1107 C:\\Users\\gnvca\\OneDrive\\Desktop\\JP\\model03S\\dataset\\images\\test\\IDMTCM6VND5g1tx.jpg: 320x416 (no detections), 17.3ms\n",
      "image 423/1107 C:\\Users\\gnvca\\OneDrive\\Desktop\\JP\\model03S\\dataset\\images\\test\\IDMUYJWk7qeED.jpg: 320x416 (no detections), 21.4ms\n",
      "image 424/1107 C:\\Users\\gnvca\\OneDrive\\Desktop\\JP\\model03S\\dataset\\images\\test\\IDMZx0L.jpg: 320x416 2 panels, 14.7ms\n",
      "image 425/1107 C:\\Users\\gnvca\\OneDrive\\Desktop\\JP\\model03S\\dataset\\images\\test\\IDMblBvBq2RONQv11.jpg: 320x416 3 panels, 16.7ms\n",
      "image 426/1107 C:\\Users\\gnvca\\OneDrive\\Desktop\\JP\\model03S\\dataset\\images\\test\\IDMcPyJnQ.jpg: 416x416 (no detections), 20.4ms\n",
      "image 427/1107 C:\\Users\\gnvca\\OneDrive\\Desktop\\JP\\model03S\\dataset\\images\\test\\IDMcpx6mjEjJT.jpg: 320x416 1 panel, 16.0ms\n",
      "image 428/1107 C:\\Users\\gnvca\\OneDrive\\Desktop\\JP\\model03S\\dataset\\images\\test\\IDMdVbIPkq.jpg: 416x384 1 boiler, 17.9ms\n",
      "image 429/1107 C:\\Users\\gnvca\\OneDrive\\Desktop\\JP\\model03S\\dataset\\images\\test\\IDMdli49mBg5uZud.jpg: 352x416 (no detections), 17.7ms\n",
      "image 430/1107 C:\\Users\\gnvca\\OneDrive\\Desktop\\JP\\model03S\\dataset\\images\\test\\IDMj9QZSf0wo.jpg: 320x416 3 panels, 17.5ms\n",
      "image 431/1107 C:\\Users\\gnvca\\OneDrive\\Desktop\\JP\\model03S\\dataset\\images\\test\\IDMkxko.jpg: 320x416 2 panels, 13.3ms\n",
      "image 432/1107 C:\\Users\\gnvca\\OneDrive\\Desktop\\JP\\model03S\\dataset\\images\\test\\IDMtX7L.jpg: 320x416 2 panels, 21.4ms\n",
      "image 433/1107 C:\\Users\\gnvca\\OneDrive\\Desktop\\JP\\model03S\\dataset\\images\\test\\IDMxDFck.jpg: 320x416 2 panels, 19.5ms\n",
      "image 434/1107 C:\\Users\\gnvca\\OneDrive\\Desktop\\JP\\model03S\\dataset\\images\\test\\IDMxaHDh.jpg: 320x416 2 panels, 16.7ms\n",
      "image 435/1107 C:\\Users\\gnvca\\OneDrive\\Desktop\\JP\\model03S\\dataset\\images\\test\\IDMzjzfm9zDRx.jpg: 320x416 1 panel, 13.6ms\n",
      "image 436/1107 C:\\Users\\gnvca\\OneDrive\\Desktop\\JP\\model03S\\dataset\\images\\test\\IDN1cCi.jpg: 416x416 5 panels, 21.8ms\n",
      "image 437/1107 C:\\Users\\gnvca\\OneDrive\\Desktop\\JP\\model03S\\dataset\\images\\test\\IDN3VLbRB.jpg: 320x416 1 panel, 16.5ms\n",
      "image 438/1107 C:\\Users\\gnvca\\OneDrive\\Desktop\\JP\\model03S\\dataset\\images\\test\\IDN5iKVxB.jpg: 320x416 2 panels, 19.2ms\n",
      "image 439/1107 C:\\Users\\gnvca\\OneDrive\\Desktop\\JP\\model03S\\dataset\\images\\test\\IDNB13Sq0.jpg: 320x416 2 panels, 12.9ms\n",
      "image 440/1107 C:\\Users\\gnvca\\OneDrive\\Desktop\\JP\\model03S\\dataset\\images\\test\\IDNBjVC8SxqDkIWf.jpg: 320x416 1 panel, 14.9ms\n",
      "image 441/1107 C:\\Users\\gnvca\\OneDrive\\Desktop\\JP\\model03S\\dataset\\images\\test\\IDNCrauw.jpg: 320x416 2 panels, 15.5ms\n",
      "image 442/1107 C:\\Users\\gnvca\\OneDrive\\Desktop\\JP\\model03S\\dataset\\images\\test\\IDNDx1HtBlb3hK.jpg: 320x416 2 panels, 16.1ms\n",
      "image 443/1107 C:\\Users\\gnvca\\OneDrive\\Desktop\\JP\\model03S\\dataset\\images\\test\\IDNIPm4e5.jpg: 320x416 1 panel, 16.6ms\n",
      "image 444/1107 C:\\Users\\gnvca\\OneDrive\\Desktop\\JP\\model03S\\dataset\\images\\test\\IDNK9ZcQaleKeH3M.jpg: 416x256 (no detections), 16.5ms\n",
      "image 445/1107 C:\\Users\\gnvca\\OneDrive\\Desktop\\JP\\model03S\\dataset\\images\\test\\IDNNe7rtayXqPyD.jpg: 320x416 (no detections), 12.6ms\n",
      "image 446/1107 C:\\Users\\gnvca\\OneDrive\\Desktop\\JP\\model03S\\dataset\\images\\test\\IDNOkVPbjqkOaE4.jpg: 320x416 1 panel, 14.0ms\n",
      "image 447/1107 C:\\Users\\gnvca\\OneDrive\\Desktop\\JP\\model03S\\dataset\\images\\test\\IDNPNs0vbRQ9Bnc.jpg: 320x416 1 panel, 22.5ms\n",
      "image 448/1107 C:\\Users\\gnvca\\OneDrive\\Desktop\\JP\\model03S\\dataset\\images\\test\\IDNPUOLqoTeRnP.jpg: 320x416 2 panels, 14.2ms\n",
      "image 449/1107 C:\\Users\\gnvca\\OneDrive\\Desktop\\JP\\model03S\\dataset\\images\\test\\IDNPnuenHZFlXb5O8.jpg: 320x416 3 panels, 14.5ms\n",
      "image 450/1107 C:\\Users\\gnvca\\OneDrive\\Desktop\\JP\\model03S\\dataset\\images\\test\\IDNSCnqUC9XmOCm.jpg: 320x416 2 panels, 14.1ms\n",
      "image 451/1107 C:\\Users\\gnvca\\OneDrive\\Desktop\\JP\\model03S\\dataset\\images\\test\\IDNXDxhOyEQBn28n.jpg: 320x416 2 panels, 15.6ms\n",
      "image 452/1107 C:\\Users\\gnvca\\OneDrive\\Desktop\\JP\\model03S\\dataset\\images\\test\\IDNXKJf7.jpg: 416x416 (no detections), 17.9ms\n",
      "image 453/1107 C:\\Users\\gnvca\\OneDrive\\Desktop\\JP\\model03S\\dataset\\images\\test\\IDNXvdJz7W1.jpg: 320x416 2 panels, 15.5ms\n",
      "image 454/1107 C:\\Users\\gnvca\\OneDrive\\Desktop\\JP\\model03S\\dataset\\images\\test\\IDNbaHZfQfK.jpg: 320x416 (no detections), 13.5ms\n",
      "image 455/1107 C:\\Users\\gnvca\\OneDrive\\Desktop\\JP\\model03S\\dataset\\images\\test\\IDNcYErXJyR.jpg: 320x416 2 panels, 15.8ms\n",
      "image 456/1107 C:\\Users\\gnvca\\OneDrive\\Desktop\\JP\\model03S\\dataset\\images\\test\\IDNg4JnI5aXKFDL.jpg: 320x416 2 panels, 20.2ms\n",
      "image 457/1107 C:\\Users\\gnvca\\OneDrive\\Desktop\\JP\\model03S\\dataset\\images\\test\\IDNhI1pLC.jpg: 320x416 (no detections), 12.8ms\n",
      "image 458/1107 C:\\Users\\gnvca\\OneDrive\\Desktop\\JP\\model03S\\dataset\\images\\test\\IDNit7il1k.jpg: 320x416 (no detections), 13.1ms\n",
      "image 459/1107 C:\\Users\\gnvca\\OneDrive\\Desktop\\JP\\model03S\\dataset\\images\\test\\IDNmw1aq.jpg: 320x416 (no detections), 15.5ms\n",
      "image 460/1107 C:\\Users\\gnvca\\OneDrive\\Desktop\\JP\\model03S\\dataset\\images\\test\\IDNvVkeJvG5Mu0e.jpg: 320x416 1 panel, 16.0ms\n",
      "image 461/1107 C:\\Users\\gnvca\\OneDrive\\Desktop\\JP\\model03S\\dataset\\images\\test\\IDNz5ndBpJSUJC.jpg: 320x416 2 panels, 16.2ms\n",
      "image 462/1107 C:\\Users\\gnvca\\OneDrive\\Desktop\\JP\\model03S\\dataset\\images\\test\\IDO3Nbs4Cgz.jpg: 320x416 2 panels, 14.8ms\n",
      "image 463/1107 C:\\Users\\gnvca\\OneDrive\\Desktop\\JP\\model03S\\dataset\\images\\test\\IDO3YczvTG.jpg: 352x416 1 panel, 16.2ms\n",
      "image 464/1107 C:\\Users\\gnvca\\OneDrive\\Desktop\\JP\\model03S\\dataset\\images\\test\\IDO7uXl1qf.jpg: 320x416 4 panels, 15.6ms\n",
      "image 465/1107 C:\\Users\\gnvca\\OneDrive\\Desktop\\JP\\model03S\\dataset\\images\\test\\IDO8ardH2SCCEh.jpg: 384x416 1 boiler, 17.0ms\n",
      "image 466/1107 C:\\Users\\gnvca\\OneDrive\\Desktop\\JP\\model03S\\dataset\\images\\test\\IDOE1T3uLBCe.jpg: 320x416 2 panels, 18.2ms\n",
      "image 467/1107 C:\\Users\\gnvca\\OneDrive\\Desktop\\JP\\model03S\\dataset\\images\\test\\IDOFTIAH2rIRD.jpg: 320x416 (no detections), 15.1ms\n",
      "image 468/1107 C:\\Users\\gnvca\\OneDrive\\Desktop\\JP\\model03S\\dataset\\images\\test\\IDOFiblI7dE1tt.jpg: 320x416 2 panels, 13.3ms\n",
      "image 469/1107 C:\\Users\\gnvca\\OneDrive\\Desktop\\JP\\model03S\\dataset\\images\\test\\IDOIUJna2m1kHIpz.jpg: 320x416 2 panels, 14.8ms\n",
      "image 470/1107 C:\\Users\\gnvca\\OneDrive\\Desktop\\JP\\model03S\\dataset\\images\\test\\IDOIZqkNpG.jpg: 320x416 2 panels, 15.2ms\n",
      "image 471/1107 C:\\Users\\gnvca\\OneDrive\\Desktop\\JP\\model03S\\dataset\\images\\test\\IDOJdQwe0Jn.jpg: 320x416 3 panels, 15.1ms\n",
      "image 472/1107 C:\\Users\\gnvca\\OneDrive\\Desktop\\JP\\model03S\\dataset\\images\\test\\IDOL2x4vzHo2t.jpg: 320x416 1 panel, 15.8ms\n",
      "image 473/1107 C:\\Users\\gnvca\\OneDrive\\Desktop\\JP\\model03S\\dataset\\images\\test\\IDOSil7QbG.jpg: 320x416 (no detections), 16.7ms\n",
      "image 474/1107 C:\\Users\\gnvca\\OneDrive\\Desktop\\JP\\model03S\\dataset\\images\\test\\IDOTvWB.jpg: 320x416 (no detections), 28.1ms\n",
      "image 475/1107 C:\\Users\\gnvca\\OneDrive\\Desktop\\JP\\model03S\\dataset\\images\\test\\IDOWmr0Gc1.jpg: 352x416 (no detections), 18.4ms\n",
      "image 476/1107 C:\\Users\\gnvca\\OneDrive\\Desktop\\JP\\model03S\\dataset\\images\\test\\IDOXsvq4GzS6AyJbf.jpg: 320x416 2 panels, 15.1ms\n",
      "image 477/1107 C:\\Users\\gnvca\\OneDrive\\Desktop\\JP\\model03S\\dataset\\images\\test\\IDOYY22kAh5G0T.jpg: 320x416 (no detections), 15.8ms\n",
      "image 478/1107 C:\\Users\\gnvca\\OneDrive\\Desktop\\JP\\model03S\\dataset\\images\\test\\IDOc9ZSO1x3gF81.jpg: 320x416 (no detections), 14.3ms\n",
      "image 479/1107 C:\\Users\\gnvca\\OneDrive\\Desktop\\JP\\model03S\\dataset\\images\\test\\IDOddsmtY.jpg: 320x416 2 panels, 16.6ms\n",
      "image 480/1107 C:\\Users\\gnvca\\OneDrive\\Desktop\\JP\\model03S\\dataset\\images\\test\\IDOgPWC.jpg: 320x416 2 panels, 15.4ms\n",
      "image 481/1107 C:\\Users\\gnvca\\OneDrive\\Desktop\\JP\\model03S\\dataset\\images\\test\\IDOmSQpfls.jpg: 320x416 (no detections), 14.9ms\n",
      "image 482/1107 C:\\Users\\gnvca\\OneDrive\\Desktop\\JP\\model03S\\dataset\\images\\test\\IDP4AcJ.jpg: 320x416 2 panels, 15.0ms\n",
      "image 483/1107 C:\\Users\\gnvca\\OneDrive\\Desktop\\JP\\model03S\\dataset\\images\\test\\IDP62tlw063.jpg: 320x416 2 panels, 13.5ms\n",
      "image 484/1107 C:\\Users\\gnvca\\OneDrive\\Desktop\\JP\\model03S\\dataset\\images\\test\\IDP6Pfy3G.jpg: 320x416 2 panels, 14.6ms\n",
      "image 485/1107 C:\\Users\\gnvca\\OneDrive\\Desktop\\JP\\model03S\\dataset\\images\\test\\IDP8yPZ.jpg: 416x416 1 boiler, 25.3ms\n",
      "image 486/1107 C:\\Users\\gnvca\\OneDrive\\Desktop\\JP\\model03S\\dataset\\images\\test\\IDP9rc6Hpu.jpg: 320x416 2 panels, 17.9ms\n",
      "image 487/1107 C:\\Users\\gnvca\\OneDrive\\Desktop\\JP\\model03S\\dataset\\images\\test\\IDPCQNAYWKeNW.jpg: 320x416 2 panels, 15.6ms\n",
      "image 488/1107 C:\\Users\\gnvca\\OneDrive\\Desktop\\JP\\model03S\\dataset\\images\\test\\IDPEzqtTD031h.jpg: 320x416 2 panels, 16.3ms\n",
      "image 489/1107 C:\\Users\\gnvca\\OneDrive\\Desktop\\JP\\model03S\\dataset\\images\\test\\IDPHtAoYIkGvT.jpg: 320x416 2 panels, 14.7ms\n",
      "image 490/1107 C:\\Users\\gnvca\\OneDrive\\Desktop\\JP\\model03S\\dataset\\images\\test\\IDPNeUgh8WbDfK.jpg: 320x416 2 panels, 13.6ms\n",
      "image 491/1107 C:\\Users\\gnvca\\OneDrive\\Desktop\\JP\\model03S\\dataset\\images\\test\\IDPSX04HF.jpg: 320x416 3 panels, 16.8ms\n",
      "image 492/1107 C:\\Users\\gnvca\\OneDrive\\Desktop\\JP\\model03S\\dataset\\images\\test\\IDPSxbXW5tPnM.jpg: 320x416 2 panels, 14.6ms\n",
      "image 493/1107 C:\\Users\\gnvca\\OneDrive\\Desktop\\JP\\model03S\\dataset\\images\\test\\IDPdzEzd4MjJwC.jpg: 320x416 2 panels, 12.0ms\n",
      "image 494/1107 C:\\Users\\gnvca\\OneDrive\\Desktop\\JP\\model03S\\dataset\\images\\test\\IDPokFP.jpg: 320x416 2 panels, 14.8ms\n",
      "image 495/1107 C:\\Users\\gnvca\\OneDrive\\Desktop\\JP\\model03S\\dataset\\images\\test\\IDPsGUFxHtTUZ.jpg: 320x416 2 panels, 14.3ms\n",
      "image 496/1107 C:\\Users\\gnvca\\OneDrive\\Desktop\\JP\\model03S\\dataset\\images\\test\\IDPtql7rXD.jpg: 320x416 (no detections), 15.9ms\n",
      "image 497/1107 C:\\Users\\gnvca\\OneDrive\\Desktop\\JP\\model03S\\dataset\\images\\test\\IDPtwO0d4Ta.jpg: 320x416 2 panels, 13.7ms\n",
      "image 498/1107 C:\\Users\\gnvca\\OneDrive\\Desktop\\JP\\model03S\\dataset\\images\\test\\IDPua0q.jpg: 352x416 1 boiler, 16.2ms\n",
      "image 499/1107 C:\\Users\\gnvca\\OneDrive\\Desktop\\JP\\model03S\\dataset\\images\\test\\IDQ2qFEDWOCT.jpg: 320x416 (no detections), 14.2ms\n",
      "image 500/1107 C:\\Users\\gnvca\\OneDrive\\Desktop\\JP\\model03S\\dataset\\images\\test\\IDQ41Nw0R9o9kX4.jpg: 224x416 (no detections), 16.2ms\n",
      "image 501/1107 C:\\Users\\gnvca\\OneDrive\\Desktop\\JP\\model03S\\dataset\\images\\test\\IDQ5RlAY.jpg: 288x416 (no detections), 15.3ms\n",
      "image 502/1107 C:\\Users\\gnvca\\OneDrive\\Desktop\\JP\\model03S\\dataset\\images\\test\\IDQ6GBCrQCnU68qGR.jpg: 320x416 2 panels, 15.3ms\n",
      "image 503/1107 C:\\Users\\gnvca\\OneDrive\\Desktop\\JP\\model03S\\dataset\\images\\test\\IDQ8I5cc6.jpg: 320x416 1 panel, 16.0ms\n",
      "image 504/1107 C:\\Users\\gnvca\\OneDrive\\Desktop\\JP\\model03S\\dataset\\images\\test\\IDQB0WEU30ws.jpg: 320x416 2 panels, 12.1ms\n",
      "image 505/1107 C:\\Users\\gnvca\\OneDrive\\Desktop\\JP\\model03S\\dataset\\images\\test\\IDQBFMVT1AtcPzZ.jpg: 320x416 2 panels, 15.8ms\n",
      "image 506/1107 C:\\Users\\gnvca\\OneDrive\\Desktop\\JP\\model03S\\dataset\\images\\test\\IDQFWf23PpUc.jpg: 320x416 1 panel, 15.5ms\n",
      "image 507/1107 C:\\Users\\gnvca\\OneDrive\\Desktop\\JP\\model03S\\dataset\\images\\test\\IDQGrKKR.jpg: 320x416 2 panels, 14.5ms\n",
      "image 508/1107 C:\\Users\\gnvca\\OneDrive\\Desktop\\JP\\model03S\\dataset\\images\\test\\IDQP5NDegX.jpg: 320x416 1 panel, 15.9ms\n",
      "image 509/1107 C:\\Users\\gnvca\\OneDrive\\Desktop\\JP\\model03S\\dataset\\images\\test\\IDQTwuOnn9C.jpg: 320x416 1 boiler, 13.3ms\n",
      "image 510/1107 C:\\Users\\gnvca\\OneDrive\\Desktop\\JP\\model03S\\dataset\\images\\test\\IDQW59NVLvUfAXt.jpg: 320x416 2 panels, 16.7ms\n",
      "image 511/1107 C:\\Users\\gnvca\\OneDrive\\Desktop\\JP\\model03S\\dataset\\images\\test\\IDQbcNyo9HWRLA.jpg: 320x416 3 panels, 14.7ms\n",
      "image 512/1107 C:\\Users\\gnvca\\OneDrive\\Desktop\\JP\\model03S\\dataset\\images\\test\\IDQdwNuYup.jpg: 416x416 (no detections), 16.8ms\n",
      "image 513/1107 C:\\Users\\gnvca\\OneDrive\\Desktop\\JP\\model03S\\dataset\\images\\test\\IDQm5eRSAdG0sB.jpg: 320x416 (no detections), 14.7ms\n",
      "image 514/1107 C:\\Users\\gnvca\\OneDrive\\Desktop\\JP\\model03S\\dataset\\images\\test\\IDQr5AXcM3eN.jpg: 320x416 (no detections), 15.2ms\n",
      "image 515/1107 C:\\Users\\gnvca\\OneDrive\\Desktop\\JP\\model03S\\dataset\\images\\test\\IDQtwjxiGA2Ou1K.jpg: 320x416 1 panel, 14.8ms\n",
      "image 516/1107 C:\\Users\\gnvca\\OneDrive\\Desktop\\JP\\model03S\\dataset\\images\\test\\IDR07XaHK.jpg: 320x416 1 panel, 12.1ms\n",
      "image 517/1107 C:\\Users\\gnvca\\OneDrive\\Desktop\\JP\\model03S\\dataset\\images\\test\\IDR5ILztiEWJcobS.jpg: 320x416 (no detections), 15.0ms\n",
      "image 518/1107 C:\\Users\\gnvca\\OneDrive\\Desktop\\JP\\model03S\\dataset\\images\\test\\IDR6SAyLmh3JLx.jpg: 320x416 2 panels, 12.1ms\n",
      "image 519/1107 C:\\Users\\gnvca\\OneDrive\\Desktop\\JP\\model03S\\dataset\\images\\test\\IDR7dlqS22CCf.jpg: 320x416 2 panels, 15.1ms\n",
      "image 520/1107 C:\\Users\\gnvca\\OneDrive\\Desktop\\JP\\model03S\\dataset\\images\\test\\IDR8udMWlWb.jpg: 320x416 2 panels, 12.1ms\n",
      "image 521/1107 C:\\Users\\gnvca\\OneDrive\\Desktop\\JP\\model03S\\dataset\\images\\test\\IDR8wCZ4yd2.jpg: 320x416 (no detections), 14.9ms\n",
      "image 522/1107 C:\\Users\\gnvca\\OneDrive\\Desktop\\JP\\model03S\\dataset\\images\\test\\IDR9jPd9v0d.jpg: 320x416 2 panels, 15.8ms\n",
      "image 523/1107 C:\\Users\\gnvca\\OneDrive\\Desktop\\JP\\model03S\\dataset\\images\\test\\IDRBIFU0izv.jpg: 320x416 1 panel, 14.5ms\n",
      "image 524/1107 C:\\Users\\gnvca\\OneDrive\\Desktop\\JP\\model03S\\dataset\\images\\test\\IDRKqDqTuG.jpg: 320x416 2 panels, 16.0ms\n",
      "image 525/1107 C:\\Users\\gnvca\\OneDrive\\Desktop\\JP\\model03S\\dataset\\images\\test\\IDRP8faSjvnI.jpg: 320x416 2 panels, 16.2ms\n",
      "image 526/1107 C:\\Users\\gnvca\\OneDrive\\Desktop\\JP\\model03S\\dataset\\images\\test\\IDRYuoNRdkfNf.jpg: 320x416 (no detections), 17.9ms\n",
      "image 527/1107 C:\\Users\\gnvca\\OneDrive\\Desktop\\JP\\model03S\\dataset\\images\\test\\IDRZeavYJg.jpg: 320x416 2 panels, 14.8ms\n",
      "image 528/1107 C:\\Users\\gnvca\\OneDrive\\Desktop\\JP\\model03S\\dataset\\images\\test\\IDRaO6YRAwASlUJV.jpg: 320x416 (no detections), 14.7ms\n",
      "image 529/1107 C:\\Users\\gnvca\\OneDrive\\Desktop\\JP\\model03S\\dataset\\images\\test\\IDRghDoQ9FtuYcwdt.jpg: 320x416 (no detections), 14.2ms\n",
      "image 530/1107 C:\\Users\\gnvca\\OneDrive\\Desktop\\JP\\model03S\\dataset\\images\\test\\IDRl5a2wEx6OGQqT.jpg: 320x416 2 panels, 12.1ms\n",
      "image 531/1107 C:\\Users\\gnvca\\OneDrive\\Desktop\\JP\\model03S\\dataset\\images\\test\\IDRnq8X.jpg: 320x416 2 panels, 17.0ms\n",
      "image 532/1107 C:\\Users\\gnvca\\OneDrive\\Desktop\\JP\\model03S\\dataset\\images\\test\\IDRppqUhXT2Mn0R.jpg: 320x416 (no detections), 17.7ms\n",
      "image 533/1107 C:\\Users\\gnvca\\OneDrive\\Desktop\\JP\\model03S\\dataset\\images\\test\\IDRrUW3ndT.jpg: 320x416 2 panels, 17.8ms\n",
      "image 534/1107 C:\\Users\\gnvca\\OneDrive\\Desktop\\JP\\model03S\\dataset\\images\\test\\IDRu1SeBHN6.jpg: 320x416 1 panel, 18.0ms\n",
      "image 535/1107 C:\\Users\\gnvca\\OneDrive\\Desktop\\JP\\model03S\\dataset\\images\\test\\IDRvu7vt2zBrN.jpg: 416x288 1 boiler, 14.0ms\n",
      "image 536/1107 C:\\Users\\gnvca\\OneDrive\\Desktop\\JP\\model03S\\dataset\\images\\test\\IDRxZ6XtPbRK.jpg: 320x416 1 panel, 18.3ms\n",
      "image 537/1107 C:\\Users\\gnvca\\OneDrive\\Desktop\\JP\\model03S\\dataset\\images\\test\\IDRyt3zB02d.jpg: 320x416 2 panels, 16.3ms\n",
      "image 538/1107 C:\\Users\\gnvca\\OneDrive\\Desktop\\JP\\model03S\\dataset\\images\\test\\IDS0NVw.jpg: 320x416 2 panels, 17.9ms\n",
      "image 539/1107 C:\\Users\\gnvca\\OneDrive\\Desktop\\JP\\model03S\\dataset\\images\\test\\IDS1IvSdbtq6.jpg: 320x416 (no detections), 17.8ms\n",
      "image 540/1107 C:\\Users\\gnvca\\OneDrive\\Desktop\\JP\\model03S\\dataset\\images\\test\\IDSAQZD.jpg: 416x384 1 boiler, 21.3ms\n",
      "image 541/1107 C:\\Users\\gnvca\\OneDrive\\Desktop\\JP\\model03S\\dataset\\images\\test\\IDSDUpCbwxJ.jpg: 320x416 (no detections), 20.2ms\n",
      "image 542/1107 C:\\Users\\gnvca\\OneDrive\\Desktop\\JP\\model03S\\dataset\\images\\test\\IDSDiLo.jpg: 352x416 2 panels, 26.4ms\n",
      "image 543/1107 C:\\Users\\gnvca\\OneDrive\\Desktop\\JP\\model03S\\dataset\\images\\test\\IDSGQS7xL.jpg: 288x416 5 panels, 13.9ms\n",
      "image 544/1107 C:\\Users\\gnvca\\OneDrive\\Desktop\\JP\\model03S\\dataset\\images\\test\\IDSH4cGXPoVxLc9K.jpg: 320x416 2 panels, 14.8ms\n",
      "image 545/1107 C:\\Users\\gnvca\\OneDrive\\Desktop\\JP\\model03S\\dataset\\images\\test\\IDSIXGFQie.jpg: 320x416 2 panels, 13.3ms\n",
      "image 546/1107 C:\\Users\\gnvca\\OneDrive\\Desktop\\JP\\model03S\\dataset\\images\\test\\IDSLtdw20.jpg: 352x416 (no detections), 20.8ms\n",
      "image 547/1107 C:\\Users\\gnvca\\OneDrive\\Desktop\\JP\\model03S\\dataset\\images\\test\\IDSV1kLo6kBJ.jpg: 320x416 2 panels, 16.9ms\n",
      "image 548/1107 C:\\Users\\gnvca\\OneDrive\\Desktop\\JP\\model03S\\dataset\\images\\test\\IDSiRPkvdN.jpg: 320x416 (no detections), 17.1ms\n",
      "image 549/1107 C:\\Users\\gnvca\\OneDrive\\Desktop\\JP\\model03S\\dataset\\images\\test\\IDSqDYsSoktFjiqV.jpg: 320x416 (no detections), 16.4ms\n",
      "image 550/1107 C:\\Users\\gnvca\\OneDrive\\Desktop\\JP\\model03S\\dataset\\images\\test\\IDSssfpXj.jpg: 320x416 (no detections), 16.4ms\n",
      "image 551/1107 C:\\Users\\gnvca\\OneDrive\\Desktop\\JP\\model03S\\dataset\\images\\test\\IDT7IaaxIhflo.jpg: 320x416 (no detections), 12.7ms\n",
      "image 552/1107 C:\\Users\\gnvca\\OneDrive\\Desktop\\JP\\model03S\\dataset\\images\\test\\IDT83T5.jpg: 320x416 2 panels, 15.4ms\n",
      "image 553/1107 C:\\Users\\gnvca\\OneDrive\\Desktop\\JP\\model03S\\dataset\\images\\test\\IDT87CiQ2Gfe.jpg: 320x416 1 boiler, 12.8ms\n",
      "image 554/1107 C:\\Users\\gnvca\\OneDrive\\Desktop\\JP\\model03S\\dataset\\images\\test\\IDT8VhBAnWjz.jpg: 320x416 2 panels, 16.0ms\n",
      "image 555/1107 C:\\Users\\gnvca\\OneDrive\\Desktop\\JP\\model03S\\dataset\\images\\test\\IDTDNbFrMf.jpg: 320x416 1 panel, 16.6ms\n",
      "image 556/1107 C:\\Users\\gnvca\\OneDrive\\Desktop\\JP\\model03S\\dataset\\images\\test\\IDTIjrqfEdiCaW.jpg: 320x416 2 panels, 17.1ms\n",
      "image 557/1107 C:\\Users\\gnvca\\OneDrive\\Desktop\\JP\\model03S\\dataset\\images\\test\\IDTN2z0wqOEjF.jpg: 320x416 2 panels, 12.1ms\n",
      "image 558/1107 C:\\Users\\gnvca\\OneDrive\\Desktop\\JP\\model03S\\dataset\\images\\test\\IDTOPKMFrhJfGR.jpg: 416x320 (no detections), 18.0ms\n",
      "image 559/1107 C:\\Users\\gnvca\\OneDrive\\Desktop\\JP\\model03S\\dataset\\images\\test\\IDTSRmb04zp8jw.jpg: 320x416 2 panels, 13.9ms\n",
      "image 560/1107 C:\\Users\\gnvca\\OneDrive\\Desktop\\JP\\model03S\\dataset\\images\\test\\IDTc5vCuKREEbT51q.jpg: 320x416 (no detections), 12.0ms\n",
      "image 561/1107 C:\\Users\\gnvca\\OneDrive\\Desktop\\JP\\model03S\\dataset\\images\\test\\IDTn4HXmUw.jpg: 320x416 2 panels, 16.5ms\n",
      "image 562/1107 C:\\Users\\gnvca\\OneDrive\\Desktop\\JP\\model03S\\dataset\\images\\test\\IDTnZIAEKy5.jpg: 320x416 2 panels, 15.8ms\n",
      "image 563/1107 C:\\Users\\gnvca\\OneDrive\\Desktop\\JP\\model03S\\dataset\\images\\test\\IDTrFruRkTs5.jpg: 320x416 (no detections), 17.2ms\n",
      "image 564/1107 C:\\Users\\gnvca\\OneDrive\\Desktop\\JP\\model03S\\dataset\\images\\test\\IDTtkznFNr.jpg: 320x416 2 panels, 17.6ms\n",
      "image 565/1107 C:\\Users\\gnvca\\OneDrive\\Desktop\\JP\\model03S\\dataset\\images\\test\\IDU15pFXGPoW.jpg: 320x416 (no detections), 16.6ms\n",
      "image 566/1107 C:\\Users\\gnvca\\OneDrive\\Desktop\\JP\\model03S\\dataset\\images\\test\\IDUDizwHAA5Vpq.jpg: 320x416 1 panel, 19.8ms\n",
      "image 567/1107 C:\\Users\\gnvca\\OneDrive\\Desktop\\JP\\model03S\\dataset\\images\\test\\IDUEOvkdd0Io.jpg: 416x352 2 panels, 26.1ms\n",
      "image 568/1107 C:\\Users\\gnvca\\OneDrive\\Desktop\\JP\\model03S\\dataset\\images\\test\\IDUJK61tWJzl.jpg: 320x416 1 panel, 16.9ms\n",
      "image 569/1107 C:\\Users\\gnvca\\OneDrive\\Desktop\\JP\\model03S\\dataset\\images\\test\\IDUR1hGQJ8n.jpg: 320x416 (no detections), 12.1ms\n",
      "image 570/1107 C:\\Users\\gnvca\\OneDrive\\Desktop\\JP\\model03S\\dataset\\images\\test\\IDURAmRpwd.jpg: 320x416 1 panel, 16.6ms\n",
      "image 571/1107 C:\\Users\\gnvca\\OneDrive\\Desktop\\JP\\model03S\\dataset\\images\\test\\IDUTofzTK1ryH4h.jpg: 320x416 (no detections), 16.5ms\n",
      "image 572/1107 C:\\Users\\gnvca\\OneDrive\\Desktop\\JP\\model03S\\dataset\\images\\test\\IDUaqgsF.jpg: 320x416 2 panels, 17.1ms\n",
      "image 573/1107 C:\\Users\\gnvca\\OneDrive\\Desktop\\JP\\model03S\\dataset\\images\\test\\IDUdmIO5gHk7Xe.jpg: 320x416 1 panel, 16.2ms\n",
      "image 574/1107 C:\\Users\\gnvca\\OneDrive\\Desktop\\JP\\model03S\\dataset\\images\\test\\IDUekYdA.jpg: 352x416 (no detections), 16.4ms\n",
      "image 575/1107 C:\\Users\\gnvca\\OneDrive\\Desktop\\JP\\model03S\\dataset\\images\\test\\IDUh6ZDfY0zoo.jpg: 320x416 2 panels, 17.4ms\n",
      "image 576/1107 C:\\Users\\gnvca\\OneDrive\\Desktop\\JP\\model03S\\dataset\\images\\test\\IDUu0vUQVXbU83.jpg: 320x416 (no detections), 15.9ms\n",
      "image 577/1107 C:\\Users\\gnvca\\OneDrive\\Desktop\\JP\\model03S\\dataset\\images\\test\\IDUxMGJXV7GZm.jpg: 320x416 2 panels, 14.3ms\n",
      "image 578/1107 C:\\Users\\gnvca\\OneDrive\\Desktop\\JP\\model03S\\dataset\\images\\test\\IDUzf7o00ZjNPbTiv.jpg: 320x416 (no detections), 12.1ms\n",
      "image 579/1107 C:\\Users\\gnvca\\OneDrive\\Desktop\\JP\\model03S\\dataset\\images\\test\\IDV2gsvkl7R0sE7.jpg: 320x416 (no detections), 16.4ms\n",
      "image 580/1107 C:\\Users\\gnvca\\OneDrive\\Desktop\\JP\\model03S\\dataset\\images\\test\\IDV7gvduUgEi5M8oc.jpg: 320x416 2 panels, 16.7ms\n",
      "image 581/1107 C:\\Users\\gnvca\\OneDrive\\Desktop\\JP\\model03S\\dataset\\images\\test\\IDVELYhWJK.jpg: 320x416 (no detections), 17.8ms\n",
      "image 582/1107 C:\\Users\\gnvca\\OneDrive\\Desktop\\JP\\model03S\\dataset\\images\\test\\IDVEbPX.jpg: 320x416 (no detections), 16.2ms\n",
      "image 583/1107 C:\\Users\\gnvca\\OneDrive\\Desktop\\JP\\model03S\\dataset\\images\\test\\IDVF47p.jpg: 320x416 2 panels, 18.0ms\n",
      "image 584/1107 C:\\Users\\gnvca\\OneDrive\\Desktop\\JP\\model03S\\dataset\\images\\test\\IDVMVK7.jpg: 320x416 (no detections), 14.2ms\n",
      "image 585/1107 C:\\Users\\gnvca\\OneDrive\\Desktop\\JP\\model03S\\dataset\\images\\test\\IDVPgPc.jpg: 320x416 2 panels, 15.1ms\n",
      "image 586/1107 C:\\Users\\gnvca\\OneDrive\\Desktop\\JP\\model03S\\dataset\\images\\test\\IDVaNpYs6Zp.jpg: 256x416 (no detections), 21.9ms\n",
      "image 587/1107 C:\\Users\\gnvca\\OneDrive\\Desktop\\JP\\model03S\\dataset\\images\\test\\IDVb1j8d88xhvBA.jpg: 320x416 (no detections), 17.4ms\n",
      "image 588/1107 C:\\Users\\gnvca\\OneDrive\\Desktop\\JP\\model03S\\dataset\\images\\test\\IDVq7VTunmtGwrtF.jpg: 320x416 (no detections), 17.9ms\n",
      "image 589/1107 C:\\Users\\gnvca\\OneDrive\\Desktop\\JP\\model03S\\dataset\\images\\test\\IDVqRUdxPBpLKmQ4K.jpg: 320x416 3 panels, 18.6ms\n",
      "image 590/1107 C:\\Users\\gnvca\\OneDrive\\Desktop\\JP\\model03S\\dataset\\images\\test\\IDW34B7t.jpg: 320x416 2 panels, 14.4ms\n",
      "image 591/1107 C:\\Users\\gnvca\\OneDrive\\Desktop\\JP\\model03S\\dataset\\images\\test\\IDW7TVj.jpg: 320x416 (no detections), 21.1ms\n",
      "image 592/1107 C:\\Users\\gnvca\\OneDrive\\Desktop\\JP\\model03S\\dataset\\images\\test\\IDWCt8Biy.jpg: 320x416 (no detections), 16.7ms\n",
      "image 593/1107 C:\\Users\\gnvca\\OneDrive\\Desktop\\JP\\model03S\\dataset\\images\\test\\IDWGxShwaJ.jpg: 320x416 11 panels, 15.2ms\n",
      "image 594/1107 C:\\Users\\gnvca\\OneDrive\\Desktop\\JP\\model03S\\dataset\\images\\test\\IDWHF8jl0L.jpg: 320x416 2 panels, 15.3ms\n",
      "image 595/1107 C:\\Users\\gnvca\\OneDrive\\Desktop\\JP\\model03S\\dataset\\images\\test\\IDWLI46.jpg: 320x416 2 panels, 28.1ms\n",
      "image 596/1107 C:\\Users\\gnvca\\OneDrive\\Desktop\\JP\\model03S\\dataset\\images\\test\\IDWOLJMH4f.jpg: 320x416 (no detections), 14.3ms\n",
      "image 597/1107 C:\\Users\\gnvca\\OneDrive\\Desktop\\JP\\model03S\\dataset\\images\\test\\IDWYEyNsJlDExB.jpg: 320x416 (no detections), 12.1ms\n",
      "image 598/1107 C:\\Users\\gnvca\\OneDrive\\Desktop\\JP\\model03S\\dataset\\images\\test\\IDWfePLzOkYTdimsm.jpg: 288x416 1 boiler, 16.0ms\n",
      "image 599/1107 C:\\Users\\gnvca\\OneDrive\\Desktop\\JP\\model03S\\dataset\\images\\test\\IDWhbT1AT25O.jpg: 320x416 2 panels, 16.1ms\n",
      "image 600/1107 C:\\Users\\gnvca\\OneDrive\\Desktop\\JP\\model03S\\dataset\\images\\test\\IDWiWm800duFh7.jpg: 320x416 2 panels, 15.8ms\n",
      "image 601/1107 C:\\Users\\gnvca\\OneDrive\\Desktop\\JP\\model03S\\dataset\\images\\test\\IDWkYgKd.jpg: 320x416 (no detections), 14.9ms\n",
      "image 602/1107 C:\\Users\\gnvca\\OneDrive\\Desktop\\JP\\model03S\\dataset\\images\\test\\IDWnid30JA.jpg: 320x416 1 panel, 15.1ms\n",
      "image 603/1107 C:\\Users\\gnvca\\OneDrive\\Desktop\\JP\\model03S\\dataset\\images\\test\\IDWtgOChoTn2.jpg: 320x416 1 panel, 12.1ms\n",
      "image 604/1107 C:\\Users\\gnvca\\OneDrive\\Desktop\\JP\\model03S\\dataset\\images\\test\\IDWuHnrZmPf.jpg: 320x416 1 panel, 12.7ms\n",
      "image 605/1107 C:\\Users\\gnvca\\OneDrive\\Desktop\\JP\\model03S\\dataset\\images\\test\\IDWzeosZ4RCi7.jpg: 320x416 (no detections), 14.9ms\n",
      "image 606/1107 C:\\Users\\gnvca\\OneDrive\\Desktop\\JP\\model03S\\dataset\\images\\test\\IDX2OYwG6O.jpg: 320x416 2 panels, 15.0ms\n",
      "image 607/1107 C:\\Users\\gnvca\\OneDrive\\Desktop\\JP\\model03S\\dataset\\images\\test\\IDX2UG8S.jpg: 320x416 2 panels, 17.7ms\n",
      "image 608/1107 C:\\Users\\gnvca\\OneDrive\\Desktop\\JP\\model03S\\dataset\\images\\test\\IDX4m3o2iFM.jpg: 320x416 1 panel, 17.0ms\n",
      "image 609/1107 C:\\Users\\gnvca\\OneDrive\\Desktop\\JP\\model03S\\dataset\\images\\test\\IDX6cto4.jpg: 320x416 4 panels, 18.6ms\n",
      "image 610/1107 C:\\Users\\gnvca\\OneDrive\\Desktop\\JP\\model03S\\dataset\\images\\test\\IDX7Hs6a.jpg: 320x416 2 panels, 12.2ms\n",
      "image 611/1107 C:\\Users\\gnvca\\OneDrive\\Desktop\\JP\\model03S\\dataset\\images\\test\\IDXNdrffCsUhRj7.jpg: 320x416 2 panels, 12.4ms\n",
      "image 612/1107 C:\\Users\\gnvca\\OneDrive\\Desktop\\JP\\model03S\\dataset\\images\\test\\IDXWZyfmm.jpg: 416x320 (no detections), 20.4ms\n",
      "image 613/1107 C:\\Users\\gnvca\\OneDrive\\Desktop\\JP\\model03S\\dataset\\images\\test\\IDXXWSuwi9cvXt2.jpg: 288x416 2 boilers, 18.9ms\n",
      "image 614/1107 C:\\Users\\gnvca\\OneDrive\\Desktop\\JP\\model03S\\dataset\\images\\test\\IDXeBC1VjX9Pk.jpg: 320x416 1 panel, 17.4ms\n",
      "image 615/1107 C:\\Users\\gnvca\\OneDrive\\Desktop\\JP\\model03S\\dataset\\images\\test\\IDXgbGo3riFccPE.jpg: 320x416 2 panels, 18.1ms\n",
      "image 616/1107 C:\\Users\\gnvca\\OneDrive\\Desktop\\JP\\model03S\\dataset\\images\\test\\IDXhyOwV9lo.jpg: 320x416 (no detections), 13.4ms\n",
      "image 617/1107 C:\\Users\\gnvca\\OneDrive\\Desktop\\JP\\model03S\\dataset\\images\\test\\IDXoC8di.jpg: 320x416 1 panel, 17.1ms\n",
      "image 618/1107 C:\\Users\\gnvca\\OneDrive\\Desktop\\JP\\model03S\\dataset\\images\\test\\IDXpPETQFaK.jpg: 320x416 2 panels, 21.8ms\n",
      "image 619/1107 C:\\Users\\gnvca\\OneDrive\\Desktop\\JP\\model03S\\dataset\\images\\test\\IDXuG624loGbFu6.jpg: 320x416 1 panel, 16.3ms\n",
      "image 620/1107 C:\\Users\\gnvca\\OneDrive\\Desktop\\JP\\model03S\\dataset\\images\\test\\IDXunnia.jpg: 320x416 5 panels, 17.7ms\n",
      "image 621/1107 C:\\Users\\gnvca\\OneDrive\\Desktop\\JP\\model03S\\dataset\\images\\test\\IDYBHOJ5I5sckSWb.jpg: 320x416 2 panels, 16.8ms\n",
      "image 622/1107 C:\\Users\\gnvca\\OneDrive\\Desktop\\JP\\model03S\\dataset\\images\\test\\IDYBLYIW71Ao.jpg: 320x416 2 panels, 12.1ms\n",
      "image 623/1107 C:\\Users\\gnvca\\OneDrive\\Desktop\\JP\\model03S\\dataset\\images\\test\\IDYENI6ajzB.jpg: 320x416 1 panel, 15.7ms\n",
      "image 624/1107 C:\\Users\\gnvca\\OneDrive\\Desktop\\JP\\model03S\\dataset\\images\\test\\IDYEfIRfa.jpg: 320x416 (no detections), 15.4ms\n",
      "image 625/1107 C:\\Users\\gnvca\\OneDrive\\Desktop\\JP\\model03S\\dataset\\images\\test\\IDYMT6kLdc0oBu.jpg: 416x416 1 boiler, 24.9ms\n",
      "image 626/1107 C:\\Users\\gnvca\\OneDrive\\Desktop\\JP\\model03S\\dataset\\images\\test\\IDYNMDq5fwu9buDG.jpg: 384x416 (no detections), 21.1ms\n",
      "image 627/1107 C:\\Users\\gnvca\\OneDrive\\Desktop\\JP\\model03S\\dataset\\images\\test\\IDYW9E59Ef.jpg: 320x416 1 panel, 17.9ms\n",
      "image 628/1107 C:\\Users\\gnvca\\OneDrive\\Desktop\\JP\\model03S\\dataset\\images\\test\\IDYXzODPAYgqZ.jpg: 320x416 3 panels, 16.2ms\n",
      "image 629/1107 C:\\Users\\gnvca\\OneDrive\\Desktop\\JP\\model03S\\dataset\\images\\test\\IDYcT5y2rpH5DO.jpg: 320x416 2 panels, 16.3ms\n",
      "image 630/1107 C:\\Users\\gnvca\\OneDrive\\Desktop\\JP\\model03S\\dataset\\images\\test\\IDYkLwvKT.jpg: 320x416 1 panel, 13.6ms\n",
      "image 631/1107 C:\\Users\\gnvca\\OneDrive\\Desktop\\JP\\model03S\\dataset\\images\\test\\IDYloKm9XUUPl.jpg: 320x416 2 panels, 15.3ms\n",
      "image 632/1107 C:\\Users\\gnvca\\OneDrive\\Desktop\\JP\\model03S\\dataset\\images\\test\\IDYpgNkcbSP.jpg: 416x352 1 boiler, 19.4ms\n",
      "image 633/1107 C:\\Users\\gnvca\\OneDrive\\Desktop\\JP\\model03S\\dataset\\images\\test\\IDYq0OUOK6y.jpg: 320x416 2 panels, 17.3ms\n",
      "image 634/1107 C:\\Users\\gnvca\\OneDrive\\Desktop\\JP\\model03S\\dataset\\images\\test\\IDYqIgpXtJCuVvbGl.jpg: 320x416 2 panels, 15.8ms\n",
      "image 635/1107 C:\\Users\\gnvca\\OneDrive\\Desktop\\JP\\model03S\\dataset\\images\\test\\IDYtIJpLN.jpg: 256x416 (no detections), 19.0ms\n",
      "image 636/1107 C:\\Users\\gnvca\\OneDrive\\Desktop\\JP\\model03S\\dataset\\images\\test\\IDYu4Bjcr.jpg: 320x416 1 panel, 14.8ms\n",
      "image 637/1107 C:\\Users\\gnvca\\OneDrive\\Desktop\\JP\\model03S\\dataset\\images\\test\\IDYuGckz4.jpg: 320x416 1 panel, 16.1ms\n",
      "image 638/1107 C:\\Users\\gnvca\\OneDrive\\Desktop\\JP\\model03S\\dataset\\images\\test\\IDYwRcFyDIV.jpg: 320x416 (no detections), 16.0ms\n",
      "image 639/1107 C:\\Users\\gnvca\\OneDrive\\Desktop\\JP\\model03S\\dataset\\images\\test\\IDYxUNqRlmQWRZe.jpg: 320x416 1 panel, 16.4ms\n",
      "image 640/1107 C:\\Users\\gnvca\\OneDrive\\Desktop\\JP\\model03S\\dataset\\images\\test\\IDYz8Gg5e.jpg: 320x416 1 panel, 16.6ms\n",
      "image 641/1107 C:\\Users\\gnvca\\OneDrive\\Desktop\\JP\\model03S\\dataset\\images\\test\\IDZAwjE8iN.jpg: 320x416 1 panel, 17.5ms\n",
      "image 642/1107 C:\\Users\\gnvca\\OneDrive\\Desktop\\JP\\model03S\\dataset\\images\\test\\IDZHnfQAnD7sjQ7I.jpg: 320x416 (no detections), 17.1ms\n",
      "image 643/1107 C:\\Users\\gnvca\\OneDrive\\Desktop\\JP\\model03S\\dataset\\images\\test\\IDZKr2HG8RGBS.jpg: 320x416 1 panel, 14.5ms\n",
      "image 644/1107 C:\\Users\\gnvca\\OneDrive\\Desktop\\JP\\model03S\\dataset\\images\\test\\IDZLv0NDsG2Y.jpg: 384x416 (no detections), 21.5ms\n",
      "image 645/1107 C:\\Users\\gnvca\\OneDrive\\Desktop\\JP\\model03S\\dataset\\images\\test\\IDZSMIRevRSb.jpg: 320x416 2 panels, 17.2ms\n",
      "image 646/1107 C:\\Users\\gnvca\\OneDrive\\Desktop\\JP\\model03S\\dataset\\images\\test\\IDZUgiT8OeVNdNKLk.jpg: 416x416 1 panel, 22.9ms\n",
      "image 647/1107 C:\\Users\\gnvca\\OneDrive\\Desktop\\JP\\model03S\\dataset\\images\\test\\IDZVslW8B93.jpg: 320x416 2 panels, 16.7ms\n",
      "image 648/1107 C:\\Users\\gnvca\\OneDrive\\Desktop\\JP\\model03S\\dataset\\images\\test\\IDZXVJV9peTT3.jpg: 320x416 2 panels, 15.6ms\n",
      "image 649/1107 C:\\Users\\gnvca\\OneDrive\\Desktop\\JP\\model03S\\dataset\\images\\test\\IDZZLbrx3WOj.jpg: 320x416 (no detections), 12.1ms\n",
      "image 650/1107 C:\\Users\\gnvca\\OneDrive\\Desktop\\JP\\model03S\\dataset\\images\\test\\IDZadFtQucj.jpg: 320x416 2 panels, 17.2ms\n",
      "image 651/1107 C:\\Users\\gnvca\\OneDrive\\Desktop\\JP\\model03S\\dataset\\images\\test\\IDZenoO.jpg: 320x416 (no detections), 16.7ms\n",
      "image 652/1107 C:\\Users\\gnvca\\OneDrive\\Desktop\\JP\\model03S\\dataset\\images\\test\\IDZg4NulLYTp91M.jpg: 256x416 4 panels, 22.2ms\n",
      "image 653/1107 C:\\Users\\gnvca\\OneDrive\\Desktop\\JP\\model03S\\dataset\\images\\test\\IDZqFAme59.jpg: 416x256 (no detections), 21.0ms\n",
      "image 654/1107 C:\\Users\\gnvca\\OneDrive\\Desktop\\JP\\model03S\\dataset\\images\\test\\IDZqnZNx.jpg: 320x416 2 panels, 16.9ms\n",
      "image 655/1107 C:\\Users\\gnvca\\OneDrive\\Desktop\\JP\\model03S\\dataset\\images\\test\\IDZwgfzvaQiFnG.jpg: 320x416 2 panels, 16.7ms\n",
      "image 656/1107 C:\\Users\\gnvca\\OneDrive\\Desktop\\JP\\model03S\\dataset\\images\\test\\IDa1IDStO7AWx.jpg: 320x416 (no detections), 12.1ms\n",
      "image 657/1107 C:\\Users\\gnvca\\OneDrive\\Desktop\\JP\\model03S\\dataset\\images\\test\\IDa9no02Dru.jpg: 320x416 (no detections), 12.1ms\n",
      "image 658/1107 C:\\Users\\gnvca\\OneDrive\\Desktop\\JP\\model03S\\dataset\\images\\test\\IDaA6yp6eKrTx.jpg: 320x416 2 panels, 13.5ms\n",
      "image 659/1107 C:\\Users\\gnvca\\OneDrive\\Desktop\\JP\\model03S\\dataset\\images\\test\\IDaE3zzt3.jpg: 320x416 2 panels, 12.1ms\n",
      "image 660/1107 C:\\Users\\gnvca\\OneDrive\\Desktop\\JP\\model03S\\dataset\\images\\test\\IDaGRuLXguf8.jpg: 320x416 (no detections), 13.1ms\n",
      "image 661/1107 C:\\Users\\gnvca\\OneDrive\\Desktop\\JP\\model03S\\dataset\\images\\test\\IDaV9wUEtq.jpg: 320x416 1 panel, 12.1ms\n",
      "image 662/1107 C:\\Users\\gnvca\\OneDrive\\Desktop\\JP\\model03S\\dataset\\images\\test\\IDaYlH0sN.jpg: 320x416 1 panel, 17.5ms\n",
      "image 663/1107 C:\\Users\\gnvca\\OneDrive\\Desktop\\JP\\model03S\\dataset\\images\\test\\IDaZaB2Qs.jpg: 320x416 (no detections), 16.4ms\n",
      "image 664/1107 C:\\Users\\gnvca\\OneDrive\\Desktop\\JP\\model03S\\dataset\\images\\test\\IDalTx5mDvBvbi6.jpg: 320x416 1 panel, 12.1ms\n",
      "image 665/1107 C:\\Users\\gnvca\\OneDrive\\Desktop\\JP\\model03S\\dataset\\images\\test\\IDamhqdEz.jpg: 320x416 2 panels, 17.5ms\n",
      "image 666/1107 C:\\Users\\gnvca\\OneDrive\\Desktop\\JP\\model03S\\dataset\\images\\test\\IDaqCww8DAlE.jpg: 320x416 (no detections), 16.8ms\n",
      "image 667/1107 C:\\Users\\gnvca\\OneDrive\\Desktop\\JP\\model03S\\dataset\\images\\test\\IDatWJwmZ0DB.jpg: 320x416 1 panel, 16.5ms\n",
      "image 668/1107 C:\\Users\\gnvca\\OneDrive\\Desktop\\JP\\model03S\\dataset\\images\\test\\IDavDU3L6bSdro.jpg: 320x416 2 panels, 15.6ms\n",
      "image 669/1107 C:\\Users\\gnvca\\OneDrive\\Desktop\\JP\\model03S\\dataset\\images\\test\\IDazb2lUN99weo.jpg: 320x416 2 panels, 17.1ms\n",
      "image 670/1107 C:\\Users\\gnvca\\OneDrive\\Desktop\\JP\\model03S\\dataset\\images\\test\\IDb01j9ZD8s06.jpg: 320x416 (no detections), 18.0ms\n",
      "image 671/1107 C:\\Users\\gnvca\\OneDrive\\Desktop\\JP\\model03S\\dataset\\images\\test\\IDb2KVFyac.jpg: 320x416 2 panels, 16.4ms\n",
      "image 672/1107 C:\\Users\\gnvca\\OneDrive\\Desktop\\JP\\model03S\\dataset\\images\\test\\IDb9lDmHhHQCO78q.jpg: 320x416 1 panel, 12.8ms\n",
      "image 673/1107 C:\\Users\\gnvca\\OneDrive\\Desktop\\JP\\model03S\\dataset\\images\\test\\IDbD1omSlkidV.jpg: 320x416 2 panels, 15.7ms\n",
      "image 674/1107 C:\\Users\\gnvca\\OneDrive\\Desktop\\JP\\model03S\\dataset\\images\\test\\IDbDEFEt.jpg: 256x416 (no detections), 16.3ms\n",
      "image 675/1107 C:\\Users\\gnvca\\OneDrive\\Desktop\\JP\\model03S\\dataset\\images\\test\\IDbJX0Hx52ah.jpg: 320x416 2 panels, 15.9ms\n",
      "image 676/1107 C:\\Users\\gnvca\\OneDrive\\Desktop\\JP\\model03S\\dataset\\images\\test\\IDbLiUSzgkCkcy5.jpg: 320x416 (no detections), 13.2ms\n",
      "image 677/1107 C:\\Users\\gnvca\\OneDrive\\Desktop\\JP\\model03S\\dataset\\images\\test\\IDbR7xPNyhiD.jpg: 320x416 1 panel, 15.8ms\n",
      "image 678/1107 C:\\Users\\gnvca\\OneDrive\\Desktop\\JP\\model03S\\dataset\\images\\test\\IDbWrojSSTeTJ.jpg: 320x416 (no detections), 16.3ms\n",
      "image 679/1107 C:\\Users\\gnvca\\OneDrive\\Desktop\\JP\\model03S\\dataset\\images\\test\\IDbXOnSO2Rn195LHi.jpg: 384x416 (no detections), 21.2ms\n",
      "image 680/1107 C:\\Users\\gnvca\\OneDrive\\Desktop\\JP\\model03S\\dataset\\images\\test\\IDbY0sRcU2.jpg: 320x416 2 panels, 17.3ms\n",
      "image 681/1107 C:\\Users\\gnvca\\OneDrive\\Desktop\\JP\\model03S\\dataset\\images\\test\\IDbcYP7h6wmvGT.jpg: 320x416 (no detections), 16.4ms\n",
      "image 682/1107 C:\\Users\\gnvca\\OneDrive\\Desktop\\JP\\model03S\\dataset\\images\\test\\IDbkIxCkq1Gcbd.jpg: 320x416 2 panels, 17.0ms\n",
      "image 683/1107 C:\\Users\\gnvca\\OneDrive\\Desktop\\JP\\model03S\\dataset\\images\\test\\IDbq9826k0PN1mj.jpg: 320x416 (no detections), 16.0ms\n",
      "image 684/1107 C:\\Users\\gnvca\\OneDrive\\Desktop\\JP\\model03S\\dataset\\images\\test\\IDbt9gz.jpg: 320x416 2 panels, 13.2ms\n",
      "image 685/1107 C:\\Users\\gnvca\\OneDrive\\Desktop\\JP\\model03S\\dataset\\images\\test\\IDc1OSCfll.jpg: 320x416 (no detections), 17.8ms\n",
      "image 686/1107 C:\\Users\\gnvca\\OneDrive\\Desktop\\JP\\model03S\\dataset\\images\\test\\IDc2PPfBB.jpg: 320x416 1 panel, 16.7ms\n",
      "image 687/1107 C:\\Users\\gnvca\\OneDrive\\Desktop\\JP\\model03S\\dataset\\images\\test\\IDcB06ugrzp.jpg: 320x416 1 panel, 16.9ms\n",
      "image 688/1107 C:\\Users\\gnvca\\OneDrive\\Desktop\\JP\\model03S\\dataset\\images\\test\\IDcBdm0xGWi6La.jpg: 320x416 3 panels, 17.3ms\n",
      "image 689/1107 C:\\Users\\gnvca\\OneDrive\\Desktop\\JP\\model03S\\dataset\\images\\test\\IDcIGfvBad.jpg: 320x416 1 panel, 16.7ms\n",
      "image 690/1107 C:\\Users\\gnvca\\OneDrive\\Desktop\\JP\\model03S\\dataset\\images\\test\\IDcMgMwgrQZ.jpg: 320x416 2 panels, 17.0ms\n",
      "image 691/1107 C:\\Users\\gnvca\\OneDrive\\Desktop\\JP\\model03S\\dataset\\images\\test\\IDcN2Qip6Mtjbtqf1.jpg: 320x416 1 panel, 16.3ms\n",
      "image 692/1107 C:\\Users\\gnvca\\OneDrive\\Desktop\\JP\\model03S\\dataset\\images\\test\\IDcQ6PX7tU57og.jpg: 320x416 (no detections), 16.4ms\n",
      "image 693/1107 C:\\Users\\gnvca\\OneDrive\\Desktop\\JP\\model03S\\dataset\\images\\test\\IDcRklmiqe2lnR.jpg: 320x416 2 panels, 16.8ms\n",
      "image 694/1107 C:\\Users\\gnvca\\OneDrive\\Desktop\\JP\\model03S\\dataset\\images\\test\\IDcSTQJA.jpg: 320x416 (no detections), 13.1ms\n",
      "image 695/1107 C:\\Users\\gnvca\\OneDrive\\Desktop\\JP\\model03S\\dataset\\images\\test\\IDcT2eDuFEjN.jpg: 320x416 1 panel, 16.5ms\n",
      "image 696/1107 C:\\Users\\gnvca\\OneDrive\\Desktop\\JP\\model03S\\dataset\\images\\test\\IDcUhNwYOtFH77LQv.jpg: 320x416 3 panels, 18.7ms\n",
      "image 697/1107 C:\\Users\\gnvca\\OneDrive\\Desktop\\JP\\model03S\\dataset\\images\\test\\IDcWSNedOTWNTG.jpg: 320x416 (no detections), 16.4ms\n",
      "image 698/1107 C:\\Users\\gnvca\\OneDrive\\Desktop\\JP\\model03S\\dataset\\images\\test\\IDcWc5K7c.jpg: 320x416 1 panel, 15.8ms\n",
      "image 699/1107 C:\\Users\\gnvca\\OneDrive\\Desktop\\JP\\model03S\\dataset\\images\\test\\IDca05Iof6T2k1j1H.jpg: 416x416 (no detections), 26.1ms\n",
      "image 700/1107 C:\\Users\\gnvca\\OneDrive\\Desktop\\JP\\model03S\\dataset\\images\\test\\IDcgCI6bzWx.jpg: 320x416 4 panels, 14.1ms\n",
      "image 701/1107 C:\\Users\\gnvca\\OneDrive\\Desktop\\JP\\model03S\\dataset\\images\\test\\IDchMx6.jpg: 320x416 2 panels, 13.0ms\n",
      "image 702/1107 C:\\Users\\gnvca\\OneDrive\\Desktop\\JP\\model03S\\dataset\\images\\test\\IDcmg7gZ92I53q.jpg: 320x416 2 panels, 16.9ms\n",
      "image 703/1107 C:\\Users\\gnvca\\OneDrive\\Desktop\\JP\\model03S\\dataset\\images\\test\\IDcqqsVa5qUBZR3.jpg: 320x416 2 panels, 16.9ms\n",
      "image 704/1107 C:\\Users\\gnvca\\OneDrive\\Desktop\\JP\\model03S\\dataset\\images\\test\\IDcvc4Not6B.jpg: 256x416 (no detections), 12.4ms\n",
      "image 705/1107 C:\\Users\\gnvca\\OneDrive\\Desktop\\JP\\model03S\\dataset\\images\\test\\IDcw9GAC4.jpg: 416x320 (no detections), 20.8ms\n",
      "image 706/1107 C:\\Users\\gnvca\\OneDrive\\Desktop\\JP\\model03S\\dataset\\images\\test\\IDcwzfJ43NsHUd.jpg: 320x416 (no detections), 18.3ms\n",
      "image 707/1107 C:\\Users\\gnvca\\OneDrive\\Desktop\\JP\\model03S\\dataset\\images\\test\\IDcyvRo0jdDRGvw.jpg: 320x416 2 panels, 16.7ms\n",
      "image 708/1107 C:\\Users\\gnvca\\OneDrive\\Desktop\\JP\\model03S\\dataset\\images\\test\\IDd2BK4.jpg: 320x416 1 panel, 12.1ms\n",
      "image 709/1107 C:\\Users\\gnvca\\OneDrive\\Desktop\\JP\\model03S\\dataset\\images\\test\\IDd9jlgeyx2jztVi.jpg: 320x416 (no detections), 19.1ms\n",
      "image 710/1107 C:\\Users\\gnvca\\OneDrive\\Desktop\\JP\\model03S\\dataset\\images\\test\\IDdCLWAeLA5.jpg: 320x416 (no detections), 13.2ms\n",
      "image 711/1107 C:\\Users\\gnvca\\OneDrive\\Desktop\\JP\\model03S\\dataset\\images\\test\\IDdJ5Mx1Da.jpg: 320x416 2 panels, 15.7ms\n",
      "image 712/1107 C:\\Users\\gnvca\\OneDrive\\Desktop\\JP\\model03S\\dataset\\images\\test\\IDdJgpza52.jpg: 320x416 1 panel, 14.6ms\n",
      "image 713/1107 C:\\Users\\gnvca\\OneDrive\\Desktop\\JP\\model03S\\dataset\\images\\test\\IDdNEfKyWvldY.jpg: 320x416 2 panels, 13.1ms\n",
      "image 714/1107 C:\\Users\\gnvca\\OneDrive\\Desktop\\JP\\model03S\\dataset\\images\\test\\IDdOkSdRQnvacrgmc.jpg: 320x416 2 panels, 13.6ms\n",
      "image 715/1107 C:\\Users\\gnvca\\OneDrive\\Desktop\\JP\\model03S\\dataset\\images\\test\\IDdSc1XNcw.jpg: 416x384 1 boiler, 17.4ms\n",
      "image 716/1107 C:\\Users\\gnvca\\OneDrive\\Desktop\\JP\\model03S\\dataset\\images\\test\\IDdVW0vLk2.jpg: 320x416 2 panels, 16.5ms\n",
      "image 717/1107 C:\\Users\\gnvca\\OneDrive\\Desktop\\JP\\model03S\\dataset\\images\\test\\IDdXZDqE45.jpg: 320x416 1 panel, 15.1ms\n",
      "image 718/1107 C:\\Users\\gnvca\\OneDrive\\Desktop\\JP\\model03S\\dataset\\images\\test\\IDdbECLRkhBs2CVyl.jpg: 320x416 2 panels, 14.6ms\n",
      "image 719/1107 C:\\Users\\gnvca\\OneDrive\\Desktop\\JP\\model03S\\dataset\\images\\test\\IDdg5nrflocQ1.jpg: 416x352 (no detections), 21.0ms\n",
      "image 720/1107 C:\\Users\\gnvca\\OneDrive\\Desktop\\JP\\model03S\\dataset\\images\\test\\IDdiMQo63.jpg: 320x416 2 panels, 13.0ms\n",
      "image 721/1107 C:\\Users\\gnvca\\OneDrive\\Desktop\\JP\\model03S\\dataset\\images\\test\\IDdjUTm9nGY.jpg: 416x288 (no detections), 16.9ms\n",
      "image 722/1107 C:\\Users\\gnvca\\OneDrive\\Desktop\\JP\\model03S\\dataset\\images\\test\\IDdkbOy8W1.jpg: 320x416 (no detections), 16.2ms\n",
      "image 723/1107 C:\\Users\\gnvca\\OneDrive\\Desktop\\JP\\model03S\\dataset\\images\\test\\IDdmhFLqMfRdKp.jpg: 320x416 2 panels, 15.1ms\n",
      "image 724/1107 C:\\Users\\gnvca\\OneDrive\\Desktop\\JP\\model03S\\dataset\\images\\test\\IDdoaRB.jpg: 320x416 2 panels, 12.1ms\n",
      "image 725/1107 C:\\Users\\gnvca\\OneDrive\\Desktop\\JP\\model03S\\dataset\\images\\test\\IDdpmc5SF.jpg: 320x416 (no detections), 14.9ms\n",
      "image 726/1107 C:\\Users\\gnvca\\OneDrive\\Desktop\\JP\\model03S\\dataset\\images\\test\\IDdpxAjbvs.jpg: 320x416 2 panels, 15.5ms\n",
      "image 727/1107 C:\\Users\\gnvca\\OneDrive\\Desktop\\JP\\model03S\\dataset\\images\\test\\IDdtDlMEQkrkb.jpg: 320x416 (no detections), 14.7ms\n",
      "image 728/1107 C:\\Users\\gnvca\\OneDrive\\Desktop\\JP\\model03S\\dataset\\images\\test\\IDdxtX5nyTm5yZm.jpg: 320x416 2 panels, 12.5ms\n",
      "image 729/1107 C:\\Users\\gnvca\\OneDrive\\Desktop\\JP\\model03S\\dataset\\images\\test\\IDe2DyMFSd.jpg: 416x416 (no detections), 21.0ms\n",
      "image 730/1107 C:\\Users\\gnvca\\OneDrive\\Desktop\\JP\\model03S\\dataset\\images\\test\\IDe6Qw0xdA8wep.jpg: 320x416 1 panel, 16.0ms\n",
      "image 731/1107 C:\\Users\\gnvca\\OneDrive\\Desktop\\JP\\model03S\\dataset\\images\\test\\IDe79DfL9dI9H6.jpg: 320x416 (no detections), 15.7ms\n",
      "image 732/1107 C:\\Users\\gnvca\\OneDrive\\Desktop\\JP\\model03S\\dataset\\images\\test\\IDe8WeO9.jpg: 320x416 2 panels, 15.4ms\n",
      "image 733/1107 C:\\Users\\gnvca\\OneDrive\\Desktop\\JP\\model03S\\dataset\\images\\test\\IDeBWFhgDoovGq5v.jpg: 320x416 (no detections), 12.1ms\n",
      "image 734/1107 C:\\Users\\gnvca\\OneDrive\\Desktop\\JP\\model03S\\dataset\\images\\test\\IDeDtyP8.jpg: 320x416 1 panel, 12.1ms\n",
      "image 735/1107 C:\\Users\\gnvca\\OneDrive\\Desktop\\JP\\model03S\\dataset\\images\\test\\IDeDyorf.jpg: 416x416 (no detections), 18.9ms\n",
      "image 736/1107 C:\\Users\\gnvca\\OneDrive\\Desktop\\JP\\model03S\\dataset\\images\\test\\IDeNQFA9PDuwO6.jpg: 320x416 2 panels, 15.6ms\n",
      "image 737/1107 C:\\Users\\gnvca\\OneDrive\\Desktop\\JP\\model03S\\dataset\\images\\test\\IDeO7U85AcVvELt.jpg: 320x416 2 panels, 14.1ms\n",
      "image 738/1107 C:\\Users\\gnvca\\OneDrive\\Desktop\\JP\\model03S\\dataset\\images\\test\\IDeR6r4xk5.jpg: 320x416 3 panels, 15.2ms\n",
      "image 739/1107 C:\\Users\\gnvca\\OneDrive\\Desktop\\JP\\model03S\\dataset\\images\\test\\IDeTD5SBL.jpg: 320x416 (no detections), 17.2ms\n",
      "image 740/1107 C:\\Users\\gnvca\\OneDrive\\Desktop\\JP\\model03S\\dataset\\images\\test\\IDehALBezgA.jpg: 256x416 3 panels, 16.3ms\n",
      "image 741/1107 C:\\Users\\gnvca\\OneDrive\\Desktop\\JP\\model03S\\dataset\\images\\test\\IDehIqzoS53TfNsJ.jpg: 384x416 (no detections), 14.9ms\n",
      "image 742/1107 C:\\Users\\gnvca\\OneDrive\\Desktop\\JP\\model03S\\dataset\\images\\test\\IDeioFIPOnDoo.jpg: 416x320 (no detections), 19.3ms\n",
      "image 743/1107 C:\\Users\\gnvca\\OneDrive\\Desktop\\JP\\model03S\\dataset\\images\\test\\IDemRFx0toPvzm2o.jpg: 352x416 1 boiler, 18.7ms\n",
      "image 744/1107 C:\\Users\\gnvca\\OneDrive\\Desktop\\JP\\model03S\\dataset\\images\\test\\IDeqaCjERp.jpg: 320x416 (no detections), 14.9ms\n",
      "image 745/1107 C:\\Users\\gnvca\\OneDrive\\Desktop\\JP\\model03S\\dataset\\images\\test\\IDeqyrqqM.jpg: 320x416 1 panel, 14.2ms\n",
      "image 746/1107 C:\\Users\\gnvca\\OneDrive\\Desktop\\JP\\model03S\\dataset\\images\\test\\IDesLAt.jpg: 320x416 (no detections), 15.7ms\n",
      "image 747/1107 C:\\Users\\gnvca\\OneDrive\\Desktop\\JP\\model03S\\dataset\\images\\test\\IDewOvHBc.jpg: 320x416 4 panels, 15.1ms\n",
      "image 748/1107 C:\\Users\\gnvca\\OneDrive\\Desktop\\JP\\model03S\\dataset\\images\\test\\IDexcDeBzqKIP.jpg: 320x416 1 panel, 20.7ms\n",
      "image 749/1107 C:\\Users\\gnvca\\OneDrive\\Desktop\\JP\\model03S\\dataset\\images\\test\\IDf4lC21rIcYDl84L.jpg: 416x416 1 panel, 27.4ms\n",
      "image 750/1107 C:\\Users\\gnvca\\OneDrive\\Desktop\\JP\\model03S\\dataset\\images\\test\\IDf59QeKci.jpg: 224x416 10 panels, 12.3ms\n",
      "image 751/1107 C:\\Users\\gnvca\\OneDrive\\Desktop\\JP\\model03S\\dataset\\images\\test\\IDfBp593KKcj.jpg: 320x416 1 panel, 17.5ms\n",
      "image 752/1107 C:\\Users\\gnvca\\OneDrive\\Desktop\\JP\\model03S\\dataset\\images\\test\\IDfHB03By.jpg: 320x416 3 panels, 18.1ms\n",
      "image 753/1107 C:\\Users\\gnvca\\OneDrive\\Desktop\\JP\\model03S\\dataset\\images\\test\\IDfHtOTOCG2V3lc1.jpg: 320x416 2 panels, 15.0ms\n",
      "image 754/1107 C:\\Users\\gnvca\\OneDrive\\Desktop\\JP\\model03S\\dataset\\images\\test\\IDfPVsEKkwHy.jpg: 320x416 (no detections), 18.6ms\n",
      "image 755/1107 C:\\Users\\gnvca\\OneDrive\\Desktop\\JP\\model03S\\dataset\\images\\test\\IDfZiMG9FwcwX7f.jpg: 320x416 (no detections), 18.4ms\n",
      "image 756/1107 C:\\Users\\gnvca\\OneDrive\\Desktop\\JP\\model03S\\dataset\\images\\test\\IDfb1VygIPlC3A.jpg: 224x416 (no detections), 11.6ms\n",
      "image 757/1107 C:\\Users\\gnvca\\OneDrive\\Desktop\\JP\\model03S\\dataset\\images\\test\\IDfhtA2AH.jpg: 320x416 2 panels, 21.1ms\n",
      "image 758/1107 C:\\Users\\gnvca\\OneDrive\\Desktop\\JP\\model03S\\dataset\\images\\test\\IDfjjxFQEmkaKd.jpg: 320x416 2 panels, 16.6ms\n",
      "image 759/1107 C:\\Users\\gnvca\\OneDrive\\Desktop\\JP\\model03S\\dataset\\images\\test\\IDfoh2BbM6k6Ltth1.jpg: 320x416 1 panel, 22.4ms\n",
      "image 760/1107 C:\\Users\\gnvca\\OneDrive\\Desktop\\JP\\model03S\\dataset\\images\\test\\IDfyqpN71oX5i.jpg: 320x416 2 panels, 17.7ms\n",
      "image 761/1107 C:\\Users\\gnvca\\OneDrive\\Desktop\\JP\\model03S\\dataset\\images\\test\\IDg2f6R8YHKW10.jpg: 320x416 (no detections), 18.0ms\n",
      "image 762/1107 C:\\Users\\gnvca\\OneDrive\\Desktop\\JP\\model03S\\dataset\\images\\test\\IDgD25Jwes6.jpg: 320x416 2 panels, 14.8ms\n",
      "image 763/1107 C:\\Users\\gnvca\\OneDrive\\Desktop\\JP\\model03S\\dataset\\images\\test\\IDgJwOwX7Gx.jpg: 320x416 (no detections), 16.9ms\n",
      "image 764/1107 C:\\Users\\gnvca\\OneDrive\\Desktop\\JP\\model03S\\dataset\\images\\test\\IDgJwPTt.jpg: 384x416 1 boiler, 25.1ms\n",
      "image 765/1107 C:\\Users\\gnvca\\OneDrive\\Desktop\\JP\\model03S\\dataset\\images\\test\\IDgLRhwfNmN.jpg: 320x416 2 panels, 16.8ms\n",
      "image 766/1107 C:\\Users\\gnvca\\OneDrive\\Desktop\\JP\\model03S\\dataset\\images\\test\\IDgPMfQg.jpg: 320x416 1 panel, 18.4ms\n",
      "image 767/1107 C:\\Users\\gnvca\\OneDrive\\Desktop\\JP\\model03S\\dataset\\images\\test\\IDgPUmJvPRcKt7h.jpg: 416x256 1 boiler, 17.7ms\n",
      "image 768/1107 C:\\Users\\gnvca\\OneDrive\\Desktop\\JP\\model03S\\dataset\\images\\test\\IDgRFe33jSDT.jpg: 320x416 (no detections), 19.1ms\n",
      "image 769/1107 C:\\Users\\gnvca\\OneDrive\\Desktop\\JP\\model03S\\dataset\\images\\test\\IDgRXG9MiR7hG5.jpg: 320x416 1 panel, 59.0ms\n",
      "image 770/1107 C:\\Users\\gnvca\\OneDrive\\Desktop\\JP\\model03S\\dataset\\images\\test\\IDga0A3FC2yjKe.jpg: 320x416 1 panel, 53.8ms\n",
      "image 771/1107 C:\\Users\\gnvca\\OneDrive\\Desktop\\JP\\model03S\\dataset\\images\\test\\IDgics9.jpg: 320x416 1 panel, 54.1ms\n",
      "image 772/1107 C:\\Users\\gnvca\\OneDrive\\Desktop\\JP\\model03S\\dataset\\images\\test\\IDgjZNMt4Uv.jpg: 320x416 2 panels, 18.7ms\n",
      "image 773/1107 C:\\Users\\gnvca\\OneDrive\\Desktop\\JP\\model03S\\dataset\\images\\test\\IDgnnxMl.jpg: 320x416 (no detections), 14.0ms\n",
      "image 774/1107 C:\\Users\\gnvca\\OneDrive\\Desktop\\JP\\model03S\\dataset\\images\\test\\IDgvyifcLumNIo.jpg: 320x416 (no detections), 53.8ms\n",
      "image 775/1107 C:\\Users\\gnvca\\OneDrive\\Desktop\\JP\\model03S\\dataset\\images\\test\\IDgx6TeI2nAOvv.jpg: 320x416 2 panels, 7.9ms\n",
      "image 776/1107 C:\\Users\\gnvca\\OneDrive\\Desktop\\JP\\model03S\\dataset\\images\\test\\IDh0WT4tLPMow.jpg: 320x416 2 panels, 7.8ms\n",
      "image 777/1107 C:\\Users\\gnvca\\OneDrive\\Desktop\\JP\\model03S\\dataset\\images\\test\\IDh3spvR6w2f.jpg: 320x416 2 panels, 47.3ms\n",
      "image 778/1107 C:\\Users\\gnvca\\OneDrive\\Desktop\\JP\\model03S\\dataset\\images\\test\\IDh7QpDXdppTnhXm7.jpg: 320x416 2 panels, 9.0ms\n",
      "image 779/1107 C:\\Users\\gnvca\\OneDrive\\Desktop\\JP\\model03S\\dataset\\images\\test\\IDh8QdLyACM2oOTtM.jpg: 320x416 2 panels, 49.6ms\n",
      "image 780/1107 C:\\Users\\gnvca\\OneDrive\\Desktop\\JP\\model03S\\dataset\\images\\test\\IDhFdm4g8b.jpg: 320x416 2 panels, 53.3ms\n",
      "image 781/1107 C:\\Users\\gnvca\\OneDrive\\Desktop\\JP\\model03S\\dataset\\images\\test\\IDhGsx0Xy0kpScIH7.jpg: 416x352 2 boilers, 15.4ms\n",
      "image 782/1107 C:\\Users\\gnvca\\OneDrive\\Desktop\\JP\\model03S\\dataset\\images\\test\\IDhHxnji3MiXO3n.jpg: 320x416 1 panel, 9.0ms\n",
      "image 783/1107 C:\\Users\\gnvca\\OneDrive\\Desktop\\JP\\model03S\\dataset\\images\\test\\IDhNHoBofr.jpg: 320x416 2 panels, 8.9ms\n",
      "image 784/1107 C:\\Users\\gnvca\\OneDrive\\Desktop\\JP\\model03S\\dataset\\images\\test\\IDhQbMLoK.jpg: 320x416 2 panels, 6.6ms\n",
      "image 785/1107 C:\\Users\\gnvca\\OneDrive\\Desktop\\JP\\model03S\\dataset\\images\\test\\IDhnxCqQE.jpg: 320x416 (no detections), 5.2ms\n",
      "image 786/1107 C:\\Users\\gnvca\\OneDrive\\Desktop\\JP\\model03S\\dataset\\images\\test\\IDhpHJgx78k59U.jpg: 320x416 (no detections), 6.3ms\n",
      "image 787/1107 C:\\Users\\gnvca\\OneDrive\\Desktop\\JP\\model03S\\dataset\\images\\test\\IDhpXhW3G8HNQ.jpg: 416x416 (no detections), 11.8ms\n",
      "image 788/1107 C:\\Users\\gnvca\\OneDrive\\Desktop\\JP\\model03S\\dataset\\images\\test\\IDi0TPtB7Oxl.jpg: 416x384 1 boiler, 8.1ms\n",
      "image 789/1107 C:\\Users\\gnvca\\OneDrive\\Desktop\\JP\\model03S\\dataset\\images\\test\\IDi3gpGmGzS.jpg: 320x416 2 panels, 6.6ms\n",
      "image 790/1107 C:\\Users\\gnvca\\OneDrive\\Desktop\\JP\\model03S\\dataset\\images\\test\\IDi4lmEl.jpg: 320x416 (no detections), 6.3ms\n",
      "image 791/1107 C:\\Users\\gnvca\\OneDrive\\Desktop\\JP\\model03S\\dataset\\images\\test\\IDi7GbZBxQzhRSCa.jpg: 320x416 2 panels, 5.9ms\n",
      "image 792/1107 C:\\Users\\gnvca\\OneDrive\\Desktop\\JP\\model03S\\dataset\\images\\test\\IDiCnbnsKP4VX.jpg: 320x416 2 panels, 5.3ms\n",
      "image 793/1107 C:\\Users\\gnvca\\OneDrive\\Desktop\\JP\\model03S\\dataset\\images\\test\\IDiHUEa7vw.jpg: 320x416 2 panels, 9.3ms\n",
      "image 794/1107 C:\\Users\\gnvca\\OneDrive\\Desktop\\JP\\model03S\\dataset\\images\\test\\IDiK140.jpg: 320x416 1 panel, 7.1ms\n",
      "image 795/1107 C:\\Users\\gnvca\\OneDrive\\Desktop\\JP\\model03S\\dataset\\images\\test\\IDiK7pAHf8UkwO.jpg: 320x416 2 panels, 6.8ms\n",
      "image 796/1107 C:\\Users\\gnvca\\OneDrive\\Desktop\\JP\\model03S\\dataset\\images\\test\\IDiN6w5.jpg: 320x416 2 panels, 5.4ms\n",
      "image 797/1107 C:\\Users\\gnvca\\OneDrive\\Desktop\\JP\\model03S\\dataset\\images\\test\\IDiR294r2KvPj.jpg: 320x416 1 panel, 7.6ms\n",
      "image 798/1107 C:\\Users\\gnvca\\OneDrive\\Desktop\\JP\\model03S\\dataset\\images\\test\\IDiTxlY6rJd01Gy0v.jpg: 320x416 2 panels, 5.9ms\n",
      "image 799/1107 C:\\Users\\gnvca\\OneDrive\\Desktop\\JP\\model03S\\dataset\\images\\test\\IDiYvYK16iU.jpg: 320x416 1 panel, 9.9ms\n",
      "image 800/1107 C:\\Users\\gnvca\\OneDrive\\Desktop\\JP\\model03S\\dataset\\images\\test\\IDiZDQ2wZ.jpg: 256x416 (no detections), 7.8ms\n",
      "image 801/1107 C:\\Users\\gnvca\\OneDrive\\Desktop\\JP\\model03S\\dataset\\images\\test\\IDiegPLhfMs.jpg: 320x416 1 panel, 8.8ms\n",
      "image 802/1107 C:\\Users\\gnvca\\OneDrive\\Desktop\\JP\\model03S\\dataset\\images\\test\\IDig9giw0C.jpg: 320x416 2 panels, 6.3ms\n",
      "image 803/1107 C:\\Users\\gnvca\\OneDrive\\Desktop\\JP\\model03S\\dataset\\images\\test\\IDisV8b2.jpg: 320x416 3 panels, 5.1ms\n",
      "image 804/1107 C:\\Users\\gnvca\\OneDrive\\Desktop\\JP\\model03S\\dataset\\images\\test\\IDiuNxfVp1jl.jpg: 320x416 1 panel, 8.3ms\n",
      "image 805/1107 C:\\Users\\gnvca\\OneDrive\\Desktop\\JP\\model03S\\dataset\\images\\test\\IDiuf5QgC.jpg: 320x416 1 panel, 7.9ms\n",
      "image 806/1107 C:\\Users\\gnvca\\OneDrive\\Desktop\\JP\\model03S\\dataset\\images\\test\\IDivSMJ1Md.jpg: 320x416 1 panel, 6.0ms\n",
      "image 807/1107 C:\\Users\\gnvca\\OneDrive\\Desktop\\JP\\model03S\\dataset\\images\\test\\IDiyUFhRnXKXjtNx.jpg: 320x416 2 panels, 6.1ms\n",
      "image 808/1107 C:\\Users\\gnvca\\OneDrive\\Desktop\\JP\\model03S\\dataset\\images\\test\\IDizGQwNSrYMftB.jpg: 320x416 1 panel, 7.9ms\n",
      "image 809/1107 C:\\Users\\gnvca\\OneDrive\\Desktop\\JP\\model03S\\dataset\\images\\test\\IDizu9pgTy.jpg: 320x416 (no detections), 10.4ms\n",
      "image 810/1107 C:\\Users\\gnvca\\OneDrive\\Desktop\\JP\\model03S\\dataset\\images\\test\\IDj2wByY7.jpg: 320x416 2 panels, 9.1ms\n",
      "image 811/1107 C:\\Users\\gnvca\\OneDrive\\Desktop\\JP\\model03S\\dataset\\images\\test\\IDj7eB3fSQ8EoIzg.jpg: 320x416 2 panels, 8.1ms\n",
      "image 812/1107 C:\\Users\\gnvca\\OneDrive\\Desktop\\JP\\model03S\\dataset\\images\\test\\IDjAB4pmmuQQqJ.jpg: 320x416 2 panels, 6.5ms\n",
      "image 813/1107 C:\\Users\\gnvca\\OneDrive\\Desktop\\JP\\model03S\\dataset\\images\\test\\IDjBfEBujJL5qKavy.jpg: 416x416 (no detections), 9.3ms\n",
      "image 814/1107 C:\\Users\\gnvca\\OneDrive\\Desktop\\JP\\model03S\\dataset\\images\\test\\IDjDA6UhZ7.jpg: 320x416 (no detections), 9.0ms\n",
      "image 815/1107 C:\\Users\\gnvca\\OneDrive\\Desktop\\JP\\model03S\\dataset\\images\\test\\IDjHOF5DWk8.jpg: 320x416 2 panels, 7.8ms\n",
      "image 816/1107 C:\\Users\\gnvca\\OneDrive\\Desktop\\JP\\model03S\\dataset\\images\\test\\IDjJU6cmInWFDUY.jpg: 384x416 (no detections), 15.8ms\n",
      "image 817/1107 C:\\Users\\gnvca\\OneDrive\\Desktop\\JP\\model03S\\dataset\\images\\test\\IDjNKiAGj.jpg: 320x416 (no detections), 8.8ms\n",
      "image 818/1107 C:\\Users\\gnvca\\OneDrive\\Desktop\\JP\\model03S\\dataset\\images\\test\\IDjSTBtSYUX8Ll.jpg: 320x416 2 panels, 8.0ms\n",
      "image 819/1107 C:\\Users\\gnvca\\OneDrive\\Desktop\\JP\\model03S\\dataset\\images\\test\\IDjSgprAT12eK9Fn.jpg: 320x416 1 panel, 8.0ms\n",
      "image 820/1107 C:\\Users\\gnvca\\OneDrive\\Desktop\\JP\\model03S\\dataset\\images\\test\\IDjWpAQhi9vQ.jpg: 320x416 1 panel, 8.5ms\n",
      "image 821/1107 C:\\Users\\gnvca\\OneDrive\\Desktop\\JP\\model03S\\dataset\\images\\test\\IDjbuqqRCaT5e2v.jpg: 320x416 (no detections), 9.4ms\n",
      "image 822/1107 C:\\Users\\gnvca\\OneDrive\\Desktop\\JP\\model03S\\dataset\\images\\test\\IDjfs57M6E.jpg: 320x416 (no detections), 12.6ms\n",
      "image 823/1107 C:\\Users\\gnvca\\OneDrive\\Desktop\\JP\\model03S\\dataset\\images\\test\\IDjnAx1yQ.jpg: 416x320 (no detections), 15.1ms\n",
      "image 824/1107 C:\\Users\\gnvca\\OneDrive\\Desktop\\JP\\model03S\\dataset\\images\\test\\IDjq8HgS.jpg: 320x416 3 panels, 12.9ms\n",
      "image 825/1107 C:\\Users\\gnvca\\OneDrive\\Desktop\\JP\\model03S\\dataset\\images\\test\\IDjuqSPl.jpg: 320x416 2 panels, 8.9ms\n",
      "image 826/1107 C:\\Users\\gnvca\\OneDrive\\Desktop\\JP\\model03S\\dataset\\images\\test\\IDjwe9PLDuZw.jpg: 320x416 (no detections), 12.2ms\n",
      "image 827/1107 C:\\Users\\gnvca\\OneDrive\\Desktop\\JP\\model03S\\dataset\\images\\test\\IDkBIxi8xMKNQuExC.jpg: 320x416 2 panels, 11.2ms\n",
      "image 828/1107 C:\\Users\\gnvca\\OneDrive\\Desktop\\JP\\model03S\\dataset\\images\\test\\IDkDplaVILHxX3.jpg: 320x416 1 panel, 9.0ms\n",
      "image 829/1107 C:\\Users\\gnvca\\OneDrive\\Desktop\\JP\\model03S\\dataset\\images\\test\\IDkFTOjrT.jpg: 320x416 (no detections), 13.4ms\n",
      "image 830/1107 C:\\Users\\gnvca\\OneDrive\\Desktop\\JP\\model03S\\dataset\\images\\test\\IDkFY0j5.jpg: 320x416 1 panel, 12.8ms\n",
      "image 831/1107 C:\\Users\\gnvca\\OneDrive\\Desktop\\JP\\model03S\\dataset\\images\\test\\IDkK808TgvSJIs.jpg: 320x416 2 panels, 13.4ms\n",
      "image 832/1107 C:\\Users\\gnvca\\OneDrive\\Desktop\\JP\\model03S\\dataset\\images\\test\\IDkNkmmTt22Xb.jpg: 384x416 (no detections), 17.4ms\n",
      "image 833/1107 C:\\Users\\gnvca\\OneDrive\\Desktop\\JP\\model03S\\dataset\\images\\test\\IDkR1Xzw0DZ0.jpg: 320x416 2 panels, 14.4ms\n",
      "image 834/1107 C:\\Users\\gnvca\\OneDrive\\Desktop\\JP\\model03S\\dataset\\images\\test\\IDkRQEoXmj6Cce.jpg: 320x416 (no detections), 10.0ms\n",
      "image 835/1107 C:\\Users\\gnvca\\OneDrive\\Desktop\\JP\\model03S\\dataset\\images\\test\\IDkRSactfW.jpg: 320x416 (no detections), 13.8ms\n",
      "image 836/1107 C:\\Users\\gnvca\\OneDrive\\Desktop\\JP\\model03S\\dataset\\images\\test\\IDkWH4hS5iviJ3s.jpg: 320x416 1 panel, 10.1ms\n",
      "image 837/1107 C:\\Users\\gnvca\\OneDrive\\Desktop\\JP\\model03S\\dataset\\images\\test\\IDkbKjqi7yTko5.jpg: 320x416 (no detections), 14.5ms\n",
      "image 838/1107 C:\\Users\\gnvca\\OneDrive\\Desktop\\JP\\model03S\\dataset\\images\\test\\IDkcvXX.jpg: 320x416 2 panels, 13.9ms\n",
      "image 839/1107 C:\\Users\\gnvca\\OneDrive\\Desktop\\JP\\model03S\\dataset\\images\\test\\IDkeSQz.jpg: 416x352 1 boiler, 20.3ms\n",
      "image 840/1107 C:\\Users\\gnvca\\OneDrive\\Desktop\\JP\\model03S\\dataset\\images\\test\\IDkiGw9TiTXsW6R.jpg: 160x416 (no detections), 81.0ms\n",
      "image 841/1107 C:\\Users\\gnvca\\OneDrive\\Desktop\\JP\\model03S\\dataset\\images\\test\\IDkjdTvFgeFJS.jpg: 320x416 3 panels, 14.4ms\n",
      "image 842/1107 C:\\Users\\gnvca\\OneDrive\\Desktop\\JP\\model03S\\dataset\\images\\test\\IDkjnOmI2j.jpg: 320x416 (no detections), 17.2ms\n",
      "image 843/1107 C:\\Users\\gnvca\\OneDrive\\Desktop\\JP\\model03S\\dataset\\images\\test\\IDkoAD6EMa3fAafWy.jpg: 320x416 1 panel, 16.1ms\n",
      "image 844/1107 C:\\Users\\gnvca\\OneDrive\\Desktop\\JP\\model03S\\dataset\\images\\test\\IDkr0bOGzItJ2NB.jpg: 320x416 1 panel, 17.4ms\n",
      "image 845/1107 C:\\Users\\gnvca\\OneDrive\\Desktop\\JP\\model03S\\dataset\\images\\test\\IDkrUclWabw5y80Dl.jpg: 320x416 2 panels, 16.3ms\n",
      "image 846/1107 C:\\Users\\gnvca\\OneDrive\\Desktop\\JP\\model03S\\dataset\\images\\test\\IDkrVt2VlhDn4.jpg: 288x416 1 boiler, 12.5ms\n",
      "image 847/1107 C:\\Users\\gnvca\\OneDrive\\Desktop\\JP\\model03S\\dataset\\images\\test\\IDksZUMc3dXN.jpg: 320x416 1 panel, 17.3ms\n",
      "image 848/1107 C:\\Users\\gnvca\\OneDrive\\Desktop\\JP\\model03S\\dataset\\images\\test\\IDkwf3C5.jpg: 320x416 2 panels, 17.3ms\n",
      "image 849/1107 C:\\Users\\gnvca\\OneDrive\\Desktop\\JP\\model03S\\dataset\\images\\test\\IDkwmB8HuVexEKyF.jpg: 320x416 (no detections), 12.1ms\n",
      "image 850/1107 C:\\Users\\gnvca\\OneDrive\\Desktop\\JP\\model03S\\dataset\\images\\test\\IDl1I6qKFB.jpg: 320x416 1 panel, 16.4ms\n",
      "image 851/1107 C:\\Users\\gnvca\\OneDrive\\Desktop\\JP\\model03S\\dataset\\images\\test\\IDl2ikVSWYsIR4.jpg: 320x416 2 panels, 17.5ms\n",
      "image 852/1107 C:\\Users\\gnvca\\OneDrive\\Desktop\\JP\\model03S\\dataset\\images\\test\\IDl61gpuwGuu2VBe6.jpg: 320x416 2 panels, 16.8ms\n",
      "image 853/1107 C:\\Users\\gnvca\\OneDrive\\Desktop\\JP\\model03S\\dataset\\images\\test\\IDl8smcVY.jpg: 320x416 (no detections), 17.7ms\n",
      "image 854/1107 C:\\Users\\gnvca\\OneDrive\\Desktop\\JP\\model03S\\dataset\\images\\test\\IDl8ztEn732s.jpg: 320x416 2 panels, 16.0ms\n",
      "image 855/1107 C:\\Users\\gnvca\\OneDrive\\Desktop\\JP\\model03S\\dataset\\images\\test\\IDlCNybSlU.jpg: 320x416 (no detections), 15.6ms\n",
      "image 856/1107 C:\\Users\\gnvca\\OneDrive\\Desktop\\JP\\model03S\\dataset\\images\\test\\IDlDVXnnhQ.jpg: 320x416 2 panels, 17.3ms\n",
      "image 857/1107 C:\\Users\\gnvca\\OneDrive\\Desktop\\JP\\model03S\\dataset\\images\\test\\IDlHiU8WEhZh7qr6t.jpg: 320x416 2 panels, 17.0ms\n",
      "image 858/1107 C:\\Users\\gnvca\\OneDrive\\Desktop\\JP\\model03S\\dataset\\images\\test\\IDlKmmyiL.jpg: 320x416 2 panels, 18.1ms\n",
      "image 859/1107 C:\\Users\\gnvca\\OneDrive\\Desktop\\JP\\model03S\\dataset\\images\\test\\IDlPPpV6kQaB32S3V.jpg: 320x416 1 panel, 17.9ms\n",
      "image 860/1107 C:\\Users\\gnvca\\OneDrive\\Desktop\\JP\\model03S\\dataset\\images\\test\\IDlUG5f.jpg: 416x384 26 panels, 20.7ms\n",
      "image 861/1107 C:\\Users\\gnvca\\OneDrive\\Desktop\\JP\\model03S\\dataset\\images\\test\\IDlebSazeuALRHXt.jpg: 320x416 2 panels, 21.7ms\n",
      "image 862/1107 C:\\Users\\gnvca\\OneDrive\\Desktop\\JP\\model03S\\dataset\\images\\test\\IDllJl34XIaiBwe0.jpg: 320x416 2 panels, 12.1ms\n",
      "image 863/1107 C:\\Users\\gnvca\\OneDrive\\Desktop\\JP\\model03S\\dataset\\images\\test\\IDlt4mIpDekp.jpg: 320x416 2 panels, 17.2ms\n",
      "image 864/1107 C:\\Users\\gnvca\\OneDrive\\Desktop\\JP\\model03S\\dataset\\images\\test\\IDlvz0GPH0C.jpg: 320x416 (no detections), 17.7ms\n",
      "image 865/1107 C:\\Users\\gnvca\\OneDrive\\Desktop\\JP\\model03S\\dataset\\images\\test\\IDlyqsitfBaR6Ru2.jpg: 320x416 2 panels, 17.6ms\n",
      "image 866/1107 C:\\Users\\gnvca\\OneDrive\\Desktop\\JP\\model03S\\dataset\\images\\test\\IDlz4WyHQB.jpg: 416x320 1 panel, 22.2ms\n",
      "image 867/1107 C:\\Users\\gnvca\\OneDrive\\Desktop\\JP\\model03S\\dataset\\images\\test\\IDm1Clr2P.jpg: 320x416 (no detections), 17.3ms\n",
      "image 868/1107 C:\\Users\\gnvca\\OneDrive\\Desktop\\JP\\model03S\\dataset\\images\\test\\IDm2mR13.jpg: 320x416 (no detections), 12.1ms\n",
      "image 869/1107 C:\\Users\\gnvca\\OneDrive\\Desktop\\JP\\model03S\\dataset\\images\\test\\IDm5GhcKr5rQdFl.jpg: 384x416 (no detections), 19.4ms\n",
      "image 870/1107 C:\\Users\\gnvca\\OneDrive\\Desktop\\JP\\model03S\\dataset\\images\\test\\IDm75Ep.jpg: 320x416 (no detections), 21.0ms\n",
      "image 871/1107 C:\\Users\\gnvca\\OneDrive\\Desktop\\JP\\model03S\\dataset\\images\\test\\IDmFbhcwad.jpg: 320x416 2 panels, 14.8ms\n",
      "image 872/1107 C:\\Users\\gnvca\\OneDrive\\Desktop\\JP\\model03S\\dataset\\images\\test\\IDmG8Bpodi.jpg: 320x416 1 panel, 16.4ms\n",
      "image 873/1107 C:\\Users\\gnvca\\OneDrive\\Desktop\\JP\\model03S\\dataset\\images\\test\\IDmGnaPs8o.jpg: 352x416 2 panels, 20.8ms\n",
      "image 874/1107 C:\\Users\\gnvca\\OneDrive\\Desktop\\JP\\model03S\\dataset\\images\\test\\IDmPXoiaTL4S7Uo.jpg: 320x416 2 panels, 19.1ms\n",
      "image 875/1107 C:\\Users\\gnvca\\OneDrive\\Desktop\\JP\\model03S\\dataset\\images\\test\\IDmPwMU1ne.jpg: 320x416 2 panels, 17.5ms\n",
      "image 876/1107 C:\\Users\\gnvca\\OneDrive\\Desktop\\JP\\model03S\\dataset\\images\\test\\IDmT12RqHPlDRT.jpg: 320x416 1 panel, 16.4ms\n",
      "image 877/1107 C:\\Users\\gnvca\\OneDrive\\Desktop\\JP\\model03S\\dataset\\images\\test\\IDmXAQPZ9rnW.jpg: 320x416 (no detections), 14.9ms\n",
      "image 878/1107 C:\\Users\\gnvca\\OneDrive\\Desktop\\JP\\model03S\\dataset\\images\\test\\IDmYwz0cS1lm2C.jpg: 320x416 1 panel, 13.3ms\n",
      "image 879/1107 C:\\Users\\gnvca\\OneDrive\\Desktop\\JP\\model03S\\dataset\\images\\test\\IDmeBiNPwUvvwlCl.jpg: 416x256 1 boiler, 25.3ms\n",
      "image 880/1107 C:\\Users\\gnvca\\OneDrive\\Desktop\\JP\\model03S\\dataset\\images\\test\\IDmj8aYANCdJ2GtkD.jpg: 320x416 (no detections), 17.1ms\n",
      "image 881/1107 C:\\Users\\gnvca\\OneDrive\\Desktop\\JP\\model03S\\dataset\\images\\test\\IDmjXZht.jpg: 320x416 (no detections), 16.4ms\n",
      "image 882/1107 C:\\Users\\gnvca\\OneDrive\\Desktop\\JP\\model03S\\dataset\\images\\test\\IDmjgW5VMiKo.jpg: 320x416 (no detections), 16.4ms\n",
      "image 883/1107 C:\\Users\\gnvca\\OneDrive\\Desktop\\JP\\model03S\\dataset\\images\\test\\IDn2CgM4hNLqd.jpg: 320x416 1 panel, 13.3ms\n",
      "image 884/1107 C:\\Users\\gnvca\\OneDrive\\Desktop\\JP\\model03S\\dataset\\images\\test\\IDn33hkv9l.jpg: 320x416 4 panels, 17.0ms\n",
      "image 885/1107 C:\\Users\\gnvca\\OneDrive\\Desktop\\JP\\model03S\\dataset\\images\\test\\IDn5IY27NFFHWtbC.jpg: 320x416 1 panel, 19.1ms\n",
      "image 886/1107 C:\\Users\\gnvca\\OneDrive\\Desktop\\JP\\model03S\\dataset\\images\\test\\IDn5mFxsP.jpg: 320x416 (no detections), 16.3ms\n",
      "image 887/1107 C:\\Users\\gnvca\\OneDrive\\Desktop\\JP\\model03S\\dataset\\images\\test\\IDn6oUE.jpg: 320x416 2 panels, 16.0ms\n",
      "image 888/1107 C:\\Users\\gnvca\\OneDrive\\Desktop\\JP\\model03S\\dataset\\images\\test\\IDnEua1Or7Ea2EINQ.jpg: 416x416 (no detections), 18.7ms\n",
      "image 889/1107 C:\\Users\\gnvca\\OneDrive\\Desktop\\JP\\model03S\\dataset\\images\\test\\IDnNy14r.jpg: 320x416 (no detections), 14.9ms\n",
      "image 890/1107 C:\\Users\\gnvca\\OneDrive\\Desktop\\JP\\model03S\\dataset\\images\\test\\IDnO18dr.jpg: 320x416 (no detections), 12.1ms\n",
      "image 891/1107 C:\\Users\\gnvca\\OneDrive\\Desktop\\JP\\model03S\\dataset\\images\\test\\IDnSfoanh9W2wgV.jpg: 320x416 2 panels, 16.7ms\n",
      "image 892/1107 C:\\Users\\gnvca\\OneDrive\\Desktop\\JP\\model03S\\dataset\\images\\test\\IDnWyBZSLNDnlmxj.jpg: 320x416 2 panels, 17.2ms\n",
      "image 893/1107 C:\\Users\\gnvca\\OneDrive\\Desktop\\JP\\model03S\\dataset\\images\\test\\IDnXhqiW.jpg: 320x416 (no detections), 14.5ms\n",
      "image 894/1107 C:\\Users\\gnvca\\OneDrive\\Desktop\\JP\\model03S\\dataset\\images\\test\\IDnYZYFu.jpg: 320x416 1 panel, 16.4ms\n",
      "image 895/1107 C:\\Users\\gnvca\\OneDrive\\Desktop\\JP\\model03S\\dataset\\images\\test\\IDnaWRsMQ.jpg: 320x416 2 panels, 16.7ms\n",
      "image 896/1107 C:\\Users\\gnvca\\OneDrive\\Desktop\\JP\\model03S\\dataset\\images\\test\\IDncjqKv.jpg: 320x416 1 panel, 12.2ms\n",
      "image 897/1107 C:\\Users\\gnvca\\OneDrive\\Desktop\\JP\\model03S\\dataset\\images\\test\\IDncyMJ6CPUKk.jpg: 320x416 (no detections), 18.0ms\n",
      "image 898/1107 C:\\Users\\gnvca\\OneDrive\\Desktop\\JP\\model03S\\dataset\\images\\test\\IDndqKV82N.jpg: 320x416 2 panels, 16.4ms\n",
      "image 899/1107 C:\\Users\\gnvca\\OneDrive\\Desktop\\JP\\model03S\\dataset\\images\\test\\IDngO4Ulgq5pnLHyb.jpg: 320x416 2 panels, 12.7ms\n",
      "image 900/1107 C:\\Users\\gnvca\\OneDrive\\Desktop\\JP\\model03S\\dataset\\images\\test\\IDnh2KF2Y.jpg: 320x416 2 panels, 17.8ms\n",
      "image 901/1107 C:\\Users\\gnvca\\OneDrive\\Desktop\\JP\\model03S\\dataset\\images\\test\\IDniOjLPvzs4ytFgi.jpg: 320x416 (no detections), 18.6ms\n",
      "image 902/1107 C:\\Users\\gnvca\\OneDrive\\Desktop\\JP\\model03S\\dataset\\images\\test\\IDnlEQJK.jpg: 320x416 2 panels, 19.9ms\n",
      "image 903/1107 C:\\Users\\gnvca\\OneDrive\\Desktop\\JP\\model03S\\dataset\\images\\test\\IDnqfrwYbKTt.jpg: 320x416 1 panel, 12.1ms\n",
      "image 904/1107 C:\\Users\\gnvca\\OneDrive\\Desktop\\JP\\model03S\\dataset\\images\\test\\IDnwNUem9Lc.jpg: 320x416 (no detections), 15.9ms\n",
      "image 905/1107 C:\\Users\\gnvca\\OneDrive\\Desktop\\JP\\model03S\\dataset\\images\\test\\IDo38dQX13m0q.jpg: 320x416 1 panel, 16.0ms\n",
      "image 906/1107 C:\\Users\\gnvca\\OneDrive\\Desktop\\JP\\model03S\\dataset\\images\\test\\IDo7Dlz.jpg: 320x416 (no detections), 22.2ms\n",
      "image 907/1107 C:\\Users\\gnvca\\OneDrive\\Desktop\\JP\\model03S\\dataset\\images\\test\\IDo9UjDh2nmQODo.jpg: 320x416 2 panels, 15.8ms\n",
      "image 908/1107 C:\\Users\\gnvca\\OneDrive\\Desktop\\JP\\model03S\\dataset\\images\\test\\IDoKiyQLKiT02dzF.jpg: 384x416 (no detections), 17.9ms\n",
      "image 909/1107 C:\\Users\\gnvca\\OneDrive\\Desktop\\JP\\model03S\\dataset\\images\\test\\IDoMidCAbjZbARW.jpg: 320x416 2 panels, 17.5ms\n",
      "image 910/1107 C:\\Users\\gnvca\\OneDrive\\Desktop\\JP\\model03S\\dataset\\images\\test\\IDoNfFQdR7kT3.jpg: 416x416 (no detections), 23.6ms\n",
      "image 911/1107 C:\\Users\\gnvca\\OneDrive\\Desktop\\JP\\model03S\\dataset\\images\\test\\IDodmUfHR7xxgl.jpg: 320x416 1 boiler, 17.6ms\n",
      "image 912/1107 C:\\Users\\gnvca\\OneDrive\\Desktop\\JP\\model03S\\dataset\\images\\test\\IDoeprI4i7.jpg: 320x416 2 panels, 17.4ms\n",
      "image 913/1107 C:\\Users\\gnvca\\OneDrive\\Desktop\\JP\\model03S\\dataset\\images\\test\\IDof7ipdYhr7B4.jpg: 320x416 1 panel, 17.9ms\n",
      "image 914/1107 C:\\Users\\gnvca\\OneDrive\\Desktop\\JP\\model03S\\dataset\\images\\test\\IDog3Zjaxi356.jpg: 320x416 2 panels, 16.3ms\n",
      "image 915/1107 C:\\Users\\gnvca\\OneDrive\\Desktop\\JP\\model03S\\dataset\\images\\test\\IDogkgKM0.jpg: 320x416 2 panels, 16.3ms\n",
      "image 916/1107 C:\\Users\\gnvca\\OneDrive\\Desktop\\JP\\model03S\\dataset\\images\\test\\IDokxhXnYglKRho.jpg: 320x416 2 panels, 16.0ms\n",
      "image 917/1107 C:\\Users\\gnvca\\OneDrive\\Desktop\\JP\\model03S\\dataset\\images\\test\\IDomKWNFwF.jpg: 320x416 2 panels, 16.0ms\n",
      "image 918/1107 C:\\Users\\gnvca\\OneDrive\\Desktop\\JP\\model03S\\dataset\\images\\test\\IDonT4uve3VKo.jpg: 320x416 1 boiler, 17.1ms\n",
      "image 919/1107 C:\\Users\\gnvca\\OneDrive\\Desktop\\JP\\model03S\\dataset\\images\\test\\IDot2RX8dhbLfVZme.jpg: 320x416 2 panels, 17.2ms\n",
      "image 920/1107 C:\\Users\\gnvca\\OneDrive\\Desktop\\JP\\model03S\\dataset\\images\\test\\IDoubUTGdnbB.jpg: 320x416 2 panels, 13.2ms\n",
      "image 921/1107 C:\\Users\\gnvca\\OneDrive\\Desktop\\JP\\model03S\\dataset\\images\\test\\IDovCoyJvE9W.jpg: 320x416 2 panels, 15.6ms\n",
      "image 922/1107 C:\\Users\\gnvca\\OneDrive\\Desktop\\JP\\model03S\\dataset\\images\\test\\IDovJ5m9zj.jpg: 320x416 2 panels, 20.2ms\n",
      "image 923/1107 C:\\Users\\gnvca\\OneDrive\\Desktop\\JP\\model03S\\dataset\\images\\test\\IDoz2zD8XP.jpg: 320x416 (no detections), 15.2ms\n",
      "image 924/1107 C:\\Users\\gnvca\\OneDrive\\Desktop\\JP\\model03S\\dataset\\images\\test\\IDp2IAyunhJ.jpg: 320x416 (no detections), 15.1ms\n",
      "image 925/1107 C:\\Users\\gnvca\\OneDrive\\Desktop\\JP\\model03S\\dataset\\images\\test\\IDpKzs7hl.jpg: 320x416 2 panels, 12.1ms\n",
      "image 926/1107 C:\\Users\\gnvca\\OneDrive\\Desktop\\JP\\model03S\\dataset\\images\\test\\IDpLyja1aF6CAA.jpg: 320x416 2 panels, 15.5ms\n",
      "image 927/1107 C:\\Users\\gnvca\\OneDrive\\Desktop\\JP\\model03S\\dataset\\images\\test\\IDpOK6sc.jpg: 320x416 (no detections), 15.4ms\n",
      "image 928/1107 C:\\Users\\gnvca\\OneDrive\\Desktop\\JP\\model03S\\dataset\\images\\test\\IDpQmHg4GI9.jpg: 416x416 2 panels, 21.9ms\n",
      "image 929/1107 C:\\Users\\gnvca\\OneDrive\\Desktop\\JP\\model03S\\dataset\\images\\test\\IDpTqTtN0.jpg: 320x416 (no detections), 19.6ms\n",
      "image 930/1107 C:\\Users\\gnvca\\OneDrive\\Desktop\\JP\\model03S\\dataset\\images\\test\\IDpWNz608Xu5Bhe.jpg: 320x416 (no detections), 16.7ms\n",
      "image 931/1107 C:\\Users\\gnvca\\OneDrive\\Desktop\\JP\\model03S\\dataset\\images\\test\\IDpcR3Ok9zung.jpg: 224x416 1 panel, 18.5ms\n",
      "image 932/1107 C:\\Users\\gnvca\\OneDrive\\Desktop\\JP\\model03S\\dataset\\images\\test\\IDpdezTssxgSS.jpg: 320x416 1 panel, 16.5ms\n",
      "image 933/1107 C:\\Users\\gnvca\\OneDrive\\Desktop\\JP\\model03S\\dataset\\images\\test\\IDpe0w43fk.jpg: 320x416 2 panels, 16.9ms\n",
      "image 934/1107 C:\\Users\\gnvca\\OneDrive\\Desktop\\JP\\model03S\\dataset\\images\\test\\IDpeHIv8z6InmL.jpg: 320x416 (no detections), 15.5ms\n",
      "image 935/1107 C:\\Users\\gnvca\\OneDrive\\Desktop\\JP\\model03S\\dataset\\images\\test\\IDpgSpoSaUcis39Xg.jpg: 320x416 2 panels, 16.0ms\n",
      "image 936/1107 C:\\Users\\gnvca\\OneDrive\\Desktop\\JP\\model03S\\dataset\\images\\test\\IDplaqa9cLUs2.jpg: 320x416 (no detections), 23.3ms\n",
      "image 937/1107 C:\\Users\\gnvca\\OneDrive\\Desktop\\JP\\model03S\\dataset\\images\\test\\IDpoXR2waDWRxllsK.jpg: 320x416 1 panel, 16.6ms\n",
      "image 938/1107 C:\\Users\\gnvca\\OneDrive\\Desktop\\JP\\model03S\\dataset\\images\\test\\IDps9Rlw8KY2K.jpg: 320x416 (no detections), 16.4ms\n",
      "image 939/1107 C:\\Users\\gnvca\\OneDrive\\Desktop\\JP\\model03S\\dataset\\images\\test\\IDq4LBIjKt.jpg: 320x416 2 panels, 12.1ms\n",
      "image 940/1107 C:\\Users\\gnvca\\OneDrive\\Desktop\\JP\\model03S\\dataset\\images\\test\\IDq6TzWIY4.jpg: 320x416 (no detections), 12.1ms\n",
      "image 941/1107 C:\\Users\\gnvca\\OneDrive\\Desktop\\JP\\model03S\\dataset\\images\\test\\IDqAxxQNgi3mxXDoY.jpg: 320x416 2 panels, 17.0ms\n",
      "image 942/1107 C:\\Users\\gnvca\\OneDrive\\Desktop\\JP\\model03S\\dataset\\images\\test\\IDqCnyk.jpg: 416x352 (no detections), 22.7ms\n",
      "image 943/1107 C:\\Users\\gnvca\\OneDrive\\Desktop\\JP\\model03S\\dataset\\images\\test\\IDqJpOqa43sY.jpg: 320x416 2 panels, 16.4ms\n",
      "image 944/1107 C:\\Users\\gnvca\\OneDrive\\Desktop\\JP\\model03S\\dataset\\images\\test\\IDqPsj0d6Uk.jpg: 416x416 (no detections), 23.2ms\n",
      "image 945/1107 C:\\Users\\gnvca\\OneDrive\\Desktop\\JP\\model03S\\dataset\\images\\test\\IDqVdXvjl5nREwaqd.jpg: 320x416 3 panels, 16.6ms\n",
      "image 946/1107 C:\\Users\\gnvca\\OneDrive\\Desktop\\JP\\model03S\\dataset\\images\\test\\IDqi82j3pYZtHf.jpg: 320x416 (no detections), 17.2ms\n",
      "image 947/1107 C:\\Users\\gnvca\\OneDrive\\Desktop\\JP\\model03S\\dataset\\images\\test\\IDqlB8az1Dzy.jpg: 320x416 2 panels, 16.1ms\n",
      "image 948/1107 C:\\Users\\gnvca\\OneDrive\\Desktop\\JP\\model03S\\dataset\\images\\test\\IDqrBREUcyQVN6.jpg: 320x416 2 panels, 16.7ms\n",
      "image 949/1107 C:\\Users\\gnvca\\OneDrive\\Desktop\\JP\\model03S\\dataset\\images\\test\\IDqte9ODA3.jpg: 320x416 2 panels, 17.2ms\n",
      "image 950/1107 C:\\Users\\gnvca\\OneDrive\\Desktop\\JP\\model03S\\dataset\\images\\test\\IDquL1eDUAbvl9x.jpg: 320x416 2 panels, 22.7ms\n",
      "image 951/1107 C:\\Users\\gnvca\\OneDrive\\Desktop\\JP\\model03S\\dataset\\images\\test\\IDqzg0Q8ufL.jpg: 384x416 (no detections), 27.9ms\n",
      "image 952/1107 C:\\Users\\gnvca\\OneDrive\\Desktop\\JP\\model03S\\dataset\\images\\test\\IDrFe0DG7Sq.jpg: 320x416 2 panels, 18.3ms\n",
      "image 953/1107 C:\\Users\\gnvca\\OneDrive\\Desktop\\JP\\model03S\\dataset\\images\\test\\IDrJ07pYMJ.jpg: 320x416 1 panel, 16.0ms\n",
      "image 954/1107 C:\\Users\\gnvca\\OneDrive\\Desktop\\JP\\model03S\\dataset\\images\\test\\IDrKuQz.jpg: 320x416 2 panels, 16.2ms\n",
      "image 955/1107 C:\\Users\\gnvca\\OneDrive\\Desktop\\JP\\model03S\\dataset\\images\\test\\IDrKyYa.jpg: 320x416 2 panels, 19.0ms\n",
      "image 956/1107 C:\\Users\\gnvca\\OneDrive\\Desktop\\JP\\model03S\\dataset\\images\\test\\IDrY7xUZlsUqma.jpg: 320x416 2 panels, 18.5ms\n",
      "image 957/1107 C:\\Users\\gnvca\\OneDrive\\Desktop\\JP\\model03S\\dataset\\images\\test\\IDrdBKQeJgjPqGU.jpg: 320x416 2 panels, 13.9ms\n",
      "image 958/1107 C:\\Users\\gnvca\\OneDrive\\Desktop\\JP\\model03S\\dataset\\images\\test\\IDrfHCgwUhha.jpg: 320x416 2 panels, 19.5ms\n",
      "image 959/1107 C:\\Users\\gnvca\\OneDrive\\Desktop\\JP\\model03S\\dataset\\images\\test\\IDrfMCvagRMZph.jpg: 352x416 1 boiler, 21.5ms\n",
      "image 960/1107 C:\\Users\\gnvca\\OneDrive\\Desktop\\JP\\model03S\\dataset\\images\\test\\IDrmKjJKrAPg.jpg: 320x416 (no detections), 19.1ms\n",
      "image 961/1107 C:\\Users\\gnvca\\OneDrive\\Desktop\\JP\\model03S\\dataset\\images\\test\\IDroDx6fYoq6.jpg: 320x416 (no detections), 12.2ms\n",
      "image 962/1107 C:\\Users\\gnvca\\OneDrive\\Desktop\\JP\\model03S\\dataset\\images\\test\\IDrtwWXmGTj47hHQR.jpg: 320x416 (no detections), 18.0ms\n",
      "image 963/1107 C:\\Users\\gnvca\\OneDrive\\Desktop\\JP\\model03S\\dataset\\images\\test\\IDruHXPQ75ja5Lj.jpg: 416x320 (no detections), 24.4ms\n",
      "image 964/1107 C:\\Users\\gnvca\\OneDrive\\Desktop\\JP\\model03S\\dataset\\images\\test\\IDruqqh.jpg: 320x416 (no detections), 17.8ms\n",
      "image 965/1107 C:\\Users\\gnvca\\OneDrive\\Desktop\\JP\\model03S\\dataset\\images\\test\\IDry34Mbivkc1VSmC.jpg: 320x416 (no detections), 18.1ms\n",
      "image 966/1107 C:\\Users\\gnvca\\OneDrive\\Desktop\\JP\\model03S\\dataset\\images\\test\\IDs37X1kP0rT9d0.jpg: 320x416 2 panels, 18.3ms\n",
      "image 967/1107 C:\\Users\\gnvca\\OneDrive\\Desktop\\JP\\model03S\\dataset\\images\\test\\IDsHwcUOeDzSQak1N.jpg: 320x416 2 panels, 18.5ms\n",
      "image 968/1107 C:\\Users\\gnvca\\OneDrive\\Desktop\\JP\\model03S\\dataset\\images\\test\\IDsOG08y9eUAxy3Up.jpg: 288x416 (no detections), 22.5ms\n",
      "image 969/1107 C:\\Users\\gnvca\\OneDrive\\Desktop\\JP\\model03S\\dataset\\images\\test\\IDsOQBT.jpg: 320x416 (no detections), 17.3ms\n",
      "image 970/1107 C:\\Users\\gnvca\\OneDrive\\Desktop\\JP\\model03S\\dataset\\images\\test\\IDsPOUaO8brlYyh7.jpg: 384x416 2 panels, 25.8ms\n",
      "image 971/1107 C:\\Users\\gnvca\\OneDrive\\Desktop\\JP\\model03S\\dataset\\images\\test\\IDsPQJcM.jpg: 416x352 (no detections), 22.7ms\n",
      "image 972/1107 C:\\Users\\gnvca\\OneDrive\\Desktop\\JP\\model03S\\dataset\\images\\test\\IDsSH8MJw1Zl8.jpg: 320x416 1 panel, 24.5ms\n",
      "image 973/1107 C:\\Users\\gnvca\\OneDrive\\Desktop\\JP\\model03S\\dataset\\images\\test\\IDsTtStw7ClL51.jpg: 320x416 1 panel, 15.0ms\n",
      "image 974/1107 C:\\Users\\gnvca\\OneDrive\\Desktop\\JP\\model03S\\dataset\\images\\test\\IDsXAXorCas.jpg: 320x416 1 panel, 15.6ms\n",
      "image 975/1107 C:\\Users\\gnvca\\OneDrive\\Desktop\\JP\\model03S\\dataset\\images\\test\\IDsbKXtH.jpg: 416x384 (no detections), 25.1ms\n",
      "image 976/1107 C:\\Users\\gnvca\\OneDrive\\Desktop\\JP\\model03S\\dataset\\images\\test\\IDseuaqNRzBApqZNm.jpg: 320x416 2 panels, 17.1ms\n",
      "image 977/1107 C:\\Users\\gnvca\\OneDrive\\Desktop\\JP\\model03S\\dataset\\images\\test\\IDsgW6kr.jpg: 320x416 (no detections), 16.1ms\n",
      "image 978/1107 C:\\Users\\gnvca\\OneDrive\\Desktop\\JP\\model03S\\dataset\\images\\test\\IDsgnmVUs0vwoFXf.jpg: 320x416 2 panels, 17.9ms\n",
      "image 979/1107 C:\\Users\\gnvca\\OneDrive\\Desktop\\JP\\model03S\\dataset\\images\\test\\IDsjlzeZwt9OX7Ds.jpg: 320x416 1 panel, 15.8ms\n",
      "image 980/1107 C:\\Users\\gnvca\\OneDrive\\Desktop\\JP\\model03S\\dataset\\images\\test\\IDslthhJ74Nr.jpg: 416x352 1 boiler, 19.5ms\n",
      "image 981/1107 C:\\Users\\gnvca\\OneDrive\\Desktop\\JP\\model03S\\dataset\\images\\test\\IDsmmlszwrIOa1ec.jpg: 320x416 1 panel, 17.6ms\n",
      "image 982/1107 C:\\Users\\gnvca\\OneDrive\\Desktop\\JP\\model03S\\dataset\\images\\test\\IDsyJNYUX7D9OkH.jpg: 256x416 10 panels, 12.3ms\n",
      "image 983/1107 C:\\Users\\gnvca\\OneDrive\\Desktop\\JP\\model03S\\dataset\\images\\test\\IDt5XJLCs.jpg: 320x416 2 panels, 16.1ms\n",
      "image 984/1107 C:\\Users\\gnvca\\OneDrive\\Desktop\\JP\\model03S\\dataset\\images\\test\\IDt5qy4XFg.jpg: 320x416 4 panels, 16.4ms\n",
      "image 985/1107 C:\\Users\\gnvca\\OneDrive\\Desktop\\JP\\model03S\\dataset\\images\\test\\IDt9NAZB4bhgjmwz1.jpg: 320x416 (no detections), 16.4ms\n",
      "image 986/1107 C:\\Users\\gnvca\\OneDrive\\Desktop\\JP\\model03S\\dataset\\images\\test\\IDtESOKL97.jpg: 320x416 (no detections), 15.6ms\n",
      "image 987/1107 C:\\Users\\gnvca\\OneDrive\\Desktop\\JP\\model03S\\dataset\\images\\test\\IDtFRvV3lnBOA0P.jpg: 320x416 (no detections), 17.1ms\n",
      "image 988/1107 C:\\Users\\gnvca\\OneDrive\\Desktop\\JP\\model03S\\dataset\\images\\test\\IDtRRMK6asXG.jpg: 320x416 2 panels, 16.3ms\n",
      "image 989/1107 C:\\Users\\gnvca\\OneDrive\\Desktop\\JP\\model03S\\dataset\\images\\test\\IDtRgU8DbJ.jpg: 320x416 2 panels, 16.8ms\n",
      "image 990/1107 C:\\Users\\gnvca\\OneDrive\\Desktop\\JP\\model03S\\dataset\\images\\test\\IDtTr5u.jpg: 320x416 1 panel, 16.3ms\n",
      "image 991/1107 C:\\Users\\gnvca\\OneDrive\\Desktop\\JP\\model03S\\dataset\\images\\test\\IDtUoEWg.jpg: 320x416 2 panels, 15.9ms\n",
      "image 992/1107 C:\\Users\\gnvca\\OneDrive\\Desktop\\JP\\model03S\\dataset\\images\\test\\IDtakR7C1qgA.jpg: 320x416 2 panels, 13.8ms\n",
      "image 993/1107 C:\\Users\\gnvca\\OneDrive\\Desktop\\JP\\model03S\\dataset\\images\\test\\IDtbZygS7RxcwPmP.jpg: 320x416 2 panels, 16.2ms\n",
      "image 994/1107 C:\\Users\\gnvca\\OneDrive\\Desktop\\JP\\model03S\\dataset\\images\\test\\IDtcuISza4.jpg: 320x416 (no detections), 17.6ms\n",
      "image 995/1107 C:\\Users\\gnvca\\OneDrive\\Desktop\\JP\\model03S\\dataset\\images\\test\\IDtcx4gHjGwzbWp.jpg: 320x416 (no detections), 17.1ms\n",
      "image 996/1107 C:\\Users\\gnvca\\OneDrive\\Desktop\\JP\\model03S\\dataset\\images\\test\\IDtjn7KaQcbEKXt9u.jpg: 320x416 (no detections), 13.4ms\n",
      "image 997/1107 C:\\Users\\gnvca\\OneDrive\\Desktop\\JP\\model03S\\dataset\\images\\test\\IDtnUUnsodeC.jpg: 320x416 (no detections), 16.1ms\n",
      "image 998/1107 C:\\Users\\gnvca\\OneDrive\\Desktop\\JP\\model03S\\dataset\\images\\test\\IDtoYiaG.jpg: 320x416 2 panels, 15.7ms\n",
      "image 999/1107 C:\\Users\\gnvca\\OneDrive\\Desktop\\JP\\model03S\\dataset\\images\\test\\IDtpNh9KyjpR0.jpg: 320x416 1 panel, 17.0ms\n",
      "image 1000/1107 C:\\Users\\gnvca\\OneDrive\\Desktop\\JP\\model03S\\dataset\\images\\test\\IDtrSK1WRpFHFQYra.jpg: 320x416 (no detections), 13.5ms\n",
      "image 1001/1107 C:\\Users\\gnvca\\OneDrive\\Desktop\\JP\\model03S\\dataset\\images\\test\\IDtwTuBNbQ0.jpg: 320x416 (no detections), 16.3ms\n",
      "image 1002/1107 C:\\Users\\gnvca\\OneDrive\\Desktop\\JP\\model03S\\dataset\\images\\test\\IDu1Doy9xRI3UQB.jpg: 320x416 2 panels, 16.7ms\n",
      "image 1003/1107 C:\\Users\\gnvca\\OneDrive\\Desktop\\JP\\model03S\\dataset\\images\\test\\IDu5apnxKa5LUJ.jpg: 320x416 1 panel, 12.2ms\n",
      "image 1004/1107 C:\\Users\\gnvca\\OneDrive\\Desktop\\JP\\model03S\\dataset\\images\\test\\IDuAmrQZ.jpg: 320x416 (no detections), 17.9ms\n",
      "image 1005/1107 C:\\Users\\gnvca\\OneDrive\\Desktop\\JP\\model03S\\dataset\\images\\test\\IDuBDefo.jpg: 320x416 (no detections), 17.2ms\n",
      "image 1006/1107 C:\\Users\\gnvca\\OneDrive\\Desktop\\JP\\model03S\\dataset\\images\\test\\IDuE3lVYzp6vS.jpg: 320x416 (no detections), 12.2ms\n",
      "image 1007/1107 C:\\Users\\gnvca\\OneDrive\\Desktop\\JP\\model03S\\dataset\\images\\test\\IDuIJHHYU.jpg: 320x416 2 panels, 13.6ms\n",
      "image 1008/1107 C:\\Users\\gnvca\\OneDrive\\Desktop\\JP\\model03S\\dataset\\images\\test\\IDuMKMRjWVF.jpg: 320x416 1 panel, 16.3ms\n",
      "image 1009/1107 C:\\Users\\gnvca\\OneDrive\\Desktop\\JP\\model03S\\dataset\\images\\test\\IDuMU6XX2F7zG.jpg: 320x416 1 panel, 13.3ms\n",
      "image 1010/1107 C:\\Users\\gnvca\\OneDrive\\Desktop\\JP\\model03S\\dataset\\images\\test\\IDuOJrUhVIu.jpg: 320x416 1 panel, 18.0ms\n",
      "image 1011/1107 C:\\Users\\gnvca\\OneDrive\\Desktop\\JP\\model03S\\dataset\\images\\test\\IDuPnautavhQhmIN.jpg: 320x416 2 panels, 17.7ms\n",
      "image 1012/1107 C:\\Users\\gnvca\\OneDrive\\Desktop\\JP\\model03S\\dataset\\images\\test\\IDuSLpWVGBQg.jpg: 320x416 (no detections), 17.6ms\n",
      "image 1013/1107 C:\\Users\\gnvca\\OneDrive\\Desktop\\JP\\model03S\\dataset\\images\\test\\IDuTizVfqBVcUdaQg.jpg: 416x416 3 panels, 20.3ms\n",
      "image 1014/1107 C:\\Users\\gnvca\\OneDrive\\Desktop\\JP\\model03S\\dataset\\images\\test\\IDuWApNgxoWyh5p.jpg: 320x416 2 panels, 18.1ms\n",
      "image 1015/1107 C:\\Users\\gnvca\\OneDrive\\Desktop\\JP\\model03S\\dataset\\images\\test\\IDuYsQ8.jpg: 320x416 2 panels, 13.2ms\n",
      "image 1016/1107 C:\\Users\\gnvca\\OneDrive\\Desktop\\JP\\model03S\\dataset\\images\\test\\IDubMwUvv.jpg: 416x416 (no detections), 28.1ms\n",
      "image 1017/1107 C:\\Users\\gnvca\\OneDrive\\Desktop\\JP\\model03S\\dataset\\images\\test\\IDugkYt74t.jpg: 320x416 2 panels, 20.6ms\n",
      "image 1018/1107 C:\\Users\\gnvca\\OneDrive\\Desktop\\JP\\model03S\\dataset\\images\\test\\IDujIui6sIYl9wU.jpg: 320x416 2 panels, 18.1ms\n",
      "image 1019/1107 C:\\Users\\gnvca\\OneDrive\\Desktop\\JP\\model03S\\dataset\\images\\test\\IDuqP8cwcNZzUXc9a.jpg: 320x416 (no detections), 16.0ms\n",
      "image 1020/1107 C:\\Users\\gnvca\\OneDrive\\Desktop\\JP\\model03S\\dataset\\images\\test\\IDuxALuxH.jpg: 320x416 1 panel, 18.1ms\n",
      "image 1021/1107 C:\\Users\\gnvca\\OneDrive\\Desktop\\JP\\model03S\\dataset\\images\\test\\IDuzsyPCato.jpg: 320x416 (no detections), 17.7ms\n",
      "image 1022/1107 C:\\Users\\gnvca\\OneDrive\\Desktop\\JP\\model03S\\dataset\\images\\test\\IDv0MLeS.jpg: 416x320 1 boiler, 21.8ms\n",
      "image 1023/1107 C:\\Users\\gnvca\\OneDrive\\Desktop\\JP\\model03S\\dataset\\images\\test\\IDv2iUPs.jpg: 320x416 (no detections), 19.7ms\n",
      "image 1024/1107 C:\\Users\\gnvca\\OneDrive\\Desktop\\JP\\model03S\\dataset\\images\\test\\IDv5yvVvMdGcZoq.jpg: 320x416 (no detections), 25.4ms\n",
      "image 1025/1107 C:\\Users\\gnvca\\OneDrive\\Desktop\\JP\\model03S\\dataset\\images\\test\\IDv8L46KoW1.jpg: 320x416 2 panels, 16.2ms\n",
      "image 1026/1107 C:\\Users\\gnvca\\OneDrive\\Desktop\\JP\\model03S\\dataset\\images\\test\\IDvD3ah6UFeumHaW.jpg: 320x416 1 panel, 17.9ms\n",
      "image 1027/1107 C:\\Users\\gnvca\\OneDrive\\Desktop\\JP\\model03S\\dataset\\images\\test\\IDvDkajmUTfaoqS1f.jpg: 320x416 3 panels, 16.0ms\n",
      "image 1028/1107 C:\\Users\\gnvca\\OneDrive\\Desktop\\JP\\model03S\\dataset\\images\\test\\IDvDqkERR5.jpg: 320x416 1 panel, 16.2ms\n",
      "image 1029/1107 C:\\Users\\gnvca\\OneDrive\\Desktop\\JP\\model03S\\dataset\\images\\test\\IDvWcYOdHhh6t.jpg: 320x416 2 panels, 15.8ms\n",
      "image 1030/1107 C:\\Users\\gnvca\\OneDrive\\Desktop\\JP\\model03S\\dataset\\images\\test\\IDvcXA2.jpg: 352x416 (no detections), 20.6ms\n",
      "image 1031/1107 C:\\Users\\gnvca\\OneDrive\\Desktop\\JP\\model03S\\dataset\\images\\test\\IDviDlOC.jpg: 320x416 1 panel, 17.6ms\n",
      "image 1032/1107 C:\\Users\\gnvca\\OneDrive\\Desktop\\JP\\model03S\\dataset\\images\\test\\IDvu0zyIF5.jpg: 320x416 (no detections), 16.8ms\n",
      "image 1033/1107 C:\\Users\\gnvca\\OneDrive\\Desktop\\JP\\model03S\\dataset\\images\\test\\IDw64ahr3rCeG8mJ.jpg: 320x416 2 panels, 15.7ms\n",
      "image 1034/1107 C:\\Users\\gnvca\\OneDrive\\Desktop\\JP\\model03S\\dataset\\images\\test\\IDw8doIcZGJug.jpg: 320x416 1 panel, 17.3ms\n",
      "image 1035/1107 C:\\Users\\gnvca\\OneDrive\\Desktop\\JP\\model03S\\dataset\\images\\test\\IDw8eqqoKuA6.jpg: 320x416 4 panels, 12.8ms\n",
      "image 1036/1107 C:\\Users\\gnvca\\OneDrive\\Desktop\\JP\\model03S\\dataset\\images\\test\\IDwAWAeun.jpg: 320x416 2 panels, 18.1ms\n",
      "image 1037/1107 C:\\Users\\gnvca\\OneDrive\\Desktop\\JP\\model03S\\dataset\\images\\test\\IDwAYxFYx.jpg: 320x416 2 panels, 15.4ms\n",
      "image 1038/1107 C:\\Users\\gnvca\\OneDrive\\Desktop\\JP\\model03S\\dataset\\images\\test\\IDwGmhdt.jpg: 320x416 (no detections), 17.6ms\n",
      "image 1039/1107 C:\\Users\\gnvca\\OneDrive\\Desktop\\JP\\model03S\\dataset\\images\\test\\IDwJjSriTt.jpg: 320x416 1 panel, 18.0ms\n",
      "image 1040/1107 C:\\Users\\gnvca\\OneDrive\\Desktop\\JP\\model03S\\dataset\\images\\test\\IDwL79L.jpg: 320x416 (no detections), 16.1ms\n",
      "image 1041/1107 C:\\Users\\gnvca\\OneDrive\\Desktop\\JP\\model03S\\dataset\\images\\test\\IDwLlDqz1hl4XB.jpg: 320x416 2 panels, 16.3ms\n",
      "image 1042/1107 C:\\Users\\gnvca\\OneDrive\\Desktop\\JP\\model03S\\dataset\\images\\test\\IDwTNMfwHMw.jpg: 320x416 1 panel, 16.1ms\n",
      "image 1043/1107 C:\\Users\\gnvca\\OneDrive\\Desktop\\JP\\model03S\\dataset\\images\\test\\IDwTTlnsWZ.jpg: 416x384 (no detections), 21.5ms\n",
      "image 1044/1107 C:\\Users\\gnvca\\OneDrive\\Desktop\\JP\\model03S\\dataset\\images\\test\\IDwXxrkwHO9.jpg: 320x416 1 panel, 16.7ms\n",
      "image 1045/1107 C:\\Users\\gnvca\\OneDrive\\Desktop\\JP\\model03S\\dataset\\images\\test\\IDwezmbqdK3Txzgkv.jpg: 320x416 (no detections), 16.2ms\n",
      "image 1046/1107 C:\\Users\\gnvca\\OneDrive\\Desktop\\JP\\model03S\\dataset\\images\\test\\IDwllD9A92BT.jpg: 320x416 2 panels, 15.5ms\n",
      "image 1047/1107 C:\\Users\\gnvca\\OneDrive\\Desktop\\JP\\model03S\\dataset\\images\\test\\IDwnEywobzfSF.jpg: 320x416 (no detections), 15.9ms\n",
      "image 1048/1107 C:\\Users\\gnvca\\OneDrive\\Desktop\\JP\\model03S\\dataset\\images\\test\\IDwrfKFijXJOT4K3t.jpg: 320x416 2 panels, 15.0ms\n",
      "image 1049/1107 C:\\Users\\gnvca\\OneDrive\\Desktop\\JP\\model03S\\dataset\\images\\test\\IDwrgxs.jpg: 320x416 1 panel, 12.8ms\n",
      "image 1050/1107 C:\\Users\\gnvca\\OneDrive\\Desktop\\JP\\model03S\\dataset\\images\\test\\IDwuY9I.jpg: 320x416 3 panels, 14.2ms\n",
      "image 1051/1107 C:\\Users\\gnvca\\OneDrive\\Desktop\\JP\\model03S\\dataset\\images\\test\\IDwwBEl.jpg: 320x416 2 panels, 15.2ms\n",
      "image 1052/1107 C:\\Users\\gnvca\\OneDrive\\Desktop\\JP\\model03S\\dataset\\images\\test\\IDx0knuD.jpg: 320x416 2 panels, 17.2ms\n",
      "image 1053/1107 C:\\Users\\gnvca\\OneDrive\\Desktop\\JP\\model03S\\dataset\\images\\test\\IDx1Q3Dy.jpg: 320x416 3 panels, 16.1ms\n",
      "image 1054/1107 C:\\Users\\gnvca\\OneDrive\\Desktop\\JP\\model03S\\dataset\\images\\test\\IDx3BSD4.jpg: 416x352 (no detections), 24.8ms\n",
      "image 1055/1107 C:\\Users\\gnvca\\OneDrive\\Desktop\\JP\\model03S\\dataset\\images\\test\\IDx3Jo0nyWr.jpg: 320x416 2 panels, 18.1ms\n",
      "image 1056/1107 C:\\Users\\gnvca\\OneDrive\\Desktop\\JP\\model03S\\dataset\\images\\test\\IDx54u9.jpg: 320x416 2 panels, 16.2ms\n",
      "image 1057/1107 C:\\Users\\gnvca\\OneDrive\\Desktop\\JP\\model03S\\dataset\\images\\test\\IDx6VR7Aqn.jpg: 320x416 (no detections), 16.2ms\n",
      "image 1058/1107 C:\\Users\\gnvca\\OneDrive\\Desktop\\JP\\model03S\\dataset\\images\\test\\IDx8F7lZ.jpg: 320x416 2 panels, 15.7ms\n",
      "image 1059/1107 C:\\Users\\gnvca\\OneDrive\\Desktop\\JP\\model03S\\dataset\\images\\test\\IDxBKKeI.jpg: 320x416 (no detections), 16.7ms\n",
      "image 1060/1107 C:\\Users\\gnvca\\OneDrive\\Desktop\\JP\\model03S\\dataset\\images\\test\\IDxPHUCd5.jpg: 320x416 2 panels, 16.9ms\n",
      "image 1061/1107 C:\\Users\\gnvca\\OneDrive\\Desktop\\JP\\model03S\\dataset\\images\\test\\IDxRhnqF1Gny.jpg: 320x416 2 panels, 12.7ms\n",
      "image 1062/1107 C:\\Users\\gnvca\\OneDrive\\Desktop\\JP\\model03S\\dataset\\images\\test\\IDxV8KHXF2a.jpg: 352x416 1 boiler, 21.7ms\n",
      "image 1063/1107 C:\\Users\\gnvca\\OneDrive\\Desktop\\JP\\model03S\\dataset\\images\\test\\IDxVKj8.jpg: 320x416 2 panels, 18.5ms\n",
      "image 1064/1107 C:\\Users\\gnvca\\OneDrive\\Desktop\\JP\\model03S\\dataset\\images\\test\\IDxb8tv.jpg: 320x416 2 panels, 18.6ms\n",
      "image 1065/1107 C:\\Users\\gnvca\\OneDrive\\Desktop\\JP\\model03S\\dataset\\images\\test\\IDxcofPbgNGrDm.jpg: 320x416 2 panels, 22.7ms\n",
      "image 1066/1107 C:\\Users\\gnvca\\OneDrive\\Desktop\\JP\\model03S\\dataset\\images\\test\\IDxdGnfAY.jpg: 320x416 2 panels, 19.1ms\n",
      "image 1067/1107 C:\\Users\\gnvca\\OneDrive\\Desktop\\JP\\model03S\\dataset\\images\\test\\IDxdKpWTNUTbF.jpg: 416x320 1 panel, 26.3ms\n",
      "image 1068/1107 C:\\Users\\gnvca\\OneDrive\\Desktop\\JP\\model03S\\dataset\\images\\test\\IDxeIa6ntJnrvKT5r.jpg: 320x416 (no detections), 17.4ms\n",
      "image 1069/1107 C:\\Users\\gnvca\\OneDrive\\Desktop\\JP\\model03S\\dataset\\images\\test\\IDxevoM3Jrb7Jwa.jpg: 320x416 1 panel, 18.9ms\n",
      "image 1070/1107 C:\\Users\\gnvca\\OneDrive\\Desktop\\JP\\model03S\\dataset\\images\\test\\IDxfDgXSHLsiB.jpg: 320x416 1 panel, 18.0ms\n",
      "image 1071/1107 C:\\Users\\gnvca\\OneDrive\\Desktop\\JP\\model03S\\dataset\\images\\test\\IDxgl9vWdiH4YwNhw.jpg: 320x416 (no detections), 18.6ms\n",
      "image 1072/1107 C:\\Users\\gnvca\\OneDrive\\Desktop\\JP\\model03S\\dataset\\images\\test\\IDxihwnZti9brMNm.jpg: 320x416 (no detections), 25.3ms\n",
      "image 1073/1107 C:\\Users\\gnvca\\OneDrive\\Desktop\\JP\\model03S\\dataset\\images\\test\\IDxv1ivHIDso.jpg: 320x416 (no detections), 17.6ms\n",
      "image 1074/1107 C:\\Users\\gnvca\\OneDrive\\Desktop\\JP\\model03S\\dataset\\images\\test\\IDxvrnK7mcPXL.jpg: 320x416 2 panels, 16.8ms\n",
      "image 1075/1107 C:\\Users\\gnvca\\OneDrive\\Desktop\\JP\\model03S\\dataset\\images\\test\\IDy3Anv.jpg: 384x416 1 boiler, 21.3ms\n",
      "image 1076/1107 C:\\Users\\gnvca\\OneDrive\\Desktop\\JP\\model03S\\dataset\\images\\test\\IDy76X7S3yPKbU.jpg: 320x416 1 panel, 18.3ms\n",
      "image 1077/1107 C:\\Users\\gnvca\\OneDrive\\Desktop\\JP\\model03S\\dataset\\images\\test\\IDy7QEH4rL.jpg: 352x416 1 boiler, 18.8ms\n",
      "image 1078/1107 C:\\Users\\gnvca\\OneDrive\\Desktop\\JP\\model03S\\dataset\\images\\test\\IDyCqgUKS.jpg: 320x416 1 panel, 18.9ms\n",
      "image 1079/1107 C:\\Users\\gnvca\\OneDrive\\Desktop\\JP\\model03S\\dataset\\images\\test\\IDyEOFMbgKX5lov.jpg: 320x416 (no detections), 16.0ms\n",
      "image 1080/1107 C:\\Users\\gnvca\\OneDrive\\Desktop\\JP\\model03S\\dataset\\images\\test\\IDyF0v6h81XdMGz.jpg: 320x416 2 panels, 16.9ms\n",
      "image 1081/1107 C:\\Users\\gnvca\\OneDrive\\Desktop\\JP\\model03S\\dataset\\images\\test\\IDyFpWqCHd3.jpg: 320x416 1 panel, 17.6ms\n",
      "image 1082/1107 C:\\Users\\gnvca\\OneDrive\\Desktop\\JP\\model03S\\dataset\\images\\test\\IDyK1PR3r.jpg: 320x416 2 panels, 16.1ms\n",
      "image 1083/1107 C:\\Users\\gnvca\\OneDrive\\Desktop\\JP\\model03S\\dataset\\images\\test\\IDyNgXEZa.jpg: 288x416 1 boiler, 17.5ms\n",
      "image 1084/1107 C:\\Users\\gnvca\\OneDrive\\Desktop\\JP\\model03S\\dataset\\images\\test\\IDyTaBNkOUd.jpg: 320x416 2 panels, 20.0ms\n",
      "image 1085/1107 C:\\Users\\gnvca\\OneDrive\\Desktop\\JP\\model03S\\dataset\\images\\test\\IDyVYj2.jpg: 320x416 (no detections), 15.5ms\n",
      "image 1086/1107 C:\\Users\\gnvca\\OneDrive\\Desktop\\JP\\model03S\\dataset\\images\\test\\IDyWBUJ3eBmmh.jpg: 416x416 17 panels, 24.4ms\n",
      "image 1087/1107 C:\\Users\\gnvca\\OneDrive\\Desktop\\JP\\model03S\\dataset\\images\\test\\IDyYcRt53qPvX3mv.jpg: 320x416 (no detections), 20.7ms\n",
      "image 1088/1107 C:\\Users\\gnvca\\OneDrive\\Desktop\\JP\\model03S\\dataset\\images\\test\\IDyiPO4bTQK.jpg: 320x416 (no detections), 12.1ms\n",
      "image 1089/1107 C:\\Users\\gnvca\\OneDrive\\Desktop\\JP\\model03S\\dataset\\images\\test\\IDytK70vdBWYDY9Z.jpg: 320x416 1 panel, 15.8ms\n",
      "image 1090/1107 C:\\Users\\gnvca\\OneDrive\\Desktop\\JP\\model03S\\dataset\\images\\test\\IDz0K73.jpg: 320x416 3 panels, 16.2ms\n",
      "image 1091/1107 C:\\Users\\gnvca\\OneDrive\\Desktop\\JP\\model03S\\dataset\\images\\test\\IDz0qz2WUx.jpg: 320x416 2 panels, 15.2ms\n",
      "image 1092/1107 C:\\Users\\gnvca\\OneDrive\\Desktop\\JP\\model03S\\dataset\\images\\test\\IDz2Li9rj3FGSs93.jpg: 320x416 1 panel, 16.4ms\n",
      "image 1093/1107 C:\\Users\\gnvca\\OneDrive\\Desktop\\JP\\model03S\\dataset\\images\\test\\IDz4wyathUaafzF1.jpg: 416x416 (no detections), 18.8ms\n",
      "image 1094/1107 C:\\Users\\gnvca\\OneDrive\\Desktop\\JP\\model03S\\dataset\\images\\test\\IDzBxVmIHZoneo.jpg: 320x416 1 panel, 21.1ms\n",
      "image 1095/1107 C:\\Users\\gnvca\\OneDrive\\Desktop\\JP\\model03S\\dataset\\images\\test\\IDzByhJxOeg4d7vk.jpg: 320x416 1 panel, 16.2ms\n",
      "image 1096/1107 C:\\Users\\gnvca\\OneDrive\\Desktop\\JP\\model03S\\dataset\\images\\test\\IDzPlfj.jpg: 320x416 1 panel, 16.8ms\n",
      "image 1097/1107 C:\\Users\\gnvca\\OneDrive\\Desktop\\JP\\model03S\\dataset\\images\\test\\IDzQUjsuQbZiUAP6s.jpg: 384x416 1 panel, 18.3ms\n",
      "image 1098/1107 C:\\Users\\gnvca\\OneDrive\\Desktop\\JP\\model03S\\dataset\\images\\test\\IDzTVBo.jpg: 320x416 (no detections), 16.8ms\n",
      "image 1099/1107 C:\\Users\\gnvca\\OneDrive\\Desktop\\JP\\model03S\\dataset\\images\\test\\IDzU8hWyVLYH7kE35.jpg: 320x416 7 panels, 14.7ms\n",
      "image 1100/1107 C:\\Users\\gnvca\\OneDrive\\Desktop\\JP\\model03S\\dataset\\images\\test\\IDzVVQ1i6SfsJVFX1.jpg: 320x416 (no detections), 15.1ms\n",
      "image 1101/1107 C:\\Users\\gnvca\\OneDrive\\Desktop\\JP\\model03S\\dataset\\images\\test\\IDzWC4a8XJ5yB7JV6.jpg: 320x416 2 panels, 23.9ms\n",
      "image 1102/1107 C:\\Users\\gnvca\\OneDrive\\Desktop\\JP\\model03S\\dataset\\images\\test\\IDzdqMimk7v.jpg: 416x320 (no detections), 23.4ms\n",
      "image 1103/1107 C:\\Users\\gnvca\\OneDrive\\Desktop\\JP\\model03S\\dataset\\images\\test\\IDzhpdPHeGHlmWEIx.jpg: 320x416 1 panel, 16.4ms\n",
      "image 1104/1107 C:\\Users\\gnvca\\OneDrive\\Desktop\\JP\\model03S\\dataset\\images\\test\\IDztljx.jpg: 320x416 (no detections), 18.0ms\n",
      "image 1105/1107 C:\\Users\\gnvca\\OneDrive\\Desktop\\JP\\model03S\\dataset\\images\\test\\IDzwPcyO0e.jpg: 416x416 (no detections), 21.4ms\n",
      "image 1106/1107 C:\\Users\\gnvca\\OneDrive\\Desktop\\JP\\model03S\\dataset\\images\\test\\IDzzNegz.jpg: 320x416 2 panels, 16.4ms\n",
      "image 1107/1107 C:\\Users\\gnvca\\OneDrive\\Desktop\\JP\\model03S\\dataset\\images\\test\\IDzzZcEYNVZMCk.jpg: 320x416 (no detections), 19.0ms\n",
      "Speed: 2.1ms preprocess, 15.3ms inference, 1.7ms postprocess per image at shape (1, 3, 320, 416)\n",
      "✅ CSV saved: 'test_detection_counts.csv'\n"
     ]
    }
   ],
   "source": [
    "from ultralytics import YOLO\n",
    "import pandas as pd\n",
    "import os\n",
    "import glob\n",
    "\n",
    "# Load trained model\n",
    "model = YOLO(\"runs/detect/train_safe4/weights/best.pt\")\n",
    "\n",
    "# Get all test images (ensure they're found)\n",
    "image_files = glob.glob(r\"C:\\Users\\gnvca\\OneDrive\\Desktop\\JP\\model03S\\dataset\\images\\test\\*\")  # Any image format\n",
    "if not image_files:\n",
    "    raise ValueError(\"⚠️ No test images found! Check dataset path or file extensions.\")\n",
    "\n",
    "print(f\"✅ Found {len(image_files)} test images.\")\n",
    "\n",
    "# Run inference on the test folder\n",
    "results = model.predict(source=r\"C:\\Users\\gnvca\\OneDrive\\Desktop\\JP\\model03S\\dataset\\images\\test\\\\\", save=False)\n",
    "\n",
    "# Process results\n",
    "rows = []\n",
    "processed_images = set()\n",
    "\n",
    "for result in results:\n",
    "    image_id = os.path.splitext(os.path.basename(result.path))[0]\n",
    "    processed_images.add(image_id)\n",
    "\n",
    "    class_ids = result.boxes.cls.int().tolist()\n",
    "    boiler_count = class_ids.count(0)\n",
    "    panel_count = class_ids.count(1)\n",
    "\n",
    "    rows.append({\"ID\": f\"{image_id}_boil\", \"Target\": boiler_count})\n",
    "    rows.append({\"ID\": f\"{image_id}_pan\", \"Target\": panel_count})\n",
    "\n",
    "# Ensure missing images have Target=0\n",
    "for img_path in image_files:\n",
    "    img_id = os.path.splitext(os.path.basename(img_path))[0]\n",
    "    if img_id not in processed_images:\n",
    "        rows.append({\"ID\": f\"{img_id}_boil\", \"Target\": 0})\n",
    "        rows.append({\"ID\": f\"{img_id}_pan\", \"Target\": 0})\n",
    "\n",
    "# Save CSV\n",
    "df = pd.DataFrame(rows)\n",
    "df.to_csv(\"test_detection_counts.csv\", index=False)\n",
    "print(\"✅ CSV saved: 'test_detection_counts.csv'\")"
   ]
  }
 ],
 "metadata": {
  "kernelspec": {
   "display_name": "yolov8",
   "language": "python",
   "name": "python3"
  },
  "language_info": {
   "codemirror_mode": {
    "name": "ipython",
    "version": 3
   },
   "file_extension": ".py",
   "mimetype": "text/x-python",
   "name": "python",
   "nbconvert_exporter": "python",
   "pygments_lexer": "ipython3",
   "version": "3.10.16"
  }
 },
 "nbformat": 4,
 "nbformat_minor": 2
}
