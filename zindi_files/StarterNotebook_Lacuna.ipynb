{
  "cells": [
    {
      "cell_type": "markdown",
      "metadata": {
        "id": "-dOaYbAh8flk"
      },
      "source": [
        "# Setup"
      ]
    },
    {
      "cell_type": "code",
      "execution_count": 2,
      "metadata": {
        "colab": {
          "base_uri": "https://localhost:8080/"
        },
        "id": "anJiNQwP6jq5",
        "outputId": "7eed6c1a-fb25-47f9-afd6-f70a886dc94b"
      },
      "outputs": [
        {
          "name": "stdout",
          "output_type": "stream",
          "text": [
            "zsh:1: command not found: nvidia-smi\n"
          ]
        }
      ],
      "source": [
        "!nvidia-smi"
      ]
    },
    {
      "cell_type": "code",
      "execution_count": 3,
      "metadata": {
        "id": "aNX0tdydsdrk"
      },
      "outputs": [
        {
          "name": "stdout",
          "output_type": "stream",
          "text": [
            "unzip:  cannot find or open /images.zip, /images.zip.zip or /images.zip.ZIP.\n"
          ]
        }
      ],
      "source": [
        "# unzip data\n",
        "!unzip -q \"/images.zip\" -d images"
      ]
    },
    {
      "cell_type": "code",
      "execution_count": 3,
      "metadata": {
        "colab": {
          "base_uri": "https://localhost:8080/"
        },
        "id": "Y5T_1zXS9HRb",
        "outputId": "a8747c79-80d9-4263-fcd2-a410ab24388e"
      },
      "outputs": [],
      "source": [
        "import os\n",
        "import pickle\n",
        "import timm\n",
        "import torch\n",
        "import torch.nn as nn\n",
        "import torch.optim as optim\n",
        "import albumentations as A\n",
        "from albumentations.pytorch import ToTensorV2\n",
        "from torch.utils.data import Dataset, DataLoader\n",
        "import pandas as pd\n",
        "import cv2\n",
        "from sklearn.model_selection import StratifiedKFold\n",
        "import numpy as np\n",
        "from tqdm import tqdm"
      ]
    },
    {
      "cell_type": "markdown",
      "metadata": {
        "id": "Bi_jqci98hjS"
      },
      "source": [
        "# Imports"
      ]
    },
    {
      "cell_type": "code",
      "execution_count": 5,
      "metadata": {},
      "outputs": [
        {
          "name": "stdout",
          "output_type": "stream",
          "text": [
            "<class 'pandas.core.frame.DataFrame'>\n",
            "                     ID boil_nbr    pan_nbr  \\\n",
            "0               ID00rw8       []        [2]   \n",
            "1            ID014O6EC7       []        [1]   \n",
            "2             ID020cu0z       []        [1]   \n",
            "3     ID024YTBkLvRpQahT       []  [1, 2, 2]   \n",
            "4         ID02vByTw8Htl       []        [1]   \n",
            "...                 ...      ...        ...   \n",
            "3307         IDzt0z6lQC      [1]         []   \n",
            "3308        IDzwqGWYJzj       []        [2]   \n",
            "3309    IDzxHMiMmh9r04J       []        [2]   \n",
            "3310           IDzxXgqh       []        [1]   \n",
            "3311  IDzxqZRHQqVMgRXYQ       []        [2]   \n",
            "\n",
            "                                           boil_polygon  \\\n",
            "0                                                    []   \n",
            "1                                                    []   \n",
            "2                                                    []   \n",
            "3                                                    []   \n",
            "4                                                    []   \n",
            "...                                                 ...   \n",
            "3307  [[(277.0, 186.0), (326.0, 215.0), (306.0, 262....   \n",
            "3308                                                 []   \n",
            "3309                                                 []   \n",
            "3310                                                 []   \n",
            "3311                                                 []   \n",
            "\n",
            "                                            pan_polygon img_origin  placement  \\\n",
            "0     [[(2087.0, 2179.0), (2181.0, 2191.0), (2171.0,...          D       roof   \n",
            "1     [[(1327.0, 1574.0), (1595.0, 1308.0), (2169.0,...          D       roof   \n",
            "2     [[(2215.0, 1372.0), (2400.0, 1422.0), (2316.0,...          D  openspace   \n",
            "3     [[(1574.0, 526.0), (1698.0, 366.0), (1810.0, 4...          D       roof   \n",
            "4     [[(2931.0, 1712.0), (3135.0, 1923.0), (2876.0,...          D       roof   \n",
            "...                                                 ...        ...        ...   \n",
            "3307                                                 []          S  S-unknown   \n",
            "3308  [[(2027.0, 1928.0), (2226.0, 1766.0), (2548.0,...          D       roof   \n",
            "3309  [[(1257.0, 1267.0), (1344.0, 1169.0), (1711.0,...          D  openspace   \n",
            "3310  [[(3448.0, 2606.0), (3227.0, 2420.0), (3662.0,...          D       roof   \n",
            "3311  [[(1857.0, 1151.0), (2041.0, 1155.0), (2069.0,...          D       roof   \n",
            "\n",
            "     hows_polygon  \n",
            "0              ok  \n",
            "1              ok  \n",
            "2              ok  \n",
            "3           quase  \n",
            "4              ok  \n",
            "...           ...  \n",
            "3307           ok  \n",
            "3308           ok  \n",
            "3309           ok  \n",
            "3310    a direita  \n",
            "3311           ok  \n",
            "\n",
            "[3312 rows x 8 columns]\n"
          ]
        }
      ],
      "source": [
        "with open(\"/Volumes/Agora_Sim/Python/CAA_Proj_1/Lacuna-solar/Train_v03.pkl\", \"rb\") as f:\n",
        "    obj = pickle.load(f)\n",
        "    print(type(obj))  # See what type of object is stored\n",
        "    print(obj)        # Print some content (if not too large)\n"
      ]
    },
    {
      "cell_type": "code",
      "execution_count": 2,
      "metadata": {
        "id": "8eaj51iFv95-"
      },
      "outputs": [],
      "source": [
        "# Read in the training dataset\n",
        "train = pd.read_csv(f\"Train.csv\")"
      ]
    },
    {
      "cell_type": "markdown",
      "metadata": {},
      "source": [
        "### Understanding the dataset\n",
        "\n",
        "The dataset is split into 3,312 training images and 1,107 test images. In addition to the polygon annotations, each image is enriched with metadata:\n",
        "\n",
        "img_origin:\n",
        "- \"S\" indicates a satellite image.\n",
        "- \"D\" indicates a drone image.\n",
        "**placement**: Provides context on installation environments:\n",
        "- roof: Installations on rooftops or terraces.\n",
        "- openspace: Installations in open courtyards or gardens.\n",
        "- r_openspace: Installations that span both rooftops and outdoor spaces.\n",
        "- S-unknown: For satellite images where the specific placement could not be determined.\n",
        "\n"
      ]
    },
    {
      "cell_type": "code",
      "execution_count": 3,
      "metadata": {
        "colab": {
          "base_uri": "https://localhost:8080/",
          "height": 112
        },
        "id": "saWCS23p2EEK",
        "outputId": "c160cee4-db1c-4950-c8ce-4b1a3fcaaf27"
      },
      "outputs": [
        {
          "data": {
            "text/html": [
              "<div>\n",
              "<style scoped>\n",
              "    .dataframe tbody tr th:only-of-type {\n",
              "        vertical-align: middle;\n",
              "    }\n",
              "\n",
              "    .dataframe tbody tr th {\n",
              "        vertical-align: top;\n",
              "    }\n",
              "\n",
              "    .dataframe thead th {\n",
              "        text-align: right;\n",
              "    }\n",
              "</style>\n",
              "<table border=\"1\" class=\"dataframe\">\n",
              "  <thead>\n",
              "    <tr style=\"text-align: right;\">\n",
              "      <th></th>\n",
              "      <th>ID</th>\n",
              "      <th>img_origin</th>\n",
              "      <th>placement</th>\n",
              "      <th>boil_nbr</th>\n",
              "      <th>pan_nbr</th>\n",
              "      <th>polygon</th>\n",
              "    </tr>\n",
              "  </thead>\n",
              "  <tbody>\n",
              "    <tr>\n",
              "      <th>0</th>\n",
              "      <td>ID00rw8</td>\n",
              "      <td>D</td>\n",
              "      <td>roof</td>\n",
              "      <td>0</td>\n",
              "      <td>2</td>\n",
              "      <td>[(2087, 2179.0), (2181, 2191.0), (2171, 2223.0...</td>\n",
              "    </tr>\n",
              "    <tr>\n",
              "      <th>1</th>\n",
              "      <td>ID014O6EC7</td>\n",
              "      <td>D</td>\n",
              "      <td>roof</td>\n",
              "      <td>0</td>\n",
              "      <td>1</td>\n",
              "      <td>[(1327, 1574.0), (1595, 1308.0), (2169, 1744.0...</td>\n",
              "    </tr>\n",
              "  </tbody>\n",
              "</table>\n",
              "</div>"
            ],
            "text/plain": [
              "           ID img_origin placement  boil_nbr  pan_nbr  \\\n",
              "0     ID00rw8          D      roof         0        2   \n",
              "1  ID014O6EC7          D      roof         0        1   \n",
              "\n",
              "                                             polygon  \n",
              "0  [(2087, 2179.0), (2181, 2191.0), (2171, 2223.0...  \n",
              "1  [(1327, 1574.0), (1595, 1308.0), (2169, 1744.0...  "
            ]
          },
          "execution_count": 3,
          "metadata": {},
          "output_type": "execute_result"
        }
      ],
      "source": [
        "train.head(2)"
      ]
    },
    {
      "cell_type": "code",
      "execution_count": 4,
      "metadata": {
        "id": "5DF3hPzM2wIG"
      },
      "outputs": [],
      "source": [
        "# Create a placement mapper\n",
        "placement_mapper = train[[\"ID\", \"placement\"]].drop_duplicates().set_index(\"ID\").to_dict()\n",
        "# Create a \"img_origin\" mapper\n",
        "img_origin_mapper = train[[\"ID\", \"img_origin\"]].drop_duplicates().set_index(\"ID\").to_dict()\n",
        "\n",
        "# Group by \"ID\" and sum up boil_nb, pan_nbr\n",
        "train_df = train.groupby(\"ID\").sum().reset_index()[[\"ID\", \"boil_nbr\", \"pan_nbr\"]]\n",
        "\n",
        "# Map img_origin and placement\n",
        "train_df[\"img_origin\"] = train_df[\"ID\"].map(img_origin_mapper[\"img_origin\"])\n",
        "train_df[\"placement\"] = train_df[\"ID\"].map(placement_mapper[\"placement\"])\n",
        "\n",
        "# Create path column\n",
        "train_df[\"path\"] = \"images/\" + train_df[\"ID\"] + \".jpg\""
      ]
    },
    {
      "cell_type": "code",
      "execution_count": 5,
      "metadata": {
        "colab": {
          "base_uri": "https://localhost:8080/",
          "height": 112
        },
        "id": "ULcbkzcQ-T86",
        "outputId": "59ca52bc-f36e-41ec-9590-a913ea89fd88"
      },
      "outputs": [
        {
          "data": {
            "text/html": [
              "<div>\n",
              "<style scoped>\n",
              "    .dataframe tbody tr th:only-of-type {\n",
              "        vertical-align: middle;\n",
              "    }\n",
              "\n",
              "    .dataframe tbody tr th {\n",
              "        vertical-align: top;\n",
              "    }\n",
              "\n",
              "    .dataframe thead th {\n",
              "        text-align: right;\n",
              "    }\n",
              "</style>\n",
              "<table border=\"1\" class=\"dataframe\">\n",
              "  <thead>\n",
              "    <tr style=\"text-align: right;\">\n",
              "      <th></th>\n",
              "      <th>ID</th>\n",
              "      <th>boil_nbr</th>\n",
              "      <th>pan_nbr</th>\n",
              "      <th>img_origin</th>\n",
              "      <th>placement</th>\n",
              "      <th>path</th>\n",
              "    </tr>\n",
              "  </thead>\n",
              "  <tbody>\n",
              "    <tr>\n",
              "      <th>0</th>\n",
              "      <td>ID00rw8</td>\n",
              "      <td>0</td>\n",
              "      <td>2</td>\n",
              "      <td>D</td>\n",
              "      <td>roof</td>\n",
              "      <td>images/ID00rw8.jpg</td>\n",
              "    </tr>\n",
              "    <tr>\n",
              "      <th>1</th>\n",
              "      <td>ID014O6EC7</td>\n",
              "      <td>0</td>\n",
              "      <td>1</td>\n",
              "      <td>D</td>\n",
              "      <td>roof</td>\n",
              "      <td>images/ID014O6EC7.jpg</td>\n",
              "    </tr>\n",
              "  </tbody>\n",
              "</table>\n",
              "</div>"
            ],
            "text/plain": [
              "           ID  boil_nbr  pan_nbr img_origin placement                   path\n",
              "0     ID00rw8         0        2          D      roof     images/ID00rw8.jpg\n",
              "1  ID014O6EC7         0        1          D      roof  images/ID014O6EC7.jpg"
            ]
          },
          "execution_count": 5,
          "metadata": {},
          "output_type": "execute_result"
        }
      ],
      "source": [
        "train_df.head(2)"
      ]
    },
    {
      "cell_type": "code",
      "execution_count": 6,
      "metadata": {
        "colab": {
          "base_uri": "https://localhost:8080/"
        },
        "id": "HKG3kLmc3U0j",
        "outputId": "dec2c167-1473-4413-c7c6-68fc5b9ef7a8"
      },
      "outputs": [
        {
          "name": "stderr",
          "output_type": "stream",
          "text": [
            "/Users/joaop.cardoso/miniconda3/envs/fcd/lib/python3.12/site-packages/sklearn/model_selection/_split.py:805: UserWarning: The least populated class in y has only 1 members, which is less than n_splits=5.\n",
            "  warnings.warn(\n"
          ]
        }
      ],
      "source": [
        "# Stratified KFold based on multi-label targets\n",
        "train_df[\"stratify_label\"] = train_df[[\"boil_nbr\", \"pan_nbr\"]].sum(axis=1)\n",
        "skf = StratifiedKFold(n_splits=5, shuffle=True, random_state=42)\n",
        "train_df[\"fold\"] = -1\n",
        "for fold, (_, valid_idx) in enumerate(skf.split(train_df, train_df[\"stratify_label\"])):\n",
        "    train_df.loc[valid_idx, \"fold\"] = fold"
      ]
    },
    {
      "cell_type": "code",
      "execution_count": 7,
      "metadata": {
        "id": "Wn5YdAa6DQru"
      },
      "outputs": [],
      "source": [
        "# Define Transformations\n",
        "train_transforms = A.Compose([\n",
        "    A.Resize(384, 384),\n",
        "    A.HorizontalFlip(p=0.5),\n",
        "    A.Normalize(mean=(0.485, 0.456, 0.406), std=(0.229, 0.224, 0.225)),\n",
        "    ToTensorV2()\n",
        "])\n",
        "\n",
        "test_transforms = A.Compose([\n",
        "    A.Resize(384, 384),\n",
        "    A.Normalize(mean=(0.485, 0.456, 0.406), std=(0.229, 0.224, 0.225)),\n",
        "    ToTensorV2()\n",
        "])"
      ]
    },
    {
      "cell_type": "code",
      "execution_count": 8,
      "metadata": {
        "id": "HihBcjfh9RH7"
      },
      "outputs": [],
      "source": [
        "# Custom Dataset\n",
        "class SolarPanelDataset(Dataset):\n",
        "    def __init__(self, dataframe, transform=None, to_train=True):\n",
        "        self.dataframe = dataframe\n",
        "        self.transform = transform\n",
        "        self.to_train = to_train\n",
        "\n",
        "    def __len__(self):\n",
        "        return len(self.dataframe)\n",
        "\n",
        "    def __getitem__(self, idx):\n",
        "        row = self.dataframe.iloc[idx]\n",
        "        image = cv2.imread(row[\"path\"])\n",
        "        image = cv2.cvtColor(image, cv2.COLOR_BGR2RGB)\n",
        "\n",
        "        if self.transform:\n",
        "            image = self.transform(image=image)[\"image\"]\n",
        "\n",
        "        if self.to_train:\n",
        "          target = torch.tensor([row[\"boil_nbr\"], row[\"pan_nbr\"]], dtype=torch.float32)\n",
        "          return image, target\n",
        "        else:\n",
        "          return image"
      ]
    },
    {
      "cell_type": "code",
      "execution_count": 9,
      "metadata": {
        "id": "5zg6m_dc9Va7"
      },
      "outputs": [],
      "source": [
        "# Select fold (cross-validation setup)\n",
        "fold = 0  # Change fold index as needed\n",
        "\n",
        "# Split data into training and validation sets\n",
        "train_data = train_df[train_df[\"fold\"] != fold].reset_index(drop=True)\n",
        "valid_data = train_df[train_df[\"fold\"] == fold].reset_index(drop=True)\n",
        "\n",
        "# Create dataset objects\n",
        "dataset_train = SolarPanelDataset(train_data, transform=train_transforms)\n",
        "dataset_valid = SolarPanelDataset(valid_data, transform=test_transforms)\n",
        "\n",
        "# Create data loaders\n",
        "train_loader = DataLoader(\n",
        "    dataset_train,\n",
        "    batch_size=8,\n",
        "    shuffle=True,       # ✅ Shuffles training data\n",
        "    num_workers=0,      # ✅ Use 0 in Jupyter notebooks to prevent freezing\n",
        "    pin_memory=False,    # ✅ Speeds up GPU training (remove if using CPU)\n",
        "    drop_last=True      # ✅ Prevents batch size mismatches\n",
        ")\n",
        "\n",
        "valid_loader = DataLoader(\n",
        "    dataset_valid,\n",
        "    batch_size=8,\n",
        "    shuffle=False,  # 🚨 Do NOT shuffle validation set\n",
        "    num_workers=0,  # ✅ Use 0 in Jupyter notebooks\n",
        "    pin_memory=False\n",
        ")\n"
      ]
    },
    {
      "cell_type": "code",
      "execution_count": 10,
      "metadata": {
        "id": "urT-xV7X_tKB"
      },
      "outputs": [],
      "source": [
        "# Model Definition\n",
        "class EfficientNetRegressor(nn.Module):\n",
        "    def __init__(self):\n",
        "        super(EfficientNetRegressor, self).__init__()\n",
        "        self.model = timm.create_model(\"tf_efficientnet_b1\", pretrained=True)\n",
        "        self.model.classifier = nn.Linear(self.model.classifier.in_features, 2)\n",
        "\n",
        "    def forward(self, x):\n",
        "        return self.model(x)\n",
        "\n",
        "# Create the model on CPU explicitly\n",
        "device = torch.device(\"cpu\")  # Ensure CPU mode\n",
        "model = EfficientNetRegressor().to(device)\n"
      ]
    },
    {
      "cell_type": "code",
      "execution_count": 11,
      "metadata": {
        "colab": {
          "base_uri": "https://localhost:8080/",
          "height": 157,
          "referenced_widgets": [
            "654c794449bd42378ad0ff1ba20a3842",
            "77ac0e5761554e789f001c1045129ea8",
            "3db63fd099ba4a2a8d3ffcaa147b6011",
            "5a5479ef19af4814b4a227ea44ffd90a",
            "60f4949511b44ae499946129cee86819",
            "69079a20dea64e91885053bf2cc54a4c",
            "5ca7b048742c49e986dd8e30727367a7",
            "8f26197afbe3469cb2d27ea32f7257ee",
            "d026f74db1264804b09f4b93da7bf720",
            "e52204a5e84f419994c7017fc2b3bbf8",
            "0b074c585dd5460f892711429f1d78aa"
          ]
        },
        "id": "DqOjmljZ_wqQ",
        "outputId": "e79d1147-5c89-4b26-be64-c4e87272d0eb"
      },
      "outputs": [
        {
          "name": "stdout",
          "output_type": "stream",
          "text": [
            "Using device: cpu\n"
          ]
        }
      ],
      "source": [
        "# 🔹 Detect if GPU is available, otherwise fallback to CPU\n",
        "device = torch.device(\"cpu\")\n",
        "print(f\"Using device: {device}\")\n",
        "\n",
        "model = EfficientNetRegressor().to(device)\n",
        "\n",
        "# 🔹 Loss function (Mean Absolute Error)\n",
        "criterion = nn.L1Loss()\n",
        "\n",
        "# 🔹 Optimizer (Adam with a learning rate of 1e-4)\n",
        "optimizer = optim.Adam(model.parameters(), lr=1e-4)\n",
        "\n",
        "# 🔹 Learning rate scheduler (OPTIONAL: decreases LR after every 10 epochs)\n",
        "scheduler = optim.lr_scheduler.StepLR(optimizer, step_size=10, gamma=0.5)\n",
        "\n",
        "# 🔹 Model Saving Path\n",
        "best_model_path = \"best_model.pth\"\n"
      ]
    },
    {
      "cell_type": "code",
      "execution_count": 13,
      "metadata": {
        "colab": {
          "base_uri": "https://localhost:8080/"
        },
        "id": "D5gV2mYT_zFy",
        "outputId": "0fb50c5a-93c1-46ee-b1fe-ed04556c821d"
      },
      "outputs": [
        {
          "name": "stderr",
          "output_type": "stream",
          "text": [
            "Epoch 1/3 - Training:  36%|███▌      | 118/331 [13:05<23:00,  6.48s/it]Premature end of JPEG file\n",
            "Epoch 1/3 - Training: 100%|██████████| 331/331 [40:57<00:00,  7.43s/it]   \n",
            "Epoch 1/3 - Validation: 100%|██████████| 83/83 [02:59<00:00,  2.17s/it]\n"
          ]
        },
        {
          "name": "stdout",
          "output_type": "stream",
          "text": [
            "Epoch 1/3, Train Loss: 2.4362, Val Loss: 2.3150\n"
          ]
        },
        {
          "name": "stderr",
          "output_type": "stream",
          "text": [
            "Epoch 2/3 - Training:  73%|███████▎  | 240/331 [23:56<09:18,  6.13s/it]Premature end of JPEG file\n",
            "Epoch 2/3 - Training: 100%|██████████| 331/331 [37:29<00:00,  6.80s/it]  \n",
            "Epoch 2/3 - Validation: 100%|██████████| 83/83 [03:02<00:00,  2.20s/it]\n"
          ]
        },
        {
          "name": "stdout",
          "output_type": "stream",
          "text": [
            "Epoch 2/3, Train Loss: 2.1582, Val Loss: 2.2514\n"
          ]
        },
        {
          "name": "stderr",
          "output_type": "stream",
          "text": [
            "Epoch 3/3 - Training:  30%|██▉       | 99/331 [10:06<23:34,  6.10s/it]Premature end of JPEG file\n",
            "Epoch 3/3 - Training: 100%|██████████| 331/331 [38:28<00:00,  6.97s/it]  \n",
            "Epoch 3/3 - Validation: 100%|██████████| 83/83 [03:06<00:00,  2.24s/it]\n"
          ]
        },
        {
          "name": "stdout",
          "output_type": "stream",
          "text": [
            "Epoch 3/3, Train Loss: 1.9635, Val Loss: 2.1808\n"
          ]
        }
      ],
      "source": [
        "# Training Loop\n",
        "num_epochs = 3\n",
        "best_loss = float(\"inf\")\n",
        "\n",
        "for epoch in range(num_epochs):\n",
        "    model.train()\n",
        "    epoch_loss = 0.0\n",
        "    for images, targets in tqdm(train_loader, desc=f\"Epoch {epoch+1}/{num_epochs} - Training\"):\n",
        "        images, targets = images.to(device), targets.to(device)  # Move to CPU\n",
        "\n",
        "        optimizer.zero_grad()\n",
        "        outputs = model(images)\n",
        "        loss = criterion(outputs, targets)\n",
        "        loss.backward()\n",
        "        optimizer.step()\n",
        "        epoch_loss += loss.item()\n",
        "\n",
        "    # Validation Loop\n",
        "    model.eval()\n",
        "    val_loss = 0.0\n",
        "    with torch.no_grad():\n",
        "        for images, targets in tqdm(valid_loader, desc=f\"Epoch {epoch+1}/{num_epochs} - Validation\"):\n",
        "            images, targets = images.to(device), targets.to(device)  # Move to CPU\n",
        "            outputs = model(images)\n",
        "            loss = criterion(outputs, targets)\n",
        "            val_loss += loss.item()\n",
        "\n",
        "    val_loss /= len(valid_loader)\n",
        "    print(f\"Epoch {epoch+1}/{num_epochs}, Train Loss: {epoch_loss/len(train_loader):.4f}, Val Loss: {val_loss:.4f}\")\n",
        "\n",
        "    # Save Best Model\n",
        "    if val_loss < best_loss:\n",
        "        best_loss = val_loss\n",
        "        torch.save(model.state_dict(), best_model_path)"
      ]
    },
    {
      "cell_type": "code",
      "execution_count": 15,
      "metadata": {
        "colab": {
          "base_uri": "https://localhost:8080/"
        },
        "id": "d-b5YbRbABqg",
        "outputId": "4594bd0b-8794-4cfe-d9ba-0232b7089e30"
      },
      "outputs": [
        {
          "name": "stderr",
          "output_type": "stream",
          "text": [
            "Predicting on Validation Set: 100%|██████████| 83/83 [03:45<00:00,  2.71s/it]\n"
          ]
        }
      ],
      "source": [
        "# Load Best Model\n",
        "model.load_state_dict(torch.load(best_model_path))\n",
        "model.eval()\n",
        "\n",
        "# Predict on Validation Set\n",
        "preds = []\n",
        "true_vals = []\n",
        "with torch.no_grad():\n",
        "    for images, targets in tqdm(valid_loader, desc=\"Predicting on Validation Set\"):\n",
        "        images = images.to(device)\n",
        "        outputs = model(images).cpu().numpy()\n",
        "        preds.append(outputs)\n",
        "        true_vals.append(targets.numpy())\n",
        "preds = np.concatenate(preds, axis=0)\n",
        "true_vals = np.concatenate(true_vals, axis=0)"
      ]
    },
    {
      "cell_type": "code",
      "execution_count": 16,
      "metadata": {
        "colab": {
          "base_uri": "https://localhost:8080/"
        },
        "id": "QKQh0lfnPwqq",
        "outputId": "0e820462-63b0-406d-bf14-ca0fb8050633"
      },
      "outputs": [
        {
          "name": "stdout",
          "output_type": "stream",
          "text": [
            "Validation MAE: 2.1836\n"
          ]
        }
      ],
      "source": [
        "from sklearn.metrics import mean_absolute_error\n",
        "\n",
        "# Evaluate using MAE\n",
        "mae = mean_absolute_error(true_vals, preds)\n",
        "print(f\"Validation MAE: {mae:.4f}\")"
      ]
    },
    {
      "cell_type": "code",
      "execution_count": 18,
      "metadata": {
        "colab": {
          "base_uri": "https://localhost:8080/"
        },
        "id": "ne1bkGIvKuAG",
        "outputId": "67438760-c2bd-4dfc-edb9-d0e0611ce7e3"
      },
      "outputs": [
        {
          "name": "stderr",
          "output_type": "stream",
          "text": [
            "Predicting on Test Set: 100%|██████████| 35/35 [06:03<00:00, 10.38s/it]\n"
          ]
        }
      ],
      "source": [
        "# Predict on Test Set\n",
        "test_df = pd.read_csv(f\"Test.csv\")\n",
        "\n",
        "test_df[\"path\"] = \"images/\" + test_df[\"ID\"] + \".jpg\"\n",
        "\n",
        "dataset_test = SolarPanelDataset(test_df, transform=test_transforms, to_train=False)\n",
        "test_loader = DataLoader(dataset_test, batch_size=32, shuffle=False)\n",
        "\n",
        "test_preds = []\n",
        "with torch.no_grad():\n",
        "    for images in tqdm(test_loader, desc=\"Predicting on Test Set\"):\n",
        "        images = images.to(device)\n",
        "        outputs = model(images).cpu().numpy()\n",
        "        test_preds.append(outputs)\n",
        "test_preds = np.concatenate(test_preds, axis=0)"
      ]
    },
    {
      "cell_type": "code",
      "execution_count": null,
      "metadata": {
        "colab": {
          "base_uri": "https://localhost:8080/"
        },
        "id": "cepD5bBiP2Fz",
        "outputId": "e833f539-2ec0-447f-e68d-1aea953c5e93"
      },
      "outputs": [
        {
          "name": "stdout",
          "output_type": "stream",
          "text": [
            "Sample submission saved!\n"
          ]
        }
      ],
      "source": [
        "# Create Sample Submission\n",
        "submission = pd.DataFrame()\n",
        "submission[\"ID\"] = np.repeat(test_df[\"ID\"].values, 2)\n",
        "submission[\"ID\"] = submission[\"ID\"] + np.tile([\"_boil\", \"_pan\"], len(test_df))\n",
        "submission[\"Target\"] = test_preds.flatten().clip(0,1000)\n",
        "\n",
        "# Save Submission\n",
        "submission.to_csv(\"SampleSubmission.csv\", index=False)\n",
        "print(\"Sample submission saved!\")"
      ]
    }
  ],
  "metadata": {
    "accelerator": "GPU",
    "colab": {
      "gpuType": "T4",
      "provenance": []
    },
    "kernelspec": {
      "display_name": "Python 3",
      "language": "python",
      "name": "python3"
    },
    "language_info": {
      "codemirror_mode": {
        "name": "ipython",
        "version": 3
      },
      "file_extension": ".py",
      "mimetype": "text/x-python",
      "name": "python",
      "nbconvert_exporter": "python",
      "pygments_lexer": "ipython3",
      "version": "3.12.9"
    },
    "widgets": {
      "application/vnd.jupyter.widget-state+json": {
        "0b074c585dd5460f892711429f1d78aa": {
          "model_module": "@jupyter-widgets/controls",
          "model_module_version": "1.5.0",
          "model_name": "DescriptionStyleModel",
          "state": {
            "_model_module": "@jupyter-widgets/controls",
            "_model_module_version": "1.5.0",
            "_model_name": "DescriptionStyleModel",
            "_view_count": null,
            "_view_module": "@jupyter-widgets/base",
            "_view_module_version": "1.2.0",
            "_view_name": "StyleView",
            "description_width": ""
          }
        },
        "3db63fd099ba4a2a8d3ffcaa147b6011": {
          "model_module": "@jupyter-widgets/controls",
          "model_module_version": "1.5.0",
          "model_name": "FloatProgressModel",
          "state": {
            "_dom_classes": [],
            "_model_module": "@jupyter-widgets/controls",
            "_model_module_version": "1.5.0",
            "_model_name": "FloatProgressModel",
            "_view_count": null,
            "_view_module": "@jupyter-widgets/controls",
            "_view_module_version": "1.5.0",
            "_view_name": "ProgressView",
            "bar_style": "success",
            "description": "",
            "description_tooltip": null,
            "layout": "IPY_MODEL_8f26197afbe3469cb2d27ea32f7257ee",
            "max": 31471874,
            "min": 0,
            "orientation": "horizontal",
            "style": "IPY_MODEL_d026f74db1264804b09f4b93da7bf720",
            "value": 31471874
          }
        },
        "5a5479ef19af4814b4a227ea44ffd90a": {
          "model_module": "@jupyter-widgets/controls",
          "model_module_version": "1.5.0",
          "model_name": "HTMLModel",
          "state": {
            "_dom_classes": [],
            "_model_module": "@jupyter-widgets/controls",
            "_model_module_version": "1.5.0",
            "_model_name": "HTMLModel",
            "_view_count": null,
            "_view_module": "@jupyter-widgets/controls",
            "_view_module_version": "1.5.0",
            "_view_name": "HTMLView",
            "description": "",
            "description_tooltip": null,
            "layout": "IPY_MODEL_e52204a5e84f419994c7017fc2b3bbf8",
            "placeholder": "​",
            "style": "IPY_MODEL_0b074c585dd5460f892711429f1d78aa",
            "value": " 31.5M/31.5M [00:00&lt;00:00, 56.8MB/s]"
          }
        },
        "5ca7b048742c49e986dd8e30727367a7": {
          "model_module": "@jupyter-widgets/controls",
          "model_module_version": "1.5.0",
          "model_name": "DescriptionStyleModel",
          "state": {
            "_model_module": "@jupyter-widgets/controls",
            "_model_module_version": "1.5.0",
            "_model_name": "DescriptionStyleModel",
            "_view_count": null,
            "_view_module": "@jupyter-widgets/base",
            "_view_module_version": "1.2.0",
            "_view_name": "StyleView",
            "description_width": ""
          }
        },
        "60f4949511b44ae499946129cee86819": {
          "model_module": "@jupyter-widgets/base",
          "model_module_version": "1.2.0",
          "model_name": "LayoutModel",
          "state": {
            "_model_module": "@jupyter-widgets/base",
            "_model_module_version": "1.2.0",
            "_model_name": "LayoutModel",
            "_view_count": null,
            "_view_module": "@jupyter-widgets/base",
            "_view_module_version": "1.2.0",
            "_view_name": "LayoutView",
            "align_content": null,
            "align_items": null,
            "align_self": null,
            "border": null,
            "bottom": null,
            "display": null,
            "flex": null,
            "flex_flow": null,
            "grid_area": null,
            "grid_auto_columns": null,
            "grid_auto_flow": null,
            "grid_auto_rows": null,
            "grid_column": null,
            "grid_gap": null,
            "grid_row": null,
            "grid_template_areas": null,
            "grid_template_columns": null,
            "grid_template_rows": null,
            "height": null,
            "justify_content": null,
            "justify_items": null,
            "left": null,
            "margin": null,
            "max_height": null,
            "max_width": null,
            "min_height": null,
            "min_width": null,
            "object_fit": null,
            "object_position": null,
            "order": null,
            "overflow": null,
            "overflow_x": null,
            "overflow_y": null,
            "padding": null,
            "right": null,
            "top": null,
            "visibility": null,
            "width": null
          }
        },
        "654c794449bd42378ad0ff1ba20a3842": {
          "model_module": "@jupyter-widgets/controls",
          "model_module_version": "1.5.0",
          "model_name": "HBoxModel",
          "state": {
            "_dom_classes": [],
            "_model_module": "@jupyter-widgets/controls",
            "_model_module_version": "1.5.0",
            "_model_name": "HBoxModel",
            "_view_count": null,
            "_view_module": "@jupyter-widgets/controls",
            "_view_module_version": "1.5.0",
            "_view_name": "HBoxView",
            "box_style": "",
            "children": [
              "IPY_MODEL_77ac0e5761554e789f001c1045129ea8",
              "IPY_MODEL_3db63fd099ba4a2a8d3ffcaa147b6011",
              "IPY_MODEL_5a5479ef19af4814b4a227ea44ffd90a"
            ],
            "layout": "IPY_MODEL_60f4949511b44ae499946129cee86819"
          }
        },
        "69079a20dea64e91885053bf2cc54a4c": {
          "model_module": "@jupyter-widgets/base",
          "model_module_version": "1.2.0",
          "model_name": "LayoutModel",
          "state": {
            "_model_module": "@jupyter-widgets/base",
            "_model_module_version": "1.2.0",
            "_model_name": "LayoutModel",
            "_view_count": null,
            "_view_module": "@jupyter-widgets/base",
            "_view_module_version": "1.2.0",
            "_view_name": "LayoutView",
            "align_content": null,
            "align_items": null,
            "align_self": null,
            "border": null,
            "bottom": null,
            "display": null,
            "flex": null,
            "flex_flow": null,
            "grid_area": null,
            "grid_auto_columns": null,
            "grid_auto_flow": null,
            "grid_auto_rows": null,
            "grid_column": null,
            "grid_gap": null,
            "grid_row": null,
            "grid_template_areas": null,
            "grid_template_columns": null,
            "grid_template_rows": null,
            "height": null,
            "justify_content": null,
            "justify_items": null,
            "left": null,
            "margin": null,
            "max_height": null,
            "max_width": null,
            "min_height": null,
            "min_width": null,
            "object_fit": null,
            "object_position": null,
            "order": null,
            "overflow": null,
            "overflow_x": null,
            "overflow_y": null,
            "padding": null,
            "right": null,
            "top": null,
            "visibility": null,
            "width": null
          }
        },
        "77ac0e5761554e789f001c1045129ea8": {
          "model_module": "@jupyter-widgets/controls",
          "model_module_version": "1.5.0",
          "model_name": "HTMLModel",
          "state": {
            "_dom_classes": [],
            "_model_module": "@jupyter-widgets/controls",
            "_model_module_version": "1.5.0",
            "_model_name": "HTMLModel",
            "_view_count": null,
            "_view_module": "@jupyter-widgets/controls",
            "_view_module_version": "1.5.0",
            "_view_name": "HTMLView",
            "description": "",
            "description_tooltip": null,
            "layout": "IPY_MODEL_69079a20dea64e91885053bf2cc54a4c",
            "placeholder": "​",
            "style": "IPY_MODEL_5ca7b048742c49e986dd8e30727367a7",
            "value": "model.safetensors: 100%"
          }
        },
        "8f26197afbe3469cb2d27ea32f7257ee": {
          "model_module": "@jupyter-widgets/base",
          "model_module_version": "1.2.0",
          "model_name": "LayoutModel",
          "state": {
            "_model_module": "@jupyter-widgets/base",
            "_model_module_version": "1.2.0",
            "_model_name": "LayoutModel",
            "_view_count": null,
            "_view_module": "@jupyter-widgets/base",
            "_view_module_version": "1.2.0",
            "_view_name": "LayoutView",
            "align_content": null,
            "align_items": null,
            "align_self": null,
            "border": null,
            "bottom": null,
            "display": null,
            "flex": null,
            "flex_flow": null,
            "grid_area": null,
            "grid_auto_columns": null,
            "grid_auto_flow": null,
            "grid_auto_rows": null,
            "grid_column": null,
            "grid_gap": null,
            "grid_row": null,
            "grid_template_areas": null,
            "grid_template_columns": null,
            "grid_template_rows": null,
            "height": null,
            "justify_content": null,
            "justify_items": null,
            "left": null,
            "margin": null,
            "max_height": null,
            "max_width": null,
            "min_height": null,
            "min_width": null,
            "object_fit": null,
            "object_position": null,
            "order": null,
            "overflow": null,
            "overflow_x": null,
            "overflow_y": null,
            "padding": null,
            "right": null,
            "top": null,
            "visibility": null,
            "width": null
          }
        },
        "d026f74db1264804b09f4b93da7bf720": {
          "model_module": "@jupyter-widgets/controls",
          "model_module_version": "1.5.0",
          "model_name": "ProgressStyleModel",
          "state": {
            "_model_module": "@jupyter-widgets/controls",
            "_model_module_version": "1.5.0",
            "_model_name": "ProgressStyleModel",
            "_view_count": null,
            "_view_module": "@jupyter-widgets/base",
            "_view_module_version": "1.2.0",
            "_view_name": "StyleView",
            "bar_color": null,
            "description_width": ""
          }
        },
        "e52204a5e84f419994c7017fc2b3bbf8": {
          "model_module": "@jupyter-widgets/base",
          "model_module_version": "1.2.0",
          "model_name": "LayoutModel",
          "state": {
            "_model_module": "@jupyter-widgets/base",
            "_model_module_version": "1.2.0",
            "_model_name": "LayoutModel",
            "_view_count": null,
            "_view_module": "@jupyter-widgets/base",
            "_view_module_version": "1.2.0",
            "_view_name": "LayoutView",
            "align_content": null,
            "align_items": null,
            "align_self": null,
            "border": null,
            "bottom": null,
            "display": null,
            "flex": null,
            "flex_flow": null,
            "grid_area": null,
            "grid_auto_columns": null,
            "grid_auto_flow": null,
            "grid_auto_rows": null,
            "grid_column": null,
            "grid_gap": null,
            "grid_row": null,
            "grid_template_areas": null,
            "grid_template_columns": null,
            "grid_template_rows": null,
            "height": null,
            "justify_content": null,
            "justify_items": null,
            "left": null,
            "margin": null,
            "max_height": null,
            "max_width": null,
            "min_height": null,
            "min_width": null,
            "object_fit": null,
            "object_position": null,
            "order": null,
            "overflow": null,
            "overflow_x": null,
            "overflow_y": null,
            "padding": null,
            "right": null,
            "top": null,
            "visibility": null,
            "width": null
          }
        }
      }
    }
  },
  "nbformat": 4,
  "nbformat_minor": 0
}
